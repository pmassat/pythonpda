{
 "cells": [
  {
   "cell_type": "code",
   "execution_count": 60,
   "id": "favorite-arlington",
   "metadata": {},
   "outputs": [],
   "source": [
    "import numpy as np\n",
    "from matplotlib import pyplot as plt, rc"
   ]
  },
  {
   "cell_type": "code",
   "execution_count": 23,
   "id": "united-external",
   "metadata": {},
   "outputs": [],
   "source": [
    "x1 = np.linspace(0.01,.89,89)\n",
    "x2 = np.logspace(-1,-16,100)\n",
    "x = np.concatenate([x1,1-x2])\n",
    "f = lambda x:x/np.arctanh(x)"
   ]
  },
  {
   "cell_type": "code",
   "execution_count": 68,
   "id": "downtown-pennsylvania",
   "metadata": {},
   "outputs": [],
   "source": [
    "font = {'family' : 'STIXGeneral',\n",
    "        'size'   : 14}\n",
    "\n",
    "rc('font', **font)"
   ]
  },
  {
   "cell_type": "code",
   "execution_count": 69,
   "id": "angry-medium",
   "metadata": {},
   "outputs": [
    {
     "name": "stdout",
     "output_type": "stream",
     "text": [
      "Using matplotlib backend: Qt5Agg\n"
     ]
    },
    {
     "data": {
      "text/plain": [
       "Text(0, 0.5, '$T/T_{c,0}$')"
      ]
     },
     "execution_count": 69,
     "metadata": {},
     "output_type": "execute_result"
    }
   ],
   "source": [
    "%matplotlib\n",
    "fig, ax = plt.subplots(figsize=(4,3))\n",
    "ax.plot(x, f(x))\n",
    "ax.set_xlim(left=0)\n",
    "ax.set_ylim(bottom=0)\n",
    "ax.set_xlabel(r'$H/H_{c,0}$')\n",
    "ax.set_ylabel(r'$T/T_{c,0}$')"
   ]
  },
  {
   "cell_type": "code",
   "execution_count": 70,
   "id": "external-ghana",
   "metadata": {},
   "outputs": [],
   "source": [
    "plt.savefig('TFIM_phase_bounday.png', transparent=True, bbox_inches='tight')"
   ]
  }
 ],
 "metadata": {
  "kernelspec": {
   "display_name": "Python 3",
   "language": "python",
   "name": "python3"
  },
  "language_info": {
   "codemirror_mode": {
    "name": "ipython",
    "version": 3
   },
   "file_extension": ".py",
   "mimetype": "text/x-python",
   "name": "python",
   "nbconvert_exporter": "python",
   "pygments_lexer": "ipython3",
   "version": "3.7.10"
  }
 },
 "nbformat": 4,
 "nbformat_minor": 5
}
