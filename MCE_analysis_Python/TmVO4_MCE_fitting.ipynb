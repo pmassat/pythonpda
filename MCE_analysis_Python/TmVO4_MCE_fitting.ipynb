{
 "cells": [
  {
   "cell_type": "markdown",
   "metadata": {},
   "source": [
    "# Fit MCE data taken on TmVO4 samples\n",
    "both in DR (plate-like sample) and in He3 (needles)"
   ]
  },
  {
   "cell_type": "code",
   "execution_count": 20,
   "metadata": {},
   "outputs": [],
   "source": [
    "# Standard Python libraries\n",
    "import os\n",
    "from datetime import date\n",
    "import sys\n",
    "\n",
    "# Data analysis libraries\n",
    "import numpy as np\n",
    "import pandas as pd\n",
    "from scipy.ndimage import gaussian_filter1d\n",
    "\n",
    "# Plotting libraries\n",
    "import matplotlib\n",
    "from matplotlib import cm, pyplot as plt, rcsetup, rc, rcParams\n",
    "# cm stands for colormap\n",
    "\n",
    "# Fitting libraries\n",
    "from lmfit import minimize, Model, Parameters, report_fit, fit_report\n",
    "from lmfit.models import LinearModel"
   ]
  },
  {
   "cell_type": "code",
   "execution_count": 8,
   "metadata": {},
   "outputs": [],
   "source": [
    "for key in ['run', 'I', 'H', 'R', 'T', 'Tpuck', 'dH', 'Hraw', 'Traw',\\\n",
    "            'Hsmoothed', 'Tsmoothed']:\n",
    "    if key not in locals():\n",
    "        exec(f'{key}={{}}')"
   ]
  },
  {
   "cell_type": "code",
   "execution_count": 3,
   "metadata": {},
   "outputs": [
    {
     "name": "stderr",
     "output_type": "stream",
     "text": [
      "C:\\ProgramData\\Anaconda3\\lib\\site-packages\\ipykernel_launcher.py:3: ParserWarning: Falling back to the 'python' engine because the 'c' engine does not support regex separators (separators > 1 char and different from '\\s+' are interpreted as regex); you can avoid this warning by specifying engine='python'.\n",
      "  This is separate from the ipykernel package so we can avoid doing imports until\n"
     ]
    },
    {
     "data": {
      "text/html": [
       "<div>\n",
       "<style scoped>\n",
       "    .dataframe tbody tr th:only-of-type {\n",
       "        vertical-align: middle;\n",
       "    }\n",
       "\n",
       "    .dataframe tbody tr th {\n",
       "        vertical-align: top;\n",
       "    }\n",
       "\n",
       "    .dataframe thead th {\n",
       "        text-align: right;\n",
       "    }\n",
       "</style>\n",
       "<table border=\"1\" class=\"dataframe\">\n",
       "  <thead>\n",
       "    <tr style=\"text-align: right;\">\n",
       "      <th></th>\n",
       "      <th>Time</th>\n",
       "      <th>Temperature(K)</th>\n",
       "      <th>Field(T)</th>\n",
       "      <th>LockinX(V)</th>\n",
       "      <th>LockinY(V)</th>\n",
       "      <th>Date = 7/29/2017 9:53 PM</th>\n",
       "    </tr>\n",
       "  </thead>\n",
       "  <tbody>\n",
       "    <tr>\n",
       "      <th>0</th>\n",
       "      <td>9:53 PM</td>\n",
       "      <td>0.4000</td>\n",
       "      <td>-2.041789e-07</td>\n",
       "      <td>0.002116</td>\n",
       "      <td>-0.000070</td>\n",
       "      <td>NaN</td>\n",
       "    </tr>\n",
       "    <tr>\n",
       "      <th>1</th>\n",
       "      <td>9:53 PM</td>\n",
       "      <td>0.4001</td>\n",
       "      <td>-2.041789e-07</td>\n",
       "      <td>0.002116</td>\n",
       "      <td>-0.000070</td>\n",
       "      <td>NaN</td>\n",
       "    </tr>\n",
       "    <tr>\n",
       "      <th>2</th>\n",
       "      <td>9:53 PM</td>\n",
       "      <td>0.4000</td>\n",
       "      <td>-2.041789e-07</td>\n",
       "      <td>0.002114</td>\n",
       "      <td>-0.000070</td>\n",
       "      <td>NaN</td>\n",
       "    </tr>\n",
       "    <tr>\n",
       "      <th>3</th>\n",
       "      <td>9:53 PM</td>\n",
       "      <td>0.4000</td>\n",
       "      <td>-2.041789e-07</td>\n",
       "      <td>0.002110</td>\n",
       "      <td>-0.000069</td>\n",
       "      <td>NaN</td>\n",
       "    </tr>\n",
       "    <tr>\n",
       "      <th>4</th>\n",
       "      <td>9:53 PM</td>\n",
       "      <td>0.3999</td>\n",
       "      <td>-2.041789e-07</td>\n",
       "      <td>0.002110</td>\n",
       "      <td>-0.000070</td>\n",
       "      <td>NaN</td>\n",
       "    </tr>\n",
       "    <tr>\n",
       "      <th>...</th>\n",
       "      <td>...</td>\n",
       "      <td>...</td>\n",
       "      <td>...</td>\n",
       "      <td>...</td>\n",
       "      <td>...</td>\n",
       "      <td>...</td>\n",
       "    </tr>\n",
       "    <tr>\n",
       "      <th>72122</th>\n",
       "      <td>5:55 PM</td>\n",
       "      <td>0.7004</td>\n",
       "      <td>0.000000e+00</td>\n",
       "      <td>0.001069</td>\n",
       "      <td>-0.000014</td>\n",
       "      <td>NaN</td>\n",
       "    </tr>\n",
       "    <tr>\n",
       "      <th>72123</th>\n",
       "      <td>5:55 PM</td>\n",
       "      <td>0.7003</td>\n",
       "      <td>0.000000e+00</td>\n",
       "      <td>0.001069</td>\n",
       "      <td>-0.000014</td>\n",
       "      <td>NaN</td>\n",
       "    </tr>\n",
       "    <tr>\n",
       "      <th>72124</th>\n",
       "      <td>5:55 PM</td>\n",
       "      <td>0.7001</td>\n",
       "      <td>0.000000e+00</td>\n",
       "      <td>0.001069</td>\n",
       "      <td>-0.000014</td>\n",
       "      <td>NaN</td>\n",
       "    </tr>\n",
       "    <tr>\n",
       "      <th>72125</th>\n",
       "      <td>5:56 PM</td>\n",
       "      <td>0.7003</td>\n",
       "      <td>0.000000e+00</td>\n",
       "      <td>0.001069</td>\n",
       "      <td>-0.000014</td>\n",
       "      <td>NaN</td>\n",
       "    </tr>\n",
       "    <tr>\n",
       "      <th>72126</th>\n",
       "      <td>5:56 PM</td>\n",
       "      <td>0.7003</td>\n",
       "      <td>0.000000e+00</td>\n",
       "      <td>0.001070</td>\n",
       "      <td>-0.000014</td>\n",
       "      <td>NaN</td>\n",
       "    </tr>\n",
       "  </tbody>\n",
       "</table>\n",
       "<p>72127 rows × 6 columns</p>\n",
       "</div>"
      ],
      "text/plain": [
       "          Time  Temperature(K)      Field(T)  LockinX(V)  LockinY(V)  \\\n",
       "0      9:53 PM          0.4000 -2.041789e-07    0.002116   -0.000070   \n",
       "1      9:53 PM          0.4001 -2.041789e-07    0.002116   -0.000070   \n",
       "2      9:53 PM          0.4000 -2.041789e-07    0.002114   -0.000070   \n",
       "3      9:53 PM          0.4000 -2.041789e-07    0.002110   -0.000069   \n",
       "4      9:53 PM          0.3999 -2.041789e-07    0.002110   -0.000070   \n",
       "...        ...             ...           ...         ...         ...   \n",
       "72122  5:55 PM          0.7004  0.000000e+00    0.001069   -0.000014   \n",
       "72123  5:55 PM          0.7003  0.000000e+00    0.001069   -0.000014   \n",
       "72124  5:55 PM          0.7001  0.000000e+00    0.001069   -0.000014   \n",
       "72125  5:56 PM          0.7003  0.000000e+00    0.001069   -0.000014   \n",
       "72126  5:56 PM          0.7003  0.000000e+00    0.001070   -0.000014   \n",
       "\n",
       "       Date = 7/29/2017 9:53 PM  \n",
       "0                           NaN  \n",
       "1                           NaN  \n",
       "2                           NaN  \n",
       "3                           NaN  \n",
       "4                           NaN  \n",
       "...                         ...  \n",
       "72122                       NaN  \n",
       "72123                       NaN  \n",
       "72124                       NaN  \n",
       "72125                       NaN  \n",
       "72126                       NaN  \n",
       "\n",
       "[72127 rows x 6 columns]"
      ]
     },
     "execution_count": 3,
     "metadata": {},
     "output_type": "execute_result"
    }
   ],
   "source": [
    "datFilePath = r'C:\\Users\\Pierre\\Desktop\\Postdoc\\TmVO4\\TmVO4_heat-capacity\\2017-07_TmVO4_Cp_MCE\\2017-07-28--31\\Massaic_MCE'\n",
    "os.chdir(datFilePath)\n",
    "run[2] = pd.read_csv('Run2_0p5uA.dat', sep=', ')\n",
    "I[2] = 5e-7# input current, in amps\n",
    "run[2]"
   ]
  },
  {
   "cell_type": "code",
   "execution_count": 4,
   "metadata": {},
   "outputs": [
    {
     "data": {
      "text/plain": [
       "Index(['Time', 'Temperature(K)', 'Field(T)', 'LockinX(V)', 'LockinY(V)',\n",
       "       'Date = 7/29/2017 9:53 PM'],\n",
       "      dtype='object')"
      ]
     },
     "execution_count": 4,
     "metadata": {},
     "output_type": "execute_result"
    }
   ],
   "source": [
    "run[2].columns"
   ]
  },
  {
   "cell_type": "markdown",
   "metadata": {},
   "source": [
    "### Compute platform resistance\n",
    "obtained from the voltage data $V_X$ of the X channel of the lock-in amplifier and the input electrical current $I$ as:\n",
    "$$ R_\\mathrm{platform} = V_X / I $$"
   ]
  },
  {
   "cell_type": "code",
   "execution_count": 5,
   "metadata": {},
   "outputs": [],
   "source": [
    "Hraw[2] = run[2]['Field(T)']*1e4 # Magnetic field, in Oersted\n",
    "Tpuck[2] = run[2]['Temperature(K)']# Puck (bath) temperature, in Kelvin\n",
    "R[2] = run[2]['LockinX(V)']/I[2]# Platform resistance, in Volts"
   ]
  },
  {
   "cell_type": "markdown",
   "metadata": {},
   "source": [
    "### Reproducing betamodel.mat\n",
    "Which is the surface fit used in Matlab to convert the platform resistance data of the lockin to inverse temperature data:\n",
    "$$ 1/T = \\mathrm{betamodel}(V_X) $$"
   ]
  },
  {
   "cell_type": "code",
   "execution_count": 6,
   "metadata": {},
   "outputs": [],
   "source": [
    "# The content of this cell was copy-pasted from the content of the \n",
    "# BetaModel sfit variable, as shown in Matlab after importing betamodel.mat\n",
    "\n",
    "# Coefficients (with 95% confidence bounds):\n",
    "p00 =     -0.2734#  (-0.2752, -0.2716)\n",
    "p10 =    9.78e-06#  (8.802e-06, 1.076e-05)\n",
    "p01 =      0.0011#  (0.001096, 0.001104)\n",
    "p20 =   -4.45e-09#  (-5.037e-09, -3.862e-09)\n",
    "p11 =  -1.322e-08#  (-1.427e-08, -1.216e-08)\n",
    "p02 =  -2.275e-07#  (-2.305e-07, -2.246e-07)\n",
    "p30 =   9.561e-13#  (7.765e-13, 1.136e-12)\n",
    "p21 =   3.565e-12#  (3.342e-12, 3.789e-12)\n",
    "p12 =   4.659e-12#  (4.225e-12, 5.092e-12)\n",
    "p03 =    3.37e-11#  (3.272e-11, 3.468e-11)\n",
    "p40 =  -8.502e-17#  (-1.093e-16, -6.072e-17)\n",
    "p31 =  -6.191e-16#  (-6.464e-16, -5.918e-16)\n",
    "p22 =   8.508e-17#  (4.041e-17, 1.298e-16)\n",
    "p13 =  -6.088e-16#  (-6.86e-16, -5.316e-16)\n",
    "p04 =  -2.724e-15#  (-2.872e-15, -2.577e-15)\n",
    "p50 =   2.293e-21#  (1.105e-21, 3.48e-21)\n",
    "p41 =   3.892e-20#  (3.749e-20, 4.034e-20)\n",
    "p32 =   -1.77e-20#  (-1.973e-20, -1.567e-20)\n",
    "p23 =   1.698e-21#  (-1.673e-21, 5.069e-21)\n",
    "p14 =   2.632e-20#  (2.116e-20, 3.148e-20)\n",
    "p05 =   8.741e-20#  (7.917e-20, 9.565e-20)\n",
    "\n",
    "# Linear model Poly55:\n",
    "def betamodel(x,y):\n",
    "    \"\"\"\n",
    "    x: array\n",
    "        Magnetic field data.\n",
    "    y: array\n",
    "        Platform resistance data.\n",
    "    \"\"\"\n",
    "    val = p00 + p10*x + p01*y + p20*x**2 + p11*x*y + p02*y**2 + p30*x**3 +\\\n",
    "    p21*x**2*y + p12*x*y**2 + p03*y**3 + p40*x**4 + p31*x**3*y \\\n",
    "    + p22*x**2*y**2 + p13*x*y**3 + p04*y**4 + p50*x**5 + p41*x**4*y \\\n",
    "    + p32*x**3*y**2 + p23*x**2*y**3 + p14*x*y**4 + p05*y**5\n",
    "    return val"
   ]
  },
  {
   "cell_type": "code",
   "execution_count": 10,
   "metadata": {},
   "outputs": [],
   "source": [
    "Traw[2] = 1/betamodel(Hraw[2],R[2])"
   ]
  },
  {
   "cell_type": "code",
   "execution_count": 11,
   "metadata": {},
   "outputs": [
    {
     "data": {
      "text/plain": [
       "[<matplotlib.lines.Line2D at 0x286882e9748>]"
      ]
     },
     "execution_count": 11,
     "metadata": {},
     "output_type": "execute_result"
    },
    {
     "data": {
      "image/png": "[encoded data removed]",
      "text/plain": [
       "<Figure size 432x288 with 1 Axes>"
      ]
     },
     "metadata": {
      "needs_background": "light"
     },
     "output_type": "display_data"
    }
   ],
   "source": [
    "# Raw MCE traces\n",
    "fig = plt.figure()\n",
    "plt.plot(Hraw[2], Traw[2])"
   ]
  },
  {
   "cell_type": "code",
   "execution_count": 12,
   "metadata": {},
   "outputs": [],
   "source": [
    "for tup in [(Hsmoothed, Hraw), (Tsmoothed, Traw)]:\n",
    "    tup[0][2] = gaussian_filter1d(tup[1][2], 10)"
   ]
  },
  {
   "cell_type": "code",
   "execution_count": 13,
   "metadata": {},
   "outputs": [
    {
     "data": {
      "text/plain": [
       "[<matplotlib.lines.Line2D at 0x286881f9388>]"
      ]
     },
     "execution_count": 13,
     "metadata": {},
     "output_type": "execute_result"
    },
    {
     "data": {
      "image/png": "[encoded data removed]",
      "text/plain": [
       "<Figure size 432x288 with 1 Axes>"
      ]
     },
     "metadata": {
      "needs_background": "light"
     },
     "output_type": "display_data"
    }
   ],
   "source": [
    "# Smoothed MCE traces\n",
    "fig = plt.figure()\n",
    "plt.plot(Hsmoothed[2], Tsmoothed[2])"
   ]
  },
  {
   "cell_type": "code",
   "execution_count": 14,
   "metadata": {},
   "outputs": [],
   "source": [
    "dH[2] = np.diff(Hraw[2])"
   ]
  },
  {
   "cell_type": "code",
   "execution_count": 15,
   "metadata": {},
   "outputs": [],
   "source": [
    "slow = 4#\n",
    "fast = 10#\n",
    "refsweep = np.mean([slow,fast])"
   ]
  },
  {
   "cell_type": "code",
   "execution_count": 16,
   "metadata": {},
   "outputs": [],
   "source": [
    "for x in [(H, Hsmoothed), (T, Tsmoothed)]:\n",
    "    for key in [2]:\n",
    "        if key not in x[0].keys():\n",
    "            x[0][key] = {}\n",
    "        Xsmoothed = np.mean([x[1][key][:-1], x[1][key][1:]],0)\n",
    "        x[0][key]['slow'] = Xsmoothed[dH[key]<refsweep]\n",
    "        x[0][key]['fast'] = Xsmoothed[dH[key]>refsweep]"
   ]
  },
  {
   "cell_type": "code",
   "execution_count": 19,
   "metadata": {},
   "outputs": [
    {
     "data": {
      "application/vnd.jupyter.widget-view+json": {
       "model_id": "e29398794d9d4ebb8ca8bc8408379b00",
       "version_major": 2,
       "version_minor": 0
      },
      "text/plain": [
       "Canvas(toolbar=Toolbar(toolitems=[('Home', 'Reset original view', 'home', 'home'), ('Back', 'Back to previous …"
      ]
     },
     "metadata": {},
     "output_type": "display_data"
    }
   ],
   "source": [
    "%matplotlib widget\n",
    "fig = plt.figure()\n",
    "for s in ['slow', 'fast']:\n",
    "    plt.plot(H[2][s], T[2][s], '.')"
   ]
  },
  {
   "cell_type": "code",
   "execution_count": 154,
   "metadata": {},
   "outputs": [],
   "source": [
    "sys.path.append(r'C:\\Users\\Pierre\\Desktop\\Postdoc\\Software\\Python\\Python_scripts')\n",
    "from MCE_simulations.mce_no_demag import mce_parameters, mce_residual"
   ]
  },
  {
   "cell_type": "code",
   "execution_count": null,
   "metadata": {},
   "outputs": [],
   "source": []
  }
 ],
 "metadata": {
  "kernelspec": {
   "display_name": "Python 3",
   "language": "python",
   "name": "python3"
  },
  "language_info": {
   "codemirror_mode": {
    "name": "ipython",
    "version": 3
   },
   "file_extension": ".py",
   "mimetype": "text/x-python",
   "name": "python",
   "nbconvert_exporter": "python",
   "pygments_lexer": "ipython3",
   "version": "3.7.9"
  }
 },
 "nbformat": 4,
 "nbformat_minor": 4
}
