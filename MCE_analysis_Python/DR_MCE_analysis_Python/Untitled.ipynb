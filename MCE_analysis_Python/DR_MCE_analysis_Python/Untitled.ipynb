{
 "cells": [
  {
   "cell_type": "code",
   "execution_count": 2,
   "metadata": {},
   "outputs": [],
   "source": [
    "import numpy as np\n",
    "import matplotlib.pyplot as plt"
   ]
  },
  {
   "cell_type": "code",
   "execution_count": 3,
   "metadata": {},
   "outputs": [
    {
     "name": "stdout",
     "output_type": "stream",
     "text": [
      "C:\\Users\\Pierre\\Desktop\\Postdoc\\TmVO4\\TmVO4_heat-capacity\\2018-08_TmVO4-LS5228\\2020-03_TmVO4-LS5228-DR-HC180731\n"
     ]
    }
   ],
   "source": [
    "cd \"C:\\Users\\Pierre\\Desktop\\Postdoc\\TmVO4\\TmVO4_heat-capacity\\2018-08_TmVO4-LS5228\\2020-03_TmVO4-LS5228-DR-HC180731\""
   ]
  },
  {
   "cell_type": "code",
   "execution_count": 4,
   "metadata": {},
   "outputs": [],
   "source": [
    "filenames = [\"2020-03-11_TmVO4-LS5228-DR-HC180731_MCE_upsweep.dat\",\"2020-03-11_TmVO4-LS5228-DR-HC180731_MCE_downsweep.dat\"]\n",
    "data = []\n",
    "for fidx, filename in enumerate(filenames):\n",
    "    data.append(np.genfromtxt(filename,\n",
    "                         skip_header=2,\n",
    "                         names=True,\n",
    "                         dtype=None,\n",
    "                         delimiter='\\t'))"
   ]
  },
  {
   "cell_type": "code",
   "execution_count": 5,
   "metadata": {},
   "outputs": [
    {
     "name": "stdout",
     "output_type": "stream",
     "text": [
      "[array([( 255.5 , 0.68649), ( 283.58, 0.68673), ( 309.52, 0.68713), ...,\n",
      "       (6886.2 , 1.7637 ), (6912.2 , 1.7633 ), (6938.2 , 1.763  )],\n",
      "      dtype=[('H_Oe', '<f8'), ('T_K', '<f8')]), array([(9845.1, 0.68144), (9821.1, 0.68143), (9795.1, 0.68161), ...,\n",
      "       (3278.2, 1.7031 ), (3252.3, 1.7036 ), (3228.1, 1.7042 )],\n",
      "      dtype=[('H_Oe', '<f8'), ('T_K', '<f8')])]\n"
     ]
    }
   ],
   "source": [
    "print(data)"
   ]
  },
  {
   "cell_type": "code",
   "execution_count": 6,
   "metadata": {},
   "outputs": [
    {
     "data": {
      "text/plain": [
       "array([ 255.5 ,  283.58,  309.52, ..., 6886.2 , 6912.2 , 6938.2 ])"
      ]
     },
     "execution_count": 6,
     "metadata": {},
     "output_type": "execute_result"
    }
   ],
   "source": [
    "data[0]['H_Oe']"
   ]
  },
  {
   "cell_type": "code",
   "execution_count": 35,
   "metadata": {},
   "outputs": [
    {
     "data": {
      "image/png": "[encoded data removed]",
      "text/plain": [
       "<Figure size 432x288 with 1 Axes>"
      ]
     },
     "metadata": {
      "needs_background": "light"
     },
     "output_type": "display_data"
    }
   ],
   "source": [
    "for i in [0,1]:\n",
    "    plt.plot(data[i]['H_Oe'],data[i]['T_K'],'.')\n",
    "# plt.xlim(3200,6500)\n",
    "# plt.ylim(1.0,1.8)\n",
    "plt.axis([3200, 6500, 1.0, 1.85])\n",
    "plt.xlabel('$H$ (Oe)')\n",
    "plt.ylabel('$T$ (K)')\n",
    "ax = plt.gca()\n",
    "ax.annotate('$H_c^{up}$', xy=(4000,1.725), xytext=(4000,1.4),\n",
    "            arrowprops=dict(linewidth=.5,facecolor='black',shrink=0.0), \n",
    "            horizontalalignment='center', verticalalignment='top'\n",
    "            )\n",
    "plt.show()"
   ]
  },
  {
   "cell_type": "code",
   "execution_count": 14,
   "metadata": {},
   "outputs": [
    {
     "data": {
      "text/plain": [
       "numpy.ndarray"
      ]
     },
     "execution_count": 14,
     "metadata": {},
     "output_type": "execute_result"
    }
   ],
   "source": [
    "type(data[0])"
   ]
  },
  {
   "cell_type": "code",
   "execution_count": null,
   "metadata": {},
   "outputs": [],
   "source": []
  }
 ],
 "metadata": {
  "kernelspec": {
   "display_name": "Python 3",
   "language": "python",
   "name": "python3"
  },
  "language_info": {
   "codemirror_mode": {
    "name": "ipython",
    "version": 3
   },
   "file_extension": ".py",
   "mimetype": "text/x-python",
   "name": "python",
   "nbconvert_exporter": "python",
   "pygments_lexer": "ipython3",
   "version": "3.7.6"
  }
 },
 "nbformat": 4,
 "nbformat_minor": 4
}
