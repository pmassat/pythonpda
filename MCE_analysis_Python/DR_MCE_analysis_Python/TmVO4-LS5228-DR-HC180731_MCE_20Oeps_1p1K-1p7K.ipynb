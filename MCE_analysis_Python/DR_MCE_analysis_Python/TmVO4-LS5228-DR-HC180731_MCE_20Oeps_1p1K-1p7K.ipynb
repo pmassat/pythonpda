{
 "cells": [
  {
   "cell_type": "code",
   "execution_count": 312,
   "metadata": {},
   "outputs": [],
   "source": [
    "import numpy as np\n",
    "import matplotlib as mpl\n",
    "import matplotlib.pyplot as plt\n",
    "import pandas as pd\n",
    "from matplotlib import rc\n",
    "# rc('font',**{'family':'sans-serif','sans-serif':['Helvetica'],'size':20})\n",
    "## for Palatino and other serif fonts use:\n",
    "rc('font',**{'family':'serif','serif':['Palatino'],'size':14})\n",
    "rc('text', usetex=True)"
   ]
  },
  {
   "cell_type": "code",
   "execution_count": 3,
   "metadata": {},
   "outputs": [
    {
     "name": "stdout",
     "output_type": "stream",
     "text": [
      "C:\\Users\\Pierre\\Desktop\\Postdoc\\TmVO4\\TmVO4_heat-capacity\\2018-08_TmVO4-LS5228\\2020-03_TmVO4-LS5228-DR-HC180731\n"
     ]
    }
   ],
   "source": [
    "cd \"C:\\Users\\Pierre\\Desktop\\Postdoc\\TmVO4\\TmVO4_heat-capacity\\2018-08_TmVO4-LS5228\\2020-03_TmVO4-LS5228-DR-HC180731\""
   ]
  },
  {
   "cell_type": "code",
   "execution_count": 180,
   "metadata": {},
   "outputs": [],
   "source": [
    "filenames = [\"2020-03-11_TmVO4-LS5228-DR-HC180731_MCE_upsweep.dat\",\"2020-03-11_TmVO4-LS5228-DR-HC180731_MCE_downsweep.dat\"]\n",
    "data = []\n",
    "for fidx, filename in enumerate(filenames):\n",
    "#     data.append(np.genfromtxt(filename, skip_header=2, names=True, dtype=None, delimiter='\\t'))\n",
    "    data.append(pd.read_csv(filename,header=0,skiprows=2,delimiter='\\t'))"
   ]
  },
  {
   "cell_type": "code",
   "execution_count": 192,
   "metadata": {},
   "outputs": [
    {
     "data": {
      "text/html": [
       "<div>\n",
       "<style scoped>\n",
       "    .dataframe tbody tr th:only-of-type {\n",
       "        vertical-align: middle;\n",
       "    }\n",
       "\n",
       "    .dataframe tbody tr th {\n",
       "        vertical-align: top;\n",
       "    }\n",
       "\n",
       "    .dataframe thead th {\n",
       "        text-align: right;\n",
       "    }\n",
       "</style>\n",
       "<table border=\"1\" class=\"dataframe\">\n",
       "  <thead>\n",
       "    <tr style=\"text-align: right;\">\n",
       "      <th></th>\n",
       "      <th>H (Oe)</th>\n",
       "      <th>T (K)</th>\n",
       "    </tr>\n",
       "  </thead>\n",
       "  <tbody>\n",
       "    <tr>\n",
       "      <th>0</th>\n",
       "      <td>255.50</td>\n",
       "      <td>0.68649</td>\n",
       "    </tr>\n",
       "    <tr>\n",
       "      <th>1</th>\n",
       "      <td>283.58</td>\n",
       "      <td>0.68673</td>\n",
       "    </tr>\n",
       "    <tr>\n",
       "      <th>2</th>\n",
       "      <td>309.52</td>\n",
       "      <td>0.68713</td>\n",
       "    </tr>\n",
       "    <tr>\n",
       "      <th>3</th>\n",
       "      <td>335.49</td>\n",
       "      <td>0.68741</td>\n",
       "    </tr>\n",
       "    <tr>\n",
       "      <th>4</th>\n",
       "      <td>361.60</td>\n",
       "      <td>0.68766</td>\n",
       "    </tr>\n",
       "  </tbody>\n",
       "</table>\n",
       "</div>"
      ],
      "text/plain": [
       "   H (Oe)    T (K)\n",
       "0  255.50  0.68649\n",
       "1  283.58  0.68673\n",
       "2  309.52  0.68713\n",
       "3  335.49  0.68741\n",
       "4  361.60  0.68766"
      ]
     },
     "execution_count": 192,
     "metadata": {},
     "output_type": "execute_result"
    }
   ],
   "source": [
    "data\n",
    "data[0].head()"
   ]
  },
  {
   "cell_type": "code",
   "execution_count": 194,
   "metadata": {},
   "outputs": [
    {
     "data": {
      "text/plain": [
       "0        255.50\n",
       "1        283.58\n",
       "2        309.52\n",
       "3        335.49\n",
       "4        361.60\n",
       "         ...   \n",
       "3544    6834.20\n",
       "3545    6862.20\n",
       "3546    6886.20\n",
       "3547    6912.20\n",
       "3548    6938.20\n",
       "Name: H (Oe), Length: 3549, dtype: float64"
      ]
     },
     "execution_count": 194,
     "metadata": {},
     "output_type": "execute_result"
    }
   ],
   "source": [
    "# data[0]['H_Oe']# when importing data using np.genfromtxt\n",
    "data[0]['H (Oe)']# when importing data using pandas"
   ]
  },
  {
   "cell_type": "code",
   "execution_count": 195,
   "metadata": {},
   "outputs": [
    {
     "name": "stderr",
     "output_type": "stream",
     "text": [
      "C:\\ProgramData\\Anaconda3\\lib\\site-packages\\ipykernel_launcher.py:3: ParserWarning: Falling back to the 'python' engine because the 'c' engine does not support skipfooter; you can avoid this warning by specifying engine='python'.\n",
      "  This is separate from the ipykernel package so we can avoid doing imports until\n"
     ]
    },
    {
     "data": {
      "text/html": [
       "<div>\n",
       "<style scoped>\n",
       "    .dataframe tbody tr th:only-of-type {\n",
       "        vertical-align: middle;\n",
       "    }\n",
       "\n",
       "    .dataframe tbody tr th {\n",
       "        vertical-align: top;\n",
       "    }\n",
       "\n",
       "    .dataframe thead th {\n",
       "        text-align: right;\n",
       "    }\n",
       "</style>\n",
       "<table border=\"1\" class=\"dataframe\">\n",
       "  <thead>\n",
       "    <tr style=\"text-align: right;\">\n",
       "      <th></th>\n",
       "      <th>T</th>\n",
       "      <th>maxus</th>\n",
       "      <th>Hcus_Oe</th>\n",
       "      <th>maxds</th>\n",
       "      <th>Hcds_Oe</th>\n",
       "    </tr>\n",
       "  </thead>\n",
       "  <tbody>\n",
       "    <tr>\n",
       "      <th>0</th>\n",
       "      <td>0.2</td>\n",
       "      <td>0.084935</td>\n",
       "      <td>6275.313965</td>\n",
       "      <td>0.114950</td>\n",
       "      <td>4998.095215</td>\n",
       "    </tr>\n",
       "    <tr>\n",
       "      <th>1</th>\n",
       "      <td>0.3</td>\n",
       "      <td>0.040303</td>\n",
       "      <td>6487.311035</td>\n",
       "      <td>0.042617</td>\n",
       "      <td>6222.476074</td>\n",
       "    </tr>\n",
       "    <tr>\n",
       "      <th>2</th>\n",
       "      <td>0.4</td>\n",
       "      <td>0.018915</td>\n",
       "      <td>6181.561523</td>\n",
       "      <td>0.033444</td>\n",
       "      <td>4998.489746</td>\n",
       "    </tr>\n",
       "    <tr>\n",
       "      <th>3</th>\n",
       "      <td>0.5</td>\n",
       "      <td>0.021613</td>\n",
       "      <td>5247.636230</td>\n",
       "      <td>0.013799</td>\n",
       "      <td>4094.660645</td>\n",
       "    </tr>\n",
       "    <tr>\n",
       "      <th>4</th>\n",
       "      <td>0.6</td>\n",
       "      <td>0.015862</td>\n",
       "      <td>5251.362793</td>\n",
       "      <td>0.011928</td>\n",
       "      <td>5350.751953</td>\n",
       "    </tr>\n",
       "    <tr>\n",
       "      <th>5</th>\n",
       "      <td>0.7</td>\n",
       "      <td>0.028247</td>\n",
       "      <td>5287.526367</td>\n",
       "      <td>0.023788</td>\n",
       "      <td>5356.692871</td>\n",
       "    </tr>\n",
       "    <tr>\n",
       "      <th>6</th>\n",
       "      <td>0.8</td>\n",
       "      <td>0.032500</td>\n",
       "      <td>5227.582031</td>\n",
       "      <td>0.029776</td>\n",
       "      <td>5304.387695</td>\n",
       "    </tr>\n",
       "    <tr>\n",
       "      <th>7</th>\n",
       "      <td>1.1</td>\n",
       "      <td>0.047690</td>\n",
       "      <td>5068.226074</td>\n",
       "      <td>0.033298</td>\n",
       "      <td>5193.626465</td>\n",
       "    </tr>\n",
       "    <tr>\n",
       "      <th>8</th>\n",
       "      <td>1.3</td>\n",
       "      <td>0.048954</td>\n",
       "      <td>4895.081543</td>\n",
       "      <td>0.027329</td>\n",
       "      <td>4945.820312</td>\n",
       "    </tr>\n",
       "    <tr>\n",
       "      <th>9</th>\n",
       "      <td>1.5</td>\n",
       "      <td>0.042775</td>\n",
       "      <td>4529.222168</td>\n",
       "      <td>0.026807</td>\n",
       "      <td>4667.906250</td>\n",
       "    </tr>\n",
       "    <tr>\n",
       "      <th>10</th>\n",
       "      <td>1.7</td>\n",
       "      <td>0.044634</td>\n",
       "      <td>4033.601318</td>\n",
       "      <td>0.020038</td>\n",
       "      <td>4220.229980</td>\n",
       "    </tr>\n",
       "  </tbody>\n",
       "</table>\n",
       "</div>"
      ],
      "text/plain": [
       "      T     maxus      Hcus_Oe     maxds      Hcds_Oe\n",
       "0   0.2  0.084935  6275.313965  0.114950  4998.095215\n",
       "1   0.3  0.040303  6487.311035  0.042617  6222.476074\n",
       "2   0.4  0.018915  6181.561523  0.033444  4998.489746\n",
       "3   0.5  0.021613  5247.636230  0.013799  4094.660645\n",
       "4   0.6  0.015862  5251.362793  0.011928  5350.751953\n",
       "5   0.7  0.028247  5287.526367  0.023788  5356.692871\n",
       "6   0.8  0.032500  5227.582031  0.029776  5304.387695\n",
       "7   1.1  0.047690  5068.226074  0.033298  5193.626465\n",
       "8   1.3  0.048954  4895.081543  0.027329  4945.820312\n",
       "9   1.5  0.042775  4529.222168  0.026807  4667.906250\n",
       "10  1.7  0.044634  4033.601318  0.020038  4220.229980"
      ]
     },
     "execution_count": 195,
     "metadata": {},
     "output_type": "execute_result"
    }
   ],
   "source": [
    "fmaxd2mce = \"2020-03-12_TmVO4-LS5228-DR-HC180731_MCE_maxd2mce.dat\"\n",
    "# maxd2mce = np.genfromtxt(fmaxd2mce, skip_footer=2, names=True, delimiter='\\t')\n",
    "maxd2mce = pd.read_csv(fmaxd2mce, skipfooter=2, header=0, delimiter='\\t')\n",
    "maxd2mce"
   ]
  },
  {
   "cell_type": "code",
   "execution_count": 277,
   "metadata": {},
   "outputs": [
    {
     "data": {
      "text/html": [
       "<div>\n",
       "<style scoped>\n",
       "    .dataframe tbody tr th:only-of-type {\n",
       "        vertical-align: middle;\n",
       "    }\n",
       "\n",
       "    .dataframe tbody tr th {\n",
       "        vertical-align: top;\n",
       "    }\n",
       "\n",
       "    .dataframe thead th {\n",
       "        text-align: right;\n",
       "    }\n",
       "</style>\n",
       "<table border=\"1\" class=\"dataframe\">\n",
       "  <thead>\n",
       "    <tr style=\"text-align: right;\">\n",
       "      <th></th>\n",
       "      <th>T</th>\n",
       "      <th>maxus</th>\n",
       "      <th>Hcus_Oe</th>\n",
       "      <th>maxds</th>\n",
       "      <th>Hcds_Oe</th>\n",
       "    </tr>\n",
       "  </thead>\n",
       "  <tbody>\n",
       "    <tr>\n",
       "      <th>0</th>\n",
       "      <td>1.1</td>\n",
       "      <td>0.047690</td>\n",
       "      <td>5068.226074</td>\n",
       "      <td>0.033298</td>\n",
       "      <td>5193.626465</td>\n",
       "    </tr>\n",
       "    <tr>\n",
       "      <th>1</th>\n",
       "      <td>1.3</td>\n",
       "      <td>0.048954</td>\n",
       "      <td>4895.081543</td>\n",
       "      <td>0.027329</td>\n",
       "      <td>4945.820312</td>\n",
       "    </tr>\n",
       "    <tr>\n",
       "      <th>2</th>\n",
       "      <td>1.5</td>\n",
       "      <td>0.042775</td>\n",
       "      <td>4529.222168</td>\n",
       "      <td>0.026807</td>\n",
       "      <td>4667.906250</td>\n",
       "    </tr>\n",
       "    <tr>\n",
       "      <th>3</th>\n",
       "      <td>1.7</td>\n",
       "      <td>0.044634</td>\n",
       "      <td>4033.601318</td>\n",
       "      <td>0.020038</td>\n",
       "      <td>4220.229980</td>\n",
       "    </tr>\n",
       "  </tbody>\n",
       "</table>\n",
       "</div>"
      ],
      "text/plain": [
       "     T     maxus      Hcus_Oe     maxds      Hcds_Oe\n",
       "0  1.1  0.047690  5068.226074  0.033298  5193.626465\n",
       "1  1.3  0.048954  4895.081543  0.027329  4945.820312\n",
       "2  1.5  0.042775  4529.222168  0.026807  4667.906250\n",
       "3  1.7  0.044634  4033.601318  0.020038  4220.229980"
      ]
     },
     "execution_count": 277,
     "metadata": {},
     "output_type": "execute_result"
    }
   ],
   "source": [
    "highTmaxd2mce = maxd2mce[maxd2mce['T']>1.0]\n",
    "highTmaxd2mce.reset_index(drop=True,inplace=True)\n",
    "# np.shape(highTmaxd2mce)\n",
    "# type(highTmaxd2mce)\n",
    "highTmaxd2mce"
   ]
  },
  {
   "cell_type": "code",
   "execution_count": 278,
   "metadata": {},
   "outputs": [
    {
     "name": "stdout",
     "output_type": "stream",
     "text": [
      "0 5068.22607421875\n",
      "1 4895.08154296875\n",
      "2 4529.22216796875\n",
      "3 4033.60131835938\n"
     ]
    }
   ],
   "source": [
    "sweeptypes = ['us', 'ds']# list both types of field sweeps (upsweep 'us' and downsweep 'ds') to access them in the following\n",
    "Hcstr = []\n",
    "Hclabel = []\n",
    "for isr, sweeptype in enumerate(sweeptypes):\n",
    "    Hcstr.append('Hc' + sweeptype + '_Oe')\n",
    "    Hclabel.append('$H' + '_c^{' + sweeptype + '}')\n",
    "Hclabel\n",
    "for idx, row in highTmaxd2mce.iterrows():\n",
    "    print(idx,row['Hcus_Oe'])"
   ]
  },
  {
   "cell_type": "code",
   "execution_count": 279,
   "metadata": {},
   "outputs": [],
   "source": [
    "mcepb = [[],[]]# MCE phase boundary lists, one for upsweeps and one for downsweeps, each containing pairs of (Hc,Tc) values\n",
    "# data[0][np.logical_and(np.around(data[0]['H_Oe'],1)==np.around(highTmaxd2mce['Hcus_Oe'][0],1),\n",
    "#                        np.around(data[0]['T_K'],1)==np.around(highTmaxd2mce['T'][0],1)\n",
    "#                       )# np.logical_and required to compute the truth value of two boolean arrats element-wise\n",
    "#        ]\n",
    "for isr in range(len(data)):# loop over sweeprate\n",
    "    for idx, row in highTmaxd2mce.iterrows():\n",
    "        mcepb[isr].append(data[isr][np.logical_and(np.around(data[isr]['H (Oe)'],1)==np.around(row[Hcstr[isr]],1),\n",
    "                                               np.around(data[isr]['T (K)'],1)==np.around(row['T'],1)\n",
    "                                                  )# np.logical_and required to compute the truth value of two boolean arrats element-wise\n",
    "                                   ]\n",
    "                         )# \n",
    "#     Tc = data[data[0]['H_Oe']==highTmaxd2mce['Hcus_Oe'][idx]]# & data[0]['T_K']==T\n",
    "#     print(T,highTmaxd2mce['Hcus_Oe'][idx],highTmaxd2mce['Hcds_Oe'][idx])"
   ]
  },
  {
   "cell_type": "code",
   "execution_count": 280,
   "metadata": {},
   "outputs": [
    {
     "data": {
      "text/plain": [
       "[      H (Oe)   T (K)\n",
       " 3048  5068.2  1.1036,\n",
       "       H (Oe)   T (K)\n",
       " 3185  4895.1  1.3095,\n",
       "       H (Oe)   T (K)\n",
       " 3313  4529.2  1.5139,\n",
       "       H (Oe)   T (K)\n",
       " 3436  4033.6  1.7171]"
      ]
     },
     "execution_count": 280,
     "metadata": {},
     "output_type": "execute_result"
    }
   ],
   "source": [
    "mcepb[0]\n",
    "# mcepb[0][0].values[0]+(0,0.1)\n",
    "# type(mcepb[0][0])"
   ]
  },
  {
   "cell_type": "code",
   "execution_count": 330,
   "metadata": {
    "scrolled": true
   },
   "outputs": [],
   "source": [
    "%matplotlib qt\n",
    "# plot figure in external window\n",
    "plt.figure(figsize=(5,5))\n",
    "sign = ['+', '-']\n",
    "for i in [0,1]:\n",
    "    plt.plot(data[i]['H (Oe)'],data[i]['T (K)'],'.',label=f'{sign[i]}20 Oe/s')\n",
    "# plt.xlim(3200,6800)\n",
    "# plt.ylim(1.0,1.8)\n",
    "plt.axis([3200, 6800, 1.0, 1.8])\n",
    "plt.xticks(np.arange(3500,7000, step=1000))  # Set label locations.\n",
    "plt.yticks(np.arange(1.0,1.9, step=0.2))  # Set label locations.\n",
    "plt.xlabel('$H$ (Oe)',**{'fontsize':20})\n",
    "plt.ylabel('$T$ (K)',**{'fontsize':20})\n",
    "ax = plt.gca()\n",
    "ax.tick_params(direction='in')\n",
    "arrowcolor = ['blue','orange']\n",
    "for isr in range(len(data)):# loop over sweeprate\n",
    "    for idx, row in highTmaxd2mce.iterrows():\n",
    "        arrow = ax.annotate('', xy=mcepb[isr][idx].values[0]+(0,0.01),\n",
    "                            xytext=mcepb[isr][idx].values[0]+(0,0.1),\n",
    "                            arrowprops=dict(linewidth=.5,facecolor=arrowcolor[isr],edgecolor='none')\n",
    "                           )\n",
    "ax.legend(handletextpad=0)\n",
    "# plt.show()\n",
    "plt.tight_layout(pad=0.2)\n",
    "plt.savefig('2020-03-12_TmVO4-LS5228-DR-HC180731_MCE_20Oeps_1p1K-1p7K.pdf')"
   ]
  }
 ],
 "metadata": {
  "kernelspec": {
   "display_name": "Python 3",
   "language": "python",
   "name": "python3"
  },
  "language_info": {
   "codemirror_mode": {
    "name": "ipython",
    "version": 3
   },
   "file_extension": ".py",
   "mimetype": "text/x-python",
   "name": "python",
   "nbconvert_exporter": "python",
   "pygments_lexer": "ipython3",
   "version": "3.7.6"
  }
 },
 "nbformat": 4,
 "nbformat_minor": 4
}
