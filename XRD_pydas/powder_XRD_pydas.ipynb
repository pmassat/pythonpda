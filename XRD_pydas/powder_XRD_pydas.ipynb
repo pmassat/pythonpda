{
 "cells": [
  {
   "cell_type": "markdown",
   "id": "contrary-police",
   "metadata": {},
   "source": [
    "# Data analysis of powder XRD data"
   ]
  },
  {
   "cell_type": "code",
   "execution_count": 1,
   "id": "capital-truth",
   "metadata": {},
   "outputs": [],
   "source": [
    "import glob\n",
    "import os\n",
    "import re\n",
    "\n",
    "import numpy as np\n",
    "import pandas as pd\n",
    "import scipy.signal as sps\n",
    "\n",
    "from matplotlib import pyplot as plt"
   ]
  },
  {
   "cell_type": "code",
   "execution_count": 2,
   "id": "quiet-lingerie",
   "metadata": {},
   "outputs": [],
   "source": [
    "os.chdir(r'C:\\Users\\Pierre\\Desktop\\Postdoc\\YTmVO4\\YTmVO4_neutrons\\2021_ORNL_powder_ND')"
   ]
  },
  {
   "cell_type": "markdown",
   "id": "prepared-fleet",
   "metadata": {},
   "source": [
    "## Reference spectra taken from the ICDD"
   ]
  },
  {
   "cell_type": "code",
   "execution_count": 3,
   "id": "limiting-variable",
   "metadata": {},
   "outputs": [],
   "source": [
    "ref_files = glob.glob('**/*_ICSD_*.xy', recursive=True)"
   ]
  },
  {
   "cell_type": "code",
   "execution_count": 23,
   "id": "daily-appeal",
   "metadata": {},
   "outputs": [
    {
     "data": {
      "text/html": [
       "<div>\n",
       "<style scoped>\n",
       "    .dataframe tbody tr th:only-of-type {\n",
       "        vertical-align: middle;\n",
       "    }\n",
       "\n",
       "    .dataframe tbody tr th {\n",
       "        vertical-align: top;\n",
       "    }\n",
       "\n",
       "    .dataframe thead th {\n",
       "        text-align: right;\n",
       "    }\n",
       "</style>\n",
       "<table border=\"1\" class=\"dataframe\">\n",
       "  <thead>\n",
       "    <tr style=\"text-align: right;\">\n",
       "      <th></th>\n",
       "      <th>2theta</th>\n",
       "      <th>I</th>\n",
       "      <th>std?</th>\n",
       "    </tr>\n",
       "  </thead>\n",
       "  <tbody>\n",
       "    <tr>\n",
       "      <th>0</th>\n",
       "      <td>1.01</td>\n",
       "      <td>0.10870</td>\n",
       "      <td>0.0</td>\n",
       "    </tr>\n",
       "    <tr>\n",
       "      <th>1</th>\n",
       "      <td>1.02</td>\n",
       "      <td>0.10665</td>\n",
       "      <td>0.0</td>\n",
       "    </tr>\n",
       "    <tr>\n",
       "      <th>2</th>\n",
       "      <td>1.03</td>\n",
       "      <td>0.10465</td>\n",
       "      <td>0.0</td>\n",
       "    </tr>\n",
       "    <tr>\n",
       "      <th>3</th>\n",
       "      <td>1.04</td>\n",
       "      <td>0.10271</td>\n",
       "      <td>0.0</td>\n",
       "    </tr>\n",
       "    <tr>\n",
       "      <th>4</th>\n",
       "      <td>1.05</td>\n",
       "      <td>0.10083</td>\n",
       "      <td>0.0</td>\n",
       "    </tr>\n",
       "    <tr>\n",
       "      <th>...</th>\n",
       "      <td>...</td>\n",
       "      <td>...</td>\n",
       "      <td>...</td>\n",
       "    </tr>\n",
       "    <tr>\n",
       "      <th>11894</th>\n",
       "      <td>119.95</td>\n",
       "      <td>0.22601</td>\n",
       "      <td>0.0</td>\n",
       "    </tr>\n",
       "    <tr>\n",
       "      <th>11895</th>\n",
       "      <td>119.96</td>\n",
       "      <td>0.22209</td>\n",
       "      <td>0.0</td>\n",
       "    </tr>\n",
       "    <tr>\n",
       "      <th>11896</th>\n",
       "      <td>119.97</td>\n",
       "      <td>0.21937</td>\n",
       "      <td>0.0</td>\n",
       "    </tr>\n",
       "    <tr>\n",
       "      <th>11897</th>\n",
       "      <td>119.98</td>\n",
       "      <td>0.21810</td>\n",
       "      <td>0.0</td>\n",
       "    </tr>\n",
       "    <tr>\n",
       "      <th>11898</th>\n",
       "      <td>119.99</td>\n",
       "      <td>0.21840</td>\n",
       "      <td>0.0</td>\n",
       "    </tr>\n",
       "  </tbody>\n",
       "</table>\n",
       "<p>11899 rows × 3 columns</p>\n",
       "</div>"
      ],
      "text/plain": [
       "       2theta        I  std?\n",
       "0        1.01  0.10870   0.0\n",
       "1        1.02  0.10665   0.0\n",
       "2        1.03  0.10465   0.0\n",
       "3        1.04  0.10271   0.0\n",
       "4        1.05  0.10083   0.0\n",
       "...       ...      ...   ...\n",
       "11894  119.95  0.22601   0.0\n",
       "11895  119.96  0.22209   0.0\n",
       "11896  119.97  0.21937   0.0\n",
       "11897  119.98  0.21810   0.0\n",
       "11898  119.99  0.21840   0.0\n",
       "\n",
       "[11899 rows x 3 columns]"
      ]
     },
     "execution_count": 23,
     "metadata": {},
     "output_type": "execute_result"
    }
   ],
   "source": [
    "dref = {}\n",
    "for file in ref_files:\n",
    "    fm = re.match('\\d{4}-\\d{2}-\\d{2}\\w+\\\\\\\\([^\\W_]+)_*', file)\n",
    "    compound = fm.group(1)\n",
    "    with open(file, 'r'):\n",
    "        dref[compound] = pd.read_csv(file, sep='\\s+', header=0, names=['2theta', 'I', 'std?'])\n",
    "        \n",
    "dref[compound]"
   ]
  },
  {
   "cell_type": "code",
   "execution_count": 5,
   "id": "painted-ultimate",
   "metadata": {},
   "outputs": [],
   "source": [
    "xlabel = r'2$\\theta$ (°)'\n",
    "ylabel = 'I (a.u.)'"
   ]
  },
  {
   "cell_type": "code",
   "execution_count": 29,
   "id": "played-solid",
   "metadata": {},
   "outputs": [],
   "source": [
    "# %matplotlib\n",
    "fig = plt.figure()\n",
    "for cpd in dref.keys():\n",
    "    plt.plot(dref[cpd]['2theta'], dref[cpd]['I'], label=cpd)\n",
    "    plt.xlim([0,75])\n",
    "    plt.xlabel(xlabel)\n",
    "    plt.ylabel(ylabel)\n",
    "    plt.title('XRD pattern of TmVO4 and YVO4 as reported in the ICSD database')\n",
    "    plt.legend()"
   ]
  },
  {
   "cell_type": "markdown",
   "id": "consistent-telescope",
   "metadata": {},
   "source": [
    "## Experimental powder XRD data"
   ]
  },
  {
   "cell_type": "code",
   "execution_count": 7,
   "id": "opening-kennedy",
   "metadata": {},
   "outputs": [],
   "source": [
    "xp_files = glob.glob('**/*-background.ASC', recursive=True)"
   ]
  },
  {
   "cell_type": "code",
   "execution_count": 14,
   "id": "important-wilderness",
   "metadata": {},
   "outputs": [
    {
     "data": {
      "text/html": [
       "<div>\n",
       "<style scoped>\n",
       "    .dataframe tbody tr th:only-of-type {\n",
       "        vertical-align: middle;\n",
       "    }\n",
       "\n",
       "    .dataframe tbody tr th {\n",
       "        vertical-align: top;\n",
       "    }\n",
       "\n",
       "    .dataframe thead th {\n",
       "        text-align: right;\n",
       "    }\n",
       "</style>\n",
       "<table border=\"1\" class=\"dataframe\">\n",
       "  <thead>\n",
       "    <tr style=\"text-align: right;\">\n",
       "      <th></th>\n",
       "      <th>2theta</th>\n",
       "      <th>I0</th>\n",
       "      <th>Estimated Std</th>\n",
       "    </tr>\n",
       "  </thead>\n",
       "  <tbody>\n",
       "    <tr>\n",
       "      <th>0</th>\n",
       "      <td>15.021162</td>\n",
       "      <td>-13.682541</td>\n",
       "      <td>27.718510</td>\n",
       "    </tr>\n",
       "    <tr>\n",
       "      <th>1</th>\n",
       "      <td>15.035162</td>\n",
       "      <td>6.051848</td>\n",
       "      <td>28.072201</td>\n",
       "    </tr>\n",
       "    <tr>\n",
       "      <th>2</th>\n",
       "      <td>15.049162</td>\n",
       "      <td>7.002535</td>\n",
       "      <td>28.089099</td>\n",
       "    </tr>\n",
       "    <tr>\n",
       "      <th>3</th>\n",
       "      <td>15.063162</td>\n",
       "      <td>13.370152</td>\n",
       "      <td>28.202188</td>\n",
       "    </tr>\n",
       "    <tr>\n",
       "      <th>4</th>\n",
       "      <td>15.077162</td>\n",
       "      <td>51.255014</td>\n",
       "      <td>28.866011</td>\n",
       "    </tr>\n",
       "    <tr>\n",
       "      <th>...</th>\n",
       "      <td>...</td>\n",
       "      <td>...</td>\n",
       "      <td>...</td>\n",
       "    </tr>\n",
       "    <tr>\n",
       "      <th>4279</th>\n",
       "      <td>74.927162</td>\n",
       "      <td>11.493725</td>\n",
       "      <td>23.865214</td>\n",
       "    </tr>\n",
       "    <tr>\n",
       "      <th>4280</th>\n",
       "      <td>74.941162</td>\n",
       "      <td>-0.987545</td>\n",
       "      <td>23.781568</td>\n",
       "    </tr>\n",
       "    <tr>\n",
       "      <th>4281</th>\n",
       "      <td>74.955162</td>\n",
       "      <td>2.412970</td>\n",
       "      <td>24.030383</td>\n",
       "    </tr>\n",
       "    <tr>\n",
       "      <th>4282</th>\n",
       "      <td>74.969162</td>\n",
       "      <td>7.257812</td>\n",
       "      <td>24.306377</td>\n",
       "    </tr>\n",
       "    <tr>\n",
       "      <th>4283</th>\n",
       "      <td>74.983162</td>\n",
       "      <td>4.247904</td>\n",
       "      <td>24.244382</td>\n",
       "    </tr>\n",
       "  </tbody>\n",
       "</table>\n",
       "<p>4284 rows × 3 columns</p>\n",
       "</div>"
      ],
      "text/plain": [
       "         2theta         I0  Estimated Std\n",
       "0     15.021162 -13.682541      27.718510\n",
       "1     15.035162   6.051848      28.072201\n",
       "2     15.049162   7.002535      28.089099\n",
       "3     15.063162  13.370152      28.202188\n",
       "4     15.077162  51.255014      28.866011\n",
       "...         ...        ...            ...\n",
       "4279  74.927162  11.493725      23.865214\n",
       "4280  74.941162  -0.987545      23.781568\n",
       "4281  74.955162   2.412970      24.030383\n",
       "4282  74.969162   7.257812      24.306377\n",
       "4283  74.983162   4.247904      24.244382\n",
       "\n",
       "[4284 rows x 3 columns]"
      ]
     },
     "execution_count": 14,
     "metadata": {},
     "output_type": "execute_result"
    }
   ],
   "source": [
    "compounds = {}\n",
    "dxp = {}\n",
    "for file in xp_files:\n",
    "    fm = re.match('\\d{4}-\\d{2}-\\d{2}\\w+\\\\\\\\(\\d{4}-\\d{2}-\\d{2})_([^\\W_]+)-([^\\W_]+)\\w+-\\w+.ASC', file)\n",
    "    date = fm.group(1)\n",
    "    batch = fm.group(3)\n",
    "    compounds[batch] = fm.group(2)\n",
    "    with open(file, 'r'):\n",
    "        dxp[batch,date] = pd.read_csv(file, sep=' ', header=0, names=['2theta', 'I0', 'Estimated Std'])\n",
    "\n",
    "dxp[batch,date]"
   ]
  },
  {
   "cell_type": "code",
   "execution_count": 9,
   "id": "informal-intent",
   "metadata": {},
   "outputs": [],
   "source": [
    "batches = ['LS5695', 'LS5701', 'LS5696', 'LS5697']"
   ]
  },
  {
   "cell_type": "code",
   "execution_count": 15,
   "id": "seasonal-mitchell",
   "metadata": {},
   "outputs": [
    {
     "name": "stdout",
     "output_type": "stream",
     "text": [
      "1 315.1011523919672 310.24887172674687\n",
      "2 310.24887172674687 309.9170183031991\n",
      "1 309.18051098084044 303.62188803157835\n",
      "2 303.62188803157835 303.0619490611636\n",
      "1 313.865644417357 304.34229103662386\n",
      "2 304.34229103662386 303.17062259656973\n",
      "1 312.3195552760272 307.2008893883647\n",
      "2 307.2008893883647 306.7936270683599\n",
      "1 13.816051295977827 1.8230688728870728\n",
      "2 1.8230688728870728 -6.475294086073686\n",
      "3 -6.475294086073686 -15.44917951099048\n",
      "1 15.999686442274745 3.3611809720295986\n",
      "2 3.3611809720295986 -4.286340254717107\n",
      "3 -4.286340254717107 -12.381660456214075\n"
     ]
    }
   ],
   "source": [
    "for key in dxp.keys():\n",
    "    I = dxp[key]['I0']\n",
    "    Iref = np.mean(I)\n",
    "    mult = 1.3\n",
    "    Im = np.mean(I[I<Iref*mult])\n",
    "    ii = 0\n",
    "    while abs(Iref-Im)/Iref>0.01:\n",
    "        Iref = Im\n",
    "        Im = np.mean(I[I<Iref*mult])\n",
    "        ii = ii+1\n",
    "        if ii>100:\n",
    "            break\n",
    "        print(ii, Iref, Im)\n",
    "\n",
    "    dxp[key]['I'] = dxp[key]['I0']-Im\n",
    "    dxp[key]"
   ]
  },
  {
   "cell_type": "markdown",
   "id": "plastic-union",
   "metadata": {},
   "source": [
    "## Compare measured and reported XRD patterns for pure TmVO4"
   ]
  },
  {
   "cell_type": "code",
   "execution_count": 36,
   "id": "mediterranean-ghost",
   "metadata": {},
   "outputs": [
    {
     "data": {
      "text/plain": [
       "<matplotlib.legend.Legend at 0x1c4c7950548>"
      ]
     },
     "execution_count": 36,
     "metadata": {},
     "output_type": "execute_result"
    }
   ],
   "source": [
    "# Full spectra\n",
    "ref = 'TmVO4'\n",
    "Tm_key = ('LS5695', '2021-03-12')\n",
    "fig = plt.figure()\n",
    "plt.plot(dref[ref]['2theta'], dref[ref]['I'], label='ICSD')\n",
    "plt.plot(dxp[Tm_key]['2theta'], dxp[Tm_key]['I']*1e-2, label=Tm_key[0])\n",
    "plt.xlim([18,40])\n",
    "plt.xlabel(xlabel)\n",
    "plt.ylabel(ylabel)\n",
    "plt.title('XRD pattern of TmVO4-LS5695 vs pattern calculated from .cif file')\n",
    "plt.legend()"
   ]
  },
  {
   "cell_type": "code",
   "execution_count": 196,
   "id": "honest-advertising",
   "metadata": {},
   "outputs": [],
   "source": [
    "plt.savefig('./2021-03-12_YTmVO4_analysis/2021-03-12_TmVO4_full_spectrum.pdf')"
   ]
  },
  {
   "cell_type": "markdown",
   "id": "forbidden-reproduction",
   "metadata": {},
   "source": [
    "### Focus on three most intense peaks"
   ]
  },
  {
   "cell_type": "code",
   "execution_count": 37,
   "id": "prerequisite-partner",
   "metadata": {},
   "outputs": [],
   "source": [
    "# Parameters for zoom on peaks\n",
    "refs = list(dref.keys())\n",
    "xlim = {'ax1':[18.7,19.1], 'ax2':[24.5,25.75], 'ax3':[33.25,34.25]}"
   ]
  },
  {
   "cell_type": "code",
   "execution_count": 44,
   "id": "paperback-jesus",
   "metadata": {},
   "outputs": [
    {
     "data": {
      "text/plain": [
       "<matplotlib.legend.Legend at 0x1c4cb3de108>"
      ]
     },
     "execution_count": 44,
     "metadata": {},
     "output_type": "execute_result"
    }
   ],
   "source": [
    "fig, (ax1, ax2, ax3) = plt.subplots(1, 3, sharey=True)\n",
    "# fig.subplots_adjust(hspace=0.025)  # adjust space between axes\n",
    "\n",
    "for sax in ['ax1', 'ax2', 'ax3']:\n",
    "    ax = eval(sax)\n",
    "    xref = dref[refs[0]]['2theta']\n",
    "    Iref = dref[refs[0]]['I']\n",
    "    ax.plot(xref, Iref/np.max(Iref[np.logical_and(xref>xlim[sax][0], xref<xlim[sax][1])]), \n",
    "            label=f'{refs[0]} (calc.)')\n",
    "\n",
    "    for batch in batches[:1]:\n",
    "        xxp = dxp[Tm_key]['2theta']\n",
    "        Ixp = dxp[Tm_key]['I']\n",
    "        ax.plot(xxp, Ixp/np.max(Ixp[np.logical_and(xxp>xlim[sax][0], xxp<xlim[sax][1])]), \n",
    "                label=Tm_key[0])\n",
    "        \n",
    "    ax.set_xlabel(xlabel)\n",
    "    ax.set_xlim(xlim[sax])\n",
    "    ax.set_ylim([0,1.1])\n",
    "# ax2.set_xlim(xlim2)\n",
    "# ax3.set_xlim(xlim3)\n",
    "ax1.set_ylabel(ylabel)\n",
    "ax2.set_title('XRD patterns of Y-substituted TmVO4 vs calculated patterns of TmVO4 and YVO4')\n",
    "plt.legend()"
   ]
  },
  {
   "cell_type": "code",
   "execution_count": 197,
   "id": "enhanced-installation",
   "metadata": {},
   "outputs": [],
   "source": [
    "plt.savefig('./2021-03-12_YTmVO4_analysis/2021-03-12_TmVO4_zoom.pdf', bbox_inches='tight')"
   ]
  },
  {
   "cell_type": "markdown",
   "id": "pleasant-feeling",
   "metadata": {},
   "source": [
    "## Compare measured XRD patterns of Y-substituted TmVO4 vs calculated patterns of TmVO4 and YVO4"
   ]
  },
  {
   "cell_type": "code",
   "execution_count": 75,
   "id": "promising-compound",
   "metadata": {},
   "outputs": [
    {
     "data": {
      "text/plain": [
       "<matplotlib.legend.Legend at 0x1c4ccf291c8>"
      ]
     },
     "execution_count": 75,
     "metadata": {},
     "output_type": "execute_result"
    }
   ],
   "source": [
    "measured = [(batch,date) for (batch,date) in dxpk if '2021-03-24' in date]\n",
    "\n",
    "fig = plt.figure()\n",
    "plt.plot(dref[refs[0]]['2theta'], dref[refs[0]]['I'], label=f'{refs[0]} (ICSD)')\n",
    "for key in measured:\n",
    "    plt.plot(dxp[key]['2theta'], dxp[key]['I']*1e2/max(dxp[key]['I']), label=compounds[key[0]])\n",
    "plt.plot(dref[refs[1]]['2theta'], dref[refs[1]]['I'], label=f'{refs[1]} (ICSD)')\n",
    "plt.xlim([15,75])\n",
    "plt.xlabel(xlabel)\n",
    "plt.ylabel(ylabel)\n",
    "plt.title('XRD patterns of sintered Y-TmVO4 along with reported patterns of TmVO4 and YVO4')\n",
    "plt.legend()"
   ]
  },
  {
   "cell_type": "code",
   "execution_count": 76,
   "id": "accepted-lunch",
   "metadata": {},
   "outputs": [],
   "source": [
    "plt.savefig('./2021-03-30_YTmVO4_analysis/2021-03-30_YTmVO4.pdf', bbox_inches='tight')"
   ]
  },
  {
   "cell_type": "code",
   "execution_count": 71,
   "id": "severe-nickname",
   "metadata": {},
   "outputs": [
    {
     "data": {
      "text/plain": [
       "<matplotlib.legend.Legend at 0x1c4ccc43e48>"
      ]
     },
     "execution_count": 71,
     "metadata": {},
     "output_type": "execute_result"
    }
   ],
   "source": [
    "fig, (ax1, ax2, ax3) = plt.subplots(1, 3, sharey=True)\n",
    "# fig.subplots_adjust(hspace=0.025)  # adjust space between axes\n",
    "\n",
    "xlim = {'ax1':[18.7,19.1], 'ax2':[24.8,25.4], 'ax3':[33.4,34.]}\n",
    "\n",
    "for sax in ['ax1', 'ax2', 'ax3']:\n",
    "    ax = eval(sax)\n",
    "    xref = dref[refs[0]]['2theta']\n",
    "    Iref = dref[refs[0]]['I']\n",
    "    ax.plot(xref, Iref/np.max(Iref[np.logical_and(xref>xlim[sax][0], xref<xlim[sax][1])]), \n",
    "            label=f'{refs[0]} (ICSD)')\n",
    "\n",
    "    for key in measured[::-1]:\n",
    "        xxp = dxp[key]['2theta']\n",
    "        Ixp = dxp[key]['I']\n",
    "        ax.plot(xxp, Ixp/np.max(Ixp[np.logical_and(xxp>xlim[sax][0], xxp<xlim[sax][1])]), \n",
    "                label=compounds[key[0]])\n",
    "        \n",
    "    xref = dref[refs[1]]['2theta']\n",
    "    Iref = dref[refs[1]]['I']\n",
    "    ax.plot(xref, Iref/np.max(Iref[np.logical_and(xref>xlim[sax][0], xref<xlim[sax][1])]), \n",
    "            label=f'{refs[1]} (ICSD)')\n",
    "\n",
    "    ax.set_xlabel(xlabel)\n",
    "    ax.set_xlim(xlim[sax])\n",
    "    ax.set_ylim([0,1.1])\n",
    "# ax2.set_xlim(xlim2)\n",
    "# ax3.set_xlim(xlim3)\n",
    "ax1.set_ylabel(ylabel)\n",
    "ax2.set_title('XRD patterns of Y-substituted TmVO4 vs reported patterns of TmVO4 and YVO4')\n",
    "plt.legend()"
   ]
  },
  {
   "cell_type": "code",
   "execution_count": 73,
   "id": "minus-fighter",
   "metadata": {},
   "outputs": [],
   "source": [
    "plt.savefig('./2021-03-30_YTmVO4_analysis/2021-03-30_YTmVO4_zoom.pdf', bbox_inches='tight')"
   ]
  },
  {
   "cell_type": "markdown",
   "id": "linear-worship",
   "metadata": {},
   "source": [
    "## Compare XRD patterns before and after sintering"
   ]
  },
  {
   "cell_type": "code",
   "execution_count": 84,
   "id": "adapted-inflation",
   "metadata": {},
   "outputs": [],
   "source": [
    "batches = ['LS5696','LS5697']\n",
    "fig = {}\n",
    "\n",
    "for idx, batch in enumerate(batches[:]):\n",
    "    fig[idx], (ax1, ax2, ax3) = plt.subplots(1, 3, sharey=True)\n",
    "\n",
    "    xlim = {'ax1':[18.6,19.2], 'ax2':[24.8,25.5], 'ax3':[33.4,34.1]}\n",
    "\n",
    "    for sax in ['ax1', 'ax2', 'ax3']:\n",
    "        ax = eval(sax)\n",
    "\n",
    "        for date in ['2021-03-12','2021-03-24']:\n",
    "            spectrum = (batch,date)\n",
    "            xxp = dxp[spectrum]['2theta']\n",
    "            Ixp = dxp[spectrum]['I']\n",
    "            ax.plot(xxp, Ixp/np.max(Ixp[np.logical_and(xxp>xlim[sax][0], xxp<xlim[sax][1])]), \n",
    "                    label=f'{compounds[batch]},{date}')\n",
    "\n",
    "        ax.set_xlabel(xlabel)\n",
    "        ax.set_xlim(xlim[sax])\n",
    "        ax.set_ylim([0,1.1])\n",
    "\n",
    "    ax1.set_ylabel(ylabel)\n",
    "    ax2.set_title('XRD patterns of Y-substituted TmVO4 before and after sintering')\n",
    "    plt.legend()"
   ]
  },
  {
   "cell_type": "code",
   "execution_count": 86,
   "id": "turkish-retreat",
   "metadata": {},
   "outputs": [],
   "source": [
    "plt.savefig('./2021-03-30_YTmVO4_analysis/2021-03-30_15-YTmVO4_sintering.pdf', bbox_inches='tight')\n",
    "# plt.figure(fig[0].number)\n",
    "# plt.savefig('./2021-03-30_YTmVO4_analysis/2021-03-30_15-YTmVO4_sintering.pdf', bbox_inches='tight')"
   ]
  }
 ],
 "metadata": {
  "kernelspec": {
   "display_name": "Python 3",
   "language": "python",
   "name": "python3"
  },
  "language_info": {
   "codemirror_mode": {
    "name": "ipython",
    "version": 3
   },
   "file_extension": ".py",
   "mimetype": "text/x-python",
   "name": "python",
   "nbconvert_exporter": "python",
   "pygments_lexer": "ipython3",
   "version": "3.7.10"
  }
 },
 "nbformat": 4,
 "nbformat_minor": 5
}
