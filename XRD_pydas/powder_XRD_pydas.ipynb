{
 "cells": [
  {
   "cell_type": "markdown",
   "id": "rolled-constant",
   "metadata": {},
   "source": [
    "# Data analysis of powder XRD data"
   ]
  },
  {
   "cell_type": "code",
   "execution_count": 2,
   "id": "decent-football",
   "metadata": {},
   "outputs": [],
   "source": [
    "# Import relevant libraries\n",
    "from datetime import date\n",
    "import glob\n",
    "import os\n",
    "import re\n",
    "\n",
    "import numpy as np\n",
    "import pandas as pd\n",
    "import scipy.signal as sps\n",
    "\n",
    "from matplotlib import pyplot as plt"
   ]
  },
  {
   "cell_type": "code",
   "execution_count": 3,
   "id": "grand-romance",
   "metadata": {},
   "outputs": [],
   "source": [
    "# Create string containing today's date, in yyyy-mm-dd format\n",
    "todaystr = str(date.today())"
   ]
  },
  {
   "cell_type": "code",
   "execution_count": 4,
   "id": "bound-mills",
   "metadata": {},
   "outputs": [],
   "source": [
    "# Change to directory containing folders with data\n",
    "os.chdir(r'C:\\Users\\Pierre\\Desktop\\Postdoc\\YTmVO4\\YTmVO4_neutrons\\2021_ORNL_powder_ND')"
   ]
  },
  {
   "cell_type": "markdown",
   "id": "adaptive-course",
   "metadata": {},
   "source": [
    "## Reference spectra taken from the ICDD"
   ]
  },
  {
   "cell_type": "code",
   "execution_count": 5,
   "id": "defined-replica",
   "metadata": {},
   "outputs": [],
   "source": [
    "# Files containing ICSD reference XRD spectra follow a name pattern containing '_ICSD' and with the extension '.xy',\n",
    "# and are located in subfolder of the working directory, hence the '**/' in the name pattern\n",
    "# glob.glob creates a list of filenames matching the input pattern\n",
    "ref_files = glob.glob('**/*_ICSD_*.xy', recursive=True)"
   ]
  },
  {
   "cell_type": "code",
   "execution_count": 6,
   "id": "inclusive-olympus",
   "metadata": {},
   "outputs": [
    {
     "data": {
      "text/html": [
       "<div>\n",
       "<style scoped>\n",
       "    .dataframe tbody tr th:only-of-type {\n",
       "        vertical-align: middle;\n",
       "    }\n",
       "\n",
       "    .dataframe tbody tr th {\n",
       "        vertical-align: top;\n",
       "    }\n",
       "\n",
       "    .dataframe thead th {\n",
       "        text-align: right;\n",
       "    }\n",
       "</style>\n",
       "<table border=\"1\" class=\"dataframe\">\n",
       "  <thead>\n",
       "    <tr style=\"text-align: right;\">\n",
       "      <th></th>\n",
       "      <th>2theta</th>\n",
       "      <th>I</th>\n",
       "      <th>std?</th>\n",
       "    </tr>\n",
       "  </thead>\n",
       "  <tbody>\n",
       "    <tr>\n",
       "      <th>0</th>\n",
       "      <td>1.01</td>\n",
       "      <td>0.10870</td>\n",
       "      <td>0.0</td>\n",
       "    </tr>\n",
       "    <tr>\n",
       "      <th>1</th>\n",
       "      <td>1.02</td>\n",
       "      <td>0.10665</td>\n",
       "      <td>0.0</td>\n",
       "    </tr>\n",
       "    <tr>\n",
       "      <th>2</th>\n",
       "      <td>1.03</td>\n",
       "      <td>0.10465</td>\n",
       "      <td>0.0</td>\n",
       "    </tr>\n",
       "    <tr>\n",
       "      <th>3</th>\n",
       "      <td>1.04</td>\n",
       "      <td>0.10271</td>\n",
       "      <td>0.0</td>\n",
       "    </tr>\n",
       "    <tr>\n",
       "      <th>4</th>\n",
       "      <td>1.05</td>\n",
       "      <td>0.10083</td>\n",
       "      <td>0.0</td>\n",
       "    </tr>\n",
       "    <tr>\n",
       "      <th>...</th>\n",
       "      <td>...</td>\n",
       "      <td>...</td>\n",
       "      <td>...</td>\n",
       "    </tr>\n",
       "    <tr>\n",
       "      <th>11894</th>\n",
       "      <td>119.95</td>\n",
       "      <td>0.22601</td>\n",
       "      <td>0.0</td>\n",
       "    </tr>\n",
       "    <tr>\n",
       "      <th>11895</th>\n",
       "      <td>119.96</td>\n",
       "      <td>0.22209</td>\n",
       "      <td>0.0</td>\n",
       "    </tr>\n",
       "    <tr>\n",
       "      <th>11896</th>\n",
       "      <td>119.97</td>\n",
       "      <td>0.21937</td>\n",
       "      <td>0.0</td>\n",
       "    </tr>\n",
       "    <tr>\n",
       "      <th>11897</th>\n",
       "      <td>119.98</td>\n",
       "      <td>0.21810</td>\n",
       "      <td>0.0</td>\n",
       "    </tr>\n",
       "    <tr>\n",
       "      <th>11898</th>\n",
       "      <td>119.99</td>\n",
       "      <td>0.21840</td>\n",
       "      <td>0.0</td>\n",
       "    </tr>\n",
       "  </tbody>\n",
       "</table>\n",
       "<p>11899 rows × 3 columns</p>\n",
       "</div>"
      ],
      "text/plain": [
       "       2theta        I  std?\n",
       "0        1.01  0.10870   0.0\n",
       "1        1.02  0.10665   0.0\n",
       "2        1.03  0.10465   0.0\n",
       "3        1.04  0.10271   0.0\n",
       "4        1.05  0.10083   0.0\n",
       "...       ...      ...   ...\n",
       "11894  119.95  0.22601   0.0\n",
       "11895  119.96  0.22209   0.0\n",
       "11896  119.97  0.21937   0.0\n",
       "11897  119.98  0.21810   0.0\n",
       "11898  119.99  0.21840   0.0\n",
       "\n",
       "[11899 rows x 3 columns]"
      ]
     },
     "execution_count": 6,
     "metadata": {},
     "output_type": "execute_result"
    }
   ],
   "source": [
    "# Scan through the list created by the above glob.glob() command and:\n",
    "# 1. Extract the compound name from the filename\n",
    "# 2. Import the data from each file into a Pandas DataFrame using the Pandas command read_csv(), \n",
    "#    and store the DataFrame into a dictionary called 'dref'\n",
    "dref = {}\n",
    "for file in ref_files:\n",
    "    # The following regular expression pattern includes files with filenames formatted as:\n",
    "    # 1. any sequence of alphanumeric characters other than '_'\n",
    "    # 2. followed by any sequence of characters\n",
    "    # 3. contained in subfolders of the current working directory, with names formatted as: \n",
    "    #    a. date format of the form yyyy-mm-dd, \n",
    "    #    b. followed by any sequence of alphanumeric characters\n",
    "    fm = re.match('\\d{4}-\\d{2}-\\d{2}\\w+\\\\\\\\([^\\W_]+)_*', file)\n",
    "    compound = fm.group(1)\n",
    "    with open(file, 'r'):\n",
    "        dref[compound] = pd.read_csv(file, sep='\\s+', header=0, names=['2theta', 'I', 'std?'])\n",
    "        \n",
    "dref[compound]"
   ]
  },
  {
   "cell_type": "code",
   "execution_count": 7,
   "id": "european-election",
   "metadata": {},
   "outputs": [],
   "source": [
    "xlabel = r'2$\\theta$ (°)'\n",
    "ylabel = 'I (a.u.)'"
   ]
  },
  {
   "cell_type": "code",
   "execution_count": 27,
   "id": "spare-affairs",
   "metadata": {},
   "outputs": [
    {
     "name": "stdout",
     "output_type": "stream",
     "text": [
      "Using matplotlib backend: Qt5Agg\n"
     ]
    }
   ],
   "source": [
    "# Plot reference spectra\n",
    "# Uncomment %matplotlib to reset graphs and plot in external window (or whichever the default plotting environment is)\n",
    "%matplotlib\n",
    "fig = plt.figure()\n",
    "for cpd in dref.keys():\n",
    "    plt.plot(dref[cpd]['2theta'], dref[cpd]['I'], label=cpd)\n",
    "    plt.xlim([0,75])\n",
    "    plt.xlabel(xlabel)\n",
    "    plt.ylabel(ylabel)\n",
    "    plt.title('XRD pattern of TmVO4 and YVO4 as reported in the ICSD database')\n",
    "    plt.legend()"
   ]
  },
  {
   "cell_type": "markdown",
   "id": "daily-formula",
   "metadata": {},
   "source": [
    "## Experimental powder XRD data"
   ]
  },
  {
   "cell_type": "code",
   "execution_count": 9,
   "id": "improved-committee",
   "metadata": {},
   "outputs": [],
   "source": [
    "# Create list of datafiles contained in subfolders and matching the pattern given in argument\n",
    "xp_files = glob.glob('**/*-background.ASC', recursive=True)"
   ]
  },
  {
   "cell_type": "code",
   "execution_count": 10,
   "id": "controversial-control",
   "metadata": {},
   "outputs": [
    {
     "data": {
      "text/html": [
       "<div>\n",
       "<style scoped>\n",
       "    .dataframe tbody tr th:only-of-type {\n",
       "        vertical-align: middle;\n",
       "    }\n",
       "\n",
       "    .dataframe tbody tr th {\n",
       "        vertical-align: top;\n",
       "    }\n",
       "\n",
       "    .dataframe thead th {\n",
       "        text-align: right;\n",
       "    }\n",
       "</style>\n",
       "<table border=\"1\" class=\"dataframe\">\n",
       "  <thead>\n",
       "    <tr style=\"text-align: right;\">\n",
       "      <th></th>\n",
       "      <th>2theta</th>\n",
       "      <th>I0</th>\n",
       "      <th>Estimated Std</th>\n",
       "    </tr>\n",
       "  </thead>\n",
       "  <tbody>\n",
       "    <tr>\n",
       "      <th>0</th>\n",
       "      <td>15.021162</td>\n",
       "      <td>-20.060276</td>\n",
       "      <td>29.614357</td>\n",
       "    </tr>\n",
       "    <tr>\n",
       "      <th>1</th>\n",
       "      <td>15.035162</td>\n",
       "      <td>-10.522699</td>\n",
       "      <td>29.759336</td>\n",
       "    </tr>\n",
       "    <tr>\n",
       "      <th>2</th>\n",
       "      <td>15.049162</td>\n",
       "      <td>9.037492</td>\n",
       "      <td>30.070728</td>\n",
       "    </tr>\n",
       "    <tr>\n",
       "      <th>3</th>\n",
       "      <td>15.063162</td>\n",
       "      <td>-6.422026</td>\n",
       "      <td>29.796972</td>\n",
       "    </tr>\n",
       "    <tr>\n",
       "      <th>4</th>\n",
       "      <td>15.077162</td>\n",
       "      <td>6.514793</td>\n",
       "      <td>29.997779</td>\n",
       "    </tr>\n",
       "    <tr>\n",
       "      <th>...</th>\n",
       "      <td>...</td>\n",
       "      <td>...</td>\n",
       "      <td>...</td>\n",
       "    </tr>\n",
       "    <tr>\n",
       "      <th>4279</th>\n",
       "      <td>74.927162</td>\n",
       "      <td>103.837523</td>\n",
       "      <td>22.245806</td>\n",
       "    </tr>\n",
       "    <tr>\n",
       "      <th>4280</th>\n",
       "      <td>74.941162</td>\n",
       "      <td>72.763747</td>\n",
       "      <td>21.607136</td>\n",
       "    </tr>\n",
       "    <tr>\n",
       "      <th>4281</th>\n",
       "      <td>74.955162</td>\n",
       "      <td>62.831359</td>\n",
       "      <td>21.447662</td>\n",
       "    </tr>\n",
       "    <tr>\n",
       "      <th>4282</th>\n",
       "      <td>74.969162</td>\n",
       "      <td>19.106866</td>\n",
       "      <td>20.477889</td>\n",
       "    </tr>\n",
       "    <tr>\n",
       "      <th>4283</th>\n",
       "      <td>74.983162</td>\n",
       "      <td>1.533121</td>\n",
       "      <td>20.044206</td>\n",
       "    </tr>\n",
       "  </tbody>\n",
       "</table>\n",
       "<p>4284 rows × 3 columns</p>\n",
       "</div>"
      ],
      "text/plain": [
       "         2theta          I0  Estimated Std\n",
       "0     15.021162  -20.060276      29.614357\n",
       "1     15.035162  -10.522699      29.759336\n",
       "2     15.049162    9.037492      30.070728\n",
       "3     15.063162   -6.422026      29.796972\n",
       "4     15.077162    6.514793      29.997779\n",
       "...         ...         ...            ...\n",
       "4279  74.927162  103.837523      22.245806\n",
       "4280  74.941162   72.763747      21.607136\n",
       "4281  74.955162   62.831359      21.447662\n",
       "4282  74.969162   19.106866      20.477889\n",
       "4283  74.983162    1.533121      20.044206\n",
       "\n",
       "[4284 rows x 3 columns]"
      ]
     },
     "execution_count": 10,
     "metadata": {},
     "output_type": "execute_result"
    }
   ],
   "source": [
    "# For each filename contained in the above-created list:\n",
    "# 1. Extract files matching regular expression pattern given in argument of re.match()\n",
    "# 2. Import the data from each file into a Pandas DataFrame using the Pandas command read_csv(), \n",
    "#    and store the DataFrame into a dictionary called 'dxp'\n",
    "compounds = {}\n",
    "dxp = {}\n",
    "for file in xp_files:\n",
    "    # The following regular expression pattern includes files with filenames formatted as:\n",
    "    # 1. date format of the form yyyy-mm-dd\n",
    "    # 2. followed by two sequences of alphanumeric characters other than '_' separated by a '-'\n",
    "    # 3. followed by two sequences of alphanumeric characters (including '_') separated by a '-'\n",
    "    # 4. contained in subfolders of the current working directory, with names formatted as: \n",
    "    #    a. date format of the form yyyy-mm-dd, \n",
    "    #    b. followed by any sequence of alphanumeric characters\n",
    "    fm = re.match('\\d{4}-\\d{2}-\\d{2}\\w+\\\\\\\\(\\d{4}-\\d{2}-\\d{2})_([^\\W_]+)-([^\\W_]+)\\w+-\\w+.ASC', file)\n",
    "    date = fm.group(1)\n",
    "    batch = fm.group(3)\n",
    "    compounds[batch] = fm.group(2)\n",
    "    with open(file, 'r'):\n",
    "        dxp[batch,date] = pd.read_csv(file, sep=' ', header=0, names=['2theta', 'I0', 'Estimated Std'])\n",
    "\n",
    "dxp[batch,date]"
   ]
  },
  {
   "cell_type": "code",
   "execution_count": 11,
   "id": "owned-single",
   "metadata": {},
   "outputs": [],
   "source": [
    "# List of names of relevant growth batches \n",
    "batches = ['LS5695', 'LS5701', 'LS5696', 'LS5697']"
   ]
  },
  {
   "cell_type": "code",
   "execution_count": 35,
   "id": "judicial-belgium",
   "metadata": {},
   "outputs": [
    {
     "name": "stdout",
     "output_type": "stream",
     "text": [
      "0 381.745181395801 315.1011523919672\n",
      "1 315.1011523919672 310.24887172674687\n",
      "2 310.24887172674687 309.9170183031991\n",
      "\n",
      "0 393.3541474402131 309.18051098084044\n",
      "1 309.18051098084044 303.62188803157835\n",
      "2 303.62188803157835 303.0619490611636\n",
      "\n",
      "0 433.8522858520172 313.865644417357\n",
      "1 313.865644417357 304.34229103662386\n",
      "2 304.34229103662386 303.17062259656973\n",
      "\n",
      "0 393.89651271993574 312.3195552760272\n",
      "1 312.3195552760272 307.2008893883647\n",
      "2 307.2008893883647 306.7936270683599\n",
      "\n",
      "0 82.58612385788017 13.816051295977827\n",
      "0 82.58612385788017 13.816051295977827\n",
      "\n",
      "0 87.13173199847142 15.999686442274745\n",
      "0 87.13173199847142 15.999686442274745\n",
      "\n",
      "0 71.8562557783523 8.319104585299314\n",
      "0 71.8562557783523 8.319104585299314\n",
      "\n"
     ]
    }
   ],
   "source": [
    "# Compute and subtract any residual constant background\n",
    "for key in dxp.keys():\n",
    "    I = dxp[key]['I0']\n",
    "    Iref = np.mean(I)# average spectrum intensity\n",
    "    mult = 1.3\n",
    "    Im = np.mean(I[I<Iref*mult])# average spectrum intensity, excluding datapoitns that are more than 30% above average\n",
    "    ii = 0\n",
    "    # Recompute average background intensity as long as it changes when excluding high intensity datapoints\n",
    "    # or as long as the absolute average intensity is more than 10\n",
    "    while abs(Iref-Im)/Iref>0.01:\n",
    "        print(ii, Iref, Im)\n",
    "        if ii>100 or np.mean(I[I<Im*mult])<10:\n",
    "            break\n",
    "        Iref = Im\n",
    "        Im = np.mean(I[I<Iref*mult])\n",
    "        ii = ii+1\n",
    "\n",
    "    print(ii, Iref, Im)\n",
    "    dxp[key]['I'] = dxp[key]['I0']-Im\n",
    "    dxp[key]\n",
    "    print()"
   ]
  },
  {
   "cell_type": "markdown",
   "id": "featured-liabilities",
   "metadata": {},
   "source": [
    "## Compare measured and reported XRD patterns for pure TmVO4"
   ]
  },
  {
   "cell_type": "code",
   "execution_count": 36,
   "id": "cathedral-method",
   "metadata": {},
   "outputs": [
    {
     "data": {
      "text/plain": [
       "<matplotlib.legend.Legend at 0x23b61791d48>"
      ]
     },
     "execution_count": 36,
     "metadata": {},
     "output_type": "execute_result"
    }
   ],
   "source": [
    "# Full spectra\n",
    "ref = 'TmVO4'\n",
    "Tm_key = ('LS5695', '2021-03-12')\n",
    "fig = plt.figure()\n",
    "plt.plot(dref[ref]['2theta'], dref[ref]['I'], label='ICSD')\n",
    "plt.plot(dxp[Tm_key]['2theta'], dxp[Tm_key]['I']*1e-2, label=Tm_key[0])\n",
    "plt.xlim([18,40])\n",
    "plt.xlabel(xlabel)\n",
    "plt.ylabel(ylabel)\n",
    "plt.title('XRD pattern of TmVO4-LS5695 vs pattern calculated from .cif file')\n",
    "plt.legend()"
   ]
  },
  {
   "cell_type": "code",
   "execution_count": null,
   "id": "undefined-century",
   "metadata": {},
   "outputs": [],
   "source": [
    "plt.savefig(f'./{todaystr}_YTmVO4_analysis/{todaystr}_TmVO4_full_spectrum.pdf')"
   ]
  },
  {
   "cell_type": "markdown",
   "id": "loved-wellington",
   "metadata": {},
   "source": [
    "### Focus on three most intense peaks"
   ]
  },
  {
   "cell_type": "code",
   "execution_count": 31,
   "id": "limited-demographic",
   "metadata": {},
   "outputs": [],
   "source": [
    "# Parameters for zoom on peaks\n",
    "refs = list(dref.keys())\n",
    "# xlim = {'ax1':[18.7,19.1], 'ax2':[24.5,25.75], 'ax3':[33.25,34.25]}\n",
    "xlim = {'ax1':[18.6,19.2], 'ax2':[24.8,25.5], 'ax3':[33.4,34.1]}"
   ]
  },
  {
   "cell_type": "code",
   "execution_count": 37,
   "id": "retained-judge",
   "metadata": {},
   "outputs": [
    {
     "data": {
      "text/plain": [
       "<matplotlib.legend.Legend at 0x23b638f43c8>"
      ]
     },
     "execution_count": 37,
     "metadata": {},
     "output_type": "execute_result"
    }
   ],
   "source": [
    "# Figure with three panels for zoom on main peaks\n",
    "fig, (ax1, ax2, ax3) = plt.subplots(1, 3, sharey=True)\n",
    "# fig.subplots_adjust(hspace=0.025)  # adjust space between axes\n",
    "\n",
    "for sax in ['ax1', 'ax2', 'ax3']:\n",
    "    ax = eval(sax)\n",
    "    xref = dref[refs[0]]['2theta']\n",
    "    Iref = dref[refs[0]]['I']\n",
    "    ax.plot(xref, Iref/np.max(Iref[np.logical_and(xref>xlim[sax][0], xref<xlim[sax][1])]), \n",
    "            label=f'{refs[0]} (calc.)')\n",
    "\n",
    "    for batch in batches[:1]:\n",
    "        xxp = dxp[Tm_key]['2theta']\n",
    "        Ixp = dxp[Tm_key]['I']\n",
    "        ax.plot(xxp, Ixp/np.max(Ixp[np.logical_and(xxp>xlim[sax][0], xxp<xlim[sax][1])]), \n",
    "                label=Tm_key[0])\n",
    "        \n",
    "    ax.set_xlabel(xlabel)\n",
    "    ax.set_xlim(xlim[sax])\n",
    "    ax.set_ylim([0,1.1])\n",
    "# ax2.set_xlim(xlim2)\n",
    "# ax3.set_xlim(xlim3)\n",
    "ax1.set_ylabel(ylabel)\n",
    "ax2.set_title('XRD patterns of Y-substituted TmVO4 vs calculated patterns of TmVO4 and YVO4')\n",
    "plt.legend()"
   ]
  },
  {
   "cell_type": "code",
   "execution_count": 197,
   "id": "selective-experiment",
   "metadata": {},
   "outputs": [],
   "source": [
    "plt.savefig(f'./{todaystr}_YTmVO4_analysis/{todaystr}_TmVO4_zoom.pdf', bbox_inches='tight')"
   ]
  },
  {
   "cell_type": "markdown",
   "id": "empty-queensland",
   "metadata": {},
   "source": [
    "## Compare measured XRD patterns of Y-substituted TmVO4 vs calculated patterns of TmVO4 and YVO4"
   ]
  },
  {
   "cell_type": "code",
   "execution_count": 75,
   "id": "graduate-hundred",
   "metadata": {},
   "outputs": [
    {
     "data": {
      "text/plain": [
       "<matplotlib.legend.Legend at 0x1c4ccf291c8>"
      ]
     },
     "execution_count": 75,
     "metadata": {},
     "output_type": "execute_result"
    }
   ],
   "source": [
    "# Plot full spectra \n",
    "\n",
    "dxpk = list(dxp.keys())\n",
    "# List of tuples matching a certain criterium\n",
    "measured = [(batch,date) for (batch,date) in dxpk if '2021-03-24' in date]\n",
    "\n",
    "fig = plt.figure()\n",
    "plt.plot(dref[refs[0]]['2theta'], dref[refs[0]]['I'], label=f'{refs[0]} (ICSD)')\n",
    "for key in measured:\n",
    "    plt.plot(dxp[key]['2theta'], dxp[key]['I']*1e2/max(dxp[key]['I']), label=compounds[key[0]])\n",
    "plt.plot(dref[refs[1]]['2theta'], dref[refs[1]]['I'], label=f'{refs[1]} (ICSD)')\n",
    "plt.xlim([15,75])\n",
    "plt.xlabel(xlabel)\n",
    "plt.ylabel(ylabel)\n",
    "plt.title('XRD patterns of sintered Y-TmVO4 along with reported patterns of TmVO4 and YVO4')\n",
    "plt.legend()"
   ]
  },
  {
   "cell_type": "code",
   "execution_count": 76,
   "id": "floral-collins",
   "metadata": {},
   "outputs": [],
   "source": [
    "plt.savefig(f'./{todaystr}_YTmVO4_analysis/{todaystr}_YTmVO4.pdf', bbox_inches='tight')"
   ]
  },
  {
   "cell_type": "code",
   "execution_count": 71,
   "id": "detected-lobby",
   "metadata": {},
   "outputs": [
    {
     "data": {
      "text/plain": [
       "<matplotlib.legend.Legend at 0x1c4ccc43e48>"
      ]
     },
     "execution_count": 71,
     "metadata": {},
     "output_type": "execute_result"
    }
   ],
   "source": [
    "# Figure with three panels for zoom on main peaks\n",
    "fig, (ax1, ax2, ax3) = plt.subplots(1, 3, sharey=True)\n",
    "\n",
    "# xlim = {'ax1':[18.7,19.1], 'ax2':[24.8,25.4], 'ax3':[33.4,34.]}\n",
    "xlim = {'ax1':[18.6,19.2], 'ax2':[24.8,25.5], 'ax3':[33.4,34.1]}\n",
    "\n",
    "for sax in ['ax1', 'ax2', 'ax3']:\n",
    "    ax = eval(sax)\n",
    "    xref = dref[refs[0]]['2theta']\n",
    "    Iref = dref[refs[0]]['I']\n",
    "    ax.plot(xref, Iref/np.max(Iref[np.logical_and(xref>xlim[sax][0], xref<xlim[sax][1])]), \n",
    "            label=f'{refs[0]} (ICSD)')\n",
    "\n",
    "    for key in measured[::-1]:\n",
    "        xxp = dxp[key]['2theta']\n",
    "        Ixp = dxp[key]['I']\n",
    "        ax.plot(xxp, Ixp/np.max(Ixp[np.logical_and(xxp>xlim[sax][0], xxp<xlim[sax][1])]), \n",
    "                label=compounds[key[0]])\n",
    "        \n",
    "    xref = dref[refs[1]]['2theta']\n",
    "    Iref = dref[refs[1]]['I']\n",
    "    ax.plot(xref, Iref/np.max(Iref[np.logical_and(xref>xlim[sax][0], xref<xlim[sax][1])]), \n",
    "            label=f'{refs[1]} (ICSD)')\n",
    "\n",
    "    ax.set_xlabel(xlabel)\n",
    "    ax.set_xlim(xlim[sax])\n",
    "    ax.set_ylim([0,1.1])\n",
    "# ax2.set_xlim(xlim2)\n",
    "# ax3.set_xlim(xlim3)\n",
    "ax1.set_ylabel(ylabel)\n",
    "ax2.set_title('XRD patterns of Y-substituted TmVO4 vs reported patterns of TmVO4 and YVO4')\n",
    "plt.legend()"
   ]
  },
  {
   "cell_type": "code",
   "execution_count": 73,
   "id": "employed-supply",
   "metadata": {},
   "outputs": [],
   "source": [
    "plt.savefig(f'./{todaystr}_YTmVO4_analysis/{todaystr}_YTmVO4_zoom.pdf', bbox_inches='tight')"
   ]
  },
  {
   "cell_type": "markdown",
   "id": "covered-honor",
   "metadata": {},
   "source": [
    "## Compare XRD patterns before and after sintering"
   ]
  },
  {
   "cell_type": "code",
   "execution_count": 55,
   "id": "settled-chicago",
   "metadata": {},
   "outputs": [],
   "source": [
    "batches = ['LS5696','LS5697']\n",
    "dates = np.unique([date for (batch,date) in dxpk])\n",
    "fig = {}\n",
    "\n",
    "for idx, batch in enumerate(batches[1:]):\n",
    "    fig[idx], (ax1, ax2, ax3) = plt.subplots(1, 3, sharey=True)\n",
    "\n",
    "    xlim = {'ax1':[18.6,19.2], 'ax2':[24.8,25.5], 'ax3':[33.4,34.1]}\n",
    "\n",
    "    for sax in ['ax1', 'ax2', 'ax3']:\n",
    "        ax = eval(sax)\n",
    "\n",
    "        for date in dates:\n",
    "            spectrum = (batch,date)\n",
    "            xxp = dxp[spectrum]['2theta']\n",
    "            Ixp = dxp[spectrum]['I']\n",
    "            ax.plot(xxp, Ixp/np.max(Ixp[np.logical_and(xxp>xlim[sax][0], xxp<xlim[sax][1])]), \n",
    "                    label=f'{compounds[batch]},{date}')\n",
    "\n",
    "        ax.set_xlabel(xlabel)\n",
    "        ax.set_xlim(xlim[sax])\n",
    "        ax.set_ylim([0,1.1])\n",
    "\n",
    "    ax1.set_ylabel(ylabel)\n",
    "    ax2.set_title('XRD patterns of Y-substituted TmVO4 before and after sintering')\n",
    "    plt.legend()"
   ]
  },
  {
   "cell_type": "code",
   "execution_count": 56,
   "id": "compressed-salad",
   "metadata": {},
   "outputs": [],
   "source": [
    "plt.savefig(f'./{todaystr}_YTmVO4_analysis/{todaystr}_30Y-TmVO4_sintering.pdf', bbox_inches='tight')\n",
    "# plt.figure(fig[0].number)\n",
    "# plt.savefig(f'./{todaystr}_YTmVO4_analysis/{todaystr}_15Y-TmVO4_sintering.pdf', bbox_inches='tight')"
   ]
  }
 ],
 "metadata": {
  "kernelspec": {
   "display_name": "Python 3 (ipykernel)",
   "language": "python",
   "name": "python3"
  },
  "language_info": {
   "codemirror_mode": {
    "name": "ipython",
    "version": 3
   },
   "file_extension": ".py",
   "mimetype": "text/x-python",
   "name": "python",
   "nbconvert_exporter": "python",
   "pygments_lexer": "ipython3",
   "version": "3.7.11"
  },
  "latex_envs": {
   "LaTeX_envs_menu_present": true,
   "autoclose": false,
   "autocomplete": true,
   "bibliofile": "biblio.bib",
   "cite_by": "apalike",
   "current_citInitial": 1,
   "eqLabelWithNumbers": true,
   "eqNumInitial": 1,
   "hotkeys": {
    "equation": "Ctrl-E",
    "itemize": "Ctrl-I"
   },
   "labels_anchors": false,
   "latex_user_defs": false,
   "report_style_numbering": false,
   "user_envs_cfg": false
  },
  "toc": {
   "base_numbering": 1,
   "nav_menu": {},
   "number_sections": true,
   "sideBar": true,
   "skip_h1_title": false,
   "title_cell": "Table of Contents",
   "title_sidebar": "Contents",
   "toc_cell": false,
   "toc_position": {},
   "toc_section_display": true,
   "toc_window_display": true
  },
  "varInspector": {
   "cols": {
    "lenName": 16,
    "lenType": 16,
    "lenVar": 40
   },
   "kernels_config": {
    "python": {
     "delete_cmd_postfix": "",
     "delete_cmd_prefix": "del ",
     "library": "var_list.py",
     "varRefreshCmd": "print(var_dic_list())"
    },
    "r": {
     "delete_cmd_postfix": ") ",
     "delete_cmd_prefix": "rm(",
     "library": "var_list.r",
     "varRefreshCmd": "cat(var_dic_list()) "
    }
   },
   "types_to_exclude": [
    "module",
    "function",
    "builtin_function_or_method",
    "instance",
    "_Feature"
   ],
   "window_display": false
  }
 },
 "nbformat": 4,
 "nbformat_minor": 5
}
