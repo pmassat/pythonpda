{
 "cells": [
  {
   "cell_type": "markdown",
   "id": "structured-kitchen",
   "metadata": {},
   "source": [
    "# Data analysis of powder XRD data"
   ]
  },
  {
   "cell_type": "code",
   "execution_count": 10,
   "id": "happy-tooth",
   "metadata": {},
   "outputs": [],
   "source": [
    "import glob\n",
    "import os\n",
    "import re\n",
    "\n",
    "import numpy as np\n",
    "import pandas as pd\n",
    "import scipy.signal as sps\n",
    "\n",
    "from matplotlib import pyplot as plt"
   ]
  },
  {
   "cell_type": "code",
   "execution_count": 2,
   "id": "italic-relief",
   "metadata": {},
   "outputs": [],
   "source": [
    "os.chdir(r'C:\\Users\\Pierre\\Desktop\\2021-03-12_powder_XRD_data')"
   ]
  },
  {
   "cell_type": "markdown",
   "id": "ranging-importance",
   "metadata": {},
   "source": [
    "## Reference spectra taken from the ICDD"
   ]
  },
  {
   "cell_type": "code",
   "execution_count": 4,
   "id": "external-hindu",
   "metadata": {},
   "outputs": [],
   "source": [
    "ref_files = glob.glob('*.xy')"
   ]
  },
  {
   "cell_type": "code",
   "execution_count": 27,
   "id": "homeless-cincinnati",
   "metadata": {},
   "outputs": [
    {
     "data": {
      "text/html": [
       "<div>\n",
       "<style scoped>\n",
       "    .dataframe tbody tr th:only-of-type {\n",
       "        vertical-align: middle;\n",
       "    }\n",
       "\n",
       "    .dataframe tbody tr th {\n",
       "        vertical-align: top;\n",
       "    }\n",
       "\n",
       "    .dataframe thead th {\n",
       "        text-align: right;\n",
       "    }\n",
       "</style>\n",
       "<table border=\"1\" class=\"dataframe\">\n",
       "  <thead>\n",
       "    <tr style=\"text-align: right;\">\n",
       "      <th></th>\n",
       "      <th>2theta</th>\n",
       "      <th>I</th>\n",
       "      <th>std?</th>\n",
       "    </tr>\n",
       "  </thead>\n",
       "  <tbody>\n",
       "    <tr>\n",
       "      <th>0</th>\n",
       "      <td>1.01</td>\n",
       "      <td>0.05683</td>\n",
       "      <td>0.0</td>\n",
       "    </tr>\n",
       "    <tr>\n",
       "      <th>1</th>\n",
       "      <td>1.02</td>\n",
       "      <td>0.05577</td>\n",
       "      <td>0.0</td>\n",
       "    </tr>\n",
       "    <tr>\n",
       "      <th>2</th>\n",
       "      <td>1.03</td>\n",
       "      <td>0.05474</td>\n",
       "      <td>0.0</td>\n",
       "    </tr>\n",
       "    <tr>\n",
       "      <th>3</th>\n",
       "      <td>1.04</td>\n",
       "      <td>0.05374</td>\n",
       "      <td>0.0</td>\n",
       "    </tr>\n",
       "    <tr>\n",
       "      <th>4</th>\n",
       "      <td>1.05</td>\n",
       "      <td>0.05276</td>\n",
       "      <td>0.0</td>\n",
       "    </tr>\n",
       "    <tr>\n",
       "      <th>...</th>\n",
       "      <td>...</td>\n",
       "      <td>...</td>\n",
       "      <td>...</td>\n",
       "    </tr>\n",
       "    <tr>\n",
       "      <th>11894</th>\n",
       "      <td>119.95</td>\n",
       "      <td>0.00000</td>\n",
       "      <td>0.0</td>\n",
       "    </tr>\n",
       "    <tr>\n",
       "      <th>11895</th>\n",
       "      <td>119.96</td>\n",
       "      <td>0.00000</td>\n",
       "      <td>0.0</td>\n",
       "    </tr>\n",
       "    <tr>\n",
       "      <th>11896</th>\n",
       "      <td>119.97</td>\n",
       "      <td>0.00000</td>\n",
       "      <td>0.0</td>\n",
       "    </tr>\n",
       "    <tr>\n",
       "      <th>11897</th>\n",
       "      <td>119.98</td>\n",
       "      <td>0.00000</td>\n",
       "      <td>0.0</td>\n",
       "    </tr>\n",
       "    <tr>\n",
       "      <th>11898</th>\n",
       "      <td>119.99</td>\n",
       "      <td>0.00000</td>\n",
       "      <td>0.0</td>\n",
       "    </tr>\n",
       "  </tbody>\n",
       "</table>\n",
       "<p>11899 rows × 3 columns</p>\n",
       "</div>"
      ],
      "text/plain": [
       "       2theta        I  std?\n",
       "0        1.01  0.05683   0.0\n",
       "1        1.02  0.05577   0.0\n",
       "2        1.03  0.05474   0.0\n",
       "3        1.04  0.05374   0.0\n",
       "4        1.05  0.05276   0.0\n",
       "...       ...      ...   ...\n",
       "11894  119.95  0.00000   0.0\n",
       "11895  119.96  0.00000   0.0\n",
       "11896  119.97  0.00000   0.0\n",
       "11897  119.98  0.00000   0.0\n",
       "11898  119.99  0.00000   0.0\n",
       "\n",
       "[11899 rows x 3 columns]"
      ]
     },
     "execution_count": 27,
     "metadata": {},
     "output_type": "execute_result"
    }
   ],
   "source": [
    "dref = {}\n",
    "for file in ref_files:\n",
    "    fm = re.match('([^\\W_]+)_*', file)\n",
    "    compound = fm.group(1)\n",
    "    with open(file, 'r'):\n",
    "        dref[compound] = pd.read_csv(file, sep='\\s+', header=0, names=['2theta', 'I', 'std?'])\n",
    "        \n",
    "dref[compound]"
   ]
  },
  {
   "cell_type": "code",
   "execution_count": 38,
   "id": "corresponding-heavy",
   "metadata": {},
   "outputs": [],
   "source": [
    "xlabel = r'2$\\theta$ (°)'\n",
    "ylabel = 'I (a.u.)'"
   ]
  },
  {
   "cell_type": "code",
   "execution_count": 39,
   "id": "wicked-excuse",
   "metadata": {},
   "outputs": [
    {
     "name": "stdout",
     "output_type": "stream",
     "text": [
      "Using matplotlib backend: Qt5Agg\n"
     ]
    }
   ],
   "source": [
    "%matplotlib\n",
    "fig = plt.figure()\n",
    "for cpd in dref.keys():\n",
    "    plt.plot(dref[cpd]['2theta'], dref[cpd]['I'], label=cpd)\n",
    "    plt.xlim([0,75])\n",
    "    plt.xlabel(xlabel)\n",
    "    plt.ylabel(ylabel)\n",
    "    plt.legend()"
   ]
  },
  {
   "cell_type": "markdown",
   "id": "miniature-cambridge",
   "metadata": {},
   "source": [
    "## Experimental powder XRD data"
   ]
  },
  {
   "cell_type": "code",
   "execution_count": 43,
   "id": "worth-pendant",
   "metadata": {},
   "outputs": [],
   "source": [
    "xp_files = glob.glob('*_flat-background.ASC')"
   ]
  },
  {
   "cell_type": "code",
   "execution_count": 146,
   "id": "continuous-interim",
   "metadata": {},
   "outputs": [
    {
     "data": {
      "text/html": [
       "<div>\n",
       "<style scoped>\n",
       "    .dataframe tbody tr th:only-of-type {\n",
       "        vertical-align: middle;\n",
       "    }\n",
       "\n",
       "    .dataframe tbody tr th {\n",
       "        vertical-align: top;\n",
       "    }\n",
       "\n",
       "    .dataframe thead th {\n",
       "        text-align: right;\n",
       "    }\n",
       "</style>\n",
       "<table border=\"1\" class=\"dataframe\">\n",
       "  <thead>\n",
       "    <tr style=\"text-align: right;\">\n",
       "      <th></th>\n",
       "      <th>2theta</th>\n",
       "      <th>I0</th>\n",
       "      <th>Estimated Std</th>\n",
       "    </tr>\n",
       "  </thead>\n",
       "  <tbody>\n",
       "    <tr>\n",
       "      <th>0</th>\n",
       "      <td>15.021162</td>\n",
       "      <td>353.508985</td>\n",
       "      <td>27.568158</td>\n",
       "    </tr>\n",
       "    <tr>\n",
       "      <th>1</th>\n",
       "      <td>15.035162</td>\n",
       "      <td>353.550882</td>\n",
       "      <td>27.577882</td>\n",
       "    </tr>\n",
       "    <tr>\n",
       "      <th>2</th>\n",
       "      <td>15.049162</td>\n",
       "      <td>331.818932</td>\n",
       "      <td>27.190108</td>\n",
       "    </tr>\n",
       "    <tr>\n",
       "      <th>3</th>\n",
       "      <td>15.063162</td>\n",
       "      <td>322.734992</td>\n",
       "      <td>27.031692</td>\n",
       "    </tr>\n",
       "    <tr>\n",
       "      <th>4</th>\n",
       "      <td>15.077162</td>\n",
       "      <td>334.181059</td>\n",
       "      <td>27.251657</td>\n",
       "    </tr>\n",
       "    <tr>\n",
       "      <th>...</th>\n",
       "      <td>...</td>\n",
       "      <td>...</td>\n",
       "      <td>...</td>\n",
       "    </tr>\n",
       "    <tr>\n",
       "      <th>4279</th>\n",
       "      <td>74.927162</td>\n",
       "      <td>472.999673</td>\n",
       "      <td>26.913086</td>\n",
       "    </tr>\n",
       "    <tr>\n",
       "      <th>4280</th>\n",
       "      <td>74.941162</td>\n",
       "      <td>373.687076</td>\n",
       "      <td>25.062410</td>\n",
       "    </tr>\n",
       "    <tr>\n",
       "      <th>4281</th>\n",
       "      <td>74.955162</td>\n",
       "      <td>328.636710</td>\n",
       "      <td>24.211502</td>\n",
       "    </tr>\n",
       "    <tr>\n",
       "      <th>4282</th>\n",
       "      <td>74.969162</td>\n",
       "      <td>289.184565</td>\n",
       "      <td>23.449254</td>\n",
       "    </tr>\n",
       "    <tr>\n",
       "      <th>4283</th>\n",
       "      <td>74.983162</td>\n",
       "      <td>301.561403</td>\n",
       "      <td>23.711692</td>\n",
       "    </tr>\n",
       "  </tbody>\n",
       "</table>\n",
       "<p>4284 rows × 3 columns</p>\n",
       "</div>"
      ],
      "text/plain": [
       "         2theta          I0  Estimated Std\n",
       "0     15.021162  353.508985      27.568158\n",
       "1     15.035162  353.550882      27.577882\n",
       "2     15.049162  331.818932      27.190108\n",
       "3     15.063162  322.734992      27.031692\n",
       "4     15.077162  334.181059      27.251657\n",
       "...         ...         ...            ...\n",
       "4279  74.927162  472.999673      26.913086\n",
       "4280  74.941162  373.687076      25.062410\n",
       "4281  74.955162  328.636710      24.211502\n",
       "4282  74.969162  289.184565      23.449254\n",
       "4283  74.983162  301.561403      23.711692\n",
       "\n",
       "[4284 rows x 3 columns]"
      ]
     },
     "execution_count": 146,
     "metadata": {},
     "output_type": "execute_result"
    }
   ],
   "source": [
    "compounds = {}\n",
    "dxp = {}\n",
    "for file in xp_files:\n",
    "    fm = re.match('(\\d{4}-\\d{2}-\\d{2})_([^\\W_]+)-([^\\W_]+)\\w+-\\w+.ASC', file)\n",
    "    date = fm.group(1)\n",
    "    batch = fm.group(3)\n",
    "    compounds[batch] = fm.group(2)\n",
    "    with open(file, 'r'):\n",
    "        dxp[batch] = pd.read_csv(file, sep=' ', header=0, names=['2theta', 'I0', 'Estimated Std'])\n",
    "\n",
    "dxp[batch]"
   ]
  },
  {
   "cell_type": "code",
   "execution_count": 84,
   "id": "powerful-output",
   "metadata": {},
   "outputs": [],
   "source": [
    "batches = ['LS5695', 'LS5701', 'LS5696', 'LS5697']"
   ]
  },
  {
   "cell_type": "code",
   "execution_count": 152,
   "id": "auburn-telling",
   "metadata": {},
   "outputs": [
    {
     "name": "stdout",
     "output_type": "stream",
     "text": [
      "1 312.3195552760272 307.2008893883647\n",
      "2 307.2008893883647 306.7936270683599\n",
      "1 313.865644417357 304.34229103662386\n",
      "2 304.34229103662386 303.17062259656973\n",
      "1 309.18051098084044 303.62188803157835\n",
      "2 303.62188803157835 303.0619490611636\n",
      "1 315.1011523919672 310.24887172674687\n",
      "2 310.24887172674687 309.9170183031991\n"
     ]
    }
   ],
   "source": [
    "for batch in batches:\n",
    "    I = dxp[batch]['I0']\n",
    "    Iref = np.mean(I)\n",
    "    mult = 1.3\n",
    "    Im = np.mean(I[I<Iref*mult])\n",
    "    ii = 0\n",
    "    while abs(Iref-Im)/Iref>0.01:\n",
    "        Iref = Im\n",
    "        Im = np.mean(I[I<Iref*mult])\n",
    "        ii = ii+1\n",
    "        if ii>100:\n",
    "            break\n",
    "        print(ii, Iref, Im)\n",
    "\n",
    "    dxp[batch]['I'] = dxp[batch]['I0']-Im\n",
    "    dxp[batch]"
   ]
  },
  {
   "cell_type": "markdown",
   "id": "helpful-procedure",
   "metadata": {},
   "source": [
    "## Compare measured and reported XRD patterns for pure TmVO4"
   ]
  },
  {
   "cell_type": "code",
   "execution_count": 195,
   "id": "endangered-handling",
   "metadata": {},
   "outputs": [
    {
     "data": {
      "text/plain": [
       "<matplotlib.legend.Legend at 0x18fce426548>"
      ]
     },
     "execution_count": 195,
     "metadata": {},
     "output_type": "execute_result"
    }
   ],
   "source": [
    "ref = 'TmVO4'\n",
    "batch = 'LS5695'\n",
    "fig = plt.figure()\n",
    "plt.plot(dref[ref]['2theta'], dref[ref]['I'], label='Calculated')\n",
    "plt.plot(dxp[batch]['2theta'], dxp[batch]['I']*1e-2, label=batch)\n",
    "plt.xlim([18,40])\n",
    "plt.xlabel(xlabel)\n",
    "plt.ylabel(ylabel)\n",
    "plt.title('XRD pattern of TmVO4-LS5695 vs pattern calculated from .cif file')\n",
    "plt.legend()"
   ]
  },
  {
   "cell_type": "code",
   "execution_count": 196,
   "id": "roman-confirmation",
   "metadata": {},
   "outputs": [],
   "source": [
    "plt.savefig('./2021-03-12_YTmVO4_analysis/2021-03-12_TmVO4_full_spectrum.pdf')"
   ]
  },
  {
   "cell_type": "code",
   "execution_count": 194,
   "id": "marine-homework",
   "metadata": {},
   "outputs": [
    {
     "data": {
      "text/plain": [
       "<matplotlib.legend.Legend at 0x18fce2e3108>"
      ]
     },
     "execution_count": 194,
     "metadata": {},
     "output_type": "execute_result"
    }
   ],
   "source": [
    "refs = list(dref.keys())\n",
    "\n",
    "fig, (ax1, ax2, ax3) = plt.subplots(1, 3, sharey=True)\n",
    "# fig.subplots_adjust(hspace=0.025)  # adjust space between axes\n",
    "\n",
    "xlim = {'ax1':[18.5,19.3], 'ax2':[24.5,25.75], 'ax3':[33.25,34.25]}\n",
    "\n",
    "for sax in ['ax1', 'ax2', 'ax3']:\n",
    "    ax = eval(sax)\n",
    "    xref = dref[refs[0]]['2theta']\n",
    "    Iref = dref[refs[0]]['I']\n",
    "    ax.plot(xref, Iref/np.max(Iref[np.logical_and(xref>xlim[sax][0], xref<xlim[sax][1])]), \n",
    "            label=f'{refs[0]} (calc.)')\n",
    "\n",
    "    for batch in batches[:1]:\n",
    "        xxp = dxp[batch]['2theta']\n",
    "        Ixp = dxp[batch]['I']\n",
    "        ax.plot(xxp, Ixp/np.max(Ixp[np.logical_and(xxp>xlim[sax][0], xxp<xlim[sax][1])]), \n",
    "                label=compounds[batch])\n",
    "        \n",
    "    ax.set_xlabel(xlabel)\n",
    "    ax.set_xlim(xlim[sax])\n",
    "    ax.set_ylim([0,1.1])\n",
    "# ax2.set_xlim(xlim2)\n",
    "# ax3.set_xlim(xlim3)\n",
    "ax1.set_ylabel(ylabel)\n",
    "ax2.set_title('XRD patterns of Y-substituted TmVO4 vs calculated patterns of TmVO4 and YVO4')\n",
    "plt.legend()"
   ]
  },
  {
   "cell_type": "code",
   "execution_count": 197,
   "id": "professional-command",
   "metadata": {},
   "outputs": [],
   "source": [
    "plt.savefig('./2021-03-12_YTmVO4_analysis/2021-03-12_TmVO4_zoom.pdf')"
   ]
  },
  {
   "cell_type": "markdown",
   "id": "intimate-batman",
   "metadata": {},
   "source": [
    "## Compare measured XRD patterns of Y-substituted TmVO4 vs calculated patterns of TmVO4 and YVO4"
   ]
  },
  {
   "cell_type": "code",
   "execution_count": 155,
   "id": "worldwide-force",
   "metadata": {},
   "outputs": [
    {
     "data": {
      "text/plain": [
       "<matplotlib.legend.Legend at 0x18fb55d7348>"
      ]
     },
     "execution_count": 155,
     "metadata": {},
     "output_type": "execute_result"
    }
   ],
   "source": [
    "refs = list(dref.keys())\n",
    "fig = plt.figure()\n",
    "plt.plot(dref[refs[0]]['2theta'], dref[refs[0]]['I'], label=f'{refs[0]} (calc.)')\n",
    "for batch in batches[1:]:\n",
    "    plt.plot(dxp[batch]['2theta'], dxp[batch]['I']*1e2/max(dxp[batch]['I']), label=compounds[batch])\n",
    "plt.plot(dref[refs[1]]['2theta'], dref[refs[1]]['I'], label=f'{refs[1]} (calc.)')\n",
    "plt.xlim([15,75])\n",
    "plt.xlabel(xlabel)\n",
    "plt.ylabel(ylabel)\n",
    "plt.title('XRD patterns of Y-substituted TmVO4 vs calculated patterns of TmVO4 and YVO4')\n",
    "plt.legend()"
   ]
  },
  {
   "cell_type": "code",
   "execution_count": 192,
   "id": "negative-symbol",
   "metadata": {},
   "outputs": [
    {
     "data": {
      "text/plain": [
       "<matplotlib.legend.Legend at 0x18fcab65b08>"
      ]
     },
     "execution_count": 192,
     "metadata": {},
     "output_type": "execute_result"
    }
   ],
   "source": [
    "refs = list(dref.keys())\n",
    "\n",
    "fig, (ax1, ax2, ax3) = plt.subplots(1, 3, sharey=True)\n",
    "# fig.subplots_adjust(hspace=0.025)  # adjust space between axes\n",
    "\n",
    "xlim = {'ax1':[18.5,19.3], 'ax2':[24.5,25.75], 'ax3':[33.25,34.25]}\n",
    "\n",
    "for sax in ['ax1', 'ax2', 'ax3']:\n",
    "    ax = eval(sax)\n",
    "    xref = dref[refs[0]]['2theta']\n",
    "    Iref = dref[refs[0]]['I']\n",
    "    ax.plot(xref, Iref/np.max(Iref[np.logical_and(xref>xlim[sax][0], xref<xlim[sax][1])]), \n",
    "            label=f'{refs[0]} (calc.)')\n",
    "\n",
    "    for batch in batches[1:]:\n",
    "        xxp = dxp[batch]['2theta']\n",
    "        Ixp = dxp[batch]['I']\n",
    "        ax.plot(xxp, Ixp/np.max(Ixp[np.logical_and(xxp>xlim[sax][0], xxp<xlim[sax][1])]), \n",
    "                label=compounds[batch])\n",
    "        \n",
    "    xref = dref[refs[1]]['2theta']\n",
    "    Iref = dref[refs[1]]['I']\n",
    "    ax.plot(xref, Iref/np.max(Iref[np.logical_and(xref>xlim[sax][0], xref<xlim[sax][1])]), \n",
    "            label=f'{refs[1]} (calc.)')\n",
    "\n",
    "    ax.set_xlabel(xlabel)\n",
    "    ax.set_xlim(xlim[sax])\n",
    "    ax.set_ylim([0,1.1])\n",
    "# ax2.set_xlim(xlim2)\n",
    "# ax3.set_xlim(xlim3)\n",
    "ax1.set_ylabel(ylabel)\n",
    "ax2.set_title('XRD patterns of Y-substituted TmVO4 vs calculated patterns of TmVO4 and YVO4')\n",
    "plt.legend()"
   ]
  },
  {
   "cell_type": "code",
   "execution_count": null,
   "id": "communist-clearance",
   "metadata": {},
   "outputs": [],
   "source": []
  }
 ],
 "metadata": {
  "kernelspec": {
   "display_name": "Python 3",
   "language": "python",
   "name": "python3"
  },
  "language_info": {
   "codemirror_mode": {
    "name": "ipython",
    "version": 3
   },
   "file_extension": ".py",
   "mimetype": "text/x-python",
   "name": "python",
   "nbconvert_exporter": "python",
   "pygments_lexer": "ipython3",
   "version": "3.7.10"
  }
 },
 "nbformat": 4,
 "nbformat_minor": 5
}
