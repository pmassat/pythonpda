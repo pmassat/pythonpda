{
 "cells": [
  {
   "cell_type": "markdown",
   "metadata": {
    "Collapsed": "false"
   },
   "source": [
    "# TmVO4 neutrons data analysis\n",
    "Fit neutrons diffraction peaks measured on TmVO4 at SNS on 2019-02-14 in order to extract the orthorhombic distortion as a function of magnetic field"
   ]
  },
  {
   "cell_type": "markdown",
   "metadata": {
    "Collapsed": "true"
   },
   "source": [
    "## Import modules"
   ]
  },
  {
   "cell_type": "code",
   "execution_count": 1,
   "metadata": {
    "Collapsed": "false"
   },
   "outputs": [],
   "source": [
    "from mpl_toolkits.mplot3d import Axes3D# for 3D plotting\n",
    "import matplotlib.tri as mtri# for triangulation of unevenly separated data, like our magnetic field data\n",
    "\n",
    "import copy as cp, numpy as np, pandas as pd, pickle, os, re\n",
    "import importlib, sys \n",
    "import matplotlib\n",
    "from matplotlib import cm, pyplot as plt, rcsetup, rc, rcParams# import matplotlib.pyplot as plt\n",
    "# cm stands for colormap\n",
    "from matplotlib.ticker import LogLocator, LinearLocator, FormatStrFormatter\n",
    "from scipy.interpolate import griddata\n",
    "from scipy.special import erfc, exp1\n",
    "\n",
    "from lmfit import minimize, Model, Parameters, report_fit, fit_report\n",
    "# import pytest"
   ]
  },
  {
   "cell_type": "markdown",
   "metadata": {
    "Collapsed": "false"
   },
   "source": [
    "### Change default plotting parameters\n",
    "see https://matplotlib.org/3.1.0/api/_as_gen/matplotlib.pyplot.figure.html"
   ]
  },
  {
   "cell_type": "code",
   "execution_count": 21,
   "metadata": {
    "Collapsed": "false"
   },
   "outputs": [],
   "source": [
    "rcParams[\"figure.figsize\"] = np.multiply([6.4, 4.8],0.5)# default is [6.4, 4.8]"
   ]
  },
  {
   "cell_type": "markdown",
   "metadata": {
    "Collapsed": "true"
   },
   "source": [
    "## Import data"
   ]
  },
  {
   "cell_type": "markdown",
   "metadata": {
    "Collapsed": "false"
   },
   "source": [
    "### Coarse data"
   ]
  },
  {
   "cell_type": "code",
   "execution_count": 4,
   "metadata": {
    "Collapsed": "false"
   },
   "outputs": [
    {
     "data": {
      "text/html": [
       "<div>\n",
       "<style scoped>\n",
       "    .dataframe tbody tr th:only-of-type {\n",
       "        vertical-align: middle;\n",
       "    }\n",
       "\n",
       "    .dataframe tbody tr th {\n",
       "        vertical-align: top;\n",
       "    }\n",
       "\n",
       "    .dataframe thead th {\n",
       "        text-align: right;\n",
       "    }\n",
       "</style>\n",
       "<table border=\"1\" class=\"dataframe\">\n",
       "  <thead>\n",
       "    <tr style=\"text-align: right;\">\n",
       "      <th></th>\n",
       "      <th>filename</th>\n",
       "      <th>H (T)</th>\n",
       "      <th>T (K)</th>\n",
       "      <th>spectra</th>\n",
       "    </tr>\n",
       "  </thead>\n",
       "  <tbody>\n",
       "    <tr>\n",
       "      <th>0</th>\n",
       "      <td>p6K_1T.txt</td>\n",
       "      <td>1.00</td>\n",
       "      <td>0.6</td>\n",
       "      <td>hh0          I        dI\n",
       "0    -11.99...</td>\n",
       "    </tr>\n",
       "    <tr>\n",
       "      <th>1</th>\n",
       "      <td>p6K_1T_new.txt</td>\n",
       "      <td>1.00</td>\n",
       "      <td>0.6</td>\n",
       "      <td>hh0          I        dI\n",
       "0    -11.99...</td>\n",
       "    </tr>\n",
       "    <tr>\n",
       "      <th>2</th>\n",
       "      <td>p6K_p05T.txt</td>\n",
       "      <td>0.05</td>\n",
       "      <td>0.6</td>\n",
       "      <td>hh0         I       dI\n",
       "0    -11.9975...</td>\n",
       "    </tr>\n",
       "    <tr>\n",
       "      <th>3</th>\n",
       "      <td>p6K_p4T.txt</td>\n",
       "      <td>0.40</td>\n",
       "      <td>0.6</td>\n",
       "      <td>hh0         I        dI\n",
       "0    -11.997...</td>\n",
       "    </tr>\n",
       "    <tr>\n",
       "      <th>4</th>\n",
       "      <td>p6K_p5T.txt</td>\n",
       "      <td>0.50</td>\n",
       "      <td>0.6</td>\n",
       "      <td>hh0          I        dI\n",
       "0    -11.99...</td>\n",
       "    </tr>\n",
       "    <tr>\n",
       "      <th>5</th>\n",
       "      <td>p6K_p6T.txt</td>\n",
       "      <td>0.60</td>\n",
       "      <td>0.6</td>\n",
       "      <td>hh0          I        dI\n",
       "0    -11.99...</td>\n",
       "    </tr>\n",
       "    <tr>\n",
       "      <th>6</th>\n",
       "      <td>p6K_p77T.txt</td>\n",
       "      <td>0.77</td>\n",
       "      <td>0.6</td>\n",
       "      <td>hh0          I        dI\n",
       "0    -11.99...</td>\n",
       "    </tr>\n",
       "    <tr>\n",
       "      <th>7</th>\n",
       "      <td>p6K_p7T.txt</td>\n",
       "      <td>0.70</td>\n",
       "      <td>0.6</td>\n",
       "      <td>hh0          I        dI\n",
       "0    -11.99...</td>\n",
       "    </tr>\n",
       "    <tr>\n",
       "      <th>8</th>\n",
       "      <td>p6K_p83T.txt</td>\n",
       "      <td>0.83</td>\n",
       "      <td>0.6</td>\n",
       "      <td>hh0          I        dI\n",
       "0    -11.99...</td>\n",
       "    </tr>\n",
       "    <tr>\n",
       "      <th>9</th>\n",
       "      <td>p6K_p97T.txt</td>\n",
       "      <td>0.97</td>\n",
       "      <td>0.6</td>\n",
       "      <td>hh0          I        dI\n",
       "0    -11.99...</td>\n",
       "    </tr>\n",
       "    <tr>\n",
       "      <th>10</th>\n",
       "      <td>p6K_p9T.txt</td>\n",
       "      <td>0.90</td>\n",
       "      <td>0.6</td>\n",
       "      <td>hh0          I        dI\n",
       "0    -11.99...</td>\n",
       "    </tr>\n",
       "  </tbody>\n",
       "</table>\n",
       "</div>"
      ],
      "text/plain": [
       "          filename  H (T)  T (K)  \\\n",
       "0       p6K_1T.txt   1.00    0.6   \n",
       "1   p6K_1T_new.txt   1.00    0.6   \n",
       "2     p6K_p05T.txt   0.05    0.6   \n",
       "3      p6K_p4T.txt   0.40    0.6   \n",
       "4      p6K_p5T.txt   0.50    0.6   \n",
       "5      p6K_p6T.txt   0.60    0.6   \n",
       "6     p6K_p77T.txt   0.77    0.6   \n",
       "7      p6K_p7T.txt   0.70    0.6   \n",
       "8     p6K_p83T.txt   0.83    0.6   \n",
       "9     p6K_p97T.txt   0.97    0.6   \n",
       "10     p6K_p9T.txt   0.90    0.6   \n",
       "\n",
       "                                              spectra  \n",
       "0             hh0          I        dI\n",
       "0    -11.99...  \n",
       "1             hh0          I        dI\n",
       "0    -11.99...  \n",
       "2             hh0         I       dI\n",
       "0    -11.9975...  \n",
       "3             hh0         I        dI\n",
       "0    -11.997...  \n",
       "4             hh0          I        dI\n",
       "0    -11.99...  \n",
       "5             hh0          I        dI\n",
       "0    -11.99...  \n",
       "6             hh0          I        dI\n",
       "0    -11.99...  \n",
       "7             hh0          I        dI\n",
       "0    -11.99...  \n",
       "8             hh0          I        dI\n",
       "0    -11.99...  \n",
       "9             hh0          I        dI\n",
       "0    -11.99...  \n",
       "10            hh0          I        dI\n",
       "0    -11.99...  "
      ]
     },
     "execution_count": 4,
     "metadata": {},
     "output_type": "execute_result"
    }
   ],
   "source": [
    "tempPath = r'C:\\Users\\Pierre\\Desktop\\Postdoc\\TmVO4\\TmVO4_neutrons\\2019-02_ORNL_Corelli\\2019-02-14'\n",
    "os.chdir(tempPath)\n",
    "(_, _, filenames) = next(os.walk(tempPath))# the walk() function lists the content of the directory that it is given as argument,\n",
    "# and of its subdirectories; the next() function returns the next output of the walk() function;\n",
    "# when used only once, it returns only the first output which is the content of the parent directory, \n",
    "# listed as a tuple of the form (dirpath, dirnames, filenames)\n",
    "filenames = [filename for filename in filenames if 'p6K_' in filename]# keep only files that match the string pattern of datafilestempList = [None]*len(filenames)# Pre-allocate temporary list to store the data that will then be converted into a Pandas DataFrame\n",
    "\n",
    "tempList = [None]*len(filenames)\n",
    "for idx, filename in enumerate(filenames):# For each data file\n",
    "    H = float(re.split('p6K_(\\w*)T\\w*.txt',filenames[idx])[1].replace('p','.'))# Extract value of magnetic field from filename\n",
    "    tempDF = pd.read_csv(filenames[idx],names=[\"hh0\",\"I\",\"dI\"],skiprows=2,delimiter=',')# import data as a Pandas DataFrame\n",
    "    tempList[idx] = {'filename': filenames[idx],# Store into a dictionary, which is itself an element of tempList: the filename,\n",
    "                   'H (T)': H,# value of magnetic field,\n",
    "                   'T (K)': 0.6,# temperature,\n",
    "                   'spectra': tempDF# and data stored as Pandas dataframe\n",
    "                   }\n",
    "coarseData = pd.DataFrame(tempList)# Convert the list of dictionaries into a Pandas DataFrame\n",
    "del idx, H, tempPath, filename, filenames, tempList, tempDF# delete temporary variables after use \n",
    "coarseData# Show the resulting DataFrame"
   ]
  },
  {
   "cell_type": "code",
   "execution_count": 5,
   "metadata": {
    "Collapsed": "false"
   },
   "outputs": [
    {
     "data": {
      "text/html": [
       "<div>\n",
       "<style scoped>\n",
       "    .dataframe tbody tr th:only-of-type {\n",
       "        vertical-align: middle;\n",
       "    }\n",
       "\n",
       "    .dataframe tbody tr th {\n",
       "        vertical-align: top;\n",
       "    }\n",
       "\n",
       "    .dataframe thead th {\n",
       "        text-align: right;\n",
       "    }\n",
       "</style>\n",
       "<table border=\"1\" class=\"dataframe\">\n",
       "  <thead>\n",
       "    <tr style=\"text-align: right;\">\n",
       "      <th></th>\n",
       "      <th>hh0</th>\n",
       "      <th>I</th>\n",
       "      <th>dI</th>\n",
       "    </tr>\n",
       "  </thead>\n",
       "  <tbody>\n",
       "    <tr>\n",
       "      <th>0</th>\n",
       "      <td>-11.9975</td>\n",
       "      <td>142028.0</td>\n",
       "      <td>52309.7</td>\n",
       "    </tr>\n",
       "    <tr>\n",
       "      <th>1</th>\n",
       "      <td>-11.9925</td>\n",
       "      <td>220372.0</td>\n",
       "      <td>62925.4</td>\n",
       "    </tr>\n",
       "    <tr>\n",
       "      <th>2</th>\n",
       "      <td>-11.9875</td>\n",
       "      <td>220002.0</td>\n",
       "      <td>62818.9</td>\n",
       "    </tr>\n",
       "    <tr>\n",
       "      <th>3</th>\n",
       "      <td>-11.9825</td>\n",
       "      <td>518428.0</td>\n",
       "      <td>92939.8</td>\n",
       "    </tr>\n",
       "    <tr>\n",
       "      <th>4</th>\n",
       "      <td>-11.9775</td>\n",
       "      <td>817317.0</td>\n",
       "      <td>127501.0</td>\n",
       "    </tr>\n",
       "  </tbody>\n",
       "</table>\n",
       "</div>"
      ],
      "text/plain": [
       "       hh0         I        dI\n",
       "0 -11.9975  142028.0   52309.7\n",
       "1 -11.9925  220372.0   62925.4\n",
       "2 -11.9875  220002.0   62818.9\n",
       "3 -11.9825  518428.0   92939.8\n",
       "4 -11.9775  817317.0  127501.0"
      ]
     },
     "execution_count": 5,
     "metadata": {},
     "output_type": "execute_result"
    }
   ],
   "source": [
    "coarseData.spectra[3].head()# Check the content of individual datasets after importation"
   ]
  },
  {
   "cell_type": "markdown",
   "metadata": {
    "Collapsed": "false"
   },
   "source": [
    "### Fine data"
   ]
  },
  {
   "cell_type": "code",
   "execution_count": 6,
   "metadata": {
    "Collapsed": "false"
   },
   "outputs": [
    {
     "data": {
      "text/html": [
       "<div>\n",
       "<style scoped>\n",
       "    .dataframe tbody tr th:only-of-type {\n",
       "        vertical-align: middle;\n",
       "    }\n",
       "\n",
       "    .dataframe tbody tr th {\n",
       "        vertical-align: top;\n",
       "    }\n",
       "\n",
       "    .dataframe thead th {\n",
       "        text-align: right;\n",
       "    }\n",
       "</style>\n",
       "<table border=\"1\" class=\"dataframe\">\n",
       "  <thead>\n",
       "    <tr style=\"text-align: right;\">\n",
       "      <th></th>\n",
       "      <th>File #</th>\n",
       "      <th>T (K)</th>\n",
       "      <th>H (T)</th>\n",
       "      <th>Proton charge</th>\n",
       "    </tr>\n",
       "  </thead>\n",
       "  <tbody>\n",
       "    <tr>\n",
       "      <th>0</th>\n",
       "      <td>88631</td>\n",
       "      <td>0.605973</td>\n",
       "      <td>0.000000</td>\n",
       "      <td>1.312139</td>\n",
       "    </tr>\n",
       "    <tr>\n",
       "      <th>1</th>\n",
       "      <td>88632</td>\n",
       "      <td>0.613334</td>\n",
       "      <td>0.049998</td>\n",
       "      <td>0.800119</td>\n",
       "    </tr>\n",
       "    <tr>\n",
       "      <th>2</th>\n",
       "      <td>88633</td>\n",
       "      <td>0.605727</td>\n",
       "      <td>0.099996</td>\n",
       "      <td>0.083534</td>\n",
       "    </tr>\n",
       "    <tr>\n",
       "      <th>3</th>\n",
       "      <td>88634</td>\n",
       "      <td>0.625493</td>\n",
       "      <td>0.099996</td>\n",
       "      <td>0.800739</td>\n",
       "    </tr>\n",
       "    <tr>\n",
       "      <th>4</th>\n",
       "      <td>88635</td>\n",
       "      <td>0.618220</td>\n",
       "      <td>0.150005</td>\n",
       "      <td>0.801294</td>\n",
       "    </tr>\n",
       "  </tbody>\n",
       "</table>\n",
       "</div>"
      ],
      "text/plain": [
       "   File #     T (K)     H (T)  Proton charge\n",
       "0   88631  0.605973  0.000000       1.312139\n",
       "1   88632  0.613334  0.049998       0.800119\n",
       "2   88633  0.605727  0.099996       0.083534\n",
       "3   88634  0.625493  0.099996       0.800739\n",
       "4   88635  0.618220  0.150005       0.801294"
      ]
     },
     "execution_count": 6,
     "metadata": {},
     "output_type": "execute_result"
    }
   ],
   "source": [
    "tempPath = r'C:\\Users\\Pierre\\Desktop\\Postdoc\\TmVO4\\TmVO4_neutrons\\2019-02_ORNL_Corelli\\2019-02-14\\p6K\\linecut_f'\n",
    "os.chdir(tempPath)\n",
    "fieldInfo = pd.read_csv('field_info.txt',header=None,names=['File #','T (K)','H (T)','Proton charge'],delimiter=' ')\n",
    "fieldInfo['File #'] = fieldInfo['File #'].astype('int')# replace file number type from float to int\n",
    "fieldInfo.head()\n",
    "# fieldInfo['File #'].dtype# check that the change of datatype is effective"
   ]
  },
  {
   "cell_type": "code",
   "execution_count": 7,
   "metadata": {
    "Collapsed": "false"
   },
   "outputs": [
    {
     "data": {
      "text/html": [
       "<div>\n",
       "<style scoped>\n",
       "    .dataframe tbody tr th:only-of-type {\n",
       "        vertical-align: middle;\n",
       "    }\n",
       "\n",
       "    .dataframe tbody tr th {\n",
       "        vertical-align: top;\n",
       "    }\n",
       "\n",
       "    .dataframe thead th {\n",
       "        text-align: right;\n",
       "    }\n",
       "</style>\n",
       "<table border=\"1\" class=\"dataframe\">\n",
       "  <thead>\n",
       "    <tr style=\"text-align: right;\">\n",
       "      <th></th>\n",
       "      <th>filename</th>\n",
       "      <th>T (K)</th>\n",
       "      <th>H (T)</th>\n",
       "      <th>Proton charge</th>\n",
       "      <th>spectra</th>\n",
       "    </tr>\n",
       "  </thead>\n",
       "  <tbody>\n",
       "    <tr>\n",
       "      <th>0</th>\n",
       "      <td>HH0_88631.txt</td>\n",
       "      <td>0.605973</td>\n",
       "      <td>0.000000</td>\n",
       "      <td>1.312139</td>\n",
       "      <td>hh0    I   dI\n",
       "0    -12.99880  0.0  ...</td>\n",
       "    </tr>\n",
       "    <tr>\n",
       "      <th>1</th>\n",
       "      <td>HH0_88632.txt</td>\n",
       "      <td>0.613334</td>\n",
       "      <td>0.049998</td>\n",
       "      <td>0.800119</td>\n",
       "      <td>hh0    I   dI\n",
       "0    -12.99880  0.0  ...</td>\n",
       "    </tr>\n",
       "    <tr>\n",
       "      <th>2</th>\n",
       "      <td>HH0_88633.txt</td>\n",
       "      <td>0.605727</td>\n",
       "      <td>0.099996</td>\n",
       "      <td>0.083534</td>\n",
       "      <td>hh0    I   dI\n",
       "0    -12.99880  0.0  ...</td>\n",
       "    </tr>\n",
       "    <tr>\n",
       "      <th>3</th>\n",
       "      <td>HH0_88634.txt</td>\n",
       "      <td>0.625493</td>\n",
       "      <td>0.099996</td>\n",
       "      <td>0.800739</td>\n",
       "      <td>hh0    I   dI\n",
       "0    -12.99880  0.0  ...</td>\n",
       "    </tr>\n",
       "    <tr>\n",
       "      <th>4</th>\n",
       "      <td>HH0_88635.txt</td>\n",
       "      <td>0.618220</td>\n",
       "      <td>0.150005</td>\n",
       "      <td>0.801294</td>\n",
       "      <td>hh0    I   dI\n",
       "0    -12.99880  0.0  ...</td>\n",
       "    </tr>\n",
       "  </tbody>\n",
       "</table>\n",
       "</div>"
      ],
      "text/plain": [
       "        filename     T (K)     H (T)  Proton charge  \\\n",
       "0  HH0_88631.txt  0.605973  0.000000       1.312139   \n",
       "1  HH0_88632.txt  0.613334  0.049998       0.800119   \n",
       "2  HH0_88633.txt  0.605727  0.099996       0.083534   \n",
       "3  HH0_88634.txt  0.625493  0.099996       0.800739   \n",
       "4  HH0_88635.txt  0.618220  0.150005       0.801294   \n",
       "\n",
       "                                             spectra  \n",
       "0             hh0    I   dI\n",
       "0    -12.99880  0.0  ...  \n",
       "1             hh0    I   dI\n",
       "0    -12.99880  0.0  ...  \n",
       "2             hh0    I   dI\n",
       "0    -12.99880  0.0  ...  \n",
       "3             hh0    I   dI\n",
       "0    -12.99880  0.0  ...  \n",
       "4             hh0    I   dI\n",
       "0    -12.99880  0.0  ...  "
      ]
     },
     "execution_count": 7,
     "metadata": {},
     "output_type": "execute_result"
    }
   ],
   "source": [
    "tempList = [None]*len(fieldInfo)# Preallocate list to store the data that will then be converted into a Pandas DataFrame\n",
    "for idx in range(len(fieldInfo)):# For each data file\n",
    "    filename = ''.join(['HH0_',str(fieldInfo['File #'][idx]),'.txt'])\n",
    "#     print(filename)\n",
    "    tempDF = pd.read_csv(filename,names=[\"hh0\",\"I\",\"dI\"],skiprows=2,delimiter=',')# Import data as a Pandas DataFrame\n",
    "    tempList[idx] = {'filename': filename,# Store into a dictionary, which is itself an element of dfList: the filename,\n",
    "                     'T (K)': fieldInfo['T (K)'][idx],# temperature,\n",
    "                     'H (T)': fieldInfo['H (T)'][idx],# value of magnetic field,\n",
    "                     'Proton charge': fieldInfo['Proton charge'][idx],# proton charge,\n",
    "                     'spectra': tempDF# and data,\n",
    "                     }\n",
    "linecut_f_raw = pd.DataFrame(tempList)# Convert the list of dictionaries into a Pandas DataFrame\n",
    "linecut_f_raw.head()# Show the resulting DataFrame"
   ]
  },
  {
   "cell_type": "code",
   "execution_count": 8,
   "metadata": {
    "Collapsed": "false"
   },
   "outputs": [],
   "source": [
    "del idx, tempPath, filename, tempList, tempDF# delete temporary variables after use "
   ]
  },
  {
   "cell_type": "code",
   "execution_count": 9,
   "metadata": {
    "Collapsed": "false"
   },
   "outputs": [
    {
     "data": {
      "text/html": [
       "<div>\n",
       "<style scoped>\n",
       "    .dataframe tbody tr th:only-of-type {\n",
       "        vertical-align: middle;\n",
       "    }\n",
       "\n",
       "    .dataframe tbody tr th {\n",
       "        vertical-align: top;\n",
       "    }\n",
       "\n",
       "    .dataframe thead th {\n",
       "        text-align: right;\n",
       "    }\n",
       "</style>\n",
       "<table border=\"1\" class=\"dataframe\">\n",
       "  <thead>\n",
       "    <tr style=\"text-align: right;\">\n",
       "      <th></th>\n",
       "      <th>hh0</th>\n",
       "      <th>I</th>\n",
       "      <th>dI</th>\n",
       "    </tr>\n",
       "  </thead>\n",
       "  <tbody>\n",
       "    <tr>\n",
       "      <th>180</th>\n",
       "      <td>-12.5487</td>\n",
       "      <td>0.0</td>\n",
       "      <td>0.0</td>\n",
       "    </tr>\n",
       "    <tr>\n",
       "      <th>181</th>\n",
       "      <td>-12.5462</td>\n",
       "      <td>0.0</td>\n",
       "      <td>0.0</td>\n",
       "    </tr>\n",
       "    <tr>\n",
       "      <th>182</th>\n",
       "      <td>-12.5437</td>\n",
       "      <td>0.0</td>\n",
       "      <td>0.0</td>\n",
       "    </tr>\n",
       "    <tr>\n",
       "      <th>183</th>\n",
       "      <td>-12.5412</td>\n",
       "      <td>0.0</td>\n",
       "      <td>0.0</td>\n",
       "    </tr>\n",
       "    <tr>\n",
       "      <th>184</th>\n",
       "      <td>-12.5388</td>\n",
       "      <td>0.0</td>\n",
       "      <td>0.0</td>\n",
       "    </tr>\n",
       "    <tr>\n",
       "      <th>185</th>\n",
       "      <td>-12.5363</td>\n",
       "      <td>0.0</td>\n",
       "      <td>0.0</td>\n",
       "    </tr>\n",
       "  </tbody>\n",
       "</table>\n",
       "</div>"
      ],
      "text/plain": [
       "         hh0    I   dI\n",
       "180 -12.5487  0.0  0.0\n",
       "181 -12.5462  0.0  0.0\n",
       "182 -12.5437  0.0  0.0\n",
       "183 -12.5412  0.0  0.0\n",
       "184 -12.5388  0.0  0.0\n",
       "185 -12.5363  0.0  0.0"
      ]
     },
     "execution_count": 9,
     "metadata": {},
     "output_type": "execute_result"
    }
   ],
   "source": [
    "linecut_f_raw['spectra'][3].loc[180:185]#.head()# Check the content of individual datasets after importation"
   ]
  },
  {
   "cell_type": "markdown",
   "metadata": {
    "Collapsed": "true"
   },
   "source": [
    "## Basic data processing\n",
    "Rescale data and remove \"bad\" data"
   ]
  },
  {
   "cell_type": "markdown",
   "metadata": {
    "Collapsed": "false"
   },
   "source": [
    "### Check consistency of dataframes"
   ]
  },
  {
   "cell_type": "markdown",
   "metadata": {
    "Collapsed": "false"
   },
   "source": [
    "#### <a name=\"hh0_consistency\"></a>Check that all hh0 data are the same within each dataframe\n",
    "i.e. that all hh0 of coarseData are the same and that all hh0 data of linecut_f_raw are the same"
   ]
  },
  {
   "cell_type": "code",
   "execution_count": 23,
   "metadata": {
    "Collapsed": "false"
   },
   "outputs": [],
   "source": [
    "nData_raw = [coarseData,linecut_f_raw]\n",
    "for data_idx in range(len(nData_raw)):# for each dataset\n",
    "    for _, row in nData_raw[data_idx].iterrows():# loop over all rows\n",
    "        if not np.array_equal(row.spectra.hh0,nData_raw[data_idx].spectra[0].hh0):\n",
    "        # and compare the array of hh0 of that row with that of the first row\n",
    "            print(row)# print the row if the two arrays are *not* equal\n",
    "            # should output nothing, which means that all arrays of hh0 are the same *within a dataset*"
   ]
  },
  {
   "cell_type": "markdown",
   "metadata": {
    "Collapsed": "false"
   },
   "source": [
    "#### Then check that hh0 data of coarseData differ from that of linecut_f_raw\n",
    "We do not need to loop over all rows since we have shown in the previous cell that all rows are the same within a dataset"
   ]
  },
  {
   "cell_type": "code",
   "execution_count": 24,
   "metadata": {
    "Collapsed": "false"
   },
   "outputs": [
    {
     "name": "stdout",
     "output_type": "stream",
     "text": [
      "The arrarys of hh0 are not the same in both datasets\n"
     ]
    }
   ],
   "source": [
    "if not np.array_equal(coarseData.spectra[0].hh0,linecut_f_raw.spectra[0].hh0):\n",
    "# compare the hh0 arrays of the first row of both datasets\n",
    "    print(\"The arrarys of hh0 are not the same in both datasets\")"
   ]
  },
  {
   "cell_type": "markdown",
   "metadata": {
    "Collapsed": "false"
   },
   "source": [
    "### Which datasets to analyze and how? \n",
    "\n",
    "#### Update 2020-04-06\n",
    "In fact, ignore the coarse dataset, as it will require a lot of efforts for a minimal result.\n",
    "More interesting would be to analyze the linecut_f dataset at each (hh0) peak position, for h = 6, 8, 10.\n",
    "\n",
    "##### Update 2020-04-03\n",
    "treat both datasets independently in terms of the plotting and fitting\n",
    "\n",
    "##### Outdated ideas\n",
    "involving treating both datasets together, which will make things more complicated, and therefore increases the risks of making errors, in addition to increasing the time required for the analysis:\n",
    "* interpolate spectra of coarseData so that its hh0 array is the same as that of linecut_f_raw\n",
    "* rescale the data, if there is a physical way to do it, otherwise simply treat both datasets separately"
   ]
  },
  {
   "cell_type": "markdown",
   "metadata": {
    "Collapsed": "false"
   },
   "source": [
    "### Truely \"deep\" copy of linecut_f\n",
    "such that linecut_f_raw will *not* be modified if lcf_copy is modified\n",
    "\n",
    "The best way to truely, i.e. recursively, deep copy a python object is to `pickle.dump` and `pickle.load` it. \n",
    "That is because `cPickle` is the fastest, as shown [here](https://stackoverflow.com/questions/1410615/copy-deepcopy-vs-pickle),  *and* **in Python 3**, `cPickle` is the default behavior of `pickle`, as explained [here](https://askubuntu.com/a/804618).\n",
    "See also hacks.ipynb, and [here](https://stackoverflow.com/questions/52708341/make-a-truly-deep-copy-of-a-pandas-series). "
   ]
  },
  {
   "cell_type": "code",
   "execution_count": 25,
   "metadata": {
    "Collapsed": "false"
   },
   "outputs": [
    {
     "data": {
      "text/html": [
       "<div>\n",
       "<style scoped>\n",
       "    .dataframe tbody tr th:only-of-type {\n",
       "        vertical-align: middle;\n",
       "    }\n",
       "\n",
       "    .dataframe tbody tr th {\n",
       "        vertical-align: top;\n",
       "    }\n",
       "\n",
       "    .dataframe thead th {\n",
       "        text-align: right;\n",
       "    }\n",
       "</style>\n",
       "<table border=\"1\" class=\"dataframe\">\n",
       "  <thead>\n",
       "    <tr style=\"text-align: right;\">\n",
       "      <th></th>\n",
       "      <th>filename</th>\n",
       "      <th>T (K)</th>\n",
       "      <th>H (T)</th>\n",
       "      <th>Proton charge</th>\n",
       "      <th>spectra</th>\n",
       "    </tr>\n",
       "  </thead>\n",
       "  <tbody>\n",
       "    <tr>\n",
       "      <th>0</th>\n",
       "      <td>HH0_88631.txt</td>\n",
       "      <td>0.605973</td>\n",
       "      <td>0.000000</td>\n",
       "      <td>1.312139</td>\n",
       "      <td>hh0    I   dI\n",
       "0    -12.99880  0.0  ...</td>\n",
       "    </tr>\n",
       "    <tr>\n",
       "      <th>1</th>\n",
       "      <td>HH0_88632.txt</td>\n",
       "      <td>0.613334</td>\n",
       "      <td>0.049998</td>\n",
       "      <td>0.800119</td>\n",
       "      <td>hh0    I   dI\n",
       "0    -12.99880  0.0  ...</td>\n",
       "    </tr>\n",
       "    <tr>\n",
       "      <th>2</th>\n",
       "      <td>HH0_88633.txt</td>\n",
       "      <td>0.605727</td>\n",
       "      <td>0.099996</td>\n",
       "      <td>0.083534</td>\n",
       "      <td>hh0    I   dI\n",
       "0    -12.99880  0.0  ...</td>\n",
       "    </tr>\n",
       "    <tr>\n",
       "      <th>3</th>\n",
       "      <td>HH0_88634.txt</td>\n",
       "      <td>0.625493</td>\n",
       "      <td>0.099996</td>\n",
       "      <td>0.800739</td>\n",
       "      <td>hh0    I   dI\n",
       "0    -12.99880  0.0  ...</td>\n",
       "    </tr>\n",
       "    <tr>\n",
       "      <th>4</th>\n",
       "      <td>HH0_88635.txt</td>\n",
       "      <td>0.618220</td>\n",
       "      <td>0.150005</td>\n",
       "      <td>0.801294</td>\n",
       "      <td>hh0    I   dI\n",
       "0    -12.99880  0.0  ...</td>\n",
       "    </tr>\n",
       "  </tbody>\n",
       "</table>\n",
       "</div>"
      ],
      "text/plain": [
       "        filename     T (K)     H (T)  Proton charge  \\\n",
       "0  HH0_88631.txt  0.605973  0.000000       1.312139   \n",
       "1  HH0_88632.txt  0.613334  0.049998       0.800119   \n",
       "2  HH0_88633.txt  0.605727  0.099996       0.083534   \n",
       "3  HH0_88634.txt  0.625493  0.099996       0.800739   \n",
       "4  HH0_88635.txt  0.618220  0.150005       0.801294   \n",
       "\n",
       "                                             spectra  \n",
       "0             hh0    I   dI\n",
       "0    -12.99880  0.0  ...  \n",
       "1             hh0    I   dI\n",
       "0    -12.99880  0.0  ...  \n",
       "2             hh0    I   dI\n",
       "0    -12.99880  0.0  ...  \n",
       "3             hh0    I   dI\n",
       "0    -12.99880  0.0  ...  \n",
       "4             hh0    I   dI\n",
       "0    -12.99880  0.0  ...  "
      ]
     },
     "execution_count": 25,
     "metadata": {},
     "output_type": "execute_result"
    }
   ],
   "source": [
    "lcf_copy = pickle.loads(pickle.dumps(linecut_f_raw))# fastest python hack to create a truely deep copy\n",
    "# lcf stands for linecut_f, which is the name of the file from which the data was imported\n",
    "# idx = 5\n",
    "lcf_copy.head()#.loc[idx:idx+10]"
   ]
  },
  {
   "cell_type": "markdown",
   "metadata": {
    "Collapsed": "false"
   },
   "source": [
    "### Data rescaling\n",
    "This used to be done manually, after noticing that the intensity of the data at 0T was higher than that of the rest of the data. A factor of 0.635 was then used to rescale this spectrum to the level of other data. \n",
    "However, after getting the up-to-date data, it appears that the scaling factor is merely the proton charge, which is a proxy for the counting time of neutrons. With this information, it turns out that the ratio of Proton charges of the spectrum at 0T and that at 0.05T is 1.3 to 0.8. The rescaling factor of the former is thus 0.8/1.3=0.615. Hence the empirical value of 0.635 was a pretty good guess!"
   ]
  },
  {
   "cell_type": "code",
   "execution_count": 27,
   "metadata": {
    "Collapsed": "false"
   },
   "outputs": [
    {
     "data": {
      "text/html": [
       "<div>\n",
       "<style scoped>\n",
       "    .dataframe tbody tr th:only-of-type {\n",
       "        vertical-align: middle;\n",
       "    }\n",
       "\n",
       "    .dataframe tbody tr th {\n",
       "        vertical-align: top;\n",
       "    }\n",
       "\n",
       "    .dataframe thead th {\n",
       "        text-align: right;\n",
       "    }\n",
       "</style>\n",
       "<table border=\"1\" class=\"dataframe\">\n",
       "  <thead>\n",
       "    <tr style=\"text-align: right;\">\n",
       "      <th></th>\n",
       "      <th>hh0</th>\n",
       "      <th>I</th>\n",
       "      <th>dI</th>\n",
       "      <th>Inorm</th>\n",
       "      <th>dInorm</th>\n",
       "    </tr>\n",
       "  </thead>\n",
       "  <tbody>\n",
       "    <tr>\n",
       "      <th>1200</th>\n",
       "      <td>-9.99875</td>\n",
       "      <td>1261600.0</td>\n",
       "      <td>94684.7</td>\n",
       "      <td>9.614833e+05</td>\n",
       "      <td>72160.557743</td>\n",
       "    </tr>\n",
       "    <tr>\n",
       "      <th>1201</th>\n",
       "      <td>-9.99625</td>\n",
       "      <td>1230390.0</td>\n",
       "      <td>98819.2</td>\n",
       "      <td>9.376977e+05</td>\n",
       "      <td>75311.519049</td>\n",
       "    </tr>\n",
       "    <tr>\n",
       "      <th>1202</th>\n",
       "      <td>-9.99375</td>\n",
       "      <td>1448420.0</td>\n",
       "      <td>109920.0</td>\n",
       "      <td>1.103862e+06</td>\n",
       "      <td>83771.596753</td>\n",
       "    </tr>\n",
       "    <tr>\n",
       "      <th>1203</th>\n",
       "      <td>-9.99125</td>\n",
       "      <td>2141070.0</td>\n",
       "      <td>124810.0</td>\n",
       "      <td>1.631740e+06</td>\n",
       "      <td>95119.477718</td>\n",
       "    </tr>\n",
       "    <tr>\n",
       "      <th>1204</th>\n",
       "      <td>-9.98875</td>\n",
       "      <td>2560080.0</td>\n",
       "      <td>141466.0</td>\n",
       "      <td>1.951073e+06</td>\n",
       "      <td>107813.252422</td>\n",
       "    </tr>\n",
       "    <tr>\n",
       "      <th>1205</th>\n",
       "      <td>-9.98625</td>\n",
       "      <td>4044660.0</td>\n",
       "      <td>169302.0</td>\n",
       "      <td>3.082493e+06</td>\n",
       "      <td>129027.464278</td>\n",
       "    </tr>\n",
       "  </tbody>\n",
       "</table>\n",
       "</div>"
      ],
      "text/plain": [
       "          hh0          I        dI         Inorm         dInorm\n",
       "1200 -9.99875  1261600.0   94684.7  9.614833e+05   72160.557743\n",
       "1201 -9.99625  1230390.0   98819.2  9.376977e+05   75311.519049\n",
       "1202 -9.99375  1448420.0  109920.0  1.103862e+06   83771.596753\n",
       "1203 -9.99125  2141070.0  124810.0  1.631740e+06   95119.477718\n",
       "1204 -9.98875  2560080.0  141466.0  1.951073e+06  107813.252422\n",
       "1205 -9.98625  4044660.0  169302.0  3.082493e+06  129027.464278"
      ]
     },
     "execution_count": 27,
     "metadata": {},
     "output_type": "execute_result"
    }
   ],
   "source": [
    "##### Rescale data according to their Proton charge\n",
    "for idx, row in lcf_copy.iterrows():\n",
    "    row.spectra['Inorm'] = row.spectra.I/row['Proton charge']\n",
    "    row.spectra['dInorm'] = row.spectra.dI/row['Proton charge']\n",
    "#     print(idx, row['spectra']['I'])\n",
    "idx = 1200# index that allows to look at data close to the (10 10 0) peak\n",
    "lcf_copy.spectra[0].loc[idx:idx+5]# check one of the resulting dataframes"
   ]
  },
  {
   "cell_type": "markdown",
   "metadata": {
    "Collapsed": "false"
   },
   "source": [
    "### Find bad data, if any\n",
    "#### Identify datasets with zero intensity and create a new \"clean\" dataset without bad data"
   ]
  },
  {
   "cell_type": "code",
   "execution_count": 28,
   "metadata": {
    "Collapsed": "false"
   },
   "outputs": [
    {
     "name": "stdout",
     "output_type": "stream",
     "text": [
      "84\n"
     ]
    }
   ],
   "source": [
    "lcf_clean = lcf_copy.copy()\n",
    "# this is a deepcopy according to Pandas, which is only deep at the lowest order, i.e. not recursively\n",
    "for idx, row in lcf_copy.iterrows():# loop over all spectra\n",
    "    if not np.any(row.spectra.Inorm>0):# if any spectrum has a constant zero intensity\n",
    "        lcf_clean = lcf_copy.drop(idx)\n",
    "        print(idx)# output the row index of lcf_copy containing empty data\n",
    "# lcf_copy.spectra[0].Inorm"
   ]
  },
  {
   "cell_type": "markdown",
   "metadata": {
    "Collapsed": "false"
   },
   "source": [
    "#### Batch plot the rest of the spectra to identify other potential bad data"
   ]
  },
  {
   "cell_type": "code",
   "execution_count": 29,
   "metadata": {
    "Collapsed": "false"
   },
   "outputs": [],
   "source": [
    "%matplotlib qt\n",
    "# plot figures in external window"
   ]
  },
  {
   "cell_type": "markdown",
   "metadata": {
    "Collapsed": "false"
   },
   "source": [
    "##### Plot spectra by groups of nSpec\n",
    "to see if any spectrum differs from the others.\n",
    "This method may fail if there are more than nSpec bad consecutive spectra. Hence nSpec should not be too small (5 or more should be good)"
   ]
  },
  {
   "cell_type": "code",
   "execution_count": 30,
   "metadata": {
    "Collapsed": "false"
   },
   "outputs": [],
   "source": [
    "nSpec = 7# number of curves in each plot\n",
    "nfig = len(lcf_clean)//nSpec+1\n",
    "fig = [None]*(nfig)\n",
    "lgd = [None]*(nfig)\n",
    "for fidx in range(1):#range(nfig):\n",
    "    fig[fidx] = plt.figure()\n",
    "    ax = fig[fidx].add_subplot(1,1,1)\n",
    "    for pidx in range(nSpec*fidx,nSpec*(fidx+1)):\n",
    "        try:\n",
    "            plt.plot(lcf_clean.spectra[pidx].hh0,lcf_clean.spectra[pidx].Inorm,\\\n",
    "                     label=f\"{pidx}, {lcf_clean['H (T)'][pidx]:.2f}\")\n",
    "        except KeyError:# if the index of data to be plotted does not exist\n",
    "            continue# ignore and carry on to the next one\n",
    "    plt.xlim(-10.25,-5.75)\n",
    "    lgd[fidx] = ax.legend(title='Index, H (T)')\n",
    "    lgd[fidx].set_draggable(True)\n",
    "    plt.show()# ensures that all windows come to the foreground"
   ]
  },
  {
   "cell_type": "markdown",
   "metadata": {
    "Collapsed": "false"
   },
   "source": [
    "##### Notes --- 2020-04-07\n",
    "* After plotting all spectra together, it appears that only spectra #2 and #85 are \"bad\": the former is very noisy (not too surprising given that its Proton charge is 1/10 of the other data) and the latter has a lower intensity than the other spectra (for an unknown reason).\n",
    "* Both those bad spectra were identified during the measurement, such that another (good) spectrum was measured at both values of magnetic field at which those bad spectra had been measured. Concretely, spectrum #2 was measured at 0.1T and #85 at 0.865T but are bad. Spectra #3 and #104 were also measured at 0.1T and 0.865T, respectively, and are good. Hence, the two bad spectra should just be discarded, there is no reason to try and process them in order to try and make them good: first because there is no way of making good data out of bad data (bad data is just bad data), so it would be a waste of time, and potentially a lot of time, but it would also be complicated, and because the result cannot be good, it can only influence the result of the subsequent fits in a bad way, thus inducing distrust on the results obtained over the whole dataset instead of just two spectra. Bottom line: discard spectra #2 and #85."
   ]
  },
  {
   "cell_type": "markdown",
   "metadata": {
    "Collapsed": "false"
   },
   "source": [
    "### Remove bad data \n",
    "as identified in batch plotting"
   ]
  },
  {
   "cell_type": "code",
   "execution_count": 18,
   "metadata": {
    "Collapsed": "false"
   },
   "outputs": [],
   "source": [
    "delRowIdx = [2,85]# index of data to remove\n",
    "lcf_clean.drop(delRowIdx,inplace=True)"
   ]
  },
  {
   "cell_type": "markdown",
   "metadata": {
    "Collapsed": "false"
   },
   "source": [
    "### Final clean dataset\n",
    "#### Sorted by value of magnetic field"
   ]
  },
  {
   "cell_type": "code",
   "execution_count": 19,
   "metadata": {
    "Collapsed": "false"
   },
   "outputs": [],
   "source": [
    "nData = lcf_clean.sort_values(by=['H (T)'],ignore_index=True)\n",
    "# lcf_clean.head()# nData stands for \"neutrons Data\""
   ]
  },
  {
   "cell_type": "markdown",
   "metadata": {
    "Collapsed": "false"
   },
   "source": [
    "#### Plot a couple of ENS spectra (ignore after done once)\n",
    "to check consistency between spectra before fitting"
   ]
  },
  {
   "cell_type": "raw",
   "metadata": {
    "Collapsed": "false"
   },
   "source": [
    "# Change cell to Raw type in order to avoid running inadvertantly\n",
    "plt.cla()\n",
    "for idx in range(2):\n",
    "    plt.plot(nData.spectra[idx].hh0,nData.spectra[idx].Inorm)"
   ]
  },
  {
   "cell_type": "markdown",
   "metadata": {
    "Collapsed": "true"
   },
   "source": [
    "### Plot entire dataset in 3D\n",
    "as spectrum normalized intensity 'Inorm' vs position in reciprocal space 'hh0' and magnetic field 'H (T)', to check that the field dependence of the data is consistent.\n",
    "#### Ignore after done once\n",
    "Change cells to Raw type in order to avoid running inadvertantly"
   ]
  },
  {
   "cell_type": "markdown",
   "metadata": {
    "Collapsed": "false"
   },
   "source": [
    "#### First plot individual spectra in a 3D space"
   ]
  },
  {
   "cell_type": "raw",
   "metadata": {
    "Collapsed": "false"
   },
   "source": [
    "fig = plt.figure()\n",
    "ax = plt.axes(projection=\"3d\")\n",
    "for i in range(len(nData)):\n",
    "    H = np.ones(np.shape(nData.spectra[i].hh0))*nData['H (T)'][i]\n",
    "    ax.plot3D(nData.spectra[i].hh0,H,nData.spectra[i].Inorm)\n",
    "del H"
   ]
  },
  {
   "cell_type": "markdown",
   "metadata": {
    "Collapsed": "false"
   },
   "source": [
    "#### Then plot 3D color map\n",
    "##### Create meshgrid for 3D color map\n",
    "The mesh can safely be created using hh0 data from the dataset measured at any value of magnetic field, since we've shown [that all hh0 data are the same within the linecut_f dataframe](#hh0_consistency)"
   ]
  },
  {
   "cell_type": "raw",
   "metadata": {
    "Collapsed": "false"
   },
   "source": [
    "idx = 0# first dataset, but any row index of nData would do\n",
    "hh0mesh, Hmesh = np.meshgrid(nData.spectra[idx].hh0, nData['H (T)'])\n",
    "hh0lin = hh0mesh.reshape(np.size(hh0mesh))\n",
    "Hlin = Hmesh.reshape(np.size(Hmesh))"
   ]
  },
  {
   "cell_type": "markdown",
   "metadata": {
    "Collapsed": "false"
   },
   "source": [
    "##### Create the 2D array that contains the intensity data"
   ]
  },
  {
   "cell_type": "raw",
   "metadata": {
    "Collapsed": "false"
   },
   "source": [
    "Imesh = np.stack([nData.spectra[idx].Inorm for idx in range(len(nData))],axis=0)# for mesh\n",
    "Ilin = np.hstack([nData.spectra[idx].Inorm for idx in range(len(nData))])# for griddata"
   ]
  },
  {
   "cell_type": "markdown",
   "metadata": {
    "Collapsed": "false"
   },
   "source": [
    "##### Plot the hh0mesh and Hmesh data to see how irregular they are"
   ]
  },
  {
   "cell_type": "raw",
   "metadata": {
    "Collapsed": "false"
   },
   "source": [
    "fig = plt.figure()\n",
    "ax = fig.add_subplot(1,1,1)\n",
    "step = 50\n",
    "ax.scatter(hh0mesh[:,::step], Hmesh[:,::step], marker=\".\",s=1)\n",
    "ax.set_xlabel('hh0')\n",
    "ax.set_ylabel('H')\n",
    "plt.show()"
   ]
  },
  {
   "cell_type": "markdown",
   "metadata": {
    "Collapsed": "false"
   },
   "source": [
    "##### Conclusion\n",
    "The hh0 data looks pretty regular, however the magnetic field data is not\n",
    "##### Update\n",
    "That should not prevent from plotting in 3D"
   ]
  },
  {
   "cell_type": "markdown",
   "metadata": {
    "Collapsed": "false"
   },
   "source": [
    "#### Use griddata to interpolate the intensity data over a regular array"
   ]
  },
  {
   "cell_type": "raw",
   "metadata": {
    "Collapsed": "false"
   },
   "source": [
    "Hrange = np.arange(0,1.5,0.005)# regular array of magnetic field values to interpolate on\n",
    "hh0meshInterp, HmeshInterp = np.meshgrid(nData.spectra[idx].hh0, Hrange)# meshgrid for interpolated data\n",
    "Iinterp = griddata(np.array([hh0lin, Hlin]).T, Ilin, (hh0meshInterp, HmeshInterp), method='linear')"
   ]
  },
  {
   "cell_type": "markdown",
   "metadata": {
    "Collapsed": "false"
   },
   "source": [
    "#### Plot 3D surface\n",
    "Note: Matplotlib does not do a very good job of plotting the 3D surface when the xlim is not adapted to the range of the data and when there is noise in the data: in our case, it looks like spectra are plotted individually rather than as a continuous surface. When zooming on each peak, the surface looks a little better. Perhaps look for a better 3D visualization tool."
   ]
  },
  {
   "cell_type": "raw",
   "metadata": {
    "Collapsed": "false"
   },
   "source": [
    "fig = plt.figure()\n",
    "ax = fig.gca(projection='3d')\n",
    "mesh_select = np.logical_and(hh0mesh > -10.1, hh0mesh < -9.9)\n",
    "# surf = ax.plot_surface(np.where(mesh_select,hh0mesh,np.nan),\n",
    "#                        np.where(mesh_select,Hmesh,np.nan),\n",
    "#                        np.where(mesh_select,Imesh,np.nan),\n",
    "#                        cmap=cm.coolwarm,\n",
    "#                        linewidth=0, antialiased=False)\n",
    "surf = ax.plot_surface(hh0mesh,Hmesh,Imesh, cmap=cm.rainbow)\n",
    "# surf = ax.plot_surface(hh0meshInterp,HmeshInterp,Iinterp, cmap=cm.coolwarm)\n",
    "# ax.zaxis.set_major_locator(LinearLocator(10))\n",
    "# ax.zaxis.set_major_formatter(FormatStrFormatter('%.2g'))\n",
    "plt.xlim(-10.1, -9.9)\n",
    "# Add a color bar which maps values to colors.\n",
    "fig.colorbar(surf, shrink=0.5, aspect=5)\n",
    "plt.show()"
   ]
  },
  {
   "cell_type": "markdown",
   "metadata": {
    "Collapsed": "false"
   },
   "source": [
    "#### Matplotlib example of 3D surface plotting"
   ]
  },
  {
   "cell_type": "raw",
   "metadata": {
    "Collapsed": "false"
   },
   "source": [
    "fig = plt.figure()\n",
    "ax = fig.gca(projection='3d')\n",
    "\n",
    "# Make data.\n",
    "X = np.arange(-5, 5, 0.25)\n",
    "Y = np.arange(-5, 5, 0.25)\n",
    "X, Y = np.meshgrid(X, Y)\n",
    "R = np.sqrt(X**2 + Y**2)\n",
    "Z = np.sin(R)\n",
    "\n",
    "# Plot the surface.\n",
    "surf = ax.plot_surface(X, Y, Z, cmap=cm.coolwarm,\n",
    "                       linewidth=0, antialiased=False)"
   ]
  },
  {
   "cell_type": "markdown",
   "metadata": {
    "Collapsed": "true"
   },
   "source": [
    "## Fit individual dataset above Hc"
   ]
  },
  {
   "cell_type": "markdown",
   "metadata": {
    "Collapsed": "true"
   },
   "source": [
    "### Define fit result plotting function"
   ]
  },
  {
   "cell_type": "code",
   "execution_count": 31,
   "metadata": {
    "Collapsed": "false"
   },
   "outputs": [],
   "source": [
    "def plot_fit_result(x, y, fitresult):\n",
    "    \"\"\"\n",
    "    Plot result of fit using an lmfit Model object\n",
    "    \"\"\"\n",
    "    fig = plt.figure()\n",
    "    plt.plot(x, y, 'bo')\n",
    "    plt.plot(x, fitresult.init_fit, 'k--', label='initial fit')\n",
    "    plt.plot(x, fitresult.best_fit, 'r-', label='best fit')\n",
    "    plt.legend(loc='best')\n",
    "    plt.show()\n",
    "    "
   ]
  },
  {
   "cell_type": "markdown",
   "metadata": {
    "Collapsed": "true"
   },
   "source": [
    "#### Attempt to an iteration callback function\n",
    "Does not work as of 2020-04-14"
   ]
  },
  {
   "cell_type": "code",
   "execution_count": 35,
   "metadata": {
    "Collapsed": "false"
   },
   "outputs": [],
   "source": [
    "def iter_func(params, iter_num, resid, x):\n",
    "    print(iter_num)\n",
    "    return True"
   ]
  },
  {
   "cell_type": "markdown",
   "metadata": {
    "Collapsed": "true"
   },
   "source": [
    "### Fit example adapted from the lmfit documentation \n",
    "(section \"Modeling Data and Curve Fitting)"
   ]
  },
  {
   "cell_type": "code",
   "execution_count": 30,
   "metadata": {
    "Collapsed": "false"
   },
   "outputs": [
    {
     "name": "stdout",
     "output_type": "stream",
     "text": [
      "parameter names: ['amp', 'cen', 'wid']\n",
      "independent variables: ['x']\n"
     ]
    },
    {
     "data": {
      "text/html": [
       "<table><tr><th> name </th><th> value </th><th> initial value </th><th> min </th><th> max </th><th> vary </th></tr><tr><td> amp </td><td>  20.0000000 </td><td> None </td><td>        -inf </td><td>         inf </td><td> True </td></tr><tr><td> cen </td><td>  5.00000000 </td><td> None </td><td>        -inf </td><td>         inf </td><td> True </td></tr><tr><td> wid </td><td>  1.00000000 </td><td> None </td><td>        -inf </td><td>         inf </td><td> True </td></tr></table>"
      ],
      "text/plain": [
       "Parameters([('amp', <Parameter 'amp', value=20, bounds=[-inf:inf]>),\n",
       "            ('cen', <Parameter 'cen', value=5, bounds=[-inf:inf]>),\n",
       "            ('wid', <Parameter 'wid', value=1, bounds=[-inf:inf]>)])"
      ]
     },
     "execution_count": 30,
     "metadata": {},
     "output_type": "execute_result"
    }
   ],
   "source": [
    "def gaussian(x, amp, cen, wid):\n",
    "    return amp * np.exp(-(x-cen)**2 / wid)\n",
    "gmodel = Model(gaussian)\n",
    "print('parameter names: {}'.format(gmodel.param_names))\n",
    "print('independent variables: {}'.format(gmodel.independent_vars))\n",
    "gparams = gmodel.make_params(cen=5, amp=20, wid=1)\n",
    "gparams"
   ]
  },
  {
   "cell_type": "code",
   "execution_count": 31,
   "metadata": {
    "Collapsed": "false"
   },
   "outputs": [
    {
     "name": "stdout",
     "output_type": "stream",
     "text": [
      "[[Model]]\n",
      "    Model(gaussian)\n",
      "[[Fit Statistics]]\n",
      "    # fitting method   = leastsq\n",
      "    # function evals   = 17\n",
      "    # data points      = 101\n",
      "    # variables        = 3\n",
      "    chi-square         = 8.43330605\n",
      "    reduced chi-square = 0.08605414\n",
      "    Akaike info crit   = -244.776096\n",
      "    Bayesian info crit = -236.930735\n",
      "[[Variables]]\n",
      "    amp:  19.9229410 +/- 0.10155032 (0.51%) (init = 5)\n",
      "    cen:  4.99454353 +/- 0.00415645 (0.08%) (init = 5)\n",
      "    wid:  0.99742555 +/- 0.01174109 (1.18%) (init = 1)\n",
      "[[Correlations]] (unreported correlations are < 0.100)\n",
      "    C(amp, wid) = -0.577\n"
     ]
    }
   ],
   "source": [
    "x = np.linspace(0,10,101)\n",
    "noise = np.random.rand(101)-0.5\n",
    "y = gaussian(x,amp=20,cen=5,wid=1)+noise\n",
    "# fig = plt.figure()\n",
    "# plt.plot(x, y)\n",
    "# plt.show()\n",
    "result = gmodel.fit(y, x=x, amp=5, cen=5, wid=1)\n",
    "print(result.fit_report())\n",
    "plot_fit_result(x, y, result)"
   ]
  },
  {
   "cell_type": "markdown",
   "metadata": {
    "Collapsed": "false"
   },
   "source": [
    "### General parameters for our problem"
   ]
  },
  {
   "cell_type": "code",
   "execution_count": 34,
   "metadata": {
    "Collapsed": "false"
   },
   "outputs": [],
   "source": [
    "peak_center = -8.0# center of unsplit peak to be studied in the following, in reciprocal space units\n",
    "npeak_interval = .15# half of plot interval\n",
    "Hc_0 = 0.51# value in Tesla units of the critical field at zero temperature\n",
    "# in the absence of demagnetizing factor\n",
    "# see data taken on needles of TmVO4-LS5200 in July 2017"
   ]
  },
  {
   "cell_type": "markdown",
   "metadata": {
    "Collapsed": "false"
   },
   "source": [
    "### Single-peak fit with single pVIC function on single spectrum\n",
    "measured above Hc, where the peaks are unsplit"
   ]
  },
  {
   "cell_type": "markdown",
   "metadata": {
    "Collapsed": "true"
   },
   "source": [
    "#### Select data"
   ]
  },
  {
   "cell_type": "code",
   "execution_count": 37,
   "metadata": {
    "Collapsed": "false"
   },
   "outputs": [
    {
     "data": {
      "text/plain": [
       "1940   -8.14875\n",
       "1941   -8.14625\n",
       "1942   -8.14375\n",
       "1943   -8.14125\n",
       "1944   -8.13875\n",
       "Name: hh0, dtype: float64"
      ]
     },
     "execution_count": 37,
     "metadata": {},
     "output_type": "execute_result"
    }
   ],
   "source": [
    "dat_idx = 100\n",
    "data_select = np.logical_and(nData.spectra[dat_idx].hh0 > peak_center - npeak_interval, \n",
    "                             nData.spectra[dat_idx].hh0 < peak_center + npeak_interval)\n",
    "X = nData.spectra[dat_idx].hh0[data_select]# select data for first fit\n",
    "Yfitdata = nData.spectra[dat_idx].Inorm[data_select]\n",
    "X.head()"
   ]
  },
  {
   "cell_type": "markdown",
   "metadata": {
    "Collapsed": "false"
   },
   "source": [
    "#### Perform fit with Gaussian model as a first try"
   ]
  },
  {
   "cell_type": "code",
   "execution_count": 33,
   "metadata": {
    "Collapsed": "false"
   },
   "outputs": [
    {
     "name": "stdout",
     "output_type": "stream",
     "text": [
      "[[Model]]\n",
      "    Model(gaussian)\n",
      "[[Fit Statistics]]\n",
      "    # fitting method   = leastsq\n",
      "    # function evals   = 33\n",
      "    # data points      = 120\n",
      "    # variables        = 3\n",
      "    chi-square         = 2.6305e+12\n",
      "    reduced chi-square = 2.2483e+10\n",
      "    Akaike info crit   = 2863.28327\n",
      "    Bayesian info crit = 2871.64575\n",
      "[[Variables]]\n",
      "    amp:  4232624.39 +/- 61044.4590 (1.44%) (init = 4000000)\n",
      "    cen: -7.99724868 +/- 2.1258e-04 (0.00%) (init = -8)\n",
      "    wid:  3.2588e-04 +/- 1.0854e-05 (3.33%) (init = 0.001)\n",
      "[[Correlations]] (unreported correlations are < 0.100)\n",
      "    C(amp, wid) = -0.577\n"
     ]
    }
   ],
   "source": [
    "np.seterr(all='warn')# Set how floating-point errors are handled\n",
    "# Setting warnings will help identify computation issues that may result in an unsuccessful fitting procedure\n",
    "ngparams = gmodel.make_params(cen=peak_center, amp=4e6, wid=1e-3)\n",
    "# Yeval = gmodel.eval(ngparams,x=X)# evaluate model using initial parameters\n",
    "result = gmodel.fit(data=Yfitdata, params=ngparams, x=X)\n",
    "print(result.fit_report())\n",
    "plot_fit_result(X, Yfitdata, result)"
   ]
  },
  {
   "cell_type": "markdown",
   "metadata": {
    "Collapsed": "false"
   },
   "source": [
    "#### Single pVIC fit model"
   ]
  },
  {
   "cell_type": "markdown",
   "metadata": {
    "Collapsed": "false"
   },
   "source": [
    "##### Make model from fit function"
   ]
  },
  {
   "cell_type": "code",
   "execution_count": 32,
   "metadata": {
    "Collapsed": "false"
   },
   "outputs": [
    {
     "name": "stdout",
     "output_type": "stream",
     "text": [
      "parameter names: ['A', 'alpha', 'beta', 'R', 'gamma', 'sigma', 'k', 'xp']\n",
      "independent variables: ['x']\n"
     ]
    }
   ],
   "source": [
    "from ENS_peak_fit_pVIC_py.pseudoVoigtIkedaCarpenter import pVIC, xpVIC_residual, xpVIC_init_prm\n",
    "pvic_model = Model(pVIC)# create Model object from the lmfit module\n",
    "print(f'parameter names: {pvic_model.param_names}')\n",
    "print(f'independent variables: {pvic_model.independent_vars}')"
   ]
  },
  {
   "cell_type": "markdown",
   "metadata": {
    "Collapsed": "false"
   },
   "source": [
    "#### Fit parameters\n",
    "##### Create fit parameters and specify their properties\n",
    "including initial values, constraints, etc."
   ]
  },
  {
   "cell_type": "code",
   "execution_count": 35,
   "metadata": {
    "Collapsed": "false"
   },
   "outputs": [
    {
     "data": {
      "text/html": [
       "<table><tr><th> name </th><th> value </th><th> initial value </th><th> min </th><th> max </th><th> vary </th></tr><tr><td> A </td><td>  200000.000 </td><td> None </td><td>  0.00000000 </td><td>         inf </td><td> True </td></tr><tr><td> alpha </td><td>  140.000000 </td><td> None </td><td>  0.00000000 </td><td>         inf </td><td> True </td></tr><tr><td> beta </td><td>  1.0000e-03 </td><td> None </td><td>  0.00000000 </td><td>         inf </td><td> True </td></tr><tr><td> R </td><td>  1.0000e-03 </td><td> None </td><td>  0.00000000 </td><td>         inf </td><td> True </td></tr><tr><td> gamma </td><td>  1.0000e-03 </td><td> None </td><td>  0.00000000 </td><td>         inf </td><td> True </td></tr><tr><td> sigma </td><td>  0.00660000 </td><td> None </td><td>  0.00000000 </td><td>         inf </td><td> True </td></tr><tr><td> k </td><td>  0.05000000 </td><td> None </td><td>  0.00000000 </td><td>         inf </td><td> False </td></tr><tr><td> xp </td><td> -8.00000000 </td><td> None </td><td>        -inf </td><td>         inf </td><td> True </td></tr></table>"
      ],
      "text/plain": [
       "Parameters([('A', <Parameter 'A', value=200000.0, bounds=[0:inf]>),\n",
       "            ('alpha', <Parameter 'alpha', value=140, bounds=[0:inf]>),\n",
       "            ('beta', <Parameter 'beta', value=0.001, bounds=[0:inf]>),\n",
       "            ('R', <Parameter 'R', value=0.001, bounds=[0:inf]>),\n",
       "            ('gamma', <Parameter 'gamma', value=0.001, bounds=[0:inf]>),\n",
       "            ('sigma', <Parameter 'sigma', value=0.0066, bounds=[0:inf]>),\n",
       "            ('k', <Parameter 'k', value=0.05 (fixed), bounds=[0:inf]>),\n",
       "            ('xp', <Parameter 'xp', value=-8.0, bounds=[-inf:inf]>)])"
      ]
     },
     "execution_count": 35,
     "metadata": {},
     "output_type": "execute_result"
    }
   ],
   "source": [
    "pvic_params = pvic_model.make_params(A=2e5, alpha=140, beta=1e-3, R=1e-3, \n",
    "                                     gamma=1e-3, sigma=6.6e-3, k=.05, xp=peak_center)\n",
    "# Yfitdata = nData.spectra[0].Inorm\n",
    "# pvic_params = pvic_model.guess(Yfitdata)# returns NotImplementedError\n",
    "for k in pvic_params.keys():\n",
    "    pvic_params[k].set(min=0, vary=True)\n",
    "#     pvic_params[k].init_value = pvic_params[k].value\n",
    "#     print(k)\n",
    "pvic_params['xp'].set(min=-np.inf)\n",
    "pvic_params['k'].vary = False\n",
    "pvic_params"
   ]
  },
  {
   "cell_type": "markdown",
   "metadata": {
    "Collapsed": "true"
   },
   "source": [
    "#### Evaluate fit function"
   ]
  },
  {
   "cell_type": "code",
   "execution_count": 38,
   "metadata": {
    "Collapsed": "false"
   },
   "outputs": [],
   "source": [
    "np.seterr(all='warn')# Set how floating-point errors are handled\n",
    "Yeval = pvic_model.eval(pvic_params,x=X)# evaluate model using initial parameters\n",
    "fig = plt.figure()\n",
    "plt.plot(X,Yeval)\n",
    "plt.plot(X,Yfitdata)\n",
    "plt.show()"
   ]
  },
  {
   "cell_type": "markdown",
   "metadata": {
    "Collapsed": "true"
   },
   "source": [
    "#### Next steps as of 2020-04-14\n",
    "* Play with values of beta to get best fit result; in particular, let beta vary (with max value of 800?)\n",
    "* Is there a way to output the adjusted R**2 of the fit?"
   ]
  },
  {
   "cell_type": "markdown",
   "metadata": {
    "Collapsed": "false"
   },
   "source": [
    "#### Narrowing down the number of free parameters"
   ]
  },
  {
   "cell_type": "markdown",
   "metadata": {
    "Collapsed": "false"
   },
   "source": [
    "##### 7 free parameters\n",
    "all but k"
   ]
  },
  {
   "cell_type": "code",
   "execution_count": 124,
   "metadata": {
    "Collapsed": "false"
   },
   "outputs": [
    {
     "name": "stdout",
     "output_type": "stream",
     "text": [
      "[[Model]]\n",
      "    Model(pVIC)\n",
      "[[Fit Statistics]]\n",
      "    # fitting method   = leastsq\n",
      "    # function evals   = 95\n",
      "    # data points      = 120\n",
      "    # variables        = 5\n",
      "    chi-square         = 3.3204e+11\n",
      "    reduced chi-square = 2.8873e+09\n",
      "    Akaike info crit   = 2618.92465\n",
      "    Bayesian info crit = 2632.86211\n",
      "[[Variables]]\n",
      "    A:      139800.679 +/- 1060.80779 (0.76%) (init = 200000)\n",
      "    alpha:  130.275459 +/- 1.93231449 (1.48%) (init = 140)\n",
      "    beta:   1e-10 (fixed)\n",
      "    R:      0 (fixed)\n",
      "    gamma:  2.2694e-07 +/- 1.8336e-04 (80796.03%) (init = 0.001)\n",
      "    sigma:  0.00596552 +/- 2.3801e-04 (3.99%) (init = 0.0066)\n",
      "    k:      0.05 (fixed)\n",
      "    xp:    -8.01731207 +/- 2.3160e-04 (0.00%) (init = -8)\n",
      "[[Correlations]] (unreported correlations are < 0.100)\n",
      "    C(alpha, xp)    =  0.949\n",
      "    C(A, gamma)     =  0.722\n",
      "    C(gamma, sigma) = -0.480\n",
      "    C(alpha, sigma) =  0.452\n",
      "    C(sigma, xp)    =  0.444\n",
      "    C(alpha, gamma) =  0.394\n",
      "    C(gamma, xp)    =  0.355\n",
      "    C(A, sigma)     = -0.346\n"
     ]
    }
   ],
   "source": [
    "pvic_params['beta'].set(value=1e-10, vary=False)\n",
    "pvic_params['R'].set(value=0, vary=False)\n",
    "# pvic_params\n",
    "result = pvic_model.fit(data=Yfitdata, params=pvic_params, x=X)\n",
    "print(result.fit_report())\n",
    "plot_fit_result(X, Yfitdata, result)"
   ]
  },
  {
   "cell_type": "markdown",
   "metadata": {
    "Collapsed": "false"
   },
   "source": [
    "The above yields too many correlations between parameters\n",
    "The resulting plot also has an unphysical dip in the resulting fit function"
   ]
  },
  {
   "cell_type": "markdown",
   "metadata": {
    "Collapsed": "false"
   },
   "source": [
    "##### 6 free parameters"
   ]
  },
  {
   "cell_type": "code",
   "execution_count": 66,
   "metadata": {
    "Collapsed": "false"
   },
   "outputs": [
    {
     "name": "stdout",
     "output_type": "stream",
     "text": [
      "[[Model]]\n",
      "    Model(pVIC)\n",
      "[[Fit Statistics]]\n",
      "    # fitting method   = leastsq\n",
      "    # function evals   = 105\n",
      "    # data points      = 120\n",
      "    # variables        = 5\n",
      "    chi-square         = 3.3204e+11\n",
      "    reduced chi-square = 2.8873e+09\n",
      "    Akaike info crit   = 2618.92398\n",
      "    Bayesian info crit = 2632.86144\n",
      "[[Variables]]\n",
      "    A:      139800.970 +/- 832.210128 (0.60%) (init = 200000)\n",
      "    alpha:  130.269301 +/- 1.82009419 (1.40%) (init = 140)\n",
      "    beta:   1e-10 (fixed)\n",
      "    R:      0 (fixed)\n",
      "    gamma:  1.0779e-07 +/- 1.4438e-04 (133947.70%) (init = 0.001)\n",
      "    sigma:  0.00596479 +/- 2.2440e-04 (3.76%) (init = 0.0066)\n",
      "    k:      0.05 (fixed)\n",
      "    x0:    -8.01731281 +/- 2.1916e-04 (0.00%) (init = -8)\n",
      "[[Correlations]] (unreported correlations are < 0.100)\n",
      "    C(alpha, x0)    =  0.942\n",
      "    C(alpha, sigma) =  0.641\n",
      "    C(sigma, x0)    =  0.631\n",
      "    C(A, gamma)     =  0.472\n",
      "    C(gamma, sigma) = -0.366\n",
      "    C(A, x0)        = -0.227\n",
      "    C(alpha, gamma) =  0.219\n",
      "    C(A, alpha)     = -0.212\n",
      "    C(A, sigma)     = -0.173\n",
      "    C(gamma, x0)    =  0.156\n"
     ]
    },
    {
     "data": {
      "text/plain": [
       "Text(0.5, 1.0, \"5 free parameters: ['A', 'alpha', 'gamma', 'sigma', 'x0']\")"
      ]
     },
     "execution_count": 66,
     "metadata": {},
     "output_type": "execute_result"
    }
   ],
   "source": [
    "pvic_params['beta'].set(value=1e-10, vary=False)\n",
    "pvic_params['R'].set(value=0, vary=False)\n",
    "result = pvic_model.fit(data=Yfitdata, params=pvic_params, x=X)\n",
    "print(result.fit_report())\n",
    "plot_fit_result(X, Yfitdata, result)\n",
    "freeParams = [k for k in list(pvic_params.keys()) if pvic_params[k].vary==True]\n",
    "plt.title(f\"{len(freeParams)} free parameters: {freeParams}\")"
   ]
  },
  {
   "cell_type": "markdown",
   "metadata": {
    "Collapsed": "false"
   },
   "source": [
    "## Batch fit data above Hc \n",
    "to determine the values of shared parameters"
   ]
  },
  {
   "cell_type": "markdown",
   "metadata": {
    "Collapsed": "true"
   },
   "source": [
    "#### Next steps as of 2020-04-22\n",
    "* Improve multiple curve plotting function so that experimental data and fitting curve have the same color\n",
    "* Then, plot every n curves, such that the total number of curves does not exceed 10 but the full range of data is covered\n",
    "* Copy steps for the (8 8 0) peak and (6 6 0) peaks and rerun"
   ]
  },
  {
   "cell_type": "markdown",
   "metadata": {
    "Collapsed": "true"
   },
   "source": [
    "### Batch fitting functions"
   ]
  },
  {
   "cell_type": "markdown",
   "metadata": {
    "Collapsed": "true"
   },
   "source": [
    "#### Batch fitting data selection"
   ]
  },
  {
   "cell_type": "code",
   "execution_count": 57,
   "metadata": {
    "Collapsed": "false"
   },
   "outputs": [],
   "source": [
    "def xyBatchFitNData(nData, data_range, data_select=None):\n",
    "    \"\"\"\n",
    "    data_range: range of indices of nData datasets to include in fit\n",
    "    \"\"\"\n",
    "    if data_select is None:\n",
    "        X = np.stack([nData.spectra[idx].hh0 for idx in data_range])\n",
    "        Y = np.stack([nData.spectra[idx].Inorm for idx in data_range])\n",
    "    else:\n",
    "        X = np.stack([nData.spectra[idx].hh0[data_select] for idx in data_range])\n",
    "        Y = np.stack([nData.spectra[idx].Inorm[data_select] for idx in data_range])\n",
    "    return X, Y"
   ]
  },
  {
   "cell_type": "markdown",
   "metadata": {
    "Collapsed": "true"
   },
   "source": [
    "#### Batch fitting parameters initialization"
   ]
  },
  {
   "cell_type": "code",
   "execution_count": 117,
   "metadata": {
    "Collapsed": "false"
   },
   "outputs": [],
   "source": [
    "def xFitInitParams(fitParams, refParams, data_range, resultParams=None):\n",
    "    \"\"\"\n",
    "    Initialize parameters for the next fit using the results of the previous fit\n",
    "    and, if necessary, the default values of a reference set of parameters\n",
    "    \"\"\"\n",
    "    # For those parameters that have been computed in the last run, \n",
    "    # use as initial values for the next run the best fit values obtained in the last\n",
    "    if resultParams is not None:\n",
    "        for key in fitParams.keys():\n",
    "            try:\n",
    "                fitParams[key].value = resultParams[key].value\n",
    "            except KeyError: # in case fitParams has been modified since last fitting run\n",
    "                continue\n",
    "\n",
    "    # Create additional fit parameters, e.g. if the number of datasets has been extended\n",
    "    for spec_idx in data_range:\n",
    "    # loop over indices of datasets, in order to create fit parameters for each of them\n",
    "        for k, _ in refParams.items():\n",
    "            if k in ['A', 'xp']:\n",
    "            # fit parameters that are different for each dataset are assigned individual names\n",
    "                par_key = f'{k}{spec_idx}'\n",
    "                if par_key not in fitParams.keys():\n",
    "                    fitParams.add( par_key, value=refParams[k].value, \n",
    "                                      min=refParams[k].min, vary=refParams[k].vary )\n",
    "            elif resultParams is None: # if there are no shared fit parameters, because no fit has been performed yet\n",
    "            # all other parameters are shared by all datasets and are assigned the \"generic\" name from refParams\n",
    "                fitParams[k] = cp.copy(refParams[k])\n",
    "    return fitParams"
   ]
  },
  {
   "cell_type": "markdown",
   "metadata": {
    "Collapsed": "true"
   },
   "source": [
    "#### Compute best parameters from fit result"
   ]
  },
  {
   "cell_type": "code",
   "execution_count": 72,
   "metadata": {
    "Collapsed": "false"
   },
   "outputs": [],
   "source": [
    "def bestFitParams(data_range, refParams, fitResultParams):\n",
    "    num_spec = len(data_range)\n",
    "    bestparams = np.zeros((num_spec,len(refParams)))# shape = # of datasets x # of parameters in fit function (pVIC)\n",
    "    for spec_idx in range(num_spec):\n",
    "        for par_idx, refKey in enumerate(refParams.keys()):\n",
    "            par_key = f'{refKey}{data_range[spec_idx]}' \n",
    "            # parameter name is a concatenation of the generic parameter name,\n",
    "            # as defined in the refParams function, and the spectrum index\n",
    "            try:\n",
    "                bestparams[spec_idx][par_idx] = fitResultParams[par_key].value\n",
    "            except KeyError:\n",
    "                bestparams[spec_idx][par_idx] = fitResultParams[refKey].value\n",
    "    return bestparams"
   ]
  },
  {
   "cell_type": "markdown",
   "metadata": {
    "Collapsed": "true"
   },
   "source": [
    "#### Plot data and fitting curves"
   ]
  },
  {
   "cell_type": "code",
   "execution_count": 165,
   "metadata": {
    "Collapsed": "false"
   },
   "outputs": [],
   "source": [
    "def plotMultipleFit(data_range, xfitdata, yfitdata, fitParams, bestFitParams,  fieldLabel ):\n",
    "    fig = plt.figure()\n",
    "    for idx, spec_idx in enumerate(data_range):\n",
    "        bestfit = pVIC(Xfitdata[idx], *bestFitParams[idx][:8])\n",
    "        plt.plot(Xfitdata[idx], Yfitdata[idx], 'o', label=f\"expt {fieldLabel[spec_idx]:.3f}T\")\n",
    "        plt.plot(Xfitdata[idx], bestfit, '-', label=f\"fit {fieldLabel[spec_idx]:.3f}T\")\n",
    "        plt.legend(loc='best')\n",
    "    plt.show()\n",
    "    freeParams = [k for k in list(fitParams.keys()) if fitParams[k].vary==True]\n",
    "    plt.title(f\"TmVO$_4$ neutrons {len(freeParams)} free parameters\")"
   ]
  },
  {
   "cell_type": "markdown",
   "metadata": {
    "Collapsed": "false"
   },
   "source": [
    "### Batch fitting of single (10 10 0) peak spectra with single pVIC function\n",
    "above Hc\n",
    "\n",
    "This will help fix the value of the parameters shared by all spectra, i.e. alpha, beta, R, gamma and sigma"
   ]
  },
  {
   "cell_type": "markdown",
   "metadata": {
    "Collapsed": "true"
   },
   "source": [
    "#### Dataset selection"
   ]
  },
  {
   "cell_type": "code",
   "execution_count": 41,
   "metadata": {
    "Collapsed": "false"
   },
   "outputs": [],
   "source": [
    "peak_center = -10.0# center of unsplit peak to be studied in the following, in reciprocal space units\n",
    "npeak_interval = .15# half of plot interval\n",
    "data_select = np.logical_and(nData.spectra[dat_idx].hh0 > peak_center - npeak_interval, \n",
    "                             nData.spectra[dat_idx].hh0 < peak_center + npeak_interval)"
   ]
  },
  {
   "cell_type": "markdown",
   "metadata": {
    "Collapsed": "true"
   },
   "source": [
    "#### Create fit parameters and specify their properties\n",
    "including initial values, constraints, etc.\n",
    "Note: when all pVIC parameters (except k) are free, the fit is very sensitive to initial values and can easily produce NaN numbers.\n",
    "The following initial parameters appear to yield a result without raising any error:\n",
    "A=2e5, alpha=140, beta=1e-3, R=1e-3, gamma=1e-3, sigma=6.6e-3, k=.05, xp=peak_center"
   ]
  },
  {
   "cell_type": "code",
   "execution_count": 119,
   "metadata": {
    "Collapsed": "false"
   },
   "outputs": [
    {
     "data": {
      "text/html": [
       "<table><tr><th> name </th><th> value </th><th> initial value </th><th> min </th><th> max </th><th> vary </th></tr><tr><td> A </td><td>  200000.000 </td><td> None </td><td>  0.00000000 </td><td>         inf </td><td> True </td></tr><tr><td> alpha </td><td>  140.000000 </td><td> None </td><td>  0.00000000 </td><td>         inf </td><td> True </td></tr><tr><td> beta </td><td>  1.0000e-03 </td><td> None </td><td>  0.00000000 </td><td>         inf </td><td> True </td></tr><tr><td> R </td><td>  1.0000e-03 </td><td> None </td><td>  0.00000000 </td><td>         inf </td><td> True </td></tr><tr><td> gamma </td><td>  1.0000e-03 </td><td> None </td><td>  0.00000000 </td><td>         inf </td><td> True </td></tr><tr><td> sigma </td><td>  0.00660000 </td><td> None </td><td>  0.00000000 </td><td>         inf </td><td> True </td></tr><tr><td> k </td><td>  0.05000000 </td><td> None </td><td>  0.00000000 </td><td>         inf </td><td> False </td></tr><tr><td> xp </td><td> -10.0000000 </td><td> None </td><td>        -inf </td><td>         inf </td><td> True </td></tr></table>"
      ],
      "text/plain": [
       "Parameters([('A', <Parameter 'A', value=200000.0, bounds=[0:inf]>),\n",
       "            ('alpha', <Parameter 'alpha', value=140, bounds=[0:inf]>),\n",
       "            ('beta', <Parameter 'beta', value=0.001, bounds=[0:inf]>),\n",
       "            ('R', <Parameter 'R', value=0.001, bounds=[0:inf]>),\n",
       "            ('gamma', <Parameter 'gamma', value=0.001, bounds=[0:inf]>),\n",
       "            ('sigma', <Parameter 'sigma', value=0.0066, bounds=[0:inf]>),\n",
       "            ('k', <Parameter 'k', value=0.05 (fixed), bounds=[0:inf]>),\n",
       "            ('xp', <Parameter 'xp', value=-10.0, bounds=[-inf:inf]>)])"
      ]
     },
     "execution_count": 119,
     "metadata": {},
     "output_type": "execute_result"
    }
   ],
   "source": [
    "pvic_params = pvic_model.make_params(A=2e5, alpha=140, beta=1e-3, R=1e-3, \n",
    "                                     gamma=1e-3, sigma=6.6e-3, k=.05, xp=peak_center)\n",
    "for k in pvic_params.keys():\n",
    "    pvic_params[k].set(min=0, vary=True)\n",
    "pvic_params['xp'].set(min=-np.inf)\n",
    "pvic_params['k'].vary = False\n",
    "pvic_params"
   ]
  },
  {
   "cell_type": "markdown",
   "metadata": {
    "Collapsed": "true"
   },
   "source": [
    "#### Fit with 2 independent free parameters per dataset and 5 free parameters shared between all datasets"
   ]
  },
  {
   "cell_type": "code",
   "execution_count": 133,
   "metadata": {
    "Collapsed": "false"
   },
   "outputs": [],
   "source": [
    "nSpec = 10\n",
    "spec_rng = range(len(nData)-nSpec, len(nData))\n",
    "\n",
    "# create x and y 1D datasets for fit\n",
    "Xfitdata, Yfitdata = xyBatchFitNData(nData, data_range=spec_rng, data_select=data_select)\n",
    "\n",
    "# create and initialize lmfit Parameters object\n",
    "xpvic_params = Parameters()\n",
    "xpvic_params = xFitInitParams(xpvic_params, pvic_params, data_range=spec_rng)\n",
    "\n",
    "### Perform fit \n",
    "fit5shared = minimize(xpVIC_residual, xpvic_params, args=(Xfitdata, Yfitdata, spec_rng))"
   ]
  },
  {
   "cell_type": "code",
   "execution_count": 134,
   "metadata": {
    "Collapsed": "false"
   },
   "outputs": [
    {
     "data": {
      "text/html": [
       "<table><tr><th> name </th><th> value </th><th> standard error </th><th> relative error </th><th> initial value </th><th> min </th><th> max </th><th> vary </th></tr><tr><td> A92 </td><td>  236583.701 </td><td>  1562.04935 </td><td> (0.66%) </td><td> 200000.0 </td><td>  0.00000000 </td><td>         inf </td><td> True </td></tr><tr><td> alpha </td><td>  103.917430 </td><td>  0.56892793 </td><td> (0.55%) </td><td> 140 </td><td>  0.00000000 </td><td>         inf </td><td> True </td></tr><tr><td> beta </td><td>  1882.66221 </td><td>  1039629.92 </td><td> (55221.27%) </td><td> 0.001 </td><td>  0.00000000 </td><td>         inf </td><td> True </td></tr><tr><td> R </td><td>  9.7323e-04 </td><td>  1.11093368 </td><td> (114148.78%) </td><td> 0.001 </td><td>  0.00000000 </td><td>         inf </td><td> True </td></tr><tr><td> gamma </td><td>  0.00140661 </td><td>  1.3707e-04 </td><td> (9.74%) </td><td> 0.001 </td><td>  0.00000000 </td><td>         inf </td><td> True </td></tr><tr><td> sigma </td><td>  0.00350110 </td><td>  2.3479e-04 </td><td> (6.71%) </td><td> 0.0066 </td><td>  0.00000000 </td><td>         inf </td><td> True </td></tr><tr><td> k </td><td>  0.05000000 </td><td>  0.00000000 </td><td> (0.00%) </td><td> 0.05 </td><td>  0.00000000 </td><td>         inf </td><td> False </td></tr><tr><td> xp92 </td><td> -10.0220116 </td><td>  5.7907e-04 </td><td> (0.01%) </td><td> -10.0 </td><td>        -inf </td><td>         inf </td><td> True </td></tr><tr><td> A93 </td><td>  231794.760 </td><td>  1559.88728 </td><td> (0.67%) </td><td> 200000.0 </td><td>  0.00000000 </td><td>         inf </td><td> True </td></tr><tr><td> xp93 </td><td> -10.0221229 </td><td>  5.8667e-04 </td><td> (0.01%) </td><td> -10.0 </td><td>        -inf </td><td>         inf </td><td> True </td></tr><tr><td> A94 </td><td>  232813.583 </td><td>  1547.09831 </td><td> (0.66%) </td><td> 200000.0 </td><td>  0.00000000 </td><td>         inf </td><td> True </td></tr><tr><td> xp94 </td><td> -10.0220641 </td><td>  5.8740e-04 </td><td> (0.01%) </td><td> -10.0 </td><td>        -inf </td><td>         inf </td><td> True </td></tr><tr><td> A95 </td><td>  233132.780 </td><td>  1600.02662 </td><td> (0.69%) </td><td> 200000.0 </td><td>  0.00000000 </td><td>         inf </td><td> True </td></tr><tr><td> xp95 </td><td> -10.0223751 </td><td>  6.0207e-04 </td><td> (0.01%) </td><td> -10.0 </td><td>        -inf </td><td>         inf </td><td> True </td></tr><tr><td> A96 </td><td>  232256.666 </td><td>  1546.31918 </td><td> (0.67%) </td><td> 200000.0 </td><td>  0.00000000 </td><td>         inf </td><td> True </td></tr><tr><td> xp96 </td><td> -10.0221123 </td><td>  5.6003e-04 </td><td> (0.01%) </td><td> -10.0 </td><td>        -inf </td><td>         inf </td><td> True </td></tr><tr><td> A97 </td><td>  228239.707 </td><td>  1536.77084 </td><td> (0.67%) </td><td> 200000.0 </td><td>  0.00000000 </td><td>         inf </td><td> True </td></tr><tr><td> xp97 </td><td> -10.0221952 </td><td>  5.7424e-04 </td><td> (0.01%) </td><td> -10.0 </td><td>        -inf </td><td>         inf </td><td> True </td></tr><tr><td> A98 </td><td>  232305.371 </td><td>  1556.14964 </td><td> (0.67%) </td><td> 200000.0 </td><td>  0.00000000 </td><td>         inf </td><td> True </td></tr><tr><td> xp98 </td><td> -10.0222816 </td><td>  5.7888e-04 </td><td> (0.01%) </td><td> -10.0 </td><td>        -inf </td><td>         inf </td><td> True </td></tr><tr><td> A99 </td><td>  231193.380 </td><td>  1544.15983 </td><td> (0.67%) </td><td> 200000.0 </td><td>  0.00000000 </td><td>         inf </td><td> True </td></tr><tr><td> xp99 </td><td> -10.0225454 </td><td>  5.7708e-04 </td><td> (0.01%) </td><td> -10.0 </td><td>        -inf </td><td>         inf </td><td> True </td></tr><tr><td> A100 </td><td>  229949.355 </td><td>  1541.35944 </td><td> (0.67%) </td><td> 200000.0 </td><td>  0.00000000 </td><td>         inf </td><td> True </td></tr><tr><td> xp100 </td><td> -10.0221401 </td><td>  5.8083e-04 </td><td> (0.01%) </td><td> -10.0 </td><td>        -inf </td><td>         inf </td><td> True </td></tr><tr><td> A101 </td><td>  227772.068 </td><td>  1591.53331 </td><td> (0.70%) </td><td> 200000.0 </td><td>  0.00000000 </td><td>         inf </td><td> True </td></tr><tr><td> xp101 </td><td> -10.0222111 </td><td>  6.0125e-04 </td><td> (0.01%) </td><td> -10.0 </td><td>        -inf </td><td>         inf </td><td> True </td></tr></table>"
      ],
      "text/plain": [
       "Parameters([('A92',\n",
       "             <Parameter 'A92', value=236583.70099542933 +/- 1.56e+03, bounds=[0:inf]>),\n",
       "            ('alpha',\n",
       "             <Parameter 'alpha', value=103.91742954538091 +/- 0.569, bounds=[0:inf]>),\n",
       "            ('beta',\n",
       "             <Parameter 'beta', value=1882.6622132664318 +/- 1.04e+06, bounds=[0:inf]>),\n",
       "            ('R',\n",
       "             <Parameter 'R', value=0.0009732330783081 +/- 1.11, bounds=[0:inf]>),\n",
       "            ('gamma',\n",
       "             <Parameter 'gamma', value=0.0014066088203097404 +/- 0.000137, bounds=[0:inf]>),\n",
       "            ('sigma',\n",
       "             <Parameter 'sigma', value=0.003501096463644382 +/- 0.000235, bounds=[0:inf]>),\n",
       "            ('k', <Parameter 'k', value=0.05 (fixed), bounds=[0:inf]>),\n",
       "            ('xp92',\n",
       "             <Parameter 'xp92', value=-10.02201161817513 +/- 0.000579, bounds=[-inf:inf]>),\n",
       "            ('A93',\n",
       "             <Parameter 'A93', value=231794.7602922913 +/- 1.56e+03, bounds=[0:inf]>),\n",
       "            ('xp93',\n",
       "             <Parameter 'xp93', value=-10.022122878360527 +/- 0.000587, bounds=[-inf:inf]>),\n",
       "            ('A94',\n",
       "             <Parameter 'A94', value=232813.5829993222 +/- 1.55e+03, bounds=[0:inf]>),\n",
       "            ('xp94',\n",
       "             <Parameter 'xp94', value=-10.022064127298707 +/- 0.000587, bounds=[-inf:inf]>),\n",
       "            ('A95',\n",
       "             <Parameter 'A95', value=233132.7802905235 +/- 1.6e+03, bounds=[0:inf]>),\n",
       "            ('xp95',\n",
       "             <Parameter 'xp95', value=-10.022375102886404 +/- 0.000602, bounds=[-inf:inf]>),\n",
       "            ('A96',\n",
       "             <Parameter 'A96', value=232256.666471201 +/- 1.55e+03, bounds=[0:inf]>),\n",
       "            ('xp96',\n",
       "             <Parameter 'xp96', value=-10.022112252306586 +/- 0.00056, bounds=[-inf:inf]>),\n",
       "            ('A97',\n",
       "             <Parameter 'A97', value=228239.70703851338 +/- 1.54e+03, bounds=[0:inf]>),\n",
       "            ('xp97',\n",
       "             <Parameter 'xp97', value=-10.022195234699314 +/- 0.000574, bounds=[-inf:inf]>),\n",
       "            ('A98',\n",
       "             <Parameter 'A98', value=232305.3709994183 +/- 1.56e+03, bounds=[0:inf]>),\n",
       "            ('xp98',\n",
       "             <Parameter 'xp98', value=-10.022281552938304 +/- 0.000579, bounds=[-inf:inf]>),\n",
       "            ('A99',\n",
       "             <Parameter 'A99', value=231193.38035901493 +/- 1.54e+03, bounds=[0:inf]>),\n",
       "            ('xp99',\n",
       "             <Parameter 'xp99', value=-10.022545413239024 +/- 0.000577, bounds=[-inf:inf]>),\n",
       "            ('A100',\n",
       "             <Parameter 'A100', value=229949.35542020918 +/- 1.54e+03, bounds=[0:inf]>),\n",
       "            ('xp100',\n",
       "             <Parameter 'xp100', value=-10.022140067676212 +/- 0.000581, bounds=[-inf:inf]>),\n",
       "            ('A101',\n",
       "             <Parameter 'A101', value=227772.06813913694 +/- 1.59e+03, bounds=[0:inf]>),\n",
       "            ('xp101',\n",
       "             <Parameter 'xp101', value=-10.022211094717699 +/- 0.000601, bounds=[-inf:inf]>)])"
      ]
     },
     "execution_count": 134,
     "metadata": {},
     "output_type": "execute_result"
    }
   ],
   "source": [
    "# report_fit(result)\n",
    "fit5shared.params"
   ]
  },
  {
   "cell_type": "markdown",
   "metadata": {
    "Collapsed": "true"
   },
   "source": [
    "#### Plot fit result"
   ]
  },
  {
   "cell_type": "code",
   "execution_count": 157,
   "metadata": {
    "Collapsed": "false"
   },
   "outputs": [],
   "source": [
    "bestparams = bestFitParams(spec_rng, pvic_params, result.params)\n",
    "plotMultipleFit(spec_rng, Xfitdata, Yfitdata, xpvic_params, bestparams, nData['H (T)'])"
   ]
  },
  {
   "cell_type": "markdown",
   "metadata": {
    "Collapsed": "true"
   },
   "source": [
    "#### Fit with 2 independent free parameters per dataset and 3 free parameters shared between all datasets\n",
    "The huge variability on R and beta seen when leaving those free implies that they play little role on the fit, so let's fix them both to zero.\n",
    "Actually, beta=0 generates NaN data (not sure why) so let's fix it to 1e-10"
   ]
  },
  {
   "cell_type": "code",
   "execution_count": 151,
   "metadata": {
    "Collapsed": "false"
   },
   "outputs": [],
   "source": [
    "nSpec = 30\n",
    "spec_rng = range(len(nData)-nSpec, len(nData))\n",
    "\n",
    "# create x and y 1D datasets for fit\n",
    "Xfitdata, Yfitdata = xyBatchFitNData(nData, data_range=spec_rng, data_select=data_select)\n",
    "\n",
    "# create and initialize lmfit Parameters object\n",
    "# xpvic_params = Parameters()\n",
    "# xpvic_params = xFitInitParams(xpvic_params, pvic_params, data_range=spec_rng)\n",
    "xpvic_params = xFitInitParams(xpvic_params, pvic_params, data_range=spec_rng, resultParams=result.params)\n",
    "\n",
    "### Initialize parameters using results of previous fit\n",
    "for key in ['beta', 'R']:\n",
    "    xpvic_params[key].vary = False\n",
    "\n",
    "xpvic_params['R'].value = 0\n",
    "xpvic_params['beta'].value = 1e-10\n",
    "    \n",
    "### Perform fit \n",
    "fit3shared = minimize(xpVIC_residual, xpvic_params, args=(Xfitdata, Yfitdata, spec_rng))"
   ]
  },
  {
   "cell_type": "code",
   "execution_count": 152,
   "metadata": {
    "Collapsed": "false"
   },
   "outputs": [
    {
     "data": {
      "text/html": [
       "<table><tr><th> name </th><th> value </th><th> standard error </th><th> relative error </th><th> initial value </th><th> min </th><th> max </th><th> vary </th></tr><tr><td> A92 </td><td>  242423.719 </td><td>  1465.49667 </td><td> (0.60%) </td><td> 236582.86051030117 </td><td>  0.00000000 </td><td>         inf </td><td> True </td></tr><tr><td> alpha </td><td>  105.081014 </td><td>  0.35963779 </td><td> (0.34%) </td><td> 103.91782644306636 </td><td>  0.00000000 </td><td>         inf </td><td> True </td></tr><tr><td> beta </td><td>  1.0000e-10 </td><td>  0.00000000 </td><td> (0.00%) </td><td> 1e-10 </td><td>  0.00000000 </td><td>         inf </td><td> False </td></tr><tr><td> R </td><td>  0.00000000 </td><td>  0.00000000 </td><td>  </td><td> 0 </td><td>  0.00000000 </td><td>         inf </td><td> False </td></tr><tr><td> gamma </td><td>  0.00206524 </td><td>  8.6661e-05 </td><td> (4.20%) </td><td> 0.0014064403325111385 </td><td>  0.00000000 </td><td>         inf </td><td> True </td></tr><tr><td> sigma </td><td>  0.00390962 </td><td>  1.3557e-04 </td><td> (3.47%) </td><td> 0.003501766791173866 </td><td>  0.00000000 </td><td>         inf </td><td> True </td></tr><tr><td> k </td><td>  0.05000000 </td><td>  0.00000000 </td><td> (0.00%) </td><td> 0.05 </td><td>  0.00000000 </td><td>         inf </td><td> False </td></tr><tr><td> xp92 </td><td> -10.0218306 </td><td>  1.3450e-04 </td><td> (0.00%) </td><td> -10.022011057730563 </td><td>        -inf </td><td>         inf </td><td> True </td></tr><tr><td> A93 </td><td>  237599.422 </td><td>  1463.03533 </td><td> (0.62%) </td><td> 231793.96506228583 </td><td>  0.00000000 </td><td>         inf </td><td> True </td></tr><tr><td> xp93 </td><td> -10.0219296 </td><td>  1.3668e-04 </td><td> (0.00%) </td><td> -10.022122347339756 </td><td>        -inf </td><td>         inf </td><td> True </td></tr><tr><td> A94 </td><td>  238568.257 </td><td>  1463.52106 </td><td> (0.61%) </td><td> 232812.78072448762 </td><td>  0.00000000 </td><td>         inf </td><td> True </td></tr><tr><td> xp94 </td><td> -10.0218675 </td><td>  1.3623e-04 </td><td> (0.00%) </td><td> -10.022063571400501 </td><td>        -inf </td><td>         inf </td><td> True </td></tr><tr><td> A95 </td><td>  238910.254 </td><td>  1463.72390 </td><td> (0.61%) </td><td> 233131.94926070914 </td><td>  0.00000000 </td><td>         inf </td><td> True </td></tr><tr><td> xp95 </td><td> -10.0221765 </td><td>  1.3606e-04 </td><td> (0.00%) </td><td> -10.022374554729181 </td><td>        -inf </td><td>         inf </td><td> True </td></tr><tr><td> A96 </td><td>  238041.618 </td><td>  1463.26043 </td><td> (0.61%) </td><td> 232255.8489307552 </td><td>  0.00000000 </td><td>         inf </td><td> True </td></tr><tr><td> xp96 </td><td> -10.0219162 </td><td>  1.3647e-04 </td><td> (0.00%) </td><td> -10.022111707774943 </td><td>        -inf </td><td>         inf </td><td> True </td></tr><tr><td> A97 </td><td>  233876.271 </td><td>  1461.16434 </td><td> (0.62%) </td><td> 228238.92145138513 </td><td>  0.00000000 </td><td>         inf </td><td> True </td></tr><tr><td> xp97 </td><td> -10.0220032 </td><td>  1.3843e-04 </td><td> (0.00%) </td><td> -10.022194676149219 </td><td>        -inf </td><td>         inf </td><td> True </td></tr><tr><td> A98 </td><td>  237998.350 </td><td>  1463.25133 </td><td> (0.61%) </td><td> 232304.62006099834 </td><td>  0.00000000 </td><td>         inf </td><td> True </td></tr><tr><td> xp98 </td><td> -10.0220953 </td><td>  1.3648e-04 </td><td> (0.00%) </td><td> -10.02228099921461 </td><td>        -inf </td><td>         inf </td><td> True </td></tr><tr><td> A99 </td><td>  236839.285 </td><td>  1462.67752 </td><td> (0.62%) </td><td> 231192.56188652804 </td><td>  0.00000000 </td><td>         inf </td><td> True </td></tr><tr><td> xp99 </td><td> -10.0223481 </td><td>  1.3701e-04 </td><td> (0.00%) </td><td> -10.022544839273971 </td><td>        -inf </td><td>         inf </td><td> True </td></tr><tr><td> A100 </td><td>  235604.103 </td><td>  1462.02769 </td><td> (0.62%) </td><td> 229948.54094261237 </td><td>  0.00000000 </td><td>         inf </td><td> True </td></tr><tr><td> xp100 </td><td> -10.0219494 </td><td>  1.3761e-04 </td><td> (0.00%) </td><td> -10.022139505291577 </td><td>        -inf </td><td>         inf </td><td> True </td></tr><tr><td> A101 </td><td>  233382.721 </td><td>  1460.91383 </td><td> (0.63%) </td><td> 227771.24559386307 </td><td>  0.00000000 </td><td>         inf </td><td> True </td></tr><tr><td> xp101 </td><td> -10.0220275 </td><td>  1.3867e-04 </td><td> (0.00%) </td><td> -10.02221053012084 </td><td>        -inf </td><td>         inf </td><td> True </td></tr><tr><td> A72 </td><td>  254067.652 </td><td>  1471.66923 </td><td> (0.58%) </td><td> 200000.0 </td><td>  0.00000000 </td><td>         inf </td><td> True </td></tr><tr><td> xp72 </td><td> -10.0218794 </td><td>  1.2959e-04 </td><td> (0.00%) </td><td> -10.0 </td><td>        -inf </td><td>         inf </td><td> True </td></tr><tr><td> A73 </td><td>  257957.565 </td><td>  1473.75184 </td><td> (0.57%) </td><td> 200000.0 </td><td>  0.00000000 </td><td>         inf </td><td> True </td></tr><tr><td> xp73 </td><td> -10.0215052 </td><td>  1.2807e-04 </td><td> (0.00%) </td><td> -10.0 </td><td>        -inf </td><td>         inf </td><td> True </td></tr><tr><td> A74 </td><td>  258347.525 </td><td>  1473.97204 </td><td> (0.57%) </td><td> 200000.0 </td><td>  0.00000000 </td><td>         inf </td><td> True </td></tr><tr><td> xp74 </td><td> -10.0216150 </td><td>  1.2792e-04 </td><td> (0.00%) </td><td> -10.0 </td><td>        -inf </td><td>         inf </td><td> True </td></tr><tr><td> A75 </td><td>  255357.223 </td><td>  1472.36145 </td><td> (0.58%) </td><td> 200000.0 </td><td>  0.00000000 </td><td>         inf </td><td> True </td></tr><tr><td> xp75 </td><td> -10.0219395 </td><td>  1.2907e-04 </td><td> (0.00%) </td><td> -10.0 </td><td>        -inf </td><td>         inf </td><td> True </td></tr><tr><td> A76 </td><td>  252869.577 </td><td>  1471.02877 </td><td> (0.58%) </td><td> 200000.0 </td><td>  0.00000000 </td><td>         inf </td><td> True </td></tr><tr><td> xp76 </td><td> -10.0221364 </td><td>  1.3005e-04 </td><td> (0.00%) </td><td> -10.0 </td><td>        -inf </td><td>         inf </td><td> True </td></tr><tr><td> A77 </td><td>  252489.545 </td><td>  1470.79395 </td><td> (0.58%) </td><td> 200000.0 </td><td>  0.00000000 </td><td>         inf </td><td> True </td></tr><tr><td> xp77 </td><td> -10.0216037 </td><td>  1.3024e-04 </td><td> (0.00%) </td><td> -10.0 </td><td>        -inf </td><td>         inf </td><td> True </td></tr><tr><td> A78 </td><td>  251043.543 </td><td>  1470.03677 </td><td> (0.59%) </td><td> 200000.0 </td><td>  0.00000000 </td><td>         inf </td><td> True </td></tr><tr><td> xp78 </td><td> -10.0218503 </td><td>  1.3081e-04 </td><td> (0.00%) </td><td> -10.0 </td><td>        -inf </td><td>         inf </td><td> True </td></tr><tr><td> A79 </td><td>  250397.584 </td><td>  1469.69137 </td><td> (0.59%) </td><td> 200000.0 </td><td>  0.00000000 </td><td>         inf </td><td> True </td></tr><tr><td> xp79 </td><td> -10.0218220 </td><td>  1.3108e-04 </td><td> (0.00%) </td><td> -10.0 </td><td>        -inf </td><td>         inf </td><td> True </td></tr><tr><td> A80 </td><td>  253209.065 </td><td>  1471.23663 </td><td> (0.58%) </td><td> 200000.0 </td><td>  0.00000000 </td><td>         inf </td><td> True </td></tr><tr><td> xp80 </td><td> -10.0222853 </td><td>  1.2991e-04 </td><td> (0.00%) </td><td> -10.0 </td><td>        -inf </td><td>         inf </td><td> True </td></tr><tr><td> A81 </td><td>  251649.764 </td><td>  1470.38579 </td><td> (0.58%) </td><td> 200000.0 </td><td>  0.00000000 </td><td>         inf </td><td> True </td></tr><tr><td> xp81 </td><td> -10.0222673 </td><td>  1.3054e-04 </td><td> (0.00%) </td><td> -10.0 </td><td>        -inf </td><td>         inf </td><td> True </td></tr><tr><td> A82 </td><td>  251283.317 </td><td>  1470.16465 </td><td> (0.59%) </td><td> 200000.0 </td><td>  0.00000000 </td><td>         inf </td><td> True </td></tr><tr><td> xp82 </td><td> -10.0218466 </td><td>  1.3072e-04 </td><td> (0.00%) </td><td> -10.0 </td><td>        -inf </td><td>         inf </td><td> True </td></tr><tr><td> A83 </td><td>  254102.781 </td><td>  1471.69179 </td><td> (0.58%) </td><td> 200000.0 </td><td>  0.00000000 </td><td>         inf </td><td> True </td></tr><tr><td> xp83 </td><td> -10.0220026 </td><td>  1.2957e-04 </td><td> (0.00%) </td><td> -10.0 </td><td>        -inf </td><td>         inf </td><td> True </td></tr><tr><td> A84 </td><td>  248480.543 </td><td>  1468.69244 </td><td> (0.59%) </td><td> 200000.0 </td><td>  0.00000000 </td><td>         inf </td><td> True </td></tr><tr><td> xp84 </td><td> -10.0221708 </td><td>  1.3186e-04 </td><td> (0.00%) </td><td> -10.0 </td><td>        -inf </td><td>         inf </td><td> True </td></tr><tr><td> A85 </td><td>  249756.312 </td><td>  1469.35349 </td><td> (0.59%) </td><td> 200000.0 </td><td>  0.00000000 </td><td>         inf </td><td> True </td></tr><tr><td> xp85 </td><td> -10.0219431 </td><td>  1.3134e-04 </td><td> (0.00%) </td><td> -10.0 </td><td>        -inf </td><td>         inf </td><td> True </td></tr><tr><td> A86 </td><td>  249827.069 </td><td>  1469.39335 </td><td> (0.59%) </td><td> 200000.0 </td><td>  0.00000000 </td><td>         inf </td><td> True </td></tr><tr><td> xp86 </td><td> -10.0219631 </td><td>  1.3131e-04 </td><td> (0.00%) </td><td> -10.0 </td><td>        -inf </td><td>         inf </td><td> True </td></tr><tr><td> A87 </td><td>  246695.884 </td><td>  1467.73563 </td><td> (0.59%) </td><td> 200000.0 </td><td>  0.00000000 </td><td>         inf </td><td> True </td></tr><tr><td> xp87 </td><td> -10.0219657 </td><td>  1.3263e-04 </td><td> (0.00%) </td><td> -10.0 </td><td>        -inf </td><td>         inf </td><td> True </td></tr><tr><td> A88 </td><td>  248649.784 </td><td>  1468.77830 </td><td> (0.59%) </td><td> 200000.0 </td><td>  0.00000000 </td><td>         inf </td><td> True </td></tr><tr><td> xp88 </td><td> -10.0219795 </td><td>  1.3180e-04 </td><td> (0.00%) </td><td> -10.0 </td><td>        -inf </td><td>         inf </td><td> True </td></tr><tr><td> A89 </td><td>  243379.829 </td><td>  1465.99695 </td><td> (0.60%) </td><td> 200000.0 </td><td>  0.00000000 </td><td>         inf </td><td> True </td></tr><tr><td> xp89 </td><td> -10.0218482 </td><td>  1.3407e-04 </td><td> (0.00%) </td><td> -10.0 </td><td>        -inf </td><td>         inf </td><td> True </td></tr><tr><td> A90 </td><td>  251004.634 </td><td>  1470.01365 </td><td> (0.59%) </td><td> 200000.0 </td><td>  0.00000000 </td><td>         inf </td><td> True </td></tr><tr><td> xp90 </td><td> -10.0218217 </td><td>  1.3083e-04 </td><td> (0.00%) </td><td> -10.0 </td><td>        -inf </td><td>         inf </td><td> True </td></tr><tr><td> A91 </td><td>  245767.082 </td><td>  1467.23852 </td><td> (0.60%) </td><td> 200000.0 </td><td>  0.00000000 </td><td>         inf </td><td> True </td></tr><tr><td> xp91 </td><td> -10.0217771 </td><td>  1.3304e-04 </td><td> (0.00%) </td><td> -10.0 </td><td>        -inf </td><td>         inf </td><td> True </td></tr></table>"
      ],
      "text/plain": [
       "Parameters([('A92',\n",
       "             <Parameter 'A92', value=242423.71860363588 +/- 1.47e+03, bounds=[0:inf]>),\n",
       "            ('alpha',\n",
       "             <Parameter 'alpha', value=105.08101365300533 +/- 0.36, bounds=[0:inf]>),\n",
       "            ('beta', <Parameter 'beta', value=1e-10 (fixed), bounds=[0:inf]>),\n",
       "            ('R', <Parameter 'R', value=0 (fixed), bounds=[0:inf]>),\n",
       "            ('gamma',\n",
       "             <Parameter 'gamma', value=0.0020652384465718043 +/- 8.67e-05, bounds=[0:inf]>),\n",
       "            ('sigma',\n",
       "             <Parameter 'sigma', value=0.003909618052501562 +/- 0.000136, bounds=[0:inf]>),\n",
       "            ('k', <Parameter 'k', value=0.05 (fixed), bounds=[0:inf]>),\n",
       "            ('xp92',\n",
       "             <Parameter 'xp92', value=-10.021830599141035 +/- 0.000134, bounds=[-inf:inf]>),\n",
       "            ('A93',\n",
       "             <Parameter 'A93', value=237599.42165985235 +/- 1.46e+03, bounds=[0:inf]>),\n",
       "            ('xp93',\n",
       "             <Parameter 'xp93', value=-10.021929580244192 +/- 0.000137, bounds=[-inf:inf]>),\n",
       "            ('A94',\n",
       "             <Parameter 'A94', value=238568.25659579597 +/- 1.46e+03, bounds=[0:inf]>),\n",
       "            ('xp94',\n",
       "             <Parameter 'xp94', value=-10.021867524886988 +/- 0.000136, bounds=[-inf:inf]>),\n",
       "            ('A95',\n",
       "             <Parameter 'A95', value=238910.2536138044 +/- 1.46e+03, bounds=[0:inf]>),\n",
       "            ('xp95',\n",
       "             <Parameter 'xp95', value=-10.022176495192562 +/- 0.000136, bounds=[-inf:inf]>),\n",
       "            ('A96',\n",
       "             <Parameter 'A96', value=238041.61759382914 +/- 1.46e+03, bounds=[0:inf]>),\n",
       "            ('xp96',\n",
       "             <Parameter 'xp96', value=-10.021916186541734 +/- 0.000136, bounds=[-inf:inf]>),\n",
       "            ('A97',\n",
       "             <Parameter 'A97', value=233876.27126715405 +/- 1.46e+03, bounds=[0:inf]>),\n",
       "            ('xp97',\n",
       "             <Parameter 'xp97', value=-10.02200318650426 +/- 0.000138, bounds=[-inf:inf]>),\n",
       "            ('A98',\n",
       "             <Parameter 'A98', value=237998.34983030756 +/- 1.46e+03, bounds=[0:inf]>),\n",
       "            ('xp98',\n",
       "             <Parameter 'xp98', value=-10.022095270908222 +/- 0.000136, bounds=[-inf:inf]>),\n",
       "            ('A99',\n",
       "             <Parameter 'A99', value=236839.284838065 +/- 1.46e+03, bounds=[0:inf]>),\n",
       "            ('xp99',\n",
       "             <Parameter 'xp99', value=-10.022348098350097 +/- 0.000137, bounds=[-inf:inf]>),\n",
       "            ('A100',\n",
       "             <Parameter 'A100', value=235604.10349699465 +/- 1.46e+03, bounds=[0:inf]>),\n",
       "            ('xp100',\n",
       "             <Parameter 'xp100', value=-10.021949397465411 +/- 0.000138, bounds=[-inf:inf]>),\n",
       "            ('A101',\n",
       "             <Parameter 'A101', value=233382.72054067784 +/- 1.46e+03, bounds=[0:inf]>),\n",
       "            ('xp101',\n",
       "             <Parameter 'xp101', value=-10.022027516609427 +/- 0.000139, bounds=[-inf:inf]>),\n",
       "            ('A72',\n",
       "             <Parameter 'A72', value=254067.65197805755 +/- 1.47e+03, bounds=[0:inf]>),\n",
       "            ('xp72',\n",
       "             <Parameter 'xp72', value=-10.021879427931887 +/- 0.00013, bounds=[-inf:inf]>),\n",
       "            ('A73',\n",
       "             <Parameter 'A73', value=257957.5653984615 +/- 1.47e+03, bounds=[0:inf]>),\n",
       "            ('xp73',\n",
       "             <Parameter 'xp73', value=-10.021505153669047 +/- 0.000128, bounds=[-inf:inf]>),\n",
       "            ('A74',\n",
       "             <Parameter 'A74', value=258347.52532431815 +/- 1.47e+03, bounds=[0:inf]>),\n",
       "            ('xp74',\n",
       "             <Parameter 'xp74', value=-10.021615036682025 +/- 0.000128, bounds=[-inf:inf]>),\n",
       "            ('A75',\n",
       "             <Parameter 'A75', value=255357.22287253264 +/- 1.47e+03, bounds=[0:inf]>),\n",
       "            ('xp75',\n",
       "             <Parameter 'xp75', value=-10.021939471330654 +/- 0.000129, bounds=[-inf:inf]>),\n",
       "            ('A76',\n",
       "             <Parameter 'A76', value=252869.5769564589 +/- 1.47e+03, bounds=[0:inf]>),\n",
       "            ('xp76',\n",
       "             <Parameter 'xp76', value=-10.022136374842322 +/- 0.00013, bounds=[-inf:inf]>),\n",
       "            ('A77',\n",
       "             <Parameter 'A77', value=252489.54464576542 +/- 1.47e+03, bounds=[0:inf]>),\n",
       "            ('xp77',\n",
       "             <Parameter 'xp77', value=-10.021603672672251 +/- 0.00013, bounds=[-inf:inf]>),\n",
       "            ('A78',\n",
       "             <Parameter 'A78', value=251043.54349240893 +/- 1.47e+03, bounds=[0:inf]>),\n",
       "            ('xp78',\n",
       "             <Parameter 'xp78', value=-10.02185026988651 +/- 0.000131, bounds=[-inf:inf]>),\n",
       "            ('A79',\n",
       "             <Parameter 'A79', value=250397.5837440522 +/- 1.47e+03, bounds=[0:inf]>),\n",
       "            ('xp79',\n",
       "             <Parameter 'xp79', value=-10.02182200934593 +/- 0.000131, bounds=[-inf:inf]>),\n",
       "            ('A80',\n",
       "             <Parameter 'A80', value=253209.06458293283 +/- 1.47e+03, bounds=[0:inf]>),\n",
       "            ('xp80',\n",
       "             <Parameter 'xp80', value=-10.02228528798953 +/- 0.00013, bounds=[-inf:inf]>),\n",
       "            ('A81',\n",
       "             <Parameter 'A81', value=251649.7638136746 +/- 1.47e+03, bounds=[0:inf]>),\n",
       "            ('xp81',\n",
       "             <Parameter 'xp81', value=-10.022267278111187 +/- 0.000131, bounds=[-inf:inf]>),\n",
       "            ('A82',\n",
       "             <Parameter 'A82', value=251283.3174711304 +/- 1.47e+03, bounds=[0:inf]>),\n",
       "            ('xp82',\n",
       "             <Parameter 'xp82', value=-10.021846627335435 +/- 0.000131, bounds=[-inf:inf]>),\n",
       "            ('A83',\n",
       "             <Parameter 'A83', value=254102.78104461828 +/- 1.47e+03, bounds=[0:inf]>),\n",
       "            ('xp83',\n",
       "             <Parameter 'xp83', value=-10.022002566325034 +/- 0.00013, bounds=[-inf:inf]>),\n",
       "            ('A84',\n",
       "             <Parameter 'A84', value=248480.5427191351 +/- 1.47e+03, bounds=[0:inf]>),\n",
       "            ('xp84',\n",
       "             <Parameter 'xp84', value=-10.022170801570939 +/- 0.000132, bounds=[-inf:inf]>),\n",
       "            ('A85',\n",
       "             <Parameter 'A85', value=249756.31212174412 +/- 1.47e+03, bounds=[0:inf]>),\n",
       "            ('xp85',\n",
       "             <Parameter 'xp85', value=-10.021943131728902 +/- 0.000131, bounds=[-inf:inf]>),\n",
       "            ('A86',\n",
       "             <Parameter 'A86', value=249827.06919035938 +/- 1.47e+03, bounds=[0:inf]>),\n",
       "            ('xp86',\n",
       "             <Parameter 'xp86', value=-10.021963070166308 +/- 0.000131, bounds=[-inf:inf]>),\n",
       "            ('A87',\n",
       "             <Parameter 'A87', value=246695.88449732022 +/- 1.47e+03, bounds=[0:inf]>),\n",
       "            ('xp87',\n",
       "             <Parameter 'xp87', value=-10.021965707139707 +/- 0.000133, bounds=[-inf:inf]>),\n",
       "            ('A88',\n",
       "             <Parameter 'A88', value=248649.78370668646 +/- 1.47e+03, bounds=[0:inf]>),\n",
       "            ('xp88',\n",
       "             <Parameter 'xp88', value=-10.021979481950405 +/- 0.000132, bounds=[-inf:inf]>),\n",
       "            ('A89',\n",
       "             <Parameter 'A89', value=243379.82897387337 +/- 1.47e+03, bounds=[0:inf]>),\n",
       "            ('xp89',\n",
       "             <Parameter 'xp89', value=-10.021848151459187 +/- 0.000134, bounds=[-inf:inf]>),\n",
       "            ('A90',\n",
       "             <Parameter 'A90', value=251004.63438591146 +/- 1.47e+03, bounds=[0:inf]>),\n",
       "            ('xp90',\n",
       "             <Parameter 'xp90', value=-10.021821675541922 +/- 0.000131, bounds=[-inf:inf]>),\n",
       "            ('A91',\n",
       "             <Parameter 'A91', value=245767.08185152194 +/- 1.47e+03, bounds=[0:inf]>),\n",
       "            ('xp91',\n",
       "             <Parameter 'xp91', value=-10.021777069710351 +/- 0.000133, bounds=[-inf:inf]>)])"
      ]
     },
     "execution_count": 152,
     "metadata": {},
     "output_type": "execute_result"
    }
   ],
   "source": [
    "fit3shared.params"
   ]
  },
  {
   "cell_type": "markdown",
   "metadata": {
    "Collapsed": "true"
   },
   "source": [
    "#### Fit with 2 independent free parameters per dataset and 2 free parameters shared between all datasets\n",
    "Fix alpha to the value obtained from previous fit"
   ]
  },
  {
   "cell_type": "code",
   "execution_count": 155,
   "metadata": {
    "Collapsed": "false"
   },
   "outputs": [],
   "source": [
    "nSpec = 30\n",
    "spec_rng = range(len(nData)-nSpec, len(nData))\n",
    "\n",
    "# create x and y 1D datasets for fit\n",
    "Xfitdata, Yfitdata = xyBatchFitNData(nData, data_range=spec_rng, data_select=data_select)\n",
    "\n",
    "# create and initialize lmfit Parameters object\n",
    "xpvic_params = xFitInitParams(xpvic_params, pvic_params, data_range=spec_rng, resultParams=result.params)\n",
    "\n",
    "xpvic_params['alpha'].vary = False\n",
    "\n",
    "### Perform fit \n",
    "fit2shared = minimize(xpVIC_residual, xpvic_params, args=(Xfitdata, Yfitdata, spec_rng))"
   ]
  },
  {
   "cell_type": "code",
   "execution_count": 156,
   "metadata": {
    "Collapsed": "false"
   },
   "outputs": [
    {
     "data": {
      "text/html": [
       "<table><tr><th> name </th><th> value </th><th> standard error </th><th> relative error </th><th> initial value </th><th> min </th><th> max </th><th> vary </th></tr><tr><td> A92 </td><td>  242423.719 </td><td>  1459.48592 </td><td> (0.60%) </td><td> 242423.71860363588 </td><td>  0.00000000 </td><td>         inf </td><td> True </td></tr><tr><td> alpha </td><td>  105.081014 </td><td>  0.00000000 </td><td> (0.00%) </td><td> 105.08101365300533 </td><td>  0.00000000 </td><td>         inf </td><td> False </td></tr><tr><td> beta </td><td>  1.0000e-10 </td><td>  0.00000000 </td><td> (0.00%) </td><td> 1e-10 </td><td>  0.00000000 </td><td>         inf </td><td> False </td></tr><tr><td> R </td><td>  0.00000000 </td><td>  0.00000000 </td><td>  </td><td> 0 </td><td>  0.00000000 </td><td>         inf </td><td> False </td></tr><tr><td> gamma </td><td>  0.00206524 </td><td>  7.0735e-05 </td><td> (3.43%) </td><td> 0.0020652384465718043 </td><td>  0.00000000 </td><td>         inf </td><td> True </td></tr><tr><td> sigma </td><td>  0.00390962 </td><td>  1.3567e-04 </td><td> (3.47%) </td><td> 0.003909618052501562 </td><td>  0.00000000 </td><td>         inf </td><td> True </td></tr><tr><td> k </td><td>  0.05000000 </td><td>  0.00000000 </td><td> (0.00%) </td><td> 0.05 </td><td>  0.00000000 </td><td>         inf </td><td> False </td></tr><tr><td> xp92 </td><td> -10.0218306 </td><td>  1.2026e-04 </td><td> (0.00%) </td><td> -10.021830599141035 </td><td>        -inf </td><td>         inf </td><td> True </td></tr><tr><td> A93 </td><td>  237599.422 </td><td>  1457.24127 </td><td> (0.61%) </td><td> 237599.42165985235 </td><td>  0.00000000 </td><td>         inf </td><td> True </td></tr><tr><td> xp93 </td><td> -10.0219296 </td><td>  1.2270e-04 </td><td> (0.00%) </td><td> -10.021929580244192 </td><td>        -inf </td><td>         inf </td><td> True </td></tr><tr><td> A94 </td><td>  238568.257 </td><td>  1457.68216 </td><td> (0.61%) </td><td> 238568.25659579597 </td><td>  0.00000000 </td><td>         inf </td><td> True </td></tr><tr><td> xp94 </td><td> -10.0218675 </td><td>  1.2221e-04 </td><td> (0.00%) </td><td> -10.021867524886988 </td><td>        -inf </td><td>         inf </td><td> True </td></tr><tr><td> A95 </td><td>  238910.254 </td><td>  1457.86578 </td><td> (0.61%) </td><td> 238910.2536138044 </td><td>  0.00000000 </td><td>         inf </td><td> True </td></tr><tr><td> xp95 </td><td> -10.0221765 </td><td>  1.2201e-04 </td><td> (0.00%) </td><td> -10.022176495192562 </td><td>        -inf </td><td>         inf </td><td> True </td></tr><tr><td> A96 </td><td>  238041.618 </td><td>  1457.44338 </td><td> (0.61%) </td><td> 238041.61759382914 </td><td>  0.00000000 </td><td>         inf </td><td> True </td></tr><tr><td> xp96 </td><td> -10.0219162 </td><td>  1.2247e-04 </td><td> (0.00%) </td><td> -10.021916186541734 </td><td>        -inf </td><td>         inf </td><td> True </td></tr><tr><td> A97 </td><td>  233876.271 </td><td>  1455.53535 </td><td> (0.62%) </td><td> 233876.27126715405 </td><td>  0.00000000 </td><td>         inf </td><td> True </td></tr><tr><td> xp97 </td><td> -10.0220032 </td><td>  1.2465e-04 </td><td> (0.00%) </td><td> -10.02200318650426 </td><td>        -inf </td><td>         inf </td><td> True </td></tr><tr><td> A98 </td><td>  237998.350 </td><td>  1457.43703 </td><td> (0.61%) </td><td> 237998.34983030756 </td><td>  0.00000000 </td><td>         inf </td><td> True </td></tr><tr><td> xp98 </td><td> -10.0220953 </td><td>  1.2249e-04 </td><td> (0.00%) </td><td> -10.022095270908222 </td><td>        -inf </td><td>         inf </td><td> True </td></tr><tr><td> A99 </td><td>  236839.285 </td><td>  1456.91939 </td><td> (0.62%) </td><td> 236839.284838065 </td><td>  0.00000000 </td><td>         inf </td><td> True </td></tr><tr><td> xp99 </td><td> -10.0223481 </td><td>  1.2307e-04 </td><td> (0.00%) </td><td> -10.022348098350097 </td><td>        -inf </td><td>         inf </td><td> True </td></tr><tr><td> A100 </td><td>  235604.103 </td><td>  1456.32139 </td><td> (0.62%) </td><td> 235604.10349699465 </td><td>  0.00000000 </td><td>         inf </td><td> True </td></tr><tr><td> xp100 </td><td> -10.0219494 </td><td>  1.2374e-04 </td><td> (0.00%) </td><td> -10.021949397465411 </td><td>        -inf </td><td>         inf </td><td> True </td></tr><tr><td> A101 </td><td>  233382.721 </td><td>  1455.30993 </td><td> (0.62%) </td><td> 233382.72054067784 </td><td>  0.00000000 </td><td>         inf </td><td> True </td></tr><tr><td> xp101 </td><td> -10.0220275 </td><td>  1.2491e-04 </td><td> (0.00%) </td><td> -10.022027516609427 </td><td>        -inf </td><td>         inf </td><td> True </td></tr><tr><td> A72 </td><td>  254067.652 </td><td>  1465.09768 </td><td> (0.58%) </td><td> 254067.65197805755 </td><td>  0.00000000 </td><td>         inf </td><td> True </td></tr><tr><td> xp72 </td><td> -10.0218794 </td><td>  1.1475e-04 </td><td> (0.00%) </td><td> -10.021879427931887 </td><td>        -inf </td><td>         inf </td><td> True </td></tr><tr><td> A73 </td><td>  257957.565 </td><td>  1466.99469 </td><td> (0.57%) </td><td> 257957.5653984615 </td><td>  0.00000000 </td><td>         inf </td><td> True </td></tr><tr><td> xp73 </td><td> -10.0215052 </td><td>  1.1304e-04 </td><td> (0.00%) </td><td> -10.021505153669047 </td><td>        -inf </td><td>         inf </td><td> True </td></tr><tr><td> A74 </td><td>  258347.525 </td><td>  1467.20072 </td><td> (0.57%) </td><td> 258347.52532431815 </td><td>  0.00000000 </td><td>         inf </td><td> True </td></tr><tr><td> xp74 </td><td> -10.0216150 </td><td>  1.1286e-04 </td><td> (0.00%) </td><td> -10.021615036682025 </td><td>        -inf </td><td>         inf </td><td> True </td></tr><tr><td> A75 </td><td>  255357.223 </td><td>  1465.73959 </td><td> (0.57%) </td><td> 255357.22287253264 </td><td>  0.00000000 </td><td>         inf </td><td> True </td></tr><tr><td> xp75 </td><td> -10.0219395 </td><td>  1.1417e-04 </td><td> (0.00%) </td><td> -10.021939471330654 </td><td>        -inf </td><td>         inf </td><td> True </td></tr><tr><td> A76 </td><td>  252869.577 </td><td>  1464.52681 </td><td> (0.58%) </td><td> 252869.5769564589 </td><td>  0.00000000 </td><td>         inf </td><td> True </td></tr><tr><td> xp76 </td><td> -10.0221364 </td><td>  1.1528e-04 </td><td> (0.00%) </td><td> -10.022136374842322 </td><td>        -inf </td><td>         inf </td><td> True </td></tr><tr><td> A77 </td><td>  252489.545 </td><td>  1464.30393 </td><td> (0.58%) </td><td> 252489.54464576542 </td><td>  0.00000000 </td><td>         inf </td><td> True </td></tr><tr><td> xp77 </td><td> -10.0216037 </td><td>  1.1548e-04 </td><td> (0.00%) </td><td> -10.021603672672251 </td><td>        -inf </td><td>         inf </td><td> True </td></tr><tr><td> A78 </td><td>  251043.543 </td><td>  1463.61439 </td><td> (0.58%) </td><td> 251043.54349240893 </td><td>  0.00000000 </td><td>         inf </td><td> True </td></tr><tr><td> xp78 </td><td> -10.0218503 </td><td>  1.1613e-04 </td><td> (0.00%) </td><td> -10.02185026988651 </td><td>        -inf </td><td>         inf </td><td> True </td></tr><tr><td> A79 </td><td>  250397.584 </td><td>  1463.29562 </td><td> (0.58%) </td><td> 250397.5837440522 </td><td>  0.00000000 </td><td>         inf </td><td> True </td></tr><tr><td> xp79 </td><td> -10.0218220 </td><td>  1.1643e-04 </td><td> (0.00%) </td><td> -10.02182200934593 </td><td>        -inf </td><td>         inf </td><td> True </td></tr><tr><td> A80 </td><td>  253209.065 </td><td>  1464.70708 </td><td> (0.58%) </td><td> 253209.06458293283 </td><td>  0.00000000 </td><td>         inf </td><td> True </td></tr><tr><td> xp80 </td><td> -10.0222853 </td><td>  1.1512e-04 </td><td> (0.00%) </td><td> -10.02228528798953 </td><td>        -inf </td><td>         inf </td><td> True </td></tr><tr><td> A81 </td><td>  251649.764 </td><td>  1463.93925 </td><td> (0.58%) </td><td> 251649.7638136746 </td><td>  0.00000000 </td><td>         inf </td><td> True </td></tr><tr><td> xp81 </td><td> -10.0222673 </td><td>  1.1583e-04 </td><td> (0.00%) </td><td> -10.022267278111187 </td><td>        -inf </td><td>         inf </td><td> True </td></tr><tr><td> A82 </td><td>  251283.317 </td><td>  1463.73510 </td><td> (0.58%) </td><td> 251283.3174711304 </td><td>  0.00000000 </td><td>         inf </td><td> True </td></tr><tr><td> xp82 </td><td> -10.0218466 </td><td>  1.1602e-04 </td><td> (0.00%) </td><td> -10.021846627335435 </td><td>        -inf </td><td>         inf </td><td> True </td></tr><tr><td> A83 </td><td>  254102.781 </td><td>  1465.12527 </td><td> (0.58%) </td><td> 254102.78104461828 </td><td>  0.00000000 </td><td>         inf </td><td> True </td></tr><tr><td> xp83 </td><td> -10.0220026 </td><td>  1.1473e-04 </td><td> (0.00%) </td><td> -10.022002566325034 </td><td>        -inf </td><td>         inf </td><td> True </td></tr><tr><td> A84 </td><td>  248480.543 </td><td>  1462.39622 </td><td> (0.59%) </td><td> 248480.5427191351 </td><td>  0.00000000 </td><td>         inf </td><td> True </td></tr><tr><td> xp84 </td><td> -10.0221708 </td><td>  1.1731e-04 </td><td> (0.00%) </td><td> -10.022170801570939 </td><td>        -inf </td><td>         inf </td><td> True </td></tr><tr><td> A85 </td><td>  249756.312 </td><td>  1462.99779 </td><td> (0.59%) </td><td> 249756.31212174412 </td><td>  0.00000000 </td><td>         inf </td><td> True </td></tr><tr><td> xp85 </td><td> -10.0219431 </td><td>  1.1673e-04 </td><td> (0.00%) </td><td> -10.021943131728902 </td><td>        -inf </td><td>         inf </td><td> True </td></tr><tr><td> A86 </td><td>  249827.069 </td><td>  1463.03414 </td><td> (0.59%) </td><td> 249827.06919035938 </td><td>  0.00000000 </td><td>         inf </td><td> True </td></tr><tr><td> xp86 </td><td> -10.0219631 </td><td>  1.1669e-04 </td><td> (0.00%) </td><td> -10.021963070166308 </td><td>        -inf </td><td>         inf </td><td> True </td></tr><tr><td> A87 </td><td>  246695.884 </td><td>  1461.52506 </td><td> (0.59%) </td><td> 246695.88449732022 </td><td>  0.00000000 </td><td>         inf </td><td> True </td></tr><tr><td> xp87 </td><td> -10.0219657 </td><td>  1.1817e-04 </td><td> (0.00%) </td><td> -10.021965707139707 </td><td>        -inf </td><td>         inf </td><td> True </td></tr><tr><td> A88 </td><td>  248649.784 </td><td>  1462.46547 </td><td> (0.59%) </td><td> 248649.78370668646 </td><td>  0.00000000 </td><td>         inf </td><td> True </td></tr><tr><td> xp88 </td><td> -10.0219795 </td><td>  1.1724e-04 </td><td> (0.00%) </td><td> -10.021979481950405 </td><td>        -inf </td><td>         inf </td><td> True </td></tr><tr><td> A89 </td><td>  243379.829 </td><td>  1459.93667 </td><td> (0.60%) </td><td> 243379.82897387337 </td><td>  0.00000000 </td><td>         inf </td><td> True </td></tr><tr><td> xp89 </td><td> -10.0218482 </td><td>  1.1979e-04 </td><td> (0.00%) </td><td> -10.021848151459187 </td><td>        -inf </td><td>         inf </td><td> True </td></tr><tr><td> A90 </td><td>  251004.634 </td><td>  1463.59269 </td><td> (0.58%) </td><td> 251004.63438591146 </td><td>  0.00000000 </td><td>         inf </td><td> True </td></tr><tr><td> xp90 </td><td> -10.0218217 </td><td>  1.1615e-04 </td><td> (0.00%) </td><td> -10.021821675541922 </td><td>        -inf </td><td>         inf </td><td> True </td></tr><tr><td> A91 </td><td>  245767.082 </td><td>  1461.06564 </td><td> (0.59%) </td><td> 245767.08185152194 </td><td>  0.00000000 </td><td>         inf </td><td> True </td></tr><tr><td> xp91 </td><td> -10.0217771 </td><td>  1.1863e-04 </td><td> (0.00%) </td><td> -10.021777069710351 </td><td>        -inf </td><td>         inf </td><td> True </td></tr></table>"
      ],
      "text/plain": [
       "Parameters([('A92',\n",
       "             <Parameter 'A92', value=242423.71860363588 +/- 1.46e+03, bounds=[0:inf]>),\n",
       "            ('alpha',\n",
       "             <Parameter 'alpha', value=105.08101365300533 (fixed), bounds=[0:inf]>),\n",
       "            ('beta', <Parameter 'beta', value=1e-10 (fixed), bounds=[0:inf]>),\n",
       "            ('R', <Parameter 'R', value=0 (fixed), bounds=[0:inf]>),\n",
       "            ('gamma',\n",
       "             <Parameter 'gamma', value=0.0020652384465718043 +/- 7.07e-05, bounds=[0:inf]>),\n",
       "            ('sigma',\n",
       "             <Parameter 'sigma', value=0.003909618052501562 +/- 0.000136, bounds=[0:inf]>),\n",
       "            ('k', <Parameter 'k', value=0.05 (fixed), bounds=[0:inf]>),\n",
       "            ('xp92',\n",
       "             <Parameter 'xp92', value=-10.021830599141035 +/- 0.00012, bounds=[-inf:inf]>),\n",
       "            ('A93',\n",
       "             <Parameter 'A93', value=237599.42165985235 +/- 1.46e+03, bounds=[0:inf]>),\n",
       "            ('xp93',\n",
       "             <Parameter 'xp93', value=-10.021929580244192 +/- 0.000123, bounds=[-inf:inf]>),\n",
       "            ('A94',\n",
       "             <Parameter 'A94', value=238568.25659579597 +/- 1.46e+03, bounds=[0:inf]>),\n",
       "            ('xp94',\n",
       "             <Parameter 'xp94', value=-10.021867524886988 +/- 0.000122, bounds=[-inf:inf]>),\n",
       "            ('A95',\n",
       "             <Parameter 'A95', value=238910.2536138044 +/- 1.46e+03, bounds=[0:inf]>),\n",
       "            ('xp95',\n",
       "             <Parameter 'xp95', value=-10.022176495192562 +/- 0.000122, bounds=[-inf:inf]>),\n",
       "            ('A96',\n",
       "             <Parameter 'A96', value=238041.61759382914 +/- 1.46e+03, bounds=[0:inf]>),\n",
       "            ('xp96',\n",
       "             <Parameter 'xp96', value=-10.021916186541734 +/- 0.000122, bounds=[-inf:inf]>),\n",
       "            ('A97',\n",
       "             <Parameter 'A97', value=233876.27126715405 +/- 1.46e+03, bounds=[0:inf]>),\n",
       "            ('xp97',\n",
       "             <Parameter 'xp97', value=-10.02200318650426 +/- 0.000125, bounds=[-inf:inf]>),\n",
       "            ('A98',\n",
       "             <Parameter 'A98', value=237998.34983030756 +/- 1.46e+03, bounds=[0:inf]>),\n",
       "            ('xp98',\n",
       "             <Parameter 'xp98', value=-10.022095270908222 +/- 0.000122, bounds=[-inf:inf]>),\n",
       "            ('A99',\n",
       "             <Parameter 'A99', value=236839.284838065 +/- 1.46e+03, bounds=[0:inf]>),\n",
       "            ('xp99',\n",
       "             <Parameter 'xp99', value=-10.022348098350097 +/- 0.000123, bounds=[-inf:inf]>),\n",
       "            ('A100',\n",
       "             <Parameter 'A100', value=235604.10349699465 +/- 1.46e+03, bounds=[0:inf]>),\n",
       "            ('xp100',\n",
       "             <Parameter 'xp100', value=-10.021949397465411 +/- 0.000124, bounds=[-inf:inf]>),\n",
       "            ('A101',\n",
       "             <Parameter 'A101', value=233382.72054067784 +/- 1.46e+03, bounds=[0:inf]>),\n",
       "            ('xp101',\n",
       "             <Parameter 'xp101', value=-10.022027516609427 +/- 0.000125, bounds=[-inf:inf]>),\n",
       "            ('A72',\n",
       "             <Parameter 'A72', value=254067.65197805755 +/- 1.47e+03, bounds=[0:inf]>),\n",
       "            ('xp72',\n",
       "             <Parameter 'xp72', value=-10.021879427931887 +/- 0.000115, bounds=[-inf:inf]>),\n",
       "            ('A73',\n",
       "             <Parameter 'A73', value=257957.56539846153 +/- 1.47e+03, bounds=[0:inf]>),\n",
       "            ('xp73',\n",
       "             <Parameter 'xp73', value=-10.021505153669047 +/- 0.000113, bounds=[-inf:inf]>),\n",
       "            ('A74',\n",
       "             <Parameter 'A74', value=258347.52532431815 +/- 1.47e+03, bounds=[0:inf]>),\n",
       "            ('xp74',\n",
       "             <Parameter 'xp74', value=-10.021615036682025 +/- 0.000113, bounds=[-inf:inf]>),\n",
       "            ('A75',\n",
       "             <Parameter 'A75', value=255357.22287253264 +/- 1.47e+03, bounds=[0:inf]>),\n",
       "            ('xp75',\n",
       "             <Parameter 'xp75', value=-10.021939471330654 +/- 0.000114, bounds=[-inf:inf]>),\n",
       "            ('A76',\n",
       "             <Parameter 'A76', value=252869.5769564589 +/- 1.46e+03, bounds=[0:inf]>),\n",
       "            ('xp76',\n",
       "             <Parameter 'xp76', value=-10.022136374842322 +/- 0.000115, bounds=[-inf:inf]>),\n",
       "            ('A77',\n",
       "             <Parameter 'A77', value=252489.5446457654 +/- 1.46e+03, bounds=[0:inf]>),\n",
       "            ('xp77',\n",
       "             <Parameter 'xp77', value=-10.021603672672251 +/- 0.000115, bounds=[-inf:inf]>),\n",
       "            ('A78',\n",
       "             <Parameter 'A78', value=251043.54349240896 +/- 1.46e+03, bounds=[0:inf]>),\n",
       "            ('xp78',\n",
       "             <Parameter 'xp78', value=-10.02185026988651 +/- 0.000116, bounds=[-inf:inf]>),\n",
       "            ('A79',\n",
       "             <Parameter 'A79', value=250397.5837440522 +/- 1.46e+03, bounds=[0:inf]>),\n",
       "            ('xp79',\n",
       "             <Parameter 'xp79', value=-10.02182200934593 +/- 0.000116, bounds=[-inf:inf]>),\n",
       "            ('A80',\n",
       "             <Parameter 'A80', value=253209.0645829328 +/- 1.46e+03, bounds=[0:inf]>),\n",
       "            ('xp80',\n",
       "             <Parameter 'xp80', value=-10.02228528798953 +/- 0.000115, bounds=[-inf:inf]>),\n",
       "            ('A81',\n",
       "             <Parameter 'A81', value=251649.7638136746 +/- 1.46e+03, bounds=[0:inf]>),\n",
       "            ('xp81',\n",
       "             <Parameter 'xp81', value=-10.022267278111187 +/- 0.000116, bounds=[-inf:inf]>),\n",
       "            ('A82',\n",
       "             <Parameter 'A82', value=251283.3174711304 +/- 1.46e+03, bounds=[0:inf]>),\n",
       "            ('xp82',\n",
       "             <Parameter 'xp82', value=-10.021846627335435 +/- 0.000116, bounds=[-inf:inf]>),\n",
       "            ('A83',\n",
       "             <Parameter 'A83', value=254102.78104461826 +/- 1.47e+03, bounds=[0:inf]>),\n",
       "            ('xp83',\n",
       "             <Parameter 'xp83', value=-10.022002566325034 +/- 0.000115, bounds=[-inf:inf]>),\n",
       "            ('A84',\n",
       "             <Parameter 'A84', value=248480.5427191351 +/- 1.46e+03, bounds=[0:inf]>),\n",
       "            ('xp84',\n",
       "             <Parameter 'xp84', value=-10.022170801570939 +/- 0.000117, bounds=[-inf:inf]>),\n",
       "            ('A85',\n",
       "             <Parameter 'A85', value=249756.31212174412 +/- 1.46e+03, bounds=[0:inf]>),\n",
       "            ('xp85',\n",
       "             <Parameter 'xp85', value=-10.021943131728902 +/- 0.000117, bounds=[-inf:inf]>),\n",
       "            ('A86',\n",
       "             <Parameter 'A86', value=249827.06919035938 +/- 1.46e+03, bounds=[0:inf]>),\n",
       "            ('xp86',\n",
       "             <Parameter 'xp86', value=-10.021963070166308 +/- 0.000117, bounds=[-inf:inf]>),\n",
       "            ('A87',\n",
       "             <Parameter 'A87', value=246695.88449732022 +/- 1.46e+03, bounds=[0:inf]>),\n",
       "            ('xp87',\n",
       "             <Parameter 'xp87', value=-10.021965707139707 +/- 0.000118, bounds=[-inf:inf]>),\n",
       "            ('A88',\n",
       "             <Parameter 'A88', value=248649.78370668646 +/- 1.46e+03, bounds=[0:inf]>),\n",
       "            ('xp88',\n",
       "             <Parameter 'xp88', value=-10.021979481950405 +/- 0.000117, bounds=[-inf:inf]>),\n",
       "            ('A89',\n",
       "             <Parameter 'A89', value=243379.82897387337 +/- 1.46e+03, bounds=[0:inf]>),\n",
       "            ('xp89',\n",
       "             <Parameter 'xp89', value=-10.021848151459187 +/- 0.00012, bounds=[-inf:inf]>),\n",
       "            ('A90',\n",
       "             <Parameter 'A90', value=251004.63438591146 +/- 1.46e+03, bounds=[0:inf]>),\n",
       "            ('xp90',\n",
       "             <Parameter 'xp90', value=-10.021821675541922 +/- 0.000116, bounds=[-inf:inf]>),\n",
       "            ('A91',\n",
       "             <Parameter 'A91', value=245767.08185152194 +/- 1.46e+03, bounds=[0:inf]>),\n",
       "            ('xp91',\n",
       "             <Parameter 'xp91', value=-10.021777069710351 +/- 0.000119, bounds=[-inf:inf]>)])"
      ]
     },
     "execution_count": 156,
     "metadata": {},
     "output_type": "execute_result"
    }
   ],
   "source": [
    "fit2shared.params"
   ]
  },
  {
   "cell_type": "markdown",
   "metadata": {
    "Collapsed": "true"
   },
   "source": [
    "#### Fit with 2 independent free parameters per dataset and 1 free parameter shared between all datasets\n",
    "Fix gamma to the value obtained from the previous fit"
   ]
  },
  {
   "cell_type": "code",
   "execution_count": 159,
   "metadata": {
    "Collapsed": "false"
   },
   "outputs": [],
   "source": [
    "nSpec = 30\n",
    "spec_rng = range(len(nData)-nSpec, len(nData))\n",
    "\n",
    "# create x and y 1D datasets for fit\n",
    "Xfitdata, Yfitdata = xyBatchFitNData(nData, data_range=spec_rng, data_select=data_select)\n",
    "\n",
    "# create and initialize lmfit Parameters object\n",
    "xpvic_params = xFitInitParams(xpvic_params, pvic_params, data_range=spec_rng, resultParams=fit2shared.params)\n",
    "\n",
    "xpvic_params['gamma'].vary = False\n",
    "\n",
    "### Perform fit \n",
    "fit1shared = minimize(xpVIC_residual, xpvic_params, args=(Xfitdata, Yfitdata, spec_rng))"
   ]
  },
  {
   "cell_type": "code",
   "execution_count": 160,
   "metadata": {
    "Collapsed": "false"
   },
   "outputs": [
    {
     "data": {
      "text/html": [
       "<table><tr><th> name </th><th> value </th><th> standard error </th><th> relative error </th><th> initial value </th><th> min </th><th> max </th><th> vary </th></tr><tr><td> A92 </td><td>  242423.719 </td><td>  1407.60614 </td><td> (0.58%) </td><td> 242423.71860363588 </td><td>  0.00000000 </td><td>         inf </td><td> True </td></tr><tr><td> alpha </td><td>  105.081014 </td><td>  0.00000000 </td><td> (0.00%) </td><td> 105.08101365300533 </td><td>  0.00000000 </td><td>         inf </td><td> False </td></tr><tr><td> beta </td><td>  1.0000e-10 </td><td>  0.00000000 </td><td> (0.00%) </td><td> 1e-10 </td><td>  0.00000000 </td><td>         inf </td><td> False </td></tr><tr><td> R </td><td>  0.00000000 </td><td>  0.00000000 </td><td>  </td><td> 0 </td><td>  0.00000000 </td><td>         inf </td><td> False </td></tr><tr><td> gamma </td><td>  0.00206524 </td><td>  0.00000000 </td><td> (0.00%) </td><td> 0.0020652384465718043 </td><td>  0.00000000 </td><td>         inf </td><td> False </td></tr><tr><td> sigma </td><td>  0.00390962 </td><td>  6.2932e-05 </td><td> (1.61%) </td><td> 0.003909618052501562 </td><td>  0.00000000 </td><td>         inf </td><td> True </td></tr><tr><td> k </td><td>  0.05000000 </td><td>  0.00000000 </td><td> (0.00%) </td><td> 0.05 </td><td>  0.00000000 </td><td>         inf </td><td> False </td></tr><tr><td> xp92 </td><td> -10.0218306 </td><td>  1.2025e-04 </td><td> (0.00%) </td><td> -10.021830599141035 </td><td>        -inf </td><td>         inf </td><td> True </td></tr><tr><td> A93 </td><td>  237599.422 </td><td>  1407.35181 </td><td> (0.59%) </td><td> 237599.42165985235 </td><td>  0.00000000 </td><td>         inf </td><td> True </td></tr><tr><td> xp93 </td><td> -10.0219296 </td><td>  1.2268e-04 </td><td> (0.00%) </td><td> -10.021929580244192 </td><td>        -inf </td><td>         inf </td><td> True </td></tr><tr><td> A94 </td><td>  238568.257 </td><td>  1407.39989 </td><td> (0.59%) </td><td> 238568.25659579597 </td><td>  0.00000000 </td><td>         inf </td><td> True </td></tr><tr><td> xp94 </td><td> -10.0218675 </td><td>  1.2219e-04 </td><td> (0.00%) </td><td> -10.021867524886988 </td><td>        -inf </td><td>         inf </td><td> True </td></tr><tr><td> A95 </td><td>  238910.254 </td><td>  1407.43423 </td><td> (0.59%) </td><td> 238910.2536138044 </td><td>  0.00000000 </td><td>         inf </td><td> True </td></tr><tr><td> xp95 </td><td> -10.0221765 </td><td>  1.2200e-04 </td><td> (0.00%) </td><td> -10.022176495192562 </td><td>        -inf </td><td>         inf </td><td> True </td></tr><tr><td> A96 </td><td>  238041.618 </td><td>  1407.37494 </td><td> (0.59%) </td><td> 238041.61759382914 </td><td>  0.00000000 </td><td>         inf </td><td> True </td></tr><tr><td> xp96 </td><td> -10.0219162 </td><td>  1.2246e-04 </td><td> (0.00%) </td><td> -10.021916186541734 </td><td>        -inf </td><td>         inf </td><td> True </td></tr><tr><td> A97 </td><td>  233876.271 </td><td>  1407.15861 </td><td> (0.60%) </td><td> 233876.27126715405 </td><td>  0.00000000 </td><td>         inf </td><td> True </td></tr><tr><td> xp97 </td><td> -10.0220032 </td><td>  1.2463e-04 </td><td> (0.00%) </td><td> -10.02200318650426 </td><td>        -inf </td><td>         inf </td><td> True </td></tr><tr><td> A98 </td><td>  237998.350 </td><td>  1407.38112 </td><td> (0.59%) </td><td> 237998.34983030756 </td><td>  0.00000000 </td><td>         inf </td><td> True </td></tr><tr><td> xp98 </td><td> -10.0220953 </td><td>  1.2247e-04 </td><td> (0.00%) </td><td> -10.022095270908222 </td><td>        -inf </td><td>         inf </td><td> True </td></tr><tr><td> A99 </td><td>  236839.285 </td><td>  1407.33070 </td><td> (0.59%) </td><td> 236839.284838065 </td><td>  0.00000000 </td><td>         inf </td><td> True </td></tr><tr><td> xp99 </td><td> -10.0223481 </td><td>  1.2305e-04 </td><td> (0.00%) </td><td> -10.022348098350097 </td><td>        -inf </td><td>         inf </td><td> True </td></tr><tr><td> A100 </td><td>  235604.103 </td><td>  1407.24647 </td><td> (0.60%) </td><td> 235604.10349699465 </td><td>  0.00000000 </td><td>         inf </td><td> True </td></tr><tr><td> xp100 </td><td> -10.0219494 </td><td>  1.2372e-04 </td><td> (0.00%) </td><td> -10.021949397465411 </td><td>        -inf </td><td>         inf </td><td> True </td></tr><tr><td> A101 </td><td>  233382.721 </td><td>  1407.13379 </td><td> (0.60%) </td><td> 233382.72054067784 </td><td>  0.00000000 </td><td>         inf </td><td> True </td></tr><tr><td> xp101 </td><td> -10.0220275 </td><td>  1.2489e-04 </td><td> (0.00%) </td><td> -10.022027516609427 </td><td>        -inf </td><td>         inf </td><td> True </td></tr><tr><td> A72 </td><td>  254067.652 </td><td>  1408.25821 </td><td> (0.55%) </td><td> 254067.65197805755 </td><td>  0.00000000 </td><td>         inf </td><td> True </td></tr><tr><td> xp72 </td><td> -10.0218794 </td><td>  1.1473e-04 </td><td> (0.00%) </td><td> -10.021879427931887 </td><td>        -inf </td><td>         inf </td><td> True </td></tr><tr><td> A73 </td><td>  257957.565 </td><td>  1408.46350 </td><td> (0.55%) </td><td> 257957.56539846153 </td><td>  0.00000000 </td><td>         inf </td><td> True </td></tr><tr><td> xp73 </td><td> -10.0215052 </td><td>  1.1302e-04 </td><td> (0.00%) </td><td> -10.021505153669047 </td><td>        -inf </td><td>         inf </td><td> True </td></tr><tr><td> A74 </td><td>  258347.525 </td><td>  1408.49111 </td><td> (0.55%) </td><td> 258347.52532431815 </td><td>  0.00000000 </td><td>         inf </td><td> True </td></tr><tr><td> xp74 </td><td> -10.0216150 </td><td>  1.1285e-04 </td><td> (0.00%) </td><td> -10.021615036682025 </td><td>        -inf </td><td>         inf </td><td> True </td></tr><tr><td> A75 </td><td>  255357.223 </td><td>  1408.33355 </td><td> (0.55%) </td><td> 255357.22287253264 </td><td>  0.00000000 </td><td>         inf </td><td> True </td></tr><tr><td> xp75 </td><td> -10.0219395 </td><td>  1.1415e-04 </td><td> (0.00%) </td><td> -10.021939471330654 </td><td>        -inf </td><td>         inf </td><td> True </td></tr><tr><td> A76 </td><td>  252869.577 </td><td>  1408.20128 </td><td> (0.56%) </td><td> 252869.5769564589 </td><td>  0.00000000 </td><td>         inf </td><td> True </td></tr><tr><td> xp76 </td><td> -10.0221364 </td><td>  1.1526e-04 </td><td> (0.00%) </td><td> -10.022136374842322 </td><td>        -inf </td><td>         inf </td><td> True </td></tr><tr><td> A77 </td><td>  252489.545 </td><td>  1408.15485 </td><td> (0.56%) </td><td> 252489.5446457654 </td><td>  0.00000000 </td><td>         inf </td><td> True </td></tr><tr><td> xp77 </td><td> -10.0216037 </td><td>  1.1546e-04 </td><td> (0.00%) </td><td> -10.021603672672251 </td><td>        -inf </td><td>         inf </td><td> True </td></tr><tr><td> A78 </td><td>  251043.543 </td><td>  1408.08554 </td><td> (0.56%) </td><td> 251043.54349240896 </td><td>  0.00000000 </td><td>         inf </td><td> True </td></tr><tr><td> xp78 </td><td> -10.0218503 </td><td>  1.1612e-04 </td><td> (0.00%) </td><td> -10.02185026988651 </td><td>        -inf </td><td>         inf </td><td> True </td></tr><tr><td> A79 </td><td>  250397.584 </td><td>  1408.04779 </td><td> (0.56%) </td><td> 250397.5837440522 </td><td>  0.00000000 </td><td>         inf </td><td> True </td></tr><tr><td> xp79 </td><td> -10.0218220 </td><td>  1.1642e-04 </td><td> (0.00%) </td><td> -10.02182200934593 </td><td>        -inf </td><td>         inf </td><td> True </td></tr><tr><td> A80 </td><td>  253209.065 </td><td>  1408.22805 </td><td> (0.56%) </td><td> 253209.0645829328 </td><td>  0.00000000 </td><td>         inf </td><td> True </td></tr><tr><td> xp80 </td><td> -10.0222853 </td><td>  1.1510e-04 </td><td> (0.00%) </td><td> -10.02228528798953 </td><td>        -inf </td><td>         inf </td><td> True </td></tr><tr><td> A81 </td><td>  251649.764 </td><td>  1408.13848 </td><td> (0.56%) </td><td> 251649.7638136746 </td><td>  0.00000000 </td><td>         inf </td><td> True </td></tr><tr><td> xp81 </td><td> -10.0222673 </td><td>  1.1581e-04 </td><td> (0.00%) </td><td> -10.022267278111187 </td><td>        -inf </td><td>         inf </td><td> True </td></tr><tr><td> A82 </td><td>  251283.317 </td><td>  1408.09816 </td><td> (0.56%) </td><td> 251283.3174711304 </td><td>  0.00000000 </td><td>         inf </td><td> True </td></tr><tr><td> xp82 </td><td> -10.0218466 </td><td>  1.1601e-04 </td><td> (0.00%) </td><td> -10.021846627335435 </td><td>        -inf </td><td>         inf </td><td> True </td></tr><tr><td> A83 </td><td>  254102.781 </td><td>  1408.26555 </td><td> (0.55%) </td><td> 254102.78104461826 </td><td>  0.00000000 </td><td>         inf </td><td> True </td></tr><tr><td> xp83 </td><td> -10.0220026 </td><td>  1.1471e-04 </td><td> (0.00%) </td><td> -10.022002566325034 </td><td>        -inf </td><td>         inf </td><td> True </td></tr><tr><td> A84 </td><td>  248480.543 </td><td>  1407.95637 </td><td> (0.57%) </td><td> 248480.5427191351 </td><td>  0.00000000 </td><td>         inf </td><td> True </td></tr><tr><td> xp84 </td><td> -10.0221708 </td><td>  1.1730e-04 </td><td> (0.00%) </td><td> -10.022170801570939 </td><td>        -inf </td><td>         inf </td><td> True </td></tr><tr><td> A85 </td><td>  249756.312 </td><td>  1408.01690 </td><td> (0.56%) </td><td> 249756.31212174412 </td><td>  0.00000000 </td><td>         inf </td><td> True </td></tr><tr><td> xp85 </td><td> -10.0219431 </td><td>  1.1671e-04 </td><td> (0.00%) </td><td> -10.021943131728902 </td><td>        -inf </td><td>         inf </td><td> True </td></tr><tr><td> A86 </td><td>  249827.069 </td><td>  1408.02163 </td><td> (0.56%) </td><td> 249827.06919035938 </td><td>  0.00000000 </td><td>         inf </td><td> True </td></tr><tr><td> xp86 </td><td> -10.0219631 </td><td>  1.1668e-04 </td><td> (0.00%) </td><td> -10.021963070166308 </td><td>        -inf </td><td>         inf </td><td> True </td></tr><tr><td> A87 </td><td>  246695.884 </td><td>  1407.84745 </td><td> (0.57%) </td><td> 246695.88449732022 </td><td>  0.00000000 </td><td>         inf </td><td> True </td></tr><tr><td> xp87 </td><td> -10.0219657 </td><td>  1.1816e-04 </td><td> (0.00%) </td><td> -10.021965707139707 </td><td>        -inf </td><td>         inf </td><td> True </td></tr><tr><td> A88 </td><td>  248649.784 </td><td>  1407.95708 </td><td> (0.57%) </td><td> 248649.78370668646 </td><td>  0.00000000 </td><td>         inf </td><td> True </td></tr><tr><td> xp88 </td><td> -10.0219795 </td><td>  1.1723e-04 </td><td> (0.00%) </td><td> -10.021979481950405 </td><td>        -inf </td><td>         inf </td><td> True </td></tr><tr><td> A89 </td><td>  243379.829 </td><td>  1407.65949 </td><td> (0.58%) </td><td> 243379.82897387337 </td><td>  0.00000000 </td><td>         inf </td><td> True </td></tr><tr><td> xp89 </td><td> -10.0218482 </td><td>  1.1977e-04 </td><td> (0.00%) </td><td> -10.021848151459187 </td><td>        -inf </td><td>         inf </td><td> True </td></tr><tr><td> A90 </td><td>  251004.634 </td><td>  1408.08149 </td><td> (0.56%) </td><td> 251004.63438591146 </td><td>  0.00000000 </td><td>         inf </td><td> True </td></tr><tr><td> xp90 </td><td> -10.0218217 </td><td>  1.1614e-04 </td><td> (0.00%) </td><td> -10.021821675541922 </td><td>        -inf </td><td>         inf </td><td> True </td></tr><tr><td> A91 </td><td>  245767.082 </td><td>  1407.78719 </td><td> (0.57%) </td><td> 245767.08185152194 </td><td>  0.00000000 </td><td>         inf </td><td> True </td></tr><tr><td> xp91 </td><td> -10.0217771 </td><td>  1.1861e-04 </td><td> (0.00%) </td><td> -10.021777069710351 </td><td>        -inf </td><td>         inf </td><td> True </td></tr></table>"
      ],
      "text/plain": [
       "Parameters([('A92',\n",
       "             <Parameter 'A92', value=242423.71860363588 +/- 1.41e+03, bounds=[0:inf]>),\n",
       "            ('alpha',\n",
       "             <Parameter 'alpha', value=105.08101365300533 (fixed), bounds=[0:inf]>),\n",
       "            ('beta', <Parameter 'beta', value=1e-10 (fixed), bounds=[0:inf]>),\n",
       "            ('R', <Parameter 'R', value=0 (fixed), bounds=[0:inf]>),\n",
       "            ('gamma',\n",
       "             <Parameter 'gamma', value=0.0020652384465718043 (fixed), bounds=[0:inf]>),\n",
       "            ('sigma',\n",
       "             <Parameter 'sigma', value=0.003909618052501562 +/- 6.29e-05, bounds=[0:inf]>),\n",
       "            ('k', <Parameter 'k', value=0.05 (fixed), bounds=[0:inf]>),\n",
       "            ('xp92',\n",
       "             <Parameter 'xp92', value=-10.021830599141035 +/- 0.00012, bounds=[-inf:inf]>),\n",
       "            ('A93',\n",
       "             <Parameter 'A93', value=237599.42165985235 +/- 1.41e+03, bounds=[0:inf]>),\n",
       "            ('xp93',\n",
       "             <Parameter 'xp93', value=-10.021929580244192 +/- 0.000123, bounds=[-inf:inf]>),\n",
       "            ('A94',\n",
       "             <Parameter 'A94', value=238568.25659579597 +/- 1.41e+03, bounds=[0:inf]>),\n",
       "            ('xp94',\n",
       "             <Parameter 'xp94', value=-10.021867524886988 +/- 0.000122, bounds=[-inf:inf]>),\n",
       "            ('A95',\n",
       "             <Parameter 'A95', value=238910.2536138044 +/- 1.41e+03, bounds=[0:inf]>),\n",
       "            ('xp95',\n",
       "             <Parameter 'xp95', value=-10.022176495192562 +/- 0.000122, bounds=[-inf:inf]>),\n",
       "            ('A96',\n",
       "             <Parameter 'A96', value=238041.61759382914 +/- 1.41e+03, bounds=[0:inf]>),\n",
       "            ('xp96',\n",
       "             <Parameter 'xp96', value=-10.021916186541734 +/- 0.000122, bounds=[-inf:inf]>),\n",
       "            ('A97',\n",
       "             <Parameter 'A97', value=233876.27126715405 +/- 1.41e+03, bounds=[0:inf]>),\n",
       "            ('xp97',\n",
       "             <Parameter 'xp97', value=-10.02200318650426 +/- 0.000125, bounds=[-inf:inf]>),\n",
       "            ('A98',\n",
       "             <Parameter 'A98', value=237998.34983030756 +/- 1.41e+03, bounds=[0:inf]>),\n",
       "            ('xp98',\n",
       "             <Parameter 'xp98', value=-10.022095270908222 +/- 0.000122, bounds=[-inf:inf]>),\n",
       "            ('A99',\n",
       "             <Parameter 'A99', value=236839.284838065 +/- 1.41e+03, bounds=[0:inf]>),\n",
       "            ('xp99',\n",
       "             <Parameter 'xp99', value=-10.022348098350097 +/- 0.000123, bounds=[-inf:inf]>),\n",
       "            ('A100',\n",
       "             <Parameter 'A100', value=235604.10349699465 +/- 1.41e+03, bounds=[0:inf]>),\n",
       "            ('xp100',\n",
       "             <Parameter 'xp100', value=-10.021949397465411 +/- 0.000124, bounds=[-inf:inf]>),\n",
       "            ('A101',\n",
       "             <Parameter 'A101', value=233382.72054067784 +/- 1.41e+03, bounds=[0:inf]>),\n",
       "            ('xp101',\n",
       "             <Parameter 'xp101', value=-10.022027516609427 +/- 0.000125, bounds=[-inf:inf]>),\n",
       "            ('A72',\n",
       "             <Parameter 'A72', value=254067.65197805755 +/- 1.41e+03, bounds=[0:inf]>),\n",
       "            ('xp72',\n",
       "             <Parameter 'xp72', value=-10.021879427931887 +/- 0.000115, bounds=[-inf:inf]>),\n",
       "            ('A73',\n",
       "             <Parameter 'A73', value=257957.56539846153 +/- 1.41e+03, bounds=[0:inf]>),\n",
       "            ('xp73',\n",
       "             <Parameter 'xp73', value=-10.021505153669047 +/- 0.000113, bounds=[-inf:inf]>),\n",
       "            ('A74',\n",
       "             <Parameter 'A74', value=258347.52532431815 +/- 1.41e+03, bounds=[0:inf]>),\n",
       "            ('xp74',\n",
       "             <Parameter 'xp74', value=-10.021615036682025 +/- 0.000113, bounds=[-inf:inf]>),\n",
       "            ('A75',\n",
       "             <Parameter 'A75', value=255357.22287253264 +/- 1.41e+03, bounds=[0:inf]>),\n",
       "            ('xp75',\n",
       "             <Parameter 'xp75', value=-10.021939471330654 +/- 0.000114, bounds=[-inf:inf]>),\n",
       "            ('A76',\n",
       "             <Parameter 'A76', value=252869.5769564589 +/- 1.41e+03, bounds=[0:inf]>),\n",
       "            ('xp76',\n",
       "             <Parameter 'xp76', value=-10.022136374842322 +/- 0.000115, bounds=[-inf:inf]>),\n",
       "            ('A77',\n",
       "             <Parameter 'A77', value=252489.54464576536 +/- 1.41e+03, bounds=[0:inf]>),\n",
       "            ('xp77',\n",
       "             <Parameter 'xp77', value=-10.021603672672251 +/- 0.000115, bounds=[-inf:inf]>),\n",
       "            ('A78',\n",
       "             <Parameter 'A78', value=251043.543492409 +/- 1.41e+03, bounds=[0:inf]>),\n",
       "            ('xp78',\n",
       "             <Parameter 'xp78', value=-10.02185026988651 +/- 0.000116, bounds=[-inf:inf]>),\n",
       "            ('A79',\n",
       "             <Parameter 'A79', value=250397.5837440522 +/- 1.41e+03, bounds=[0:inf]>),\n",
       "            ('xp79',\n",
       "             <Parameter 'xp79', value=-10.02182200934593 +/- 0.000116, bounds=[-inf:inf]>),\n",
       "            ('A80',\n",
       "             <Parameter 'A80', value=253209.0645829328 +/- 1.41e+03, bounds=[0:inf]>),\n",
       "            ('xp80',\n",
       "             <Parameter 'xp80', value=-10.02228528798953 +/- 0.000115, bounds=[-inf:inf]>),\n",
       "            ('A81',\n",
       "             <Parameter 'A81', value=251649.7638136746 +/- 1.41e+03, bounds=[0:inf]>),\n",
       "            ('xp81',\n",
       "             <Parameter 'xp81', value=-10.022267278111187 +/- 0.000116, bounds=[-inf:inf]>),\n",
       "            ('A82',\n",
       "             <Parameter 'A82', value=251283.3174711304 +/- 1.41e+03, bounds=[0:inf]>),\n",
       "            ('xp82',\n",
       "             <Parameter 'xp82', value=-10.021846627335435 +/- 0.000116, bounds=[-inf:inf]>),\n",
       "            ('A83',\n",
       "             <Parameter 'A83', value=254102.78104461823 +/- 1.41e+03, bounds=[0:inf]>),\n",
       "            ('xp83',\n",
       "             <Parameter 'xp83', value=-10.022002566325034 +/- 0.000115, bounds=[-inf:inf]>),\n",
       "            ('A84',\n",
       "             <Parameter 'A84', value=248480.5427191351 +/- 1.41e+03, bounds=[0:inf]>),\n",
       "            ('xp84',\n",
       "             <Parameter 'xp84', value=-10.022170801570939 +/- 0.000117, bounds=[-inf:inf]>),\n",
       "            ('A85',\n",
       "             <Parameter 'A85', value=249756.31212174412 +/- 1.41e+03, bounds=[0:inf]>),\n",
       "            ('xp85',\n",
       "             <Parameter 'xp85', value=-10.021943131728902 +/- 0.000117, bounds=[-inf:inf]>),\n",
       "            ('A86',\n",
       "             <Parameter 'A86', value=249827.06919035938 +/- 1.41e+03, bounds=[0:inf]>),\n",
       "            ('xp86',\n",
       "             <Parameter 'xp86', value=-10.021963070166308 +/- 0.000117, bounds=[-inf:inf]>),\n",
       "            ('A87',\n",
       "             <Parameter 'A87', value=246695.88449732022 +/- 1.41e+03, bounds=[0:inf]>),\n",
       "            ('xp87',\n",
       "             <Parameter 'xp87', value=-10.021965707139707 +/- 0.000118, bounds=[-inf:inf]>),\n",
       "            ('A88',\n",
       "             <Parameter 'A88', value=248649.78370668646 +/- 1.41e+03, bounds=[0:inf]>),\n",
       "            ('xp88',\n",
       "             <Parameter 'xp88', value=-10.021979481950405 +/- 0.000117, bounds=[-inf:inf]>),\n",
       "            ('A89',\n",
       "             <Parameter 'A89', value=243379.82897387337 +/- 1.41e+03, bounds=[0:inf]>),\n",
       "            ('xp89',\n",
       "             <Parameter 'xp89', value=-10.021848151459187 +/- 0.00012, bounds=[-inf:inf]>),\n",
       "            ('A90',\n",
       "             <Parameter 'A90', value=251004.63438591146 +/- 1.41e+03, bounds=[0:inf]>),\n",
       "            ('xp90',\n",
       "             <Parameter 'xp90', value=-10.021821675541922 +/- 0.000116, bounds=[-inf:inf]>),\n",
       "            ('A91',\n",
       "             <Parameter 'A91', value=245767.08185152194 +/- 1.41e+03, bounds=[0:inf]>),\n",
       "            ('xp91',\n",
       "             <Parameter 'xp91', value=-10.021777069710351 +/- 0.000119, bounds=[-inf:inf]>)])"
      ]
     },
     "execution_count": 160,
     "metadata": {},
     "output_type": "execute_result"
    }
   ],
   "source": [
    "fit1shared.params"
   ]
  },
  {
   "cell_type": "markdown",
   "metadata": {
    "Collapsed": "true"
   },
   "source": [
    "#### Fit with 2 independent free parameters per dataset and all parameters shared between datasets fixed\n",
    "Fix sigma to the value obtained from the previous fit"
   ]
  },
  {
   "cell_type": "code",
   "execution_count": 162,
   "metadata": {
    "Collapsed": "false"
   },
   "outputs": [],
   "source": [
    "nSpec = 30\n",
    "spec_rng = range(len(nData)-nSpec, len(nData))\n",
    "\n",
    "# create x and y 1D datasets for fit\n",
    "Xfitdata, Yfitdata = xyBatchFitNData(nData, data_range=spec_rng, data_select=data_select)\n",
    "\n",
    "# create and initialize lmfit Parameters object\n",
    "xpvic_params = xFitInitParams(xpvic_params, pvic_params, data_range=spec_rng, resultParams=fit1shared.params)\n",
    "\n",
    "xpvic_params['sigma'].vary = False\n",
    "\n",
    "### Perform fit \n",
    "fit0shared = minimize(xpVIC_residual, xpvic_params, args=(Xfitdata, Yfitdata, spec_rng))"
   ]
  },
  {
   "cell_type": "code",
   "execution_count": 163,
   "metadata": {
    "Collapsed": "false"
   },
   "outputs": [
    {
     "data": {
      "text/html": [
       "<h2>Fit Statistics</h2><table><tr><td>fitting method</td><td>leastsq</td><td></td></tr><tr><td># function evals</td><td>62</td><td></td></tr><tr><td># data points</td><td>3600</td><td></td></tr><tr><td># variables</td><td>60</td><td></td></tr><tr><td>chi-square</td><td> 4.3619e+13</td><td></td></tr><tr><td>reduced chi-square</td><td> 1.2322e+10</td><td></td></tr><tr><td>Akaike info crit.</td><td> 83704.1867</td><td></td></tr><tr><td>Bayesian info crit.</td><td> 84075.5080</td><td></td></tr></table><h2>Variables</h2><table><tr><th> name </th><th> value </th><th> standard error </th><th> relative error </th><th> initial value </th><th> min </th><th> max </th><th> vary </th></tr><tr><td> A92 </td><td>  242423.787 </td><td>  1400.79819 </td><td> (0.58%) </td><td> 242423.71860363588 </td><td>  0.00000000 </td><td>         inf </td><td> True </td></tr><tr><td> alpha </td><td>  105.081014 </td><td>  0.00000000 </td><td> (0.00%) </td><td> 105.08101365300533 </td><td>  0.00000000 </td><td>         inf </td><td> False </td></tr><tr><td> beta </td><td>  1.0000e-10 </td><td>  0.00000000 </td><td> (0.00%) </td><td> 1e-10 </td><td>  0.00000000 </td><td>         inf </td><td> False </td></tr><tr><td> R </td><td>  0.00000000 </td><td>  0.00000000 </td><td>  </td><td> 0 </td><td>  0.00000000 </td><td>         inf </td><td> False </td></tr><tr><td> gamma </td><td>  0.00206524 </td><td>  0.00000000 </td><td> (0.00%) </td><td> 0.0020652384465718043 </td><td>  0.00000000 </td><td>         inf </td><td> False </td></tr><tr><td> sigma </td><td>  0.00390962 </td><td>  0.00000000 </td><td> (0.00%) </td><td> 0.003909618052501562 </td><td>  0.00000000 </td><td>         inf </td><td> False </td></tr><tr><td> k </td><td>  0.05000000 </td><td>  0.00000000 </td><td> (0.00%) </td><td> 0.05 </td><td>  0.00000000 </td><td>         inf </td><td> False </td></tr><tr><td> xp92 </td><td> -10.0218307 </td><td>  1.2023e-04 </td><td> (0.00%) </td><td> -10.021830599141035 </td><td>        -inf </td><td>         inf </td><td> True </td></tr><tr><td> A93 </td><td>  237599.493 </td><td>  1400.80462 </td><td> (0.59%) </td><td> 237599.42165985235 </td><td>  0.00000000 </td><td>         inf </td><td> True </td></tr><tr><td> xp93 </td><td> -10.0219296 </td><td>  1.2267e-04 </td><td> (0.00%) </td><td> -10.021929580244192 </td><td>        -inf </td><td>         inf </td><td> True </td></tr><tr><td> A94 </td><td>  238568.245 </td><td>  1400.80060 </td><td> (0.59%) </td><td> 238568.25659579597 </td><td>  0.00000000 </td><td>         inf </td><td> True </td></tr><tr><td> xp94 </td><td> -10.0218676 </td><td>  1.2217e-04 </td><td> (0.00%) </td><td> -10.021867524886988 </td><td>        -inf </td><td>         inf </td><td> True </td></tr><tr><td> A95 </td><td>  238910.268 </td><td>  1400.82053 </td><td> (0.59%) </td><td> 238910.2536138044 </td><td>  0.00000000 </td><td>         inf </td><td> True </td></tr><tr><td> xp95 </td><td> -10.0221765 </td><td>  1.2198e-04 </td><td> (0.00%) </td><td> -10.022176495192562 </td><td>        -inf </td><td>         inf </td><td> True </td></tr><tr><td> A96 </td><td>  238041.612 </td><td>  1400.80377 </td><td> (0.59%) </td><td> 238041.61759382914 </td><td>  0.00000000 </td><td>         inf </td><td> True </td></tr><tr><td> xp96 </td><td> -10.0219162 </td><td>  1.2244e-04 </td><td> (0.00%) </td><td> -10.021916186541734 </td><td>        -inf </td><td>         inf </td><td> True </td></tr><tr><td> A97 </td><td>  233876.275 </td><td>  1400.80939 </td><td> (0.60%) </td><td> 233876.27126715405 </td><td>  0.00000000 </td><td>         inf </td><td> True </td></tr><tr><td> xp97 </td><td> -10.0220033 </td><td>  1.2461e-04 </td><td> (0.00%) </td><td> -10.02200318650426 </td><td>        -inf </td><td>         inf </td><td> True </td></tr><tr><td> A98 </td><td>  237998.382 </td><td>  1400.81534 </td><td> (0.59%) </td><td> 237998.34983030756 </td><td>  0.00000000 </td><td>         inf </td><td> True </td></tr><tr><td> xp98 </td><td> -10.0220954 </td><td>  1.2245e-04 </td><td> (0.00%) </td><td> -10.022095270908222 </td><td>        -inf </td><td>         inf </td><td> True </td></tr><tr><td> A99 </td><td>  236839.315 </td><td>  1400.83147 </td><td> (0.59%) </td><td> 236839.284838065 </td><td>  0.00000000 </td><td>         inf </td><td> True </td></tr><tr><td> xp99 </td><td> -10.0223482 </td><td>  1.2303e-04 </td><td> (0.00%) </td><td> -10.022348098350097 </td><td>        -inf </td><td>         inf </td><td> True </td></tr><tr><td> A100 </td><td>  235604.130 </td><td>  1400.80591 </td><td> (0.59%) </td><td> 235604.10349699465 </td><td>  0.00000000 </td><td>         inf </td><td> True </td></tr><tr><td> xp100 </td><td> -10.0219495 </td><td>  1.2370e-04 </td><td> (0.00%) </td><td> -10.021949397465411 </td><td>        -inf </td><td>         inf </td><td> True </td></tr><tr><td> A101 </td><td>  233382.780 </td><td>  1400.81094 </td><td> (0.60%) </td><td> 233382.72054067784 </td><td>  0.00000000 </td><td>         inf </td><td> True </td></tr><tr><td> xp101 </td><td> -10.0220276 </td><td>  1.2488e-04 </td><td> (0.00%) </td><td> -10.022027516609427 </td><td>        -inf </td><td>         inf </td><td> True </td></tr><tr><td> A72 </td><td>  254067.569 </td><td>  1400.80137 </td><td> (0.55%) </td><td> 254067.65197805755 </td><td>  0.00000000 </td><td>         inf </td><td> True </td></tr><tr><td> xp72 </td><td> -10.0218795 </td><td>  1.1472e-04 </td><td> (0.00%) </td><td> -10.021879427931887 </td><td>        -inf </td><td>         inf </td><td> True </td></tr><tr><td> A73 </td><td>  257957.643 </td><td>  1400.77704 </td><td> (0.54%) </td><td> 257957.56539846153 </td><td>  0.00000000 </td><td>         inf </td><td> True </td></tr><tr><td> xp73 </td><td> -10.0215052 </td><td>  1.1301e-04 </td><td> (0.00%) </td><td> -10.021505153669047 </td><td>        -inf </td><td>         inf </td><td> True </td></tr><tr><td> A74 </td><td>  258347.497 </td><td>  1400.78420 </td><td> (0.54%) </td><td> 258347.52532431815 </td><td>  0.00000000 </td><td>         inf </td><td> True </td></tr><tr><td> xp74 </td><td> -10.0216151 </td><td>  1.1283e-04 </td><td> (0.00%) </td><td> -10.021615036682025 </td><td>        -inf </td><td>         inf </td><td> True </td></tr><tr><td> A75 </td><td>  255357.159 </td><td>  1400.80527 </td><td> (0.55%) </td><td> 255357.22287253264 </td><td>  0.00000000 </td><td>         inf </td><td> True </td></tr><tr><td> xp75 </td><td> -10.0219395 </td><td>  1.1413e-04 </td><td> (0.00%) </td><td> -10.021939471330654 </td><td>        -inf </td><td>         inf </td><td> True </td></tr><tr><td> A76 </td><td>  252869.429 </td><td>  1400.81796 </td><td> (0.55%) </td><td> 252869.5769564589 </td><td>  0.00000000 </td><td>         inf </td><td> True </td></tr><tr><td> xp76 </td><td> -10.0221364 </td><td>  1.1525e-04 </td><td> (0.00%) </td><td> -10.022136374842322 </td><td>        -inf </td><td>         inf </td><td> True </td></tr><tr><td> A77 </td><td>  252489.478 </td><td>  1400.78346 </td><td> (0.55%) </td><td> 252489.54464576536 </td><td>  0.00000000 </td><td>         inf </td><td> True </td></tr><tr><td> xp77 </td><td> -10.0216037 </td><td>  1.1545e-04 </td><td> (0.00%) </td><td> -10.021603672672251 </td><td>        -inf </td><td>         inf </td><td> True </td></tr><tr><td> A78 </td><td>  251043.512 </td><td>  1400.79949 </td><td> (0.56%) </td><td> 251043.543492409 </td><td>  0.00000000 </td><td>         inf </td><td> True </td></tr><tr><td> xp78 </td><td> -10.0218503 </td><td>  1.1610e-04 </td><td> (0.00%) </td><td> -10.02185026988651 </td><td>        -inf </td><td>         inf </td><td> True </td></tr><tr><td> A79 </td><td>  250397.582 </td><td>  1400.79764 </td><td> (0.56%) </td><td> 250397.5837440522 </td><td>  0.00000000 </td><td>         inf </td><td> True </td></tr><tr><td> xp79 </td><td> -10.0218220 </td><td>  1.1640e-04 </td><td> (0.00%) </td><td> -10.02182200934593 </td><td>        -inf </td><td>         inf </td><td> True </td></tr><tr><td> A80 </td><td>  253209.120 </td><td>  1400.82747 </td><td> (0.55%) </td><td> 253209.0645829328 </td><td>  0.00000000 </td><td>         inf </td><td> True </td></tr><tr><td> xp80 </td><td> -10.0222853 </td><td>  1.1508e-04 </td><td> (0.00%) </td><td> -10.02228528798953 </td><td>        -inf </td><td>         inf </td><td> True </td></tr><tr><td> A81 </td><td>  251649.706 </td><td>  1400.82632 </td><td> (0.56%) </td><td> 251649.7638136746 </td><td>  0.00000000 </td><td>         inf </td><td> True </td></tr><tr><td> xp81 </td><td> -10.0222673 </td><td>  1.1580e-04 </td><td> (0.00%) </td><td> -10.022267278111187 </td><td>        -inf </td><td>         inf </td><td> True </td></tr><tr><td> A82 </td><td>  251283.365 </td><td>  1400.79925 </td><td> (0.56%) </td><td> 251283.3174711304 </td><td>  0.00000000 </td><td>         inf </td><td> True </td></tr><tr><td> xp82 </td><td> -10.0218466 </td><td>  1.1599e-04 </td><td> (0.00%) </td><td> -10.021846627335435 </td><td>        -inf </td><td>         inf </td><td> True </td></tr><tr><td> A83 </td><td>  254102.759 </td><td>  1400.80934 </td><td> (0.55%) </td><td> 254102.78104461823 </td><td>  0.00000000 </td><td>         inf </td><td> True </td></tr><tr><td> xp83 </td><td> -10.0220026 </td><td>  1.1469e-04 </td><td> (0.00%) </td><td> -10.022002566325034 </td><td>        -inf </td><td>         inf </td><td> True </td></tr><tr><td> A84 </td><td>  248480.398 </td><td>  1400.82017 </td><td> (0.56%) </td><td> 248480.5427191351 </td><td>  0.00000000 </td><td>         inf </td><td> True </td></tr><tr><td> xp84 </td><td> -10.0221708 </td><td>  1.1728e-04 </td><td> (0.00%) </td><td> -10.022170801570939 </td><td>        -inf </td><td>         inf </td><td> True </td></tr><tr><td> A85 </td><td>  249756.384 </td><td>  1400.80550 </td><td> (0.56%) </td><td> 249756.31212174412 </td><td>  0.00000000 </td><td>         inf </td><td> True </td></tr><tr><td> xp85 </td><td> -10.0219432 </td><td>  1.1669e-04 </td><td> (0.00%) </td><td> -10.021943131728902 </td><td>        -inf </td><td>         inf </td><td> True </td></tr><tr><td> A86 </td><td>  249827.093 </td><td>  1400.80679 </td><td> (0.56%) </td><td> 249827.06919035938 </td><td>  0.00000000 </td><td>         inf </td><td> True </td></tr><tr><td> xp86 </td><td> -10.0219631 </td><td>  1.1666e-04 </td><td> (0.00%) </td><td> -10.021963070166308 </td><td>        -inf </td><td>         inf </td><td> True </td></tr><tr><td> A87 </td><td>  246695.846 </td><td>  1400.80695 </td><td> (0.57%) </td><td> 246695.88449732022 </td><td>  0.00000000 </td><td>         inf </td><td> True </td></tr><tr><td> xp87 </td><td> -10.0219657 </td><td>  1.1814e-04 </td><td> (0.00%) </td><td> -10.021965707139707 </td><td>        -inf </td><td>         inf </td><td> True </td></tr><tr><td> A88 </td><td>  248649.916 </td><td>  1400.80785 </td><td> (0.56%) </td><td> 248649.78370668646 </td><td>  0.00000000 </td><td>         inf </td><td> True </td></tr><tr><td> xp88 </td><td> -10.0219795 </td><td>  1.1721e-04 </td><td> (0.00%) </td><td> -10.021979481950405 </td><td>        -inf </td><td>         inf </td><td> True </td></tr><tr><td> A89 </td><td>  243379.871 </td><td>  1400.79935 </td><td> (0.58%) </td><td> 243379.82897387337 </td><td>  0.00000000 </td><td>         inf </td><td> True </td></tr><tr><td> xp89 </td><td> -10.0218482 </td><td>  1.1976e-04 </td><td> (0.00%) </td><td> -10.021848151459187 </td><td>        -inf </td><td>         inf </td><td> True </td></tr><tr><td> A90 </td><td>  251004.560 </td><td>  1400.79763 </td><td> (0.56%) </td><td> 251004.63438591146 </td><td>  0.00000000 </td><td>         inf </td><td> True </td></tr><tr><td> xp90 </td><td> -10.0218217 </td><td>  1.1612e-04 </td><td> (0.00%) </td><td> -10.021821675541922 </td><td>        -inf </td><td>         inf </td><td> True </td></tr><tr><td> A91 </td><td>  245767.228 </td><td>  1400.79473 </td><td> (0.57%) </td><td> 245767.08185152194 </td><td>  0.00000000 </td><td>         inf </td><td> True </td></tr><tr><td> xp91 </td><td> -10.0217771 </td><td>  1.1860e-04 </td><td> (0.00%) </td><td> -10.021777069710351 </td><td>        -inf </td><td>         inf </td><td> True </td></tr></table>"
      ],
      "text/plain": [
       "<lmfit.minimizer.MinimizerResult at 0x1eb9bf90f48>"
      ]
     },
     "execution_count": 163,
     "metadata": {},
     "output_type": "execute_result"
    }
   ],
   "source": [
    "fit0shared"
   ]
  },
  {
   "cell_type": "markdown",
   "metadata": {
    "Collapsed": "false"
   },
   "source": [
    "#### Plot fit result"
   ]
  },
  {
   "cell_type": "code",
   "execution_count": 164,
   "metadata": {
    "Collapsed": "false"
   },
   "outputs": [],
   "source": [
    "bestparams = bestFitParams(spec_rng, pvic_params, result.params)\n",
    "plotMultipleFit(spec_rng, Xfitdata, Yfitdata, xpvic_params, bestparams, nData['H (T)'])"
   ]
  },
  {
   "cell_type": "markdown",
   "metadata": {
    "Collapsed": "true"
   },
   "source": [
    "### Batch fitting of single (8 8 0) peak spectra with single pVIC function\n",
    "above Hc\n",
    "\n",
    "This will help fix the value of the parameters shared by all spectra, i.e. alpha, beta, R, gamma and sigma"
   ]
  }
 ],
 "metadata": {
  "kernelspec": {
   "display_name": "Python 3",
   "language": "python",
   "name": "python3"
  },
  "language_info": {
   "codemirror_mode": {
    "name": "ipython",
    "version": 3
   },
   "file_extension": ".py",
   "mimetype": "text/x-python",
   "name": "python",
   "nbconvert_exporter": "python",
   "pygments_lexer": "ipython3",
   "version": "3.7.7"
  },
  "varInspector": {
   "cols": {
    "lenName": 16,
    "lenType": 16,
    "lenVar": 40
   },
   "kernels_config": {
    "python": {
     "delete_cmd_postfix": "",
     "delete_cmd_prefix": "del ",
     "library": "var_list.py",
     "varRefreshCmd": "print(var_dic_list())"
    },
    "r": {
     "delete_cmd_postfix": ") ",
     "delete_cmd_prefix": "rm(",
     "library": "var_list.r",
     "varRefreshCmd": "cat(var_dic_list()) "
    }
   },
   "types_to_exclude": [
    "module",
    "function",
    "builtin_function_or_method",
    "instance",
    "_Feature"
   ],
   "window_display": false
  }
 },
 "nbformat": 4,
 "nbformat_minor": 4
}
