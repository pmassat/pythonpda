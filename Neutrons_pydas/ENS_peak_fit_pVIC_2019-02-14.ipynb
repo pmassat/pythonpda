{
 "cells": [
  {
   "cell_type": "markdown",
   "metadata": {
    "Collapsed": "false"
   },
   "source": [
    "# TmVO4 neutrons data analysis\n",
    "Fit neutrons diffraction peaks measured on TmVO4 at SNS on 2019-02-14 in order to extract the orthorhombic distortion as a function of magnetic field"
   ]
  },
  {
   "cell_type": "markdown",
   "metadata": {
    "Collapsed": "true",
    "heading_collapsed": true
   },
   "source": [
    "## Import modules"
   ]
  },
  {
   "cell_type": "code",
   "execution_count": 114,
   "metadata": {
    "Collapsed": "false",
    "hidden": true
   },
   "outputs": [],
   "source": [
    "from mpl_toolkits.mplot3d import Axes3D# for 3D plotting\n",
    "import matplotlib.tri as mtri# for triangulation of unevenly separated data, like our magnetic field data\n",
    "\n",
    "import copy as cp, numpy as np, pandas as pd, pickle, os, re\n",
    "from datetime import date\n",
    "\n",
    "import importlib, sys \n",
    "import matplotlib\n",
    "from matplotlib import cm, pyplot as plt, rcsetup, rc, rcParams# import matplotlib.pyplot as plt\n",
    "# cm stands for colormap\n",
    "from matplotlib.ticker import LogLocator, LinearLocator, FormatStrFormatter\n",
    "from scipy.interpolate import griddata\n",
    "from scipy.special import erfc, exp1\n",
    "\n",
    "from lmfit import minimize, Model, Parameters, report_fit, fit_report\n",
    "from lmfit.models import LinearModel\n",
    "# import pytest"
   ]
  },
  {
   "cell_type": "markdown",
   "metadata": {
    "Collapsed": "true",
    "heading_collapsed": true
   },
   "source": [
    "## Import data"
   ]
  },
  {
   "cell_type": "markdown",
   "metadata": {
    "Collapsed": "false",
    "hidden": true
   },
   "source": [
    "### Coarse data"
   ]
  },
  {
   "cell_type": "code",
   "execution_count": 2,
   "metadata": {
    "Collapsed": "false",
    "hidden": true,
    "scrolled": true
   },
   "outputs": [
    {
     "data": {
      "text/html": [
       "<div>\n",
       "<style scoped>\n",
       "    .dataframe tbody tr th:only-of-type {\n",
       "        vertical-align: middle;\n",
       "    }\n",
       "\n",
       "    .dataframe tbody tr th {\n",
       "        vertical-align: top;\n",
       "    }\n",
       "\n",
       "    .dataframe thead th {\n",
       "        text-align: right;\n",
       "    }\n",
       "</style>\n",
       "<table border=\"1\" class=\"dataframe\">\n",
       "  <thead>\n",
       "    <tr style=\"text-align: right;\">\n",
       "      <th></th>\n",
       "      <th>filename</th>\n",
       "      <th>H (T)</th>\n",
       "      <th>T (K)</th>\n",
       "      <th>spectra</th>\n",
       "    </tr>\n",
       "  </thead>\n",
       "  <tbody>\n",
       "    <tr>\n",
       "      <th>0</th>\n",
       "      <td>p6K_1T.txt</td>\n",
       "      <td>1.00</td>\n",
       "      <td>0.6</td>\n",
       "      <td>hh0          I        dI\n",
       "0    -11.99...</td>\n",
       "    </tr>\n",
       "    <tr>\n",
       "      <th>1</th>\n",
       "      <td>p6K_1T_new.txt</td>\n",
       "      <td>1.00</td>\n",
       "      <td>0.6</td>\n",
       "      <td>hh0          I        dI\n",
       "0    -11.99...</td>\n",
       "    </tr>\n",
       "    <tr>\n",
       "      <th>2</th>\n",
       "      <td>p6K_p05T.txt</td>\n",
       "      <td>0.05</td>\n",
       "      <td>0.6</td>\n",
       "      <td>hh0         I       dI\n",
       "0    -11.9975...</td>\n",
       "    </tr>\n",
       "    <tr>\n",
       "      <th>3</th>\n",
       "      <td>p6K_p4T.txt</td>\n",
       "      <td>0.40</td>\n",
       "      <td>0.6</td>\n",
       "      <td>hh0         I        dI\n",
       "0    -11.997...</td>\n",
       "    </tr>\n",
       "    <tr>\n",
       "      <th>4</th>\n",
       "      <td>p6K_p5T.txt</td>\n",
       "      <td>0.50</td>\n",
       "      <td>0.6</td>\n",
       "      <td>hh0          I        dI\n",
       "0    -11.99...</td>\n",
       "    </tr>\n",
       "    <tr>\n",
       "      <th>5</th>\n",
       "      <td>p6K_p6T.txt</td>\n",
       "      <td>0.60</td>\n",
       "      <td>0.6</td>\n",
       "      <td>hh0          I        dI\n",
       "0    -11.99...</td>\n",
       "    </tr>\n",
       "    <tr>\n",
       "      <th>6</th>\n",
       "      <td>p6K_p77T.txt</td>\n",
       "      <td>0.77</td>\n",
       "      <td>0.6</td>\n",
       "      <td>hh0          I        dI\n",
       "0    -11.99...</td>\n",
       "    </tr>\n",
       "    <tr>\n",
       "      <th>7</th>\n",
       "      <td>p6K_p7T.txt</td>\n",
       "      <td>0.70</td>\n",
       "      <td>0.6</td>\n",
       "      <td>hh0          I        dI\n",
       "0    -11.99...</td>\n",
       "    </tr>\n",
       "    <tr>\n",
       "      <th>8</th>\n",
       "      <td>p6K_p83T.txt</td>\n",
       "      <td>0.83</td>\n",
       "      <td>0.6</td>\n",
       "      <td>hh0          I        dI\n",
       "0    -11.99...</td>\n",
       "    </tr>\n",
       "    <tr>\n",
       "      <th>9</th>\n",
       "      <td>p6K_p97T.txt</td>\n",
       "      <td>0.97</td>\n",
       "      <td>0.6</td>\n",
       "      <td>hh0          I        dI\n",
       "0    -11.99...</td>\n",
       "    </tr>\n",
       "    <tr>\n",
       "      <th>10</th>\n",
       "      <td>p6K_p9T.txt</td>\n",
       "      <td>0.90</td>\n",
       "      <td>0.6</td>\n",
       "      <td>hh0          I        dI\n",
       "0    -11.99...</td>\n",
       "    </tr>\n",
       "  </tbody>\n",
       "</table>\n",
       "</div>"
      ],
      "text/plain": [
       "          filename  ...                                            spectra\n",
       "0       p6K_1T.txt  ...            hh0          I        dI\n",
       "0    -11.99...\n",
       "1   p6K_1T_new.txt  ...            hh0          I        dI\n",
       "0    -11.99...\n",
       "2     p6K_p05T.txt  ...            hh0         I       dI\n",
       "0    -11.9975...\n",
       "3      p6K_p4T.txt  ...            hh0         I        dI\n",
       "0    -11.997...\n",
       "4      p6K_p5T.txt  ...            hh0          I        dI\n",
       "0    -11.99...\n",
       "5      p6K_p6T.txt  ...            hh0          I        dI\n",
       "0    -11.99...\n",
       "6     p6K_p77T.txt  ...            hh0          I        dI\n",
       "0    -11.99...\n",
       "7      p6K_p7T.txt  ...            hh0          I        dI\n",
       "0    -11.99...\n",
       "8     p6K_p83T.txt  ...            hh0          I        dI\n",
       "0    -11.99...\n",
       "9     p6K_p97T.txt  ...            hh0          I        dI\n",
       "0    -11.99...\n",
       "10     p6K_p9T.txt  ...            hh0          I        dI\n",
       "0    -11.99...\n",
       "\n",
       "[11 rows x 4 columns]"
      ]
     },
     "execution_count": 2,
     "metadata": {},
     "output_type": "execute_result"
    }
   ],
   "source": [
    "tempPath = r'C:\\Users\\Pierre\\Desktop\\Postdoc\\TmVO4\\TmVO4_neutrons\\2019-02_ORNL_Corelli\\2019-02-14'\n",
    "os.chdir(tempPath)\n",
    "(_, _, filenames) = next(os.walk(tempPath))# the walk() function lists the content of the directory that it is given as argument,\n",
    "# and of its subdirectories; the next() function returns the next output of the walk() function;\n",
    "# when used only once, it returns only the first output which is the content of the parent directory, \n",
    "# listed as a tuple of the form (dirpath, dirnames, filenames)\n",
    "filenames = [filename for filename in filenames if 'p6K_' in filename]# keep only files that match the string pattern of datafilestempList = [None]*len(filenames)# Pre-allocate temporary list to store the data that will then be converted into a Pandas DataFrame\n",
    "\n",
    "tempList = [None]*len(filenames)\n",
    "for idx, filename in enumerate(filenames):# For each data file\n",
    "    H = float(re.split('p6K_(\\w*)T\\w*.txt',filenames[idx])[1].replace('p','.'))# Extract value of magnetic field from filename\n",
    "    tempDF = pd.read_csv(filenames[idx],names=[\"hh0\",\"I\",\"dI\"],skiprows=2,delimiter=',')# import data as a Pandas DataFrame\n",
    "    tempList[idx] = {'filename': filenames[idx],# Store into a dictionary, which is itself an element of tempList: the filename,\n",
    "                   'H (T)': H,# value of magnetic field,\n",
    "                   'T (K)': 0.6,# temperature,\n",
    "                   'spectra': tempDF# and data stored as Pandas dataframe\n",
    "                   }\n",
    "coarseData = pd.DataFrame(tempList)# Convert the list of dictionaries into a Pandas DataFrame\n",
    "del idx, H, tempPath, filename, filenames, tempList, tempDF# delete temporary variables after use \n",
    "coarseData# Show the resulting DataFrame"
   ]
  },
  {
   "cell_type": "code",
   "execution_count": 3,
   "metadata": {
    "Collapsed": "false",
    "hidden": true
   },
   "outputs": [
    {
     "data": {
      "text/html": [
       "<div>\n",
       "<style scoped>\n",
       "    .dataframe tbody tr th:only-of-type {\n",
       "        vertical-align: middle;\n",
       "    }\n",
       "\n",
       "    .dataframe tbody tr th {\n",
       "        vertical-align: top;\n",
       "    }\n",
       "\n",
       "    .dataframe thead th {\n",
       "        text-align: right;\n",
       "    }\n",
       "</style>\n",
       "<table border=\"1\" class=\"dataframe\">\n",
       "  <thead>\n",
       "    <tr style=\"text-align: right;\">\n",
       "      <th></th>\n",
       "      <th>hh0</th>\n",
       "      <th>I</th>\n",
       "      <th>dI</th>\n",
       "    </tr>\n",
       "  </thead>\n",
       "  <tbody>\n",
       "    <tr>\n",
       "      <th>0</th>\n",
       "      <td>-11.9975</td>\n",
       "      <td>142028.0</td>\n",
       "      <td>52309.7</td>\n",
       "    </tr>\n",
       "    <tr>\n",
       "      <th>1</th>\n",
       "      <td>-11.9925</td>\n",
       "      <td>220372.0</td>\n",
       "      <td>62925.4</td>\n",
       "    </tr>\n",
       "    <tr>\n",
       "      <th>2</th>\n",
       "      <td>-11.9875</td>\n",
       "      <td>220002.0</td>\n",
       "      <td>62818.9</td>\n",
       "    </tr>\n",
       "    <tr>\n",
       "      <th>3</th>\n",
       "      <td>-11.9825</td>\n",
       "      <td>518428.0</td>\n",
       "      <td>92939.8</td>\n",
       "    </tr>\n",
       "    <tr>\n",
       "      <th>4</th>\n",
       "      <td>-11.9775</td>\n",
       "      <td>817317.0</td>\n",
       "      <td>127501.0</td>\n",
       "    </tr>\n",
       "  </tbody>\n",
       "</table>\n",
       "</div>"
      ],
      "text/plain": [
       "       hh0         I        dI\n",
       "0 -11.9975  142028.0   52309.7\n",
       "1 -11.9925  220372.0   62925.4\n",
       "2 -11.9875  220002.0   62818.9\n",
       "3 -11.9825  518428.0   92939.8\n",
       "4 -11.9775  817317.0  127501.0"
      ]
     },
     "execution_count": 3,
     "metadata": {},
     "output_type": "execute_result"
    }
   ],
   "source": [
    "coarseData.spectra[3].head()# Check the content of individual datasets after importation"
   ]
  },
  {
   "cell_type": "markdown",
   "metadata": {
    "Collapsed": "false",
    "hidden": true
   },
   "source": [
    "### Fine data"
   ]
  },
  {
   "cell_type": "code",
   "execution_count": 4,
   "metadata": {
    "Collapsed": "false",
    "hidden": true
   },
   "outputs": [
    {
     "data": {
      "text/html": [
       "<div>\n",
       "<style scoped>\n",
       "    .dataframe tbody tr th:only-of-type {\n",
       "        vertical-align: middle;\n",
       "    }\n",
       "\n",
       "    .dataframe tbody tr th {\n",
       "        vertical-align: top;\n",
       "    }\n",
       "\n",
       "    .dataframe thead th {\n",
       "        text-align: right;\n",
       "    }\n",
       "</style>\n",
       "<table border=\"1\" class=\"dataframe\">\n",
       "  <thead>\n",
       "    <tr style=\"text-align: right;\">\n",
       "      <th></th>\n",
       "      <th>File #</th>\n",
       "      <th>T (K)</th>\n",
       "      <th>H (T)</th>\n",
       "      <th>Proton charge</th>\n",
       "    </tr>\n",
       "  </thead>\n",
       "  <tbody>\n",
       "    <tr>\n",
       "      <th>0</th>\n",
       "      <td>88631</td>\n",
       "      <td>0.605973</td>\n",
       "      <td>0.000000</td>\n",
       "      <td>1.312139</td>\n",
       "    </tr>\n",
       "    <tr>\n",
       "      <th>1</th>\n",
       "      <td>88632</td>\n",
       "      <td>0.613334</td>\n",
       "      <td>0.049998</td>\n",
       "      <td>0.800119</td>\n",
       "    </tr>\n",
       "    <tr>\n",
       "      <th>2</th>\n",
       "      <td>88633</td>\n",
       "      <td>0.605727</td>\n",
       "      <td>0.099996</td>\n",
       "      <td>0.083534</td>\n",
       "    </tr>\n",
       "    <tr>\n",
       "      <th>3</th>\n",
       "      <td>88634</td>\n",
       "      <td>0.625493</td>\n",
       "      <td>0.099996</td>\n",
       "      <td>0.800739</td>\n",
       "    </tr>\n",
       "    <tr>\n",
       "      <th>4</th>\n",
       "      <td>88635</td>\n",
       "      <td>0.618220</td>\n",
       "      <td>0.150005</td>\n",
       "      <td>0.801294</td>\n",
       "    </tr>\n",
       "  </tbody>\n",
       "</table>\n",
       "</div>"
      ],
      "text/plain": [
       "   File #     T (K)     H (T)  Proton charge\n",
       "0   88631  0.605973  0.000000       1.312139\n",
       "1   88632  0.613334  0.049998       0.800119\n",
       "2   88633  0.605727  0.099996       0.083534\n",
       "3   88634  0.625493  0.099996       0.800739\n",
       "4   88635  0.618220  0.150005       0.801294"
      ]
     },
     "execution_count": 4,
     "metadata": {},
     "output_type": "execute_result"
    }
   ],
   "source": [
    "tempPath = r'C:\\Users\\Pierre\\Desktop\\Postdoc\\TmVO4\\TmVO4_neutrons\\2019-02_ORNL_Corelli\\2019-02-14\\p6K\\linecut_f'\n",
    "os.chdir(tempPath)\n",
    "fieldInfo = pd.read_csv('field_info.txt',header=None,names=['File #','T (K)','H (T)','Proton charge'],delimiter=' ')\n",
    "fieldInfo['File #'] = fieldInfo['File #'].astype('int')# replace file number type from float to int\n",
    "fieldInfo.head()\n",
    "# fieldInfo['File #'].dtype# check that the change of datatype is effective"
   ]
  },
  {
   "cell_type": "code",
   "execution_count": 5,
   "metadata": {
    "Collapsed": "false",
    "hidden": true
   },
   "outputs": [
    {
     "data": {
      "text/html": [
       "<div>\n",
       "<style scoped>\n",
       "    .dataframe tbody tr th:only-of-type {\n",
       "        vertical-align: middle;\n",
       "    }\n",
       "\n",
       "    .dataframe tbody tr th {\n",
       "        vertical-align: top;\n",
       "    }\n",
       "\n",
       "    .dataframe thead th {\n",
       "        text-align: right;\n",
       "    }\n",
       "</style>\n",
       "<table border=\"1\" class=\"dataframe\">\n",
       "  <thead>\n",
       "    <tr style=\"text-align: right;\">\n",
       "      <th></th>\n",
       "      <th>filename</th>\n",
       "      <th>T (K)</th>\n",
       "      <th>H (T)</th>\n",
       "      <th>Proton charge</th>\n",
       "      <th>spectra</th>\n",
       "    </tr>\n",
       "  </thead>\n",
       "  <tbody>\n",
       "    <tr>\n",
       "      <th>0</th>\n",
       "      <td>HH0_88631.txt</td>\n",
       "      <td>0.605973</td>\n",
       "      <td>0.000000</td>\n",
       "      <td>1.312139</td>\n",
       "      <td>hh0    I   dI\n",
       "0    -12.99880  0.0  ...</td>\n",
       "    </tr>\n",
       "    <tr>\n",
       "      <th>1</th>\n",
       "      <td>HH0_88632.txt</td>\n",
       "      <td>0.613334</td>\n",
       "      <td>0.049998</td>\n",
       "      <td>0.800119</td>\n",
       "      <td>hh0    I   dI\n",
       "0    -12.99880  0.0  ...</td>\n",
       "    </tr>\n",
       "    <tr>\n",
       "      <th>2</th>\n",
       "      <td>HH0_88633.txt</td>\n",
       "      <td>0.605727</td>\n",
       "      <td>0.099996</td>\n",
       "      <td>0.083534</td>\n",
       "      <td>hh0    I   dI\n",
       "0    -12.99880  0.0  ...</td>\n",
       "    </tr>\n",
       "    <tr>\n",
       "      <th>3</th>\n",
       "      <td>HH0_88634.txt</td>\n",
       "      <td>0.625493</td>\n",
       "      <td>0.099996</td>\n",
       "      <td>0.800739</td>\n",
       "      <td>hh0    I   dI\n",
       "0    -12.99880  0.0  ...</td>\n",
       "    </tr>\n",
       "    <tr>\n",
       "      <th>4</th>\n",
       "      <td>HH0_88635.txt</td>\n",
       "      <td>0.618220</td>\n",
       "      <td>0.150005</td>\n",
       "      <td>0.801294</td>\n",
       "      <td>hh0    I   dI\n",
       "0    -12.99880  0.0  ...</td>\n",
       "    </tr>\n",
       "  </tbody>\n",
       "</table>\n",
       "</div>"
      ],
      "text/plain": [
       "        filename  ...                                            spectra\n",
       "0  HH0_88631.txt  ...             hh0    I   dI\n",
       "0    -12.99880  0.0  ...\n",
       "1  HH0_88632.txt  ...             hh0    I   dI\n",
       "0    -12.99880  0.0  ...\n",
       "2  HH0_88633.txt  ...             hh0    I   dI\n",
       "0    -12.99880  0.0  ...\n",
       "3  HH0_88634.txt  ...             hh0    I   dI\n",
       "0    -12.99880  0.0  ...\n",
       "4  HH0_88635.txt  ...             hh0    I   dI\n",
       "0    -12.99880  0.0  ...\n",
       "\n",
       "[5 rows x 5 columns]"
      ]
     },
     "execution_count": 5,
     "metadata": {},
     "output_type": "execute_result"
    }
   ],
   "source": [
    "tempList = [None]*len(fieldInfo)# Preallocate list to store the data that will then be converted into a Pandas DataFrame\n",
    "for idx in range(len(fieldInfo)):# For each data file\n",
    "    filename = ''.join(['HH0_',str(fieldInfo['File #'][idx]),'.txt'])\n",
    "#     print(filename)\n",
    "    tempDF = pd.read_csv(filename,names=[\"hh0\",\"I\",\"dI\"],skiprows=2,delimiter=',')# Import data as a Pandas DataFrame\n",
    "    tempList[idx] = {'filename': filename,# Store into a dictionary, which is itself an element of dfList: the filename,\n",
    "                     'T (K)': fieldInfo['T (K)'][idx],# temperature,\n",
    "                     'H (T)': fieldInfo['H (T)'][idx],# value of magnetic field,\n",
    "                     'Proton charge': fieldInfo['Proton charge'][idx],# proton charge,\n",
    "                     'spectra': tempDF# and data,\n",
    "                     }\n",
    "linecut_f_raw = pd.DataFrame(tempList)# Convert the list of dictionaries into a Pandas DataFrame\n",
    "linecut_f_raw.head()# Show the resulting DataFrame"
   ]
  },
  {
   "cell_type": "code",
   "execution_count": 6,
   "metadata": {
    "Collapsed": "false",
    "hidden": true
   },
   "outputs": [],
   "source": [
    "del idx, tempPath, filename, tempList, tempDF# delete temporary variables after use "
   ]
  },
  {
   "cell_type": "code",
   "execution_count": 7,
   "metadata": {
    "Collapsed": "false",
    "hidden": true
   },
   "outputs": [
    {
     "data": {
      "text/html": [
       "<div>\n",
       "<style scoped>\n",
       "    .dataframe tbody tr th:only-of-type {\n",
       "        vertical-align: middle;\n",
       "    }\n",
       "\n",
       "    .dataframe tbody tr th {\n",
       "        vertical-align: top;\n",
       "    }\n",
       "\n",
       "    .dataframe thead th {\n",
       "        text-align: right;\n",
       "    }\n",
       "</style>\n",
       "<table border=\"1\" class=\"dataframe\">\n",
       "  <thead>\n",
       "    <tr style=\"text-align: right;\">\n",
       "      <th></th>\n",
       "      <th>hh0</th>\n",
       "      <th>I</th>\n",
       "      <th>dI</th>\n",
       "    </tr>\n",
       "  </thead>\n",
       "  <tbody>\n",
       "    <tr>\n",
       "      <th>180</th>\n",
       "      <td>-12.5487</td>\n",
       "      <td>0.0</td>\n",
       "      <td>0.0</td>\n",
       "    </tr>\n",
       "    <tr>\n",
       "      <th>181</th>\n",
       "      <td>-12.5462</td>\n",
       "      <td>0.0</td>\n",
       "      <td>0.0</td>\n",
       "    </tr>\n",
       "    <tr>\n",
       "      <th>182</th>\n",
       "      <td>-12.5437</td>\n",
       "      <td>0.0</td>\n",
       "      <td>0.0</td>\n",
       "    </tr>\n",
       "    <tr>\n",
       "      <th>183</th>\n",
       "      <td>-12.5412</td>\n",
       "      <td>0.0</td>\n",
       "      <td>0.0</td>\n",
       "    </tr>\n",
       "    <tr>\n",
       "      <th>184</th>\n",
       "      <td>-12.5388</td>\n",
       "      <td>0.0</td>\n",
       "      <td>0.0</td>\n",
       "    </tr>\n",
       "    <tr>\n",
       "      <th>185</th>\n",
       "      <td>-12.5363</td>\n",
       "      <td>0.0</td>\n",
       "      <td>0.0</td>\n",
       "    </tr>\n",
       "  </tbody>\n",
       "</table>\n",
       "</div>"
      ],
      "text/plain": [
       "         hh0    I   dI\n",
       "180 -12.5487  0.0  0.0\n",
       "181 -12.5462  0.0  0.0\n",
       "182 -12.5437  0.0  0.0\n",
       "183 -12.5412  0.0  0.0\n",
       "184 -12.5388  0.0  0.0\n",
       "185 -12.5363  0.0  0.0"
      ]
     },
     "execution_count": 7,
     "metadata": {},
     "output_type": "execute_result"
    }
   ],
   "source": [
    "linecut_f_raw['spectra'][3].loc[180:185]#.head()# Check the content of individual datasets after importation"
   ]
  },
  {
   "cell_type": "markdown",
   "metadata": {
    "Collapsed": "true",
    "heading_collapsed": true
   },
   "source": [
    "## Basic data processing\n",
    "Rescale data and remove \"bad\" data"
   ]
  },
  {
   "cell_type": "markdown",
   "metadata": {
    "Collapsed": "false",
    "hidden": true
   },
   "source": [
    "### Check consistency of dataframes"
   ]
  },
  {
   "cell_type": "markdown",
   "metadata": {
    "Collapsed": "false",
    "hidden": true
   },
   "source": [
    "#### <a name=\"hh0_consistency\"></a>Check that all hh0 data are the same within each dataframe\n",
    "i.e. that all hh0 of coarseData are the same and that all hh0 data of linecut_f_raw are the same"
   ]
  },
  {
   "cell_type": "code",
   "execution_count": 8,
   "metadata": {
    "Collapsed": "false",
    "hidden": true
   },
   "outputs": [],
   "source": [
    "nData_raw = [coarseData,linecut_f_raw]\n",
    "for data_idx in range(len(nData_raw)):# for each dataset\n",
    "    for _, row in nData_raw[data_idx].iterrows():# loop over all rows\n",
    "        if not np.array_equal(row.spectra.hh0,nData_raw[data_idx].spectra[0].hh0):\n",
    "        # and compare the array of hh0 of that row with that of the first row\n",
    "            print(row)# print the row if the two arrays are *not* equal\n",
    "            # should output nothing, which means that all arrays of hh0 are the same *within a dataset*"
   ]
  },
  {
   "cell_type": "markdown",
   "metadata": {
    "Collapsed": "false",
    "hidden": true
   },
   "source": [
    "#### Then check that hh0 data of coarseData differ from that of linecut_f_raw\n",
    "We do not need to loop over all rows since we have shown in the previous cell that all rows are the same within a dataset"
   ]
  },
  {
   "cell_type": "code",
   "execution_count": 9,
   "metadata": {
    "Collapsed": "false",
    "hidden": true,
    "scrolled": false
   },
   "outputs": [
    {
     "name": "stdout",
     "output_type": "stream",
     "text": [
      "The arrarys of hh0 are not the same in both datasets\n"
     ]
    }
   ],
   "source": [
    "if not np.array_equal(coarseData.spectra[0].hh0,linecut_f_raw.spectra[0].hh0):\n",
    "# compare the hh0 arrays of the first row of both datasets\n",
    "    print(\"The arrarys of hh0 are not the same in both datasets\")"
   ]
  },
  {
   "cell_type": "markdown",
   "metadata": {
    "Collapsed": "false",
    "hidden": true
   },
   "source": [
    "### Which datasets to analyze and how? \n",
    "\n",
    "#### Update 2020-04-06\n",
    "In fact, ignore the coarse dataset, as it will require a lot of efforts for a minimal result.\n",
    "More interesting would be to analyze the linecut_f dataset at each (hh0) peak position, for h = 6, 8, 10.\n",
    "\n",
    "##### Update 2020-04-03\n",
    "treat both datasets independently in terms of the plotting and fitting\n",
    "\n",
    "##### Outdated ideas\n",
    "involving treating both datasets together, which will make things more complicated, and therefore increases the risks of making errors, in addition to increasing the time required for the analysis:\n",
    "* interpolate spectra of coarseData so that its hh0 array is the same as that of linecut_f_raw\n",
    "* rescale the data, if there is a physical way to do it, otherwise simply treat both datasets separately"
   ]
  },
  {
   "cell_type": "markdown",
   "metadata": {
    "Collapsed": "false",
    "hidden": true
   },
   "source": [
    "### Truely \"deep\" copy of linecut_f\n",
    "such that linecut_f_raw will *not* be modified if lcf_copy is modified\n",
    "\n",
    "The best way to truely, i.e. recursively, deep copy a python object is to `pickle.dump` and `pickle.load` it. \n",
    "That is because `cPickle` is the fastest, as shown [here](https://stackoverflow.com/questions/1410615/copy-deepcopy-vs-pickle),  *and* **in Python 3**, `cPickle` is the default behavior of `pickle`, as explained [here](https://askubuntu.com/a/804618).\n",
    "See also hacks.ipynb, and [here](https://stackoverflow.com/questions/52708341/make-a-truly-deep-copy-of-a-pandas-series). "
   ]
  },
  {
   "cell_type": "code",
   "execution_count": 10,
   "metadata": {
    "Collapsed": "false",
    "hidden": true
   },
   "outputs": [
    {
     "data": {
      "text/html": [
       "<div>\n",
       "<style scoped>\n",
       "    .dataframe tbody tr th:only-of-type {\n",
       "        vertical-align: middle;\n",
       "    }\n",
       "\n",
       "    .dataframe tbody tr th {\n",
       "        vertical-align: top;\n",
       "    }\n",
       "\n",
       "    .dataframe thead th {\n",
       "        text-align: right;\n",
       "    }\n",
       "</style>\n",
       "<table border=\"1\" class=\"dataframe\">\n",
       "  <thead>\n",
       "    <tr style=\"text-align: right;\">\n",
       "      <th></th>\n",
       "      <th>filename</th>\n",
       "      <th>T (K)</th>\n",
       "      <th>H (T)</th>\n",
       "      <th>Proton charge</th>\n",
       "      <th>spectra</th>\n",
       "    </tr>\n",
       "  </thead>\n",
       "  <tbody>\n",
       "    <tr>\n",
       "      <th>0</th>\n",
       "      <td>HH0_88631.txt</td>\n",
       "      <td>0.605973</td>\n",
       "      <td>0.000000</td>\n",
       "      <td>1.312139</td>\n",
       "      <td>hh0    I   dI\n",
       "0    -12.99880  0.0  ...</td>\n",
       "    </tr>\n",
       "    <tr>\n",
       "      <th>1</th>\n",
       "      <td>HH0_88632.txt</td>\n",
       "      <td>0.613334</td>\n",
       "      <td>0.049998</td>\n",
       "      <td>0.800119</td>\n",
       "      <td>hh0    I   dI\n",
       "0    -12.99880  0.0  ...</td>\n",
       "    </tr>\n",
       "    <tr>\n",
       "      <th>2</th>\n",
       "      <td>HH0_88633.txt</td>\n",
       "      <td>0.605727</td>\n",
       "      <td>0.099996</td>\n",
       "      <td>0.083534</td>\n",
       "      <td>hh0    I   dI\n",
       "0    -12.99880  0.0  ...</td>\n",
       "    </tr>\n",
       "    <tr>\n",
       "      <th>3</th>\n",
       "      <td>HH0_88634.txt</td>\n",
       "      <td>0.625493</td>\n",
       "      <td>0.099996</td>\n",
       "      <td>0.800739</td>\n",
       "      <td>hh0    I   dI\n",
       "0    -12.99880  0.0  ...</td>\n",
       "    </tr>\n",
       "    <tr>\n",
       "      <th>4</th>\n",
       "      <td>HH0_88635.txt</td>\n",
       "      <td>0.618220</td>\n",
       "      <td>0.150005</td>\n",
       "      <td>0.801294</td>\n",
       "      <td>hh0    I   dI\n",
       "0    -12.99880  0.0  ...</td>\n",
       "    </tr>\n",
       "  </tbody>\n",
       "</table>\n",
       "</div>"
      ],
      "text/plain": [
       "        filename  ...                                            spectra\n",
       "0  HH0_88631.txt  ...             hh0    I   dI\n",
       "0    -12.99880  0.0  ...\n",
       "1  HH0_88632.txt  ...             hh0    I   dI\n",
       "0    -12.99880  0.0  ...\n",
       "2  HH0_88633.txt  ...             hh0    I   dI\n",
       "0    -12.99880  0.0  ...\n",
       "3  HH0_88634.txt  ...             hh0    I   dI\n",
       "0    -12.99880  0.0  ...\n",
       "4  HH0_88635.txt  ...             hh0    I   dI\n",
       "0    -12.99880  0.0  ...\n",
       "\n",
       "[5 rows x 5 columns]"
      ]
     },
     "execution_count": 10,
     "metadata": {},
     "output_type": "execute_result"
    }
   ],
   "source": [
    "lcf_copy = pickle.loads(pickle.dumps(linecut_f_raw))# fastest python hack to create a truely deep copy\n",
    "# lcf stands for linecut_f, which is the name of the file from which the data was imported\n",
    "# idx = 5\n",
    "lcf_copy.head()#.loc[idx:idx+10]"
   ]
  },
  {
   "cell_type": "markdown",
   "metadata": {
    "Collapsed": "false",
    "hidden": true
   },
   "source": [
    "### Data rescaling\n",
    "This used to be done manually, after noticing that the intensity of the data at 0T was higher than that of the rest of the data. A factor of 0.635 was then used to rescale this spectrum to the level of other data. \n",
    "However, after getting the up-to-date data, it appears that the scaling factor is merely the proton charge, which is a proxy for the counting time of neutrons. With this information, it turns out that the ratio of Proton charges of the spectrum at 0T and that at 0.05T is 1.3 to 0.8. The rescaling factor of the former is thus 0.8/1.3=0.615. Hence the empirical value of 0.635 was a pretty good guess!"
   ]
  },
  {
   "cell_type": "code",
   "execution_count": 11,
   "metadata": {
    "Collapsed": "false",
    "hidden": true
   },
   "outputs": [
    {
     "data": {
      "text/html": [
       "<div>\n",
       "<style scoped>\n",
       "    .dataframe tbody tr th:only-of-type {\n",
       "        vertical-align: middle;\n",
       "    }\n",
       "\n",
       "    .dataframe tbody tr th {\n",
       "        vertical-align: top;\n",
       "    }\n",
       "\n",
       "    .dataframe thead th {\n",
       "        text-align: right;\n",
       "    }\n",
       "</style>\n",
       "<table border=\"1\" class=\"dataframe\">\n",
       "  <thead>\n",
       "    <tr style=\"text-align: right;\">\n",
       "      <th></th>\n",
       "      <th>hh0</th>\n",
       "      <th>I</th>\n",
       "      <th>dI</th>\n",
       "      <th>Inorm</th>\n",
       "      <th>dInorm</th>\n",
       "    </tr>\n",
       "  </thead>\n",
       "  <tbody>\n",
       "    <tr>\n",
       "      <th>1200</th>\n",
       "      <td>-9.99875</td>\n",
       "      <td>1261600.0</td>\n",
       "      <td>94684.7</td>\n",
       "      <td>9.614833e+05</td>\n",
       "      <td>72160.557743</td>\n",
       "    </tr>\n",
       "    <tr>\n",
       "      <th>1201</th>\n",
       "      <td>-9.99625</td>\n",
       "      <td>1230390.0</td>\n",
       "      <td>98819.2</td>\n",
       "      <td>9.376977e+05</td>\n",
       "      <td>75311.519049</td>\n",
       "    </tr>\n",
       "    <tr>\n",
       "      <th>1202</th>\n",
       "      <td>-9.99375</td>\n",
       "      <td>1448420.0</td>\n",
       "      <td>109920.0</td>\n",
       "      <td>1.103862e+06</td>\n",
       "      <td>83771.596753</td>\n",
       "    </tr>\n",
       "    <tr>\n",
       "      <th>1203</th>\n",
       "      <td>-9.99125</td>\n",
       "      <td>2141070.0</td>\n",
       "      <td>124810.0</td>\n",
       "      <td>1.631740e+06</td>\n",
       "      <td>95119.477718</td>\n",
       "    </tr>\n",
       "    <tr>\n",
       "      <th>1204</th>\n",
       "      <td>-9.98875</td>\n",
       "      <td>2560080.0</td>\n",
       "      <td>141466.0</td>\n",
       "      <td>1.951073e+06</td>\n",
       "      <td>107813.252422</td>\n",
       "    </tr>\n",
       "    <tr>\n",
       "      <th>1205</th>\n",
       "      <td>-9.98625</td>\n",
       "      <td>4044660.0</td>\n",
       "      <td>169302.0</td>\n",
       "      <td>3.082493e+06</td>\n",
       "      <td>129027.464278</td>\n",
       "    </tr>\n",
       "  </tbody>\n",
       "</table>\n",
       "</div>"
      ],
      "text/plain": [
       "          hh0          I        dI         Inorm         dInorm\n",
       "1200 -9.99875  1261600.0   94684.7  9.614833e+05   72160.557743\n",
       "1201 -9.99625  1230390.0   98819.2  9.376977e+05   75311.519049\n",
       "1202 -9.99375  1448420.0  109920.0  1.103862e+06   83771.596753\n",
       "1203 -9.99125  2141070.0  124810.0  1.631740e+06   95119.477718\n",
       "1204 -9.98875  2560080.0  141466.0  1.951073e+06  107813.252422\n",
       "1205 -9.98625  4044660.0  169302.0  3.082493e+06  129027.464278"
      ]
     },
     "execution_count": 11,
     "metadata": {},
     "output_type": "execute_result"
    }
   ],
   "source": [
    "##### Rescale data according to their Proton charge\n",
    "for idx, row in lcf_copy.iterrows():\n",
    "    row.spectra['Inorm'] = row.spectra.I/row['Proton charge']\n",
    "    row.spectra['dInorm'] = row.spectra.dI/row['Proton charge']\n",
    "#     print(idx, row['spectra']['I'])\n",
    "idx = 1200# index that allows to look at data close to the (10 10 0) peak\n",
    "lcf_copy.spectra[0].loc[idx:idx+5]# check one of the resulting dataframes"
   ]
  },
  {
   "cell_type": "markdown",
   "metadata": {
    "Collapsed": "false",
    "hidden": true
   },
   "source": [
    "### Find bad data, if any\n",
    "#### Identify datasets with zero intensity and create a new \"clean\" dataset without bad data"
   ]
  },
  {
   "cell_type": "code",
   "execution_count": 12,
   "metadata": {
    "Collapsed": "false",
    "hidden": true
   },
   "outputs": [
    {
     "name": "stdout",
     "output_type": "stream",
     "text": [
      "84\n"
     ]
    }
   ],
   "source": [
    "lcf_clean = lcf_copy.copy()\n",
    "# this is a deepcopy according to Pandas, which is only deep at the lowest order, i.e. not recursively\n",
    "for idx, row in lcf_copy.iterrows():# loop over all spectra\n",
    "    if not np.any(row.spectra.Inorm>0):# if any spectrum has a constant zero intensity\n",
    "        lcf_clean = lcf_copy.drop(idx)\n",
    "        print(idx)# output the row index of lcf_copy containing empty data\n",
    "# lcf_copy.spectra[0].Inorm"
   ]
  },
  {
   "cell_type": "markdown",
   "metadata": {
    "Collapsed": "false",
    "hidden": true
   },
   "source": [
    "### Change default plotting parameters\n",
    "see https://matplotlib.org/3.1.0/api/_as_gen/matplotlib.pyplot.figure.html"
   ]
  },
  {
   "cell_type": "code",
   "execution_count": 13,
   "metadata": {
    "Collapsed": "false",
    "hidden": true
   },
   "outputs": [],
   "source": [
    "%matplotlib qt\n",
    "# plot figures in external window"
   ]
  },
  {
   "cell_type": "code",
   "execution_count": 14,
   "metadata": {
    "Collapsed": "false",
    "hidden": true
   },
   "outputs": [],
   "source": [
    "rcParams[\"figure.figsize\"] = np.multiply([6.4, 4.8],0.5)# default is [6.4, 4.8]"
   ]
  },
  {
   "cell_type": "markdown",
   "metadata": {
    "Collapsed": "false",
    "hidden": true
   },
   "source": [
    "### Batch plot the rest of the spectra to identify other potential bad data"
   ]
  },
  {
   "cell_type": "markdown",
   "metadata": {
    "Collapsed": "false",
    "hidden": true
   },
   "source": [
    "##### Plot spectra by groups of nSpec\n",
    "to see if any spectrum differs from the others.\n",
    "This method may fail if there are more than nSpec bad consecutive spectra. Hence nSpec should not be too small (5 or more should be good)"
   ]
  },
  {
   "cell_type": "code",
   "execution_count": 15,
   "metadata": {
    "Collapsed": "false",
    "hidden": true
   },
   "outputs": [],
   "source": [
    "nSpec = 7# number of curves in each plot\n",
    "nfig = len(lcf_clean)//nSpec+1\n",
    "fig = [None]*(nfig)\n",
    "lgd = [None]*(nfig)\n",
    "for fidx in range(1):#range(nfig):\n",
    "    fig[fidx] = plt.figure()\n",
    "    ax = fig[fidx].add_subplot(1,1,1)\n",
    "    for pidx in range(nSpec*fidx,nSpec*(fidx+1)):\n",
    "        try:\n",
    "            plt.plot(lcf_clean.spectra[pidx].hh0,lcf_clean.spectra[pidx].Inorm,\\\n",
    "                     label=f\"{pidx}, {lcf_clean['H (T)'][pidx]:.2f}\")\n",
    "        except KeyError:# if the index of data to be plotted does not exist\n",
    "            continue# ignore and carry on to the next one\n",
    "    plt.xlim(-10.25,-5.75)\n",
    "    lgd[fidx] = ax.legend(title='Index, H (T)')\n",
    "    lgd[fidx].set_draggable(True)\n",
    "    plt.show()# ensures that all windows come to the foreground"
   ]
  },
  {
   "cell_type": "markdown",
   "metadata": {
    "Collapsed": "false",
    "hidden": true
   },
   "source": [
    "##### Notes --- 2020-04-07\n",
    "* After plotting all spectra together, it appears that only spectra #2 and #85 are \"bad\": the former is very noisy (not too surprising given that its Proton charge is 1/10 of the other data) and the latter has a lower intensity than the other spectra (for an unknown reason).\n",
    "* Both those bad spectra were identified during the measurement, such that another (good) spectrum was measured at both values of magnetic field at which those bad spectra had been measured. Concretely, spectrum #2 was measured at 0.1T and #85 at 0.865T but are bad. Spectra #3 and #104 were also measured at 0.1T and 0.865T, respectively, and are good. Hence, the two bad spectra should just be discarded, there is no reason to try and process them in order to try and make them good: first because there is no way of making good data out of bad data (bad data is just bad data), so it would be a waste of time, and potentially a lot of time, but it would also be complicated, and because the result cannot be good, it can only influence the result of the subsequent fits in a bad way, thus inducing distrust on the results obtained over the whole dataset instead of just two spectra. Bottom line: discard spectra #2 and #85."
   ]
  },
  {
   "cell_type": "markdown",
   "metadata": {
    "Collapsed": "false",
    "hidden": true
   },
   "source": [
    "### Remove bad data \n",
    "as identified in batch plotting"
   ]
  },
  {
   "cell_type": "code",
   "execution_count": 16,
   "metadata": {
    "Collapsed": "false",
    "hidden": true
   },
   "outputs": [],
   "source": [
    "delRowIdx = [2,85]# index of data to remove\n",
    "lcf_clean.drop(delRowIdx,inplace=True)"
   ]
  },
  {
   "cell_type": "markdown",
   "metadata": {
    "Collapsed": "false",
    "hidden": true
   },
   "source": [
    "### Final clean dataset\n",
    "#### Sorted by value of magnetic field"
   ]
  },
  {
   "cell_type": "code",
   "execution_count": 17,
   "metadata": {
    "Collapsed": "false",
    "hidden": true
   },
   "outputs": [],
   "source": [
    "nData = lcf_clean.sort_values(by=['H (T)'],ignore_index=True)\n",
    "# lcf_clean.head()# nData stands for \"neutrons Data\""
   ]
  },
  {
   "cell_type": "markdown",
   "metadata": {
    "Collapsed": "false",
    "hidden": true
   },
   "source": [
    "#### Plot a couple of ENS spectra (ignore after done once)\n",
    "to check consistency between spectra before fitting"
   ]
  },
  {
   "cell_type": "raw",
   "metadata": {
    "Collapsed": "false",
    "hidden": true
   },
   "source": [
    "# Change cell to Raw type in order to avoid running inadvertantly\n",
    "plt.cla()\n",
    "for idx in range(2):\n",
    "    plt.plot(nData.spectra[idx].hh0,nData.spectra[idx].Inorm)"
   ]
  },
  {
   "cell_type": "markdown",
   "metadata": {
    "Collapsed": "true",
    "heading_collapsed": true,
    "hidden": true
   },
   "source": [
    "### Plot entire dataset in 3D\n",
    "as spectrum normalized intensity 'Inorm' vs position in reciprocal space 'hh0' and magnetic field 'H (T)', to check that the field dependence of the data is consistent.\n",
    "#### Ignore after done once\n",
    "Change cells to Raw type in order to avoid running inadvertantly"
   ]
  },
  {
   "cell_type": "markdown",
   "metadata": {
    "Collapsed": "false",
    "hidden": true
   },
   "source": [
    "#### First plot individual spectra in a 3D space"
   ]
  },
  {
   "cell_type": "raw",
   "metadata": {
    "Collapsed": "false",
    "hidden": true
   },
   "source": [
    "fig = plt.figure()\n",
    "ax = plt.axes(projection=\"3d\")\n",
    "for i in range(len(nData)):\n",
    "    H = np.ones(np.shape(nData.spectra[i].hh0))*nData['H (T)'][i]\n",
    "    ax.plot3D(nData.spectra[i].hh0,H,nData.spectra[i].Inorm)\n",
    "del H"
   ]
  },
  {
   "cell_type": "markdown",
   "metadata": {
    "Collapsed": "false",
    "hidden": true
   },
   "source": [
    "#### Then plot 3D color map\n",
    "##### Create meshgrid for 3D color map\n",
    "The mesh can safely be created using hh0 data from the dataset measured at any value of magnetic field, since we've shown [that all hh0 data are the same within the linecut_f dataframe](#hh0_consistency)"
   ]
  },
  {
   "cell_type": "raw",
   "metadata": {
    "Collapsed": "false",
    "hidden": true
   },
   "source": [
    "idx = 0# first dataset, but any row index of nData would do\n",
    "hh0mesh, Hmesh = np.meshgrid(nData.spectra[idx].hh0, nData['H (T)'])\n",
    "hh0lin = hh0mesh.reshape(np.size(hh0mesh))\n",
    "Hlin = Hmesh.reshape(np.size(Hmesh))"
   ]
  },
  {
   "cell_type": "markdown",
   "metadata": {
    "Collapsed": "false",
    "hidden": true
   },
   "source": [
    "##### Create the 2D array that contains the intensity data"
   ]
  },
  {
   "cell_type": "raw",
   "metadata": {
    "Collapsed": "false",
    "hidden": true
   },
   "source": [
    "Imesh = np.stack([nData.spectra[idx].Inorm for idx in range(len(nData))],axis=0)# for mesh\n",
    "Ilin = np.hstack([nData.spectra[idx].Inorm for idx in range(len(nData))])# for griddata"
   ]
  },
  {
   "cell_type": "markdown",
   "metadata": {
    "Collapsed": "false",
    "hidden": true
   },
   "source": [
    "##### Plot the hh0mesh and Hmesh data to see how irregular they are"
   ]
  },
  {
   "cell_type": "raw",
   "metadata": {
    "Collapsed": "false",
    "hidden": true
   },
   "source": [
    "fig = plt.figure()\n",
    "ax = fig.add_subplot(1,1,1)\n",
    "step = 50\n",
    "ax.scatter(hh0mesh[:,::step], Hmesh[:,::step], marker=\".\",s=1)\n",
    "ax.set_xlabel('hh0')\n",
    "ax.set_ylabel('H')\n",
    "plt.show()"
   ]
  },
  {
   "cell_type": "markdown",
   "metadata": {
    "Collapsed": "false",
    "hidden": true
   },
   "source": [
    "##### Conclusion\n",
    "The hh0 data looks pretty regular, however the magnetic field data is not\n",
    "##### Update\n",
    "That should not prevent from plotting in 3D"
   ]
  },
  {
   "cell_type": "markdown",
   "metadata": {
    "Collapsed": "false",
    "hidden": true
   },
   "source": [
    "#### Use griddata to interpolate the intensity data over a regular array"
   ]
  },
  {
   "cell_type": "raw",
   "metadata": {
    "Collapsed": "false",
    "hidden": true
   },
   "source": [
    "Hrange = np.arange(0,1.5,0.005)# regular array of magnetic field values to interpolate on\n",
    "hh0meshInterp, HmeshInterp = np.meshgrid(nData.spectra[idx].hh0, Hrange)# meshgrid for interpolated data\n",
    "Iinterp = griddata(np.array([hh0lin, Hlin]).T, Ilin, (hh0meshInterp, HmeshInterp), method='linear')"
   ]
  },
  {
   "cell_type": "markdown",
   "metadata": {
    "Collapsed": "false",
    "hidden": true
   },
   "source": [
    "#### Plot 3D surface\n",
    "Note: Matplotlib does not do a very good job of plotting the 3D surface when the xlim is not adapted to the range of the data and when there is noise in the data: in our case, it looks like spectra are plotted individually rather than as a continuous surface. When zooming on each peak, the surface looks a little better. Perhaps look for a better 3D visualization tool."
   ]
  },
  {
   "cell_type": "raw",
   "metadata": {
    "Collapsed": "false",
    "hidden": true
   },
   "source": [
    "fig = plt.figure()\n",
    "ax = fig.gca(projection='3d')\n",
    "mesh_select = np.logical_and(hh0mesh > -10.1, hh0mesh < -9.9)\n",
    "# surf = ax.plot_surface(np.where(mesh_select,hh0mesh,np.nan),\n",
    "#                        np.where(mesh_select,Hmesh,np.nan),\n",
    "#                        np.where(mesh_select,Imesh,np.nan),\n",
    "#                        cmap=cm.coolwarm,\n",
    "#                        linewidth=0, antialiased=False)\n",
    "surf = ax.plot_surface(hh0mesh,Hmesh,Imesh, cmap=cm.rainbow)\n",
    "# surf = ax.plot_surface(hh0meshInterp,HmeshInterp,Iinterp, cmap=cm.coolwarm)\n",
    "# ax.zaxis.set_major_locator(LinearLocator(10))\n",
    "# ax.zaxis.set_major_formatter(FormatStrFormatter('%.2g'))\n",
    "plt.xlim(-10.1, -9.9)\n",
    "# Add a color bar which maps values to colors.\n",
    "fig.colorbar(surf, shrink=0.5, aspect=5)\n",
    "plt.show()"
   ]
  },
  {
   "cell_type": "markdown",
   "metadata": {
    "Collapsed": "false",
    "hidden": true
   },
   "source": [
    "#### Matplotlib example of 3D surface plotting"
   ]
  },
  {
   "cell_type": "raw",
   "metadata": {
    "Collapsed": "false",
    "hidden": true
   },
   "source": [
    "fig = plt.figure()\n",
    "ax = fig.gca(projection='3d')\n",
    "\n",
    "# Make data.\n",
    "X = np.arange(-5, 5, 0.25)\n",
    "Y = np.arange(-5, 5, 0.25)\n",
    "X, Y = np.meshgrid(X, Y)\n",
    "R = np.sqrt(X**2 + Y**2)\n",
    "Z = np.sin(R)\n",
    "\n",
    "# Plot the surface.\n",
    "surf = ax.plot_surface(X, Y, Z, cmap=cm.coolwarm,\n",
    "                       linewidth=0, antialiased=False)"
   ]
  },
  {
   "cell_type": "markdown",
   "metadata": {
    "Collapsed": "true",
    "heading_collapsed": true
   },
   "source": [
    "## Fit individual dataset above Hc"
   ]
  },
  {
   "cell_type": "markdown",
   "metadata": {
    "Collapsed": "true",
    "heading_collapsed": true,
    "hidden": true
   },
   "source": [
    "### Define fit functions"
   ]
  },
  {
   "cell_type": "code",
   "execution_count": 31,
   "metadata": {
    "Collapsed": "false",
    "hidden": true
   },
   "outputs": [],
   "source": [
    "def plot_fit_result(x, y, fitresult):\n",
    "    \"\"\"\n",
    "    Plot result of fit using an lmfit Model object\n",
    "    \"\"\"\n",
    "    fig = plt.figure()\n",
    "    plt.plot(x, y, 'bo')\n",
    "    plt.plot(x, fitresult.init_fit, 'k--', label='initial fit')\n",
    "    plt.plot(x, fitresult.best_fit, 'r-', label='best fit')\n",
    "    plt.legend(loc='best')\n",
    "    plt.show()\n",
    "    "
   ]
  },
  {
   "cell_type": "markdown",
   "metadata": {
    "Collapsed": "true",
    "hidden": true
   },
   "source": [
    "#### Attempt to an iteration callback function\n",
    "Does not work as of 2020-04-14"
   ]
  },
  {
   "cell_type": "code",
   "execution_count": 35,
   "metadata": {
    "Collapsed": "false",
    "hidden": true
   },
   "outputs": [],
   "source": [
    "def iter_func(params, iter_num, resid, x):\n",
    "    print(iter_num)\n",
    "    return True"
   ]
  },
  {
   "cell_type": "markdown",
   "metadata": {
    "Collapsed": "true",
    "heading_collapsed": true,
    "hidden": true
   },
   "source": [
    "### Fit example adapted from the lmfit documentation \n",
    "(section \"Modeling Data and Curve Fitting)"
   ]
  },
  {
   "cell_type": "code",
   "execution_count": 30,
   "metadata": {
    "Collapsed": "false",
    "hidden": true
   },
   "outputs": [
    {
     "name": "stdout",
     "output_type": "stream",
     "text": [
      "parameter names: ['amp', 'cen', 'wid']\n",
      "independent variables: ['x']\n"
     ]
    },
    {
     "data": {
      "text/html": [
       "<table><tr><th> name </th><th> value </th><th> initial value </th><th> min </th><th> max </th><th> vary </th></tr><tr><td> amp </td><td>  20.0000000 </td><td> None </td><td>        -inf </td><td>         inf </td><td> True </td></tr><tr><td> cen </td><td>  5.00000000 </td><td> None </td><td>        -inf </td><td>         inf </td><td> True </td></tr><tr><td> wid </td><td>  1.00000000 </td><td> None </td><td>        -inf </td><td>         inf </td><td> True </td></tr></table>"
      ],
      "text/plain": [
       "Parameters([('amp', <Parameter 'amp', value=20, bounds=[-inf:inf]>),\n",
       "            ('cen', <Parameter 'cen', value=5, bounds=[-inf:inf]>),\n",
       "            ('wid', <Parameter 'wid', value=1, bounds=[-inf:inf]>)])"
      ]
     },
     "execution_count": 30,
     "metadata": {},
     "output_type": "execute_result"
    }
   ],
   "source": [
    "def gaussian(x, amp, cen, wid):\n",
    "    return amp * np.exp(-(x-cen)**2 / wid)\n",
    "gmodel = Model(gaussian)\n",
    "print('parameter names: {}'.format(gmodel.param_names))\n",
    "print('independent variables: {}'.format(gmodel.independent_vars))\n",
    "gparams = gmodel.make_params(cen=5, amp=20, wid=1)\n",
    "gparams"
   ]
  },
  {
   "cell_type": "code",
   "execution_count": 31,
   "metadata": {
    "Collapsed": "false",
    "hidden": true
   },
   "outputs": [
    {
     "name": "stdout",
     "output_type": "stream",
     "text": [
      "[[Model]]\n",
      "    Model(gaussian)\n",
      "[[Fit Statistics]]\n",
      "    # fitting method   = leastsq\n",
      "    # function evals   = 17\n",
      "    # data points      = 101\n",
      "    # variables        = 3\n",
      "    chi-square         = 8.43330605\n",
      "    reduced chi-square = 0.08605414\n",
      "    Akaike info crit   = -244.776096\n",
      "    Bayesian info crit = -236.930735\n",
      "[[Variables]]\n",
      "    amp:  19.9229410 +/- 0.10155032 (0.51%) (init = 5)\n",
      "    cen:  4.99454353 +/- 0.00415645 (0.08%) (init = 5)\n",
      "    wid:  0.99742555 +/- 0.01174109 (1.18%) (init = 1)\n",
      "[[Correlations]] (unreported correlations are < 0.100)\n",
      "    C(amp, wid) = -0.577\n"
     ]
    }
   ],
   "source": [
    "x = np.linspace(0,10,101)\n",
    "noise = np.random.rand(101)-0.5\n",
    "y = gaussian(x,amp=20,cen=5,wid=1)+noise\n",
    "# fig = plt.figure()\n",
    "# plt.plot(x, y)\n",
    "# plt.show()\n",
    "result = gmodel.fit(y, x=x, amp=5, cen=5, wid=1)\n",
    "print(result.fit_report())\n",
    "plot_fit_result(x, y, result)"
   ]
  },
  {
   "cell_type": "markdown",
   "metadata": {
    "Collapsed": "false",
    "heading_collapsed": true,
    "hidden": true
   },
   "source": [
    "### General parameters for our problem"
   ]
  },
  {
   "cell_type": "code",
   "execution_count": 34,
   "metadata": {
    "Collapsed": "false",
    "hidden": true
   },
   "outputs": [],
   "source": [
    "peak_center = -8.0# center of unsplit peak to be studied in the following, in reciprocal space units\n",
    "npeak_interval = .15# half of plot interval\n",
    "Hc_0 = 0.51# value in Tesla units of the critical field at zero temperature\n",
    "# in the absence of demagnetizing factor\n",
    "# see data taken on needles of TmVO4-LS5200 in July 2017"
   ]
  },
  {
   "cell_type": "markdown",
   "metadata": {
    "Collapsed": "false",
    "hidden": true
   },
   "source": [
    "### Single-peak fit with single pVIC function on single spectrum\n",
    "measured above Hc, where the peaks are unsplit"
   ]
  },
  {
   "cell_type": "markdown",
   "metadata": {
    "Collapsed": "true",
    "hidden": true
   },
   "source": [
    "#### Select data"
   ]
  },
  {
   "cell_type": "code",
   "execution_count": 37,
   "metadata": {
    "Collapsed": "false",
    "hidden": true
   },
   "outputs": [
    {
     "data": {
      "text/plain": [
       "1940   -8.14875\n",
       "1941   -8.14625\n",
       "1942   -8.14375\n",
       "1943   -8.14125\n",
       "1944   -8.13875\n",
       "Name: hh0, dtype: float64"
      ]
     },
     "execution_count": 37,
     "metadata": {},
     "output_type": "execute_result"
    }
   ],
   "source": [
    "dat_idx = 100\n",
    "data_select = np.logical_and(nData.spectra[dat_idx].hh0 > peak_center - npeak_interval, \n",
    "                             nData.spectra[dat_idx].hh0 < peak_center + npeak_interval)\n",
    "X = nData.spectra[dat_idx].hh0[data_select]# select data for first fit\n",
    "Yfitdata = nData.spectra[dat_idx].Inorm[data_select]\n",
    "X.head()"
   ]
  },
  {
   "cell_type": "markdown",
   "metadata": {
    "Collapsed": "false",
    "hidden": true
   },
   "source": [
    "#### Perform fit with Gaussian model as a first try"
   ]
  },
  {
   "cell_type": "code",
   "execution_count": 33,
   "metadata": {
    "Collapsed": "false",
    "hidden": true
   },
   "outputs": [
    {
     "name": "stdout",
     "output_type": "stream",
     "text": [
      "[[Model]]\n",
      "    Model(gaussian)\n",
      "[[Fit Statistics]]\n",
      "    # fitting method   = leastsq\n",
      "    # function evals   = 33\n",
      "    # data points      = 120\n",
      "    # variables        = 3\n",
      "    chi-square         = 2.6305e+12\n",
      "    reduced chi-square = 2.2483e+10\n",
      "    Akaike info crit   = 2863.28327\n",
      "    Bayesian info crit = 2871.64575\n",
      "[[Variables]]\n",
      "    amp:  4232624.39 +/- 61044.4590 (1.44%) (init = 4000000)\n",
      "    cen: -7.99724868 +/- 2.1258e-04 (0.00%) (init = -8)\n",
      "    wid:  3.2588e-04 +/- 1.0854e-05 (3.33%) (init = 0.001)\n",
      "[[Correlations]] (unreported correlations are < 0.100)\n",
      "    C(amp, wid) = -0.577\n"
     ]
    }
   ],
   "source": [
    "np.seterr(all='warn')# Set how floating-point errors are handled\n",
    "# Setting warnings will help identify computation issues that may result in an unsuccessful fitting procedure\n",
    "ngparams = gmodel.make_params(cen=peak_center, amp=4e6, wid=1e-3)\n",
    "# Yeval = gmodel.eval(ngparams,x=X)# evaluate model using initial parameters\n",
    "result = gmodel.fit(data=Yfitdata, params=ngparams, x=X)\n",
    "print(result.fit_report())\n",
    "plot_fit_result(X, Yfitdata, result)"
   ]
  },
  {
   "cell_type": "markdown",
   "metadata": {
    "Collapsed": "false",
    "hidden": true
   },
   "source": [
    "#### Single pVIC fit model"
   ]
  },
  {
   "cell_type": "markdown",
   "metadata": {
    "Collapsed": "false",
    "hidden": true
   },
   "source": [
    "##### Make model from fit function"
   ]
  },
  {
   "cell_type": "code",
   "execution_count": 32,
   "metadata": {
    "Collapsed": "false",
    "hidden": true
   },
   "outputs": [
    {
     "name": "stdout",
     "output_type": "stream",
     "text": [
      "parameter names: ['A', 'alpha', 'beta', 'R', 'gamma', 'sigma', 'k', 'xp']\n",
      "independent variables: ['x']\n"
     ]
    }
   ],
   "source": [
    "from ENS_peak_fit_pVIC_py.pseudoVoigtIkedaCarpenter import pVIC, xpVIC_residual, xpVIC_init_prm\n",
    "pvic_model = Model(pVIC)# create Model object from the lmfit module\n",
    "print(f'parameter names: {pvic_model.param_names}')\n",
    "print(f'independent variables: {pvic_model.independent_vars}')"
   ]
  },
  {
   "cell_type": "markdown",
   "metadata": {
    "Collapsed": "false",
    "hidden": true
   },
   "source": [
    "#### Fit parameters\n",
    "##### Create fit parameters and specify their properties\n",
    "including initial values, constraints, etc."
   ]
  },
  {
   "cell_type": "code",
   "execution_count": 35,
   "metadata": {
    "Collapsed": "false",
    "hidden": true
   },
   "outputs": [
    {
     "data": {
      "text/html": [
       "<table><tr><th> name </th><th> value </th><th> initial value </th><th> min </th><th> max </th><th> vary </th></tr><tr><td> A </td><td>  200000.000 </td><td> None </td><td>  0.00000000 </td><td>         inf </td><td> True </td></tr><tr><td> alpha </td><td>  140.000000 </td><td> None </td><td>  0.00000000 </td><td>         inf </td><td> True </td></tr><tr><td> beta </td><td>  1.0000e-03 </td><td> None </td><td>  0.00000000 </td><td>         inf </td><td> True </td></tr><tr><td> R </td><td>  1.0000e-03 </td><td> None </td><td>  0.00000000 </td><td>         inf </td><td> True </td></tr><tr><td> gamma </td><td>  1.0000e-03 </td><td> None </td><td>  0.00000000 </td><td>         inf </td><td> True </td></tr><tr><td> sigma </td><td>  0.00660000 </td><td> None </td><td>  0.00000000 </td><td>         inf </td><td> True </td></tr><tr><td> k </td><td>  0.05000000 </td><td> None </td><td>  0.00000000 </td><td>         inf </td><td> False </td></tr><tr><td> xp </td><td> -8.00000000 </td><td> None </td><td>        -inf </td><td>         inf </td><td> True </td></tr></table>"
      ],
      "text/plain": [
       "Parameters([('A', <Parameter 'A', value=200000.0, bounds=[0:inf]>),\n",
       "            ('alpha', <Parameter 'alpha', value=140, bounds=[0:inf]>),\n",
       "            ('beta', <Parameter 'beta', value=0.001, bounds=[0:inf]>),\n",
       "            ('R', <Parameter 'R', value=0.001, bounds=[0:inf]>),\n",
       "            ('gamma', <Parameter 'gamma', value=0.001, bounds=[0:inf]>),\n",
       "            ('sigma', <Parameter 'sigma', value=0.0066, bounds=[0:inf]>),\n",
       "            ('k', <Parameter 'k', value=0.05 (fixed), bounds=[0:inf]>),\n",
       "            ('xp', <Parameter 'xp', value=-8.0, bounds=[-inf:inf]>)])"
      ]
     },
     "execution_count": 35,
     "metadata": {},
     "output_type": "execute_result"
    }
   ],
   "source": [
    "pvic_params = pvic_model.make_params(A=2e5, alpha=140, beta=1e-3, R=1e-3, \n",
    "                                     gamma=1e-3, sigma=6.6e-3, k=.05, xp=peak_center)\n",
    "# Yfitdata = nData.spectra[0].Inorm\n",
    "# pvic_params = pvic_model.guess(Yfitdata)# returns NotImplementedError\n",
    "for k in pvic_params.keys():\n",
    "    pvic_params[k].set(min=0, vary=True)\n",
    "#     pvic_params[k].init_value = pvic_params[k].value\n",
    "#     print(k)\n",
    "pvic_params['xp'].set(min=-np.inf)\n",
    "pvic_params['k'].vary = False\n",
    "pvic_params"
   ]
  },
  {
   "cell_type": "markdown",
   "metadata": {
    "Collapsed": "true",
    "hidden": true
   },
   "source": [
    "#### Evaluate fit function"
   ]
  },
  {
   "cell_type": "code",
   "execution_count": 38,
   "metadata": {
    "Collapsed": "false",
    "hidden": true
   },
   "outputs": [],
   "source": [
    "np.seterr(all='warn')# Set how floating-point errors are handled\n",
    "Yeval = pvic_model.eval(pvic_params,x=X)# evaluate model using initial parameters\n",
    "fig = plt.figure()\n",
    "plt.plot(X,Yeval)\n",
    "plt.plot(X,Yfitdata)\n",
    "plt.show()"
   ]
  },
  {
   "cell_type": "markdown",
   "metadata": {
    "Collapsed": "true",
    "hidden": true
   },
   "source": [
    "#### Next steps as of 2020-04-14\n",
    "* Play with values of beta to get best fit result; in particular, let beta vary (with max value of 800?)\n",
    "* Is there a way to output the adjusted R**2 of the fit?"
   ]
  },
  {
   "cell_type": "markdown",
   "metadata": {
    "Collapsed": "false",
    "hidden": true
   },
   "source": [
    "#### Narrowing down the number of free parameters"
   ]
  },
  {
   "cell_type": "markdown",
   "metadata": {
    "Collapsed": "false",
    "hidden": true
   },
   "source": [
    "##### 7 free parameters\n",
    "all but k"
   ]
  },
  {
   "cell_type": "code",
   "execution_count": 124,
   "metadata": {
    "Collapsed": "false",
    "hidden": true
   },
   "outputs": [
    {
     "name": "stdout",
     "output_type": "stream",
     "text": [
      "[[Model]]\n",
      "    Model(pVIC)\n",
      "[[Fit Statistics]]\n",
      "    # fitting method   = leastsq\n",
      "    # function evals   = 95\n",
      "    # data points      = 120\n",
      "    # variables        = 5\n",
      "    chi-square         = 3.3204e+11\n",
      "    reduced chi-square = 2.8873e+09\n",
      "    Akaike info crit   = 2618.92465\n",
      "    Bayesian info crit = 2632.86211\n",
      "[[Variables]]\n",
      "    A:      139800.679 +/- 1060.80779 (0.76%) (init = 200000)\n",
      "    alpha:  130.275459 +/- 1.93231449 (1.48%) (init = 140)\n",
      "    beta:   1e-10 (fixed)\n",
      "    R:      0 (fixed)\n",
      "    gamma:  2.2694e-07 +/- 1.8336e-04 (80796.03%) (init = 0.001)\n",
      "    sigma:  0.00596552 +/- 2.3801e-04 (3.99%) (init = 0.0066)\n",
      "    k:      0.05 (fixed)\n",
      "    xp:    -8.01731207 +/- 2.3160e-04 (0.00%) (init = -8)\n",
      "[[Correlations]] (unreported correlations are < 0.100)\n",
      "    C(alpha, xp)    =  0.949\n",
      "    C(A, gamma)     =  0.722\n",
      "    C(gamma, sigma) = -0.480\n",
      "    C(alpha, sigma) =  0.452\n",
      "    C(sigma, xp)    =  0.444\n",
      "    C(alpha, gamma) =  0.394\n",
      "    C(gamma, xp)    =  0.355\n",
      "    C(A, sigma)     = -0.346\n"
     ]
    }
   ],
   "source": [
    "pvic_params['beta'].set(value=1e-10, vary=False)\n",
    "pvic_params['R'].set(value=0, vary=False)\n",
    "# pvic_params\n",
    "result = pvic_model.fit(data=Yfitdata, params=pvic_params, x=X)\n",
    "print(result.fit_report())\n",
    "plot_fit_result(X, Yfitdata, result)"
   ]
  },
  {
   "cell_type": "markdown",
   "metadata": {
    "Collapsed": "false",
    "hidden": true
   },
   "source": [
    "The above yields too many correlations between parameters\n",
    "The resulting plot also has an unphysical dip in the resulting fit function"
   ]
  },
  {
   "cell_type": "markdown",
   "metadata": {
    "Collapsed": "false",
    "hidden": true
   },
   "source": [
    "##### 6 free parameters"
   ]
  },
  {
   "cell_type": "code",
   "execution_count": 66,
   "metadata": {
    "Collapsed": "false",
    "hidden": true
   },
   "outputs": [
    {
     "name": "stdout",
     "output_type": "stream",
     "text": [
      "[[Model]]\n",
      "    Model(pVIC)\n",
      "[[Fit Statistics]]\n",
      "    # fitting method   = leastsq\n",
      "    # function evals   = 105\n",
      "    # data points      = 120\n",
      "    # variables        = 5\n",
      "    chi-square         = 3.3204e+11\n",
      "    reduced chi-square = 2.8873e+09\n",
      "    Akaike info crit   = 2618.92398\n",
      "    Bayesian info crit = 2632.86144\n",
      "[[Variables]]\n",
      "    A:      139800.970 +/- 832.210128 (0.60%) (init = 200000)\n",
      "    alpha:  130.269301 +/- 1.82009419 (1.40%) (init = 140)\n",
      "    beta:   1e-10 (fixed)\n",
      "    R:      0 (fixed)\n",
      "    gamma:  1.0779e-07 +/- 1.4438e-04 (133947.70%) (init = 0.001)\n",
      "    sigma:  0.00596479 +/- 2.2440e-04 (3.76%) (init = 0.0066)\n",
      "    k:      0.05 (fixed)\n",
      "    x0:    -8.01731281 +/- 2.1916e-04 (0.00%) (init = -8)\n",
      "[[Correlations]] (unreported correlations are < 0.100)\n",
      "    C(alpha, x0)    =  0.942\n",
      "    C(alpha, sigma) =  0.641\n",
      "    C(sigma, x0)    =  0.631\n",
      "    C(A, gamma)     =  0.472\n",
      "    C(gamma, sigma) = -0.366\n",
      "    C(A, x0)        = -0.227\n",
      "    C(alpha, gamma) =  0.219\n",
      "    C(A, alpha)     = -0.212\n",
      "    C(A, sigma)     = -0.173\n",
      "    C(gamma, x0)    =  0.156\n"
     ]
    },
    {
     "data": {
      "text/plain": [
       "Text(0.5, 1.0, \"5 free parameters: ['A', 'alpha', 'gamma', 'sigma', 'x0']\")"
      ]
     },
     "execution_count": 66,
     "metadata": {},
     "output_type": "execute_result"
    }
   ],
   "source": [
    "pvic_params['beta'].set(value=1e-10, vary=False)\n",
    "pvic_params['R'].set(value=0, vary=False)\n",
    "result = pvic_model.fit(data=Yfitdata, params=pvic_params, x=X)\n",
    "print(result.fit_report())\n",
    "plot_fit_result(X, Yfitdata, result)\n",
    "freeParams = [k for k in list(pvic_params.keys()) if pvic_params[k].vary==True]\n",
    "plt.title(f\"{len(freeParams)} free parameters: {freeParams}\")"
   ]
  },
  {
   "cell_type": "markdown",
   "metadata": {
    "Collapsed": "false",
    "heading_collapsed": true
   },
   "source": [
    "## Batch fitting function\n"
   ]
  },
  {
   "cell_type": "code",
   "execution_count": 46,
   "metadata": {
    "Collapsed": "false",
    "hidden": true
   },
   "outputs": [],
   "source": [
    "def initXpvicFit(fitObjStr, data, ref_params, h, fit_interval, data_range, \n",
    "                 nFunc=1, nFreeParams=None, fixParams={}, recompute=False):\n",
    "    \n",
    "    ref_params['xp'].value = -float(h)\n",
    "\n",
    "    # Create key fot fitObj dictionary\n",
    "    if nFreeParams is None:\n",
    "        fitKeyBase = f\"{h}_{nFunc}_{data_range[0]}\"\n",
    "    else:\n",
    "        fitKeyBase = f\"{h}_{nFunc}-{nFreeParams}_{data_range[0]}\"\n",
    "\n",
    "    if len(data_range)==1:\n",
    "        fitKey = fitKeyBase\n",
    "    else:\n",
    "        fitKey = f\"{fitKeyBase}-{data_range[-1]}\" \n",
    "\n",
    "    # Create a dictionary that will contain xpvic_fit objects, if it doesn't exist yet\n",
    "    if fitObjStr in globals() and type(eval(fitObjStr)) is dict:\n",
    "        xFit = eval(fitObjStr)\n",
    "    else:\n",
    "        xFit = {}\n",
    "\n",
    "    if fitKey not in xFit.keys() or recompute is True:\n",
    "        # List of fit objects\n",
    "        xFit[fitKey] = [xpvic_fit(data, ref_params, h, fit_interval, data_range, nFunc)]\n",
    "        xFit[fitKey][0].initParams(fixParams=fixParams)\n",
    "\n",
    "    if not hasattr(xFit[fitKey][0], 'result'):\n",
    "        xFit[fitKey][0].performFit(with_weights=True)\n",
    "    \n",
    "    return xFit"
   ]
  },
  {
   "cell_type": "markdown",
   "metadata": {
    "Collapsed": "false",
    "heading_collapsed": true
   },
   "source": [
    "## Batch fit data above Hc \n",
    "to determine the values of shared parameters"
   ]
  },
  {
   "cell_type": "markdown",
   "metadata": {
    "Collapsed": "false",
    "hidden": true
   },
   "source": [
    "### Import fit function and make an lmfit model out of it"
   ]
  },
  {
   "cell_type": "code",
   "execution_count": 19,
   "metadata": {
    "Collapsed": "false",
    "hidden": true
   },
   "outputs": [
    {
     "name": "stdout",
     "output_type": "stream",
     "text": [
      "parameter names: ['A', 'alpha', 'beta', 'R', 'gamma', 'sigma', 'k', 'xp']\n",
      "independent variables: ['x']\n"
     ]
    }
   ],
   "source": [
    "from ENS_peak_fit_pVIC_py.pseudoVoigtIkedaCarpenter import pVIC, xpVIC_residual, xpVIC_init_prm, xnpVIC_init_prm\n",
    "pvic_model = Model(pVIC)# create Model object from the lmfit module\n",
    "print(f'parameter names: {pvic_model.param_names}')\n",
    "print(f'independent variables: {pvic_model.independent_vars}')"
   ]
  },
  {
   "cell_type": "code",
   "execution_count": 20,
   "metadata": {
    "Collapsed": "false",
    "hidden": true,
    "scrolled": true
   },
   "outputs": [],
   "source": [
    "from ENS_peak_fit_pVIC_py.batch_pVIC_fitting import fixSharedParams\n",
    "from ENS_peak_fit_pVIC_py.xpvic_fit_cls import xpvic_fit"
   ]
  },
  {
   "cell_type": "markdown",
   "metadata": {
    "Collapsed": "false",
    "hidden": true
   },
   "source": [
    "### Batch fitting of single peak spectra with single pVIC function\n",
    "above Hc\n",
    "\n",
    "This will help fix the value of the parameters shared by all spectra, i.e. alpha, beta, R, gamma and sigma"
   ]
  },
  {
   "cell_type": "markdown",
   "metadata": {
    "Collapsed": "true",
    "hidden": true
   },
   "source": [
    "#### Create fit parameters and specify their properties\n",
    "including initial values, constraints, etc.\n",
    "Note: when all pVIC parameters (except k) are free, the fit is very sensitive to initial values and can easily produce NaN numbers.\n",
    "The following initial parameters appear to yield a result without raising any error:\n",
    "A=2e5, alpha=140, beta=1e-3, R=1e-3, gamma=1e-3, sigma=6.6e-3, k=.05, xp=peak_center"
   ]
  },
  {
   "cell_type": "code",
   "execution_count": 21,
   "metadata": {
    "Collapsed": "false",
    "hidden": true
   },
   "outputs": [
    {
     "data": {
      "text/html": [
       "<table><tr><th> name </th><th> value </th><th> initial value </th><th> min </th><th> max </th><th> vary </th></tr><tr><td> A </td><td>  200000.000 </td><td> None </td><td>  0.00000000 </td><td>         inf </td><td> True </td></tr><tr><td> alpha </td><td>  140.000000 </td><td> None </td><td>  0.00000000 </td><td>         inf </td><td> True </td></tr><tr><td> beta </td><td>  1.0000e-03 </td><td> None </td><td>  0.00000000 </td><td>         inf </td><td> True </td></tr><tr><td> R </td><td>  1.0000e-03 </td><td> None </td><td>  0.00000000 </td><td>         inf </td><td> True </td></tr><tr><td> gamma </td><td>  1.0000e-03 </td><td> None </td><td>  0.00000000 </td><td>         inf </td><td> True </td></tr><tr><td> sigma </td><td>  0.00660000 </td><td> None </td><td>  0.00000000 </td><td>         inf </td><td> True </td></tr><tr><td> k </td><td>  0.05000000 </td><td> None </td><td>  0.00000000 </td><td>         inf </td><td> False </td></tr><tr><td> xp </td><td> -8.00000000 </td><td> None </td><td>        -inf </td><td>         inf </td><td> True </td></tr></table>"
      ],
      "text/plain": [
       "Parameters([('A', <Parameter 'A', value=200000.0, bounds=[0:inf]>),\n",
       "            ('alpha', <Parameter 'alpha', value=140, bounds=[0:inf]>),\n",
       "            ('beta', <Parameter 'beta', value=0.001, bounds=[0:inf]>),\n",
       "            ('R', <Parameter 'R', value=0.001, bounds=[0:inf]>),\n",
       "            ('gamma', <Parameter 'gamma', value=0.001, bounds=[0:inf]>),\n",
       "            ('sigma', <Parameter 'sigma', value=0.0066, bounds=[0:inf]>),\n",
       "            ('k', <Parameter 'k', value=0.05 (fixed), bounds=[0:inf]>),\n",
       "            ('xp', <Parameter 'xp', value=-8.0, bounds=[-inf:inf]>)])"
      ]
     },
     "execution_count": 21,
     "metadata": {},
     "output_type": "execute_result"
    }
   ],
   "source": [
    "pvic_params = pvic_model.make_params(A=2e5, alpha=140, beta=1e-3, R=1e-3, \n",
    "                                     gamma=1e-3, sigma=6.6e-3, k=.05, xp=-8.)\n",
    "for k in pvic_params.keys():\n",
    "    pvic_params[k].set(min=0, vary=True)\n",
    "pvic_params['xp'].set(min=-np.inf)\n",
    "pvic_params['k'].vary = False\n",
    "pvic_params"
   ]
  },
  {
   "cell_type": "markdown",
   "metadata": {
    "Collapsed": "false",
    "hidden": true
   },
   "source": [
    "#### Create xpvic_fit object and fit with all shared parameters free"
   ]
  },
  {
   "cell_type": "code",
   "execution_count": 26,
   "metadata": {
    "hidden": true,
    "scrolled": true
   },
   "outputs": [
    {
     "name": "stderr",
     "output_type": "stream",
     "text": [
      "C:\\Users\\Pierre\\Desktop\\Postdoc\\Software\\Python\\Python_scripts\\Neutrons_pydas\\ENS_peak_fit_pVIC_py\\xpvic_fit_cls.py:144: RuntimeWarning: divide by zero encountered in true_divide\n",
      "  self.weights = 1/(self.dY)\n",
      "C:\\Users\\Pierre\\Desktop\\Postdoc\\Software\\Python\\Python_scripts\\Neutrons_pydas\\ENS_peak_fit_pVIC_py\\xpvic_fit_cls.py:150: UserWarning: Infinite values were encountered in 'weights', at positions                           []. They were reset to zero.\n",
      "  {np.argwhere(self.weights==np.inf)}. They were reset to zero.\")\n"
     ]
    }
   ],
   "source": [
    "fit_intervals = {6:[-.038, .15], 8:[-.1, .1], 10:[-.15, .15]}#\n",
    "data_range = range(len(nData)-10, len(nData))\n",
    "\n",
    "for h in [6,8,10]:\n",
    "    xwFit = initXpvicFit('xwFit', nData, pvic_params, h, fit_intervals[h], data_range,\n",
    "                         nFreeParams=2)"
   ]
  },
  {
   "cell_type": "markdown",
   "metadata": {
    "Collapsed": "false",
    "hidden": true
   },
   "source": [
    "#### Iteratively fix parameters shared between all datasets and recompute fit accordingly\n",
    "The huge variability on R and beta seen when leaving those free implies that they play little role on the fit, so let's fix them both to zero.\n",
    "Actually, beta=0 generates NaN data (not sure why) so let's fix it to 1e-10\n",
    "For all other parameters, fix them to the best value obtained from the previous fit"
   ]
  },
  {
   "cell_type": "code",
   "execution_count": 47,
   "metadata": {
    "Collapsed": "false",
    "hidden": true
   },
   "outputs": [],
   "source": [
    "def findBestSharedParams(fitObjStr, data, ref_params, h, fit_interval, data_range,\n",
    "                         nFunc=1, recompute=False):\n",
    "\n",
    "    # Create list of dictionaries containing the names of parameters to fix at each iteration\n",
    "    fitKeyBase = f\"{h}_{nFunc}_{data_range[0]}\"\n",
    "    if len(data_range)==1:\n",
    "        fitKey = fitKeyBase\n",
    "    else:\n",
    "        fitKey = f\"{fitKeyBase}-{data_range[-1]}\" \n",
    "\n",
    "    freeSharedParams = ['alpha', 'beta', 'R', 'gamma', 'sigma']\n",
    "#     ref_params['xp'].value = -float(h)\n",
    "\n",
    "    # Initialize fit object if it doesn't exist yet\n",
    "    xFit = initXpvicFit(fitObjStr, data, ref_params, h, fit_interval, data_range, recompute=recompute)\n",
    "\n",
    "    # Loop to fix shared parameters and refit the data\n",
    "    for idx in range(1,5):\n",
    "\n",
    "        # When all shared parameters have been fixed, stop loop\n",
    "        if len(freeSharedParams)==0:\n",
    "            break\n",
    "\n",
    "        # If necessary, create fit object and append it to fit dictionary\n",
    "        if len(xFit[fitKey]) < idx+1:\n",
    "            xFit[fitKey].append(xpvic_fit(data, ref_params, h, fit_intervals[h], data_range))\n",
    "        \n",
    "        freeSharedParams, fixedParams = fixSharedParams(freeSharedParams, xFit[fitKey][idx-1].result)\n",
    "\n",
    "        if hasattr(xFit[fitKey][idx], 'result') and recompute is False :\n",
    "            continue\n",
    "\n",
    "        print(f\"Iteration #{idx} of peak at ({h} {h} 0)\")\n",
    "        print(f\"Free shared parameter: {freeSharedParams}\")\n",
    "        print(f\"Fixed shared parameters: {fixedParams}\\n\")\n",
    "\n",
    "        # create and initialize lmfit Parameters object using results of previous fit\n",
    "        xFit[fitKey][idx].initParams(resultParams=xFit[fitKey][idx-1].result.params)\n",
    "    #     xFit[fitKey][idx].initParams(resultParams=xFit['8_10'][2].result.params)\n",
    "\n",
    "        for key, value in fixedParams.items():\n",
    "            xFit[fitKey][idx].init_params[key].vary = False\n",
    "            if value is not None:\n",
    "                xFit[fitKey][idx].init_params[key].value = value\n",
    "\n",
    "        # Compute the number of free shared parameters \n",
    "        xFit[fitKey][idx].freeSharedPrms = xFit[fitKey][idx-1].freeSharedPrms - len(fixedParams)\n",
    "\n",
    "        # Perform fit\n",
    "        xFit[fitKey][idx].performFit()\n",
    "\n",
    "    return xFit"
   ]
  },
  {
   "cell_type": "code",
   "execution_count": 32,
   "metadata": {
    "hidden": true,
    "scrolled": true
   },
   "outputs": [
    {
     "name": "stdout",
     "output_type": "stream",
     "text": [
      "Iteration #1 of peak at (6 6 0)\n",
      "Free shared parameter: ['alpha', 'gamma', 'sigma']\n",
      "Fixed shared parameters: {'R': 1e-10, 'beta': 1e-10}\n",
      "\n",
      "Iteration #2 of peak at (6 6 0)\n",
      "Free shared parameter: []\n",
      "Fixed shared parameters: {'alpha': None, 'gamma': None, 'sigma': None}\n",
      "\n",
      "Iteration #1 of peak at (8 8 0)\n",
      "Free shared parameter: ['alpha', 'gamma', 'sigma']\n",
      "Fixed shared parameters: {'R': 1e-10, 'beta': 1e-10}\n",
      "\n",
      "Iteration #2 of peak at (8 8 0)\n",
      "Free shared parameter: []\n",
      "Fixed shared parameters: {'alpha': None, 'gamma': None, 'sigma': None}\n",
      "\n",
      "Iteration #1 of peak at (10 10 0)\n",
      "Free shared parameter: ['alpha', 'gamma', 'sigma']\n",
      "Fixed shared parameters: {'R': 1e-10, 'beta': 1e-10}\n",
      "\n",
      "Iteration #2 of peak at (10 10 0)\n",
      "Free shared parameter: []\n",
      "Fixed shared parameters: {'alpha': None, 'gamma': None, 'sigma': None}\n",
      "\n"
     ]
    }
   ],
   "source": [
    "for h in [6,8,10]:\n",
    "    xwFit = findBestSharedParams('xwFit', nData, pvic_params, h, fit_intervals[h], \n",
    "                                 data_range, recompute=False)"
   ]
  },
  {
   "cell_type": "markdown",
   "metadata": {
    "heading_collapsed": true,
    "hidden": true
   },
   "source": [
    "#### Results of weighted fit with 10 datasets on (8 8 0) peak "
   ]
  },
  {
   "cell_type": "code",
   "execution_count": 25,
   "metadata": {
    "Collapsed": "false",
    "hidden": true,
    "scrolled": true
   },
   "outputs": [
    {
     "data": {
      "text/html": [
       "<h2>Fit Statistics</h2><table><tr><td>fitting method</td><td>leastsq</td><td></td></tr><tr><td># function evals</td><td>427</td><td></td></tr><tr><td># data points</td><td>800</td><td></td></tr><tr><td># variables</td><td>25</td><td></td></tr><tr><td>chi-square</td><td> 1190.76968</td><td></td></tr><tr><td>reduced chi-square</td><td> 1.53647700</td><td></td></tr><tr><td>Akaike info crit.</td><td> 368.194750</td><td></td></tr><tr><td>Bayesian info crit.</td><td> 485.310043</td><td></td></tr></table><h2>Variables</h2><table><tr><th> name </th><th> value </th><th> standard error </th><th> relative error </th><th> initial value </th><th> min </th><th> max </th><th> vary </th></tr><tr><td> A92_0 </td><td>  152901.899 </td><td>  1561889.31 </td><td> (1021.50%) </td><td> 200000.0 </td><td>  0.00000000 </td><td>         inf </td><td> True </td></tr><tr><td> alpha </td><td>  125.425080 </td><td>  0.92163519 </td><td> (0.73%) </td><td> 140 </td><td>  0.00000000 </td><td>         inf </td><td> True </td></tr><tr><td> beta </td><td>  0.28960790 </td><td>  69.4052854 </td><td> (23965.26%) </td><td> 0.001 </td><td>  0.00000000 </td><td>         inf </td><td> True </td></tr><tr><td> R </td><td>  0.04404835 </td><td>  9.78918134 </td><td> (22223.72%) </td><td> 0.001 </td><td>  0.00000000 </td><td>         inf </td><td> True </td></tr><tr><td> gamma </td><td>  2.3161e-04 </td><td>  2.5255e-05 </td><td> (10.90%) </td><td> 0.001 </td><td>  0.00000000 </td><td>         inf </td><td> True </td></tr><tr><td> sigma </td><td>  0.00492824 </td><td>  9.8283e-05 </td><td> (1.99%) </td><td> 0.0066 </td><td>  0.00000000 </td><td>         inf </td><td> True </td></tr><tr><td> k </td><td>  0.05000000 </td><td>  0.00000000 </td><td> (0.00%) </td><td> 0.05 </td><td>  0.00000000 </td><td>         inf </td><td> False </td></tr><tr><td> xp92_0 </td><td> -8.01794775 </td><td>  1.6759e-04 </td><td> (0.00%) </td><td> -8.0 </td><td>        -inf </td><td>         inf </td><td> True </td></tr><tr><td> A93_0 </td><td>  154479.642 </td><td>  1578038.81 </td><td> (1021.52%) </td><td> 200000.0 </td><td>  0.00000000 </td><td>         inf </td><td> True </td></tr><tr><td> xp93_0 </td><td> -8.01805235 </td><td>  1.6643e-04 </td><td> (0.00%) </td><td> -8.0 </td><td>        -inf </td><td>         inf </td><td> True </td></tr><tr><td> A94_0 </td><td>  152591.338 </td><td>  1558696.74 </td><td> (1021.48%) </td><td> 200000.0 </td><td>  0.00000000 </td><td>         inf </td><td> True </td></tr><tr><td> xp94_0 </td><td> -8.01800428 </td><td>  1.6369e-04 </td><td> (0.00%) </td><td> -8.0 </td><td>        -inf </td><td>         inf </td><td> True </td></tr><tr><td> A95_0 </td><td>  150118.074 </td><td>  1533412.16 </td><td> (1021.47%) </td><td> 200000.0 </td><td>  0.00000000 </td><td>         inf </td><td> True </td></tr><tr><td> xp95_0 </td><td> -8.01799412 </td><td>  1.6720e-04 </td><td> (0.00%) </td><td> -8.0 </td><td>        -inf </td><td>         inf </td><td> True </td></tr><tr><td> A96_0 </td><td>  151054.888 </td><td>  1543000.72 </td><td> (1021.48%) </td><td> 200000.0 </td><td>  0.00000000 </td><td>         inf </td><td> True </td></tr><tr><td> xp96_0 </td><td> -8.01784366 </td><td>  1.6689e-04 </td><td> (0.00%) </td><td> -8.0 </td><td>        -inf </td><td>         inf </td><td> True </td></tr><tr><td> A97_0 </td><td>  149121.243 </td><td>  1523249.33 </td><td> (1021.48%) </td><td> 200000.0 </td><td>  0.00000000 </td><td>         inf </td><td> True </td></tr><tr><td> xp97_0 </td><td> -8.01763671 </td><td>  1.6916e-04 </td><td> (0.00%) </td><td> -8.0 </td><td>        -inf </td><td>         inf </td><td> True </td></tr><tr><td> A98_0 </td><td>  148841.525 </td><td>  1520447.25 </td><td> (1021.52%) </td><td> 200000.0 </td><td>  0.00000000 </td><td>         inf </td><td> True </td></tr><tr><td> xp98_0 </td><td> -8.01757656 </td><td>  1.7423e-04 </td><td> (0.00%) </td><td> -8.0 </td><td>        -inf </td><td>         inf </td><td> True </td></tr><tr><td> A99_0 </td><td>  148680.961 </td><td>  1518764.44 </td><td> (1021.49%) </td><td> 200000.0 </td><td>  0.00000000 </td><td>         inf </td><td> True </td></tr><tr><td> xp99_0 </td><td> -8.01779696 </td><td>  1.6727e-04 </td><td> (0.00%) </td><td> -8.0 </td><td>        -inf </td><td>         inf </td><td> True </td></tr><tr><td> A100_0 </td><td>  146419.689 </td><td>  1495694.93 </td><td> (1021.51%) </td><td> 200000.0 </td><td>  0.00000000 </td><td>         inf </td><td> True </td></tr><tr><td> xp100_0 </td><td> -8.01789896 </td><td>  1.6958e-04 </td><td> (0.00%) </td><td> -8.0 </td><td>        -inf </td><td>         inf </td><td> True </td></tr><tr><td> A101_0 </td><td>  143559.816 </td><td>  1466450.80 </td><td> (1021.49%) </td><td> 200000.0 </td><td>  0.00000000 </td><td>         inf </td><td> True </td></tr><tr><td> xp101_0 </td><td> -8.01774103 </td><td>  1.6968e-04 </td><td> (0.00%) </td><td> -8.0 </td><td>        -inf </td><td>         inf </td><td> True </td></tr></table><h2>Correlations (unreported correlations are < 0.100)</h2><table><tr><td>R</td><td>A93_0</td><td>1.0000</td></tr><tr><td>R</td><td>A94_0</td><td>1.0000</td></tr><tr><td>R</td><td>A96_0</td><td>1.0000</td></tr><tr><td>R</td><td>A95_0</td><td>1.0000</td></tr><tr><td>A92_0</td><td>R</td><td>1.0000</td></tr><tr><td>R</td><td>A99_0</td><td>1.0000</td></tr><tr><td>R</td><td>A97_0</td><td>1.0000</td></tr><tr><td>R</td><td>A100_0</td><td>1.0000</td></tr><tr><td>R</td><td>A101_0</td><td>1.0000</td></tr><tr><td>R</td><td>A98_0</td><td>1.0000</td></tr><tr><td>A93_0</td><td>A94_0</td><td>1.0000</td></tr><tr><td>A93_0</td><td>A96_0</td><td>1.0000</td></tr><tr><td>A93_0</td><td>A95_0</td><td>1.0000</td></tr><tr><td>A92_0</td><td>A93_0</td><td>1.0000</td></tr><tr><td>A93_0</td><td>A99_0</td><td>1.0000</td></tr><tr><td>A93_0</td><td>A97_0</td><td>1.0000</td></tr><tr><td>A94_0</td><td>A96_0</td><td>1.0000</td></tr><tr><td>A94_0</td><td>A95_0</td><td>1.0000</td></tr><tr><td>A92_0</td><td>A94_0</td><td>1.0000</td></tr><tr><td>A95_0</td><td>A96_0</td><td>1.0000</td></tr><tr><td>A92_0</td><td>A96_0</td><td>1.0000</td></tr><tr><td>A92_0</td><td>A95_0</td><td>1.0000</td></tr><tr><td>A94_0</td><td>A99_0</td><td>1.0000</td></tr><tr><td>A94_0</td><td>A97_0</td><td>1.0000</td></tr><tr><td>A93_0</td><td>A100_0</td><td>1.0000</td></tr><tr><td>A96_0</td><td>A99_0</td><td>1.0000</td></tr><tr><td>A96_0</td><td>A97_0</td><td>1.0000</td></tr><tr><td>A95_0</td><td>A99_0</td><td>1.0000</td></tr><tr><td>A92_0</td><td>A99_0</td><td>1.0000</td></tr><tr><td>A95_0</td><td>A97_0</td><td>1.0000</td></tr><tr><td>A92_0</td><td>A97_0</td><td>1.0000</td></tr><tr><td>A97_0</td><td>A99_0</td><td>1.0000</td></tr><tr><td>A94_0</td><td>A100_0</td><td>1.0000</td></tr><tr><td>A93_0</td><td>A101_0</td><td>1.0000</td></tr><tr><td>A96_0</td><td>A100_0</td><td>1.0000</td></tr><tr><td>A95_0</td><td>A100_0</td><td>1.0000</td></tr><tr><td>A92_0</td><td>A100_0</td><td>1.0000</td></tr><tr><td>A99_0</td><td>A100_0</td><td>1.0000</td></tr><tr><td>A97_0</td><td>A100_0</td><td>1.0000</td></tr><tr><td>A94_0</td><td>A101_0</td><td>1.0000</td></tr><tr><td>A96_0</td><td>A101_0</td><td>1.0000</td></tr><tr><td>A95_0</td><td>A101_0</td><td>1.0000</td></tr><tr><td>A92_0</td><td>A101_0</td><td>1.0000</td></tr><tr><td>A99_0</td><td>A101_0</td><td>1.0000</td></tr><tr><td>A97_0</td><td>A101_0</td><td>1.0000</td></tr><tr><td>A100_0</td><td>A101_0</td><td>1.0000</td></tr><tr><td>A93_0</td><td>A98_0</td><td>1.0000</td></tr><tr><td>A94_0</td><td>A98_0</td><td>1.0000</td></tr><tr><td>A96_0</td><td>A98_0</td><td>1.0000</td></tr><tr><td>A95_0</td><td>A98_0</td><td>1.0000</td></tr><tr><td>A92_0</td><td>A98_0</td><td>1.0000</td></tr><tr><td>A98_0</td><td>A99_0</td><td>1.0000</td></tr><tr><td>A97_0</td><td>A98_0</td><td>1.0000</td></tr><tr><td>A98_0</td><td>A100_0</td><td>1.0000</td></tr><tr><td>A98_0</td><td>A101_0</td><td>1.0000</td></tr><tr><td>beta</td><td>R</td><td>-1.0000</td></tr><tr><td>beta</td><td>A93_0</td><td>-1.0000</td></tr><tr><td>beta</td><td>A94_0</td><td>-1.0000</td></tr><tr><td>beta</td><td>A96_0</td><td>-1.0000</td></tr><tr><td>beta</td><td>A95_0</td><td>-1.0000</td></tr><tr><td>A92_0</td><td>beta</td><td>-1.0000</td></tr><tr><td>beta</td><td>A99_0</td><td>-1.0000</td></tr><tr><td>beta</td><td>A97_0</td><td>-1.0000</td></tr><tr><td>beta</td><td>A100_0</td><td>-1.0000</td></tr><tr><td>beta</td><td>A101_0</td><td>-1.0000</td></tr><tr><td>beta</td><td>A98_0</td><td>-1.0000</td></tr><tr><td>alpha</td><td>sigma</td><td>0.6798</td></tr><tr><td>alpha</td><td>xp100_0</td><td>0.6383</td></tr><tr><td>alpha</td><td>xp93_0</td><td>0.6348</td></tr><tr><td>alpha</td><td>xp95_0</td><td>0.6299</td></tr><tr><td>alpha</td><td>xp92_0</td><td>0.6297</td></tr><tr><td>alpha</td><td>xp97_0</td><td>0.6268</td></tr><tr><td>alpha</td><td>xp96_0</td><td>0.6266</td></tr><tr><td>alpha</td><td>xp101_0</td><td>0.6247</td></tr><tr><td>alpha</td><td>xp99_0</td><td>0.6246</td></tr><tr><td>alpha</td><td>beta</td><td>0.6080</td></tr><tr><td>alpha</td><td>A101_0</td><td>-0.6070</td></tr><tr><td>alpha</td><td>A95_0</td><td>-0.6070</td></tr><tr><td>alpha</td><td>A97_0</td><td>-0.6070</td></tr><tr><td>alpha</td><td>A96_0</td><td>-0.6070</td></tr><tr><td>alpha</td><td>A100_0</td><td>-0.6070</td></tr><tr><td>A92_0</td><td>alpha</td><td>-0.6070</td></tr><tr><td>alpha</td><td>A98_0</td><td>-0.6070</td></tr><tr><td>alpha</td><td>A99_0</td><td>-0.6070</td></tr><tr><td>alpha</td><td>A94_0</td><td>-0.6070</td></tr><tr><td>alpha</td><td>A93_0</td><td>-0.6070</td></tr><tr><td>alpha</td><td>R</td><td>-0.6070</td></tr><tr><td>alpha</td><td>xp94_0</td><td>0.6034</td></tr><tr><td>alpha</td><td>xp98_0</td><td>0.5973</td></tr><tr><td>sigma</td><td>xp100_0</td><td>0.5301</td></tr><tr><td>sigma</td><td>xp101_0</td><td>0.5232</td></tr><tr><td>sigma</td><td>xp97_0</td><td>0.5225</td></tr><tr><td>sigma</td><td>xp95_0</td><td>0.5210</td></tr><tr><td>sigma</td><td>xp96_0</td><td>0.5205</td></tr><tr><td>sigma</td><td>xp99_0</td><td>0.5204</td></tr><tr><td>sigma</td><td>xp93_0</td><td>0.5202</td></tr><tr><td>sigma</td><td>xp92_0</td><td>0.5197</td></tr><tr><td>sigma</td><td>xp94_0</td><td>0.5132</td></tr><tr><td>sigma</td><td>xp98_0</td><td>0.5027</td></tr><tr><td>gamma</td><td>sigma</td><td>-0.4625</td></tr><tr><td>xp93_0</td><td>xp100_0</td><td>0.4407</td></tr><tr><td>xp97_0</td><td>xp100_0</td><td>0.4402</td></tr><tr><td>xp95_0</td><td>xp100_0</td><td>0.4399</td></tr><tr><td>xp99_0</td><td>xp100_0</td><td>0.4395</td></tr><tr><td>xp96_0</td><td>xp100_0</td><td>0.4395</td></tr><tr><td>xp100_0</td><td>xp101_0</td><td>0.4395</td></tr><tr><td>xp92_0</td><td>xp100_0</td><td>0.4387</td></tr><tr><td>xp93_0</td><td>xp97_0</td><td>0.4360</td></tr><tr><td>xp93_0</td><td>xp95_0</td><td>0.4358</td></tr><tr><td>xp97_0</td><td>xp99_0</td><td>0.4354</td></tr><tr><td>xp93_0</td><td>xp96_0</td><td>0.4354</td></tr><tr><td>xp93_0</td><td>xp99_0</td><td>0.4354</td></tr><tr><td>xp95_0</td><td>xp97_0</td><td>0.4354</td></tr><tr><td>xp96_0</td><td>xp97_0</td><td>0.4352</td></tr><tr><td>xp97_0</td><td>xp101_0</td><td>0.4351</td></tr><tr><td>xp93_0</td><td>xp101_0</td><td>0.4351</td></tr><tr><td>xp95_0</td><td>xp99_0</td><td>0.4348</td></tr><tr><td>xp92_0</td><td>xp93_0</td><td>0.4347</td></tr><tr><td>xp95_0</td><td>xp96_0</td><td>0.4347</td></tr><tr><td>xp96_0</td><td>xp99_0</td><td>0.4347</td></tr><tr><td>xp99_0</td><td>xp101_0</td><td>0.4346</td></tr><tr><td>xp95_0</td><td>xp101_0</td><td>0.4345</td></tr><tr><td>xp96_0</td><td>xp101_0</td><td>0.4343</td></tr><tr><td>xp92_0</td><td>xp97_0</td><td>0.4341</td></tr><tr><td>xp92_0</td><td>xp95_0</td><td>0.4338</td></tr><tr><td>xp92_0</td><td>xp99_0</td><td>0.4334</td></tr><tr><td>xp92_0</td><td>xp96_0</td><td>0.4334</td></tr><tr><td>xp92_0</td><td>xp101_0</td><td>0.4332</td></tr><tr><td>xp94_0</td><td>xp100_0</td><td>0.4307</td></tr><tr><td>xp94_0</td><td>xp97_0</td><td>0.4276</td></tr><tr><td>xp94_0</td><td>xp99_0</td><td>0.4274</td></tr><tr><td>xp94_0</td><td>xp96_0</td><td>0.4269</td></tr><tr><td>xp93_0</td><td>xp94_0</td><td>0.4269</td></tr><tr><td>xp94_0</td><td>xp101_0</td><td>0.4266</td></tr><tr><td>xp94_0</td><td>xp95_0</td><td>0.4266</td></tr><tr><td>xp92_0</td><td>xp94_0</td><td>0.4252</td></tr><tr><td>xp98_0</td><td>xp100_0</td><td>0.4223</td></tr><tr><td>xp97_0</td><td>xp98_0</td><td>0.4185</td></tr><tr><td>xp93_0</td><td>xp98_0</td><td>0.4182</td></tr><tr><td>xp98_0</td><td>xp99_0</td><td>0.4181</td></tr><tr><td>xp95_0</td><td>xp98_0</td><td>0.4178</td></tr><tr><td>xp96_0</td><td>xp98_0</td><td>0.4178</td></tr><tr><td>xp98_0</td><td>xp101_0</td><td>0.4177</td></tr><tr><td>xp92_0</td><td>xp98_0</td><td>0.4165</td></tr><tr><td>xp94_0</td><td>xp98_0</td><td>0.4112</td></tr><tr><td>beta</td><td>sigma</td><td>0.3114</td></tr><tr><td>sigma</td><td>A101_0</td><td>-0.3106</td></tr><tr><td>sigma</td><td>A97_0</td><td>-0.3106</td></tr><tr><td>sigma</td><td>A100_0</td><td>-0.3106</td></tr><tr><td>sigma</td><td>A98_0</td><td>-0.3106</td></tr><tr><td>sigma</td><td>A96_0</td><td>-0.3106</td></tr><tr><td>sigma</td><td>A99_0</td><td>-0.3106</td></tr><tr><td>A92_0</td><td>sigma</td><td>-0.3106</td></tr><tr><td>sigma</td><td>A95_0</td><td>-0.3106</td></tr><tr><td>sigma</td><td>A94_0</td><td>-0.3105</td></tr><tr><td>sigma</td><td>A93_0</td><td>-0.3105</td></tr><tr><td>R</td><td>sigma</td><td>-0.3105</td></tr><tr><td>beta</td><td>xp100_0</td><td>0.2774</td></tr><tr><td>xp100_0</td><td>A101_0</td><td>-0.2768</td></tr><tr><td>A96_0</td><td>xp100_0</td><td>-0.2768</td></tr><tr><td>A97_0</td><td>xp100_0</td><td>-0.2768</td></tr><tr><td>A99_0</td><td>xp100_0</td><td>-0.2768</td></tr><tr><td>A95_0</td><td>xp100_0</td><td>-0.2768</td></tr><tr><td>A92_0</td><td>xp100_0</td><td>-0.2768</td></tr><tr><td>A98_0</td><td>xp100_0</td><td>-0.2768</td></tr><tr><td>A94_0</td><td>xp100_0</td><td>-0.2768</td></tr><tr><td>A93_0</td><td>xp100_0</td><td>-0.2768</td></tr><tr><td>R</td><td>xp100_0</td><td>-0.2768</td></tr><tr><td>A100_0</td><td>xp100_0</td><td>-0.2768</td></tr><tr><td>beta</td><td>xp93_0</td><td>0.2734</td></tr><tr><td>xp93_0</td><td>A101_0</td><td>-0.2727</td></tr><tr><td>xp93_0</td><td>A97_0</td><td>-0.2727</td></tr><tr><td>xp93_0</td><td>A100_0</td><td>-0.2727</td></tr><tr><td>xp93_0</td><td>A95_0</td><td>-0.2727</td></tr><tr><td>xp93_0</td><td>A96_0</td><td>-0.2727</td></tr><tr><td>xp93_0</td><td>A98_0</td><td>-0.2727</td></tr><tr><td>A92_0</td><td>xp93_0</td><td>-0.2727</td></tr><tr><td>xp93_0</td><td>A99_0</td><td>-0.2727</td></tr><tr><td>xp93_0</td><td>A94_0</td><td>-0.2727</td></tr><tr><td>R</td><td>xp93_0</td><td>-0.2727</td></tr><tr><td>A93_0</td><td>xp93_0</td><td>-0.2727</td></tr><tr><td>beta</td><td>xp92_0</td><td>0.2671</td></tr><tr><td>xp92_0</td><td>A101_0</td><td>-0.2665</td></tr><tr><td>xp92_0</td><td>A97_0</td><td>-0.2665</td></tr><tr><td>xp92_0</td><td>A100_0</td><td>-0.2665</td></tr><tr><td>xp92_0</td><td>A95_0</td><td>-0.2665</td></tr><tr><td>xp92_0</td><td>A96_0</td><td>-0.2665</td></tr><tr><td>xp92_0</td><td>A98_0</td><td>-0.2665</td></tr><tr><td>xp92_0</td><td>A99_0</td><td>-0.2665</td></tr><tr><td>xp92_0</td><td>A94_0</td><td>-0.2665</td></tr><tr><td>xp92_0</td><td>A93_0</td><td>-0.2665</td></tr><tr><td>R</td><td>xp92_0</td><td>-0.2664</td></tr><tr><td>A92_0</td><td>xp92_0</td><td>-0.2664</td></tr><tr><td>beta</td><td>xp95_0</td><td>0.2642</td></tr><tr><td>xp95_0</td><td>A101_0</td><td>-0.2636</td></tr><tr><td>xp95_0</td><td>A97_0</td><td>-0.2636</td></tr><tr><td>xp95_0</td><td>A100_0</td><td>-0.2636</td></tr><tr><td>xp95_0</td><td>A96_0</td><td>-0.2636</td></tr><tr><td>xp95_0</td><td>A98_0</td><td>-0.2636</td></tr><tr><td>A92_0</td><td>xp95_0</td><td>-0.2636</td></tr><tr><td>xp95_0</td><td>A99_0</td><td>-0.2636</td></tr><tr><td>A94_0</td><td>xp95_0</td><td>-0.2636</td></tr><tr><td>A93_0</td><td>xp95_0</td><td>-0.2636</td></tr><tr><td>R</td><td>xp95_0</td><td>-0.2635</td></tr><tr><td>A95_0</td><td>xp95_0</td><td>-0.2635</td></tr><tr><td>beta</td><td>xp101_0</td><td>0.2546</td></tr><tr><td>A97_0</td><td>xp101_0</td><td>-0.2540</td></tr><tr><td>A100_0</td><td>xp101_0</td><td>-0.2540</td></tr><tr><td>A95_0</td><td>xp101_0</td><td>-0.2540</td></tr><tr><td>A98_0</td><td>xp101_0</td><td>-0.2540</td></tr><tr><td>A96_0</td><td>xp101_0</td><td>-0.2540</td></tr><tr><td>A92_0</td><td>xp101_0</td><td>-0.2540</td></tr><tr><td>A99_0</td><td>xp101_0</td><td>-0.2540</td></tr><tr><td>A94_0</td><td>xp101_0</td><td>-0.2540</td></tr><tr><td>A93_0</td><td>xp101_0</td><td>-0.2540</td></tr><tr><td>R</td><td>xp101_0</td><td>-0.2539</td></tr><tr><td>A101_0</td><td>xp101_0</td><td>-0.2539</td></tr><tr><td>beta</td><td>xp96_0</td><td>0.2538</td></tr><tr><td>beta</td><td>xp97_0</td><td>0.2535</td></tr><tr><td>xp96_0</td><td>A101_0</td><td>-0.2532</td></tr><tr><td>xp96_0</td><td>A97_0</td><td>-0.2532</td></tr><tr><td>xp96_0</td><td>A100_0</td><td>-0.2532</td></tr><tr><td>A95_0</td><td>xp96_0</td><td>-0.2532</td></tr><tr><td>xp96_0</td><td>A98_0</td><td>-0.2532</td></tr><tr><td>A92_0</td><td>xp96_0</td><td>-0.2532</td></tr><tr><td>xp96_0</td><td>A99_0</td><td>-0.2532</td></tr><tr><td>A94_0</td><td>xp96_0</td><td>-0.2532</td></tr><tr><td>A93_0</td><td>xp96_0</td><td>-0.2532</td></tr><tr><td>R</td><td>xp96_0</td><td>-0.2531</td></tr><tr><td>A96_0</td><td>xp96_0</td><td>-0.2531</td></tr><tr><td>xp97_0</td><td>A101_0</td><td>-0.2528</td></tr><tr><td>xp97_0</td><td>A100_0</td><td>-0.2528</td></tr><tr><td>A96_0</td><td>xp97_0</td><td>-0.2528</td></tr><tr><td>A95_0</td><td>xp97_0</td><td>-0.2528</td></tr><tr><td>xp97_0</td><td>A98_0</td><td>-0.2528</td></tr><tr><td>xp97_0</td><td>A99_0</td><td>-0.2528</td></tr><tr><td>A92_0</td><td>xp97_0</td><td>-0.2528</td></tr><tr><td>A94_0</td><td>xp97_0</td><td>-0.2528</td></tr><tr><td>A93_0</td><td>xp97_0</td><td>-0.2528</td></tr><tr><td>A97_0</td><td>xp97_0</td><td>-0.2528</td></tr><tr><td>R</td><td>xp97_0</td><td>-0.2528</td></tr><tr><td>beta</td><td>xp99_0</td><td>0.2475</td></tr><tr><td>xp99_0</td><td>A101_0</td><td>-0.2469</td></tr><tr><td>A97_0</td><td>xp99_0</td><td>-0.2469</td></tr><tr><td>xp99_0</td><td>A100_0</td><td>-0.2469</td></tr><tr><td>A96_0</td><td>xp99_0</td><td>-0.2469</td></tr><tr><td>A95_0</td><td>xp99_0</td><td>-0.2469</td></tr><tr><td>A98_0</td><td>xp99_0</td><td>-0.2469</td></tr><tr><td>A92_0</td><td>xp99_0</td><td>-0.2469</td></tr><tr><td>A94_0</td><td>xp99_0</td><td>-0.2469</td></tr><tr><td>A93_0</td><td>xp99_0</td><td>-0.2469</td></tr><tr><td>R</td><td>xp99_0</td><td>-0.2469</td></tr><tr><td>A99_0</td><td>xp99_0</td><td>-0.2469</td></tr><tr><td>beta</td><td>xp98_0</td><td>0.2292</td></tr><tr><td>xp98_0</td><td>A101_0</td><td>-0.2286</td></tr><tr><td>A97_0</td><td>xp98_0</td><td>-0.2286</td></tr><tr><td>A95_0</td><td>xp98_0</td><td>-0.2286</td></tr><tr><td>xp98_0</td><td>A100_0</td><td>-0.2286</td></tr><tr><td>A96_0</td><td>xp98_0</td><td>-0.2286</td></tr><tr><td>A92_0</td><td>xp98_0</td><td>-0.2286</td></tr><tr><td>A94_0</td><td>xp98_0</td><td>-0.2286</td></tr><tr><td>xp98_0</td><td>A99_0</td><td>-0.2286</td></tr><tr><td>A93_0</td><td>xp98_0</td><td>-0.2286</td></tr><tr><td>R</td><td>xp98_0</td><td>-0.2285</td></tr><tr><td>A98_0</td><td>xp98_0</td><td>-0.2285</td></tr><tr><td>beta</td><td>xp94_0</td><td>0.2049</td></tr><tr><td>xp94_0</td><td>A101_0</td><td>-0.2043</td></tr><tr><td>xp94_0</td><td>A97_0</td><td>-0.2043</td></tr><tr><td>xp94_0</td><td>A100_0</td><td>-0.2043</td></tr><tr><td>xp94_0</td><td>A96_0</td><td>-0.2043</td></tr><tr><td>xp94_0</td><td>A95_0</td><td>-0.2043</td></tr><tr><td>xp94_0</td><td>A98_0</td><td>-0.2043</td></tr><tr><td>A92_0</td><td>xp94_0</td><td>-0.2043</td></tr><tr><td>xp94_0</td><td>A99_0</td><td>-0.2043</td></tr><tr><td>A93_0</td><td>xp94_0</td><td>-0.2043</td></tr><tr><td>R</td><td>xp94_0</td><td>-0.2043</td></tr><tr><td>A94_0</td><td>xp94_0</td><td>-0.2042</td></tr></table>"
      ],
      "text/plain": [
       "<lmfit.minimizer.MinimizerResult at 0x1b0c33a5688>"
      ]
     },
     "execution_count": 25,
     "metadata": {},
     "output_type": "execute_result"
    }
   ],
   "source": [
    "fitKey = '8_1_92-101'\n",
    "xwFit[fitKey][0].result"
   ]
  },
  {
   "cell_type": "code",
   "execution_count": 30,
   "metadata": {
    "Collapsed": "false",
    "hidden": true,
    "scrolled": true
   },
   "outputs": [
    {
     "data": {
      "text/html": [
       "<h2>Fit Statistics</h2><table><tr><td>fitting method</td><td>leastsq</td><td></td></tr><tr><td># function evals</td><td>73</td><td></td></tr><tr><td># data points</td><td>800</td><td></td></tr><tr><td># variables</td><td>23</td><td></td></tr><tr><td>chi-square</td><td> 1192.75347</td><td></td></tr><tr><td>reduced chi-square</td><td> 1.53507526</td><td></td></tr><tr><td>Akaike info crit.</td><td> 365.526423</td><td></td></tr><tr><td>Bayesian info crit.</td><td> 473.272493</td><td></td></tr></table><h2>Variables</h2><table><tr><th> name </th><th> value </th><th> standard error </th><th> relative error </th><th> initial value </th><th> min </th><th> max </th><th> vary </th></tr><tr><td> A92_0 </td><td>  146302.634 </td><td>  1488.48117 </td><td> (1.02%) </td><td> 152901.898811131 </td><td>  0.00000000 </td><td>         inf </td><td> True </td></tr><tr><td> alpha </td><td>  125.123462 </td><td>  0.67956668 </td><td> (0.54%) </td><td> 125.42508036219262 </td><td>  0.00000000 </td><td>         inf </td><td> True </td></tr><tr><td> beta </td><td>  1.0000e-10 </td><td>  0.00000000 </td><td> (0.00%) </td><td> 1e-10 </td><td>  0.00000000 </td><td>         inf </td><td> False </td></tr><tr><td> R </td><td>  1.0000e-10 </td><td>  0.00000000 </td><td> (0.00%) </td><td> 1e-10 </td><td>  0.00000000 </td><td>         inf </td><td> False </td></tr><tr><td> gamma </td><td>  2.3680e-04 </td><td>  2.4662e-05 </td><td> (10.41%) </td><td> 0.0002316142342984051 </td><td>  0.00000000 </td><td>         inf </td><td> True </td></tr><tr><td> sigma </td><td>  0.00490183 </td><td>  9.0594e-05 </td><td> (1.85%) </td><td> 0.004928235725694119 </td><td>  0.00000000 </td><td>         inf </td><td> True </td></tr><tr><td> k </td><td>  0.05000000 </td><td>  0.00000000 </td><td> (0.00%) </td><td> 0.05 </td><td>  0.00000000 </td><td>         inf </td><td> False </td></tr><tr><td> xp92_0 </td><td> -8.01798178 </td><td>  1.5871e-04 </td><td> (0.00%) </td><td> -8.017947746743312 </td><td>        -inf </td><td>         inf </td><td> True </td></tr><tr><td> A93_0 </td><td>  147821.670 </td><td>  1484.08558 </td><td> (1.00%) </td><td> 154479.6421301184 </td><td>  0.00000000 </td><td>         inf </td><td> True </td></tr><tr><td> xp93_0 </td><td> -8.01808602 </td><td>  1.5727e-04 </td><td> (0.00%) </td><td> -8.018052345022376 </td><td>        -inf </td><td>         inf </td><td> True </td></tr><tr><td> A94_0 </td><td>  146011.182 </td><td>  1478.42095 </td><td> (1.01%) </td><td> 152591.33794400713 </td><td>  0.00000000 </td><td>         inf </td><td> True </td></tr><tr><td> xp94_0 </td><td> -8.01803788 </td><td>  1.5738e-04 </td><td> (0.00%) </td><td> -8.018004284519748 </td><td>        -inf </td><td>         inf </td><td> True </td></tr><tr><td> A95_0 </td><td>  143647.454 </td><td>  1460.70026 </td><td> (1.02%) </td><td> 150118.07430219726 </td><td>  0.00000000 </td><td>         inf </td><td> True </td></tr><tr><td> xp95_0 </td><td> -8.01802818 </td><td>  1.5847e-04 </td><td> (0.00%) </td><td> -8.017994115956448 </td><td>        -inf </td><td>         inf </td><td> True </td></tr><tr><td> A96_0 </td><td>  144540.454 </td><td>  1468.03101 </td><td> (1.02%) </td><td> 151054.8883943062 </td><td>  0.00000000 </td><td>         inf </td><td> True </td></tr><tr><td> xp96_0 </td><td> -8.01787764 </td><td>  1.5864e-04 </td><td> (0.00%) </td><td> -8.017843658764182 </td><td>        -inf </td><td>         inf </td><td> True </td></tr><tr><td> A97_0 </td><td>  142688.669 </td><td>  1459.81818 </td><td> (1.02%) </td><td> 149121.24277501964 </td><td>  0.00000000 </td><td>         inf </td><td> True </td></tr><tr><td> xp97_0 </td><td> -8.01767165 </td><td>  1.6083e-04 </td><td> (0.00%) </td><td> -8.017636706249696 </td><td>        -inf </td><td>         inf </td><td> True </td></tr><tr><td> A98_0 </td><td>  142424.910 </td><td>  1563.45744 </td><td> (1.10%) </td><td> 148841.52456022744 </td><td>  0.00000000 </td><td>         inf </td><td> True </td></tr><tr><td> xp98_0 </td><td> -8.01761128 </td><td>  1.6690e-04 </td><td> (0.00%) </td><td> -8.017576557369868 </td><td>        -inf </td><td>         inf </td><td> True </td></tr><tr><td> A99_0 </td><td>  142259.306 </td><td>  1454.39757 </td><td> (1.02%) </td><td> 148680.96129142484 </td><td>  0.00000000 </td><td>         inf </td><td> True </td></tr><tr><td> xp99_0 </td><td> -8.01783114 </td><td>  1.5929e-04 </td><td> (0.00%) </td><td> -8.017796955347624 </td><td>        -inf </td><td>         inf </td><td> True </td></tr><tr><td> A100_0 </td><td>  140112.956 </td><td>  1447.95737 </td><td> (1.03%) </td><td> 146419.68907196086 </td><td>  0.00000000 </td><td>         inf </td><td> True </td></tr><tr><td> xp100_0 </td><td> -8.01793373 </td><td>  1.6011e-04 </td><td> (0.00%) </td><td> -8.017898960985374 </td><td>        -inf </td><td>         inf </td><td> True </td></tr><tr><td> A101_0 </td><td>  137363.011 </td><td>  1434.95207 </td><td> (1.04%) </td><td> 143559.81642001405 </td><td>  0.00000000 </td><td>         inf </td><td> True </td></tr><tr><td> xp101_0 </td><td> -8.01777538 </td><td>  1.6133e-04 </td><td> (0.00%) </td><td> -8.01774102976366 </td><td>        -inf </td><td>         inf </td><td> True </td></tr></table><h2>Correlations (unreported correlations are < 0.100)</h2><table><tr><td>alpha</td><td>sigma</td><td>0.6190</td></tr><tr><td>alpha</td><td>xp99_0</td><td>0.6004</td></tr><tr><td>alpha</td><td>xp100_0</td><td>0.5997</td></tr><tr><td>alpha</td><td>xp94_0</td><td>0.5996</td></tr><tr><td>alpha</td><td>xp97_0</td><td>0.5994</td></tr><tr><td>alpha</td><td>xp96_0</td><td>0.5989</td></tr><tr><td>alpha</td><td>xp93_0</td><td>0.5970</td></tr><tr><td>alpha</td><td>xp95_0</td><td>0.5966</td></tr><tr><td>alpha</td><td>xp101_0</td><td>0.5962</td></tr><tr><td>alpha</td><td>xp92_0</td><td>0.5942</td></tr><tr><td>alpha</td><td>xp98_0</td><td>0.5765</td></tr><tr><td>sigma</td><td>xp100_0</td><td>0.4624</td></tr><tr><td>sigma</td><td>xp101_0</td><td>0.4596</td></tr><tr><td>sigma</td><td>xp94_0</td><td>0.4591</td></tr><tr><td>sigma</td><td>xp97_0</td><td>0.4587</td></tr><tr><td>sigma</td><td>xp99_0</td><td>0.4576</td></tr><tr><td>sigma</td><td>xp96_0</td><td>0.4564</td></tr><tr><td>sigma</td><td>xp95_0</td><td>0.4548</td></tr><tr><td>sigma</td><td>xp92_0</td><td>0.4526</td></tr><tr><td>sigma</td><td>xp93_0</td><td>0.4516</td></tr><tr><td>sigma</td><td>xp98_0</td><td>0.4431</td></tr><tr><td>gamma</td><td>sigma</td><td>-0.4392</td></tr><tr><td>xp99_0</td><td>xp100_0</td><td>0.3776</td></tr><tr><td>xp97_0</td><td>xp100_0</td><td>0.3772</td></tr><tr><td>xp97_0</td><td>xp99_0</td><td>0.3768</td></tr><tr><td>xp94_0</td><td>xp100_0</td><td>0.3765</td></tr><tr><td>xp100_0</td><td>xp101_0</td><td>0.3763</td></tr><tr><td>xp96_0</td><td>xp100_0</td><td>0.3763</td></tr><tr><td>xp94_0</td><td>xp99_0</td><td>0.3761</td></tr><tr><td>xp96_0</td><td>xp99_0</td><td>0.3759</td></tr><tr><td>xp99_0</td><td>xp101_0</td><td>0.3758</td></tr><tr><td>xp94_0</td><td>xp97_0</td><td>0.3757</td></tr><tr><td>xp96_0</td><td>xp97_0</td><td>0.3755</td></tr><tr><td>xp97_0</td><td>xp101_0</td><td>0.3754</td></tr><tr><td>xp94_0</td><td>xp96_0</td><td>0.3749</td></tr><tr><td>xp95_0</td><td>xp100_0</td><td>0.3748</td></tr><tr><td>xp94_0</td><td>xp101_0</td><td>0.3747</td></tr><tr><td>xp96_0</td><td>xp101_0</td><td>0.3745</td></tr><tr><td>xp95_0</td><td>xp99_0</td><td>0.3744</td></tr><tr><td>xp95_0</td><td>xp97_0</td><td>0.3739</td></tr><tr><td>xp93_0</td><td>xp100_0</td><td>0.3738</td></tr><tr><td>xp93_0</td><td>xp99_0</td><td>0.3734</td></tr><tr><td>xp94_0</td><td>xp95_0</td><td>0.3734</td></tr><tr><td>xp95_0</td><td>xp96_0</td><td>0.3731</td></tr><tr><td>xp93_0</td><td>xp97_0</td><td>0.3730</td></tr><tr><td>xp95_0</td><td>xp101_0</td><td>0.3730</td></tr><tr><td>xp92_0</td><td>xp100_0</td><td>0.3728</td></tr><tr><td>xp93_0</td><td>xp94_0</td><td>0.3725</td></tr><tr><td>xp92_0</td><td>xp99_0</td><td>0.3724</td></tr><tr><td>xp93_0</td><td>xp96_0</td><td>0.3722</td></tr><tr><td>xp92_0</td><td>xp97_0</td><td>0.3720</td></tr><tr><td>xp93_0</td><td>xp101_0</td><td>0.3719</td></tr><tr><td>xp92_0</td><td>xp94_0</td><td>0.3715</td></tr><tr><td>xp92_0</td><td>xp96_0</td><td>0.3712</td></tr><tr><td>xp92_0</td><td>xp101_0</td><td>0.3709</td></tr><tr><td>xp93_0</td><td>xp95_0</td><td>0.3707</td></tr><tr><td>xp92_0</td><td>xp95_0</td><td>0.3697</td></tr><tr><td>xp92_0</td><td>xp93_0</td><td>0.3689</td></tr><tr><td>xp98_0</td><td>xp100_0</td><td>0.3631</td></tr><tr><td>xp98_0</td><td>xp99_0</td><td>0.3627</td></tr><tr><td>xp97_0</td><td>xp98_0</td><td>0.3623</td></tr><tr><td>xp94_0</td><td>xp98_0</td><td>0.3616</td></tr><tr><td>xp96_0</td><td>xp98_0</td><td>0.3614</td></tr><tr><td>xp98_0</td><td>xp101_0</td><td>0.3614</td></tr><tr><td>xp95_0</td><td>xp98_0</td><td>0.3600</td></tr><tr><td>xp93_0</td><td>xp98_0</td><td>0.3590</td></tr><tr><td>xp92_0</td><td>xp98_0</td><td>0.3581</td></tr></table>"
      ],
      "text/plain": [
       "<lmfit.minimizer.MinimizerResult at 0x244f96fa808>"
      ]
     },
     "execution_count": 30,
     "metadata": {},
     "output_type": "execute_result"
    }
   ],
   "source": [
    "xwFit[fitKey][1].result"
   ]
  },
  {
   "cell_type": "code",
   "execution_count": 92,
   "metadata": {
    "Collapsed": "false",
    "collapsed": true,
    "hidden": true
   },
   "outputs": [
    {
     "data": {
      "text/html": [
       "<h2>Fit Statistics</h2><table><tr><td>fitting method</td><td>leastsq</td><td></td></tr><tr><td># function evals</td><td>22</td><td></td></tr><tr><td># data points</td><td>800</td><td></td></tr><tr><td># variables</td><td>20</td><td></td></tr><tr><td>chi-square</td><td> 1192.75347</td><td></td></tr><tr><td>reduced chi-square</td><td> 1.52917112</td><td></td></tr><tr><td>Akaike info crit.</td><td> 359.526423</td><td></td></tr><tr><td>Bayesian info crit.</td><td> 453.218657</td><td></td></tr></table><h2>Variables</h2><table><tr><th> name </th><th> value </th><th> standard error </th><th> relative error </th><th> initial value </th><th> min </th><th> max </th><th> vary </th></tr><tr><td> A92 </td><td>  146302.561 </td><td>  1482.30969 </td><td> (1.01%) </td><td> 146302.6338193856 </td><td>  0.00000000 </td><td>         inf </td><td> True </td></tr><tr><td> alpha </td><td>  125.123462 </td><td>  0.00000000 </td><td> (0.00%) </td><td> 125.12346204356733 </td><td>  0.00000000 </td><td>         inf </td><td> False </td></tr><tr><td> beta </td><td>  1.0000e-10 </td><td>  0.00000000 </td><td> (0.00%) </td><td> 1e-10 </td><td>  0.00000000 </td><td>         inf </td><td> False </td></tr><tr><td> R </td><td>  1.0000e-10 </td><td>  0.00000000 </td><td> (0.00%) </td><td> 1e-10 </td><td>  0.00000000 </td><td>         inf </td><td> False </td></tr><tr><td> gamma </td><td>  2.3680e-04 </td><td>  0.00000000 </td><td> (0.00%) </td><td> 0.000236804323940909 </td><td>  0.00000000 </td><td>         inf </td><td> False </td></tr><tr><td> sigma </td><td>  0.00490183 </td><td>  0.00000000 </td><td> (0.00%) </td><td> 0.004901834233885571 </td><td>  0.00000000 </td><td>         inf </td><td> False </td></tr><tr><td> k </td><td>  0.05000000 </td><td>  0.00000000 </td><td> (0.00%) </td><td> 0.05 </td><td>  0.00000000 </td><td>         inf </td><td> False </td></tr><tr><td> xp92 </td><td> -8.01798179 </td><td>  1.2594e-04 </td><td> (0.00%) </td><td> -8.017981777410036 </td><td>        -inf </td><td>         inf </td><td> True </td></tr><tr><td> A93 </td><td>  147821.604 </td><td>  1477.82866 </td><td> (1.00%) </td><td> 147821.66955649797 </td><td>  0.00000000 </td><td>         inf </td><td> True </td></tr><tr><td> xp93 </td><td> -8.01808603 </td><td>  1.2459e-04 </td><td> (0.00%) </td><td> -8.01808602189962 </td><td>        -inf </td><td>         inf </td><td> True </td></tr><tr><td> A94 </td><td>  146011.100 </td><td>  1472.32514 </td><td> (1.01%) </td><td> 146011.18249411418 </td><td>  0.00000000 </td><td>         inf </td><td> True </td></tr><tr><td> xp94 </td><td> -8.01803788 </td><td>  1.2416e-04 </td><td> (0.00%) </td><td> -8.018037882135738 </td><td>        -inf </td><td>         inf </td><td> True </td></tr><tr><td> A95 </td><td>  143647.443 </td><td>  1454.61775 </td><td> (1.01%) </td><td> 143647.45362956394 </td><td>  0.00000000 </td><td>         inf </td><td> True </td></tr><tr><td> xp95 </td><td> -8.01802821 </td><td>  1.2538e-04 </td><td> (0.00%) </td><td> -8.018028180234486 </td><td>        -inf </td><td>         inf </td><td> True </td></tr><tr><td> A96 </td><td>  144540.441 </td><td>  1462.04992 </td><td> (1.01%) </td><td> 144540.45448083256 </td><td>  0.00000000 </td><td>         inf </td><td> True </td></tr><tr><td> xp96 </td><td> -8.01787766 </td><td>  1.2522e-04 </td><td> (0.00%) </td><td> -8.017877641661752 </td><td>        -inf </td><td>         inf </td><td> True </td></tr><tr><td> A97 </td><td>  142688.656 </td><td>  1454.04620 </td><td> (1.02%) </td><td> 142688.6687594157 </td><td>  0.00000000 </td><td>         inf </td><td> True </td></tr><tr><td> xp97 </td><td> -8.01767168 </td><td>  1.2676e-04 </td><td> (0.00%) </td><td> -8.017671652380358 </td><td>        -inf </td><td>         inf </td><td> True </td></tr><tr><td> A98 </td><td>  142424.917 </td><td>  1557.74673 </td><td> (1.09%) </td><td> 142424.90993560335 </td><td>  0.00000000 </td><td>         inf </td><td> True </td></tr><tr><td> xp98 </td><td> -8.01761130 </td><td>  1.3443e-04 </td><td> (0.00%) </td><td> -8.01761127764683 </td><td>        -inf </td><td>         inf </td><td> True </td></tr><tr><td> A99 </td><td>  142259.322 </td><td>  1448.77812 </td><td> (1.02%) </td><td> 142259.30644376512 </td><td>  0.00000000 </td><td>         inf </td><td> True </td></tr><tr><td> xp99 </td><td> -8.01783116 </td><td>  1.2547e-04 </td><td> (0.00%) </td><td> -8.017831136715758 </td><td>        -inf </td><td>         inf </td><td> True </td></tr><tr><td> A100 </td><td>  140112.983 </td><td>  1442.32177 </td><td> (1.03%) </td><td> 140112.95574654598 </td><td>  0.00000000 </td><td>         inf </td><td> True </td></tr><tr><td> xp100 </td><td> -8.01793375 </td><td>  1.2602e-04 </td><td> (0.00%) </td><td> -8.017933726229938 </td><td>        -inf </td><td>         inf </td><td> True </td></tr><tr><td> A101 </td><td>  137363.088 </td><td>  1429.30799 </td><td> (1.04%) </td><td> 137363.01099422737 </td><td>  0.00000000 </td><td>         inf </td><td> True </td></tr><tr><td> xp101 </td><td> -8.01777541 </td><td>  1.2734e-04 </td><td> (0.00%) </td><td> -8.017775382529354 </td><td>        -inf </td><td>         inf </td><td> True </td></tr></table>"
      ],
      "text/plain": [
       "<lmfit.minimizer.MinimizerResult at 0x1cb74dc86c8>"
      ]
     },
     "execution_count": 92,
     "metadata": {},
     "output_type": "execute_result"
    }
   ],
   "source": [
    "# report_fit(result)\n",
    "xwFit[fitKey][2].result"
   ]
  },
  {
   "cell_type": "markdown",
   "metadata": {
    "heading_collapsed": true,
    "hidden": true
   },
   "source": [
    "#### Results of weighted fit with 10 datasets on (6 6 0) peak "
   ]
  },
  {
   "cell_type": "code",
   "execution_count": 80,
   "metadata": {
    "Collapsed": "false",
    "hidden": true,
    "scrolled": true
   },
   "outputs": [
    {
     "data": {
      "text/html": [
       "<h2>Fit Statistics</h2><table><tr><td>fitting method</td><td>leastsq</td><td></td></tr><tr><td># function evals</td><td>560</td><td></td></tr><tr><td># data points</td><td>750</td><td></td></tr><tr><td># variables</td><td>25</td><td></td></tr><tr><td>chi-square</td><td> 6519.39721</td><td></td></tr><tr><td>reduced chi-square</td><td> 8.99227201</td><td></td></tr><tr><td>Akaike info crit.</td><td> 1671.84799</td><td></td></tr><tr><td>Bayesian info crit.</td><td> 1787.34982</td><td></td></tr></table><h2>Variables</h2><table><tr><th> name </th><th> value </th><th> standard error </th><th> relative error </th><th> initial value </th><th> min </th><th> max </th><th> vary </th></tr><tr><td> A92_0 </td><td>  143488.313 </td><td>  17958346.5 </td><td> (12515.55%) </td><td> 200000.0 </td><td>  0.00000000 </td><td>         inf </td><td> True </td></tr><tr><td> alpha </td><td>  205.861768 </td><td>  2.79174436 </td><td> (1.36%) </td><td> 140 </td><td>  0.00000000 </td><td>         inf </td><td> True </td></tr><tr><td> beta </td><td>  1.8086e-05 </td><td>  0.03711973 </td><td> (205234.91%) </td><td> 0.001 </td><td>  0.00000000 </td><td>         inf </td><td> True </td></tr><tr><td> R </td><td>  0.05173893 </td><td>  118.680521 </td><td> (229383.41%) </td><td> 0.001 </td><td>  0.00000000 </td><td>         inf </td><td> True </td></tr><tr><td> gamma </td><td>  7.2119e-04 </td><td>  6.0393e-05 </td><td> (8.37%) </td><td> 0.001 </td><td>  0.00000000 </td><td>         inf </td><td> True </td></tr><tr><td> sigma </td><td>  0.00545403 </td><td>  1.1575e-04 </td><td> (2.12%) </td><td> 0.0066 </td><td>  0.00000000 </td><td>         inf </td><td> True </td></tr><tr><td> k </td><td>  0.05000000 </td><td>  0.00000000 </td><td> (0.00%) </td><td> 0.05 </td><td>  0.00000000 </td><td>         inf </td><td> False </td></tr><tr><td> xp92_0 </td><td> -6.01261934 </td><td>  2.2388e-04 </td><td> (0.00%) </td><td> -6.0 </td><td>        -inf </td><td>         inf </td><td> True </td></tr><tr><td> A93_0 </td><td>  139150.850 </td><td>  17415462.5 </td><td> (12515.53%) </td><td> 200000.0 </td><td>  0.00000000 </td><td>         inf </td><td> True </td></tr><tr><td> xp93_0 </td><td> -6.01265889 </td><td>  2.2560e-04 </td><td> (0.00%) </td><td> -6.0 </td><td>        -inf </td><td>         inf </td><td> True </td></tr><tr><td> A94_0 </td><td>  137448.653 </td><td>  17202399.3 </td><td> (12515.51%) </td><td> 200000.0 </td><td>  0.00000000 </td><td>         inf </td><td> True </td></tr><tr><td> xp94_0 </td><td> -6.01256729 </td><td>  2.2509e-04 </td><td> (0.00%) </td><td> -6.0 </td><td>        -inf </td><td>         inf </td><td> True </td></tr><tr><td> A95_0 </td><td>  135861.726 </td><td>  17004077.7 </td><td> (12515.72%) </td><td> 200000.0 </td><td>  0.00000000 </td><td>         inf </td><td> True </td></tr><tr><td> xp95_0 </td><td> -6.01249725 </td><td>  2.2545e-04 </td><td> (0.00%) </td><td> -6.0 </td><td>        -inf </td><td>         inf </td><td> True </td></tr><tr><td> A96_0 </td><td>  132488.695 </td><td>  16581849.8 </td><td> (12515.67%) </td><td> 200000.0 </td><td>  0.00000000 </td><td>         inf </td><td> True </td></tr><tr><td> xp96_0 </td><td> -6.01236398 </td><td>  2.2605e-04 </td><td> (0.00%) </td><td> -6.0 </td><td>        -inf </td><td>         inf </td><td> True </td></tr><tr><td> A97_0 </td><td>  130924.562 </td><td>  16386059.2 </td><td> (12515.65%) </td><td> 200000.0 </td><td>  0.00000000 </td><td>         inf </td><td> True </td></tr><tr><td> xp97_0 </td><td> -6.01232636 </td><td>  2.2657e-04 </td><td> (0.00%) </td><td> -6.0 </td><td>        -inf </td><td>         inf </td><td> True </td></tr><tr><td> A98_0 </td><td>  126367.322 </td><td>  15815861.6 </td><td> (12515.78%) </td><td> 200000.0 </td><td>  0.00000000 </td><td>         inf </td><td> True </td></tr><tr><td> xp98_0 </td><td> -6.01219822 </td><td>  2.3578e-04 </td><td> (0.00%) </td><td> -6.0 </td><td>        -inf </td><td>         inf </td><td> True </td></tr><tr><td> A99_0 </td><td>  125123.445 </td><td>  15659951.7 </td><td> (12515.60%) </td><td> 200000.0 </td><td>  0.00000000 </td><td>         inf </td><td> True </td></tr><tr><td> xp99_0 </td><td> -6.01218273 </td><td>  2.3022e-04 </td><td> (0.00%) </td><td> -6.0 </td><td>        -inf </td><td>         inf </td><td> True </td></tr><tr><td> A100_0 </td><td>  123958.743 </td><td>  15514065.5 </td><td> (12515.51%) </td><td> 200000.0 </td><td>  0.00000000 </td><td>         inf </td><td> True </td></tr><tr><td> xp100_0 </td><td> -6.01208828 </td><td>  2.2967e-04 </td><td> (0.00%) </td><td> -6.0 </td><td>        -inf </td><td>         inf </td><td> True </td></tr><tr><td> A101_0 </td><td>  123325.729 </td><td>  15434759.3 </td><td> (12515.44%) </td><td> 200000.0 </td><td>  0.00000000 </td><td>         inf </td><td> True </td></tr><tr><td> xp101_0 </td><td> -6.01210771 </td><td>  2.3146e-04 </td><td> (0.00%) </td><td> -6.0 </td><td>        -inf </td><td>         inf </td><td> True </td></tr></table><h2>Correlations (unreported correlations are < 0.100)</h2><table><tr><td>A92_0</td><td>R</td><td>1.0000</td></tr><tr><td>R</td><td>A93_0</td><td>1.0000</td></tr><tr><td>R</td><td>A94_0</td><td>1.0000</td></tr><tr><td>R</td><td>A95_0</td><td>1.0000</td></tr><tr><td>R</td><td>A96_0</td><td>1.0000</td></tr><tr><td>R</td><td>A97_0</td><td>1.0000</td></tr><tr><td>R</td><td>A99_0</td><td>1.0000</td></tr><tr><td>R</td><td>A100_0</td><td>1.0000</td></tr><tr><td>R</td><td>A101_0</td><td>1.0000</td></tr><tr><td>R</td><td>A98_0</td><td>1.0000</td></tr><tr><td>A92_0</td><td>A93_0</td><td>1.0000</td></tr><tr><td>A92_0</td><td>A94_0</td><td>1.0000</td></tr><tr><td>A92_0</td><td>A95_0</td><td>1.0000</td></tr><tr><td>A93_0</td><td>A94_0</td><td>1.0000</td></tr><tr><td>A93_0</td><td>A95_0</td><td>1.0000</td></tr><tr><td>A92_0</td><td>A96_0</td><td>1.0000</td></tr><tr><td>A94_0</td><td>A95_0</td><td>1.0000</td></tr><tr><td>A92_0</td><td>A97_0</td><td>1.0000</td></tr><tr><td>A93_0</td><td>A96_0</td><td>1.0000</td></tr><tr><td>A93_0</td><td>A97_0</td><td>1.0000</td></tr><tr><td>A94_0</td><td>A96_0</td><td>1.0000</td></tr><tr><td>A94_0</td><td>A97_0</td><td>1.0000</td></tr><tr><td>A95_0</td><td>A96_0</td><td>1.0000</td></tr><tr><td>A95_0</td><td>A97_0</td><td>1.0000</td></tr><tr><td>A92_0</td><td>A99_0</td><td>1.0000</td></tr><tr><td>A92_0</td><td>A101_0</td><td>1.0000</td></tr><tr><td>A92_0</td><td>A100_0</td><td>1.0000</td></tr><tr><td>A96_0</td><td>A97_0</td><td>1.0000</td></tr><tr><td>A93_0</td><td>A99_0</td><td>1.0000</td></tr><tr><td>A93_0</td><td>A100_0</td><td>1.0000</td></tr><tr><td>A93_0</td><td>A101_0</td><td>1.0000</td></tr><tr><td>A94_0</td><td>A99_0</td><td>1.0000</td></tr><tr><td>A94_0</td><td>A100_0</td><td>1.0000</td></tr><tr><td>A95_0</td><td>A99_0</td><td>1.0000</td></tr><tr><td>A95_0</td><td>A100_0</td><td>1.0000</td></tr><tr><td>A94_0</td><td>A101_0</td><td>1.0000</td></tr><tr><td>A95_0</td><td>A101_0</td><td>1.0000</td></tr><tr><td>A96_0</td><td>A99_0</td><td>1.0000</td></tr><tr><td>A96_0</td><td>A100_0</td><td>1.0000</td></tr><tr><td>A97_0</td><td>A99_0</td><td>1.0000</td></tr><tr><td>A97_0</td><td>A100_0</td><td>1.0000</td></tr><tr><td>A96_0</td><td>A101_0</td><td>1.0000</td></tr><tr><td>A97_0</td><td>A101_0</td><td>1.0000</td></tr><tr><td>A99_0</td><td>A100_0</td><td>1.0000</td></tr><tr><td>A99_0</td><td>A101_0</td><td>1.0000</td></tr><tr><td>A92_0</td><td>A98_0</td><td>1.0000</td></tr><tr><td>A100_0</td><td>A101_0</td><td>1.0000</td></tr><tr><td>A93_0</td><td>A98_0</td><td>1.0000</td></tr><tr><td>A94_0</td><td>A98_0</td><td>1.0000</td></tr><tr><td>A95_0</td><td>A98_0</td><td>1.0000</td></tr><tr><td>A96_0</td><td>A98_0</td><td>1.0000</td></tr><tr><td>A97_0</td><td>A98_0</td><td>1.0000</td></tr><tr><td>A98_0</td><td>A99_0</td><td>1.0000</td></tr><tr><td>A98_0</td><td>A100_0</td><td>1.0000</td></tr><tr><td>A98_0</td><td>A101_0</td><td>1.0000</td></tr><tr><td>alpha</td><td>xp92_0</td><td>0.7334</td></tr><tr><td>alpha</td><td>xp97_0</td><td>0.7322</td></tr><tr><td>alpha</td><td>xp101_0</td><td>0.7320</td></tr><tr><td>alpha</td><td>xp99_0</td><td>0.7319</td></tr><tr><td>alpha</td><td>xp100_0</td><td>0.7307</td></tr><tr><td>alpha</td><td>xp94_0</td><td>0.7304</td></tr><tr><td>alpha</td><td>xp93_0</td><td>0.7284</td></tr><tr><td>alpha</td><td>xp96_0</td><td>0.7275</td></tr><tr><td>alpha</td><td>xp95_0</td><td>0.7250</td></tr><tr><td>alpha</td><td>xp98_0</td><td>0.7044</td></tr><tr><td>A92_0</td><td>beta</td><td>-0.6223</td></tr><tr><td>beta</td><td>A101_0</td><td>-0.6223</td></tr><tr><td>beta</td><td>A99_0</td><td>-0.6223</td></tr><tr><td>beta</td><td>A98_0</td><td>-0.6223</td></tr><tr><td>beta</td><td>A100_0</td><td>-0.6223</td></tr><tr><td>beta</td><td>R</td><td>-0.6223</td></tr><tr><td>beta</td><td>A93_0</td><td>-0.6223</td></tr><tr><td>beta</td><td>A95_0</td><td>-0.6223</td></tr><tr><td>beta</td><td>A96_0</td><td>-0.6223</td></tr><tr><td>beta</td><td>A94_0</td><td>-0.6223</td></tr><tr><td>beta</td><td>A97_0</td><td>-0.6223</td></tr><tr><td>alpha</td><td>sigma</td><td>0.5914</td></tr><tr><td>xp99_0</td><td>xp101_0</td><td>0.5525</td></tr><tr><td>xp93_0</td><td>xp101_0</td><td>0.5505</td></tr><tr><td>xp92_0</td><td>xp99_0</td><td>0.5495</td></tr><tr><td>xp92_0</td><td>xp101_0</td><td>0.5478</td></tr><tr><td>xp93_0</td><td>xp99_0</td><td>0.5463</td></tr><tr><td>xp96_0</td><td>xp97_0</td><td>0.5461</td></tr><tr><td>xp92_0</td><td>xp100_0</td><td>0.5456</td></tr><tr><td>xp99_0</td><td>xp100_0</td><td>0.5447</td></tr><tr><td>xp95_0</td><td>xp97_0</td><td>0.5445</td></tr><tr><td>xp95_0</td><td>xp96_0</td><td>0.5440</td></tr><tr><td>xp94_0</td><td>xp99_0</td><td>0.5439</td></tr><tr><td>xp92_0</td><td>xp94_0</td><td>0.5438</td></tr><tr><td>xp94_0</td><td>xp101_0</td><td>0.5436</td></tr><tr><td>xp97_0</td><td>xp100_0</td><td>0.5434</td></tr><tr><td>xp100_0</td><td>xp101_0</td><td>0.5433</td></tr><tr><td>xp97_0</td><td>xp101_0</td><td>0.5429</td></tr><tr><td>xp94_0</td><td>xp100_0</td><td>0.5425</td></tr><tr><td>xp94_0</td><td>xp97_0</td><td>0.5424</td></tr><tr><td>xp97_0</td><td>xp99_0</td><td>0.5418</td></tr><tr><td>xp92_0</td><td>xp93_0</td><td>0.5411</td></tr><tr><td>xp92_0</td><td>xp97_0</td><td>0.5408</td></tr><tr><td>xp93_0</td><td>xp97_0</td><td>0.5405</td></tr><tr><td>xp96_0</td><td>xp100_0</td><td>0.5399</td></tr><tr><td>xp93_0</td><td>xp94_0</td><td>0.5389</td></tr><tr><td>xp94_0</td><td>xp96_0</td><td>0.5384</td></tr><tr><td>xp95_0</td><td>xp100_0</td><td>0.5381</td></tr><tr><td>xp93_0</td><td>xp100_0</td><td>0.5378</td></tr><tr><td>xp94_0</td><td>xp95_0</td><td>0.5361</td></tr><tr><td>xp96_0</td><td>xp101_0</td><td>0.5361</td></tr><tr><td>xp92_0</td><td>xp96_0</td><td>0.5357</td></tr><tr><td>xp96_0</td><td>xp99_0</td><td>0.5356</td></tr><tr><td>xp93_0</td><td>xp96_0</td><td>0.5342</td></tr><tr><td>xp92_0</td><td>xp95_0</td><td>0.5327</td></tr><tr><td>xp95_0</td><td>xp99_0</td><td>0.5311</td></tr><tr><td>xp95_0</td><td>xp101_0</td><td>0.5305</td></tr><tr><td>xp97_0</td><td>xp98_0</td><td>0.5305</td></tr><tr><td>xp96_0</td><td>xp98_0</td><td>0.5295</td></tr><tr><td>xp95_0</td><td>xp98_0</td><td>0.5294</td></tr><tr><td>xp93_0</td><td>xp95_0</td><td>0.5288</td></tr><tr><td>xp98_0</td><td>xp100_0</td><td>0.5233</td></tr><tr><td>xp94_0</td><td>xp98_0</td><td>0.5217</td></tr><tr><td>xp98_0</td><td>xp101_0</td><td>0.5182</td></tr><tr><td>xp92_0</td><td>xp98_0</td><td>0.5179</td></tr><tr><td>xp98_0</td><td>xp99_0</td><td>0.5177</td></tr><tr><td>xp93_0</td><td>xp98_0</td><td>0.5167</td></tr><tr><td>sigma</td><td>xp99_0</td><td>0.5060</td></tr><tr><td>sigma</td><td>xp92_0</td><td>0.5026</td></tr><tr><td>sigma</td><td>xp101_0</td><td>0.5005</td></tr><tr><td>sigma</td><td>xp100_0</td><td>0.4966</td></tr><tr><td>sigma</td><td>xp94_0</td><td>0.4904</td></tr><tr><td>gamma</td><td>sigma</td><td>-0.4881</td></tr><tr><td>sigma</td><td>xp93_0</td><td>0.4835</td></tr><tr><td>sigma</td><td>xp97_0</td><td>0.4809</td></tr><tr><td>sigma</td><td>xp96_0</td><td>0.4734</td></tr><tr><td>sigma</td><td>xp95_0</td><td>0.4678</td></tr><tr><td>sigma</td><td>xp98_0</td><td>0.4570</td></tr><tr><td>alpha</td><td>gamma</td><td>0.2050</td></tr><tr><td>gamma</td><td>xp98_0</td><td>0.1481</td></tr><tr><td>gamma</td><td>xp95_0</td><td>0.1462</td></tr><tr><td>gamma</td><td>xp96_0</td><td>0.1459</td></tr><tr><td>gamma</td><td>xp97_0</td><td>0.1447</td></tr><tr><td>A101_0</td><td>xp101_0</td><td>0.1349</td></tr><tr><td>R</td><td>xp101_0</td><td>0.1349</td></tr><tr><td>A94_0</td><td>xp101_0</td><td>0.1349</td></tr><tr><td>A98_0</td><td>xp101_0</td><td>0.1349</td></tr><tr><td>A100_0</td><td>xp101_0</td><td>0.1349</td></tr><tr><td>A96_0</td><td>xp101_0</td><td>0.1349</td></tr><tr><td>A99_0</td><td>xp101_0</td><td>0.1349</td></tr><tr><td>A92_0</td><td>xp101_0</td><td>0.1349</td></tr><tr><td>A93_0</td><td>xp101_0</td><td>0.1349</td></tr><tr><td>A97_0</td><td>xp101_0</td><td>0.1349</td></tr><tr><td>A95_0</td><td>xp101_0</td><td>0.1349</td></tr><tr><td>R</td><td>sigma</td><td>0.1347</td></tr><tr><td>A92_0</td><td>sigma</td><td>0.1347</td></tr><tr><td>sigma</td><td>A94_0</td><td>0.1347</td></tr><tr><td>sigma</td><td>A95_0</td><td>0.1347</td></tr><tr><td>sigma</td><td>A96_0</td><td>0.1347</td></tr><tr><td>sigma</td><td>A97_0</td><td>0.1347</td></tr><tr><td>sigma</td><td>A93_0</td><td>0.1347</td></tr><tr><td>sigma</td><td>A100_0</td><td>0.1347</td></tr><tr><td>sigma</td><td>A98_0</td><td>0.1347</td></tr><tr><td>sigma</td><td>A99_0</td><td>0.1347</td></tr><tr><td>sigma</td><td>A101_0</td><td>0.1347</td></tr><tr><td>gamma</td><td>xp93_0</td><td>0.1310</td></tr><tr><td>gamma</td><td>xp101_0</td><td>0.1277</td></tr><tr><td>gamma</td><td>xp100_0</td><td>0.1270</td></tr><tr><td>gamma</td><td>xp94_0</td><td>0.1254</td></tr><tr><td>A93_0</td><td>xp93_0</td><td>0.1227</td></tr><tr><td>R</td><td>xp93_0</td><td>0.1227</td></tr><tr><td>A92_0</td><td>xp93_0</td><td>0.1227</td></tr><tr><td>xp93_0</td><td>A95_0</td><td>0.1227</td></tr><tr><td>xp93_0</td><td>A100_0</td><td>0.1227</td></tr><tr><td>xp93_0</td><td>A99_0</td><td>0.1227</td></tr><tr><td>xp93_0</td><td>A94_0</td><td>0.1227</td></tr><tr><td>xp93_0</td><td>A101_0</td><td>0.1227</td></tr><tr><td>xp93_0</td><td>A98_0</td><td>0.1227</td></tr><tr><td>xp93_0</td><td>A96_0</td><td>0.1227</td></tr><tr><td>xp93_0</td><td>A97_0</td><td>0.1227</td></tr><tr><td>gamma</td><td>xp99_0</td><td>0.1191</td></tr><tr><td>A99_0</td><td>xp99_0</td><td>0.1131</td></tr><tr><td>R</td><td>xp99_0</td><td>0.1131</td></tr><tr><td>A95_0</td><td>xp99_0</td><td>0.1131</td></tr><tr><td>A93_0</td><td>xp99_0</td><td>0.1131</td></tr><tr><td>A94_0</td><td>xp99_0</td><td>0.1131</td></tr><tr><td>A96_0</td><td>xp99_0</td><td>0.1131</td></tr><tr><td>A97_0</td><td>xp99_0</td><td>0.1131</td></tr><tr><td>A98_0</td><td>xp99_0</td><td>0.1131</td></tr><tr><td>A92_0</td><td>xp99_0</td><td>0.1131</td></tr><tr><td>xp99_0</td><td>A100_0</td><td>0.1131</td></tr><tr><td>xp99_0</td><td>A101_0</td><td>0.1131</td></tr><tr><td>gamma</td><td>xp92_0</td><td>0.1117</td></tr><tr><td>beta</td><td>xp93_0</td><td>-0.1006</td></tr><tr><td>beta</td><td>gamma</td><td>-0.1003</td></tr></table>"
      ],
      "text/plain": [
       "<lmfit.minimizer.MinimizerResult at 0x1f23baaa188>"
      ]
     },
     "execution_count": 80,
     "metadata": {},
     "output_type": "execute_result"
    }
   ],
   "source": [
    "fitKey = '6_1_92-101'\n",
    "xwFit[fitKey][0].result"
   ]
  },
  {
   "cell_type": "code",
   "execution_count": 81,
   "metadata": {
    "Collapsed": "false",
    "hidden": true,
    "scrolled": true
   },
   "outputs": [
    {
     "data": {
      "text/html": [
       "<h2>Fit Statistics</h2><table><tr><td>fitting method</td><td>leastsq</td><td></td></tr><tr><td># function evals</td><td>124</td><td></td></tr><tr><td># data points</td><td>750</td><td></td></tr><tr><td># variables</td><td>23</td><td></td></tr><tr><td>chi-square</td><td> 6518.70631</td><td></td></tr><tr><td>reduced chi-square</td><td> 8.96658365</td><td></td></tr><tr><td>Akaike info crit.</td><td> 1667.76851</td><td></td></tr><tr><td>Bayesian info crit.</td><td> 1774.03019</td><td></td></tr></table><h2>Variables</h2><table><tr><th> name </th><th> value </th><th> standard error </th><th> relative error </th><th> initial value </th><th> min </th><th> max </th><th> vary </th></tr><tr><td> A92_0 </td><td>  136055.796 </td><td>  2005.97745 </td><td> (1.47%) </td><td> 143488.31257285 </td><td>  0.00000000 </td><td>         inf </td><td> True </td></tr><tr><td> alpha </td><td>  206.658845 </td><td>  2.81681431 </td><td> (1.36%) </td><td> 205.8617683446907 </td><td>  0.00000000 </td><td>         inf </td><td> True </td></tr><tr><td> beta </td><td>  1.0000e-10 </td><td>  0.00000000 </td><td> (0.00%) </td><td> 1e-10 </td><td>  0.00000000 </td><td>         inf </td><td> False </td></tr><tr><td> R </td><td>  1.0000e-10 </td><td>  0.00000000 </td><td> (0.00%) </td><td> 1e-10 </td><td>  0.00000000 </td><td>         inf </td><td> False </td></tr><tr><td> gamma </td><td>  7.2414e-04 </td><td>  5.8876e-05 </td><td> (8.13%) </td><td> 0.0007211854262698658 </td><td>  0.00000000 </td><td>         inf </td><td> True </td></tr><tr><td> sigma </td><td>  0.00547644 </td><td>  1.1201e-04 </td><td> (2.05%) </td><td> 0.005454033740052822 </td><td>  0.00000000 </td><td>         inf </td><td> True </td></tr><tr><td> k </td><td>  0.05000000 </td><td>  0.00000000 </td><td> (0.00%) </td><td> 0.05 </td><td>  0.00000000 </td><td>         inf </td><td> False </td></tr><tr><td> xp92_0 </td><td> -6.01257057 </td><td>  2.2278e-04 </td><td> (0.00%) </td><td> -6.012619344195985 </td><td>        -inf </td><td>         inf </td><td> True </td></tr><tr><td> A93_0 </td><td>  131942.731 </td><td>  1978.38318 </td><td> (1.50%) </td><td> 139150.85027591657 </td><td>  0.00000000 </td><td>         inf </td><td> True </td></tr><tr><td> xp93_0 </td><td> -6.01260983 </td><td>  2.2421e-04 </td><td> (0.00%) </td><td> -6.012658888047828 </td><td>        -inf </td><td>         inf </td><td> True </td></tr><tr><td> A94_0 </td><td>  130328.949 </td><td>  1965.93460 </td><td> (1.51%) </td><td> 137448.6530215029 </td><td>  0.00000000 </td><td>         inf </td><td> True </td></tr><tr><td> xp94_0 </td><td> -6.01251791 </td><td>  2.2513e-04 </td><td> (0.00%) </td><td> -6.0125672907402 </td><td>        -inf </td><td>         inf </td><td> True </td></tr><tr><td> A95_0 </td><td>  128826.120 </td><td>  1949.46810 </td><td> (1.51%) </td><td> 135861.72588430473 </td><td>  0.00000000 </td><td>         inf </td><td> True </td></tr><tr><td> xp95_0 </td><td> -6.01244748 </td><td>  2.2542e-04 </td><td> (0.00%) </td><td> -6.0124972457018275 </td><td>        -inf </td><td>         inf </td><td> True </td></tr><tr><td> A96_0 </td><td>  125623.629 </td><td>  1924.01266 </td><td> (1.53%) </td><td> 132488.6950945243 </td><td>  0.00000000 </td><td>         inf </td><td> True </td></tr><tr><td> xp96_0 </td><td> -6.01231428 </td><td>  2.2632e-04 </td><td> (0.00%) </td><td> -6.012363981351965 </td><td>        -inf </td><td>         inf </td><td> True </td></tr><tr><td> A97_0 </td><td>  124138.251 </td><td>  1907.78351 </td><td> (1.54%) </td><td> 130924.56167991839 </td><td>  0.00000000 </td><td>         inf </td><td> True </td></tr><tr><td> xp97_0 </td><td> -6.01227621 </td><td>  2.2695e-04 </td><td> (0.00%) </td><td> -6.0123263577019355 </td><td>        -inf </td><td>         inf </td><td> True </td></tr><tr><td> A98_0 </td><td>  119814.161 </td><td>  2002.55098 </td><td> (1.67%) </td><td> 126367.32162571108 </td><td>  0.00000000 </td><td>         inf </td><td> True </td></tr><tr><td> xp98_0 </td><td> -6.01214821 </td><td>  2.3581e-04 </td><td> (0.00%) </td><td> -6.012198223753705 </td><td>        -inf </td><td>         inf </td><td> True </td></tr><tr><td> A99_0 </td><td>  118635.492 </td><td>  1866.06573 </td><td> (1.57%) </td><td> 125123.44513295908 </td><td>  0.00000000 </td><td>         inf </td><td> True </td></tr><tr><td> xp99_0 </td><td> -6.01213262 </td><td>  2.2890e-04 </td><td> (0.00%) </td><td> -6.012182728688598 </td><td>        -inf </td><td>         inf </td><td> True </td></tr><tr><td> A100_0 </td><td>  117534.897 </td><td>  1852.72495 </td><td> (1.58%) </td><td> 123958.74331723877 </td><td>  0.00000000 </td><td>         inf </td><td> True </td></tr><tr><td> xp100_0 </td><td> -6.01203779 </td><td>  2.2962e-04 </td><td> (0.00%) </td><td> -6.012088279141 </td><td>        -inf </td><td>         inf </td><td> True </td></tr><tr><td> A101_0 </td><td>  116930.575 </td><td>  1847.55851 </td><td> (1.58%) </td><td> 123325.72891486179 </td><td>  0.00000000 </td><td>         inf </td><td> True </td></tr><tr><td> xp101_0 </td><td> -6.01205734 </td><td>  2.2975e-04 </td><td> (0.00%) </td><td> -6.0121077093572195 </td><td>        -inf </td><td>         inf </td><td> True </td></tr></table><h2>Correlations (unreported correlations are < 0.100)</h2><table><tr><td>alpha</td><td>xp97_0</td><td>0.7362</td></tr><tr><td>alpha</td><td>xp92_0</td><td>0.7349</td></tr><tr><td>alpha</td><td>xp101_0</td><td>0.7345</td></tr><tr><td>alpha</td><td>xp96_0</td><td>0.7335</td></tr><tr><td>alpha</td><td>xp95_0</td><td>0.7335</td></tr><tr><td>alpha</td><td>xp99_0</td><td>0.7332</td></tr><tr><td>alpha</td><td>xp100_0</td><td>0.7322</td></tr><tr><td>alpha</td><td>xp93_0</td><td>0.7319</td></tr><tr><td>alpha</td><td>xp94_0</td><td>0.7315</td></tr><tr><td>alpha</td><td>xp98_0</td><td>0.7122</td></tr><tr><td>alpha</td><td>sigma</td><td>0.5991</td></tr><tr><td>xp97_0</td><td>xp101_0</td><td>0.5506</td></tr><tr><td>xp97_0</td><td>xp99_0</td><td>0.5494</td></tr><tr><td>xp96_0</td><td>xp97_0</td><td>0.5489</td></tr><tr><td>xp92_0</td><td>xp97_0</td><td>0.5489</td></tr><tr><td>xp99_0</td><td>xp101_0</td><td>0.5488</td></tr><tr><td>xp97_0</td><td>xp100_0</td><td>0.5484</td></tr><tr><td>xp95_0</td><td>xp97_0</td><td>0.5484</td></tr><tr><td>xp96_0</td><td>xp101_0</td><td>0.5483</td></tr><tr><td>xp92_0</td><td>xp101_0</td><td>0.5481</td></tr><tr><td>xp100_0</td><td>xp101_0</td><td>0.5478</td></tr><tr><td>xp95_0</td><td>xp101_0</td><td>0.5476</td></tr><tr><td>xp96_0</td><td>xp99_0</td><td>0.5471</td></tr><tr><td>xp92_0</td><td>xp99_0</td><td>0.5470</td></tr><tr><td>xp93_0</td><td>xp97_0</td><td>0.5469</td></tr><tr><td>xp94_0</td><td>xp97_0</td><td>0.5468</td></tr><tr><td>xp92_0</td><td>xp96_0</td><td>0.5466</td></tr><tr><td>xp99_0</td><td>xp100_0</td><td>0.5466</td></tr><tr><td>xp95_0</td><td>xp99_0</td><td>0.5465</td></tr><tr><td>xp93_0</td><td>xp101_0</td><td>0.5462</td></tr><tr><td>xp92_0</td><td>xp95_0</td><td>0.5462</td></tr><tr><td>xp96_0</td><td>xp100_0</td><td>0.5461</td></tr><tr><td>xp95_0</td><td>xp96_0</td><td>0.5461</td></tr><tr><td>xp94_0</td><td>xp101_0</td><td>0.5460</td></tr><tr><td>xp92_0</td><td>xp100_0</td><td>0.5460</td></tr><tr><td>xp95_0</td><td>xp100_0</td><td>0.5455</td></tr><tr><td>xp93_0</td><td>xp99_0</td><td>0.5451</td></tr><tr><td>xp94_0</td><td>xp99_0</td><td>0.5449</td></tr><tr><td>xp92_0</td><td>xp93_0</td><td>0.5448</td></tr><tr><td>xp93_0</td><td>xp96_0</td><td>0.5447</td></tr><tr><td>xp92_0</td><td>xp94_0</td><td>0.5446</td></tr><tr><td>xp94_0</td><td>xp96_0</td><td>0.5445</td></tr><tr><td>xp93_0</td><td>xp95_0</td><td>0.5442</td></tr><tr><td>xp93_0</td><td>xp100_0</td><td>0.5441</td></tr><tr><td>xp94_0</td><td>xp95_0</td><td>0.5440</td></tr><tr><td>xp94_0</td><td>xp100_0</td><td>0.5439</td></tr><tr><td>xp93_0</td><td>xp94_0</td><td>0.5426</td></tr><tr><td>xp97_0</td><td>xp98_0</td><td>0.5337</td></tr><tr><td>xp98_0</td><td>xp101_0</td><td>0.5331</td></tr><tr><td>xp98_0</td><td>xp99_0</td><td>0.5319</td></tr><tr><td>xp96_0</td><td>xp98_0</td><td>0.5314</td></tr><tr><td>xp92_0</td><td>xp98_0</td><td>0.5313</td></tr><tr><td>xp98_0</td><td>xp100_0</td><td>0.5309</td></tr><tr><td>xp95_0</td><td>xp98_0</td><td>0.5308</td></tr><tr><td>xp93_0</td><td>xp98_0</td><td>0.5294</td></tr><tr><td>xp94_0</td><td>xp98_0</td><td>0.5293</td></tr><tr><td>sigma</td><td>xp101_0</td><td>0.5030</td></tr><tr><td>sigma</td><td>xp97_0</td><td>0.5020</td></tr><tr><td>sigma</td><td>xp99_0</td><td>0.5019</td></tr><tr><td>sigma</td><td>xp100_0</td><td>0.4992</td></tr><tr><td>sigma</td><td>xp96_0</td><td>0.4991</td></tr><tr><td>sigma</td><td>xp95_0</td><td>0.4966</td></tr><tr><td>sigma</td><td>xp94_0</td><td>0.4948</td></tr><tr><td>sigma</td><td>xp92_0</td><td>0.4947</td></tr><tr><td>sigma</td><td>xp93_0</td><td>0.4942</td></tr><tr><td>sigma</td><td>xp98_0</td><td>0.4868</td></tr><tr><td>gamma</td><td>sigma</td><td>-0.4581</td></tr><tr><td>alpha</td><td>gamma</td><td>0.2219</td></tr><tr><td>gamma</td><td>xp101_0</td><td>0.1471</td></tr><tr><td>gamma</td><td>xp100_0</td><td>0.1457</td></tr><tr><td>gamma</td><td>xp99_0</td><td>0.1449</td></tr><tr><td>gamma</td><td>xp97_0</td><td>0.1448</td></tr><tr><td>gamma</td><td>xp96_0</td><td>0.1428</td></tr><tr><td>gamma</td><td>xp95_0</td><td>0.1419</td></tr><tr><td>gamma</td><td>xp92_0</td><td>0.1417</td></tr><tr><td>gamma</td><td>xp98_0</td><td>0.1417</td></tr><tr><td>gamma</td><td>xp93_0</td><td>0.1416</td></tr><tr><td>gamma</td><td>xp94_0</td><td>0.1413</td></tr></table>"
      ],
      "text/plain": [
       "<lmfit.minimizer.MinimizerResult at 0x1f23bab2e48>"
      ]
     },
     "execution_count": 81,
     "metadata": {},
     "output_type": "execute_result"
    }
   ],
   "source": [
    "xwFit[fitKey][1].result"
   ]
  },
  {
   "cell_type": "code",
   "execution_count": 82,
   "metadata": {
    "Collapsed": "false",
    "hidden": true,
    "scrolled": true
   },
   "outputs": [
    {
     "data": {
      "text/html": [
       "<h2>Fit Statistics</h2><table><tr><td>fitting method</td><td>leastsq</td><td></td></tr><tr><td># function evals</td><td>22</td><td></td></tr><tr><td># data points</td><td>750</td><td></td></tr><tr><td># variables</td><td>20</td><td></td></tr><tr><td>chi-square</td><td> 6518.70617</td><td></td></tr><tr><td>reduced chi-square</td><td> 8.92973448</td><td></td></tr><tr><td>Akaike info crit.</td><td> 1661.76849</td><td></td></tr><tr><td>Bayesian info crit.</td><td> 1754.16996</td><td></td></tr></table><h2>Variables</h2><table><tr><th> name </th><th> value </th><th> standard error </th><th> relative error </th><th> initial value </th><th> min </th><th> max </th><th> vary </th></tr><tr><td> A92_0 </td><td>  136055.629 </td><td>  1991.76399 </td><td> (1.46%) </td><td> 136055.79591570084 </td><td>  0.00000000 </td><td>         inf </td><td> True </td></tr><tr><td> alpha </td><td>  206.658845 </td><td>  0.00000000 </td><td> (0.00%) </td><td> 206.65884487369206 </td><td>  0.00000000 </td><td>         inf </td><td> False </td></tr><tr><td> beta </td><td>  1.0000e-10 </td><td>  0.00000000 </td><td> (0.00%) </td><td> 1e-10 </td><td>  0.00000000 </td><td>         inf </td><td> False </td></tr><tr><td> R </td><td>  1.0000e-10 </td><td>  0.00000000 </td><td> (0.00%) </td><td> 1e-10 </td><td>  0.00000000 </td><td>         inf </td><td> False </td></tr><tr><td> gamma </td><td>  7.2414e-04 </td><td>  0.00000000 </td><td> (0.00%) </td><td> 0.0007241448526047467 </td><td>  0.00000000 </td><td>         inf </td><td> False </td></tr><tr><td> sigma </td><td>  0.00547644 </td><td>  0.00000000 </td><td> (0.00%) </td><td> 0.0054764417177017854 </td><td>  0.00000000 </td><td>         inf </td><td> False </td></tr><tr><td> k </td><td>  0.05000000 </td><td>  0.00000000 </td><td> (0.00%) </td><td> 0.05 </td><td>  0.00000000 </td><td>         inf </td><td> False </td></tr><tr><td> xp92_0 </td><td> -6.01257041 </td><td>  1.4967e-04 </td><td> (0.00%) </td><td> -6.0125705664347695 </td><td>        -inf </td><td>         inf </td><td> True </td></tr><tr><td> A93_0 </td><td>  131942.592 </td><td>  1964.75428 </td><td> (1.49%) </td><td> 131942.7314679397 </td><td>  0.00000000 </td><td>         inf </td><td> True </td></tr><tr><td> xp93_0 </td><td> -6.01260966 </td><td>  1.5130e-04 </td><td> (0.00%) </td><td> -6.0126098323738875 </td><td>        -inf </td><td>         inf </td><td> True </td></tr><tr><td> A94_0 </td><td>  130328.888 </td><td>  1952.61166 </td><td> (1.50%) </td><td> 130328.94880359672 </td><td>  0.00000000 </td><td>         inf </td><td> True </td></tr><tr><td> xp94_0 </td><td> -6.01251773 </td><td>  1.5198e-04 </td><td> (0.00%) </td><td> -6.012517906002093 </td><td>        -inf </td><td>         inf </td><td> True </td></tr><tr><td> A95_0 </td><td>  128826.143 </td><td>  1936.78845 </td><td> (1.50%) </td><td> 128826.11989986646 </td><td>  0.00000000 </td><td>         inf </td><td> True </td></tr><tr><td> xp95_0 </td><td> -6.01244729 </td><td>  1.5165e-04 </td><td> (0.00%) </td><td> -6.01244747739103 </td><td>        -inf </td><td>         inf </td><td> True </td></tr><tr><td> A96_0 </td><td>  125623.525 </td><td>  1911.79933 </td><td> (1.52%) </td><td> 125623.62937049179 </td><td>  0.00000000 </td><td>         inf </td><td> True </td></tr><tr><td> xp96_0 </td><td> -6.01231409 </td><td>  1.5207e-04 </td><td> (0.00%) </td><td> -6.012314276418036 </td><td>        -inf </td><td>         inf </td><td> True </td></tr><tr><td> A97_0 </td><td>  124138.196 </td><td>  1895.88680 </td><td> (1.53%) </td><td> 124138.25069338514 </td><td>  0.00000000 </td><td>         inf </td><td> True </td></tr><tr><td> xp97_0 </td><td> -6.01227601 </td><td>  1.5172e-04 </td><td> (0.00%) </td><td> -6.012276209234149 </td><td>        -inf </td><td>         inf </td><td> True </td></tr><tr><td> A98_0 </td><td>  119813.956 </td><td>  1991.48088 </td><td> (1.66%) </td><td> 119814.16088316808 </td><td>  0.00000000 </td><td>         inf </td><td> True </td></tr><tr><td> xp98_0 </td><td> -6.01214801 </td><td>  1.6361e-04 </td><td> (0.00%) </td><td> -6.0121482117584835 </td><td>        -inf </td><td>         inf </td><td> True </td></tr><tr><td> A99_0 </td><td>  118635.339 </td><td>  1854.74552 </td><td> (1.56%) </td><td> 118635.49192753888 </td><td>  0.00000000 </td><td>         inf </td><td> True </td></tr><tr><td> xp99_0 </td><td> -6.01213241 </td><td>  1.5363e-04 </td><td> (0.00%) </td><td> -6.01213261979772 </td><td>        -inf </td><td>         inf </td><td> True </td></tr><tr><td> A100_0 </td><td>  117534.878 </td><td>  1841.92686 </td><td> (1.57%) </td><td> 117534.89696593971 </td><td>  0.00000000 </td><td>         inf </td><td> True </td></tr><tr><td> xp100_0 </td><td> -6.01203758 </td><td>  1.5447e-04 </td><td> (0.00%) </td><td> -6.01203779085836 </td><td>        -inf </td><td>         inf </td><td> True </td></tr><tr><td> A101_0 </td><td>  116930.541 </td><td>  1836.66067 </td><td> (1.57%) </td><td> 116930.57493379641 </td><td>  0.00000000 </td><td>         inf </td><td> True </td></tr><tr><td> xp101_0 </td><td> -6.01205712 </td><td>  1.5380e-04 </td><td> (0.00%) </td><td> -6.012057335439533 </td><td>        -inf </td><td>         inf </td><td> True </td></tr></table><h2>Correlations (unreported correlations are < 0.100)</h2><table><tr><td>A93_0</td><td>xp93_0</td><td>0.1065</td></tr><tr><td>A95_0</td><td>xp95_0</td><td>0.1057</td></tr><tr><td>A99_0</td><td>xp99_0</td><td>0.1052</td></tr><tr><td>A96_0</td><td>xp96_0</td><td>0.1043</td></tr><tr><td>A97_0</td><td>xp97_0</td><td>0.1040</td></tr><tr><td>A98_0</td><td>xp98_0</td><td>0.1039</td></tr><tr><td>A92_0</td><td>xp92_0</td><td>0.1019</td></tr><tr><td>A94_0</td><td>xp94_0</td><td>0.1019</td></tr><tr><td>A101_0</td><td>xp101_0</td><td>0.1018</td></tr><tr><td>A100_0</td><td>xp100_0</td><td>0.1007</td></tr></table>"
      ],
      "text/plain": [
       "<lmfit.minimizer.MinimizerResult at 0x1f23bab5f08>"
      ]
     },
     "execution_count": 82,
     "metadata": {},
     "output_type": "execute_result"
    }
   ],
   "source": [
    "xwFit[fitKey][2].result"
   ]
  },
  {
   "cell_type": "markdown",
   "metadata": {
    "heading_collapsed": true,
    "hidden": true
   },
   "source": [
    "#### Results of weighted fit with 10 datasets on (10 10 0) peak"
   ]
  },
  {
   "cell_type": "code",
   "execution_count": 31,
   "metadata": {
    "Collapsed": "false",
    "hidden": true,
    "scrolled": true
   },
   "outputs": [
    {
     "data": {
      "text/html": [
       "<h2>Fit Statistics</h2><table><tr><td>fitting method</td><td>leastsq</td><td></td></tr><tr><td># function evals</td><td>427</td><td></td></tr><tr><td># data points</td><td>1200</td><td></td></tr><tr><td># variables</td><td>25</td><td></td></tr><tr><td>chi-square</td><td> 2290.01859</td><td></td></tr><tr><td>reduced chi-square</td><td> 1.94895199</td><td></td></tr><tr><td>Akaike info crit.</td><td> 825.486054</td><td></td></tr><tr><td>Bayesian info crit.</td><td> 952.737975</td><td></td></tr></table><h2>Variables</h2><table><tr><th> name </th><th> value </th><th> standard error </th><th> relative error </th><th> initial value </th><th> min </th><th> max </th><th> vary </th></tr><tr><td> A92_0 </td><td>  234011.974 </td><td>  3287.94636 </td><td> (1.41%) </td><td> 200000.0 </td><td>  0.00000000 </td><td>         inf </td><td> True </td></tr><tr><td> alpha </td><td>  95.4374390 </td><td>  0.61906034 </td><td> (0.65%) </td><td> 140 </td><td>  0.00000000 </td><td>         inf </td><td> True </td></tr><tr><td> beta </td><td>  1330.01209 </td><td>  989923.585 </td><td> (74429.67%) </td><td> 0.001 </td><td>  0.00000000 </td><td>         inf </td><td> True </td></tr><tr><td> R </td><td>  6.8363e-04 </td><td>  0.97074280 </td><td> (141997.37%) </td><td> 0.001 </td><td>  0.00000000 </td><td>         inf </td><td> True </td></tr><tr><td> gamma </td><td>  4.0579e-04 </td><td>  3.3310e-05 </td><td> (8.21%) </td><td> 0.001 </td><td>  0.00000000 </td><td>         inf </td><td> True </td></tr><tr><td> sigma </td><td>  0.00405638 </td><td>  2.3674e-04 </td><td> (5.84%) </td><td> 0.0066 </td><td>  0.00000000 </td><td>         inf </td><td> True </td></tr><tr><td> k </td><td>  0.05000000 </td><td>  0.00000000 </td><td> (0.00%) </td><td> 0.05 </td><td>  0.00000000 </td><td>         inf </td><td> False </td></tr><tr><td> xp92_0 </td><td> -10.0235600 </td><td>  6.2411e-04 </td><td> (0.01%) </td><td> -10.0 </td><td>        -inf </td><td>         inf </td><td> True </td></tr><tr><td> A93_0 </td><td>  230335.938 </td><td>  3272.55345 </td><td> (1.42%) </td><td> 200000.0 </td><td>  0.00000000 </td><td>         inf </td><td> True </td></tr><tr><td> xp93_0 </td><td> -10.0238600 </td><td>  6.1693e-04 </td><td> (0.01%) </td><td> -10.0 </td><td>        -inf </td><td>         inf </td><td> True </td></tr><tr><td> A94_0 </td><td>  230898.755 </td><td>  3272.00053 </td><td> (1.42%) </td><td> 200000.0 </td><td>  0.00000000 </td><td>         inf </td><td> True </td></tr><tr><td> xp94_0 </td><td> -10.0235305 </td><td>  6.4378e-04 </td><td> (0.01%) </td><td> -10.0 </td><td>        -inf </td><td>         inf </td><td> True </td></tr><tr><td> A95_0 </td><td>  230915.512 </td><td>  3275.81809 </td><td> (1.42%) </td><td> 200000.0 </td><td>  0.00000000 </td><td>         inf </td><td> True </td></tr><tr><td> xp95_0 </td><td> -10.0239042 </td><td>  6.1344e-04 </td><td> (0.01%) </td><td> -10.0 </td><td>        -inf </td><td>         inf </td><td> True </td></tr><tr><td> A96_0 </td><td>  231520.418 </td><td>  3232.35949 </td><td> (1.40%) </td><td> 200000.0 </td><td>  0.00000000 </td><td>         inf </td><td> True </td></tr><tr><td> xp96_0 </td><td> -10.0236666 </td><td>  6.3629e-04 </td><td> (0.01%) </td><td> -10.0 </td><td>        -inf </td><td>         inf </td><td> True </td></tr><tr><td> A97_0 </td><td>  225992.730 </td><td>  3223.75822 </td><td> (1.43%) </td><td> 200000.0 </td><td>  0.00000000 </td><td>         inf </td><td> True </td></tr><tr><td> xp97_0 </td><td> -10.0236514 </td><td>  6.2541e-04 </td><td> (0.01%) </td><td> -10.0 </td><td>        -inf </td><td>         inf </td><td> True </td></tr><tr><td> A98_0 </td><td>  228048.184 </td><td>  3451.01309 </td><td> (1.51%) </td><td> 200000.0 </td><td>  0.00000000 </td><td>         inf </td><td> True </td></tr><tr><td> xp98_0 </td><td> -10.0236055 </td><td>  6.4388e-04 </td><td> (0.01%) </td><td> -10.0 </td><td>        -inf </td><td>         inf </td><td> True </td></tr><tr><td> A99_0 </td><td>  227460.513 </td><td>  3246.90507 </td><td> (1.43%) </td><td> 200000.0 </td><td>  0.00000000 </td><td>         inf </td><td> True </td></tr><tr><td> xp99_0 </td><td> -10.0237451 </td><td>  5.9158e-04 </td><td> (0.01%) </td><td> -10.0 </td><td>        -inf </td><td>         inf </td><td> True </td></tr><tr><td> A100_0 </td><td>  227037.741 </td><td>  3200.28314 </td><td> (1.41%) </td><td> 200000.0 </td><td>  0.00000000 </td><td>         inf </td><td> True </td></tr><tr><td> xp100_0 </td><td> -10.0235382 </td><td>  6.4832e-04 </td><td> (0.01%) </td><td> -10.0 </td><td>        -inf </td><td>         inf </td><td> True </td></tr><tr><td> A101_0 </td><td>  225057.609 </td><td>  3242.91312 </td><td> (1.44%) </td><td> 200000.0 </td><td>  0.00000000 </td><td>         inf </td><td> True </td></tr><tr><td> xp101_0 </td><td> -10.0237091 </td><td>  5.8421e-04 </td><td> (0.01%) </td><td> -10.0 </td><td>        -inf </td><td>         inf </td><td> True </td></tr></table><h2>Correlations (unreported correlations are < 0.100)</h2><table><tr><td>xp96_0</td><td>xp100_0</td><td>0.8975</td></tr><tr><td>xp92_0</td><td>xp100_0</td><td>0.8942</td></tr><tr><td>xp94_0</td><td>xp100_0</td><td>0.8941</td></tr><tr><td>xp95_0</td><td>xp100_0</td><td>0.8939</td></tr><tr><td>xp98_0</td><td>xp100_0</td><td>0.8931</td></tr><tr><td>xp92_0</td><td>xp96_0</td><td>0.8928</td></tr><tr><td>xp94_0</td><td>xp97_0</td><td>0.8927</td></tr><tr><td>xp97_0</td><td>xp100_0</td><td>0.8927</td></tr><tr><td>xp99_0</td><td>xp100_0</td><td>0.8913</td></tr><tr><td>xp93_0</td><td>xp100_0</td><td>0.8909</td></tr><tr><td>xp95_0</td><td>xp96_0</td><td>0.8908</td></tr><tr><td>xp93_0</td><td>xp94_0</td><td>0.8897</td></tr><tr><td>xp96_0</td><td>xp98_0</td><td>0.8895</td></tr><tr><td>xp96_0</td><td>xp99_0</td><td>0.8889</td></tr><tr><td>xp94_0</td><td>xp98_0</td><td>0.8889</td></tr><tr><td>xp94_0</td><td>xp95_0</td><td>0.8884</td></tr><tr><td>xp92_0</td><td>xp95_0</td><td>0.8876</td></tr><tr><td>xp94_0</td><td>xp96_0</td><td>0.8874</td></tr><tr><td>xp96_0</td><td>xp97_0</td><td>0.8872</td></tr><tr><td>xp95_0</td><td>xp98_0</td><td>0.8869</td></tr><tr><td>xp97_0</td><td>xp98_0</td><td>0.8869</td></tr><tr><td>xp100_0</td><td>xp101_0</td><td>0.8869</td></tr><tr><td>xp95_0</td><td>xp97_0</td><td>0.8868</td></tr><tr><td>xp93_0</td><td>xp97_0</td><td>0.8867</td></tr><tr><td>xp92_0</td><td>xp98_0</td><td>0.8864</td></tr><tr><td>xp93_0</td><td>xp96_0</td><td>0.8861</td></tr><tr><td>xp92_0</td><td>xp99_0</td><td>0.8856</td></tr><tr><td>xp95_0</td><td>xp99_0</td><td>0.8851</td></tr><tr><td>xp93_0</td><td>xp95_0</td><td>0.8850</td></tr><tr><td>xp92_0</td><td>xp94_0</td><td>0.8850</td></tr><tr><td>xp96_0</td><td>xp101_0</td><td>0.8849</td></tr><tr><td>xp93_0</td><td>xp98_0</td><td>0.8849</td></tr><tr><td>xp92_0</td><td>xp97_0</td><td>0.8845</td></tr><tr><td>xp98_0</td><td>xp99_0</td><td>0.8842</td></tr><tr><td>xp94_0</td><td>xp99_0</td><td>0.8842</td></tr><tr><td>xp92_0</td><td>xp93_0</td><td>0.8833</td></tr><tr><td>xp97_0</td><td>xp99_0</td><td>0.8833</td></tr><tr><td>xp93_0</td><td>xp99_0</td><td>0.8817</td></tr><tr><td>xp92_0</td><td>xp101_0</td><td>0.8815</td></tr><tr><td>xp95_0</td><td>xp101_0</td><td>0.8807</td></tr><tr><td>xp98_0</td><td>xp101_0</td><td>0.8797</td></tr><tr><td>xp94_0</td><td>xp101_0</td><td>0.8791</td></tr><tr><td>xp99_0</td><td>xp101_0</td><td>0.8788</td></tr><tr><td>xp97_0</td><td>xp101_0</td><td>0.8784</td></tr><tr><td>xp93_0</td><td>xp101_0</td><td>0.8770</td></tr><tr><td>R</td><td>xp94_0</td><td>-0.8378</td></tr><tr><td>R</td><td>xp97_0</td><td>-0.8186</td></tr><tr><td>R</td><td>xp93_0</td><td>-0.8099</td></tr><tr><td>R</td><td>xp98_0</td><td>-0.7962</td></tr><tr><td>R</td><td>xp100_0</td><td>-0.7941</td></tr><tr><td>R</td><td>xp95_0</td><td>-0.7897</td></tr><tr><td>R</td><td>xp99_0</td><td>-0.7763</td></tr><tr><td>R</td><td>xp92_0</td><td>-0.7715</td></tr><tr><td>R</td><td>xp96_0</td><td>-0.7699</td></tr><tr><td>R</td><td>xp101_0</td><td>-0.7681</td></tr><tr><td>sigma</td><td>xp96_0</td><td>0.6753</td></tr><tr><td>sigma</td><td>xp99_0</td><td>0.6727</td></tr><tr><td>sigma</td><td>xp101_0</td><td>0.6699</td></tr><tr><td>sigma</td><td>xp92_0</td><td>0.6678</td></tr><tr><td>sigma</td><td>xp100_0</td><td>0.6641</td></tr><tr><td>sigma</td><td>xp95_0</td><td>0.6613</td></tr><tr><td>sigma</td><td>xp98_0</td><td>0.6578</td></tr><tr><td>sigma</td><td>xp93_0</td><td>0.6435</td></tr><tr><td>sigma</td><td>xp97_0</td><td>0.6427</td></tr><tr><td>sigma</td><td>xp94_0</td><td>0.6305</td></tr><tr><td>beta</td><td>R</td><td>0.5187</td></tr><tr><td>alpha</td><td>sigma</td><td>0.3706</td></tr><tr><td>R</td><td>sigma</td><td>-0.3528</td></tr><tr><td>beta</td><td>sigma</td><td>0.2913</td></tr><tr><td>gamma</td><td>sigma</td><td>-0.2360</td></tr><tr><td>A101_0</td><td>xp101_0</td><td>0.1770</td></tr><tr><td>A99_0</td><td>xp99_0</td><td>0.1731</td></tr><tr><td>xp100_0</td><td>A101_0</td><td>0.1661</td></tr><tr><td>xp96_0</td><td>A101_0</td><td>0.1658</td></tr><tr><td>xp92_0</td><td>A101_0</td><td>0.1649</td></tr><tr><td>xp98_0</td><td>A101_0</td><td>0.1640</td></tr><tr><td>xp95_0</td><td>A101_0</td><td>0.1639</td></tr><tr><td>xp94_0</td><td>A101_0</td><td>0.1635</td></tr><tr><td>xp97_0</td><td>A101_0</td><td>0.1631</td></tr><tr><td>xp99_0</td><td>A101_0</td><td>0.1628</td></tr><tr><td>xp93_0</td><td>A101_0</td><td>0.1628</td></tr><tr><td>A99_0</td><td>xp100_0</td><td>0.1625</td></tr><tr><td>xp96_0</td><td>A99_0</td><td>0.1622</td></tr><tr><td>xp92_0</td><td>A99_0</td><td>0.1614</td></tr><tr><td>xp98_0</td><td>A99_0</td><td>0.1604</td></tr><tr><td>xp95_0</td><td>A99_0</td><td>0.1603</td></tr><tr><td>xp94_0</td><td>A99_0</td><td>0.1598</td></tr><tr><td>xp97_0</td><td>A99_0</td><td>0.1594</td></tr><tr><td>xp93_0</td><td>A99_0</td><td>0.1592</td></tr><tr><td>A99_0</td><td>xp101_0</td><td>0.1583</td></tr><tr><td>A95_0</td><td>xp95_0</td><td>0.1549</td></tr><tr><td>R</td><td>A101_0</td><td>-0.1527</td></tr><tr><td>R</td><td>A99_0</td><td>-0.1496</td></tr><tr><td>alpha</td><td>xp101_0</td><td>0.1431</td></tr><tr><td>A95_0</td><td>xp96_0</td><td>0.1423</td></tr><tr><td>A95_0</td><td>xp100_0</td><td>0.1419</td></tr><tr><td>xp92_0</td><td>A95_0</td><td>0.1414</td></tr><tr><td>alpha</td><td>xp99_0</td><td>0.1414</td></tr><tr><td>A95_0</td><td>xp98_0</td><td>0.1398</td></tr><tr><td>A95_0</td><td>xp99_0</td><td>0.1392</td></tr><tr><td>A95_0</td><td>xp101_0</td><td>0.1385</td></tr><tr><td>A95_0</td><td>xp97_0</td><td>0.1382</td></tr><tr><td>xp93_0</td><td>A95_0</td><td>0.1381</td></tr><tr><td>xp94_0</td><td>A95_0</td><td>0.1380</td></tr><tr><td>A93_0</td><td>xp93_0</td><td>0.1341</td></tr><tr><td>alpha</td><td>xp93_0</td><td>0.1325</td></tr><tr><td>alpha</td><td>xp97_0</td><td>0.1324</td></tr><tr><td>alpha</td><td>xp95_0</td><td>0.1313</td></tr><tr><td>alpha</td><td>xp98_0</td><td>0.1280</td></tr><tr><td>alpha</td><td>xp94_0</td><td>0.1256</td></tr><tr><td>A93_0</td><td>xp96_0</td><td>0.1246</td></tr><tr><td>A93_0</td><td>xp100_0</td><td>0.1241</td></tr><tr><td>xp92_0</td><td>A93_0</td><td>0.1237</td></tr><tr><td>R</td><td>A95_0</td><td>-0.1228</td></tr><tr><td>A93_0</td><td>xp98_0</td><td>0.1222</td></tr><tr><td>A93_0</td><td>xp95_0</td><td>0.1222</td></tr><tr><td>alpha</td><td>xp92_0</td><td>0.1217</td></tr><tr><td>A93_0</td><td>xp99_0</td><td>0.1217</td></tr><tr><td>A93_0</td><td>xp101_0</td><td>0.1211</td></tr><tr><td>alpha</td><td>xp96_0</td><td>0.1211</td></tr><tr><td>A93_0</td><td>xp97_0</td><td>0.1205</td></tr><tr><td>alpha</td><td>xp100_0</td><td>0.1202</td></tr><tr><td>A93_0</td><td>xp94_0</td><td>0.1202</td></tr><tr><td>A92_0</td><td>R</td><td>-0.1127</td></tr><tr><td>A92_0</td><td>xp92_0</td><td>0.1116</td></tr><tr><td>A97_0</td><td>xp97_0</td><td>0.1071</td></tr><tr><td>R</td><td>A93_0</td><td>-0.1053</td></tr><tr><td>beta</td><td>xp94_0</td><td>-0.1035</td></tr><tr><td>A92_0</td><td>xp94_0</td><td>0.1025</td></tr><tr><td>A92_0</td><td>xp97_0</td><td>0.1012</td></tr><tr><td>A92_0</td><td>xp100_0</td><td>0.1008</td></tr><tr><td>A92_0</td><td>xp93_0</td><td>0.1003</td></tr><tr><td>A92_0</td><td>xp98_0</td><td>0.1003</td></tr></table>"
      ],
      "text/plain": [
       "<lmfit.minimizer.MinimizerResult at 0x1f23718e708>"
      ]
     },
     "execution_count": 31,
     "metadata": {},
     "output_type": "execute_result"
    }
   ],
   "source": [
    "# report_fit(result)\n",
    "fitKey = '10_1_92-101'\n",
    "xwFit[fitKey][0].result"
   ]
  },
  {
   "cell_type": "code",
   "execution_count": 71,
   "metadata": {
    "Collapsed": "false",
    "hidden": true
   },
   "outputs": [
    {
     "data": {
      "text/html": [
       "<h2>Fit Statistics</h2><table><tr><td>fitting method</td><td>leastsq</td><td></td></tr><tr><td># function evals</td><td>25</td><td></td></tr><tr><td># data points</td><td>1200</td><td></td></tr><tr><td># variables</td><td>23</td><td></td></tr><tr><td>chi-square</td><td> 2290.01690</td><td></td></tr><tr><td>reduced chi-square</td><td> 1.94563882</td><td></td></tr><tr><td>Akaike info crit.</td><td> 821.485167</td><td></td></tr><tr><td>Bayesian info crit.</td><td> 938.556934</td><td></td></tr></table><h2>Variables</h2><table><tr><th> name </th><th> value </th><th> standard error </th><th> relative error </th><th> initial value </th><th> min </th><th> max </th><th> vary </th></tr><tr><td> A92_0 </td><td>  234011.974 </td><td>  3262.11485 </td><td> (1.39%) </td><td> 234011.97408657757 </td><td>  0.00000000 </td><td>         inf </td><td> True </td></tr><tr><td> alpha </td><td>  95.4374390 </td><td>  0.61453788 </td><td> (0.64%) </td><td> 95.43743901642515 </td><td>  0.00000000 </td><td>         inf </td><td> True </td></tr><tr><td> beta </td><td>  1.0000e-10 </td><td>  0.00000000 </td><td> (0.00%) </td><td> 1e-10 </td><td>  0.00000000 </td><td>         inf </td><td> False </td></tr><tr><td> R </td><td>  1.0000e-10 </td><td>  0.00000000 </td><td> (0.00%) </td><td> 1e-10 </td><td>  0.00000000 </td><td>         inf </td><td> False </td></tr><tr><td> gamma </td><td>  4.0579e-04 </td><td>  3.3235e-05 </td><td> (8.19%) </td><td> 0.0004057899453484559 </td><td>  0.00000000 </td><td>         inf </td><td> True </td></tr><tr><td> sigma </td><td>  0.00405638 </td><td>  1.7822e-04 </td><td> (4.39%) </td><td> 0.004056379995399428 </td><td>  0.00000000 </td><td>         inf </td><td> True </td></tr><tr><td> k </td><td>  0.05000000 </td><td>  0.00000000 </td><td> (0.00%) </td><td> 0.05 </td><td>  0.00000000 </td><td>         inf </td><td> False </td></tr><tr><td> xp92_0 </td><td> -10.0235600 </td><td>  2.4735e-04 </td><td> (0.00%) </td><td> -10.023560024469138 </td><td>        -inf </td><td>         inf </td><td> True </td></tr><tr><td> A93_0 </td><td>  230335.938 </td><td>  3235.82226 </td><td> (1.40%) </td><td> 230335.937883919 </td><td>  0.00000000 </td><td>         inf </td><td> True </td></tr><tr><td> xp93_0 </td><td> -10.0238600 </td><td>  2.5018e-04 </td><td> (0.00%) </td><td> -10.023860045138616 </td><td>        -inf </td><td>         inf </td><td> True </td></tr><tr><td> A94_0 </td><td>  230898.755 </td><td>  3247.01621 </td><td> (1.41%) </td><td> 230898.75500595925 </td><td>  0.00000000 </td><td>         inf </td><td> True </td></tr><tr><td> xp94_0 </td><td> -10.0235305 </td><td>  2.4756e-04 </td><td> (0.00%) </td><td> -10.023530534096674 </td><td>        -inf </td><td>         inf </td><td> True </td></tr><tr><td> A95_0 </td><td>  230915.512 </td><td>  3229.20453 </td><td> (1.40%) </td><td> 230915.5119603656 </td><td>  0.00000000 </td><td>         inf </td><td> True </td></tr><tr><td> xp95_0 </td><td> -10.0239042 </td><td>  2.4724e-04 </td><td> (0.00%) </td><td> -10.023904248602026 </td><td>        -inf </td><td>         inf </td><td> True </td></tr><tr><td> A96_0 </td><td>  231520.418 </td><td>  3217.88295 </td><td> (1.39%) </td><td> 231520.41837827972 </td><td>  0.00000000 </td><td>         inf </td><td> True </td></tr><tr><td> xp96_0 </td><td> -10.0236666 </td><td>  2.4708e-04 </td><td> (0.00%) </td><td> -10.023666633415116 </td><td>        -inf </td><td>         inf </td><td> True </td></tr><tr><td> A97_0 </td><td>  225992.730 </td><td>  3197.78862 </td><td> (1.41%) </td><td> 225992.72954960368 </td><td>  0.00000000 </td><td>         inf </td><td> True </td></tr><tr><td> xp97_0 </td><td> -10.0236514 </td><td>  2.4994e-04 </td><td> (0.00%) </td><td> -10.023651409292839 </td><td>        -inf </td><td>         inf </td><td> True </td></tr><tr><td> A98_0 </td><td>  228048.184 </td><td>  3435.65238 </td><td> (1.51%) </td><td> 228048.18350934642 </td><td>  0.00000000 </td><td>         inf </td><td> True </td></tr><tr><td> xp98_0 </td><td> -10.0236055 </td><td>  2.5959e-04 </td><td> (0.00%) </td><td> -10.023605517850438 </td><td>        -inf </td><td>         inf </td><td> True </td></tr><tr><td> A99_0 </td><td>  227460.513 </td><td>  3188.98871 </td><td> (1.40%) </td><td> 227460.51261152534 </td><td>  0.00000000 </td><td>         inf </td><td> True </td></tr><tr><td> xp99_0 </td><td> -10.0237451 </td><td>  2.4594e-04 </td><td> (0.00%) </td><td> -10.023745123920847 </td><td>        -inf </td><td>         inf </td><td> True </td></tr><tr><td> A100_0 </td><td>  227037.741 </td><td>  3188.03557 </td><td> (1.40%) </td><td> 227037.74101174486 </td><td>  0.00000000 </td><td>         inf </td><td> True </td></tr><tr><td> xp100_0 </td><td> -10.0235382 </td><td>  2.4741e-04 </td><td> (0.00%) </td><td> -10.02353822586537 </td><td>        -inf </td><td>         inf </td><td> True </td></tr><tr><td> A101_0 </td><td>  225057.609 </td><td>  3183.34866 </td><td> (1.41%) </td><td> 225057.60851127136 </td><td>  0.00000000 </td><td>         inf </td><td> True </td></tr><tr><td> xp101_0 </td><td> -10.0237091 </td><td>  2.4886e-04 </td><td> (0.00%) </td><td> -10.02370913811707 </td><td>        -inf </td><td>         inf </td><td> True </td></tr></table><h2>Correlations (unreported correlations are < 0.100)</h2><table><tr><td>alpha</td><td>sigma</td><td>0.5938</td></tr><tr><td>alpha</td><td>xp99_0</td><td>0.5501</td></tr><tr><td>alpha</td><td>xp100_0</td><td>0.5455</td></tr><tr><td>alpha</td><td>xp96_0</td><td>0.5441</td></tr><tr><td>alpha</td><td>xp101_0</td><td>0.5410</td></tr><tr><td>alpha</td><td>xp95_0</td><td>0.5410</td></tr><tr><td>alpha</td><td>xp97_0</td><td>0.5388</td></tr><tr><td>alpha</td><td>xp94_0</td><td>0.5380</td></tr><tr><td>alpha</td><td>xp93_0</td><td>0.5330</td></tr><tr><td>alpha</td><td>xp92_0</td><td>0.5327</td></tr><tr><td>alpha</td><td>xp98_0</td><td>0.5303</td></tr><tr><td>sigma</td><td>xp99_0</td><td>0.4341</td></tr><tr><td>sigma</td><td>xp100_0</td><td>0.4226</td></tr><tr><td>sigma</td><td>xp96_0</td><td>0.4197</td></tr><tr><td>sigma</td><td>xp98_0</td><td>0.4173</td></tr><tr><td>sigma</td><td>xp101_0</td><td>0.4167</td></tr><tr><td>sigma</td><td>xp95_0</td><td>0.4157</td></tr><tr><td>sigma</td><td>xp97_0</td><td>0.4155</td></tr><tr><td>sigma</td><td>xp94_0</td><td>0.4141</td></tr><tr><td>sigma</td><td>xp93_0</td><td>0.4019</td></tr><tr><td>sigma</td><td>xp92_0</td><td>0.4004</td></tr><tr><td>gamma</td><td>sigma</td><td>-0.3507</td></tr><tr><td>xp99_0</td><td>xp100_0</td><td>0.3206</td></tr><tr><td>xp96_0</td><td>xp99_0</td><td>0.3190</td></tr><tr><td>xp99_0</td><td>xp101_0</td><td>0.3172</td></tr><tr><td>xp95_0</td><td>xp99_0</td><td>0.3168</td></tr><tr><td>xp97_0</td><td>xp99_0</td><td>0.3162</td></tr><tr><td>xp96_0</td><td>xp100_0</td><td>0.3152</td></tr><tr><td>xp94_0</td><td>xp99_0</td><td>0.3150</td></tr><tr><td>xp98_0</td><td>xp99_0</td><td>0.3135</td></tr><tr><td>xp100_0</td><td>xp101_0</td><td>0.3135</td></tr><tr><td>xp95_0</td><td>xp100_0</td><td>0.3131</td></tr><tr><td>xp97_0</td><td>xp100_0</td><td>0.3125</td></tr><tr><td>xp96_0</td><td>xp101_0</td><td>0.3120</td></tr><tr><td>xp95_0</td><td>xp96_0</td><td>0.3116</td></tr><tr><td>xp94_0</td><td>xp100_0</td><td>0.3113</td></tr><tr><td>xp96_0</td><td>xp97_0</td><td>0.3110</td></tr><tr><td>xp93_0</td><td>xp99_0</td><td>0.3105</td></tr><tr><td>xp95_0</td><td>xp101_0</td><td>0.3099</td></tr><tr><td>xp94_0</td><td>xp96_0</td><td>0.3098</td></tr><tr><td>xp92_0</td><td>xp99_0</td><td>0.3097</td></tr><tr><td>xp98_0</td><td>xp100_0</td><td>0.3097</td></tr><tr><td>xp97_0</td><td>xp101_0</td><td>0.3093</td></tr><tr><td>xp95_0</td><td>xp97_0</td><td>0.3089</td></tr><tr><td>xp96_0</td><td>xp98_0</td><td>0.3081</td></tr><tr><td>xp94_0</td><td>xp101_0</td><td>0.3081</td></tr><tr><td>xp94_0</td><td>xp95_0</td><td>0.3078</td></tr><tr><td>xp94_0</td><td>xp97_0</td><td>0.3071</td></tr><tr><td>xp93_0</td><td>xp100_0</td><td>0.3070</td></tr><tr><td>xp98_0</td><td>xp101_0</td><td>0.3064</td></tr><tr><td>xp92_0</td><td>xp100_0</td><td>0.3062</td></tr><tr><td>xp95_0</td><td>xp98_0</td><td>0.3060</td></tr><tr><td>xp93_0</td><td>xp96_0</td><td>0.3056</td></tr><tr><td>xp97_0</td><td>xp98_0</td><td>0.3056</td></tr><tr><td>xp92_0</td><td>xp96_0</td><td>0.3048</td></tr><tr><td>xp94_0</td><td>xp98_0</td><td>0.3042</td></tr><tr><td>xp93_0</td><td>xp101_0</td><td>0.3039</td></tr><tr><td>xp93_0</td><td>xp95_0</td><td>0.3036</td></tr><tr><td>xp92_0</td><td>xp101_0</td><td>0.3031</td></tr><tr><td>xp93_0</td><td>xp97_0</td><td>0.3029</td></tr><tr><td>xp92_0</td><td>xp95_0</td><td>0.3029</td></tr><tr><td>xp92_0</td><td>xp97_0</td><td>0.3021</td></tr><tr><td>xp93_0</td><td>xp94_0</td><td>0.3018</td></tr><tr><td>xp92_0</td><td>xp94_0</td><td>0.3011</td></tr><tr><td>xp93_0</td><td>xp98_0</td><td>0.2999</td></tr><tr><td>xp92_0</td><td>xp98_0</td><td>0.2990</td></tr><tr><td>xp92_0</td><td>xp93_0</td><td>0.2972</td></tr></table>"
      ],
      "text/plain": [
       "<lmfit.minimizer.MinimizerResult at 0x1e62d206648>"
      ]
     },
     "execution_count": 71,
     "metadata": {},
     "output_type": "execute_result"
    }
   ],
   "source": [
    "# report_fit(result)\n",
    "xwFit[fitKey][1].result"
   ]
  },
  {
   "cell_type": "code",
   "execution_count": 39,
   "metadata": {
    "Collapsed": "false",
    "collapsed": true,
    "hidden": true
   },
   "outputs": [
    {
     "data": {
      "text/html": [
       "<h2>Fit Statistics</h2><table><tr><td>fitting method</td><td>leastsq</td><td></td></tr><tr><td># function evals</td><td>22</td><td></td></tr><tr><td># data points</td><td>1200</td><td></td></tr><tr><td># variables</td><td>20</td><td></td></tr><tr><td>chi-square</td><td> 2290.01678</td><td></td></tr><tr><td>reduced chi-square</td><td> 1.94069219</td><td></td></tr><tr><td>Akaike info crit.</td><td> 815.485107</td><td></td></tr><tr><td>Bayesian info crit.</td><td> 917.286644</td><td></td></tr></table><h2>Variables</h2><table><tr><th> name </th><th> value </th><th> standard error </th><th> relative error </th><th> initial value </th><th> min </th><th> max </th><th> vary </th></tr><tr><td> A92 </td><td>  234011.499 </td><td>  3253.39455 </td><td> (1.39%) </td><td> 234011.97408657757 </td><td>  0.00000000 </td><td>         inf </td><td> True </td></tr><tr><td> alpha </td><td>  95.4374390 </td><td>  0.00000000 </td><td> (0.00%) </td><td> 95.43743901642515 </td><td>  0.00000000 </td><td>         inf </td><td> False </td></tr><tr><td> beta </td><td>  1.0000e-10 </td><td>  0.00000000 </td><td> (0.00%) </td><td> 1e-10 </td><td>  0.00000000 </td><td>         inf </td><td> False </td></tr><tr><td> R </td><td>  1.0000e-10 </td><td>  0.00000000 </td><td> (0.00%) </td><td> 1e-10 </td><td>  0.00000000 </td><td>         inf </td><td> False </td></tr><tr><td> gamma </td><td>  4.0579e-04 </td><td>  0.00000000 </td><td> (0.00%) </td><td> 0.0004057899453484559 </td><td>  0.00000000 </td><td>         inf </td><td> False </td></tr><tr><td> sigma </td><td>  0.00405638 </td><td>  0.00000000 </td><td> (0.00%) </td><td> 0.004056379995399428 </td><td>  0.00000000 </td><td>         inf </td><td> False </td></tr><tr><td> k </td><td>  0.05000000 </td><td>  0.00000000 </td><td> (0.00%) </td><td> 0.05 </td><td>  0.00000000 </td><td>         inf </td><td> False </td></tr><tr><td> xp92 </td><td> -10.0235595 </td><td>  2.0719e-04 </td><td> (0.00%) </td><td> -10.023560024469138 </td><td>        -inf </td><td>         inf </td><td> True </td></tr><tr><td> A93 </td><td>  230335.540 </td><td>  3227.55023 </td><td> (1.40%) </td><td> 230335.937883919 </td><td>  0.00000000 </td><td>         inf </td><td> True </td></tr><tr><td> xp93 </td><td> -10.0238596 </td><td>  2.0937e-04 </td><td> (0.00%) </td><td> -10.023860045138616 </td><td>        -inf </td><td>         inf </td><td> True </td></tr><tr><td> A94 </td><td>  230898.632 </td><td>  3238.68341 </td><td> (1.40%) </td><td> 230898.75500595925 </td><td>  0.00000000 </td><td>         inf </td><td> True </td></tr><tr><td> xp94 </td><td> -10.0235300 </td><td>  2.0598e-04 </td><td> (0.00%) </td><td> -10.023530534096674 </td><td>        -inf </td><td>         inf </td><td> True </td></tr><tr><td> A95 </td><td>  230915.353 </td><td>  3220.82043 </td><td> (1.39%) </td><td> 230915.5119603656 </td><td>  0.00000000 </td><td>         inf </td><td> True </td></tr><tr><td> xp95 </td><td> -10.0239038 </td><td>  2.0518e-04 </td><td> (0.00%) </td><td> -10.023904248602026 </td><td>        -inf </td><td>         inf </td><td> True </td></tr><tr><td> A96 </td><td>  231520.042 </td><td>  3209.71851 </td><td> (1.39%) </td><td> 231520.4183782797 </td><td>  0.00000000 </td><td>         inf </td><td> True </td></tr><tr><td> xp96 </td><td> -10.0236662 </td><td>  2.0443e-04 </td><td> (0.00%) </td><td> -10.023666633415116 </td><td>        -inf </td><td>         inf </td><td> True </td></tr><tr><td> A97 </td><td>  225992.502 </td><td>  3189.68415 </td><td> (1.41%) </td><td> 225992.72954960368 </td><td>  0.00000000 </td><td>         inf </td><td> True </td></tr><tr><td> xp97 </td><td> -10.0236509 </td><td>  2.0760e-04 </td><td> (0.00%) </td><td> -10.023651409292839 </td><td>        -inf </td><td>         inf </td><td> True </td></tr><tr><td> A98 </td><td>  228048.334 </td><td>  3428.39651 </td><td> (1.50%) </td><td> 228048.18350934642 </td><td>  0.00000000 </td><td>         inf </td><td> True </td></tr><tr><td> xp98 </td><td> -10.0236050 </td><td>  2.1644e-04 </td><td> (0.00%) </td><td> -10.023605517850438 </td><td>        -inf </td><td>         inf </td><td> True </td></tr><tr><td> A99 </td><td>  227460.751 </td><td>  3181.06244 </td><td> (1.40%) </td><td> 227460.51261152534 </td><td>  0.00000000 </td><td>         inf </td><td> True </td></tr><tr><td> xp99 </td><td> -10.0237445 </td><td>  2.0188e-04 </td><td> (0.00%) </td><td> -10.023745123920847 </td><td>        -inf </td><td>         inf </td><td> True </td></tr><tr><td> A100 </td><td>  227037.657 </td><td>  3180.81585 </td><td> (1.40%) </td><td> 227037.74101174486 </td><td>  0.00000000 </td><td>         inf </td><td> True </td></tr><tr><td> xp100 </td><td> -10.0235377 </td><td>  2.0424e-04 </td><td> (0.00%) </td><td> -10.02353822586537 </td><td>        -inf </td><td>         inf </td><td> True </td></tr><tr><td> A101 </td><td>  225057.350 </td><td>  3175.69298 </td><td> (1.41%) </td><td> 225057.60851127136 </td><td>  0.00000000 </td><td>         inf </td><td> True </td></tr><tr><td> xp101 </td><td> -10.0237086 </td><td>  2.0642e-04 </td><td> (0.00%) </td><td> -10.02370913811707 </td><td>        -inf </td><td>         inf </td><td> True </td></tr></table>"
      ],
      "text/plain": [
       "<lmfit.minimizer.MinimizerResult at 0x1cb73b70148>"
      ]
     },
     "execution_count": 39,
     "metadata": {},
     "output_type": "execute_result"
    }
   ],
   "source": [
    "# report_fit(result)\n",
    "xwFit[fitKey][2].result"
   ]
  },
  {
   "cell_type": "markdown",
   "metadata": {
    "heading_collapsed": true,
    "hidden": true
   },
   "source": [
    "#### Results of weighted fit with 20 datasets"
   ]
  },
  {
   "cell_type": "code",
   "execution_count": 70,
   "metadata": {
    "Collapsed": "false",
    "collapsed": true,
    "hidden": true
   },
   "outputs": [
    {
     "data": {
      "text/html": [
       "<h2>Fit Statistics</h2><table><tr><td>fitting method</td><td>leastsq</td><td></td></tr><tr><td># function evals</td><td>5999</td><td></td></tr><tr><td># data points</td><td>2400</td><td></td></tr><tr><td># variables</td><td>45</td><td></td></tr><tr><td>chi-square</td><td> 4281.15719</td><td></td></tr><tr><td>reduced chi-square</td><td> 1.81790114</td><td></td></tr><tr><td>Akaike info crit.</td><td> 1479.01106</td><td></td></tr><tr><td>Bayesian info crit.</td><td> 1739.25614</td><td></td></tr></table><h2>Variables</h2><table><tr><th> name </th><th> value </th><th> standard error </th><th> relative error </th><th> initial value </th><th> min </th><th> max </th><th> vary </th></tr><tr><td> A82 </td><td>  522017.307 </td><td>  86237385.9 </td><td> (16520.02%) </td><td> 200000.0 </td><td>  0.00000000 </td><td>         inf </td><td> True </td></tr><tr><td> alpha </td><td>  127.556622 </td><td>  0.63041529 </td><td> (0.49%) </td><td> 140 </td><td>  0.00000000 </td><td>         inf </td><td> True </td></tr><tr><td> beta </td><td>  0.01844768 </td><td>  4.37392610 </td><td> (23709.90%) </td><td> 0.001 </td><td>  0.00000000 </td><td>         inf </td><td> True </td></tr><tr><td> R </td><td>  0.69818459 </td><td>  49.8598993 </td><td> (7141.36%) </td><td> 0.001 </td><td>  0.00000000 </td><td>         inf </td><td> True </td></tr><tr><td> gamma </td><td>  3.5324e-04 </td><td>  2.0412e-05 </td><td> (5.78%) </td><td> 0.001 </td><td>  0.00000000 </td><td>         inf </td><td> True </td></tr><tr><td> sigma </td><td>  0.00529943 </td><td>  7.6090e-05 </td><td> (1.44%) </td><td> 0.0066 </td><td>  0.00000000 </td><td>         inf </td><td> True </td></tr><tr><td> k </td><td>  0.05000000 </td><td>  0.00000000 </td><td> (0.00%) </td><td> 0.05 </td><td>  0.00000000 </td><td>         inf </td><td> False </td></tr><tr><td> xp82 </td><td> -8.01767327 </td><td>  1.5918e-04 </td><td> (0.00%) </td><td> -8.0 </td><td>        -inf </td><td>         inf </td><td> True </td></tr><tr><td> A83 </td><td>  508766.138 </td><td>  84048216.0 </td><td> (16520.01%) </td><td> 200000.0 </td><td>  0.00000000 </td><td>         inf </td><td> True </td></tr><tr><td> xp83 </td><td> -8.01766926 </td><td>  1.6049e-04 </td><td> (0.00%) </td><td> -8.0 </td><td>        -inf </td><td>         inf </td><td> True </td></tr><tr><td> A84 </td><td>  508652.265 </td><td>  84029456.4 </td><td> (16520.02%) </td><td> 200000.0 </td><td>  0.00000000 </td><td>         inf </td><td> True </td></tr><tr><td> xp84 </td><td> -8.01766483 </td><td>  1.6125e-04 </td><td> (0.00%) </td><td> -8.0 </td><td>        -inf </td><td>         inf </td><td> True </td></tr><tr><td> A85 </td><td>  505384.705 </td><td>  83489502.4 </td><td> (16519.99%) </td><td> 200000.0 </td><td>  0.00000000 </td><td>         inf </td><td> True </td></tr><tr><td> xp85 </td><td> -8.01770614 </td><td>  1.6050e-04 </td><td> (0.00%) </td><td> -8.0 </td><td>        -inf </td><td>         inf </td><td> True </td></tr><tr><td> A86 </td><td>  503185.937 </td><td>  83126387.3 </td><td> (16520.01%) </td><td> 200000.0 </td><td>  0.00000000 </td><td>         inf </td><td> True </td></tr><tr><td> xp86 </td><td> -8.01746637 </td><td>  1.6196e-04 </td><td> (0.00%) </td><td> -8.0 </td><td>        -inf </td><td>         inf </td><td> True </td></tr><tr><td> A87 </td><td>  498884.140 </td><td>  82415792.3 </td><td> (16520.03%) </td><td> 200000.0 </td><td>  0.00000000 </td><td>         inf </td><td> True </td></tr><tr><td> xp87 </td><td> -8.01765347 </td><td>  1.6150e-04 </td><td> (0.00%) </td><td> -8.0 </td><td>        -inf </td><td>         inf </td><td> True </td></tr><tr><td> A88 </td><td>  499325.904 </td><td>  82488693.2 </td><td> (16520.01%) </td><td> 200000.0 </td><td>  0.00000000 </td><td>         inf </td><td> True </td></tr><tr><td> xp88 </td><td> -8.01760282 </td><td>  1.6155e-04 </td><td> (0.00%) </td><td> -8.0 </td><td>        -inf </td><td>         inf </td><td> True </td></tr><tr><td> A89 </td><td>  504489.926 </td><td>  83341798.8 </td><td> (16520.01%) </td><td> 200000.0 </td><td>  0.00000000 </td><td>         inf </td><td> True </td></tr><tr><td> xp89 </td><td> -8.01779673 </td><td>  1.5861e-04 </td><td> (0.00%) </td><td> -8.0 </td><td>        -inf </td><td>         inf </td><td> True </td></tr><tr><td> A90 </td><td>  497501.287 </td><td>  82187289.1 </td><td> (16520.02%) </td><td> 200000.0 </td><td>  0.00000000 </td><td>         inf </td><td> True </td></tr><tr><td> xp90 </td><td> -8.01751375 </td><td>  1.6148e-04 </td><td> (0.00%) </td><td> -8.0 </td><td>        -inf </td><td>         inf </td><td> True </td></tr><tr><td> A91 </td><td>  495642.884 </td><td>  81880283.1 </td><td> (16520.02%) </td><td> 200000.0 </td><td>  0.00000000 </td><td>         inf </td><td> True </td></tr><tr><td> xp91 </td><td> -8.01761714 </td><td>  1.6114e-04 </td><td> (0.00%) </td><td> -8.0 </td><td>        -inf </td><td>         inf </td><td> True </td></tr><tr><td> A92 </td><td>  485094.815 </td><td>  80137791.5 </td><td> (16520.03%) </td><td> 200000.0 </td><td>  0.00000000 </td><td>         inf </td><td> True </td></tr><tr><td> xp92 </td><td> -8.01753120 </td><td>  1.6162e-04 </td><td> (0.00%) </td><td> -8.0 </td><td>        -inf </td><td>         inf </td><td> True </td></tr><tr><td> A93 </td><td>  490153.638 </td><td>  80973356.6 </td><td> (16520.00%) </td><td> 200000.0 </td><td>  0.00000000 </td><td>         inf </td><td> True </td></tr><tr><td> xp93 </td><td> -8.01765303 </td><td>  1.5972e-04 </td><td> (0.00%) </td><td> -8.0 </td><td>        -inf </td><td>         inf </td><td> True </td></tr><tr><td> A94 </td><td>  484055.686 </td><td>  79966138.1 </td><td> (16520.03%) </td><td> 200000.0 </td><td>  0.00000000 </td><td>         inf </td><td> True </td></tr><tr><td> xp94 </td><td> -8.01760168 </td><td>  1.6001e-04 </td><td> (0.00%) </td><td> -8.0 </td><td>        -inf </td><td>         inf </td><td> True </td></tr><tr><td> A95 </td><td>  475688.997 </td><td>  78583949.6 </td><td> (16520.03%) </td><td> 200000.0 </td><td>  0.00000000 </td><td>         inf </td><td> True </td></tr><tr><td> xp95 </td><td> -8.01755517 </td><td>  1.6153e-04 </td><td> (0.00%) </td><td> -8.0 </td><td>        -inf </td><td>         inf </td><td> True </td></tr><tr><td> A96 </td><td>  478553.765 </td><td>  79057160.2 </td><td> (16520.02%) </td><td> 200000.0 </td><td>  0.00000000 </td><td>         inf </td><td> True </td></tr><tr><td> xp96 </td><td> -8.01740990 </td><td>  1.6179e-04 </td><td> (0.00%) </td><td> -8.0 </td><td>        -inf </td><td>         inf </td><td> True </td></tr><tr><td> A97 </td><td>  472291.663 </td><td>  78022596.8 </td><td> (16520.00%) </td><td> 200000.0 </td><td>  0.00000000 </td><td>         inf </td><td> True </td></tr><tr><td> xp97 </td><td> -8.01717992 </td><td>  1.6279e-04 </td><td> (0.00%) </td><td> -8.0 </td><td>        -inf </td><td>         inf </td><td> True </td></tr><tr><td> A98 </td><td>  471503.260 </td><td>  77892430.1 </td><td> (16520.02%) </td><td> 200000.0 </td><td>  0.00000000 </td><td>         inf </td><td> True </td></tr><tr><td> xp98 </td><td> -8.01712050 </td><td>  1.7116e-04 </td><td> (0.00%) </td><td> -8.0 </td><td>        -inf </td><td>         inf </td><td> True </td></tr><tr><td> A99 </td><td>  471204.934 </td><td>  77843217.4 </td><td> (16520.03%) </td><td> 200000.0 </td><td>  0.00000000 </td><td>         inf </td><td> True </td></tr><tr><td> xp99 </td><td> -8.01734223 </td><td>  1.6213e-04 </td><td> (0.00%) </td><td> -8.0 </td><td>        -inf </td><td>         inf </td><td> True </td></tr><tr><td> A100 </td><td>  463646.038 </td><td>  76594426.0 </td><td> (16520.02%) </td><td> 200000.0 </td><td>  0.00000000 </td><td>         inf </td><td> True </td></tr><tr><td> xp100 </td><td> -8.01743797 </td><td>  1.6312e-04 </td><td> (0.00%) </td><td> -8.0 </td><td>        -inf </td><td>         inf </td><td> True </td></tr><tr><td> A101 </td><td>  454337.210 </td><td>  75056658.9 </td><td> (16520.03%) </td><td> 200000.0 </td><td>  0.00000000 </td><td>         inf </td><td> True </td></tr><tr><td> xp101 </td><td> -8.01726183 </td><td>  1.6400e-04 </td><td> (0.00%) </td><td> -8.0 </td><td>        -inf </td><td>         inf </td><td> True </td></tr></table><h2>Correlations (unreported correlations are < 0.100)</h2><table><tr><td>R</td><td>A93</td><td>1.0000</td></tr><tr><td>R</td><td>A83</td><td>1.0000</td></tr><tr><td>R</td><td>A84</td><td>1.0000</td></tr><tr><td>R</td><td>A96</td><td>1.0000</td></tr><tr><td>R</td><td>A88</td><td>1.0000</td></tr><tr><td>R</td><td>A92</td><td>1.0000</td></tr><tr><td>A82</td><td>R</td><td>1.0000</td></tr><tr><td>R</td><td>A90</td><td>1.0000</td></tr><tr><td>R</td><td>A91</td><td>1.0000</td></tr><tr><td>R</td><td>A87</td><td>1.0000</td></tr><tr><td>R</td><td>A86</td><td>1.0000</td></tr><tr><td>R</td><td>A100</td><td>1.0000</td></tr><tr><td>R</td><td>A85</td><td>1.0000</td></tr><tr><td>R</td><td>A94</td><td>1.0000</td></tr><tr><td>R</td><td>A99</td><td>1.0000</td></tr><tr><td>R</td><td>A95</td><td>1.0000</td></tr><tr><td>R</td><td>A89</td><td>1.0000</td></tr><tr><td>R</td><td>A97</td><td>1.0000</td></tr><tr><td>R</td><td>A101</td><td>1.0000</td></tr><tr><td>R</td><td>A98</td><td>1.0000</td></tr><tr><td>A89</td><td>A93</td><td>1.0000</td></tr><tr><td>A85</td><td>A93</td><td>1.0000</td></tr><tr><td>A89</td><td>A96</td><td>1.0000</td></tr><tr><td>A89</td><td>A92</td><td>1.0000</td></tr><tr><td>A89</td><td>A90</td><td>1.0000</td></tr><tr><td>A89</td><td>A91</td><td>1.0000</td></tr><tr><td>A85</td><td>A96</td><td>1.0000</td></tr><tr><td>A85</td><td>A88</td><td>1.0000</td></tr><tr><td>A86</td><td>A93</td><td>1.0000</td></tr><tr><td>A85</td><td>A92</td><td>1.0000</td></tr><tr><td>A85</td><td>A90</td><td>1.0000</td></tr><tr><td>A85</td><td>A91</td><td>1.0000</td></tr><tr><td>A82</td><td>A93</td><td>1.0000</td></tr><tr><td>A85</td><td>A87</td><td>1.0000</td></tr><tr><td>A89</td><td>A100</td><td>1.0000</td></tr><tr><td>A91</td><td>A93</td><td>1.0000</td></tr><tr><td>A87</td><td>A93</td><td>1.0000</td></tr><tr><td>A86</td><td>A96</td><td>1.0000</td></tr><tr><td>A90</td><td>A93</td><td>1.0000</td></tr><tr><td>A89</td><td>A94</td><td>1.0000</td></tr><tr><td>A86</td><td>A88</td><td>1.0000</td></tr><tr><td>A82</td><td>A83</td><td>1.0000</td></tr><tr><td>A84</td><td>A93</td><td>1.0000</td></tr><tr><td>A89</td><td>A99</td><td>1.0000</td></tr><tr><td>A85</td><td>A86</td><td>1.0000</td></tr><tr><td>A89</td><td>A95</td><td>1.0000</td></tr><tr><td>A86</td><td>A92</td><td>1.0000</td></tr><tr><td>A83</td><td>A93</td><td>1.0000</td></tr><tr><td>A88</td><td>A93</td><td>1.0000</td></tr><tr><td>A82</td><td>A84</td><td>1.0000</td></tr><tr><td>A86</td><td>A90</td><td>1.0000</td></tr><tr><td>A82</td><td>A96</td><td>1.0000</td></tr><tr><td>A85</td><td>A100</td><td>1.0000</td></tr><tr><td>A82</td><td>A88</td><td>1.0000</td></tr><tr><td>A86</td><td>A91</td><td>1.0000</td></tr><tr><td>A91</td><td>A96</td><td>1.0000</td></tr><tr><td>A87</td><td>A96</td><td>1.0000</td></tr><tr><td>A87</td><td>A88</td><td>1.0000</td></tr><tr><td>A85</td><td>A94</td><td>1.0000</td></tr><tr><td>A86</td><td>A87</td><td>1.0000</td></tr><tr><td>A82</td><td>A92</td><td>1.0000</td></tr><tr><td>A90</td><td>A96</td><td>1.0000</td></tr><tr><td>A85</td><td>A99</td><td>1.0000</td></tr><tr><td>A84</td><td>A96</td><td>1.0000</td></tr><tr><td>A91</td><td>A92</td><td>1.0000</td></tr><tr><td>A84</td><td>A88</td><td>1.0000</td></tr><tr><td>A94</td><td>A96</td><td>1.0000</td></tr><tr><td>A89</td><td>A97</td><td>1.0000</td></tr><tr><td>A87</td><td>A92</td><td>1.0000</td></tr><tr><td>A85</td><td>A95</td><td>1.0000</td></tr><tr><td>A85</td><td>A89</td><td>1.0000</td></tr><tr><td>A90</td><td>A92</td><td>1.0000</td></tr><tr><td>A82</td><td>A90</td><td>1.0000</td></tr><tr><td>A84</td><td>A92</td><td>1.0000</td></tr><tr><td>A83</td><td>A84</td><td>1.0000</td></tr><tr><td>A87</td><td>A90</td><td>1.0000</td></tr><tr><td>A89</td><td>A101</td><td>1.0000</td></tr><tr><td>A83</td><td>A96</td><td>1.0000</td></tr><tr><td>A82</td><td>A91</td><td>1.0000</td></tr><tr><td>A88</td><td>A96</td><td>1.0000</td></tr><tr><td>A83</td><td>A88</td><td>1.0000</td></tr><tr><td>A95</td><td>A96</td><td>1.0000</td></tr><tr><td>A87</td><td>A91</td><td>1.0000</td></tr><tr><td>A82</td><td>A87</td><td>1.0000</td></tr><tr><td>A84</td><td>A90</td><td>1.0000</td></tr><tr><td>A83</td><td>A92</td><td>1.0000</td></tr><tr><td>A88</td><td>A92</td><td>1.0000</td></tr><tr><td>A90</td><td>A91</td><td>1.0000</td></tr><tr><td>A84</td><td>A91</td><td>1.0000</td></tr><tr><td>A86</td><td>A100</td><td>1.0000</td></tr><tr><td>A84</td><td>A87</td><td>1.0000</td></tr><tr><td>A82</td><td>A86</td><td>1.0000</td></tr><tr><td>A85</td><td>A97</td><td>1.0000</td></tr><tr><td>A83</td><td>A90</td><td>1.0000</td></tr><tr><td>A88</td><td>A90</td><td>1.0000</td></tr><tr><td>A86</td><td>A94</td><td>1.0000</td></tr><tr><td>A86</td><td>A99</td><td>1.0000</td></tr><tr><td>A83</td><td>A91</td><td>1.0000</td></tr><tr><td>A88</td><td>A91</td><td>1.0000</td></tr><tr><td>A86</td><td>A95</td><td>1.0000</td></tr><tr><td>A86</td><td>A89</td><td>1.0000</td></tr><tr><td>A85</td><td>A101</td><td>1.0000</td></tr><tr><td>A84</td><td>A86</td><td>1.0000</td></tr><tr><td>A83</td><td>A87</td><td>1.0000</td></tr><tr><td>A92</td><td>A93</td><td>1.0000</td></tr><tr><td>A82</td><td>A100</td><td>1.0000</td></tr><tr><td>A82</td><td>A85</td><td>1.0000</td></tr><tr><td>A91</td><td>A100</td><td>1.0000</td></tr><tr><td>A87</td><td>A100</td><td>1.0000</td></tr><tr><td>A83</td><td>A86</td><td>1.0000</td></tr><tr><td>A82</td><td>A94</td><td>1.0000</td></tr><tr><td>A90</td><td>A100</td><td>1.0000</td></tr><tr><td>A82</td><td>A99</td><td>1.0000</td></tr><tr><td>A91</td><td>A94</td><td>1.0000</td></tr><tr><td>A84</td><td>A100</td><td>1.0000</td></tr><tr><td>A87</td><td>A94</td><td>1.0000</td></tr><tr><td>A94</td><td>A100</td><td>1.0000</td></tr><tr><td>A82</td><td>A95</td><td>1.0000</td></tr><tr><td>A91</td><td>A99</td><td>1.0000</td></tr><tr><td>A84</td><td>A85</td><td>1.0000</td></tr><tr><td>A82</td><td>A89</td><td>1.0000</td></tr><tr><td>A87</td><td>A99</td><td>1.0000</td></tr><tr><td>A90</td><td>A94</td><td>1.0000</td></tr><tr><td>A91</td><td>A95</td><td>1.0000</td></tr><tr><td>A87</td><td>A95</td><td>1.0000</td></tr><tr><td>A84</td><td>A94</td><td>1.0000</td></tr><tr><td>A97</td><td>A100</td><td>1.0000</td></tr><tr><td>A90</td><td>A99</td><td>1.0000</td></tr><tr><td>A87</td><td>A89</td><td>1.0000</td></tr><tr><td>A86</td><td>A97</td><td>1.0000</td></tr><tr><td>A93</td><td>A96</td><td>1.0000</td></tr><tr><td>A84</td><td>A99</td><td>1.0000</td></tr><tr><td>A90</td><td>A95</td><td>1.0000</td></tr><tr><td>A94</td><td>A99</td><td>1.0000</td></tr><tr><td>A83</td><td>A100</td><td>1.0000</td></tr><tr><td>A84</td><td>A95</td><td>1.0000</td></tr><tr><td>A88</td><td>A100</td><td>1.0000</td></tr><tr><td>A95</td><td>A100</td><td>1.0000</td></tr><tr><td>A84</td><td>A89</td><td>1.0000</td></tr><tr><td>A94</td><td>A95</td><td>1.0000</td></tr><tr><td>A83</td><td>A85</td><td>1.0000</td></tr><tr><td>A92</td><td>A96</td><td>1.0000</td></tr><tr><td>A97</td><td>A99</td><td>1.0000</td></tr><tr><td>A86</td><td>A101</td><td>1.0000</td></tr><tr><td>A83</td><td>A94</td><td>1.0000</td></tr><tr><td>A88</td><td>A94</td><td>1.0000</td></tr><tr><td>A83</td><td>A99</td><td>1.0000</td></tr><tr><td>A88</td><td>A99</td><td>1.0000</td></tr><tr><td>A95</td><td>A99</td><td>1.0000</td></tr><tr><td>A83</td><td>A95</td><td>1.0000</td></tr><tr><td>A88</td><td>A95</td><td>1.0000</td></tr><tr><td>A83</td><td>A89</td><td>1.0000</td></tr><tr><td>A88</td><td>A89</td><td>1.0000</td></tr><tr><td>A82</td><td>A97</td><td>1.0000</td></tr><tr><td>A91</td><td>A97</td><td>1.0000</td></tr><tr><td>A99</td><td>A100</td><td>1.0000</td></tr><tr><td>A87</td><td>A97</td><td>1.0000</td></tr><tr><td>A90</td><td>A97</td><td>1.0000</td></tr><tr><td>A82</td><td>A101</td><td>1.0000</td></tr><tr><td>A84</td><td>A97</td><td>1.0000</td></tr><tr><td>A94</td><td>A97</td><td>1.0000</td></tr><tr><td>A91</td><td>A101</td><td>1.0000</td></tr><tr><td>A87</td><td>A101</td><td>1.0000</td></tr><tr><td>A90</td><td>A101</td><td>1.0000</td></tr><tr><td>A84</td><td>A101</td><td>1.0000</td></tr><tr><td>A94</td><td>A101</td><td>1.0000</td></tr><tr><td>A83</td><td>A97</td><td>1.0000</td></tr><tr><td>A88</td><td>A97</td><td>1.0000</td></tr><tr><td>A95</td><td>A97</td><td>1.0000</td></tr><tr><td>A97</td><td>A101</td><td>1.0000</td></tr><tr><td>A83</td><td>A101</td><td>1.0000</td></tr><tr><td>A88</td><td>A101</td><td>1.0000</td></tr><tr><td>A95</td><td>A101</td><td>1.0000</td></tr><tr><td>A93</td><td>A100</td><td>1.0000</td></tr><tr><td>A98</td><td>A100</td><td>1.0000</td></tr><tr><td>A92</td><td>A100</td><td>1.0000</td></tr><tr><td>A93</td><td>A94</td><td>1.0000</td></tr><tr><td>A93</td><td>A99</td><td>1.0000</td></tr><tr><td>A96</td><td>A100</td><td>1.0000</td></tr><tr><td>A93</td><td>A95</td><td>1.0000</td></tr><tr><td>A92</td><td>A94</td><td>1.0000</td></tr><tr><td>A98</td><td>A99</td><td>1.0000</td></tr><tr><td>A92</td><td>A99</td><td>1.0000</td></tr><tr><td>A99</td><td>A101</td><td>1.0000</td></tr><tr><td>A92</td><td>A95</td><td>1.0000</td></tr><tr><td>A96</td><td>A99</td><td>1.0000</td></tr><tr><td>A93</td><td>A97</td><td>1.0000</td></tr><tr><td>A92</td><td>A97</td><td>1.0000</td></tr><tr><td>A93</td><td>A101</td><td>1.0000</td></tr><tr><td>A96</td><td>A97</td><td>1.0000</td></tr><tr><td>A98</td><td>A101</td><td>1.0000</td></tr><tr><td>A92</td><td>A101</td><td>1.0000</td></tr><tr><td>A96</td><td>A101</td><td>1.0000</td></tr><tr><td>A100</td><td>A101</td><td>1.0000</td></tr><tr><td>A89</td><td>A98</td><td>1.0000</td></tr><tr><td>A85</td><td>A98</td><td>1.0000</td></tr><tr><td>A86</td><td>A98</td><td>1.0000</td></tr><tr><td>A82</td><td>A98</td><td>1.0000</td></tr><tr><td>A91</td><td>A98</td><td>1.0000</td></tr><tr><td>A87</td><td>A98</td><td>1.0000</td></tr><tr><td>A90</td><td>A98</td><td>1.0000</td></tr><tr><td>A84</td><td>A98</td><td>1.0000</td></tr><tr><td>A94</td><td>A98</td><td>1.0000</td></tr><tr><td>A97</td><td>A98</td><td>1.0000</td></tr><tr><td>A83</td><td>A98</td><td>1.0000</td></tr><tr><td>A88</td><td>A98</td><td>1.0000</td></tr><tr><td>A95</td><td>A98</td><td>1.0000</td></tr><tr><td>A93</td><td>A98</td><td>1.0000</td></tr><tr><td>A92</td><td>A98</td><td>1.0000</td></tr><tr><td>A96</td><td>A98</td><td>1.0000</td></tr><tr><td>beta</td><td>R</td><td>-1.0000</td></tr><tr><td>beta</td><td>A93</td><td>-1.0000</td></tr><tr><td>beta</td><td>A83</td><td>-1.0000</td></tr><tr><td>beta</td><td>A96</td><td>-1.0000</td></tr><tr><td>beta</td><td>A84</td><td>-1.0000</td></tr><tr><td>beta</td><td>A88</td><td>-1.0000</td></tr><tr><td>beta</td><td>A92</td><td>-1.0000</td></tr><tr><td>beta</td><td>A90</td><td>-1.0000</td></tr><tr><td>beta</td><td>A91</td><td>-1.0000</td></tr><tr><td>beta</td><td>A87</td><td>-1.0000</td></tr><tr><td>beta</td><td>A86</td><td>-1.0000</td></tr><tr><td>beta</td><td>A100</td><td>-1.0000</td></tr><tr><td>beta</td><td>A85</td><td>-1.0000</td></tr><tr><td>beta</td><td>A94</td><td>-1.0000</td></tr><tr><td>beta</td><td>A89</td><td>-1.0000</td></tr><tr><td>beta</td><td>A95</td><td>-1.0000</td></tr><tr><td>beta</td><td>A99</td><td>-1.0000</td></tr><tr><td>beta</td><td>A97</td><td>-1.0000</td></tr><tr><td>beta</td><td>A101</td><td>-1.0000</td></tr><tr><td>A82</td><td>beta</td><td>-1.0000</td></tr><tr><td>beta</td><td>A98</td><td>-1.0000</td></tr><tr><td>alpha</td><td>sigma</td><td>0.6988</td></tr><tr><td>alpha</td><td>xp100</td><td>0.5006</td></tr><tr><td>alpha</td><td>xp96</td><td>0.5003</td></tr><tr><td>alpha</td><td>xp99</td><td>0.5002</td></tr><tr><td>alpha</td><td>xp94</td><td>0.4927</td></tr><tr><td>alpha</td><td>xp95</td><td>0.4918</td></tr><tr><td>alpha</td><td>xp82</td><td>0.4881</td></tr><tr><td>alpha</td><td>xp101</td><td>0.4869</td></tr><tr><td>alpha</td><td>xp92</td><td>0.4862</td></tr><tr><td>alpha</td><td>xp89</td><td>0.4854</td></tr><tr><td>alpha</td><td>xp84</td><td>0.4849</td></tr><tr><td>alpha</td><td>xp90</td><td>0.4808</td></tr><tr><td>alpha</td><td>xp98</td><td>0.4806</td></tr><tr><td>alpha</td><td>xp87</td><td>0.4779</td></tr><tr><td>alpha</td><td>xp88</td><td>0.4779</td></tr><tr><td>alpha</td><td>xp93</td><td>0.4774</td></tr><tr><td>alpha</td><td>xp86</td><td>0.4757</td></tr><tr><td>alpha</td><td>xp97</td><td>0.4737</td></tr><tr><td>alpha</td><td>xp91</td><td>0.4717</td></tr><tr><td>alpha</td><td>xp83</td><td>0.4658</td></tr><tr><td>alpha</td><td>xp85</td><td>0.4635</td></tr><tr><td>gamma</td><td>sigma</td><td>-0.4191</td></tr><tr><td>sigma</td><td>xp100</td><td>0.4094</td></tr><tr><td>alpha</td><td>beta</td><td>0.4086</td></tr><tr><td>alpha</td><td>A101</td><td>-0.4085</td></tr><tr><td>alpha</td><td>A97</td><td>-0.4085</td></tr><tr><td>alpha</td><td>A100</td><td>-0.4085</td></tr><tr><td>alpha</td><td>A96</td><td>-0.4085</td></tr><tr><td>alpha</td><td>A95</td><td>-0.4085</td></tr><tr><td>alpha</td><td>A89</td><td>-0.4085</td></tr><tr><td>alpha</td><td>A99</td><td>-0.4085</td></tr><tr><td>alpha</td><td>A98</td><td>-0.4085</td></tr><tr><td>alpha</td><td>A92</td><td>-0.4085</td></tr><tr><td>alpha</td><td>A85</td><td>-0.4085</td></tr><tr><td>alpha</td><td>A91</td><td>-0.4085</td></tr><tr><td>alpha</td><td>A83</td><td>-0.4085</td></tr><tr><td>alpha</td><td>A94</td><td>-0.4085</td></tr><tr><td>alpha</td><td>A90</td><td>-0.4085</td></tr><tr><td>alpha</td><td>A88</td><td>-0.4085</td></tr><tr><td>alpha</td><td>A93</td><td>-0.4085</td></tr><tr><td>alpha</td><td>A84</td><td>-0.4085</td></tr><tr><td>alpha</td><td>A87</td><td>-0.4085</td></tr><tr><td>alpha</td><td>A86</td><td>-0.4085</td></tr><tr><td>alpha</td><td>R</td><td>-0.4085</td></tr><tr><td>A82</td><td>alpha</td><td>-0.4085</td></tr><tr><td>sigma</td><td>xp99</td><td>0.4057</td></tr><tr><td>sigma</td><td>xp96</td><td>0.4056</td></tr><tr><td>sigma</td><td>xp94</td><td>0.4006</td></tr><tr><td>sigma</td><td>xp101</td><td>0.3985</td></tr><tr><td>sigma</td><td>xp95</td><td>0.3984</td></tr><tr><td>sigma</td><td>xp92</td><td>0.3932</td></tr><tr><td>sigma</td><td>xp98</td><td>0.3924</td></tr><tr><td>sigma</td><td>xp89</td><td>0.3892</td></tr><tr><td>sigma</td><td>xp97</td><td>0.3851</td></tr><tr><td>sigma</td><td>xp93</td><td>0.3840</td></tr><tr><td>sigma</td><td>xp84</td><td>0.3840</td></tr><tr><td>sigma</td><td>xp82</td><td>0.3825</td></tr><tr><td>sigma</td><td>xp90</td><td>0.3818</td></tr><tr><td>sigma</td><td>xp87</td><td>0.3778</td></tr><tr><td>sigma</td><td>xp88</td><td>0.3776</td></tr><tr><td>sigma</td><td>xp91</td><td>0.3756</td></tr><tr><td>sigma</td><td>xp86</td><td>0.3747</td></tr><tr><td>sigma</td><td>xp83</td><td>0.3689</td></tr><tr><td>sigma</td><td>xp85</td><td>0.3658</td></tr><tr><td>beta</td><td>sigma</td><td>0.3347</td></tr><tr><td>sigma</td><td>A101</td><td>-0.3346</td></tr><tr><td>sigma</td><td>A97</td><td>-0.3346</td></tr><tr><td>sigma</td><td>A98</td><td>-0.3346</td></tr><tr><td>sigma</td><td>A100</td><td>-0.3346</td></tr><tr><td>sigma</td><td>A99</td><td>-0.3346</td></tr><tr><td>sigma</td><td>A96</td><td>-0.3346</td></tr><tr><td>sigma</td><td>A95</td><td>-0.3346</td></tr><tr><td>sigma</td><td>A94</td><td>-0.3346</td></tr><tr><td>sigma</td><td>A92</td><td>-0.3346</td></tr><tr><td>sigma</td><td>A89</td><td>-0.3346</td></tr><tr><td>sigma</td><td>A93</td><td>-0.3346</td></tr><tr><td>sigma</td><td>A90</td><td>-0.3346</td></tr><tr><td>sigma</td><td>A91</td><td>-0.3346</td></tr><tr><td>sigma</td><td>A85</td><td>-0.3346</td></tr><tr><td>sigma</td><td>A83</td><td>-0.3346</td></tr><tr><td>sigma</td><td>A84</td><td>-0.3346</td></tr><tr><td>sigma</td><td>A88</td><td>-0.3346</td></tr><tr><td>sigma</td><td>A87</td><td>-0.3346</td></tr><tr><td>sigma</td><td>A86</td><td>-0.3346</td></tr><tr><td>A82</td><td>sigma</td><td>-0.3346</td></tr><tr><td>R</td><td>sigma</td><td>-0.3346</td></tr><tr><td>xp99</td><td>xp100</td><td>0.2721</td></tr><tr><td>xp96</td><td>xp100</td><td>0.2711</td></tr><tr><td>xp96</td><td>xp99</td><td>0.2709</td></tr><tr><td>xp94</td><td>xp100</td><td>0.2690</td></tr><tr><td>xp94</td><td>xp99</td><td>0.2689</td></tr><tr><td>xp100</td><td>xp101</td><td>0.2685</td></tr><tr><td>xp99</td><td>xp101</td><td>0.2684</td></tr><tr><td>xp95</td><td>xp100</td><td>0.2681</td></tr><tr><td>xp95</td><td>xp99</td><td>0.2680</td></tr><tr><td>xp94</td><td>xp96</td><td>0.2678</td></tr><tr><td>xp96</td><td>xp101</td><td>0.2672</td></tr><tr><td>xp95</td><td>xp96</td><td>0.2669</td></tr><tr><td>xp94</td><td>xp101</td><td>0.2657</td></tr><tr><td>xp92</td><td>xp100</td><td>0.2655</td></tr><tr><td>xp92</td><td>xp99</td><td>0.2654</td></tr><tr><td>xp89</td><td>xp100</td><td>0.2653</td></tr><tr><td>xp89</td><td>xp99</td><td>0.2652</td></tr><tr><td>xp94</td><td>xp95</td><td>0.2652</td></tr><tr><td>xp97</td><td>xp99</td><td>0.2649</td></tr><tr><td>xp97</td><td>xp100</td><td>0.2648</td></tr><tr><td>xp95</td><td>xp101</td><td>0.2647</td></tr><tr><td>xp92</td><td>xp96</td><td>0.2643</td></tr><tr><td>xp89</td><td>xp96</td><td>0.2642</td></tr><tr><td>xp96</td><td>xp97</td><td>0.2635</td></tr><tr><td>xp93</td><td>xp100</td><td>0.2634</td></tr><tr><td>xp93</td><td>xp99</td><td>0.2634</td></tr><tr><td>xp97</td><td>xp101</td><td>0.2632</td></tr><tr><td>xp94</td><td>xp97</td><td>0.2630</td></tr><tr><td>xp89</td><td>xp94</td><td>0.2629</td></tr><tr><td>xp92</td><td>xp94</td><td>0.2628</td></tr><tr><td>xp89</td><td>xp101</td><td>0.2624</td></tr><tr><td>xp92</td><td>xp101</td><td>0.2623</td></tr><tr><td>xp82</td><td>xp100</td><td>0.2622</td></tr><tr><td>xp93</td><td>xp96</td><td>0.2622</td></tr><tr><td>xp82</td><td>xp99</td><td>0.2621</td></tr><tr><td>xp89</td><td>xp95</td><td>0.2618</td></tr><tr><td>xp92</td><td>xp95</td><td>0.2618</td></tr><tr><td>xp95</td><td>xp97</td><td>0.2617</td></tr><tr><td>xp90</td><td>xp100</td><td>0.2614</td></tr><tr><td>xp93</td><td>xp94</td><td>0.2614</td></tr><tr><td>xp90</td><td>xp99</td><td>0.2613</td></tr><tr><td>xp82</td><td>xp96</td><td>0.2613</td></tr><tr><td>xp84</td><td>xp100</td><td>0.2613</td></tr><tr><td>xp84</td><td>xp99</td><td>0.2611</td></tr><tr><td>xp93</td><td>xp101</td><td>0.2611</td></tr><tr><td>xp98</td><td>xp100</td><td>0.2607</td></tr><tr><td>xp98</td><td>xp99</td><td>0.2604</td></tr><tr><td>xp90</td><td>xp96</td><td>0.2603</td></tr><tr><td>xp84</td><td>xp96</td><td>0.2603</td></tr><tr><td>xp89</td><td>xp97</td><td>0.2602</td></tr><tr><td>xp93</td><td>xp95</td><td>0.2601</td></tr><tr><td>xp93</td><td>xp97</td><td>0.2597</td></tr><tr><td>xp92</td><td>xp97</td><td>0.2597</td></tr><tr><td>xp91</td><td>xp99</td><td>0.2596</td></tr><tr><td>xp89</td><td>xp92</td><td>0.2595</td></tr><tr><td>xp91</td><td>xp100</td><td>0.2595</td></tr><tr><td>xp82</td><td>xp94</td><td>0.2595</td></tr><tr><td>xp96</td><td>xp98</td><td>0.2595</td></tr><tr><td>xp88</td><td>xp100</td><td>0.2591</td></tr><tr><td>xp88</td><td>xp99</td><td>0.2590</td></tr><tr><td>xp90</td><td>xp94</td><td>0.2589</td></tr><tr><td>xp87</td><td>xp100</td><td>0.2589</td></tr><tr><td>xp87</td><td>xp99</td><td>0.2588</td></tr><tr><td>xp84</td><td>xp94</td><td>0.2585</td></tr><tr><td>xp82</td><td>xp95</td><td>0.2585</td></tr><tr><td>xp89</td><td>xp93</td><td>0.2585</td></tr><tr><td>xp82</td><td>xp101</td><td>0.2585</td></tr><tr><td>xp91</td><td>xp96</td><td>0.2584</td></tr><tr><td>xp90</td><td>xp101</td><td>0.2582</td></tr><tr><td>xp88</td><td>xp96</td><td>0.2581</td></tr><tr><td>xp92</td><td>xp93</td><td>0.2580</td></tr><tr><td>xp87</td><td>xp96</td><td>0.2579</td></tr><tr><td>xp86</td><td>xp100</td><td>0.2579</td></tr><tr><td>xp86</td><td>xp99</td><td>0.2578</td></tr><tr><td>xp90</td><td>xp95</td><td>0.2578</td></tr><tr><td>xp84</td><td>xp101</td><td>0.2576</td></tr><tr><td>xp91</td><td>xp94</td><td>0.2576</td></tr><tr><td>xp84</td><td>xp95</td><td>0.2575</td></tr><tr><td>xp94</td><td>xp98</td><td>0.2574</td></tr><tr><td>xp91</td><td>xp101</td><td>0.2572</td></tr><tr><td>xp86</td><td>xp96</td><td>0.2569</td></tr><tr><td>xp98</td><td>xp101</td><td>0.2568</td></tr><tr><td>xp88</td><td>xp94</td><td>0.2566</td></tr><tr><td>xp95</td><td>xp98</td><td>0.2565</td></tr><tr><td>xp83</td><td>xp99</td><td>0.2565</td></tr><tr><td>xp83</td><td>xp100</td><td>0.2564</td></tr><tr><td>xp87</td><td>xp94</td><td>0.2564</td></tr><tr><td>xp82</td><td>xp89</td><td>0.2564</td></tr><tr><td>xp91</td><td>xp95</td><td>0.2564</td></tr><tr><td>xp82</td><td>xp92</td><td>0.2562</td></tr><tr><td>xp91</td><td>xp97</td><td>0.2559</td></tr><tr><td>xp88</td><td>xp101</td><td>0.2559</td></tr><tr><td>xp89</td><td>xp90</td><td>0.2558</td></tr><tr><td>xp90</td><td>xp97</td><td>0.2558</td></tr><tr><td>xp87</td><td>xp101</td><td>0.2556</td></tr><tr><td>xp90</td><td>xp92</td><td>0.2556</td></tr><tr><td>xp88</td><td>xp95</td><td>0.2556</td></tr><tr><td>xp86</td><td>xp94</td><td>0.2555</td></tr><tr><td>xp82</td><td>xp97</td><td>0.2554</td></tr><tr><td>xp83</td><td>xp96</td><td>0.2553</td></tr><tr><td>xp87</td><td>xp95</td><td>0.2553</td></tr><tr><td>xp84</td><td>xp89</td><td>0.2553</td></tr><tr><td>xp85</td><td>xp99</td><td>0.2553</td></tr><tr><td>xp85</td><td>xp100</td><td>0.2552</td></tr><tr><td>xp84</td><td>xp92</td><td>0.2552</td></tr><tr><td>xp89</td><td>xp91</td><td>0.2548</td></tr><tr><td>xp86</td><td>xp101</td><td>0.2547</td></tr><tr><td>xp83</td><td>xp94</td><td>0.2547</td></tr><tr><td>xp84</td><td>xp97</td><td>0.2545</td></tr><tr><td>xp82</td><td>xp93</td><td>0.2545</td></tr><tr><td>xp86</td><td>xp95</td><td>0.2544</td></tr><tr><td>xp90</td><td>xp93</td><td>0.2543</td></tr><tr><td>xp91</td><td>xp92</td><td>0.2543</td></tr><tr><td>xp83</td><td>xp101</td><td>0.2543</td></tr><tr><td>xp85</td><td>xp96</td><td>0.2541</td></tr><tr><td>xp92</td><td>xp98</td><td>0.2540</td></tr><tr><td>xp91</td><td>xp93</td><td>0.2539</td></tr><tr><td>xp89</td><td>xp98</td><td>0.2537</td></tr><tr><td>xp88</td><td>xp89</td><td>0.2536</td></tr><tr><td>xp85</td><td>xp94</td><td>0.2535</td></tr><tr><td>xp84</td><td>xp93</td><td>0.2535</td></tr><tr><td>xp83</td><td>xp95</td><td>0.2534</td></tr><tr><td>xp88</td><td>xp97</td><td>0.2534</td></tr><tr><td>xp88</td><td>xp92</td><td>0.2533</td></tr><tr><td>xp87</td><td>xp89</td><td>0.2533</td></tr><tr><td>xp83</td><td>xp97</td><td>0.2533</td></tr><tr><td>xp85</td><td>xp101</td><td>0.2532</td></tr><tr><td>xp87</td><td>xp92</td><td>0.2531</td></tr><tr><td>xp87</td><td>xp97</td><td>0.2530</td></tr><tr><td>xp97</td><td>xp98</td><td>0.2530</td></tr><tr><td>xp82</td><td>xp84</td><td>0.2527</td></tr><tr><td>xp82</td><td>xp90</td><td>0.2527</td></tr><tr><td>xp86</td><td>xp89</td><td>0.2525</td></tr><tr><td>xp86</td><td>xp97</td><td>0.2524</td></tr><tr><td>xp85</td><td>xp95</td><td>0.2522</td></tr><tr><td>xp86</td><td>xp92</td><td>0.2522</td></tr><tr><td>xp85</td><td>xp97</td><td>0.2522</td></tr><tr><td>xp83</td><td>xp89</td><td>0.2521</td></tr><tr><td>xp88</td><td>xp93</td><td>0.2521</td></tr><tr><td>xp93</td><td>xp98</td><td>0.2518</td></tr><tr><td>xp87</td><td>xp93</td><td>0.2518</td></tr><tr><td>xp84</td><td>xp90</td><td>0.2516</td></tr><tr><td>xp83</td><td>xp92</td><td>0.2515</td></tr><tr><td>xp83</td><td>xp93</td><td>0.2513</td></tr><tr><td>xp86</td><td>xp93</td><td>0.2511</td></tr><tr><td>xp85</td><td>xp89</td><td>0.2510</td></tr><tr><td>xp82</td><td>xp91</td><td>0.2510</td></tr><tr><td>xp82</td><td>xp98</td><td>0.2510</td></tr><tr><td>xp90</td><td>xp91</td><td>0.2508</td></tr><tr><td>xp82</td><td>xp88</td><td>0.2506</td></tr><tr><td>xp82</td><td>xp87</td><td>0.2504</td></tr><tr><td>xp85</td><td>xp92</td><td>0.2504</td></tr><tr><td>xp85</td><td>xp93</td><td>0.2502</td></tr><tr><td>xp84</td><td>xp98</td><td>0.2501</td></tr><tr><td>xp90</td><td>xp98</td><td>0.2500</td></tr><tr><td>xp84</td><td>xp91</td><td>0.2499</td></tr><tr><td>xp88</td><td>xp90</td><td>0.2498</td></tr><tr><td>xp87</td><td>xp90</td><td>0.2496</td></tr><tr><td>xp82</td><td>xp86</td><td>0.2496</td></tr><tr><td>xp84</td><td>xp88</td><td>0.2495</td></tr><tr><td>xp84</td><td>xp87</td><td>0.2493</td></tr><tr><td>xp86</td><td>xp90</td><td>0.2488</td></tr><tr><td>xp88</td><td>xp91</td><td>0.2485</td></tr><tr><td>xp84</td><td>xp86</td><td>0.2485</td></tr><tr><td>xp87</td><td>xp91</td><td>0.2482</td></tr><tr><td>xp82</td><td>xp83</td><td>0.2482</td></tr><tr><td>xp91</td><td>xp98</td><td>0.2481</td></tr><tr><td>xp83</td><td>xp90</td><td>0.2481</td></tr><tr><td>xp88</td><td>xp98</td><td>0.2479</td></tr><tr><td>xp83</td><td>xp91</td><td>0.2478</td></tr><tr><td>xp87</td><td>xp98</td><td>0.2477</td></tr><tr><td>xp86</td><td>xp91</td><td>0.2476</td></tr><tr><td>xp87</td><td>xp88</td><td>0.2475</td></tr><tr><td>xp83</td><td>xp84</td><td>0.2472</td></tr><tr><td>xp82</td><td>xp85</td><td>0.2471</td></tr><tr><td>xp85</td><td>xp90</td><td>0.2469</td></tr><tr><td>xp85</td><td>xp91</td><td>0.2467</td></tr><tr><td>xp86</td><td>xp98</td><td>0.2467</td></tr><tr><td>xp86</td><td>xp88</td><td>0.2467</td></tr><tr><td>xp86</td><td>xp87</td><td>0.2464</td></tr><tr><td>xp84</td><td>xp85</td><td>0.2460</td></tr><tr><td>xp83</td><td>xp88</td><td>0.2459</td></tr><tr><td>xp83</td><td>xp87</td><td>0.2456</td></tr><tr><td>xp83</td><td>xp98</td><td>0.2451</td></tr><tr><td>xp83</td><td>xp86</td><td>0.2449</td></tr><tr><td>xp85</td><td>xp88</td><td>0.2448</td></tr><tr><td>xp85</td><td>xp87</td><td>0.2445</td></tr><tr><td>xp83</td><td>xp85</td><td>0.2443</td></tr><tr><td>xp85</td><td>xp98</td><td>0.2439</td></tr><tr><td>xp85</td><td>xp86</td><td>0.2438</td></tr><tr><td>A93</td><td>xp96</td><td>-0.1195</td></tr><tr><td>A92</td><td>xp96</td><td>-0.1194</td></tr><tr><td>A95</td><td>xp96</td><td>-0.1194</td></tr><tr><td>A96</td><td>xp96</td><td>-0.1194</td></tr><tr><td>A94</td><td>xp96</td><td>-0.1193</td></tr><tr><td>R</td><td>xp96</td><td>-0.1193</td></tr><tr><td>A85</td><td>xp96</td><td>-0.1193</td></tr><tr><td>xp96</td><td>A101</td><td>-0.1193</td></tr><tr><td>xp96</td><td>A97</td><td>-0.1193</td></tr><tr><td>xp96</td><td>A100</td><td>-0.1193</td></tr><tr><td>xp96</td><td>A99</td><td>-0.1193</td></tr><tr><td>xp96</td><td>A98</td><td>-0.1193</td></tr><tr><td>A86</td><td>xp96</td><td>-0.1193</td></tr><tr><td>A87</td><td>xp96</td><td>-0.1193</td></tr><tr><td>A88</td><td>xp96</td><td>-0.1193</td></tr><tr><td>A91</td><td>xp96</td><td>-0.1193</td></tr><tr><td>A90</td><td>xp96</td><td>-0.1193</td></tr><tr><td>A83</td><td>xp96</td><td>-0.1192</td></tr><tr><td>A84</td><td>xp96</td><td>-0.1192</td></tr><tr><td>A89</td><td>xp96</td><td>-0.1192</td></tr><tr><td>beta</td><td>xp96</td><td>0.1191</td></tr><tr><td>A82</td><td>xp96</td><td>-0.1191</td></tr><tr><td>A82</td><td>xp98</td><td>-0.1186</td></tr><tr><td>beta</td><td>xp98</td><td>0.1186</td></tr><tr><td>A92</td><td>xp98</td><td>-0.1186</td></tr><tr><td>A89</td><td>xp98</td><td>-0.1186</td></tr><tr><td>A91</td><td>xp98</td><td>-0.1186</td></tr><tr><td>R</td><td>xp98</td><td>-0.1186</td></tr><tr><td>A93</td><td>xp98</td><td>-0.1185</td></tr><tr><td>A90</td><td>xp98</td><td>-0.1185</td></tr><tr><td>A96</td><td>xp98</td><td>-0.1185</td></tr><tr><td>A84</td><td>xp98</td><td>-0.1185</td></tr><tr><td>xp98</td><td>A101</td><td>-0.1185</td></tr><tr><td>xp98</td><td>A100</td><td>-0.1185</td></tr><tr><td>xp98</td><td>A99</td><td>-0.1185</td></tr><tr><td>A94</td><td>xp98</td><td>-0.1185</td></tr><tr><td>A85</td><td>xp98</td><td>-0.1185</td></tr><tr><td>A87</td><td>xp98</td><td>-0.1185</td></tr><tr><td>A97</td><td>xp98</td><td>-0.1185</td></tr><tr><td>A98</td><td>xp98</td><td>-0.1185</td></tr><tr><td>A83</td><td>xp98</td><td>-0.1185</td></tr><tr><td>A95</td><td>xp98</td><td>-0.1185</td></tr><tr><td>A86</td><td>xp98</td><td>-0.1185</td></tr><tr><td>A88</td><td>xp98</td><td>-0.1184</td></tr><tr><td>A88</td><td>xp100</td><td>-0.1174</td></tr><tr><td>A86</td><td>xp100</td><td>-0.1174</td></tr><tr><td>A95</td><td>xp100</td><td>-0.1174</td></tr><tr><td>xp100</td><td>A101</td><td>-0.1174</td></tr><tr><td>A83</td><td>xp100</td><td>-0.1174</td></tr><tr><td>A97</td><td>xp100</td><td>-0.1173</td></tr><tr><td>A87</td><td>xp100</td><td>-0.1173</td></tr><tr><td>A98</td><td>xp100</td><td>-0.1173</td></tr><tr><td>A94</td><td>xp100</td><td>-0.1173</td></tr><tr><td>A85</td><td>xp100</td><td>-0.1173</td></tr><tr><td>A84</td><td>xp100</td><td>-0.1173</td></tr><tr><td>A96</td><td>xp100</td><td>-0.1173</td></tr><tr><td>A90</td><td>xp100</td><td>-0.1173</td></tr><tr><td>A93</td><td>xp100</td><td>-0.1173</td></tr><tr><td>R</td><td>xp100</td><td>-0.1173</td></tr><tr><td>A91</td><td>xp100</td><td>-0.1173</td></tr><tr><td>A89</td><td>xp100</td><td>-0.1173</td></tr><tr><td>beta</td><td>xp100</td><td>0.1173</td></tr><tr><td>A99</td><td>xp100</td><td>-0.1173</td></tr><tr><td>A92</td><td>xp100</td><td>-0.1172</td></tr><tr><td>A100</td><td>xp100</td><td>-0.1172</td></tr><tr><td>A82</td><td>xp100</td><td>-0.1172</td></tr><tr><td>beta</td><td>xp99</td><td>0.1136</td></tr><tr><td>xp99</td><td>A101</td><td>-0.1135</td></tr><tr><td>xp99</td><td>A100</td><td>-0.1135</td></tr><tr><td>A96</td><td>xp99</td><td>-0.1135</td></tr><tr><td>A82</td><td>xp99</td><td>-0.1135</td></tr><tr><td>A94</td><td>xp99</td><td>-0.1135</td></tr><tr><td>A98</td><td>xp99</td><td>-0.1135</td></tr><tr><td>A89</td><td>xp99</td><td>-0.1135</td></tr><tr><td>A91</td><td>xp99</td><td>-0.1135</td></tr><tr><td>A97</td><td>xp99</td><td>-0.1135</td></tr><tr><td>A92</td><td>xp99</td><td>-0.1135</td></tr><tr><td>A84</td><td>xp99</td><td>-0.1135</td></tr><tr><td>A90</td><td>xp99</td><td>-0.1135</td></tr><tr><td>R</td><td>xp99</td><td>-0.1135</td></tr><tr><td>A86</td><td>xp99</td><td>-0.1135</td></tr><tr><td>A85</td><td>xp99</td><td>-0.1135</td></tr><tr><td>A83</td><td>xp99</td><td>-0.1135</td></tr><tr><td>A95</td><td>xp99</td><td>-0.1135</td></tr><tr><td>A93</td><td>xp99</td><td>-0.1135</td></tr><tr><td>A87</td><td>xp99</td><td>-0.1135</td></tr><tr><td>A88</td><td>xp99</td><td>-0.1135</td></tr><tr><td>A99</td><td>xp99</td><td>-0.1135</td></tr><tr><td>beta</td><td>xp82</td><td>0.1083</td></tr><tr><td>xp82</td><td>A101</td><td>-0.1083</td></tr><tr><td>xp82</td><td>A97</td><td>-0.1083</td></tr><tr><td>xp82</td><td>A100</td><td>-0.1083</td></tr><tr><td>xp82</td><td>A96</td><td>-0.1083</td></tr><tr><td>xp82</td><td>A99</td><td>-0.1083</td></tr><tr><td>xp82</td><td>A98</td><td>-0.1083</td></tr><tr><td>xp82</td><td>A95</td><td>-0.1083</td></tr><tr><td>xp82</td><td>A92</td><td>-0.1083</td></tr><tr><td>xp82</td><td>A89</td><td>-0.1083</td></tr><tr><td>xp82</td><td>A94</td><td>-0.1083</td></tr><tr><td>xp82</td><td>A91</td><td>-0.1083</td></tr><tr><td>xp82</td><td>A85</td><td>-0.1083</td></tr><tr><td>xp82</td><td>A90</td><td>-0.1083</td></tr><tr><td>xp82</td><td>A83</td><td>-0.1083</td></tr><tr><td>xp82</td><td>A93</td><td>-0.1083</td></tr><tr><td>xp82</td><td>A88</td><td>-0.1083</td></tr><tr><td>xp82</td><td>A84</td><td>-0.1083</td></tr><tr><td>xp82</td><td>A87</td><td>-0.1083</td></tr><tr><td>xp82</td><td>A86</td><td>-0.1083</td></tr><tr><td>R</td><td>xp82</td><td>-0.1083</td></tr><tr><td>A82</td><td>xp82</td><td>-0.1083</td></tr><tr><td>beta</td><td>xp84</td><td>0.1077</td></tr><tr><td>xp84</td><td>A101</td><td>-0.1077</td></tr><tr><td>xp84</td><td>A97</td><td>-0.1077</td></tr><tr><td>xp84</td><td>A100</td><td>-0.1077</td></tr><tr><td>xp84</td><td>A96</td><td>-0.1077</td></tr><tr><td>xp84</td><td>A99</td><td>-0.1077</td></tr><tr><td>xp84</td><td>A98</td><td>-0.1077</td></tr><tr><td>xp84</td><td>A95</td><td>-0.1077</td></tr><tr><td>xp84</td><td>A92</td><td>-0.1077</td></tr><tr><td>xp84</td><td>A89</td><td>-0.1077</td></tr><tr><td>xp84</td><td>A94</td><td>-0.1077</td></tr><tr><td>xp84</td><td>A91</td><td>-0.1077</td></tr><tr><td>xp84</td><td>A85</td><td>-0.1077</td></tr><tr><td>xp84</td><td>A90</td><td>-0.1077</td></tr><tr><td>xp84</td><td>A93</td><td>-0.1077</td></tr><tr><td>xp84</td><td>A88</td><td>-0.1077</td></tr><tr><td>xp84</td><td>A87</td><td>-0.1077</td></tr><tr><td>xp84</td><td>A86</td><td>-0.1077</td></tr><tr><td>A83</td><td>xp84</td><td>-0.1077</td></tr><tr><td>A82</td><td>xp84</td><td>-0.1077</td></tr><tr><td>R</td><td>xp84</td><td>-0.1077</td></tr><tr><td>A84</td><td>xp84</td><td>-0.1077</td></tr><tr><td>A88</td><td>xp95</td><td>-0.1025</td></tr><tr><td>A83</td><td>xp95</td><td>-0.1025</td></tr><tr><td>A84</td><td>xp95</td><td>-0.1025</td></tr><tr><td>beta</td><td>xp95</td><td>0.1025</td></tr><tr><td>xp95</td><td>A101</td><td>-0.1025</td></tr><tr><td>xp95</td><td>A97</td><td>-0.1025</td></tr><tr><td>xp95</td><td>A100</td><td>-0.1025</td></tr><tr><td>xp95</td><td>A96</td><td>-0.1025</td></tr><tr><td>xp95</td><td>A99</td><td>-0.1025</td></tr><tr><td>xp95</td><td>A98</td><td>-0.1025</td></tr><tr><td>A86</td><td>xp95</td><td>-0.1025</td></tr><tr><td>A92</td><td>xp95</td><td>-0.1025</td></tr><tr><td>A87</td><td>xp95</td><td>-0.1024</td></tr><tr><td>A85</td><td>xp95</td><td>-0.1024</td></tr><tr><td>A90</td><td>xp95</td><td>-0.1024</td></tr><tr><td>A89</td><td>xp95</td><td>-0.1024</td></tr><tr><td>A82</td><td>xp95</td><td>-0.1024</td></tr><tr><td>R</td><td>xp95</td><td>-0.1024</td></tr><tr><td>A91</td><td>xp95</td><td>-0.1024</td></tr><tr><td>A93</td><td>xp95</td><td>-0.1024</td></tr><tr><td>A95</td><td>xp95</td><td>-0.1024</td></tr><tr><td>A94</td><td>xp95</td><td>-0.1024</td></tr></table>"
      ],
      "text/plain": [
       "<lmfit.minimizer.MinimizerResult at 0x159c925de88>"
      ]
     },
     "execution_count": 70,
     "metadata": {},
     "output_type": "execute_result"
    }
   ],
   "source": [
    "# report_fit(result)\n",
    "xwFit['8_20'][0].result"
   ]
  },
  {
   "cell_type": "code",
   "execution_count": 99,
   "metadata": {
    "Collapsed": "false",
    "collapsed": true,
    "hidden": true
   },
   "outputs": [
    {
     "data": {
      "text/html": [
       "<h2>Fit Statistics</h2><table><tr><td>fitting method</td><td>leastsq</td><td></td></tr><tr><td># function evals</td><td>180</td><td></td></tr><tr><td># data points</td><td>2400</td><td></td></tr><tr><td># variables</td><td>43</td><td></td></tr><tr><td>chi-square</td><td> 4475.45946</td><td></td></tr><tr><td>reduced chi-square</td><td> 1.89879485</td><td></td></tr><tr><td>Akaike info crit.</td><td> 1581.53668</td><td></td></tr><tr><td>Bayesian info crit.</td><td> 1830.21531</td><td></td></tr></table><h2>Variables</h2><table><tr><th> name </th><th> value </th><th> standard error </th><th> relative error </th><th> initial value </th><th> min </th><th> max </th><th> vary </th></tr><tr><td> A82 </td><td>  158144.842 </td><td>  1702.18377 </td><td> (1.08%) </td><td> 522017.30702153064 </td><td>  0.00000000 </td><td>         inf </td><td> True </td></tr><tr><td> alpha </td><td>  126.532104 </td><td>  0.56514520 </td><td> (0.45%) </td><td> 127.55662170975839 </td><td>  0.00000000 </td><td>         inf </td><td> True </td></tr><tr><td> beta </td><td>  1.0000e-10 </td><td>  0.00000000 </td><td> (0.00%) </td><td> 1e-10 </td><td>  0.00000000 </td><td>         inf </td><td> False </td></tr><tr><td> R </td><td>  1.0000e-10 </td><td>  0.00000000 </td><td> (0.00%) </td><td> 1e-10 </td><td>  0.00000000 </td><td>         inf </td><td> False </td></tr><tr><td> gamma </td><td>  3.9792e-04 </td><td>  2.0183e-05 </td><td> (5.07%) </td><td> 0.0003532392872411805 </td><td>  0.00000000 </td><td>         inf </td><td> True </td></tr><tr><td> sigma </td><td>  0.00517279 </td><td>  7.3150e-05 </td><td> (1.41%) </td><td> 0.005299430203852484 </td><td>  0.00000000 </td><td>         inf </td><td> True </td></tr><tr><td> k </td><td>  0.05000000 </td><td>  0.00000000 </td><td> (0.00%) </td><td> 0.05 </td><td>  0.00000000 </td><td>         inf </td><td> False </td></tr><tr><td> xp82 </td><td> -8.01778653 </td><td>  1.6089e-04 </td><td> (0.00%) </td><td> -8.017673271873436 </td><td>        -inf </td><td>         inf </td><td> True </td></tr><tr><td> A83 </td><td>  154141.174 </td><td>  1694.39745 </td><td> (1.10%) </td><td> 508766.13769398094 </td><td>  0.00000000 </td><td>         inf </td><td> True </td></tr><tr><td> xp83 </td><td> -8.01778210 </td><td>  1.6297e-04 </td><td> (0.00%) </td><td> -8.017669256363257 </td><td>        -inf </td><td>         inf </td><td> True </td></tr><tr><td> A84 </td><td>  154151.003 </td><td>  1695.47823 </td><td> (1.10%) </td><td> 508652.26475301955 </td><td>  0.00000000 </td><td>         inf </td><td> True </td></tr><tr><td> xp84 </td><td> -8.01777889 </td><td>  1.6299e-04 </td><td> (0.00%) </td><td> -8.017664831800586 </td><td>        -inf </td><td>         inf </td><td> True </td></tr><tr><td> A85 </td><td>  153127.959 </td><td>  1682.48836 </td><td> (1.10%) </td><td> 505384.7049409609 </td><td>  0.00000000 </td><td>         inf </td><td> True </td></tr><tr><td> xp85 </td><td> -8.01781945 </td><td>  1.6297e-04 </td><td> (0.00%) </td><td> -8.017706139553738 </td><td>        -inf </td><td>         inf </td><td> True </td></tr><tr><td> A86 </td><td>  152499.425 </td><td>  1683.55563 </td><td> (1.10%) </td><td> 503185.93695491744 </td><td>  0.00000000 </td><td>         inf </td><td> True </td></tr><tr><td> xp86 </td><td> -8.01757975 </td><td>  1.6402e-04 </td><td> (0.00%) </td><td> -8.017466367728765 </td><td>        -inf </td><td>         inf </td><td> True </td></tr><tr><td> A87 </td><td>  151183.104 </td><td>  1676.30333 </td><td> (1.11%) </td><td> 498884.13976978447 </td><td>  0.00000000 </td><td>         inf </td><td> True </td></tr><tr><td> xp87 </td><td> -8.01776547 </td><td>  1.6349e-04 </td><td> (0.00%) </td><td> -8.01765347118276 </td><td>        -inf </td><td>         inf </td><td> True </td></tr><tr><td> A88 </td><td>  151248.377 </td><td>  1673.07338 </td><td> (1.11%) </td><td> 499325.903601057 </td><td>  0.00000000 </td><td>         inf </td><td> True </td></tr><tr><td> xp88 </td><td> -8.01771498 </td><td>  1.6364e-04 </td><td> (0.00%) </td><td> -8.017602816193303 </td><td>        -inf </td><td>         inf </td><td> True </td></tr><tr><td> A89 </td><td>  152845.440 </td><td>  1670.59649 </td><td> (1.09%) </td><td> 504489.9259206249 </td><td>  0.00000000 </td><td>         inf </td><td> True </td></tr><tr><td> xp89 </td><td> -8.01790974 </td><td>  1.6073e-04 </td><td> (0.00%) </td><td> -8.017796729533423 </td><td>        -inf </td><td>         inf </td><td> True </td></tr><tr><td> A90 </td><td>  150751.490 </td><td>  1668.27011 </td><td> (1.11%) </td><td> 497501.2874031899 </td><td>  0.00000000 </td><td>         inf </td><td> True </td></tr><tr><td> xp90 </td><td> -8.01762740 </td><td>  1.6355e-04 </td><td> (0.00%) </td><td> -8.017513753262136 </td><td>        -inf </td><td>         inf </td><td> True </td></tr><tr><td> A91 </td><td>  150170.268 </td><td>  1661.97200 </td><td> (1.11%) </td><td> 495642.88436009386 </td><td>  0.00000000 </td><td>         inf </td><td> True </td></tr><tr><td> xp91 </td><td> -8.01773121 </td><td>  1.6358e-04 </td><td> (0.00%) </td><td> -8.017617144125463 </td><td>        -inf </td><td>         inf </td><td> True </td></tr><tr><td> A92 </td><td>  146929.357 </td><td>  1659.27527 </td><td> (1.13%) </td><td> 485094.81519572844 </td><td>  0.00000000 </td><td>         inf </td><td> True </td></tr><tr><td> xp92 </td><td> -8.01764710 </td><td>  1.6372e-04 </td><td> (0.00%) </td><td> -8.017531204221365 </td><td>        -inf </td><td>         inf </td><td> True </td></tr><tr><td> A93 </td><td>  148502.776 </td><td>  1654.80870 </td><td> (1.11%) </td><td> 490153.6383430395 </td><td>  0.00000000 </td><td>         inf </td><td> True </td></tr><tr><td> xp93 </td><td> -8.01776844 </td><td>  1.6211e-04 </td><td> (0.00%) </td><td> -8.017653034055359 </td><td>        -inf </td><td>         inf </td><td> True </td></tr><tr><td> A94 </td><td>  146637.570 </td><td>  1648.17033 </td><td> (1.12%) </td><td> 484055.6859053925 </td><td>  0.00000000 </td><td>         inf </td><td> True </td></tr><tr><td> xp94 </td><td> -8.01771662 </td><td>  1.6199e-04 </td><td> (0.00%) </td><td> -8.017601684715633 </td><td>        -inf </td><td>         inf </td><td> True </td></tr><tr><td> A95 </td><td>  144150.825 </td><td>  1628.29870 </td><td> (1.13%) </td><td> 475688.99716150784 </td><td>  0.00000000 </td><td>         inf </td><td> True </td></tr><tr><td> xp95 </td><td> -8.01767145 </td><td>  1.6345e-04 </td><td> (0.00%) </td><td> -8.017555170199278 </td><td>        -inf </td><td>         inf </td><td> True </td></tr><tr><td> A96 </td><td>  145017.126 </td><td>  1636.09424 </td><td> (1.13%) </td><td> 478553.76457489 </td><td>  0.00000000 </td><td>         inf </td><td> True </td></tr><tr><td> xp96 </td><td> -8.01752591 </td><td>  1.6341e-04 </td><td> (0.00%) </td><td> -8.017409895680334 </td><td>        -inf </td><td>         inf </td><td> True </td></tr><tr><td> A97 </td><td>  143067.921 </td><td>  1626.47748 </td><td> (1.14%) </td><td> 472291.6632756708 </td><td>  0.00000000 </td><td>         inf </td><td> True </td></tr><tr><td> xp97 </td><td> -8.01729902 </td><td>  1.6552e-04 </td><td> (0.00%) </td><td> -8.017179924620132 </td><td>        -inf </td><td>         inf </td><td> True </td></tr><tr><td> A98 </td><td>  142790.222 </td><td>  1742.42262 </td><td> (1.22%) </td><td> 471503.2601999943 </td><td>  0.00000000 </td><td>         inf </td><td> True </td></tr><tr><td> xp98 </td><td> -8.01723958 </td><td>  1.7310e-04 </td><td> (0.00%) </td><td> -8.01712049747778 </td><td>        -inf </td><td>         inf </td><td> True </td></tr><tr><td> A99 </td><td>  142641.613 </td><td>  1620.53966 </td><td> (1.14%) </td><td> 471204.9341968827 </td><td>  0.00000000 </td><td>         inf </td><td> True </td></tr><tr><td> xp99 </td><td> -8.01745845 </td><td>  1.6403e-04 </td><td> (0.00%) </td><td> -8.017342227159054 </td><td>        -inf </td><td>         inf </td><td> True </td></tr><tr><td> A100 </td><td>  140433.140 </td><td>  1613.33995 </td><td> (1.15%) </td><td> 463646.0381324015 </td><td>  0.00000000 </td><td>         inf </td><td> True </td></tr><tr><td> xp100 </td><td> -8.01755713 </td><td>  1.6489e-04 </td><td> (0.00%) </td><td> -8.017437973666194 </td><td>        -inf </td><td>         inf </td><td> True </td></tr><tr><td> A101 </td><td>  137610.908 </td><td>  1598.54123 </td><td> (1.16%) </td><td> 454337.2104743294 </td><td>  0.00000000 </td><td>         inf </td><td> True </td></tr><tr><td> xp101 </td><td> -8.01737854 </td><td>  1.6637e-04 </td><td> (0.00%) </td><td> -8.017261827107124 </td><td>        -inf </td><td>         inf </td><td> True </td></tr></table><h2>Correlations (unreported correlations are < 0.100)</h2><table><tr><td>alpha</td><td>sigma</td><td>0.6386</td></tr><tr><td>alpha</td><td>xp99</td><td>0.4918</td></tr><tr><td>alpha</td><td>xp100</td><td>0.4910</td></tr><tr><td>alpha</td><td>xp97</td><td>0.4906</td></tr><tr><td>alpha</td><td>xp94</td><td>0.4901</td></tr><tr><td>alpha</td><td>xp96</td><td>0.4900</td></tr><tr><td>alpha</td><td>xp101</td><td>0.4881</td></tr><tr><td>alpha</td><td>xp89</td><td>0.4876</td></tr><tr><td>alpha</td><td>xp95</td><td>0.4873</td></tr><tr><td>alpha</td><td>xp93</td><td>0.4870</td></tr><tr><td>alpha</td><td>xp92</td><td>0.4845</td></tr><tr><td>alpha</td><td>xp91</td><td>0.4811</td></tr><tr><td>alpha</td><td>xp82</td><td>0.4809</td></tr><tr><td>alpha</td><td>xp90</td><td>0.4800</td></tr><tr><td>alpha</td><td>xp84</td><td>0.4779</td></tr><tr><td>alpha</td><td>xp83</td><td>0.4778</td></tr><tr><td>alpha</td><td>xp85</td><td>0.4761</td></tr><tr><td>alpha</td><td>xp88</td><td>0.4761</td></tr><tr><td>alpha</td><td>xp87</td><td>0.4755</td></tr><tr><td>alpha</td><td>xp86</td><td>0.4750</td></tr><tr><td>alpha</td><td>xp98</td><td>0.4686</td></tr><tr><td>sigma</td><td>xp100</td><td>0.3853</td></tr><tr><td>gamma</td><td>sigma</td><td>-0.3847</td></tr><tr><td>sigma</td><td>xp101</td><td>0.3831</td></tr><tr><td>sigma</td><td>xp97</td><td>0.3823</td></tr><tr><td>sigma</td><td>xp94</td><td>0.3821</td></tr><tr><td>sigma</td><td>xp99</td><td>0.3820</td></tr><tr><td>sigma</td><td>xp96</td><td>0.3805</td></tr><tr><td>sigma</td><td>xp95</td><td>0.3782</td></tr><tr><td>sigma</td><td>xp92</td><td>0.3754</td></tr><tr><td>sigma</td><td>xp93</td><td>0.3753</td></tr><tr><td>sigma</td><td>xp89</td><td>0.3742</td></tr><tr><td>sigma</td><td>xp98</td><td>0.3669</td></tr><tr><td>sigma</td><td>xp91</td><td>0.3665</td></tr><tr><td>sigma</td><td>xp90</td><td>0.3642</td></tr><tr><td>sigma</td><td>xp83</td><td>0.3619</td></tr><tr><td>sigma</td><td>xp84</td><td>0.3614</td></tr><tr><td>sigma</td><td>xp82</td><td>0.3594</td></tr><tr><td>sigma</td><td>xp85</td><td>0.3593</td></tr><tr><td>sigma</td><td>xp88</td><td>0.3592</td></tr><tr><td>sigma</td><td>xp87</td><td>0.3589</td></tr><tr><td>sigma</td><td>xp86</td><td>0.3571</td></tr><tr><td>xp99</td><td>xp100</td><td>0.2534</td></tr><tr><td>xp97</td><td>xp100</td><td>0.2528</td></tr><tr><td>xp97</td><td>xp99</td><td>0.2528</td></tr><tr><td>xp100</td><td>xp101</td><td>0.2524</td></tr><tr><td>xp99</td><td>xp101</td><td>0.2522</td></tr><tr><td>xp96</td><td>xp100</td><td>0.2522</td></tr><tr><td>xp96</td><td>xp99</td><td>0.2521</td></tr><tr><td>xp94</td><td>xp100</td><td>0.2520</td></tr><tr><td>xp94</td><td>xp99</td><td>0.2519</td></tr><tr><td>xp97</td><td>xp101</td><td>0.2517</td></tr><tr><td>xp96</td><td>xp97</td><td>0.2515</td></tr><tr><td>xp94</td><td>xp97</td><td>0.2514</td></tr><tr><td>xp96</td><td>xp101</td><td>0.2510</td></tr><tr><td>xp94</td><td>xp101</td><td>0.2508</td></tr><tr><td>xp94</td><td>xp96</td><td>0.2508</td></tr><tr><td>xp95</td><td>xp100</td><td>0.2507</td></tr><tr><td>xp95</td><td>xp99</td><td>0.2506</td></tr><tr><td>xp95</td><td>xp97</td><td>0.2501</td></tr><tr><td>xp93</td><td>xp100</td><td>0.2497</td></tr><tr><td>xp93</td><td>xp99</td><td>0.2496</td></tr><tr><td>xp89</td><td>xp100</td><td>0.2496</td></tr><tr><td>xp89</td><td>xp99</td><td>0.2496</td></tr><tr><td>xp95</td><td>xp101</td><td>0.2495</td></tr><tr><td>xp95</td><td>xp96</td><td>0.2494</td></tr><tr><td>xp94</td><td>xp95</td><td>0.2493</td></tr><tr><td>xp93</td><td>xp97</td><td>0.2491</td></tr><tr><td>xp89</td><td>xp97</td><td>0.2490</td></tr><tr><td>xp92</td><td>xp100</td><td>0.2488</td></tr><tr><td>xp92</td><td>xp99</td><td>0.2488</td></tr><tr><td>xp93</td><td>xp96</td><td>0.2485</td></tr><tr><td>xp89</td><td>xp96</td><td>0.2484</td></tr><tr><td>xp93</td><td>xp101</td><td>0.2484</td></tr><tr><td>xp93</td><td>xp94</td><td>0.2484</td></tr><tr><td>xp89</td><td>xp94</td><td>0.2484</td></tr><tr><td>xp89</td><td>xp101</td><td>0.2483</td></tr><tr><td>xp92</td><td>xp97</td><td>0.2482</td></tr><tr><td>xp92</td><td>xp101</td><td>0.2476</td></tr><tr><td>xp92</td><td>xp96</td><td>0.2476</td></tr><tr><td>xp92</td><td>xp94</td><td>0.2475</td></tr><tr><td>xp93</td><td>xp95</td><td>0.2470</td></tr><tr><td>xp89</td><td>xp95</td><td>0.2470</td></tr><tr><td>xp89</td><td>xp93</td><td>0.2462</td></tr><tr><td>xp92</td><td>xp95</td><td>0.2462</td></tr><tr><td>xp91</td><td>xp100</td><td>0.2459</td></tr><tr><td>xp91</td><td>xp99</td><td>0.2459</td></tr><tr><td>xp91</td><td>xp97</td><td>0.2454</td></tr><tr><td>xp92</td><td>xp93</td><td>0.2453</td></tr><tr><td>xp89</td><td>xp92</td><td>0.2453</td></tr><tr><td>xp90</td><td>xp100</td><td>0.2451</td></tr><tr><td>xp90</td><td>xp99</td><td>0.2451</td></tr><tr><td>xp91</td><td>xp96</td><td>0.2448</td></tr><tr><td>xp91</td><td>xp94</td><td>0.2447</td></tr><tr><td>xp91</td><td>xp101</td><td>0.2447</td></tr><tr><td>xp90</td><td>xp97</td><td>0.2445</td></tr><tr><td>xp82</td><td>xp99</td><td>0.2444</td></tr><tr><td>xp82</td><td>xp100</td><td>0.2444</td></tr><tr><td>xp90</td><td>xp96</td><td>0.2440</td></tr><tr><td>xp90</td><td>xp94</td><td>0.2439</td></tr><tr><td>xp82</td><td>xp97</td><td>0.2439</td></tr><tr><td>xp90</td><td>xp101</td><td>0.2439</td></tr><tr><td>xp83</td><td>xp100</td><td>0.2436</td></tr><tr><td>xp83</td><td>xp99</td><td>0.2436</td></tr><tr><td>xp84</td><td>xp100</td><td>0.2436</td></tr><tr><td>xp84</td><td>xp99</td><td>0.2436</td></tr><tr><td>xp91</td><td>xp95</td><td>0.2434</td></tr><tr><td>xp82</td><td>xp96</td><td>0.2433</td></tr><tr><td>xp82</td><td>xp94</td><td>0.2433</td></tr><tr><td>xp83</td><td>xp97</td><td>0.2431</td></tr><tr><td>xp82</td><td>xp101</td><td>0.2431</td></tr><tr><td>xp84</td><td>xp97</td><td>0.2430</td></tr><tr><td>xp88</td><td>xp99</td><td>0.2427</td></tr><tr><td>xp88</td><td>xp100</td><td>0.2427</td></tr><tr><td>xp89</td><td>xp91</td><td>0.2426</td></tr><tr><td>xp85</td><td>xp99</td><td>0.2426</td></tr><tr><td>xp85</td><td>xp100</td><td>0.2426</td></tr><tr><td>xp91</td><td>xp93</td><td>0.2426</td></tr><tr><td>xp90</td><td>xp95</td><td>0.2426</td></tr><tr><td>xp83</td><td>xp96</td><td>0.2425</td></tr><tr><td>xp83</td><td>xp94</td><td>0.2425</td></tr><tr><td>xp84</td><td>xp96</td><td>0.2425</td></tr><tr><td>xp84</td><td>xp94</td><td>0.2425</td></tr><tr><td>xp83</td><td>xp101</td><td>0.2424</td></tr><tr><td>xp87</td><td>xp99</td><td>0.2423</td></tr><tr><td>xp87</td><td>xp100</td><td>0.2423</td></tr><tr><td>xp84</td><td>xp101</td><td>0.2423</td></tr><tr><td>xp88</td><td>xp97</td><td>0.2421</td></tr><tr><td>xp85</td><td>xp97</td><td>0.2421</td></tr><tr><td>xp82</td><td>xp95</td><td>0.2420</td></tr><tr><td>xp89</td><td>xp90</td><td>0.2418</td></tr><tr><td>xp87</td><td>xp97</td><td>0.2418</td></tr><tr><td>xp86</td><td>xp99</td><td>0.2418</td></tr><tr><td>xp90</td><td>xp93</td><td>0.2418</td></tr><tr><td>xp86</td><td>xp100</td><td>0.2418</td></tr><tr><td>xp98</td><td>xp100</td><td>0.2417</td></tr><tr><td>xp91</td><td>xp92</td><td>0.2417</td></tr><tr><td>xp98</td><td>xp99</td><td>0.2416</td></tr><tr><td>xp88</td><td>xp96</td><td>0.2416</td></tr><tr><td>xp88</td><td>xp94</td><td>0.2416</td></tr><tr><td>xp85</td><td>xp96</td><td>0.2415</td></tr><tr><td>xp85</td><td>xp94</td><td>0.2415</td></tr><tr><td>xp88</td><td>xp101</td><td>0.2414</td></tr><tr><td>xp82</td><td>xp89</td><td>0.2413</td></tr><tr><td>xp85</td><td>xp101</td><td>0.2413</td></tr><tr><td>xp87</td><td>xp96</td><td>0.2413</td></tr><tr><td>xp82</td><td>xp93</td><td>0.2413</td></tr><tr><td>xp86</td><td>xp97</td><td>0.2413</td></tr><tr><td>xp87</td><td>xp94</td><td>0.2412</td></tr><tr><td>xp83</td><td>xp95</td><td>0.2411</td></tr><tr><td>xp97</td><td>xp98</td><td>0.2411</td></tr><tr><td>xp87</td><td>xp101</td><td>0.2411</td></tr><tr><td>xp84</td><td>xp95</td><td>0.2411</td></tr><tr><td>xp90</td><td>xp92</td><td>0.2409</td></tr><tr><td>xp86</td><td>xp96</td><td>0.2408</td></tr><tr><td>xp86</td><td>xp94</td><td>0.2407</td></tr><tr><td>xp98</td><td>xp101</td><td>0.2406</td></tr><tr><td>xp86</td><td>xp101</td><td>0.2405</td></tr><tr><td>xp96</td><td>xp98</td><td>0.2405</td></tr><tr><td>xp83</td><td>xp89</td><td>0.2405</td></tr><tr><td>xp84</td><td>xp89</td><td>0.2404</td></tr><tr><td>xp83</td><td>xp93</td><td>0.2404</td></tr><tr><td>xp84</td><td>xp93</td><td>0.2404</td></tr><tr><td>xp94</td><td>xp98</td><td>0.2403</td></tr><tr><td>xp82</td><td>xp92</td><td>0.2403</td></tr><tr><td>xp88</td><td>xp95</td><td>0.2402</td></tr><tr><td>xp85</td><td>xp95</td><td>0.2401</td></tr><tr><td>xp87</td><td>xp95</td><td>0.2399</td></tr><tr><td>xp88</td><td>xp89</td><td>0.2395</td></tr><tr><td>xp88</td><td>xp93</td><td>0.2395</td></tr><tr><td>xp83</td><td>xp92</td><td>0.2395</td></tr><tr><td>xp85</td><td>xp89</td><td>0.2395</td></tr><tr><td>xp84</td><td>xp92</td><td>0.2394</td></tr><tr><td>xp85</td><td>xp93</td><td>0.2394</td></tr><tr><td>xp86</td><td>xp95</td><td>0.2394</td></tr><tr><td>xp87</td><td>xp89</td><td>0.2392</td></tr><tr><td>xp87</td><td>xp93</td><td>0.2392</td></tr><tr><td>xp95</td><td>xp98</td><td>0.2391</td></tr><tr><td>xp86</td><td>xp89</td><td>0.2387</td></tr><tr><td>xp86</td><td>xp93</td><td>0.2387</td></tr><tr><td>xp88</td><td>xp92</td><td>0.2386</td></tr><tr><td>xp85</td><td>xp92</td><td>0.2385</td></tr><tr><td>xp90</td><td>xp91</td><td>0.2383</td></tr><tr><td>xp87</td><td>xp92</td><td>0.2382</td></tr><tr><td>xp93</td><td>xp98</td><td>0.2381</td></tr><tr><td>xp89</td><td>xp98</td><td>0.2380</td></tr><tr><td>xp82</td><td>xp91</td><td>0.2379</td></tr><tr><td>xp86</td><td>xp92</td><td>0.2377</td></tr><tr><td>xp92</td><td>xp98</td><td>0.2373</td></tr><tr><td>xp82</td><td>xp90</td><td>0.2372</td></tr><tr><td>xp83</td><td>xp91</td><td>0.2370</td></tr><tr><td>xp84</td><td>xp91</td><td>0.2370</td></tr><tr><td>xp83</td><td>xp90</td><td>0.2362</td></tr><tr><td>xp84</td><td>xp90</td><td>0.2362</td></tr><tr><td>xp88</td><td>xp91</td><td>0.2361</td></tr><tr><td>xp85</td><td>xp91</td><td>0.2360</td></tr><tr><td>xp82</td><td>xp83</td><td>0.2359</td></tr><tr><td>xp82</td><td>xp84</td><td>0.2359</td></tr><tr><td>xp87</td><td>xp91</td><td>0.2358</td></tr><tr><td>xp88</td><td>xp90</td><td>0.2353</td></tr><tr><td>xp86</td><td>xp91</td><td>0.2353</td></tr><tr><td>xp85</td><td>xp90</td><td>0.2353</td></tr><tr><td>xp87</td><td>xp90</td><td>0.2350</td></tr><tr><td>xp82</td><td>xp88</td><td>0.2350</td></tr><tr><td>xp82</td><td>xp85</td><td>0.2349</td></tr><tr><td>xp83</td><td>xp84</td><td>0.2349</td></tr><tr><td>xp82</td><td>xp87</td><td>0.2347</td></tr><tr><td>xp86</td><td>xp90</td><td>0.2346</td></tr><tr><td>xp91</td><td>xp98</td><td>0.2345</td></tr><tr><td>xp82</td><td>xp86</td><td>0.2342</td></tr><tr><td>xp83</td><td>xp88</td><td>0.2340</td></tr><tr><td>xp84</td><td>xp88</td><td>0.2340</td></tr><tr><td>xp83</td><td>xp85</td><td>0.2340</td></tr><tr><td>xp84</td><td>xp85</td><td>0.2340</td></tr><tr><td>xp90</td><td>xp98</td><td>0.2338</td></tr><tr><td>xp83</td><td>xp87</td><td>0.2337</td></tr><tr><td>xp84</td><td>xp87</td><td>0.2337</td></tr><tr><td>xp83</td><td>xp86</td><td>0.2333</td></tr><tr><td>xp84</td><td>xp86</td><td>0.2332</td></tr><tr><td>xp85</td><td>xp88</td><td>0.2331</td></tr><tr><td>xp82</td><td>xp98</td><td>0.2331</td></tr><tr><td>xp87</td><td>xp88</td><td>0.2328</td></tr><tr><td>xp85</td><td>xp87</td><td>0.2328</td></tr><tr><td>xp86</td><td>xp88</td><td>0.2324</td></tr><tr><td>xp83</td><td>xp98</td><td>0.2324</td></tr><tr><td>xp85</td><td>xp86</td><td>0.2323</td></tr><tr><td>xp84</td><td>xp98</td><td>0.2323</td></tr><tr><td>xp86</td><td>xp87</td><td>0.2321</td></tr><tr><td>xp88</td><td>xp98</td><td>0.2315</td></tr><tr><td>xp85</td><td>xp98</td><td>0.2314</td></tr><tr><td>xp87</td><td>xp98</td><td>0.2311</td></tr><tr><td>xp86</td><td>xp98</td><td>0.2306</td></tr></table>"
      ],
      "text/plain": [
       "<lmfit.minimizer.MinimizerResult at 0x159c923d048>"
      ]
     },
     "execution_count": 99,
     "metadata": {},
     "output_type": "execute_result"
    }
   ],
   "source": [
    "# report_fit(result)\n",
    "xwFit['8_20'][1].result"
   ]
  },
  {
   "cell_type": "code",
   "execution_count": 100,
   "metadata": {
    "Collapsed": "false",
    "hidden": true,
    "scrolled": true
   },
   "outputs": [
    {
     "data": {
      "text/html": [
       "<h2>Fit Statistics</h2><table><tr><td>fitting method</td><td>leastsq</td><td></td></tr><tr><td># function evals</td><td>42</td><td></td></tr><tr><td># data points</td><td>2400</td><td></td></tr><tr><td># variables</td><td>40</td><td></td></tr><tr><td>chi-square</td><td> 4475.45946</td><td></td></tr><tr><td>reduced chi-square</td><td> 1.89638113</td><td></td></tr><tr><td>Akaike info crit.</td><td> 1575.53667</td><td></td></tr><tr><td>Bayesian info crit.</td><td> 1806.86563</td><td></td></tr></table><h2>Variables</h2><table><tr><th> name </th><th> value </th><th> standard error </th><th> relative error </th><th> initial value </th><th> min </th><th> max </th><th> vary </th></tr><tr><td> A82 </td><td>  158144.857 </td><td>  1699.14561 </td><td> (1.07%) </td><td> 158144.84199985274 </td><td>  0.00000000 </td><td>         inf </td><td> True </td></tr><tr><td> alpha </td><td>  126.532104 </td><td>  0.00000000 </td><td> (0.00%) </td><td> 126.53210371714074 </td><td>  0.00000000 </td><td>         inf </td><td> False </td></tr><tr><td> beta </td><td>  1.0000e-10 </td><td>  0.00000000 </td><td> (0.00%) </td><td> 1e-10 </td><td>  0.00000000 </td><td>         inf </td><td> False </td></tr><tr><td> R </td><td>  1.0000e-10 </td><td>  0.00000000 </td><td> (0.00%) </td><td> 1e-10 </td><td>  0.00000000 </td><td>         inf </td><td> False </td></tr><tr><td> gamma </td><td>  3.9792e-04 </td><td>  0.00000000 </td><td> (0.00%) </td><td> 0.0003979188011480339 </td><td>  0.00000000 </td><td>         inf </td><td> False </td></tr><tr><td> sigma </td><td>  0.00517279 </td><td>  0.00000000 </td><td> (0.00%) </td><td> 0.005172785045938433 </td><td>  0.00000000 </td><td>         inf </td><td> False </td></tr><tr><td> k </td><td>  0.05000000 </td><td>  0.00000000 </td><td> (0.00%) </td><td> 0.05 </td><td>  0.00000000 </td><td>         inf </td><td> False </td></tr><tr><td> xp82 </td><td> -8.01778652 </td><td>  1.4046e-04 </td><td> (0.00%) </td><td> -8.017786528788656 </td><td>        -inf </td><td>         inf </td><td> True </td></tr><tr><td> A83 </td><td>  154141.148 </td><td>  1691.44038 </td><td> (1.10%) </td><td> 154141.17382519032 </td><td>  0.00000000 </td><td>         inf </td><td> True </td></tr><tr><td> xp83 </td><td> -8.01778210 </td><td>  1.4245e-04 </td><td> (0.00%) </td><td> -8.017782103984928 </td><td>        -inf </td><td>         inf </td><td> True </td></tr><tr><td> A84 </td><td>  154150.966 </td><td>  1692.55178 </td><td> (1.10%) </td><td> 154151.00273606053 </td><td>  0.00000000 </td><td>         inf </td><td> True </td></tr><tr><td> xp84 </td><td> -8.01777889 </td><td>  1.4248e-04 </td><td> (0.00%) </td><td> -8.017778891060477 </td><td>        -inf </td><td>         inf </td><td> True </td></tr><tr><td> A85 </td><td>  153127.936 </td><td>  1679.51743 </td><td> (1.10%) </td><td> 153127.9587679097 </td><td>  0.00000000 </td><td>         inf </td><td> True </td></tr><tr><td> xp85 </td><td> -8.01781946 </td><td>  1.4263e-04 </td><td> (0.00%) </td><td> -8.017819446011455 </td><td>        -inf </td><td>         inf </td><td> True </td></tr><tr><td> A86 </td><td>  152499.341 </td><td>  1680.65765 </td><td> (1.10%) </td><td> 152499.42482959226 </td><td>  0.00000000 </td><td>         inf </td><td> True </td></tr><tr><td> xp86 </td><td> -8.01757975 </td><td>  1.4368e-04 </td><td> (0.00%) </td><td> -8.017579746583536 </td><td>        -inf </td><td>         inf </td><td> True </td></tr><tr><td> A87 </td><td>  151183.101 </td><td>  1673.50315 </td><td> (1.11%) </td><td> 151183.1039345906 </td><td>  0.00000000 </td><td>         inf </td><td> True </td></tr><tr><td> xp87 </td><td> -8.01776547 </td><td>  1.4314e-04 </td><td> (0.00%) </td><td> -8.01776547457252 </td><td>        -inf </td><td>         inf </td><td> True </td></tr><tr><td> A88 </td><td>  151248.228 </td><td>  1670.31669 </td><td> (1.10%) </td><td> 151248.37672122335 </td><td>  0.00000000 </td><td>         inf </td><td> True </td></tr><tr><td> xp88 </td><td> -8.01771497 </td><td>  1.4321e-04 </td><td> (0.00%) </td><td> -8.017714979984982 </td><td>        -inf </td><td>         inf </td><td> True </td></tr><tr><td> A89 </td><td>  152845.555 </td><td>  1667.72404 </td><td> (1.09%) </td><td> 152845.44003855018 </td><td>  0.00000000 </td><td>         inf </td><td> True </td></tr><tr><td> xp89 </td><td> -8.01790976 </td><td>  1.3946e-04 </td><td> (0.00%) </td><td> -8.017909741477874 </td><td>        -inf </td><td>         inf </td><td> True </td></tr><tr><td> A90 </td><td>  150751.563 </td><td>  1665.49897 </td><td> (1.10%) </td><td> 150751.4900153198 </td><td>  0.00000000 </td><td>         inf </td><td> True </td></tr><tr><td> xp90 </td><td> -8.01762741 </td><td>  1.4271e-04 </td><td> (0.00%) </td><td> -8.017627395880401 </td><td>        -inf </td><td>         inf </td><td> True </td></tr><tr><td> A91 </td><td>  150170.381 </td><td>  1659.21538 </td><td> (1.10%) </td><td> 150170.2682036802 </td><td>  0.00000000 </td><td>         inf </td><td> True </td></tr><tr><td> xp91 </td><td> -8.01773124 </td><td>  1.4260e-04 </td><td> (0.00%) </td><td> -8.017731211591109 </td><td>        -inf </td><td>         inf </td><td> True </td></tr><tr><td> A92 </td><td>  146929.273 </td><td>  1656.70402 </td><td> (1.13%) </td><td> 146929.35657451255 </td><td>  0.00000000 </td><td>         inf </td><td> True </td></tr><tr><td> xp92 </td><td> -8.01764715 </td><td>  1.4222e-04 </td><td> (0.00%) </td><td> -8.017647101624846 </td><td>        -inf </td><td>         inf </td><td> True </td></tr><tr><td> A93 </td><td>  148502.809 </td><td>  1652.17183 </td><td> (1.11%) </td><td> 148502.7758397652 </td><td>  0.00000000 </td><td>         inf </td><td> True </td></tr><tr><td> xp93 </td><td> -8.01776848 </td><td>  1.4066e-04 </td><td> (0.00%) </td><td> -8.017768439936049 </td><td>        -inf </td><td>         inf </td><td> True </td></tr><tr><td> A94 </td><td>  146637.625 </td><td>  1645.61835 </td><td> (1.12%) </td><td> 146637.57012508245 </td><td>  0.00000000 </td><td>         inf </td><td> True </td></tr><tr><td> xp94 </td><td> -8.01771664 </td><td>  1.4013e-04 </td><td> (0.00%) </td><td> -8.017716616765199 </td><td>        -inf </td><td>         inf </td><td> True </td></tr><tr><td> A95 </td><td>  144150.693 </td><td>  1625.76191 </td><td> (1.13%) </td><td> 144150.8253542804 </td><td>  0.00000000 </td><td>         inf </td><td> True </td></tr><tr><td> xp95 </td><td> -8.01767154 </td><td>  1.4166e-04 </td><td> (0.00%) </td><td> -8.017671448605586 </td><td>        -inf </td><td>         inf </td><td> True </td></tr><tr><td> A96 </td><td>  145017.142 </td><td>  1633.59319 </td><td> (1.13%) </td><td> 145017.12607247647 </td><td>  0.00000000 </td><td>         inf </td><td> True </td></tr><tr><td> xp96 </td><td> -8.01752599 </td><td>  1.4135e-04 </td><td> (0.00%) </td><td> -8.017525907090176 </td><td>        -inf </td><td>         inf </td><td> True </td></tr><tr><td> A97 </td><td>  143067.838 </td><td>  1624.07939 </td><td> (1.14%) </td><td> 143067.92060404515 </td><td>  0.00000000 </td><td>         inf </td><td> True </td></tr><tr><td> xp97 </td><td> -8.01729913 </td><td>  1.4305e-04 </td><td> (0.00%) </td><td> -8.017299019139928 </td><td>        -inf </td><td>         inf </td><td> True </td></tr><tr><td> A98 </td><td>  142790.166 </td><td>  1740.06009 </td><td> (1.22%) </td><td> 142790.2218637393 </td><td>  0.00000000 </td><td>         inf </td><td> True </td></tr><tr><td> xp98 </td><td> -8.01723970 </td><td>  1.5175e-04 </td><td> (0.00%) </td><td> -8.017239579994634 </td><td>        -inf </td><td>         inf </td><td> True </td></tr><tr><td> A99 </td><td>  142641.531 </td><td>  1618.22202 </td><td> (1.13%) </td><td> 142641.61264469277 </td><td>  0.00000000 </td><td>         inf </td><td> True </td></tr><tr><td> xp99 </td><td> -8.01745854 </td><td>  1.4166e-04 </td><td> (0.00%) </td><td> -8.017458445334501 </td><td>        -inf </td><td>         inf </td><td> True </td></tr><tr><td> A100 </td><td>  140433.068 </td><td>  1611.01229 </td><td> (1.15%) </td><td> 140433.13991288588 </td><td>  0.00000000 </td><td>         inf </td><td> True </td></tr><tr><td> xp100 </td><td> -8.01755727 </td><td>  1.4238e-04 </td><td> (0.00%) </td><td> -8.017557129493595 </td><td>        -inf </td><td>         inf </td><td> True </td></tr><tr><td> A101 </td><td>  137610.759 </td><td>  1596.17796 </td><td> (1.16%) </td><td> 137610.90810050227 </td><td>  0.00000000 </td><td>         inf </td><td> True </td></tr><tr><td> xp101 </td><td> -8.01737869 </td><td>  1.4388e-04 </td><td> (0.00%) </td><td> -8.017378542919719 </td><td>        -inf </td><td>         inf </td><td> True </td></tr></table>"
      ],
      "text/plain": [
       "<lmfit.minimizer.MinimizerResult at 0x159c935eec8>"
      ]
     },
     "execution_count": 100,
     "metadata": {},
     "output_type": "execute_result"
    }
   ],
   "source": [
    "# report_fit(result)\n",
    "xwFit['8_20'][2].result"
   ]
  },
  {
   "cell_type": "markdown",
   "metadata": {
    "Collapsed": "false",
    "heading_collapsed": true,
    "hidden": true
   },
   "source": [
    "#### Fit with 2 independent free parameters per dataset and 5 free parameters shared between all datasets over 30 spectra"
   ]
  },
  {
   "cell_type": "code",
   "execution_count": 51,
   "metadata": {
    "Collapsed": "false",
    "hidden": true
   },
   "outputs": [],
   "source": [
    "xwFit10b = [xpvic_fit(peak_center, nData, pvic_params)  for _ in range(numFitIterations)]\n",
    "\n",
    "nSpec = 30\n",
    "xwFit10b[0].data_range = range(len(nData)-nSpec, len(nData))\n",
    "\n",
    "# create x and y 1D datasets for fit\n",
    "# Xfitdata, Yfitdata = xyBatchFitNData(nData, data_range=spec_rng, data_select=data_select)\n",
    "xwFit10b[0].makeData(data_select)\n",
    "\n",
    "# create and initialize lmfit Parameters object\n",
    "xwFit10b[0].initParams()\n",
    "\n",
    "### Perform fit and store corresponding results in dictionary\n",
    "xwFit10b[0].freeSharedPrms = 5"
   ]
  },
  {
   "cell_type": "code",
   "execution_count": 52,
   "metadata": {
    "hidden": true
   },
   "outputs": [],
   "source": [
    "xwFit10b[0].performFit(weights=xwFit10b[0].weights)"
   ]
  },
  {
   "cell_type": "code",
   "execution_count": 38,
   "metadata": {
    "Collapsed": "false",
    "hidden": true
   },
   "outputs": [
    {
     "data": {
      "text/html": [
       "<h2>Fit Statistics</h2><table><tr><td>fitting method</td><td>leastsq</td><td></td></tr><tr><td># function evals</td><td>1401</td><td></td></tr><tr><td># data points</td><td>3600</td><td></td></tr><tr><td># variables</td><td>65</td><td></td></tr><tr><td>chi-square</td><td> 7430.01335</td><td></td></tr><tr><td>reduced chi-square</td><td> 2.10184253</td><td></td></tr><tr><td>Akaike info crit.</td><td> 2738.53772</td><td></td></tr><tr><td>Bayesian info crit.</td><td> 3140.80251</td><td></td></tr></table><h2>Variables</h2><table><tr><th> name </th><th> value </th><th> standard error </th><th> relative error </th><th> initial value </th><th> min </th><th> max </th><th> vary </th></tr><tr><td> A72 </td><td>  253592.670 </td><td>  3534.74795 </td><td> (1.39%) </td><td> 200000.0 </td><td>  0.00000000 </td><td>         inf </td><td> True </td></tr><tr><td> alpha </td><td>  95.2513291 </td><td>  0.39102925 </td><td> (0.41%) </td><td> 140 </td><td>  0.00000000 </td><td>         inf </td><td> True </td></tr><tr><td> beta </td><td>  1834.05775 </td><td>  872110.497 </td><td> (47550.87%) </td><td> 0.001 </td><td>  0.00000000 </td><td>         inf </td><td> True </td></tr><tr><td> R </td><td>  1.7051e-04 </td><td>  0.14563290 </td><td> (85411.59%) </td><td> 0.001 </td><td>  0.00000000 </td><td>         inf </td><td> True </td></tr><tr><td> gamma </td><td>  5.7953e-04 </td><td>  2.3368e-05 </td><td> (4.03%) </td><td> 0.001 </td><td>  0.00000000 </td><td>         inf </td><td> True </td></tr><tr><td> sigma </td><td>  0.00488504 </td><td>  1.0833e-04 </td><td> (2.22%) </td><td> 0.0066 </td><td>  0.00000000 </td><td>         inf </td><td> True </td></tr><tr><td> k </td><td>  0.05000000 </td><td>  0.00000000 </td><td> (0.00%) </td><td> 0.05 </td><td>  0.00000000 </td><td>         inf </td><td> False </td></tr><tr><td> xp72 </td><td> -10.0241128 </td><td>  2.5420e-04 </td><td> (0.00%) </td><td> -10.0 </td><td>        -inf </td><td>         inf </td><td> True </td></tr><tr><td> A73 </td><td>  256203.185 </td><td>  3538.55084 </td><td> (1.38%) </td><td> 200000.0 </td><td>  0.00000000 </td><td>         inf </td><td> True </td></tr><tr><td> xp73 </td><td> -10.0239602 </td><td>  2.4888e-04 </td><td> (0.00%) </td><td> -10.0 </td><td>        -inf </td><td>         inf </td><td> True </td></tr><tr><td> A74 </td><td>  257390.190 </td><td>  3537.89956 </td><td> (1.37%) </td><td> 200000.0 </td><td>  0.00000000 </td><td>         inf </td><td> True </td></tr><tr><td> xp74 </td><td> -10.0239643 </td><td>  2.5533e-04 </td><td> (0.00%) </td><td> -10.0 </td><td>        -inf </td><td>         inf </td><td> True </td></tr><tr><td> A75 </td><td>  253185.790 </td><td>  3509.63097 </td><td> (1.39%) </td><td> 200000.0 </td><td>  0.00000000 </td><td>         inf </td><td> True </td></tr><tr><td> xp75 </td><td> -10.0240562 </td><td>  2.4464e-04 </td><td> (0.00%) </td><td> -10.0 </td><td>        -inf </td><td>         inf </td><td> True </td></tr><tr><td> A76 </td><td>  252278.016 </td><td>  3503.24535 </td><td> (1.39%) </td><td> 200000.0 </td><td>  0.00000000 </td><td>         inf </td><td> True </td></tr><tr><td> xp76 </td><td> -10.0241498 </td><td>  2.5442e-04 </td><td> (0.00%) </td><td> -10.0 </td><td>        -inf </td><td>         inf </td><td> True </td></tr><tr><td> A77 </td><td>  251163.073 </td><td>  3514.03644 </td><td> (1.40%) </td><td> 200000.0 </td><td>  0.00000000 </td><td>         inf </td><td> True </td></tr><tr><td> xp77 </td><td> -10.0237151 </td><td>  2.5786e-04 </td><td> (0.00%) </td><td> -10.0 </td><td>        -inf </td><td>         inf </td><td> True </td></tr><tr><td> A78 </td><td>  249122.273 </td><td>  3507.31881 </td><td> (1.41%) </td><td> 200000.0 </td><td>  0.00000000 </td><td>         inf </td><td> True </td></tr><tr><td> xp78 </td><td> -10.0238830 </td><td>  2.5154e-04 </td><td> (0.00%) </td><td> -10.0 </td><td>        -inf </td><td>         inf </td><td> True </td></tr><tr><td> A79 </td><td>  247051.591 </td><td>  3469.01635 </td><td> (1.40%) </td><td> 200000.0 </td><td>  0.00000000 </td><td>         inf </td><td> True </td></tr><tr><td> xp79 </td><td> -10.0237852 </td><td>  2.4848e-04 </td><td> (0.00%) </td><td> -10.0 </td><td>        -inf </td><td>         inf </td><td> True </td></tr><tr><td> A80 </td><td>  248697.957 </td><td>  3489.28537 </td><td> (1.40%) </td><td> 200000.0 </td><td>  0.00000000 </td><td>         inf </td><td> True </td></tr><tr><td> xp80 </td><td> -10.0242426 </td><td>  2.4445e-04 </td><td> (0.00%) </td><td> -10.0 </td><td>        -inf </td><td>         inf </td><td> True </td></tr><tr><td> A81 </td><td>  248664.746 </td><td>  3477.67454 </td><td> (1.40%) </td><td> 200000.0 </td><td>  0.00000000 </td><td>         inf </td><td> True </td></tr><tr><td> xp81 </td><td> -10.0241735 </td><td>  2.4948e-04 </td><td> (0.00%) </td><td> -10.0 </td><td>        -inf </td><td>         inf </td><td> True </td></tr><tr><td> A82 </td><td>  247505.320 </td><td>  3467.06808 </td><td> (1.40%) </td><td> 200000.0 </td><td>  0.00000000 </td><td>         inf </td><td> True </td></tr><tr><td> xp82 </td><td> -10.0238613 </td><td>  2.5256e-04 </td><td> (0.00%) </td><td> -10.0 </td><td>        -inf </td><td>         inf </td><td> True </td></tr><tr><td> A83 </td><td>  249696.330 </td><td>  3483.03513 </td><td> (1.39%) </td><td> 200000.0 </td><td>  0.00000000 </td><td>         inf </td><td> True </td></tr><tr><td> xp83 </td><td> -10.0239284 </td><td>  2.4629e-04 </td><td> (0.00%) </td><td> -10.0 </td><td>        -inf </td><td>         inf </td><td> True </td></tr><tr><td> A84 </td><td>  245049.178 </td><td>  3464.36222 </td><td> (1.41%) </td><td> 200000.0 </td><td>  0.00000000 </td><td>         inf </td><td> True </td></tr><tr><td> xp84 </td><td> -10.0239006 </td><td>  2.5049e-04 </td><td> (0.00%) </td><td> -10.0 </td><td>        -inf </td><td>         inf </td><td> True </td></tr><tr><td> A85 </td><td>  244798.012 </td><td>  3465.81381 </td><td> (1.42%) </td><td> 200000.0 </td><td>  0.00000000 </td><td>         inf </td><td> True </td></tr><tr><td> xp85 </td><td> -10.0238821 </td><td>  2.5074e-04 </td><td> (0.00%) </td><td> -10.0 </td><td>        -inf </td><td>         inf </td><td> True </td></tr><tr><td> A86 </td><td>  245935.344 </td><td>  3462.10356 </td><td> (1.41%) </td><td> 200000.0 </td><td>  0.00000000 </td><td>         inf </td><td> True </td></tr><tr><td> xp86 </td><td> -10.0238183 </td><td>  2.5038e-04 </td><td> (0.00%) </td><td> -10.0 </td><td>        -inf </td><td>         inf </td><td> True </td></tr><tr><td> A87 </td><td>  242731.643 </td><td>  3430.98119 </td><td> (1.41%) </td><td> 200000.0 </td><td>  0.00000000 </td><td>         inf </td><td> True </td></tr><tr><td> xp87 </td><td> -10.0237718 </td><td>  2.4545e-04 </td><td> (0.00%) </td><td> -10.0 </td><td>        -inf </td><td>         inf </td><td> True </td></tr><tr><td> A88 </td><td>  242204.454 </td><td>  3444.33805 </td><td> (1.42%) </td><td> 200000.0 </td><td>  0.00000000 </td><td>         inf </td><td> True </td></tr><tr><td> xp88 </td><td> -10.0237466 </td><td>  2.5004e-04 </td><td> (0.00%) </td><td> -10.0 </td><td>        -inf </td><td>         inf </td><td> True </td></tr><tr><td> A89 </td><td>  238030.310 </td><td>  3423.36094 </td><td> (1.44%) </td><td> 200000.0 </td><td>  0.00000000 </td><td>         inf </td><td> True </td></tr><tr><td> xp89 </td><td> -10.0235750 </td><td>  2.5490e-04 </td><td> (0.00%) </td><td> -10.0 </td><td>        -inf </td><td>         inf </td><td> True </td></tr><tr><td> A90 </td><td>  245740.120 </td><td>  3448.03750 </td><td> (1.40%) </td><td> 200000.0 </td><td>  0.00000000 </td><td>         inf </td><td> True </td></tr><tr><td> xp90 </td><td> -10.0234067 </td><td>  2.4748e-04 </td><td> (0.00%) </td><td> -10.0 </td><td>        -inf </td><td>         inf </td><td> True </td></tr><tr><td> A91 </td><td>  237875.025 </td><td>  3416.34877 </td><td> (1.44%) </td><td> 200000.0 </td><td>  0.00000000 </td><td>         inf </td><td> True </td></tr><tr><td> xp91 </td><td> -10.0234486 </td><td>  2.5611e-04 </td><td> (0.00%) </td><td> -10.0 </td><td>        -inf </td><td>         inf </td><td> True </td></tr><tr><td> A92 </td><td>  235080.110 </td><td>  3403.34054 </td><td> (1.45%) </td><td> 200000.0 </td><td>  0.00000000 </td><td>         inf </td><td> True </td></tr><tr><td> xp92 </td><td> -10.0233614 </td><td>  2.5184e-04 </td><td> (0.00%) </td><td> -10.0 </td><td>        -inf </td><td>         inf </td><td> True </td></tr><tr><td> A93 </td><td>  231269.928 </td><td>  3379.50686 </td><td> (1.46%) </td><td> 200000.0 </td><td>  0.00000000 </td><td>         inf </td><td> True </td></tr><tr><td> xp93 </td><td> -10.0235984 </td><td>  2.5827e-04 </td><td> (0.00%) </td><td> -10.0 </td><td>        -inf </td><td>         inf </td><td> True </td></tr><tr><td> A94 </td><td>  231563.165 </td><td>  3398.15753 </td><td> (1.47%) </td><td> 200000.0 </td><td>  0.00000000 </td><td>         inf </td><td> True </td></tr><tr><td> xp94 </td><td> -10.0232517 </td><td>  2.4994e-04 </td><td> (0.00%) </td><td> -10.0 </td><td>        -inf </td><td>         inf </td><td> True </td></tr><tr><td> A95 </td><td>  231466.431 </td><td>  3366.36889 </td><td> (1.45%) </td><td> 200000.0 </td><td>  0.00000000 </td><td>         inf </td><td> True </td></tr><tr><td> xp95 </td><td> -10.0235812 </td><td>  2.4826e-04 </td><td> (0.00%) </td><td> -10.0 </td><td>        -inf </td><td>         inf </td><td> True </td></tr><tr><td> A96 </td><td>  232257.396 </td><td>  3365.98384 </td><td> (1.45%) </td><td> 200000.0 </td><td>  0.00000000 </td><td>         inf </td><td> True </td></tr><tr><td> xp96 </td><td> -10.0233553 </td><td>  2.5240e-04 </td><td> (0.00%) </td><td> -10.0 </td><td>        -inf </td><td>         inf </td><td> True </td></tr><tr><td> A97 </td><td>  226396.479 </td><td>  3332.78097 </td><td> (1.47%) </td><td> 200000.0 </td><td>  0.00000000 </td><td>         inf </td><td> True </td></tr><tr><td> xp97 </td><td> -10.0232914 </td><td>  2.5247e-04 </td><td> (0.00%) </td><td> -10.0 </td><td>        -inf </td><td>         inf </td><td> True </td></tr><tr><td> A98 </td><td>  227682.351 </td><td>  3577.30884 </td><td> (1.57%) </td><td> 200000.0 </td><td>  0.00000000 </td><td>         inf </td><td> True </td></tr><tr><td> xp98 </td><td> -10.0231628 </td><td>  2.6159e-04 </td><td> (0.00%) </td><td> -10.0 </td><td>        -inf </td><td>         inf </td><td> True </td></tr><tr><td> A99 </td><td>  227457.020 </td><td>  3321.94606 </td><td> (1.46%) </td><td> 200000.0 </td><td>  0.00000000 </td><td>         inf </td><td> True </td></tr><tr><td> xp99 </td><td> -10.0233737 </td><td>  2.4781e-04 </td><td> (0.00%) </td><td> -10.0 </td><td>        -inf </td><td>         inf </td><td> True </td></tr><tr><td> A100 </td><td>  227064.637 </td><td>  3327.63812 </td><td> (1.47%) </td><td> 200000.0 </td><td>  0.00000000 </td><td>         inf </td><td> True </td></tr><tr><td> xp100 </td><td> -10.0231847 </td><td>  2.5380e-04 </td><td> (0.00%) </td><td> -10.0 </td><td>        -inf </td><td>         inf </td><td> True </td></tr><tr><td> A101 </td><td>  225550.707 </td><td>  3319.30146 </td><td> (1.47%) </td><td> 200000.0 </td><td>  0.00000000 </td><td>         inf </td><td> True </td></tr><tr><td> xp101 </td><td> -10.0233902 </td><td>  2.5393e-04 </td><td> (0.00%) </td><td> -10.0 </td><td>        -inf </td><td>         inf </td><td> True </td></tr></table><h2>Correlations (unreported correlations are < 0.100)</h2><table><tr><td>alpha</td><td>sigma</td><td>0.6185</td></tr><tr><td>beta</td><td>R</td><td>0.5174</td></tr><tr><td>alpha</td><td>xp99</td><td>0.3740</td></tr><tr><td>alpha</td><td>xp95</td><td>0.3682</td></tr><tr><td>alpha</td><td>xp87</td><td>0.3668</td></tr><tr><td>alpha</td><td>xp94</td><td>0.3664</td></tr><tr><td>alpha</td><td>xp97</td><td>0.3658</td></tr><tr><td>alpha</td><td>xp96</td><td>0.3658</td></tr><tr><td>alpha</td><td>xp100</td><td>0.3644</td></tr><tr><td>alpha</td><td>xp98</td><td>0.3635</td></tr><tr><td>alpha</td><td>xp101</td><td>0.3627</td></tr><tr><td>alpha</td><td>xp90</td><td>0.3614</td></tr><tr><td>alpha</td><td>xp83</td><td>0.3582</td></tr><tr><td>alpha</td><td>xp88</td><td>0.3577</td></tr><tr><td>alpha</td><td>xp80</td><td>0.3570</td></tr><tr><td>alpha</td><td>xp79</td><td>0.3560</td></tr><tr><td>alpha</td><td>xp75</td><td>0.3554</td></tr><tr><td>alpha</td><td>xp84</td><td>0.3549</td></tr><tr><td>alpha</td><td>xp86</td><td>0.3548</td></tr><tr><td>alpha</td><td>xp92</td><td>0.3539</td></tr><tr><td>alpha</td><td>xp73</td><td>0.3531</td></tr><tr><td>alpha</td><td>xp85</td><td>0.3526</td></tr><tr><td>alpha</td><td>xp81</td><td>0.3506</td></tr><tr><td>alpha</td><td>xp93</td><td>0.3502</td></tr><tr><td>alpha</td><td>xp78</td><td>0.3491</td></tr><tr><td>alpha</td><td>xp89</td><td>0.3487</td></tr><tr><td>alpha</td><td>xp91</td><td>0.3479</td></tr><tr><td>alpha</td><td>xp82</td><td>0.3468</td></tr><tr><td>alpha</td><td>xp76</td><td>0.3427</td></tr><tr><td>alpha</td><td>xp74</td><td>0.3418</td></tr><tr><td>alpha</td><td>xp72</td><td>0.3412</td></tr><tr><td>alpha</td><td>xp77</td><td>0.3391</td></tr><tr><td>gamma</td><td>sigma</td><td>-0.3220</td></tr><tr><td>R</td><td>xp81</td><td>-0.2973</td></tr><tr><td>R</td><td>xp91</td><td>-0.2964</td></tr><tr><td>sigma</td><td>xp99</td><td>0.2943</td></tr><tr><td>sigma</td><td>xp98</td><td>0.2886</td></tr><tr><td>R</td><td>xp88</td><td>-0.2872</td></tr><tr><td>sigma</td><td>xp95</td><td>0.2836</td></tr><tr><td>sigma</td><td>xp94</td><td>0.2834</td></tr><tr><td>sigma</td><td>xp97</td><td>0.2831</td></tr><tr><td>sigma</td><td>xp96</td><td>0.2811</td></tr><tr><td>sigma</td><td>xp100</td><td>0.2797</td></tr><tr><td>sigma</td><td>xp101</td><td>0.2789</td></tr><tr><td>sigma</td><td>xp87</td><td>0.2755</td></tr><tr><td>R</td><td>xp93</td><td>-0.2741</td></tr><tr><td>sigma</td><td>xp90</td><td>0.2697</td></tr><tr><td>R</td><td>xp82</td><td>-0.2696</td></tr><tr><td>R</td><td>xp83</td><td>-0.2682</td></tr><tr><td>sigma</td><td>xp88</td><td>0.2661</td></tr><tr><td>sigma</td><td>xp92</td><td>0.2646</td></tr><tr><td>sigma</td><td>xp83</td><td>0.2636</td></tr><tr><td>sigma</td><td>xp84</td><td>0.2610</td></tr><tr><td>sigma</td><td>xp93</td><td>0.2606</td></tr><tr><td>sigma</td><td>xp86</td><td>0.2603</td></tr><tr><td>sigma</td><td>xp80</td><td>0.2589</td></tr><tr><td>sigma</td><td>xp79</td><td>0.2577</td></tr><tr><td>sigma</td><td>xp85</td><td>0.2565</td></tr><tr><td>sigma</td><td>xp89</td><td>0.2564</td></tr><tr><td>sigma</td><td>xp81</td><td>0.2560</td></tr><tr><td>R</td><td>xp101</td><td>-0.2555</td></tr><tr><td>sigma</td><td>xp91</td><td>0.2549</td></tr><tr><td>sigma</td><td>xp75</td><td>0.2546</td></tr><tr><td>R</td><td>xp89</td><td>-0.2525</td></tr><tr><td>R</td><td>xp85</td><td>-0.2522</td></tr><tr><td>sigma</td><td>xp78</td><td>0.2515</td></tr><tr><td>sigma</td><td>xp73</td><td>0.2508</td></tr><tr><td>R</td><td>xp92</td><td>-0.2508</td></tr><tr><td>R</td><td>xp97</td><td>-0.2499</td></tr><tr><td>sigma</td><td>xp82</td><td>0.2497</td></tr><tr><td>xp100</td><td>xp101</td><td>0.2495</td></tr><tr><td>xp93</td><td>xp100</td><td>0.2485</td></tr><tr><td>R</td><td>xp100</td><td>-0.2480</td></tr><tr><td>R</td><td>xp76</td><td>-0.2477</td></tr><tr><td>R</td><td>xp77</td><td>-0.2447</td></tr><tr><td>xp93</td><td>xp101</td><td>0.2445</td></tr><tr><td>xp99</td><td>xp100</td><td>0.2433</td></tr><tr><td>xp83</td><td>xp100</td><td>0.2432</td></tr><tr><td>R</td><td>xp74</td><td>-0.2430</td></tr><tr><td>xp77</td><td>xp100</td><td>0.2427</td></tr><tr><td>xp91</td><td>xp100</td><td>0.2425</td></tr><tr><td>sigma</td><td>xp76</td><td>0.2423</td></tr><tr><td>xp81</td><td>xp100</td><td>0.2417</td></tr><tr><td>xp90</td><td>xp100</td><td>0.2414</td></tr><tr><td>xp89</td><td>xp100</td><td>0.2413</td></tr><tr><td>xp74</td><td>xp100</td><td>0.2406</td></tr><tr><td>xp91</td><td>xp93</td><td>0.2404</td></tr><tr><td>xp91</td><td>xp101</td><td>0.2400</td></tr><tr><td>xp88</td><td>xp100</td><td>0.2399</td></tr><tr><td>xp96</td><td>xp100</td><td>0.2399</td></tr><tr><td>xp83</td><td>xp101</td><td>0.2399</td></tr><tr><td>xp81</td><td>xp93</td><td>0.2398</td></tr><tr><td>xp83</td><td>xp93</td><td>0.2397</td></tr><tr><td>xp82</td><td>xp100</td><td>0.2395</td></tr><tr><td>xp81</td><td>xp101</td><td>0.2394</td></tr><tr><td>xp81</td><td>xp91</td><td>0.2389</td></tr><tr><td>sigma</td><td>xp77</td><td>0.2388</td></tr><tr><td>sigma</td><td>xp72</td><td>0.2388</td></tr><tr><td>xp99</td><td>xp101</td><td>0.2387</td></tr><tr><td>R</td><td>xp98</td><td>-0.2385</td></tr><tr><td>sigma</td><td>xp74</td><td>0.2381</td></tr><tr><td>xp88</td><td>xp101</td><td>0.2378</td></tr><tr><td>xp88</td><td>xp93</td><td>0.2378</td></tr><tr><td>xp85</td><td>xp100</td><td>0.2374</td></tr><tr><td>xp77</td><td>xp101</td><td>0.2374</td></tr><tr><td>xp77</td><td>xp93</td><td>0.2374</td></tr><tr><td>xp97</td><td>xp100</td><td>0.2373</td></tr><tr><td>xp81</td><td>xp88</td><td>0.2372</td></tr><tr><td>xp88</td><td>xp91</td><td>0.2372</td></tr><tr><td>xp89</td><td>xp101</td><td>0.2372</td></tr><tr><td>xp89</td><td>xp93</td><td>0.2369</td></tr><tr><td>xp83</td><td>xp91</td><td>0.2369</td></tr><tr><td>xp93</td><td>xp99</td><td>0.2367</td></tr><tr><td>xp81</td><td>xp83</td><td>0.2366</td></tr><tr><td>xp90</td><td>xp101</td><td>0.2365</td></tr><tr><td>xp82</td><td>xp93</td><td>0.2362</td></tr><tr><td>xp82</td><td>xp101</td><td>0.2361</td></tr><tr><td>xp84</td><td>xp100</td><td>0.2361</td></tr><tr><td>xp86</td><td>xp100</td><td>0.2359</td></tr><tr><td>xp74</td><td>xp101</td><td>0.2356</td></tr><tr><td>xp74</td><td>xp93</td><td>0.2355</td></tr><tr><td>xp90</td><td>xp93</td><td>0.2353</td></tr><tr><td>xp83</td><td>xp88</td><td>0.2350</td></tr><tr><td>xp98</td><td>xp100</td><td>0.2349</td></tr><tr><td>xp97</td><td>xp101</td><td>0.2347</td></tr><tr><td>xp76</td><td>xp100</td><td>0.2344</td></tr><tr><td>xp85</td><td>xp101</td><td>0.2339</td></tr><tr><td>xp92</td><td>xp100</td><td>0.2337</td></tr><tr><td>xp85</td><td>xp93</td><td>0.2336</td></tr><tr><td>xp93</td><td>xp97</td><td>0.2335</td></tr><tr><td>xp82</td><td>xp91</td><td>0.2333</td></tr><tr><td>xp81</td><td>xp82</td><td>0.2330</td></tr><tr><td>xp84</td><td>xp96</td><td>0.2326</td></tr><tr><td>xp89</td><td>xp91</td><td>0.2325</td></tr><tr><td>xp83</td><td>xp89</td><td>0.2324</td></tr><tr><td>xp83</td><td>xp99</td><td>0.2324</td></tr><tr><td>xp82</td><td>xp83</td><td>0.2324</td></tr><tr><td>xp98</td><td>xp101</td><td>0.2320</td></tr><tr><td>xp77</td><td>xp83</td><td>0.2320</td></tr><tr><td>xp81</td><td>xp89</td><td>0.2320</td></tr><tr><td>xp86</td><td>xp101</td><td>0.2318</td></tr><tr><td>xp96</td><td>xp101</td><td>0.2317</td></tr><tr><td>xp74</td><td>xp77</td><td>0.2315</td></tr><tr><td>xp91</td><td>xp97</td><td>0.2315</td></tr><tr><td>xp90</td><td>xp99</td><td>0.2315</td></tr><tr><td>xp96</td><td>xp99</td><td>0.2315</td></tr><tr><td>xp81</td><td>xp97</td><td>0.2313</td></tr><tr><td>xp77</td><td>xp91</td><td>0.2312</td></tr><tr><td>xp82</td><td>xp88</td><td>0.2311</td></tr><tr><td>xp86</td><td>xp93</td><td>0.2310</td></tr><tr><td>xp91</td><td>xp99</td><td>0.2310</td></tr><tr><td>R</td><td>xp86</td><td>-0.2309</td></tr><tr><td>xp77</td><td>xp89</td><td>0.2309</td></tr><tr><td>xp77</td><td>xp99</td><td>0.2308</td></tr><tr><td>xp92</td><td>xp101</td><td>0.2308</td></tr><tr><td>xp83</td><td>xp90</td><td>0.2307</td></tr><tr><td>xp88</td><td>xp97</td><td>0.2306</td></tr><tr><td>xp77</td><td>xp90</td><td>0.2306</td></tr><tr><td>xp93</td><td>xp98</td><td>0.2306</td></tr><tr><td>xp76</td><td>xp101</td><td>0.2305</td></tr><tr><td>xp74</td><td>xp83</td><td>0.2305</td></tr><tr><td>xp83</td><td>xp97</td><td>0.2305</td></tr><tr><td>xp76</td><td>xp93</td><td>0.2304</td></tr><tr><td>xp77</td><td>xp81</td><td>0.2304</td></tr><tr><td>xp81</td><td>xp99</td><td>0.2304</td></tr><tr><td>xp89</td><td>xp99</td><td>0.2304</td></tr><tr><td>xp85</td><td>xp91</td><td>0.2303</td></tr><tr><td>xp92</td><td>xp93</td><td>0.2302</td></tr><tr><td>xp88</td><td>xp89</td><td>0.2301</td></tr><tr><td>xp81</td><td>xp85</td><td>0.2299</td></tr><tr><td>xp83</td><td>xp85</td><td>0.2298</td></tr><tr><td>xp74</td><td>xp91</td><td>0.2298</td></tr><tr><td>xp84</td><td>xp101</td><td>0.2298</td></tr><tr><td>xp90</td><td>xp96</td><td>0.2298</td></tr><tr><td>xp77</td><td>xp96</td><td>0.2298</td></tr><tr><td>xp94</td><td>xp96</td><td>0.2296</td></tr><tr><td>xp88</td><td>xp99</td><td>0.2294</td></tr><tr><td>xp90</td><td>xp91</td><td>0.2293</td></tr><tr><td>xp77</td><td>xp82</td><td>0.2291</td></tr><tr><td>xp74</td><td>xp81</td><td>0.2291</td></tr><tr><td>xp82</td><td>xp89</td><td>0.2291</td></tr><tr><td>xp74</td><td>xp89</td><td>0.2291</td></tr><tr><td>xp89</td><td>xp90</td><td>0.2291</td></tr><tr><td>xp74</td><td>xp99</td><td>0.2290</td></tr><tr><td>xp93</td><td>xp96</td><td>0.2287</td></tr><tr><td>xp74</td><td>xp90</td><td>0.2287</td></tr><tr><td>xp95</td><td>xp100</td><td>0.2287</td></tr><tr><td>xp81</td><td>xp90</td><td>0.2286</td></tr><tr><td>xp82</td><td>xp99</td><td>0.2284</td></tr><tr><td>xp85</td><td>xp88</td><td>0.2283</td></tr><tr><td>xp97</td><td>xp99</td><td>0.2282</td></tr><tr><td>xp84</td><td>xp93</td><td>0.2282</td></tr><tr><td>xp91</td><td>xp98</td><td>0.2282</td></tr><tr><td>R</td><td>xp95</td><td>-0.2280</td></tr><tr><td>xp81</td><td>xp98</td><td>0.2279</td></tr><tr><td>xp77</td><td>xp88</td><td>0.2279</td></tr><tr><td>xp91</td><td>xp92</td><td>0.2278</td></tr><tr><td>xp81</td><td>xp92</td><td>0.2276</td></tr><tr><td>xp74</td><td>xp82</td><td>0.2276</td></tr><tr><td>xp88</td><td>xp98</td><td>0.2274</td></tr><tr><td>xp83</td><td>xp98</td><td>0.2274</td></tr><tr><td>xp82</td><td>xp90</td><td>0.2271</td></tr><tr><td>xp85</td><td>xp99</td><td>0.2271</td></tr><tr><td>xp88</td><td>xp90</td><td>0.2271</td></tr><tr><td>xp83</td><td>xp86</td><td>0.2271</td></tr><tr><td>xp74</td><td>xp96</td><td>0.2270</td></tr><tr><td>xp83</td><td>xp92</td><td>0.2270</td></tr><tr><td>xp77</td><td>xp85</td><td>0.2268</td></tr><tr><td>xp85</td><td>xp89</td><td>0.2267</td></tr><tr><td>xp74</td><td>xp88</td><td>0.2267</td></tr><tr><td>xp84</td><td>xp99</td><td>0.2267</td></tr><tr><td>xp86</td><td>xp91</td><td>0.2266</td></tr><tr><td>xp78</td><td>xp100</td><td>0.2266</td></tr><tr><td>xp76</td><td>xp91</td><td>0.2265</td></tr><tr><td>xp88</td><td>xp92</td><td>0.2265</td></tr><tr><td>xp77</td><td>xp84</td><td>0.2264</td></tr><tr><td>xp82</td><td>xp97</td><td>0.2264</td></tr><tr><td>xp76</td><td>xp83</td><td>0.2264</td></tr><tr><td>xp89</td><td>xp97</td><td>0.2264</td></tr><tr><td>xp82</td><td>xp85</td><td>0.2263</td></tr><tr><td>xp95</td><td>xp101</td><td>0.2263</td></tr><tr><td>xp98</td><td>xp99</td><td>0.2262</td></tr><tr><td>xp81</td><td>xp86</td><td>0.2262</td></tr><tr><td>xp76</td><td>xp81</td><td>0.2261</td></tr><tr><td>xp86</td><td>xp99</td><td>0.2261</td></tr><tr><td>xp84</td><td>xp90</td><td>0.2255</td></tr><tr><td>xp85</td><td>xp90</td><td>0.2255</td></tr><tr><td>xp87</td><td>xp100</td><td>0.2253</td></tr><tr><td>xp77</td><td>xp86</td><td>0.2252</td></tr><tr><td>xp74</td><td>xp85</td><td>0.2252</td></tr><tr><td>xp90</td><td>xp97</td><td>0.2250</td></tr><tr><td>xp93</td><td>xp95</td><td>0.2248</td></tr><tr><td>xp97</td><td>xp98</td><td>0.2248</td></tr><tr><td>xp76</td><td>xp77</td><td>0.2247</td></tr><tr><td>xp86</td><td>xp88</td><td>0.2247</td></tr><tr><td>xp86</td><td>xp89</td><td>0.2246</td></tr><tr><td>xp85</td><td>xp97</td><td>0.2244</td></tr><tr><td>xp77</td><td>xp97</td><td>0.2243</td></tr><tr><td>xp86</td><td>xp90</td><td>0.2243</td></tr><tr><td>xp89</td><td>xp96</td><td>0.2242</td></tr><tr><td>xp74</td><td>xp84</td><td>0.2242</td></tr><tr><td>xp76</td><td>xp88</td><td>0.2242</td></tr><tr><td>xp92</td><td>xp99</td><td>0.2241</td></tr><tr><td>xp76</td><td>xp89</td><td>0.2238</td></tr><tr><td>xp76</td><td>xp99</td><td>0.2237</td></tr><tr><td>xp72</td><td>xp100</td><td>0.2237</td></tr><tr><td>xp74</td><td>xp86</td><td>0.2236</td></tr><tr><td>xp82</td><td>xp86</td><td>0.2236</td></tr><tr><td>xp89</td><td>xp98</td><td>0.2235</td></tr><tr><td>xp89</td><td>xp92</td><td>0.2233</td></tr><tr><td>xp82</td><td>xp92</td><td>0.2233</td></tr><tr><td>xp82</td><td>xp98</td><td>0.2232</td></tr><tr><td>xp76</td><td>xp82</td><td>0.2231</td></tr><tr><td>xp74</td><td>xp97</td><td>0.2231</td></tr><tr><td>xp91</td><td>xp95</td><td>0.2230</td></tr><tr><td>xp74</td><td>xp76</td><td>0.2230</td></tr><tr><td>xp81</td><td>xp95</td><td>0.2230</td></tr><tr><td>xp84</td><td>xp89</td><td>0.2229</td></tr><tr><td>xp78</td><td>xp101</td><td>0.2228</td></tr><tr><td>xp83</td><td>xp84</td><td>0.2228</td></tr><tr><td>xp76</td><td>xp90</td><td>0.2227</td></tr><tr><td>xp88</td><td>xp95</td><td>0.2227</td></tr><tr><td>xp92</td><td>xp97</td><td>0.2226</td></tr><tr><td>xp90</td><td>xp98</td><td>0.2225</td></tr><tr><td>xp83</td><td>xp95</td><td>0.2224</td></tr><tr><td>xp77</td><td>xp92</td><td>0.2222</td></tr><tr><td>xp83</td><td>xp96</td><td>0.2221</td></tr><tr><td>xp78</td><td>xp93</td><td>0.2219</td></tr><tr><td>xp90</td><td>xp92</td><td>0.2218</td></tr><tr><td>xp86</td><td>xp97</td><td>0.2217</td></tr><tr><td>xp85</td><td>xp86</td><td>0.2216</td></tr><tr><td>xp85</td><td>xp98</td><td>0.2214</td></tr><tr><td>xp77</td><td>xp98</td><td>0.2214</td></tr><tr><td>xp87</td><td>xp101</td><td>0.2214</td></tr><tr><td>xp85</td><td>xp92</td><td>0.2211</td></tr><tr><td>xp74</td><td>xp92</td><td>0.2209</td></tr><tr><td>xp95</td><td>xp99</td><td>0.2208</td></tr><tr><td>xp76</td><td>xp85</td><td>0.2208</td></tr><tr><td>xp86</td><td>xp96</td><td>0.2207</td></tr><tr><td>xp94</td><td>xp100</td><td>0.2202</td></tr><tr><td>xp76</td><td>xp97</td><td>0.2202</td></tr><tr><td>xp74</td><td>xp98</td><td>0.2201</td></tr><tr><td>xp95</td><td>xp97</td><td>0.2199</td></tr><tr><td>xp92</td><td>xp98</td><td>0.2198</td></tr><tr><td>xp84</td><td>xp91</td><td>0.2196</td></tr><tr><td>xp72</td><td>xp101</td><td>0.2196</td></tr><tr><td>xp82</td><td>xp84</td><td>0.2195</td></tr><tr><td>xp87</td><td>xp93</td><td>0.2194</td></tr><tr><td>xp86</td><td>xp98</td><td>0.2191</td></tr><tr><td>xp72</td><td>xp93</td><td>0.2189</td></tr><tr><td>xp82</td><td>xp96</td><td>0.2187</td></tr><tr><td>xp85</td><td>xp96</td><td>0.2187</td></tr><tr><td>xp84</td><td>xp86</td><td>0.2186</td></tr><tr><td>xp76</td><td>xp86</td><td>0.2186</td></tr><tr><td>xp81</td><td>xp84</td><td>0.2186</td></tr><tr><td>xp84</td><td>xp85</td><td>0.2185</td></tr><tr><td>xp86</td><td>xp92</td><td>0.2184</td></tr><tr><td>xp78</td><td>xp83</td><td>0.2183</td></tr><tr><td>xp82</td><td>xp95</td><td>0.2182</td></tr><tr><td>xp89</td><td>xp95</td><td>0.2182</td></tr><tr><td>xp87</td><td>xp99</td><td>0.2180</td></tr><tr><td>R</td><td>xp90</td><td>-0.2178</td></tr><tr><td>xp78</td><td>xp91</td><td>0.2177</td></tr><tr><td>xp95</td><td>xp98</td><td>0.2176</td></tr><tr><td>xp78</td><td>xp99</td><td>0.2175</td></tr><tr><td>xp76</td><td>xp92</td><td>0.2174</td></tr><tr><td>xp78</td><td>xp81</td><td>0.2174</td></tr><tr><td>xp76</td><td>xp96</td><td>0.2174</td></tr><tr><td>xp90</td><td>xp95</td><td>0.2173</td></tr><tr><td>xp76</td><td>xp98</td><td>0.2172</td></tr><tr><td>xp84</td><td>xp88</td><td>0.2168</td></tr><tr><td>xp76</td><td>xp84</td><td>0.2166</td></tr><tr><td>xp85</td><td>xp95</td><td>0.2166</td></tr><tr><td>xp77</td><td>xp78</td><td>0.2164</td></tr><tr><td>xp91</td><td>xp96</td><td>0.2164</td></tr><tr><td>xp84</td><td>xp97</td><td>0.2164</td></tr><tr><td>xp79</td><td>xp100</td><td>0.2162</td></tr><tr><td>xp83</td><td>xp87</td><td>0.2161</td></tr><tr><td>xp78</td><td>xp88</td><td>0.2160</td></tr><tr><td>xp78</td><td>xp89</td><td>0.2159</td></tr><tr><td>xp78</td><td>xp90</td><td>0.2159</td></tr><tr><td>xp96</td><td>xp97</td><td>0.2158</td></tr><tr><td>xp77</td><td>xp95</td><td>0.2158</td></tr><tr><td>R</td><td>xp78</td><td>-0.2156</td></tr><tr><td>xp87</td><td>xp90</td><td>0.2152</td></tr><tr><td>xp72</td><td>xp83</td><td>0.2151</td></tr><tr><td>xp92</td><td>xp95</td><td>0.2151</td></tr><tr><td>xp84</td><td>xp94</td><td>0.2151</td></tr><tr><td>xp74</td><td>xp78</td><td>0.2150</td></tr><tr><td>xp78</td><td>xp82</td><td>0.2149</td></tr><tr><td>xp81</td><td>xp96</td><td>0.2149</td></tr><tr><td>xp74</td><td>xp95</td><td>0.2148</td></tr><tr><td>xp87</td><td>xp96</td><td>0.2147</td></tr><tr><td>xp96</td><td>xp98</td><td>0.2147</td></tr><tr><td>xp87</td><td>xp91</td><td>0.2146</td></tr><tr><td>xp94</td><td>xp99</td><td>0.2145</td></tr><tr><td>xp72</td><td>xp77</td><td>0.2144</td></tr><tr><td>xp84</td><td>xp98</td><td>0.2144</td></tr><tr><td>xp72</td><td>xp99</td><td>0.2144</td></tr><tr><td>xp72</td><td>xp91</td><td>0.2143</td></tr><tr><td>xp81</td><td>xp87</td><td>0.2142</td></tr><tr><td>xp86</td><td>xp95</td><td>0.2142</td></tr><tr><td>xp73</td><td>xp100</td><td>0.2140</td></tr><tr><td>xp77</td><td>xp87</td><td>0.2139</td></tr><tr><td>xp84</td><td>xp92</td><td>0.2139</td></tr><tr><td>xp72</td><td>xp81</td><td>0.2139</td></tr><tr><td>xp87</td><td>xp89</td><td>0.2139</td></tr><tr><td>xp87</td><td>xp88</td><td>0.2136</td></tr><tr><td>xp78</td><td>xp97</td><td>0.2133</td></tr><tr><td>xp88</td><td>xp96</td><td>0.2133</td></tr><tr><td>xp92</td><td>xp96</td><td>0.2133</td></tr><tr><td>xp72</td><td>xp90</td><td>0.2132</td></tr><tr><td>xp78</td><td>xp85</td><td>0.2132</td></tr><tr><td>xp72</td><td>xp89</td><td>0.2131</td></tr><tr><td>xp94</td><td>xp101</td><td>0.2129</td></tr><tr><td>xp72</td><td>xp74</td><td>0.2128</td></tr><tr><td>xp79</td><td>xp101</td><td>0.2128</td></tr><tr><td>xp87</td><td>xp97</td><td>0.2126</td></tr><tr><td>xp78</td><td>xp96</td><td>0.2125</td></tr><tr><td>xp74</td><td>xp87</td><td>0.2125</td></tr><tr><td>xp72</td><td>xp88</td><td>0.2123</td></tr><tr><td>xp76</td><td>xp95</td><td>0.2123</td></tr><tr><td>xp82</td><td>xp87</td><td>0.2122</td></tr><tr><td>xp90</td><td>xp94</td><td>0.2120</td></tr><tr><td>xp72</td><td>xp82</td><td>0.2120</td></tr><tr><td>xp78</td><td>xp86</td><td>0.2116</td></tr><tr><td>R</td><td>xp72</td><td>-0.2116</td></tr><tr><td>xp85</td><td>xp87</td><td>0.2113</td></tr><tr><td>xp79</td><td>xp93</td><td>0.2112</td></tr><tr><td>xp72</td><td>xp96</td><td>0.2110</td></tr><tr><td>xp78</td><td>xp98</td><td>0.2107</td></tr><tr><td>xp84</td><td>xp87</td><td>0.2106</td></tr><tr><td>xp87</td><td>xp98</td><td>0.2105</td></tr><tr><td>xp78</td><td>xp84</td><td>0.2105</td></tr><tr><td>xp86</td><td>xp87</td><td>0.2104</td></tr><tr><td>xp76</td><td>xp78</td><td>0.2103</td></tr><tr><td>xp72</td><td>xp85</td><td>0.2102</td></tr><tr><td>xp78</td><td>xp92</td><td>0.2101</td></tr><tr><td>xp77</td><td>xp94</td><td>0.2099</td></tr><tr><td>xp73</td><td>xp101</td><td>0.2097</td></tr><tr><td>xp72</td><td>xp97</td><td>0.2095</td></tr><tr><td>R</td><td>xp99</td><td>-0.2092</td></tr><tr><td>xp84</td><td>xp95</td><td>0.2090</td></tr><tr><td>xp79</td><td>xp99</td><td>0.2090</td></tr><tr><td>xp93</td><td>xp94</td><td>0.2090</td></tr><tr><td>xp72</td><td>xp86</td><td>0.2087</td></tr><tr><td>xp95</td><td>xp96</td><td>0.2087</td></tr><tr><td>xp87</td><td>xp92</td><td>0.2087</td></tr><tr><td>xp72</td><td>xp84</td><td>0.2085</td></tr><tr><td>xp79</td><td>xp83</td><td>0.2085</td></tr><tr><td>xp76</td><td>xp87</td><td>0.2080</td></tr><tr><td>xp73</td><td>xp93</td><td>0.2078</td></tr><tr><td>xp74</td><td>xp94</td><td>0.2077</td></tr><tr><td>xp72</td><td>xp76</td><td>0.2077</td></tr><tr><td>xp79</td><td>xp91</td><td>0.2074</td></tr><tr><td>xp79</td><td>xp81</td><td>0.2072</td></tr><tr><td>xp73</td><td>xp96</td><td>0.2069</td></tr><tr><td>xp73</td><td>xp99</td><td>0.2069</td></tr><tr><td>xp72</td><td>xp98</td><td>0.2068</td></tr><tr><td>xp72</td><td>xp92</td><td>0.2068</td></tr><tr><td>xp80</td><td>xp100</td><td>0.2068</td></tr><tr><td>xp79</td><td>xp90</td><td>0.2066</td></tr><tr><td>xp79</td><td>xp88</td><td>0.2065</td></tr><tr><td>xp87</td><td>xp95</td><td>0.2063</td></tr><tr><td>xp78</td><td>xp95</td><td>0.2063</td></tr><tr><td>xp79</td><td>xp89</td><td>0.2059</td></tr><tr><td>xp77</td><td>xp79</td><td>0.2057</td></tr><tr><td>xp89</td><td>xp94</td><td>0.2056</td></tr><tr><td>xp73</td><td>xp90</td><td>0.2050</td></tr><tr><td>xp79</td><td>xp82</td><td>0.2048</td></tr><tr><td>xp79</td><td>xp97</td><td>0.2048</td></tr><tr><td>xp73</td><td>xp83</td><td>0.2046</td></tr><tr><td>xp74</td><td>xp79</td><td>0.2045</td></tr><tr><td>xp73</td><td>xp77</td><td>0.2042</td></tr><tr><td>xp79</td><td>xp96</td><td>0.2042</td></tr><tr><td>xp80</td><td>xp101</td><td>0.2042</td></tr><tr><td>xp79</td><td>xp85</td><td>0.2037</td></tr><tr><td>xp83</td><td>xp94</td><td>0.2037</td></tr><tr><td>xp86</td><td>xp94</td><td>0.2034</td></tr><tr><td>xp75</td><td>xp100</td><td>0.2033</td></tr><tr><td>xp73</td><td>xp89</td><td>0.2031</td></tr><tr><td>xp73</td><td>xp74</td><td>0.2029</td></tr><tr><td>xp78</td><td>xp87</td><td>0.2028</td></tr><tr><td>xp79</td><td>xp98</td><td>0.2025</td></tr><tr><td>xp79</td><td>xp86</td><td>0.2025</td></tr><tr><td>xp72</td><td>xp95</td><td>0.2025</td></tr><tr><td>xp73</td><td>xp91</td><td>0.2024</td></tr><tr><td>xp80</td><td>xp93</td><td>0.2023</td></tr><tr><td>xp73</td><td>xp84</td><td>0.2020</td></tr><tr><td>xp73</td><td>xp81</td><td>0.2020</td></tr><tr><td>xp79</td><td>xp84</td><td>0.2016</td></tr><tr><td>xp79</td><td>xp92</td><td>0.2013</td></tr><tr><td>xp75</td><td>xp101</td><td>0.2012</td></tr><tr><td>xp73</td><td>xp82</td><td>0.2012</td></tr><tr><td>xp73</td><td>xp88</td><td>0.2011</td></tr><tr><td>xp72</td><td>xp78</td><td>0.2010</td></tr><tr><td>xp85</td><td>xp94</td><td>0.2009</td></tr><tr><td>xp80</td><td>xp99</td><td>0.2008</td></tr><tr><td>xp80</td><td>xp83</td><td>0.2006</td></tr><tr><td>xp76</td><td>xp79</td><td>0.2006</td></tr><tr><td>xp73</td><td>xp85</td><td>0.2004</td></tr><tr><td>xp73</td><td>xp97</td><td>0.2003</td></tr><tr><td>xp82</td><td>xp94</td><td>0.2001</td></tr><tr><td>xp87</td><td>xp94</td><td>0.2001</td></tr><tr><td>xp73</td><td>xp86</td><td>0.1999</td></tr><tr><td>xp80</td><td>xp81</td><td>0.1999</td></tr><tr><td>xp72</td><td>xp87</td><td>0.1998</td></tr><tr><td>xp80</td><td>xp91</td><td>0.1998</td></tr><tr><td>xp80</td><td>xp88</td><td>0.1997</td></tr><tr><td>xp75</td><td>xp93</td><td>0.1995</td></tr><tr><td>xp94</td><td>xp97</td><td>0.1994</td></tr><tr><td>xp76</td><td>xp94</td><td>0.1993</td></tr><tr><td>xp79</td><td>xp95</td><td>0.1989</td></tr><tr><td>xp94</td><td>xp98</td><td>0.1987</td></tr><tr><td>xp73</td><td>xp98</td><td>0.1983</td></tr><tr><td>xp75</td><td>xp83</td><td>0.1982</td></tr><tr><td>xp80</td><td>xp97</td><td>0.1982</td></tr><tr><td>xp75</td><td>xp81</td><td>0.1980</td></tr><tr><td>xp75</td><td>xp88</td><td>0.1980</td></tr><tr><td>xp80</td><td>xp90</td><td>0.1978</td></tr><tr><td>xp75</td><td>xp91</td><td>0.1978</td></tr><tr><td>xp73</td><td>xp76</td><td>0.1978</td></tr><tr><td>xp91</td><td>xp94</td><td>0.1976</td></tr><tr><td>xp75</td><td>xp99</td><td>0.1975</td></tr><tr><td>xp73</td><td>xp92</td><td>0.1973</td></tr><tr><td>xp80</td><td>xp89</td><td>0.1973</td></tr><tr><td>xp80</td><td>xp82</td><td>0.1967</td></tr><tr><td>xp92</td><td>xp94</td><td>0.1964</td></tr><tr><td>xp81</td><td>xp94</td><td>0.1963</td></tr><tr><td>xp78</td><td>xp94</td><td>0.1963</td></tr><tr><td>xp80</td><td>xp98</td><td>0.1961</td></tr><tr><td>xp75</td><td>xp97</td><td>0.1960</td></tr><tr><td>xp80</td><td>xp85</td><td>0.1958</td></tr><tr><td>xp77</td><td>xp80</td><td>0.1958</td></tr><tr><td>xp79</td><td>xp87</td><td>0.1957</td></tr><tr><td>xp88</td><td>xp94</td><td>0.1956</td></tr><tr><td>xp78</td><td>xp79</td><td>0.1954</td></tr><tr><td>xp74</td><td>xp80</td><td>0.1950</td></tr><tr><td>xp72</td><td>xp94</td><td>0.1945</td></tr><tr><td>xp73</td><td>xp95</td><td>0.1945</td></tr><tr><td>xp75</td><td>xp90</td><td>0.1945</td></tr><tr><td>xp80</td><td>xp86</td><td>0.1944</td></tr><tr><td>xp75</td><td>xp89</td><td>0.1944</td></tr><tr><td>xp75</td><td>xp82</td><td>0.1943</td></tr><tr><td>xp80</td><td>xp92</td><td>0.1942</td></tr><tr><td>xp94</td><td>xp95</td><td>0.1939</td></tr><tr><td>xp75</td><td>xp98</td><td>0.1938</td></tr><tr><td>xp73</td><td>xp87</td><td>0.1938</td></tr><tr><td>xp80</td><td>xp96</td><td>0.1935</td></tr><tr><td>xp75</td><td>xp85</td><td>0.1933</td></tr><tr><td>xp73</td><td>xp94</td><td>0.1930</td></tr><tr><td>xp80</td><td>xp95</td><td>0.1930</td></tr><tr><td>xp73</td><td>xp78</td><td>0.1930</td></tr><tr><td>xp72</td><td>xp79</td><td>0.1925</td></tr><tr><td>xp75</td><td>xp77</td><td>0.1924</td></tr><tr><td>xp76</td><td>xp80</td><td>0.1922</td></tr><tr><td>xp80</td><td>xp84</td><td>0.1920</td></tr><tr><td>xp75</td><td>xp92</td><td>0.1919</td></tr><tr><td>xp74</td><td>xp75</td><td>0.1918</td></tr><tr><td>xp75</td><td>xp86</td><td>0.1916</td></tr><tr><td>beta</td><td>xp96</td><td>0.1911</td></tr><tr><td>xp75</td><td>xp95</td><td>0.1910</td></tr><tr><td>xp72</td><td>xp73</td><td>0.1906</td></tr><tr><td>xp79</td><td>xp94</td><td>0.1903</td></tr><tr><td>xp75</td><td>xp76</td><td>0.1896</td></tr><tr><td>xp80</td><td>xp87</td><td>0.1887</td></tr><tr><td>xp75</td><td>xp96</td><td>0.1882</td></tr><tr><td>xp75</td><td>xp84</td><td>0.1879</td></tr><tr><td>xp78</td><td>xp80</td><td>0.1878</td></tr><tr><td>xp73</td><td>xp79</td><td>0.1863</td></tr><tr><td>xp75</td><td>xp87</td><td>0.1859</td></tr><tr><td>xp75</td><td>xp78</td><td>0.1851</td></tr><tr><td>xp72</td><td>xp80</td><td>0.1846</td></tr><tr><td>R</td><td>xp79</td><td>-0.1843</td></tr><tr><td>R</td><td>xp87</td><td>-0.1828</td></tr><tr><td>xp79</td><td>xp80</td><td>0.1820</td></tr><tr><td>xp72</td><td>xp75</td><td>0.1819</td></tr><tr><td>xp80</td><td>xp94</td><td>0.1812</td></tr><tr><td>beta</td><td>xp94</td><td>0.1807</td></tr><tr><td>xp75</td><td>xp79</td><td>0.1796</td></tr><tr><td>xp73</td><td>xp80</td><td>0.1792</td></tr><tr><td>R</td><td>xp75</td><td>-0.1780</td></tr><tr><td>R</td><td>xp84</td><td>-0.1770</td></tr><tr><td>xp75</td><td>xp94</td><td>0.1765</td></tr><tr><td>xp73</td><td>xp75</td><td>0.1763</td></tr><tr><td>xp75</td><td>xp80</td><td>0.1748</td></tr><tr><td>R</td><td>xp80</td><td>-0.1737</td></tr><tr><td>R</td><td>xp73</td><td>-0.1607</td></tr><tr><td>R</td><td>xp96</td><td>-0.1241</td></tr><tr><td>beta</td><td>xp84</td><td>0.1200</td></tr><tr><td>alpha</td><td>gamma</td><td>0.1067</td></tr></table>"
      ],
      "text/plain": [
       "<lmfit.minimizer.MinimizerResult at 0x2181367b548>"
      ]
     },
     "execution_count": 38,
     "metadata": {},
     "output_type": "execute_result"
    }
   ],
   "source": [
    "# report_fit(result)\n",
    "xwFit10b[0].result"
   ]
  },
  {
   "cell_type": "code",
   "execution_count": 36,
   "metadata": {
    "Collapsed": "false",
    "hidden": true
   },
   "outputs": [
    {
     "data": {
      "text/html": [
       "<h2>Fit Statistics</h2><table><tr><td>fitting method</td><td>leastsq</td><td></td></tr><tr><td># function evals</td><td>532</td><td></td></tr><tr><td># data points</td><td>1200</td><td></td></tr><tr><td># variables</td><td>25</td><td></td></tr><tr><td>chi-square</td><td> 1.3170e+13</td><td></td></tr><tr><td>reduced chi-square</td><td> 1.1209e+10</td><td></td></tr><tr><td>Akaike info crit.</td><td> 27792.7037</td><td></td></tr><tr><td>Bayesian info crit.</td><td> 27919.9556</td><td></td></tr></table><h2>Variables</h2><table><tr><th> name </th><th> value </th><th> standard error </th><th> relative error </th><th> initial value </th><th> min </th><th> max </th><th> vary </th></tr><tr><td> A92 </td><td>  236583.701 </td><td>  1562.04935 </td><td> (0.66%) </td><td> 200000.0 </td><td>  0.00000000 </td><td>         inf </td><td> True </td></tr><tr><td> alpha </td><td>  103.917430 </td><td>  0.56892793 </td><td> (0.55%) </td><td> 140 </td><td>  0.00000000 </td><td>         inf </td><td> True </td></tr><tr><td> beta </td><td>  1882.66221 </td><td>  1039629.92 </td><td> (55221.27%) </td><td> 0.001 </td><td>  0.00000000 </td><td>         inf </td><td> True </td></tr><tr><td> R </td><td>  9.7323e-04 </td><td>  1.11093368 </td><td> (114148.78%) </td><td> 0.001 </td><td>  0.00000000 </td><td>         inf </td><td> True </td></tr><tr><td> gamma </td><td>  0.00140661 </td><td>  1.3707e-04 </td><td> (9.74%) </td><td> 0.001 </td><td>  0.00000000 </td><td>         inf </td><td> True </td></tr><tr><td> sigma </td><td>  0.00350110 </td><td>  2.3479e-04 </td><td> (6.71%) </td><td> 0.0066 </td><td>  0.00000000 </td><td>         inf </td><td> True </td></tr><tr><td> k </td><td>  0.05000000 </td><td>  0.00000000 </td><td> (0.00%) </td><td> 0.05 </td><td>  0.00000000 </td><td>         inf </td><td> False </td></tr><tr><td> xp92 </td><td> -10.0220116 </td><td>  5.7907e-04 </td><td> (0.01%) </td><td> -10.0 </td><td>        -inf </td><td>         inf </td><td> True </td></tr><tr><td> A93 </td><td>  231794.760 </td><td>  1559.88728 </td><td> (0.67%) </td><td> 200000.0 </td><td>  0.00000000 </td><td>         inf </td><td> True </td></tr><tr><td> xp93 </td><td> -10.0221229 </td><td>  5.8667e-04 </td><td> (0.01%) </td><td> -10.0 </td><td>        -inf </td><td>         inf </td><td> True </td></tr><tr><td> A94 </td><td>  232813.583 </td><td>  1547.09831 </td><td> (0.66%) </td><td> 200000.0 </td><td>  0.00000000 </td><td>         inf </td><td> True </td></tr><tr><td> xp94 </td><td> -10.0220641 </td><td>  5.8740e-04 </td><td> (0.01%) </td><td> -10.0 </td><td>        -inf </td><td>         inf </td><td> True </td></tr><tr><td> A95 </td><td>  233132.780 </td><td>  1600.02662 </td><td> (0.69%) </td><td> 200000.0 </td><td>  0.00000000 </td><td>         inf </td><td> True </td></tr><tr><td> xp95 </td><td> -10.0223751 </td><td>  6.0207e-04 </td><td> (0.01%) </td><td> -10.0 </td><td>        -inf </td><td>         inf </td><td> True </td></tr><tr><td> A96 </td><td>  232256.666 </td><td>  1546.31918 </td><td> (0.67%) </td><td> 200000.0 </td><td>  0.00000000 </td><td>         inf </td><td> True </td></tr><tr><td> xp96 </td><td> -10.0221123 </td><td>  5.6003e-04 </td><td> (0.01%) </td><td> -10.0 </td><td>        -inf </td><td>         inf </td><td> True </td></tr><tr><td> A97 </td><td>  228239.707 </td><td>  1536.77084 </td><td> (0.67%) </td><td> 200000.0 </td><td>  0.00000000 </td><td>         inf </td><td> True </td></tr><tr><td> xp97 </td><td> -10.0221952 </td><td>  5.7424e-04 </td><td> (0.01%) </td><td> -10.0 </td><td>        -inf </td><td>         inf </td><td> True </td></tr><tr><td> A98 </td><td>  232305.371 </td><td>  1556.14964 </td><td> (0.67%) </td><td> 200000.0 </td><td>  0.00000000 </td><td>         inf </td><td> True </td></tr><tr><td> xp98 </td><td> -10.0222816 </td><td>  5.7888e-04 </td><td> (0.01%) </td><td> -10.0 </td><td>        -inf </td><td>         inf </td><td> True </td></tr><tr><td> A99 </td><td>  231193.380 </td><td>  1544.15983 </td><td> (0.67%) </td><td> 200000.0 </td><td>  0.00000000 </td><td>         inf </td><td> True </td></tr><tr><td> xp99 </td><td> -10.0225454 </td><td>  5.7708e-04 </td><td> (0.01%) </td><td> -10.0 </td><td>        -inf </td><td>         inf </td><td> True </td></tr><tr><td> A100 </td><td>  229949.355 </td><td>  1541.35944 </td><td> (0.67%) </td><td> 200000.0 </td><td>  0.00000000 </td><td>         inf </td><td> True </td></tr><tr><td> xp100 </td><td> -10.0221401 </td><td>  5.8083e-04 </td><td> (0.01%) </td><td> -10.0 </td><td>        -inf </td><td>         inf </td><td> True </td></tr><tr><td> A101 </td><td>  227772.068 </td><td>  1591.53331 </td><td> (0.70%) </td><td> 200000.0 </td><td>  0.00000000 </td><td>         inf </td><td> True </td></tr><tr><td> xp101 </td><td> -10.0222111 </td><td>  6.0125e-04 </td><td> (0.01%) </td><td> -10.0 </td><td>        -inf </td><td>         inf </td><td> True </td></tr></table><h2>Correlations (unreported correlations are < 0.100)</h2><table><tr><td>xp94</td><td>xp95</td><td>0.9644</td></tr><tr><td>xp95</td><td>xp101</td><td>0.9643</td></tr><tr><td>xp93</td><td>xp95</td><td>0.9643</td></tr><tr><td>xp94</td><td>xp101</td><td>0.9637</td></tr><tr><td>xp95</td><td>xp100</td><td>0.9637</td></tr><tr><td>xp95</td><td>xp99</td><td>0.9636</td></tr><tr><td>xp92</td><td>xp101</td><td>0.9635</td></tr><tr><td>xp93</td><td>xp101</td><td>0.9635</td></tr><tr><td>xp93</td><td>xp94</td><td>0.9635</td></tr><tr><td>xp92</td><td>xp95</td><td>0.9634</td></tr><tr><td>xp95</td><td>xp98</td><td>0.9634</td></tr><tr><td>xp92</td><td>xp94</td><td>0.9633</td></tr><tr><td>xp98</td><td>xp101</td><td>0.9631</td></tr><tr><td>xp92</td><td>xp98</td><td>0.9630</td></tr><tr><td>xp94</td><td>xp98</td><td>0.9630</td></tr><tr><td>xp92</td><td>xp93</td><td>0.9630</td></tr><tr><td>xp94</td><td>xp99</td><td>0.9628</td></tr><tr><td>xp99</td><td>xp101</td><td>0.9627</td></tr><tr><td>xp93</td><td>xp98</td><td>0.9627</td></tr><tr><td>xp95</td><td>xp97</td><td>0.9627</td></tr><tr><td>xp95</td><td>xp96</td><td>0.9626</td></tr><tr><td>xp93</td><td>xp99</td><td>0.9626</td></tr><tr><td>xp94</td><td>xp100</td><td>0.9624</td></tr><tr><td>xp93</td><td>xp100</td><td>0.9624</td></tr><tr><td>xp100</td><td>xp101</td><td>0.9623</td></tr><tr><td>xp92</td><td>xp99</td><td>0.9622</td></tr><tr><td>xp97</td><td>xp101</td><td>0.9621</td></tr><tr><td>xp94</td><td>xp97</td><td>0.9621</td></tr><tr><td>xp98</td><td>xp99</td><td>0.9620</td></tr><tr><td>xp93</td><td>xp97</td><td>0.9619</td></tr><tr><td>xp92</td><td>xp97</td><td>0.9618</td></tr><tr><td>xp99</td><td>xp100</td><td>0.9617</td></tr><tr><td>xp94</td><td>xp96</td><td>0.9615</td></tr><tr><td>xp97</td><td>xp98</td><td>0.9614</td></tr><tr><td>xp93</td><td>xp96</td><td>0.9614</td></tr><tr><td>xp96</td><td>xp101</td><td>0.9614</td></tr><tr><td>xp98</td><td>xp100</td><td>0.9613</td></tr><tr><td>xp92</td><td>xp100</td><td>0.9612</td></tr><tr><td>xp97</td><td>xp99</td><td>0.9611</td></tr><tr><td>xp96</td><td>xp100</td><td>0.9609</td></tr><tr><td>xp96</td><td>xp99</td><td>0.9608</td></tr><tr><td>xp97</td><td>xp100</td><td>0.9607</td></tr><tr><td>xp92</td><td>xp96</td><td>0.9605</td></tr><tr><td>xp96</td><td>xp98</td><td>0.9605</td></tr><tr><td>xp96</td><td>xp97</td><td>0.9598</td></tr><tr><td>R</td><td>xp92</td><td>-0.8787</td></tr><tr><td>R</td><td>xp98</td><td>-0.8715</td></tr><tr><td>R</td><td>xp101</td><td>-0.8693</td></tr><tr><td>R</td><td>xp94</td><td>-0.8664</td></tr><tr><td>R</td><td>xp97</td><td>-0.8660</td></tr><tr><td>R</td><td>xp93</td><td>-0.8638</td></tr><tr><td>R</td><td>xp99</td><td>-0.8615</td></tr><tr><td>R</td><td>xp95</td><td>-0.8576</td></tr><tr><td>R</td><td>xp96</td><td>-0.8532</td></tr><tr><td>R</td><td>xp100</td><td>-0.8521</td></tr><tr><td>gamma</td><td>sigma</td><td>-0.7114</td></tr><tr><td>alpha</td><td>gamma</td><td>0.5958</td></tr><tr><td>beta</td><td>R</td><td>0.4834</td></tr><tr><td>gamma</td><td>A94</td><td>0.4059</td></tr><tr><td>gamma</td><td>A96</td><td>0.4044</td></tr><tr><td>A92</td><td>gamma</td><td>0.4034</td></tr><tr><td>gamma</td><td>A99</td><td>0.4016</td></tr><tr><td>gamma</td><td>A100</td><td>0.4010</td></tr><tr><td>gamma</td><td>A97</td><td>0.3990</td></tr><tr><td>gamma</td><td>A93</td><td>0.3985</td></tr><tr><td>gamma</td><td>A98</td><td>0.3967</td></tr><tr><td>gamma</td><td>A95</td><td>0.3875</td></tr><tr><td>gamma</td><td>A101</td><td>0.3785</td></tr><tr><td>R</td><td>A101</td><td>0.3498</td></tr><tr><td>A95</td><td>xp95</td><td>-0.3425</td></tr><tr><td>A95</td><td>xp101</td><td>-0.3423</td></tr><tr><td>xp94</td><td>A95</td><td>-0.3415</td></tr><tr><td>xp93</td><td>A95</td><td>-0.3414</td></tr><tr><td>xp92</td><td>A95</td><td>-0.3413</td></tr><tr><td>A101</td><td>xp101</td><td>-0.3411</td></tr><tr><td>A95</td><td>xp98</td><td>-0.3409</td></tr><tr><td>A95</td><td>xp99</td><td>-0.3405</td></tr><tr><td>xp92</td><td>A101</td><td>-0.3405</td></tr><tr><td>A95</td><td>xp100</td><td>-0.3404</td></tr><tr><td>A95</td><td>xp97</td><td>-0.3402</td></tr><tr><td>xp95</td><td>A101</td><td>-0.3402</td></tr><tr><td>xp94</td><td>A101</td><td>-0.3400</td></tr><tr><td>xp98</td><td>A101</td><td>-0.3398</td></tr><tr><td>xp93</td><td>A101</td><td>-0.3397</td></tr><tr><td>R</td><td>A95</td><td>0.3397</td></tr><tr><td>A95</td><td>xp96</td><td>-0.3389</td></tr><tr><td>xp97</td><td>A101</td><td>-0.3388</td></tr><tr><td>xp99</td><td>A101</td><td>-0.3388</td></tr><tr><td>xp100</td><td>A101</td><td>-0.3381</td></tr><tr><td>xp96</td><td>A101</td><td>-0.3369</td></tr><tr><td>A95</td><td>A101</td><td>0.3324</td></tr><tr><td>sigma</td><td>A94</td><td>-0.3196</td></tr><tr><td>A93</td><td>A95</td><td>0.3170</td></tr><tr><td>A92</td><td>A95</td><td>0.3166</td></tr><tr><td>sigma</td><td>A96</td><td>-0.3164</td></tr><tr><td>sigma</td><td>A93</td><td>-0.3141</td></tr><tr><td>A95</td><td>A98</td><td>0.3136</td></tr><tr><td>A92</td><td>A101</td><td>0.3135</td></tr><tr><td>A93</td><td>A101</td><td>0.3127</td></tr><tr><td>sigma</td><td>A100</td><td>-0.3117</td></tr><tr><td>A98</td><td>A101</td><td>0.3108</td></tr><tr><td>sigma</td><td>A95</td><td>-0.3106</td></tr><tr><td>sigma</td><td>A99</td><td>-0.3098</td></tr><tr><td>sigma</td><td>A97</td><td>-0.3089</td></tr><tr><td>A95</td><td>A96</td><td>0.3085</td></tr><tr><td>A94</td><td>A95</td><td>0.3085</td></tr><tr><td>A95</td><td>A99</td><td>0.3076</td></tr><tr><td>A92</td><td>sigma</td><td>-0.3061</td></tr><tr><td>A95</td><td>A100</td><td>0.3061</td></tr><tr><td>A96</td><td>A101</td><td>0.3040</td></tr><tr><td>A99</td><td>A101</td><td>0.3037</td></tr><tr><td>A94</td><td>A101</td><td>0.3037</td></tr><tr><td>A95</td><td>A97</td><td>0.3036</td></tr><tr><td>A100</td><td>A101</td><td>0.3020</td></tr><tr><td>A92</td><td>A93</td><td>0.3015</td></tr><tr><td>A92</td><td>A98</td><td>0.3009</td></tr><tr><td>A97</td><td>A101</td><td>0.2996</td></tr><tr><td>sigma</td><td>A98</td><td>-0.2991</td></tr><tr><td>sigma</td><td>A101</td><td>-0.2985</td></tr><tr><td>A93</td><td>A98</td><td>0.2983</td></tr><tr><td>A93</td><td>A94</td><td>0.2953</td></tr><tr><td>A93</td><td>A96</td><td>0.2951</td></tr><tr><td>A92</td><td>A96</td><td>0.2950</td></tr><tr><td>A92</td><td>A99</td><td>0.2948</td></tr><tr><td>A92</td><td>A94</td><td>0.2947</td></tr><tr><td>A93</td><td>A99</td><td>0.2940</td></tr><tr><td>A92</td><td>A100</td><td>0.2931</td></tr><tr><td>A93</td><td>A100</td><td>0.2928</td></tr><tr><td>A98</td><td>A99</td><td>0.2918</td></tr><tr><td>A96</td><td>A98</td><td>0.2917</td></tr><tr><td>R</td><td>A98</td><td>0.2917</td></tr><tr><td>A94</td><td>A98</td><td>0.2913</td></tr><tr><td>A92</td><td>A97</td><td>0.2910</td></tr><tr><td>A93</td><td>A97</td><td>0.2905</td></tr><tr><td>A98</td><td>A100</td><td>0.2899</td></tr><tr><td>A94</td><td>A96</td><td>0.2897</td></tr><tr><td>A94</td><td>A99</td><td>0.2883</td></tr><tr><td>A96</td><td>A99</td><td>0.2882</td></tr><tr><td>A97</td><td>A98</td><td>0.2879</td></tr><tr><td>A92</td><td>R</td><td>0.2873</td></tr><tr><td>A94</td><td>A100</td><td>0.2873</td></tr><tr><td>A96</td><td>A100</td><td>0.2871</td></tr><tr><td>A99</td><td>A100</td><td>0.2860</td></tr><tr><td>A94</td><td>A97</td><td>0.2850</td></tr><tr><td>A96</td><td>A97</td><td>0.2848</td></tr><tr><td>A97</td><td>A99</td><td>0.2839</td></tr><tr><td>A97</td><td>A100</td><td>0.2827</td></tr><tr><td>A93</td><td>xp95</td><td>-0.2825</td></tr><tr><td>A93</td><td>xp101</td><td>-0.2821</td></tr><tr><td>A93</td><td>xp93</td><td>-0.2816</td></tr><tr><td>A93</td><td>xp94</td><td>-0.2815</td></tr><tr><td>A93</td><td>xp100</td><td>-0.2808</td></tr><tr><td>xp92</td><td>A93</td><td>-0.2808</td></tr><tr><td>A93</td><td>xp98</td><td>-0.2807</td></tr><tr><td>A93</td><td>xp99</td><td>-0.2807</td></tr><tr><td>A93</td><td>xp97</td><td>-0.2802</td></tr><tr><td>A93</td><td>xp96</td><td>-0.2794</td></tr><tr><td>R</td><td>A93</td><td>0.2780</td></tr><tr><td>A92</td><td>xp101</td><td>-0.2698</td></tr><tr><td>A92</td><td>xp92</td><td>-0.2698</td></tr><tr><td>xp92</td><td>A98</td><td>-0.2697</td></tr><tr><td>A98</td><td>xp101</td><td>-0.2697</td></tr><tr><td>A98</td><td>xp98</td><td>-0.2690</td></tr><tr><td>A92</td><td>xp95</td><td>-0.2689</td></tr><tr><td>A92</td><td>xp94</td><td>-0.2689</td></tr><tr><td>A92</td><td>xp98</td><td>-0.2688</td></tr><tr><td>xp94</td><td>A98</td><td>-0.2687</td></tr><tr><td>A92</td><td>xp93</td><td>-0.2686</td></tr><tr><td>xp95</td><td>A98</td><td>-0.2685</td></tr><tr><td>xp93</td><td>A98</td><td>-0.2684</td></tr><tr><td>A92</td><td>xp97</td><td>-0.2679</td></tr><tr><td>A92</td><td>xp99</td><td>-0.2678</td></tr><tr><td>xp97</td><td>A98</td><td>-0.2678</td></tr><tr><td>A98</td><td>xp99</td><td>-0.2675</td></tr><tr><td>A92</td><td>xp100</td><td>-0.2670</td></tr><tr><td>A98</td><td>xp100</td><td>-0.2665</td></tr><tr><td>A92</td><td>xp96</td><td>-0.2659</td></tr><tr><td>xp96</td><td>A98</td><td>-0.2654</td></tr><tr><td>beta</td><td>sigma</td><td>0.2619</td></tr><tr><td>R</td><td>A99</td><td>0.2579</td></tr><tr><td>xp95</td><td>A96</td><td>-0.2551</td></tr><tr><td>A94</td><td>xp95</td><td>-0.2546</td></tr><tr><td>A96</td><td>xp101</td><td>-0.2546</td></tr><tr><td>xp94</td><td>A96</td><td>-0.2539</td></tr><tr><td>xp93</td><td>A96</td><td>-0.2539</td></tr><tr><td>A94</td><td>xp101</td><td>-0.2537</td></tr><tr><td>A99</td><td>xp101</td><td>-0.2536</td></tr><tr><td>A96</td><td>xp100</td><td>-0.2536</td></tr><tr><td>xp95</td><td>A99</td><td>-0.2535</td></tr><tr><td>A94</td><td>xp94</td><td>-0.2533</td></tr><tr><td>A96</td><td>xp99</td><td>-0.2532</td></tr><tr><td>xp93</td><td>A94</td><td>-0.2532</td></tr><tr><td>A96</td><td>xp98</td><td>-0.2531</td></tr><tr><td>A94</td><td>xp100</td><td>-0.2531</td></tr><tr><td>xp92</td><td>A96</td><td>-0.2531</td></tr><tr><td>xp94</td><td>A99</td><td>-0.2528</td></tr><tr><td>A96</td><td>xp97</td><td>-0.2527</td></tr><tr><td>xp93</td><td>A99</td><td>-0.2527</td></tr><tr><td>xp92</td><td>A99</td><td>-0.2526</td></tr><tr><td>A94</td><td>xp99</td><td>-0.2525</td></tr><tr><td>xp98</td><td>A99</td><td>-0.2523</td></tr><tr><td>A96</td><td>xp96</td><td>-0.2523</td></tr><tr><td>A94</td><td>xp98</td><td>-0.2522</td></tr><tr><td>xp95</td><td>A100</td><td>-0.2522</td></tr><tr><td>A99</td><td>xp99</td><td>-0.2522</td></tr><tr><td>xp92</td><td>A94</td><td>-0.2520</td></tr><tr><td>A100</td><td>xp101</td><td>-0.2519</td></tr><tr><td>A94</td><td>xp97</td><td>-0.2519</td></tr><tr><td>A99</td><td>xp100</td><td>-0.2519</td></tr><tr><td>xp97</td><td>A99</td><td>-0.2517</td></tr><tr><td>A94</td><td>xp96</td><td>-0.2516</td></tr><tr><td>xp94</td><td>A100</td><td>-0.2513</td></tr><tr><td>xp93</td><td>A100</td><td>-0.2512</td></tr><tr><td>R</td><td>A100</td><td>0.2512</td></tr><tr><td>A100</td><td>xp100</td><td>-0.2508</td></tr><tr><td>xp92</td><td>A100</td><td>-0.2507</td></tr><tr><td>xp98</td><td>A100</td><td>-0.2506</td></tr><tr><td>xp96</td><td>A99</td><td>-0.2506</td></tr><tr><td>xp99</td><td>A100</td><td>-0.2505</td></tr><tr><td>xp97</td><td>A100</td><td>-0.2501</td></tr><tr><td>R</td><td>A96</td><td>0.2495</td></tr><tr><td>xp96</td><td>A100</td><td>-0.2493</td></tr><tr><td>R</td><td>A97</td><td>0.2490</td></tr><tr><td>xp95</td><td>A97</td><td>-0.2480</td></tr><tr><td>A97</td><td>xp101</td><td>-0.2478</td></tr><tr><td>xp94</td><td>A97</td><td>-0.2471</td></tr><tr><td>xp93</td><td>A97</td><td>-0.2470</td></tr><tr><td>xp92</td><td>A97</td><td>-0.2466</td></tr><tr><td>A97</td><td>xp98</td><td>-0.2465</td></tr><tr><td>A97</td><td>xp100</td><td>-0.2463</td></tr><tr><td>A97</td><td>xp99</td><td>-0.2463</td></tr><tr><td>A97</td><td>xp97</td><td>-0.2462</td></tr><tr><td>xp96</td><td>A97</td><td>-0.2450</td></tr><tr><td>R</td><td>A94</td><td>0.2441</td></tr><tr><td>alpha</td><td>xp92</td><td>0.2165</td></tr><tr><td>alpha</td><td>xp96</td><td>0.2149</td></tr><tr><td>alpha</td><td>xp98</td><td>0.2144</td></tr><tr><td>alpha</td><td>xp97</td><td>0.2144</td></tr><tr><td>alpha</td><td>xp99</td><td>0.2121</td></tr><tr><td>alpha</td><td>xp94</td><td>0.2104</td></tr><tr><td>alpha</td><td>xp93</td><td>0.2099</td></tr><tr><td>alpha</td><td>xp100</td><td>0.2083</td></tr><tr><td>alpha</td><td>xp101</td><td>0.2075</td></tr><tr><td>alpha</td><td>xp95</td><td>0.2037</td></tr><tr><td>alpha</td><td>beta</td><td>-0.1340</td></tr><tr><td>gamma</td><td>xp92</td><td>0.1286</td></tr><tr><td>gamma</td><td>xp96</td><td>0.1280</td></tr><tr><td>gamma</td><td>xp97</td><td>0.1275</td></tr><tr><td>gamma</td><td>xp98</td><td>0.1275</td></tr><tr><td>gamma</td><td>xp99</td><td>0.1262</td></tr><tr><td>alpha</td><td>A94</td><td>0.1257</td></tr><tr><td>gamma</td><td>xp94</td><td>0.1252</td></tr><tr><td>gamma</td><td>xp93</td><td>0.1249</td></tr><tr><td>gamma</td><td>xp100</td><td>0.1241</td></tr><tr><td>alpha</td><td>A96</td><td>0.1240</td></tr><tr><td>gamma</td><td>xp101</td><td>0.1234</td></tr><tr><td>alpha</td><td>A100</td><td>0.1220</td></tr><tr><td>gamma</td><td>xp95</td><td>0.1213</td></tr><tr><td>alpha</td><td>A97</td><td>0.1211</td></tr><tr><td>alpha</td><td>A99</td><td>0.1209</td></tr><tr><td>alpha</td><td>A93</td><td>0.1200</td></tr><tr><td>A92</td><td>alpha</td><td>0.1173</td></tr><tr><td>alpha</td><td>A98</td><td>0.1139</td></tr><tr><td>alpha</td><td>A95</td><td>0.1119</td></tr><tr><td>alpha</td><td>R</td><td>-0.1089</td></tr><tr><td>alpha</td><td>A101</td><td>0.1062</td></tr></table>"
      ],
      "text/plain": [
       "<lmfit.minimizer.MinimizerResult at 0x2181367b8c8>"
      ]
     },
     "execution_count": 36,
     "metadata": {},
     "output_type": "execute_result"
    }
   ],
   "source": [
    "# report_fit(result)\n",
    "xFit10[0].result"
   ]
  },
  {
   "cell_type": "code",
   "execution_count": 37,
   "metadata": {
    "Collapsed": "false",
    "hidden": true
   },
   "outputs": [
    {
     "data": {
      "text/html": [
       "<h2>Fit Statistics</h2><table><tr><td>fitting method</td><td>leastsq</td><td></td></tr><tr><td># function evals</td><td>427</td><td></td></tr><tr><td># data points</td><td>1200</td><td></td></tr><tr><td># variables</td><td>25</td><td></td></tr><tr><td>chi-square</td><td> 2290.01859</td><td></td></tr><tr><td>reduced chi-square</td><td> 1.94895199</td><td></td></tr><tr><td>Akaike info crit.</td><td> 825.486054</td><td></td></tr><tr><td>Bayesian info crit.</td><td> 952.737975</td><td></td></tr></table><h2>Variables</h2><table><tr><th> name </th><th> value </th><th> standard error </th><th> relative error </th><th> initial value </th><th> min </th><th> max </th><th> vary </th></tr><tr><td> A92 </td><td>  234011.974 </td><td>  3287.94636 </td><td> (1.41%) </td><td> 200000.0 </td><td>  0.00000000 </td><td>         inf </td><td> True </td></tr><tr><td> alpha </td><td>  95.4374390 </td><td>  0.61906034 </td><td> (0.65%) </td><td> 140 </td><td>  0.00000000 </td><td>         inf </td><td> True </td></tr><tr><td> beta </td><td>  1330.01209 </td><td>  989923.585 </td><td> (74429.67%) </td><td> 0.001 </td><td>  0.00000000 </td><td>         inf </td><td> True </td></tr><tr><td> R </td><td>  6.8363e-04 </td><td>  0.97074280 </td><td> (141997.37%) </td><td> 0.001 </td><td>  0.00000000 </td><td>         inf </td><td> True </td></tr><tr><td> gamma </td><td>  4.0579e-04 </td><td>  3.3310e-05 </td><td> (8.21%) </td><td> 0.001 </td><td>  0.00000000 </td><td>         inf </td><td> True </td></tr><tr><td> sigma </td><td>  0.00405638 </td><td>  2.3674e-04 </td><td> (5.84%) </td><td> 0.0066 </td><td>  0.00000000 </td><td>         inf </td><td> True </td></tr><tr><td> k </td><td>  0.05000000 </td><td>  0.00000000 </td><td> (0.00%) </td><td> 0.05 </td><td>  0.00000000 </td><td>         inf </td><td> False </td></tr><tr><td> xp92 </td><td> -10.0235600 </td><td>  6.2411e-04 </td><td> (0.01%) </td><td> -10.0 </td><td>        -inf </td><td>         inf </td><td> True </td></tr><tr><td> A93 </td><td>  230335.938 </td><td>  3272.55345 </td><td> (1.42%) </td><td> 200000.0 </td><td>  0.00000000 </td><td>         inf </td><td> True </td></tr><tr><td> xp93 </td><td> -10.0238600 </td><td>  6.1693e-04 </td><td> (0.01%) </td><td> -10.0 </td><td>        -inf </td><td>         inf </td><td> True </td></tr><tr><td> A94 </td><td>  230898.755 </td><td>  3272.00053 </td><td> (1.42%) </td><td> 200000.0 </td><td>  0.00000000 </td><td>         inf </td><td> True </td></tr><tr><td> xp94 </td><td> -10.0235305 </td><td>  6.4378e-04 </td><td> (0.01%) </td><td> -10.0 </td><td>        -inf </td><td>         inf </td><td> True </td></tr><tr><td> A95 </td><td>  230915.512 </td><td>  3275.81809 </td><td> (1.42%) </td><td> 200000.0 </td><td>  0.00000000 </td><td>         inf </td><td> True </td></tr><tr><td> xp95 </td><td> -10.0239042 </td><td>  6.1344e-04 </td><td> (0.01%) </td><td> -10.0 </td><td>        -inf </td><td>         inf </td><td> True </td></tr><tr><td> A96 </td><td>  231520.418 </td><td>  3232.35949 </td><td> (1.40%) </td><td> 200000.0 </td><td>  0.00000000 </td><td>         inf </td><td> True </td></tr><tr><td> xp96 </td><td> -10.0236666 </td><td>  6.3629e-04 </td><td> (0.01%) </td><td> -10.0 </td><td>        -inf </td><td>         inf </td><td> True </td></tr><tr><td> A97 </td><td>  225992.730 </td><td>  3223.75822 </td><td> (1.43%) </td><td> 200000.0 </td><td>  0.00000000 </td><td>         inf </td><td> True </td></tr><tr><td> xp97 </td><td> -10.0236514 </td><td>  6.2541e-04 </td><td> (0.01%) </td><td> -10.0 </td><td>        -inf </td><td>         inf </td><td> True </td></tr><tr><td> A98 </td><td>  228048.184 </td><td>  3451.01309 </td><td> (1.51%) </td><td> 200000.0 </td><td>  0.00000000 </td><td>         inf </td><td> True </td></tr><tr><td> xp98 </td><td> -10.0236055 </td><td>  6.4388e-04 </td><td> (0.01%) </td><td> -10.0 </td><td>        -inf </td><td>         inf </td><td> True </td></tr><tr><td> A99 </td><td>  227460.513 </td><td>  3246.90507 </td><td> (1.43%) </td><td> 200000.0 </td><td>  0.00000000 </td><td>         inf </td><td> True </td></tr><tr><td> xp99 </td><td> -10.0237451 </td><td>  5.9158e-04 </td><td> (0.01%) </td><td> -10.0 </td><td>        -inf </td><td>         inf </td><td> True </td></tr><tr><td> A100 </td><td>  227037.741 </td><td>  3200.28314 </td><td> (1.41%) </td><td> 200000.0 </td><td>  0.00000000 </td><td>         inf </td><td> True </td></tr><tr><td> xp100 </td><td> -10.0235382 </td><td>  6.4832e-04 </td><td> (0.01%) </td><td> -10.0 </td><td>        -inf </td><td>         inf </td><td> True </td></tr><tr><td> A101 </td><td>  225057.609 </td><td>  3242.91312 </td><td> (1.44%) </td><td> 200000.0 </td><td>  0.00000000 </td><td>         inf </td><td> True </td></tr><tr><td> xp101 </td><td> -10.0237091 </td><td>  5.8421e-04 </td><td> (0.01%) </td><td> -10.0 </td><td>        -inf </td><td>         inf </td><td> True </td></tr></table><h2>Correlations (unreported correlations are < 0.100)</h2><table><tr><td>xp96</td><td>xp100</td><td>0.8975</td></tr><tr><td>xp92</td><td>xp100</td><td>0.8942</td></tr><tr><td>xp94</td><td>xp100</td><td>0.8941</td></tr><tr><td>xp95</td><td>xp100</td><td>0.8939</td></tr><tr><td>xp98</td><td>xp100</td><td>0.8931</td></tr><tr><td>xp92</td><td>xp96</td><td>0.8928</td></tr><tr><td>xp94</td><td>xp97</td><td>0.8927</td></tr><tr><td>xp97</td><td>xp100</td><td>0.8927</td></tr><tr><td>xp99</td><td>xp100</td><td>0.8913</td></tr><tr><td>xp93</td><td>xp100</td><td>0.8909</td></tr><tr><td>xp95</td><td>xp96</td><td>0.8908</td></tr><tr><td>xp93</td><td>xp94</td><td>0.8897</td></tr><tr><td>xp96</td><td>xp98</td><td>0.8895</td></tr><tr><td>xp96</td><td>xp99</td><td>0.8889</td></tr><tr><td>xp94</td><td>xp98</td><td>0.8889</td></tr><tr><td>xp94</td><td>xp95</td><td>0.8884</td></tr><tr><td>xp92</td><td>xp95</td><td>0.8876</td></tr><tr><td>xp94</td><td>xp96</td><td>0.8874</td></tr><tr><td>xp96</td><td>xp97</td><td>0.8872</td></tr><tr><td>xp95</td><td>xp98</td><td>0.8869</td></tr><tr><td>xp97</td><td>xp98</td><td>0.8869</td></tr><tr><td>xp100</td><td>xp101</td><td>0.8869</td></tr><tr><td>xp95</td><td>xp97</td><td>0.8868</td></tr><tr><td>xp93</td><td>xp97</td><td>0.8867</td></tr><tr><td>xp92</td><td>xp98</td><td>0.8864</td></tr><tr><td>xp93</td><td>xp96</td><td>0.8861</td></tr><tr><td>xp92</td><td>xp99</td><td>0.8856</td></tr><tr><td>xp95</td><td>xp99</td><td>0.8851</td></tr><tr><td>xp93</td><td>xp95</td><td>0.8850</td></tr><tr><td>xp92</td><td>xp94</td><td>0.8850</td></tr><tr><td>xp96</td><td>xp101</td><td>0.8849</td></tr><tr><td>xp93</td><td>xp98</td><td>0.8849</td></tr><tr><td>xp92</td><td>xp97</td><td>0.8845</td></tr><tr><td>xp98</td><td>xp99</td><td>0.8842</td></tr><tr><td>xp94</td><td>xp99</td><td>0.8842</td></tr><tr><td>xp92</td><td>xp93</td><td>0.8833</td></tr><tr><td>xp97</td><td>xp99</td><td>0.8833</td></tr><tr><td>xp93</td><td>xp99</td><td>0.8817</td></tr><tr><td>xp92</td><td>xp101</td><td>0.8815</td></tr><tr><td>xp95</td><td>xp101</td><td>0.8807</td></tr><tr><td>xp98</td><td>xp101</td><td>0.8797</td></tr><tr><td>xp94</td><td>xp101</td><td>0.8791</td></tr><tr><td>xp99</td><td>xp101</td><td>0.8788</td></tr><tr><td>xp97</td><td>xp101</td><td>0.8784</td></tr><tr><td>xp93</td><td>xp101</td><td>0.8770</td></tr><tr><td>R</td><td>xp94</td><td>-0.8378</td></tr><tr><td>R</td><td>xp97</td><td>-0.8186</td></tr><tr><td>R</td><td>xp93</td><td>-0.8099</td></tr><tr><td>R</td><td>xp98</td><td>-0.7962</td></tr><tr><td>R</td><td>xp100</td><td>-0.7941</td></tr><tr><td>R</td><td>xp95</td><td>-0.7897</td></tr><tr><td>R</td><td>xp99</td><td>-0.7763</td></tr><tr><td>R</td><td>xp92</td><td>-0.7715</td></tr><tr><td>R</td><td>xp96</td><td>-0.7699</td></tr><tr><td>R</td><td>xp101</td><td>-0.7681</td></tr><tr><td>sigma</td><td>xp96</td><td>0.6753</td></tr><tr><td>sigma</td><td>xp99</td><td>0.6727</td></tr><tr><td>sigma</td><td>xp101</td><td>0.6699</td></tr><tr><td>sigma</td><td>xp92</td><td>0.6678</td></tr><tr><td>sigma</td><td>xp100</td><td>0.6641</td></tr><tr><td>sigma</td><td>xp95</td><td>0.6613</td></tr><tr><td>sigma</td><td>xp98</td><td>0.6578</td></tr><tr><td>sigma</td><td>xp93</td><td>0.6435</td></tr><tr><td>sigma</td><td>xp97</td><td>0.6427</td></tr><tr><td>sigma</td><td>xp94</td><td>0.6305</td></tr><tr><td>beta</td><td>R</td><td>0.5187</td></tr><tr><td>alpha</td><td>sigma</td><td>0.3706</td></tr><tr><td>R</td><td>sigma</td><td>-0.3528</td></tr><tr><td>beta</td><td>sigma</td><td>0.2913</td></tr><tr><td>gamma</td><td>sigma</td><td>-0.2360</td></tr><tr><td>A101</td><td>xp101</td><td>0.1770</td></tr><tr><td>A99</td><td>xp99</td><td>0.1731</td></tr><tr><td>xp100</td><td>A101</td><td>0.1661</td></tr><tr><td>xp96</td><td>A101</td><td>0.1658</td></tr><tr><td>xp92</td><td>A101</td><td>0.1649</td></tr><tr><td>xp98</td><td>A101</td><td>0.1640</td></tr><tr><td>xp95</td><td>A101</td><td>0.1639</td></tr><tr><td>xp94</td><td>A101</td><td>0.1635</td></tr><tr><td>xp97</td><td>A101</td><td>0.1631</td></tr><tr><td>xp99</td><td>A101</td><td>0.1628</td></tr><tr><td>xp93</td><td>A101</td><td>0.1628</td></tr><tr><td>A99</td><td>xp100</td><td>0.1625</td></tr><tr><td>xp96</td><td>A99</td><td>0.1622</td></tr><tr><td>xp92</td><td>A99</td><td>0.1614</td></tr><tr><td>xp98</td><td>A99</td><td>0.1604</td></tr><tr><td>xp95</td><td>A99</td><td>0.1603</td></tr><tr><td>xp94</td><td>A99</td><td>0.1598</td></tr><tr><td>xp97</td><td>A99</td><td>0.1594</td></tr><tr><td>xp93</td><td>A99</td><td>0.1592</td></tr><tr><td>A99</td><td>xp101</td><td>0.1583</td></tr><tr><td>A95</td><td>xp95</td><td>0.1549</td></tr><tr><td>R</td><td>A101</td><td>-0.1527</td></tr><tr><td>R</td><td>A99</td><td>-0.1496</td></tr><tr><td>alpha</td><td>xp101</td><td>0.1431</td></tr><tr><td>A95</td><td>xp96</td><td>0.1423</td></tr><tr><td>A95</td><td>xp100</td><td>0.1419</td></tr><tr><td>xp92</td><td>A95</td><td>0.1414</td></tr><tr><td>alpha</td><td>xp99</td><td>0.1414</td></tr><tr><td>A95</td><td>xp98</td><td>0.1398</td></tr><tr><td>A95</td><td>xp99</td><td>0.1392</td></tr><tr><td>A95</td><td>xp101</td><td>0.1385</td></tr><tr><td>A95</td><td>xp97</td><td>0.1382</td></tr><tr><td>xp93</td><td>A95</td><td>0.1381</td></tr><tr><td>xp94</td><td>A95</td><td>0.1380</td></tr><tr><td>A93</td><td>xp93</td><td>0.1341</td></tr><tr><td>alpha</td><td>xp93</td><td>0.1325</td></tr><tr><td>alpha</td><td>xp97</td><td>0.1324</td></tr><tr><td>alpha</td><td>xp95</td><td>0.1313</td></tr><tr><td>alpha</td><td>xp98</td><td>0.1280</td></tr><tr><td>alpha</td><td>xp94</td><td>0.1256</td></tr><tr><td>A93</td><td>xp96</td><td>0.1246</td></tr><tr><td>A93</td><td>xp100</td><td>0.1241</td></tr><tr><td>xp92</td><td>A93</td><td>0.1237</td></tr><tr><td>R</td><td>A95</td><td>-0.1228</td></tr><tr><td>A93</td><td>xp98</td><td>0.1222</td></tr><tr><td>A93</td><td>xp95</td><td>0.1222</td></tr><tr><td>alpha</td><td>xp92</td><td>0.1217</td></tr><tr><td>A93</td><td>xp99</td><td>0.1217</td></tr><tr><td>A93</td><td>xp101</td><td>0.1211</td></tr><tr><td>alpha</td><td>xp96</td><td>0.1211</td></tr><tr><td>A93</td><td>xp97</td><td>0.1205</td></tr><tr><td>alpha</td><td>xp100</td><td>0.1202</td></tr><tr><td>A93</td><td>xp94</td><td>0.1202</td></tr><tr><td>A92</td><td>R</td><td>-0.1127</td></tr><tr><td>A92</td><td>xp92</td><td>0.1116</td></tr><tr><td>A97</td><td>xp97</td><td>0.1071</td></tr><tr><td>R</td><td>A93</td><td>-0.1053</td></tr><tr><td>beta</td><td>xp94</td><td>-0.1035</td></tr><tr><td>A92</td><td>xp94</td><td>0.1025</td></tr><tr><td>A92</td><td>xp97</td><td>0.1012</td></tr><tr><td>A92</td><td>xp100</td><td>0.1008</td></tr><tr><td>A92</td><td>xp93</td><td>0.1003</td></tr><tr><td>A92</td><td>xp98</td><td>0.1003</td></tr></table>"
      ],
      "text/plain": [
       "<lmfit.minimizer.MinimizerResult at 0x2181368d308>"
      ]
     },
     "execution_count": 37,
     "metadata": {},
     "output_type": "execute_result"
    }
   ],
   "source": [
    "# report_fit(result)\n",
    "xwFit10[0].result"
   ]
  },
  {
   "cell_type": "markdown",
   "metadata": {
    "Collapsed": "false",
    "hidden": true
   },
   "source": [
    "#### Plot fit result"
   ]
  },
  {
   "cell_type": "code",
   "execution_count": 154,
   "metadata": {
    "Collapsed": "false",
    "hidden": true,
    "scrolled": true
   },
   "outputs": [
    {
     "name": "stdout",
     "output_type": "stream",
     "text": [
      "data_range index = 97;                   plot_range index = 97\n"
     ]
    }
   ],
   "source": [
    "idx = 2\n",
    "plt_idx = 4\n",
    "for h in [6, 8, 10]:\n",
    "    plotKey = f'{h}_10'\n",
    "    xwFit[plotKey][idx].plot_range = xwFit[plotKey][idx].data_range[-plt_idx-1:-plt_idx]\n",
    "    xwFit[plotKey][idx].plotMultipleFits(title=f\"Peak ({h} {h} 0)\")"
   ]
  },
  {
   "cell_type": "markdown",
   "metadata": {
    "Collapsed": "true",
    "hidden": true
   },
   "source": [
    "#### Create Parameters object from result of fit of (8 8 0) peak"
   ]
  },
  {
   "cell_type": "code",
   "execution_count": 113,
   "metadata": {
    "hidden": true
   },
   "outputs": [
    {
     "name": "stdout",
     "output_type": "stream",
     "text": [
      "<Parameter 'alpha', value=125.12346204356733 (fixed), bounds=[0:inf]>\n",
      "<Parameter 'beta', value=1e-10 (fixed), bounds=[0:inf]>\n",
      "<Parameter 'R', value=1e-10 (fixed), bounds=[0:inf]>\n",
      "<Parameter 'gamma', value=0.000236804323940909 (fixed), bounds=[0:inf]>\n",
      "<Parameter 'sigma', value=0.004901834233885571 (fixed), bounds=[0:inf]>\n"
     ]
    }
   ],
   "source": [
    "xfit8_params = cp.copy(pvic_params)\n",
    "sharedParams = ['alpha', 'beta', 'R', 'gamma', 'sigma']\n",
    "for prm_key in sharedParams:\n",
    "    xfit8_params[prm_key] = xwFit['8_10'][2].result.params[prm_key]"
   ]
  },
  {
   "cell_type": "code",
   "execution_count": 23,
   "metadata": {
    "collapsed": true,
    "hidden": true
   },
   "outputs": [
    {
     "ename": "NameError",
     "evalue": "name 'xfit8_params' is not defined",
     "output_type": "error",
     "traceback": [
      "Traceback \u001b[1;36m(most recent call last)\u001b[0m:\n",
      "\u001b[1;36m  File \u001b[1;32m\"<ipython-input-23-5bc963a3c3a2>\"\u001b[1;36m, line \u001b[1;32m5\u001b[1;36m, in \u001b[1;35m<module>\u001b[1;36m\u001b[0m\n\u001b[1;33m    xfit8_params['xp'].value = peak_pos\u001b[0m\n",
      "\u001b[1;31mNameError\u001b[0m\u001b[1;31m:\u001b[0m name 'xfit8_params' is not defined\n"
     ]
    }
   ],
   "source": [
    "for h in range(6,11,2):\n",
    "    nSpec = 10\n",
    "    fitKey = f\"{h}_{nSpec}\"\n",
    "    peak_pos = -float(h)\n",
    "    xfit8_params['xp'].value = peak_pos\n",
    "    xwFit[fitKey] = initXpvicFit(nData, nSpec, xfit8_params, peak_pos, fit_intervals[h])\n",
    "    xwFit[fitKey][0].performFit(weights=xwFit[fitKey][0].weights)\n",
    "#     xwFit[fitKey][0].performFit()"
   ]
  },
  {
   "cell_type": "markdown",
   "metadata": {},
   "source": [
    "## Fit data with 2 pVIC functions"
   ]
  },
  {
   "cell_type": "markdown",
   "metadata": {
    "Collapsed": "false"
   },
   "source": [
    "#### Next steps as of 2020-05-08\n",
    "* Email Jack and Jiajia to ask whether or not it makes sense to find different values of shared parameters for three different peaks?\n",
    "* Fit with two pVIC functions at all fields, first with the amplitude ratio between two peaks free and then after fixing the ratio to the average at low fields H<.45T\n",
    "* Extract relative splitting for all three values of h in both cases\n",
    "* Fit splitting with a.sqrt(1-(H/Hc)^2) functional form, first with a different fit for each peak center value h=6,8,10, then with parameters a and hc shared between the three of them\n",
    "\n",
    "Note: if code crashes when resuming on 2020-05-11, check the last modified line \n",
    "if fidx>0 and key=='A' in fixParams:\n",
    "in xpvic_fit_cls.py"
   ]
  },
  {
   "cell_type": "markdown",
   "metadata": {
    "heading_collapsed": true
   },
   "source": [
    "### Compute reference parameters"
   ]
  },
  {
   "cell_type": "markdown",
   "metadata": {
    "hidden": true
   },
   "source": [
    "The npvicRefParams function allows to compute reference parameters from previous fit parameter results.\n",
    "This is useful to initialize new reference parameters, especially after computing the optimal values of shared parameters."
   ]
  },
  {
   "cell_type": "code",
   "execution_count": 36,
   "metadata": {
    "hidden": true
   },
   "outputs": [],
   "source": [
    "def npvicRefParams(pvic_params, fit_params):\n",
    "\n",
    "    ref_params = cp.copy(pvic_params)\n",
    "    fit_params_keys = list(fit_params.keys())\n",
    "\n",
    "    for index, key in enumerate(ref_params.keys()):\n",
    "        if key in fit_params_keys[index]:\n",
    "            ref_params[key] = cp.copy(fit_params[fit_params_keys[index]])\n",
    "    \n",
    "    return ref_params"
   ]
  },
  {
   "cell_type": "code",
   "execution_count": 41,
   "metadata": {
    "hidden": true
   },
   "outputs": [],
   "source": [
    "n = 2\n",
    "data_range = range(1)\n",
    "plt_idx = data_range[0]\n",
    "\n",
    "if 'ref_params' not in globals() or type(ref_params) is not dict:\n",
    "    ref_params = {}\n",
    "\n",
    "for h in [6, 8, 10]:\n",
    "    if not hasattr(ref_params, f'{h}'):\n",
    "        ref_params[h] = npvicRefParams(pvic_params, xwFit[f'{h}_1-4_92-101'][2].result.params)\n",
    "#         fit2_params[h] = npvicInitParams(ref_params, plt_idx, n)"
   ]
  },
  {
   "cell_type": "code",
   "execution_count": 42,
   "metadata": {
    "hidden": true
   },
   "outputs": [
    {
     "data": {
      "text/html": [
       "<table><tr><th> name </th><th> value </th><th> standard error </th><th> relative error </th><th> initial value </th><th> min </th><th> max </th><th> vary </th></tr><tr><td> A </td><td>  146303.045 </td><td>  1482.31418 </td><td> (1.01%) </td><td> 200000.0 </td><td>  0.00000000 </td><td>         inf </td><td> True </td></tr><tr><td> alpha </td><td>  125.123375 </td><td>  0.00000000 </td><td> (0.00%) </td><td> 125.12337489567476 </td><td>  0.00000000 </td><td>         inf </td><td> False </td></tr><tr><td> beta </td><td>  1.0000e-10 </td><td>  0.00000000 </td><td> (0.00%) </td><td> 1e-10 </td><td>  0.00000000 </td><td>         inf </td><td> False </td></tr><tr><td> R </td><td>  1.0000e-10 </td><td>  0.00000000 </td><td> (0.00%) </td><td> 1e-10 </td><td>  0.00000000 </td><td>         inf </td><td> False </td></tr><tr><td> gamma </td><td>  2.3695e-04 </td><td>  0.00000000 </td><td> (0.00%) </td><td> 0.00023694672897822677 </td><td>  0.00000000 </td><td>         inf </td><td> False </td></tr><tr><td> sigma </td><td>  0.00490165 </td><td>  0.00000000 </td><td> (0.00%) </td><td> 0.004901648479270548 </td><td>  0.00000000 </td><td>         inf </td><td> False </td></tr><tr><td> k </td><td>  0.05000000 </td><td>  0.00000000 </td><td> (0.00%) </td><td> 0.05 </td><td>  0.00000000 </td><td>         inf </td><td> False </td></tr><tr><td> xp </td><td> -8.01798181 </td><td>  1.2594e-04 </td><td> (0.00%) </td><td> -8.0 </td><td>        -inf </td><td>         inf </td><td> True </td></tr></table>"
      ],
      "text/plain": [
       "Parameters([('A',\n",
       "             <Parameter 'A', value=146303.04486515664 +/- 1.48e+03, bounds=[0:inf]>),\n",
       "            ('alpha',\n",
       "             <Parameter 'alpha', value=125.12337489567476 (fixed), bounds=[0:inf]>),\n",
       "            ('beta', <Parameter 'beta', value=1e-10 (fixed), bounds=[0:inf]>),\n",
       "            ('R', <Parameter 'R', value=1e-10 (fixed), bounds=[0:inf]>),\n",
       "            ('gamma',\n",
       "             <Parameter 'gamma', value=0.00023694672897822677 (fixed), bounds=[0:inf]>),\n",
       "            ('sigma',\n",
       "             <Parameter 'sigma', value=0.004901648479270548 (fixed), bounds=[0:inf]>),\n",
       "            ('k', <Parameter 'k', value=0.05 (fixed), bounds=[0:inf]>),\n",
       "            ('xp',\n",
       "             <Parameter 'xp', value=-8.017981807318968 +/- 0.000126, bounds=[-inf:inf]>)])"
      ]
     },
     "execution_count": 42,
     "metadata": {},
     "output_type": "execute_result"
    }
   ],
   "source": [
    "ref_params[8]"
   ]
  },
  {
   "cell_type": "markdown",
   "metadata": {},
   "source": [
    "### Fit 2 peaks vs field"
   ]
  },
  {
   "cell_type": "code",
   "execution_count": 33,
   "metadata": {},
   "outputs": [],
   "source": [
    "set_tup = (6, 8, 10)\n",
    "fit_intervals = {6:[-.03, .15], 8:[-.1, .1], 10:[-.15, .15]}#"
   ]
  },
  {
   "cell_type": "code",
   "execution_count": 67,
   "metadata": {},
   "outputs": [
    {
     "data": {
      "text/plain": [
       "{6: {'A': 1.6409438030792185},\n",
       " 8: {'A': 2.1097044913894143},\n",
       " 10: {'A': 1.9427240060501394}}"
      ]
     },
     "execution_count": 67,
     "metadata": {},
     "output_type": "execute_result"
    }
   ],
   "source": [
    "fix_params = {}\n",
    "for h in set_tup:\n",
    "    if 'fix_amp_ratio' in globals():\n",
    "        fix_params[h] = {'A':fix_amp_ratio[h][0]}\n",
    "    else:\n",
    "        fix_params[h] = {}\n",
    "        \n",
    "fix_params"
   ]
  },
  {
   "cell_type": "code",
   "execution_count": 78,
   "metadata": {},
   "outputs": [],
   "source": [
    "# idx = 60\n",
    "# fit_intervals[6] = [-.03, .15]\n",
    "nfun = 2\n",
    "nfree = 3\n",
    "\n",
    "for idx in [0]:\n",
    "    data_range = range(idx,idx+30)\n",
    "    for h in [6]:\n",
    "        xwFit = initXpvicFit('xwFit', nData, ref_params[h], h, fit_intervals[h], data_range, \n",
    "                             nFunc=nfun, nFreeParams=nfree, fixParams=fix_params[h], recompute=True)"
   ]
  },
  {
   "cell_type": "code",
   "execution_count": 79,
   "metadata": {
    "scrolled": true
   },
   "outputs": [
    {
     "data": {
      "text/html": [
       "<table><tr><th> name </th><th> value </th><th> standard error </th><th> relative error </th><th> initial value </th><th> min </th><th> max </th><th> vary </th><th> expression </th></tr><tr><td> A0_0 </td><td>  161586.156 </td><td>  979.850125 </td><td> (0.61%) </td><td> 96206.04018959324 </td><td>  0.00000000 </td><td>         inf </td><td> True </td><td>  </td></tr><tr><td> A0_1 </td><td>  98471.4746 </td><td>  597.125949 </td><td> (0.61%) </td><td> 58628.47954272617 </td><td>  0.00000000 </td><td>         inf </td><td> False </td><td> A0_0/1.6409438030792185 </td></tr><tr><td> alpha </td><td>  206.679253 </td><td>  0.00000000 </td><td> (0.00%) </td><td> 206.67925258024337 </td><td>  0.00000000 </td><td>         inf </td><td> False </td><td>  </td></tr><tr><td> beta </td><td>  1.0000e-10 </td><td>  0.00000000 </td><td> (0.00%) </td><td> 1e-10 </td><td>  0.00000000 </td><td>         inf </td><td> False </td><td>  </td></tr><tr><td> R </td><td>  1.0000e-10 </td><td>  0.00000000 </td><td> (0.00%) </td><td> 1e-10 </td><td>  0.00000000 </td><td>         inf </td><td> False </td><td>  </td></tr><tr><td> gamma </td><td>  7.2439e-04 </td><td>  0.00000000 </td><td> (0.00%) </td><td> 0.0007243860167616134 </td><td>  0.00000000 </td><td>         inf </td><td> False </td><td>  </td></tr><tr><td> sigma </td><td>  0.00547680 </td><td>  0.00000000 </td><td> (0.00%) </td><td> 0.005476803885552828 </td><td>  0.00000000 </td><td>         inf </td><td> False </td><td>  </td></tr><tr><td> k </td><td>  0.05000000 </td><td>  0.00000000 </td><td> (0.00%) </td><td> 0.05 </td><td>  0.00000000 </td><td>         inf </td><td> False </td><td>  </td></tr><tr><td> xp0_0 </td><td> -5.99489735 </td><td>  8.9981e-05 </td><td> (0.00%) </td><td> -5.985 </td><td>        -inf </td><td>         inf </td><td> True </td><td>  </td></tr><tr><td> xp0_1 </td><td> -6.02966216 </td><td>  1.3083e-04 </td><td> (0.00%) </td><td> -6.015 </td><td>        -inf </td><td>         inf </td><td> True </td><td>  </td></tr><tr><td> A1_0 </td><td>  162045.643 </td><td>  1253.21447 </td><td> (0.77%) </td><td> 96206.04018959324 </td><td>  0.00000000 </td><td>         inf </td><td> True </td><td>  </td></tr><tr><td> A1_1 </td><td>  98751.4886 </td><td>  763.715658 </td><td> (0.77%) </td><td> 58628.47954272617 </td><td>  0.00000000 </td><td>         inf </td><td> False </td><td> A1_0/1.6409438030792185 </td></tr><tr><td> xp1_0 </td><td> -5.99495087 </td><td>  1.1525e-04 </td><td> (0.00%) </td><td> -5.985 </td><td>        -inf </td><td>         inf </td><td> True </td><td>  </td></tr><tr><td> xp1_1 </td><td> -6.02949646 </td><td>  1.6704e-04 </td><td> (0.00%) </td><td> -6.015 </td><td>        -inf </td><td>         inf </td><td> True </td><td>  </td></tr><tr><td> A2_0 </td><td>  162085.001 </td><td>  1255.51390 </td><td> (0.77%) </td><td> 96206.04018959324 </td><td>  0.00000000 </td><td>         inf </td><td> True </td><td>  </td></tr><tr><td> A2_1 </td><td>  98775.4737 </td><td>  765.116940 </td><td> (0.77%) </td><td> 58628.47954272617 </td><td>  0.00000000 </td><td>         inf </td><td> False </td><td> A2_0/1.6409438030792185 </td></tr><tr><td> xp2_0 </td><td> -5.99528193 </td><td>  1.1586e-04 </td><td> (0.00%) </td><td> -5.985 </td><td>        -inf </td><td>         inf </td><td> True </td><td>  </td></tr><tr><td> xp2_1 </td><td> -6.02952037 </td><td>  1.6780e-04 </td><td> (0.00%) </td><td> -6.015 </td><td>        -inf </td><td>         inf </td><td> True </td><td>  </td></tr><tr><td> A3_0 </td><td>  159701.619 </td><td>  1246.66602 </td><td> (0.78%) </td><td> 96206.04018959324 </td><td>  0.00000000 </td><td>         inf </td><td> True </td><td>  </td></tr><tr><td> A3_1 </td><td>  97323.0276 </td><td>  759.724992 </td><td> (0.78%) </td><td> 58628.47954272617 </td><td>  0.00000000 </td><td>         inf </td><td> False </td><td> A3_0/1.6409438030792185 </td></tr><tr><td> xp3_0 </td><td> -5.99532042 </td><td>  1.1693e-04 </td><td> (0.00%) </td><td> -5.985 </td><td>        -inf </td><td>         inf </td><td> True </td><td>  </td></tr><tr><td> xp3_1 </td><td> -6.02945860 </td><td>  1.6841e-04 </td><td> (0.00%) </td><td> -6.015 </td><td>        -inf </td><td>         inf </td><td> True </td><td>  </td></tr><tr><td> A4_0 </td><td>  159476.165 </td><td>  1244.08216 </td><td> (0.78%) </td><td> 96206.04018959324 </td><td>  0.00000000 </td><td>         inf </td><td> True </td><td>  </td></tr><tr><td> A4_1 </td><td>  97185.6348 </td><td>  758.150370 </td><td> (0.78%) </td><td> 58628.47954272617 </td><td>  0.00000000 </td><td>         inf </td><td> False </td><td> A4_0/1.6409438030792185 </td></tr><tr><td> xp4_0 </td><td> -5.99567873 </td><td>  1.1766e-04 </td><td> (0.00%) </td><td> -5.985 </td><td>        -inf </td><td>         inf </td><td> True </td><td>  </td></tr><tr><td> xp4_1 </td><td> -6.02923721 </td><td>  1.6765e-04 </td><td> (0.00%) </td><td> -6.015 </td><td>        -inf </td><td>         inf </td><td> True </td><td>  </td></tr><tr><td> A5_0 </td><td>  157832.916 </td><td>  1235.31648 </td><td> (0.78%) </td><td> 96206.04018959324 </td><td>  0.00000000 </td><td>         inf </td><td> True </td><td>  </td></tr><tr><td> A5_1 </td><td>  96184.2299 </td><td>  752.808523 </td><td> (0.78%) </td><td> 58628.47954272617 </td><td>  0.00000000 </td><td>         inf </td><td> False </td><td> A5_0/1.6409438030792185 </td></tr><tr><td> xp5_0 </td><td> -5.99591801 </td><td>  1.1874e-04 </td><td> (0.00%) </td><td> -5.985 </td><td>        -inf </td><td>         inf </td><td> True </td><td>  </td></tr><tr><td> xp5_1 </td><td> -6.02883514 </td><td>  1.6659e-04 </td><td> (0.00%) </td><td> -6.015 </td><td>        -inf </td><td>         inf </td><td> True </td><td>  </td></tr><tr><td> A6_0 </td><td>  156996.767 </td><td>  1231.05901 </td><td> (0.78%) </td><td> 96206.04018959324 </td><td>  0.00000000 </td><td>         inf </td><td> True </td><td>  </td></tr><tr><td> A6_1 </td><td>  95674.6759 </td><td>  750.214001 </td><td> (0.78%) </td><td> 58628.47954272617 </td><td>  0.00000000 </td><td>         inf </td><td> False </td><td> A6_0/1.6409438030792185 </td></tr><tr><td> xp6_0 </td><td> -5.99643010 </td><td>  1.2019e-04 </td><td> (0.00%) </td><td> -5.985 </td><td>        -inf </td><td>         inf </td><td> True </td><td>  </td></tr><tr><td> xp6_1 </td><td> -6.02844589 </td><td>  1.6474e-04 </td><td> (0.00%) </td><td> -6.015 </td><td>        -inf </td><td>         inf </td><td> True </td><td>  </td></tr><tr><td> A7_0 </td><td>  158504.513 </td><td>  1233.84406 </td><td> (0.78%) </td><td> 96206.04018959324 </td><td>  0.00000000 </td><td>         inf </td><td> True </td><td>  </td></tr><tr><td> A7_1 </td><td>  96593.5048 </td><td>  751.911217 </td><td> (0.78%) </td><td> 58628.47954272617 </td><td>  0.00000000 </td><td>         inf </td><td> False </td><td> A7_0/1.6409438030792185 </td></tr><tr><td> xp7_0 </td><td> -5.99658722 </td><td>  1.1983e-04 </td><td> (0.00%) </td><td> -5.985 </td><td>        -inf </td><td>         inf </td><td> True </td><td>  </td></tr><tr><td> xp7_1 </td><td> -6.02840244 </td><td>  1.6347e-04 </td><td> (0.00%) </td><td> -6.015 </td><td>        -inf </td><td>         inf </td><td> True </td><td>  </td></tr><tr><td> A8_0 </td><td>  157705.989 </td><td>  1228.58399 </td><td> (0.78%) </td><td> 96206.04018959324 </td><td>  0.00000000 </td><td>         inf </td><td> True </td><td>  </td></tr><tr><td> A8_1 </td><td>  96106.8799 </td><td>  748.705709 </td><td> (0.78%) </td><td> 58628.47954272617 </td><td>  0.00000000 </td><td>         inf </td><td> False </td><td> A8_0/1.6409438030792185 </td></tr><tr><td> xp8_0 </td><td> -5.99655572 </td><td>  1.2076e-04 </td><td> (0.00%) </td><td> -5.985 </td><td>        -inf </td><td>         inf </td><td> True </td><td>  </td></tr><tr><td> xp8_1 </td><td> -6.02799926 </td><td>  1.6224e-04 </td><td> (0.00%) </td><td> -6.015 </td><td>        -inf </td><td>         inf </td><td> True </td><td>  </td></tr><tr><td> A9_0 </td><td>  157971.601 </td><td>  1230.92900 </td><td> (0.78%) </td><td> 96206.04018959324 </td><td>  0.00000000 </td><td>         inf </td><td> True </td><td>  </td></tr><tr><td> A9_1 </td><td>  96268.7455 </td><td>  750.134768 </td><td> (0.78%) </td><td> 58628.47954272617 </td><td>  0.00000000 </td><td>         inf </td><td> False </td><td> A9_0/1.6409438030792185 </td></tr><tr><td> xp9_0 </td><td> -5.99689664 </td><td>  1.2136e-04 </td><td> (0.00%) </td><td> -5.985 </td><td>        -inf </td><td>         inf </td><td> True </td><td>  </td></tr><tr><td> xp9_1 </td><td> -6.02782781 </td><td>  1.6040e-04 </td><td> (0.00%) </td><td> -6.015 </td><td>        -inf </td><td>         inf </td><td> True </td><td>  </td></tr><tr><td> A10_0 </td><td>  157890.703 </td><td>  1227.65356 </td><td> (0.78%) </td><td> 96206.04018959324 </td><td>  0.00000000 </td><td>         inf </td><td> True </td><td>  </td></tr><tr><td> A10_1 </td><td>  96219.4457 </td><td>  748.138700 </td><td> (0.78%) </td><td> 58628.47954272617 </td><td>  0.00000000 </td><td>         inf </td><td> False </td><td> A10_0/1.6409438030792185 </td></tr><tr><td> xp10_0 </td><td> -5.99708135 </td><td>  1.2168e-04 </td><td> (0.00%) </td><td> -5.985 </td><td>        -inf </td><td>         inf </td><td> True </td><td>  </td></tr><tr><td> xp10_1 </td><td> -6.02760508 </td><td>  1.5990e-04 </td><td> (0.00%) </td><td> -6.015 </td><td>        -inf </td><td>         inf </td><td> True </td><td>  </td></tr><tr><td> A11_0 </td><td>  156420.528 </td><td>  1223.69712 </td><td> (0.78%) </td><td> 96206.04018959324 </td><td>  0.00000000 </td><td>         inf </td><td> True </td><td>  </td></tr><tr><td> A11_1 </td><td>  95323.5131 </td><td>  745.727623 </td><td> (0.78%) </td><td> 58628.47954272617 </td><td>  0.00000000 </td><td>         inf </td><td> False </td><td> A11_0/1.6409438030792185 </td></tr><tr><td> xp11_0 </td><td> -5.99735225 </td><td>  1.2345e-04 </td><td> (0.00%) </td><td> -5.985 </td><td>        -inf </td><td>         inf </td><td> True </td><td>  </td></tr><tr><td> xp11_1 </td><td> -6.02718124 </td><td>  1.5964e-04 </td><td> (0.00%) </td><td> -6.015 </td><td>        -inf </td><td>         inf </td><td> True </td><td>  </td></tr><tr><td> A12_0 </td><td>  156515.487 </td><td>  1222.23527 </td><td> (0.78%) </td><td> 96206.04018959324 </td><td>  0.00000000 </td><td>         inf </td><td> True </td><td>  </td></tr><tr><td> A12_1 </td><td>  95381.3813 </td><td>  744.836759 </td><td> (0.78%) </td><td> 58628.47954272617 </td><td>  0.00000000 </td><td>         inf </td><td> False </td><td> A12_0/1.6409438030792185 </td></tr><tr><td> xp12_0 </td><td> -5.99766212 </td><td>  1.2426e-04 </td><td> (0.00%) </td><td> -5.985 </td><td>        -inf </td><td>         inf </td><td> True </td><td>  </td></tr><tr><td> xp12_1 </td><td> -6.02688291 </td><td>  1.5877e-04 </td><td> (0.00%) </td><td> -6.015 </td><td>        -inf </td><td>         inf </td><td> True </td><td>  </td></tr><tr><td> A13_0 </td><td>  156233.371 </td><td>  1221.83639 </td><td> (0.78%) </td><td> 96206.04018959324 </td><td>  0.00000000 </td><td>         inf </td><td> True </td><td>  </td></tr><tr><td> A13_1 </td><td>  95209.4588 </td><td>  744.593682 </td><td> (0.78%) </td><td> 58628.47954272617 </td><td>  0.00000000 </td><td>         inf </td><td> False </td><td> A13_0/1.6409438030792185 </td></tr><tr><td> xp13_0 </td><td> -5.99792245 </td><td>  1.2499e-04 </td><td> (0.00%) </td><td> -5.985 </td><td>        -inf </td><td>         inf </td><td> True </td><td>  </td></tr><tr><td> xp13_1 </td><td> -6.02680850 </td><td>  1.5885e-04 </td><td> (0.00%) </td><td> -6.015 </td><td>        -inf </td><td>         inf </td><td> True </td><td>  </td></tr><tr><td> A14_0 </td><td>  155969.533 </td><td>  1218.85221 </td><td> (0.78%) </td><td> 96206.04018959324 </td><td>  0.00000000 </td><td>         inf </td><td> True </td><td>  </td></tr><tr><td> A14_1 </td><td>  95048.6741 </td><td>  742.775109 </td><td> (0.78%) </td><td> 58628.47954272617 </td><td>  0.00000000 </td><td>         inf </td><td> False </td><td> A14_0/1.6409438030792185 </td></tr><tr><td> xp14_0 </td><td> -5.99822440 </td><td>  1.2631e-04 </td><td> (0.00%) </td><td> -5.985 </td><td>        -inf </td><td>         inf </td><td> True </td><td>  </td></tr><tr><td> xp14_1 </td><td> -6.02638267 </td><td>  1.5827e-04 </td><td> (0.00%) </td><td> -6.015 </td><td>        -inf </td><td>         inf </td><td> True </td><td>  </td></tr><tr><td> A15_0 </td><td>  154881.150 </td><td>  1215.26079 </td><td> (0.78%) </td><td> 96206.04018959324 </td><td>  0.00000000 </td><td>         inf </td><td> True </td><td>  </td></tr><tr><td> A15_1 </td><td>  94385.4076 </td><td>  740.586479 </td><td> (0.78%) </td><td> 58628.47954272617 </td><td>  0.00000000 </td><td>         inf </td><td> False </td><td> A15_0/1.6409438030792185 </td></tr><tr><td> xp15_0 </td><td> -5.99854624 </td><td>  1.2756e-04 </td><td> (0.00%) </td><td> -5.985 </td><td>        -inf </td><td>         inf </td><td> True </td><td>  </td></tr><tr><td> xp15_1 </td><td> -6.02615732 </td><td>  1.5841e-04 </td><td> (0.00%) </td><td> -6.015 </td><td>        -inf </td><td>         inf </td><td> True </td><td>  </td></tr><tr><td> A16_0 </td><td>  154822.152 </td><td>  1215.29453 </td><td> (0.78%) </td><td> 96206.04018959324 </td><td>  0.00000000 </td><td>         inf </td><td> True </td><td>  </td></tr><tr><td> A16_1 </td><td>  94349.4543 </td><td>  740.607039 </td><td> (0.78%) </td><td> 58628.47954272617 </td><td>  0.00000000 </td><td>         inf </td><td> False </td><td> A16_0/1.6409438030792185 </td></tr><tr><td> xp16_0 </td><td> -5.99892814 </td><td>  1.2883e-04 </td><td> (0.00%) </td><td> -5.985 </td><td>        -inf </td><td>         inf </td><td> True </td><td>  </td></tr><tr><td> xp16_1 </td><td> -6.02588203 </td><td>  1.5788e-04 </td><td> (0.00%) </td><td> -6.015 </td><td>        -inf </td><td>         inf </td><td> True </td><td>  </td></tr><tr><td> A17_0 </td><td>  154369.496 </td><td>  1214.69407 </td><td> (0.79%) </td><td> 96206.04018959324 </td><td>  0.00000000 </td><td>         inf </td><td> True </td><td>  </td></tr><tr><td> A17_1 </td><td>  94073.6031 </td><td>  740.241113 </td><td> (0.79%) </td><td> 58628.47954272617 </td><td>  0.00000000 </td><td>         inf </td><td> False </td><td> A17_0/1.6409438030792185 </td></tr><tr><td> xp17_0 </td><td> -5.99917612 </td><td>  1.2989e-04 </td><td> (0.00%) </td><td> -5.985 </td><td>        -inf </td><td>         inf </td><td> True </td><td>  </td></tr><tr><td> xp17_1 </td><td> -6.02584757 </td><td>  1.5767e-04 </td><td> (0.00%) </td><td> -6.015 </td><td>        -inf </td><td>         inf </td><td> True </td><td>  </td></tr><tr><td> A18_0 </td><td>  153429.181 </td><td>  1212.69140 </td><td> (0.79%) </td><td> 96206.04018959324 </td><td>  0.00000000 </td><td>         inf </td><td> True </td><td>  </td></tr><tr><td> A18_1 </td><td>  93500.5697 </td><td>  739.020679 </td><td> (0.79%) </td><td> 58628.47954272617 </td><td>  0.00000000 </td><td>         inf </td><td> False </td><td> A18_0/1.6409438030792185 </td></tr><tr><td> xp18_0 </td><td> -5.99939403 </td><td>  1.3098e-04 </td><td> (0.00%) </td><td> -5.985 </td><td>        -inf </td><td>         inf </td><td> True </td><td>  </td></tr><tr><td> xp18_1 </td><td> -6.02571046 </td><td>  1.5804e-04 </td><td> (0.00%) </td><td> -6.015 </td><td>        -inf </td><td>         inf </td><td> True </td><td>  </td></tr><tr><td> A19_0 </td><td>  153442.696 </td><td>  1209.10304 </td><td> (0.79%) </td><td> 96206.04018959324 </td><td>  0.00000000 </td><td>         inf </td><td> True </td><td>  </td></tr><tr><td> A19_1 </td><td>  93508.8060 </td><td>  736.833907 </td><td> (0.79%) </td><td> 58628.47954272617 </td><td>  0.00000000 </td><td>         inf </td><td> False </td><td> A19_0/1.6409438030792185 </td></tr><tr><td> xp19_0 </td><td> -5.99954082 </td><td>  1.3150e-04 </td><td> (0.00%) </td><td> -5.985 </td><td>        -inf </td><td>         inf </td><td> True </td><td>  </td></tr><tr><td> xp19_1 </td><td> -6.02536766 </td><td>  1.5675e-04 </td><td> (0.00%) </td><td> -6.015 </td><td>        -inf </td><td>         inf </td><td> True </td><td>  </td></tr><tr><td> A20_0 </td><td>  152964.803 </td><td>  1212.17365 </td><td> (0.79%) </td><td> 96206.04018959324 </td><td>  0.00000000 </td><td>         inf </td><td> True </td><td>  </td></tr><tr><td> A20_1 </td><td>  93217.5755 </td><td>  738.705153 </td><td> (0.79%) </td><td> 58628.47954272617 </td><td>  0.00000000 </td><td>         inf </td><td> False </td><td> A20_0/1.6409438030792185 </td></tr><tr><td> xp20_0 </td><td> -5.99974841 </td><td>  1.3254e-04 </td><td> (0.00%) </td><td> -5.985 </td><td>        -inf </td><td>         inf </td><td> True </td><td>  </td></tr><tr><td> xp20_1 </td><td> -6.02530246 </td><td>  1.5694e-04 </td><td> (0.00%) </td><td> -6.015 </td><td>        -inf </td><td>         inf </td><td> True </td><td>  </td></tr><tr><td> A21_0 </td><td>  153305.192 </td><td>  1211.23414 </td><td> (0.79%) </td><td> 96206.04018959324 </td><td>  0.00000000 </td><td>         inf </td><td> True </td><td>  </td></tr><tr><td> A21_1 </td><td>  93425.0107 </td><td>  738.132609 </td><td> (0.79%) </td><td> 58628.47954272617 </td><td>  0.00000000 </td><td>         inf </td><td> False </td><td> A21_0/1.6409438030792185 </td></tr><tr><td> xp21_0 </td><td> -5.99999121 </td><td>  1.3301e-04 </td><td> (0.00%) </td><td> -5.985 </td><td>        -inf </td><td>         inf </td><td> True </td><td>  </td></tr><tr><td> xp21_1 </td><td> -6.02499424 </td><td>  1.5720e-04 </td><td> (0.00%) </td><td> -6.015 </td><td>        -inf </td><td>         inf </td><td> True </td><td>  </td></tr><tr><td> A22_0 </td><td>  152402.088 </td><td>  1208.61599 </td><td> (0.79%) </td><td> 96206.04018959324 </td><td>  0.00000000 </td><td>         inf </td><td> True </td><td>  </td></tr><tr><td> A22_1 </td><td>  92874.6543 </td><td>  736.537098 </td><td> (0.79%) </td><td> 58628.47954272617 </td><td>  0.00000000 </td><td>         inf </td><td> False </td><td> A22_0/1.6409438030792185 </td></tr><tr><td> xp22_0 </td><td> -6.00019403 </td><td>  1.3411e-04 </td><td> (0.00%) </td><td> -5.985 </td><td>        -inf </td><td>         inf </td><td> True </td><td>  </td></tr><tr><td> xp22_1 </td><td> -6.02493651 </td><td>  1.5800e-04 </td><td> (0.00%) </td><td> -6.015 </td><td>        -inf </td><td>         inf </td><td> True </td><td>  </td></tr><tr><td> A23_0 </td><td>  152768.666 </td><td>  1208.66898 </td><td> (0.79%) </td><td> 96206.04018959324 </td><td>  0.00000000 </td><td>         inf </td><td> True </td><td>  </td></tr><tr><td> A23_1 </td><td>  93098.0487 </td><td>  736.569391 </td><td> (0.79%) </td><td> 58628.47954272617 </td><td>  0.00000000 </td><td>         inf </td><td> False </td><td> A23_0/1.6409438030792185 </td></tr><tr><td> xp23_0 </td><td> -6.00034153 </td><td>  1.3350e-04 </td><td> (0.00%) </td><td> -5.985 </td><td>        -inf </td><td>         inf </td><td> True </td><td>  </td></tr><tr><td> xp23_1 </td><td> -6.02494139 </td><td>  1.5740e-04 </td><td> (0.00%) </td><td> -6.015 </td><td>        -inf </td><td>         inf </td><td> True </td><td>  </td></tr><tr><td> A24_0 </td><td>  152441.543 </td><td>  1209.39422 </td><td> (0.79%) </td><td> 96206.04018959324 </td><td>  0.00000000 </td><td>         inf </td><td> True </td><td>  </td></tr><tr><td> A24_1 </td><td>  92898.6982 </td><td>  737.011360 </td><td> (0.79%) </td><td> 58628.47954272617 </td><td>  0.00000000 </td><td>         inf </td><td> False </td><td> A24_0/1.6409438030792185 </td></tr><tr><td> xp24_0 </td><td> -6.00030364 </td><td>  1.3432e-04 </td><td> (0.00%) </td><td> -5.985 </td><td>        -inf </td><td>         inf </td><td> True </td><td>  </td></tr><tr><td> xp24_1 </td><td> -6.02464019 </td><td>  1.5727e-04 </td><td> (0.00%) </td><td> -6.015 </td><td>        -inf </td><td>         inf </td><td> True </td><td>  </td></tr><tr><td> A25_0 </td><td>  152801.950 </td><td>  1206.07942 </td><td> (0.79%) </td><td> 96206.04018959324 </td><td>  0.00000000 </td><td>         inf </td><td> True </td><td>  </td></tr><tr><td> A25_1 </td><td>  93118.3322 </td><td>  734.991302 </td><td> (0.79%) </td><td> 58628.47954272617 </td><td>  0.00000000 </td><td>         inf </td><td> False </td><td> A25_0/1.6409438030792185 </td></tr><tr><td> xp25_0 </td><td> -6.00061940 </td><td>  1.3479e-04 </td><td> (0.00%) </td><td> -5.985 </td><td>        -inf </td><td>         inf </td><td> True </td><td>  </td></tr><tr><td> xp25_1 </td><td> -6.02461211 </td><td>  1.5664e-04 </td><td> (0.00%) </td><td> -6.015 </td><td>        -inf </td><td>         inf </td><td> True </td><td>  </td></tr><tr><td> A26_0 </td><td>  151598.530 </td><td>  1206.50794 </td><td> (0.80%) </td><td> 96206.04018959324 </td><td>  0.00000000 </td><td>         inf </td><td> True </td><td>  </td></tr><tr><td> A26_1 </td><td>  92384.9615 </td><td>  735.252441 </td><td> (0.80%) </td><td> 58628.47954272617 </td><td>  0.00000000 </td><td>         inf </td><td> False </td><td> A26_0/1.6409438030792185 </td></tr><tr><td> xp26_0 </td><td> -6.00060011 </td><td>  1.3599e-04 </td><td> (0.00%) </td><td> -5.985 </td><td>        -inf </td><td>         inf </td><td> True </td><td>  </td></tr><tr><td> xp26_1 </td><td> -6.02451346 </td><td>  1.5891e-04 </td><td> (0.00%) </td><td> -6.015 </td><td>        -inf </td><td>         inf </td><td> True </td><td>  </td></tr><tr><td> A27_0 </td><td>  152589.659 </td><td>  1206.71078 </td><td> (0.79%) </td><td> 96206.04018959324 </td><td>  0.00000000 </td><td>         inf </td><td> True </td><td>  </td></tr><tr><td> A27_1 </td><td>  92988.9608 </td><td>  735.376054 </td><td> (0.79%) </td><td> 58628.47954272617 </td><td>  0.00000000 </td><td>         inf </td><td> False </td><td> A27_0/1.6409438030792185 </td></tr><tr><td> xp27_0 </td><td> -6.00064557 </td><td>  1.3514e-04 </td><td> (0.00%) </td><td> -5.985 </td><td>        -inf </td><td>         inf </td><td> True </td><td>  </td></tr><tr><td> xp27_1 </td><td> -6.02435214 </td><td>  1.5716e-04 </td><td> (0.00%) </td><td> -6.015 </td><td>        -inf </td><td>         inf </td><td> True </td><td>  </td></tr><tr><td> A28_0 </td><td>  151602.975 </td><td>  1205.19667 </td><td> (0.79%) </td><td> 96206.04018959324 </td><td>  0.00000000 </td><td>         inf </td><td> True </td><td>  </td></tr><tr><td> A28_1 </td><td>  92387.6702 </td><td>  734.453345 </td><td> (0.79%) </td><td> 58628.47954272617 </td><td>  0.00000000 </td><td>         inf </td><td> False </td><td> A28_0/1.6409438030792185 </td></tr><tr><td> xp28_0 </td><td> -6.00090952 </td><td>  1.3618e-04 </td><td> (0.00%) </td><td> -5.985 </td><td>        -inf </td><td>         inf </td><td> True </td><td>  </td></tr><tr><td> xp28_1 </td><td> -6.02437990 </td><td>  1.5791e-04 </td><td> (0.00%) </td><td> -6.015 </td><td>        -inf </td><td>         inf </td><td> True </td><td>  </td></tr><tr><td> A29_0 </td><td>  151795.270 </td><td>  1208.62005 </td><td> (0.80%) </td><td> 96206.04018959324 </td><td>  0.00000000 </td><td>         inf </td><td> True </td><td>  </td></tr><tr><td> A29_1 </td><td>  92504.8562 </td><td>  736.539573 </td><td> (0.80%) </td><td> 58628.47954272617 </td><td>  0.00000000 </td><td>         inf </td><td> False </td><td> A29_0/1.6409438030792185 </td></tr><tr><td> xp29_0 </td><td> -6.00090302 </td><td>  1.3674e-04 </td><td> (0.00%) </td><td> -5.985 </td><td>        -inf </td><td>         inf </td><td> True </td><td>  </td></tr><tr><td> xp29_1 </td><td> -6.02419331 </td><td>  1.5706e-04 </td><td> (0.00%) </td><td> -6.015 </td><td>        -inf </td><td>         inf </td><td> True </td><td>  </td></tr></table>"
      ],
      "text/plain": [
       "Parameters([('A0_0',\n",
       "             <Parameter 'A0_0', value=161586.15604585686 +/- 980, bounds=[0:inf]>),\n",
       "            ('A0_1',\n",
       "             <Parameter 'A0_1', value=98471.47461274522 +/- 597, bounds=[0:inf], expr='A0_0/1.6409438030792185'>),\n",
       "            ('alpha',\n",
       "             <Parameter 'alpha', value=206.67925258024337 (fixed), bounds=[0:inf]>),\n",
       "            ('beta', <Parameter 'beta', value=1e-10 (fixed), bounds=[0:inf]>),\n",
       "            ('R', <Parameter 'R', value=1e-10 (fixed), bounds=[0:inf]>),\n",
       "            ('gamma',\n",
       "             <Parameter 'gamma', value=0.0007243860167616134 (fixed), bounds=[0:inf]>),\n",
       "            ('sigma',\n",
       "             <Parameter 'sigma', value=0.005476803885552828 (fixed), bounds=[0:inf]>),\n",
       "            ('k', <Parameter 'k', value=0.05 (fixed), bounds=[0:inf]>),\n",
       "            ('xp0_0',\n",
       "             <Parameter 'xp0_0', value=-5.9948973528039815 +/- 9e-05, bounds=[-inf:inf]>),\n",
       "            ('xp0_1',\n",
       "             <Parameter 'xp0_1', value=-6.029662163800164 +/- 0.000131, bounds=[-inf:inf]>),\n",
       "            ('A1_0',\n",
       "             <Parameter 'A1_0', value=162045.64318971554 +/- 1.25e+03, bounds=[0:inf]>),\n",
       "            ('A1_1',\n",
       "             <Parameter 'A1_1', value=98751.48855532904 +/- 764, bounds=[0:inf], expr='A1_0/1.6409438030792185'>),\n",
       "            ('xp1_0',\n",
       "             <Parameter 'xp1_0', value=-5.994950868322625 +/- 0.000115, bounds=[-inf:inf]>),\n",
       "            ('xp1_1',\n",
       "             <Parameter 'xp1_1', value=-6.029496462441016 +/- 0.000167, bounds=[-inf:inf]>),\n",
       "            ('A2_0',\n",
       "             <Parameter 'A2_0', value=162085.0014818749 +/- 1.26e+03, bounds=[0:inf]>),\n",
       "            ('A2_1',\n",
       "             <Parameter 'A2_1', value=98775.47371075331 +/- 765, bounds=[0:inf], expr='A2_0/1.6409438030792185'>),\n",
       "            ('xp2_0',\n",
       "             <Parameter 'xp2_0', value=-5.995281931855779 +/- 0.000116, bounds=[-inf:inf]>),\n",
       "            ('xp2_1',\n",
       "             <Parameter 'xp2_1', value=-6.0295203718952495 +/- 0.000168, bounds=[-inf:inf]>),\n",
       "            ('A3_0',\n",
       "             <Parameter 'A3_0', value=159701.61904908158 +/- 1.25e+03, bounds=[0:inf]>),\n",
       "            ('A3_1',\n",
       "             <Parameter 'A3_1', value=97323.02760728473 +/- 760, bounds=[0:inf], expr='A3_0/1.6409438030792185'>),\n",
       "            ('xp3_0',\n",
       "             <Parameter 'xp3_0', value=-5.995320423328448 +/- 0.000117, bounds=[-inf:inf]>),\n",
       "            ('xp3_1',\n",
       "             <Parameter 'xp3_1', value=-6.0294585958603815 +/- 0.000168, bounds=[-inf:inf]>),\n",
       "            ('A4_0',\n",
       "             <Parameter 'A4_0', value=159476.1651606332 +/- 1.24e+03, bounds=[0:inf]>),\n",
       "            ('A4_1',\n",
       "             <Parameter 'A4_1', value=97185.634792232 +/- 758, bounds=[0:inf], expr='A4_0/1.6409438030792185'>),\n",
       "            ('xp4_0',\n",
       "             <Parameter 'xp4_0', value=-5.995678729624592 +/- 0.000118, bounds=[-inf:inf]>),\n",
       "            ('xp4_1',\n",
       "             <Parameter 'xp4_1', value=-6.029237207808351 +/- 0.000168, bounds=[-inf:inf]>),\n",
       "            ('A5_0',\n",
       "             <Parameter 'A5_0', value=157832.9160483877 +/- 1.24e+03, bounds=[0:inf]>),\n",
       "            ('A5_1',\n",
       "             <Parameter 'A5_1', value=96184.22992439805 +/- 753, bounds=[0:inf], expr='A5_0/1.6409438030792185'>),\n",
       "            ('xp5_0',\n",
       "             <Parameter 'xp5_0', value=-5.995918009809712 +/- 0.000119, bounds=[-inf:inf]>),\n",
       "            ('xp5_1',\n",
       "             <Parameter 'xp5_1', value=-6.028835142107099 +/- 0.000167, bounds=[-inf:inf]>),\n",
       "            ('A6_0',\n",
       "             <Parameter 'A6_0', value=156996.76654947005 +/- 1.23e+03, bounds=[0:inf]>),\n",
       "            ('A6_1',\n",
       "             <Parameter 'A6_1', value=95674.67591203722 +/- 750, bounds=[0:inf], expr='A6_0/1.6409438030792185'>),\n",
       "            ('xp6_0',\n",
       "             <Parameter 'xp6_0', value=-5.996430102734952 +/- 0.00012, bounds=[-inf:inf]>),\n",
       "            ('xp6_1',\n",
       "             <Parameter 'xp6_1', value=-6.028445889298265 +/- 0.000165, bounds=[-inf:inf]>),\n",
       "            ('A7_0',\n",
       "             <Parameter 'A7_0', value=158504.5130436549 +/- 1.23e+03, bounds=[0:inf]>),\n",
       "            ('A7_1',\n",
       "             <Parameter 'A7_1', value=96593.50475392418 +/- 752, bounds=[0:inf], expr='A7_0/1.6409438030792185'>),\n",
       "            ('xp7_0',\n",
       "             <Parameter 'xp7_0', value=-5.996587220083866 +/- 0.00012, bounds=[-inf:inf]>),\n",
       "            ('xp7_1',\n",
       "             <Parameter 'xp7_1', value=-6.028402438574861 +/- 0.000163, bounds=[-inf:inf]>),\n",
       "            ('A8_0',\n",
       "             <Parameter 'A8_0', value=157705.9889950982 +/- 1.23e+03, bounds=[0:inf]>),\n",
       "            ('A8_1',\n",
       "             <Parameter 'A8_1', value=96106.87989385384 +/- 749, bounds=[0:inf], expr='A8_0/1.6409438030792185'>),\n",
       "            ('xp8_0',\n",
       "             <Parameter 'xp8_0', value=-5.99655572311501 +/- 0.000121, bounds=[-inf:inf]>),\n",
       "            ('xp8_1',\n",
       "             <Parameter 'xp8_1', value=-6.027999255337805 +/- 0.000162, bounds=[-inf:inf]>),\n",
       "            ('A9_0',\n",
       "             <Parameter 'A9_0', value=157971.60133088316 +/- 1.23e+03, bounds=[0:inf]>),\n",
       "            ('A9_1',\n",
       "             <Parameter 'A9_1', value=96268.74548320951 +/- 750, bounds=[0:inf], expr='A9_0/1.6409438030792185'>),\n",
       "            ('xp9_0',\n",
       "             <Parameter 'xp9_0', value=-5.9968966400500925 +/- 0.000121, bounds=[-inf:inf]>),\n",
       "            ('xp9_1',\n",
       "             <Parameter 'xp9_1', value=-6.027827809695958 +/- 0.00016, bounds=[-inf:inf]>),\n",
       "            ('A10_0',\n",
       "             <Parameter 'A10_0', value=157890.70317934168 +/- 1.23e+03, bounds=[0:inf]>),\n",
       "            ('A10_1',\n",
       "             <Parameter 'A10_1', value=96219.44571353449 +/- 748, bounds=[0:inf], expr='A10_0/1.6409438030792185'>),\n",
       "            ('xp10_0',\n",
       "             <Parameter 'xp10_0', value=-5.9970813508731196 +/- 0.000122, bounds=[-inf:inf]>),\n",
       "            ('xp10_1',\n",
       "             <Parameter 'xp10_1', value=-6.027605079396916 +/- 0.00016, bounds=[-inf:inf]>),\n",
       "            ('A11_0',\n",
       "             <Parameter 'A11_0', value=156420.528129669 +/- 1.22e+03, bounds=[0:inf]>),\n",
       "            ('A11_1',\n",
       "             <Parameter 'A11_1', value=95323.51311248263 +/- 746, bounds=[0:inf], expr='A11_0/1.6409438030792185'>),\n",
       "            ('xp11_0',\n",
       "             <Parameter 'xp11_0', value=-5.997352254639157 +/- 0.000123, bounds=[-inf:inf]>),\n",
       "            ('xp11_1',\n",
       "             <Parameter 'xp11_1', value=-6.027181244897539 +/- 0.00016, bounds=[-inf:inf]>),\n",
       "            ('A12_0',\n",
       "             <Parameter 'A12_0', value=156515.48665106032 +/- 1.22e+03, bounds=[0:inf]>),\n",
       "            ('A12_1',\n",
       "             <Parameter 'A12_1', value=95381.38134734426 +/- 745, bounds=[0:inf], expr='A12_0/1.6409438030792185'>),\n",
       "            ('xp12_0',\n",
       "             <Parameter 'xp12_0', value=-5.997662122871528 +/- 0.000124, bounds=[-inf:inf]>),\n",
       "            ('xp12_1',\n",
       "             <Parameter 'xp12_1', value=-6.026882905481979 +/- 0.000159, bounds=[-inf:inf]>),\n",
       "            ('A13_0',\n",
       "             <Parameter 'A13_0', value=156233.371395056 +/- 1.22e+03, bounds=[0:inf]>),\n",
       "            ('A13_1',\n",
       "             <Parameter 'A13_1', value=95209.4587894389 +/- 745, bounds=[0:inf], expr='A13_0/1.6409438030792185'>),\n",
       "            ('xp13_0',\n",
       "             <Parameter 'xp13_0', value=-5.997922453586146 +/- 0.000125, bounds=[-inf:inf]>),\n",
       "            ('xp13_1',\n",
       "             <Parameter 'xp13_1', value=-6.026808500361201 +/- 0.000159, bounds=[-inf:inf]>),\n",
       "            ('A14_0',\n",
       "             <Parameter 'A14_0', value=155969.53269337525 +/- 1.22e+03, bounds=[0:inf]>),\n",
       "            ('A14_1',\n",
       "             <Parameter 'A14_1', value=95048.67406226808 +/- 743, bounds=[0:inf], expr='A14_0/1.6409438030792185'>),\n",
       "            ('xp14_0',\n",
       "             <Parameter 'xp14_0', value=-5.998224400683093 +/- 0.000126, bounds=[-inf:inf]>),\n",
       "            ('xp14_1',\n",
       "             <Parameter 'xp14_1', value=-6.0263826665208935 +/- 0.000158, bounds=[-inf:inf]>),\n",
       "            ('A15_0',\n",
       "             <Parameter 'A15_0', value=154881.1496380705 +/- 1.22e+03, bounds=[0:inf]>),\n",
       "            ('A15_1',\n",
       "             <Parameter 'A15_1', value=94385.40756084224 +/- 741, bounds=[0:inf], expr='A15_0/1.6409438030792185'>),\n",
       "            ('xp15_0',\n",
       "             <Parameter 'xp15_0', value=-5.998546237268852 +/- 0.000128, bounds=[-inf:inf]>),\n",
       "            ('xp15_1',\n",
       "             <Parameter 'xp15_1', value=-6.026157322968928 +/- 0.000158, bounds=[-inf:inf]>),\n",
       "            ('A16_0',\n",
       "             <Parameter 'A16_0', value=154822.15238003776 +/- 1.22e+03, bounds=[0:inf]>),\n",
       "            ('A16_1',\n",
       "             <Parameter 'A16_1', value=94349.45431374016 +/- 741, bounds=[0:inf], expr='A16_0/1.6409438030792185'>),\n",
       "            ('xp16_0',\n",
       "             <Parameter 'xp16_0', value=-5.998928142651422 +/- 0.000129, bounds=[-inf:inf]>),\n",
       "            ('xp16_1',\n",
       "             <Parameter 'xp16_1', value=-6.02588202734063 +/- 0.000158, bounds=[-inf:inf]>),\n",
       "            ('A17_0',\n",
       "             <Parameter 'A17_0', value=154369.49598099838 +/- 1.21e+03, bounds=[0:inf]>),\n",
       "            ('A17_1',\n",
       "             <Parameter 'A17_1', value=94073.60306387409 +/- 740, bounds=[0:inf], expr='A17_0/1.6409438030792185'>),\n",
       "            ('xp17_0',\n",
       "             <Parameter 'xp17_0', value=-5.999176117329147 +/- 0.00013, bounds=[-inf:inf]>),\n",
       "            ('xp17_1',\n",
       "             <Parameter 'xp17_1', value=-6.025847573021684 +/- 0.000158, bounds=[-inf:inf]>),\n",
       "            ('A18_0',\n",
       "             <Parameter 'A18_0', value=153429.1805093236 +/- 1.21e+03, bounds=[0:inf]>),\n",
       "            ('A18_1',\n",
       "             <Parameter 'A18_1', value=93500.56974615152 +/- 739, bounds=[0:inf], expr='A18_0/1.6409438030792185'>),\n",
       "            ('xp18_0',\n",
       "             <Parameter 'xp18_0', value=-5.999394033974834 +/- 0.000131, bounds=[-inf:inf]>),\n",
       "            ('xp18_1',\n",
       "             <Parameter 'xp18_1', value=-6.025710460454403 +/- 0.000158, bounds=[-inf:inf]>),\n",
       "            ('A19_0',\n",
       "             <Parameter 'A19_0', value=153442.69577169532 +/- 1.21e+03, bounds=[0:inf]>),\n",
       "            ('A19_1',\n",
       "             <Parameter 'A19_1', value=93508.80601990224 +/- 737, bounds=[0:inf], expr='A19_0/1.6409438030792185'>),\n",
       "            ('xp19_0',\n",
       "             <Parameter 'xp19_0', value=-5.999540819794388 +/- 0.000131, bounds=[-inf:inf]>),\n",
       "            ('xp19_1',\n",
       "             <Parameter 'xp19_1', value=-6.025367661486318 +/- 0.000157, bounds=[-inf:inf]>),\n",
       "            ('A20_0',\n",
       "             <Parameter 'A20_0', value=152964.80277403822 +/- 1.21e+03, bounds=[0:inf]>),\n",
       "            ('A20_1',\n",
       "             <Parameter 'A20_1', value=93217.57545078688 +/- 739, bounds=[0:inf], expr='A20_0/1.6409438030792185'>),\n",
       "            ('xp20_0',\n",
       "             <Parameter 'xp20_0', value=-5.999748407670168 +/- 0.000133, bounds=[-inf:inf]>),\n",
       "            ('xp20_1',\n",
       "             <Parameter 'xp20_1', value=-6.025302463358769 +/- 0.000157, bounds=[-inf:inf]>),\n",
       "            ('A21_0',\n",
       "             <Parameter 'A21_0', value=153305.19237130825 +/- 1.21e+03, bounds=[0:inf]>),\n",
       "            ('A21_1',\n",
       "             <Parameter 'A21_1', value=93425.01070641921 +/- 738, bounds=[0:inf], expr='A21_0/1.6409438030792185'>),\n",
       "            ('xp21_0',\n",
       "             <Parameter 'xp21_0', value=-5.999991208023886 +/- 0.000133, bounds=[-inf:inf]>),\n",
       "            ('xp21_1',\n",
       "             <Parameter 'xp21_1', value=-6.02499424197281 +/- 0.000157, bounds=[-inf:inf]>),\n",
       "            ('A22_0',\n",
       "             <Parameter 'A22_0', value=152402.08844215889 +/- 1.21e+03, bounds=[0:inf]>),\n",
       "            ('A22_1',\n",
       "             <Parameter 'A22_1', value=92874.65430332077 +/- 737, bounds=[0:inf], expr='A22_0/1.6409438030792185'>),\n",
       "            ('xp22_0',\n",
       "             <Parameter 'xp22_0', value=-6.000194034440206 +/- 0.000134, bounds=[-inf:inf]>),\n",
       "            ('xp22_1',\n",
       "             <Parameter 'xp22_1', value=-6.024936506971592 +/- 0.000158, bounds=[-inf:inf]>),\n",
       "            ('A23_0',\n",
       "             <Parameter 'A23_0', value=152768.66604171574 +/- 1.21e+03, bounds=[0:inf]>),\n",
       "            ('A23_1',\n",
       "             <Parameter 'A23_1', value=93098.04866872741 +/- 737, bounds=[0:inf], expr='A23_0/1.6409438030792185'>),\n",
       "            ('xp23_0',\n",
       "             <Parameter 'xp23_0', value=-6.000341531951425 +/- 0.000133, bounds=[-inf:inf]>),\n",
       "            ('xp23_1',\n",
       "             <Parameter 'xp23_1', value=-6.024941389358316 +/- 0.000157, bounds=[-inf:inf]>),\n",
       "            ('A24_0',\n",
       "             <Parameter 'A24_0', value=152441.5430503358 +/- 1.21e+03, bounds=[0:inf]>),\n",
       "            ('A24_1',\n",
       "             <Parameter 'A24_1', value=92898.69815424539 +/- 737, bounds=[0:inf], expr='A24_0/1.6409438030792185'>),\n",
       "            ('xp24_0',\n",
       "             <Parameter 'xp24_0', value=-6.000303638734693 +/- 0.000134, bounds=[-inf:inf]>),\n",
       "            ('xp24_1',\n",
       "             <Parameter 'xp24_1', value=-6.024640193033936 +/- 0.000157, bounds=[-inf:inf]>),\n",
       "            ('A25_0',\n",
       "             <Parameter 'A25_0', value=152801.95011186626 +/- 1.21e+03, bounds=[0:inf]>),\n",
       "            ('A25_1',\n",
       "             <Parameter 'A25_1', value=93118.33216051309 +/- 735, bounds=[0:inf], expr='A25_0/1.6409438030792185'>),\n",
       "            ('xp25_0',\n",
       "             <Parameter 'xp25_0', value=-6.0006194001629325 +/- 0.000135, bounds=[-inf:inf]>),\n",
       "            ('xp25_1',\n",
       "             <Parameter 'xp25_1', value=-6.024612106232361 +/- 0.000157, bounds=[-inf:inf]>),\n",
       "            ('A26_0',\n",
       "             <Parameter 'A26_0', value=151598.5301417152 +/- 1.21e+03, bounds=[0:inf]>),\n",
       "            ('A26_1',\n",
       "             <Parameter 'A26_1', value=92384.96154301062 +/- 735, bounds=[0:inf], expr='A26_0/1.6409438030792185'>),\n",
       "            ('xp26_0',\n",
       "             <Parameter 'xp26_0', value=-6.000600110134959 +/- 0.000136, bounds=[-inf:inf]>),\n",
       "            ('xp26_1',\n",
       "             <Parameter 'xp26_1', value=-6.024513458436643 +/- 0.000159, bounds=[-inf:inf]>),\n",
       "            ('A27_0',\n",
       "             <Parameter 'A27_0', value=152589.65892888134 +/- 1.21e+03, bounds=[0:inf]>),\n",
       "            ('A27_1',\n",
       "             <Parameter 'A27_1', value=92988.96076913056 +/- 735, bounds=[0:inf], expr='A27_0/1.6409438030792185'>),\n",
       "            ('xp27_0',\n",
       "             <Parameter 'xp27_0', value=-6.000645569469536 +/- 0.000135, bounds=[-inf:inf]>),\n",
       "            ('xp27_1',\n",
       "             <Parameter 'xp27_1', value=-6.024352142073999 +/- 0.000157, bounds=[-inf:inf]>),\n",
       "            ('A28_0',\n",
       "             <Parameter 'A28_0', value=151602.97487642767 +/- 1.21e+03, bounds=[0:inf]>),\n",
       "            ('A28_1',\n",
       "             <Parameter 'A28_1', value=92387.67018830618 +/- 734, bounds=[0:inf], expr='A28_0/1.6409438030792185'>),\n",
       "            ('xp28_0',\n",
       "             <Parameter 'xp28_0', value=-6.000909521226047 +/- 0.000136, bounds=[-inf:inf]>),\n",
       "            ('xp28_1',\n",
       "             <Parameter 'xp28_1', value=-6.0243799029883585 +/- 0.000158, bounds=[-inf:inf]>),\n",
       "            ('A29_0',\n",
       "             <Parameter 'A29_0', value=151795.27046858476 +/- 1.21e+03, bounds=[0:inf]>),\n",
       "            ('A29_1',\n",
       "             <Parameter 'A29_1', value=92504.85615884108 +/- 737, bounds=[0:inf], expr='A29_0/1.6409438030792185'>),\n",
       "            ('xp29_0',\n",
       "             <Parameter 'xp29_0', value=-6.000903021036695 +/- 0.000137, bounds=[-inf:inf]>),\n",
       "            ('xp29_1',\n",
       "             <Parameter 'xp29_1', value=-6.024193309435696 +/- 0.000157, bounds=[-inf:inf]>)])"
      ]
     },
     "execution_count": 79,
     "metadata": {},
     "output_type": "execute_result"
    }
   ],
   "source": [
    "idx = 0\n",
    "fitKey = f\"6_{nfun}-{nfree}_{idx}-{idx+29}\"\n",
    "# fitKey = f\"6_{nfun}-{nfree}_{data_range[0]}-{data_range[-1]}\"\n",
    "xwFit[fitKey][0].result.params"
   ]
  },
  {
   "cell_type": "code",
   "execution_count": 144,
   "metadata": {
    "scrolled": true
   },
   "outputs": [],
   "source": [
    "savepath = r'C:\\Users\\Pierre\\Desktop\\Postdoc\\TmVO4\\TmVO4_neutrons\\2019-02_ORNL_Corelli\\2019-02-14\\p6K\\p6K_analysis\\2020-05_p6K_da'\n",
    "rcParams[\"figure.figsize\"] = np.multiply([6.4, 4.8],1.5)\n",
    "nfree = 4\n",
    "for idx in (0, 30, 60):\n",
    "    for h in set_tup:\n",
    "        fitKey = f\"{h}_{nfun}-{nfree}_{idx}-{idx+29}\"\n",
    "        xwFit[fitKey][0].plot_range = xwFit[fitKey][0].data_range[::len(data_range)//3]\n",
    "        plot_spec = list(xwFit[fitKey][0].plot_range)\n",
    "        title = f\"TmVO$_4$ neutrons #{plot_spec}; {nfree} free params per curve\"\n",
    "        xwFit[fitKey][0].plotMultipleFits(title, plotSubFits=False)\n",
    "        plt.xlim([-h-.1, -h+.1])\n",
    "        savename = f\"{str(date.today())}_TmVO4_p6K_ENS_2pVIC_weighted_{nfree}-free-params_fit_{h}-{h}-0_spec-num-{idx}-{idx+10}-{idx+20}.png\"\n",
    "#         plt.savefig('\\\\'.join([savepath,savename]), dpi=100)\n",
    "\n",
    "rcParams[\"figure.figsize\"] = np.multiply([6.4, 4.8],0.5)# default is [6.4, 4.8]"
   ]
  },
  {
   "cell_type": "code",
   "execution_count": 191,
   "metadata": {
    "scrolled": true
   },
   "outputs": [
    {
     "data": {
      "text/plain": [
       "array([[[ 1.90009241e+05,  9.54374390e+01,  1.00000000e-10,\n",
       "          1.00000000e-10,  4.05789945e-04,  4.05638000e-03,\n",
       "          5.00000000e-02, -9.99546535e+00],\n",
       "        [ 9.82707081e+04,  9.54374390e+01,  1.00000000e-10,\n",
       "          1.00000000e-10,  4.05789945e-04,  4.05638000e-03,\n",
       "          5.00000000e-02, -1.00523084e+01]],\n",
       "\n",
       "       [[ 1.93783312e+05,  9.54374390e+01,  1.00000000e-10,\n",
       "          1.00000000e-10,  4.05789945e-04,  4.05638000e-03,\n",
       "          5.00000000e-02, -9.99565160e+00],\n",
       "        [ 9.97706863e+04,  9.54374390e+01,  1.00000000e-10,\n",
       "          1.00000000e-10,  4.05789945e-04,  4.05638000e-03,\n",
       "          5.00000000e-02, -1.00521997e+01]],\n",
       "\n",
       "       [[ 1.95130162e+05,  9.54374390e+01,  1.00000000e-10,\n",
       "          1.00000000e-10,  4.05789945e-04,  4.05638000e-03,\n",
       "          5.00000000e-02, -9.99588404e+00],\n",
       "        [ 1.00187504e+05,  9.54374390e+01,  1.00000000e-10,\n",
       "          1.00000000e-10,  4.05789945e-04,  4.05638000e-03,\n",
       "          5.00000000e-02, -1.00525156e+01]],\n",
       "\n",
       "       [[ 1.87020472e+05,  9.54374390e+01,  1.00000000e-10,\n",
       "          1.00000000e-10,  4.05789945e-04,  4.05638000e-03,\n",
       "          5.00000000e-02, -9.99601980e+00],\n",
       "        [ 9.65317760e+04,  9.54374390e+01,  1.00000000e-10,\n",
       "          1.00000000e-10,  4.05789945e-04,  4.05638000e-03,\n",
       "          5.00000000e-02, -1.00522453e+01]],\n",
       "\n",
       "       [[ 1.87674383e+05,  9.54374390e+01,  1.00000000e-10,\n",
       "          1.00000000e-10,  4.05789945e-04,  4.05638000e-03,\n",
       "          5.00000000e-02, -9.99656156e+00],\n",
       "        [ 9.71510689e+04,  9.54374390e+01,  1.00000000e-10,\n",
       "          1.00000000e-10,  4.05789945e-04,  4.05638000e-03,\n",
       "          5.00000000e-02, -1.00513399e+01]],\n",
       "\n",
       "       [[ 1.89827921e+05,  9.54374390e+01,  1.00000000e-10,\n",
       "          1.00000000e-10,  4.05789945e-04,  4.05638000e-03,\n",
       "          5.00000000e-02, -9.99704035e+00],\n",
       "        [ 9.52678580e+04,  9.54374390e+01,  1.00000000e-10,\n",
       "          1.00000000e-10,  4.05789945e-04,  4.05638000e-03,\n",
       "          5.00000000e-02, -1.00510828e+01]],\n",
       "\n",
       "       [[ 1.86503318e+05,  9.54374390e+01,  1.00000000e-10,\n",
       "          1.00000000e-10,  4.05789945e-04,  4.05638000e-03,\n",
       "          5.00000000e-02, -9.99742854e+00],\n",
       "        [ 9.86935313e+04,  9.54374390e+01,  1.00000000e-10,\n",
       "          1.00000000e-10,  4.05789945e-04,  4.05638000e-03,\n",
       "          5.00000000e-02, -1.00504965e+01]],\n",
       "\n",
       "       [[ 1.89330725e+05,  9.54374390e+01,  1.00000000e-10,\n",
       "          1.00000000e-10,  4.05789945e-04,  4.05638000e-03,\n",
       "          5.00000000e-02, -9.99790331e+00],\n",
       "        [ 9.87876838e+04,  9.54374390e+01,  1.00000000e-10,\n",
       "          1.00000000e-10,  4.05789945e-04,  4.05638000e-03,\n",
       "          5.00000000e-02, -1.00500643e+01]],\n",
       "\n",
       "       [[ 1.85106690e+05,  9.54374390e+01,  1.00000000e-10,\n",
       "          1.00000000e-10,  4.05789945e-04,  4.05638000e-03,\n",
       "          5.00000000e-02, -9.99776008e+00],\n",
       "        [ 9.50198948e+04,  9.54374390e+01,  1.00000000e-10,\n",
       "          1.00000000e-10,  4.05789945e-04,  4.05638000e-03,\n",
       "          5.00000000e-02, -1.00497466e+01]],\n",
       "\n",
       "       [[ 1.88243448e+05,  9.54374390e+01,  1.00000000e-10,\n",
       "          1.00000000e-10,  4.05789945e-04,  4.05638000e-03,\n",
       "          5.00000000e-02, -9.99856169e+00],\n",
       "        [ 9.60745883e+04,  9.54374390e+01,  1.00000000e-10,\n",
       "          1.00000000e-10,  4.05789945e-04,  4.05638000e-03,\n",
       "          5.00000000e-02, -1.00495188e+01]]])"
      ]
     },
     "execution_count": 191,
     "metadata": {},
     "output_type": "execute_result"
    }
   ],
   "source": [
    "xwFit[fitKey][0].bestparams"
   ]
  },
  {
   "cell_type": "markdown",
   "metadata": {
    "heading_collapsed": true
   },
   "source": [
    "### Determine the average ratio of amplitudes vs magnetic field"
   ]
  },
  {
   "cell_type": "code",
   "execution_count": 52,
   "metadata": {
    "hidden": true
   },
   "outputs": [],
   "source": [
    "def physQuantFromFit(fitObj, h, paramKey, operation='diff', nFunc=2, nFree=4, specPerRange=30, rangeNum=2):\n",
    "\n",
    "    fitKeys = [f\"{h}_{nFunc}-{nFree}_{idx}-{idx+specPerRange-1}\" for idx in range(0,(rangeNum-1)*specPerRange+1,specPerRange)]\n",
    "    total_num_spec = np.sum([fitObj[fitKey][0].num_spec for fitKey in fitKeys])\n",
    "    physical_quantity = np.zeros((total_num_spec, 3))\n",
    "\n",
    "    for fit_idx, fitKey in enumerate(fitKeys):\n",
    "        for rng_idx, spec_idx in enumerate(fitObj[fitKey][0].data_range):\n",
    "            idx = rng_idx + 30*fit_idx\n",
    "            physical_quantity[idx,0] = fitObj[fitKey][0].data['H (T)'][spec_idx]\n",
    "            params = {0:fitObj[fitKey][0].result.params[f'{paramKey}{spec_idx}_0'],\n",
    "                      1:fitObj[fitKey][0].result.params[f'{paramKey}{spec_idx}_1']}\n",
    "            if operation is 'diff':\n",
    "                physical_quantity[idx,1] = np.abs(params[0].value - params[1].value) / h\n",
    "                physical_quantity[idx,2] = np.abs(params[0].stderr + params[1].stderr) / h\n",
    "            elif operation is 'div':\n",
    "                physical_quantity[idx,1] = np.abs(params[0].value / params[1].value)\n",
    "                physical_quantity[idx,2] = np.abs(params[0].stderr * params[1].value +\n",
    "                                                  params[1].stderr * params[0].value) / params[1].value**2\n",
    "            else:\n",
    "                raise ValueError(\"Operation must be either 'diff' or 'div'.\")\n",
    "                \n",
    "    return physical_quantity"
   ]
  },
  {
   "cell_type": "code",
   "execution_count": 61,
   "metadata": {
    "hidden": true,
    "scrolled": true
   },
   "outputs": [
    {
     "data": {
      "text/plain": [
       "{10: array([[0.00000000e+00, 1.93355420e+00, 6.21032978e-02],\n",
       "        [4.99980800e-02, 1.94231549e+00, 7.91552398e-02],\n",
       "        [9.99961600e-02, 1.94767229e+00, 7.90147923e-02],\n",
       "        [1.50004960e-01, 1.93742266e+00, 8.07714399e-02],\n",
       "        [2.00003040e-01, 1.93180899e+00, 8.03007857e-02],\n",
       "        [2.50001120e-01, 1.99260107e+00, 8.38227902e-02],\n",
       "        [2.99999200e-01, 1.88974909e+00, 7.87505982e-02],\n",
       "        [3.20002720e-01, 1.91657310e+00, 7.97400557e-02],\n",
       "        [3.39995520e-01, 1.94811131e+00, 8.30093669e-02],\n",
       "        [3.59999040e-01, 1.95938069e+00, 8.39391363e-02],\n",
       "        [3.80002560e-01, 1.90156357e+00, 8.02001079e-02],\n",
       "        [3.99995360e-01, 1.98139282e+00, 8.56897990e-02],\n",
       "        [4.19998880e-01, 2.00125513e+00, 8.58981188e-02],\n",
       "        [4.40002400e-01, 1.91473571e+00, 8.28290863e-02],\n",
       "        [4.59995200e-01, 1.96532943e+00, 8.52279761e-02],\n",
       "        [4.79998720e-01, 2.01634466e+00, 8.94977163e-02],\n",
       "        [5.00002240e-01, 2.11662692e+00, 9.46193354e-02],\n",
       "        [5.10004000e-01, 2.02986400e+00, 9.24512079e-02],\n",
       "        [5.19995040e-01, 2.09488849e+00, 9.48126125e-02],\n",
       "        [5.29996800e-01, 2.03444620e+00, 9.20737431e-02],\n",
       "        [5.39998560e-01, 2.06732646e+00, 9.57756112e-02],\n",
       "        [5.50000320e-01, 2.08827908e+00, 9.83203911e-02],\n",
       "        [5.54995840e-01, 2.15554137e+00, 1.01716253e-01],\n",
       "        [5.60002080e-01, 2.11320966e+00, 9.98858200e-02],\n",
       "        [5.64997600e-01, 2.10874646e+00, 9.97960045e-02],\n",
       "        [5.70003840e-01, 2.07935848e+00, 9.83701907e-02],\n",
       "        [5.74999360e-01, 2.04374843e+00, 9.78726662e-02],\n",
       "        [5.79994880e-01, 2.16377110e+00, 1.03449953e-01],\n",
       "        [5.85001120e-01, 2.04174685e+00, 9.95291911e-02],\n",
       "        [5.89996640e-01, 2.16938283e+00, 1.06186072e-01],\n",
       "        [5.95002880e-01, 2.18030119e+00, 9.86020451e-02],\n",
       "        [5.99998400e-01, 2.02867783e+00, 9.32762839e-02],\n",
       "        [6.05004640e-01, 2.22000392e+00, 1.02016878e-01],\n",
       "        [6.10000160e-01, 2.10583889e+00, 1.00437298e-01],\n",
       "        [6.14995680e-01, 2.19960067e+00, 1.04363121e-01],\n",
       "        [6.20001920e-01, 1.97894689e+00, 9.31234333e-02],\n",
       "        [6.24997440e-01, 2.10876671e+00, 1.00452884e-01],\n",
       "        [6.30003680e-01, 2.26742065e+00, 1.11835461e-01],\n",
       "        [6.34999200e-01, 2.09273385e+00, 1.02789885e-01],\n",
       "        [6.39994720e-01, 2.27785023e+00, 1.16197815e-01],\n",
       "        [6.45000960e-01, 2.14602802e+00, 1.09438773e-01],\n",
       "        [6.49996480e-01, 2.26673740e+00, 1.19824789e-01],\n",
       "        [6.55002720e-01, 2.29001290e+00, 1.22093339e-01],\n",
       "        [6.59998240e-01, 2.28047088e+00, 1.21054213e-01],\n",
       "        [6.65004480e-01, 2.15955720e+00, 1.17761189e-01],\n",
       "        [6.70000000e-01, 2.10876704e+00, 1.14525628e-01],\n",
       "        [6.74995520e-01, 2.24021299e+00, 1.32385426e-01],\n",
       "        [6.80001760e-01, 2.39842024e+00, 1.39674680e-01],\n",
       "        [6.84997280e-01, 2.16128543e+00, 1.28282237e-01],\n",
       "        [6.90003520e-01, 2.31276156e+00, 1.44638859e-01],\n",
       "        [6.94999040e-01, 2.37659982e+00, 1.55373020e-01],\n",
       "        [7.00005280e-01, 2.42251661e+00, 1.60103891e-01],\n",
       "        [7.05000800e-01, 2.78093941e+00, 1.90900894e-01],\n",
       "        [7.09996320e-01, 2.48731719e+00, 1.72862570e-01],\n",
       "        [7.15002560e-01, 2.67922269e+00, 2.06301729e-01],\n",
       "        [7.19998080e-01, 2.74512310e+00, 2.12794447e-01],\n",
       "        [7.25004320e-01, 2.77067153e+00, 2.24061950e-01],\n",
       "        [7.29999840e-01, 2.82125131e+00, 2.42130357e-01],\n",
       "        [7.34995360e-01, 2.47118847e+00, 2.21401987e-01],\n",
       "        [7.40001600e-01, 2.77071726e+00, 2.59182211e-01],\n",
       "        [7.44997120e-01, 3.22513165e+00, 3.67409765e-01],\n",
       "        [7.50003360e-01, 2.48420856e+00, 3.13804559e-01],\n",
       "        [7.54998880e-01, 3.72318476e-02, 6.67105764e-03],\n",
       "        [7.60005120e-01, 3.10135952e+00, 4.22258791e-01],\n",
       "        [7.65000640e-01, 3.33000392e+00, 4.53476304e-01],\n",
       "        [7.69996160e-01, 3.26148499e+00, 4.81171836e-01],\n",
       "        [7.75002400e-01, 3.49680794e-02, 7.45944915e-03],\n",
       "        [7.79997920e-01, 3.15602345e-02, 6.38235673e-03],\n",
       "        [7.85004160e-01, 3.57158534e+00, 6.61003668e-01],\n",
       "        [7.89999680e-01, 2.97654161e-02, 6.73773869e-03],\n",
       "        [7.94995200e-01, 1.68992973e-02, 3.85608299e-03],\n",
       "        [8.00001440e-01, 1.97068880e-02, 4.00194651e-03],\n",
       "        [8.04996960e-01, 2.53744638e-02, 5.59534379e-03],\n",
       "        [8.10003200e-01, 1.83236393e-02, 4.03114154e-03],\n",
       "        [8.14998720e-01, 1.44813770e-02, 3.34644974e-03],\n",
       "        [8.20004960e-01, 1.66556978e-02, 3.65357541e-03],\n",
       "        [8.25000480e-01, 4.02345196e-02, 7.97615512e-03],\n",
       "        [8.29996000e-01, 2.93729150e-02, 8.05218906e-03],\n",
       "        [8.35002240e-01, 2.36526048e-02, 4.63960403e-03],\n",
       "        [8.39997760e-01, 1.65171740e-02, 3.48940157e-03],\n",
       "        [8.45004000e-01, 2.45988325e-02, 6.71503389e-03],\n",
       "        [8.49999520e-01, 2.50066000e-02, 6.35210238e-03],\n",
       "        [8.54995040e-01, 1.92378937e-02, 3.71943970e-03],\n",
       "        [8.60001280e-01, 1.73059638e-02, 3.78515091e-03],\n",
       "        [8.64996800e-01, 1.79068055e-02, 6.12817850e-03],\n",
       "        [8.70003040e-01, 2.09047647e-02, 6.04550874e-03],\n",
       "        [8.74998560e-01, 2.25312545e-02, 6.42231930e-03],\n",
       "        [8.80004800e-01, 1.45229268e-02, 3.69916820e-03],\n",
       "        [8.85000320e-01, 1.82081675e-02, 3.98427966e-03],\n",
       "        [8.89995840e-01, 2.71924512e-02, 6.62714591e-03]]),\n",
       " 6: array([[0.        , 1.66332165, 0.02966354],\n",
       "        [0.04999808, 1.6101249 , 0.03644857],\n",
       "        [0.09999616, 1.64191314, 0.03741221],\n",
       "        [0.15000496, 1.63180797, 0.03747783],\n",
       "        [0.20000304, 1.64198701, 0.03788096],\n",
       "        [0.25000112, 1.62497884, 0.03777176],\n",
       "        [0.2999992 , 1.6349918 , 0.0384223 ],\n",
       "        [0.32000272, 1.63950822, 0.03832446],\n",
       "        [0.33999552, 1.63646229, 0.03844707],\n",
       "        [0.35999904, 1.63794917, 0.03869592],\n",
       "        [0.38000256, 1.67490736, 0.03979208],\n",
       "        [0.39999536, 1.64480457, 0.03961858],\n",
       "        [0.41999888, 1.63213057, 0.03954239],\n",
       "        [0.4400024 , 1.65832576, 0.04051768],\n",
       "        [0.4599952 , 1.70867287, 0.04237734],\n",
       "        [0.47999872, 1.7264466 , 0.0435332 ],\n",
       "        [0.50000224, 1.71552541, 0.04380991],\n",
       "        [0.510004  , 1.76063845, 0.04541141],\n",
       "        [0.51999504, 1.7324622 , 0.04525542],\n",
       "        [0.5299968 , 1.75625601, 0.04637371],\n",
       "        [0.53999856, 1.74002981, 0.04650242],\n",
       "        [0.55000032, 1.77024154, 0.0479429 ],\n",
       "        [0.55499584, 1.79217325, 0.04920885],\n",
       "        [0.56000208, 1.74776109, 0.04799847],\n",
       "        [0.5649976 , 1.77687563, 0.04945335],\n",
       "        [0.57000384, 1.83358161, 0.05149518],\n",
       "        [0.57499936, 1.80513606, 0.05111899],\n",
       "        [0.57999488, 1.83701282, 0.05225454],\n",
       "        [0.58500112, 1.82935694, 0.05278366],\n",
       "        [0.58999664, 1.8618115 , 0.05437128],\n",
       "        [0.59500288, 1.84142537, 0.05385993],\n",
       "        [0.5999984 , 1.84869512, 0.05453277],\n",
       "        [0.60500464, 1.87447047, 0.05585703],\n",
       "        [0.61000016, 1.87866139, 0.05633853],\n",
       "        [0.61499568, 1.88519621, 0.05742567],\n",
       "        [0.62000192, 1.8585408 , 0.05772392],\n",
       "        [0.62499744, 1.92547844, 0.06129946],\n",
       "        [0.63000368, 1.90519956, 0.06113413],\n",
       "        [0.6349992 , 1.95520925, 0.0636512 ],\n",
       "        [0.63999472, 1.96098489, 0.06546214],\n",
       "        [0.64500096, 1.99016499, 0.06779421],\n",
       "        [0.64999648, 1.99428629, 0.06933814],\n",
       "        [0.65500272, 2.04777644, 0.07267984],\n",
       "        [0.65999824, 2.02790364, 0.07331424],\n",
       "        [0.66500448, 2.07265747, 0.07718696],\n",
       "        [0.67      , 2.04976615, 0.07925666],\n",
       "        [0.67499552, 2.12706323, 0.0842309 ],\n",
       "        [0.68000176, 2.0649385 , 0.08384463],\n",
       "        [0.68499728, 2.08317615, 0.08708206],\n",
       "        [0.69000352, 2.17533101, 0.09571599],\n",
       "        [0.69499904, 2.18790532, 0.10060982],\n",
       "        [0.70000528, 2.20415836, 0.10169387],\n",
       "        [0.7050008 , 2.24449114, 0.10884285],\n",
       "        [0.70999632, 2.20503854, 0.11105059],\n",
       "        [0.71500256, 2.27461666, 0.11950349],\n",
       "        [0.71999808, 2.32097054, 0.12778608],\n",
       "        [0.72500432, 2.22777733, 0.13268002],\n",
       "        [0.72999984, 2.27937944, 0.13918351],\n",
       "        [0.73499536, 2.27329426, 0.14394044],\n",
       "        [0.7400016 , 2.40417628, 0.16217293],\n",
       "        [0.74499712, 2.17592595, 0.13797308],\n",
       "        [0.75000336, 2.46863902, 0.16232259],\n",
       "        [0.75499888, 2.27156353, 0.1622416 ],\n",
       "        [0.76000512, 2.21867263, 0.16728788],\n",
       "        [0.76500064, 2.1325488 , 0.1700091 ],\n",
       "        [0.76999616, 2.22999603, 0.19260676],\n",
       "        [0.7750024 , 2.2835108 , 0.21501536],\n",
       "        [0.77999792, 2.18672296, 0.20809939],\n",
       "        [0.78500416, 2.1747418 , 0.22948949],\n",
       "        [0.78999968, 2.03083052, 0.22901942],\n",
       "        [0.7949952 , 2.21701212, 0.27445232],\n",
       "        [0.80000144, 2.00379497, 0.26609913],\n",
       "        [0.80499696, 2.2011582 , 0.32102129],\n",
       "        [0.8100032 , 1.87900762, 0.31158288],\n",
       "        [0.81499872, 1.71066907, 0.29071252],\n",
       "        [0.82000496, 1.62858304, 0.30312756],\n",
       "        [0.82500048, 1.94198312, 0.3612518 ],\n",
       "        [0.829996  , 1.8216986 , 0.39763416],\n",
       "        [0.83500224, 1.82682526, 0.42356284],\n",
       "        [0.83999776, 1.75453173, 0.48947014],\n",
       "        [0.845004  , 1.1535763 , 0.35867396],\n",
       "        [0.84999952, 1.54510416, 0.49525722],\n",
       "        [0.85499504, 1.11795648, 0.38400384],\n",
       "        [0.86000128, 1.12921137, 0.49276051],\n",
       "        [0.8649968 , 1.3043683 , 0.60107307],\n",
       "        [0.87000304, 0.94908912, 0.41151256],\n",
       "        [0.87499856, 1.2350206 , 0.63340603],\n",
       "        [0.8800048 , 0.84124116, 0.52884964],\n",
       "        [0.88500032, 0.76723407, 0.51494765],\n",
       "        [0.88999584, 0.37048518, 0.31751795]]),\n",
       " 8: array([[0.00000000e+00, 2.13592303e+00, 5.00415318e-02],\n",
       "        [4.99980800e-02, 2.10605693e+00, 6.34065989e-02],\n",
       "        [9.99961600e-02, 2.13656759e+00, 6.46351875e-02],\n",
       "        [1.50004960e-01, 2.08021883e+00, 6.26431249e-02],\n",
       "        [2.00003040e-01, 2.08859841e+00, 6.37331704e-02],\n",
       "        [2.50001120e-01, 2.07471410e+00, 6.37620611e-02],\n",
       "        [2.99999200e-01, 2.06186529e+00, 6.44200760e-02],\n",
       "        [3.20002720e-01, 2.08077904e+00, 6.31997766e-02],\n",
       "        [3.39995520e-01, 2.06822427e+00, 6.42281695e-02],\n",
       "        [3.59999040e-01, 2.21083354e+00, 6.90899072e-02],\n",
       "        [3.80002560e-01, 2.08965699e+00, 6.41688881e-02],\n",
       "        [3.99995360e-01, 2.18750388e+00, 6.85273248e-02],\n",
       "        [4.19998880e-01, 2.13580598e+00, 6.66984514e-02],\n",
       "        [4.40002400e-01, 2.07911500e+00, 6.50936827e-02],\n",
       "        [4.59995200e-01, 2.08598983e+00, 6.57547861e-02],\n",
       "        [4.79998720e-01, 2.21050716e+00, 7.05836135e-02],\n",
       "        [5.00002240e-01, 2.12653783e+00, 6.93581649e-02],\n",
       "        [5.10004000e-01, 2.18165014e+00, 7.18675103e-02],\n",
       "        [5.19995040e-01, 2.18616697e+00, 7.30332389e-02],\n",
       "        [5.29996800e-01, 2.25907233e+00, 7.51079345e-02],\n",
       "        [5.39998560e-01, 2.20347154e+00, 7.51862075e-02],\n",
       "        [5.50000320e-01, 2.30474406e+00, 7.93902278e-02],\n",
       "        [5.54995840e-01, 2.29387895e+00, 7.91473036e-02],\n",
       "        [5.60002080e-01, 2.29090744e+00, 7.79260363e-02],\n",
       "        [5.64997600e-01, 2.26573090e+00, 7.96702843e-02],\n",
       "        [5.70003840e-01, 2.25785180e+00, 7.88445062e-02],\n",
       "        [5.74999360e-01, 2.31199646e+00, 8.08705554e-02],\n",
       "        [5.79994880e-01, 2.34718568e+00, 8.30971864e-02],\n",
       "        [5.85001120e-01, 2.36119228e+00, 8.44054749e-02],\n",
       "        [5.89996640e-01, 2.23434052e+00, 7.93159125e-02],\n",
       "        [5.95002880e-01, 2.27487527e+00, 7.57093313e-02],\n",
       "        [5.99998400e-01, 2.27031529e+00, 7.42314388e-02],\n",
       "        [6.05004640e-01, 2.32319350e+00, 7.87595360e-02],\n",
       "        [6.10000160e-01, 2.31647544e+00, 7.81306791e-02],\n",
       "        [6.14995680e-01, 2.35639834e+00, 8.06190366e-02],\n",
       "        [6.20001920e-01, 2.39419594e+00, 8.28052476e-02],\n",
       "        [6.24997440e-01, 2.29949831e+00, 8.06207045e-02],\n",
       "        [6.30003680e-01, 2.47338892e+00, 8.96049134e-02],\n",
       "        [6.34999200e-01, 2.30413283e+00, 8.37123376e-02],\n",
       "        [6.39994720e-01, 2.38256938e+00, 8.90039031e-02],\n",
       "        [6.45000960e-01, 2.48142502e+00, 9.39077515e-02],\n",
       "        [6.49996480e-01, 2.55488893e+00, 9.79493029e-02],\n",
       "        [6.55002720e-01, 2.45991746e+00, 9.30128912e-02],\n",
       "        [6.59998240e-01, 2.55256607e+00, 1.02699834e-01],\n",
       "        [6.65004480e-01, 2.61804476e+00, 1.07626890e-01],\n",
       "        [6.70000000e-01, 2.57891635e+00, 1.10306980e-01],\n",
       "        [6.74995520e-01, 2.51023712e+00, 1.08361756e-01],\n",
       "        [6.80001760e-01, 2.62853744e+00, 1.17725538e-01],\n",
       "        [6.84997280e-01, 2.50313508e+00, 1.15255287e-01],\n",
       "        [6.90003520e-01, 2.52329181e+00, 1.18271424e-01],\n",
       "        [6.94999040e-01, 2.55985668e+00, 1.25501015e-01],\n",
       "        [7.00005280e-01, 2.77441305e+00, 1.37929145e-01],\n",
       "        [7.05000800e-01, 3.00043580e+00, 1.56344234e-01],\n",
       "        [7.09996320e-01, 2.79611346e+00, 1.51559510e-01],\n",
       "        [7.15002560e-01, 3.30316272e+00, 1.87155508e-01],\n",
       "        [7.19998080e-01, 2.95697103e+00, 1.79381084e-01],\n",
       "        [7.25004320e-01, 2.82592984e+00, 1.76014350e-01],\n",
       "        [7.29999840e-01, 3.04018272e+00, 1.99251416e-01],\n",
       "        [7.34995360e-01, 3.11237000e+00, 2.21549507e-01],\n",
       "        [7.40001600e-01, 3.22750430e+00, 2.40526855e-01],\n",
       "        [7.44997120e-01, 3.11152516e+00, 2.41841357e-01],\n",
       "        [7.50003360e-01, 3.16020003e+00, 2.51926291e-01],\n",
       "        [7.54998880e-01, 3.49887099e+00, 2.96118784e-01],\n",
       "        [7.60005120e-01, 3.61353264e+00, 3.43582598e-01],\n",
       "        [7.65000640e-01, 3.36337575e+00, 3.73520606e-01],\n",
       "        [7.69996160e-01, 3.98159540e+00, 4.04489569e-01],\n",
       "        [7.75002400e-01, 4.07886915e+00, 4.51931552e-01],\n",
       "        [7.79997920e-01, 3.72871166e+00, 4.75851319e-01],\n",
       "        [7.85004160e-01, 3.98915856e+00, 5.51971219e-01],\n",
       "        [7.89999680e-01, 3.24570247e+00, 5.33885092e-01],\n",
       "        [7.94995200e-01, 4.74129764e+00, 6.52239186e-01],\n",
       "        [8.00001440e-01, 4.16033797e+00, 6.89865892e-01],\n",
       "        [8.04996960e-01, 4.33349902e+00, 7.95498436e-01],\n",
       "        [8.10003200e-01, 3.53883951e+00, 6.84682163e-01],\n",
       "        [8.14998720e-01, 5.01686954e+00, 9.52480957e-01],\n",
       "        [8.20004960e-01, 5.32419263e+00, 1.21201052e+00],\n",
       "        [8.25000480e-01, 6.02408058e+00, 1.34192364e+00],\n",
       "        [8.29996000e-01, 4.15329440e+00, 9.87349289e-01],\n",
       "        [8.35002240e-01, 3.20672342e+00, 1.22141663e+00],\n",
       "        [8.39997760e-01, 2.65201542e+00, 9.33406751e-01],\n",
       "        [8.45004000e-01, 6.76269799e+00, 2.82618483e+00],\n",
       "        [8.49999520e-01, 5.21596815e+00, 2.68107542e+00],\n",
       "        [8.54995040e-01, 8.18085341e+00, 4.21987678e+00],\n",
       "        [8.60001280e-01, 5.77964419e+00, 4.11710605e+00],\n",
       "        [8.64996800e-01, 1.20198720e+01, 6.25172089e+00],\n",
       "        [8.70003040e-01, 4.97178614e-03, 4.61778522e-03],\n",
       "        [8.74998560e-01, 3.99571349e+00, 3.04470144e+00],\n",
       "        [8.80004800e-01, 1.22426708e+01, 7.56184978e+00],\n",
       "        [8.85000320e-01, 4.72120425e-03, 4.05031863e-03],\n",
       "        [8.89995840e-01, 3.51500058e-01, 3.62847627e-01]])}"
      ]
     },
     "execution_count": 61,
     "metadata": {},
     "output_type": "execute_result"
    }
   ],
   "source": [
    "if 'amplitude_ratio' not in globals():\n",
    "    amplitude_ratio = {}\n",
    "\n",
    "for h in set_tup:\n",
    "    amplitude_ratio[h] = physQuantFromFit(xwFit, h, 'A', operation='div', nFree=4, \n",
    "                                          specPerRange=30, rangeNum=3)\n",
    "#     fitKeys = [f\"{h}_2_{idx}-{idx+29}\" for idx in range(0,31,30)]\n",
    "\n",
    "amplitude_ratio"
   ]
  },
  {
   "cell_type": "code",
   "execution_count": 62,
   "metadata": {
    "hidden": true,
    "scrolled": true
   },
   "outputs": [
    {
     "name": "stdout",
     "output_type": "stream",
     "text": [
      "Parameters([('slope', <Parameter 'slope', value=0 (fixed), bounds=[-inf:inf]>), ('intercept', <Parameter 'intercept', value=1.6409438030784353 +/- 0.00433, bounds=[-inf:inf]>)])\n",
      "Parameters([('slope', <Parameter 'slope', value=0 (fixed), bounds=[-inf:inf]>), ('intercept', <Parameter 'intercept', value=2.1097044913896537 +/- 0.0122, bounds=[-inf:inf]>)])\n",
      "Parameters([('slope', <Parameter 'slope', value=0 (fixed), bounds=[-inf:inf]>), ('intercept', <Parameter 'intercept', value=1.9427240060500142 +/- 0.00875, bounds=[-inf:inf]>)])\n"
     ]
    }
   ],
   "source": [
    "linmod, linpar, linresult = {}, {}, {}\n",
    "\n",
    "for h in set_tup:\n",
    "    linmod[h] = LinearModel()\n",
    "    xfit_sel = amplitude_ratio[h][:,0]<.45\n",
    "    linpar[h] = linmod[h].make_params(slope=0, intercept=2)\n",
    "    linpar[h]['slope'].vary = False\n",
    "    linresult[h] = linmod[h].fit(amplitude_ratio[h][xfit_sel][:,1], linpar[h], \n",
    "                                  x=amplitude_ratio[h][xfit_sel][:,0])\n",
    "    \n",
    "    print(linresult[h].params)"
   ]
  },
  {
   "cell_type": "code",
   "execution_count": 63,
   "metadata": {
    "hidden": true
   },
   "outputs": [
    {
     "data": {
      "text/plain": [
       "<matplotlib.legend.Legend at 0x1d920dbaac8>"
      ]
     },
     "execution_count": 63,
     "metadata": {},
     "output_type": "execute_result"
    }
   ],
   "source": [
    "fig, ax = plt.subplots()\n",
    "for h in [6,8,10]:\n",
    "    x = amplitude_ratio[h][:,0]\n",
    "    p = plt.errorbar(x, amplitude_ratio[h][:,1], amplitude_ratio[h][:,2],\n",
    "                 marker='o', elinewidth=1, linewidth=0, label=f\"({h}{h}0)\")\n",
    "    pcolor = p[-1][0].get_color()[0,:3]\n",
    "    a = linresult[h].params['slope']\n",
    "    b = linresult[h].params['intercept']\n",
    "    plt.plot(x, a*x+b, color=pcolor)\n",
    "plt.show()\n",
    "plt.ylabel(\"Amplitude ratio\")\n",
    "plt.xlabel(\"$H$ (T)\")\n",
    "plt.ylim([0, 10])\n",
    "plt.legend()"
   ]
  },
  {
   "cell_type": "markdown",
   "metadata": {
    "heading_collapsed": true,
    "hidden": true
   },
   "source": [
    "#### Attempt at a quadratic fit\n",
    "Doesn't work and doesn't seem worth spending any more time on that"
   ]
  },
  {
   "cell_type": "code",
   "execution_count": null,
   "metadata": {
    "hidden": true
   },
   "outputs": [],
   "source": [
    "def quad(x, a, b, c):\n",
    "    return a*x**2 + b*x + c\n",
    "\n",
    "def quad_init_param(params, dat_idx):\n",
    "    \n",
    "\n",
    "def quad_residual(params, xdata, ydata, spec_range, weights=None, nFunc=1):\n",
    "\n",
    "    ndata, _ = ydata.shape # determine the number of datasets to fit\n",
    "    resid = np.zeros(ydata.shape) # initialize array of residuals\n",
    "    for spec_idx in range(ndata):\n",
    "        \n",
    "        model = np.sum([quad(xdata[spec_idx, :], \n",
    "                             *xnpVIC_init_prm(params, spec_range[spec_idx], fun_idx))\n",
    "                        for fun_idx in range(nFunc)], axis=0)\n",
    "        \n",
    "        if weights is None:\n",
    "            resid[spec_idx, :] = ydata[spec_idx, :] - model\n",
    "        else:\n",
    "            resid[spec_idx, :] = weights[spec_idx, :]*(ydata[spec_idx, :] - model)\n",
    "            \n",
    "    # now flatten this to a 1D array, as minimize() needs\n",
    "    return resid.flatten()\n"
   ]
  },
  {
   "cell_type": "code",
   "execution_count": 269,
   "metadata": {
    "hidden": true
   },
   "outputs": [],
   "source": [
    "quadmodel = quadmod[6] + quadmod[8] + quadmod[10]\n",
    "quadparam = quadmodel.make"
   ]
  },
  {
   "cell_type": "markdown",
   "metadata": {
    "heading_collapsed": true,
    "hidden": true
   },
   "source": [
    "#### Constant amplitude ratio\n",
    "Compute array of mean value of ratio of peak amplitudes for magnetic field < 0.45 T.\n",
    "Check that this ratio is roughly constant at low fields by showing that the relative standard deviation is less than 10% (actually between 1% and 2%!)"
   ]
  },
  {
   "cell_type": "code",
   "execution_count": 65,
   "metadata": {
    "hidden": true
   },
   "outputs": [
    {
     "name": "stdout",
     "output_type": "stream",
     "text": [
      "0.009504879403470948\n",
      "0.020856830988086723\n",
      "0.016242088399685533\n"
     ]
    },
    {
     "data": {
      "text/plain": [
       "{6: array([1.6409438 , 0.01559697]),\n",
       " 8: array([2.10970449, 0.04400175]),\n",
       " 10: array([1.94272401, 0.0315539 ])}"
      ]
     },
     "execution_count": 65,
     "metadata": {},
     "output_type": "execute_result"
    }
   ],
   "source": [
    "fix_amp_ratio = {}\n",
    "for h in set_tup:\n",
    "    fix_amp_ratio[h] = np.array([np.mean(amplitude_ratio[h][amplitude_ratio[h][:,0]<.45][:,1]),\n",
    "                                 np.std(amplitude_ratio[h][amplitude_ratio[h][:,0]<.45][:,1])])\n",
    "    print(fix_amp_ratio[h][1]/fix_amp_ratio[h][0])\n",
    "\n",
    "fix_amp_ratio"
   ]
  },
  {
   "cell_type": "code",
   "execution_count": 176,
   "metadata": {
    "hidden": true
   },
   "outputs": [
    {
     "data": {
      "text/plain": [
       "array([0., 0.])"
      ]
     },
     "execution_count": 176,
     "metadata": {},
     "output_type": "execute_result"
    }
   ],
   "source": [
    "fix_amp_ratio[h].shape\n",
    "np.zeros((2))#[:,0]#.shape[1]"
   ]
  },
  {
   "cell_type": "markdown",
   "metadata": {
    "heading_collapsed": true
   },
   "source": [
    "### Extract splitting vs field"
   ]
  },
  {
   "cell_type": "code",
   "execution_count": 98,
   "metadata": {
    "hidden": true,
    "scrolled": true
   },
   "outputs": [
    {
     "data": {
      "text/plain": [
       "{'6-4': array([[0.00000000e+00, 5.79446283e-03, 3.57368458e-05],\n",
       "        [4.99980800e-02, 5.75730631e-03, 4.53718070e-05],\n",
       "        [9.99961600e-02, 5.70642067e-03, 4.58094231e-05],\n",
       "        [1.50004960e-01, 5.68954730e-03, 4.60672852e-05],\n",
       "        [2.00003040e-01, 5.59310420e-03, 4.62262694e-05],\n",
       "        [2.50001120e-01, 5.48572324e-03, 4.62843040e-05],\n",
       "        [2.99999200e-01, 5.33571776e-03, 4.65089900e-05],\n",
       "        [3.20002720e-01, 5.30246892e-03, 4.63325331e-05],\n",
       "        [3.39995520e-01, 5.24037522e-03, 4.64146649e-05],\n",
       "        [3.59999040e-01, 5.15503983e-03, 4.63716813e-05],\n",
       "        [3.80002560e-01, 5.08936091e-03, 4.66605068e-05],\n",
       "        [3.99995360e-01, 4.97173316e-03, 4.70439207e-05],\n",
       "        [4.19998880e-01, 4.86954436e-03, 4.72459123e-05],\n",
       "        [4.40002400e-01, 4.81550981e-03, 4.76325218e-05],\n",
       "        [4.59995200e-01, 4.69809409e-03, 4.83078105e-05],\n",
       "        [4.79998720e-01, 4.60914550e-03, 4.89795175e-05],\n",
       "        [5.00002240e-01, 4.49828278e-03, 4.94651811e-05],\n",
       "        [5.10004000e-01, 4.45604009e-03, 4.99205240e-05],\n",
       "        [5.19995040e-01, 4.39376900e-03, 5.04102463e-05],\n",
       "        [5.29996800e-01, 4.31425163e-03, 5.06916589e-05],\n",
       "        [5.39998560e-01, 4.26781424e-03, 5.11681569e-05],\n",
       "        [5.50000320e-01, 4.17941250e-03, 5.18198847e-05],\n",
       "        [5.54995840e-01, 4.13804685e-03, 5.24653526e-05],\n",
       "        [5.60002080e-01, 4.10953113e-03, 5.23246400e-05],\n",
       "        [5.64997600e-01, 4.06823848e-03, 5.28052997e-05],\n",
       "        [5.70003840e-01, 4.01787529e-03, 5.32637373e-05],\n",
       "        [5.74999360e-01, 4.00159217e-03, 5.39181655e-05],\n",
       "        [5.79994880e-01, 3.97172272e-03, 5.37915840e-05],\n",
       "        [5.85001120e-01, 3.93053952e-03, 5.44025387e-05],\n",
       "        [5.89996640e-01, 3.90455700e-03, 5.47009052e-05],\n",
       "        [5.95002880e-01, 3.85009565e-03, 5.47350667e-05],\n",
       "        [5.99998400e-01, 3.81104330e-03, 5.50558779e-05],\n",
       "        [6.05004640e-01, 3.76664462e-03, 5.54681921e-05],\n",
       "        [6.10000160e-01, 3.74843959e-03, 5.56733624e-05],\n",
       "        [6.14995680e-01, 3.71035646e-03, 5.63090349e-05],\n",
       "        [6.20001920e-01, 3.64769815e-03, 5.73147802e-05],\n",
       "        [6.24997440e-01, 3.59250461e-03, 5.80989381e-05],\n",
       "        [6.30003680e-01, 3.55759931e-03, 5.84492028e-05],\n",
       "        [6.34999200e-01, 3.53028514e-03, 5.92295177e-05],\n",
       "        [6.39994720e-01, 3.47536466e-03, 6.00230082e-05],\n",
       "        [6.45000960e-01, 3.42200128e-03, 6.09187717e-05],\n",
       "        [6.49996480e-01, 3.37301377e-03, 6.15133091e-05],\n",
       "        [6.55002720e-01, 3.33452093e-03, 6.23242918e-05],\n",
       "        [6.59998240e-01, 3.28636022e-03, 6.29978169e-05],\n",
       "        [6.65004480e-01, 3.23336380e-03, 6.40671154e-05],\n",
       "        [6.70000000e-01, 3.16412391e-03, 6.58024922e-05],\n",
       "        [6.74995520e-01, 3.13579045e-03, 6.66277118e-05],\n",
       "        [6.80001760e-01, 3.07448670e-03, 6.77501735e-05],\n",
       "        [6.84997280e-01, 3.03292377e-03, 6.88957725e-05],\n",
       "        [6.90003520e-01, 2.96823439e-03, 7.10882550e-05],\n",
       "        [6.94999040e-01, 2.90624737e-03, 7.31668752e-05],\n",
       "        [7.00005280e-01, 2.90070825e-03, 7.32871171e-05],\n",
       "        [7.05000800e-01, 2.84099291e-03, 7.54702136e-05],\n",
       "        [7.09996320e-01, 2.78656672e-03, 7.75565068e-05],\n",
       "        [7.15002560e-01, 2.75328073e-03, 7.94991081e-05],\n",
       "        [7.19998080e-01, 2.70880485e-03, 8.18452248e-05],\n",
       "        [7.25004320e-01, 2.60367196e-03, 8.55534810e-05],\n",
       "        [7.29999840e-01, 2.58376811e-03, 8.71668506e-05],\n",
       "        [7.34995360e-01, 2.55086759e-03, 8.93015638e-05],\n",
       "        [7.40001600e-01, 2.49432205e-03, 9.26325479e-05],\n",
       "        [7.44997120e-01, 2.41743892e-03, 8.49507072e-05],\n",
       "        [7.50003360e-01, 2.41944721e-03, 8.73081879e-05],\n",
       "        [7.54998880e-01, 2.31786316e-03, 9.11152129e-05],\n",
       "        [7.60005120e-01, 2.27227979e-03, 9.42445345e-05],\n",
       "        [7.65000640e-01, 2.22156261e-03, 9.74878964e-05],\n",
       "        [7.69996160e-01, 2.16820892e-03, 1.02503410e-04],\n",
       "        [7.75002400e-01, 2.11372478e-03, 1.08655478e-04],\n",
       "        [7.79997920e-01, 2.08930683e-03, 1.08388335e-04],\n",
       "        [7.85004160e-01, 2.02231773e-03, 1.15814971e-04],\n",
       "        [7.89999680e-01, 1.96151438e-03, 1.20298557e-04],\n",
       "        [7.94995200e-01, 1.91645078e-03, 1.27950050e-04],\n",
       "        [8.00001440e-01, 1.85091905e-03, 1.32874757e-04],\n",
       "        [8.04996960e-01, 1.81174377e-03, 1.41325225e-04],\n",
       "        [8.10003200e-01, 1.70715799e-03, 1.51925019e-04],\n",
       "        [8.14998720e-01, 1.69178199e-03, 1.55053495e-04],\n",
       "        [8.20004960e-01, 1.63375116e-03, 1.63706204e-04],\n",
       "        [8.25000480e-01, 1.65732016e-03, 1.64556528e-04],\n",
       "        [8.29996000e-01, 1.55444412e-03, 1.80001956e-04],\n",
       "        [8.35002240e-01, 1.52815078e-03, 1.87368935e-04],\n",
       "        [8.39997760e-01, 1.42974103e-03, 2.09691581e-04],\n",
       "        [8.45004000e-01, 1.36505130e-03, 2.27239138e-04],\n",
       "        [8.49999520e-01, 1.36117434e-03, 2.29844934e-04],\n",
       "        [8.54995040e-01, 1.32235688e-03, 2.42417824e-04],\n",
       "        [8.60001280e-01, 1.21736611e-03, 2.80903528e-04],\n",
       "        [8.64996800e-01, 1.19762650e-03, 2.89259449e-04],\n",
       "        [8.70003040e-01, 1.22369840e-03, 2.82680962e-04],\n",
       "        [8.74998560e-01, 1.15190116e-03, 3.09470761e-04],\n",
       "        [8.80004800e-01, 1.08746519e-03, 3.62223174e-04],\n",
       "        [8.85000320e-01, 1.06467395e-03, 3.79047400e-04],\n",
       "        [8.89995840e-01, 1.07038172e-03, 4.97089966e-04]]),\n",
       " '8-4': array([[0.00000000e+00, 5.73042731e-03, 3.79717210e-05],\n",
       "        [4.99980800e-02, 5.72517920e-03, 4.86427342e-05],\n",
       "        [9.99961600e-02, 5.67551902e-03, 4.91721327e-05],\n",
       "        [1.50004960e-01, 5.66461638e-03, 4.86380931e-05],\n",
       "        [2.00003040e-01, 5.51257493e-03, 5.02082769e-05],\n",
       "        [2.50001120e-01, 5.41451343e-03, 4.96153963e-05],\n",
       "        [2.99999200e-01, 5.24076408e-03, 5.16472337e-05],\n",
       "        [3.20002720e-01, 5.24455900e-03, 4.97654440e-05],\n",
       "        [3.39995520e-01, 5.14726879e-03, 5.14508659e-05],\n",
       "        [3.59999040e-01, 5.06590847e-03, 5.10175530e-05],\n",
       "        [3.80002560e-01, 5.04152996e-03, 5.04909971e-05],\n",
       "        [3.99995360e-01, 4.98508437e-03, 5.11029627e-05],\n",
       "        [4.19998880e-01, 4.85387489e-03, 5.23313383e-05],\n",
       "        [4.40002400e-01, 4.74441206e-03, 5.20804174e-05],\n",
       "        [4.59995200e-01, 4.67958326e-03, 5.27955204e-05],\n",
       "        [4.79998720e-01, 4.55636828e-03, 5.29905771e-05],\n",
       "        [5.00002240e-01, 4.40970405e-03, 5.45496606e-05],\n",
       "        [5.10004000e-01, 4.34471234e-03, 5.48607521e-05],\n",
       "        [5.19995040e-01, 4.28809907e-03, 5.54825825e-05],\n",
       "        [5.29996800e-01, 4.26336964e-03, 5.53572230e-05],\n",
       "        [5.39998560e-01, 4.18012175e-03, 5.69033619e-05],\n",
       "        [5.50000320e-01, 4.12393017e-03, 5.71792115e-05],\n",
       "        [5.54995840e-01, 4.07210746e-03, 5.66154353e-05],\n",
       "        [5.60002080e-01, 4.08948477e-03, 5.64197107e-05],\n",
       "        [5.64997600e-01, 3.98254757e-03, 5.87616052e-05],\n",
       "        [5.70003840e-01, 3.96969952e-03, 5.79585930e-05],\n",
       "        [5.74999360e-01, 3.92445419e-03, 5.78139653e-05],\n",
       "        [5.79994880e-01, 3.92151381e-03, 5.79470409e-05],\n",
       "        [5.85001120e-01, 3.88345846e-03, 5.89974979e-05],\n",
       "        [5.89996640e-01, 3.81844515e-03, 5.85621476e-05],\n",
       "        [5.95002880e-01, 3.73418940e-03, 5.46584055e-05],\n",
       "        [5.99998400e-01, 3.77103528e-03, 5.37310421e-05],\n",
       "        [6.05004640e-01, 3.65950017e-03, 5.59420718e-05],\n",
       "        [6.10000160e-01, 3.61932580e-03, 5.54408217e-05],\n",
       "        [6.14995680e-01, 3.63025331e-03, 5.59028590e-05],\n",
       "        [6.20001920e-01, 3.55426897e-03, 5.53033508e-05],\n",
       "        [6.24997440e-01, 3.51669699e-03, 5.69883609e-05],\n",
       "        [6.30003680e-01, 3.41904820e-03, 5.81670548e-05],\n",
       "        [6.34999200e-01, 3.38410936e-03, 5.76427929e-05],\n",
       "        [6.39994720e-01, 3.34668342e-03, 5.93251323e-05],\n",
       "        [6.45000960e-01, 3.30003383e-03, 5.96888092e-05],\n",
       "        [6.49996480e-01, 3.26419597e-03, 6.04212357e-05],\n",
       "        [6.55002720e-01, 3.24734575e-03, 5.94876877e-05],\n",
       "        [6.59998240e-01, 3.10582615e-03, 6.18541533e-05],\n",
       "        [6.65004480e-01, 3.08751635e-03, 6.20210840e-05],\n",
       "        [6.70000000e-01, 2.99730225e-03, 6.44512105e-05],\n",
       "        [6.74995520e-01, 2.95226651e-03, 6.51080792e-05],\n",
       "        [6.80001760e-01, 2.89512281e-03, 6.67804378e-05],\n",
       "        [6.84997280e-01, 2.82425638e-03, 6.74400986e-05],\n",
       "        [6.90003520e-01, 2.75693792e-03, 6.78238630e-05],\n",
       "        [6.94999040e-01, 2.71068197e-03, 6.99461073e-05],\n",
       "        [7.00005280e-01, 2.71440791e-03, 7.03276972e-05],\n",
       "        [7.05000800e-01, 2.66511497e-03, 7.11039102e-05],\n",
       "        [7.09996320e-01, 2.59300451e-03, 7.36273027e-05],\n",
       "        [7.15002560e-01, 2.54845479e-03, 7.39025024e-05],\n",
       "        [7.19998080e-01, 2.42951042e-03, 7.80933348e-05],\n",
       "        [7.25004320e-01, 2.37885324e-03, 7.94961495e-05],\n",
       "        [7.29999840e-01, 2.35584080e-03, 8.11735401e-05],\n",
       "        [7.34995360e-01, 2.25302254e-03, 8.44340362e-05],\n",
       "        [7.40001600e-01, 2.22145561e-03, 8.71797313e-05],\n",
       "        [7.44997120e-01, 2.15262538e-03, 8.88632827e-05],\n",
       "        [7.50003360e-01, 2.12012590e-03, 8.89060356e-05],\n",
       "        [7.54998880e-01, 2.08969114e-03, 9.27992644e-05],\n",
       "        [7.60005120e-01, 2.01522116e-03, 9.93157387e-05],\n",
       "        [7.65000640e-01, 1.87543358e-03, 1.08584090e-04],\n",
       "        [7.69996160e-01, 1.98524674e-03, 1.03991997e-04],\n",
       "        [7.75002400e-01, 1.92334493e-03, 1.08829722e-04],\n",
       "        [7.79997920e-01, 1.80204056e-03, 1.18514951e-04],\n",
       "        [7.85004160e-01, 1.76944830e-03, 1.24957795e-04],\n",
       "        [7.89999680e-01, 1.62168525e-03, 1.39231650e-04],\n",
       "        [7.94995200e-01, 1.81963021e-03, 1.24747753e-04],\n",
       "        [8.00001440e-01, 1.66421597e-03, 1.38823555e-04],\n",
       "        [8.04996960e-01, 1.58947510e-03, 1.44990369e-04],\n",
       "        [8.10003200e-01, 1.53343993e-03, 1.49920733e-04],\n",
       "        [8.14998720e-01, 1.62530502e-03, 1.53188661e-04],\n",
       "        [8.20004960e-01, 1.54249965e-03, 1.71053690e-04],\n",
       "        [8.25000480e-01, 1.57851880e-03, 1.67665827e-04],\n",
       "        [8.29996000e-01, 1.45389626e-03, 1.70382374e-04],\n",
       "        [8.35002240e-01, 1.16734456e-03, 2.20654148e-04],\n",
       "        [8.39997760e-01, 1.18300891e-03, 2.11383030e-04],\n",
       "        [8.45004000e-01, 1.29222310e-03, 2.54186078e-04],\n",
       "        [8.49999520e-01, 1.15147993e-03, 2.82569438e-04],\n",
       "        [8.54995040e-01, 1.24891865e-03, 2.97832269e-04],\n",
       "        [8.60001280e-01, 1.05482562e-03, 3.55752936e-04],\n",
       "        [8.64996800e-01, 1.36252841e-03, 3.20267627e-04],\n",
       "        [8.70003040e-01, 5.18722429e-03, 1.99991463e-03],\n",
       "        [8.74998560e-01, 9.53653561e-04, 3.48788478e-04],\n",
       "        [8.80004800e-01, 1.29526833e-03, 3.56771729e-04],\n",
       "        [8.85000320e-01, 5.62847774e-03, 1.89230205e-03],\n",
       "        [8.89995840e-01, 8.68064901e-04, 5.01247485e-04]]),\n",
       " '10-4': array([[0.00000000e+00, 5.68429361e-03, 4.91883272e-05],\n",
       "        [4.99980800e-02, 5.65479929e-03, 6.19637093e-05],\n",
       "        [9.99961600e-02, 5.66313623e-03, 6.08147051e-05],\n",
       "        [1.50004960e-01, 5.62254067e-03, 6.31878361e-05],\n",
       "        [2.00003040e-01, 5.47782945e-03, 6.41016210e-05],\n",
       "        [2.50001120e-01, 5.40424478e-03, 6.44579855e-05],\n",
       "        [2.99999200e-01, 5.30678502e-03, 6.42137952e-05],\n",
       "        [3.20002720e-01, 5.21609298e-03, 6.43378877e-05],\n",
       "        [3.39995520e-01, 5.19865640e-03, 6.56437569e-05],\n",
       "        [3.59999040e-01, 5.09570553e-03, 6.66537683e-05],\n",
       "        [3.80002560e-01, 4.97681769e-03, 6.53599570e-05],\n",
       "        [3.99995360e-01, 4.92734912e-03, 6.72195875e-05],\n",
       "        [4.19998880e-01, 4.85429574e-03, 6.62488584e-05],\n",
       "        [4.40002400e-01, 4.74250895e-03, 6.71208843e-05],\n",
       "        [4.59995200e-01, 4.70896215e-03, 6.58873397e-05],\n",
       "        [4.79998720e-01, 4.55427755e-03, 7.01070695e-05],\n",
       "        [5.00002240e-01, 4.47435029e-03, 6.89055371e-05],\n",
       "        [5.10004000e-01, 4.39222501e-03, 7.14371964e-05],\n",
       "        [5.19995040e-01, 4.32578015e-03, 7.08032604e-05],\n",
       "        [5.29996800e-01, 4.24319148e-03, 7.11609827e-05],\n",
       "        [5.39998560e-01, 4.19610610e-03, 7.17096634e-05],\n",
       "        [5.50000320e-01, 4.07519760e-03, 7.31996705e-05],\n",
       "        [5.54995840e-01, 4.05491390e-03, 7.30493434e-05],\n",
       "        [5.60002080e-01, 4.04390855e-03, 7.29702885e-05],\n",
       "        [5.64997600e-01, 4.02534988e-03, 7.38188019e-05],\n",
       "        [5.70003840e-01, 3.99077809e-03, 7.38023401e-05],\n",
       "        [5.74999360e-01, 3.91437752e-03, 7.46531994e-05],\n",
       "        [5.79994880e-01, 3.85112139e-03, 7.46936415e-05],\n",
       "        [5.85001120e-01, 3.83902278e-03, 7.47428324e-05],\n",
       "        [5.89996640e-01, 3.77652434e-03, 7.54967578e-05],\n",
       "        [5.95002880e-01, 3.76879231e-03, 6.96973471e-05],\n",
       "        [5.99998400e-01, 3.66579873e-03, 7.15834391e-05],\n",
       "        [6.05004640e-01, 3.67440535e-03, 7.05234530e-05],\n",
       "        [6.10000160e-01, 3.55239360e-03, 7.29651906e-05],\n",
       "        [6.14995680e-01, 3.56276535e-03, 7.18216545e-05],\n",
       "        [6.20001920e-01, 3.54569816e-03, 7.28451596e-05],\n",
       "        [6.24997440e-01, 3.50372951e-03, 7.26055627e-05],\n",
       "        [6.30003680e-01, 3.45111944e-03, 7.51146082e-05],\n",
       "        [6.34999200e-01, 3.40077473e-03, 7.39977720e-05],\n",
       "        [6.39994720e-01, 3.28891464e-03, 7.58932833e-05],\n",
       "        [6.45000960e-01, 3.25445058e-03, 7.73813364e-05],\n",
       "        [6.49996480e-01, 3.20802972e-03, 7.83556297e-05],\n",
       "        [6.55002720e-01, 3.16009455e-03, 7.93684298e-05],\n",
       "        [6.59998240e-01, 3.13688640e-03, 7.85086876e-05],\n",
       "        [6.65004480e-01, 3.01298241e-03, 8.00198693e-05],\n",
       "        [6.70000000e-01, 2.99658227e-03, 8.01279712e-05],\n",
       "        [6.74995520e-01, 2.83640914e-03, 8.49532333e-05],\n",
       "        [6.80001760e-01, 2.89857972e-03, 8.19464450e-05],\n",
       "        [6.84997280e-01, 2.78962143e-03, 8.43016612e-05],\n",
       "        [6.90003520e-01, 2.72397585e-03, 8.55137586e-05],\n",
       "        [6.94999040e-01, 2.64369177e-03, 8.97759835e-05],\n",
       "        [7.00005280e-01, 2.59952985e-03, 8.86987288e-05],\n",
       "        [7.05000800e-01, 2.57545917e-03, 8.98476919e-05],\n",
       "        [7.09996320e-01, 2.52327266e-03, 9.16342954e-05],\n",
       "        [7.15002560e-01, 2.39067182e-03, 9.57448836e-05],\n",
       "        [7.19998080e-01, 2.39633766e-03, 9.66437082e-05],\n",
       "        [7.25004320e-01, 2.30783963e-03, 9.76786353e-05],\n",
       "        [7.29999840e-01, 2.21451284e-03, 1.00479474e-04],\n",
       "        [7.34995360e-01, 2.14098725e-03, 1.03612246e-04],\n",
       "        [7.40001600e-01, 2.11768288e-03, 1.06805909e-04],\n",
       "        [7.44997120e-01, 2.08052804e-03, 1.25655351e-04],\n",
       "        [7.50003360e-01, 1.94077395e-03, 1.34673205e-04],\n",
       "        [7.54998880e-01, 6.00713042e-03, 3.94093544e-04],\n",
       "        [7.60005120e-01, 1.88580669e-03, 1.37025953e-04],\n",
       "        [7.65000640e-01, 1.91098853e-03, 1.35071323e-04],\n",
       "        [7.69996160e-01, 1.82304862e-03, 1.43939136e-04],\n",
       "        [7.75002400e-01, 5.49864567e-03, 4.66002304e-04],\n",
       "        [7.79997920e-01, 6.20291942e-03, 4.41134062e-04],\n",
       "        [7.85004160e-01, 1.67749097e-03, 1.61761484e-04],\n",
       "        [7.89999680e-01, 5.93136606e-03, 4.98998210e-04],\n",
       "        [7.94995200e-01, 8.94381853e-03, 5.06819624e-04],\n",
       "        [8.00001440e-01, 8.70210462e-03, 4.54097992e-04],\n",
       "        [8.04996960e-01, 6.93270386e-03, 4.92721334e-04],\n",
       "        [8.10003200e-01, 8.69681735e-03, 4.73469719e-04],\n",
       "        [8.14998720e-01, 9.85928299e-03, 4.93061357e-04],\n",
       "        [8.20004960e-01, 9.40705848e-03, 4.80833034e-04],\n",
       "        [8.25000480e-01, 5.35357793e-03, 4.31211709e-04],\n",
       "        [8.29996000e-01, 5.18163923e-03, 5.92935632e-04],\n",
       "        [8.35002240e-01, 7.81138297e-03, 4.40541427e-04],\n",
       "        [8.39997760e-01, 9.95487716e-03, 4.64757989e-04],\n",
       "        [8.45004000e-01, 5.95110538e-03, 6.04541492e-04],\n",
       "        [8.49999520e-01, 6.19600071e-03, 5.61124981e-04],\n",
       "        [8.54995040e-01, 9.35830004e-03, 4.17240233e-04],\n",
       "        [8.60001280e-01, 9.05730901e-03, 4.82407335e-04],\n",
       "        [8.64996800e-01, 6.18728405e-03, 7.66806602e-04],\n",
       "        [8.70003040e-01, 6.33195695e-03, 6.38945702e-04],\n",
       "        [8.74998560e-01, 6.07975352e-03, 6.28139279e-04],\n",
       "        [8.80004800e-01, 9.34996812e-03, 5.49787305e-04],\n",
       "        [8.85000320e-01, 8.80311750e-03, 4.77947386e-04],\n",
       "        [8.89995840e-01, 6.05911871e-03, 5.32735766e-04]]),\n",
       " '6-3': array([[0.00000000e+00, 5.79413517e-03, 3.68020554e-05],\n",
       "        [4.99980800e-02, 5.75759902e-03, 4.70488670e-05],\n",
       "        [9.99961600e-02, 5.70640667e-03, 4.72769724e-05],\n",
       "        [1.50004960e-01, 5.68969542e-03, 4.75568328e-05],\n",
       "        [2.00003040e-01, 5.59307970e-03, 4.75519996e-05],\n",
       "        [2.50001120e-01, 5.48618872e-03, 4.75557486e-05],\n",
       "        [2.99999200e-01, 5.33596443e-03, 4.74885592e-05],\n",
       "        [3.20002720e-01, 5.30253642e-03, 4.72154331e-05],\n",
       "        [3.39995520e-01, 5.24058870e-03, 4.71661760e-05],\n",
       "        [3.59999040e-01, 5.15519494e-03, 4.69600615e-05],\n",
       "        [3.80002560e-01, 5.08728809e-03, 4.69312325e-05],\n",
       "        [3.99995360e-01, 4.97149838e-03, 4.71805450e-05],\n",
       "        [4.19998880e-01, 4.87013044e-03, 4.71716590e-05],\n",
       "        [4.40002400e-01, 4.81434113e-03, 4.73067310e-05],\n",
       "        [4.59995200e-01, 4.69304431e-03, 4.74304013e-05],\n",
       "        [4.79998720e-01, 4.60184762e-03, 4.76612130e-05],\n",
       "        [5.00002240e-01, 4.49231411e-03, 4.77860924e-05],\n",
       "        [5.10004000e-01, 4.44524262e-03, 4.79270946e-05],\n",
       "        [5.19995040e-01, 4.38607108e-03, 4.81698882e-05],\n",
       "        [5.29996800e-01, 4.30447362e-03, 4.80404903e-05],\n",
       "        [5.39998560e-01, 4.25900928e-03, 4.82459018e-05],\n",
       "        [5.50000320e-01, 4.16717232e-03, 4.83675069e-05],\n",
       "        [5.54995840e-01, 4.12374542e-03, 4.86845891e-05],\n",
       "        [5.60002080e-01, 4.09997623e-03, 4.84827489e-05],\n",
       "        [5.64997600e-01, 4.05609238e-03, 4.85990908e-05],\n",
       "        [5.70003840e-01, 3.99878434e-03, 4.85713999e-05],\n",
       "        [5.74999360e-01, 3.98555805e-03, 4.91493400e-05],\n",
       "        [5.79994880e-01, 3.95109543e-03, 4.87163315e-05],\n",
       "        [5.85001120e-01, 3.91173029e-03, 4.90148425e-05],\n",
       "        [5.89996640e-01, 3.88171473e-03, 4.89652529e-05],\n",
       "        [5.95002880e-01, 3.82928850e-03, 5.70328386e-05],\n",
       "        [5.99998400e-01, 3.78895778e-03, 5.69241072e-05],\n",
       "        [6.05004640e-01, 3.74058802e-03, 5.69618104e-05],\n",
       "        [6.10000160e-01, 3.72186160e-03, 5.68518984e-05],\n",
       "        [6.14995680e-01, 3.68222024e-03, 5.72046289e-05],\n",
       "        [6.20001920e-01, 3.62373048e-03, 5.75172535e-05],\n",
       "        [6.24997440e-01, 3.55820293e-03, 5.75878168e-05],\n",
       "        [6.30003680e-01, 3.52564159e-03, 5.75331602e-05],\n",
       "        [6.34999200e-01, 3.49017075e-03, 5.78209383e-05],\n",
       "        [6.39994720e-01, 3.43549634e-03, 5.79854679e-05],\n",
       "        [6.45000960e-01, 3.37542352e-03, 5.79023504e-05],\n",
       "        [6.49996480e-01, 3.32749230e-03, 5.77308309e-05],\n",
       "        [6.55002720e-01, 3.27861617e-03, 5.79007215e-05],\n",
       "        [6.59998240e-01, 3.23294762e-03, 5.77184076e-05],\n",
       "        [6.65004480e-01, 3.17233877e-03, 5.77811667e-05],\n",
       "        [6.70000000e-01, 3.10724368e-03, 5.81341834e-05],\n",
       "        [6.74995520e-01, 3.06514167e-03, 5.81731552e-05],\n",
       "        [6.80001760e-01, 3.01655958e-03, 5.83087504e-05],\n",
       "        [6.84997280e-01, 2.97104829e-03, 5.83916874e-05],\n",
       "        [6.90003520e-01, 2.89108133e-03, 5.87450283e-05],\n",
       "        [6.94999040e-01, 2.82586321e-03, 5.90217395e-05],\n",
       "        [7.00005280e-01, 2.81414217e-03, 5.89628890e-05],\n",
       "        [7.05000800e-01, 2.74954353e-03, 5.92747022e-05],\n",
       "        [7.09996320e-01, 2.70284195e-03, 5.95048154e-05],\n",
       "        [7.15002560e-01, 2.65701884e-03, 6.00917441e-05],\n",
       "        [7.19998080e-01, 2.60616864e-03, 6.04850706e-05],\n",
       "        [7.25004320e-01, 2.52232956e-03, 6.08748472e-05],\n",
       "        [7.29999840e-01, 2.49312550e-03, 6.13364352e-05],\n",
       "        [7.34995360e-01, 2.46058540e-03, 6.15307561e-05],\n",
       "        [7.40001600e-01, 2.38318006e-03, 6.16837727e-05],\n",
       "        [7.44997120e-01, 2.34913408e-03, 4.66688585e-05],\n",
       "        [7.50003360e-01, 2.30004489e-03, 4.72855621e-05],\n",
       "        [7.54998880e-01, 2.23831669e-03, 4.74660898e-05],\n",
       "        [7.60005120e-01, 2.20276984e-03, 4.81344651e-05],\n",
       "        [7.65000640e-01, 2.16642991e-03, 4.86324816e-05],\n",
       "        [7.69996160e-01, 2.09906770e-03, 4.91056237e-05],\n",
       "        [7.75002400e-01, 2.03859994e-03, 5.03164427e-05],\n",
       "        [7.79997920e-01, 2.03106438e-03, 5.02142763e-05],\n",
       "        [7.85004160e-01, 1.96657289e-03, 5.14147625e-05],\n",
       "        [7.89999680e-01, 1.92505283e-03, 5.18199490e-05],\n",
       "        [7.94995200e-01, 1.85723002e-03, 5.27230539e-05],\n",
       "        [8.00001440e-01, 1.81921256e-03, 5.34036122e-05],\n",
       "        [8.04996960e-01, 1.75881423e-03, 5.43473212e-05],\n",
       "        [8.10003200e-01, 1.68871228e-03, 5.52994829e-05],\n",
       "        [8.14998720e-01, 1.68702362e-03, 5.60040156e-05],\n",
       "        [8.20004960e-01, 1.63449984e-03, 5.68200814e-05],\n",
       "        [8.25000480e-01, 1.63307677e-03, 5.72399699e-05],\n",
       "        [8.29996000e-01, 1.54193176e-03, 5.87261347e-05],\n",
       "        [8.35002240e-01, 1.51499714e-03, 5.94916300e-05],\n",
       "        [8.39997760e-01, 1.42254827e-03, 6.17068154e-05],\n",
       "        [8.45004000e-01, 1.37369420e-03, 6.35044022e-05],\n",
       "        [8.49999520e-01, 1.36608669e-03, 6.40759909e-05],\n",
       "        [8.54995040e-01, 1.32944095e-03, 6.53846751e-05],\n",
       "        [8.60001280e-01, 1.22681791e-03, 6.85989784e-05],\n",
       "        [8.64996800e-01, 1.20903479e-03, 6.94813069e-05],\n",
       "        [8.70003040e-01, 1.22009814e-03, 6.88816022e-05],\n",
       "        [8.74998560e-01, 1.16304419e-03, 7.15979350e-05],\n",
       "        [8.80004800e-01, 1.07621451e-03, 7.68302610e-05],\n",
       "        [8.85000320e-01, 1.04038911e-03, 7.76272916e-05],\n",
       "        [8.89995840e-01, 8.83689081e-04, 8.84745558e-05]]),\n",
       " '8-3': array([[0.00000000e+00, 5.72977905e-03, 3.79700028e-05],\n",
       "        [4.99980800e-02, 5.72526576e-03, 4.87651234e-05],\n",
       "        [9.99961600e-02, 5.67504680e-03, 4.91487013e-05],\n",
       "        [1.50004960e-01, 5.66531766e-03, 4.87888509e-05],\n",
       "        [2.00003040e-01, 5.51323157e-03, 5.02359538e-05],\n",
       "        [2.50001120e-01, 5.41541590e-03, 4.95186555e-05],\n",
       "        [2.99999200e-01, 5.24209719e-03, 5.14804338e-05],\n",
       "        [3.20002720e-01, 5.24528404e-03, 4.95282945e-05],\n",
       "        [3.39995520e-01, 5.14852778e-03, 5.11171555e-05],\n",
       "        [3.59999040e-01, 5.06276567e-03, 5.01047324e-05],\n",
       "        [3.80002560e-01, 5.04211473e-03, 4.98598036e-05],\n",
       "        [3.99995360e-01, 4.98233724e-03, 5.00467731e-05],\n",
       "        [4.19998880e-01, 4.85303233e-03, 5.12970718e-05],\n",
       "        [4.40002400e-01, 4.74553962e-03, 5.09301726e-05],\n",
       "        [4.59995200e-01, 4.68042794e-03, 5.15270295e-05],\n",
       "        [4.79998720e-01, 4.55128238e-03, 5.10091012e-05],\n",
       "        [5.00002240e-01, 4.40895200e-03, 5.23413323e-05],\n",
       "        [5.10004000e-01, 4.34100031e-03, 5.23473932e-05],\n",
       "        [5.19995040e-01, 4.28461379e-03, 5.27508405e-05],\n",
       "        [5.29996800e-01, 4.25463617e-03, 5.22985594e-05],\n",
       "        [5.39998560e-01, 4.17492899e-03, 5.36149627e-05],\n",
       "        [5.50000320e-01, 4.10957830e-03, 5.34685656e-05],\n",
       "        [5.54995840e-01, 4.06158688e-03, 5.28430618e-05],\n",
       "        [5.60002080e-01, 4.07710171e-03, 5.23730318e-05],\n",
       "        [5.64997600e-01, 3.97042499e-03, 5.43734804e-05],\n",
       "        [5.70003840e-01, 3.95954966e-03, 5.35967931e-05],\n",
       "        [5.74999360e-01, 3.90829341e-03, 5.30660943e-05],\n",
       "        [5.79994880e-01, 3.90456072e-03, 5.32311228e-05],\n",
       "        [5.85001120e-01, 3.86418892e-03, 5.39037393e-05],\n",
       "        [5.89996640e-01, 3.80892745e-03, 5.33711405e-05],\n",
       "        [5.95002880e-01, 3.72066737e-03, 5.48928891e-05],\n",
       "        [5.99998400e-01, 3.75775939e-03, 5.43929230e-05],\n",
       "        [6.05004640e-01, 3.63919959e-03, 5.56439335e-05],\n",
       "        [6.10000160e-01, 3.60292601e-03, 5.51874399e-05],\n",
       "        [6.14995680e-01, 3.60916029e-03, 5.53802285e-05],\n",
       "        [6.20001920e-01, 3.53053127e-03, 5.44729529e-05],\n",
       "        [6.24997440e-01, 3.50013025e-03, 5.56299705e-05],\n",
       "        [6.30003680e-01, 3.38288980e-03, 5.62532108e-05],\n",
       "        [6.34999200e-01, 3.36801512e-03, 5.53929702e-05],\n",
       "        [6.39994720e-01, 3.32043626e-03, 5.63679540e-05],\n",
       "        [6.45000960e-01, 3.25692344e-03, 5.63732920e-05],\n",
       "        [6.49996480e-01, 3.21492970e-03, 5.66827191e-05],\n",
       "        [6.55002720e-01, 3.20572562e-03, 5.55422881e-05],\n",
       "        [6.59998240e-01, 3.05371089e-03, 5.61048168e-05],\n",
       "        [6.65004480e-01, 3.03026536e-03, 5.61473360e-05],\n",
       "        [6.70000000e-01, 2.93920968e-03, 5.67436037e-05],\n",
       "        [6.74995520e-01, 2.90796613e-03, 5.71064855e-05],\n",
       "        [6.80001760e-01, 2.83011760e-03, 5.74545107e-05],\n",
       "        [6.84997280e-01, 2.77777163e-03, 5.68162340e-05],\n",
       "        [6.90003520e-01, 2.70665855e-03, 5.63708299e-05],\n",
       "        [6.94999040e-01, 2.65691814e-03, 5.73183188e-05],\n",
       "        [7.00005280e-01, 2.62723337e-03, 5.75125131e-05],\n",
       "        [7.05000800e-01, 2.54755006e-03, 5.74074932e-05],\n",
       "        [7.09996320e-01, 2.50964670e-03, 5.81297141e-05],\n",
       "        [7.15002560e-01, 2.38334022e-03, 5.72251372e-05],\n",
       "        [7.19998080e-01, 2.32251731e-03, 5.78319742e-05],\n",
       "        [7.25004320e-01, 2.29274977e-03, 5.77668536e-05],\n",
       "        [7.29999840e-01, 2.24088184e-03, 5.82420505e-05],\n",
       "        [7.34995360e-01, 2.12856321e-03, 5.80793911e-05],\n",
       "        [7.40001600e-01, 2.08403828e-03, 5.86776087e-05],\n",
       "        [7.44997120e-01, 2.03261314e-03, 5.29261037e-05],\n",
       "        [7.50003360e-01, 2.00491092e-03, 5.33264984e-05],\n",
       "        [7.54998880e-01, 1.92261233e-03, 5.37805832e-05],\n",
       "        [7.60005120e-01, 1.84122333e-03, 5.45322138e-05],\n",
       "        [7.65000640e-01, 1.74354920e-03, 5.56380438e-05],\n",
       "        [7.69996160e-01, 1.76473855e-03, 5.53293698e-05],\n",
       "        [7.75002400e-01, 1.70312502e-03, 5.59002946e-05],\n",
       "        [7.79997920e-01, 1.63452527e-03, 5.70216033e-05],\n",
       "        [7.85004160e-01, 1.58085530e-03, 5.83435359e-05],\n",
       "        [7.89999680e-01, 1.51561574e-03, 5.92616934e-05],\n",
       "        [7.94995200e-01, 1.54913554e-03, 5.90089380e-05],\n",
       "        [8.00001440e-01, 1.47190403e-03, 5.90352466e-05],\n",
       "        [8.04996960e-01, 1.39638405e-03, 5.95993155e-05],\n",
       "        [8.10003200e-01, 1.41427235e-03, 6.03581221e-05],\n",
       "        [8.14998720e-01, 1.36332318e-03, 6.08103493e-05],\n",
       "        [8.20004960e-01, 1.27179370e-03, 6.32770602e-05],\n",
       "        [8.25000480e-01, 1.25631528e-03, 6.34482081e-05],\n",
       "        [8.29996000e-01, 1.29166484e-03, 6.22698086e-05],\n",
       "        [8.35002240e-01, 1.09787507e-03, 6.70513636e-05],\n",
       "        [8.39997760e-01, 1.14914982e-03, 6.62586212e-05],\n",
       "        [8.45004000e-01, 9.92999297e-04, 7.22466100e-05],\n",
       "        [8.49999520e-01, 9.58815738e-04, 7.45217605e-05],\n",
       "        [8.54995040e-01, 8.92108497e-04, 7.77876408e-05],\n",
       "        [8.60001280e-01, 8.50164577e-04, 8.00037089e-05],\n",
       "        [8.64996800e-01, 8.48864131e-04, 8.05302075e-05],\n",
       "        [8.70003040e-01, 7.42878961e-04, 9.05668725e-05],\n",
       "        [8.74998560e-01, 8.51638595e-04, 8.04744733e-05],\n",
       "        [8.80004800e-01, 8.03357208e-04, 8.42277395e-05],\n",
       "        [8.85000320e-01, 8.24313829e-04, 8.23948628e-05],\n",
       "        [8.89995840e-01, 7.22256574e-04, 8.78802397e-05]]),\n",
       " '10-3': array([[0.00000000e+00, 5.68432420e-03, 4.88241241e-05],\n",
       "        [4.99980800e-02, 5.65480194e-03, 6.14290516e-05],\n",
       "        [9.99961600e-02, 5.66310057e-03, 6.02747317e-05],\n",
       "        [1.50004960e-01, 5.62259523e-03, 6.26143077e-05],\n",
       "        [2.00003040e-01, 5.47789357e-03, 6.34622701e-05],\n",
       "        [2.50001120e-01, 5.40343316e-03, 6.35239194e-05],\n",
       "        [2.99999200e-01, 5.30738595e-03, 6.34999588e-05],\n",
       "        [3.20002720e-01, 5.21631877e-03, 6.35044255e-05],\n",
       "        [3.39995520e-01, 5.19861545e-03, 6.44692038e-05],\n",
       "        [3.59999040e-01, 5.09548847e-03, 6.53861682e-05],\n",
       "        [3.80002560e-01, 4.97713576e-03, 6.40935787e-05],\n",
       "        [3.99995360e-01, 4.92643172e-03, 6.54417720e-05],\n",
       "        [4.19998880e-01, 4.85324263e-03, 6.44290723e-05],\n",
       "        [4.40002400e-01, 4.74306202e-03, 6.52681149e-05],\n",
       "        [4.59995200e-01, 4.70838672e-03, 6.36937274e-05],\n",
       "        [4.79998720e-01, 4.55209217e-03, 6.73297305e-05],\n",
       "        [5.00002240e-01, 4.46902043e-03, 6.57941819e-05],\n",
       "        [5.10004000e-01, 4.38869859e-03, 6.80128536e-05],\n",
       "        [5.19995040e-01, 4.32047037e-03, 6.70932203e-05],\n",
       "        [5.29996800e-01, 4.23931188e-03, 6.73930805e-05],\n",
       "        [5.39998560e-01, 4.19141833e-03, 6.77786973e-05],\n",
       "        [5.50000320e-01, 4.06871033e-03, 6.85563601e-05],\n",
       "        [5.54995840e-01, 4.04659502e-03, 6.82940846e-05],\n",
       "        [5.60002080e-01, 4.03562672e-03, 6.80292675e-05],\n",
       "        [5.64997600e-01, 4.01803811e-03, 6.87856261e-05],\n",
       "        [5.70003840e-01, 3.98446990e-03, 6.86252790e-05],\n",
       "        [5.74999360e-01, 3.90975628e-03, 6.92449310e-05],\n",
       "        [5.79994880e-01, 3.84119994e-03, 6.89179098e-05],\n",
       "        [5.85001120e-01, 3.83467486e-03, 6.88806693e-05],\n",
       "        [5.89996640e-01, 3.76186062e-03, 6.90158412e-05],\n",
       "        [5.95002880e-01, 3.75374291e-03, 6.61560262e-05],\n",
       "        [5.99998400e-01, 3.66208385e-03, 6.75066923e-05],\n",
       "        [6.05004640e-01, 3.65658334e-03, 6.61418573e-05],\n",
       "        [6.10000160e-01, 3.54331281e-03, 6.77966249e-05],\n",
       "        [6.14995680e-01, 3.54583857e-03, 6.68525278e-05],\n",
       "        [6.20001920e-01, 3.54362579e-03, 6.75862473e-05],\n",
       "        [6.24997440e-01, 3.49221176e-03, 6.72087855e-05],\n",
       "        [6.30003680e-01, 3.42431025e-03, 6.89340534e-05],\n",
       "        [6.34999200e-01, 3.38977126e-03, 6.72999318e-05],\n",
       "        [6.39994720e-01, 3.26595702e-03, 6.85525516e-05],\n",
       "        [6.45000960e-01, 3.23763768e-03, 6.93732500e-05],\n",
       "        [6.49996480e-01, 3.17746775e-03, 6.96431814e-05],\n",
       "        [6.55002720e-01, 3.12766669e-03, 7.03271791e-05],\n",
       "        [6.59998240e-01, 3.10505593e-03, 6.93327406e-05],\n",
       "        [6.65004480e-01, 2.99678666e-03, 6.95877827e-05],\n",
       "        [6.70000000e-01, 2.98125423e-03, 6.89877747e-05],\n",
       "        [6.74995520e-01, 2.80765412e-03, 7.10143268e-05],\n",
       "        [6.80001760e-01, 2.85124750e-03, 6.96769433e-05],\n",
       "        [6.84997280e-01, 2.77095466e-03, 7.00554975e-05],\n",
       "        [6.90003520e-01, 2.68743718e-03, 6.98871154e-05],\n",
       "        [6.94999040e-01, 2.59146011e-03, 7.17656829e-05],\n",
       "        [7.00005280e-01, 2.54867091e-03, 7.05678172e-05],\n",
       "        [7.05000800e-01, 2.46202796e-03, 7.08958256e-05],\n",
       "        [7.09996320e-01, 2.46154771e-03, 7.12317694e-05],\n",
       "        [7.15002560e-01, 2.31080421e-03, 7.22201383e-05],\n",
       "        [7.19998080e-01, 2.30045698e-03, 7.23265147e-05],\n",
       "        [7.25004320e-01, 2.21251038e-03, 7.13467627e-05],\n",
       "        [7.29999840e-01, 2.11555821e-03, 7.20512045e-05],\n",
       "        [7.34995360e-01, 2.09392409e-03, 7.15945514e-05],\n",
       "        [7.40001600e-01, 2.02134774e-03, 7.21849255e-05],\n",
       "        [7.44997120e-01, 1.91953333e-03, 7.34811456e-05],\n",
       "        [7.50003360e-01, 1.88564087e-03, 7.40050972e-05],\n",
       "        [7.54998880e-01, 1.68702616e-03, 7.47808909e-05],\n",
       "        [7.60005120e-01, 1.76307071e-03, 7.43016711e-05],\n",
       "        [7.65000640e-01, 1.76517137e-03, 7.47786211e-05],\n",
       "        [7.69996160e-01, 1.68545942e-03, 7.41040929e-05],\n",
       "        [7.75002400e-01, 1.58576520e-03, 7.61730551e-05],\n",
       "        [7.79997920e-01, 1.46586477e-03, 7.72773271e-05],\n",
       "        [7.85004160e-01, 1.51825998e-03, 7.68890181e-05],\n",
       "        [7.89999680e-01, 1.42932430e-03, 7.96581734e-05],\n",
       "        [7.94995200e-01, 1.38478849e-03, 8.14044327e-05],\n",
       "        [8.00001440e-01, 1.24703898e-03, 8.49005072e-05],\n",
       "        [8.04996960e-01, 1.21313943e-03, 8.50704268e-05],\n",
       "        [8.10003200e-01, 1.16050404e-03, 8.46359961e-05],\n",
       "        [8.14998720e-01, 1.23281308e-03, 8.14548559e-05],\n",
       "        [8.20004960e-01, 1.08293943e-03, 8.78207056e-05],\n",
       "        [8.25000480e-01, 1.08805428e-03, 8.73424373e-05],\n",
       "        [8.29996000e-01, 1.06466764e-03, 8.95233529e-05],\n",
       "        [8.35002240e-01, 1.00202833e-03, 9.15525113e-05],\n",
       "        [8.39997760e-01, 9.09703145e-04, 9.74140401e-05],\n",
       "        [8.45004000e-01, 9.34394095e-04, 9.49942650e-05],\n",
       "        [8.49999520e-01, 8.75196224e-04, 9.56683550e-05],\n",
       "        [8.54995040e-01, 8.90564027e-04, 9.65092722e-05],\n",
       "        [8.60001280e-01, 8.42254840e-04, 9.69580953e-05],\n",
       "        [8.64996800e-01, 7.55999281e-04, 1.06811766e-04],\n",
       "        [8.70003040e-01, 8.32537522e-04, 9.88621784e-05],\n",
       "        [8.74998560e-01, 7.53343361e-04, 1.06205618e-04],\n",
       "        [8.80004800e-01, 6.72960769e-04, 1.11401160e-04],\n",
       "        [8.85000320e-01, 6.28344705e-04, 1.18832949e-04],\n",
       "        [8.89995840e-01, 6.20981012e-04, 1.27243356e-04]])}"
      ]
     },
     "execution_count": 98,
     "metadata": {},
     "output_type": "execute_result"
    }
   ],
   "source": [
    "if 'rel_splitting' not in globals():\n",
    "    rel_splitting = {}\n",
    "\n",
    "nfree = 3\n",
    "\n",
    "for h in [6,8,10]:\n",
    "    key = f\"{h}-{nfree}\"\n",
    "    rel_splitting[key] = physQuantFromFit(xwFit, h, 'xp', nFunc=2, nFree=nfree, rangeNum=3)\n",
    "\n",
    "rel_splitting"
   ]
  },
  {
   "cell_type": "code",
   "execution_count": 110,
   "metadata": {
    "hidden": true
   },
   "outputs": [],
   "source": [
    "plot_rel_split(rel_splitting, nfree, set_tup)"
   ]
  },
  {
   "cell_type": "markdown",
   "metadata": {},
   "source": [
    "### Fit splitting vs magnetic field"
   ]
  },
  {
   "cell_type": "code",
   "execution_count": 87,
   "metadata": {},
   "outputs": [],
   "source": [
    "def OP(h, a, hc):\n",
    "    return a*np.sqrt(1-(h/hc)**2)"
   ]
  },
  {
   "cell_type": "code",
   "execution_count": 88,
   "metadata": {},
   "outputs": [
    {
     "name": "stdout",
     "output_type": "stream",
     "text": [
      "parameter names: ['a', 'hc']\n",
      "independent variables: ['h']\n"
     ]
    }
   ],
   "source": [
    "opmodel = Model(OP)\n",
    "print('parameter names: {}'.format(opmodel.param_names))\n",
    "print('independent variables: {}'.format(opmodel.independent_vars))"
   ]
  },
  {
   "cell_type": "code",
   "execution_count": 89,
   "metadata": {
    "scrolled": true
   },
   "outputs": [
    {
     "data": {
      "text/html": [
       "<table><tr><th> name </th><th> value </th><th> initial value </th><th> min </th><th> max </th><th> vary </th></tr><tr><td> a </td><td>  0.00600000 </td><td> None </td><td>  0.00000000 </td><td>         inf </td><td> True </td></tr><tr><td> hc </td><td>  0.80000000 </td><td> None </td><td>  0.00000000 </td><td>         inf </td><td> True </td></tr></table>"
      ],
      "text/plain": [
       "Parameters([('a', <Parameter 'a', value=0.006, bounds=[0:inf]>),\n",
       "            ('hc', <Parameter 'hc', value=0.8, bounds=[0:inf]>)])"
      ]
     },
     "execution_count": 89,
     "metadata": {},
     "output_type": "execute_result"
    }
   ],
   "source": [
    "opparams = opmodel.make_params(a=6e-3, hc=0.8)\n",
    "for key in opparams.keys():\n",
    "    opparams[key].min = 0\n",
    "\n",
    "opparams"
   ]
  },
  {
   "cell_type": "code",
   "execution_count": 105,
   "metadata": {
    "scrolled": true
   },
   "outputs": [
    {
     "data": {
      "text/html": [
       "<table><tr><th> name </th><th> value </th><th> standard error </th><th> relative error </th><th> initial value </th><th> min </th><th> max </th><th> vary </th></tr><tr><td> a </td><td>  0.00572925 </td><td>  9.3150e-06 </td><td> (0.16%) </td><td> 0.006 </td><td>  0.00000000 </td><td>         inf </td><td> True </td></tr><tr><td> hc </td><td>  0.78348853 </td><td>  0.00109482 </td><td> (0.14%) </td><td> 0.8 </td><td>  0.00000000 </td><td>         inf </td><td> True </td></tr></table>"
      ],
      "text/plain": [
       "Parameters([('a',\n",
       "             <Parameter 'a', value=0.005729250223370563 +/- 9.32e-06, bounds=[0:inf]>),\n",
       "            ('hc',\n",
       "             <Parameter 'hc', value=0.7834885330638588 +/- 0.00109, bounds=[0:inf]>)])"
      ]
     },
     "execution_count": 105,
     "metadata": {},
     "output_type": "execute_result"
    }
   ],
   "source": [
    "if 'rsplit_fitresult' not in globals():\n",
    "    rsplit_fitresult = {}\n",
    "\n",
    "maxfitfield = .7\n",
    "for h in set_tup:\n",
    "    key = f\"{h}-{nfree}\"\n",
    "    rel_split_fit_range = rel_splitting[key][rel_splitting[key][:,0]<maxfitfield]\n",
    "    rsplit_fitresult[key] = opmodel.fit(rel_split_fit_range[:,1], opparams, weights=1/rel_split_fit_range[:,2],\n",
    "                                        h=rel_split_fit_range[:,0])\n",
    "\n",
    "rsplit_fitresult[key].params"
   ]
  },
  {
   "cell_type": "code",
   "execution_count": 106,
   "metadata": {
    "scrolled": true
   },
   "outputs": [
    {
     "data": {
      "text/plain": [
       "array([0.00572925, 0.00571757, 0.0056824 , 0.00562326, 0.00553944,\n",
       "       0.00542976, 0.00529262, 0.00522959, 0.00516169, 0.00508865,\n",
       "       0.00501027, 0.00492635, 0.00483651, 0.00474046, 0.00463786,\n",
       "       0.00452817, 0.0044109 , 0.00434924, 0.00428551, 0.00421949,\n",
       "       0.00415112, 0.0040803 , 0.00404397, 0.0040069 , 0.00396922,\n",
       "       0.00393076, 0.00389166, 0.00385182, 0.00381112, 0.00376972,\n",
       "       0.0037274 , 0.00368433, 0.00364029, 0.00359544, 0.00354964,\n",
       "       0.00350276, 0.00345497, 0.003406  , 0.00335603, 0.0033049 ,\n",
       "       0.00325244, 0.00319882, 0.00314374, 0.00308736, 0.00302938,\n",
       "       0.00296993, 0.00290882, 0.00284579, 0.00278099, 0.002714  ,\n",
       "       0.00264496])"
      ]
     },
     "execution_count": 106,
     "metadata": {},
     "output_type": "execute_result"
    }
   ],
   "source": [
    "rsplit_fitresult[key].best_fit"
   ]
  },
  {
   "cell_type": "code",
   "execution_count": 109,
   "metadata": {},
   "outputs": [],
   "source": [
    "def plot_rel_split(relative_splitting, nfree, iterable, fit_result=None):\n",
    "    fig, ax = plt.subplots()\n",
    "    Hlin = np.concatenate([np.linspace(0,.7),.8-np.logspace(-1,-4)])\n",
    "    for h in iterable:\n",
    "        key = f\"{h}-{nfree}\"\n",
    "        p = plt.errorbar(relative_splitting[key][:,0], relative_splitting[key][:,1], relative_splitting[key][:,2],\n",
    "                     marker='o', elinewidth=1, linewidth=0, label=f\"({h} {h} 0)\")\n",
    "        if fit_result is not None:\n",
    "            a = fit_result[key].result.params['a']\n",
    "            hc = fit_result[key].result.params['hc']\n",
    "            pcolor = p[-1][0].get_color()[0,:3]\n",
    "            plt.plot(Hlin, OP(Hlin, a, hc), color=pcolor)\n",
    "            \n",
    "    plt.show()\n",
    "    plt.ylabel(\"Relative splitting\")\n",
    "    plt.xlabel(\"$H$ (T)\")\n",
    "    if nfree==3:\n",
    "        plt.title(\"TmVO$_4$ distortion vs magnetic field, constrained amplitude ratio\")\n",
    "    elif nfree==4:\n",
    "        plt.title(\"TmVO$_4$ distortion vs magnetic field, unconstrained amplitude ratio\")\n",
    "    plt.ylim([0, 6e-3])\n",
    "    plt.legend()"
   ]
  },
  {
   "cell_type": "code",
   "execution_count": 97,
   "metadata": {},
   "outputs": [
    {
     "data": {
      "text/plain": [
       "<matplotlib.legend.Legend at 0x1d9244bf088>"
      ]
     },
     "execution_count": 97,
     "metadata": {},
     "output_type": "execute_result"
    }
   ],
   "source": [
    "fig, ax = plt.subplots()\n",
    "Hlin = np.concatenate([np.linspace(0,.7),.8-np.logspace(-1,-4)])\n",
    "for h in setlist:\n",
    "    key = f\"{h}-{nfree}\"\n",
    "    a = rsplit_fitresult[key].result.params['a']\n",
    "    hc = rsplit_fitresult[key].result.params['hc']\n",
    "#     rel_split_fit_range = rel_splitting[key][rel_splitting[key][:,0]<maxfitfield]\n",
    "    p = plt.errorbar(rel_splitting[key][:,0], rel_splitting[key][:,1], rel_splitting[key][:,2],\n",
    "                     marker='o', elinewidth=1, linewidth=0, label=f\"({h} {h} 0)\")\n",
    "    pcolor = p[-1][0].get_color()[0,:3]\n",
    "    plt.plot(Hlin, OP(Hlin, a, hc), color=pcolor)\n",
    "plt.show()\n",
    "plt.ylabel(\"Relative splitting\")\n",
    "plt.xlabel(\"$H$ (T)\")\n",
    "plt.ylim([0, 6e-3])\n",
    "plt.legend()"
   ]
  },
  {
   "cell_type": "code",
   "execution_count": 135,
   "metadata": {},
   "outputs": [],
   "source": [
    "rcParams[\"figure.figsize\"] = np.multiply([6.4, 4.8],1.5)# default is [6.4, 4.8]\n",
    "plot_rel_split(rel_splitting, 4, set_tup, fit_result=rsplit_fitresult)\n",
    "# plot_rel_split(nfree, set_tup, rel_splitting, fit_result=rsplit_fitresult)"
   ]
  }
 ],
 "metadata": {
  "kernelspec": {
   "display_name": "Python 3 (Spyder)",
   "language": "python3",
   "name": "python3"
  },
  "language_info": {
   "codemirror_mode": {
    "name": "ipython",
    "version": 3
   },
   "file_extension": ".py",
   "mimetype": "text/x-python",
   "name": "python",
   "nbconvert_exporter": "python",
   "pygments_lexer": "ipython3",
   "version": "3.7.7"
  },
  "varInspector": {
   "cols": {
    "lenName": 16,
    "lenType": 16,
    "lenVar": 40
   },
   "kernels_config": {
    "python": {
     "delete_cmd_postfix": "",
     "delete_cmd_prefix": "del ",
     "library": "var_list.py",
     "varRefreshCmd": "print(var_dic_list())"
    },
    "r": {
     "delete_cmd_postfix": ") ",
     "delete_cmd_prefix": "rm(",
     "library": "var_list.r",
     "varRefreshCmd": "cat(var_dic_list()) "
    }
   },
   "types_to_exclude": [
    "module",
    "function",
    "builtin_function_or_method",
    "instance",
    "_Feature"
   ],
   "window_display": false
  }
 },
 "nbformat": 4,
 "nbformat_minor": 4
}
