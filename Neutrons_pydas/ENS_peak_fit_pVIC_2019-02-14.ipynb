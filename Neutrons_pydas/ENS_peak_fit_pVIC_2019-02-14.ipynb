{
 "cells": [
  {
   "cell_type": "markdown",
   "metadata": {
    "Collapsed": "false"
   },
   "source": [
    "# TmVO4 neutrons data analysis\n",
    "Fit neutrons diffraction peaks measured on TmVO4 at SNS on 2019-02-14 in order to extract the orthorhombic distortion as a function of magnetic field"
   ]
  },
  {
   "cell_type": "markdown",
   "metadata": {
    "Collapsed": "true",
    "heading_collapsed": true
   },
   "source": [
    "## Import modules"
   ]
  },
  {
   "cell_type": "code",
   "execution_count": 1,
   "metadata": {
    "Collapsed": "false",
    "hidden": true
   },
   "outputs": [],
   "source": [
    "from mpl_toolkits.mplot3d import Axes3D# for 3D plotting\n",
    "import matplotlib.tri as mtri# for triangulation of unevenly separated data, like our magnetic field data\n",
    "\n",
    "import copy as cp, numpy as np, pandas as pd, pickle, os, re\n",
    "import importlib, sys \n",
    "import matplotlib\n",
    "from matplotlib import cm, pyplot as plt, rcsetup, rc, rcParams# import matplotlib.pyplot as plt\n",
    "# cm stands for colormap\n",
    "from matplotlib.ticker import LogLocator, LinearLocator, FormatStrFormatter\n",
    "from scipy.interpolate import griddata\n",
    "from scipy.special import erfc, exp1\n",
    "\n",
    "from lmfit import minimize, Model, Parameters, report_fit, fit_report\n",
    "# import pytest"
   ]
  },
  {
   "cell_type": "markdown",
   "metadata": {
    "Collapsed": "true",
    "heading_collapsed": true
   },
   "source": [
    "## Import data"
   ]
  },
  {
   "cell_type": "markdown",
   "metadata": {
    "Collapsed": "false",
    "hidden": true
   },
   "source": [
    "### Coarse data"
   ]
  },
  {
   "cell_type": "code",
   "execution_count": 2,
   "metadata": {
    "Collapsed": "false",
    "hidden": true,
    "scrolled": true
   },
   "outputs": [
    {
     "data": {
      "text/html": [
       "<div>\n",
       "<style scoped>\n",
       "    .dataframe tbody tr th:only-of-type {\n",
       "        vertical-align: middle;\n",
       "    }\n",
       "\n",
       "    .dataframe tbody tr th {\n",
       "        vertical-align: top;\n",
       "    }\n",
       "\n",
       "    .dataframe thead th {\n",
       "        text-align: right;\n",
       "    }\n",
       "</style>\n",
       "<table border=\"1\" class=\"dataframe\">\n",
       "  <thead>\n",
       "    <tr style=\"text-align: right;\">\n",
       "      <th></th>\n",
       "      <th>filename</th>\n",
       "      <th>H (T)</th>\n",
       "      <th>T (K)</th>\n",
       "      <th>spectra</th>\n",
       "    </tr>\n",
       "  </thead>\n",
       "  <tbody>\n",
       "    <tr>\n",
       "      <th>0</th>\n",
       "      <td>p6K_1T.txt</td>\n",
       "      <td>1.00</td>\n",
       "      <td>0.6</td>\n",
       "      <td>hh0          I        dI\n",
       "0    -11.99...</td>\n",
       "    </tr>\n",
       "    <tr>\n",
       "      <th>1</th>\n",
       "      <td>p6K_1T_new.txt</td>\n",
       "      <td>1.00</td>\n",
       "      <td>0.6</td>\n",
       "      <td>hh0          I        dI\n",
       "0    -11.99...</td>\n",
       "    </tr>\n",
       "    <tr>\n",
       "      <th>2</th>\n",
       "      <td>p6K_p05T.txt</td>\n",
       "      <td>0.05</td>\n",
       "      <td>0.6</td>\n",
       "      <td>hh0         I       dI\n",
       "0    -11.9975...</td>\n",
       "    </tr>\n",
       "    <tr>\n",
       "      <th>3</th>\n",
       "      <td>p6K_p4T.txt</td>\n",
       "      <td>0.40</td>\n",
       "      <td>0.6</td>\n",
       "      <td>hh0         I        dI\n",
       "0    -11.997...</td>\n",
       "    </tr>\n",
       "    <tr>\n",
       "      <th>4</th>\n",
       "      <td>p6K_p5T.txt</td>\n",
       "      <td>0.50</td>\n",
       "      <td>0.6</td>\n",
       "      <td>hh0          I        dI\n",
       "0    -11.99...</td>\n",
       "    </tr>\n",
       "    <tr>\n",
       "      <th>5</th>\n",
       "      <td>p6K_p6T.txt</td>\n",
       "      <td>0.60</td>\n",
       "      <td>0.6</td>\n",
       "      <td>hh0          I        dI\n",
       "0    -11.99...</td>\n",
       "    </tr>\n",
       "    <tr>\n",
       "      <th>6</th>\n",
       "      <td>p6K_p77T.txt</td>\n",
       "      <td>0.77</td>\n",
       "      <td>0.6</td>\n",
       "      <td>hh0          I        dI\n",
       "0    -11.99...</td>\n",
       "    </tr>\n",
       "    <tr>\n",
       "      <th>7</th>\n",
       "      <td>p6K_p7T.txt</td>\n",
       "      <td>0.70</td>\n",
       "      <td>0.6</td>\n",
       "      <td>hh0          I        dI\n",
       "0    -11.99...</td>\n",
       "    </tr>\n",
       "    <tr>\n",
       "      <th>8</th>\n",
       "      <td>p6K_p83T.txt</td>\n",
       "      <td>0.83</td>\n",
       "      <td>0.6</td>\n",
       "      <td>hh0          I        dI\n",
       "0    -11.99...</td>\n",
       "    </tr>\n",
       "    <tr>\n",
       "      <th>9</th>\n",
       "      <td>p6K_p97T.txt</td>\n",
       "      <td>0.97</td>\n",
       "      <td>0.6</td>\n",
       "      <td>hh0          I        dI\n",
       "0    -11.99...</td>\n",
       "    </tr>\n",
       "    <tr>\n",
       "      <th>10</th>\n",
       "      <td>p6K_p9T.txt</td>\n",
       "      <td>0.90</td>\n",
       "      <td>0.6</td>\n",
       "      <td>hh0          I        dI\n",
       "0    -11.99...</td>\n",
       "    </tr>\n",
       "  </tbody>\n",
       "</table>\n",
       "</div>"
      ],
      "text/plain": [
       "          filename  ...                                            spectra\n",
       "0       p6K_1T.txt  ...            hh0          I        dI\n",
       "0    -11.99...\n",
       "1   p6K_1T_new.txt  ...            hh0          I        dI\n",
       "0    -11.99...\n",
       "2     p6K_p05T.txt  ...            hh0         I       dI\n",
       "0    -11.9975...\n",
       "3      p6K_p4T.txt  ...            hh0         I        dI\n",
       "0    -11.997...\n",
       "4      p6K_p5T.txt  ...            hh0          I        dI\n",
       "0    -11.99...\n",
       "5      p6K_p6T.txt  ...            hh0          I        dI\n",
       "0    -11.99...\n",
       "6     p6K_p77T.txt  ...            hh0          I        dI\n",
       "0    -11.99...\n",
       "7      p6K_p7T.txt  ...            hh0          I        dI\n",
       "0    -11.99...\n",
       "8     p6K_p83T.txt  ...            hh0          I        dI\n",
       "0    -11.99...\n",
       "9     p6K_p97T.txt  ...            hh0          I        dI\n",
       "0    -11.99...\n",
       "10     p6K_p9T.txt  ...            hh0          I        dI\n",
       "0    -11.99...\n",
       "\n",
       "[11 rows x 4 columns]"
      ]
     },
     "execution_count": 2,
     "metadata": {},
     "output_type": "execute_result"
    }
   ],
   "source": [
    "tempPath = r'C:\\Users\\Pierre\\Desktop\\Postdoc\\TmVO4\\TmVO4_neutrons\\2019-02_ORNL_Corelli\\2019-02-14'\n",
    "os.chdir(tempPath)\n",
    "(_, _, filenames) = next(os.walk(tempPath))# the walk() function lists the content of the directory that it is given as argument,\n",
    "# and of its subdirectories; the next() function returns the next output of the walk() function;\n",
    "# when used only once, it returns only the first output which is the content of the parent directory, \n",
    "# listed as a tuple of the form (dirpath, dirnames, filenames)\n",
    "filenames = [filename for filename in filenames if 'p6K_' in filename]# keep only files that match the string pattern of datafilestempList = [None]*len(filenames)# Pre-allocate temporary list to store the data that will then be converted into a Pandas DataFrame\n",
    "\n",
    "tempList = [None]*len(filenames)\n",
    "for idx, filename in enumerate(filenames):# For each data file\n",
    "    H = float(re.split('p6K_(\\w*)T\\w*.txt',filenames[idx])[1].replace('p','.'))# Extract value of magnetic field from filename\n",
    "    tempDF = pd.read_csv(filenames[idx],names=[\"hh0\",\"I\",\"dI\"],skiprows=2,delimiter=',')# import data as a Pandas DataFrame\n",
    "    tempList[idx] = {'filename': filenames[idx],# Store into a dictionary, which is itself an element of tempList: the filename,\n",
    "                   'H (T)': H,# value of magnetic field,\n",
    "                   'T (K)': 0.6,# temperature,\n",
    "                   'spectra': tempDF# and data stored as Pandas dataframe\n",
    "                   }\n",
    "coarseData = pd.DataFrame(tempList)# Convert the list of dictionaries into a Pandas DataFrame\n",
    "del idx, H, tempPath, filename, filenames, tempList, tempDF# delete temporary variables after use \n",
    "coarseData# Show the resulting DataFrame"
   ]
  },
  {
   "cell_type": "code",
   "execution_count": 3,
   "metadata": {
    "Collapsed": "false",
    "hidden": true
   },
   "outputs": [
    {
     "data": {
      "text/html": [
       "<div>\n",
       "<style scoped>\n",
       "    .dataframe tbody tr th:only-of-type {\n",
       "        vertical-align: middle;\n",
       "    }\n",
       "\n",
       "    .dataframe tbody tr th {\n",
       "        vertical-align: top;\n",
       "    }\n",
       "\n",
       "    .dataframe thead th {\n",
       "        text-align: right;\n",
       "    }\n",
       "</style>\n",
       "<table border=\"1\" class=\"dataframe\">\n",
       "  <thead>\n",
       "    <tr style=\"text-align: right;\">\n",
       "      <th></th>\n",
       "      <th>hh0</th>\n",
       "      <th>I</th>\n",
       "      <th>dI</th>\n",
       "    </tr>\n",
       "  </thead>\n",
       "  <tbody>\n",
       "    <tr>\n",
       "      <th>0</th>\n",
       "      <td>-11.9975</td>\n",
       "      <td>142028.0</td>\n",
       "      <td>52309.7</td>\n",
       "    </tr>\n",
       "    <tr>\n",
       "      <th>1</th>\n",
       "      <td>-11.9925</td>\n",
       "      <td>220372.0</td>\n",
       "      <td>62925.4</td>\n",
       "    </tr>\n",
       "    <tr>\n",
       "      <th>2</th>\n",
       "      <td>-11.9875</td>\n",
       "      <td>220002.0</td>\n",
       "      <td>62818.9</td>\n",
       "    </tr>\n",
       "    <tr>\n",
       "      <th>3</th>\n",
       "      <td>-11.9825</td>\n",
       "      <td>518428.0</td>\n",
       "      <td>92939.8</td>\n",
       "    </tr>\n",
       "    <tr>\n",
       "      <th>4</th>\n",
       "      <td>-11.9775</td>\n",
       "      <td>817317.0</td>\n",
       "      <td>127501.0</td>\n",
       "    </tr>\n",
       "  </tbody>\n",
       "</table>\n",
       "</div>"
      ],
      "text/plain": [
       "       hh0         I        dI\n",
       "0 -11.9975  142028.0   52309.7\n",
       "1 -11.9925  220372.0   62925.4\n",
       "2 -11.9875  220002.0   62818.9\n",
       "3 -11.9825  518428.0   92939.8\n",
       "4 -11.9775  817317.0  127501.0"
      ]
     },
     "execution_count": 3,
     "metadata": {},
     "output_type": "execute_result"
    }
   ],
   "source": [
    "coarseData.spectra[3].head()# Check the content of individual datasets after importation"
   ]
  },
  {
   "cell_type": "markdown",
   "metadata": {
    "Collapsed": "false",
    "hidden": true
   },
   "source": [
    "### Fine data"
   ]
  },
  {
   "cell_type": "code",
   "execution_count": 4,
   "metadata": {
    "Collapsed": "false",
    "hidden": true
   },
   "outputs": [
    {
     "data": {
      "text/html": [
       "<div>\n",
       "<style scoped>\n",
       "    .dataframe tbody tr th:only-of-type {\n",
       "        vertical-align: middle;\n",
       "    }\n",
       "\n",
       "    .dataframe tbody tr th {\n",
       "        vertical-align: top;\n",
       "    }\n",
       "\n",
       "    .dataframe thead th {\n",
       "        text-align: right;\n",
       "    }\n",
       "</style>\n",
       "<table border=\"1\" class=\"dataframe\">\n",
       "  <thead>\n",
       "    <tr style=\"text-align: right;\">\n",
       "      <th></th>\n",
       "      <th>File #</th>\n",
       "      <th>T (K)</th>\n",
       "      <th>H (T)</th>\n",
       "      <th>Proton charge</th>\n",
       "    </tr>\n",
       "  </thead>\n",
       "  <tbody>\n",
       "    <tr>\n",
       "      <th>0</th>\n",
       "      <td>88631</td>\n",
       "      <td>0.605973</td>\n",
       "      <td>0.000000</td>\n",
       "      <td>1.312139</td>\n",
       "    </tr>\n",
       "    <tr>\n",
       "      <th>1</th>\n",
       "      <td>88632</td>\n",
       "      <td>0.613334</td>\n",
       "      <td>0.049998</td>\n",
       "      <td>0.800119</td>\n",
       "    </tr>\n",
       "    <tr>\n",
       "      <th>2</th>\n",
       "      <td>88633</td>\n",
       "      <td>0.605727</td>\n",
       "      <td>0.099996</td>\n",
       "      <td>0.083534</td>\n",
       "    </tr>\n",
       "    <tr>\n",
       "      <th>3</th>\n",
       "      <td>88634</td>\n",
       "      <td>0.625493</td>\n",
       "      <td>0.099996</td>\n",
       "      <td>0.800739</td>\n",
       "    </tr>\n",
       "    <tr>\n",
       "      <th>4</th>\n",
       "      <td>88635</td>\n",
       "      <td>0.618220</td>\n",
       "      <td>0.150005</td>\n",
       "      <td>0.801294</td>\n",
       "    </tr>\n",
       "  </tbody>\n",
       "</table>\n",
       "</div>"
      ],
      "text/plain": [
       "   File #     T (K)     H (T)  Proton charge\n",
       "0   88631  0.605973  0.000000       1.312139\n",
       "1   88632  0.613334  0.049998       0.800119\n",
       "2   88633  0.605727  0.099996       0.083534\n",
       "3   88634  0.625493  0.099996       0.800739\n",
       "4   88635  0.618220  0.150005       0.801294"
      ]
     },
     "execution_count": 4,
     "metadata": {},
     "output_type": "execute_result"
    }
   ],
   "source": [
    "tempPath = r'C:\\Users\\Pierre\\Desktop\\Postdoc\\TmVO4\\TmVO4_neutrons\\2019-02_ORNL_Corelli\\2019-02-14\\p6K\\linecut_f'\n",
    "os.chdir(tempPath)\n",
    "fieldInfo = pd.read_csv('field_info.txt',header=None,names=['File #','T (K)','H (T)','Proton charge'],delimiter=' ')\n",
    "fieldInfo['File #'] = fieldInfo['File #'].astype('int')# replace file number type from float to int\n",
    "fieldInfo.head()\n",
    "# fieldInfo['File #'].dtype# check that the change of datatype is effective"
   ]
  },
  {
   "cell_type": "code",
   "execution_count": 5,
   "metadata": {
    "Collapsed": "false",
    "hidden": true
   },
   "outputs": [
    {
     "data": {
      "text/html": [
       "<div>\n",
       "<style scoped>\n",
       "    .dataframe tbody tr th:only-of-type {\n",
       "        vertical-align: middle;\n",
       "    }\n",
       "\n",
       "    .dataframe tbody tr th {\n",
       "        vertical-align: top;\n",
       "    }\n",
       "\n",
       "    .dataframe thead th {\n",
       "        text-align: right;\n",
       "    }\n",
       "</style>\n",
       "<table border=\"1\" class=\"dataframe\">\n",
       "  <thead>\n",
       "    <tr style=\"text-align: right;\">\n",
       "      <th></th>\n",
       "      <th>filename</th>\n",
       "      <th>T (K)</th>\n",
       "      <th>H (T)</th>\n",
       "      <th>Proton charge</th>\n",
       "      <th>spectra</th>\n",
       "    </tr>\n",
       "  </thead>\n",
       "  <tbody>\n",
       "    <tr>\n",
       "      <th>0</th>\n",
       "      <td>HH0_88631.txt</td>\n",
       "      <td>0.605973</td>\n",
       "      <td>0.000000</td>\n",
       "      <td>1.312139</td>\n",
       "      <td>hh0    I   dI\n",
       "0    -12.99880  0.0  ...</td>\n",
       "    </tr>\n",
       "    <tr>\n",
       "      <th>1</th>\n",
       "      <td>HH0_88632.txt</td>\n",
       "      <td>0.613334</td>\n",
       "      <td>0.049998</td>\n",
       "      <td>0.800119</td>\n",
       "      <td>hh0    I   dI\n",
       "0    -12.99880  0.0  ...</td>\n",
       "    </tr>\n",
       "    <tr>\n",
       "      <th>2</th>\n",
       "      <td>HH0_88633.txt</td>\n",
       "      <td>0.605727</td>\n",
       "      <td>0.099996</td>\n",
       "      <td>0.083534</td>\n",
       "      <td>hh0    I   dI\n",
       "0    -12.99880  0.0  ...</td>\n",
       "    </tr>\n",
       "    <tr>\n",
       "      <th>3</th>\n",
       "      <td>HH0_88634.txt</td>\n",
       "      <td>0.625493</td>\n",
       "      <td>0.099996</td>\n",
       "      <td>0.800739</td>\n",
       "      <td>hh0    I   dI\n",
       "0    -12.99880  0.0  ...</td>\n",
       "    </tr>\n",
       "    <tr>\n",
       "      <th>4</th>\n",
       "      <td>HH0_88635.txt</td>\n",
       "      <td>0.618220</td>\n",
       "      <td>0.150005</td>\n",
       "      <td>0.801294</td>\n",
       "      <td>hh0    I   dI\n",
       "0    -12.99880  0.0  ...</td>\n",
       "    </tr>\n",
       "  </tbody>\n",
       "</table>\n",
       "</div>"
      ],
      "text/plain": [
       "        filename  ...                                            spectra\n",
       "0  HH0_88631.txt  ...             hh0    I   dI\n",
       "0    -12.99880  0.0  ...\n",
       "1  HH0_88632.txt  ...             hh0    I   dI\n",
       "0    -12.99880  0.0  ...\n",
       "2  HH0_88633.txt  ...             hh0    I   dI\n",
       "0    -12.99880  0.0  ...\n",
       "3  HH0_88634.txt  ...             hh0    I   dI\n",
       "0    -12.99880  0.0  ...\n",
       "4  HH0_88635.txt  ...             hh0    I   dI\n",
       "0    -12.99880  0.0  ...\n",
       "\n",
       "[5 rows x 5 columns]"
      ]
     },
     "execution_count": 5,
     "metadata": {},
     "output_type": "execute_result"
    }
   ],
   "source": [
    "tempList = [None]*len(fieldInfo)# Preallocate list to store the data that will then be converted into a Pandas DataFrame\n",
    "for idx in range(len(fieldInfo)):# For each data file\n",
    "    filename = ''.join(['HH0_',str(fieldInfo['File #'][idx]),'.txt'])\n",
    "#     print(filename)\n",
    "    tempDF = pd.read_csv(filename,names=[\"hh0\",\"I\",\"dI\"],skiprows=2,delimiter=',')# Import data as a Pandas DataFrame\n",
    "    tempList[idx] = {'filename': filename,# Store into a dictionary, which is itself an element of dfList: the filename,\n",
    "                     'T (K)': fieldInfo['T (K)'][idx],# temperature,\n",
    "                     'H (T)': fieldInfo['H (T)'][idx],# value of magnetic field,\n",
    "                     'Proton charge': fieldInfo['Proton charge'][idx],# proton charge,\n",
    "                     'spectra': tempDF# and data,\n",
    "                     }\n",
    "linecut_f_raw = pd.DataFrame(tempList)# Convert the list of dictionaries into a Pandas DataFrame\n",
    "linecut_f_raw.head()# Show the resulting DataFrame"
   ]
  },
  {
   "cell_type": "code",
   "execution_count": 6,
   "metadata": {
    "Collapsed": "false",
    "hidden": true
   },
   "outputs": [],
   "source": [
    "del idx, tempPath, filename, tempList, tempDF# delete temporary variables after use "
   ]
  },
  {
   "cell_type": "code",
   "execution_count": 7,
   "metadata": {
    "Collapsed": "false",
    "hidden": true
   },
   "outputs": [
    {
     "data": {
      "text/html": [
       "<div>\n",
       "<style scoped>\n",
       "    .dataframe tbody tr th:only-of-type {\n",
       "        vertical-align: middle;\n",
       "    }\n",
       "\n",
       "    .dataframe tbody tr th {\n",
       "        vertical-align: top;\n",
       "    }\n",
       "\n",
       "    .dataframe thead th {\n",
       "        text-align: right;\n",
       "    }\n",
       "</style>\n",
       "<table border=\"1\" class=\"dataframe\">\n",
       "  <thead>\n",
       "    <tr style=\"text-align: right;\">\n",
       "      <th></th>\n",
       "      <th>hh0</th>\n",
       "      <th>I</th>\n",
       "      <th>dI</th>\n",
       "    </tr>\n",
       "  </thead>\n",
       "  <tbody>\n",
       "    <tr>\n",
       "      <th>180</th>\n",
       "      <td>-12.5487</td>\n",
       "      <td>0.0</td>\n",
       "      <td>0.0</td>\n",
       "    </tr>\n",
       "    <tr>\n",
       "      <th>181</th>\n",
       "      <td>-12.5462</td>\n",
       "      <td>0.0</td>\n",
       "      <td>0.0</td>\n",
       "    </tr>\n",
       "    <tr>\n",
       "      <th>182</th>\n",
       "      <td>-12.5437</td>\n",
       "      <td>0.0</td>\n",
       "      <td>0.0</td>\n",
       "    </tr>\n",
       "    <tr>\n",
       "      <th>183</th>\n",
       "      <td>-12.5412</td>\n",
       "      <td>0.0</td>\n",
       "      <td>0.0</td>\n",
       "    </tr>\n",
       "    <tr>\n",
       "      <th>184</th>\n",
       "      <td>-12.5388</td>\n",
       "      <td>0.0</td>\n",
       "      <td>0.0</td>\n",
       "    </tr>\n",
       "    <tr>\n",
       "      <th>185</th>\n",
       "      <td>-12.5363</td>\n",
       "      <td>0.0</td>\n",
       "      <td>0.0</td>\n",
       "    </tr>\n",
       "  </tbody>\n",
       "</table>\n",
       "</div>"
      ],
      "text/plain": [
       "         hh0    I   dI\n",
       "180 -12.5487  0.0  0.0\n",
       "181 -12.5462  0.0  0.0\n",
       "182 -12.5437  0.0  0.0\n",
       "183 -12.5412  0.0  0.0\n",
       "184 -12.5388  0.0  0.0\n",
       "185 -12.5363  0.0  0.0"
      ]
     },
     "execution_count": 7,
     "metadata": {},
     "output_type": "execute_result"
    }
   ],
   "source": [
    "linecut_f_raw['spectra'][3].loc[180:185]#.head()# Check the content of individual datasets after importation"
   ]
  },
  {
   "cell_type": "markdown",
   "metadata": {
    "Collapsed": "true",
    "heading_collapsed": true
   },
   "source": [
    "## Basic data processing\n",
    "Rescale data and remove \"bad\" data"
   ]
  },
  {
   "cell_type": "markdown",
   "metadata": {
    "Collapsed": "false",
    "hidden": true
   },
   "source": [
    "### Check consistency of dataframes"
   ]
  },
  {
   "cell_type": "markdown",
   "metadata": {
    "Collapsed": "false",
    "hidden": true
   },
   "source": [
    "#### <a name=\"hh0_consistency\"></a>Check that all hh0 data are the same within each dataframe\n",
    "i.e. that all hh0 of coarseData are the same and that all hh0 data of linecut_f_raw are the same"
   ]
  },
  {
   "cell_type": "code",
   "execution_count": 8,
   "metadata": {
    "Collapsed": "false",
    "hidden": true
   },
   "outputs": [],
   "source": [
    "nData_raw = [coarseData,linecut_f_raw]\n",
    "for data_idx in range(len(nData_raw)):# for each dataset\n",
    "    for _, row in nData_raw[data_idx].iterrows():# loop over all rows\n",
    "        if not np.array_equal(row.spectra.hh0,nData_raw[data_idx].spectra[0].hh0):\n",
    "        # and compare the array of hh0 of that row with that of the first row\n",
    "            print(row)# print the row if the two arrays are *not* equal\n",
    "            # should output nothing, which means that all arrays of hh0 are the same *within a dataset*"
   ]
  },
  {
   "cell_type": "markdown",
   "metadata": {
    "Collapsed": "false",
    "hidden": true
   },
   "source": [
    "#### Then check that hh0 data of coarseData differ from that of linecut_f_raw\n",
    "We do not need to loop over all rows since we have shown in the previous cell that all rows are the same within a dataset"
   ]
  },
  {
   "cell_type": "code",
   "execution_count": 9,
   "metadata": {
    "Collapsed": "false",
    "hidden": true
   },
   "outputs": [
    {
     "name": "stdout",
     "output_type": "stream",
     "text": [
      "The arrarys of hh0 are not the same in both datasets\n"
     ]
    }
   ],
   "source": [
    "if not np.array_equal(coarseData.spectra[0].hh0,linecut_f_raw.spectra[0].hh0):\n",
    "# compare the hh0 arrays of the first row of both datasets\n",
    "    print(\"The arrarys of hh0 are not the same in both datasets\")"
   ]
  },
  {
   "cell_type": "markdown",
   "metadata": {
    "Collapsed": "false",
    "hidden": true
   },
   "source": [
    "### Which datasets to analyze and how? \n",
    "\n",
    "#### Update 2020-04-06\n",
    "In fact, ignore the coarse dataset, as it will require a lot of efforts for a minimal result.\n",
    "More interesting would be to analyze the linecut_f dataset at each (hh0) peak position, for h = 6, 8, 10.\n",
    "\n",
    "##### Update 2020-04-03\n",
    "treat both datasets independently in terms of the plotting and fitting\n",
    "\n",
    "##### Outdated ideas\n",
    "involving treating both datasets together, which will make things more complicated, and therefore increases the risks of making errors, in addition to increasing the time required for the analysis:\n",
    "* interpolate spectra of coarseData so that its hh0 array is the same as that of linecut_f_raw\n",
    "* rescale the data, if there is a physical way to do it, otherwise simply treat both datasets separately"
   ]
  },
  {
   "cell_type": "markdown",
   "metadata": {
    "Collapsed": "false",
    "hidden": true
   },
   "source": [
    "### Truely \"deep\" copy of linecut_f\n",
    "such that linecut_f_raw will *not* be modified if lcf_copy is modified\n",
    "\n",
    "The best way to truely, i.e. recursively, deep copy a python object is to `pickle.dump` and `pickle.load` it. \n",
    "That is because `cPickle` is the fastest, as shown [here](https://stackoverflow.com/questions/1410615/copy-deepcopy-vs-pickle),  *and* **in Python 3**, `cPickle` is the default behavior of `pickle`, as explained [here](https://askubuntu.com/a/804618).\n",
    "See also hacks.ipynb, and [here](https://stackoverflow.com/questions/52708341/make-a-truly-deep-copy-of-a-pandas-series). "
   ]
  },
  {
   "cell_type": "code",
   "execution_count": 10,
   "metadata": {
    "Collapsed": "false",
    "hidden": true
   },
   "outputs": [
    {
     "data": {
      "text/html": [
       "<div>\n",
       "<style scoped>\n",
       "    .dataframe tbody tr th:only-of-type {\n",
       "        vertical-align: middle;\n",
       "    }\n",
       "\n",
       "    .dataframe tbody tr th {\n",
       "        vertical-align: top;\n",
       "    }\n",
       "\n",
       "    .dataframe thead th {\n",
       "        text-align: right;\n",
       "    }\n",
       "</style>\n",
       "<table border=\"1\" class=\"dataframe\">\n",
       "  <thead>\n",
       "    <tr style=\"text-align: right;\">\n",
       "      <th></th>\n",
       "      <th>filename</th>\n",
       "      <th>T (K)</th>\n",
       "      <th>H (T)</th>\n",
       "      <th>Proton charge</th>\n",
       "      <th>spectra</th>\n",
       "    </tr>\n",
       "  </thead>\n",
       "  <tbody>\n",
       "    <tr>\n",
       "      <th>0</th>\n",
       "      <td>HH0_88631.txt</td>\n",
       "      <td>0.605973</td>\n",
       "      <td>0.000000</td>\n",
       "      <td>1.312139</td>\n",
       "      <td>hh0    I   dI\n",
       "0    -12.99880  0.0  ...</td>\n",
       "    </tr>\n",
       "    <tr>\n",
       "      <th>1</th>\n",
       "      <td>HH0_88632.txt</td>\n",
       "      <td>0.613334</td>\n",
       "      <td>0.049998</td>\n",
       "      <td>0.800119</td>\n",
       "      <td>hh0    I   dI\n",
       "0    -12.99880  0.0  ...</td>\n",
       "    </tr>\n",
       "    <tr>\n",
       "      <th>2</th>\n",
       "      <td>HH0_88633.txt</td>\n",
       "      <td>0.605727</td>\n",
       "      <td>0.099996</td>\n",
       "      <td>0.083534</td>\n",
       "      <td>hh0    I   dI\n",
       "0    -12.99880  0.0  ...</td>\n",
       "    </tr>\n",
       "    <tr>\n",
       "      <th>3</th>\n",
       "      <td>HH0_88634.txt</td>\n",
       "      <td>0.625493</td>\n",
       "      <td>0.099996</td>\n",
       "      <td>0.800739</td>\n",
       "      <td>hh0    I   dI\n",
       "0    -12.99880  0.0  ...</td>\n",
       "    </tr>\n",
       "    <tr>\n",
       "      <th>4</th>\n",
       "      <td>HH0_88635.txt</td>\n",
       "      <td>0.618220</td>\n",
       "      <td>0.150005</td>\n",
       "      <td>0.801294</td>\n",
       "      <td>hh0    I   dI\n",
       "0    -12.99880  0.0  ...</td>\n",
       "    </tr>\n",
       "  </tbody>\n",
       "</table>\n",
       "</div>"
      ],
      "text/plain": [
       "        filename  ...                                            spectra\n",
       "0  HH0_88631.txt  ...             hh0    I   dI\n",
       "0    -12.99880  0.0  ...\n",
       "1  HH0_88632.txt  ...             hh0    I   dI\n",
       "0    -12.99880  0.0  ...\n",
       "2  HH0_88633.txt  ...             hh0    I   dI\n",
       "0    -12.99880  0.0  ...\n",
       "3  HH0_88634.txt  ...             hh0    I   dI\n",
       "0    -12.99880  0.0  ...\n",
       "4  HH0_88635.txt  ...             hh0    I   dI\n",
       "0    -12.99880  0.0  ...\n",
       "\n",
       "[5 rows x 5 columns]"
      ]
     },
     "execution_count": 10,
     "metadata": {},
     "output_type": "execute_result"
    }
   ],
   "source": [
    "lcf_copy = pickle.loads(pickle.dumps(linecut_f_raw))# fastest python hack to create a truely deep copy\n",
    "# lcf stands for linecut_f, which is the name of the file from which the data was imported\n",
    "# idx = 5\n",
    "lcf_copy.head()#.loc[idx:idx+10]"
   ]
  },
  {
   "cell_type": "markdown",
   "metadata": {
    "Collapsed": "false",
    "hidden": true
   },
   "source": [
    "### Data rescaling\n",
    "This used to be done manually, after noticing that the intensity of the data at 0T was higher than that of the rest of the data. A factor of 0.635 was then used to rescale this spectrum to the level of other data. \n",
    "However, after getting the up-to-date data, it appears that the scaling factor is merely the proton charge, which is a proxy for the counting time of neutrons. With this information, it turns out that the ratio of Proton charges of the spectrum at 0T and that at 0.05T is 1.3 to 0.8. The rescaling factor of the former is thus 0.8/1.3=0.615. Hence the empirical value of 0.635 was a pretty good guess!"
   ]
  },
  {
   "cell_type": "code",
   "execution_count": 11,
   "metadata": {
    "Collapsed": "false",
    "hidden": true
   },
   "outputs": [
    {
     "data": {
      "text/html": [
       "<div>\n",
       "<style scoped>\n",
       "    .dataframe tbody tr th:only-of-type {\n",
       "        vertical-align: middle;\n",
       "    }\n",
       "\n",
       "    .dataframe tbody tr th {\n",
       "        vertical-align: top;\n",
       "    }\n",
       "\n",
       "    .dataframe thead th {\n",
       "        text-align: right;\n",
       "    }\n",
       "</style>\n",
       "<table border=\"1\" class=\"dataframe\">\n",
       "  <thead>\n",
       "    <tr style=\"text-align: right;\">\n",
       "      <th></th>\n",
       "      <th>hh0</th>\n",
       "      <th>I</th>\n",
       "      <th>dI</th>\n",
       "      <th>Inorm</th>\n",
       "      <th>dInorm</th>\n",
       "    </tr>\n",
       "  </thead>\n",
       "  <tbody>\n",
       "    <tr>\n",
       "      <th>1200</th>\n",
       "      <td>-9.99875</td>\n",
       "      <td>1261600.0</td>\n",
       "      <td>94684.7</td>\n",
       "      <td>9.614833e+05</td>\n",
       "      <td>72160.557743</td>\n",
       "    </tr>\n",
       "    <tr>\n",
       "      <th>1201</th>\n",
       "      <td>-9.99625</td>\n",
       "      <td>1230390.0</td>\n",
       "      <td>98819.2</td>\n",
       "      <td>9.376977e+05</td>\n",
       "      <td>75311.519049</td>\n",
       "    </tr>\n",
       "    <tr>\n",
       "      <th>1202</th>\n",
       "      <td>-9.99375</td>\n",
       "      <td>1448420.0</td>\n",
       "      <td>109920.0</td>\n",
       "      <td>1.103862e+06</td>\n",
       "      <td>83771.596753</td>\n",
       "    </tr>\n",
       "    <tr>\n",
       "      <th>1203</th>\n",
       "      <td>-9.99125</td>\n",
       "      <td>2141070.0</td>\n",
       "      <td>124810.0</td>\n",
       "      <td>1.631740e+06</td>\n",
       "      <td>95119.477718</td>\n",
       "    </tr>\n",
       "    <tr>\n",
       "      <th>1204</th>\n",
       "      <td>-9.98875</td>\n",
       "      <td>2560080.0</td>\n",
       "      <td>141466.0</td>\n",
       "      <td>1.951073e+06</td>\n",
       "      <td>107813.252422</td>\n",
       "    </tr>\n",
       "    <tr>\n",
       "      <th>1205</th>\n",
       "      <td>-9.98625</td>\n",
       "      <td>4044660.0</td>\n",
       "      <td>169302.0</td>\n",
       "      <td>3.082493e+06</td>\n",
       "      <td>129027.464278</td>\n",
       "    </tr>\n",
       "  </tbody>\n",
       "</table>\n",
       "</div>"
      ],
      "text/plain": [
       "          hh0          I        dI         Inorm         dInorm\n",
       "1200 -9.99875  1261600.0   94684.7  9.614833e+05   72160.557743\n",
       "1201 -9.99625  1230390.0   98819.2  9.376977e+05   75311.519049\n",
       "1202 -9.99375  1448420.0  109920.0  1.103862e+06   83771.596753\n",
       "1203 -9.99125  2141070.0  124810.0  1.631740e+06   95119.477718\n",
       "1204 -9.98875  2560080.0  141466.0  1.951073e+06  107813.252422\n",
       "1205 -9.98625  4044660.0  169302.0  3.082493e+06  129027.464278"
      ]
     },
     "execution_count": 11,
     "metadata": {},
     "output_type": "execute_result"
    }
   ],
   "source": [
    "##### Rescale data according to their Proton charge\n",
    "for idx, row in lcf_copy.iterrows():\n",
    "    row.spectra['Inorm'] = row.spectra.I/row['Proton charge']\n",
    "    row.spectra['dInorm'] = row.spectra.dI/row['Proton charge']\n",
    "#     print(idx, row['spectra']['I'])\n",
    "idx = 1200# index that allows to look at data close to the (10 10 0) peak\n",
    "lcf_copy.spectra[0].loc[idx:idx+5]# check one of the resulting dataframes"
   ]
  },
  {
   "cell_type": "markdown",
   "metadata": {
    "Collapsed": "false",
    "hidden": true
   },
   "source": [
    "### Find bad data, if any\n",
    "#### Identify datasets with zero intensity and create a new \"clean\" dataset without bad data"
   ]
  },
  {
   "cell_type": "code",
   "execution_count": 12,
   "metadata": {
    "Collapsed": "false",
    "hidden": true
   },
   "outputs": [
    {
     "name": "stdout",
     "output_type": "stream",
     "text": [
      "84\n"
     ]
    }
   ],
   "source": [
    "lcf_clean = lcf_copy.copy()\n",
    "# this is a deepcopy according to Pandas, which is only deep at the lowest order, i.e. not recursively\n",
    "for idx, row in lcf_copy.iterrows():# loop over all spectra\n",
    "    if not np.any(row.spectra.Inorm>0):# if any spectrum has a constant zero intensity\n",
    "        lcf_clean = lcf_copy.drop(idx)\n",
    "        print(idx)# output the row index of lcf_copy containing empty data\n",
    "# lcf_copy.spectra[0].Inorm"
   ]
  },
  {
   "cell_type": "markdown",
   "metadata": {
    "Collapsed": "false",
    "hidden": true
   },
   "source": [
    "### Change default plotting parameters\n",
    "see https://matplotlib.org/3.1.0/api/_as_gen/matplotlib.pyplot.figure.html"
   ]
  },
  {
   "cell_type": "code",
   "execution_count": 13,
   "metadata": {
    "Collapsed": "false",
    "hidden": true
   },
   "outputs": [],
   "source": [
    "%matplotlib qt\n",
    "# plot figures in external window"
   ]
  },
  {
   "cell_type": "code",
   "execution_count": 14,
   "metadata": {
    "Collapsed": "false",
    "hidden": true
   },
   "outputs": [],
   "source": [
    "rcParams[\"figure.figsize\"] = np.multiply([6.4, 4.8],0.5)# default is [6.4, 4.8]"
   ]
  },
  {
   "cell_type": "markdown",
   "metadata": {
    "Collapsed": "false",
    "hidden": true
   },
   "source": [
    "### Batch plot the rest of the spectra to identify other potential bad data"
   ]
  },
  {
   "cell_type": "markdown",
   "metadata": {
    "Collapsed": "false",
    "hidden": true
   },
   "source": [
    "##### Plot spectra by groups of nSpec\n",
    "to see if any spectrum differs from the others.\n",
    "This method may fail if there are more than nSpec bad consecutive spectra. Hence nSpec should not be too small (5 or more should be good)"
   ]
  },
  {
   "cell_type": "code",
   "execution_count": 15,
   "metadata": {
    "Collapsed": "false",
    "hidden": true
   },
   "outputs": [],
   "source": [
    "nSpec = 7# number of curves in each plot\n",
    "nfig = len(lcf_clean)//nSpec+1\n",
    "fig = [None]*(nfig)\n",
    "lgd = [None]*(nfig)\n",
    "for fidx in range(1):#range(nfig):\n",
    "    fig[fidx] = plt.figure()\n",
    "    ax = fig[fidx].add_subplot(1,1,1)\n",
    "    for pidx in range(nSpec*fidx,nSpec*(fidx+1)):\n",
    "        try:\n",
    "            plt.plot(lcf_clean.spectra[pidx].hh0,lcf_clean.spectra[pidx].Inorm,\\\n",
    "                     label=f\"{pidx}, {lcf_clean['H (T)'][pidx]:.2f}\")\n",
    "        except KeyError:# if the index of data to be plotted does not exist\n",
    "            continue# ignore and carry on to the next one\n",
    "    plt.xlim(-10.25,-5.75)\n",
    "    lgd[fidx] = ax.legend(title='Index, H (T)')\n",
    "    lgd[fidx].set_draggable(True)\n",
    "    plt.show()# ensures that all windows come to the foreground"
   ]
  },
  {
   "cell_type": "markdown",
   "metadata": {
    "Collapsed": "false",
    "hidden": true
   },
   "source": [
    "##### Notes --- 2020-04-07\n",
    "* After plotting all spectra together, it appears that only spectra #2 and #85 are \"bad\": the former is very noisy (not too surprising given that its Proton charge is 1/10 of the other data) and the latter has a lower intensity than the other spectra (for an unknown reason).\n",
    "* Both those bad spectra were identified during the measurement, such that another (good) spectrum was measured at both values of magnetic field at which those bad spectra had been measured. Concretely, spectrum #2 was measured at 0.1T and #85 at 0.865T but are bad. Spectra #3 and #104 were also measured at 0.1T and 0.865T, respectively, and are good. Hence, the two bad spectra should just be discarded, there is no reason to try and process them in order to try and make them good: first because there is no way of making good data out of bad data (bad data is just bad data), so it would be a waste of time, and potentially a lot of time, but it would also be complicated, and because the result cannot be good, it can only influence the result of the subsequent fits in a bad way, thus inducing distrust on the results obtained over the whole dataset instead of just two spectra. Bottom line: discard spectra #2 and #85."
   ]
  },
  {
   "cell_type": "markdown",
   "metadata": {
    "Collapsed": "false",
    "hidden": true
   },
   "source": [
    "### Remove bad data \n",
    "as identified in batch plotting"
   ]
  },
  {
   "cell_type": "code",
   "execution_count": 16,
   "metadata": {
    "Collapsed": "false",
    "hidden": true
   },
   "outputs": [],
   "source": [
    "delRowIdx = [2,85]# index of data to remove\n",
    "lcf_clean.drop(delRowIdx,inplace=True)"
   ]
  },
  {
   "cell_type": "markdown",
   "metadata": {
    "Collapsed": "false",
    "hidden": true
   },
   "source": [
    "### Final clean dataset\n",
    "#### Sorted by value of magnetic field"
   ]
  },
  {
   "cell_type": "code",
   "execution_count": 17,
   "metadata": {
    "Collapsed": "false",
    "hidden": true
   },
   "outputs": [],
   "source": [
    "nData = lcf_clean.sort_values(by=['H (T)'],ignore_index=True)\n",
    "# lcf_clean.head()# nData stands for \"neutrons Data\""
   ]
  },
  {
   "cell_type": "markdown",
   "metadata": {
    "Collapsed": "false",
    "hidden": true
   },
   "source": [
    "#### Plot a couple of ENS spectra (ignore after done once)\n",
    "to check consistency between spectra before fitting"
   ]
  },
  {
   "cell_type": "raw",
   "metadata": {
    "Collapsed": "false",
    "hidden": true
   },
   "source": [
    "# Change cell to Raw type in order to avoid running inadvertantly\n",
    "plt.cla()\n",
    "for idx in range(2):\n",
    "    plt.plot(nData.spectra[idx].hh0,nData.spectra[idx].Inorm)"
   ]
  },
  {
   "cell_type": "markdown",
   "metadata": {
    "Collapsed": "true",
    "heading_collapsed": true,
    "hidden": true
   },
   "source": [
    "### Plot entire dataset in 3D\n",
    "as spectrum normalized intensity 'Inorm' vs position in reciprocal space 'hh0' and magnetic field 'H (T)', to check that the field dependence of the data is consistent.\n",
    "#### Ignore after done once\n",
    "Change cells to Raw type in order to avoid running inadvertantly"
   ]
  },
  {
   "cell_type": "markdown",
   "metadata": {
    "Collapsed": "false",
    "hidden": true
   },
   "source": [
    "#### First plot individual spectra in a 3D space"
   ]
  },
  {
   "cell_type": "raw",
   "metadata": {
    "Collapsed": "false",
    "hidden": true
   },
   "source": [
    "fig = plt.figure()\n",
    "ax = plt.axes(projection=\"3d\")\n",
    "for i in range(len(nData)):\n",
    "    H = np.ones(np.shape(nData.spectra[i].hh0))*nData['H (T)'][i]\n",
    "    ax.plot3D(nData.spectra[i].hh0,H,nData.spectra[i].Inorm)\n",
    "del H"
   ]
  },
  {
   "cell_type": "markdown",
   "metadata": {
    "Collapsed": "false",
    "hidden": true
   },
   "source": [
    "#### Then plot 3D color map\n",
    "##### Create meshgrid for 3D color map\n",
    "The mesh can safely be created using hh0 data from the dataset measured at any value of magnetic field, since we've shown [that all hh0 data are the same within the linecut_f dataframe](#hh0_consistency)"
   ]
  },
  {
   "cell_type": "raw",
   "metadata": {
    "Collapsed": "false",
    "hidden": true
   },
   "source": [
    "idx = 0# first dataset, but any row index of nData would do\n",
    "hh0mesh, Hmesh = np.meshgrid(nData.spectra[idx].hh0, nData['H (T)'])\n",
    "hh0lin = hh0mesh.reshape(np.size(hh0mesh))\n",
    "Hlin = Hmesh.reshape(np.size(Hmesh))"
   ]
  },
  {
   "cell_type": "markdown",
   "metadata": {
    "Collapsed": "false",
    "hidden": true
   },
   "source": [
    "##### Create the 2D array that contains the intensity data"
   ]
  },
  {
   "cell_type": "raw",
   "metadata": {
    "Collapsed": "false",
    "hidden": true
   },
   "source": [
    "Imesh = np.stack([nData.spectra[idx].Inorm for idx in range(len(nData))],axis=0)# for mesh\n",
    "Ilin = np.hstack([nData.spectra[idx].Inorm for idx in range(len(nData))])# for griddata"
   ]
  },
  {
   "cell_type": "markdown",
   "metadata": {
    "Collapsed": "false",
    "hidden": true
   },
   "source": [
    "##### Plot the hh0mesh and Hmesh data to see how irregular they are"
   ]
  },
  {
   "cell_type": "raw",
   "metadata": {
    "Collapsed": "false",
    "hidden": true
   },
   "source": [
    "fig = plt.figure()\n",
    "ax = fig.add_subplot(1,1,1)\n",
    "step = 50\n",
    "ax.scatter(hh0mesh[:,::step], Hmesh[:,::step], marker=\".\",s=1)\n",
    "ax.set_xlabel('hh0')\n",
    "ax.set_ylabel('H')\n",
    "plt.show()"
   ]
  },
  {
   "cell_type": "markdown",
   "metadata": {
    "Collapsed": "false",
    "hidden": true
   },
   "source": [
    "##### Conclusion\n",
    "The hh0 data looks pretty regular, however the magnetic field data is not\n",
    "##### Update\n",
    "That should not prevent from plotting in 3D"
   ]
  },
  {
   "cell_type": "markdown",
   "metadata": {
    "Collapsed": "false",
    "hidden": true
   },
   "source": [
    "#### Use griddata to interpolate the intensity data over a regular array"
   ]
  },
  {
   "cell_type": "raw",
   "metadata": {
    "Collapsed": "false",
    "hidden": true
   },
   "source": [
    "Hrange = np.arange(0,1.5,0.005)# regular array of magnetic field values to interpolate on\n",
    "hh0meshInterp, HmeshInterp = np.meshgrid(nData.spectra[idx].hh0, Hrange)# meshgrid for interpolated data\n",
    "Iinterp = griddata(np.array([hh0lin, Hlin]).T, Ilin, (hh0meshInterp, HmeshInterp), method='linear')"
   ]
  },
  {
   "cell_type": "markdown",
   "metadata": {
    "Collapsed": "false",
    "hidden": true
   },
   "source": [
    "#### Plot 3D surface\n",
    "Note: Matplotlib does not do a very good job of plotting the 3D surface when the xlim is not adapted to the range of the data and when there is noise in the data: in our case, it looks like spectra are plotted individually rather than as a continuous surface. When zooming on each peak, the surface looks a little better. Perhaps look for a better 3D visualization tool."
   ]
  },
  {
   "cell_type": "raw",
   "metadata": {
    "Collapsed": "false",
    "hidden": true
   },
   "source": [
    "fig = plt.figure()\n",
    "ax = fig.gca(projection='3d')\n",
    "mesh_select = np.logical_and(hh0mesh > -10.1, hh0mesh < -9.9)\n",
    "# surf = ax.plot_surface(np.where(mesh_select,hh0mesh,np.nan),\n",
    "#                        np.where(mesh_select,Hmesh,np.nan),\n",
    "#                        np.where(mesh_select,Imesh,np.nan),\n",
    "#                        cmap=cm.coolwarm,\n",
    "#                        linewidth=0, antialiased=False)\n",
    "surf = ax.plot_surface(hh0mesh,Hmesh,Imesh, cmap=cm.rainbow)\n",
    "# surf = ax.plot_surface(hh0meshInterp,HmeshInterp,Iinterp, cmap=cm.coolwarm)\n",
    "# ax.zaxis.set_major_locator(LinearLocator(10))\n",
    "# ax.zaxis.set_major_formatter(FormatStrFormatter('%.2g'))\n",
    "plt.xlim(-10.1, -9.9)\n",
    "# Add a color bar which maps values to colors.\n",
    "fig.colorbar(surf, shrink=0.5, aspect=5)\n",
    "plt.show()"
   ]
  },
  {
   "cell_type": "markdown",
   "metadata": {
    "Collapsed": "false",
    "hidden": true
   },
   "source": [
    "#### Matplotlib example of 3D surface plotting"
   ]
  },
  {
   "cell_type": "raw",
   "metadata": {
    "Collapsed": "false",
    "hidden": true
   },
   "source": [
    "fig = plt.figure()\n",
    "ax = fig.gca(projection='3d')\n",
    "\n",
    "# Make data.\n",
    "X = np.arange(-5, 5, 0.25)\n",
    "Y = np.arange(-5, 5, 0.25)\n",
    "X, Y = np.meshgrid(X, Y)\n",
    "R = np.sqrt(X**2 + Y**2)\n",
    "Z = np.sin(R)\n",
    "\n",
    "# Plot the surface.\n",
    "surf = ax.plot_surface(X, Y, Z, cmap=cm.coolwarm,\n",
    "                       linewidth=0, antialiased=False)"
   ]
  },
  {
   "cell_type": "markdown",
   "metadata": {
    "Collapsed": "true",
    "heading_collapsed": true
   },
   "source": [
    "## Fit individual dataset above Hc"
   ]
  },
  {
   "cell_type": "markdown",
   "metadata": {
    "Collapsed": "true",
    "heading_collapsed": true,
    "hidden": true
   },
   "source": [
    "### Define fit functions"
   ]
  },
  {
   "cell_type": "code",
   "execution_count": 31,
   "metadata": {
    "Collapsed": "false",
    "hidden": true
   },
   "outputs": [],
   "source": [
    "def plot_fit_result(x, y, fitresult):\n",
    "    \"\"\"\n",
    "    Plot result of fit using an lmfit Model object\n",
    "    \"\"\"\n",
    "    fig = plt.figure()\n",
    "    plt.plot(x, y, 'bo')\n",
    "    plt.plot(x, fitresult.init_fit, 'k--', label='initial fit')\n",
    "    plt.plot(x, fitresult.best_fit, 'r-', label='best fit')\n",
    "    plt.legend(loc='best')\n",
    "    plt.show()\n",
    "    "
   ]
  },
  {
   "cell_type": "markdown",
   "metadata": {
    "Collapsed": "true",
    "hidden": true
   },
   "source": [
    "#### Attempt to an iteration callback function\n",
    "Does not work as of 2020-04-14"
   ]
  },
  {
   "cell_type": "code",
   "execution_count": 35,
   "metadata": {
    "Collapsed": "false",
    "hidden": true
   },
   "outputs": [],
   "source": [
    "def iter_func(params, iter_num, resid, x):\n",
    "    print(iter_num)\n",
    "    return True"
   ]
  },
  {
   "cell_type": "markdown",
   "metadata": {
    "Collapsed": "true",
    "heading_collapsed": true,
    "hidden": true
   },
   "source": [
    "### Fit example adapted from the lmfit documentation \n",
    "(section \"Modeling Data and Curve Fitting)"
   ]
  },
  {
   "cell_type": "code",
   "execution_count": 30,
   "metadata": {
    "Collapsed": "false",
    "hidden": true
   },
   "outputs": [
    {
     "name": "stdout",
     "output_type": "stream",
     "text": [
      "parameter names: ['amp', 'cen', 'wid']\n",
      "independent variables: ['x']\n"
     ]
    },
    {
     "data": {
      "text/html": [
       "<table><tr><th> name </th><th> value </th><th> initial value </th><th> min </th><th> max </th><th> vary </th></tr><tr><td> amp </td><td>  20.0000000 </td><td> None </td><td>        -inf </td><td>         inf </td><td> True </td></tr><tr><td> cen </td><td>  5.00000000 </td><td> None </td><td>        -inf </td><td>         inf </td><td> True </td></tr><tr><td> wid </td><td>  1.00000000 </td><td> None </td><td>        -inf </td><td>         inf </td><td> True </td></tr></table>"
      ],
      "text/plain": [
       "Parameters([('amp', <Parameter 'amp', value=20, bounds=[-inf:inf]>),\n",
       "            ('cen', <Parameter 'cen', value=5, bounds=[-inf:inf]>),\n",
       "            ('wid', <Parameter 'wid', value=1, bounds=[-inf:inf]>)])"
      ]
     },
     "execution_count": 30,
     "metadata": {},
     "output_type": "execute_result"
    }
   ],
   "source": [
    "def gaussian(x, amp, cen, wid):\n",
    "    return amp * np.exp(-(x-cen)**2 / wid)\n",
    "gmodel = Model(gaussian)\n",
    "print('parameter names: {}'.format(gmodel.param_names))\n",
    "print('independent variables: {}'.format(gmodel.independent_vars))\n",
    "gparams = gmodel.make_params(cen=5, amp=20, wid=1)\n",
    "gparams"
   ]
  },
  {
   "cell_type": "code",
   "execution_count": 31,
   "metadata": {
    "Collapsed": "false",
    "hidden": true
   },
   "outputs": [
    {
     "name": "stdout",
     "output_type": "stream",
     "text": [
      "[[Model]]\n",
      "    Model(gaussian)\n",
      "[[Fit Statistics]]\n",
      "    # fitting method   = leastsq\n",
      "    # function evals   = 17\n",
      "    # data points      = 101\n",
      "    # variables        = 3\n",
      "    chi-square         = 8.43330605\n",
      "    reduced chi-square = 0.08605414\n",
      "    Akaike info crit   = -244.776096\n",
      "    Bayesian info crit = -236.930735\n",
      "[[Variables]]\n",
      "    amp:  19.9229410 +/- 0.10155032 (0.51%) (init = 5)\n",
      "    cen:  4.99454353 +/- 0.00415645 (0.08%) (init = 5)\n",
      "    wid:  0.99742555 +/- 0.01174109 (1.18%) (init = 1)\n",
      "[[Correlations]] (unreported correlations are < 0.100)\n",
      "    C(amp, wid) = -0.577\n"
     ]
    }
   ],
   "source": [
    "x = np.linspace(0,10,101)\n",
    "noise = np.random.rand(101)-0.5\n",
    "y = gaussian(x,amp=20,cen=5,wid=1)+noise\n",
    "# fig = plt.figure()\n",
    "# plt.plot(x, y)\n",
    "# plt.show()\n",
    "result = gmodel.fit(y, x=x, amp=5, cen=5, wid=1)\n",
    "print(result.fit_report())\n",
    "plot_fit_result(x, y, result)"
   ]
  },
  {
   "cell_type": "markdown",
   "metadata": {
    "Collapsed": "false",
    "heading_collapsed": true,
    "hidden": true
   },
   "source": [
    "### General parameters for our problem"
   ]
  },
  {
   "cell_type": "code",
   "execution_count": 34,
   "metadata": {
    "Collapsed": "false",
    "hidden": true
   },
   "outputs": [],
   "source": [
    "peak_center = -8.0# center of unsplit peak to be studied in the following, in reciprocal space units\n",
    "npeak_interval = .15# half of plot interval\n",
    "Hc_0 = 0.51# value in Tesla units of the critical field at zero temperature\n",
    "# in the absence of demagnetizing factor\n",
    "# see data taken on needles of TmVO4-LS5200 in July 2017"
   ]
  },
  {
   "cell_type": "markdown",
   "metadata": {
    "Collapsed": "false",
    "hidden": true
   },
   "source": [
    "### Single-peak fit with single pVIC function on single spectrum\n",
    "measured above Hc, where the peaks are unsplit"
   ]
  },
  {
   "cell_type": "markdown",
   "metadata": {
    "Collapsed": "true",
    "hidden": true
   },
   "source": [
    "#### Select data"
   ]
  },
  {
   "cell_type": "code",
   "execution_count": 37,
   "metadata": {
    "Collapsed": "false",
    "hidden": true
   },
   "outputs": [
    {
     "data": {
      "text/plain": [
       "1940   -8.14875\n",
       "1941   -8.14625\n",
       "1942   -8.14375\n",
       "1943   -8.14125\n",
       "1944   -8.13875\n",
       "Name: hh0, dtype: float64"
      ]
     },
     "execution_count": 37,
     "metadata": {},
     "output_type": "execute_result"
    }
   ],
   "source": [
    "dat_idx = 100\n",
    "data_select = np.logical_and(nData.spectra[dat_idx].hh0 > peak_center - npeak_interval, \n",
    "                             nData.spectra[dat_idx].hh0 < peak_center + npeak_interval)\n",
    "X = nData.spectra[dat_idx].hh0[data_select]# select data for first fit\n",
    "Yfitdata = nData.spectra[dat_idx].Inorm[data_select]\n",
    "X.head()"
   ]
  },
  {
   "cell_type": "markdown",
   "metadata": {
    "Collapsed": "false",
    "hidden": true
   },
   "source": [
    "#### Perform fit with Gaussian model as a first try"
   ]
  },
  {
   "cell_type": "code",
   "execution_count": 33,
   "metadata": {
    "Collapsed": "false",
    "hidden": true
   },
   "outputs": [
    {
     "name": "stdout",
     "output_type": "stream",
     "text": [
      "[[Model]]\n",
      "    Model(gaussian)\n",
      "[[Fit Statistics]]\n",
      "    # fitting method   = leastsq\n",
      "    # function evals   = 33\n",
      "    # data points      = 120\n",
      "    # variables        = 3\n",
      "    chi-square         = 2.6305e+12\n",
      "    reduced chi-square = 2.2483e+10\n",
      "    Akaike info crit   = 2863.28327\n",
      "    Bayesian info crit = 2871.64575\n",
      "[[Variables]]\n",
      "    amp:  4232624.39 +/- 61044.4590 (1.44%) (init = 4000000)\n",
      "    cen: -7.99724868 +/- 2.1258e-04 (0.00%) (init = -8)\n",
      "    wid:  3.2588e-04 +/- 1.0854e-05 (3.33%) (init = 0.001)\n",
      "[[Correlations]] (unreported correlations are < 0.100)\n",
      "    C(amp, wid) = -0.577\n"
     ]
    }
   ],
   "source": [
    "np.seterr(all='warn')# Set how floating-point errors are handled\n",
    "# Setting warnings will help identify computation issues that may result in an unsuccessful fitting procedure\n",
    "ngparams = gmodel.make_params(cen=peak_center, amp=4e6, wid=1e-3)\n",
    "# Yeval = gmodel.eval(ngparams,x=X)# evaluate model using initial parameters\n",
    "result = gmodel.fit(data=Yfitdata, params=ngparams, x=X)\n",
    "print(result.fit_report())\n",
    "plot_fit_result(X, Yfitdata, result)"
   ]
  },
  {
   "cell_type": "markdown",
   "metadata": {
    "Collapsed": "false",
    "hidden": true
   },
   "source": [
    "#### Single pVIC fit model"
   ]
  },
  {
   "cell_type": "markdown",
   "metadata": {
    "Collapsed": "false",
    "hidden": true
   },
   "source": [
    "##### Make model from fit function"
   ]
  },
  {
   "cell_type": "code",
   "execution_count": 32,
   "metadata": {
    "Collapsed": "false",
    "hidden": true
   },
   "outputs": [
    {
     "name": "stdout",
     "output_type": "stream",
     "text": [
      "parameter names: ['A', 'alpha', 'beta', 'R', 'gamma', 'sigma', 'k', 'xp']\n",
      "independent variables: ['x']\n"
     ]
    }
   ],
   "source": [
    "from ENS_peak_fit_pVIC_py.pseudoVoigtIkedaCarpenter import pVIC, xpVIC_residual, xpVIC_init_prm\n",
    "pvic_model = Model(pVIC)# create Model object from the lmfit module\n",
    "print(f'parameter names: {pvic_model.param_names}')\n",
    "print(f'independent variables: {pvic_model.independent_vars}')"
   ]
  },
  {
   "cell_type": "markdown",
   "metadata": {
    "Collapsed": "false",
    "hidden": true
   },
   "source": [
    "#### Fit parameters\n",
    "##### Create fit parameters and specify their properties\n",
    "including initial values, constraints, etc."
   ]
  },
  {
   "cell_type": "code",
   "execution_count": 35,
   "metadata": {
    "Collapsed": "false",
    "hidden": true
   },
   "outputs": [
    {
     "data": {
      "text/html": [
       "<table><tr><th> name </th><th> value </th><th> initial value </th><th> min </th><th> max </th><th> vary </th></tr><tr><td> A </td><td>  200000.000 </td><td> None </td><td>  0.00000000 </td><td>         inf </td><td> True </td></tr><tr><td> alpha </td><td>  140.000000 </td><td> None </td><td>  0.00000000 </td><td>         inf </td><td> True </td></tr><tr><td> beta </td><td>  1.0000e-03 </td><td> None </td><td>  0.00000000 </td><td>         inf </td><td> True </td></tr><tr><td> R </td><td>  1.0000e-03 </td><td> None </td><td>  0.00000000 </td><td>         inf </td><td> True </td></tr><tr><td> gamma </td><td>  1.0000e-03 </td><td> None </td><td>  0.00000000 </td><td>         inf </td><td> True </td></tr><tr><td> sigma </td><td>  0.00660000 </td><td> None </td><td>  0.00000000 </td><td>         inf </td><td> True </td></tr><tr><td> k </td><td>  0.05000000 </td><td> None </td><td>  0.00000000 </td><td>         inf </td><td> False </td></tr><tr><td> xp </td><td> -8.00000000 </td><td> None </td><td>        -inf </td><td>         inf </td><td> True </td></tr></table>"
      ],
      "text/plain": [
       "Parameters([('A', <Parameter 'A', value=200000.0, bounds=[0:inf]>),\n",
       "            ('alpha', <Parameter 'alpha', value=140, bounds=[0:inf]>),\n",
       "            ('beta', <Parameter 'beta', value=0.001, bounds=[0:inf]>),\n",
       "            ('R', <Parameter 'R', value=0.001, bounds=[0:inf]>),\n",
       "            ('gamma', <Parameter 'gamma', value=0.001, bounds=[0:inf]>),\n",
       "            ('sigma', <Parameter 'sigma', value=0.0066, bounds=[0:inf]>),\n",
       "            ('k', <Parameter 'k', value=0.05 (fixed), bounds=[0:inf]>),\n",
       "            ('xp', <Parameter 'xp', value=-8.0, bounds=[-inf:inf]>)])"
      ]
     },
     "execution_count": 35,
     "metadata": {},
     "output_type": "execute_result"
    }
   ],
   "source": [
    "pvic_params = pvic_model.make_params(A=2e5, alpha=140, beta=1e-3, R=1e-3, \n",
    "                                     gamma=1e-3, sigma=6.6e-3, k=.05, xp=peak_center)\n",
    "# Yfitdata = nData.spectra[0].Inorm\n",
    "# pvic_params = pvic_model.guess(Yfitdata)# returns NotImplementedError\n",
    "for k in pvic_params.keys():\n",
    "    pvic_params[k].set(min=0, vary=True)\n",
    "#     pvic_params[k].init_value = pvic_params[k].value\n",
    "#     print(k)\n",
    "pvic_params['xp'].set(min=-np.inf)\n",
    "pvic_params['k'].vary = False\n",
    "pvic_params"
   ]
  },
  {
   "cell_type": "markdown",
   "metadata": {
    "Collapsed": "true",
    "hidden": true
   },
   "source": [
    "#### Evaluate fit function"
   ]
  },
  {
   "cell_type": "code",
   "execution_count": 38,
   "metadata": {
    "Collapsed": "false",
    "hidden": true
   },
   "outputs": [],
   "source": [
    "np.seterr(all='warn')# Set how floating-point errors are handled\n",
    "Yeval = pvic_model.eval(pvic_params,x=X)# evaluate model using initial parameters\n",
    "fig = plt.figure()\n",
    "plt.plot(X,Yeval)\n",
    "plt.plot(X,Yfitdata)\n",
    "plt.show()"
   ]
  },
  {
   "cell_type": "markdown",
   "metadata": {
    "Collapsed": "true",
    "hidden": true
   },
   "source": [
    "#### Next steps as of 2020-04-14\n",
    "* Play with values of beta to get best fit result; in particular, let beta vary (with max value of 800?)\n",
    "* Is there a way to output the adjusted R**2 of the fit?"
   ]
  },
  {
   "cell_type": "markdown",
   "metadata": {
    "Collapsed": "false",
    "hidden": true
   },
   "source": [
    "#### Narrowing down the number of free parameters"
   ]
  },
  {
   "cell_type": "markdown",
   "metadata": {
    "Collapsed": "false",
    "hidden": true
   },
   "source": [
    "##### 7 free parameters\n",
    "all but k"
   ]
  },
  {
   "cell_type": "code",
   "execution_count": 124,
   "metadata": {
    "Collapsed": "false",
    "hidden": true
   },
   "outputs": [
    {
     "name": "stdout",
     "output_type": "stream",
     "text": [
      "[[Model]]\n",
      "    Model(pVIC)\n",
      "[[Fit Statistics]]\n",
      "    # fitting method   = leastsq\n",
      "    # function evals   = 95\n",
      "    # data points      = 120\n",
      "    # variables        = 5\n",
      "    chi-square         = 3.3204e+11\n",
      "    reduced chi-square = 2.8873e+09\n",
      "    Akaike info crit   = 2618.92465\n",
      "    Bayesian info crit = 2632.86211\n",
      "[[Variables]]\n",
      "    A:      139800.679 +/- 1060.80779 (0.76%) (init = 200000)\n",
      "    alpha:  130.275459 +/- 1.93231449 (1.48%) (init = 140)\n",
      "    beta:   1e-10 (fixed)\n",
      "    R:      0 (fixed)\n",
      "    gamma:  2.2694e-07 +/- 1.8336e-04 (80796.03%) (init = 0.001)\n",
      "    sigma:  0.00596552 +/- 2.3801e-04 (3.99%) (init = 0.0066)\n",
      "    k:      0.05 (fixed)\n",
      "    xp:    -8.01731207 +/- 2.3160e-04 (0.00%) (init = -8)\n",
      "[[Correlations]] (unreported correlations are < 0.100)\n",
      "    C(alpha, xp)    =  0.949\n",
      "    C(A, gamma)     =  0.722\n",
      "    C(gamma, sigma) = -0.480\n",
      "    C(alpha, sigma) =  0.452\n",
      "    C(sigma, xp)    =  0.444\n",
      "    C(alpha, gamma) =  0.394\n",
      "    C(gamma, xp)    =  0.355\n",
      "    C(A, sigma)     = -0.346\n"
     ]
    }
   ],
   "source": [
    "pvic_params['beta'].set(value=1e-10, vary=False)\n",
    "pvic_params['R'].set(value=0, vary=False)\n",
    "# pvic_params\n",
    "result = pvic_model.fit(data=Yfitdata, params=pvic_params, x=X)\n",
    "print(result.fit_report())\n",
    "plot_fit_result(X, Yfitdata, result)"
   ]
  },
  {
   "cell_type": "markdown",
   "metadata": {
    "Collapsed": "false",
    "hidden": true
   },
   "source": [
    "The above yields too many correlations between parameters\n",
    "The resulting plot also has an unphysical dip in the resulting fit function"
   ]
  },
  {
   "cell_type": "markdown",
   "metadata": {
    "Collapsed": "false",
    "hidden": true
   },
   "source": [
    "##### 6 free parameters"
   ]
  },
  {
   "cell_type": "code",
   "execution_count": 66,
   "metadata": {
    "Collapsed": "false",
    "hidden": true
   },
   "outputs": [
    {
     "name": "stdout",
     "output_type": "stream",
     "text": [
      "[[Model]]\n",
      "    Model(pVIC)\n",
      "[[Fit Statistics]]\n",
      "    # fitting method   = leastsq\n",
      "    # function evals   = 105\n",
      "    # data points      = 120\n",
      "    # variables        = 5\n",
      "    chi-square         = 3.3204e+11\n",
      "    reduced chi-square = 2.8873e+09\n",
      "    Akaike info crit   = 2618.92398\n",
      "    Bayesian info crit = 2632.86144\n",
      "[[Variables]]\n",
      "    A:      139800.970 +/- 832.210128 (0.60%) (init = 200000)\n",
      "    alpha:  130.269301 +/- 1.82009419 (1.40%) (init = 140)\n",
      "    beta:   1e-10 (fixed)\n",
      "    R:      0 (fixed)\n",
      "    gamma:  1.0779e-07 +/- 1.4438e-04 (133947.70%) (init = 0.001)\n",
      "    sigma:  0.00596479 +/- 2.2440e-04 (3.76%) (init = 0.0066)\n",
      "    k:      0.05 (fixed)\n",
      "    x0:    -8.01731281 +/- 2.1916e-04 (0.00%) (init = -8)\n",
      "[[Correlations]] (unreported correlations are < 0.100)\n",
      "    C(alpha, x0)    =  0.942\n",
      "    C(alpha, sigma) =  0.641\n",
      "    C(sigma, x0)    =  0.631\n",
      "    C(A, gamma)     =  0.472\n",
      "    C(gamma, sigma) = -0.366\n",
      "    C(A, x0)        = -0.227\n",
      "    C(alpha, gamma) =  0.219\n",
      "    C(A, alpha)     = -0.212\n",
      "    C(A, sigma)     = -0.173\n",
      "    C(gamma, x0)    =  0.156\n"
     ]
    },
    {
     "data": {
      "text/plain": [
       "Text(0.5, 1.0, \"5 free parameters: ['A', 'alpha', 'gamma', 'sigma', 'x0']\")"
      ]
     },
     "execution_count": 66,
     "metadata": {},
     "output_type": "execute_result"
    }
   ],
   "source": [
    "pvic_params['beta'].set(value=1e-10, vary=False)\n",
    "pvic_params['R'].set(value=0, vary=False)\n",
    "result = pvic_model.fit(data=Yfitdata, params=pvic_params, x=X)\n",
    "print(result.fit_report())\n",
    "plot_fit_result(X, Yfitdata, result)\n",
    "freeParams = [k for k in list(pvic_params.keys()) if pvic_params[k].vary==True]\n",
    "plt.title(f\"{len(freeParams)} free parameters: {freeParams}\")"
   ]
  },
  {
   "cell_type": "markdown",
   "metadata": {
    "Collapsed": "false",
    "heading_collapsed": true
   },
   "source": [
    "## Batch fit data above Hc \n",
    "to determine the values of shared parameters"
   ]
  },
  {
   "cell_type": "markdown",
   "metadata": {
    "Collapsed": "false",
    "hidden": true
   },
   "source": [
    "### Import fit function and make an lmfit model out of it"
   ]
  },
  {
   "cell_type": "code",
   "execution_count": 18,
   "metadata": {
    "Collapsed": "false",
    "hidden": true
   },
   "outputs": [
    {
     "name": "stdout",
     "output_type": "stream",
     "text": [
      "parameter names: ['A', 'alpha', 'beta', 'R', 'gamma', 'sigma', 'k', 'xp']\n",
      "independent variables: ['x']\n"
     ]
    }
   ],
   "source": [
    "from ENS_peak_fit_pVIC_py.pseudoVoigtIkedaCarpenter import pVIC, xpVIC_residual, xpVIC_init_prm, xnpVIC_init_prm\n",
    "pvic_model = Model(pVIC)# create Model object from the lmfit module\n",
    "print(f'parameter names: {pvic_model.param_names}')\n",
    "print(f'independent variables: {pvic_model.independent_vars}')"
   ]
  },
  {
   "cell_type": "markdown",
   "metadata": {
    "Collapsed": "false",
    "hidden": true
   },
   "source": [
    "### Batch fitting functions"
   ]
  },
  {
   "cell_type": "code",
   "execution_count": 129,
   "metadata": {
    "Collapsed": "false",
    "hidden": true,
    "scrolled": true
   },
   "outputs": [],
   "source": [
    "from ENS_peak_fit_pVIC_py.batch_pVIC_fitting import fixSharedParams\n",
    "from ENS_peak_fit_pVIC_py.xpvic_fit_cls import xpvic_fit"
   ]
  },
  {
   "cell_type": "markdown",
   "metadata": {
    "Collapsed": "false",
    "hidden": true
   },
   "source": [
    "### Batch fitting of single peak spectra with single pVIC function\n",
    "above Hc\n",
    "\n",
    "This will help fix the value of the parameters shared by all spectra, i.e. alpha, beta, R, gamma and sigma"
   ]
  },
  {
   "cell_type": "markdown",
   "metadata": {
    "Collapsed": "true",
    "heading_collapsed": true,
    "hidden": true
   },
   "source": [
    "#### Create fit parameters and specify their properties\n",
    "including initial values, constraints, etc.\n",
    "Note: when all pVIC parameters (except k) are free, the fit is very sensitive to initial values and can easily produce NaN numbers.\n",
    "The following initial parameters appear to yield a result without raising any error:\n",
    "A=2e5, alpha=140, beta=1e-3, R=1e-3, gamma=1e-3, sigma=6.6e-3, k=.05, xp=peak_center"
   ]
  },
  {
   "cell_type": "code",
   "execution_count": 20,
   "metadata": {
    "Collapsed": "false",
    "hidden": true
   },
   "outputs": [
    {
     "data": {
      "text/html": [
       "<table><tr><th> name </th><th> value </th><th> initial value </th><th> min </th><th> max </th><th> vary </th></tr><tr><td> A </td><td>  200000.000 </td><td> None </td><td>  0.00000000 </td><td>         inf </td><td> True </td></tr><tr><td> alpha </td><td>  140.000000 </td><td> None </td><td>  0.00000000 </td><td>         inf </td><td> True </td></tr><tr><td> beta </td><td>  1.0000e-03 </td><td> None </td><td>  0.00000000 </td><td>         inf </td><td> True </td></tr><tr><td> R </td><td>  1.0000e-03 </td><td> None </td><td>  0.00000000 </td><td>         inf </td><td> True </td></tr><tr><td> gamma </td><td>  1.0000e-03 </td><td> None </td><td>  0.00000000 </td><td>         inf </td><td> True </td></tr><tr><td> sigma </td><td>  0.00660000 </td><td> None </td><td>  0.00000000 </td><td>         inf </td><td> True </td></tr><tr><td> k </td><td>  0.05000000 </td><td> None </td><td>  0.00000000 </td><td>         inf </td><td> False </td></tr><tr><td> xp </td><td> -8.00000000 </td><td> None </td><td>        -inf </td><td>         inf </td><td> True </td></tr></table>"
      ],
      "text/plain": [
       "Parameters([('A', <Parameter 'A', value=200000.0, bounds=[0:inf]>),\n",
       "            ('alpha', <Parameter 'alpha', value=140, bounds=[0:inf]>),\n",
       "            ('beta', <Parameter 'beta', value=0.001, bounds=[0:inf]>),\n",
       "            ('R', <Parameter 'R', value=0.001, bounds=[0:inf]>),\n",
       "            ('gamma', <Parameter 'gamma', value=0.001, bounds=[0:inf]>),\n",
       "            ('sigma', <Parameter 'sigma', value=0.0066, bounds=[0:inf]>),\n",
       "            ('k', <Parameter 'k', value=0.05 (fixed), bounds=[0:inf]>),\n",
       "            ('xp', <Parameter 'xp', value=-8.0, bounds=[-inf:inf]>)])"
      ]
     },
     "execution_count": 20,
     "metadata": {},
     "output_type": "execute_result"
    }
   ],
   "source": [
    "pvic_params = pvic_model.make_params(A=2e5, alpha=140, beta=1e-3, R=1e-3, \n",
    "                                     gamma=1e-3, sigma=6.6e-3, k=.05, xp=-8.)\n",
    "for k in pvic_params.keys():\n",
    "    pvic_params[k].set(min=0, vary=True)\n",
    "pvic_params['xp'].set(min=-np.inf)\n",
    "pvic_params['k'].vary = False\n",
    "pvic_params"
   ]
  },
  {
   "cell_type": "markdown",
   "metadata": {
    "Collapsed": "false",
    "heading_collapsed": true,
    "hidden": true
   },
   "source": [
    "#### Create xpvic_fit object and fit with all shared parameters free"
   ]
  },
  {
   "cell_type": "code",
   "execution_count": 62,
   "metadata": {
    "Collapsed": "false",
    "hidden": true
   },
   "outputs": [],
   "source": [
    "def initXpvicFit(fitObjStr, data, ref_params, h, fit_interval, data_range):\n",
    "    \n",
    "    ref_params['xp'].value = -float(h)\n",
    "    fitKey = f\"{h}_{len(data_range)}\" \n",
    "\n",
    "    # Create a dictionary that will contain xpvic_fit objects, if it doesn't exist yet\n",
    "    if fitObjStr in globals() and type(eval(fitObjStr)) is dict:\n",
    "        xFit = eval(fitObjStr)\n",
    "    else:\n",
    "        xFit = {}\n",
    "\n",
    "    if fitKey not in xFit.keys():\n",
    "        # List of fit objects\n",
    "        xFit[fitKey] = [xpvic_fit(data, ref_params, h, fit_interval, data_range)]\n",
    "        xFit[fitKey][0].initParams()\n",
    "\n",
    "    if not hasattr(xFit[fitKey][0], 'result'):\n",
    "        xFit[fitKey][0].performFit(with_weights=True)\n",
    "    \n",
    "    return xFit"
   ]
  },
  {
   "cell_type": "code",
   "execution_count": 63,
   "metadata": {
    "hidden": true,
    "scrolled": true
   },
   "outputs": [],
   "source": [
    "fit_intervals = {6:[-.03, .15], 8:[-.1, .1], 10:[-.15, .15]}#\n",
    "data_range = range(len(nData)-10, len(nData))\n",
    "\n",
    "for h in [8]:\n",
    "    xwFit = initXpvicFit('xwFit', nData, pvic_params, h, fit_intervals[h], data_range)"
   ]
  },
  {
   "cell_type": "markdown",
   "metadata": {
    "Collapsed": "false",
    "hidden": true
   },
   "source": [
    "#### Iteratively fix parameters shared between all datasets and recompute fit accordingly\n",
    "The huge variability on R and beta seen when leaving those free implies that they play little role on the fit, so let's fix them both to zero.\n",
    "Actually, beta=0 generates NaN data (not sure why) so let's fix it to 1e-10\n",
    "For all other parameters, fix them to the best value obtained from the previous fit"
   ]
  },
  {
   "cell_type": "code",
   "execution_count": 40,
   "metadata": {
    "hidden": true
   },
   "outputs": [],
   "source": []
  },
  {
   "cell_type": "code",
   "execution_count": 64,
   "metadata": {
    "Collapsed": "false",
    "hidden": true
   },
   "outputs": [],
   "source": [
    "def findBestSharedParams(fitObjStr, data, ref_params, h, fit_interval, data_range, recompute=False):\n",
    "\n",
    "    # Create list of dictionaries containing the names of parameters to fix at each iteration\n",
    "    fitKey = f\"{h}_{len(data_range)}\"\n",
    "    freeSharedParams = ['alpha', 'beta', 'R', 'gamma', 'sigma']\n",
    "#     ref_params['xp'].value = -float(h)\n",
    "\n",
    "    # Initialize fit object if it doesn't exist yet\n",
    "    xFit = initXpvicFit(fitObjStr, data, ref_params, h, fit_interval, data_range)\n",
    "\n",
    "    # Loop to fix shared parameters and refit the data\n",
    "    for idx in range(1,5):\n",
    "\n",
    "        # When all shared parameters have been fixed, stop loop\n",
    "        if len(freeSharedParams)==0:\n",
    "            break\n",
    "\n",
    "        # If necessary, create fit object and append it to fit dictionary\n",
    "        if len(xFit[fitKey]) < idx+1:\n",
    "            xFit[fitKey].append(xpvic_fit(data, ref_params, h, fit_intervals[h], data_range))\n",
    "        \n",
    "        freeSharedParams, fixedParams = fixSharedParams(freeSharedParams, xFit[fitKey][idx-1].result)\n",
    "        print(f\"Iteration #{idx} of peak at ({h} {h} 0)\")\n",
    "        print(f\"Free shared parameter: {freeSharedParams}\")\n",
    "        print(f\"Fixed shared parameters: {fixedParams}\\n\")\n",
    "\n",
    "        if hasattr(xFit[fitKey][idx], 'result') and recompute is False :\n",
    "            continue\n",
    "\n",
    "        # create and initialize lmfit Parameters object using results of previous fit\n",
    "        xFit[fitKey][idx].initParams(resultParams=xFit[fitKey][idx-1].result.params)\n",
    "    #     xFit[fitKey][idx].initParams(resultParams=xFit['8_10'][2].result.params)\n",
    "\n",
    "        for key, value in fixedParams.items():\n",
    "            xFit[fitKey][idx].init_params[key].vary = False\n",
    "            if value is not None:\n",
    "                xFit[fitKey][idx].init_params[key].value = value\n",
    "\n",
    "        # Compute the number of free shared parameters \n",
    "        xFit[fitKey][idx].freeSharedPrms = xFit[fitKey][idx-1].freeSharedPrms - len(fixedParams)\n",
    "\n",
    "        # Perform fit\n",
    "        xFit[fitKey][idx].performFit()\n",
    "\n",
    "    return xFit"
   ]
  },
  {
   "cell_type": "code",
   "execution_count": 142,
   "metadata": {
    "hidden": true,
    "scrolled": true
   },
   "outputs": [
    {
     "name": "stdout",
     "output_type": "stream",
     "text": [
      "Iteration #1 of peak at (6 6 0)\n",
      "Free shared parameter: ['alpha', 'gamma', 'sigma']\n",
      "Fixed shared parameters: {'R': 1e-10, 'beta': 1e-10}\n",
      "\n",
      "Iteration #2 of peak at (6 6 0)\n",
      "Free shared parameter: []\n",
      "Fixed shared parameters: {'alpha': None, 'gamma': None, 'sigma': None}\n",
      "\n"
     ]
    }
   ],
   "source": [
    "for h in [6]:\n",
    "    xwFit = findBestSharedParams('xwFit', nData, pvic_params, h, fit_intervals[h], data_range, recompute=False)"
   ]
  },
  {
   "cell_type": "markdown",
   "metadata": {
    "heading_collapsed": true,
    "hidden": true
   },
   "source": [
    "#### Results of weighted fit with 10 datasets on (8 8 0) peak "
   ]
  },
  {
   "cell_type": "code",
   "execution_count": 66,
   "metadata": {
    "Collapsed": "false",
    "hidden": true,
    "scrolled": true
   },
   "outputs": [
    {
     "data": {
      "text/html": [
       "<h2>Fit Statistics</h2><table><tr><td>fitting method</td><td>leastsq</td><td></td></tr><tr><td># function evals</td><td>427</td><td></td></tr><tr><td># data points</td><td>800</td><td></td></tr><tr><td># variables</td><td>25</td><td></td></tr><tr><td>chi-square</td><td> 1190.76968</td><td></td></tr><tr><td>reduced chi-square</td><td> 1.53647700</td><td></td></tr><tr><td>Akaike info crit.</td><td> 368.194750</td><td></td></tr><tr><td>Bayesian info crit.</td><td> 485.310043</td><td></td></tr></table><h2>Variables</h2><table><tr><th> name </th><th> value </th><th> standard error </th><th> relative error </th><th> initial value </th><th> min </th><th> max </th><th> vary </th></tr><tr><td> A92_0 </td><td>  152901.899 </td><td>  1561889.31 </td><td> (1021.50%) </td><td> 200000.0 </td><td>  0.00000000 </td><td>         inf </td><td> True </td></tr><tr><td> alpha </td><td>  125.425080 </td><td>  0.92163519 </td><td> (0.73%) </td><td> 140 </td><td>  0.00000000 </td><td>         inf </td><td> True </td></tr><tr><td> beta </td><td>  0.28960790 </td><td>  69.4052854 </td><td> (23965.26%) </td><td> 0.001 </td><td>  0.00000000 </td><td>         inf </td><td> True </td></tr><tr><td> R </td><td>  0.04404835 </td><td>  9.78918134 </td><td> (22223.72%) </td><td> 0.001 </td><td>  0.00000000 </td><td>         inf </td><td> True </td></tr><tr><td> gamma </td><td>  2.3161e-04 </td><td>  2.5255e-05 </td><td> (10.90%) </td><td> 0.001 </td><td>  0.00000000 </td><td>         inf </td><td> True </td></tr><tr><td> sigma </td><td>  0.00492824 </td><td>  9.8283e-05 </td><td> (1.99%) </td><td> 0.0066 </td><td>  0.00000000 </td><td>         inf </td><td> True </td></tr><tr><td> k </td><td>  0.05000000 </td><td>  0.00000000 </td><td> (0.00%) </td><td> 0.05 </td><td>  0.00000000 </td><td>         inf </td><td> False </td></tr><tr><td> xp92_0 </td><td> -8.01794775 </td><td>  1.6759e-04 </td><td> (0.00%) </td><td> -8.0 </td><td>        -inf </td><td>         inf </td><td> True </td></tr><tr><td> A93_0 </td><td>  154479.642 </td><td>  1578038.81 </td><td> (1021.52%) </td><td> 200000.0 </td><td>  0.00000000 </td><td>         inf </td><td> True </td></tr><tr><td> xp93_0 </td><td> -8.01805235 </td><td>  1.6643e-04 </td><td> (0.00%) </td><td> -8.0 </td><td>        -inf </td><td>         inf </td><td> True </td></tr><tr><td> A94_0 </td><td>  152591.338 </td><td>  1558696.74 </td><td> (1021.48%) </td><td> 200000.0 </td><td>  0.00000000 </td><td>         inf </td><td> True </td></tr><tr><td> xp94_0 </td><td> -8.01800428 </td><td>  1.6369e-04 </td><td> (0.00%) </td><td> -8.0 </td><td>        -inf </td><td>         inf </td><td> True </td></tr><tr><td> A95_0 </td><td>  150118.074 </td><td>  1533412.16 </td><td> (1021.47%) </td><td> 200000.0 </td><td>  0.00000000 </td><td>         inf </td><td> True </td></tr><tr><td> xp95_0 </td><td> -8.01799412 </td><td>  1.6720e-04 </td><td> (0.00%) </td><td> -8.0 </td><td>        -inf </td><td>         inf </td><td> True </td></tr><tr><td> A96_0 </td><td>  151054.888 </td><td>  1543000.72 </td><td> (1021.48%) </td><td> 200000.0 </td><td>  0.00000000 </td><td>         inf </td><td> True </td></tr><tr><td> xp96_0 </td><td> -8.01784366 </td><td>  1.6689e-04 </td><td> (0.00%) </td><td> -8.0 </td><td>        -inf </td><td>         inf </td><td> True </td></tr><tr><td> A97_0 </td><td>  149121.243 </td><td>  1523249.33 </td><td> (1021.48%) </td><td> 200000.0 </td><td>  0.00000000 </td><td>         inf </td><td> True </td></tr><tr><td> xp97_0 </td><td> -8.01763671 </td><td>  1.6916e-04 </td><td> (0.00%) </td><td> -8.0 </td><td>        -inf </td><td>         inf </td><td> True </td></tr><tr><td> A98_0 </td><td>  148841.525 </td><td>  1520447.25 </td><td> (1021.52%) </td><td> 200000.0 </td><td>  0.00000000 </td><td>         inf </td><td> True </td></tr><tr><td> xp98_0 </td><td> -8.01757656 </td><td>  1.7423e-04 </td><td> (0.00%) </td><td> -8.0 </td><td>        -inf </td><td>         inf </td><td> True </td></tr><tr><td> A99_0 </td><td>  148680.961 </td><td>  1518764.44 </td><td> (1021.49%) </td><td> 200000.0 </td><td>  0.00000000 </td><td>         inf </td><td> True </td></tr><tr><td> xp99_0 </td><td> -8.01779696 </td><td>  1.6727e-04 </td><td> (0.00%) </td><td> -8.0 </td><td>        -inf </td><td>         inf </td><td> True </td></tr><tr><td> A100_0 </td><td>  146419.689 </td><td>  1495694.93 </td><td> (1021.51%) </td><td> 200000.0 </td><td>  0.00000000 </td><td>         inf </td><td> True </td></tr><tr><td> xp100_0 </td><td> -8.01789896 </td><td>  1.6958e-04 </td><td> (0.00%) </td><td> -8.0 </td><td>        -inf </td><td>         inf </td><td> True </td></tr><tr><td> A101_0 </td><td>  143559.816 </td><td>  1466450.80 </td><td> (1021.49%) </td><td> 200000.0 </td><td>  0.00000000 </td><td>         inf </td><td> True </td></tr><tr><td> xp101_0 </td><td> -8.01774103 </td><td>  1.6968e-04 </td><td> (0.00%) </td><td> -8.0 </td><td>        -inf </td><td>         inf </td><td> True </td></tr></table><h2>Correlations (unreported correlations are < 0.100)</h2><table><tr><td>R</td><td>A93_0</td><td>1.0000</td></tr><tr><td>R</td><td>A94_0</td><td>1.0000</td></tr><tr><td>R</td><td>A96_0</td><td>1.0000</td></tr><tr><td>R</td><td>A95_0</td><td>1.0000</td></tr><tr><td>A92_0</td><td>R</td><td>1.0000</td></tr><tr><td>R</td><td>A99_0</td><td>1.0000</td></tr><tr><td>R</td><td>A97_0</td><td>1.0000</td></tr><tr><td>R</td><td>A100_0</td><td>1.0000</td></tr><tr><td>R</td><td>A101_0</td><td>1.0000</td></tr><tr><td>R</td><td>A98_0</td><td>1.0000</td></tr><tr><td>A93_0</td><td>A94_0</td><td>1.0000</td></tr><tr><td>A93_0</td><td>A96_0</td><td>1.0000</td></tr><tr><td>A93_0</td><td>A95_0</td><td>1.0000</td></tr><tr><td>A92_0</td><td>A93_0</td><td>1.0000</td></tr><tr><td>A93_0</td><td>A99_0</td><td>1.0000</td></tr><tr><td>A93_0</td><td>A97_0</td><td>1.0000</td></tr><tr><td>A94_0</td><td>A96_0</td><td>1.0000</td></tr><tr><td>A94_0</td><td>A95_0</td><td>1.0000</td></tr><tr><td>A92_0</td><td>A94_0</td><td>1.0000</td></tr><tr><td>A95_0</td><td>A96_0</td><td>1.0000</td></tr><tr><td>A92_0</td><td>A96_0</td><td>1.0000</td></tr><tr><td>A92_0</td><td>A95_0</td><td>1.0000</td></tr><tr><td>A94_0</td><td>A99_0</td><td>1.0000</td></tr><tr><td>A94_0</td><td>A97_0</td><td>1.0000</td></tr><tr><td>A93_0</td><td>A100_0</td><td>1.0000</td></tr><tr><td>A96_0</td><td>A99_0</td><td>1.0000</td></tr><tr><td>A96_0</td><td>A97_0</td><td>1.0000</td></tr><tr><td>A95_0</td><td>A99_0</td><td>1.0000</td></tr><tr><td>A92_0</td><td>A99_0</td><td>1.0000</td></tr><tr><td>A95_0</td><td>A97_0</td><td>1.0000</td></tr><tr><td>A92_0</td><td>A97_0</td><td>1.0000</td></tr><tr><td>A97_0</td><td>A99_0</td><td>1.0000</td></tr><tr><td>A94_0</td><td>A100_0</td><td>1.0000</td></tr><tr><td>A93_0</td><td>A101_0</td><td>1.0000</td></tr><tr><td>A96_0</td><td>A100_0</td><td>1.0000</td></tr><tr><td>A95_0</td><td>A100_0</td><td>1.0000</td></tr><tr><td>A92_0</td><td>A100_0</td><td>1.0000</td></tr><tr><td>A99_0</td><td>A100_0</td><td>1.0000</td></tr><tr><td>A97_0</td><td>A100_0</td><td>1.0000</td></tr><tr><td>A94_0</td><td>A101_0</td><td>1.0000</td></tr><tr><td>A96_0</td><td>A101_0</td><td>1.0000</td></tr><tr><td>A95_0</td><td>A101_0</td><td>1.0000</td></tr><tr><td>A92_0</td><td>A101_0</td><td>1.0000</td></tr><tr><td>A99_0</td><td>A101_0</td><td>1.0000</td></tr><tr><td>A97_0</td><td>A101_0</td><td>1.0000</td></tr><tr><td>A100_0</td><td>A101_0</td><td>1.0000</td></tr><tr><td>A93_0</td><td>A98_0</td><td>1.0000</td></tr><tr><td>A94_0</td><td>A98_0</td><td>1.0000</td></tr><tr><td>A96_0</td><td>A98_0</td><td>1.0000</td></tr><tr><td>A95_0</td><td>A98_0</td><td>1.0000</td></tr><tr><td>A92_0</td><td>A98_0</td><td>1.0000</td></tr><tr><td>A98_0</td><td>A99_0</td><td>1.0000</td></tr><tr><td>A97_0</td><td>A98_0</td><td>1.0000</td></tr><tr><td>A98_0</td><td>A100_0</td><td>1.0000</td></tr><tr><td>A98_0</td><td>A101_0</td><td>1.0000</td></tr><tr><td>beta</td><td>R</td><td>-1.0000</td></tr><tr><td>beta</td><td>A93_0</td><td>-1.0000</td></tr><tr><td>beta</td><td>A94_0</td><td>-1.0000</td></tr><tr><td>beta</td><td>A96_0</td><td>-1.0000</td></tr><tr><td>beta</td><td>A95_0</td><td>-1.0000</td></tr><tr><td>A92_0</td><td>beta</td><td>-1.0000</td></tr><tr><td>beta</td><td>A99_0</td><td>-1.0000</td></tr><tr><td>beta</td><td>A97_0</td><td>-1.0000</td></tr><tr><td>beta</td><td>A100_0</td><td>-1.0000</td></tr><tr><td>beta</td><td>A101_0</td><td>-1.0000</td></tr><tr><td>beta</td><td>A98_0</td><td>-1.0000</td></tr><tr><td>alpha</td><td>sigma</td><td>0.6798</td></tr><tr><td>alpha</td><td>xp100_0</td><td>0.6383</td></tr><tr><td>alpha</td><td>xp93_0</td><td>0.6348</td></tr><tr><td>alpha</td><td>xp95_0</td><td>0.6299</td></tr><tr><td>alpha</td><td>xp92_0</td><td>0.6297</td></tr><tr><td>alpha</td><td>xp97_0</td><td>0.6268</td></tr><tr><td>alpha</td><td>xp96_0</td><td>0.6266</td></tr><tr><td>alpha</td><td>xp101_0</td><td>0.6247</td></tr><tr><td>alpha</td><td>xp99_0</td><td>0.6246</td></tr><tr><td>alpha</td><td>beta</td><td>0.6080</td></tr><tr><td>alpha</td><td>A101_0</td><td>-0.6070</td></tr><tr><td>alpha</td><td>A95_0</td><td>-0.6070</td></tr><tr><td>alpha</td><td>A97_0</td><td>-0.6070</td></tr><tr><td>alpha</td><td>A96_0</td><td>-0.6070</td></tr><tr><td>alpha</td><td>A100_0</td><td>-0.6070</td></tr><tr><td>A92_0</td><td>alpha</td><td>-0.6070</td></tr><tr><td>alpha</td><td>A98_0</td><td>-0.6070</td></tr><tr><td>alpha</td><td>A99_0</td><td>-0.6070</td></tr><tr><td>alpha</td><td>A94_0</td><td>-0.6070</td></tr><tr><td>alpha</td><td>A93_0</td><td>-0.6070</td></tr><tr><td>alpha</td><td>R</td><td>-0.6070</td></tr><tr><td>alpha</td><td>xp94_0</td><td>0.6034</td></tr><tr><td>alpha</td><td>xp98_0</td><td>0.5973</td></tr><tr><td>sigma</td><td>xp100_0</td><td>0.5301</td></tr><tr><td>sigma</td><td>xp101_0</td><td>0.5232</td></tr><tr><td>sigma</td><td>xp97_0</td><td>0.5225</td></tr><tr><td>sigma</td><td>xp95_0</td><td>0.5210</td></tr><tr><td>sigma</td><td>xp96_0</td><td>0.5205</td></tr><tr><td>sigma</td><td>xp99_0</td><td>0.5204</td></tr><tr><td>sigma</td><td>xp93_0</td><td>0.5202</td></tr><tr><td>sigma</td><td>xp92_0</td><td>0.5197</td></tr><tr><td>sigma</td><td>xp94_0</td><td>0.5132</td></tr><tr><td>sigma</td><td>xp98_0</td><td>0.5027</td></tr><tr><td>gamma</td><td>sigma</td><td>-0.4625</td></tr><tr><td>xp93_0</td><td>xp100_0</td><td>0.4407</td></tr><tr><td>xp97_0</td><td>xp100_0</td><td>0.4402</td></tr><tr><td>xp95_0</td><td>xp100_0</td><td>0.4399</td></tr><tr><td>xp99_0</td><td>xp100_0</td><td>0.4395</td></tr><tr><td>xp96_0</td><td>xp100_0</td><td>0.4395</td></tr><tr><td>xp100_0</td><td>xp101_0</td><td>0.4395</td></tr><tr><td>xp92_0</td><td>xp100_0</td><td>0.4387</td></tr><tr><td>xp93_0</td><td>xp97_0</td><td>0.4360</td></tr><tr><td>xp93_0</td><td>xp95_0</td><td>0.4358</td></tr><tr><td>xp97_0</td><td>xp99_0</td><td>0.4354</td></tr><tr><td>xp93_0</td><td>xp96_0</td><td>0.4354</td></tr><tr><td>xp93_0</td><td>xp99_0</td><td>0.4354</td></tr><tr><td>xp95_0</td><td>xp97_0</td><td>0.4354</td></tr><tr><td>xp96_0</td><td>xp97_0</td><td>0.4352</td></tr><tr><td>xp97_0</td><td>xp101_0</td><td>0.4351</td></tr><tr><td>xp93_0</td><td>xp101_0</td><td>0.4351</td></tr><tr><td>xp95_0</td><td>xp99_0</td><td>0.4348</td></tr><tr><td>xp92_0</td><td>xp93_0</td><td>0.4347</td></tr><tr><td>xp95_0</td><td>xp96_0</td><td>0.4347</td></tr><tr><td>xp96_0</td><td>xp99_0</td><td>0.4347</td></tr><tr><td>xp99_0</td><td>xp101_0</td><td>0.4346</td></tr><tr><td>xp95_0</td><td>xp101_0</td><td>0.4345</td></tr><tr><td>xp96_0</td><td>xp101_0</td><td>0.4343</td></tr><tr><td>xp92_0</td><td>xp97_0</td><td>0.4341</td></tr><tr><td>xp92_0</td><td>xp95_0</td><td>0.4338</td></tr><tr><td>xp92_0</td><td>xp99_0</td><td>0.4334</td></tr><tr><td>xp92_0</td><td>xp96_0</td><td>0.4334</td></tr><tr><td>xp92_0</td><td>xp101_0</td><td>0.4332</td></tr><tr><td>xp94_0</td><td>xp100_0</td><td>0.4307</td></tr><tr><td>xp94_0</td><td>xp97_0</td><td>0.4276</td></tr><tr><td>xp94_0</td><td>xp99_0</td><td>0.4274</td></tr><tr><td>xp94_0</td><td>xp96_0</td><td>0.4269</td></tr><tr><td>xp93_0</td><td>xp94_0</td><td>0.4269</td></tr><tr><td>xp94_0</td><td>xp101_0</td><td>0.4266</td></tr><tr><td>xp94_0</td><td>xp95_0</td><td>0.4266</td></tr><tr><td>xp92_0</td><td>xp94_0</td><td>0.4252</td></tr><tr><td>xp98_0</td><td>xp100_0</td><td>0.4223</td></tr><tr><td>xp97_0</td><td>xp98_0</td><td>0.4185</td></tr><tr><td>xp93_0</td><td>xp98_0</td><td>0.4182</td></tr><tr><td>xp98_0</td><td>xp99_0</td><td>0.4181</td></tr><tr><td>xp95_0</td><td>xp98_0</td><td>0.4178</td></tr><tr><td>xp96_0</td><td>xp98_0</td><td>0.4178</td></tr><tr><td>xp98_0</td><td>xp101_0</td><td>0.4177</td></tr><tr><td>xp92_0</td><td>xp98_0</td><td>0.4165</td></tr><tr><td>xp94_0</td><td>xp98_0</td><td>0.4112</td></tr><tr><td>beta</td><td>sigma</td><td>0.3114</td></tr><tr><td>sigma</td><td>A101_0</td><td>-0.3106</td></tr><tr><td>sigma</td><td>A97_0</td><td>-0.3106</td></tr><tr><td>sigma</td><td>A100_0</td><td>-0.3106</td></tr><tr><td>sigma</td><td>A98_0</td><td>-0.3106</td></tr><tr><td>sigma</td><td>A96_0</td><td>-0.3106</td></tr><tr><td>sigma</td><td>A99_0</td><td>-0.3106</td></tr><tr><td>A92_0</td><td>sigma</td><td>-0.3106</td></tr><tr><td>sigma</td><td>A95_0</td><td>-0.3106</td></tr><tr><td>sigma</td><td>A94_0</td><td>-0.3105</td></tr><tr><td>sigma</td><td>A93_0</td><td>-0.3105</td></tr><tr><td>R</td><td>sigma</td><td>-0.3105</td></tr><tr><td>beta</td><td>xp100_0</td><td>0.2774</td></tr><tr><td>xp100_0</td><td>A101_0</td><td>-0.2768</td></tr><tr><td>A96_0</td><td>xp100_0</td><td>-0.2768</td></tr><tr><td>A97_0</td><td>xp100_0</td><td>-0.2768</td></tr><tr><td>A99_0</td><td>xp100_0</td><td>-0.2768</td></tr><tr><td>A95_0</td><td>xp100_0</td><td>-0.2768</td></tr><tr><td>A92_0</td><td>xp100_0</td><td>-0.2768</td></tr><tr><td>A98_0</td><td>xp100_0</td><td>-0.2768</td></tr><tr><td>A94_0</td><td>xp100_0</td><td>-0.2768</td></tr><tr><td>A93_0</td><td>xp100_0</td><td>-0.2768</td></tr><tr><td>R</td><td>xp100_0</td><td>-0.2768</td></tr><tr><td>A100_0</td><td>xp100_0</td><td>-0.2768</td></tr><tr><td>beta</td><td>xp93_0</td><td>0.2734</td></tr><tr><td>xp93_0</td><td>A101_0</td><td>-0.2727</td></tr><tr><td>xp93_0</td><td>A97_0</td><td>-0.2727</td></tr><tr><td>xp93_0</td><td>A100_0</td><td>-0.2727</td></tr><tr><td>xp93_0</td><td>A95_0</td><td>-0.2727</td></tr><tr><td>xp93_0</td><td>A96_0</td><td>-0.2727</td></tr><tr><td>xp93_0</td><td>A98_0</td><td>-0.2727</td></tr><tr><td>A92_0</td><td>xp93_0</td><td>-0.2727</td></tr><tr><td>xp93_0</td><td>A99_0</td><td>-0.2727</td></tr><tr><td>xp93_0</td><td>A94_0</td><td>-0.2727</td></tr><tr><td>R</td><td>xp93_0</td><td>-0.2727</td></tr><tr><td>A93_0</td><td>xp93_0</td><td>-0.2727</td></tr><tr><td>beta</td><td>xp92_0</td><td>0.2671</td></tr><tr><td>xp92_0</td><td>A101_0</td><td>-0.2665</td></tr><tr><td>xp92_0</td><td>A97_0</td><td>-0.2665</td></tr><tr><td>xp92_0</td><td>A100_0</td><td>-0.2665</td></tr><tr><td>xp92_0</td><td>A95_0</td><td>-0.2665</td></tr><tr><td>xp92_0</td><td>A96_0</td><td>-0.2665</td></tr><tr><td>xp92_0</td><td>A98_0</td><td>-0.2665</td></tr><tr><td>xp92_0</td><td>A99_0</td><td>-0.2665</td></tr><tr><td>xp92_0</td><td>A94_0</td><td>-0.2665</td></tr><tr><td>xp92_0</td><td>A93_0</td><td>-0.2665</td></tr><tr><td>R</td><td>xp92_0</td><td>-0.2664</td></tr><tr><td>A92_0</td><td>xp92_0</td><td>-0.2664</td></tr><tr><td>beta</td><td>xp95_0</td><td>0.2642</td></tr><tr><td>xp95_0</td><td>A101_0</td><td>-0.2636</td></tr><tr><td>xp95_0</td><td>A97_0</td><td>-0.2636</td></tr><tr><td>xp95_0</td><td>A100_0</td><td>-0.2636</td></tr><tr><td>xp95_0</td><td>A96_0</td><td>-0.2636</td></tr><tr><td>xp95_0</td><td>A98_0</td><td>-0.2636</td></tr><tr><td>A92_0</td><td>xp95_0</td><td>-0.2636</td></tr><tr><td>xp95_0</td><td>A99_0</td><td>-0.2636</td></tr><tr><td>A94_0</td><td>xp95_0</td><td>-0.2636</td></tr><tr><td>A93_0</td><td>xp95_0</td><td>-0.2636</td></tr><tr><td>R</td><td>xp95_0</td><td>-0.2635</td></tr><tr><td>A95_0</td><td>xp95_0</td><td>-0.2635</td></tr><tr><td>beta</td><td>xp101_0</td><td>0.2546</td></tr><tr><td>A97_0</td><td>xp101_0</td><td>-0.2540</td></tr><tr><td>A100_0</td><td>xp101_0</td><td>-0.2540</td></tr><tr><td>A95_0</td><td>xp101_0</td><td>-0.2540</td></tr><tr><td>A98_0</td><td>xp101_0</td><td>-0.2540</td></tr><tr><td>A96_0</td><td>xp101_0</td><td>-0.2540</td></tr><tr><td>A92_0</td><td>xp101_0</td><td>-0.2540</td></tr><tr><td>A99_0</td><td>xp101_0</td><td>-0.2540</td></tr><tr><td>A94_0</td><td>xp101_0</td><td>-0.2540</td></tr><tr><td>A93_0</td><td>xp101_0</td><td>-0.2540</td></tr><tr><td>R</td><td>xp101_0</td><td>-0.2539</td></tr><tr><td>A101_0</td><td>xp101_0</td><td>-0.2539</td></tr><tr><td>beta</td><td>xp96_0</td><td>0.2538</td></tr><tr><td>beta</td><td>xp97_0</td><td>0.2535</td></tr><tr><td>xp96_0</td><td>A101_0</td><td>-0.2532</td></tr><tr><td>xp96_0</td><td>A97_0</td><td>-0.2532</td></tr><tr><td>xp96_0</td><td>A100_0</td><td>-0.2532</td></tr><tr><td>A95_0</td><td>xp96_0</td><td>-0.2532</td></tr><tr><td>xp96_0</td><td>A98_0</td><td>-0.2532</td></tr><tr><td>A92_0</td><td>xp96_0</td><td>-0.2532</td></tr><tr><td>xp96_0</td><td>A99_0</td><td>-0.2532</td></tr><tr><td>A94_0</td><td>xp96_0</td><td>-0.2532</td></tr><tr><td>A93_0</td><td>xp96_0</td><td>-0.2532</td></tr><tr><td>R</td><td>xp96_0</td><td>-0.2531</td></tr><tr><td>A96_0</td><td>xp96_0</td><td>-0.2531</td></tr><tr><td>xp97_0</td><td>A101_0</td><td>-0.2528</td></tr><tr><td>xp97_0</td><td>A100_0</td><td>-0.2528</td></tr><tr><td>A96_0</td><td>xp97_0</td><td>-0.2528</td></tr><tr><td>A95_0</td><td>xp97_0</td><td>-0.2528</td></tr><tr><td>xp97_0</td><td>A98_0</td><td>-0.2528</td></tr><tr><td>xp97_0</td><td>A99_0</td><td>-0.2528</td></tr><tr><td>A92_0</td><td>xp97_0</td><td>-0.2528</td></tr><tr><td>A94_0</td><td>xp97_0</td><td>-0.2528</td></tr><tr><td>A93_0</td><td>xp97_0</td><td>-0.2528</td></tr><tr><td>A97_0</td><td>xp97_0</td><td>-0.2528</td></tr><tr><td>R</td><td>xp97_0</td><td>-0.2528</td></tr><tr><td>beta</td><td>xp99_0</td><td>0.2475</td></tr><tr><td>xp99_0</td><td>A101_0</td><td>-0.2469</td></tr><tr><td>A97_0</td><td>xp99_0</td><td>-0.2469</td></tr><tr><td>xp99_0</td><td>A100_0</td><td>-0.2469</td></tr><tr><td>A96_0</td><td>xp99_0</td><td>-0.2469</td></tr><tr><td>A95_0</td><td>xp99_0</td><td>-0.2469</td></tr><tr><td>A98_0</td><td>xp99_0</td><td>-0.2469</td></tr><tr><td>A92_0</td><td>xp99_0</td><td>-0.2469</td></tr><tr><td>A94_0</td><td>xp99_0</td><td>-0.2469</td></tr><tr><td>A93_0</td><td>xp99_0</td><td>-0.2469</td></tr><tr><td>R</td><td>xp99_0</td><td>-0.2469</td></tr><tr><td>A99_0</td><td>xp99_0</td><td>-0.2469</td></tr><tr><td>beta</td><td>xp98_0</td><td>0.2292</td></tr><tr><td>xp98_0</td><td>A101_0</td><td>-0.2286</td></tr><tr><td>A97_0</td><td>xp98_0</td><td>-0.2286</td></tr><tr><td>A95_0</td><td>xp98_0</td><td>-0.2286</td></tr><tr><td>xp98_0</td><td>A100_0</td><td>-0.2286</td></tr><tr><td>A96_0</td><td>xp98_0</td><td>-0.2286</td></tr><tr><td>A92_0</td><td>xp98_0</td><td>-0.2286</td></tr><tr><td>A94_0</td><td>xp98_0</td><td>-0.2286</td></tr><tr><td>xp98_0</td><td>A99_0</td><td>-0.2286</td></tr><tr><td>A93_0</td><td>xp98_0</td><td>-0.2286</td></tr><tr><td>R</td><td>xp98_0</td><td>-0.2285</td></tr><tr><td>A98_0</td><td>xp98_0</td><td>-0.2285</td></tr><tr><td>beta</td><td>xp94_0</td><td>0.2049</td></tr><tr><td>xp94_0</td><td>A101_0</td><td>-0.2043</td></tr><tr><td>xp94_0</td><td>A97_0</td><td>-0.2043</td></tr><tr><td>xp94_0</td><td>A100_0</td><td>-0.2043</td></tr><tr><td>xp94_0</td><td>A96_0</td><td>-0.2043</td></tr><tr><td>xp94_0</td><td>A95_0</td><td>-0.2043</td></tr><tr><td>xp94_0</td><td>A98_0</td><td>-0.2043</td></tr><tr><td>A92_0</td><td>xp94_0</td><td>-0.2043</td></tr><tr><td>xp94_0</td><td>A99_0</td><td>-0.2043</td></tr><tr><td>A93_0</td><td>xp94_0</td><td>-0.2043</td></tr><tr><td>R</td><td>xp94_0</td><td>-0.2043</td></tr><tr><td>A94_0</td><td>xp94_0</td><td>-0.2042</td></tr></table>"
      ],
      "text/plain": [
       "<lmfit.minimizer.MinimizerResult at 0x1e62d1b23c8>"
      ]
     },
     "execution_count": 66,
     "metadata": {},
     "output_type": "execute_result"
    }
   ],
   "source": [
    "fitKey = '8_10'\n",
    "xwFit[fitKey][0].result"
   ]
  },
  {
   "cell_type": "code",
   "execution_count": 67,
   "metadata": {
    "Collapsed": "false",
    "hidden": true,
    "scrolled": true
   },
   "outputs": [
    {
     "data": {
      "text/html": [
       "<h2>Fit Statistics</h2><table><tr><td>fitting method</td><td>leastsq</td><td></td></tr><tr><td># function evals</td><td>73</td><td></td></tr><tr><td># data points</td><td>800</td><td></td></tr><tr><td># variables</td><td>23</td><td></td></tr><tr><td>chi-square</td><td> 1192.75347</td><td></td></tr><tr><td>reduced chi-square</td><td> 1.53507526</td><td></td></tr><tr><td>Akaike info crit.</td><td> 365.526423</td><td></td></tr><tr><td>Bayesian info crit.</td><td> 473.272493</td><td></td></tr></table><h2>Variables</h2><table><tr><th> name </th><th> value </th><th> standard error </th><th> relative error </th><th> initial value </th><th> min </th><th> max </th><th> vary </th></tr><tr><td> A92_0 </td><td>  146302.634 </td><td>  1488.48117 </td><td> (1.02%) </td><td> 152901.898811131 </td><td>  0.00000000 </td><td>         inf </td><td> True </td></tr><tr><td> alpha </td><td>  125.123462 </td><td>  0.67956668 </td><td> (0.54%) </td><td> 125.42508036219262 </td><td>  0.00000000 </td><td>         inf </td><td> True </td></tr><tr><td> beta </td><td>  1.0000e-10 </td><td>  0.00000000 </td><td> (0.00%) </td><td> 1e-10 </td><td>  0.00000000 </td><td>         inf </td><td> False </td></tr><tr><td> R </td><td>  1.0000e-10 </td><td>  0.00000000 </td><td> (0.00%) </td><td> 1e-10 </td><td>  0.00000000 </td><td>         inf </td><td> False </td></tr><tr><td> gamma </td><td>  2.3680e-04 </td><td>  2.4662e-05 </td><td> (10.41%) </td><td> 0.0002316142342984051 </td><td>  0.00000000 </td><td>         inf </td><td> True </td></tr><tr><td> sigma </td><td>  0.00490183 </td><td>  9.0594e-05 </td><td> (1.85%) </td><td> 0.004928235725694119 </td><td>  0.00000000 </td><td>         inf </td><td> True </td></tr><tr><td> k </td><td>  0.05000000 </td><td>  0.00000000 </td><td> (0.00%) </td><td> 0.05 </td><td>  0.00000000 </td><td>         inf </td><td> False </td></tr><tr><td> xp92_0 </td><td> -8.01798178 </td><td>  1.5871e-04 </td><td> (0.00%) </td><td> -8.017947746743312 </td><td>        -inf </td><td>         inf </td><td> True </td></tr><tr><td> A93_0 </td><td>  147821.670 </td><td>  1484.08558 </td><td> (1.00%) </td><td> 154479.6421301184 </td><td>  0.00000000 </td><td>         inf </td><td> True </td></tr><tr><td> xp93_0 </td><td> -8.01808602 </td><td>  1.5727e-04 </td><td> (0.00%) </td><td> -8.018052345022376 </td><td>        -inf </td><td>         inf </td><td> True </td></tr><tr><td> A94_0 </td><td>  146011.182 </td><td>  1478.42095 </td><td> (1.01%) </td><td> 152591.33794400713 </td><td>  0.00000000 </td><td>         inf </td><td> True </td></tr><tr><td> xp94_0 </td><td> -8.01803788 </td><td>  1.5738e-04 </td><td> (0.00%) </td><td> -8.018004284519748 </td><td>        -inf </td><td>         inf </td><td> True </td></tr><tr><td> A95_0 </td><td>  143647.454 </td><td>  1460.70026 </td><td> (1.02%) </td><td> 150118.07430219726 </td><td>  0.00000000 </td><td>         inf </td><td> True </td></tr><tr><td> xp95_0 </td><td> -8.01802818 </td><td>  1.5847e-04 </td><td> (0.00%) </td><td> -8.017994115956448 </td><td>        -inf </td><td>         inf </td><td> True </td></tr><tr><td> A96_0 </td><td>  144540.454 </td><td>  1468.03101 </td><td> (1.02%) </td><td> 151054.8883943062 </td><td>  0.00000000 </td><td>         inf </td><td> True </td></tr><tr><td> xp96_0 </td><td> -8.01787764 </td><td>  1.5864e-04 </td><td> (0.00%) </td><td> -8.017843658764182 </td><td>        -inf </td><td>         inf </td><td> True </td></tr><tr><td> A97_0 </td><td>  142688.669 </td><td>  1459.81818 </td><td> (1.02%) </td><td> 149121.24277501964 </td><td>  0.00000000 </td><td>         inf </td><td> True </td></tr><tr><td> xp97_0 </td><td> -8.01767165 </td><td>  1.6083e-04 </td><td> (0.00%) </td><td> -8.017636706249696 </td><td>        -inf </td><td>         inf </td><td> True </td></tr><tr><td> A98_0 </td><td>  142424.910 </td><td>  1563.45744 </td><td> (1.10%) </td><td> 148841.52456022744 </td><td>  0.00000000 </td><td>         inf </td><td> True </td></tr><tr><td> xp98_0 </td><td> -8.01761128 </td><td>  1.6690e-04 </td><td> (0.00%) </td><td> -8.017576557369868 </td><td>        -inf </td><td>         inf </td><td> True </td></tr><tr><td> A99_0 </td><td>  142259.306 </td><td>  1454.39757 </td><td> (1.02%) </td><td> 148680.96129142484 </td><td>  0.00000000 </td><td>         inf </td><td> True </td></tr><tr><td> xp99_0 </td><td> -8.01783114 </td><td>  1.5929e-04 </td><td> (0.00%) </td><td> -8.017796955347624 </td><td>        -inf </td><td>         inf </td><td> True </td></tr><tr><td> A100_0 </td><td>  140112.956 </td><td>  1447.95737 </td><td> (1.03%) </td><td> 146419.68907196086 </td><td>  0.00000000 </td><td>         inf </td><td> True </td></tr><tr><td> xp100_0 </td><td> -8.01793373 </td><td>  1.6011e-04 </td><td> (0.00%) </td><td> -8.017898960985374 </td><td>        -inf </td><td>         inf </td><td> True </td></tr><tr><td> A101_0 </td><td>  137363.011 </td><td>  1434.95207 </td><td> (1.04%) </td><td> 143559.81642001405 </td><td>  0.00000000 </td><td>         inf </td><td> True </td></tr><tr><td> xp101_0 </td><td> -8.01777538 </td><td>  1.6133e-04 </td><td> (0.00%) </td><td> -8.01774102976366 </td><td>        -inf </td><td>         inf </td><td> True </td></tr></table><h2>Correlations (unreported correlations are < 0.100)</h2><table><tr><td>alpha</td><td>sigma</td><td>0.6190</td></tr><tr><td>alpha</td><td>xp99_0</td><td>0.6004</td></tr><tr><td>alpha</td><td>xp100_0</td><td>0.5997</td></tr><tr><td>alpha</td><td>xp94_0</td><td>0.5996</td></tr><tr><td>alpha</td><td>xp97_0</td><td>0.5994</td></tr><tr><td>alpha</td><td>xp96_0</td><td>0.5989</td></tr><tr><td>alpha</td><td>xp93_0</td><td>0.5970</td></tr><tr><td>alpha</td><td>xp95_0</td><td>0.5966</td></tr><tr><td>alpha</td><td>xp101_0</td><td>0.5962</td></tr><tr><td>alpha</td><td>xp92_0</td><td>0.5942</td></tr><tr><td>alpha</td><td>xp98_0</td><td>0.5765</td></tr><tr><td>sigma</td><td>xp100_0</td><td>0.4624</td></tr><tr><td>sigma</td><td>xp101_0</td><td>0.4596</td></tr><tr><td>sigma</td><td>xp94_0</td><td>0.4591</td></tr><tr><td>sigma</td><td>xp97_0</td><td>0.4587</td></tr><tr><td>sigma</td><td>xp99_0</td><td>0.4576</td></tr><tr><td>sigma</td><td>xp96_0</td><td>0.4564</td></tr><tr><td>sigma</td><td>xp95_0</td><td>0.4548</td></tr><tr><td>sigma</td><td>xp92_0</td><td>0.4526</td></tr><tr><td>sigma</td><td>xp93_0</td><td>0.4516</td></tr><tr><td>sigma</td><td>xp98_0</td><td>0.4431</td></tr><tr><td>gamma</td><td>sigma</td><td>-0.4392</td></tr><tr><td>xp99_0</td><td>xp100_0</td><td>0.3776</td></tr><tr><td>xp97_0</td><td>xp100_0</td><td>0.3772</td></tr><tr><td>xp97_0</td><td>xp99_0</td><td>0.3768</td></tr><tr><td>xp94_0</td><td>xp100_0</td><td>0.3765</td></tr><tr><td>xp100_0</td><td>xp101_0</td><td>0.3763</td></tr><tr><td>xp96_0</td><td>xp100_0</td><td>0.3763</td></tr><tr><td>xp94_0</td><td>xp99_0</td><td>0.3761</td></tr><tr><td>xp96_0</td><td>xp99_0</td><td>0.3759</td></tr><tr><td>xp99_0</td><td>xp101_0</td><td>0.3758</td></tr><tr><td>xp94_0</td><td>xp97_0</td><td>0.3757</td></tr><tr><td>xp96_0</td><td>xp97_0</td><td>0.3755</td></tr><tr><td>xp97_0</td><td>xp101_0</td><td>0.3754</td></tr><tr><td>xp94_0</td><td>xp96_0</td><td>0.3749</td></tr><tr><td>xp95_0</td><td>xp100_0</td><td>0.3748</td></tr><tr><td>xp94_0</td><td>xp101_0</td><td>0.3747</td></tr><tr><td>xp96_0</td><td>xp101_0</td><td>0.3745</td></tr><tr><td>xp95_0</td><td>xp99_0</td><td>0.3744</td></tr><tr><td>xp95_0</td><td>xp97_0</td><td>0.3739</td></tr><tr><td>xp93_0</td><td>xp100_0</td><td>0.3738</td></tr><tr><td>xp93_0</td><td>xp99_0</td><td>0.3734</td></tr><tr><td>xp94_0</td><td>xp95_0</td><td>0.3734</td></tr><tr><td>xp95_0</td><td>xp96_0</td><td>0.3731</td></tr><tr><td>xp93_0</td><td>xp97_0</td><td>0.3730</td></tr><tr><td>xp95_0</td><td>xp101_0</td><td>0.3730</td></tr><tr><td>xp92_0</td><td>xp100_0</td><td>0.3728</td></tr><tr><td>xp93_0</td><td>xp94_0</td><td>0.3725</td></tr><tr><td>xp92_0</td><td>xp99_0</td><td>0.3724</td></tr><tr><td>xp93_0</td><td>xp96_0</td><td>0.3722</td></tr><tr><td>xp92_0</td><td>xp97_0</td><td>0.3720</td></tr><tr><td>xp93_0</td><td>xp101_0</td><td>0.3719</td></tr><tr><td>xp92_0</td><td>xp94_0</td><td>0.3715</td></tr><tr><td>xp92_0</td><td>xp96_0</td><td>0.3712</td></tr><tr><td>xp92_0</td><td>xp101_0</td><td>0.3709</td></tr><tr><td>xp93_0</td><td>xp95_0</td><td>0.3707</td></tr><tr><td>xp92_0</td><td>xp95_0</td><td>0.3697</td></tr><tr><td>xp92_0</td><td>xp93_0</td><td>0.3689</td></tr><tr><td>xp98_0</td><td>xp100_0</td><td>0.3631</td></tr><tr><td>xp98_0</td><td>xp99_0</td><td>0.3627</td></tr><tr><td>xp97_0</td><td>xp98_0</td><td>0.3623</td></tr><tr><td>xp94_0</td><td>xp98_0</td><td>0.3616</td></tr><tr><td>xp96_0</td><td>xp98_0</td><td>0.3614</td></tr><tr><td>xp98_0</td><td>xp101_0</td><td>0.3614</td></tr><tr><td>xp95_0</td><td>xp98_0</td><td>0.3600</td></tr><tr><td>xp93_0</td><td>xp98_0</td><td>0.3590</td></tr><tr><td>xp92_0</td><td>xp98_0</td><td>0.3581</td></tr></table>"
      ],
      "text/plain": [
       "<lmfit.minimizer.MinimizerResult at 0x1e62d1fa808>"
      ]
     },
     "execution_count": 67,
     "metadata": {},
     "output_type": "execute_result"
    }
   ],
   "source": [
    "xwFit[fitKey][1].result"
   ]
  },
  {
   "cell_type": "code",
   "execution_count": 92,
   "metadata": {
    "Collapsed": "false",
    "collapsed": true,
    "hidden": true
   },
   "outputs": [
    {
     "data": {
      "text/html": [
       "<h2>Fit Statistics</h2><table><tr><td>fitting method</td><td>leastsq</td><td></td></tr><tr><td># function evals</td><td>22</td><td></td></tr><tr><td># data points</td><td>800</td><td></td></tr><tr><td># variables</td><td>20</td><td></td></tr><tr><td>chi-square</td><td> 1192.75347</td><td></td></tr><tr><td>reduced chi-square</td><td> 1.52917112</td><td></td></tr><tr><td>Akaike info crit.</td><td> 359.526423</td><td></td></tr><tr><td>Bayesian info crit.</td><td> 453.218657</td><td></td></tr></table><h2>Variables</h2><table><tr><th> name </th><th> value </th><th> standard error </th><th> relative error </th><th> initial value </th><th> min </th><th> max </th><th> vary </th></tr><tr><td> A92 </td><td>  146302.561 </td><td>  1482.30969 </td><td> (1.01%) </td><td> 146302.6338193856 </td><td>  0.00000000 </td><td>         inf </td><td> True </td></tr><tr><td> alpha </td><td>  125.123462 </td><td>  0.00000000 </td><td> (0.00%) </td><td> 125.12346204356733 </td><td>  0.00000000 </td><td>         inf </td><td> False </td></tr><tr><td> beta </td><td>  1.0000e-10 </td><td>  0.00000000 </td><td> (0.00%) </td><td> 1e-10 </td><td>  0.00000000 </td><td>         inf </td><td> False </td></tr><tr><td> R </td><td>  1.0000e-10 </td><td>  0.00000000 </td><td> (0.00%) </td><td> 1e-10 </td><td>  0.00000000 </td><td>         inf </td><td> False </td></tr><tr><td> gamma </td><td>  2.3680e-04 </td><td>  0.00000000 </td><td> (0.00%) </td><td> 0.000236804323940909 </td><td>  0.00000000 </td><td>         inf </td><td> False </td></tr><tr><td> sigma </td><td>  0.00490183 </td><td>  0.00000000 </td><td> (0.00%) </td><td> 0.004901834233885571 </td><td>  0.00000000 </td><td>         inf </td><td> False </td></tr><tr><td> k </td><td>  0.05000000 </td><td>  0.00000000 </td><td> (0.00%) </td><td> 0.05 </td><td>  0.00000000 </td><td>         inf </td><td> False </td></tr><tr><td> xp92 </td><td> -8.01798179 </td><td>  1.2594e-04 </td><td> (0.00%) </td><td> -8.017981777410036 </td><td>        -inf </td><td>         inf </td><td> True </td></tr><tr><td> A93 </td><td>  147821.604 </td><td>  1477.82866 </td><td> (1.00%) </td><td> 147821.66955649797 </td><td>  0.00000000 </td><td>         inf </td><td> True </td></tr><tr><td> xp93 </td><td> -8.01808603 </td><td>  1.2459e-04 </td><td> (0.00%) </td><td> -8.01808602189962 </td><td>        -inf </td><td>         inf </td><td> True </td></tr><tr><td> A94 </td><td>  146011.100 </td><td>  1472.32514 </td><td> (1.01%) </td><td> 146011.18249411418 </td><td>  0.00000000 </td><td>         inf </td><td> True </td></tr><tr><td> xp94 </td><td> -8.01803788 </td><td>  1.2416e-04 </td><td> (0.00%) </td><td> -8.018037882135738 </td><td>        -inf </td><td>         inf </td><td> True </td></tr><tr><td> A95 </td><td>  143647.443 </td><td>  1454.61775 </td><td> (1.01%) </td><td> 143647.45362956394 </td><td>  0.00000000 </td><td>         inf </td><td> True </td></tr><tr><td> xp95 </td><td> -8.01802821 </td><td>  1.2538e-04 </td><td> (0.00%) </td><td> -8.018028180234486 </td><td>        -inf </td><td>         inf </td><td> True </td></tr><tr><td> A96 </td><td>  144540.441 </td><td>  1462.04992 </td><td> (1.01%) </td><td> 144540.45448083256 </td><td>  0.00000000 </td><td>         inf </td><td> True </td></tr><tr><td> xp96 </td><td> -8.01787766 </td><td>  1.2522e-04 </td><td> (0.00%) </td><td> -8.017877641661752 </td><td>        -inf </td><td>         inf </td><td> True </td></tr><tr><td> A97 </td><td>  142688.656 </td><td>  1454.04620 </td><td> (1.02%) </td><td> 142688.6687594157 </td><td>  0.00000000 </td><td>         inf </td><td> True </td></tr><tr><td> xp97 </td><td> -8.01767168 </td><td>  1.2676e-04 </td><td> (0.00%) </td><td> -8.017671652380358 </td><td>        -inf </td><td>         inf </td><td> True </td></tr><tr><td> A98 </td><td>  142424.917 </td><td>  1557.74673 </td><td> (1.09%) </td><td> 142424.90993560335 </td><td>  0.00000000 </td><td>         inf </td><td> True </td></tr><tr><td> xp98 </td><td> -8.01761130 </td><td>  1.3443e-04 </td><td> (0.00%) </td><td> -8.01761127764683 </td><td>        -inf </td><td>         inf </td><td> True </td></tr><tr><td> A99 </td><td>  142259.322 </td><td>  1448.77812 </td><td> (1.02%) </td><td> 142259.30644376512 </td><td>  0.00000000 </td><td>         inf </td><td> True </td></tr><tr><td> xp99 </td><td> -8.01783116 </td><td>  1.2547e-04 </td><td> (0.00%) </td><td> -8.017831136715758 </td><td>        -inf </td><td>         inf </td><td> True </td></tr><tr><td> A100 </td><td>  140112.983 </td><td>  1442.32177 </td><td> (1.03%) </td><td> 140112.95574654598 </td><td>  0.00000000 </td><td>         inf </td><td> True </td></tr><tr><td> xp100 </td><td> -8.01793375 </td><td>  1.2602e-04 </td><td> (0.00%) </td><td> -8.017933726229938 </td><td>        -inf </td><td>         inf </td><td> True </td></tr><tr><td> A101 </td><td>  137363.088 </td><td>  1429.30799 </td><td> (1.04%) </td><td> 137363.01099422737 </td><td>  0.00000000 </td><td>         inf </td><td> True </td></tr><tr><td> xp101 </td><td> -8.01777541 </td><td>  1.2734e-04 </td><td> (0.00%) </td><td> -8.017775382529354 </td><td>        -inf </td><td>         inf </td><td> True </td></tr></table>"
      ],
      "text/plain": [
       "<lmfit.minimizer.MinimizerResult at 0x1cb74dc86c8>"
      ]
     },
     "execution_count": 92,
     "metadata": {},
     "output_type": "execute_result"
    }
   ],
   "source": [
    "# report_fit(result)\n",
    "xwFit[fitKey][2].result"
   ]
  },
  {
   "cell_type": "markdown",
   "metadata": {
    "hidden": true
   },
   "source": [
    "#### Results of weighted fit with 10 datasets on (6 6 0) peak "
   ]
  },
  {
   "cell_type": "code",
   "execution_count": 138,
   "metadata": {
    "Collapsed": "false",
    "hidden": true,
    "scrolled": true
   },
   "outputs": [
    {
     "data": {
      "text/html": [
       "<h2>Fit Statistics</h2><table><tr><td>fitting method</td><td>leastsq</td><td></td></tr><tr><td># function evals</td><td>899</td><td></td></tr><tr><td># data points</td><td>720</td><td></td></tr><tr><td># variables</td><td>25</td><td></td></tr><tr><td>chi-square</td><td> 3577.64164</td><td></td></tr><tr><td>reduced chi-square</td><td> 5.14768582</td><td></td></tr><tr><td>Akaike info crit.</td><td> 1204.30968</td><td></td></tr><tr><td>Bayesian info crit.</td><td> 1318.79096</td><td></td></tr></table><h2>Variables</h2><table><tr><th> name </th><th> value </th><th> standard error </th><th> relative error </th><th> initial value </th><th> min </th><th> max </th><th> vary </th></tr><tr><td> A92_0 </td><td>  170202.657 </td><td>  15907182.7 </td><td> (9346.02%) </td><td> 200000.0 </td><td>  0.00000000 </td><td>         inf </td><td> True </td></tr><tr><td> alpha </td><td>  204.296702 </td><td>  2.11220009 </td><td> (1.03%) </td><td> 140 </td><td>  0.00000000 </td><td>         inf </td><td> True </td></tr><tr><td> beta </td><td>  0.03579100 </td><td>  16.0236954 </td><td> (44770.18%) </td><td> 0.001 </td><td>  0.00000000 </td><td>         inf </td><td> True </td></tr><tr><td> R </td><td>  0.20966200 </td><td>  73.8642821 </td><td> (35230.17%) </td><td> 0.001 </td><td>  0.00000000 </td><td>         inf </td><td> True </td></tr><tr><td> gamma </td><td>  3.2794e-04 </td><td>  7.0336e-05 </td><td> (21.45%) </td><td> 0.001 </td><td>  0.00000000 </td><td>         inf </td><td> True </td></tr><tr><td> sigma </td><td>  0.00584477 </td><td>  1.0088e-04 </td><td> (1.73%) </td><td> 0.0066 </td><td>  0.00000000 </td><td>         inf </td><td> True </td></tr><tr><td> k </td><td>  0.05000000 </td><td>  0.00000000 </td><td> (0.00%) </td><td> 0.05 </td><td>  0.00000000 </td><td>         inf </td><td> False </td></tr><tr><td> xp92_0 </td><td> -6.01267274 </td><td>  1.6899e-04 </td><td> (0.00%) </td><td> -6.0 </td><td>        -inf </td><td>         inf </td><td> True </td></tr><tr><td> A93_0 </td><td>  165052.445 </td><td>  15425822.5 </td><td> (9346.01%) </td><td> 200000.0 </td><td>  0.00000000 </td><td>         inf </td><td> True </td></tr><tr><td> xp93_0 </td><td> -6.01271089 </td><td>  1.7022e-04 </td><td> (0.00%) </td><td> -6.0 </td><td>        -inf </td><td>         inf </td><td> True </td></tr><tr><td> A94_0 </td><td>  163071.033 </td><td>  15240593.0 </td><td> (9345.98%) </td><td> 200000.0 </td><td>  0.00000000 </td><td>         inf </td><td> True </td></tr><tr><td> xp94_0 </td><td> -6.01261866 </td><td>  1.7051e-04 </td><td> (0.00%) </td><td> -6.0 </td><td>        -inf </td><td>         inf </td><td> True </td></tr><tr><td> A95_0 </td><td>  161233.435 </td><td>  15068910.4 </td><td> (9346.02%) </td><td> 200000.0 </td><td>  0.00000000 </td><td>         inf </td><td> True </td></tr><tr><td> xp95_0 </td><td> -6.01254762 </td><td>  1.7073e-04 </td><td> (0.00%) </td><td> -6.0 </td><td>        -inf </td><td>         inf </td><td> True </td></tr><tr><td> A96_0 </td><td>  157213.525 </td><td>  14693290.5 </td><td> (9346.07%) </td><td> 200000.0 </td><td>  0.00000000 </td><td>         inf </td><td> True </td></tr><tr><td> xp96_0 </td><td> -6.01241183 </td><td>  1.7196e-04 </td><td> (0.00%) </td><td> -6.0 </td><td>        -inf </td><td>         inf </td><td> True </td></tr><tr><td> A97_0 </td><td>  155403.458 </td><td>  14524079.4 </td><td> (9346.05%) </td><td> 200000.0 </td><td>  0.00000000 </td><td>         inf </td><td> True </td></tr><tr><td> xp97_0 </td><td> -6.01237277 </td><td>  1.7213e-04 </td><td> (0.00%) </td><td> -6.0 </td><td>        -inf </td><td>         inf </td><td> True </td></tr><tr><td> A98_0 </td><td>  149936.883 </td><td>  14013108.8 </td><td> (9346.01%) </td><td> 200000.0 </td><td>  0.00000000 </td><td>         inf </td><td> True </td></tr><tr><td> xp98_0 </td><td> -6.01224528 </td><td>  1.7834e-04 </td><td> (0.00%) </td><td> -6.0 </td><td>        -inf </td><td>         inf </td><td> True </td></tr><tr><td> A99_0 </td><td>  148483.860 </td><td>  13877398.3 </td><td> (9346.07%) </td><td> 200000.0 </td><td>  0.00000000 </td><td>         inf </td><td> True </td></tr><tr><td> xp99_0 </td><td> -6.01222782 </td><td>  1.7355e-04 </td><td> (0.00%) </td><td> -6.0 </td><td>        -inf </td><td>         inf </td><td> True </td></tr><tr><td> A100_0 </td><td>  147160.015 </td><td>  13753616.4 </td><td> (9346.03%) </td><td> 200000.0 </td><td>  0.00000000 </td><td>         inf </td><td> True </td></tr><tr><td> xp100_0 </td><td> -6.01213634 </td><td>  1.7383e-04 </td><td> (0.00%) </td><td> -6.0 </td><td>        -inf </td><td>         inf </td><td> True </td></tr><tr><td> A101_0 </td><td>  146420.241 </td><td>  13684505.9 </td><td> (9346.05%) </td><td> 200000.0 </td><td>  0.00000000 </td><td>         inf </td><td> True </td></tr><tr><td> xp101_0 </td><td> -6.01215242 </td><td>  1.7402e-04 </td><td> (0.00%) </td><td> -6.0 </td><td>        -inf </td><td>         inf </td><td> True </td></tr></table><h2>Correlations (unreported correlations are < 0.100)</h2><table><tr><td>R</td><td>A93_0</td><td>1.0000</td></tr><tr><td>A92_0</td><td>R</td><td>1.0000</td></tr><tr><td>R</td><td>A95_0</td><td>1.0000</td></tr><tr><td>R</td><td>A94_0</td><td>1.0000</td></tr><tr><td>R</td><td>A96_0</td><td>1.0000</td></tr><tr><td>R</td><td>A97_0</td><td>1.0000</td></tr><tr><td>R</td><td>A101_0</td><td>1.0000</td></tr><tr><td>R</td><td>A99_0</td><td>1.0000</td></tr><tr><td>R</td><td>A100_0</td><td>1.0000</td></tr><tr><td>R</td><td>A98_0</td><td>1.0000</td></tr><tr><td>A92_0</td><td>A93_0</td><td>1.0000</td></tr><tr><td>A92_0</td><td>A95_0</td><td>1.0000</td></tr><tr><td>A92_0</td><td>A94_0</td><td>1.0000</td></tr><tr><td>A92_0</td><td>A96_0</td><td>1.0000</td></tr><tr><td>A94_0</td><td>A95_0</td><td>1.0000</td></tr><tr><td>A94_0</td><td>A96_0</td><td>1.0000</td></tr><tr><td>A95_0</td><td>A96_0</td><td>1.0000</td></tr><tr><td>A92_0</td><td>A97_0</td><td>1.0000</td></tr><tr><td>A92_0</td><td>A99_0</td><td>1.0000</td></tr><tr><td>A92_0</td><td>A101_0</td><td>1.0000</td></tr><tr><td>A94_0</td><td>A97_0</td><td>1.0000</td></tr><tr><td>A92_0</td><td>A100_0</td><td>1.0000</td></tr><tr><td>A93_0</td><td>A95_0</td><td>1.0000</td></tr><tr><td>A94_0</td><td>A99_0</td><td>1.0000</td></tr><tr><td>A94_0</td><td>A101_0</td><td>1.0000</td></tr><tr><td>A93_0</td><td>A94_0</td><td>1.0000</td></tr><tr><td>A93_0</td><td>A96_0</td><td>1.0000</td></tr><tr><td>A95_0</td><td>A97_0</td><td>1.0000</td></tr><tr><td>A95_0</td><td>A99_0</td><td>1.0000</td></tr><tr><td>A95_0</td><td>A101_0</td><td>1.0000</td></tr><tr><td>A97_0</td><td>A99_0</td><td>1.0000</td></tr><tr><td>A97_0</td><td>A101_0</td><td>1.0000</td></tr><tr><td>A94_0</td><td>A100_0</td><td>1.0000</td></tr><tr><td>A95_0</td><td>A100_0</td><td>1.0000</td></tr><tr><td>A97_0</td><td>A100_0</td><td>1.0000</td></tr><tr><td>A96_0</td><td>A97_0</td><td>1.0000</td></tr><tr><td>A96_0</td><td>A99_0</td><td>1.0000</td></tr><tr><td>A96_0</td><td>A101_0</td><td>1.0000</td></tr><tr><td>A93_0</td><td>A97_0</td><td>1.0000</td></tr><tr><td>A93_0</td><td>A99_0</td><td>1.0000</td></tr><tr><td>A93_0</td><td>A101_0</td><td>1.0000</td></tr><tr><td>A96_0</td><td>A100_0</td><td>1.0000</td></tr><tr><td>A93_0</td><td>A100_0</td><td>1.0000</td></tr><tr><td>A100_0</td><td>A101_0</td><td>1.0000</td></tr><tr><td>A99_0</td><td>A101_0</td><td>1.0000</td></tr><tr><td>A92_0</td><td>A98_0</td><td>1.0000</td></tr><tr><td>A99_0</td><td>A100_0</td><td>1.0000</td></tr><tr><td>A94_0</td><td>A98_0</td><td>1.0000</td></tr><tr><td>A95_0</td><td>A98_0</td><td>1.0000</td></tr><tr><td>A97_0</td><td>A98_0</td><td>1.0000</td></tr><tr><td>A96_0</td><td>A98_0</td><td>1.0000</td></tr><tr><td>A93_0</td><td>A98_0</td><td>1.0000</td></tr><tr><td>A98_0</td><td>A99_0</td><td>1.0000</td></tr><tr><td>A98_0</td><td>A101_0</td><td>1.0000</td></tr><tr><td>A98_0</td><td>A100_0</td><td>1.0000</td></tr><tr><td>A92_0</td><td>beta</td><td>-1.0000</td></tr><tr><td>beta</td><td>A93_0</td><td>-1.0000</td></tr><tr><td>beta</td><td>A95_0</td><td>-1.0000</td></tr><tr><td>beta</td><td>A94_0</td><td>-1.0000</td></tr><tr><td>beta</td><td>A96_0</td><td>-1.0000</td></tr><tr><td>beta</td><td>A97_0</td><td>-1.0000</td></tr><tr><td>beta</td><td>A99_0</td><td>-1.0000</td></tr><tr><td>beta</td><td>A101_0</td><td>-1.0000</td></tr><tr><td>beta</td><td>A100_0</td><td>-1.0000</td></tr><tr><td>beta</td><td>A98_0</td><td>-1.0000</td></tr><tr><td>beta</td><td>R</td><td>-1.0000</td></tr><tr><td>alpha</td><td>xp97_0</td><td>0.7420</td></tr><tr><td>alpha</td><td>xp101_0</td><td>0.7402</td></tr><tr><td>alpha</td><td>xp96_0</td><td>0.7400</td></tr><tr><td>alpha</td><td>xp99_0</td><td>0.7392</td></tr><tr><td>alpha</td><td>xp92_0</td><td>0.7371</td></tr><tr><td>alpha</td><td>xp100_0</td><td>0.7365</td></tr><tr><td>alpha</td><td>xp93_0</td><td>0.7359</td></tr><tr><td>alpha</td><td>xp95_0</td><td>0.7347</td></tr><tr><td>alpha</td><td>xp94_0</td><td>0.7316</td></tr><tr><td>alpha</td><td>xp98_0</td><td>0.7153</td></tr><tr><td>gamma</td><td>sigma</td><td>-0.7007</td></tr><tr><td>xp97_0</td><td>xp101_0</td><td>0.5610</td></tr><tr><td>xp97_0</td><td>xp99_0</td><td>0.5597</td></tr><tr><td>xp99_0</td><td>xp101_0</td><td>0.5594</td></tr><tr><td>xp96_0</td><td>xp97_0</td><td>0.5590</td></tr><tr><td>xp96_0</td><td>xp101_0</td><td>0.5585</td></tr><tr><td>xp97_0</td><td>xp100_0</td><td>0.5580</td></tr><tr><td>xp100_0</td><td>xp101_0</td><td>0.5579</td></tr><tr><td>xp96_0</td><td>xp99_0</td><td>0.5574</td></tr><tr><td>xp92_0</td><td>xp97_0</td><td>0.5567</td></tr><tr><td>xp92_0</td><td>xp101_0</td><td>0.5565</td></tr><tr><td>xp99_0</td><td>xp100_0</td><td>0.5563</td></tr><tr><td>xp95_0</td><td>xp97_0</td><td>0.5560</td></tr><tr><td>xp95_0</td><td>xp101_0</td><td>0.5559</td></tr><tr><td>xp93_0</td><td>xp97_0</td><td>0.5557</td></tr><tr><td>xp96_0</td><td>xp100_0</td><td>0.5553</td></tr><tr><td>xp93_0</td><td>xp101_0</td><td>0.5553</td></tr><tr><td>xp92_0</td><td>xp99_0</td><td>0.5550</td></tr><tr><td>xp95_0</td><td>xp99_0</td><td>0.5543</td></tr><tr><td>xp92_0</td><td>xp96_0</td><td>0.5541</td></tr><tr><td>xp93_0</td><td>xp99_0</td><td>0.5540</td></tr><tr><td>xp92_0</td><td>xp100_0</td><td>0.5538</td></tr><tr><td>xp94_0</td><td>xp97_0</td><td>0.5537</td></tr><tr><td>xp94_0</td><td>xp101_0</td><td>0.5537</td></tr><tr><td>xp95_0</td><td>xp100_0</td><td>0.5535</td></tr><tr><td>xp93_0</td><td>xp96_0</td><td>0.5534</td></tr><tr><td>xp95_0</td><td>xp96_0</td><td>0.5531</td></tr><tr><td>xp92_0</td><td>xp95_0</td><td>0.5525</td></tr><tr><td>xp93_0</td><td>xp100_0</td><td>0.5524</td></tr><tr><td>xp94_0</td><td>xp99_0</td><td>0.5520</td></tr><tr><td>xp92_0</td><td>xp93_0</td><td>0.5514</td></tr><tr><td>xp94_0</td><td>xp100_0</td><td>0.5514</td></tr><tr><td>xp94_0</td><td>xp96_0</td><td>0.5508</td></tr><tr><td>xp93_0</td><td>xp95_0</td><td>0.5507</td></tr><tr><td>xp92_0</td><td>xp94_0</td><td>0.5504</td></tr><tr><td>xp94_0</td><td>xp95_0</td><td>0.5503</td></tr><tr><td>xp93_0</td><td>xp94_0</td><td>0.5485</td></tr><tr><td>xp98_0</td><td>xp101_0</td><td>0.5426</td></tr><tr><td>xp97_0</td><td>xp98_0</td><td>0.5426</td></tr><tr><td>xp98_0</td><td>xp99_0</td><td>0.5409</td></tr><tr><td>xp98_0</td><td>xp100_0</td><td>0.5400</td></tr><tr><td>xp96_0</td><td>xp98_0</td><td>0.5398</td></tr><tr><td>xp92_0</td><td>xp98_0</td><td>0.5388</td></tr><tr><td>xp95_0</td><td>xp98_0</td><td>0.5386</td></tr><tr><td>xp93_0</td><td>xp98_0</td><td>0.5372</td></tr><tr><td>xp94_0</td><td>xp98_0</td><td>0.5366</td></tr><tr><td>alpha</td><td>sigma</td><td>0.5105</td></tr><tr><td>beta</td><td>gamma</td><td>-0.5096</td></tr><tr><td>A92_0</td><td>gamma</td><td>0.5091</td></tr><tr><td>gamma</td><td>A93_0</td><td>0.5091</td></tr><tr><td>gamma</td><td>A94_0</td><td>0.5091</td></tr><tr><td>gamma</td><td>A99_0</td><td>0.5091</td></tr><tr><td>gamma</td><td>A95_0</td><td>0.5091</td></tr><tr><td>gamma</td><td>A96_0</td><td>0.5091</td></tr><tr><td>gamma</td><td>A97_0</td><td>0.5091</td></tr><tr><td>gamma</td><td>A98_0</td><td>0.5091</td></tr><tr><td>gamma</td><td>A100_0</td><td>0.5091</td></tr><tr><td>gamma</td><td>A101_0</td><td>0.5091</td></tr><tr><td>R</td><td>gamma</td><td>0.5091</td></tr><tr><td>beta</td><td>sigma</td><td>0.4419</td></tr><tr><td>sigma</td><td>A101_0</td><td>-0.4416</td></tr><tr><td>sigma</td><td>A99_0</td><td>-0.4416</td></tr><tr><td>sigma</td><td>A98_0</td><td>-0.4416</td></tr><tr><td>sigma</td><td>A100_0</td><td>-0.4416</td></tr><tr><td>sigma</td><td>A97_0</td><td>-0.4416</td></tr><tr><td>sigma</td><td>A96_0</td><td>-0.4416</td></tr><tr><td>sigma</td><td>A94_0</td><td>-0.4416</td></tr><tr><td>sigma</td><td>A93_0</td><td>-0.4416</td></tr><tr><td>sigma</td><td>A95_0</td><td>-0.4416</td></tr><tr><td>A92_0</td><td>sigma</td><td>-0.4415</td></tr><tr><td>R</td><td>sigma</td><td>-0.4415</td></tr><tr><td>sigma</td><td>xp96_0</td><td>0.4260</td></tr><tr><td>sigma</td><td>xp99_0</td><td>0.4223</td></tr><tr><td>sigma</td><td>xp97_0</td><td>0.4222</td></tr><tr><td>sigma</td><td>xp101_0</td><td>0.4193</td></tr><tr><td>sigma</td><td>xp93_0</td><td>0.4132</td></tr><tr><td>sigma</td><td>xp100_0</td><td>0.4107</td></tr><tr><td>sigma</td><td>xp92_0</td><td>0.4057</td></tr><tr><td>sigma</td><td>xp95_0</td><td>0.4013</td></tr><tr><td>sigma</td><td>xp94_0</td><td>0.3967</td></tr><tr><td>sigma</td><td>xp98_0</td><td>0.3957</td></tr><tr><td>alpha</td><td>A101_0</td><td>-0.1390</td></tr><tr><td>alpha</td><td>A98_0</td><td>-0.1390</td></tr><tr><td>alpha</td><td>A99_0</td><td>-0.1390</td></tr><tr><td>alpha</td><td>A97_0</td><td>-0.1390</td></tr><tr><td>alpha</td><td>A96_0</td><td>-0.1390</td></tr><tr><td>alpha</td><td>A94_0</td><td>-0.1390</td></tr><tr><td>alpha</td><td>A93_0</td><td>-0.1390</td></tr><tr><td>alpha</td><td>A100_0</td><td>-0.1390</td></tr><tr><td>alpha</td><td>A95_0</td><td>-0.1390</td></tr><tr><td>alpha</td><td>R</td><td>-0.1390</td></tr><tr><td>A92_0</td><td>alpha</td><td>-0.1390</td></tr><tr><td>alpha</td><td>beta</td><td>0.1389</td></tr></table>"
      ],
      "text/plain": [
       "<lmfit.minimizer.MinimizerResult at 0x1e62d3e9788>"
      ]
     },
     "execution_count": 138,
     "metadata": {},
     "output_type": "execute_result"
    }
   ],
   "source": [
    "fitKey = '6_10'\n",
    "xwFit[fitKey][0].result"
   ]
  },
  {
   "cell_type": "code",
   "execution_count": 69,
   "metadata": {
    "Collapsed": "false",
    "hidden": true,
    "scrolled": true
   },
   "outputs": [
    {
     "data": {
      "text/html": [
       "<h2>Fit Statistics</h2><table><tr><td>fitting method</td><td>leastsq</td><td></td></tr><tr><td># function evals</td><td>97</td><td></td></tr><tr><td># data points</td><td>720</td><td></td></tr><tr><td># variables</td><td>23</td><td></td></tr><tr><td>chi-square</td><td> 3601.54806</td><td></td></tr><tr><td>reduced chi-square</td><td> 5.16721386</td><td></td></tr><tr><td>Akaike info crit.</td><td> 1205.10484</td><td></td></tr><tr><td>Bayesian info crit.</td><td> 1310.42762</td><td></td></tr></table><h2>Variables</h2><table><tr><th> name </th><th> value </th><th> standard error </th><th> relative error </th><th> initial value </th><th> min </th><th> max </th><th> vary </th></tr><tr><td> A92_0 </td><td>  134867.923 </td><td>  1514.28819 </td><td> (1.12%) </td><td> 170202.6574611071 </td><td>  0.00000000 </td><td>         inf </td><td> True </td></tr><tr><td> alpha </td><td>  204.289064 </td><td>  2.08768170 </td><td> (1.02%) </td><td> 204.29670195386828 </td><td>  0.00000000 </td><td>         inf </td><td> True </td></tr><tr><td> beta </td><td>  1.0000e-10 </td><td>  0.00000000 </td><td> (0.00%) </td><td> 1e-10 </td><td>  0.00000000 </td><td>         inf </td><td> False </td></tr><tr><td> R </td><td>  1.0000e-10 </td><td>  0.00000000 </td><td> (0.00%) </td><td> 1e-10 </td><td>  0.00000000 </td><td>         inf </td><td> False </td></tr><tr><td> gamma </td><td>  4.0380e-04 </td><td>  4.7247e-05 </td><td> (11.70%) </td><td> 0.0003279360063881409 </td><td>  0.00000000 </td><td>         inf </td><td> True </td></tr><tr><td> sigma </td><td>  0.00576362 </td><td>  8.2912e-05 </td><td> (1.44%) </td><td> 0.00584477264591543 </td><td>  0.00000000 </td><td>         inf </td><td> True </td></tr><tr><td> k </td><td>  0.05000000 </td><td>  0.00000000 </td><td> (0.00%) </td><td> 0.05 </td><td>  0.00000000 </td><td>         inf </td><td> False </td></tr><tr><td> xp92_0 </td><td> -6.01267541 </td><td>  1.6875e-04 </td><td> (0.00%) </td><td> -6.012672744868452 </td><td>        -inf </td><td>         inf </td><td> True </td></tr><tr><td> A93_0 </td><td>  130780.865 </td><td>  1493.42437 </td><td> (1.14%) </td><td> 165052.4453161533 </td><td>  0.00000000 </td><td>         inf </td><td> True </td></tr><tr><td> xp93_0 </td><td> -6.01271390 </td><td>  1.6980e-04 </td><td> (0.00%) </td><td> -6.012710888386104 </td><td>        -inf </td><td>         inf </td><td> True </td></tr><tr><td> A94_0 </td><td>  129209.502 </td><td>  1484.00242 </td><td> (1.15%) </td><td> 163071.0328196604 </td><td>  0.00000000 </td><td>         inf </td><td> True </td></tr><tr><td> xp94_0 </td><td> -6.01262186 </td><td>  1.7045e-04 </td><td> (0.00%) </td><td> -6.0126186562393675 </td><td>        -inf </td><td>         inf </td><td> True </td></tr><tr><td> A95_0 </td><td>  127756.892 </td><td>  1471.70602 </td><td> (1.15%) </td><td> 161233.4350267119 </td><td>  0.00000000 </td><td>         inf </td><td> True </td></tr><tr><td> xp95_0 </td><td> -6.01255119 </td><td>  1.7062e-04 </td><td> (0.00%) </td><td> -6.012547617828749 </td><td>        -inf </td><td>         inf </td><td> True </td></tr><tr><td> A96_0 </td><td>  124568.395 </td><td>  1452.55754 </td><td> (1.17%) </td><td> 157213.52525176867 </td><td>  0.00000000 </td><td>         inf </td><td> True </td></tr><tr><td> xp96_0 </td><td> -6.01241614 </td><td>  1.7126e-04 </td><td> (0.00%) </td><td> -6.012411825881505 </td><td>        -inf </td><td>         inf </td><td> True </td></tr><tr><td> A97_0 </td><td>  123132.783 </td><td>  1440.33848 </td><td> (1.17%) </td><td> 155403.4580321308 </td><td>  0.00000000 </td><td>         inf </td><td> True </td></tr><tr><td> xp97_0 </td><td> -6.01237757 </td><td>  1.7168e-04 </td><td> (0.00%) </td><td> -6.012372771403128 </td><td>        -inf </td><td>         inf </td><td> True </td></tr><tr><td> A98_0 </td><td>  118801.412 </td><td>  1511.63918 </td><td> (1.27%) </td><td> 149936.88309016725 </td><td>  0.00000000 </td><td>         inf </td><td> True </td></tr><tr><td> xp98_0 </td><td> -6.01224993 </td><td>  1.7828e-04 </td><td> (0.00%) </td><td> -6.012245282946177 </td><td>        -inf </td><td>         inf </td><td> True </td></tr><tr><td> A99_0 </td><td>  117645.377 </td><td>  1408.67793 </td><td> (1.20%) </td><td> 148483.85987762304 </td><td>  0.00000000 </td><td>         inf </td><td> True </td></tr><tr><td> xp99_0 </td><td> -6.01223305 </td><td>  1.7310e-04 </td><td> (0.00%) </td><td> -6.012227815869245 </td><td>        -inf </td><td>         inf </td><td> True </td></tr><tr><td> A100_0 </td><td>  116589.451 </td><td>  1398.79384 </td><td> (1.20%) </td><td> 147160.0149100272 </td><td>  0.00000000 </td><td>         inf </td><td> True </td></tr><tr><td> xp100_0 </td><td> -6.01214109 </td><td>  1.7363e-04 </td><td> (0.00%) </td><td> -6.0121363392154885 </td><td>        -inf </td><td>         inf </td><td> True </td></tr><tr><td> A101_0 </td><td>  116002.833 </td><td>  1394.91871 </td><td> (1.20%) </td><td> 146420.24070574794 </td><td>  0.00000000 </td><td>         inf </td><td> True </td></tr><tr><td> xp101_0 </td><td> -6.01215778 </td><td>  1.7368e-04 </td><td> (0.00%) </td><td> -6.012152421714552 </td><td>        -inf </td><td>         inf </td><td> True </td></tr></table><h2>Correlations (unreported correlations are < 0.100)</h2><table><tr><td>alpha</td><td>xp97_0</td><td>0.7386</td></tr><tr><td>alpha</td><td>xp101_0</td><td>0.7374</td></tr><tr><td>alpha</td><td>xp92_0</td><td>0.7361</td></tr><tr><td>alpha</td><td>xp99_0</td><td>0.7357</td></tr><tr><td>alpha</td><td>xp96_0</td><td>0.7355</td></tr><tr><td>alpha</td><td>xp95_0</td><td>0.7352</td></tr><tr><td>alpha</td><td>xp100_0</td><td>0.7349</td></tr><tr><td>alpha</td><td>xp93_0</td><td>0.7332</td></tr><tr><td>alpha</td><td>xp94_0</td><td>0.7330</td></tr><tr><td>alpha</td><td>xp98_0</td><td>0.7149</td></tr><tr><td>alpha</td><td>sigma</td><td>0.5803</td></tr><tr><td>xp97_0</td><td>xp101_0</td><td>0.5554</td></tr><tr><td>xp97_0</td><td>xp99_0</td><td>0.5539</td></tr><tr><td>xp99_0</td><td>xp101_0</td><td>0.5537</td></tr><tr><td>xp97_0</td><td>xp100_0</td><td>0.5530</td></tr><tr><td>xp96_0</td><td>xp97_0</td><td>0.5529</td></tr><tr><td>xp100_0</td><td>xp101_0</td><td>0.5528</td></tr><tr><td>xp96_0</td><td>xp101_0</td><td>0.5527</td></tr><tr><td>xp92_0</td><td>xp97_0</td><td>0.5521</td></tr><tr><td>xp95_0</td><td>xp97_0</td><td>0.5521</td></tr><tr><td>xp95_0</td><td>xp101_0</td><td>0.5518</td></tr><tr><td>xp92_0</td><td>xp101_0</td><td>0.5518</td></tr><tr><td>xp99_0</td><td>xp100_0</td><td>0.5513</td></tr><tr><td>xp96_0</td><td>xp99_0</td><td>0.5511</td></tr><tr><td>xp92_0</td><td>xp99_0</td><td>0.5503</td></tr><tr><td>xp95_0</td><td>xp99_0</td><td>0.5503</td></tr><tr><td>xp94_0</td><td>xp97_0</td><td>0.5503</td></tr><tr><td>xp93_0</td><td>xp97_0</td><td>0.5503</td></tr><tr><td>xp96_0</td><td>xp100_0</td><td>0.5503</td></tr><tr><td>xp94_0</td><td>xp101_0</td><td>0.5500</td></tr><tr><td>xp93_0</td><td>xp101_0</td><td>0.5500</td></tr><tr><td>xp92_0</td><td>xp100_0</td><td>0.5495</td></tr><tr><td>xp92_0</td><td>xp96_0</td><td>0.5495</td></tr><tr><td>xp95_0</td><td>xp100_0</td><td>0.5495</td></tr><tr><td>xp95_0</td><td>xp96_0</td><td>0.5494</td></tr><tr><td>xp92_0</td><td>xp95_0</td><td>0.5488</td></tr><tr><td>xp94_0</td><td>xp99_0</td><td>0.5485</td></tr><tr><td>xp93_0</td><td>xp99_0</td><td>0.5485</td></tr><tr><td>xp94_0</td><td>xp100_0</td><td>0.5477</td></tr><tr><td>xp93_0</td><td>xp100_0</td><td>0.5477</td></tr><tr><td>xp94_0</td><td>xp96_0</td><td>0.5476</td></tr><tr><td>xp93_0</td><td>xp96_0</td><td>0.5476</td></tr><tr><td>xp92_0</td><td>xp93_0</td><td>0.5471</td></tr><tr><td>xp92_0</td><td>xp94_0</td><td>0.5471</td></tr><tr><td>xp94_0</td><td>xp95_0</td><td>0.5469</td></tr><tr><td>xp93_0</td><td>xp95_0</td><td>0.5469</td></tr><tr><td>xp93_0</td><td>xp94_0</td><td>0.5452</td></tr><tr><td>xp97_0</td><td>xp98_0</td><td>0.5382</td></tr><tr><td>xp98_0</td><td>xp101_0</td><td>0.5380</td></tr><tr><td>xp98_0</td><td>xp99_0</td><td>0.5365</td></tr><tr><td>xp98_0</td><td>xp100_0</td><td>0.5356</td></tr><tr><td>xp96_0</td><td>xp98_0</td><td>0.5355</td></tr><tr><td>xp92_0</td><td>xp98_0</td><td>0.5347</td></tr><tr><td>xp95_0</td><td>xp98_0</td><td>0.5347</td></tr><tr><td>xp94_0</td><td>xp98_0</td><td>0.5330</td></tr><tr><td>xp93_0</td><td>xp98_0</td><td>0.5329</td></tr><tr><td>gamma</td><td>sigma</td><td>-0.4948</td></tr><tr><td>sigma</td><td>xp101_0</td><td>0.4941</td></tr><tr><td>sigma</td><td>xp99_0</td><td>0.4924</td></tr><tr><td>sigma</td><td>xp97_0</td><td>0.4924</td></tr><tr><td>sigma</td><td>xp100_0</td><td>0.4900</td></tr><tr><td>sigma</td><td>xp96_0</td><td>0.4891</td></tr><tr><td>sigma</td><td>xp95_0</td><td>0.4862</td></tr><tr><td>sigma</td><td>xp94_0</td><td>0.4843</td></tr><tr><td>sigma</td><td>xp92_0</td><td>0.4837</td></tr><tr><td>sigma</td><td>xp93_0</td><td>0.4835</td></tr><tr><td>sigma</td><td>xp98_0</td><td>0.4779</td></tr><tr><td>alpha</td><td>gamma</td><td>0.2181</td></tr><tr><td>gamma</td><td>xp101_0</td><td>0.1416</td></tr><tr><td>gamma</td><td>xp100_0</td><td>0.1403</td></tr><tr><td>gamma</td><td>xp99_0</td><td>0.1395</td></tr><tr><td>gamma</td><td>xp97_0</td><td>0.1394</td></tr><tr><td>gamma</td><td>xp96_0</td><td>0.1374</td></tr><tr><td>gamma</td><td>xp95_0</td><td>0.1367</td></tr><tr><td>gamma</td><td>xp92_0</td><td>0.1366</td></tr><tr><td>gamma</td><td>xp98_0</td><td>0.1364</td></tr><tr><td>gamma</td><td>xp93_0</td><td>0.1363</td></tr><tr><td>gamma</td><td>xp94_0</td><td>0.1360</td></tr></table>"
      ],
      "text/plain": [
       "<lmfit.minimizer.MinimizerResult at 0x1e62b8e8448>"
      ]
     },
     "execution_count": 69,
     "metadata": {},
     "output_type": "execute_result"
    }
   ],
   "source": [
    "xwFit[fitKey][1].result"
   ]
  },
  {
   "cell_type": "code",
   "execution_count": 143,
   "metadata": {
    "Collapsed": "false",
    "hidden": true,
    "scrolled": true
   },
   "outputs": [
    {
     "data": {
      "text/html": [
       "<h2>Fit Statistics</h2><table><tr><td>fitting method</td><td>leastsq</td><td></td></tr><tr><td># function evals</td><td>22</td><td></td></tr><tr><td># data points</td><td>720</td><td></td></tr><tr><td># variables</td><td>20</td><td></td></tr><tr><td>chi-square</td><td> 3601.54806</td><td></td></tr><tr><td>reduced chi-square</td><td> 5.14506866</td><td></td></tr><tr><td>Akaike info crit.</td><td> 1199.10484</td><td></td></tr><tr><td>Bayesian info crit.</td><td> 1290.68987</td><td></td></tr></table><h2>Variables</h2><table><tr><th> name </th><th> value </th><th> standard error </th><th> relative error </th><th> initial value </th><th> min </th><th> max </th><th> vary </th></tr><tr><td> A92_0 </td><td>  134867.840 </td><td>  1501.04739 </td><td> (1.11%) </td><td> 134867.92285459788 </td><td>  0.00000000 </td><td>         inf </td><td> True </td></tr><tr><td> alpha </td><td>  204.289064 </td><td>  0.00000000 </td><td> (0.00%) </td><td> 204.28906356250477 </td><td>  0.00000000 </td><td>         inf </td><td> False </td></tr><tr><td> beta </td><td>  1.0000e-10 </td><td>  0.00000000 </td><td> (0.00%) </td><td> 1e-10 </td><td>  0.00000000 </td><td>         inf </td><td> False </td></tr><tr><td> R </td><td>  1.0000e-10 </td><td>  0.00000000 </td><td> (0.00%) </td><td> 1e-10 </td><td>  0.00000000 </td><td>         inf </td><td> False </td></tr><tr><td> gamma </td><td>  4.0380e-04 </td><td>  0.00000000 </td><td> (0.00%) </td><td> 0.0004037995499786007 </td><td>  0.00000000 </td><td>         inf </td><td> False </td></tr><tr><td> sigma </td><td>  0.00576362 </td><td>  0.00000000 </td><td> (0.00%) </td><td> 0.005763616078068523 </td><td>  0.00000000 </td><td>         inf </td><td> False </td></tr><tr><td> k </td><td>  0.05000000 </td><td>  0.00000000 </td><td> (0.00%) </td><td> 0.05 </td><td>  0.00000000 </td><td>         inf </td><td> False </td></tr><tr><td> xp92_0 </td><td> -6.01267543 </td><td>  1.1309e-04 </td><td> (0.00%) </td><td> -6.012675413779629 </td><td>        -inf </td><td>         inf </td><td> True </td></tr><tr><td> A93_0 </td><td>  130780.789 </td><td>  1480.71276 </td><td> (1.13%) </td><td> 130780.86547387339 </td><td>  0.00000000 </td><td>         inf </td><td> True </td></tr><tr><td> xp93_0 </td><td> -6.01271391 </td><td>  1.1427e-04 </td><td> (0.00%) </td><td> -6.0127138955664945 </td><td>        -inf </td><td>         inf </td><td> True </td></tr><tr><td> A94_0 </td><td>  129209.417 </td><td>  1471.58481 </td><td> (1.14%) </td><td> 129209.50220248906 </td><td>  0.00000000 </td><td>         inf </td><td> True </td></tr><tr><td> xp94_0 </td><td> -6.01262188 </td><td>  1.1471e-04 </td><td> (0.00%) </td><td> -6.012621862569611 </td><td>        -inf </td><td>         inf </td><td> True </td></tr><tr><td> A95_0 </td><td>  127756.809 </td><td>  1459.77814 </td><td> (1.14%) </td><td> 127756.89192319845 </td><td>  0.00000000 </td><td>         inf </td><td> True </td></tr><tr><td> xp95_0 </td><td> -6.01255121 </td><td>  1.1438e-04 </td><td> (0.00%) </td><td> -6.012551191032652 </td><td>        -inf </td><td>         inf </td><td> True </td></tr><tr><td> A96_0 </td><td>  124568.375 </td><td>  1441.04656 </td><td> (1.16%) </td><td> 124568.39510356305 </td><td>  0.00000000 </td><td>         inf </td><td> True </td></tr><tr><td> xp96_0 </td><td> -6.01241616 </td><td>  1.1462e-04 </td><td> (0.00%) </td><td> -6.01241614449934 </td><td>        -inf </td><td>         inf </td><td> True </td></tr><tr><td> A97_0 </td><td>  123132.779 </td><td>  1429.11985 </td><td> (1.16%) </td><td> 123132.7831015096 </td><td>  0.00000000 </td><td>         inf </td><td> True </td></tr><tr><td> xp97_0 </td><td> -6.01237759 </td><td>  1.1420e-04 </td><td> (0.00%) </td><td> -6.012377574542189 </td><td>        -inf </td><td>         inf </td><td> True </td></tr><tr><td> A98_0 </td><td>  118801.448 </td><td>  1501.25674 </td><td> (1.26%) </td><td> 118801.41226173526 </td><td>  0.00000000 </td><td>         inf </td><td> True </td></tr><tr><td> xp98_0 </td><td> -6.01224995 </td><td>  1.2309e-04 </td><td> (0.00%) </td><td> -6.012249929253912 </td><td>        -inf </td><td>         inf </td><td> True </td></tr><tr><td> A99_0 </td><td>  117645.411 </td><td>  1398.04946 </td><td> (1.19%) </td><td> 117645.37682893277 </td><td>  0.00000000 </td><td>         inf </td><td> True </td></tr><tr><td> xp99_0 </td><td> -6.01223307 </td><td>  1.1559e-04 </td><td> (0.00%) </td><td> -6.012233045635971 </td><td>        -inf </td><td>         inf </td><td> True </td></tr><tr><td> A100_0 </td><td>  116589.464 </td><td>  1388.54357 </td><td> (1.19%) </td><td> 116589.45055101413 </td><td>  0.00000000 </td><td>         inf </td><td> True </td></tr><tr><td> xp100_0 </td><td> -6.01214111 </td><td>  1.1617e-04 </td><td> (0.00%) </td><td> -6.012141086750788 </td><td>        -inf </td><td>         inf </td><td> True </td></tr><tr><td> A101_0 </td><td>  116002.881 </td><td>  1384.62654 </td><td> (1.19%) </td><td> 116002.83290232261 </td><td>  0.00000000 </td><td>         inf </td><td> True </td></tr><tr><td> xp101_0 </td><td> -6.01215780 </td><td>  1.1557e-04 </td><td> (0.00%) </td><td> -6.012157775643261 </td><td>        -inf </td><td>         inf </td><td> True </td></tr></table><h2>Correlations (unreported correlations are < 0.100)</h2><table><tr><td>A93_0</td><td>xp93_0</td><td>0.1064</td></tr><tr><td>A95_0</td><td>xp95_0</td><td>0.1056</td></tr><tr><td>A99_0</td><td>xp99_0</td><td>0.1049</td></tr><tr><td>A96_0</td><td>xp96_0</td><td>0.1042</td></tr><tr><td>A97_0</td><td>xp97_0</td><td>0.1039</td></tr><tr><td>A98_0</td><td>xp98_0</td><td>0.1037</td></tr><tr><td>A94_0</td><td>xp94_0</td><td>0.1020</td></tr><tr><td>A92_0</td><td>xp92_0</td><td>0.1019</td></tr><tr><td>A101_0</td><td>xp101_0</td><td>0.1014</td></tr><tr><td>A100_0</td><td>xp100_0</td><td>0.1006</td></tr></table>"
      ],
      "text/plain": [
       "<lmfit.minimizer.MinimizerResult at 0x1e62d6fcd48>"
      ]
     },
     "execution_count": 143,
     "metadata": {},
     "output_type": "execute_result"
    }
   ],
   "source": [
    "xwFit[fitKey][2].result"
   ]
  },
  {
   "cell_type": "markdown",
   "metadata": {
    "heading_collapsed": true,
    "hidden": true
   },
   "source": [
    "#### Results of weighted fit with 10 datasets on (10 10 0) peak"
   ]
  },
  {
   "cell_type": "code",
   "execution_count": 70,
   "metadata": {
    "Collapsed": "false",
    "hidden": true,
    "scrolled": true
   },
   "outputs": [
    {
     "data": {
      "text/html": [
       "<h2>Fit Statistics</h2><table><tr><td>fitting method</td><td>leastsq</td><td></td></tr><tr><td># function evals</td><td>427</td><td></td></tr><tr><td># data points</td><td>1200</td><td></td></tr><tr><td># variables</td><td>25</td><td></td></tr><tr><td>chi-square</td><td> 2290.01859</td><td></td></tr><tr><td>reduced chi-square</td><td> 1.94895199</td><td></td></tr><tr><td>Akaike info crit.</td><td> 825.486054</td><td></td></tr><tr><td>Bayesian info crit.</td><td> 952.737975</td><td></td></tr></table><h2>Variables</h2><table><tr><th> name </th><th> value </th><th> standard error </th><th> relative error </th><th> initial value </th><th> min </th><th> max </th><th> vary </th></tr><tr><td> A92_0 </td><td>  234011.974 </td><td>  3287.94636 </td><td> (1.41%) </td><td> 200000.0 </td><td>  0.00000000 </td><td>         inf </td><td> True </td></tr><tr><td> alpha </td><td>  95.4374390 </td><td>  0.61906034 </td><td> (0.65%) </td><td> 140 </td><td>  0.00000000 </td><td>         inf </td><td> True </td></tr><tr><td> beta </td><td>  1330.01209 </td><td>  989923.585 </td><td> (74429.67%) </td><td> 0.001 </td><td>  0.00000000 </td><td>         inf </td><td> True </td></tr><tr><td> R </td><td>  6.8363e-04 </td><td>  0.97074280 </td><td> (141997.37%) </td><td> 0.001 </td><td>  0.00000000 </td><td>         inf </td><td> True </td></tr><tr><td> gamma </td><td>  4.0579e-04 </td><td>  3.3310e-05 </td><td> (8.21%) </td><td> 0.001 </td><td>  0.00000000 </td><td>         inf </td><td> True </td></tr><tr><td> sigma </td><td>  0.00405638 </td><td>  2.3674e-04 </td><td> (5.84%) </td><td> 0.0066 </td><td>  0.00000000 </td><td>         inf </td><td> True </td></tr><tr><td> k </td><td>  0.05000000 </td><td>  0.00000000 </td><td> (0.00%) </td><td> 0.05 </td><td>  0.00000000 </td><td>         inf </td><td> False </td></tr><tr><td> xp92_0 </td><td> -10.0235600 </td><td>  6.2411e-04 </td><td> (0.01%) </td><td> -10.0 </td><td>        -inf </td><td>         inf </td><td> True </td></tr><tr><td> A93_0 </td><td>  230335.938 </td><td>  3272.55345 </td><td> (1.42%) </td><td> 200000.0 </td><td>  0.00000000 </td><td>         inf </td><td> True </td></tr><tr><td> xp93_0 </td><td> -10.0238600 </td><td>  6.1693e-04 </td><td> (0.01%) </td><td> -10.0 </td><td>        -inf </td><td>         inf </td><td> True </td></tr><tr><td> A94_0 </td><td>  230898.755 </td><td>  3272.00053 </td><td> (1.42%) </td><td> 200000.0 </td><td>  0.00000000 </td><td>         inf </td><td> True </td></tr><tr><td> xp94_0 </td><td> -10.0235305 </td><td>  6.4378e-04 </td><td> (0.01%) </td><td> -10.0 </td><td>        -inf </td><td>         inf </td><td> True </td></tr><tr><td> A95_0 </td><td>  230915.512 </td><td>  3275.81809 </td><td> (1.42%) </td><td> 200000.0 </td><td>  0.00000000 </td><td>         inf </td><td> True </td></tr><tr><td> xp95_0 </td><td> -10.0239042 </td><td>  6.1344e-04 </td><td> (0.01%) </td><td> -10.0 </td><td>        -inf </td><td>         inf </td><td> True </td></tr><tr><td> A96_0 </td><td>  231520.418 </td><td>  3232.35949 </td><td> (1.40%) </td><td> 200000.0 </td><td>  0.00000000 </td><td>         inf </td><td> True </td></tr><tr><td> xp96_0 </td><td> -10.0236666 </td><td>  6.3629e-04 </td><td> (0.01%) </td><td> -10.0 </td><td>        -inf </td><td>         inf </td><td> True </td></tr><tr><td> A97_0 </td><td>  225992.730 </td><td>  3223.75822 </td><td> (1.43%) </td><td> 200000.0 </td><td>  0.00000000 </td><td>         inf </td><td> True </td></tr><tr><td> xp97_0 </td><td> -10.0236514 </td><td>  6.2541e-04 </td><td> (0.01%) </td><td> -10.0 </td><td>        -inf </td><td>         inf </td><td> True </td></tr><tr><td> A98_0 </td><td>  228048.184 </td><td>  3451.01309 </td><td> (1.51%) </td><td> 200000.0 </td><td>  0.00000000 </td><td>         inf </td><td> True </td></tr><tr><td> xp98_0 </td><td> -10.0236055 </td><td>  6.4388e-04 </td><td> (0.01%) </td><td> -10.0 </td><td>        -inf </td><td>         inf </td><td> True </td></tr><tr><td> A99_0 </td><td>  227460.513 </td><td>  3246.90507 </td><td> (1.43%) </td><td> 200000.0 </td><td>  0.00000000 </td><td>         inf </td><td> True </td></tr><tr><td> xp99_0 </td><td> -10.0237451 </td><td>  5.9158e-04 </td><td> (0.01%) </td><td> -10.0 </td><td>        -inf </td><td>         inf </td><td> True </td></tr><tr><td> A100_0 </td><td>  227037.741 </td><td>  3200.28314 </td><td> (1.41%) </td><td> 200000.0 </td><td>  0.00000000 </td><td>         inf </td><td> True </td></tr><tr><td> xp100_0 </td><td> -10.0235382 </td><td>  6.4832e-04 </td><td> (0.01%) </td><td> -10.0 </td><td>        -inf </td><td>         inf </td><td> True </td></tr><tr><td> A101_0 </td><td>  225057.609 </td><td>  3242.91312 </td><td> (1.44%) </td><td> 200000.0 </td><td>  0.00000000 </td><td>         inf </td><td> True </td></tr><tr><td> xp101_0 </td><td> -10.0237091 </td><td>  5.8421e-04 </td><td> (0.01%) </td><td> -10.0 </td><td>        -inf </td><td>         inf </td><td> True </td></tr></table><h2>Correlations (unreported correlations are < 0.100)</h2><table><tr><td>xp96_0</td><td>xp100_0</td><td>0.8975</td></tr><tr><td>xp92_0</td><td>xp100_0</td><td>0.8942</td></tr><tr><td>xp94_0</td><td>xp100_0</td><td>0.8941</td></tr><tr><td>xp95_0</td><td>xp100_0</td><td>0.8939</td></tr><tr><td>xp98_0</td><td>xp100_0</td><td>0.8931</td></tr><tr><td>xp92_0</td><td>xp96_0</td><td>0.8928</td></tr><tr><td>xp94_0</td><td>xp97_0</td><td>0.8927</td></tr><tr><td>xp97_0</td><td>xp100_0</td><td>0.8927</td></tr><tr><td>xp99_0</td><td>xp100_0</td><td>0.8913</td></tr><tr><td>xp93_0</td><td>xp100_0</td><td>0.8909</td></tr><tr><td>xp95_0</td><td>xp96_0</td><td>0.8908</td></tr><tr><td>xp93_0</td><td>xp94_0</td><td>0.8897</td></tr><tr><td>xp96_0</td><td>xp98_0</td><td>0.8895</td></tr><tr><td>xp96_0</td><td>xp99_0</td><td>0.8889</td></tr><tr><td>xp94_0</td><td>xp98_0</td><td>0.8889</td></tr><tr><td>xp94_0</td><td>xp95_0</td><td>0.8884</td></tr><tr><td>xp92_0</td><td>xp95_0</td><td>0.8876</td></tr><tr><td>xp94_0</td><td>xp96_0</td><td>0.8874</td></tr><tr><td>xp96_0</td><td>xp97_0</td><td>0.8872</td></tr><tr><td>xp95_0</td><td>xp98_0</td><td>0.8869</td></tr><tr><td>xp97_0</td><td>xp98_0</td><td>0.8869</td></tr><tr><td>xp100_0</td><td>xp101_0</td><td>0.8869</td></tr><tr><td>xp95_0</td><td>xp97_0</td><td>0.8868</td></tr><tr><td>xp93_0</td><td>xp97_0</td><td>0.8867</td></tr><tr><td>xp92_0</td><td>xp98_0</td><td>0.8864</td></tr><tr><td>xp93_0</td><td>xp96_0</td><td>0.8861</td></tr><tr><td>xp92_0</td><td>xp99_0</td><td>0.8856</td></tr><tr><td>xp95_0</td><td>xp99_0</td><td>0.8851</td></tr><tr><td>xp93_0</td><td>xp95_0</td><td>0.8850</td></tr><tr><td>xp92_0</td><td>xp94_0</td><td>0.8850</td></tr><tr><td>xp96_0</td><td>xp101_0</td><td>0.8849</td></tr><tr><td>xp93_0</td><td>xp98_0</td><td>0.8849</td></tr><tr><td>xp92_0</td><td>xp97_0</td><td>0.8845</td></tr><tr><td>xp98_0</td><td>xp99_0</td><td>0.8842</td></tr><tr><td>xp94_0</td><td>xp99_0</td><td>0.8842</td></tr><tr><td>xp92_0</td><td>xp93_0</td><td>0.8833</td></tr><tr><td>xp97_0</td><td>xp99_0</td><td>0.8833</td></tr><tr><td>xp93_0</td><td>xp99_0</td><td>0.8817</td></tr><tr><td>xp92_0</td><td>xp101_0</td><td>0.8815</td></tr><tr><td>xp95_0</td><td>xp101_0</td><td>0.8807</td></tr><tr><td>xp98_0</td><td>xp101_0</td><td>0.8797</td></tr><tr><td>xp94_0</td><td>xp101_0</td><td>0.8791</td></tr><tr><td>xp99_0</td><td>xp101_0</td><td>0.8788</td></tr><tr><td>xp97_0</td><td>xp101_0</td><td>0.8784</td></tr><tr><td>xp93_0</td><td>xp101_0</td><td>0.8770</td></tr><tr><td>R</td><td>xp94_0</td><td>-0.8378</td></tr><tr><td>R</td><td>xp97_0</td><td>-0.8186</td></tr><tr><td>R</td><td>xp93_0</td><td>-0.8099</td></tr><tr><td>R</td><td>xp98_0</td><td>-0.7962</td></tr><tr><td>R</td><td>xp100_0</td><td>-0.7941</td></tr><tr><td>R</td><td>xp95_0</td><td>-0.7897</td></tr><tr><td>R</td><td>xp99_0</td><td>-0.7763</td></tr><tr><td>R</td><td>xp92_0</td><td>-0.7715</td></tr><tr><td>R</td><td>xp96_0</td><td>-0.7699</td></tr><tr><td>R</td><td>xp101_0</td><td>-0.7681</td></tr><tr><td>sigma</td><td>xp96_0</td><td>0.6753</td></tr><tr><td>sigma</td><td>xp99_0</td><td>0.6727</td></tr><tr><td>sigma</td><td>xp101_0</td><td>0.6699</td></tr><tr><td>sigma</td><td>xp92_0</td><td>0.6678</td></tr><tr><td>sigma</td><td>xp100_0</td><td>0.6641</td></tr><tr><td>sigma</td><td>xp95_0</td><td>0.6613</td></tr><tr><td>sigma</td><td>xp98_0</td><td>0.6578</td></tr><tr><td>sigma</td><td>xp93_0</td><td>0.6435</td></tr><tr><td>sigma</td><td>xp97_0</td><td>0.6427</td></tr><tr><td>sigma</td><td>xp94_0</td><td>0.6305</td></tr><tr><td>beta</td><td>R</td><td>0.5187</td></tr><tr><td>alpha</td><td>sigma</td><td>0.3706</td></tr><tr><td>R</td><td>sigma</td><td>-0.3528</td></tr><tr><td>beta</td><td>sigma</td><td>0.2913</td></tr><tr><td>gamma</td><td>sigma</td><td>-0.2360</td></tr><tr><td>A101_0</td><td>xp101_0</td><td>0.1770</td></tr><tr><td>A99_0</td><td>xp99_0</td><td>0.1731</td></tr><tr><td>xp100_0</td><td>A101_0</td><td>0.1661</td></tr><tr><td>xp96_0</td><td>A101_0</td><td>0.1658</td></tr><tr><td>xp92_0</td><td>A101_0</td><td>0.1649</td></tr><tr><td>xp98_0</td><td>A101_0</td><td>0.1640</td></tr><tr><td>xp95_0</td><td>A101_0</td><td>0.1639</td></tr><tr><td>xp94_0</td><td>A101_0</td><td>0.1635</td></tr><tr><td>xp97_0</td><td>A101_0</td><td>0.1631</td></tr><tr><td>xp99_0</td><td>A101_0</td><td>0.1628</td></tr><tr><td>xp93_0</td><td>A101_0</td><td>0.1628</td></tr><tr><td>A99_0</td><td>xp100_0</td><td>0.1625</td></tr><tr><td>xp96_0</td><td>A99_0</td><td>0.1622</td></tr><tr><td>xp92_0</td><td>A99_0</td><td>0.1614</td></tr><tr><td>xp98_0</td><td>A99_0</td><td>0.1604</td></tr><tr><td>xp95_0</td><td>A99_0</td><td>0.1603</td></tr><tr><td>xp94_0</td><td>A99_0</td><td>0.1598</td></tr><tr><td>xp97_0</td><td>A99_0</td><td>0.1594</td></tr><tr><td>xp93_0</td><td>A99_0</td><td>0.1592</td></tr><tr><td>A99_0</td><td>xp101_0</td><td>0.1583</td></tr><tr><td>A95_0</td><td>xp95_0</td><td>0.1549</td></tr><tr><td>R</td><td>A101_0</td><td>-0.1527</td></tr><tr><td>R</td><td>A99_0</td><td>-0.1496</td></tr><tr><td>alpha</td><td>xp101_0</td><td>0.1431</td></tr><tr><td>A95_0</td><td>xp96_0</td><td>0.1423</td></tr><tr><td>A95_0</td><td>xp100_0</td><td>0.1419</td></tr><tr><td>xp92_0</td><td>A95_0</td><td>0.1414</td></tr><tr><td>alpha</td><td>xp99_0</td><td>0.1414</td></tr><tr><td>A95_0</td><td>xp98_0</td><td>0.1398</td></tr><tr><td>A95_0</td><td>xp99_0</td><td>0.1392</td></tr><tr><td>A95_0</td><td>xp101_0</td><td>0.1385</td></tr><tr><td>A95_0</td><td>xp97_0</td><td>0.1382</td></tr><tr><td>xp93_0</td><td>A95_0</td><td>0.1381</td></tr><tr><td>xp94_0</td><td>A95_0</td><td>0.1380</td></tr><tr><td>A93_0</td><td>xp93_0</td><td>0.1341</td></tr><tr><td>alpha</td><td>xp93_0</td><td>0.1325</td></tr><tr><td>alpha</td><td>xp97_0</td><td>0.1324</td></tr><tr><td>alpha</td><td>xp95_0</td><td>0.1313</td></tr><tr><td>alpha</td><td>xp98_0</td><td>0.1280</td></tr><tr><td>alpha</td><td>xp94_0</td><td>0.1256</td></tr><tr><td>A93_0</td><td>xp96_0</td><td>0.1246</td></tr><tr><td>A93_0</td><td>xp100_0</td><td>0.1241</td></tr><tr><td>xp92_0</td><td>A93_0</td><td>0.1237</td></tr><tr><td>R</td><td>A95_0</td><td>-0.1228</td></tr><tr><td>A93_0</td><td>xp98_0</td><td>0.1222</td></tr><tr><td>A93_0</td><td>xp95_0</td><td>0.1222</td></tr><tr><td>alpha</td><td>xp92_0</td><td>0.1217</td></tr><tr><td>A93_0</td><td>xp99_0</td><td>0.1217</td></tr><tr><td>A93_0</td><td>xp101_0</td><td>0.1211</td></tr><tr><td>alpha</td><td>xp96_0</td><td>0.1211</td></tr><tr><td>A93_0</td><td>xp97_0</td><td>0.1205</td></tr><tr><td>alpha</td><td>xp100_0</td><td>0.1202</td></tr><tr><td>A93_0</td><td>xp94_0</td><td>0.1202</td></tr><tr><td>A92_0</td><td>R</td><td>-0.1127</td></tr><tr><td>A92_0</td><td>xp92_0</td><td>0.1116</td></tr><tr><td>A97_0</td><td>xp97_0</td><td>0.1071</td></tr><tr><td>R</td><td>A93_0</td><td>-0.1053</td></tr><tr><td>beta</td><td>xp94_0</td><td>-0.1035</td></tr><tr><td>A92_0</td><td>xp94_0</td><td>0.1025</td></tr><tr><td>A92_0</td><td>xp97_0</td><td>0.1012</td></tr><tr><td>A92_0</td><td>xp100_0</td><td>0.1008</td></tr><tr><td>A92_0</td><td>xp93_0</td><td>0.1003</td></tr><tr><td>A92_0</td><td>xp98_0</td><td>0.1003</td></tr></table>"
      ],
      "text/plain": [
       "<lmfit.minimizer.MinimizerResult at 0x1e62b8a46c8>"
      ]
     },
     "execution_count": 70,
     "metadata": {},
     "output_type": "execute_result"
    }
   ],
   "source": [
    "# report_fit(result)\n",
    "fitKey = '10_10'\n",
    "xwFit[fitKey][0].result"
   ]
  },
  {
   "cell_type": "code",
   "execution_count": 71,
   "metadata": {
    "Collapsed": "false",
    "hidden": true
   },
   "outputs": [
    {
     "data": {
      "text/html": [
       "<h2>Fit Statistics</h2><table><tr><td>fitting method</td><td>leastsq</td><td></td></tr><tr><td># function evals</td><td>25</td><td></td></tr><tr><td># data points</td><td>1200</td><td></td></tr><tr><td># variables</td><td>23</td><td></td></tr><tr><td>chi-square</td><td> 2290.01690</td><td></td></tr><tr><td>reduced chi-square</td><td> 1.94563882</td><td></td></tr><tr><td>Akaike info crit.</td><td> 821.485167</td><td></td></tr><tr><td>Bayesian info crit.</td><td> 938.556934</td><td></td></tr></table><h2>Variables</h2><table><tr><th> name </th><th> value </th><th> standard error </th><th> relative error </th><th> initial value </th><th> min </th><th> max </th><th> vary </th></tr><tr><td> A92_0 </td><td>  234011.974 </td><td>  3262.11485 </td><td> (1.39%) </td><td> 234011.97408657757 </td><td>  0.00000000 </td><td>         inf </td><td> True </td></tr><tr><td> alpha </td><td>  95.4374390 </td><td>  0.61453788 </td><td> (0.64%) </td><td> 95.43743901642515 </td><td>  0.00000000 </td><td>         inf </td><td> True </td></tr><tr><td> beta </td><td>  1.0000e-10 </td><td>  0.00000000 </td><td> (0.00%) </td><td> 1e-10 </td><td>  0.00000000 </td><td>         inf </td><td> False </td></tr><tr><td> R </td><td>  1.0000e-10 </td><td>  0.00000000 </td><td> (0.00%) </td><td> 1e-10 </td><td>  0.00000000 </td><td>         inf </td><td> False </td></tr><tr><td> gamma </td><td>  4.0579e-04 </td><td>  3.3235e-05 </td><td> (8.19%) </td><td> 0.0004057899453484559 </td><td>  0.00000000 </td><td>         inf </td><td> True </td></tr><tr><td> sigma </td><td>  0.00405638 </td><td>  1.7822e-04 </td><td> (4.39%) </td><td> 0.004056379995399428 </td><td>  0.00000000 </td><td>         inf </td><td> True </td></tr><tr><td> k </td><td>  0.05000000 </td><td>  0.00000000 </td><td> (0.00%) </td><td> 0.05 </td><td>  0.00000000 </td><td>         inf </td><td> False </td></tr><tr><td> xp92_0 </td><td> -10.0235600 </td><td>  2.4735e-04 </td><td> (0.00%) </td><td> -10.023560024469138 </td><td>        -inf </td><td>         inf </td><td> True </td></tr><tr><td> A93_0 </td><td>  230335.938 </td><td>  3235.82226 </td><td> (1.40%) </td><td> 230335.937883919 </td><td>  0.00000000 </td><td>         inf </td><td> True </td></tr><tr><td> xp93_0 </td><td> -10.0238600 </td><td>  2.5018e-04 </td><td> (0.00%) </td><td> -10.023860045138616 </td><td>        -inf </td><td>         inf </td><td> True </td></tr><tr><td> A94_0 </td><td>  230898.755 </td><td>  3247.01621 </td><td> (1.41%) </td><td> 230898.75500595925 </td><td>  0.00000000 </td><td>         inf </td><td> True </td></tr><tr><td> xp94_0 </td><td> -10.0235305 </td><td>  2.4756e-04 </td><td> (0.00%) </td><td> -10.023530534096674 </td><td>        -inf </td><td>         inf </td><td> True </td></tr><tr><td> A95_0 </td><td>  230915.512 </td><td>  3229.20453 </td><td> (1.40%) </td><td> 230915.5119603656 </td><td>  0.00000000 </td><td>         inf </td><td> True </td></tr><tr><td> xp95_0 </td><td> -10.0239042 </td><td>  2.4724e-04 </td><td> (0.00%) </td><td> -10.023904248602026 </td><td>        -inf </td><td>         inf </td><td> True </td></tr><tr><td> A96_0 </td><td>  231520.418 </td><td>  3217.88295 </td><td> (1.39%) </td><td> 231520.41837827972 </td><td>  0.00000000 </td><td>         inf </td><td> True </td></tr><tr><td> xp96_0 </td><td> -10.0236666 </td><td>  2.4708e-04 </td><td> (0.00%) </td><td> -10.023666633415116 </td><td>        -inf </td><td>         inf </td><td> True </td></tr><tr><td> A97_0 </td><td>  225992.730 </td><td>  3197.78862 </td><td> (1.41%) </td><td> 225992.72954960368 </td><td>  0.00000000 </td><td>         inf </td><td> True </td></tr><tr><td> xp97_0 </td><td> -10.0236514 </td><td>  2.4994e-04 </td><td> (0.00%) </td><td> -10.023651409292839 </td><td>        -inf </td><td>         inf </td><td> True </td></tr><tr><td> A98_0 </td><td>  228048.184 </td><td>  3435.65238 </td><td> (1.51%) </td><td> 228048.18350934642 </td><td>  0.00000000 </td><td>         inf </td><td> True </td></tr><tr><td> xp98_0 </td><td> -10.0236055 </td><td>  2.5959e-04 </td><td> (0.00%) </td><td> -10.023605517850438 </td><td>        -inf </td><td>         inf </td><td> True </td></tr><tr><td> A99_0 </td><td>  227460.513 </td><td>  3188.98871 </td><td> (1.40%) </td><td> 227460.51261152534 </td><td>  0.00000000 </td><td>         inf </td><td> True </td></tr><tr><td> xp99_0 </td><td> -10.0237451 </td><td>  2.4594e-04 </td><td> (0.00%) </td><td> -10.023745123920847 </td><td>        -inf </td><td>         inf </td><td> True </td></tr><tr><td> A100_0 </td><td>  227037.741 </td><td>  3188.03557 </td><td> (1.40%) </td><td> 227037.74101174486 </td><td>  0.00000000 </td><td>         inf </td><td> True </td></tr><tr><td> xp100_0 </td><td> -10.0235382 </td><td>  2.4741e-04 </td><td> (0.00%) </td><td> -10.02353822586537 </td><td>        -inf </td><td>         inf </td><td> True </td></tr><tr><td> A101_0 </td><td>  225057.609 </td><td>  3183.34866 </td><td> (1.41%) </td><td> 225057.60851127136 </td><td>  0.00000000 </td><td>         inf </td><td> True </td></tr><tr><td> xp101_0 </td><td> -10.0237091 </td><td>  2.4886e-04 </td><td> (0.00%) </td><td> -10.02370913811707 </td><td>        -inf </td><td>         inf </td><td> True </td></tr></table><h2>Correlations (unreported correlations are < 0.100)</h2><table><tr><td>alpha</td><td>sigma</td><td>0.5938</td></tr><tr><td>alpha</td><td>xp99_0</td><td>0.5501</td></tr><tr><td>alpha</td><td>xp100_0</td><td>0.5455</td></tr><tr><td>alpha</td><td>xp96_0</td><td>0.5441</td></tr><tr><td>alpha</td><td>xp101_0</td><td>0.5410</td></tr><tr><td>alpha</td><td>xp95_0</td><td>0.5410</td></tr><tr><td>alpha</td><td>xp97_0</td><td>0.5388</td></tr><tr><td>alpha</td><td>xp94_0</td><td>0.5380</td></tr><tr><td>alpha</td><td>xp93_0</td><td>0.5330</td></tr><tr><td>alpha</td><td>xp92_0</td><td>0.5327</td></tr><tr><td>alpha</td><td>xp98_0</td><td>0.5303</td></tr><tr><td>sigma</td><td>xp99_0</td><td>0.4341</td></tr><tr><td>sigma</td><td>xp100_0</td><td>0.4226</td></tr><tr><td>sigma</td><td>xp96_0</td><td>0.4197</td></tr><tr><td>sigma</td><td>xp98_0</td><td>0.4173</td></tr><tr><td>sigma</td><td>xp101_0</td><td>0.4167</td></tr><tr><td>sigma</td><td>xp95_0</td><td>0.4157</td></tr><tr><td>sigma</td><td>xp97_0</td><td>0.4155</td></tr><tr><td>sigma</td><td>xp94_0</td><td>0.4141</td></tr><tr><td>sigma</td><td>xp93_0</td><td>0.4019</td></tr><tr><td>sigma</td><td>xp92_0</td><td>0.4004</td></tr><tr><td>gamma</td><td>sigma</td><td>-0.3507</td></tr><tr><td>xp99_0</td><td>xp100_0</td><td>0.3206</td></tr><tr><td>xp96_0</td><td>xp99_0</td><td>0.3190</td></tr><tr><td>xp99_0</td><td>xp101_0</td><td>0.3172</td></tr><tr><td>xp95_0</td><td>xp99_0</td><td>0.3168</td></tr><tr><td>xp97_0</td><td>xp99_0</td><td>0.3162</td></tr><tr><td>xp96_0</td><td>xp100_0</td><td>0.3152</td></tr><tr><td>xp94_0</td><td>xp99_0</td><td>0.3150</td></tr><tr><td>xp98_0</td><td>xp99_0</td><td>0.3135</td></tr><tr><td>xp100_0</td><td>xp101_0</td><td>0.3135</td></tr><tr><td>xp95_0</td><td>xp100_0</td><td>0.3131</td></tr><tr><td>xp97_0</td><td>xp100_0</td><td>0.3125</td></tr><tr><td>xp96_0</td><td>xp101_0</td><td>0.3120</td></tr><tr><td>xp95_0</td><td>xp96_0</td><td>0.3116</td></tr><tr><td>xp94_0</td><td>xp100_0</td><td>0.3113</td></tr><tr><td>xp96_0</td><td>xp97_0</td><td>0.3110</td></tr><tr><td>xp93_0</td><td>xp99_0</td><td>0.3105</td></tr><tr><td>xp95_0</td><td>xp101_0</td><td>0.3099</td></tr><tr><td>xp94_0</td><td>xp96_0</td><td>0.3098</td></tr><tr><td>xp92_0</td><td>xp99_0</td><td>0.3097</td></tr><tr><td>xp98_0</td><td>xp100_0</td><td>0.3097</td></tr><tr><td>xp97_0</td><td>xp101_0</td><td>0.3093</td></tr><tr><td>xp95_0</td><td>xp97_0</td><td>0.3089</td></tr><tr><td>xp96_0</td><td>xp98_0</td><td>0.3081</td></tr><tr><td>xp94_0</td><td>xp101_0</td><td>0.3081</td></tr><tr><td>xp94_0</td><td>xp95_0</td><td>0.3078</td></tr><tr><td>xp94_0</td><td>xp97_0</td><td>0.3071</td></tr><tr><td>xp93_0</td><td>xp100_0</td><td>0.3070</td></tr><tr><td>xp98_0</td><td>xp101_0</td><td>0.3064</td></tr><tr><td>xp92_0</td><td>xp100_0</td><td>0.3062</td></tr><tr><td>xp95_0</td><td>xp98_0</td><td>0.3060</td></tr><tr><td>xp93_0</td><td>xp96_0</td><td>0.3056</td></tr><tr><td>xp97_0</td><td>xp98_0</td><td>0.3056</td></tr><tr><td>xp92_0</td><td>xp96_0</td><td>0.3048</td></tr><tr><td>xp94_0</td><td>xp98_0</td><td>0.3042</td></tr><tr><td>xp93_0</td><td>xp101_0</td><td>0.3039</td></tr><tr><td>xp93_0</td><td>xp95_0</td><td>0.3036</td></tr><tr><td>xp92_0</td><td>xp101_0</td><td>0.3031</td></tr><tr><td>xp93_0</td><td>xp97_0</td><td>0.3029</td></tr><tr><td>xp92_0</td><td>xp95_0</td><td>0.3029</td></tr><tr><td>xp92_0</td><td>xp97_0</td><td>0.3021</td></tr><tr><td>xp93_0</td><td>xp94_0</td><td>0.3018</td></tr><tr><td>xp92_0</td><td>xp94_0</td><td>0.3011</td></tr><tr><td>xp93_0</td><td>xp98_0</td><td>0.2999</td></tr><tr><td>xp92_0</td><td>xp98_0</td><td>0.2990</td></tr><tr><td>xp92_0</td><td>xp93_0</td><td>0.2972</td></tr></table>"
      ],
      "text/plain": [
       "<lmfit.minimizer.MinimizerResult at 0x1e62d206648>"
      ]
     },
     "execution_count": 71,
     "metadata": {},
     "output_type": "execute_result"
    }
   ],
   "source": [
    "# report_fit(result)\n",
    "xwFit[fitKey][1].result"
   ]
  },
  {
   "cell_type": "code",
   "execution_count": 39,
   "metadata": {
    "Collapsed": "false",
    "collapsed": true,
    "hidden": true
   },
   "outputs": [
    {
     "data": {
      "text/html": [
       "<h2>Fit Statistics</h2><table><tr><td>fitting method</td><td>leastsq</td><td></td></tr><tr><td># function evals</td><td>22</td><td></td></tr><tr><td># data points</td><td>1200</td><td></td></tr><tr><td># variables</td><td>20</td><td></td></tr><tr><td>chi-square</td><td> 2290.01678</td><td></td></tr><tr><td>reduced chi-square</td><td> 1.94069219</td><td></td></tr><tr><td>Akaike info crit.</td><td> 815.485107</td><td></td></tr><tr><td>Bayesian info crit.</td><td> 917.286644</td><td></td></tr></table><h2>Variables</h2><table><tr><th> name </th><th> value </th><th> standard error </th><th> relative error </th><th> initial value </th><th> min </th><th> max </th><th> vary </th></tr><tr><td> A92 </td><td>  234011.499 </td><td>  3253.39455 </td><td> (1.39%) </td><td> 234011.97408657757 </td><td>  0.00000000 </td><td>         inf </td><td> True </td></tr><tr><td> alpha </td><td>  95.4374390 </td><td>  0.00000000 </td><td> (0.00%) </td><td> 95.43743901642515 </td><td>  0.00000000 </td><td>         inf </td><td> False </td></tr><tr><td> beta </td><td>  1.0000e-10 </td><td>  0.00000000 </td><td> (0.00%) </td><td> 1e-10 </td><td>  0.00000000 </td><td>         inf </td><td> False </td></tr><tr><td> R </td><td>  1.0000e-10 </td><td>  0.00000000 </td><td> (0.00%) </td><td> 1e-10 </td><td>  0.00000000 </td><td>         inf </td><td> False </td></tr><tr><td> gamma </td><td>  4.0579e-04 </td><td>  0.00000000 </td><td> (0.00%) </td><td> 0.0004057899453484559 </td><td>  0.00000000 </td><td>         inf </td><td> False </td></tr><tr><td> sigma </td><td>  0.00405638 </td><td>  0.00000000 </td><td> (0.00%) </td><td> 0.004056379995399428 </td><td>  0.00000000 </td><td>         inf </td><td> False </td></tr><tr><td> k </td><td>  0.05000000 </td><td>  0.00000000 </td><td> (0.00%) </td><td> 0.05 </td><td>  0.00000000 </td><td>         inf </td><td> False </td></tr><tr><td> xp92 </td><td> -10.0235595 </td><td>  2.0719e-04 </td><td> (0.00%) </td><td> -10.023560024469138 </td><td>        -inf </td><td>         inf </td><td> True </td></tr><tr><td> A93 </td><td>  230335.540 </td><td>  3227.55023 </td><td> (1.40%) </td><td> 230335.937883919 </td><td>  0.00000000 </td><td>         inf </td><td> True </td></tr><tr><td> xp93 </td><td> -10.0238596 </td><td>  2.0937e-04 </td><td> (0.00%) </td><td> -10.023860045138616 </td><td>        -inf </td><td>         inf </td><td> True </td></tr><tr><td> A94 </td><td>  230898.632 </td><td>  3238.68341 </td><td> (1.40%) </td><td> 230898.75500595925 </td><td>  0.00000000 </td><td>         inf </td><td> True </td></tr><tr><td> xp94 </td><td> -10.0235300 </td><td>  2.0598e-04 </td><td> (0.00%) </td><td> -10.023530534096674 </td><td>        -inf </td><td>         inf </td><td> True </td></tr><tr><td> A95 </td><td>  230915.353 </td><td>  3220.82043 </td><td> (1.39%) </td><td> 230915.5119603656 </td><td>  0.00000000 </td><td>         inf </td><td> True </td></tr><tr><td> xp95 </td><td> -10.0239038 </td><td>  2.0518e-04 </td><td> (0.00%) </td><td> -10.023904248602026 </td><td>        -inf </td><td>         inf </td><td> True </td></tr><tr><td> A96 </td><td>  231520.042 </td><td>  3209.71851 </td><td> (1.39%) </td><td> 231520.4183782797 </td><td>  0.00000000 </td><td>         inf </td><td> True </td></tr><tr><td> xp96 </td><td> -10.0236662 </td><td>  2.0443e-04 </td><td> (0.00%) </td><td> -10.023666633415116 </td><td>        -inf </td><td>         inf </td><td> True </td></tr><tr><td> A97 </td><td>  225992.502 </td><td>  3189.68415 </td><td> (1.41%) </td><td> 225992.72954960368 </td><td>  0.00000000 </td><td>         inf </td><td> True </td></tr><tr><td> xp97 </td><td> -10.0236509 </td><td>  2.0760e-04 </td><td> (0.00%) </td><td> -10.023651409292839 </td><td>        -inf </td><td>         inf </td><td> True </td></tr><tr><td> A98 </td><td>  228048.334 </td><td>  3428.39651 </td><td> (1.50%) </td><td> 228048.18350934642 </td><td>  0.00000000 </td><td>         inf </td><td> True </td></tr><tr><td> xp98 </td><td> -10.0236050 </td><td>  2.1644e-04 </td><td> (0.00%) </td><td> -10.023605517850438 </td><td>        -inf </td><td>         inf </td><td> True </td></tr><tr><td> A99 </td><td>  227460.751 </td><td>  3181.06244 </td><td> (1.40%) </td><td> 227460.51261152534 </td><td>  0.00000000 </td><td>         inf </td><td> True </td></tr><tr><td> xp99 </td><td> -10.0237445 </td><td>  2.0188e-04 </td><td> (0.00%) </td><td> -10.023745123920847 </td><td>        -inf </td><td>         inf </td><td> True </td></tr><tr><td> A100 </td><td>  227037.657 </td><td>  3180.81585 </td><td> (1.40%) </td><td> 227037.74101174486 </td><td>  0.00000000 </td><td>         inf </td><td> True </td></tr><tr><td> xp100 </td><td> -10.0235377 </td><td>  2.0424e-04 </td><td> (0.00%) </td><td> -10.02353822586537 </td><td>        -inf </td><td>         inf </td><td> True </td></tr><tr><td> A101 </td><td>  225057.350 </td><td>  3175.69298 </td><td> (1.41%) </td><td> 225057.60851127136 </td><td>  0.00000000 </td><td>         inf </td><td> True </td></tr><tr><td> xp101 </td><td> -10.0237086 </td><td>  2.0642e-04 </td><td> (0.00%) </td><td> -10.02370913811707 </td><td>        -inf </td><td>         inf </td><td> True </td></tr></table>"
      ],
      "text/plain": [
       "<lmfit.minimizer.MinimizerResult at 0x1cb73b70148>"
      ]
     },
     "execution_count": 39,
     "metadata": {},
     "output_type": "execute_result"
    }
   ],
   "source": [
    "# report_fit(result)\n",
    "xwFit[fitKey][2].result"
   ]
  },
  {
   "cell_type": "markdown",
   "metadata": {
    "heading_collapsed": true,
    "hidden": true
   },
   "source": [
    "#### Results of weighted fit with 20 datasets"
   ]
  },
  {
   "cell_type": "code",
   "execution_count": 70,
   "metadata": {
    "Collapsed": "false",
    "collapsed": true,
    "hidden": true
   },
   "outputs": [
    {
     "data": {
      "text/html": [
       "<h2>Fit Statistics</h2><table><tr><td>fitting method</td><td>leastsq</td><td></td></tr><tr><td># function evals</td><td>5999</td><td></td></tr><tr><td># data points</td><td>2400</td><td></td></tr><tr><td># variables</td><td>45</td><td></td></tr><tr><td>chi-square</td><td> 4281.15719</td><td></td></tr><tr><td>reduced chi-square</td><td> 1.81790114</td><td></td></tr><tr><td>Akaike info crit.</td><td> 1479.01106</td><td></td></tr><tr><td>Bayesian info crit.</td><td> 1739.25614</td><td></td></tr></table><h2>Variables</h2><table><tr><th> name </th><th> value </th><th> standard error </th><th> relative error </th><th> initial value </th><th> min </th><th> max </th><th> vary </th></tr><tr><td> A82 </td><td>  522017.307 </td><td>  86237385.9 </td><td> (16520.02%) </td><td> 200000.0 </td><td>  0.00000000 </td><td>         inf </td><td> True </td></tr><tr><td> alpha </td><td>  127.556622 </td><td>  0.63041529 </td><td> (0.49%) </td><td> 140 </td><td>  0.00000000 </td><td>         inf </td><td> True </td></tr><tr><td> beta </td><td>  0.01844768 </td><td>  4.37392610 </td><td> (23709.90%) </td><td> 0.001 </td><td>  0.00000000 </td><td>         inf </td><td> True </td></tr><tr><td> R </td><td>  0.69818459 </td><td>  49.8598993 </td><td> (7141.36%) </td><td> 0.001 </td><td>  0.00000000 </td><td>         inf </td><td> True </td></tr><tr><td> gamma </td><td>  3.5324e-04 </td><td>  2.0412e-05 </td><td> (5.78%) </td><td> 0.001 </td><td>  0.00000000 </td><td>         inf </td><td> True </td></tr><tr><td> sigma </td><td>  0.00529943 </td><td>  7.6090e-05 </td><td> (1.44%) </td><td> 0.0066 </td><td>  0.00000000 </td><td>         inf </td><td> True </td></tr><tr><td> k </td><td>  0.05000000 </td><td>  0.00000000 </td><td> (0.00%) </td><td> 0.05 </td><td>  0.00000000 </td><td>         inf </td><td> False </td></tr><tr><td> xp82 </td><td> -8.01767327 </td><td>  1.5918e-04 </td><td> (0.00%) </td><td> -8.0 </td><td>        -inf </td><td>         inf </td><td> True </td></tr><tr><td> A83 </td><td>  508766.138 </td><td>  84048216.0 </td><td> (16520.01%) </td><td> 200000.0 </td><td>  0.00000000 </td><td>         inf </td><td> True </td></tr><tr><td> xp83 </td><td> -8.01766926 </td><td>  1.6049e-04 </td><td> (0.00%) </td><td> -8.0 </td><td>        -inf </td><td>         inf </td><td> True </td></tr><tr><td> A84 </td><td>  508652.265 </td><td>  84029456.4 </td><td> (16520.02%) </td><td> 200000.0 </td><td>  0.00000000 </td><td>         inf </td><td> True </td></tr><tr><td> xp84 </td><td> -8.01766483 </td><td>  1.6125e-04 </td><td> (0.00%) </td><td> -8.0 </td><td>        -inf </td><td>         inf </td><td> True </td></tr><tr><td> A85 </td><td>  505384.705 </td><td>  83489502.4 </td><td> (16519.99%) </td><td> 200000.0 </td><td>  0.00000000 </td><td>         inf </td><td> True </td></tr><tr><td> xp85 </td><td> -8.01770614 </td><td>  1.6050e-04 </td><td> (0.00%) </td><td> -8.0 </td><td>        -inf </td><td>         inf </td><td> True </td></tr><tr><td> A86 </td><td>  503185.937 </td><td>  83126387.3 </td><td> (16520.01%) </td><td> 200000.0 </td><td>  0.00000000 </td><td>         inf </td><td> True </td></tr><tr><td> xp86 </td><td> -8.01746637 </td><td>  1.6196e-04 </td><td> (0.00%) </td><td> -8.0 </td><td>        -inf </td><td>         inf </td><td> True </td></tr><tr><td> A87 </td><td>  498884.140 </td><td>  82415792.3 </td><td> (16520.03%) </td><td> 200000.0 </td><td>  0.00000000 </td><td>         inf </td><td> True </td></tr><tr><td> xp87 </td><td> -8.01765347 </td><td>  1.6150e-04 </td><td> (0.00%) </td><td> -8.0 </td><td>        -inf </td><td>         inf </td><td> True </td></tr><tr><td> A88 </td><td>  499325.904 </td><td>  82488693.2 </td><td> (16520.01%) </td><td> 200000.0 </td><td>  0.00000000 </td><td>         inf </td><td> True </td></tr><tr><td> xp88 </td><td> -8.01760282 </td><td>  1.6155e-04 </td><td> (0.00%) </td><td> -8.0 </td><td>        -inf </td><td>         inf </td><td> True </td></tr><tr><td> A89 </td><td>  504489.926 </td><td>  83341798.8 </td><td> (16520.01%) </td><td> 200000.0 </td><td>  0.00000000 </td><td>         inf </td><td> True </td></tr><tr><td> xp89 </td><td> -8.01779673 </td><td>  1.5861e-04 </td><td> (0.00%) </td><td> -8.0 </td><td>        -inf </td><td>         inf </td><td> True </td></tr><tr><td> A90 </td><td>  497501.287 </td><td>  82187289.1 </td><td> (16520.02%) </td><td> 200000.0 </td><td>  0.00000000 </td><td>         inf </td><td> True </td></tr><tr><td> xp90 </td><td> -8.01751375 </td><td>  1.6148e-04 </td><td> (0.00%) </td><td> -8.0 </td><td>        -inf </td><td>         inf </td><td> True </td></tr><tr><td> A91 </td><td>  495642.884 </td><td>  81880283.1 </td><td> (16520.02%) </td><td> 200000.0 </td><td>  0.00000000 </td><td>         inf </td><td> True </td></tr><tr><td> xp91 </td><td> -8.01761714 </td><td>  1.6114e-04 </td><td> (0.00%) </td><td> -8.0 </td><td>        -inf </td><td>         inf </td><td> True </td></tr><tr><td> A92 </td><td>  485094.815 </td><td>  80137791.5 </td><td> (16520.03%) </td><td> 200000.0 </td><td>  0.00000000 </td><td>         inf </td><td> True </td></tr><tr><td> xp92 </td><td> -8.01753120 </td><td>  1.6162e-04 </td><td> (0.00%) </td><td> -8.0 </td><td>        -inf </td><td>         inf </td><td> True </td></tr><tr><td> A93 </td><td>  490153.638 </td><td>  80973356.6 </td><td> (16520.00%) </td><td> 200000.0 </td><td>  0.00000000 </td><td>         inf </td><td> True </td></tr><tr><td> xp93 </td><td> -8.01765303 </td><td>  1.5972e-04 </td><td> (0.00%) </td><td> -8.0 </td><td>        -inf </td><td>         inf </td><td> True </td></tr><tr><td> A94 </td><td>  484055.686 </td><td>  79966138.1 </td><td> (16520.03%) </td><td> 200000.0 </td><td>  0.00000000 </td><td>         inf </td><td> True </td></tr><tr><td> xp94 </td><td> -8.01760168 </td><td>  1.6001e-04 </td><td> (0.00%) </td><td> -8.0 </td><td>        -inf </td><td>         inf </td><td> True </td></tr><tr><td> A95 </td><td>  475688.997 </td><td>  78583949.6 </td><td> (16520.03%) </td><td> 200000.0 </td><td>  0.00000000 </td><td>         inf </td><td> True </td></tr><tr><td> xp95 </td><td> -8.01755517 </td><td>  1.6153e-04 </td><td> (0.00%) </td><td> -8.0 </td><td>        -inf </td><td>         inf </td><td> True </td></tr><tr><td> A96 </td><td>  478553.765 </td><td>  79057160.2 </td><td> (16520.02%) </td><td> 200000.0 </td><td>  0.00000000 </td><td>         inf </td><td> True </td></tr><tr><td> xp96 </td><td> -8.01740990 </td><td>  1.6179e-04 </td><td> (0.00%) </td><td> -8.0 </td><td>        -inf </td><td>         inf </td><td> True </td></tr><tr><td> A97 </td><td>  472291.663 </td><td>  78022596.8 </td><td> (16520.00%) </td><td> 200000.0 </td><td>  0.00000000 </td><td>         inf </td><td> True </td></tr><tr><td> xp97 </td><td> -8.01717992 </td><td>  1.6279e-04 </td><td> (0.00%) </td><td> -8.0 </td><td>        -inf </td><td>         inf </td><td> True </td></tr><tr><td> A98 </td><td>  471503.260 </td><td>  77892430.1 </td><td> (16520.02%) </td><td> 200000.0 </td><td>  0.00000000 </td><td>         inf </td><td> True </td></tr><tr><td> xp98 </td><td> -8.01712050 </td><td>  1.7116e-04 </td><td> (0.00%) </td><td> -8.0 </td><td>        -inf </td><td>         inf </td><td> True </td></tr><tr><td> A99 </td><td>  471204.934 </td><td>  77843217.4 </td><td> (16520.03%) </td><td> 200000.0 </td><td>  0.00000000 </td><td>         inf </td><td> True </td></tr><tr><td> xp99 </td><td> -8.01734223 </td><td>  1.6213e-04 </td><td> (0.00%) </td><td> -8.0 </td><td>        -inf </td><td>         inf </td><td> True </td></tr><tr><td> A100 </td><td>  463646.038 </td><td>  76594426.0 </td><td> (16520.02%) </td><td> 200000.0 </td><td>  0.00000000 </td><td>         inf </td><td> True </td></tr><tr><td> xp100 </td><td> -8.01743797 </td><td>  1.6312e-04 </td><td> (0.00%) </td><td> -8.0 </td><td>        -inf </td><td>         inf </td><td> True </td></tr><tr><td> A101 </td><td>  454337.210 </td><td>  75056658.9 </td><td> (16520.03%) </td><td> 200000.0 </td><td>  0.00000000 </td><td>         inf </td><td> True </td></tr><tr><td> xp101 </td><td> -8.01726183 </td><td>  1.6400e-04 </td><td> (0.00%) </td><td> -8.0 </td><td>        -inf </td><td>         inf </td><td> True </td></tr></table><h2>Correlations (unreported correlations are < 0.100)</h2><table><tr><td>R</td><td>A93</td><td>1.0000</td></tr><tr><td>R</td><td>A83</td><td>1.0000</td></tr><tr><td>R</td><td>A84</td><td>1.0000</td></tr><tr><td>R</td><td>A96</td><td>1.0000</td></tr><tr><td>R</td><td>A88</td><td>1.0000</td></tr><tr><td>R</td><td>A92</td><td>1.0000</td></tr><tr><td>A82</td><td>R</td><td>1.0000</td></tr><tr><td>R</td><td>A90</td><td>1.0000</td></tr><tr><td>R</td><td>A91</td><td>1.0000</td></tr><tr><td>R</td><td>A87</td><td>1.0000</td></tr><tr><td>R</td><td>A86</td><td>1.0000</td></tr><tr><td>R</td><td>A100</td><td>1.0000</td></tr><tr><td>R</td><td>A85</td><td>1.0000</td></tr><tr><td>R</td><td>A94</td><td>1.0000</td></tr><tr><td>R</td><td>A99</td><td>1.0000</td></tr><tr><td>R</td><td>A95</td><td>1.0000</td></tr><tr><td>R</td><td>A89</td><td>1.0000</td></tr><tr><td>R</td><td>A97</td><td>1.0000</td></tr><tr><td>R</td><td>A101</td><td>1.0000</td></tr><tr><td>R</td><td>A98</td><td>1.0000</td></tr><tr><td>A89</td><td>A93</td><td>1.0000</td></tr><tr><td>A85</td><td>A93</td><td>1.0000</td></tr><tr><td>A89</td><td>A96</td><td>1.0000</td></tr><tr><td>A89</td><td>A92</td><td>1.0000</td></tr><tr><td>A89</td><td>A90</td><td>1.0000</td></tr><tr><td>A89</td><td>A91</td><td>1.0000</td></tr><tr><td>A85</td><td>A96</td><td>1.0000</td></tr><tr><td>A85</td><td>A88</td><td>1.0000</td></tr><tr><td>A86</td><td>A93</td><td>1.0000</td></tr><tr><td>A85</td><td>A92</td><td>1.0000</td></tr><tr><td>A85</td><td>A90</td><td>1.0000</td></tr><tr><td>A85</td><td>A91</td><td>1.0000</td></tr><tr><td>A82</td><td>A93</td><td>1.0000</td></tr><tr><td>A85</td><td>A87</td><td>1.0000</td></tr><tr><td>A89</td><td>A100</td><td>1.0000</td></tr><tr><td>A91</td><td>A93</td><td>1.0000</td></tr><tr><td>A87</td><td>A93</td><td>1.0000</td></tr><tr><td>A86</td><td>A96</td><td>1.0000</td></tr><tr><td>A90</td><td>A93</td><td>1.0000</td></tr><tr><td>A89</td><td>A94</td><td>1.0000</td></tr><tr><td>A86</td><td>A88</td><td>1.0000</td></tr><tr><td>A82</td><td>A83</td><td>1.0000</td></tr><tr><td>A84</td><td>A93</td><td>1.0000</td></tr><tr><td>A89</td><td>A99</td><td>1.0000</td></tr><tr><td>A85</td><td>A86</td><td>1.0000</td></tr><tr><td>A89</td><td>A95</td><td>1.0000</td></tr><tr><td>A86</td><td>A92</td><td>1.0000</td></tr><tr><td>A83</td><td>A93</td><td>1.0000</td></tr><tr><td>A88</td><td>A93</td><td>1.0000</td></tr><tr><td>A82</td><td>A84</td><td>1.0000</td></tr><tr><td>A86</td><td>A90</td><td>1.0000</td></tr><tr><td>A82</td><td>A96</td><td>1.0000</td></tr><tr><td>A85</td><td>A100</td><td>1.0000</td></tr><tr><td>A82</td><td>A88</td><td>1.0000</td></tr><tr><td>A86</td><td>A91</td><td>1.0000</td></tr><tr><td>A91</td><td>A96</td><td>1.0000</td></tr><tr><td>A87</td><td>A96</td><td>1.0000</td></tr><tr><td>A87</td><td>A88</td><td>1.0000</td></tr><tr><td>A85</td><td>A94</td><td>1.0000</td></tr><tr><td>A86</td><td>A87</td><td>1.0000</td></tr><tr><td>A82</td><td>A92</td><td>1.0000</td></tr><tr><td>A90</td><td>A96</td><td>1.0000</td></tr><tr><td>A85</td><td>A99</td><td>1.0000</td></tr><tr><td>A84</td><td>A96</td><td>1.0000</td></tr><tr><td>A91</td><td>A92</td><td>1.0000</td></tr><tr><td>A84</td><td>A88</td><td>1.0000</td></tr><tr><td>A94</td><td>A96</td><td>1.0000</td></tr><tr><td>A89</td><td>A97</td><td>1.0000</td></tr><tr><td>A87</td><td>A92</td><td>1.0000</td></tr><tr><td>A85</td><td>A95</td><td>1.0000</td></tr><tr><td>A85</td><td>A89</td><td>1.0000</td></tr><tr><td>A90</td><td>A92</td><td>1.0000</td></tr><tr><td>A82</td><td>A90</td><td>1.0000</td></tr><tr><td>A84</td><td>A92</td><td>1.0000</td></tr><tr><td>A83</td><td>A84</td><td>1.0000</td></tr><tr><td>A87</td><td>A90</td><td>1.0000</td></tr><tr><td>A89</td><td>A101</td><td>1.0000</td></tr><tr><td>A83</td><td>A96</td><td>1.0000</td></tr><tr><td>A82</td><td>A91</td><td>1.0000</td></tr><tr><td>A88</td><td>A96</td><td>1.0000</td></tr><tr><td>A83</td><td>A88</td><td>1.0000</td></tr><tr><td>A95</td><td>A96</td><td>1.0000</td></tr><tr><td>A87</td><td>A91</td><td>1.0000</td></tr><tr><td>A82</td><td>A87</td><td>1.0000</td></tr><tr><td>A84</td><td>A90</td><td>1.0000</td></tr><tr><td>A83</td><td>A92</td><td>1.0000</td></tr><tr><td>A88</td><td>A92</td><td>1.0000</td></tr><tr><td>A90</td><td>A91</td><td>1.0000</td></tr><tr><td>A84</td><td>A91</td><td>1.0000</td></tr><tr><td>A86</td><td>A100</td><td>1.0000</td></tr><tr><td>A84</td><td>A87</td><td>1.0000</td></tr><tr><td>A82</td><td>A86</td><td>1.0000</td></tr><tr><td>A85</td><td>A97</td><td>1.0000</td></tr><tr><td>A83</td><td>A90</td><td>1.0000</td></tr><tr><td>A88</td><td>A90</td><td>1.0000</td></tr><tr><td>A86</td><td>A94</td><td>1.0000</td></tr><tr><td>A86</td><td>A99</td><td>1.0000</td></tr><tr><td>A83</td><td>A91</td><td>1.0000</td></tr><tr><td>A88</td><td>A91</td><td>1.0000</td></tr><tr><td>A86</td><td>A95</td><td>1.0000</td></tr><tr><td>A86</td><td>A89</td><td>1.0000</td></tr><tr><td>A85</td><td>A101</td><td>1.0000</td></tr><tr><td>A84</td><td>A86</td><td>1.0000</td></tr><tr><td>A83</td><td>A87</td><td>1.0000</td></tr><tr><td>A92</td><td>A93</td><td>1.0000</td></tr><tr><td>A82</td><td>A100</td><td>1.0000</td></tr><tr><td>A82</td><td>A85</td><td>1.0000</td></tr><tr><td>A91</td><td>A100</td><td>1.0000</td></tr><tr><td>A87</td><td>A100</td><td>1.0000</td></tr><tr><td>A83</td><td>A86</td><td>1.0000</td></tr><tr><td>A82</td><td>A94</td><td>1.0000</td></tr><tr><td>A90</td><td>A100</td><td>1.0000</td></tr><tr><td>A82</td><td>A99</td><td>1.0000</td></tr><tr><td>A91</td><td>A94</td><td>1.0000</td></tr><tr><td>A84</td><td>A100</td><td>1.0000</td></tr><tr><td>A87</td><td>A94</td><td>1.0000</td></tr><tr><td>A94</td><td>A100</td><td>1.0000</td></tr><tr><td>A82</td><td>A95</td><td>1.0000</td></tr><tr><td>A91</td><td>A99</td><td>1.0000</td></tr><tr><td>A84</td><td>A85</td><td>1.0000</td></tr><tr><td>A82</td><td>A89</td><td>1.0000</td></tr><tr><td>A87</td><td>A99</td><td>1.0000</td></tr><tr><td>A90</td><td>A94</td><td>1.0000</td></tr><tr><td>A91</td><td>A95</td><td>1.0000</td></tr><tr><td>A87</td><td>A95</td><td>1.0000</td></tr><tr><td>A84</td><td>A94</td><td>1.0000</td></tr><tr><td>A97</td><td>A100</td><td>1.0000</td></tr><tr><td>A90</td><td>A99</td><td>1.0000</td></tr><tr><td>A87</td><td>A89</td><td>1.0000</td></tr><tr><td>A86</td><td>A97</td><td>1.0000</td></tr><tr><td>A93</td><td>A96</td><td>1.0000</td></tr><tr><td>A84</td><td>A99</td><td>1.0000</td></tr><tr><td>A90</td><td>A95</td><td>1.0000</td></tr><tr><td>A94</td><td>A99</td><td>1.0000</td></tr><tr><td>A83</td><td>A100</td><td>1.0000</td></tr><tr><td>A84</td><td>A95</td><td>1.0000</td></tr><tr><td>A88</td><td>A100</td><td>1.0000</td></tr><tr><td>A95</td><td>A100</td><td>1.0000</td></tr><tr><td>A84</td><td>A89</td><td>1.0000</td></tr><tr><td>A94</td><td>A95</td><td>1.0000</td></tr><tr><td>A83</td><td>A85</td><td>1.0000</td></tr><tr><td>A92</td><td>A96</td><td>1.0000</td></tr><tr><td>A97</td><td>A99</td><td>1.0000</td></tr><tr><td>A86</td><td>A101</td><td>1.0000</td></tr><tr><td>A83</td><td>A94</td><td>1.0000</td></tr><tr><td>A88</td><td>A94</td><td>1.0000</td></tr><tr><td>A83</td><td>A99</td><td>1.0000</td></tr><tr><td>A88</td><td>A99</td><td>1.0000</td></tr><tr><td>A95</td><td>A99</td><td>1.0000</td></tr><tr><td>A83</td><td>A95</td><td>1.0000</td></tr><tr><td>A88</td><td>A95</td><td>1.0000</td></tr><tr><td>A83</td><td>A89</td><td>1.0000</td></tr><tr><td>A88</td><td>A89</td><td>1.0000</td></tr><tr><td>A82</td><td>A97</td><td>1.0000</td></tr><tr><td>A91</td><td>A97</td><td>1.0000</td></tr><tr><td>A99</td><td>A100</td><td>1.0000</td></tr><tr><td>A87</td><td>A97</td><td>1.0000</td></tr><tr><td>A90</td><td>A97</td><td>1.0000</td></tr><tr><td>A82</td><td>A101</td><td>1.0000</td></tr><tr><td>A84</td><td>A97</td><td>1.0000</td></tr><tr><td>A94</td><td>A97</td><td>1.0000</td></tr><tr><td>A91</td><td>A101</td><td>1.0000</td></tr><tr><td>A87</td><td>A101</td><td>1.0000</td></tr><tr><td>A90</td><td>A101</td><td>1.0000</td></tr><tr><td>A84</td><td>A101</td><td>1.0000</td></tr><tr><td>A94</td><td>A101</td><td>1.0000</td></tr><tr><td>A83</td><td>A97</td><td>1.0000</td></tr><tr><td>A88</td><td>A97</td><td>1.0000</td></tr><tr><td>A95</td><td>A97</td><td>1.0000</td></tr><tr><td>A97</td><td>A101</td><td>1.0000</td></tr><tr><td>A83</td><td>A101</td><td>1.0000</td></tr><tr><td>A88</td><td>A101</td><td>1.0000</td></tr><tr><td>A95</td><td>A101</td><td>1.0000</td></tr><tr><td>A93</td><td>A100</td><td>1.0000</td></tr><tr><td>A98</td><td>A100</td><td>1.0000</td></tr><tr><td>A92</td><td>A100</td><td>1.0000</td></tr><tr><td>A93</td><td>A94</td><td>1.0000</td></tr><tr><td>A93</td><td>A99</td><td>1.0000</td></tr><tr><td>A96</td><td>A100</td><td>1.0000</td></tr><tr><td>A93</td><td>A95</td><td>1.0000</td></tr><tr><td>A92</td><td>A94</td><td>1.0000</td></tr><tr><td>A98</td><td>A99</td><td>1.0000</td></tr><tr><td>A92</td><td>A99</td><td>1.0000</td></tr><tr><td>A99</td><td>A101</td><td>1.0000</td></tr><tr><td>A92</td><td>A95</td><td>1.0000</td></tr><tr><td>A96</td><td>A99</td><td>1.0000</td></tr><tr><td>A93</td><td>A97</td><td>1.0000</td></tr><tr><td>A92</td><td>A97</td><td>1.0000</td></tr><tr><td>A93</td><td>A101</td><td>1.0000</td></tr><tr><td>A96</td><td>A97</td><td>1.0000</td></tr><tr><td>A98</td><td>A101</td><td>1.0000</td></tr><tr><td>A92</td><td>A101</td><td>1.0000</td></tr><tr><td>A96</td><td>A101</td><td>1.0000</td></tr><tr><td>A100</td><td>A101</td><td>1.0000</td></tr><tr><td>A89</td><td>A98</td><td>1.0000</td></tr><tr><td>A85</td><td>A98</td><td>1.0000</td></tr><tr><td>A86</td><td>A98</td><td>1.0000</td></tr><tr><td>A82</td><td>A98</td><td>1.0000</td></tr><tr><td>A91</td><td>A98</td><td>1.0000</td></tr><tr><td>A87</td><td>A98</td><td>1.0000</td></tr><tr><td>A90</td><td>A98</td><td>1.0000</td></tr><tr><td>A84</td><td>A98</td><td>1.0000</td></tr><tr><td>A94</td><td>A98</td><td>1.0000</td></tr><tr><td>A97</td><td>A98</td><td>1.0000</td></tr><tr><td>A83</td><td>A98</td><td>1.0000</td></tr><tr><td>A88</td><td>A98</td><td>1.0000</td></tr><tr><td>A95</td><td>A98</td><td>1.0000</td></tr><tr><td>A93</td><td>A98</td><td>1.0000</td></tr><tr><td>A92</td><td>A98</td><td>1.0000</td></tr><tr><td>A96</td><td>A98</td><td>1.0000</td></tr><tr><td>beta</td><td>R</td><td>-1.0000</td></tr><tr><td>beta</td><td>A93</td><td>-1.0000</td></tr><tr><td>beta</td><td>A83</td><td>-1.0000</td></tr><tr><td>beta</td><td>A96</td><td>-1.0000</td></tr><tr><td>beta</td><td>A84</td><td>-1.0000</td></tr><tr><td>beta</td><td>A88</td><td>-1.0000</td></tr><tr><td>beta</td><td>A92</td><td>-1.0000</td></tr><tr><td>beta</td><td>A90</td><td>-1.0000</td></tr><tr><td>beta</td><td>A91</td><td>-1.0000</td></tr><tr><td>beta</td><td>A87</td><td>-1.0000</td></tr><tr><td>beta</td><td>A86</td><td>-1.0000</td></tr><tr><td>beta</td><td>A100</td><td>-1.0000</td></tr><tr><td>beta</td><td>A85</td><td>-1.0000</td></tr><tr><td>beta</td><td>A94</td><td>-1.0000</td></tr><tr><td>beta</td><td>A89</td><td>-1.0000</td></tr><tr><td>beta</td><td>A95</td><td>-1.0000</td></tr><tr><td>beta</td><td>A99</td><td>-1.0000</td></tr><tr><td>beta</td><td>A97</td><td>-1.0000</td></tr><tr><td>beta</td><td>A101</td><td>-1.0000</td></tr><tr><td>A82</td><td>beta</td><td>-1.0000</td></tr><tr><td>beta</td><td>A98</td><td>-1.0000</td></tr><tr><td>alpha</td><td>sigma</td><td>0.6988</td></tr><tr><td>alpha</td><td>xp100</td><td>0.5006</td></tr><tr><td>alpha</td><td>xp96</td><td>0.5003</td></tr><tr><td>alpha</td><td>xp99</td><td>0.5002</td></tr><tr><td>alpha</td><td>xp94</td><td>0.4927</td></tr><tr><td>alpha</td><td>xp95</td><td>0.4918</td></tr><tr><td>alpha</td><td>xp82</td><td>0.4881</td></tr><tr><td>alpha</td><td>xp101</td><td>0.4869</td></tr><tr><td>alpha</td><td>xp92</td><td>0.4862</td></tr><tr><td>alpha</td><td>xp89</td><td>0.4854</td></tr><tr><td>alpha</td><td>xp84</td><td>0.4849</td></tr><tr><td>alpha</td><td>xp90</td><td>0.4808</td></tr><tr><td>alpha</td><td>xp98</td><td>0.4806</td></tr><tr><td>alpha</td><td>xp87</td><td>0.4779</td></tr><tr><td>alpha</td><td>xp88</td><td>0.4779</td></tr><tr><td>alpha</td><td>xp93</td><td>0.4774</td></tr><tr><td>alpha</td><td>xp86</td><td>0.4757</td></tr><tr><td>alpha</td><td>xp97</td><td>0.4737</td></tr><tr><td>alpha</td><td>xp91</td><td>0.4717</td></tr><tr><td>alpha</td><td>xp83</td><td>0.4658</td></tr><tr><td>alpha</td><td>xp85</td><td>0.4635</td></tr><tr><td>gamma</td><td>sigma</td><td>-0.4191</td></tr><tr><td>sigma</td><td>xp100</td><td>0.4094</td></tr><tr><td>alpha</td><td>beta</td><td>0.4086</td></tr><tr><td>alpha</td><td>A101</td><td>-0.4085</td></tr><tr><td>alpha</td><td>A97</td><td>-0.4085</td></tr><tr><td>alpha</td><td>A100</td><td>-0.4085</td></tr><tr><td>alpha</td><td>A96</td><td>-0.4085</td></tr><tr><td>alpha</td><td>A95</td><td>-0.4085</td></tr><tr><td>alpha</td><td>A89</td><td>-0.4085</td></tr><tr><td>alpha</td><td>A99</td><td>-0.4085</td></tr><tr><td>alpha</td><td>A98</td><td>-0.4085</td></tr><tr><td>alpha</td><td>A92</td><td>-0.4085</td></tr><tr><td>alpha</td><td>A85</td><td>-0.4085</td></tr><tr><td>alpha</td><td>A91</td><td>-0.4085</td></tr><tr><td>alpha</td><td>A83</td><td>-0.4085</td></tr><tr><td>alpha</td><td>A94</td><td>-0.4085</td></tr><tr><td>alpha</td><td>A90</td><td>-0.4085</td></tr><tr><td>alpha</td><td>A88</td><td>-0.4085</td></tr><tr><td>alpha</td><td>A93</td><td>-0.4085</td></tr><tr><td>alpha</td><td>A84</td><td>-0.4085</td></tr><tr><td>alpha</td><td>A87</td><td>-0.4085</td></tr><tr><td>alpha</td><td>A86</td><td>-0.4085</td></tr><tr><td>alpha</td><td>R</td><td>-0.4085</td></tr><tr><td>A82</td><td>alpha</td><td>-0.4085</td></tr><tr><td>sigma</td><td>xp99</td><td>0.4057</td></tr><tr><td>sigma</td><td>xp96</td><td>0.4056</td></tr><tr><td>sigma</td><td>xp94</td><td>0.4006</td></tr><tr><td>sigma</td><td>xp101</td><td>0.3985</td></tr><tr><td>sigma</td><td>xp95</td><td>0.3984</td></tr><tr><td>sigma</td><td>xp92</td><td>0.3932</td></tr><tr><td>sigma</td><td>xp98</td><td>0.3924</td></tr><tr><td>sigma</td><td>xp89</td><td>0.3892</td></tr><tr><td>sigma</td><td>xp97</td><td>0.3851</td></tr><tr><td>sigma</td><td>xp93</td><td>0.3840</td></tr><tr><td>sigma</td><td>xp84</td><td>0.3840</td></tr><tr><td>sigma</td><td>xp82</td><td>0.3825</td></tr><tr><td>sigma</td><td>xp90</td><td>0.3818</td></tr><tr><td>sigma</td><td>xp87</td><td>0.3778</td></tr><tr><td>sigma</td><td>xp88</td><td>0.3776</td></tr><tr><td>sigma</td><td>xp91</td><td>0.3756</td></tr><tr><td>sigma</td><td>xp86</td><td>0.3747</td></tr><tr><td>sigma</td><td>xp83</td><td>0.3689</td></tr><tr><td>sigma</td><td>xp85</td><td>0.3658</td></tr><tr><td>beta</td><td>sigma</td><td>0.3347</td></tr><tr><td>sigma</td><td>A101</td><td>-0.3346</td></tr><tr><td>sigma</td><td>A97</td><td>-0.3346</td></tr><tr><td>sigma</td><td>A98</td><td>-0.3346</td></tr><tr><td>sigma</td><td>A100</td><td>-0.3346</td></tr><tr><td>sigma</td><td>A99</td><td>-0.3346</td></tr><tr><td>sigma</td><td>A96</td><td>-0.3346</td></tr><tr><td>sigma</td><td>A95</td><td>-0.3346</td></tr><tr><td>sigma</td><td>A94</td><td>-0.3346</td></tr><tr><td>sigma</td><td>A92</td><td>-0.3346</td></tr><tr><td>sigma</td><td>A89</td><td>-0.3346</td></tr><tr><td>sigma</td><td>A93</td><td>-0.3346</td></tr><tr><td>sigma</td><td>A90</td><td>-0.3346</td></tr><tr><td>sigma</td><td>A91</td><td>-0.3346</td></tr><tr><td>sigma</td><td>A85</td><td>-0.3346</td></tr><tr><td>sigma</td><td>A83</td><td>-0.3346</td></tr><tr><td>sigma</td><td>A84</td><td>-0.3346</td></tr><tr><td>sigma</td><td>A88</td><td>-0.3346</td></tr><tr><td>sigma</td><td>A87</td><td>-0.3346</td></tr><tr><td>sigma</td><td>A86</td><td>-0.3346</td></tr><tr><td>A82</td><td>sigma</td><td>-0.3346</td></tr><tr><td>R</td><td>sigma</td><td>-0.3346</td></tr><tr><td>xp99</td><td>xp100</td><td>0.2721</td></tr><tr><td>xp96</td><td>xp100</td><td>0.2711</td></tr><tr><td>xp96</td><td>xp99</td><td>0.2709</td></tr><tr><td>xp94</td><td>xp100</td><td>0.2690</td></tr><tr><td>xp94</td><td>xp99</td><td>0.2689</td></tr><tr><td>xp100</td><td>xp101</td><td>0.2685</td></tr><tr><td>xp99</td><td>xp101</td><td>0.2684</td></tr><tr><td>xp95</td><td>xp100</td><td>0.2681</td></tr><tr><td>xp95</td><td>xp99</td><td>0.2680</td></tr><tr><td>xp94</td><td>xp96</td><td>0.2678</td></tr><tr><td>xp96</td><td>xp101</td><td>0.2672</td></tr><tr><td>xp95</td><td>xp96</td><td>0.2669</td></tr><tr><td>xp94</td><td>xp101</td><td>0.2657</td></tr><tr><td>xp92</td><td>xp100</td><td>0.2655</td></tr><tr><td>xp92</td><td>xp99</td><td>0.2654</td></tr><tr><td>xp89</td><td>xp100</td><td>0.2653</td></tr><tr><td>xp89</td><td>xp99</td><td>0.2652</td></tr><tr><td>xp94</td><td>xp95</td><td>0.2652</td></tr><tr><td>xp97</td><td>xp99</td><td>0.2649</td></tr><tr><td>xp97</td><td>xp100</td><td>0.2648</td></tr><tr><td>xp95</td><td>xp101</td><td>0.2647</td></tr><tr><td>xp92</td><td>xp96</td><td>0.2643</td></tr><tr><td>xp89</td><td>xp96</td><td>0.2642</td></tr><tr><td>xp96</td><td>xp97</td><td>0.2635</td></tr><tr><td>xp93</td><td>xp100</td><td>0.2634</td></tr><tr><td>xp93</td><td>xp99</td><td>0.2634</td></tr><tr><td>xp97</td><td>xp101</td><td>0.2632</td></tr><tr><td>xp94</td><td>xp97</td><td>0.2630</td></tr><tr><td>xp89</td><td>xp94</td><td>0.2629</td></tr><tr><td>xp92</td><td>xp94</td><td>0.2628</td></tr><tr><td>xp89</td><td>xp101</td><td>0.2624</td></tr><tr><td>xp92</td><td>xp101</td><td>0.2623</td></tr><tr><td>xp82</td><td>xp100</td><td>0.2622</td></tr><tr><td>xp93</td><td>xp96</td><td>0.2622</td></tr><tr><td>xp82</td><td>xp99</td><td>0.2621</td></tr><tr><td>xp89</td><td>xp95</td><td>0.2618</td></tr><tr><td>xp92</td><td>xp95</td><td>0.2618</td></tr><tr><td>xp95</td><td>xp97</td><td>0.2617</td></tr><tr><td>xp90</td><td>xp100</td><td>0.2614</td></tr><tr><td>xp93</td><td>xp94</td><td>0.2614</td></tr><tr><td>xp90</td><td>xp99</td><td>0.2613</td></tr><tr><td>xp82</td><td>xp96</td><td>0.2613</td></tr><tr><td>xp84</td><td>xp100</td><td>0.2613</td></tr><tr><td>xp84</td><td>xp99</td><td>0.2611</td></tr><tr><td>xp93</td><td>xp101</td><td>0.2611</td></tr><tr><td>xp98</td><td>xp100</td><td>0.2607</td></tr><tr><td>xp98</td><td>xp99</td><td>0.2604</td></tr><tr><td>xp90</td><td>xp96</td><td>0.2603</td></tr><tr><td>xp84</td><td>xp96</td><td>0.2603</td></tr><tr><td>xp89</td><td>xp97</td><td>0.2602</td></tr><tr><td>xp93</td><td>xp95</td><td>0.2601</td></tr><tr><td>xp93</td><td>xp97</td><td>0.2597</td></tr><tr><td>xp92</td><td>xp97</td><td>0.2597</td></tr><tr><td>xp91</td><td>xp99</td><td>0.2596</td></tr><tr><td>xp89</td><td>xp92</td><td>0.2595</td></tr><tr><td>xp91</td><td>xp100</td><td>0.2595</td></tr><tr><td>xp82</td><td>xp94</td><td>0.2595</td></tr><tr><td>xp96</td><td>xp98</td><td>0.2595</td></tr><tr><td>xp88</td><td>xp100</td><td>0.2591</td></tr><tr><td>xp88</td><td>xp99</td><td>0.2590</td></tr><tr><td>xp90</td><td>xp94</td><td>0.2589</td></tr><tr><td>xp87</td><td>xp100</td><td>0.2589</td></tr><tr><td>xp87</td><td>xp99</td><td>0.2588</td></tr><tr><td>xp84</td><td>xp94</td><td>0.2585</td></tr><tr><td>xp82</td><td>xp95</td><td>0.2585</td></tr><tr><td>xp89</td><td>xp93</td><td>0.2585</td></tr><tr><td>xp82</td><td>xp101</td><td>0.2585</td></tr><tr><td>xp91</td><td>xp96</td><td>0.2584</td></tr><tr><td>xp90</td><td>xp101</td><td>0.2582</td></tr><tr><td>xp88</td><td>xp96</td><td>0.2581</td></tr><tr><td>xp92</td><td>xp93</td><td>0.2580</td></tr><tr><td>xp87</td><td>xp96</td><td>0.2579</td></tr><tr><td>xp86</td><td>xp100</td><td>0.2579</td></tr><tr><td>xp86</td><td>xp99</td><td>0.2578</td></tr><tr><td>xp90</td><td>xp95</td><td>0.2578</td></tr><tr><td>xp84</td><td>xp101</td><td>0.2576</td></tr><tr><td>xp91</td><td>xp94</td><td>0.2576</td></tr><tr><td>xp84</td><td>xp95</td><td>0.2575</td></tr><tr><td>xp94</td><td>xp98</td><td>0.2574</td></tr><tr><td>xp91</td><td>xp101</td><td>0.2572</td></tr><tr><td>xp86</td><td>xp96</td><td>0.2569</td></tr><tr><td>xp98</td><td>xp101</td><td>0.2568</td></tr><tr><td>xp88</td><td>xp94</td><td>0.2566</td></tr><tr><td>xp95</td><td>xp98</td><td>0.2565</td></tr><tr><td>xp83</td><td>xp99</td><td>0.2565</td></tr><tr><td>xp83</td><td>xp100</td><td>0.2564</td></tr><tr><td>xp87</td><td>xp94</td><td>0.2564</td></tr><tr><td>xp82</td><td>xp89</td><td>0.2564</td></tr><tr><td>xp91</td><td>xp95</td><td>0.2564</td></tr><tr><td>xp82</td><td>xp92</td><td>0.2562</td></tr><tr><td>xp91</td><td>xp97</td><td>0.2559</td></tr><tr><td>xp88</td><td>xp101</td><td>0.2559</td></tr><tr><td>xp89</td><td>xp90</td><td>0.2558</td></tr><tr><td>xp90</td><td>xp97</td><td>0.2558</td></tr><tr><td>xp87</td><td>xp101</td><td>0.2556</td></tr><tr><td>xp90</td><td>xp92</td><td>0.2556</td></tr><tr><td>xp88</td><td>xp95</td><td>0.2556</td></tr><tr><td>xp86</td><td>xp94</td><td>0.2555</td></tr><tr><td>xp82</td><td>xp97</td><td>0.2554</td></tr><tr><td>xp83</td><td>xp96</td><td>0.2553</td></tr><tr><td>xp87</td><td>xp95</td><td>0.2553</td></tr><tr><td>xp84</td><td>xp89</td><td>0.2553</td></tr><tr><td>xp85</td><td>xp99</td><td>0.2553</td></tr><tr><td>xp85</td><td>xp100</td><td>0.2552</td></tr><tr><td>xp84</td><td>xp92</td><td>0.2552</td></tr><tr><td>xp89</td><td>xp91</td><td>0.2548</td></tr><tr><td>xp86</td><td>xp101</td><td>0.2547</td></tr><tr><td>xp83</td><td>xp94</td><td>0.2547</td></tr><tr><td>xp84</td><td>xp97</td><td>0.2545</td></tr><tr><td>xp82</td><td>xp93</td><td>0.2545</td></tr><tr><td>xp86</td><td>xp95</td><td>0.2544</td></tr><tr><td>xp90</td><td>xp93</td><td>0.2543</td></tr><tr><td>xp91</td><td>xp92</td><td>0.2543</td></tr><tr><td>xp83</td><td>xp101</td><td>0.2543</td></tr><tr><td>xp85</td><td>xp96</td><td>0.2541</td></tr><tr><td>xp92</td><td>xp98</td><td>0.2540</td></tr><tr><td>xp91</td><td>xp93</td><td>0.2539</td></tr><tr><td>xp89</td><td>xp98</td><td>0.2537</td></tr><tr><td>xp88</td><td>xp89</td><td>0.2536</td></tr><tr><td>xp85</td><td>xp94</td><td>0.2535</td></tr><tr><td>xp84</td><td>xp93</td><td>0.2535</td></tr><tr><td>xp83</td><td>xp95</td><td>0.2534</td></tr><tr><td>xp88</td><td>xp97</td><td>0.2534</td></tr><tr><td>xp88</td><td>xp92</td><td>0.2533</td></tr><tr><td>xp87</td><td>xp89</td><td>0.2533</td></tr><tr><td>xp83</td><td>xp97</td><td>0.2533</td></tr><tr><td>xp85</td><td>xp101</td><td>0.2532</td></tr><tr><td>xp87</td><td>xp92</td><td>0.2531</td></tr><tr><td>xp87</td><td>xp97</td><td>0.2530</td></tr><tr><td>xp97</td><td>xp98</td><td>0.2530</td></tr><tr><td>xp82</td><td>xp84</td><td>0.2527</td></tr><tr><td>xp82</td><td>xp90</td><td>0.2527</td></tr><tr><td>xp86</td><td>xp89</td><td>0.2525</td></tr><tr><td>xp86</td><td>xp97</td><td>0.2524</td></tr><tr><td>xp85</td><td>xp95</td><td>0.2522</td></tr><tr><td>xp86</td><td>xp92</td><td>0.2522</td></tr><tr><td>xp85</td><td>xp97</td><td>0.2522</td></tr><tr><td>xp83</td><td>xp89</td><td>0.2521</td></tr><tr><td>xp88</td><td>xp93</td><td>0.2521</td></tr><tr><td>xp93</td><td>xp98</td><td>0.2518</td></tr><tr><td>xp87</td><td>xp93</td><td>0.2518</td></tr><tr><td>xp84</td><td>xp90</td><td>0.2516</td></tr><tr><td>xp83</td><td>xp92</td><td>0.2515</td></tr><tr><td>xp83</td><td>xp93</td><td>0.2513</td></tr><tr><td>xp86</td><td>xp93</td><td>0.2511</td></tr><tr><td>xp85</td><td>xp89</td><td>0.2510</td></tr><tr><td>xp82</td><td>xp91</td><td>0.2510</td></tr><tr><td>xp82</td><td>xp98</td><td>0.2510</td></tr><tr><td>xp90</td><td>xp91</td><td>0.2508</td></tr><tr><td>xp82</td><td>xp88</td><td>0.2506</td></tr><tr><td>xp82</td><td>xp87</td><td>0.2504</td></tr><tr><td>xp85</td><td>xp92</td><td>0.2504</td></tr><tr><td>xp85</td><td>xp93</td><td>0.2502</td></tr><tr><td>xp84</td><td>xp98</td><td>0.2501</td></tr><tr><td>xp90</td><td>xp98</td><td>0.2500</td></tr><tr><td>xp84</td><td>xp91</td><td>0.2499</td></tr><tr><td>xp88</td><td>xp90</td><td>0.2498</td></tr><tr><td>xp87</td><td>xp90</td><td>0.2496</td></tr><tr><td>xp82</td><td>xp86</td><td>0.2496</td></tr><tr><td>xp84</td><td>xp88</td><td>0.2495</td></tr><tr><td>xp84</td><td>xp87</td><td>0.2493</td></tr><tr><td>xp86</td><td>xp90</td><td>0.2488</td></tr><tr><td>xp88</td><td>xp91</td><td>0.2485</td></tr><tr><td>xp84</td><td>xp86</td><td>0.2485</td></tr><tr><td>xp87</td><td>xp91</td><td>0.2482</td></tr><tr><td>xp82</td><td>xp83</td><td>0.2482</td></tr><tr><td>xp91</td><td>xp98</td><td>0.2481</td></tr><tr><td>xp83</td><td>xp90</td><td>0.2481</td></tr><tr><td>xp88</td><td>xp98</td><td>0.2479</td></tr><tr><td>xp83</td><td>xp91</td><td>0.2478</td></tr><tr><td>xp87</td><td>xp98</td><td>0.2477</td></tr><tr><td>xp86</td><td>xp91</td><td>0.2476</td></tr><tr><td>xp87</td><td>xp88</td><td>0.2475</td></tr><tr><td>xp83</td><td>xp84</td><td>0.2472</td></tr><tr><td>xp82</td><td>xp85</td><td>0.2471</td></tr><tr><td>xp85</td><td>xp90</td><td>0.2469</td></tr><tr><td>xp85</td><td>xp91</td><td>0.2467</td></tr><tr><td>xp86</td><td>xp98</td><td>0.2467</td></tr><tr><td>xp86</td><td>xp88</td><td>0.2467</td></tr><tr><td>xp86</td><td>xp87</td><td>0.2464</td></tr><tr><td>xp84</td><td>xp85</td><td>0.2460</td></tr><tr><td>xp83</td><td>xp88</td><td>0.2459</td></tr><tr><td>xp83</td><td>xp87</td><td>0.2456</td></tr><tr><td>xp83</td><td>xp98</td><td>0.2451</td></tr><tr><td>xp83</td><td>xp86</td><td>0.2449</td></tr><tr><td>xp85</td><td>xp88</td><td>0.2448</td></tr><tr><td>xp85</td><td>xp87</td><td>0.2445</td></tr><tr><td>xp83</td><td>xp85</td><td>0.2443</td></tr><tr><td>xp85</td><td>xp98</td><td>0.2439</td></tr><tr><td>xp85</td><td>xp86</td><td>0.2438</td></tr><tr><td>A93</td><td>xp96</td><td>-0.1195</td></tr><tr><td>A92</td><td>xp96</td><td>-0.1194</td></tr><tr><td>A95</td><td>xp96</td><td>-0.1194</td></tr><tr><td>A96</td><td>xp96</td><td>-0.1194</td></tr><tr><td>A94</td><td>xp96</td><td>-0.1193</td></tr><tr><td>R</td><td>xp96</td><td>-0.1193</td></tr><tr><td>A85</td><td>xp96</td><td>-0.1193</td></tr><tr><td>xp96</td><td>A101</td><td>-0.1193</td></tr><tr><td>xp96</td><td>A97</td><td>-0.1193</td></tr><tr><td>xp96</td><td>A100</td><td>-0.1193</td></tr><tr><td>xp96</td><td>A99</td><td>-0.1193</td></tr><tr><td>xp96</td><td>A98</td><td>-0.1193</td></tr><tr><td>A86</td><td>xp96</td><td>-0.1193</td></tr><tr><td>A87</td><td>xp96</td><td>-0.1193</td></tr><tr><td>A88</td><td>xp96</td><td>-0.1193</td></tr><tr><td>A91</td><td>xp96</td><td>-0.1193</td></tr><tr><td>A90</td><td>xp96</td><td>-0.1193</td></tr><tr><td>A83</td><td>xp96</td><td>-0.1192</td></tr><tr><td>A84</td><td>xp96</td><td>-0.1192</td></tr><tr><td>A89</td><td>xp96</td><td>-0.1192</td></tr><tr><td>beta</td><td>xp96</td><td>0.1191</td></tr><tr><td>A82</td><td>xp96</td><td>-0.1191</td></tr><tr><td>A82</td><td>xp98</td><td>-0.1186</td></tr><tr><td>beta</td><td>xp98</td><td>0.1186</td></tr><tr><td>A92</td><td>xp98</td><td>-0.1186</td></tr><tr><td>A89</td><td>xp98</td><td>-0.1186</td></tr><tr><td>A91</td><td>xp98</td><td>-0.1186</td></tr><tr><td>R</td><td>xp98</td><td>-0.1186</td></tr><tr><td>A93</td><td>xp98</td><td>-0.1185</td></tr><tr><td>A90</td><td>xp98</td><td>-0.1185</td></tr><tr><td>A96</td><td>xp98</td><td>-0.1185</td></tr><tr><td>A84</td><td>xp98</td><td>-0.1185</td></tr><tr><td>xp98</td><td>A101</td><td>-0.1185</td></tr><tr><td>xp98</td><td>A100</td><td>-0.1185</td></tr><tr><td>xp98</td><td>A99</td><td>-0.1185</td></tr><tr><td>A94</td><td>xp98</td><td>-0.1185</td></tr><tr><td>A85</td><td>xp98</td><td>-0.1185</td></tr><tr><td>A87</td><td>xp98</td><td>-0.1185</td></tr><tr><td>A97</td><td>xp98</td><td>-0.1185</td></tr><tr><td>A98</td><td>xp98</td><td>-0.1185</td></tr><tr><td>A83</td><td>xp98</td><td>-0.1185</td></tr><tr><td>A95</td><td>xp98</td><td>-0.1185</td></tr><tr><td>A86</td><td>xp98</td><td>-0.1185</td></tr><tr><td>A88</td><td>xp98</td><td>-0.1184</td></tr><tr><td>A88</td><td>xp100</td><td>-0.1174</td></tr><tr><td>A86</td><td>xp100</td><td>-0.1174</td></tr><tr><td>A95</td><td>xp100</td><td>-0.1174</td></tr><tr><td>xp100</td><td>A101</td><td>-0.1174</td></tr><tr><td>A83</td><td>xp100</td><td>-0.1174</td></tr><tr><td>A97</td><td>xp100</td><td>-0.1173</td></tr><tr><td>A87</td><td>xp100</td><td>-0.1173</td></tr><tr><td>A98</td><td>xp100</td><td>-0.1173</td></tr><tr><td>A94</td><td>xp100</td><td>-0.1173</td></tr><tr><td>A85</td><td>xp100</td><td>-0.1173</td></tr><tr><td>A84</td><td>xp100</td><td>-0.1173</td></tr><tr><td>A96</td><td>xp100</td><td>-0.1173</td></tr><tr><td>A90</td><td>xp100</td><td>-0.1173</td></tr><tr><td>A93</td><td>xp100</td><td>-0.1173</td></tr><tr><td>R</td><td>xp100</td><td>-0.1173</td></tr><tr><td>A91</td><td>xp100</td><td>-0.1173</td></tr><tr><td>A89</td><td>xp100</td><td>-0.1173</td></tr><tr><td>beta</td><td>xp100</td><td>0.1173</td></tr><tr><td>A99</td><td>xp100</td><td>-0.1173</td></tr><tr><td>A92</td><td>xp100</td><td>-0.1172</td></tr><tr><td>A100</td><td>xp100</td><td>-0.1172</td></tr><tr><td>A82</td><td>xp100</td><td>-0.1172</td></tr><tr><td>beta</td><td>xp99</td><td>0.1136</td></tr><tr><td>xp99</td><td>A101</td><td>-0.1135</td></tr><tr><td>xp99</td><td>A100</td><td>-0.1135</td></tr><tr><td>A96</td><td>xp99</td><td>-0.1135</td></tr><tr><td>A82</td><td>xp99</td><td>-0.1135</td></tr><tr><td>A94</td><td>xp99</td><td>-0.1135</td></tr><tr><td>A98</td><td>xp99</td><td>-0.1135</td></tr><tr><td>A89</td><td>xp99</td><td>-0.1135</td></tr><tr><td>A91</td><td>xp99</td><td>-0.1135</td></tr><tr><td>A97</td><td>xp99</td><td>-0.1135</td></tr><tr><td>A92</td><td>xp99</td><td>-0.1135</td></tr><tr><td>A84</td><td>xp99</td><td>-0.1135</td></tr><tr><td>A90</td><td>xp99</td><td>-0.1135</td></tr><tr><td>R</td><td>xp99</td><td>-0.1135</td></tr><tr><td>A86</td><td>xp99</td><td>-0.1135</td></tr><tr><td>A85</td><td>xp99</td><td>-0.1135</td></tr><tr><td>A83</td><td>xp99</td><td>-0.1135</td></tr><tr><td>A95</td><td>xp99</td><td>-0.1135</td></tr><tr><td>A93</td><td>xp99</td><td>-0.1135</td></tr><tr><td>A87</td><td>xp99</td><td>-0.1135</td></tr><tr><td>A88</td><td>xp99</td><td>-0.1135</td></tr><tr><td>A99</td><td>xp99</td><td>-0.1135</td></tr><tr><td>beta</td><td>xp82</td><td>0.1083</td></tr><tr><td>xp82</td><td>A101</td><td>-0.1083</td></tr><tr><td>xp82</td><td>A97</td><td>-0.1083</td></tr><tr><td>xp82</td><td>A100</td><td>-0.1083</td></tr><tr><td>xp82</td><td>A96</td><td>-0.1083</td></tr><tr><td>xp82</td><td>A99</td><td>-0.1083</td></tr><tr><td>xp82</td><td>A98</td><td>-0.1083</td></tr><tr><td>xp82</td><td>A95</td><td>-0.1083</td></tr><tr><td>xp82</td><td>A92</td><td>-0.1083</td></tr><tr><td>xp82</td><td>A89</td><td>-0.1083</td></tr><tr><td>xp82</td><td>A94</td><td>-0.1083</td></tr><tr><td>xp82</td><td>A91</td><td>-0.1083</td></tr><tr><td>xp82</td><td>A85</td><td>-0.1083</td></tr><tr><td>xp82</td><td>A90</td><td>-0.1083</td></tr><tr><td>xp82</td><td>A83</td><td>-0.1083</td></tr><tr><td>xp82</td><td>A93</td><td>-0.1083</td></tr><tr><td>xp82</td><td>A88</td><td>-0.1083</td></tr><tr><td>xp82</td><td>A84</td><td>-0.1083</td></tr><tr><td>xp82</td><td>A87</td><td>-0.1083</td></tr><tr><td>xp82</td><td>A86</td><td>-0.1083</td></tr><tr><td>R</td><td>xp82</td><td>-0.1083</td></tr><tr><td>A82</td><td>xp82</td><td>-0.1083</td></tr><tr><td>beta</td><td>xp84</td><td>0.1077</td></tr><tr><td>xp84</td><td>A101</td><td>-0.1077</td></tr><tr><td>xp84</td><td>A97</td><td>-0.1077</td></tr><tr><td>xp84</td><td>A100</td><td>-0.1077</td></tr><tr><td>xp84</td><td>A96</td><td>-0.1077</td></tr><tr><td>xp84</td><td>A99</td><td>-0.1077</td></tr><tr><td>xp84</td><td>A98</td><td>-0.1077</td></tr><tr><td>xp84</td><td>A95</td><td>-0.1077</td></tr><tr><td>xp84</td><td>A92</td><td>-0.1077</td></tr><tr><td>xp84</td><td>A89</td><td>-0.1077</td></tr><tr><td>xp84</td><td>A94</td><td>-0.1077</td></tr><tr><td>xp84</td><td>A91</td><td>-0.1077</td></tr><tr><td>xp84</td><td>A85</td><td>-0.1077</td></tr><tr><td>xp84</td><td>A90</td><td>-0.1077</td></tr><tr><td>xp84</td><td>A93</td><td>-0.1077</td></tr><tr><td>xp84</td><td>A88</td><td>-0.1077</td></tr><tr><td>xp84</td><td>A87</td><td>-0.1077</td></tr><tr><td>xp84</td><td>A86</td><td>-0.1077</td></tr><tr><td>A83</td><td>xp84</td><td>-0.1077</td></tr><tr><td>A82</td><td>xp84</td><td>-0.1077</td></tr><tr><td>R</td><td>xp84</td><td>-0.1077</td></tr><tr><td>A84</td><td>xp84</td><td>-0.1077</td></tr><tr><td>A88</td><td>xp95</td><td>-0.1025</td></tr><tr><td>A83</td><td>xp95</td><td>-0.1025</td></tr><tr><td>A84</td><td>xp95</td><td>-0.1025</td></tr><tr><td>beta</td><td>xp95</td><td>0.1025</td></tr><tr><td>xp95</td><td>A101</td><td>-0.1025</td></tr><tr><td>xp95</td><td>A97</td><td>-0.1025</td></tr><tr><td>xp95</td><td>A100</td><td>-0.1025</td></tr><tr><td>xp95</td><td>A96</td><td>-0.1025</td></tr><tr><td>xp95</td><td>A99</td><td>-0.1025</td></tr><tr><td>xp95</td><td>A98</td><td>-0.1025</td></tr><tr><td>A86</td><td>xp95</td><td>-0.1025</td></tr><tr><td>A92</td><td>xp95</td><td>-0.1025</td></tr><tr><td>A87</td><td>xp95</td><td>-0.1024</td></tr><tr><td>A85</td><td>xp95</td><td>-0.1024</td></tr><tr><td>A90</td><td>xp95</td><td>-0.1024</td></tr><tr><td>A89</td><td>xp95</td><td>-0.1024</td></tr><tr><td>A82</td><td>xp95</td><td>-0.1024</td></tr><tr><td>R</td><td>xp95</td><td>-0.1024</td></tr><tr><td>A91</td><td>xp95</td><td>-0.1024</td></tr><tr><td>A93</td><td>xp95</td><td>-0.1024</td></tr><tr><td>A95</td><td>xp95</td><td>-0.1024</td></tr><tr><td>A94</td><td>xp95</td><td>-0.1024</td></tr></table>"
      ],
      "text/plain": [
       "<lmfit.minimizer.MinimizerResult at 0x159c925de88>"
      ]
     },
     "execution_count": 70,
     "metadata": {},
     "output_type": "execute_result"
    }
   ],
   "source": [
    "# report_fit(result)\n",
    "xwFit['8_20'][0].result"
   ]
  },
  {
   "cell_type": "code",
   "execution_count": 99,
   "metadata": {
    "Collapsed": "false",
    "collapsed": true,
    "hidden": true
   },
   "outputs": [
    {
     "data": {
      "text/html": [
       "<h2>Fit Statistics</h2><table><tr><td>fitting method</td><td>leastsq</td><td></td></tr><tr><td># function evals</td><td>180</td><td></td></tr><tr><td># data points</td><td>2400</td><td></td></tr><tr><td># variables</td><td>43</td><td></td></tr><tr><td>chi-square</td><td> 4475.45946</td><td></td></tr><tr><td>reduced chi-square</td><td> 1.89879485</td><td></td></tr><tr><td>Akaike info crit.</td><td> 1581.53668</td><td></td></tr><tr><td>Bayesian info crit.</td><td> 1830.21531</td><td></td></tr></table><h2>Variables</h2><table><tr><th> name </th><th> value </th><th> standard error </th><th> relative error </th><th> initial value </th><th> min </th><th> max </th><th> vary </th></tr><tr><td> A82 </td><td>  158144.842 </td><td>  1702.18377 </td><td> (1.08%) </td><td> 522017.30702153064 </td><td>  0.00000000 </td><td>         inf </td><td> True </td></tr><tr><td> alpha </td><td>  126.532104 </td><td>  0.56514520 </td><td> (0.45%) </td><td> 127.55662170975839 </td><td>  0.00000000 </td><td>         inf </td><td> True </td></tr><tr><td> beta </td><td>  1.0000e-10 </td><td>  0.00000000 </td><td> (0.00%) </td><td> 1e-10 </td><td>  0.00000000 </td><td>         inf </td><td> False </td></tr><tr><td> R </td><td>  1.0000e-10 </td><td>  0.00000000 </td><td> (0.00%) </td><td> 1e-10 </td><td>  0.00000000 </td><td>         inf </td><td> False </td></tr><tr><td> gamma </td><td>  3.9792e-04 </td><td>  2.0183e-05 </td><td> (5.07%) </td><td> 0.0003532392872411805 </td><td>  0.00000000 </td><td>         inf </td><td> True </td></tr><tr><td> sigma </td><td>  0.00517279 </td><td>  7.3150e-05 </td><td> (1.41%) </td><td> 0.005299430203852484 </td><td>  0.00000000 </td><td>         inf </td><td> True </td></tr><tr><td> k </td><td>  0.05000000 </td><td>  0.00000000 </td><td> (0.00%) </td><td> 0.05 </td><td>  0.00000000 </td><td>         inf </td><td> False </td></tr><tr><td> xp82 </td><td> -8.01778653 </td><td>  1.6089e-04 </td><td> (0.00%) </td><td> -8.017673271873436 </td><td>        -inf </td><td>         inf </td><td> True </td></tr><tr><td> A83 </td><td>  154141.174 </td><td>  1694.39745 </td><td> (1.10%) </td><td> 508766.13769398094 </td><td>  0.00000000 </td><td>         inf </td><td> True </td></tr><tr><td> xp83 </td><td> -8.01778210 </td><td>  1.6297e-04 </td><td> (0.00%) </td><td> -8.017669256363257 </td><td>        -inf </td><td>         inf </td><td> True </td></tr><tr><td> A84 </td><td>  154151.003 </td><td>  1695.47823 </td><td> (1.10%) </td><td> 508652.26475301955 </td><td>  0.00000000 </td><td>         inf </td><td> True </td></tr><tr><td> xp84 </td><td> -8.01777889 </td><td>  1.6299e-04 </td><td> (0.00%) </td><td> -8.017664831800586 </td><td>        -inf </td><td>         inf </td><td> True </td></tr><tr><td> A85 </td><td>  153127.959 </td><td>  1682.48836 </td><td> (1.10%) </td><td> 505384.7049409609 </td><td>  0.00000000 </td><td>         inf </td><td> True </td></tr><tr><td> xp85 </td><td> -8.01781945 </td><td>  1.6297e-04 </td><td> (0.00%) </td><td> -8.017706139553738 </td><td>        -inf </td><td>         inf </td><td> True </td></tr><tr><td> A86 </td><td>  152499.425 </td><td>  1683.55563 </td><td> (1.10%) </td><td> 503185.93695491744 </td><td>  0.00000000 </td><td>         inf </td><td> True </td></tr><tr><td> xp86 </td><td> -8.01757975 </td><td>  1.6402e-04 </td><td> (0.00%) </td><td> -8.017466367728765 </td><td>        -inf </td><td>         inf </td><td> True </td></tr><tr><td> A87 </td><td>  151183.104 </td><td>  1676.30333 </td><td> (1.11%) </td><td> 498884.13976978447 </td><td>  0.00000000 </td><td>         inf </td><td> True </td></tr><tr><td> xp87 </td><td> -8.01776547 </td><td>  1.6349e-04 </td><td> (0.00%) </td><td> -8.01765347118276 </td><td>        -inf </td><td>         inf </td><td> True </td></tr><tr><td> A88 </td><td>  151248.377 </td><td>  1673.07338 </td><td> (1.11%) </td><td> 499325.903601057 </td><td>  0.00000000 </td><td>         inf </td><td> True </td></tr><tr><td> xp88 </td><td> -8.01771498 </td><td>  1.6364e-04 </td><td> (0.00%) </td><td> -8.017602816193303 </td><td>        -inf </td><td>         inf </td><td> True </td></tr><tr><td> A89 </td><td>  152845.440 </td><td>  1670.59649 </td><td> (1.09%) </td><td> 504489.9259206249 </td><td>  0.00000000 </td><td>         inf </td><td> True </td></tr><tr><td> xp89 </td><td> -8.01790974 </td><td>  1.6073e-04 </td><td> (0.00%) </td><td> -8.017796729533423 </td><td>        -inf </td><td>         inf </td><td> True </td></tr><tr><td> A90 </td><td>  150751.490 </td><td>  1668.27011 </td><td> (1.11%) </td><td> 497501.2874031899 </td><td>  0.00000000 </td><td>         inf </td><td> True </td></tr><tr><td> xp90 </td><td> -8.01762740 </td><td>  1.6355e-04 </td><td> (0.00%) </td><td> -8.017513753262136 </td><td>        -inf </td><td>         inf </td><td> True </td></tr><tr><td> A91 </td><td>  150170.268 </td><td>  1661.97200 </td><td> (1.11%) </td><td> 495642.88436009386 </td><td>  0.00000000 </td><td>         inf </td><td> True </td></tr><tr><td> xp91 </td><td> -8.01773121 </td><td>  1.6358e-04 </td><td> (0.00%) </td><td> -8.017617144125463 </td><td>        -inf </td><td>         inf </td><td> True </td></tr><tr><td> A92 </td><td>  146929.357 </td><td>  1659.27527 </td><td> (1.13%) </td><td> 485094.81519572844 </td><td>  0.00000000 </td><td>         inf </td><td> True </td></tr><tr><td> xp92 </td><td> -8.01764710 </td><td>  1.6372e-04 </td><td> (0.00%) </td><td> -8.017531204221365 </td><td>        -inf </td><td>         inf </td><td> True </td></tr><tr><td> A93 </td><td>  148502.776 </td><td>  1654.80870 </td><td> (1.11%) </td><td> 490153.6383430395 </td><td>  0.00000000 </td><td>         inf </td><td> True </td></tr><tr><td> xp93 </td><td> -8.01776844 </td><td>  1.6211e-04 </td><td> (0.00%) </td><td> -8.017653034055359 </td><td>        -inf </td><td>         inf </td><td> True </td></tr><tr><td> A94 </td><td>  146637.570 </td><td>  1648.17033 </td><td> (1.12%) </td><td> 484055.6859053925 </td><td>  0.00000000 </td><td>         inf </td><td> True </td></tr><tr><td> xp94 </td><td> -8.01771662 </td><td>  1.6199e-04 </td><td> (0.00%) </td><td> -8.017601684715633 </td><td>        -inf </td><td>         inf </td><td> True </td></tr><tr><td> A95 </td><td>  144150.825 </td><td>  1628.29870 </td><td> (1.13%) </td><td> 475688.99716150784 </td><td>  0.00000000 </td><td>         inf </td><td> True </td></tr><tr><td> xp95 </td><td> -8.01767145 </td><td>  1.6345e-04 </td><td> (0.00%) </td><td> -8.017555170199278 </td><td>        -inf </td><td>         inf </td><td> True </td></tr><tr><td> A96 </td><td>  145017.126 </td><td>  1636.09424 </td><td> (1.13%) </td><td> 478553.76457489 </td><td>  0.00000000 </td><td>         inf </td><td> True </td></tr><tr><td> xp96 </td><td> -8.01752591 </td><td>  1.6341e-04 </td><td> (0.00%) </td><td> -8.017409895680334 </td><td>        -inf </td><td>         inf </td><td> True </td></tr><tr><td> A97 </td><td>  143067.921 </td><td>  1626.47748 </td><td> (1.14%) </td><td> 472291.6632756708 </td><td>  0.00000000 </td><td>         inf </td><td> True </td></tr><tr><td> xp97 </td><td> -8.01729902 </td><td>  1.6552e-04 </td><td> (0.00%) </td><td> -8.017179924620132 </td><td>        -inf </td><td>         inf </td><td> True </td></tr><tr><td> A98 </td><td>  142790.222 </td><td>  1742.42262 </td><td> (1.22%) </td><td> 471503.2601999943 </td><td>  0.00000000 </td><td>         inf </td><td> True </td></tr><tr><td> xp98 </td><td> -8.01723958 </td><td>  1.7310e-04 </td><td> (0.00%) </td><td> -8.01712049747778 </td><td>        -inf </td><td>         inf </td><td> True </td></tr><tr><td> A99 </td><td>  142641.613 </td><td>  1620.53966 </td><td> (1.14%) </td><td> 471204.9341968827 </td><td>  0.00000000 </td><td>         inf </td><td> True </td></tr><tr><td> xp99 </td><td> -8.01745845 </td><td>  1.6403e-04 </td><td> (0.00%) </td><td> -8.017342227159054 </td><td>        -inf </td><td>         inf </td><td> True </td></tr><tr><td> A100 </td><td>  140433.140 </td><td>  1613.33995 </td><td> (1.15%) </td><td> 463646.0381324015 </td><td>  0.00000000 </td><td>         inf </td><td> True </td></tr><tr><td> xp100 </td><td> -8.01755713 </td><td>  1.6489e-04 </td><td> (0.00%) </td><td> -8.017437973666194 </td><td>        -inf </td><td>         inf </td><td> True </td></tr><tr><td> A101 </td><td>  137610.908 </td><td>  1598.54123 </td><td> (1.16%) </td><td> 454337.2104743294 </td><td>  0.00000000 </td><td>         inf </td><td> True </td></tr><tr><td> xp101 </td><td> -8.01737854 </td><td>  1.6637e-04 </td><td> (0.00%) </td><td> -8.017261827107124 </td><td>        -inf </td><td>         inf </td><td> True </td></tr></table><h2>Correlations (unreported correlations are < 0.100)</h2><table><tr><td>alpha</td><td>sigma</td><td>0.6386</td></tr><tr><td>alpha</td><td>xp99</td><td>0.4918</td></tr><tr><td>alpha</td><td>xp100</td><td>0.4910</td></tr><tr><td>alpha</td><td>xp97</td><td>0.4906</td></tr><tr><td>alpha</td><td>xp94</td><td>0.4901</td></tr><tr><td>alpha</td><td>xp96</td><td>0.4900</td></tr><tr><td>alpha</td><td>xp101</td><td>0.4881</td></tr><tr><td>alpha</td><td>xp89</td><td>0.4876</td></tr><tr><td>alpha</td><td>xp95</td><td>0.4873</td></tr><tr><td>alpha</td><td>xp93</td><td>0.4870</td></tr><tr><td>alpha</td><td>xp92</td><td>0.4845</td></tr><tr><td>alpha</td><td>xp91</td><td>0.4811</td></tr><tr><td>alpha</td><td>xp82</td><td>0.4809</td></tr><tr><td>alpha</td><td>xp90</td><td>0.4800</td></tr><tr><td>alpha</td><td>xp84</td><td>0.4779</td></tr><tr><td>alpha</td><td>xp83</td><td>0.4778</td></tr><tr><td>alpha</td><td>xp85</td><td>0.4761</td></tr><tr><td>alpha</td><td>xp88</td><td>0.4761</td></tr><tr><td>alpha</td><td>xp87</td><td>0.4755</td></tr><tr><td>alpha</td><td>xp86</td><td>0.4750</td></tr><tr><td>alpha</td><td>xp98</td><td>0.4686</td></tr><tr><td>sigma</td><td>xp100</td><td>0.3853</td></tr><tr><td>gamma</td><td>sigma</td><td>-0.3847</td></tr><tr><td>sigma</td><td>xp101</td><td>0.3831</td></tr><tr><td>sigma</td><td>xp97</td><td>0.3823</td></tr><tr><td>sigma</td><td>xp94</td><td>0.3821</td></tr><tr><td>sigma</td><td>xp99</td><td>0.3820</td></tr><tr><td>sigma</td><td>xp96</td><td>0.3805</td></tr><tr><td>sigma</td><td>xp95</td><td>0.3782</td></tr><tr><td>sigma</td><td>xp92</td><td>0.3754</td></tr><tr><td>sigma</td><td>xp93</td><td>0.3753</td></tr><tr><td>sigma</td><td>xp89</td><td>0.3742</td></tr><tr><td>sigma</td><td>xp98</td><td>0.3669</td></tr><tr><td>sigma</td><td>xp91</td><td>0.3665</td></tr><tr><td>sigma</td><td>xp90</td><td>0.3642</td></tr><tr><td>sigma</td><td>xp83</td><td>0.3619</td></tr><tr><td>sigma</td><td>xp84</td><td>0.3614</td></tr><tr><td>sigma</td><td>xp82</td><td>0.3594</td></tr><tr><td>sigma</td><td>xp85</td><td>0.3593</td></tr><tr><td>sigma</td><td>xp88</td><td>0.3592</td></tr><tr><td>sigma</td><td>xp87</td><td>0.3589</td></tr><tr><td>sigma</td><td>xp86</td><td>0.3571</td></tr><tr><td>xp99</td><td>xp100</td><td>0.2534</td></tr><tr><td>xp97</td><td>xp100</td><td>0.2528</td></tr><tr><td>xp97</td><td>xp99</td><td>0.2528</td></tr><tr><td>xp100</td><td>xp101</td><td>0.2524</td></tr><tr><td>xp99</td><td>xp101</td><td>0.2522</td></tr><tr><td>xp96</td><td>xp100</td><td>0.2522</td></tr><tr><td>xp96</td><td>xp99</td><td>0.2521</td></tr><tr><td>xp94</td><td>xp100</td><td>0.2520</td></tr><tr><td>xp94</td><td>xp99</td><td>0.2519</td></tr><tr><td>xp97</td><td>xp101</td><td>0.2517</td></tr><tr><td>xp96</td><td>xp97</td><td>0.2515</td></tr><tr><td>xp94</td><td>xp97</td><td>0.2514</td></tr><tr><td>xp96</td><td>xp101</td><td>0.2510</td></tr><tr><td>xp94</td><td>xp101</td><td>0.2508</td></tr><tr><td>xp94</td><td>xp96</td><td>0.2508</td></tr><tr><td>xp95</td><td>xp100</td><td>0.2507</td></tr><tr><td>xp95</td><td>xp99</td><td>0.2506</td></tr><tr><td>xp95</td><td>xp97</td><td>0.2501</td></tr><tr><td>xp93</td><td>xp100</td><td>0.2497</td></tr><tr><td>xp93</td><td>xp99</td><td>0.2496</td></tr><tr><td>xp89</td><td>xp100</td><td>0.2496</td></tr><tr><td>xp89</td><td>xp99</td><td>0.2496</td></tr><tr><td>xp95</td><td>xp101</td><td>0.2495</td></tr><tr><td>xp95</td><td>xp96</td><td>0.2494</td></tr><tr><td>xp94</td><td>xp95</td><td>0.2493</td></tr><tr><td>xp93</td><td>xp97</td><td>0.2491</td></tr><tr><td>xp89</td><td>xp97</td><td>0.2490</td></tr><tr><td>xp92</td><td>xp100</td><td>0.2488</td></tr><tr><td>xp92</td><td>xp99</td><td>0.2488</td></tr><tr><td>xp93</td><td>xp96</td><td>0.2485</td></tr><tr><td>xp89</td><td>xp96</td><td>0.2484</td></tr><tr><td>xp93</td><td>xp101</td><td>0.2484</td></tr><tr><td>xp93</td><td>xp94</td><td>0.2484</td></tr><tr><td>xp89</td><td>xp94</td><td>0.2484</td></tr><tr><td>xp89</td><td>xp101</td><td>0.2483</td></tr><tr><td>xp92</td><td>xp97</td><td>0.2482</td></tr><tr><td>xp92</td><td>xp101</td><td>0.2476</td></tr><tr><td>xp92</td><td>xp96</td><td>0.2476</td></tr><tr><td>xp92</td><td>xp94</td><td>0.2475</td></tr><tr><td>xp93</td><td>xp95</td><td>0.2470</td></tr><tr><td>xp89</td><td>xp95</td><td>0.2470</td></tr><tr><td>xp89</td><td>xp93</td><td>0.2462</td></tr><tr><td>xp92</td><td>xp95</td><td>0.2462</td></tr><tr><td>xp91</td><td>xp100</td><td>0.2459</td></tr><tr><td>xp91</td><td>xp99</td><td>0.2459</td></tr><tr><td>xp91</td><td>xp97</td><td>0.2454</td></tr><tr><td>xp92</td><td>xp93</td><td>0.2453</td></tr><tr><td>xp89</td><td>xp92</td><td>0.2453</td></tr><tr><td>xp90</td><td>xp100</td><td>0.2451</td></tr><tr><td>xp90</td><td>xp99</td><td>0.2451</td></tr><tr><td>xp91</td><td>xp96</td><td>0.2448</td></tr><tr><td>xp91</td><td>xp94</td><td>0.2447</td></tr><tr><td>xp91</td><td>xp101</td><td>0.2447</td></tr><tr><td>xp90</td><td>xp97</td><td>0.2445</td></tr><tr><td>xp82</td><td>xp99</td><td>0.2444</td></tr><tr><td>xp82</td><td>xp100</td><td>0.2444</td></tr><tr><td>xp90</td><td>xp96</td><td>0.2440</td></tr><tr><td>xp90</td><td>xp94</td><td>0.2439</td></tr><tr><td>xp82</td><td>xp97</td><td>0.2439</td></tr><tr><td>xp90</td><td>xp101</td><td>0.2439</td></tr><tr><td>xp83</td><td>xp100</td><td>0.2436</td></tr><tr><td>xp83</td><td>xp99</td><td>0.2436</td></tr><tr><td>xp84</td><td>xp100</td><td>0.2436</td></tr><tr><td>xp84</td><td>xp99</td><td>0.2436</td></tr><tr><td>xp91</td><td>xp95</td><td>0.2434</td></tr><tr><td>xp82</td><td>xp96</td><td>0.2433</td></tr><tr><td>xp82</td><td>xp94</td><td>0.2433</td></tr><tr><td>xp83</td><td>xp97</td><td>0.2431</td></tr><tr><td>xp82</td><td>xp101</td><td>0.2431</td></tr><tr><td>xp84</td><td>xp97</td><td>0.2430</td></tr><tr><td>xp88</td><td>xp99</td><td>0.2427</td></tr><tr><td>xp88</td><td>xp100</td><td>0.2427</td></tr><tr><td>xp89</td><td>xp91</td><td>0.2426</td></tr><tr><td>xp85</td><td>xp99</td><td>0.2426</td></tr><tr><td>xp85</td><td>xp100</td><td>0.2426</td></tr><tr><td>xp91</td><td>xp93</td><td>0.2426</td></tr><tr><td>xp90</td><td>xp95</td><td>0.2426</td></tr><tr><td>xp83</td><td>xp96</td><td>0.2425</td></tr><tr><td>xp83</td><td>xp94</td><td>0.2425</td></tr><tr><td>xp84</td><td>xp96</td><td>0.2425</td></tr><tr><td>xp84</td><td>xp94</td><td>0.2425</td></tr><tr><td>xp83</td><td>xp101</td><td>0.2424</td></tr><tr><td>xp87</td><td>xp99</td><td>0.2423</td></tr><tr><td>xp87</td><td>xp100</td><td>0.2423</td></tr><tr><td>xp84</td><td>xp101</td><td>0.2423</td></tr><tr><td>xp88</td><td>xp97</td><td>0.2421</td></tr><tr><td>xp85</td><td>xp97</td><td>0.2421</td></tr><tr><td>xp82</td><td>xp95</td><td>0.2420</td></tr><tr><td>xp89</td><td>xp90</td><td>0.2418</td></tr><tr><td>xp87</td><td>xp97</td><td>0.2418</td></tr><tr><td>xp86</td><td>xp99</td><td>0.2418</td></tr><tr><td>xp90</td><td>xp93</td><td>0.2418</td></tr><tr><td>xp86</td><td>xp100</td><td>0.2418</td></tr><tr><td>xp98</td><td>xp100</td><td>0.2417</td></tr><tr><td>xp91</td><td>xp92</td><td>0.2417</td></tr><tr><td>xp98</td><td>xp99</td><td>0.2416</td></tr><tr><td>xp88</td><td>xp96</td><td>0.2416</td></tr><tr><td>xp88</td><td>xp94</td><td>0.2416</td></tr><tr><td>xp85</td><td>xp96</td><td>0.2415</td></tr><tr><td>xp85</td><td>xp94</td><td>0.2415</td></tr><tr><td>xp88</td><td>xp101</td><td>0.2414</td></tr><tr><td>xp82</td><td>xp89</td><td>0.2413</td></tr><tr><td>xp85</td><td>xp101</td><td>0.2413</td></tr><tr><td>xp87</td><td>xp96</td><td>0.2413</td></tr><tr><td>xp82</td><td>xp93</td><td>0.2413</td></tr><tr><td>xp86</td><td>xp97</td><td>0.2413</td></tr><tr><td>xp87</td><td>xp94</td><td>0.2412</td></tr><tr><td>xp83</td><td>xp95</td><td>0.2411</td></tr><tr><td>xp97</td><td>xp98</td><td>0.2411</td></tr><tr><td>xp87</td><td>xp101</td><td>0.2411</td></tr><tr><td>xp84</td><td>xp95</td><td>0.2411</td></tr><tr><td>xp90</td><td>xp92</td><td>0.2409</td></tr><tr><td>xp86</td><td>xp96</td><td>0.2408</td></tr><tr><td>xp86</td><td>xp94</td><td>0.2407</td></tr><tr><td>xp98</td><td>xp101</td><td>0.2406</td></tr><tr><td>xp86</td><td>xp101</td><td>0.2405</td></tr><tr><td>xp96</td><td>xp98</td><td>0.2405</td></tr><tr><td>xp83</td><td>xp89</td><td>0.2405</td></tr><tr><td>xp84</td><td>xp89</td><td>0.2404</td></tr><tr><td>xp83</td><td>xp93</td><td>0.2404</td></tr><tr><td>xp84</td><td>xp93</td><td>0.2404</td></tr><tr><td>xp94</td><td>xp98</td><td>0.2403</td></tr><tr><td>xp82</td><td>xp92</td><td>0.2403</td></tr><tr><td>xp88</td><td>xp95</td><td>0.2402</td></tr><tr><td>xp85</td><td>xp95</td><td>0.2401</td></tr><tr><td>xp87</td><td>xp95</td><td>0.2399</td></tr><tr><td>xp88</td><td>xp89</td><td>0.2395</td></tr><tr><td>xp88</td><td>xp93</td><td>0.2395</td></tr><tr><td>xp83</td><td>xp92</td><td>0.2395</td></tr><tr><td>xp85</td><td>xp89</td><td>0.2395</td></tr><tr><td>xp84</td><td>xp92</td><td>0.2394</td></tr><tr><td>xp85</td><td>xp93</td><td>0.2394</td></tr><tr><td>xp86</td><td>xp95</td><td>0.2394</td></tr><tr><td>xp87</td><td>xp89</td><td>0.2392</td></tr><tr><td>xp87</td><td>xp93</td><td>0.2392</td></tr><tr><td>xp95</td><td>xp98</td><td>0.2391</td></tr><tr><td>xp86</td><td>xp89</td><td>0.2387</td></tr><tr><td>xp86</td><td>xp93</td><td>0.2387</td></tr><tr><td>xp88</td><td>xp92</td><td>0.2386</td></tr><tr><td>xp85</td><td>xp92</td><td>0.2385</td></tr><tr><td>xp90</td><td>xp91</td><td>0.2383</td></tr><tr><td>xp87</td><td>xp92</td><td>0.2382</td></tr><tr><td>xp93</td><td>xp98</td><td>0.2381</td></tr><tr><td>xp89</td><td>xp98</td><td>0.2380</td></tr><tr><td>xp82</td><td>xp91</td><td>0.2379</td></tr><tr><td>xp86</td><td>xp92</td><td>0.2377</td></tr><tr><td>xp92</td><td>xp98</td><td>0.2373</td></tr><tr><td>xp82</td><td>xp90</td><td>0.2372</td></tr><tr><td>xp83</td><td>xp91</td><td>0.2370</td></tr><tr><td>xp84</td><td>xp91</td><td>0.2370</td></tr><tr><td>xp83</td><td>xp90</td><td>0.2362</td></tr><tr><td>xp84</td><td>xp90</td><td>0.2362</td></tr><tr><td>xp88</td><td>xp91</td><td>0.2361</td></tr><tr><td>xp85</td><td>xp91</td><td>0.2360</td></tr><tr><td>xp82</td><td>xp83</td><td>0.2359</td></tr><tr><td>xp82</td><td>xp84</td><td>0.2359</td></tr><tr><td>xp87</td><td>xp91</td><td>0.2358</td></tr><tr><td>xp88</td><td>xp90</td><td>0.2353</td></tr><tr><td>xp86</td><td>xp91</td><td>0.2353</td></tr><tr><td>xp85</td><td>xp90</td><td>0.2353</td></tr><tr><td>xp87</td><td>xp90</td><td>0.2350</td></tr><tr><td>xp82</td><td>xp88</td><td>0.2350</td></tr><tr><td>xp82</td><td>xp85</td><td>0.2349</td></tr><tr><td>xp83</td><td>xp84</td><td>0.2349</td></tr><tr><td>xp82</td><td>xp87</td><td>0.2347</td></tr><tr><td>xp86</td><td>xp90</td><td>0.2346</td></tr><tr><td>xp91</td><td>xp98</td><td>0.2345</td></tr><tr><td>xp82</td><td>xp86</td><td>0.2342</td></tr><tr><td>xp83</td><td>xp88</td><td>0.2340</td></tr><tr><td>xp84</td><td>xp88</td><td>0.2340</td></tr><tr><td>xp83</td><td>xp85</td><td>0.2340</td></tr><tr><td>xp84</td><td>xp85</td><td>0.2340</td></tr><tr><td>xp90</td><td>xp98</td><td>0.2338</td></tr><tr><td>xp83</td><td>xp87</td><td>0.2337</td></tr><tr><td>xp84</td><td>xp87</td><td>0.2337</td></tr><tr><td>xp83</td><td>xp86</td><td>0.2333</td></tr><tr><td>xp84</td><td>xp86</td><td>0.2332</td></tr><tr><td>xp85</td><td>xp88</td><td>0.2331</td></tr><tr><td>xp82</td><td>xp98</td><td>0.2331</td></tr><tr><td>xp87</td><td>xp88</td><td>0.2328</td></tr><tr><td>xp85</td><td>xp87</td><td>0.2328</td></tr><tr><td>xp86</td><td>xp88</td><td>0.2324</td></tr><tr><td>xp83</td><td>xp98</td><td>0.2324</td></tr><tr><td>xp85</td><td>xp86</td><td>0.2323</td></tr><tr><td>xp84</td><td>xp98</td><td>0.2323</td></tr><tr><td>xp86</td><td>xp87</td><td>0.2321</td></tr><tr><td>xp88</td><td>xp98</td><td>0.2315</td></tr><tr><td>xp85</td><td>xp98</td><td>0.2314</td></tr><tr><td>xp87</td><td>xp98</td><td>0.2311</td></tr><tr><td>xp86</td><td>xp98</td><td>0.2306</td></tr></table>"
      ],
      "text/plain": [
       "<lmfit.minimizer.MinimizerResult at 0x159c923d048>"
      ]
     },
     "execution_count": 99,
     "metadata": {},
     "output_type": "execute_result"
    }
   ],
   "source": [
    "# report_fit(result)\n",
    "xwFit['8_20'][1].result"
   ]
  },
  {
   "cell_type": "code",
   "execution_count": 100,
   "metadata": {
    "Collapsed": "false",
    "hidden": true,
    "scrolled": true
   },
   "outputs": [
    {
     "data": {
      "text/html": [
       "<h2>Fit Statistics</h2><table><tr><td>fitting method</td><td>leastsq</td><td></td></tr><tr><td># function evals</td><td>42</td><td></td></tr><tr><td># data points</td><td>2400</td><td></td></tr><tr><td># variables</td><td>40</td><td></td></tr><tr><td>chi-square</td><td> 4475.45946</td><td></td></tr><tr><td>reduced chi-square</td><td> 1.89638113</td><td></td></tr><tr><td>Akaike info crit.</td><td> 1575.53667</td><td></td></tr><tr><td>Bayesian info crit.</td><td> 1806.86563</td><td></td></tr></table><h2>Variables</h2><table><tr><th> name </th><th> value </th><th> standard error </th><th> relative error </th><th> initial value </th><th> min </th><th> max </th><th> vary </th></tr><tr><td> A82 </td><td>  158144.857 </td><td>  1699.14561 </td><td> (1.07%) </td><td> 158144.84199985274 </td><td>  0.00000000 </td><td>         inf </td><td> True </td></tr><tr><td> alpha </td><td>  126.532104 </td><td>  0.00000000 </td><td> (0.00%) </td><td> 126.53210371714074 </td><td>  0.00000000 </td><td>         inf </td><td> False </td></tr><tr><td> beta </td><td>  1.0000e-10 </td><td>  0.00000000 </td><td> (0.00%) </td><td> 1e-10 </td><td>  0.00000000 </td><td>         inf </td><td> False </td></tr><tr><td> R </td><td>  1.0000e-10 </td><td>  0.00000000 </td><td> (0.00%) </td><td> 1e-10 </td><td>  0.00000000 </td><td>         inf </td><td> False </td></tr><tr><td> gamma </td><td>  3.9792e-04 </td><td>  0.00000000 </td><td> (0.00%) </td><td> 0.0003979188011480339 </td><td>  0.00000000 </td><td>         inf </td><td> False </td></tr><tr><td> sigma </td><td>  0.00517279 </td><td>  0.00000000 </td><td> (0.00%) </td><td> 0.005172785045938433 </td><td>  0.00000000 </td><td>         inf </td><td> False </td></tr><tr><td> k </td><td>  0.05000000 </td><td>  0.00000000 </td><td> (0.00%) </td><td> 0.05 </td><td>  0.00000000 </td><td>         inf </td><td> False </td></tr><tr><td> xp82 </td><td> -8.01778652 </td><td>  1.4046e-04 </td><td> (0.00%) </td><td> -8.017786528788656 </td><td>        -inf </td><td>         inf </td><td> True </td></tr><tr><td> A83 </td><td>  154141.148 </td><td>  1691.44038 </td><td> (1.10%) </td><td> 154141.17382519032 </td><td>  0.00000000 </td><td>         inf </td><td> True </td></tr><tr><td> xp83 </td><td> -8.01778210 </td><td>  1.4245e-04 </td><td> (0.00%) </td><td> -8.017782103984928 </td><td>        -inf </td><td>         inf </td><td> True </td></tr><tr><td> A84 </td><td>  154150.966 </td><td>  1692.55178 </td><td> (1.10%) </td><td> 154151.00273606053 </td><td>  0.00000000 </td><td>         inf </td><td> True </td></tr><tr><td> xp84 </td><td> -8.01777889 </td><td>  1.4248e-04 </td><td> (0.00%) </td><td> -8.017778891060477 </td><td>        -inf </td><td>         inf </td><td> True </td></tr><tr><td> A85 </td><td>  153127.936 </td><td>  1679.51743 </td><td> (1.10%) </td><td> 153127.9587679097 </td><td>  0.00000000 </td><td>         inf </td><td> True </td></tr><tr><td> xp85 </td><td> -8.01781946 </td><td>  1.4263e-04 </td><td> (0.00%) </td><td> -8.017819446011455 </td><td>        -inf </td><td>         inf </td><td> True </td></tr><tr><td> A86 </td><td>  152499.341 </td><td>  1680.65765 </td><td> (1.10%) </td><td> 152499.42482959226 </td><td>  0.00000000 </td><td>         inf </td><td> True </td></tr><tr><td> xp86 </td><td> -8.01757975 </td><td>  1.4368e-04 </td><td> (0.00%) </td><td> -8.017579746583536 </td><td>        -inf </td><td>         inf </td><td> True </td></tr><tr><td> A87 </td><td>  151183.101 </td><td>  1673.50315 </td><td> (1.11%) </td><td> 151183.1039345906 </td><td>  0.00000000 </td><td>         inf </td><td> True </td></tr><tr><td> xp87 </td><td> -8.01776547 </td><td>  1.4314e-04 </td><td> (0.00%) </td><td> -8.01776547457252 </td><td>        -inf </td><td>         inf </td><td> True </td></tr><tr><td> A88 </td><td>  151248.228 </td><td>  1670.31669 </td><td> (1.10%) </td><td> 151248.37672122335 </td><td>  0.00000000 </td><td>         inf </td><td> True </td></tr><tr><td> xp88 </td><td> -8.01771497 </td><td>  1.4321e-04 </td><td> (0.00%) </td><td> -8.017714979984982 </td><td>        -inf </td><td>         inf </td><td> True </td></tr><tr><td> A89 </td><td>  152845.555 </td><td>  1667.72404 </td><td> (1.09%) </td><td> 152845.44003855018 </td><td>  0.00000000 </td><td>         inf </td><td> True </td></tr><tr><td> xp89 </td><td> -8.01790976 </td><td>  1.3946e-04 </td><td> (0.00%) </td><td> -8.017909741477874 </td><td>        -inf </td><td>         inf </td><td> True </td></tr><tr><td> A90 </td><td>  150751.563 </td><td>  1665.49897 </td><td> (1.10%) </td><td> 150751.4900153198 </td><td>  0.00000000 </td><td>         inf </td><td> True </td></tr><tr><td> xp90 </td><td> -8.01762741 </td><td>  1.4271e-04 </td><td> (0.00%) </td><td> -8.017627395880401 </td><td>        -inf </td><td>         inf </td><td> True </td></tr><tr><td> A91 </td><td>  150170.381 </td><td>  1659.21538 </td><td> (1.10%) </td><td> 150170.2682036802 </td><td>  0.00000000 </td><td>         inf </td><td> True </td></tr><tr><td> xp91 </td><td> -8.01773124 </td><td>  1.4260e-04 </td><td> (0.00%) </td><td> -8.017731211591109 </td><td>        -inf </td><td>         inf </td><td> True </td></tr><tr><td> A92 </td><td>  146929.273 </td><td>  1656.70402 </td><td> (1.13%) </td><td> 146929.35657451255 </td><td>  0.00000000 </td><td>         inf </td><td> True </td></tr><tr><td> xp92 </td><td> -8.01764715 </td><td>  1.4222e-04 </td><td> (0.00%) </td><td> -8.017647101624846 </td><td>        -inf </td><td>         inf </td><td> True </td></tr><tr><td> A93 </td><td>  148502.809 </td><td>  1652.17183 </td><td> (1.11%) </td><td> 148502.7758397652 </td><td>  0.00000000 </td><td>         inf </td><td> True </td></tr><tr><td> xp93 </td><td> -8.01776848 </td><td>  1.4066e-04 </td><td> (0.00%) </td><td> -8.017768439936049 </td><td>        -inf </td><td>         inf </td><td> True </td></tr><tr><td> A94 </td><td>  146637.625 </td><td>  1645.61835 </td><td> (1.12%) </td><td> 146637.57012508245 </td><td>  0.00000000 </td><td>         inf </td><td> True </td></tr><tr><td> xp94 </td><td> -8.01771664 </td><td>  1.4013e-04 </td><td> (0.00%) </td><td> -8.017716616765199 </td><td>        -inf </td><td>         inf </td><td> True </td></tr><tr><td> A95 </td><td>  144150.693 </td><td>  1625.76191 </td><td> (1.13%) </td><td> 144150.8253542804 </td><td>  0.00000000 </td><td>         inf </td><td> True </td></tr><tr><td> xp95 </td><td> -8.01767154 </td><td>  1.4166e-04 </td><td> (0.00%) </td><td> -8.017671448605586 </td><td>        -inf </td><td>         inf </td><td> True </td></tr><tr><td> A96 </td><td>  145017.142 </td><td>  1633.59319 </td><td> (1.13%) </td><td> 145017.12607247647 </td><td>  0.00000000 </td><td>         inf </td><td> True </td></tr><tr><td> xp96 </td><td> -8.01752599 </td><td>  1.4135e-04 </td><td> (0.00%) </td><td> -8.017525907090176 </td><td>        -inf </td><td>         inf </td><td> True </td></tr><tr><td> A97 </td><td>  143067.838 </td><td>  1624.07939 </td><td> (1.14%) </td><td> 143067.92060404515 </td><td>  0.00000000 </td><td>         inf </td><td> True </td></tr><tr><td> xp97 </td><td> -8.01729913 </td><td>  1.4305e-04 </td><td> (0.00%) </td><td> -8.017299019139928 </td><td>        -inf </td><td>         inf </td><td> True </td></tr><tr><td> A98 </td><td>  142790.166 </td><td>  1740.06009 </td><td> (1.22%) </td><td> 142790.2218637393 </td><td>  0.00000000 </td><td>         inf </td><td> True </td></tr><tr><td> xp98 </td><td> -8.01723970 </td><td>  1.5175e-04 </td><td> (0.00%) </td><td> -8.017239579994634 </td><td>        -inf </td><td>         inf </td><td> True </td></tr><tr><td> A99 </td><td>  142641.531 </td><td>  1618.22202 </td><td> (1.13%) </td><td> 142641.61264469277 </td><td>  0.00000000 </td><td>         inf </td><td> True </td></tr><tr><td> xp99 </td><td> -8.01745854 </td><td>  1.4166e-04 </td><td> (0.00%) </td><td> -8.017458445334501 </td><td>        -inf </td><td>         inf </td><td> True </td></tr><tr><td> A100 </td><td>  140433.068 </td><td>  1611.01229 </td><td> (1.15%) </td><td> 140433.13991288588 </td><td>  0.00000000 </td><td>         inf </td><td> True </td></tr><tr><td> xp100 </td><td> -8.01755727 </td><td>  1.4238e-04 </td><td> (0.00%) </td><td> -8.017557129493595 </td><td>        -inf </td><td>         inf </td><td> True </td></tr><tr><td> A101 </td><td>  137610.759 </td><td>  1596.17796 </td><td> (1.16%) </td><td> 137610.90810050227 </td><td>  0.00000000 </td><td>         inf </td><td> True </td></tr><tr><td> xp101 </td><td> -8.01737869 </td><td>  1.4388e-04 </td><td> (0.00%) </td><td> -8.017378542919719 </td><td>        -inf </td><td>         inf </td><td> True </td></tr></table>"
      ],
      "text/plain": [
       "<lmfit.minimizer.MinimizerResult at 0x159c935eec8>"
      ]
     },
     "execution_count": 100,
     "metadata": {},
     "output_type": "execute_result"
    }
   ],
   "source": [
    "# report_fit(result)\n",
    "xwFit['8_20'][2].result"
   ]
  },
  {
   "cell_type": "markdown",
   "metadata": {
    "Collapsed": "false",
    "heading_collapsed": true,
    "hidden": true
   },
   "source": [
    "#### Fit with 2 independent free parameters per dataset and 5 free parameters shared between all datasets over 30 spectra"
   ]
  },
  {
   "cell_type": "code",
   "execution_count": 51,
   "metadata": {
    "Collapsed": "false",
    "hidden": true
   },
   "outputs": [],
   "source": [
    "xwFit10b = [xpvic_fit(peak_center, nData, pvic_params)  for _ in range(numFitIterations)]\n",
    "\n",
    "nSpec = 30\n",
    "xwFit10b[0].data_range = range(len(nData)-nSpec, len(nData))\n",
    "\n",
    "# create x and y 1D datasets for fit\n",
    "# Xfitdata, Yfitdata = xyBatchFitNData(nData, data_range=spec_rng, data_select=data_select)\n",
    "xwFit10b[0].makeData(data_select)\n",
    "\n",
    "# create and initialize lmfit Parameters object\n",
    "xwFit10b[0].initParams()\n",
    "\n",
    "### Perform fit and store corresponding results in dictionary\n",
    "xwFit10b[0].freeSharedPrms = 5"
   ]
  },
  {
   "cell_type": "code",
   "execution_count": 52,
   "metadata": {
    "hidden": true
   },
   "outputs": [],
   "source": [
    "xwFit10b[0].performFit(weights=xwFit10b[0].weights)"
   ]
  },
  {
   "cell_type": "code",
   "execution_count": 38,
   "metadata": {
    "Collapsed": "false",
    "hidden": true
   },
   "outputs": [
    {
     "data": {
      "text/html": [
       "<h2>Fit Statistics</h2><table><tr><td>fitting method</td><td>leastsq</td><td></td></tr><tr><td># function evals</td><td>1401</td><td></td></tr><tr><td># data points</td><td>3600</td><td></td></tr><tr><td># variables</td><td>65</td><td></td></tr><tr><td>chi-square</td><td> 7430.01335</td><td></td></tr><tr><td>reduced chi-square</td><td> 2.10184253</td><td></td></tr><tr><td>Akaike info crit.</td><td> 2738.53772</td><td></td></tr><tr><td>Bayesian info crit.</td><td> 3140.80251</td><td></td></tr></table><h2>Variables</h2><table><tr><th> name </th><th> value </th><th> standard error </th><th> relative error </th><th> initial value </th><th> min </th><th> max </th><th> vary </th></tr><tr><td> A72 </td><td>  253592.670 </td><td>  3534.74795 </td><td> (1.39%) </td><td> 200000.0 </td><td>  0.00000000 </td><td>         inf </td><td> True </td></tr><tr><td> alpha </td><td>  95.2513291 </td><td>  0.39102925 </td><td> (0.41%) </td><td> 140 </td><td>  0.00000000 </td><td>         inf </td><td> True </td></tr><tr><td> beta </td><td>  1834.05775 </td><td>  872110.497 </td><td> (47550.87%) </td><td> 0.001 </td><td>  0.00000000 </td><td>         inf </td><td> True </td></tr><tr><td> R </td><td>  1.7051e-04 </td><td>  0.14563290 </td><td> (85411.59%) </td><td> 0.001 </td><td>  0.00000000 </td><td>         inf </td><td> True </td></tr><tr><td> gamma </td><td>  5.7953e-04 </td><td>  2.3368e-05 </td><td> (4.03%) </td><td> 0.001 </td><td>  0.00000000 </td><td>         inf </td><td> True </td></tr><tr><td> sigma </td><td>  0.00488504 </td><td>  1.0833e-04 </td><td> (2.22%) </td><td> 0.0066 </td><td>  0.00000000 </td><td>         inf </td><td> True </td></tr><tr><td> k </td><td>  0.05000000 </td><td>  0.00000000 </td><td> (0.00%) </td><td> 0.05 </td><td>  0.00000000 </td><td>         inf </td><td> False </td></tr><tr><td> xp72 </td><td> -10.0241128 </td><td>  2.5420e-04 </td><td> (0.00%) </td><td> -10.0 </td><td>        -inf </td><td>         inf </td><td> True </td></tr><tr><td> A73 </td><td>  256203.185 </td><td>  3538.55084 </td><td> (1.38%) </td><td> 200000.0 </td><td>  0.00000000 </td><td>         inf </td><td> True </td></tr><tr><td> xp73 </td><td> -10.0239602 </td><td>  2.4888e-04 </td><td> (0.00%) </td><td> -10.0 </td><td>        -inf </td><td>         inf </td><td> True </td></tr><tr><td> A74 </td><td>  257390.190 </td><td>  3537.89956 </td><td> (1.37%) </td><td> 200000.0 </td><td>  0.00000000 </td><td>         inf </td><td> True </td></tr><tr><td> xp74 </td><td> -10.0239643 </td><td>  2.5533e-04 </td><td> (0.00%) </td><td> -10.0 </td><td>        -inf </td><td>         inf </td><td> True </td></tr><tr><td> A75 </td><td>  253185.790 </td><td>  3509.63097 </td><td> (1.39%) </td><td> 200000.0 </td><td>  0.00000000 </td><td>         inf </td><td> True </td></tr><tr><td> xp75 </td><td> -10.0240562 </td><td>  2.4464e-04 </td><td> (0.00%) </td><td> -10.0 </td><td>        -inf </td><td>         inf </td><td> True </td></tr><tr><td> A76 </td><td>  252278.016 </td><td>  3503.24535 </td><td> (1.39%) </td><td> 200000.0 </td><td>  0.00000000 </td><td>         inf </td><td> True </td></tr><tr><td> xp76 </td><td> -10.0241498 </td><td>  2.5442e-04 </td><td> (0.00%) </td><td> -10.0 </td><td>        -inf </td><td>         inf </td><td> True </td></tr><tr><td> A77 </td><td>  251163.073 </td><td>  3514.03644 </td><td> (1.40%) </td><td> 200000.0 </td><td>  0.00000000 </td><td>         inf </td><td> True </td></tr><tr><td> xp77 </td><td> -10.0237151 </td><td>  2.5786e-04 </td><td> (0.00%) </td><td> -10.0 </td><td>        -inf </td><td>         inf </td><td> True </td></tr><tr><td> A78 </td><td>  249122.273 </td><td>  3507.31881 </td><td> (1.41%) </td><td> 200000.0 </td><td>  0.00000000 </td><td>         inf </td><td> True </td></tr><tr><td> xp78 </td><td> -10.0238830 </td><td>  2.5154e-04 </td><td> (0.00%) </td><td> -10.0 </td><td>        -inf </td><td>         inf </td><td> True </td></tr><tr><td> A79 </td><td>  247051.591 </td><td>  3469.01635 </td><td> (1.40%) </td><td> 200000.0 </td><td>  0.00000000 </td><td>         inf </td><td> True </td></tr><tr><td> xp79 </td><td> -10.0237852 </td><td>  2.4848e-04 </td><td> (0.00%) </td><td> -10.0 </td><td>        -inf </td><td>         inf </td><td> True </td></tr><tr><td> A80 </td><td>  248697.957 </td><td>  3489.28537 </td><td> (1.40%) </td><td> 200000.0 </td><td>  0.00000000 </td><td>         inf </td><td> True </td></tr><tr><td> xp80 </td><td> -10.0242426 </td><td>  2.4445e-04 </td><td> (0.00%) </td><td> -10.0 </td><td>        -inf </td><td>         inf </td><td> True </td></tr><tr><td> A81 </td><td>  248664.746 </td><td>  3477.67454 </td><td> (1.40%) </td><td> 200000.0 </td><td>  0.00000000 </td><td>         inf </td><td> True </td></tr><tr><td> xp81 </td><td> -10.0241735 </td><td>  2.4948e-04 </td><td> (0.00%) </td><td> -10.0 </td><td>        -inf </td><td>         inf </td><td> True </td></tr><tr><td> A82 </td><td>  247505.320 </td><td>  3467.06808 </td><td> (1.40%) </td><td> 200000.0 </td><td>  0.00000000 </td><td>         inf </td><td> True </td></tr><tr><td> xp82 </td><td> -10.0238613 </td><td>  2.5256e-04 </td><td> (0.00%) </td><td> -10.0 </td><td>        -inf </td><td>         inf </td><td> True </td></tr><tr><td> A83 </td><td>  249696.330 </td><td>  3483.03513 </td><td> (1.39%) </td><td> 200000.0 </td><td>  0.00000000 </td><td>         inf </td><td> True </td></tr><tr><td> xp83 </td><td> -10.0239284 </td><td>  2.4629e-04 </td><td> (0.00%) </td><td> -10.0 </td><td>        -inf </td><td>         inf </td><td> True </td></tr><tr><td> A84 </td><td>  245049.178 </td><td>  3464.36222 </td><td> (1.41%) </td><td> 200000.0 </td><td>  0.00000000 </td><td>         inf </td><td> True </td></tr><tr><td> xp84 </td><td> -10.0239006 </td><td>  2.5049e-04 </td><td> (0.00%) </td><td> -10.0 </td><td>        -inf </td><td>         inf </td><td> True </td></tr><tr><td> A85 </td><td>  244798.012 </td><td>  3465.81381 </td><td> (1.42%) </td><td> 200000.0 </td><td>  0.00000000 </td><td>         inf </td><td> True </td></tr><tr><td> xp85 </td><td> -10.0238821 </td><td>  2.5074e-04 </td><td> (0.00%) </td><td> -10.0 </td><td>        -inf </td><td>         inf </td><td> True </td></tr><tr><td> A86 </td><td>  245935.344 </td><td>  3462.10356 </td><td> (1.41%) </td><td> 200000.0 </td><td>  0.00000000 </td><td>         inf </td><td> True </td></tr><tr><td> xp86 </td><td> -10.0238183 </td><td>  2.5038e-04 </td><td> (0.00%) </td><td> -10.0 </td><td>        -inf </td><td>         inf </td><td> True </td></tr><tr><td> A87 </td><td>  242731.643 </td><td>  3430.98119 </td><td> (1.41%) </td><td> 200000.0 </td><td>  0.00000000 </td><td>         inf </td><td> True </td></tr><tr><td> xp87 </td><td> -10.0237718 </td><td>  2.4545e-04 </td><td> (0.00%) </td><td> -10.0 </td><td>        -inf </td><td>         inf </td><td> True </td></tr><tr><td> A88 </td><td>  242204.454 </td><td>  3444.33805 </td><td> (1.42%) </td><td> 200000.0 </td><td>  0.00000000 </td><td>         inf </td><td> True </td></tr><tr><td> xp88 </td><td> -10.0237466 </td><td>  2.5004e-04 </td><td> (0.00%) </td><td> -10.0 </td><td>        -inf </td><td>         inf </td><td> True </td></tr><tr><td> A89 </td><td>  238030.310 </td><td>  3423.36094 </td><td> (1.44%) </td><td> 200000.0 </td><td>  0.00000000 </td><td>         inf </td><td> True </td></tr><tr><td> xp89 </td><td> -10.0235750 </td><td>  2.5490e-04 </td><td> (0.00%) </td><td> -10.0 </td><td>        -inf </td><td>         inf </td><td> True </td></tr><tr><td> A90 </td><td>  245740.120 </td><td>  3448.03750 </td><td> (1.40%) </td><td> 200000.0 </td><td>  0.00000000 </td><td>         inf </td><td> True </td></tr><tr><td> xp90 </td><td> -10.0234067 </td><td>  2.4748e-04 </td><td> (0.00%) </td><td> -10.0 </td><td>        -inf </td><td>         inf </td><td> True </td></tr><tr><td> A91 </td><td>  237875.025 </td><td>  3416.34877 </td><td> (1.44%) </td><td> 200000.0 </td><td>  0.00000000 </td><td>         inf </td><td> True </td></tr><tr><td> xp91 </td><td> -10.0234486 </td><td>  2.5611e-04 </td><td> (0.00%) </td><td> -10.0 </td><td>        -inf </td><td>         inf </td><td> True </td></tr><tr><td> A92 </td><td>  235080.110 </td><td>  3403.34054 </td><td> (1.45%) </td><td> 200000.0 </td><td>  0.00000000 </td><td>         inf </td><td> True </td></tr><tr><td> xp92 </td><td> -10.0233614 </td><td>  2.5184e-04 </td><td> (0.00%) </td><td> -10.0 </td><td>        -inf </td><td>         inf </td><td> True </td></tr><tr><td> A93 </td><td>  231269.928 </td><td>  3379.50686 </td><td> (1.46%) </td><td> 200000.0 </td><td>  0.00000000 </td><td>         inf </td><td> True </td></tr><tr><td> xp93 </td><td> -10.0235984 </td><td>  2.5827e-04 </td><td> (0.00%) </td><td> -10.0 </td><td>        -inf </td><td>         inf </td><td> True </td></tr><tr><td> A94 </td><td>  231563.165 </td><td>  3398.15753 </td><td> (1.47%) </td><td> 200000.0 </td><td>  0.00000000 </td><td>         inf </td><td> True </td></tr><tr><td> xp94 </td><td> -10.0232517 </td><td>  2.4994e-04 </td><td> (0.00%) </td><td> -10.0 </td><td>        -inf </td><td>         inf </td><td> True </td></tr><tr><td> A95 </td><td>  231466.431 </td><td>  3366.36889 </td><td> (1.45%) </td><td> 200000.0 </td><td>  0.00000000 </td><td>         inf </td><td> True </td></tr><tr><td> xp95 </td><td> -10.0235812 </td><td>  2.4826e-04 </td><td> (0.00%) </td><td> -10.0 </td><td>        -inf </td><td>         inf </td><td> True </td></tr><tr><td> A96 </td><td>  232257.396 </td><td>  3365.98384 </td><td> (1.45%) </td><td> 200000.0 </td><td>  0.00000000 </td><td>         inf </td><td> True </td></tr><tr><td> xp96 </td><td> -10.0233553 </td><td>  2.5240e-04 </td><td> (0.00%) </td><td> -10.0 </td><td>        -inf </td><td>         inf </td><td> True </td></tr><tr><td> A97 </td><td>  226396.479 </td><td>  3332.78097 </td><td> (1.47%) </td><td> 200000.0 </td><td>  0.00000000 </td><td>         inf </td><td> True </td></tr><tr><td> xp97 </td><td> -10.0232914 </td><td>  2.5247e-04 </td><td> (0.00%) </td><td> -10.0 </td><td>        -inf </td><td>         inf </td><td> True </td></tr><tr><td> A98 </td><td>  227682.351 </td><td>  3577.30884 </td><td> (1.57%) </td><td> 200000.0 </td><td>  0.00000000 </td><td>         inf </td><td> True </td></tr><tr><td> xp98 </td><td> -10.0231628 </td><td>  2.6159e-04 </td><td> (0.00%) </td><td> -10.0 </td><td>        -inf </td><td>         inf </td><td> True </td></tr><tr><td> A99 </td><td>  227457.020 </td><td>  3321.94606 </td><td> (1.46%) </td><td> 200000.0 </td><td>  0.00000000 </td><td>         inf </td><td> True </td></tr><tr><td> xp99 </td><td> -10.0233737 </td><td>  2.4781e-04 </td><td> (0.00%) </td><td> -10.0 </td><td>        -inf </td><td>         inf </td><td> True </td></tr><tr><td> A100 </td><td>  227064.637 </td><td>  3327.63812 </td><td> (1.47%) </td><td> 200000.0 </td><td>  0.00000000 </td><td>         inf </td><td> True </td></tr><tr><td> xp100 </td><td> -10.0231847 </td><td>  2.5380e-04 </td><td> (0.00%) </td><td> -10.0 </td><td>        -inf </td><td>         inf </td><td> True </td></tr><tr><td> A101 </td><td>  225550.707 </td><td>  3319.30146 </td><td> (1.47%) </td><td> 200000.0 </td><td>  0.00000000 </td><td>         inf </td><td> True </td></tr><tr><td> xp101 </td><td> -10.0233902 </td><td>  2.5393e-04 </td><td> (0.00%) </td><td> -10.0 </td><td>        -inf </td><td>         inf </td><td> True </td></tr></table><h2>Correlations (unreported correlations are < 0.100)</h2><table><tr><td>alpha</td><td>sigma</td><td>0.6185</td></tr><tr><td>beta</td><td>R</td><td>0.5174</td></tr><tr><td>alpha</td><td>xp99</td><td>0.3740</td></tr><tr><td>alpha</td><td>xp95</td><td>0.3682</td></tr><tr><td>alpha</td><td>xp87</td><td>0.3668</td></tr><tr><td>alpha</td><td>xp94</td><td>0.3664</td></tr><tr><td>alpha</td><td>xp97</td><td>0.3658</td></tr><tr><td>alpha</td><td>xp96</td><td>0.3658</td></tr><tr><td>alpha</td><td>xp100</td><td>0.3644</td></tr><tr><td>alpha</td><td>xp98</td><td>0.3635</td></tr><tr><td>alpha</td><td>xp101</td><td>0.3627</td></tr><tr><td>alpha</td><td>xp90</td><td>0.3614</td></tr><tr><td>alpha</td><td>xp83</td><td>0.3582</td></tr><tr><td>alpha</td><td>xp88</td><td>0.3577</td></tr><tr><td>alpha</td><td>xp80</td><td>0.3570</td></tr><tr><td>alpha</td><td>xp79</td><td>0.3560</td></tr><tr><td>alpha</td><td>xp75</td><td>0.3554</td></tr><tr><td>alpha</td><td>xp84</td><td>0.3549</td></tr><tr><td>alpha</td><td>xp86</td><td>0.3548</td></tr><tr><td>alpha</td><td>xp92</td><td>0.3539</td></tr><tr><td>alpha</td><td>xp73</td><td>0.3531</td></tr><tr><td>alpha</td><td>xp85</td><td>0.3526</td></tr><tr><td>alpha</td><td>xp81</td><td>0.3506</td></tr><tr><td>alpha</td><td>xp93</td><td>0.3502</td></tr><tr><td>alpha</td><td>xp78</td><td>0.3491</td></tr><tr><td>alpha</td><td>xp89</td><td>0.3487</td></tr><tr><td>alpha</td><td>xp91</td><td>0.3479</td></tr><tr><td>alpha</td><td>xp82</td><td>0.3468</td></tr><tr><td>alpha</td><td>xp76</td><td>0.3427</td></tr><tr><td>alpha</td><td>xp74</td><td>0.3418</td></tr><tr><td>alpha</td><td>xp72</td><td>0.3412</td></tr><tr><td>alpha</td><td>xp77</td><td>0.3391</td></tr><tr><td>gamma</td><td>sigma</td><td>-0.3220</td></tr><tr><td>R</td><td>xp81</td><td>-0.2973</td></tr><tr><td>R</td><td>xp91</td><td>-0.2964</td></tr><tr><td>sigma</td><td>xp99</td><td>0.2943</td></tr><tr><td>sigma</td><td>xp98</td><td>0.2886</td></tr><tr><td>R</td><td>xp88</td><td>-0.2872</td></tr><tr><td>sigma</td><td>xp95</td><td>0.2836</td></tr><tr><td>sigma</td><td>xp94</td><td>0.2834</td></tr><tr><td>sigma</td><td>xp97</td><td>0.2831</td></tr><tr><td>sigma</td><td>xp96</td><td>0.2811</td></tr><tr><td>sigma</td><td>xp100</td><td>0.2797</td></tr><tr><td>sigma</td><td>xp101</td><td>0.2789</td></tr><tr><td>sigma</td><td>xp87</td><td>0.2755</td></tr><tr><td>R</td><td>xp93</td><td>-0.2741</td></tr><tr><td>sigma</td><td>xp90</td><td>0.2697</td></tr><tr><td>R</td><td>xp82</td><td>-0.2696</td></tr><tr><td>R</td><td>xp83</td><td>-0.2682</td></tr><tr><td>sigma</td><td>xp88</td><td>0.2661</td></tr><tr><td>sigma</td><td>xp92</td><td>0.2646</td></tr><tr><td>sigma</td><td>xp83</td><td>0.2636</td></tr><tr><td>sigma</td><td>xp84</td><td>0.2610</td></tr><tr><td>sigma</td><td>xp93</td><td>0.2606</td></tr><tr><td>sigma</td><td>xp86</td><td>0.2603</td></tr><tr><td>sigma</td><td>xp80</td><td>0.2589</td></tr><tr><td>sigma</td><td>xp79</td><td>0.2577</td></tr><tr><td>sigma</td><td>xp85</td><td>0.2565</td></tr><tr><td>sigma</td><td>xp89</td><td>0.2564</td></tr><tr><td>sigma</td><td>xp81</td><td>0.2560</td></tr><tr><td>R</td><td>xp101</td><td>-0.2555</td></tr><tr><td>sigma</td><td>xp91</td><td>0.2549</td></tr><tr><td>sigma</td><td>xp75</td><td>0.2546</td></tr><tr><td>R</td><td>xp89</td><td>-0.2525</td></tr><tr><td>R</td><td>xp85</td><td>-0.2522</td></tr><tr><td>sigma</td><td>xp78</td><td>0.2515</td></tr><tr><td>sigma</td><td>xp73</td><td>0.2508</td></tr><tr><td>R</td><td>xp92</td><td>-0.2508</td></tr><tr><td>R</td><td>xp97</td><td>-0.2499</td></tr><tr><td>sigma</td><td>xp82</td><td>0.2497</td></tr><tr><td>xp100</td><td>xp101</td><td>0.2495</td></tr><tr><td>xp93</td><td>xp100</td><td>0.2485</td></tr><tr><td>R</td><td>xp100</td><td>-0.2480</td></tr><tr><td>R</td><td>xp76</td><td>-0.2477</td></tr><tr><td>R</td><td>xp77</td><td>-0.2447</td></tr><tr><td>xp93</td><td>xp101</td><td>0.2445</td></tr><tr><td>xp99</td><td>xp100</td><td>0.2433</td></tr><tr><td>xp83</td><td>xp100</td><td>0.2432</td></tr><tr><td>R</td><td>xp74</td><td>-0.2430</td></tr><tr><td>xp77</td><td>xp100</td><td>0.2427</td></tr><tr><td>xp91</td><td>xp100</td><td>0.2425</td></tr><tr><td>sigma</td><td>xp76</td><td>0.2423</td></tr><tr><td>xp81</td><td>xp100</td><td>0.2417</td></tr><tr><td>xp90</td><td>xp100</td><td>0.2414</td></tr><tr><td>xp89</td><td>xp100</td><td>0.2413</td></tr><tr><td>xp74</td><td>xp100</td><td>0.2406</td></tr><tr><td>xp91</td><td>xp93</td><td>0.2404</td></tr><tr><td>xp91</td><td>xp101</td><td>0.2400</td></tr><tr><td>xp88</td><td>xp100</td><td>0.2399</td></tr><tr><td>xp96</td><td>xp100</td><td>0.2399</td></tr><tr><td>xp83</td><td>xp101</td><td>0.2399</td></tr><tr><td>xp81</td><td>xp93</td><td>0.2398</td></tr><tr><td>xp83</td><td>xp93</td><td>0.2397</td></tr><tr><td>xp82</td><td>xp100</td><td>0.2395</td></tr><tr><td>xp81</td><td>xp101</td><td>0.2394</td></tr><tr><td>xp81</td><td>xp91</td><td>0.2389</td></tr><tr><td>sigma</td><td>xp77</td><td>0.2388</td></tr><tr><td>sigma</td><td>xp72</td><td>0.2388</td></tr><tr><td>xp99</td><td>xp101</td><td>0.2387</td></tr><tr><td>R</td><td>xp98</td><td>-0.2385</td></tr><tr><td>sigma</td><td>xp74</td><td>0.2381</td></tr><tr><td>xp88</td><td>xp101</td><td>0.2378</td></tr><tr><td>xp88</td><td>xp93</td><td>0.2378</td></tr><tr><td>xp85</td><td>xp100</td><td>0.2374</td></tr><tr><td>xp77</td><td>xp101</td><td>0.2374</td></tr><tr><td>xp77</td><td>xp93</td><td>0.2374</td></tr><tr><td>xp97</td><td>xp100</td><td>0.2373</td></tr><tr><td>xp81</td><td>xp88</td><td>0.2372</td></tr><tr><td>xp88</td><td>xp91</td><td>0.2372</td></tr><tr><td>xp89</td><td>xp101</td><td>0.2372</td></tr><tr><td>xp89</td><td>xp93</td><td>0.2369</td></tr><tr><td>xp83</td><td>xp91</td><td>0.2369</td></tr><tr><td>xp93</td><td>xp99</td><td>0.2367</td></tr><tr><td>xp81</td><td>xp83</td><td>0.2366</td></tr><tr><td>xp90</td><td>xp101</td><td>0.2365</td></tr><tr><td>xp82</td><td>xp93</td><td>0.2362</td></tr><tr><td>xp82</td><td>xp101</td><td>0.2361</td></tr><tr><td>xp84</td><td>xp100</td><td>0.2361</td></tr><tr><td>xp86</td><td>xp100</td><td>0.2359</td></tr><tr><td>xp74</td><td>xp101</td><td>0.2356</td></tr><tr><td>xp74</td><td>xp93</td><td>0.2355</td></tr><tr><td>xp90</td><td>xp93</td><td>0.2353</td></tr><tr><td>xp83</td><td>xp88</td><td>0.2350</td></tr><tr><td>xp98</td><td>xp100</td><td>0.2349</td></tr><tr><td>xp97</td><td>xp101</td><td>0.2347</td></tr><tr><td>xp76</td><td>xp100</td><td>0.2344</td></tr><tr><td>xp85</td><td>xp101</td><td>0.2339</td></tr><tr><td>xp92</td><td>xp100</td><td>0.2337</td></tr><tr><td>xp85</td><td>xp93</td><td>0.2336</td></tr><tr><td>xp93</td><td>xp97</td><td>0.2335</td></tr><tr><td>xp82</td><td>xp91</td><td>0.2333</td></tr><tr><td>xp81</td><td>xp82</td><td>0.2330</td></tr><tr><td>xp84</td><td>xp96</td><td>0.2326</td></tr><tr><td>xp89</td><td>xp91</td><td>0.2325</td></tr><tr><td>xp83</td><td>xp89</td><td>0.2324</td></tr><tr><td>xp83</td><td>xp99</td><td>0.2324</td></tr><tr><td>xp82</td><td>xp83</td><td>0.2324</td></tr><tr><td>xp98</td><td>xp101</td><td>0.2320</td></tr><tr><td>xp77</td><td>xp83</td><td>0.2320</td></tr><tr><td>xp81</td><td>xp89</td><td>0.2320</td></tr><tr><td>xp86</td><td>xp101</td><td>0.2318</td></tr><tr><td>xp96</td><td>xp101</td><td>0.2317</td></tr><tr><td>xp74</td><td>xp77</td><td>0.2315</td></tr><tr><td>xp91</td><td>xp97</td><td>0.2315</td></tr><tr><td>xp90</td><td>xp99</td><td>0.2315</td></tr><tr><td>xp96</td><td>xp99</td><td>0.2315</td></tr><tr><td>xp81</td><td>xp97</td><td>0.2313</td></tr><tr><td>xp77</td><td>xp91</td><td>0.2312</td></tr><tr><td>xp82</td><td>xp88</td><td>0.2311</td></tr><tr><td>xp86</td><td>xp93</td><td>0.2310</td></tr><tr><td>xp91</td><td>xp99</td><td>0.2310</td></tr><tr><td>R</td><td>xp86</td><td>-0.2309</td></tr><tr><td>xp77</td><td>xp89</td><td>0.2309</td></tr><tr><td>xp77</td><td>xp99</td><td>0.2308</td></tr><tr><td>xp92</td><td>xp101</td><td>0.2308</td></tr><tr><td>xp83</td><td>xp90</td><td>0.2307</td></tr><tr><td>xp88</td><td>xp97</td><td>0.2306</td></tr><tr><td>xp77</td><td>xp90</td><td>0.2306</td></tr><tr><td>xp93</td><td>xp98</td><td>0.2306</td></tr><tr><td>xp76</td><td>xp101</td><td>0.2305</td></tr><tr><td>xp74</td><td>xp83</td><td>0.2305</td></tr><tr><td>xp83</td><td>xp97</td><td>0.2305</td></tr><tr><td>xp76</td><td>xp93</td><td>0.2304</td></tr><tr><td>xp77</td><td>xp81</td><td>0.2304</td></tr><tr><td>xp81</td><td>xp99</td><td>0.2304</td></tr><tr><td>xp89</td><td>xp99</td><td>0.2304</td></tr><tr><td>xp85</td><td>xp91</td><td>0.2303</td></tr><tr><td>xp92</td><td>xp93</td><td>0.2302</td></tr><tr><td>xp88</td><td>xp89</td><td>0.2301</td></tr><tr><td>xp81</td><td>xp85</td><td>0.2299</td></tr><tr><td>xp83</td><td>xp85</td><td>0.2298</td></tr><tr><td>xp74</td><td>xp91</td><td>0.2298</td></tr><tr><td>xp84</td><td>xp101</td><td>0.2298</td></tr><tr><td>xp90</td><td>xp96</td><td>0.2298</td></tr><tr><td>xp77</td><td>xp96</td><td>0.2298</td></tr><tr><td>xp94</td><td>xp96</td><td>0.2296</td></tr><tr><td>xp88</td><td>xp99</td><td>0.2294</td></tr><tr><td>xp90</td><td>xp91</td><td>0.2293</td></tr><tr><td>xp77</td><td>xp82</td><td>0.2291</td></tr><tr><td>xp74</td><td>xp81</td><td>0.2291</td></tr><tr><td>xp82</td><td>xp89</td><td>0.2291</td></tr><tr><td>xp74</td><td>xp89</td><td>0.2291</td></tr><tr><td>xp89</td><td>xp90</td><td>0.2291</td></tr><tr><td>xp74</td><td>xp99</td><td>0.2290</td></tr><tr><td>xp93</td><td>xp96</td><td>0.2287</td></tr><tr><td>xp74</td><td>xp90</td><td>0.2287</td></tr><tr><td>xp95</td><td>xp100</td><td>0.2287</td></tr><tr><td>xp81</td><td>xp90</td><td>0.2286</td></tr><tr><td>xp82</td><td>xp99</td><td>0.2284</td></tr><tr><td>xp85</td><td>xp88</td><td>0.2283</td></tr><tr><td>xp97</td><td>xp99</td><td>0.2282</td></tr><tr><td>xp84</td><td>xp93</td><td>0.2282</td></tr><tr><td>xp91</td><td>xp98</td><td>0.2282</td></tr><tr><td>R</td><td>xp95</td><td>-0.2280</td></tr><tr><td>xp81</td><td>xp98</td><td>0.2279</td></tr><tr><td>xp77</td><td>xp88</td><td>0.2279</td></tr><tr><td>xp91</td><td>xp92</td><td>0.2278</td></tr><tr><td>xp81</td><td>xp92</td><td>0.2276</td></tr><tr><td>xp74</td><td>xp82</td><td>0.2276</td></tr><tr><td>xp88</td><td>xp98</td><td>0.2274</td></tr><tr><td>xp83</td><td>xp98</td><td>0.2274</td></tr><tr><td>xp82</td><td>xp90</td><td>0.2271</td></tr><tr><td>xp85</td><td>xp99</td><td>0.2271</td></tr><tr><td>xp88</td><td>xp90</td><td>0.2271</td></tr><tr><td>xp83</td><td>xp86</td><td>0.2271</td></tr><tr><td>xp74</td><td>xp96</td><td>0.2270</td></tr><tr><td>xp83</td><td>xp92</td><td>0.2270</td></tr><tr><td>xp77</td><td>xp85</td><td>0.2268</td></tr><tr><td>xp85</td><td>xp89</td><td>0.2267</td></tr><tr><td>xp74</td><td>xp88</td><td>0.2267</td></tr><tr><td>xp84</td><td>xp99</td><td>0.2267</td></tr><tr><td>xp86</td><td>xp91</td><td>0.2266</td></tr><tr><td>xp78</td><td>xp100</td><td>0.2266</td></tr><tr><td>xp76</td><td>xp91</td><td>0.2265</td></tr><tr><td>xp88</td><td>xp92</td><td>0.2265</td></tr><tr><td>xp77</td><td>xp84</td><td>0.2264</td></tr><tr><td>xp82</td><td>xp97</td><td>0.2264</td></tr><tr><td>xp76</td><td>xp83</td><td>0.2264</td></tr><tr><td>xp89</td><td>xp97</td><td>0.2264</td></tr><tr><td>xp82</td><td>xp85</td><td>0.2263</td></tr><tr><td>xp95</td><td>xp101</td><td>0.2263</td></tr><tr><td>xp98</td><td>xp99</td><td>0.2262</td></tr><tr><td>xp81</td><td>xp86</td><td>0.2262</td></tr><tr><td>xp76</td><td>xp81</td><td>0.2261</td></tr><tr><td>xp86</td><td>xp99</td><td>0.2261</td></tr><tr><td>xp84</td><td>xp90</td><td>0.2255</td></tr><tr><td>xp85</td><td>xp90</td><td>0.2255</td></tr><tr><td>xp87</td><td>xp100</td><td>0.2253</td></tr><tr><td>xp77</td><td>xp86</td><td>0.2252</td></tr><tr><td>xp74</td><td>xp85</td><td>0.2252</td></tr><tr><td>xp90</td><td>xp97</td><td>0.2250</td></tr><tr><td>xp93</td><td>xp95</td><td>0.2248</td></tr><tr><td>xp97</td><td>xp98</td><td>0.2248</td></tr><tr><td>xp76</td><td>xp77</td><td>0.2247</td></tr><tr><td>xp86</td><td>xp88</td><td>0.2247</td></tr><tr><td>xp86</td><td>xp89</td><td>0.2246</td></tr><tr><td>xp85</td><td>xp97</td><td>0.2244</td></tr><tr><td>xp77</td><td>xp97</td><td>0.2243</td></tr><tr><td>xp86</td><td>xp90</td><td>0.2243</td></tr><tr><td>xp89</td><td>xp96</td><td>0.2242</td></tr><tr><td>xp74</td><td>xp84</td><td>0.2242</td></tr><tr><td>xp76</td><td>xp88</td><td>0.2242</td></tr><tr><td>xp92</td><td>xp99</td><td>0.2241</td></tr><tr><td>xp76</td><td>xp89</td><td>0.2238</td></tr><tr><td>xp76</td><td>xp99</td><td>0.2237</td></tr><tr><td>xp72</td><td>xp100</td><td>0.2237</td></tr><tr><td>xp74</td><td>xp86</td><td>0.2236</td></tr><tr><td>xp82</td><td>xp86</td><td>0.2236</td></tr><tr><td>xp89</td><td>xp98</td><td>0.2235</td></tr><tr><td>xp89</td><td>xp92</td><td>0.2233</td></tr><tr><td>xp82</td><td>xp92</td><td>0.2233</td></tr><tr><td>xp82</td><td>xp98</td><td>0.2232</td></tr><tr><td>xp76</td><td>xp82</td><td>0.2231</td></tr><tr><td>xp74</td><td>xp97</td><td>0.2231</td></tr><tr><td>xp91</td><td>xp95</td><td>0.2230</td></tr><tr><td>xp74</td><td>xp76</td><td>0.2230</td></tr><tr><td>xp81</td><td>xp95</td><td>0.2230</td></tr><tr><td>xp84</td><td>xp89</td><td>0.2229</td></tr><tr><td>xp78</td><td>xp101</td><td>0.2228</td></tr><tr><td>xp83</td><td>xp84</td><td>0.2228</td></tr><tr><td>xp76</td><td>xp90</td><td>0.2227</td></tr><tr><td>xp88</td><td>xp95</td><td>0.2227</td></tr><tr><td>xp92</td><td>xp97</td><td>0.2226</td></tr><tr><td>xp90</td><td>xp98</td><td>0.2225</td></tr><tr><td>xp83</td><td>xp95</td><td>0.2224</td></tr><tr><td>xp77</td><td>xp92</td><td>0.2222</td></tr><tr><td>xp83</td><td>xp96</td><td>0.2221</td></tr><tr><td>xp78</td><td>xp93</td><td>0.2219</td></tr><tr><td>xp90</td><td>xp92</td><td>0.2218</td></tr><tr><td>xp86</td><td>xp97</td><td>0.2217</td></tr><tr><td>xp85</td><td>xp86</td><td>0.2216</td></tr><tr><td>xp85</td><td>xp98</td><td>0.2214</td></tr><tr><td>xp77</td><td>xp98</td><td>0.2214</td></tr><tr><td>xp87</td><td>xp101</td><td>0.2214</td></tr><tr><td>xp85</td><td>xp92</td><td>0.2211</td></tr><tr><td>xp74</td><td>xp92</td><td>0.2209</td></tr><tr><td>xp95</td><td>xp99</td><td>0.2208</td></tr><tr><td>xp76</td><td>xp85</td><td>0.2208</td></tr><tr><td>xp86</td><td>xp96</td><td>0.2207</td></tr><tr><td>xp94</td><td>xp100</td><td>0.2202</td></tr><tr><td>xp76</td><td>xp97</td><td>0.2202</td></tr><tr><td>xp74</td><td>xp98</td><td>0.2201</td></tr><tr><td>xp95</td><td>xp97</td><td>0.2199</td></tr><tr><td>xp92</td><td>xp98</td><td>0.2198</td></tr><tr><td>xp84</td><td>xp91</td><td>0.2196</td></tr><tr><td>xp72</td><td>xp101</td><td>0.2196</td></tr><tr><td>xp82</td><td>xp84</td><td>0.2195</td></tr><tr><td>xp87</td><td>xp93</td><td>0.2194</td></tr><tr><td>xp86</td><td>xp98</td><td>0.2191</td></tr><tr><td>xp72</td><td>xp93</td><td>0.2189</td></tr><tr><td>xp82</td><td>xp96</td><td>0.2187</td></tr><tr><td>xp85</td><td>xp96</td><td>0.2187</td></tr><tr><td>xp84</td><td>xp86</td><td>0.2186</td></tr><tr><td>xp76</td><td>xp86</td><td>0.2186</td></tr><tr><td>xp81</td><td>xp84</td><td>0.2186</td></tr><tr><td>xp84</td><td>xp85</td><td>0.2185</td></tr><tr><td>xp86</td><td>xp92</td><td>0.2184</td></tr><tr><td>xp78</td><td>xp83</td><td>0.2183</td></tr><tr><td>xp82</td><td>xp95</td><td>0.2182</td></tr><tr><td>xp89</td><td>xp95</td><td>0.2182</td></tr><tr><td>xp87</td><td>xp99</td><td>0.2180</td></tr><tr><td>R</td><td>xp90</td><td>-0.2178</td></tr><tr><td>xp78</td><td>xp91</td><td>0.2177</td></tr><tr><td>xp95</td><td>xp98</td><td>0.2176</td></tr><tr><td>xp78</td><td>xp99</td><td>0.2175</td></tr><tr><td>xp76</td><td>xp92</td><td>0.2174</td></tr><tr><td>xp78</td><td>xp81</td><td>0.2174</td></tr><tr><td>xp76</td><td>xp96</td><td>0.2174</td></tr><tr><td>xp90</td><td>xp95</td><td>0.2173</td></tr><tr><td>xp76</td><td>xp98</td><td>0.2172</td></tr><tr><td>xp84</td><td>xp88</td><td>0.2168</td></tr><tr><td>xp76</td><td>xp84</td><td>0.2166</td></tr><tr><td>xp85</td><td>xp95</td><td>0.2166</td></tr><tr><td>xp77</td><td>xp78</td><td>0.2164</td></tr><tr><td>xp91</td><td>xp96</td><td>0.2164</td></tr><tr><td>xp84</td><td>xp97</td><td>0.2164</td></tr><tr><td>xp79</td><td>xp100</td><td>0.2162</td></tr><tr><td>xp83</td><td>xp87</td><td>0.2161</td></tr><tr><td>xp78</td><td>xp88</td><td>0.2160</td></tr><tr><td>xp78</td><td>xp89</td><td>0.2159</td></tr><tr><td>xp78</td><td>xp90</td><td>0.2159</td></tr><tr><td>xp96</td><td>xp97</td><td>0.2158</td></tr><tr><td>xp77</td><td>xp95</td><td>0.2158</td></tr><tr><td>R</td><td>xp78</td><td>-0.2156</td></tr><tr><td>xp87</td><td>xp90</td><td>0.2152</td></tr><tr><td>xp72</td><td>xp83</td><td>0.2151</td></tr><tr><td>xp92</td><td>xp95</td><td>0.2151</td></tr><tr><td>xp84</td><td>xp94</td><td>0.2151</td></tr><tr><td>xp74</td><td>xp78</td><td>0.2150</td></tr><tr><td>xp78</td><td>xp82</td><td>0.2149</td></tr><tr><td>xp81</td><td>xp96</td><td>0.2149</td></tr><tr><td>xp74</td><td>xp95</td><td>0.2148</td></tr><tr><td>xp87</td><td>xp96</td><td>0.2147</td></tr><tr><td>xp96</td><td>xp98</td><td>0.2147</td></tr><tr><td>xp87</td><td>xp91</td><td>0.2146</td></tr><tr><td>xp94</td><td>xp99</td><td>0.2145</td></tr><tr><td>xp72</td><td>xp77</td><td>0.2144</td></tr><tr><td>xp84</td><td>xp98</td><td>0.2144</td></tr><tr><td>xp72</td><td>xp99</td><td>0.2144</td></tr><tr><td>xp72</td><td>xp91</td><td>0.2143</td></tr><tr><td>xp81</td><td>xp87</td><td>0.2142</td></tr><tr><td>xp86</td><td>xp95</td><td>0.2142</td></tr><tr><td>xp73</td><td>xp100</td><td>0.2140</td></tr><tr><td>xp77</td><td>xp87</td><td>0.2139</td></tr><tr><td>xp84</td><td>xp92</td><td>0.2139</td></tr><tr><td>xp72</td><td>xp81</td><td>0.2139</td></tr><tr><td>xp87</td><td>xp89</td><td>0.2139</td></tr><tr><td>xp87</td><td>xp88</td><td>0.2136</td></tr><tr><td>xp78</td><td>xp97</td><td>0.2133</td></tr><tr><td>xp88</td><td>xp96</td><td>0.2133</td></tr><tr><td>xp92</td><td>xp96</td><td>0.2133</td></tr><tr><td>xp72</td><td>xp90</td><td>0.2132</td></tr><tr><td>xp78</td><td>xp85</td><td>0.2132</td></tr><tr><td>xp72</td><td>xp89</td><td>0.2131</td></tr><tr><td>xp94</td><td>xp101</td><td>0.2129</td></tr><tr><td>xp72</td><td>xp74</td><td>0.2128</td></tr><tr><td>xp79</td><td>xp101</td><td>0.2128</td></tr><tr><td>xp87</td><td>xp97</td><td>0.2126</td></tr><tr><td>xp78</td><td>xp96</td><td>0.2125</td></tr><tr><td>xp74</td><td>xp87</td><td>0.2125</td></tr><tr><td>xp72</td><td>xp88</td><td>0.2123</td></tr><tr><td>xp76</td><td>xp95</td><td>0.2123</td></tr><tr><td>xp82</td><td>xp87</td><td>0.2122</td></tr><tr><td>xp90</td><td>xp94</td><td>0.2120</td></tr><tr><td>xp72</td><td>xp82</td><td>0.2120</td></tr><tr><td>xp78</td><td>xp86</td><td>0.2116</td></tr><tr><td>R</td><td>xp72</td><td>-0.2116</td></tr><tr><td>xp85</td><td>xp87</td><td>0.2113</td></tr><tr><td>xp79</td><td>xp93</td><td>0.2112</td></tr><tr><td>xp72</td><td>xp96</td><td>0.2110</td></tr><tr><td>xp78</td><td>xp98</td><td>0.2107</td></tr><tr><td>xp84</td><td>xp87</td><td>0.2106</td></tr><tr><td>xp87</td><td>xp98</td><td>0.2105</td></tr><tr><td>xp78</td><td>xp84</td><td>0.2105</td></tr><tr><td>xp86</td><td>xp87</td><td>0.2104</td></tr><tr><td>xp76</td><td>xp78</td><td>0.2103</td></tr><tr><td>xp72</td><td>xp85</td><td>0.2102</td></tr><tr><td>xp78</td><td>xp92</td><td>0.2101</td></tr><tr><td>xp77</td><td>xp94</td><td>0.2099</td></tr><tr><td>xp73</td><td>xp101</td><td>0.2097</td></tr><tr><td>xp72</td><td>xp97</td><td>0.2095</td></tr><tr><td>R</td><td>xp99</td><td>-0.2092</td></tr><tr><td>xp84</td><td>xp95</td><td>0.2090</td></tr><tr><td>xp79</td><td>xp99</td><td>0.2090</td></tr><tr><td>xp93</td><td>xp94</td><td>0.2090</td></tr><tr><td>xp72</td><td>xp86</td><td>0.2087</td></tr><tr><td>xp95</td><td>xp96</td><td>0.2087</td></tr><tr><td>xp87</td><td>xp92</td><td>0.2087</td></tr><tr><td>xp72</td><td>xp84</td><td>0.2085</td></tr><tr><td>xp79</td><td>xp83</td><td>0.2085</td></tr><tr><td>xp76</td><td>xp87</td><td>0.2080</td></tr><tr><td>xp73</td><td>xp93</td><td>0.2078</td></tr><tr><td>xp74</td><td>xp94</td><td>0.2077</td></tr><tr><td>xp72</td><td>xp76</td><td>0.2077</td></tr><tr><td>xp79</td><td>xp91</td><td>0.2074</td></tr><tr><td>xp79</td><td>xp81</td><td>0.2072</td></tr><tr><td>xp73</td><td>xp96</td><td>0.2069</td></tr><tr><td>xp73</td><td>xp99</td><td>0.2069</td></tr><tr><td>xp72</td><td>xp98</td><td>0.2068</td></tr><tr><td>xp72</td><td>xp92</td><td>0.2068</td></tr><tr><td>xp80</td><td>xp100</td><td>0.2068</td></tr><tr><td>xp79</td><td>xp90</td><td>0.2066</td></tr><tr><td>xp79</td><td>xp88</td><td>0.2065</td></tr><tr><td>xp87</td><td>xp95</td><td>0.2063</td></tr><tr><td>xp78</td><td>xp95</td><td>0.2063</td></tr><tr><td>xp79</td><td>xp89</td><td>0.2059</td></tr><tr><td>xp77</td><td>xp79</td><td>0.2057</td></tr><tr><td>xp89</td><td>xp94</td><td>0.2056</td></tr><tr><td>xp73</td><td>xp90</td><td>0.2050</td></tr><tr><td>xp79</td><td>xp82</td><td>0.2048</td></tr><tr><td>xp79</td><td>xp97</td><td>0.2048</td></tr><tr><td>xp73</td><td>xp83</td><td>0.2046</td></tr><tr><td>xp74</td><td>xp79</td><td>0.2045</td></tr><tr><td>xp73</td><td>xp77</td><td>0.2042</td></tr><tr><td>xp79</td><td>xp96</td><td>0.2042</td></tr><tr><td>xp80</td><td>xp101</td><td>0.2042</td></tr><tr><td>xp79</td><td>xp85</td><td>0.2037</td></tr><tr><td>xp83</td><td>xp94</td><td>0.2037</td></tr><tr><td>xp86</td><td>xp94</td><td>0.2034</td></tr><tr><td>xp75</td><td>xp100</td><td>0.2033</td></tr><tr><td>xp73</td><td>xp89</td><td>0.2031</td></tr><tr><td>xp73</td><td>xp74</td><td>0.2029</td></tr><tr><td>xp78</td><td>xp87</td><td>0.2028</td></tr><tr><td>xp79</td><td>xp98</td><td>0.2025</td></tr><tr><td>xp79</td><td>xp86</td><td>0.2025</td></tr><tr><td>xp72</td><td>xp95</td><td>0.2025</td></tr><tr><td>xp73</td><td>xp91</td><td>0.2024</td></tr><tr><td>xp80</td><td>xp93</td><td>0.2023</td></tr><tr><td>xp73</td><td>xp84</td><td>0.2020</td></tr><tr><td>xp73</td><td>xp81</td><td>0.2020</td></tr><tr><td>xp79</td><td>xp84</td><td>0.2016</td></tr><tr><td>xp79</td><td>xp92</td><td>0.2013</td></tr><tr><td>xp75</td><td>xp101</td><td>0.2012</td></tr><tr><td>xp73</td><td>xp82</td><td>0.2012</td></tr><tr><td>xp73</td><td>xp88</td><td>0.2011</td></tr><tr><td>xp72</td><td>xp78</td><td>0.2010</td></tr><tr><td>xp85</td><td>xp94</td><td>0.2009</td></tr><tr><td>xp80</td><td>xp99</td><td>0.2008</td></tr><tr><td>xp80</td><td>xp83</td><td>0.2006</td></tr><tr><td>xp76</td><td>xp79</td><td>0.2006</td></tr><tr><td>xp73</td><td>xp85</td><td>0.2004</td></tr><tr><td>xp73</td><td>xp97</td><td>0.2003</td></tr><tr><td>xp82</td><td>xp94</td><td>0.2001</td></tr><tr><td>xp87</td><td>xp94</td><td>0.2001</td></tr><tr><td>xp73</td><td>xp86</td><td>0.1999</td></tr><tr><td>xp80</td><td>xp81</td><td>0.1999</td></tr><tr><td>xp72</td><td>xp87</td><td>0.1998</td></tr><tr><td>xp80</td><td>xp91</td><td>0.1998</td></tr><tr><td>xp80</td><td>xp88</td><td>0.1997</td></tr><tr><td>xp75</td><td>xp93</td><td>0.1995</td></tr><tr><td>xp94</td><td>xp97</td><td>0.1994</td></tr><tr><td>xp76</td><td>xp94</td><td>0.1993</td></tr><tr><td>xp79</td><td>xp95</td><td>0.1989</td></tr><tr><td>xp94</td><td>xp98</td><td>0.1987</td></tr><tr><td>xp73</td><td>xp98</td><td>0.1983</td></tr><tr><td>xp75</td><td>xp83</td><td>0.1982</td></tr><tr><td>xp80</td><td>xp97</td><td>0.1982</td></tr><tr><td>xp75</td><td>xp81</td><td>0.1980</td></tr><tr><td>xp75</td><td>xp88</td><td>0.1980</td></tr><tr><td>xp80</td><td>xp90</td><td>0.1978</td></tr><tr><td>xp75</td><td>xp91</td><td>0.1978</td></tr><tr><td>xp73</td><td>xp76</td><td>0.1978</td></tr><tr><td>xp91</td><td>xp94</td><td>0.1976</td></tr><tr><td>xp75</td><td>xp99</td><td>0.1975</td></tr><tr><td>xp73</td><td>xp92</td><td>0.1973</td></tr><tr><td>xp80</td><td>xp89</td><td>0.1973</td></tr><tr><td>xp80</td><td>xp82</td><td>0.1967</td></tr><tr><td>xp92</td><td>xp94</td><td>0.1964</td></tr><tr><td>xp81</td><td>xp94</td><td>0.1963</td></tr><tr><td>xp78</td><td>xp94</td><td>0.1963</td></tr><tr><td>xp80</td><td>xp98</td><td>0.1961</td></tr><tr><td>xp75</td><td>xp97</td><td>0.1960</td></tr><tr><td>xp80</td><td>xp85</td><td>0.1958</td></tr><tr><td>xp77</td><td>xp80</td><td>0.1958</td></tr><tr><td>xp79</td><td>xp87</td><td>0.1957</td></tr><tr><td>xp88</td><td>xp94</td><td>0.1956</td></tr><tr><td>xp78</td><td>xp79</td><td>0.1954</td></tr><tr><td>xp74</td><td>xp80</td><td>0.1950</td></tr><tr><td>xp72</td><td>xp94</td><td>0.1945</td></tr><tr><td>xp73</td><td>xp95</td><td>0.1945</td></tr><tr><td>xp75</td><td>xp90</td><td>0.1945</td></tr><tr><td>xp80</td><td>xp86</td><td>0.1944</td></tr><tr><td>xp75</td><td>xp89</td><td>0.1944</td></tr><tr><td>xp75</td><td>xp82</td><td>0.1943</td></tr><tr><td>xp80</td><td>xp92</td><td>0.1942</td></tr><tr><td>xp94</td><td>xp95</td><td>0.1939</td></tr><tr><td>xp75</td><td>xp98</td><td>0.1938</td></tr><tr><td>xp73</td><td>xp87</td><td>0.1938</td></tr><tr><td>xp80</td><td>xp96</td><td>0.1935</td></tr><tr><td>xp75</td><td>xp85</td><td>0.1933</td></tr><tr><td>xp73</td><td>xp94</td><td>0.1930</td></tr><tr><td>xp80</td><td>xp95</td><td>0.1930</td></tr><tr><td>xp73</td><td>xp78</td><td>0.1930</td></tr><tr><td>xp72</td><td>xp79</td><td>0.1925</td></tr><tr><td>xp75</td><td>xp77</td><td>0.1924</td></tr><tr><td>xp76</td><td>xp80</td><td>0.1922</td></tr><tr><td>xp80</td><td>xp84</td><td>0.1920</td></tr><tr><td>xp75</td><td>xp92</td><td>0.1919</td></tr><tr><td>xp74</td><td>xp75</td><td>0.1918</td></tr><tr><td>xp75</td><td>xp86</td><td>0.1916</td></tr><tr><td>beta</td><td>xp96</td><td>0.1911</td></tr><tr><td>xp75</td><td>xp95</td><td>0.1910</td></tr><tr><td>xp72</td><td>xp73</td><td>0.1906</td></tr><tr><td>xp79</td><td>xp94</td><td>0.1903</td></tr><tr><td>xp75</td><td>xp76</td><td>0.1896</td></tr><tr><td>xp80</td><td>xp87</td><td>0.1887</td></tr><tr><td>xp75</td><td>xp96</td><td>0.1882</td></tr><tr><td>xp75</td><td>xp84</td><td>0.1879</td></tr><tr><td>xp78</td><td>xp80</td><td>0.1878</td></tr><tr><td>xp73</td><td>xp79</td><td>0.1863</td></tr><tr><td>xp75</td><td>xp87</td><td>0.1859</td></tr><tr><td>xp75</td><td>xp78</td><td>0.1851</td></tr><tr><td>xp72</td><td>xp80</td><td>0.1846</td></tr><tr><td>R</td><td>xp79</td><td>-0.1843</td></tr><tr><td>R</td><td>xp87</td><td>-0.1828</td></tr><tr><td>xp79</td><td>xp80</td><td>0.1820</td></tr><tr><td>xp72</td><td>xp75</td><td>0.1819</td></tr><tr><td>xp80</td><td>xp94</td><td>0.1812</td></tr><tr><td>beta</td><td>xp94</td><td>0.1807</td></tr><tr><td>xp75</td><td>xp79</td><td>0.1796</td></tr><tr><td>xp73</td><td>xp80</td><td>0.1792</td></tr><tr><td>R</td><td>xp75</td><td>-0.1780</td></tr><tr><td>R</td><td>xp84</td><td>-0.1770</td></tr><tr><td>xp75</td><td>xp94</td><td>0.1765</td></tr><tr><td>xp73</td><td>xp75</td><td>0.1763</td></tr><tr><td>xp75</td><td>xp80</td><td>0.1748</td></tr><tr><td>R</td><td>xp80</td><td>-0.1737</td></tr><tr><td>R</td><td>xp73</td><td>-0.1607</td></tr><tr><td>R</td><td>xp96</td><td>-0.1241</td></tr><tr><td>beta</td><td>xp84</td><td>0.1200</td></tr><tr><td>alpha</td><td>gamma</td><td>0.1067</td></tr></table>"
      ],
      "text/plain": [
       "<lmfit.minimizer.MinimizerResult at 0x2181367b548>"
      ]
     },
     "execution_count": 38,
     "metadata": {},
     "output_type": "execute_result"
    }
   ],
   "source": [
    "# report_fit(result)\n",
    "xwFit10b[0].result"
   ]
  },
  {
   "cell_type": "code",
   "execution_count": 36,
   "metadata": {
    "Collapsed": "false",
    "hidden": true
   },
   "outputs": [
    {
     "data": {
      "text/html": [
       "<h2>Fit Statistics</h2><table><tr><td>fitting method</td><td>leastsq</td><td></td></tr><tr><td># function evals</td><td>532</td><td></td></tr><tr><td># data points</td><td>1200</td><td></td></tr><tr><td># variables</td><td>25</td><td></td></tr><tr><td>chi-square</td><td> 1.3170e+13</td><td></td></tr><tr><td>reduced chi-square</td><td> 1.1209e+10</td><td></td></tr><tr><td>Akaike info crit.</td><td> 27792.7037</td><td></td></tr><tr><td>Bayesian info crit.</td><td> 27919.9556</td><td></td></tr></table><h2>Variables</h2><table><tr><th> name </th><th> value </th><th> standard error </th><th> relative error </th><th> initial value </th><th> min </th><th> max </th><th> vary </th></tr><tr><td> A92 </td><td>  236583.701 </td><td>  1562.04935 </td><td> (0.66%) </td><td> 200000.0 </td><td>  0.00000000 </td><td>         inf </td><td> True </td></tr><tr><td> alpha </td><td>  103.917430 </td><td>  0.56892793 </td><td> (0.55%) </td><td> 140 </td><td>  0.00000000 </td><td>         inf </td><td> True </td></tr><tr><td> beta </td><td>  1882.66221 </td><td>  1039629.92 </td><td> (55221.27%) </td><td> 0.001 </td><td>  0.00000000 </td><td>         inf </td><td> True </td></tr><tr><td> R </td><td>  9.7323e-04 </td><td>  1.11093368 </td><td> (114148.78%) </td><td> 0.001 </td><td>  0.00000000 </td><td>         inf </td><td> True </td></tr><tr><td> gamma </td><td>  0.00140661 </td><td>  1.3707e-04 </td><td> (9.74%) </td><td> 0.001 </td><td>  0.00000000 </td><td>         inf </td><td> True </td></tr><tr><td> sigma </td><td>  0.00350110 </td><td>  2.3479e-04 </td><td> (6.71%) </td><td> 0.0066 </td><td>  0.00000000 </td><td>         inf </td><td> True </td></tr><tr><td> k </td><td>  0.05000000 </td><td>  0.00000000 </td><td> (0.00%) </td><td> 0.05 </td><td>  0.00000000 </td><td>         inf </td><td> False </td></tr><tr><td> xp92 </td><td> -10.0220116 </td><td>  5.7907e-04 </td><td> (0.01%) </td><td> -10.0 </td><td>        -inf </td><td>         inf </td><td> True </td></tr><tr><td> A93 </td><td>  231794.760 </td><td>  1559.88728 </td><td> (0.67%) </td><td> 200000.0 </td><td>  0.00000000 </td><td>         inf </td><td> True </td></tr><tr><td> xp93 </td><td> -10.0221229 </td><td>  5.8667e-04 </td><td> (0.01%) </td><td> -10.0 </td><td>        -inf </td><td>         inf </td><td> True </td></tr><tr><td> A94 </td><td>  232813.583 </td><td>  1547.09831 </td><td> (0.66%) </td><td> 200000.0 </td><td>  0.00000000 </td><td>         inf </td><td> True </td></tr><tr><td> xp94 </td><td> -10.0220641 </td><td>  5.8740e-04 </td><td> (0.01%) </td><td> -10.0 </td><td>        -inf </td><td>         inf </td><td> True </td></tr><tr><td> A95 </td><td>  233132.780 </td><td>  1600.02662 </td><td> (0.69%) </td><td> 200000.0 </td><td>  0.00000000 </td><td>         inf </td><td> True </td></tr><tr><td> xp95 </td><td> -10.0223751 </td><td>  6.0207e-04 </td><td> (0.01%) </td><td> -10.0 </td><td>        -inf </td><td>         inf </td><td> True </td></tr><tr><td> A96 </td><td>  232256.666 </td><td>  1546.31918 </td><td> (0.67%) </td><td> 200000.0 </td><td>  0.00000000 </td><td>         inf </td><td> True </td></tr><tr><td> xp96 </td><td> -10.0221123 </td><td>  5.6003e-04 </td><td> (0.01%) </td><td> -10.0 </td><td>        -inf </td><td>         inf </td><td> True </td></tr><tr><td> A97 </td><td>  228239.707 </td><td>  1536.77084 </td><td> (0.67%) </td><td> 200000.0 </td><td>  0.00000000 </td><td>         inf </td><td> True </td></tr><tr><td> xp97 </td><td> -10.0221952 </td><td>  5.7424e-04 </td><td> (0.01%) </td><td> -10.0 </td><td>        -inf </td><td>         inf </td><td> True </td></tr><tr><td> A98 </td><td>  232305.371 </td><td>  1556.14964 </td><td> (0.67%) </td><td> 200000.0 </td><td>  0.00000000 </td><td>         inf </td><td> True </td></tr><tr><td> xp98 </td><td> -10.0222816 </td><td>  5.7888e-04 </td><td> (0.01%) </td><td> -10.0 </td><td>        -inf </td><td>         inf </td><td> True </td></tr><tr><td> A99 </td><td>  231193.380 </td><td>  1544.15983 </td><td> (0.67%) </td><td> 200000.0 </td><td>  0.00000000 </td><td>         inf </td><td> True </td></tr><tr><td> xp99 </td><td> -10.0225454 </td><td>  5.7708e-04 </td><td> (0.01%) </td><td> -10.0 </td><td>        -inf </td><td>         inf </td><td> True </td></tr><tr><td> A100 </td><td>  229949.355 </td><td>  1541.35944 </td><td> (0.67%) </td><td> 200000.0 </td><td>  0.00000000 </td><td>         inf </td><td> True </td></tr><tr><td> xp100 </td><td> -10.0221401 </td><td>  5.8083e-04 </td><td> (0.01%) </td><td> -10.0 </td><td>        -inf </td><td>         inf </td><td> True </td></tr><tr><td> A101 </td><td>  227772.068 </td><td>  1591.53331 </td><td> (0.70%) </td><td> 200000.0 </td><td>  0.00000000 </td><td>         inf </td><td> True </td></tr><tr><td> xp101 </td><td> -10.0222111 </td><td>  6.0125e-04 </td><td> (0.01%) </td><td> -10.0 </td><td>        -inf </td><td>         inf </td><td> True </td></tr></table><h2>Correlations (unreported correlations are < 0.100)</h2><table><tr><td>xp94</td><td>xp95</td><td>0.9644</td></tr><tr><td>xp95</td><td>xp101</td><td>0.9643</td></tr><tr><td>xp93</td><td>xp95</td><td>0.9643</td></tr><tr><td>xp94</td><td>xp101</td><td>0.9637</td></tr><tr><td>xp95</td><td>xp100</td><td>0.9637</td></tr><tr><td>xp95</td><td>xp99</td><td>0.9636</td></tr><tr><td>xp92</td><td>xp101</td><td>0.9635</td></tr><tr><td>xp93</td><td>xp101</td><td>0.9635</td></tr><tr><td>xp93</td><td>xp94</td><td>0.9635</td></tr><tr><td>xp92</td><td>xp95</td><td>0.9634</td></tr><tr><td>xp95</td><td>xp98</td><td>0.9634</td></tr><tr><td>xp92</td><td>xp94</td><td>0.9633</td></tr><tr><td>xp98</td><td>xp101</td><td>0.9631</td></tr><tr><td>xp92</td><td>xp98</td><td>0.9630</td></tr><tr><td>xp94</td><td>xp98</td><td>0.9630</td></tr><tr><td>xp92</td><td>xp93</td><td>0.9630</td></tr><tr><td>xp94</td><td>xp99</td><td>0.9628</td></tr><tr><td>xp99</td><td>xp101</td><td>0.9627</td></tr><tr><td>xp93</td><td>xp98</td><td>0.9627</td></tr><tr><td>xp95</td><td>xp97</td><td>0.9627</td></tr><tr><td>xp95</td><td>xp96</td><td>0.9626</td></tr><tr><td>xp93</td><td>xp99</td><td>0.9626</td></tr><tr><td>xp94</td><td>xp100</td><td>0.9624</td></tr><tr><td>xp93</td><td>xp100</td><td>0.9624</td></tr><tr><td>xp100</td><td>xp101</td><td>0.9623</td></tr><tr><td>xp92</td><td>xp99</td><td>0.9622</td></tr><tr><td>xp97</td><td>xp101</td><td>0.9621</td></tr><tr><td>xp94</td><td>xp97</td><td>0.9621</td></tr><tr><td>xp98</td><td>xp99</td><td>0.9620</td></tr><tr><td>xp93</td><td>xp97</td><td>0.9619</td></tr><tr><td>xp92</td><td>xp97</td><td>0.9618</td></tr><tr><td>xp99</td><td>xp100</td><td>0.9617</td></tr><tr><td>xp94</td><td>xp96</td><td>0.9615</td></tr><tr><td>xp97</td><td>xp98</td><td>0.9614</td></tr><tr><td>xp93</td><td>xp96</td><td>0.9614</td></tr><tr><td>xp96</td><td>xp101</td><td>0.9614</td></tr><tr><td>xp98</td><td>xp100</td><td>0.9613</td></tr><tr><td>xp92</td><td>xp100</td><td>0.9612</td></tr><tr><td>xp97</td><td>xp99</td><td>0.9611</td></tr><tr><td>xp96</td><td>xp100</td><td>0.9609</td></tr><tr><td>xp96</td><td>xp99</td><td>0.9608</td></tr><tr><td>xp97</td><td>xp100</td><td>0.9607</td></tr><tr><td>xp92</td><td>xp96</td><td>0.9605</td></tr><tr><td>xp96</td><td>xp98</td><td>0.9605</td></tr><tr><td>xp96</td><td>xp97</td><td>0.9598</td></tr><tr><td>R</td><td>xp92</td><td>-0.8787</td></tr><tr><td>R</td><td>xp98</td><td>-0.8715</td></tr><tr><td>R</td><td>xp101</td><td>-0.8693</td></tr><tr><td>R</td><td>xp94</td><td>-0.8664</td></tr><tr><td>R</td><td>xp97</td><td>-0.8660</td></tr><tr><td>R</td><td>xp93</td><td>-0.8638</td></tr><tr><td>R</td><td>xp99</td><td>-0.8615</td></tr><tr><td>R</td><td>xp95</td><td>-0.8576</td></tr><tr><td>R</td><td>xp96</td><td>-0.8532</td></tr><tr><td>R</td><td>xp100</td><td>-0.8521</td></tr><tr><td>gamma</td><td>sigma</td><td>-0.7114</td></tr><tr><td>alpha</td><td>gamma</td><td>0.5958</td></tr><tr><td>beta</td><td>R</td><td>0.4834</td></tr><tr><td>gamma</td><td>A94</td><td>0.4059</td></tr><tr><td>gamma</td><td>A96</td><td>0.4044</td></tr><tr><td>A92</td><td>gamma</td><td>0.4034</td></tr><tr><td>gamma</td><td>A99</td><td>0.4016</td></tr><tr><td>gamma</td><td>A100</td><td>0.4010</td></tr><tr><td>gamma</td><td>A97</td><td>0.3990</td></tr><tr><td>gamma</td><td>A93</td><td>0.3985</td></tr><tr><td>gamma</td><td>A98</td><td>0.3967</td></tr><tr><td>gamma</td><td>A95</td><td>0.3875</td></tr><tr><td>gamma</td><td>A101</td><td>0.3785</td></tr><tr><td>R</td><td>A101</td><td>0.3498</td></tr><tr><td>A95</td><td>xp95</td><td>-0.3425</td></tr><tr><td>A95</td><td>xp101</td><td>-0.3423</td></tr><tr><td>xp94</td><td>A95</td><td>-0.3415</td></tr><tr><td>xp93</td><td>A95</td><td>-0.3414</td></tr><tr><td>xp92</td><td>A95</td><td>-0.3413</td></tr><tr><td>A101</td><td>xp101</td><td>-0.3411</td></tr><tr><td>A95</td><td>xp98</td><td>-0.3409</td></tr><tr><td>A95</td><td>xp99</td><td>-0.3405</td></tr><tr><td>xp92</td><td>A101</td><td>-0.3405</td></tr><tr><td>A95</td><td>xp100</td><td>-0.3404</td></tr><tr><td>A95</td><td>xp97</td><td>-0.3402</td></tr><tr><td>xp95</td><td>A101</td><td>-0.3402</td></tr><tr><td>xp94</td><td>A101</td><td>-0.3400</td></tr><tr><td>xp98</td><td>A101</td><td>-0.3398</td></tr><tr><td>xp93</td><td>A101</td><td>-0.3397</td></tr><tr><td>R</td><td>A95</td><td>0.3397</td></tr><tr><td>A95</td><td>xp96</td><td>-0.3389</td></tr><tr><td>xp97</td><td>A101</td><td>-0.3388</td></tr><tr><td>xp99</td><td>A101</td><td>-0.3388</td></tr><tr><td>xp100</td><td>A101</td><td>-0.3381</td></tr><tr><td>xp96</td><td>A101</td><td>-0.3369</td></tr><tr><td>A95</td><td>A101</td><td>0.3324</td></tr><tr><td>sigma</td><td>A94</td><td>-0.3196</td></tr><tr><td>A93</td><td>A95</td><td>0.3170</td></tr><tr><td>A92</td><td>A95</td><td>0.3166</td></tr><tr><td>sigma</td><td>A96</td><td>-0.3164</td></tr><tr><td>sigma</td><td>A93</td><td>-0.3141</td></tr><tr><td>A95</td><td>A98</td><td>0.3136</td></tr><tr><td>A92</td><td>A101</td><td>0.3135</td></tr><tr><td>A93</td><td>A101</td><td>0.3127</td></tr><tr><td>sigma</td><td>A100</td><td>-0.3117</td></tr><tr><td>A98</td><td>A101</td><td>0.3108</td></tr><tr><td>sigma</td><td>A95</td><td>-0.3106</td></tr><tr><td>sigma</td><td>A99</td><td>-0.3098</td></tr><tr><td>sigma</td><td>A97</td><td>-0.3089</td></tr><tr><td>A95</td><td>A96</td><td>0.3085</td></tr><tr><td>A94</td><td>A95</td><td>0.3085</td></tr><tr><td>A95</td><td>A99</td><td>0.3076</td></tr><tr><td>A92</td><td>sigma</td><td>-0.3061</td></tr><tr><td>A95</td><td>A100</td><td>0.3061</td></tr><tr><td>A96</td><td>A101</td><td>0.3040</td></tr><tr><td>A99</td><td>A101</td><td>0.3037</td></tr><tr><td>A94</td><td>A101</td><td>0.3037</td></tr><tr><td>A95</td><td>A97</td><td>0.3036</td></tr><tr><td>A100</td><td>A101</td><td>0.3020</td></tr><tr><td>A92</td><td>A93</td><td>0.3015</td></tr><tr><td>A92</td><td>A98</td><td>0.3009</td></tr><tr><td>A97</td><td>A101</td><td>0.2996</td></tr><tr><td>sigma</td><td>A98</td><td>-0.2991</td></tr><tr><td>sigma</td><td>A101</td><td>-0.2985</td></tr><tr><td>A93</td><td>A98</td><td>0.2983</td></tr><tr><td>A93</td><td>A94</td><td>0.2953</td></tr><tr><td>A93</td><td>A96</td><td>0.2951</td></tr><tr><td>A92</td><td>A96</td><td>0.2950</td></tr><tr><td>A92</td><td>A99</td><td>0.2948</td></tr><tr><td>A92</td><td>A94</td><td>0.2947</td></tr><tr><td>A93</td><td>A99</td><td>0.2940</td></tr><tr><td>A92</td><td>A100</td><td>0.2931</td></tr><tr><td>A93</td><td>A100</td><td>0.2928</td></tr><tr><td>A98</td><td>A99</td><td>0.2918</td></tr><tr><td>A96</td><td>A98</td><td>0.2917</td></tr><tr><td>R</td><td>A98</td><td>0.2917</td></tr><tr><td>A94</td><td>A98</td><td>0.2913</td></tr><tr><td>A92</td><td>A97</td><td>0.2910</td></tr><tr><td>A93</td><td>A97</td><td>0.2905</td></tr><tr><td>A98</td><td>A100</td><td>0.2899</td></tr><tr><td>A94</td><td>A96</td><td>0.2897</td></tr><tr><td>A94</td><td>A99</td><td>0.2883</td></tr><tr><td>A96</td><td>A99</td><td>0.2882</td></tr><tr><td>A97</td><td>A98</td><td>0.2879</td></tr><tr><td>A92</td><td>R</td><td>0.2873</td></tr><tr><td>A94</td><td>A100</td><td>0.2873</td></tr><tr><td>A96</td><td>A100</td><td>0.2871</td></tr><tr><td>A99</td><td>A100</td><td>0.2860</td></tr><tr><td>A94</td><td>A97</td><td>0.2850</td></tr><tr><td>A96</td><td>A97</td><td>0.2848</td></tr><tr><td>A97</td><td>A99</td><td>0.2839</td></tr><tr><td>A97</td><td>A100</td><td>0.2827</td></tr><tr><td>A93</td><td>xp95</td><td>-0.2825</td></tr><tr><td>A93</td><td>xp101</td><td>-0.2821</td></tr><tr><td>A93</td><td>xp93</td><td>-0.2816</td></tr><tr><td>A93</td><td>xp94</td><td>-0.2815</td></tr><tr><td>A93</td><td>xp100</td><td>-0.2808</td></tr><tr><td>xp92</td><td>A93</td><td>-0.2808</td></tr><tr><td>A93</td><td>xp98</td><td>-0.2807</td></tr><tr><td>A93</td><td>xp99</td><td>-0.2807</td></tr><tr><td>A93</td><td>xp97</td><td>-0.2802</td></tr><tr><td>A93</td><td>xp96</td><td>-0.2794</td></tr><tr><td>R</td><td>A93</td><td>0.2780</td></tr><tr><td>A92</td><td>xp101</td><td>-0.2698</td></tr><tr><td>A92</td><td>xp92</td><td>-0.2698</td></tr><tr><td>xp92</td><td>A98</td><td>-0.2697</td></tr><tr><td>A98</td><td>xp101</td><td>-0.2697</td></tr><tr><td>A98</td><td>xp98</td><td>-0.2690</td></tr><tr><td>A92</td><td>xp95</td><td>-0.2689</td></tr><tr><td>A92</td><td>xp94</td><td>-0.2689</td></tr><tr><td>A92</td><td>xp98</td><td>-0.2688</td></tr><tr><td>xp94</td><td>A98</td><td>-0.2687</td></tr><tr><td>A92</td><td>xp93</td><td>-0.2686</td></tr><tr><td>xp95</td><td>A98</td><td>-0.2685</td></tr><tr><td>xp93</td><td>A98</td><td>-0.2684</td></tr><tr><td>A92</td><td>xp97</td><td>-0.2679</td></tr><tr><td>A92</td><td>xp99</td><td>-0.2678</td></tr><tr><td>xp97</td><td>A98</td><td>-0.2678</td></tr><tr><td>A98</td><td>xp99</td><td>-0.2675</td></tr><tr><td>A92</td><td>xp100</td><td>-0.2670</td></tr><tr><td>A98</td><td>xp100</td><td>-0.2665</td></tr><tr><td>A92</td><td>xp96</td><td>-0.2659</td></tr><tr><td>xp96</td><td>A98</td><td>-0.2654</td></tr><tr><td>beta</td><td>sigma</td><td>0.2619</td></tr><tr><td>R</td><td>A99</td><td>0.2579</td></tr><tr><td>xp95</td><td>A96</td><td>-0.2551</td></tr><tr><td>A94</td><td>xp95</td><td>-0.2546</td></tr><tr><td>A96</td><td>xp101</td><td>-0.2546</td></tr><tr><td>xp94</td><td>A96</td><td>-0.2539</td></tr><tr><td>xp93</td><td>A96</td><td>-0.2539</td></tr><tr><td>A94</td><td>xp101</td><td>-0.2537</td></tr><tr><td>A99</td><td>xp101</td><td>-0.2536</td></tr><tr><td>A96</td><td>xp100</td><td>-0.2536</td></tr><tr><td>xp95</td><td>A99</td><td>-0.2535</td></tr><tr><td>A94</td><td>xp94</td><td>-0.2533</td></tr><tr><td>A96</td><td>xp99</td><td>-0.2532</td></tr><tr><td>xp93</td><td>A94</td><td>-0.2532</td></tr><tr><td>A96</td><td>xp98</td><td>-0.2531</td></tr><tr><td>A94</td><td>xp100</td><td>-0.2531</td></tr><tr><td>xp92</td><td>A96</td><td>-0.2531</td></tr><tr><td>xp94</td><td>A99</td><td>-0.2528</td></tr><tr><td>A96</td><td>xp97</td><td>-0.2527</td></tr><tr><td>xp93</td><td>A99</td><td>-0.2527</td></tr><tr><td>xp92</td><td>A99</td><td>-0.2526</td></tr><tr><td>A94</td><td>xp99</td><td>-0.2525</td></tr><tr><td>xp98</td><td>A99</td><td>-0.2523</td></tr><tr><td>A96</td><td>xp96</td><td>-0.2523</td></tr><tr><td>A94</td><td>xp98</td><td>-0.2522</td></tr><tr><td>xp95</td><td>A100</td><td>-0.2522</td></tr><tr><td>A99</td><td>xp99</td><td>-0.2522</td></tr><tr><td>xp92</td><td>A94</td><td>-0.2520</td></tr><tr><td>A100</td><td>xp101</td><td>-0.2519</td></tr><tr><td>A94</td><td>xp97</td><td>-0.2519</td></tr><tr><td>A99</td><td>xp100</td><td>-0.2519</td></tr><tr><td>xp97</td><td>A99</td><td>-0.2517</td></tr><tr><td>A94</td><td>xp96</td><td>-0.2516</td></tr><tr><td>xp94</td><td>A100</td><td>-0.2513</td></tr><tr><td>xp93</td><td>A100</td><td>-0.2512</td></tr><tr><td>R</td><td>A100</td><td>0.2512</td></tr><tr><td>A100</td><td>xp100</td><td>-0.2508</td></tr><tr><td>xp92</td><td>A100</td><td>-0.2507</td></tr><tr><td>xp98</td><td>A100</td><td>-0.2506</td></tr><tr><td>xp96</td><td>A99</td><td>-0.2506</td></tr><tr><td>xp99</td><td>A100</td><td>-0.2505</td></tr><tr><td>xp97</td><td>A100</td><td>-0.2501</td></tr><tr><td>R</td><td>A96</td><td>0.2495</td></tr><tr><td>xp96</td><td>A100</td><td>-0.2493</td></tr><tr><td>R</td><td>A97</td><td>0.2490</td></tr><tr><td>xp95</td><td>A97</td><td>-0.2480</td></tr><tr><td>A97</td><td>xp101</td><td>-0.2478</td></tr><tr><td>xp94</td><td>A97</td><td>-0.2471</td></tr><tr><td>xp93</td><td>A97</td><td>-0.2470</td></tr><tr><td>xp92</td><td>A97</td><td>-0.2466</td></tr><tr><td>A97</td><td>xp98</td><td>-0.2465</td></tr><tr><td>A97</td><td>xp100</td><td>-0.2463</td></tr><tr><td>A97</td><td>xp99</td><td>-0.2463</td></tr><tr><td>A97</td><td>xp97</td><td>-0.2462</td></tr><tr><td>xp96</td><td>A97</td><td>-0.2450</td></tr><tr><td>R</td><td>A94</td><td>0.2441</td></tr><tr><td>alpha</td><td>xp92</td><td>0.2165</td></tr><tr><td>alpha</td><td>xp96</td><td>0.2149</td></tr><tr><td>alpha</td><td>xp98</td><td>0.2144</td></tr><tr><td>alpha</td><td>xp97</td><td>0.2144</td></tr><tr><td>alpha</td><td>xp99</td><td>0.2121</td></tr><tr><td>alpha</td><td>xp94</td><td>0.2104</td></tr><tr><td>alpha</td><td>xp93</td><td>0.2099</td></tr><tr><td>alpha</td><td>xp100</td><td>0.2083</td></tr><tr><td>alpha</td><td>xp101</td><td>0.2075</td></tr><tr><td>alpha</td><td>xp95</td><td>0.2037</td></tr><tr><td>alpha</td><td>beta</td><td>-0.1340</td></tr><tr><td>gamma</td><td>xp92</td><td>0.1286</td></tr><tr><td>gamma</td><td>xp96</td><td>0.1280</td></tr><tr><td>gamma</td><td>xp97</td><td>0.1275</td></tr><tr><td>gamma</td><td>xp98</td><td>0.1275</td></tr><tr><td>gamma</td><td>xp99</td><td>0.1262</td></tr><tr><td>alpha</td><td>A94</td><td>0.1257</td></tr><tr><td>gamma</td><td>xp94</td><td>0.1252</td></tr><tr><td>gamma</td><td>xp93</td><td>0.1249</td></tr><tr><td>gamma</td><td>xp100</td><td>0.1241</td></tr><tr><td>alpha</td><td>A96</td><td>0.1240</td></tr><tr><td>gamma</td><td>xp101</td><td>0.1234</td></tr><tr><td>alpha</td><td>A100</td><td>0.1220</td></tr><tr><td>gamma</td><td>xp95</td><td>0.1213</td></tr><tr><td>alpha</td><td>A97</td><td>0.1211</td></tr><tr><td>alpha</td><td>A99</td><td>0.1209</td></tr><tr><td>alpha</td><td>A93</td><td>0.1200</td></tr><tr><td>A92</td><td>alpha</td><td>0.1173</td></tr><tr><td>alpha</td><td>A98</td><td>0.1139</td></tr><tr><td>alpha</td><td>A95</td><td>0.1119</td></tr><tr><td>alpha</td><td>R</td><td>-0.1089</td></tr><tr><td>alpha</td><td>A101</td><td>0.1062</td></tr></table>"
      ],
      "text/plain": [
       "<lmfit.minimizer.MinimizerResult at 0x2181367b8c8>"
      ]
     },
     "execution_count": 36,
     "metadata": {},
     "output_type": "execute_result"
    }
   ],
   "source": [
    "# report_fit(result)\n",
    "xFit10[0].result"
   ]
  },
  {
   "cell_type": "code",
   "execution_count": 37,
   "metadata": {
    "Collapsed": "false",
    "hidden": true
   },
   "outputs": [
    {
     "data": {
      "text/html": [
       "<h2>Fit Statistics</h2><table><tr><td>fitting method</td><td>leastsq</td><td></td></tr><tr><td># function evals</td><td>427</td><td></td></tr><tr><td># data points</td><td>1200</td><td></td></tr><tr><td># variables</td><td>25</td><td></td></tr><tr><td>chi-square</td><td> 2290.01859</td><td></td></tr><tr><td>reduced chi-square</td><td> 1.94895199</td><td></td></tr><tr><td>Akaike info crit.</td><td> 825.486054</td><td></td></tr><tr><td>Bayesian info crit.</td><td> 952.737975</td><td></td></tr></table><h2>Variables</h2><table><tr><th> name </th><th> value </th><th> standard error </th><th> relative error </th><th> initial value </th><th> min </th><th> max </th><th> vary </th></tr><tr><td> A92 </td><td>  234011.974 </td><td>  3287.94636 </td><td> (1.41%) </td><td> 200000.0 </td><td>  0.00000000 </td><td>         inf </td><td> True </td></tr><tr><td> alpha </td><td>  95.4374390 </td><td>  0.61906034 </td><td> (0.65%) </td><td> 140 </td><td>  0.00000000 </td><td>         inf </td><td> True </td></tr><tr><td> beta </td><td>  1330.01209 </td><td>  989923.585 </td><td> (74429.67%) </td><td> 0.001 </td><td>  0.00000000 </td><td>         inf </td><td> True </td></tr><tr><td> R </td><td>  6.8363e-04 </td><td>  0.97074280 </td><td> (141997.37%) </td><td> 0.001 </td><td>  0.00000000 </td><td>         inf </td><td> True </td></tr><tr><td> gamma </td><td>  4.0579e-04 </td><td>  3.3310e-05 </td><td> (8.21%) </td><td> 0.001 </td><td>  0.00000000 </td><td>         inf </td><td> True </td></tr><tr><td> sigma </td><td>  0.00405638 </td><td>  2.3674e-04 </td><td> (5.84%) </td><td> 0.0066 </td><td>  0.00000000 </td><td>         inf </td><td> True </td></tr><tr><td> k </td><td>  0.05000000 </td><td>  0.00000000 </td><td> (0.00%) </td><td> 0.05 </td><td>  0.00000000 </td><td>         inf </td><td> False </td></tr><tr><td> xp92 </td><td> -10.0235600 </td><td>  6.2411e-04 </td><td> (0.01%) </td><td> -10.0 </td><td>        -inf </td><td>         inf </td><td> True </td></tr><tr><td> A93 </td><td>  230335.938 </td><td>  3272.55345 </td><td> (1.42%) </td><td> 200000.0 </td><td>  0.00000000 </td><td>         inf </td><td> True </td></tr><tr><td> xp93 </td><td> -10.0238600 </td><td>  6.1693e-04 </td><td> (0.01%) </td><td> -10.0 </td><td>        -inf </td><td>         inf </td><td> True </td></tr><tr><td> A94 </td><td>  230898.755 </td><td>  3272.00053 </td><td> (1.42%) </td><td> 200000.0 </td><td>  0.00000000 </td><td>         inf </td><td> True </td></tr><tr><td> xp94 </td><td> -10.0235305 </td><td>  6.4378e-04 </td><td> (0.01%) </td><td> -10.0 </td><td>        -inf </td><td>         inf </td><td> True </td></tr><tr><td> A95 </td><td>  230915.512 </td><td>  3275.81809 </td><td> (1.42%) </td><td> 200000.0 </td><td>  0.00000000 </td><td>         inf </td><td> True </td></tr><tr><td> xp95 </td><td> -10.0239042 </td><td>  6.1344e-04 </td><td> (0.01%) </td><td> -10.0 </td><td>        -inf </td><td>         inf </td><td> True </td></tr><tr><td> A96 </td><td>  231520.418 </td><td>  3232.35949 </td><td> (1.40%) </td><td> 200000.0 </td><td>  0.00000000 </td><td>         inf </td><td> True </td></tr><tr><td> xp96 </td><td> -10.0236666 </td><td>  6.3629e-04 </td><td> (0.01%) </td><td> -10.0 </td><td>        -inf </td><td>         inf </td><td> True </td></tr><tr><td> A97 </td><td>  225992.730 </td><td>  3223.75822 </td><td> (1.43%) </td><td> 200000.0 </td><td>  0.00000000 </td><td>         inf </td><td> True </td></tr><tr><td> xp97 </td><td> -10.0236514 </td><td>  6.2541e-04 </td><td> (0.01%) </td><td> -10.0 </td><td>        -inf </td><td>         inf </td><td> True </td></tr><tr><td> A98 </td><td>  228048.184 </td><td>  3451.01309 </td><td> (1.51%) </td><td> 200000.0 </td><td>  0.00000000 </td><td>         inf </td><td> True </td></tr><tr><td> xp98 </td><td> -10.0236055 </td><td>  6.4388e-04 </td><td> (0.01%) </td><td> -10.0 </td><td>        -inf </td><td>         inf </td><td> True </td></tr><tr><td> A99 </td><td>  227460.513 </td><td>  3246.90507 </td><td> (1.43%) </td><td> 200000.0 </td><td>  0.00000000 </td><td>         inf </td><td> True </td></tr><tr><td> xp99 </td><td> -10.0237451 </td><td>  5.9158e-04 </td><td> (0.01%) </td><td> -10.0 </td><td>        -inf </td><td>         inf </td><td> True </td></tr><tr><td> A100 </td><td>  227037.741 </td><td>  3200.28314 </td><td> (1.41%) </td><td> 200000.0 </td><td>  0.00000000 </td><td>         inf </td><td> True </td></tr><tr><td> xp100 </td><td> -10.0235382 </td><td>  6.4832e-04 </td><td> (0.01%) </td><td> -10.0 </td><td>        -inf </td><td>         inf </td><td> True </td></tr><tr><td> A101 </td><td>  225057.609 </td><td>  3242.91312 </td><td> (1.44%) </td><td> 200000.0 </td><td>  0.00000000 </td><td>         inf </td><td> True </td></tr><tr><td> xp101 </td><td> -10.0237091 </td><td>  5.8421e-04 </td><td> (0.01%) </td><td> -10.0 </td><td>        -inf </td><td>         inf </td><td> True </td></tr></table><h2>Correlations (unreported correlations are < 0.100)</h2><table><tr><td>xp96</td><td>xp100</td><td>0.8975</td></tr><tr><td>xp92</td><td>xp100</td><td>0.8942</td></tr><tr><td>xp94</td><td>xp100</td><td>0.8941</td></tr><tr><td>xp95</td><td>xp100</td><td>0.8939</td></tr><tr><td>xp98</td><td>xp100</td><td>0.8931</td></tr><tr><td>xp92</td><td>xp96</td><td>0.8928</td></tr><tr><td>xp94</td><td>xp97</td><td>0.8927</td></tr><tr><td>xp97</td><td>xp100</td><td>0.8927</td></tr><tr><td>xp99</td><td>xp100</td><td>0.8913</td></tr><tr><td>xp93</td><td>xp100</td><td>0.8909</td></tr><tr><td>xp95</td><td>xp96</td><td>0.8908</td></tr><tr><td>xp93</td><td>xp94</td><td>0.8897</td></tr><tr><td>xp96</td><td>xp98</td><td>0.8895</td></tr><tr><td>xp96</td><td>xp99</td><td>0.8889</td></tr><tr><td>xp94</td><td>xp98</td><td>0.8889</td></tr><tr><td>xp94</td><td>xp95</td><td>0.8884</td></tr><tr><td>xp92</td><td>xp95</td><td>0.8876</td></tr><tr><td>xp94</td><td>xp96</td><td>0.8874</td></tr><tr><td>xp96</td><td>xp97</td><td>0.8872</td></tr><tr><td>xp95</td><td>xp98</td><td>0.8869</td></tr><tr><td>xp97</td><td>xp98</td><td>0.8869</td></tr><tr><td>xp100</td><td>xp101</td><td>0.8869</td></tr><tr><td>xp95</td><td>xp97</td><td>0.8868</td></tr><tr><td>xp93</td><td>xp97</td><td>0.8867</td></tr><tr><td>xp92</td><td>xp98</td><td>0.8864</td></tr><tr><td>xp93</td><td>xp96</td><td>0.8861</td></tr><tr><td>xp92</td><td>xp99</td><td>0.8856</td></tr><tr><td>xp95</td><td>xp99</td><td>0.8851</td></tr><tr><td>xp93</td><td>xp95</td><td>0.8850</td></tr><tr><td>xp92</td><td>xp94</td><td>0.8850</td></tr><tr><td>xp96</td><td>xp101</td><td>0.8849</td></tr><tr><td>xp93</td><td>xp98</td><td>0.8849</td></tr><tr><td>xp92</td><td>xp97</td><td>0.8845</td></tr><tr><td>xp98</td><td>xp99</td><td>0.8842</td></tr><tr><td>xp94</td><td>xp99</td><td>0.8842</td></tr><tr><td>xp92</td><td>xp93</td><td>0.8833</td></tr><tr><td>xp97</td><td>xp99</td><td>0.8833</td></tr><tr><td>xp93</td><td>xp99</td><td>0.8817</td></tr><tr><td>xp92</td><td>xp101</td><td>0.8815</td></tr><tr><td>xp95</td><td>xp101</td><td>0.8807</td></tr><tr><td>xp98</td><td>xp101</td><td>0.8797</td></tr><tr><td>xp94</td><td>xp101</td><td>0.8791</td></tr><tr><td>xp99</td><td>xp101</td><td>0.8788</td></tr><tr><td>xp97</td><td>xp101</td><td>0.8784</td></tr><tr><td>xp93</td><td>xp101</td><td>0.8770</td></tr><tr><td>R</td><td>xp94</td><td>-0.8378</td></tr><tr><td>R</td><td>xp97</td><td>-0.8186</td></tr><tr><td>R</td><td>xp93</td><td>-0.8099</td></tr><tr><td>R</td><td>xp98</td><td>-0.7962</td></tr><tr><td>R</td><td>xp100</td><td>-0.7941</td></tr><tr><td>R</td><td>xp95</td><td>-0.7897</td></tr><tr><td>R</td><td>xp99</td><td>-0.7763</td></tr><tr><td>R</td><td>xp92</td><td>-0.7715</td></tr><tr><td>R</td><td>xp96</td><td>-0.7699</td></tr><tr><td>R</td><td>xp101</td><td>-0.7681</td></tr><tr><td>sigma</td><td>xp96</td><td>0.6753</td></tr><tr><td>sigma</td><td>xp99</td><td>0.6727</td></tr><tr><td>sigma</td><td>xp101</td><td>0.6699</td></tr><tr><td>sigma</td><td>xp92</td><td>0.6678</td></tr><tr><td>sigma</td><td>xp100</td><td>0.6641</td></tr><tr><td>sigma</td><td>xp95</td><td>0.6613</td></tr><tr><td>sigma</td><td>xp98</td><td>0.6578</td></tr><tr><td>sigma</td><td>xp93</td><td>0.6435</td></tr><tr><td>sigma</td><td>xp97</td><td>0.6427</td></tr><tr><td>sigma</td><td>xp94</td><td>0.6305</td></tr><tr><td>beta</td><td>R</td><td>0.5187</td></tr><tr><td>alpha</td><td>sigma</td><td>0.3706</td></tr><tr><td>R</td><td>sigma</td><td>-0.3528</td></tr><tr><td>beta</td><td>sigma</td><td>0.2913</td></tr><tr><td>gamma</td><td>sigma</td><td>-0.2360</td></tr><tr><td>A101</td><td>xp101</td><td>0.1770</td></tr><tr><td>A99</td><td>xp99</td><td>0.1731</td></tr><tr><td>xp100</td><td>A101</td><td>0.1661</td></tr><tr><td>xp96</td><td>A101</td><td>0.1658</td></tr><tr><td>xp92</td><td>A101</td><td>0.1649</td></tr><tr><td>xp98</td><td>A101</td><td>0.1640</td></tr><tr><td>xp95</td><td>A101</td><td>0.1639</td></tr><tr><td>xp94</td><td>A101</td><td>0.1635</td></tr><tr><td>xp97</td><td>A101</td><td>0.1631</td></tr><tr><td>xp99</td><td>A101</td><td>0.1628</td></tr><tr><td>xp93</td><td>A101</td><td>0.1628</td></tr><tr><td>A99</td><td>xp100</td><td>0.1625</td></tr><tr><td>xp96</td><td>A99</td><td>0.1622</td></tr><tr><td>xp92</td><td>A99</td><td>0.1614</td></tr><tr><td>xp98</td><td>A99</td><td>0.1604</td></tr><tr><td>xp95</td><td>A99</td><td>0.1603</td></tr><tr><td>xp94</td><td>A99</td><td>0.1598</td></tr><tr><td>xp97</td><td>A99</td><td>0.1594</td></tr><tr><td>xp93</td><td>A99</td><td>0.1592</td></tr><tr><td>A99</td><td>xp101</td><td>0.1583</td></tr><tr><td>A95</td><td>xp95</td><td>0.1549</td></tr><tr><td>R</td><td>A101</td><td>-0.1527</td></tr><tr><td>R</td><td>A99</td><td>-0.1496</td></tr><tr><td>alpha</td><td>xp101</td><td>0.1431</td></tr><tr><td>A95</td><td>xp96</td><td>0.1423</td></tr><tr><td>A95</td><td>xp100</td><td>0.1419</td></tr><tr><td>xp92</td><td>A95</td><td>0.1414</td></tr><tr><td>alpha</td><td>xp99</td><td>0.1414</td></tr><tr><td>A95</td><td>xp98</td><td>0.1398</td></tr><tr><td>A95</td><td>xp99</td><td>0.1392</td></tr><tr><td>A95</td><td>xp101</td><td>0.1385</td></tr><tr><td>A95</td><td>xp97</td><td>0.1382</td></tr><tr><td>xp93</td><td>A95</td><td>0.1381</td></tr><tr><td>xp94</td><td>A95</td><td>0.1380</td></tr><tr><td>A93</td><td>xp93</td><td>0.1341</td></tr><tr><td>alpha</td><td>xp93</td><td>0.1325</td></tr><tr><td>alpha</td><td>xp97</td><td>0.1324</td></tr><tr><td>alpha</td><td>xp95</td><td>0.1313</td></tr><tr><td>alpha</td><td>xp98</td><td>0.1280</td></tr><tr><td>alpha</td><td>xp94</td><td>0.1256</td></tr><tr><td>A93</td><td>xp96</td><td>0.1246</td></tr><tr><td>A93</td><td>xp100</td><td>0.1241</td></tr><tr><td>xp92</td><td>A93</td><td>0.1237</td></tr><tr><td>R</td><td>A95</td><td>-0.1228</td></tr><tr><td>A93</td><td>xp98</td><td>0.1222</td></tr><tr><td>A93</td><td>xp95</td><td>0.1222</td></tr><tr><td>alpha</td><td>xp92</td><td>0.1217</td></tr><tr><td>A93</td><td>xp99</td><td>0.1217</td></tr><tr><td>A93</td><td>xp101</td><td>0.1211</td></tr><tr><td>alpha</td><td>xp96</td><td>0.1211</td></tr><tr><td>A93</td><td>xp97</td><td>0.1205</td></tr><tr><td>alpha</td><td>xp100</td><td>0.1202</td></tr><tr><td>A93</td><td>xp94</td><td>0.1202</td></tr><tr><td>A92</td><td>R</td><td>-0.1127</td></tr><tr><td>A92</td><td>xp92</td><td>0.1116</td></tr><tr><td>A97</td><td>xp97</td><td>0.1071</td></tr><tr><td>R</td><td>A93</td><td>-0.1053</td></tr><tr><td>beta</td><td>xp94</td><td>-0.1035</td></tr><tr><td>A92</td><td>xp94</td><td>0.1025</td></tr><tr><td>A92</td><td>xp97</td><td>0.1012</td></tr><tr><td>A92</td><td>xp100</td><td>0.1008</td></tr><tr><td>A92</td><td>xp93</td><td>0.1003</td></tr><tr><td>A92</td><td>xp98</td><td>0.1003</td></tr></table>"
      ],
      "text/plain": [
       "<lmfit.minimizer.MinimizerResult at 0x2181368d308>"
      ]
     },
     "execution_count": 37,
     "metadata": {},
     "output_type": "execute_result"
    }
   ],
   "source": [
    "# report_fit(result)\n",
    "xwFit10[0].result"
   ]
  },
  {
   "cell_type": "markdown",
   "metadata": {
    "Collapsed": "false",
    "hidden": true
   },
   "source": [
    "#### Plot fit result"
   ]
  },
  {
   "cell_type": "code",
   "execution_count": 154,
   "metadata": {
    "Collapsed": "false",
    "hidden": true,
    "scrolled": true
   },
   "outputs": [
    {
     "name": "stdout",
     "output_type": "stream",
     "text": [
      "data_range index = 97;                   plot_range index = 97\n"
     ]
    }
   ],
   "source": [
    "idx = 2\n",
    "plt_idx = 4\n",
    "for h in [6, 8, 10]:\n",
    "    plotKey = f'{h}_10'\n",
    "    xwFit[plotKey][idx].plot_range = xwFit[plotKey][idx].data_range[-plt_idx-1:-plt_idx]\n",
    "    xwFit[plotKey][idx].plotMultipleFits(title=f\"Peak ({h} {h} 0)\")"
   ]
  },
  {
   "cell_type": "markdown",
   "metadata": {
    "Collapsed": "true",
    "hidden": true
   },
   "source": [
    "#### Create Parameters object from result of fit of (8 8 0) peak"
   ]
  },
  {
   "cell_type": "code",
   "execution_count": 113,
   "metadata": {
    "hidden": true
   },
   "outputs": [
    {
     "name": "stdout",
     "output_type": "stream",
     "text": [
      "<Parameter 'alpha', value=125.12346204356733 (fixed), bounds=[0:inf]>\n",
      "<Parameter 'beta', value=1e-10 (fixed), bounds=[0:inf]>\n",
      "<Parameter 'R', value=1e-10 (fixed), bounds=[0:inf]>\n",
      "<Parameter 'gamma', value=0.000236804323940909 (fixed), bounds=[0:inf]>\n",
      "<Parameter 'sigma', value=0.004901834233885571 (fixed), bounds=[0:inf]>\n"
     ]
    }
   ],
   "source": [
    "xfit8_params = cp.copy(pvic_params)\n",
    "sharedParams = ['alpha', 'beta', 'R', 'gamma', 'sigma']\n",
    "for prm_key in sharedParams:\n",
    "    xfit8_params[prm_key] = xwFit['8_10'][2].result.params[prm_key]"
   ]
  },
  {
   "cell_type": "code",
   "execution_count": 23,
   "metadata": {
    "collapsed": true,
    "hidden": true
   },
   "outputs": [
    {
     "ename": "NameError",
     "evalue": "name 'xfit8_params' is not defined",
     "output_type": "error",
     "traceback": [
      "Traceback \u001b[1;36m(most recent call last)\u001b[0m:\n",
      "\u001b[1;36m  File \u001b[1;32m\"<ipython-input-23-5bc963a3c3a2>\"\u001b[1;36m, line \u001b[1;32m5\u001b[1;36m, in \u001b[1;35m<module>\u001b[1;36m\u001b[0m\n\u001b[1;33m    xfit8_params['xp'].value = peak_pos\u001b[0m\n",
      "\u001b[1;31mNameError\u001b[0m\u001b[1;31m:\u001b[0m name 'xfit8_params' is not defined\n"
     ]
    }
   ],
   "source": [
    "for h in range(6,11,2):\n",
    "    nSpec = 10\n",
    "    fitKey = f\"{h}_{nSpec}\"\n",
    "    peak_pos = -float(h)\n",
    "    xfit8_params['xp'].value = peak_pos\n",
    "    xwFit[fitKey] = initXpvicFit(nData, nSpec, xfit8_params, peak_pos, fit_intervals[h])\n",
    "    xwFit[fitKey][0].performFit(weights=xwFit[fitKey][0].weights)\n",
    "#     xwFit[fitKey][0].performFit()"
   ]
  },
  {
   "cell_type": "markdown",
   "metadata": {},
   "source": [
    "## Fit data with 2 pVIC functions"
   ]
  },
  {
   "cell_type": "markdown",
   "metadata": {
    "Collapsed": "false"
   },
   "source": [
    "#### Next steps as of 2020-05-01\n",
    "* Email Jack and Jiajia to ask whether or not it makes sense to find different values of shared parameters for three different peaks?\n",
    "* Extend to fitting with two pVIC functions at all fields\n",
    "    - Include multiple-function fit into xpvic_fit class\n",
    "* In the plotMultipleFits method, allow for plotting data and fitting curve on a range of [-.15 +.15], showing with different symbols the data points that where not included for the fit\n",
    "* Extract splitting"
   ]
  },
  {
   "cell_type": "markdown",
   "metadata": {},
   "source": [
    "### Fit functions"
   ]
  },
  {
   "cell_type": "markdown",
   "metadata": {},
   "source": [
    "Is the npvicRefParams function already included in the InitParams method of the xpvic_fit class?"
   ]
  },
  {
   "cell_type": "code",
   "execution_count": 190,
   "metadata": {},
   "outputs": [],
   "source": [
    "def npvicRefParams(pvic_params, fit_params):\n",
    "\n",
    "    ref_params = cp.copy(pvic_params)\n",
    "    fit_params_keys = list(fit_params.keys())\n",
    "\n",
    "    for index, key in enumerate(ref_params.keys()):\n",
    "        if key in fit_params_keys[index]:\n",
    "            ref_params[key] = fit_params[fit_params_keys[index]]# make a copy instead?\n",
    "    \n",
    "    return ref_params"
   ]
  },
  {
   "cell_type": "code",
   "execution_count": 224,
   "metadata": {},
   "outputs": [],
   "source": []
  },
  {
   "cell_type": "code",
   "execution_count": 236,
   "metadata": {},
   "outputs": [],
   "source": []
  },
  {
   "cell_type": "markdown",
   "metadata": {},
   "source": [
    "### Fit single curve\n",
    "Adapt the following to make it work with xpvic_fit objects"
   ]
  },
  {
   "cell_type": "code",
   "execution_count": 235,
   "metadata": {
    "collapsed": true
   },
   "outputs": [
    {
     "data": {
      "text/plain": [
       "{6: Parameters([('A0_0',\n",
       "              <Parameter 'A0_0', value=95365.96395073207, bounds=[-inf:inf]>),\n",
       "             ('alpha',\n",
       "              <Parameter 'alpha', value=204.28906356250477 (fixed), bounds=[0:inf]>),\n",
       "             ('beta', <Parameter 'beta', value=1e-10 (fixed), bounds=[0:inf]>),\n",
       "             ('R', <Parameter 'R', value=1e-10 (fixed), bounds=[0:inf]>),\n",
       "             ('gamma',\n",
       "              <Parameter 'gamma', value=0.0004037995499786007 (fixed), bounds=[0:inf]>),\n",
       "             ('sigma',\n",
       "              <Parameter 'sigma', value=0.005763616078068523 (fixed), bounds=[0:inf]>),\n",
       "             ('k', <Parameter 'k', value=0.05 (fixed), bounds=[0:inf]>),\n",
       "             ('xp0_0',\n",
       "              <Parameter 'xp0_0', value=-5.997675425357475, bounds=[-inf:inf]>),\n",
       "             ('A1_0',\n",
       "              <Parameter 'A1_0', value=95365.96395073207, bounds=[-inf:inf]>),\n",
       "             ('xp1_0',\n",
       "              <Parameter 'xp1_0', value=-6.027675425357474, bounds=[-inf:inf]>)]),\n",
       " 8: Parameters([('A0_0',\n",
       "              <Parameter 'A0_0', value=103451.53264073111, bounds=[-inf:inf]>),\n",
       "             ('alpha',\n",
       "              <Parameter 'alpha', value=125.12346204356733 (fixed), bounds=[0:inf]>),\n",
       "             ('beta', <Parameter 'beta', value=1e-10 (fixed), bounds=[0:inf]>),\n",
       "             ('R', <Parameter 'R', value=1e-10 (fixed), bounds=[0:inf]>),\n",
       "             ('gamma',\n",
       "              <Parameter 'gamma', value=0.000236804323940909 (fixed), bounds=[0:inf]>),\n",
       "             ('sigma',\n",
       "              <Parameter 'sigma', value=0.004901834233885571 (fixed), bounds=[0:inf]>),\n",
       "             ('k', <Parameter 'k', value=0.05 (fixed), bounds=[0:inf]>),\n",
       "             ('xp0_0',\n",
       "              <Parameter 'xp0_0', value=-8.002981792335948, bounds=[-inf:inf]>),\n",
       "             ('A1_0',\n",
       "              <Parameter 'A1_0', value=103451.53264073111, bounds=[-inf:inf]>),\n",
       "             ('xp1_0',\n",
       "              <Parameter 'xp1_0', value=-8.03298179233595, bounds=[-inf:inf]>)]),\n",
       " 10: Parameters([('A0_0',\n",
       "              <Parameter 'A0_0', value=165471.11772710024, bounds=[-inf:inf]>),\n",
       "             ('alpha',\n",
       "              <Parameter 'alpha', value=95.43743901642515 (fixed), bounds=[0:inf]>),\n",
       "             ('beta', <Parameter 'beta', value=1e-10 (fixed), bounds=[0:inf]>),\n",
       "             ('R', <Parameter 'R', value=1e-10 (fixed), bounds=[0:inf]>),\n",
       "             ('gamma',\n",
       "              <Parameter 'gamma', value=0.0004057899453484559 (fixed), bounds=[0:inf]>),\n",
       "             ('sigma',\n",
       "              <Parameter 'sigma', value=0.004056379995399428 (fixed), bounds=[0:inf]>),\n",
       "             ('k', <Parameter 'k', value=0.05 (fixed), bounds=[0:inf]>),\n",
       "             ('xp0_0',\n",
       "              <Parameter 'xp0_0', value=-10.008559527972148, bounds=[-inf:inf]>),\n",
       "             ('A1_0',\n",
       "              <Parameter 'A1_0', value=165471.11772710024, bounds=[-inf:inf]>),\n",
       "             ('xp1_0',\n",
       "              <Parameter 'xp1_0', value=-10.038559527972149, bounds=[-inf:inf]>)])}"
      ]
     },
     "execution_count": 235,
     "metadata": {},
     "output_type": "execute_result"
    }
   ],
   "source": [
    "n = 2\n",
    "data_range = range(1)\n",
    "plt_idx = data_range[0]\n",
    "\n",
    "if 'fit2_params' not in globals():\n",
    "    fit2_params = {}\n",
    "\n",
    "for h in [6, 8, 10]:\n",
    "    if not hasattr(fit2_params, f'{h}'):\n",
    "        ref_params = npvicRefParams(pvic_params, xwFit[f'{h}_10'][2].result.params)\n",
    "        fit2_params[h] = npvicInitParams(ref_params, plt_idx, n)\n",
    "\n",
    "fit2_params#[h]"
   ]
  },
  {
   "cell_type": "code",
   "execution_count": 25,
   "metadata": {
    "scrolled": true
   },
   "outputs": [
    {
     "data": {
      "text/plain": [
       "[<matplotlib.lines.Line2D at 0x198c16d21c8>]"
      ]
     },
     "execution_count": 25,
     "metadata": {},
     "output_type": "execute_result"
    }
   ],
   "source": [
    "fig, ax = plt.subplots()\n",
    "plt.plot(X,Y)"
   ]
  },
  {
   "cell_type": "code",
   "execution_count": 237,
   "metadata": {},
   "outputs": [
    {
     "data": {
      "text/plain": [
       "1140    13718.130710\n",
       "1141    51533.707244\n",
       "1142    40302.654359\n",
       "1143    34960.672981\n",
       "1144    -2771.800622\n",
       "            ...     \n",
       "1255    33664.504853\n",
       "1256    24226.857090\n",
       "1257    -3997.980998\n",
       "1258    -8473.234513\n",
       "1259    87049.875993\n",
       "Name: I, Length: 120, dtype: float64"
      ]
     },
     "execution_count": 237,
     "metadata": {},
     "output_type": "execute_result"
    }
   ],
   "source": [
    "n = 2\n",
    "h = 10\n",
    "\n",
    "data_selection = xwFit[f'{h}_10'][plt_idx].xdata_selection\n",
    "X = nData.spectra[plt_idx].hh0[data_selection]\n",
    "Y = nData.spectra[plt_idx].I[data_selection]\n",
    "\n",
    "npvicResidual(fit2_params[h], X, Y, data_range, n)"
   ]
  },
  {
   "cell_type": "markdown",
   "metadata": {},
   "source": [
    "let's minimize!"
   ]
  },
  {
   "cell_type": "code",
   "execution_count": 238,
   "metadata": {},
   "outputs": [],
   "source": [
    "result = minimize(npvicResidual, fit2_params[h], args=(X,Y,data_range,n))"
   ]
  },
  {
   "cell_type": "code",
   "execution_count": 239,
   "metadata": {},
   "outputs": [
    {
     "data": {
      "text/html": [
       "<table><tr><th> name </th><th> value </th><th> standard error </th><th> relative error </th><th> initial value </th><th> min </th><th> max </th><th> vary </th></tr><tr><td> A0_0 </td><td>  254469.996 </td><td>  2448.48518 </td><td> (0.96%) </td><td> 165471.11772710024 </td><td>        -inf </td><td>         inf </td><td> True </td></tr><tr><td> alpha </td><td>  95.4374390 </td><td>  0.00000000 </td><td> (0.00%) </td><td> 95.43743901642515 </td><td>  0.00000000 </td><td>         inf </td><td> False </td></tr><tr><td> beta </td><td>  1.0000e-10 </td><td>  0.00000000 </td><td> (0.00%) </td><td> 1e-10 </td><td>  0.00000000 </td><td>         inf </td><td> False </td></tr><tr><td> R </td><td>  1.0000e-10 </td><td>  0.00000000 </td><td> (0.00%) </td><td> 1e-10 </td><td>  0.00000000 </td><td>         inf </td><td> False </td></tr><tr><td> gamma </td><td>  4.0579e-04 </td><td>  0.00000000 </td><td> (0.00%) </td><td> 0.0004057899453484559 </td><td>  0.00000000 </td><td>         inf </td><td> False </td></tr><tr><td> sigma </td><td>  0.00405638 </td><td>  0.00000000 </td><td> (0.00%) </td><td> 0.004056379995399428 </td><td>  0.00000000 </td><td>         inf </td><td> False </td></tr><tr><td> k </td><td>  0.05000000 </td><td>  0.00000000 </td><td> (0.00%) </td><td> 0.05 </td><td>  0.00000000 </td><td>         inf </td><td> False </td></tr><tr><td> xp0_0 </td><td> -9.99579343 </td><td>  1.9962e-04 </td><td> (0.00%) </td><td> -10.008559527972148 </td><td>        -inf </td><td>         inf </td><td> True </td></tr><tr><td> A1_0 </td><td>  132593.297 </td><td>  2448.31491 </td><td> (1.85%) </td><td> 165471.11772710024 </td><td>        -inf </td><td>         inf </td><td> True </td></tr><tr><td> xp1_0 </td><td> -10.0527314 </td><td>  3.8319e-04 </td><td> (0.00%) </td><td> -10.038559527972149 </td><td>        -inf </td><td>         inf </td><td> True </td></tr></table>"
      ],
      "text/plain": [
       "Parameters([('A0_0',\n",
       "             <Parameter 'A0_0', value=254469.99604798626 +/- 2.45e+03, bounds=[-inf:inf]>),\n",
       "            ('alpha',\n",
       "             <Parameter 'alpha', value=95.43743901642515 (fixed), bounds=[0:inf]>),\n",
       "            ('beta', <Parameter 'beta', value=1e-10 (fixed), bounds=[0:inf]>),\n",
       "            ('R', <Parameter 'R', value=1e-10 (fixed), bounds=[0:inf]>),\n",
       "            ('gamma',\n",
       "             <Parameter 'gamma', value=0.0004057899453484559 (fixed), bounds=[0:inf]>),\n",
       "            ('sigma',\n",
       "             <Parameter 'sigma', value=0.004056379995399428 (fixed), bounds=[0:inf]>),\n",
       "            ('k', <Parameter 'k', value=0.05 (fixed), bounds=[0:inf]>),\n",
       "            ('xp0_0',\n",
       "             <Parameter 'xp0_0', value=-9.995793430621566 +/- 0.0002, bounds=[-inf:inf]>),\n",
       "            ('A1_0',\n",
       "             <Parameter 'A1_0', value=132593.29715447803 +/- 2.45e+03, bounds=[-inf:inf]>),\n",
       "            ('xp1_0',\n",
       "             <Parameter 'xp1_0', value=-10.052731404143577 +/- 0.000383, bounds=[-inf:inf]>)])"
      ]
     },
     "execution_count": 239,
     "metadata": {},
     "output_type": "execute_result"
    }
   ],
   "source": [
    "result.params"
   ]
  }
 ],
 "metadata": {
  "kernelspec": {
   "display_name": "Python 3 (Spyder)",
   "language": "python3",
   "name": "python3"
  },
  "language_info": {
   "codemirror_mode": {
    "name": "ipython",
    "version": 3
   },
   "file_extension": ".py",
   "mimetype": "text/x-python",
   "name": "python",
   "nbconvert_exporter": "python",
   "pygments_lexer": "ipython3",
   "version": "3.7.7"
  },
  "varInspector": {
   "cols": {
    "lenName": 16,
    "lenType": 16,
    "lenVar": 40
   },
   "kernels_config": {
    "python": {
     "delete_cmd_postfix": "",
     "delete_cmd_prefix": "del ",
     "library": "var_list.py",
     "varRefreshCmd": "print(var_dic_list())"
    },
    "r": {
     "delete_cmd_postfix": ") ",
     "delete_cmd_prefix": "rm(",
     "library": "var_list.r",
     "varRefreshCmd": "cat(var_dic_list()) "
    }
   },
   "types_to_exclude": [
    "module",
    "function",
    "builtin_function_or_method",
    "instance",
    "_Feature"
   ],
   "window_display": false
  }
 },
 "nbformat": 4,
 "nbformat_minor": 4
}
