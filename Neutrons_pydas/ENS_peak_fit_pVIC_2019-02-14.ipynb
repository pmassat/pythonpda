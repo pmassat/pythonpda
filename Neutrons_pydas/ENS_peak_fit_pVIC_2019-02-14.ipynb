{
 "cells": [
  {
   "cell_type": "markdown",
   "metadata": {
    "Collapsed": "false"
   },
   "source": [
    "# TmVO4 neutrons data analysis\n",
    "Fit neutrons diffraction peaks measured on TmVO4 at SNS on 2019-02-14 in order to extract the orthorhombic distortion as a function of magnetic field"
   ]
  },
  {
   "cell_type": "markdown",
   "metadata": {
    "Collapsed": "false"
   },
   "source": [
    "## Import modules"
   ]
  },
  {
   "cell_type": "code",
   "execution_count": 21,
   "metadata": {
    "Collapsed": "false"
   },
   "outputs": [],
   "source": [
    "from mpl_toolkits.mplot3d import Axes3D# for 3D plotting\n",
    "import matplotlib.tri as mtri# for triangulation of unevenly separated data, like our magnetic field data\n",
    "\n",
    "import copy as cp, numpy as np, pandas as pd, pickle, os, re\n",
    "import matplotlib\n",
    "from matplotlib import cm, pyplot as plt, rcsetup, rc, rcParams# import matplotlib.pyplot as plt\n",
    "# cm stands for colormap\n",
    "from matplotlib.ticker import LogLocator, LinearLocator, FormatStrFormatter\n",
    "from scipy.interpolate import griddata\n",
    "from scipy.special import erfc, exp1\n",
    "\n",
    "from lmfit import Model\n",
    "# import pytest"
   ]
  },
  {
   "cell_type": "markdown",
   "metadata": {
    "Collapsed": "false"
   },
   "source": [
    "### Change default plotting parameters\n",
    "see https://matplotlib.org/3.1.0/api/_as_gen/matplotlib.pyplot.figure.html"
   ]
  },
  {
   "cell_type": "code",
   "execution_count": 22,
   "metadata": {
    "Collapsed": "false"
   },
   "outputs": [],
   "source": [
    "rcParams[\"figure.figsize\"] = np.multiply([6.4, 4.8],0.5)# default is [6.4, 4.8]"
   ]
  },
  {
   "cell_type": "markdown",
   "metadata": {
    "Collapsed": "false"
   },
   "source": [
    "## Import data"
   ]
  },
  {
   "cell_type": "markdown",
   "metadata": {
    "Collapsed": "false"
   },
   "source": [
    "### Coarse data"
   ]
  },
  {
   "cell_type": "code",
   "execution_count": 3,
   "metadata": {
    "Collapsed": "false"
   },
   "outputs": [
    {
     "data": {
      "text/html": [
       "<div>\n",
       "<style scoped>\n",
       "    .dataframe tbody tr th:only-of-type {\n",
       "        vertical-align: middle;\n",
       "    }\n",
       "\n",
       "    .dataframe tbody tr th {\n",
       "        vertical-align: top;\n",
       "    }\n",
       "\n",
       "    .dataframe thead th {\n",
       "        text-align: right;\n",
       "    }\n",
       "</style>\n",
       "<table border=\"1\" class=\"dataframe\">\n",
       "  <thead>\n",
       "    <tr style=\"text-align: right;\">\n",
       "      <th></th>\n",
       "      <th>filename</th>\n",
       "      <th>H (T)</th>\n",
       "      <th>T (K)</th>\n",
       "      <th>spectra</th>\n",
       "    </tr>\n",
       "  </thead>\n",
       "  <tbody>\n",
       "    <tr>\n",
       "      <th>0</th>\n",
       "      <td>p6K_1T.txt</td>\n",
       "      <td>1.00</td>\n",
       "      <td>0.6</td>\n",
       "      <td>hh0          I        dI\n",
       "0    -11.99...</td>\n",
       "    </tr>\n",
       "    <tr>\n",
       "      <th>1</th>\n",
       "      <td>p6K_1T_new.txt</td>\n",
       "      <td>1.00</td>\n",
       "      <td>0.6</td>\n",
       "      <td>hh0          I        dI\n",
       "0    -11.99...</td>\n",
       "    </tr>\n",
       "    <tr>\n",
       "      <th>2</th>\n",
       "      <td>p6K_p05T.txt</td>\n",
       "      <td>0.05</td>\n",
       "      <td>0.6</td>\n",
       "      <td>hh0         I       dI\n",
       "0    -11.9975...</td>\n",
       "    </tr>\n",
       "    <tr>\n",
       "      <th>3</th>\n",
       "      <td>p6K_p4T.txt</td>\n",
       "      <td>0.40</td>\n",
       "      <td>0.6</td>\n",
       "      <td>hh0         I        dI\n",
       "0    -11.997...</td>\n",
       "    </tr>\n",
       "    <tr>\n",
       "      <th>4</th>\n",
       "      <td>p6K_p5T.txt</td>\n",
       "      <td>0.50</td>\n",
       "      <td>0.6</td>\n",
       "      <td>hh0          I        dI\n",
       "0    -11.99...</td>\n",
       "    </tr>\n",
       "    <tr>\n",
       "      <th>5</th>\n",
       "      <td>p6K_p6T.txt</td>\n",
       "      <td>0.60</td>\n",
       "      <td>0.6</td>\n",
       "      <td>hh0          I        dI\n",
       "0    -11.99...</td>\n",
       "    </tr>\n",
       "    <tr>\n",
       "      <th>6</th>\n",
       "      <td>p6K_p77T.txt</td>\n",
       "      <td>0.77</td>\n",
       "      <td>0.6</td>\n",
       "      <td>hh0          I        dI\n",
       "0    -11.99...</td>\n",
       "    </tr>\n",
       "    <tr>\n",
       "      <th>7</th>\n",
       "      <td>p6K_p7T.txt</td>\n",
       "      <td>0.70</td>\n",
       "      <td>0.6</td>\n",
       "      <td>hh0          I        dI\n",
       "0    -11.99...</td>\n",
       "    </tr>\n",
       "    <tr>\n",
       "      <th>8</th>\n",
       "      <td>p6K_p83T.txt</td>\n",
       "      <td>0.83</td>\n",
       "      <td>0.6</td>\n",
       "      <td>hh0          I        dI\n",
       "0    -11.99...</td>\n",
       "    </tr>\n",
       "    <tr>\n",
       "      <th>9</th>\n",
       "      <td>p6K_p97T.txt</td>\n",
       "      <td>0.97</td>\n",
       "      <td>0.6</td>\n",
       "      <td>hh0          I        dI\n",
       "0    -11.99...</td>\n",
       "    </tr>\n",
       "    <tr>\n",
       "      <th>10</th>\n",
       "      <td>p6K_p9T.txt</td>\n",
       "      <td>0.90</td>\n",
       "      <td>0.6</td>\n",
       "      <td>hh0          I        dI\n",
       "0    -11.99...</td>\n",
       "    </tr>\n",
       "  </tbody>\n",
       "</table>\n",
       "</div>"
      ],
      "text/plain": [
       "          filename  H (T)  T (K)  \\\n",
       "0       p6K_1T.txt   1.00    0.6   \n",
       "1   p6K_1T_new.txt   1.00    0.6   \n",
       "2     p6K_p05T.txt   0.05    0.6   \n",
       "3      p6K_p4T.txt   0.40    0.6   \n",
       "4      p6K_p5T.txt   0.50    0.6   \n",
       "5      p6K_p6T.txt   0.60    0.6   \n",
       "6     p6K_p77T.txt   0.77    0.6   \n",
       "7      p6K_p7T.txt   0.70    0.6   \n",
       "8     p6K_p83T.txt   0.83    0.6   \n",
       "9     p6K_p97T.txt   0.97    0.6   \n",
       "10     p6K_p9T.txt   0.90    0.6   \n",
       "\n",
       "                                              spectra  \n",
       "0             hh0          I        dI\n",
       "0    -11.99...  \n",
       "1             hh0          I        dI\n",
       "0    -11.99...  \n",
       "2             hh0         I       dI\n",
       "0    -11.9975...  \n",
       "3             hh0         I        dI\n",
       "0    -11.997...  \n",
       "4             hh0          I        dI\n",
       "0    -11.99...  \n",
       "5             hh0          I        dI\n",
       "0    -11.99...  \n",
       "6             hh0          I        dI\n",
       "0    -11.99...  \n",
       "7             hh0          I        dI\n",
       "0    -11.99...  \n",
       "8             hh0          I        dI\n",
       "0    -11.99...  \n",
       "9             hh0          I        dI\n",
       "0    -11.99...  \n",
       "10            hh0          I        dI\n",
       "0    -11.99...  "
      ]
     },
     "execution_count": 3,
     "metadata": {},
     "output_type": "execute_result"
    }
   ],
   "source": [
    "tempPath = r'C:\\Users\\Pierre\\Desktop\\Postdoc\\TmVO4\\TmVO4_neutrons\\2019-02_ORNL_Corelli\\2019-02-14'\n",
    "os.chdir(tempPath)\n",
    "(_, _, filenames) = next(os.walk(tempPath))# the walk() function lists the content of the directory that it is given as argument,\n",
    "# and of its subdirectories; the next() function returns the next output of the walk() function;\n",
    "# when used only once, it returns only the first output which is the content of the parent directory, \n",
    "# listed as a tuple of the form (dirpath, dirnames, filenames)\n",
    "filenames = [filename for filename in filenames if 'p6K_' in filename]# keep only files that match the string pattern of datafilestempList = [None]*len(filenames)# Pre-allocate temporary list to store the data that will then be converted into a Pandas DataFrame\n",
    "\n",
    "tempList = [None]*len(filenames)\n",
    "for idx, filename in enumerate(filenames):# For each data file\n",
    "    H = float(re.split('p6K_(\\w*)T\\w*.txt',filenames[idx])[1].replace('p','.'))# Extract value of magnetic field from filename\n",
    "    tempDF = pd.read_csv(filenames[idx],names=[\"hh0\",\"I\",\"dI\"],skiprows=2,delimiter=',')# import data as a Pandas DataFrame\n",
    "    tempList[idx] = {'filename': filenames[idx],# Store into a dictionary, which is itself an element of tempList: the filename,\n",
    "                   'H (T)': H,# value of magnetic field,\n",
    "                   'T (K)': 0.6,# temperature,\n",
    "                   'spectra': tempDF# and data stored as Pandas dataframe\n",
    "                   }\n",
    "coarseData = pd.DataFrame(tempList)# Convert the list of dictionaries into a Pandas DataFrame\n",
    "del idx, H, tempPath, filename, filenames, tempList, tempDF# delete temporary variables after use \n",
    "coarseData# Show the resulting DataFrame"
   ]
  },
  {
   "cell_type": "code",
   "execution_count": 4,
   "metadata": {
    "Collapsed": "false"
   },
   "outputs": [
    {
     "data": {
      "text/html": [
       "<div>\n",
       "<style scoped>\n",
       "    .dataframe tbody tr th:only-of-type {\n",
       "        vertical-align: middle;\n",
       "    }\n",
       "\n",
       "    .dataframe tbody tr th {\n",
       "        vertical-align: top;\n",
       "    }\n",
       "\n",
       "    .dataframe thead th {\n",
       "        text-align: right;\n",
       "    }\n",
       "</style>\n",
       "<table border=\"1\" class=\"dataframe\">\n",
       "  <thead>\n",
       "    <tr style=\"text-align: right;\">\n",
       "      <th></th>\n",
       "      <th>hh0</th>\n",
       "      <th>I</th>\n",
       "      <th>dI</th>\n",
       "    </tr>\n",
       "  </thead>\n",
       "  <tbody>\n",
       "    <tr>\n",
       "      <th>0</th>\n",
       "      <td>-11.9975</td>\n",
       "      <td>142028.0</td>\n",
       "      <td>52309.7</td>\n",
       "    </tr>\n",
       "    <tr>\n",
       "      <th>1</th>\n",
       "      <td>-11.9925</td>\n",
       "      <td>220372.0</td>\n",
       "      <td>62925.4</td>\n",
       "    </tr>\n",
       "    <tr>\n",
       "      <th>2</th>\n",
       "      <td>-11.9875</td>\n",
       "      <td>220002.0</td>\n",
       "      <td>62818.9</td>\n",
       "    </tr>\n",
       "    <tr>\n",
       "      <th>3</th>\n",
       "      <td>-11.9825</td>\n",
       "      <td>518428.0</td>\n",
       "      <td>92939.8</td>\n",
       "    </tr>\n",
       "    <tr>\n",
       "      <th>4</th>\n",
       "      <td>-11.9775</td>\n",
       "      <td>817317.0</td>\n",
       "      <td>127501.0</td>\n",
       "    </tr>\n",
       "  </tbody>\n",
       "</table>\n",
       "</div>"
      ],
      "text/plain": [
       "       hh0         I        dI\n",
       "0 -11.9975  142028.0   52309.7\n",
       "1 -11.9925  220372.0   62925.4\n",
       "2 -11.9875  220002.0   62818.9\n",
       "3 -11.9825  518428.0   92939.8\n",
       "4 -11.9775  817317.0  127501.0"
      ]
     },
     "execution_count": 4,
     "metadata": {},
     "output_type": "execute_result"
    }
   ],
   "source": [
    "coarseData.spectra[3].head()# Check the content of individual datasets after importation"
   ]
  },
  {
   "cell_type": "markdown",
   "metadata": {
    "Collapsed": "false"
   },
   "source": [
    "### Fine data"
   ]
  },
  {
   "cell_type": "code",
   "execution_count": 5,
   "metadata": {
    "Collapsed": "false"
   },
   "outputs": [
    {
     "data": {
      "text/html": [
       "<div>\n",
       "<style scoped>\n",
       "    .dataframe tbody tr th:only-of-type {\n",
       "        vertical-align: middle;\n",
       "    }\n",
       "\n",
       "    .dataframe tbody tr th {\n",
       "        vertical-align: top;\n",
       "    }\n",
       "\n",
       "    .dataframe thead th {\n",
       "        text-align: right;\n",
       "    }\n",
       "</style>\n",
       "<table border=\"1\" class=\"dataframe\">\n",
       "  <thead>\n",
       "    <tr style=\"text-align: right;\">\n",
       "      <th></th>\n",
       "      <th>File #</th>\n",
       "      <th>T (K)</th>\n",
       "      <th>H (T)</th>\n",
       "      <th>Proton charge</th>\n",
       "    </tr>\n",
       "  </thead>\n",
       "  <tbody>\n",
       "    <tr>\n",
       "      <th>0</th>\n",
       "      <td>88631</td>\n",
       "      <td>0.605973</td>\n",
       "      <td>0.000000</td>\n",
       "      <td>1.312139</td>\n",
       "    </tr>\n",
       "    <tr>\n",
       "      <th>1</th>\n",
       "      <td>88632</td>\n",
       "      <td>0.613334</td>\n",
       "      <td>0.049998</td>\n",
       "      <td>0.800119</td>\n",
       "    </tr>\n",
       "    <tr>\n",
       "      <th>2</th>\n",
       "      <td>88633</td>\n",
       "      <td>0.605727</td>\n",
       "      <td>0.099996</td>\n",
       "      <td>0.083534</td>\n",
       "    </tr>\n",
       "    <tr>\n",
       "      <th>3</th>\n",
       "      <td>88634</td>\n",
       "      <td>0.625493</td>\n",
       "      <td>0.099996</td>\n",
       "      <td>0.800739</td>\n",
       "    </tr>\n",
       "    <tr>\n",
       "      <th>4</th>\n",
       "      <td>88635</td>\n",
       "      <td>0.618220</td>\n",
       "      <td>0.150005</td>\n",
       "      <td>0.801294</td>\n",
       "    </tr>\n",
       "  </tbody>\n",
       "</table>\n",
       "</div>"
      ],
      "text/plain": [
       "   File #     T (K)     H (T)  Proton charge\n",
       "0   88631  0.605973  0.000000       1.312139\n",
       "1   88632  0.613334  0.049998       0.800119\n",
       "2   88633  0.605727  0.099996       0.083534\n",
       "3   88634  0.625493  0.099996       0.800739\n",
       "4   88635  0.618220  0.150005       0.801294"
      ]
     },
     "execution_count": 5,
     "metadata": {},
     "output_type": "execute_result"
    }
   ],
   "source": [
    "tempPath = r'C:\\Users\\Pierre\\Desktop\\Postdoc\\TmVO4\\TmVO4_neutrons\\2019-02_ORNL_Corelli\\2019-02-14\\p6K\\linecut_f'\n",
    "os.chdir(tempPath)\n",
    "fieldInfo = pd.read_csv('field_info.txt',header=None,names=['File #','T (K)','H (T)','Proton charge'],delimiter=' ')\n",
    "fieldInfo['File #'] = fieldInfo['File #'].astype('int')# replace file number type from float to int\n",
    "fieldInfo.head()\n",
    "# fieldInfo['File #'].dtype# check that the change of datatype is effective"
   ]
  },
  {
   "cell_type": "code",
   "execution_count": 6,
   "metadata": {
    "Collapsed": "false"
   },
   "outputs": [
    {
     "data": {
      "text/html": [
       "<div>\n",
       "<style scoped>\n",
       "    .dataframe tbody tr th:only-of-type {\n",
       "        vertical-align: middle;\n",
       "    }\n",
       "\n",
       "    .dataframe tbody tr th {\n",
       "        vertical-align: top;\n",
       "    }\n",
       "\n",
       "    .dataframe thead th {\n",
       "        text-align: right;\n",
       "    }\n",
       "</style>\n",
       "<table border=\"1\" class=\"dataframe\">\n",
       "  <thead>\n",
       "    <tr style=\"text-align: right;\">\n",
       "      <th></th>\n",
       "      <th>filename</th>\n",
       "      <th>T (K)</th>\n",
       "      <th>H (T)</th>\n",
       "      <th>Proton charge</th>\n",
       "      <th>spectra</th>\n",
       "    </tr>\n",
       "  </thead>\n",
       "  <tbody>\n",
       "    <tr>\n",
       "      <th>0</th>\n",
       "      <td>HH0_88631.txt</td>\n",
       "      <td>0.605973</td>\n",
       "      <td>0.000000</td>\n",
       "      <td>1.312139</td>\n",
       "      <td>hh0    I   dI\n",
       "0    -12.99880  0.0  ...</td>\n",
       "    </tr>\n",
       "    <tr>\n",
       "      <th>1</th>\n",
       "      <td>HH0_88632.txt</td>\n",
       "      <td>0.613334</td>\n",
       "      <td>0.049998</td>\n",
       "      <td>0.800119</td>\n",
       "      <td>hh0    I   dI\n",
       "0    -12.99880  0.0  ...</td>\n",
       "    </tr>\n",
       "    <tr>\n",
       "      <th>2</th>\n",
       "      <td>HH0_88633.txt</td>\n",
       "      <td>0.605727</td>\n",
       "      <td>0.099996</td>\n",
       "      <td>0.083534</td>\n",
       "      <td>hh0    I   dI\n",
       "0    -12.99880  0.0  ...</td>\n",
       "    </tr>\n",
       "    <tr>\n",
       "      <th>3</th>\n",
       "      <td>HH0_88634.txt</td>\n",
       "      <td>0.625493</td>\n",
       "      <td>0.099996</td>\n",
       "      <td>0.800739</td>\n",
       "      <td>hh0    I   dI\n",
       "0    -12.99880  0.0  ...</td>\n",
       "    </tr>\n",
       "    <tr>\n",
       "      <th>4</th>\n",
       "      <td>HH0_88635.txt</td>\n",
       "      <td>0.618220</td>\n",
       "      <td>0.150005</td>\n",
       "      <td>0.801294</td>\n",
       "      <td>hh0    I   dI\n",
       "0    -12.99880  0.0  ...</td>\n",
       "    </tr>\n",
       "  </tbody>\n",
       "</table>\n",
       "</div>"
      ],
      "text/plain": [
       "        filename     T (K)     H (T)  Proton charge  \\\n",
       "0  HH0_88631.txt  0.605973  0.000000       1.312139   \n",
       "1  HH0_88632.txt  0.613334  0.049998       0.800119   \n",
       "2  HH0_88633.txt  0.605727  0.099996       0.083534   \n",
       "3  HH0_88634.txt  0.625493  0.099996       0.800739   \n",
       "4  HH0_88635.txt  0.618220  0.150005       0.801294   \n",
       "\n",
       "                                             spectra  \n",
       "0             hh0    I   dI\n",
       "0    -12.99880  0.0  ...  \n",
       "1             hh0    I   dI\n",
       "0    -12.99880  0.0  ...  \n",
       "2             hh0    I   dI\n",
       "0    -12.99880  0.0  ...  \n",
       "3             hh0    I   dI\n",
       "0    -12.99880  0.0  ...  \n",
       "4             hh0    I   dI\n",
       "0    -12.99880  0.0  ...  "
      ]
     },
     "execution_count": 6,
     "metadata": {},
     "output_type": "execute_result"
    }
   ],
   "source": [
    "tempList = [None]*len(fieldInfo)# Preallocate list to store the data that will then be converted into a Pandas DataFrame\n",
    "for idx in range(len(fieldInfo)):# For each data file\n",
    "    filename = ''.join(['HH0_',str(fieldInfo['File #'][idx]),'.txt'])\n",
    "#     print(filename)\n",
    "    tempDF = pd.read_csv(filename,names=[\"hh0\",\"I\",\"dI\"],skiprows=2,delimiter=',')# Import data as a Pandas DataFrame\n",
    "    tempList[idx] = {'filename': filename,# Store into a dictionary, which is itself an element of dfList: the filename,\n",
    "                     'T (K)': fieldInfo['T (K)'][idx],# temperature,\n",
    "                     'H (T)': fieldInfo['H (T)'][idx],# value of magnetic field,\n",
    "                     'Proton charge': fieldInfo['Proton charge'][idx],# proton charge,\n",
    "                     'spectra': tempDF# and data,\n",
    "                     }\n",
    "linecut_f_raw = pd.DataFrame(tempList)# Convert the list of dictionaries into a Pandas DataFrame\n",
    "linecut_f_raw.head()# Show the resulting DataFrame"
   ]
  },
  {
   "cell_type": "code",
   "execution_count": 7,
   "metadata": {
    "Collapsed": "false"
   },
   "outputs": [],
   "source": [
    "del idx, tempPath, filename, tempList, tempDF# delete temporary variables after use "
   ]
  },
  {
   "cell_type": "code",
   "execution_count": 8,
   "metadata": {
    "Collapsed": "false"
   },
   "outputs": [
    {
     "data": {
      "text/html": [
       "<div>\n",
       "<style scoped>\n",
       "    .dataframe tbody tr th:only-of-type {\n",
       "        vertical-align: middle;\n",
       "    }\n",
       "\n",
       "    .dataframe tbody tr th {\n",
       "        vertical-align: top;\n",
       "    }\n",
       "\n",
       "    .dataframe thead th {\n",
       "        text-align: right;\n",
       "    }\n",
       "</style>\n",
       "<table border=\"1\" class=\"dataframe\">\n",
       "  <thead>\n",
       "    <tr style=\"text-align: right;\">\n",
       "      <th></th>\n",
       "      <th>hh0</th>\n",
       "      <th>I</th>\n",
       "      <th>dI</th>\n",
       "    </tr>\n",
       "  </thead>\n",
       "  <tbody>\n",
       "    <tr>\n",
       "      <th>180</th>\n",
       "      <td>-12.5487</td>\n",
       "      <td>0.0</td>\n",
       "      <td>0.0</td>\n",
       "    </tr>\n",
       "    <tr>\n",
       "      <th>181</th>\n",
       "      <td>-12.5462</td>\n",
       "      <td>0.0</td>\n",
       "      <td>0.0</td>\n",
       "    </tr>\n",
       "    <tr>\n",
       "      <th>182</th>\n",
       "      <td>-12.5437</td>\n",
       "      <td>0.0</td>\n",
       "      <td>0.0</td>\n",
       "    </tr>\n",
       "    <tr>\n",
       "      <th>183</th>\n",
       "      <td>-12.5412</td>\n",
       "      <td>0.0</td>\n",
       "      <td>0.0</td>\n",
       "    </tr>\n",
       "    <tr>\n",
       "      <th>184</th>\n",
       "      <td>-12.5388</td>\n",
       "      <td>0.0</td>\n",
       "      <td>0.0</td>\n",
       "    </tr>\n",
       "    <tr>\n",
       "      <th>185</th>\n",
       "      <td>-12.5363</td>\n",
       "      <td>0.0</td>\n",
       "      <td>0.0</td>\n",
       "    </tr>\n",
       "  </tbody>\n",
       "</table>\n",
       "</div>"
      ],
      "text/plain": [
       "         hh0    I   dI\n",
       "180 -12.5487  0.0  0.0\n",
       "181 -12.5462  0.0  0.0\n",
       "182 -12.5437  0.0  0.0\n",
       "183 -12.5412  0.0  0.0\n",
       "184 -12.5388  0.0  0.0\n",
       "185 -12.5363  0.0  0.0"
      ]
     },
     "execution_count": 8,
     "metadata": {},
     "output_type": "execute_result"
    }
   ],
   "source": [
    "linecut_f_raw['spectra'][3].loc[180:185]#.head()# Check the content of individual datasets after importation"
   ]
  },
  {
   "cell_type": "markdown",
   "metadata": {
    "Collapsed": "false"
   },
   "source": [
    "## Basic data processing\n",
    "Rescale data and remove \"bad\" data"
   ]
  },
  {
   "cell_type": "markdown",
   "metadata": {
    "Collapsed": "false"
   },
   "source": [
    "### Check consistency of dataframes"
   ]
  },
  {
   "cell_type": "markdown",
   "metadata": {
    "Collapsed": "false"
   },
   "source": [
    "#### <a name=\"hh0_consistency\"></a>Check that all hh0 data are the same within each dataframe\n",
    "i.e. that all hh0 of coarseData are the same and that all hh0 data of linecut_f_raw are the same"
   ]
  },
  {
   "cell_type": "code",
   "execution_count": 9,
   "metadata": {
    "Collapsed": "false"
   },
   "outputs": [],
   "source": [
    "nData_raw = [coarseData,linecut_f_raw]\n",
    "for data_idx in range(len(nData_raw)):# for each dataset\n",
    "    for _, row in nData_raw[data_idx].iterrows():# loop over all rows\n",
    "        if not np.array_equal(row.spectra.hh0,nData_raw[data_idx].spectra[0].hh0):\n",
    "        # and compare the array of hh0 of that row with that of the first row\n",
    "            print(row)# print the row if the two arrays are *not* equal\n",
    "            # should output nothing, which means that all arrays of hh0 are the same *within a dataset*"
   ]
  },
  {
   "cell_type": "markdown",
   "metadata": {
    "Collapsed": "false"
   },
   "source": [
    "#### Then check that hh0 data of coarseData differ from that of linecut_f_raw\n",
    "We do not need to loop over all rows since we have shown in the previous cell that all rows are the same within a dataset"
   ]
  },
  {
   "cell_type": "code",
   "execution_count": 10,
   "metadata": {
    "Collapsed": "false"
   },
   "outputs": [
    {
     "name": "stdout",
     "output_type": "stream",
     "text": [
      "The arrarys of hh0 are not the same in both datasets\n"
     ]
    }
   ],
   "source": [
    "if not np.array_equal(coarseData.spectra[0].hh0,linecut_f_raw.spectra[0].hh0):\n",
    "# compare the hh0 arrays of the first row of both datasets\n",
    "    print(\"The arrarys of hh0 are not the same in both datasets\")"
   ]
  },
  {
   "cell_type": "markdown",
   "metadata": {
    "Collapsed": "false"
   },
   "source": [
    "### Which datasets to analyze and how? \n",
    "\n",
    "#### Update 2020-04-06\n",
    "In fact, ignore the coarse dataset, as it will require a lot of efforts for a minimal result.\n",
    "More interesting would be to analyze the linecut_f dataset at each (hh0) peak position, for h = 6, 8, 10.\n",
    "\n",
    "##### Update 2020-04-03\n",
    "treat both datasets independently in terms of the plotting and fitting\n",
    "\n",
    "##### Outdated ideas\n",
    "involving treating both datasets together, which will make things more complicated, and therefore increases the risks of making errors, in addition to increasing the time required for the analysis:\n",
    "* interpolate spectra of coarseData so that its hh0 array is the same as that of linecut_f_raw\n",
    "* rescale the data, if there is a physical way to do it, otherwise simply treat both datasets separately"
   ]
  },
  {
   "cell_type": "markdown",
   "metadata": {
    "Collapsed": "false"
   },
   "source": [
    "### Truely \"deep\" copy of linecut_f\n",
    "such that linecut_f_raw will *not* be modified if lcf_copy is modified\n",
    "\n",
    "The best way to truely, i.e. recursively, deep copy a python object is to `pickle.dump` and `pickle.load` it. \n",
    "That is because `cPickle` is the fastest, as shown [here](https://stackoverflow.com/questions/1410615/copy-deepcopy-vs-pickle),  *and* **in Python 3**, `cPickle` is the default behavior of `pickle`, as explained [here](https://askubuntu.com/a/804618).\n",
    "See also hacks.ipynb, and [here](https://stackoverflow.com/questions/52708341/make-a-truly-deep-copy-of-a-pandas-series). "
   ]
  },
  {
   "cell_type": "code",
   "execution_count": 11,
   "metadata": {
    "Collapsed": "false"
   },
   "outputs": [
    {
     "data": {
      "text/html": [
       "<div>\n",
       "<style scoped>\n",
       "    .dataframe tbody tr th:only-of-type {\n",
       "        vertical-align: middle;\n",
       "    }\n",
       "\n",
       "    .dataframe tbody tr th {\n",
       "        vertical-align: top;\n",
       "    }\n",
       "\n",
       "    .dataframe thead th {\n",
       "        text-align: right;\n",
       "    }\n",
       "</style>\n",
       "<table border=\"1\" class=\"dataframe\">\n",
       "  <thead>\n",
       "    <tr style=\"text-align: right;\">\n",
       "      <th></th>\n",
       "      <th>filename</th>\n",
       "      <th>T (K)</th>\n",
       "      <th>H (T)</th>\n",
       "      <th>Proton charge</th>\n",
       "      <th>spectra</th>\n",
       "    </tr>\n",
       "  </thead>\n",
       "  <tbody>\n",
       "    <tr>\n",
       "      <th>0</th>\n",
       "      <td>HH0_88631.txt</td>\n",
       "      <td>0.605973</td>\n",
       "      <td>0.000000</td>\n",
       "      <td>1.312139</td>\n",
       "      <td>hh0    I   dI\n",
       "0    -12.99880  0.0  ...</td>\n",
       "    </tr>\n",
       "    <tr>\n",
       "      <th>1</th>\n",
       "      <td>HH0_88632.txt</td>\n",
       "      <td>0.613334</td>\n",
       "      <td>0.049998</td>\n",
       "      <td>0.800119</td>\n",
       "      <td>hh0    I   dI\n",
       "0    -12.99880  0.0  ...</td>\n",
       "    </tr>\n",
       "    <tr>\n",
       "      <th>2</th>\n",
       "      <td>HH0_88633.txt</td>\n",
       "      <td>0.605727</td>\n",
       "      <td>0.099996</td>\n",
       "      <td>0.083534</td>\n",
       "      <td>hh0    I   dI\n",
       "0    -12.99880  0.0  ...</td>\n",
       "    </tr>\n",
       "    <tr>\n",
       "      <th>3</th>\n",
       "      <td>HH0_88634.txt</td>\n",
       "      <td>0.625493</td>\n",
       "      <td>0.099996</td>\n",
       "      <td>0.800739</td>\n",
       "      <td>hh0    I   dI\n",
       "0    -12.99880  0.0  ...</td>\n",
       "    </tr>\n",
       "    <tr>\n",
       "      <th>4</th>\n",
       "      <td>HH0_88635.txt</td>\n",
       "      <td>0.618220</td>\n",
       "      <td>0.150005</td>\n",
       "      <td>0.801294</td>\n",
       "      <td>hh0    I   dI\n",
       "0    -12.99880  0.0  ...</td>\n",
       "    </tr>\n",
       "  </tbody>\n",
       "</table>\n",
       "</div>"
      ],
      "text/plain": [
       "        filename     T (K)     H (T)  Proton charge  \\\n",
       "0  HH0_88631.txt  0.605973  0.000000       1.312139   \n",
       "1  HH0_88632.txt  0.613334  0.049998       0.800119   \n",
       "2  HH0_88633.txt  0.605727  0.099996       0.083534   \n",
       "3  HH0_88634.txt  0.625493  0.099996       0.800739   \n",
       "4  HH0_88635.txt  0.618220  0.150005       0.801294   \n",
       "\n",
       "                                             spectra  \n",
       "0             hh0    I   dI\n",
       "0    -12.99880  0.0  ...  \n",
       "1             hh0    I   dI\n",
       "0    -12.99880  0.0  ...  \n",
       "2             hh0    I   dI\n",
       "0    -12.99880  0.0  ...  \n",
       "3             hh0    I   dI\n",
       "0    -12.99880  0.0  ...  \n",
       "4             hh0    I   dI\n",
       "0    -12.99880  0.0  ...  "
      ]
     },
     "execution_count": 11,
     "metadata": {},
     "output_type": "execute_result"
    }
   ],
   "source": [
    "lcf_copy = pickle.loads(pickle.dumps(linecut_f_raw))# fastest python hack to create a truely deep copy\n",
    "# lcf stands for linecut_f, which is the name of the file from which the data was imported\n",
    "# idx = 5\n",
    "lcf_copy.head()#.loc[idx:idx+10]"
   ]
  },
  {
   "cell_type": "markdown",
   "metadata": {
    "Collapsed": "false"
   },
   "source": [
    "### Data rescaling\n",
    "This used to be done manually, after noticing that the intensity of the data at 0T was higher than that of the rest of the data. A factor of 0.635 was then used to rescale this spectrum to the level of other data. \n",
    "However, after getting the up-to-date data, it appears that the scaling factor is merely the proton charge, which is a proxy for the counting time of neutrons. With this information, it turns out that the ratio of Proton charges of the spectrum at 0T and that at 0.05T is 1.3 to 0.8. The rescaling factor of the former is thus 0.8/1.3=0.615. Hence the empirical value of 0.635 was a pretty good guess!"
   ]
  },
  {
   "cell_type": "code",
   "execution_count": 12,
   "metadata": {
    "Collapsed": "false"
   },
   "outputs": [
    {
     "data": {
      "text/html": [
       "<div>\n",
       "<style scoped>\n",
       "    .dataframe tbody tr th:only-of-type {\n",
       "        vertical-align: middle;\n",
       "    }\n",
       "\n",
       "    .dataframe tbody tr th {\n",
       "        vertical-align: top;\n",
       "    }\n",
       "\n",
       "    .dataframe thead th {\n",
       "        text-align: right;\n",
       "    }\n",
       "</style>\n",
       "<table border=\"1\" class=\"dataframe\">\n",
       "  <thead>\n",
       "    <tr style=\"text-align: right;\">\n",
       "      <th></th>\n",
       "      <th>hh0</th>\n",
       "      <th>I</th>\n",
       "      <th>dI</th>\n",
       "      <th>Inorm</th>\n",
       "      <th>dInorm</th>\n",
       "    </tr>\n",
       "  </thead>\n",
       "  <tbody>\n",
       "    <tr>\n",
       "      <th>1200</th>\n",
       "      <td>-9.99875</td>\n",
       "      <td>1261600.0</td>\n",
       "      <td>94684.7</td>\n",
       "      <td>9.614833e+05</td>\n",
       "      <td>72160.557743</td>\n",
       "    </tr>\n",
       "    <tr>\n",
       "      <th>1201</th>\n",
       "      <td>-9.99625</td>\n",
       "      <td>1230390.0</td>\n",
       "      <td>98819.2</td>\n",
       "      <td>9.376977e+05</td>\n",
       "      <td>75311.519049</td>\n",
       "    </tr>\n",
       "    <tr>\n",
       "      <th>1202</th>\n",
       "      <td>-9.99375</td>\n",
       "      <td>1448420.0</td>\n",
       "      <td>109920.0</td>\n",
       "      <td>1.103862e+06</td>\n",
       "      <td>83771.596753</td>\n",
       "    </tr>\n",
       "    <tr>\n",
       "      <th>1203</th>\n",
       "      <td>-9.99125</td>\n",
       "      <td>2141070.0</td>\n",
       "      <td>124810.0</td>\n",
       "      <td>1.631740e+06</td>\n",
       "      <td>95119.477718</td>\n",
       "    </tr>\n",
       "    <tr>\n",
       "      <th>1204</th>\n",
       "      <td>-9.98875</td>\n",
       "      <td>2560080.0</td>\n",
       "      <td>141466.0</td>\n",
       "      <td>1.951073e+06</td>\n",
       "      <td>107813.252422</td>\n",
       "    </tr>\n",
       "    <tr>\n",
       "      <th>1205</th>\n",
       "      <td>-9.98625</td>\n",
       "      <td>4044660.0</td>\n",
       "      <td>169302.0</td>\n",
       "      <td>3.082493e+06</td>\n",
       "      <td>129027.464278</td>\n",
       "    </tr>\n",
       "  </tbody>\n",
       "</table>\n",
       "</div>"
      ],
      "text/plain": [
       "          hh0          I        dI         Inorm         dInorm\n",
       "1200 -9.99875  1261600.0   94684.7  9.614833e+05   72160.557743\n",
       "1201 -9.99625  1230390.0   98819.2  9.376977e+05   75311.519049\n",
       "1202 -9.99375  1448420.0  109920.0  1.103862e+06   83771.596753\n",
       "1203 -9.99125  2141070.0  124810.0  1.631740e+06   95119.477718\n",
       "1204 -9.98875  2560080.0  141466.0  1.951073e+06  107813.252422\n",
       "1205 -9.98625  4044660.0  169302.0  3.082493e+06  129027.464278"
      ]
     },
     "execution_count": 12,
     "metadata": {},
     "output_type": "execute_result"
    }
   ],
   "source": [
    "##### Rescale data according to their Proton charge\n",
    "for idx, row in lcf_copy.iterrows():\n",
    "    row.spectra['Inorm'] = row.spectra.I/row['Proton charge']\n",
    "    row.spectra['dInorm'] = row.spectra.dI/row['Proton charge']\n",
    "#     print(idx, row['spectra']['I'])\n",
    "idx = 1200# index that allows to look at data close to the (10 10 0) peak\n",
    "lcf_copy.spectra[0].loc[idx:idx+5]# check one of the resulting dataframes"
   ]
  },
  {
   "cell_type": "markdown",
   "metadata": {
    "Collapsed": "false"
   },
   "source": [
    "### Find bad data, if any\n",
    "#### Identify datasets with zero intensity and create a new \"clean\" dataset without bad data"
   ]
  },
  {
   "cell_type": "code",
   "execution_count": 13,
   "metadata": {
    "Collapsed": "false"
   },
   "outputs": [
    {
     "name": "stdout",
     "output_type": "stream",
     "text": [
      "84\n"
     ]
    }
   ],
   "source": [
    "lcf_clean = lcf_copy.copy()\n",
    "# this is a deepcopy according to Pandas, which is only deep at the lowest order, i.e. not recursively\n",
    "for idx, row in lcf_copy.iterrows():# loop over all spectra\n",
    "    if not np.any(row.spectra.Inorm>0):# if any spectrum has a constant zero intensity\n",
    "        lcf_clean = lcf_copy.drop(idx)\n",
    "        print(idx)# output the row index of lcf_copy containing empty data\n",
    "# lcf_copy.spectra[0].Inorm"
   ]
  },
  {
   "cell_type": "markdown",
   "metadata": {
    "Collapsed": "false"
   },
   "source": [
    "#### Batch plot the rest of the spectra to identify other potential bad data"
   ]
  },
  {
   "cell_type": "code",
   "execution_count": 14,
   "metadata": {
    "Collapsed": "false"
   },
   "outputs": [],
   "source": [
    "%matplotlib qt\n",
    "# plot figures in external window"
   ]
  },
  {
   "cell_type": "markdown",
   "metadata": {
    "Collapsed": "false"
   },
   "source": [
    "##### Plot spectra by groups of nSpec\n",
    "to see if any spectrum differs from the others.\n",
    "This method may fail if there are more than nSpec bad consecutive spectra. Hence nSpec should not be too small (5 or more should be good)"
   ]
  },
  {
   "cell_type": "code",
   "execution_count": 17,
   "metadata": {
    "Collapsed": "false"
   },
   "outputs": [],
   "source": [
    "nSpec = 7# number of curves in each plot\n",
    "nfig = len(lcf_clean)//nSpec+1\n",
    "fig = [None]*(nfig)\n",
    "lgd = [None]*(nfig)\n",
    "for fidx in range(1):#range(nfig):\n",
    "    fig[fidx] = plt.figure()\n",
    "    ax = fig[fidx].add_subplot(1,1,1)\n",
    "    for pidx in range(nSpec*fidx,nSpec*(fidx+1)):\n",
    "        try:\n",
    "            plt.plot(lcf_clean.spectra[pidx].hh0,lcf_clean.spectra[pidx].Inorm,\\\n",
    "                     label=f\"{pidx}, {lcf_clean['H (T)'][pidx]:.2f}\")\n",
    "        except KeyError:# if the index of data to be plotted does not exist\n",
    "            continue# ignore and carry on to the next one\n",
    "    plt.xlim(-10.25,-5.75)\n",
    "    lgd[fidx] = ax.legend(title='Index, H (T)')\n",
    "    lgd[fidx].set_draggable(True)\n",
    "    plt.show()# ensures that all windows come to the foreground"
   ]
  },
  {
   "cell_type": "markdown",
   "metadata": {
    "Collapsed": "false"
   },
   "source": [
    "##### Notes --- 2020-04-07\n",
    "* After plotting all spectra together, it appears that only spectra #2 and #85 are \"bad\": the former is very noisy (not too surprising given that its Proton charge is 1/10 of the other data) and the latter has a lower intensity than the other spectra (for an unknown reason).\n",
    "* Both those bad spectra were identified during the measurement, such that another (good) spectrum was measured at both values of magnetic field at which those bad spectra had been measured. Concretely, spectrum #2 was measured at 0.1T and #85 at 0.865T but are bad. Spectra #3 and #104 were also measured at 0.1T and 0.865T, respectively, and are good. Hence, the two bad spectra should just be discarded, there is no reason to try and process them in order to try and make them good: first because there is no way of making good data out of bad data (bad data is just bad data), so it would be a waste of time, and potentially a lot of time, but it would also be complicated, and because the result cannot be good, it can only influence the result of the subsequent fits in a bad way, thus inducing distrust on the results obtained over the whole dataset instead of just two spectra. Bottom line: discard spectra #2 and #85."
   ]
  },
  {
   "cell_type": "markdown",
   "metadata": {
    "Collapsed": "false"
   },
   "source": [
    "### Remove bad data \n",
    "as identified in batch plotting"
   ]
  },
  {
   "cell_type": "code",
   "execution_count": 18,
   "metadata": {
    "Collapsed": "false"
   },
   "outputs": [],
   "source": [
    "delRowIdx = [2,85]# index of data to remove\n",
    "lcf_clean.drop(delRowIdx,inplace=True)"
   ]
  },
  {
   "cell_type": "markdown",
   "metadata": {
    "Collapsed": "false"
   },
   "source": [
    "### Final clean dataset\n",
    "#### Sorted by value of magnetic field"
   ]
  },
  {
   "cell_type": "code",
   "execution_count": 19,
   "metadata": {
    "Collapsed": "false"
   },
   "outputs": [],
   "source": [
    "nData = lcf_clean.sort_values(by=['H (T)'],ignore_index=True)\n",
    "# lcf_clean.head()# nData stands for \"neutrons Data\""
   ]
  },
  {
   "cell_type": "markdown",
   "metadata": {
    "Collapsed": "false"
   },
   "source": [
    "#### Plot a couple of ENS spectra (ignore after done once)\n",
    "to check consistency between spectra before fitting"
   ]
  },
  {
   "cell_type": "raw",
   "metadata": {
    "Collapsed": "false"
   },
   "source": [
    "# Change cell to Raw type in order to avoid running inadvertantly\n",
    "plt.cla()\n",
    "for idx in range(2):\n",
    "    plt.plot(nData.spectra[idx].hh0,nData.spectra[idx].Inorm)"
   ]
  },
  {
   "cell_type": "markdown",
   "metadata": {
    "Collapsed": "false"
   },
   "source": [
    "### Plot entire dataset in 3D\n",
    "as spectrum normalized intensity 'Inorm' vs position in reciprocal space 'hh0' and magnetic field 'H (T)', to check that the field dependence of the data is consistent.\n",
    "#### Ignore after done once\n",
    "Change cells to Raw type in order to avoid running inadvertantly"
   ]
  },
  {
   "cell_type": "markdown",
   "metadata": {
    "Collapsed": "false"
   },
   "source": [
    "#### First plot individual spectra in a 3D space"
   ]
  },
  {
   "cell_type": "raw",
   "metadata": {
    "Collapsed": "false"
   },
   "source": [
    "fig = plt.figure()\n",
    "ax = plt.axes(projection=\"3d\")\n",
    "for i in range(len(nData)):\n",
    "    H = np.ones(np.shape(nData.spectra[i].hh0))*nData['H (T)'][i]\n",
    "    ax.plot3D(nData.spectra[i].hh0,H,nData.spectra[i].Inorm)\n",
    "del H"
   ]
  },
  {
   "cell_type": "markdown",
   "metadata": {
    "Collapsed": "false"
   },
   "source": [
    "#### Then plot 3D color map\n",
    "##### Create meshgrid for 3D color map\n",
    "The mesh can safely be created using hh0 data from the dataset measured at any value of magnetic field, since we've shown [that all hh0 data are the same within the linecut_f dataframe](#hh0_consistency)"
   ]
  },
  {
   "cell_type": "raw",
   "metadata": {
    "Collapsed": "false"
   },
   "source": [
    "idx = 0# first dataset, but any row index of nData would do\n",
    "hh0mesh, Hmesh = np.meshgrid(nData.spectra[idx].hh0, nData['H (T)'])\n",
    "hh0lin = hh0mesh.reshape(np.size(hh0mesh))\n",
    "Hlin = Hmesh.reshape(np.size(Hmesh))"
   ]
  },
  {
   "cell_type": "markdown",
   "metadata": {
    "Collapsed": "false"
   },
   "source": [
    "##### Create the 2D array that contains the intensity data"
   ]
  },
  {
   "cell_type": "raw",
   "metadata": {
    "Collapsed": "false"
   },
   "source": [
    "Imesh = np.stack([nData.spectra[idx].Inorm for idx in range(len(nData))],axis=0)# for mesh\n",
    "Ilin = np.hstack([nData.spectra[idx].Inorm for idx in range(len(nData))])# for griddata"
   ]
  },
  {
   "cell_type": "markdown",
   "metadata": {
    "Collapsed": "false"
   },
   "source": [
    "##### Plot the hh0mesh and Hmesh data to see how irregular they are"
   ]
  },
  {
   "cell_type": "raw",
   "metadata": {
    "Collapsed": "false"
   },
   "source": [
    "fig = plt.figure()\n",
    "ax = fig.add_subplot(1,1,1)\n",
    "step = 50\n",
    "ax.scatter(hh0mesh[:,::step], Hmesh[:,::step], marker=\".\",s=1)\n",
    "ax.set_xlabel('hh0')\n",
    "ax.set_ylabel('H')\n",
    "plt.show()"
   ]
  },
  {
   "cell_type": "markdown",
   "metadata": {
    "Collapsed": "false"
   },
   "source": [
    "##### Conclusion\n",
    "The hh0 data looks pretty regular, however the magnetic field data is not\n",
    "##### Update\n",
    "That should not prevent from plotting in 3D"
   ]
  },
  {
   "cell_type": "markdown",
   "metadata": {
    "Collapsed": "false"
   },
   "source": [
    "#### Use griddata to interpolate the intensity data over a regular array"
   ]
  },
  {
   "cell_type": "raw",
   "metadata": {
    "Collapsed": "false"
   },
   "source": [
    "Hrange = np.arange(0,1.5,0.005)# regular array of magnetic field values to interpolate on\n",
    "hh0meshInterp, HmeshInterp = np.meshgrid(nData.spectra[idx].hh0, Hrange)# meshgrid for interpolated data\n",
    "Iinterp = griddata(np.array([hh0lin, Hlin]).T, Ilin, (hh0meshInterp, HmeshInterp), method='linear')"
   ]
  },
  {
   "cell_type": "markdown",
   "metadata": {
    "Collapsed": "false"
   },
   "source": [
    "#### Plot 3D surface\n",
    "Note: Matplotlib does not do a very good job of plotting the 3D surface when the xlim is not adapted to the range of the data and when there is noise in the data: in our case, it looks like spectra are plotted individually rather than as a continuous surface. When zooming on each peak, the surface looks a little better. Perhaps look for a better 3D visualization tool."
   ]
  },
  {
   "cell_type": "raw",
   "metadata": {
    "Collapsed": "false"
   },
   "source": [
    "fig = plt.figure()\n",
    "ax = fig.gca(projection='3d')\n",
    "mesh_select = np.logical_and(hh0mesh > -10.1, hh0mesh < -9.9)\n",
    "# surf = ax.plot_surface(np.where(mesh_select,hh0mesh,np.nan),\n",
    "#                        np.where(mesh_select,Hmesh,np.nan),\n",
    "#                        np.where(mesh_select,Imesh,np.nan),\n",
    "#                        cmap=cm.coolwarm,\n",
    "#                        linewidth=0, antialiased=False)\n",
    "surf = ax.plot_surface(hh0mesh,Hmesh,Imesh, cmap=cm.rainbow)\n",
    "# surf = ax.plot_surface(hh0meshInterp,HmeshInterp,Iinterp, cmap=cm.coolwarm)\n",
    "# ax.zaxis.set_major_locator(LinearLocator(10))\n",
    "# ax.zaxis.set_major_formatter(FormatStrFormatter('%.2g'))\n",
    "plt.xlim(-10.1, -9.9)\n",
    "# Add a color bar which maps values to colors.\n",
    "fig.colorbar(surf, shrink=0.5, aspect=5)\n",
    "plt.show()"
   ]
  },
  {
   "cell_type": "markdown",
   "metadata": {
    "Collapsed": "false"
   },
   "source": [
    "#### Matplotlib example of 3D surface plotting"
   ]
  },
  {
   "cell_type": "raw",
   "metadata": {
    "Collapsed": "false"
   },
   "source": [
    "fig = plt.figure()\n",
    "ax = fig.gca(projection='3d')\n",
    "\n",
    "# Make data.\n",
    "X = np.arange(-5, 5, 0.25)\n",
    "Y = np.arange(-5, 5, 0.25)\n",
    "X, Y = np.meshgrid(X, Y)\n",
    "R = np.sqrt(X**2 + Y**2)\n",
    "Z = np.sin(R)\n",
    "\n",
    "# Plot the surface.\n",
    "surf = ax.plot_surface(X, Y, Z, cmap=cm.coolwarm,\n",
    "                       linewidth=0, antialiased=False)"
   ]
  },
  {
   "cell_type": "markdown",
   "metadata": {
    "Collapsed": "false"
   },
   "source": [
    "## Fit data"
   ]
  },
  {
   "cell_type": "markdown",
   "metadata": {
    "Collapsed": "false"
   },
   "source": [
    "### Define fit result plotting function"
   ]
  },
  {
   "cell_type": "code",
   "execution_count": 58,
   "metadata": {
    "Collapsed": "false"
   },
   "outputs": [],
   "source": [
    "def plot_fit_result(x, y, fitresult):\n",
    "    fig = plt.figure()\n",
    "    plt.plot(x, y, 'bo')\n",
    "    plt.plot(x, fitresult.init_fit, 'k--', label='initial fit')\n",
    "    plt.plot(x, fitresult.best_fit, 'r-', label='best fit')\n",
    "    plt.legend(loc='best')\n",
    "    plt.show()"
   ]
  },
  {
   "cell_type": "markdown",
   "metadata": {
    "Collapsed": "false"
   },
   "source": [
    "#### Attempt to an iteration callback function\n",
    "Does not work as of 2020-04-14"
   ]
  },
  {
   "cell_type": "code",
   "execution_count": 35,
   "metadata": {
    "Collapsed": "false"
   },
   "outputs": [],
   "source": [
    "def iter_func(params, iter_num, resid, x):\n",
    "    print(iter_num)\n",
    "    return True"
   ]
  },
  {
   "cell_type": "markdown",
   "metadata": {
    "Collapsed": "false"
   },
   "source": [
    "### Fit example adapted from the lmfit documentation (section \"Modeling Data and Curve Fitting)"
   ]
  },
  {
   "cell_type": "code",
   "execution_count": 26,
   "metadata": {
    "Collapsed": "false"
   },
   "outputs": [
    {
     "name": "stdout",
     "output_type": "stream",
     "text": [
      "parameter names: ['amp', 'cen', 'wid']\n",
      "independent variables: ['x']\n"
     ]
    },
    {
     "data": {
      "text/html": [
       "<table><tr><th> name </th><th> value </th><th> initial value </th><th> min </th><th> max </th><th> vary </th></tr><tr><td> amp </td><td>  20.0000000 </td><td> None </td><td>        -inf </td><td>         inf </td><td> True </td></tr><tr><td> cen </td><td>  5.00000000 </td><td> None </td><td>        -inf </td><td>         inf </td><td> True </td></tr><tr><td> wid </td><td>  1.00000000 </td><td> None </td><td>        -inf </td><td>         inf </td><td> True </td></tr></table>"
      ],
      "text/plain": [
       "Parameters([('amp', <Parameter 'amp', value=20, bounds=[-inf:inf]>),\n",
       "            ('cen', <Parameter 'cen', value=5, bounds=[-inf:inf]>),\n",
       "            ('wid', <Parameter 'wid', value=1, bounds=[-inf:inf]>)])"
      ]
     },
     "execution_count": 26,
     "metadata": {},
     "output_type": "execute_result"
    }
   ],
   "source": [
    "def gaussian(x, amp, cen, wid):\n",
    "    return amp * np.exp(-(x-cen)**2 / wid)\n",
    "gmodel = Model(gaussian)\n",
    "print('parameter names: {}'.format(gmodel.param_names))\n",
    "print('independent variables: {}'.format(gmodel.independent_vars))\n",
    "gparams = gmodel.make_params(cen=5, amp=20, wid=1)\n",
    "gparams"
   ]
  },
  {
   "cell_type": "code",
   "execution_count": 59,
   "metadata": {
    "Collapsed": "false"
   },
   "outputs": [
    {
     "name": "stdout",
     "output_type": "stream",
     "text": [
      "[[Model]]\n",
      "    Model(gaussian)\n",
      "[[Fit Statistics]]\n",
      "    # fitting method   = leastsq\n",
      "    # function evals   = 17\n",
      "    # data points      = 101\n",
      "    # variables        = 3\n",
      "    chi-square         = 7.23369287\n",
      "    reduced chi-square = 0.07381319\n",
      "    Akaike info crit   = -260.273455\n",
      "    Bayesian info crit = -252.428093\n",
      "[[Variables]]\n",
      "    amp:  19.9294891 +/- 0.09416538 (0.47%) (init = 5)\n",
      "    cen:  5.00161851 +/- 0.00384354 (0.08%) (init = 5)\n",
      "    wid:  0.99258381 +/- 0.01083078 (1.09%) (init = 1)\n",
      "[[Correlations]] (unreported correlations are < 0.100)\n",
      "    C(amp, wid) = -0.577\n"
     ]
    }
   ],
   "source": [
    "x = np.linspace(0,10,101)\n",
    "noise = np.random.rand(101)-0.5\n",
    "y = gaussian(x,amp=20,cen=5,wid=1)+noise\n",
    "# fig = plt.figure()\n",
    "# plt.plot(x, y)\n",
    "# plt.show()\n",
    "result = gmodel.fit(y, x=x, amp=5, cen=5, wid=1)\n",
    "print(result.fit_report())\n",
    "plot_fit_result(x, y, result)"
   ]
  },
  {
   "cell_type": "markdown",
   "metadata": {
    "Collapsed": "false"
   },
   "source": [
    "### General parameters for our problem"
   ]
  },
  {
   "cell_type": "code",
   "execution_count": 41,
   "metadata": {
    "Collapsed": "false"
   },
   "outputs": [],
   "source": [
    "peak_center = -8.0# center of unsplit peak to be studied in the following, in reciprocal space units\n",
    "npeak_interval = .15# half of plot interval\n",
    "Hc_0 = 0.51# value in Tesla units of the critical field at zero temperature\n",
    "# in the absence of demagnetizing factor\n",
    "# see data taken on needles of TmVO4-LS5200 in July 2017"
   ]
  },
  {
   "cell_type": "markdown",
   "metadata": {
    "Collapsed": "false"
   },
   "source": [
    "### Select data"
   ]
  },
  {
   "cell_type": "code",
   "execution_count": 61,
   "metadata": {
    "Collapsed": "false"
   },
   "outputs": [
    {
     "data": {
      "text/plain": [
       "1940   -8.14875\n",
       "1941   -8.14625\n",
       "1942   -8.14375\n",
       "1943   -8.14125\n",
       "1944   -8.13875\n",
       "Name: hh0, dtype: float64"
      ]
     },
     "execution_count": 61,
     "metadata": {},
     "output_type": "execute_result"
    }
   ],
   "source": [
    "data_select = np.logical_and(nData.spectra[dat_idx].hh0 > peak_center - npeak_interval, \n",
    "                             nData.spectra[dat_idx].hh0 < peak_center + npeak_interval)\n",
    "dat_idx = 100\n",
    "X = nData.spectra[dat_idx].hh0[data_select]# select data for first fit\n",
    "fitdata = nData.spectra[dat_idx].Inorm[data_select]\n",
    "X.head()"
   ]
  },
  {
   "cell_type": "markdown",
   "metadata": {
    "Collapsed": "false"
   },
   "source": [
    "#### Perform fit with Gaussian model as a first try"
   ]
  },
  {
   "cell_type": "code",
   "execution_count": 63,
   "metadata": {
    "Collapsed": "false"
   },
   "outputs": [
    {
     "name": "stdout",
     "output_type": "stream",
     "text": [
      "[[Model]]\n",
      "    Model(gaussian)\n",
      "[[Fit Statistics]]\n",
      "    # fitting method   = leastsq\n",
      "    # function evals   = 33\n",
      "    # data points      = 120\n",
      "    # variables        = 3\n",
      "    chi-square         = 2.6305e+12\n",
      "    reduced chi-square = 2.2483e+10\n",
      "    Akaike info crit   = 2863.28327\n",
      "    Bayesian info crit = 2871.64575\n",
      "[[Variables]]\n",
      "    amp:  4232624.39 +/- 61044.4590 (1.44%) (init = 4000000)\n",
      "    cen: -7.99724868 +/- 2.1258e-04 (0.00%) (init = -8)\n",
      "    wid:  3.2588e-04 +/- 1.0854e-05 (3.33%) (init = 0.001)\n",
      "[[Correlations]] (unreported correlations are < 0.100)\n",
      "    C(amp, wid) = -0.577\n"
     ]
    }
   ],
   "source": [
    "np.seterr(all='warn')# Set how floating-point errors are handled\n",
    "# Setting warnings will help identify computation issues that may result in an unsuccessful fitting procedure\n",
    "result = gmodel.fit(data=fitdata, params=ngparams, x=X)\n",
    "print(result.fit_report())\n",
    "plot_fit_result(X, fitdata, result)"
   ]
  },
  {
   "cell_type": "markdown",
   "metadata": {
    "Collapsed": "false"
   },
   "source": [
    "### Fit model\n",
    "#### Make model from fit function"
   ]
  },
  {
   "cell_type": "code",
   "execution_count": 30,
   "metadata": {
    "Collapsed": "false"
   },
   "outputs": [
    {
     "name": "stdout",
     "output_type": "stream",
     "text": [
      "parameter names: ['A', 'alpha', 'beta', 'R', 'gamma', 'sigma', 'k', 'x0']\n",
      "independent variables: ['x']\n"
     ]
    }
   ],
   "source": [
    "from ENS_peak_fit_pVIC_py.pseudoVoigtIkedaCarpenter import pVIC\n",
    "pvic_model = Model(pVIC)# create Model object from the lmfit module\n",
    "print(f'parameter names: {pvic_model.param_names}')\n",
    "print(f'independent variables: {pvic_model.independent_vars}')"
   ]
  },
  {
   "cell_type": "markdown",
   "metadata": {
    "Collapsed": "false"
   },
   "source": [
    "#### Fit parameters\n",
    "##### Create fit parameters and specify their properties\n",
    "including initial values, constraints, etc."
   ]
  },
  {
   "cell_type": "code",
   "execution_count": 104,
   "metadata": {
    "Collapsed": "false"
   },
   "outputs": [
    {
     "data": {
      "text/html": [
       "<table><tr><th> name </th><th> value </th><th> initial value </th><th> min </th><th> max </th><th> vary </th></tr><tr><td> A </td><td>  200000.000 </td><td> 200000.0 </td><td>  0.00000000 </td><td>         inf </td><td> True </td></tr><tr><td> alpha </td><td>  140.000000 </td><td> 140 </td><td>  0.00000000 </td><td>         inf </td><td> True </td></tr><tr><td> beta </td><td>  1.0000e-03 </td><td> 0.001 </td><td>  0.00000000 </td><td>         inf </td><td> True </td></tr><tr><td> R </td><td>  1.0000e-03 </td><td> 0.001 </td><td>  0.00000000 </td><td>         inf </td><td> True </td></tr><tr><td> gamma </td><td>  1.0000e-03 </td><td> 0.001 </td><td>  0.00000000 </td><td>         inf </td><td> True </td></tr><tr><td> sigma </td><td>  0.00660000 </td><td> 0.0066 </td><td>  0.00000000 </td><td>         inf </td><td> True </td></tr><tr><td> k </td><td>  0.05000000 </td><td> 0.05 </td><td>  0.00000000 </td><td>         inf </td><td> False </td></tr><tr><td> x0 </td><td> -8.00000000 </td><td> -8.0 </td><td> -8.15000000 </td><td> -7.85000000 </td><td> True </td></tr></table>"
      ],
      "text/plain": [
       "Parameters([('A', <Parameter 'A', value=200000.0, bounds=[0:inf]>),\n",
       "            ('alpha', <Parameter 'alpha', value=140, bounds=[0:inf]>),\n",
       "            ('beta', <Parameter 'beta', value=0.001, bounds=[0:inf]>),\n",
       "            ('R', <Parameter 'R', value=0.001, bounds=[0:inf]>),\n",
       "            ('gamma', <Parameter 'gamma', value=0.001, bounds=[0:inf]>),\n",
       "            ('sigma', <Parameter 'sigma', value=0.0066, bounds=[0:inf]>),\n",
       "            ('k', <Parameter 'k', value=0.05 (fixed), bounds=[0:inf]>),\n",
       "            ('x0', <Parameter 'x0', value=-8.0, bounds=[-8.15:-7.85]>)])"
      ]
     },
     "execution_count": 104,
     "metadata": {},
     "output_type": "execute_result"
    }
   ],
   "source": [
    "pvic_params = pvic_model.make_params(A=2e5, alpha=140, beta=1e-3, R=1e-3, \n",
    "                                     gamma=1e-3, sigma=6.6e-3, k=.05, x0=peak_center)\n",
    "# fitData = nData.spectra[0].Inorm\n",
    "# pvic_params = pvic_model.guess(fitData)# returns NotImplementedError\n",
    "for k in pvic_params.keys():\n",
    "    pvic_params[k].set(min=0, vary=True)\n",
    "    pvic_params[k].init_value = pvic_params[k].value\n",
    "#     print(k)\n",
    "pvic_params['x0'].set(min=peak_center-npeak_interval, max=peak_center+npeak_interval, vary=True)\n",
    "pvic_params['k'].vary = False\n",
    "pvic_params"
   ]
  },
  {
   "cell_type": "markdown",
   "metadata": {
    "Collapsed": "false"
   },
   "source": [
    "### Fit data above Hc with single pVIC function"
   ]
  },
  {
   "cell_type": "markdown",
   "metadata": {
    "Collapsed": "false"
   },
   "source": [
    "#### Evaluate fit function"
   ]
  },
  {
   "cell_type": "code",
   "execution_count": 68,
   "metadata": {
    "Collapsed": "false"
   },
   "outputs": [],
   "source": [
    "# ngparams = gmodel.make_params(cen=peak_center, amp=4e6, wid=1e-3)\n",
    "# Yeval = gmodel.eval(ngparams,x=X)# evaluate model using initial parameters\n",
    "Yeval = pvic_model.eval(pvic_params,x=X)# evaluate model using initial parameters\n",
    "fig = plt.figure()\n",
    "plt.plot(X,Yeval)\n",
    "plt.plot(X,fitdata)\n",
    "plt.show()"
   ]
  },
  {
   "cell_type": "markdown",
   "metadata": {
    "Collapsed": "false"
   },
   "source": [
    "#### Perform fit on single spectrum"
   ]
  },
  {
   "cell_type": "code",
   "execution_count": 119,
   "metadata": {
    "Collapsed": "false"
   },
   "outputs": [
    {
     "data": {
      "text/html": [
       "<table><tr><th> name </th><th> value </th><th> initial value </th><th> min </th><th> max </th><th> vary </th></tr><tr><td> A </td><td>  200000.000 </td><td> 200000.0 </td><td>  0.00000000 </td><td>         inf </td><td> True </td></tr><tr><td> alpha </td><td>  140.000000 </td><td> 140 </td><td>  0.00000000 </td><td>         inf </td><td> True </td></tr><tr><td> beta </td><td>  800.000000 </td><td> 0.001 </td><td>  0.00000000 </td><td>         inf </td><td> False </td></tr><tr><td> R </td><td>  1.0000e-03 </td><td> 0.001 </td><td>  0.00000000 </td><td>         inf </td><td> True </td></tr><tr><td> gamma </td><td>  1.0000e-03 </td><td> 0.001 </td><td>  0.00000000 </td><td>         inf </td><td> True </td></tr><tr><td> sigma </td><td>  0.00660000 </td><td> 0.0066 </td><td>  0.00000000 </td><td>         inf </td><td> True </td></tr><tr><td> k </td><td>  0.05000000 </td><td> 0.05 </td><td>  0.00000000 </td><td>         inf </td><td> False </td></tr><tr><td> x0 </td><td> -8.00000000 </td><td> -8.0 </td><td> -8.15000000 </td><td> -7.85000000 </td><td> True </td></tr></table>"
      ],
      "text/plain": [
       "Parameters([('A', <Parameter 'A', value=200000.0, bounds=[0:inf]>),\n",
       "            ('alpha', <Parameter 'alpha', value=140, bounds=[0:inf]>),\n",
       "            ('beta', <Parameter 'beta', value=800.0 (fixed), bounds=[0:inf]>),\n",
       "            ('R', <Parameter 'R', value=0.001, bounds=[0:inf]>),\n",
       "            ('gamma', <Parameter 'gamma', value=0.001, bounds=[0:inf]>),\n",
       "            ('sigma', <Parameter 'sigma', value=0.0066, bounds=[0:inf]>),\n",
       "            ('k', <Parameter 'k', value=0.05 (fixed), bounds=[0:inf]>),\n",
       "            ('x0', <Parameter 'x0', value=-8.0, bounds=[-8.15:-7.85]>)])"
      ]
     },
     "execution_count": 119,
     "metadata": {},
     "output_type": "execute_result"
    }
   ],
   "source": [
    "np.seterr(all='warn')# Set how floating-point errors are handled\n",
    "pvic_params['beta'].set(value=.8e3, vary=False)\n",
    "# looks like max value of beta that doesn't raise a ValueError when running the Model.fit method is ~800\n",
    "# however that value might depend on the value of alpha\n",
    "pvic_params"
   ]
  },
  {
   "cell_type": "markdown",
   "metadata": {
    "Collapsed": "false"
   },
   "source": [
    "#### Next steps as of 2020-04-14\n",
    "* Play with values of beta to get best fit result; in particular, let beta vary (with max value of 800?)\n",
    "* Is there a way to output the adjusted R**2 of the fit?"
   ]
  },
  {
   "cell_type": "code",
   "execution_count": 120,
   "metadata": {
    "Collapsed": "false"
   },
   "outputs": [
    {
     "name": "stdout",
     "output_type": "stream",
     "text": [
      "[[Model]]\n",
      "    Model(pVIC)\n",
      "[[Fit Statistics]]\n",
      "    # fitting method   = leastsq\n",
      "    # function evals   = 244\n",
      "    # data points      = 120\n",
      "    # variables        = 6\n",
      "    chi-square         = 3.3051e+11\n",
      "    reduced chi-square = 2.8992e+09\n",
      "    Akaike info crit   = 2620.36900\n",
      "    Bayesian info crit = 2637.09395\n",
      "##  Warning: uncertainties could not be estimated:\n",
      "    gamma:  at boundary\n",
      "[[Variables]]\n",
      "    A:      139780.733 (init = 200000)\n",
      "    alpha:  130.406075 (init = 140)\n",
      "    beta:   800 (fixed)\n",
      "    R:      0.97824645 (init = 0.001)\n",
      "    gamma:  1.8088e-09 (init = 0.001)\n",
      "    sigma:  0.00584682 (init = 0.0066)\n",
      "    k:      0.05 (fixed)\n",
      "    x0:    -8.01851200 (init = -8)\n"
     ]
    }
   ],
   "source": [
    "result = pvic_model.fit(data=fitdata, params=pvic_params, x=X)\n",
    "print(result.fit_report())\n",
    "plot_fit_result(X, fitdata, result)"
   ]
  }
 ],
 "metadata": {
  "kernelspec": {
   "display_name": "Python 3",
   "language": "python",
   "name": "python3"
  },
  "language_info": {
   "codemirror_mode": {
    "name": "ipython",
    "version": 3
   },
   "file_extension": ".py",
   "mimetype": "text/x-python",
   "name": "python",
   "nbconvert_exporter": "python",
   "pygments_lexer": "ipython3",
   "version": "3.7.7"
  },
  "varInspector": {
   "cols": {
    "lenName": 16,
    "lenType": 16,
    "lenVar": 40
   },
   "kernels_config": {
    "python": {
     "delete_cmd_postfix": "",
     "delete_cmd_prefix": "del ",
     "library": "var_list.py",
     "varRefreshCmd": "print(var_dic_list())"
    },
    "r": {
     "delete_cmd_postfix": ") ",
     "delete_cmd_prefix": "rm(",
     "library": "var_list.r",
     "varRefreshCmd": "cat(var_dic_list()) "
    }
   },
   "types_to_exclude": [
    "module",
    "function",
    "builtin_function_or_method",
    "instance",
    "_Feature"
   ],
   "window_display": false
  }
 },
 "nbformat": 4,
 "nbformat_minor": 4
}
