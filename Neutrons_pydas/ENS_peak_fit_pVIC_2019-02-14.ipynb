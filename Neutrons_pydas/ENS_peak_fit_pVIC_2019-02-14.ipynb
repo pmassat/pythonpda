{
 "cells": [
  {
   "cell_type": "code",
   "execution_count": 3,
   "metadata": {},
   "outputs": [],
   "source": [
    "import matplotlib.pyplot as plt\n",
    "from lmfit import Model\n",
    "from ENS_peak_fit_pVIC_py.pseudoVoigtIkedaCarpenter import pVIC\n",
    "# import pytest"
   ]
  },
  {
   "cell_type": "code",
   "execution_count": 5,
   "metadata": {},
   "outputs": [
    {
     "name": "stdout",
     "output_type": "stream",
     "text": [
      "parameter names: ['A', 'alpha', 'beta', 'R', 'gamma', 'sigma', 'k', 'x0']\n",
      "independent variables: ['x']\n"
     ]
    }
   ],
   "source": [
    "pvic_model = Model(pVIC)\n",
    "print('parameter names: {}'.format(pvic_model.param_names))\n",
    "print('independent variables: {}'.format(pvic_model.independent_vars))"
   ]
  },
  {
   "cell_type": "code",
   "execution_count": null,
   "metadata": {},
   "outputs": [],
   "source": []
  }
 ],
 "metadata": {
  "kernelspec": {
   "display_name": "Python 3",
   "language": "python",
   "name": "python3"
  },
  "language_info": {
   "codemirror_mode": {
    "name": "ipython",
    "version": 3
   },
   "file_extension": ".py",
   "mimetype": "text/x-python",
   "name": "python",
   "nbconvert_exporter": "python",
   "pygments_lexer": "ipython3",
   "version": "3.7.6"
  }
 },
 "nbformat": 4,
 "nbformat_minor": 4
}
