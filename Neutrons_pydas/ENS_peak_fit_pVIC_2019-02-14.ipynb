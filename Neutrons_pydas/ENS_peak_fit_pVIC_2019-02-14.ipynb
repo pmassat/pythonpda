{
 "cells": [
  {
   "cell_type": "markdown",
   "metadata": {
    "Collapsed": "false"
   },
   "source": [
    "# TmVO4 neutrons data analysis\n",
    "Fit neutrons diffraction peaks measured on TmVO4 at SNS on 2019-02-14 in order to extract the orthorhombic distortion as a function of magnetic field"
   ]
  },
  {
   "cell_type": "markdown",
   "metadata": {
    "Collapsed": "true",
    "heading_collapsed": true
   },
   "source": [
    "## Import modules"
   ]
  },
  {
   "cell_type": "code",
   "execution_count": 1,
   "metadata": {
    "Collapsed": "false",
    "hidden": true
   },
   "outputs": [],
   "source": [
    "from mpl_toolkits.mplot3d import Axes3D# for 3D plotting\n",
    "import matplotlib.tri as mtri# for triangulation of unevenly separated data, like our magnetic field data\n",
    "\n",
    "import copy as cp, numpy as np, pandas as pd, pickle, os, re\n",
    "import importlib, sys \n",
    "import matplotlib\n",
    "from matplotlib import cm, pyplot as plt, rcsetup, rc, rcParams# import matplotlib.pyplot as plt\n",
    "# cm stands for colormap\n",
    "from matplotlib.ticker import LogLocator, LinearLocator, FormatStrFormatter\n",
    "from scipy.interpolate import griddata\n",
    "from scipy.special import erfc, exp1\n",
    "\n",
    "from lmfit import minimize, Model, Parameters, report_fit, fit_report\n",
    "# import pytest"
   ]
  },
  {
   "cell_type": "markdown",
   "metadata": {
    "Collapsed": "true",
    "heading_collapsed": true
   },
   "source": [
    "## Import data"
   ]
  },
  {
   "cell_type": "markdown",
   "metadata": {
    "Collapsed": "false",
    "hidden": true
   },
   "source": [
    "### Coarse data"
   ]
  },
  {
   "cell_type": "code",
   "execution_count": 2,
   "metadata": {
    "Collapsed": "false",
    "hidden": true
   },
   "outputs": [
    {
     "data": {
      "text/html": [
       "<div>\n",
       "<style scoped>\n",
       "    .dataframe tbody tr th:only-of-type {\n",
       "        vertical-align: middle;\n",
       "    }\n",
       "\n",
       "    .dataframe tbody tr th {\n",
       "        vertical-align: top;\n",
       "    }\n",
       "\n",
       "    .dataframe thead th {\n",
       "        text-align: right;\n",
       "    }\n",
       "</style>\n",
       "<table border=\"1\" class=\"dataframe\">\n",
       "  <thead>\n",
       "    <tr style=\"text-align: right;\">\n",
       "      <th></th>\n",
       "      <th>filename</th>\n",
       "      <th>H (T)</th>\n",
       "      <th>T (K)</th>\n",
       "      <th>spectra</th>\n",
       "    </tr>\n",
       "  </thead>\n",
       "  <tbody>\n",
       "    <tr>\n",
       "      <th>0</th>\n",
       "      <td>p6K_1T.txt</td>\n",
       "      <td>1.00</td>\n",
       "      <td>0.6</td>\n",
       "      <td>hh0          I        dI\n",
       "0    -11.99...</td>\n",
       "    </tr>\n",
       "    <tr>\n",
       "      <th>1</th>\n",
       "      <td>p6K_1T_new.txt</td>\n",
       "      <td>1.00</td>\n",
       "      <td>0.6</td>\n",
       "      <td>hh0          I        dI\n",
       "0    -11.99...</td>\n",
       "    </tr>\n",
       "    <tr>\n",
       "      <th>2</th>\n",
       "      <td>p6K_p05T.txt</td>\n",
       "      <td>0.05</td>\n",
       "      <td>0.6</td>\n",
       "      <td>hh0         I       dI\n",
       "0    -11.9975...</td>\n",
       "    </tr>\n",
       "    <tr>\n",
       "      <th>3</th>\n",
       "      <td>p6K_p4T.txt</td>\n",
       "      <td>0.40</td>\n",
       "      <td>0.6</td>\n",
       "      <td>hh0         I        dI\n",
       "0    -11.997...</td>\n",
       "    </tr>\n",
       "    <tr>\n",
       "      <th>4</th>\n",
       "      <td>p6K_p5T.txt</td>\n",
       "      <td>0.50</td>\n",
       "      <td>0.6</td>\n",
       "      <td>hh0          I        dI\n",
       "0    -11.99...</td>\n",
       "    </tr>\n",
       "    <tr>\n",
       "      <th>5</th>\n",
       "      <td>p6K_p6T.txt</td>\n",
       "      <td>0.60</td>\n",
       "      <td>0.6</td>\n",
       "      <td>hh0          I        dI\n",
       "0    -11.99...</td>\n",
       "    </tr>\n",
       "    <tr>\n",
       "      <th>6</th>\n",
       "      <td>p6K_p77T.txt</td>\n",
       "      <td>0.77</td>\n",
       "      <td>0.6</td>\n",
       "      <td>hh0          I        dI\n",
       "0    -11.99...</td>\n",
       "    </tr>\n",
       "    <tr>\n",
       "      <th>7</th>\n",
       "      <td>p6K_p7T.txt</td>\n",
       "      <td>0.70</td>\n",
       "      <td>0.6</td>\n",
       "      <td>hh0          I        dI\n",
       "0    -11.99...</td>\n",
       "    </tr>\n",
       "    <tr>\n",
       "      <th>8</th>\n",
       "      <td>p6K_p83T.txt</td>\n",
       "      <td>0.83</td>\n",
       "      <td>0.6</td>\n",
       "      <td>hh0          I        dI\n",
       "0    -11.99...</td>\n",
       "    </tr>\n",
       "    <tr>\n",
       "      <th>9</th>\n",
       "      <td>p6K_p97T.txt</td>\n",
       "      <td>0.97</td>\n",
       "      <td>0.6</td>\n",
       "      <td>hh0          I        dI\n",
       "0    -11.99...</td>\n",
       "    </tr>\n",
       "    <tr>\n",
       "      <th>10</th>\n",
       "      <td>p6K_p9T.txt</td>\n",
       "      <td>0.90</td>\n",
       "      <td>0.6</td>\n",
       "      <td>hh0          I        dI\n",
       "0    -11.99...</td>\n",
       "    </tr>\n",
       "  </tbody>\n",
       "</table>\n",
       "</div>"
      ],
      "text/plain": [
       "          filename  ...                                            spectra\n",
       "0       p6K_1T.txt  ...            hh0          I        dI\n",
       "0    -11.99...\n",
       "1   p6K_1T_new.txt  ...            hh0          I        dI\n",
       "0    -11.99...\n",
       "2     p6K_p05T.txt  ...            hh0         I       dI\n",
       "0    -11.9975...\n",
       "3      p6K_p4T.txt  ...            hh0         I        dI\n",
       "0    -11.997...\n",
       "4      p6K_p5T.txt  ...            hh0          I        dI\n",
       "0    -11.99...\n",
       "5      p6K_p6T.txt  ...            hh0          I        dI\n",
       "0    -11.99...\n",
       "6     p6K_p77T.txt  ...            hh0          I        dI\n",
       "0    -11.99...\n",
       "7      p6K_p7T.txt  ...            hh0          I        dI\n",
       "0    -11.99...\n",
       "8     p6K_p83T.txt  ...            hh0          I        dI\n",
       "0    -11.99...\n",
       "9     p6K_p97T.txt  ...            hh0          I        dI\n",
       "0    -11.99...\n",
       "10     p6K_p9T.txt  ...            hh0          I        dI\n",
       "0    -11.99...\n",
       "\n",
       "[11 rows x 4 columns]"
      ]
     },
     "execution_count": 2,
     "metadata": {},
     "output_type": "execute_result"
    }
   ],
   "source": [
    "tempPath = r'C:\\Users\\Pierre\\Desktop\\Postdoc\\TmVO4\\TmVO4_neutrons\\2019-02_ORNL_Corelli\\2019-02-14'\n",
    "os.chdir(tempPath)\n",
    "(_, _, filenames) = next(os.walk(tempPath))# the walk() function lists the content of the directory that it is given as argument,\n",
    "# and of its subdirectories; the next() function returns the next output of the walk() function;\n",
    "# when used only once, it returns only the first output which is the content of the parent directory, \n",
    "# listed as a tuple of the form (dirpath, dirnames, filenames)\n",
    "filenames = [filename for filename in filenames if 'p6K_' in filename]# keep only files that match the string pattern of datafilestempList = [None]*len(filenames)# Pre-allocate temporary list to store the data that will then be converted into a Pandas DataFrame\n",
    "\n",
    "tempList = [None]*len(filenames)\n",
    "for idx, filename in enumerate(filenames):# For each data file\n",
    "    H = float(re.split('p6K_(\\w*)T\\w*.txt',filenames[idx])[1].replace('p','.'))# Extract value of magnetic field from filename\n",
    "    tempDF = pd.read_csv(filenames[idx],names=[\"hh0\",\"I\",\"dI\"],skiprows=2,delimiter=',')# import data as a Pandas DataFrame\n",
    "    tempList[idx] = {'filename': filenames[idx],# Store into a dictionary, which is itself an element of tempList: the filename,\n",
    "                   'H (T)': H,# value of magnetic field,\n",
    "                   'T (K)': 0.6,# temperature,\n",
    "                   'spectra': tempDF# and data stored as Pandas dataframe\n",
    "                   }\n",
    "coarseData = pd.DataFrame(tempList)# Convert the list of dictionaries into a Pandas DataFrame\n",
    "del idx, H, tempPath, filename, filenames, tempList, tempDF# delete temporary variables after use \n",
    "coarseData# Show the resulting DataFrame"
   ]
  },
  {
   "cell_type": "code",
   "execution_count": 3,
   "metadata": {
    "Collapsed": "false",
    "hidden": true
   },
   "outputs": [
    {
     "data": {
      "text/html": [
       "<div>\n",
       "<style scoped>\n",
       "    .dataframe tbody tr th:only-of-type {\n",
       "        vertical-align: middle;\n",
       "    }\n",
       "\n",
       "    .dataframe tbody tr th {\n",
       "        vertical-align: top;\n",
       "    }\n",
       "\n",
       "    .dataframe thead th {\n",
       "        text-align: right;\n",
       "    }\n",
       "</style>\n",
       "<table border=\"1\" class=\"dataframe\">\n",
       "  <thead>\n",
       "    <tr style=\"text-align: right;\">\n",
       "      <th></th>\n",
       "      <th>hh0</th>\n",
       "      <th>I</th>\n",
       "      <th>dI</th>\n",
       "    </tr>\n",
       "  </thead>\n",
       "  <tbody>\n",
       "    <tr>\n",
       "      <th>0</th>\n",
       "      <td>-11.9975</td>\n",
       "      <td>142028.0</td>\n",
       "      <td>52309.7</td>\n",
       "    </tr>\n",
       "    <tr>\n",
       "      <th>1</th>\n",
       "      <td>-11.9925</td>\n",
       "      <td>220372.0</td>\n",
       "      <td>62925.4</td>\n",
       "    </tr>\n",
       "    <tr>\n",
       "      <th>2</th>\n",
       "      <td>-11.9875</td>\n",
       "      <td>220002.0</td>\n",
       "      <td>62818.9</td>\n",
       "    </tr>\n",
       "    <tr>\n",
       "      <th>3</th>\n",
       "      <td>-11.9825</td>\n",
       "      <td>518428.0</td>\n",
       "      <td>92939.8</td>\n",
       "    </tr>\n",
       "    <tr>\n",
       "      <th>4</th>\n",
       "      <td>-11.9775</td>\n",
       "      <td>817317.0</td>\n",
       "      <td>127501.0</td>\n",
       "    </tr>\n",
       "  </tbody>\n",
       "</table>\n",
       "</div>"
      ],
      "text/plain": [
       "       hh0         I        dI\n",
       "0 -11.9975  142028.0   52309.7\n",
       "1 -11.9925  220372.0   62925.4\n",
       "2 -11.9875  220002.0   62818.9\n",
       "3 -11.9825  518428.0   92939.8\n",
       "4 -11.9775  817317.0  127501.0"
      ]
     },
     "execution_count": 3,
     "metadata": {},
     "output_type": "execute_result"
    }
   ],
   "source": [
    "coarseData.spectra[3].head()# Check the content of individual datasets after importation"
   ]
  },
  {
   "cell_type": "markdown",
   "metadata": {
    "Collapsed": "false",
    "heading_collapsed": true,
    "hidden": true
   },
   "source": [
    "### Fine data"
   ]
  },
  {
   "cell_type": "code",
   "execution_count": 4,
   "metadata": {
    "Collapsed": "false",
    "hidden": true
   },
   "outputs": [
    {
     "data": {
      "text/html": [
       "<div>\n",
       "<style scoped>\n",
       "    .dataframe tbody tr th:only-of-type {\n",
       "        vertical-align: middle;\n",
       "    }\n",
       "\n",
       "    .dataframe tbody tr th {\n",
       "        vertical-align: top;\n",
       "    }\n",
       "\n",
       "    .dataframe thead th {\n",
       "        text-align: right;\n",
       "    }\n",
       "</style>\n",
       "<table border=\"1\" class=\"dataframe\">\n",
       "  <thead>\n",
       "    <tr style=\"text-align: right;\">\n",
       "      <th></th>\n",
       "      <th>File #</th>\n",
       "      <th>T (K)</th>\n",
       "      <th>H (T)</th>\n",
       "      <th>Proton charge</th>\n",
       "    </tr>\n",
       "  </thead>\n",
       "  <tbody>\n",
       "    <tr>\n",
       "      <th>0</th>\n",
       "      <td>88631</td>\n",
       "      <td>0.605973</td>\n",
       "      <td>0.000000</td>\n",
       "      <td>1.312139</td>\n",
       "    </tr>\n",
       "    <tr>\n",
       "      <th>1</th>\n",
       "      <td>88632</td>\n",
       "      <td>0.613334</td>\n",
       "      <td>0.049998</td>\n",
       "      <td>0.800119</td>\n",
       "    </tr>\n",
       "    <tr>\n",
       "      <th>2</th>\n",
       "      <td>88633</td>\n",
       "      <td>0.605727</td>\n",
       "      <td>0.099996</td>\n",
       "      <td>0.083534</td>\n",
       "    </tr>\n",
       "    <tr>\n",
       "      <th>3</th>\n",
       "      <td>88634</td>\n",
       "      <td>0.625493</td>\n",
       "      <td>0.099996</td>\n",
       "      <td>0.800739</td>\n",
       "    </tr>\n",
       "    <tr>\n",
       "      <th>4</th>\n",
       "      <td>88635</td>\n",
       "      <td>0.618220</td>\n",
       "      <td>0.150005</td>\n",
       "      <td>0.801294</td>\n",
       "    </tr>\n",
       "  </tbody>\n",
       "</table>\n",
       "</div>"
      ],
      "text/plain": [
       "   File #     T (K)     H (T)  Proton charge\n",
       "0   88631  0.605973  0.000000       1.312139\n",
       "1   88632  0.613334  0.049998       0.800119\n",
       "2   88633  0.605727  0.099996       0.083534\n",
       "3   88634  0.625493  0.099996       0.800739\n",
       "4   88635  0.618220  0.150005       0.801294"
      ]
     },
     "execution_count": 4,
     "metadata": {},
     "output_type": "execute_result"
    }
   ],
   "source": [
    "tempPath = r'C:\\Users\\Pierre\\Desktop\\Postdoc\\TmVO4\\TmVO4_neutrons\\2019-02_ORNL_Corelli\\2019-02-14\\p6K\\linecut_f'\n",
    "os.chdir(tempPath)\n",
    "fieldInfo = pd.read_csv('field_info.txt',header=None,names=['File #','T (K)','H (T)','Proton charge'],delimiter=' ')\n",
    "fieldInfo['File #'] = fieldInfo['File #'].astype('int')# replace file number type from float to int\n",
    "fieldInfo.head()\n",
    "# fieldInfo['File #'].dtype# check that the change of datatype is effective"
   ]
  },
  {
   "cell_type": "code",
   "execution_count": 5,
   "metadata": {
    "Collapsed": "false",
    "hidden": true
   },
   "outputs": [
    {
     "data": {
      "text/html": [
       "<div>\n",
       "<style scoped>\n",
       "    .dataframe tbody tr th:only-of-type {\n",
       "        vertical-align: middle;\n",
       "    }\n",
       "\n",
       "    .dataframe tbody tr th {\n",
       "        vertical-align: top;\n",
       "    }\n",
       "\n",
       "    .dataframe thead th {\n",
       "        text-align: right;\n",
       "    }\n",
       "</style>\n",
       "<table border=\"1\" class=\"dataframe\">\n",
       "  <thead>\n",
       "    <tr style=\"text-align: right;\">\n",
       "      <th></th>\n",
       "      <th>filename</th>\n",
       "      <th>T (K)</th>\n",
       "      <th>H (T)</th>\n",
       "      <th>Proton charge</th>\n",
       "      <th>spectra</th>\n",
       "    </tr>\n",
       "  </thead>\n",
       "  <tbody>\n",
       "    <tr>\n",
       "      <th>0</th>\n",
       "      <td>HH0_88631.txt</td>\n",
       "      <td>0.605973</td>\n",
       "      <td>0.000000</td>\n",
       "      <td>1.312139</td>\n",
       "      <td>hh0    I   dI\n",
       "0    -12.99880  0.0  ...</td>\n",
       "    </tr>\n",
       "    <tr>\n",
       "      <th>1</th>\n",
       "      <td>HH0_88632.txt</td>\n",
       "      <td>0.613334</td>\n",
       "      <td>0.049998</td>\n",
       "      <td>0.800119</td>\n",
       "      <td>hh0    I   dI\n",
       "0    -12.99880  0.0  ...</td>\n",
       "    </tr>\n",
       "    <tr>\n",
       "      <th>2</th>\n",
       "      <td>HH0_88633.txt</td>\n",
       "      <td>0.605727</td>\n",
       "      <td>0.099996</td>\n",
       "      <td>0.083534</td>\n",
       "      <td>hh0    I   dI\n",
       "0    -12.99880  0.0  ...</td>\n",
       "    </tr>\n",
       "    <tr>\n",
       "      <th>3</th>\n",
       "      <td>HH0_88634.txt</td>\n",
       "      <td>0.625493</td>\n",
       "      <td>0.099996</td>\n",
       "      <td>0.800739</td>\n",
       "      <td>hh0    I   dI\n",
       "0    -12.99880  0.0  ...</td>\n",
       "    </tr>\n",
       "    <tr>\n",
       "      <th>4</th>\n",
       "      <td>HH0_88635.txt</td>\n",
       "      <td>0.618220</td>\n",
       "      <td>0.150005</td>\n",
       "      <td>0.801294</td>\n",
       "      <td>hh0    I   dI\n",
       "0    -12.99880  0.0  ...</td>\n",
       "    </tr>\n",
       "  </tbody>\n",
       "</table>\n",
       "</div>"
      ],
      "text/plain": [
       "        filename  ...                                            spectra\n",
       "0  HH0_88631.txt  ...             hh0    I   dI\n",
       "0    -12.99880  0.0  ...\n",
       "1  HH0_88632.txt  ...             hh0    I   dI\n",
       "0    -12.99880  0.0  ...\n",
       "2  HH0_88633.txt  ...             hh0    I   dI\n",
       "0    -12.99880  0.0  ...\n",
       "3  HH0_88634.txt  ...             hh0    I   dI\n",
       "0    -12.99880  0.0  ...\n",
       "4  HH0_88635.txt  ...             hh0    I   dI\n",
       "0    -12.99880  0.0  ...\n",
       "\n",
       "[5 rows x 5 columns]"
      ]
     },
     "execution_count": 5,
     "metadata": {},
     "output_type": "execute_result"
    }
   ],
   "source": [
    "tempList = [None]*len(fieldInfo)# Preallocate list to store the data that will then be converted into a Pandas DataFrame\n",
    "for idx in range(len(fieldInfo)):# For each data file\n",
    "    filename = ''.join(['HH0_',str(fieldInfo['File #'][idx]),'.txt'])\n",
    "#     print(filename)\n",
    "    tempDF = pd.read_csv(filename,names=[\"hh0\",\"I\",\"dI\"],skiprows=2,delimiter=',')# Import data as a Pandas DataFrame\n",
    "    tempList[idx] = {'filename': filename,# Store into a dictionary, which is itself an element of dfList: the filename,\n",
    "                     'T (K)': fieldInfo['T (K)'][idx],# temperature,\n",
    "                     'H (T)': fieldInfo['H (T)'][idx],# value of magnetic field,\n",
    "                     'Proton charge': fieldInfo['Proton charge'][idx],# proton charge,\n",
    "                     'spectra': tempDF# and data,\n",
    "                     }\n",
    "linecut_f_raw = pd.DataFrame(tempList)# Convert the list of dictionaries into a Pandas DataFrame\n",
    "linecut_f_raw.head()# Show the resulting DataFrame"
   ]
  },
  {
   "cell_type": "code",
   "execution_count": 6,
   "metadata": {
    "Collapsed": "false",
    "hidden": true
   },
   "outputs": [],
   "source": [
    "del idx, tempPath, filename, tempList, tempDF# delete temporary variables after use "
   ]
  },
  {
   "cell_type": "code",
   "execution_count": 7,
   "metadata": {
    "Collapsed": "false",
    "hidden": true
   },
   "outputs": [
    {
     "data": {
      "text/html": [
       "<div>\n",
       "<style scoped>\n",
       "    .dataframe tbody tr th:only-of-type {\n",
       "        vertical-align: middle;\n",
       "    }\n",
       "\n",
       "    .dataframe tbody tr th {\n",
       "        vertical-align: top;\n",
       "    }\n",
       "\n",
       "    .dataframe thead th {\n",
       "        text-align: right;\n",
       "    }\n",
       "</style>\n",
       "<table border=\"1\" class=\"dataframe\">\n",
       "  <thead>\n",
       "    <tr style=\"text-align: right;\">\n",
       "      <th></th>\n",
       "      <th>hh0</th>\n",
       "      <th>I</th>\n",
       "      <th>dI</th>\n",
       "    </tr>\n",
       "  </thead>\n",
       "  <tbody>\n",
       "    <tr>\n",
       "      <th>180</th>\n",
       "      <td>-12.5487</td>\n",
       "      <td>0.0</td>\n",
       "      <td>0.0</td>\n",
       "    </tr>\n",
       "    <tr>\n",
       "      <th>181</th>\n",
       "      <td>-12.5462</td>\n",
       "      <td>0.0</td>\n",
       "      <td>0.0</td>\n",
       "    </tr>\n",
       "    <tr>\n",
       "      <th>182</th>\n",
       "      <td>-12.5437</td>\n",
       "      <td>0.0</td>\n",
       "      <td>0.0</td>\n",
       "    </tr>\n",
       "    <tr>\n",
       "      <th>183</th>\n",
       "      <td>-12.5412</td>\n",
       "      <td>0.0</td>\n",
       "      <td>0.0</td>\n",
       "    </tr>\n",
       "    <tr>\n",
       "      <th>184</th>\n",
       "      <td>-12.5388</td>\n",
       "      <td>0.0</td>\n",
       "      <td>0.0</td>\n",
       "    </tr>\n",
       "    <tr>\n",
       "      <th>185</th>\n",
       "      <td>-12.5363</td>\n",
       "      <td>0.0</td>\n",
       "      <td>0.0</td>\n",
       "    </tr>\n",
       "  </tbody>\n",
       "</table>\n",
       "</div>"
      ],
      "text/plain": [
       "         hh0    I   dI\n",
       "180 -12.5487  0.0  0.0\n",
       "181 -12.5462  0.0  0.0\n",
       "182 -12.5437  0.0  0.0\n",
       "183 -12.5412  0.0  0.0\n",
       "184 -12.5388  0.0  0.0\n",
       "185 -12.5363  0.0  0.0"
      ]
     },
     "execution_count": 7,
     "metadata": {},
     "output_type": "execute_result"
    }
   ],
   "source": [
    "linecut_f_raw['spectra'][3].loc[180:185]#.head()# Check the content of individual datasets after importation"
   ]
  },
  {
   "cell_type": "markdown",
   "metadata": {
    "Collapsed": "true",
    "heading_collapsed": true
   },
   "source": [
    "## Basic data processing\n",
    "Rescale data and remove \"bad\" data"
   ]
  },
  {
   "cell_type": "markdown",
   "metadata": {
    "Collapsed": "false",
    "hidden": true
   },
   "source": [
    "### Check consistency of dataframes"
   ]
  },
  {
   "cell_type": "markdown",
   "metadata": {
    "Collapsed": "false",
    "hidden": true
   },
   "source": [
    "#### <a name=\"hh0_consistency\"></a>Check that all hh0 data are the same within each dataframe\n",
    "i.e. that all hh0 of coarseData are the same and that all hh0 data of linecut_f_raw are the same"
   ]
  },
  {
   "cell_type": "code",
   "execution_count": 8,
   "metadata": {
    "Collapsed": "false",
    "hidden": true
   },
   "outputs": [],
   "source": [
    "nData_raw = [coarseData,linecut_f_raw]\n",
    "for data_idx in range(len(nData_raw)):# for each dataset\n",
    "    for _, row in nData_raw[data_idx].iterrows():# loop over all rows\n",
    "        if not np.array_equal(row.spectra.hh0,nData_raw[data_idx].spectra[0].hh0):\n",
    "        # and compare the array of hh0 of that row with that of the first row\n",
    "            print(row)# print the row if the two arrays are *not* equal\n",
    "            # should output nothing, which means that all arrays of hh0 are the same *within a dataset*"
   ]
  },
  {
   "cell_type": "markdown",
   "metadata": {
    "Collapsed": "false",
    "hidden": true
   },
   "source": [
    "#### Then check that hh0 data of coarseData differ from that of linecut_f_raw\n",
    "We do not need to loop over all rows since we have shown in the previous cell that all rows are the same within a dataset"
   ]
  },
  {
   "cell_type": "code",
   "execution_count": 9,
   "metadata": {
    "Collapsed": "false",
    "hidden": true
   },
   "outputs": [
    {
     "name": "stdout",
     "output_type": "stream",
     "text": [
      "The arrarys of hh0 are not the same in both datasets\n"
     ]
    }
   ],
   "source": [
    "if not np.array_equal(coarseData.spectra[0].hh0,linecut_f_raw.spectra[0].hh0):\n",
    "# compare the hh0 arrays of the first row of both datasets\n",
    "    print(\"The arrarys of hh0 are not the same in both datasets\")"
   ]
  },
  {
   "cell_type": "markdown",
   "metadata": {
    "Collapsed": "false",
    "hidden": true
   },
   "source": [
    "### Which datasets to analyze and how? \n",
    "\n",
    "#### Update 2020-04-06\n",
    "In fact, ignore the coarse dataset, as it will require a lot of efforts for a minimal result.\n",
    "More interesting would be to analyze the linecut_f dataset at each (hh0) peak position, for h = 6, 8, 10.\n",
    "\n",
    "##### Update 2020-04-03\n",
    "treat both datasets independently in terms of the plotting and fitting\n",
    "\n",
    "##### Outdated ideas\n",
    "involving treating both datasets together, which will make things more complicated, and therefore increases the risks of making errors, in addition to increasing the time required for the analysis:\n",
    "* interpolate spectra of coarseData so that its hh0 array is the same as that of linecut_f_raw\n",
    "* rescale the data, if there is a physical way to do it, otherwise simply treat both datasets separately"
   ]
  },
  {
   "cell_type": "markdown",
   "metadata": {
    "Collapsed": "false",
    "hidden": true
   },
   "source": [
    "### Truely \"deep\" copy of linecut_f\n",
    "such that linecut_f_raw will *not* be modified if lcf_copy is modified\n",
    "\n",
    "The best way to truely, i.e. recursively, deep copy a python object is to `pickle.dump` and `pickle.load` it. \n",
    "That is because `cPickle` is the fastest, as shown [here](https://stackoverflow.com/questions/1410615/copy-deepcopy-vs-pickle),  *and* **in Python 3**, `cPickle` is the default behavior of `pickle`, as explained [here](https://askubuntu.com/a/804618).\n",
    "See also hacks.ipynb, and [here](https://stackoverflow.com/questions/52708341/make-a-truly-deep-copy-of-a-pandas-series). "
   ]
  },
  {
   "cell_type": "code",
   "execution_count": 10,
   "metadata": {
    "Collapsed": "false",
    "hidden": true
   },
   "outputs": [
    {
     "data": {
      "text/html": [
       "<div>\n",
       "<style scoped>\n",
       "    .dataframe tbody tr th:only-of-type {\n",
       "        vertical-align: middle;\n",
       "    }\n",
       "\n",
       "    .dataframe tbody tr th {\n",
       "        vertical-align: top;\n",
       "    }\n",
       "\n",
       "    .dataframe thead th {\n",
       "        text-align: right;\n",
       "    }\n",
       "</style>\n",
       "<table border=\"1\" class=\"dataframe\">\n",
       "  <thead>\n",
       "    <tr style=\"text-align: right;\">\n",
       "      <th></th>\n",
       "      <th>filename</th>\n",
       "      <th>T (K)</th>\n",
       "      <th>H (T)</th>\n",
       "      <th>Proton charge</th>\n",
       "      <th>spectra</th>\n",
       "    </tr>\n",
       "  </thead>\n",
       "  <tbody>\n",
       "    <tr>\n",
       "      <th>0</th>\n",
       "      <td>HH0_88631.txt</td>\n",
       "      <td>0.605973</td>\n",
       "      <td>0.000000</td>\n",
       "      <td>1.312139</td>\n",
       "      <td>hh0    I   dI\n",
       "0    -12.99880  0.0  ...</td>\n",
       "    </tr>\n",
       "    <tr>\n",
       "      <th>1</th>\n",
       "      <td>HH0_88632.txt</td>\n",
       "      <td>0.613334</td>\n",
       "      <td>0.049998</td>\n",
       "      <td>0.800119</td>\n",
       "      <td>hh0    I   dI\n",
       "0    -12.99880  0.0  ...</td>\n",
       "    </tr>\n",
       "    <tr>\n",
       "      <th>2</th>\n",
       "      <td>HH0_88633.txt</td>\n",
       "      <td>0.605727</td>\n",
       "      <td>0.099996</td>\n",
       "      <td>0.083534</td>\n",
       "      <td>hh0    I   dI\n",
       "0    -12.99880  0.0  ...</td>\n",
       "    </tr>\n",
       "    <tr>\n",
       "      <th>3</th>\n",
       "      <td>HH0_88634.txt</td>\n",
       "      <td>0.625493</td>\n",
       "      <td>0.099996</td>\n",
       "      <td>0.800739</td>\n",
       "      <td>hh0    I   dI\n",
       "0    -12.99880  0.0  ...</td>\n",
       "    </tr>\n",
       "    <tr>\n",
       "      <th>4</th>\n",
       "      <td>HH0_88635.txt</td>\n",
       "      <td>0.618220</td>\n",
       "      <td>0.150005</td>\n",
       "      <td>0.801294</td>\n",
       "      <td>hh0    I   dI\n",
       "0    -12.99880  0.0  ...</td>\n",
       "    </tr>\n",
       "  </tbody>\n",
       "</table>\n",
       "</div>"
      ],
      "text/plain": [
       "        filename  ...                                            spectra\n",
       "0  HH0_88631.txt  ...             hh0    I   dI\n",
       "0    -12.99880  0.0  ...\n",
       "1  HH0_88632.txt  ...             hh0    I   dI\n",
       "0    -12.99880  0.0  ...\n",
       "2  HH0_88633.txt  ...             hh0    I   dI\n",
       "0    -12.99880  0.0  ...\n",
       "3  HH0_88634.txt  ...             hh0    I   dI\n",
       "0    -12.99880  0.0  ...\n",
       "4  HH0_88635.txt  ...             hh0    I   dI\n",
       "0    -12.99880  0.0  ...\n",
       "\n",
       "[5 rows x 5 columns]"
      ]
     },
     "execution_count": 10,
     "metadata": {},
     "output_type": "execute_result"
    }
   ],
   "source": [
    "lcf_copy = pickle.loads(pickle.dumps(linecut_f_raw))# fastest python hack to create a truely deep copy\n",
    "# lcf stands for linecut_f, which is the name of the file from which the data was imported\n",
    "# idx = 5\n",
    "lcf_copy.head()#.loc[idx:idx+10]"
   ]
  },
  {
   "cell_type": "markdown",
   "metadata": {
    "Collapsed": "false",
    "hidden": true
   },
   "source": [
    "### Data rescaling\n",
    "This used to be done manually, after noticing that the intensity of the data at 0T was higher than that of the rest of the data. A factor of 0.635 was then used to rescale this spectrum to the level of other data. \n",
    "However, after getting the up-to-date data, it appears that the scaling factor is merely the proton charge, which is a proxy for the counting time of neutrons. With this information, it turns out that the ratio of Proton charges of the spectrum at 0T and that at 0.05T is 1.3 to 0.8. The rescaling factor of the former is thus 0.8/1.3=0.615. Hence the empirical value of 0.635 was a pretty good guess!"
   ]
  },
  {
   "cell_type": "code",
   "execution_count": 11,
   "metadata": {
    "Collapsed": "false",
    "hidden": true
   },
   "outputs": [
    {
     "data": {
      "text/html": [
       "<div>\n",
       "<style scoped>\n",
       "    .dataframe tbody tr th:only-of-type {\n",
       "        vertical-align: middle;\n",
       "    }\n",
       "\n",
       "    .dataframe tbody tr th {\n",
       "        vertical-align: top;\n",
       "    }\n",
       "\n",
       "    .dataframe thead th {\n",
       "        text-align: right;\n",
       "    }\n",
       "</style>\n",
       "<table border=\"1\" class=\"dataframe\">\n",
       "  <thead>\n",
       "    <tr style=\"text-align: right;\">\n",
       "      <th></th>\n",
       "      <th>hh0</th>\n",
       "      <th>I</th>\n",
       "      <th>dI</th>\n",
       "      <th>Inorm</th>\n",
       "      <th>dInorm</th>\n",
       "    </tr>\n",
       "  </thead>\n",
       "  <tbody>\n",
       "    <tr>\n",
       "      <th>1200</th>\n",
       "      <td>-9.99875</td>\n",
       "      <td>1261600.0</td>\n",
       "      <td>94684.7</td>\n",
       "      <td>9.614833e+05</td>\n",
       "      <td>72160.557743</td>\n",
       "    </tr>\n",
       "    <tr>\n",
       "      <th>1201</th>\n",
       "      <td>-9.99625</td>\n",
       "      <td>1230390.0</td>\n",
       "      <td>98819.2</td>\n",
       "      <td>9.376977e+05</td>\n",
       "      <td>75311.519049</td>\n",
       "    </tr>\n",
       "    <tr>\n",
       "      <th>1202</th>\n",
       "      <td>-9.99375</td>\n",
       "      <td>1448420.0</td>\n",
       "      <td>109920.0</td>\n",
       "      <td>1.103862e+06</td>\n",
       "      <td>83771.596753</td>\n",
       "    </tr>\n",
       "    <tr>\n",
       "      <th>1203</th>\n",
       "      <td>-9.99125</td>\n",
       "      <td>2141070.0</td>\n",
       "      <td>124810.0</td>\n",
       "      <td>1.631740e+06</td>\n",
       "      <td>95119.477718</td>\n",
       "    </tr>\n",
       "    <tr>\n",
       "      <th>1204</th>\n",
       "      <td>-9.98875</td>\n",
       "      <td>2560080.0</td>\n",
       "      <td>141466.0</td>\n",
       "      <td>1.951073e+06</td>\n",
       "      <td>107813.252422</td>\n",
       "    </tr>\n",
       "    <tr>\n",
       "      <th>1205</th>\n",
       "      <td>-9.98625</td>\n",
       "      <td>4044660.0</td>\n",
       "      <td>169302.0</td>\n",
       "      <td>3.082493e+06</td>\n",
       "      <td>129027.464278</td>\n",
       "    </tr>\n",
       "  </tbody>\n",
       "</table>\n",
       "</div>"
      ],
      "text/plain": [
       "          hh0          I        dI         Inorm         dInorm\n",
       "1200 -9.99875  1261600.0   94684.7  9.614833e+05   72160.557743\n",
       "1201 -9.99625  1230390.0   98819.2  9.376977e+05   75311.519049\n",
       "1202 -9.99375  1448420.0  109920.0  1.103862e+06   83771.596753\n",
       "1203 -9.99125  2141070.0  124810.0  1.631740e+06   95119.477718\n",
       "1204 -9.98875  2560080.0  141466.0  1.951073e+06  107813.252422\n",
       "1205 -9.98625  4044660.0  169302.0  3.082493e+06  129027.464278"
      ]
     },
     "execution_count": 11,
     "metadata": {},
     "output_type": "execute_result"
    }
   ],
   "source": [
    "##### Rescale data according to their Proton charge\n",
    "for idx, row in lcf_copy.iterrows():\n",
    "    row.spectra['Inorm'] = row.spectra.I/row['Proton charge']\n",
    "    row.spectra['dInorm'] = row.spectra.dI/row['Proton charge']\n",
    "#     print(idx, row['spectra']['I'])\n",
    "idx = 1200# index that allows to look at data close to the (10 10 0) peak\n",
    "lcf_copy.spectra[0].loc[idx:idx+5]# check one of the resulting dataframes"
   ]
  },
  {
   "cell_type": "markdown",
   "metadata": {
    "Collapsed": "false",
    "hidden": true
   },
   "source": [
    "### Find bad data, if any\n",
    "#### Identify datasets with zero intensity and create a new \"clean\" dataset without bad data"
   ]
  },
  {
   "cell_type": "code",
   "execution_count": 12,
   "metadata": {
    "Collapsed": "false",
    "hidden": true
   },
   "outputs": [
    {
     "name": "stdout",
     "output_type": "stream",
     "text": [
      "84\n"
     ]
    }
   ],
   "source": [
    "lcf_clean = lcf_copy.copy()\n",
    "# this is a deepcopy according to Pandas, which is only deep at the lowest order, i.e. not recursively\n",
    "for idx, row in lcf_copy.iterrows():# loop over all spectra\n",
    "    if not np.any(row.spectra.Inorm>0):# if any spectrum has a constant zero intensity\n",
    "        lcf_clean = lcf_copy.drop(idx)\n",
    "        print(idx)# output the row index of lcf_copy containing empty data\n",
    "# lcf_copy.spectra[0].Inorm"
   ]
  },
  {
   "cell_type": "markdown",
   "metadata": {
    "Collapsed": "false",
    "hidden": true
   },
   "source": [
    "### Change default plotting parameters\n",
    "see https://matplotlib.org/3.1.0/api/_as_gen/matplotlib.pyplot.figure.html"
   ]
  },
  {
   "cell_type": "code",
   "execution_count": 13,
   "metadata": {
    "Collapsed": "false",
    "hidden": true
   },
   "outputs": [],
   "source": [
    "%matplotlib qt\n",
    "# plot figures in external window"
   ]
  },
  {
   "cell_type": "code",
   "execution_count": 14,
   "metadata": {
    "Collapsed": "false",
    "hidden": true
   },
   "outputs": [],
   "source": [
    "rcParams[\"figure.figsize\"] = np.multiply([6.4, 4.8],0.5)# default is [6.4, 4.8]"
   ]
  },
  {
   "cell_type": "markdown",
   "metadata": {
    "Collapsed": "false",
    "hidden": true
   },
   "source": [
    "### Batch plot the rest of the spectra to identify other potential bad data"
   ]
  },
  {
   "cell_type": "markdown",
   "metadata": {
    "Collapsed": "false",
    "hidden": true
   },
   "source": [
    "##### Plot spectra by groups of nSpec\n",
    "to see if any spectrum differs from the others.\n",
    "This method may fail if there are more than nSpec bad consecutive spectra. Hence nSpec should not be too small (5 or more should be good)"
   ]
  },
  {
   "cell_type": "code",
   "execution_count": 15,
   "metadata": {
    "Collapsed": "false",
    "hidden": true
   },
   "outputs": [],
   "source": [
    "nSpec = 7# number of curves in each plot\n",
    "nfig = len(lcf_clean)//nSpec+1\n",
    "fig = [None]*(nfig)\n",
    "lgd = [None]*(nfig)\n",
    "for fidx in range(1):#range(nfig):\n",
    "    fig[fidx] = plt.figure()\n",
    "    ax = fig[fidx].add_subplot(1,1,1)\n",
    "    for pidx in range(nSpec*fidx,nSpec*(fidx+1)):\n",
    "        try:\n",
    "            plt.plot(lcf_clean.spectra[pidx].hh0,lcf_clean.spectra[pidx].Inorm,\\\n",
    "                     label=f\"{pidx}, {lcf_clean['H (T)'][pidx]:.2f}\")\n",
    "        except KeyError:# if the index of data to be plotted does not exist\n",
    "            continue# ignore and carry on to the next one\n",
    "    plt.xlim(-10.25,-5.75)\n",
    "    lgd[fidx] = ax.legend(title='Index, H (T)')\n",
    "    lgd[fidx].set_draggable(True)\n",
    "    plt.show()# ensures that all windows come to the foreground"
   ]
  },
  {
   "cell_type": "markdown",
   "metadata": {
    "Collapsed": "false",
    "hidden": true
   },
   "source": [
    "##### Notes --- 2020-04-07\n",
    "* After plotting all spectra together, it appears that only spectra #2 and #85 are \"bad\": the former is very noisy (not too surprising given that its Proton charge is 1/10 of the other data) and the latter has a lower intensity than the other spectra (for an unknown reason).\n",
    "* Both those bad spectra were identified during the measurement, such that another (good) spectrum was measured at both values of magnetic field at which those bad spectra had been measured. Concretely, spectrum #2 was measured at 0.1T and #85 at 0.865T but are bad. Spectra #3 and #104 were also measured at 0.1T and 0.865T, respectively, and are good. Hence, the two bad spectra should just be discarded, there is no reason to try and process them in order to try and make them good: first because there is no way of making good data out of bad data (bad data is just bad data), so it would be a waste of time, and potentially a lot of time, but it would also be complicated, and because the result cannot be good, it can only influence the result of the subsequent fits in a bad way, thus inducing distrust on the results obtained over the whole dataset instead of just two spectra. Bottom line: discard spectra #2 and #85."
   ]
  },
  {
   "cell_type": "markdown",
   "metadata": {
    "Collapsed": "false",
    "hidden": true
   },
   "source": [
    "### Remove bad data \n",
    "as identified in batch plotting"
   ]
  },
  {
   "cell_type": "code",
   "execution_count": 16,
   "metadata": {
    "Collapsed": "false",
    "hidden": true
   },
   "outputs": [],
   "source": [
    "delRowIdx = [2,85]# index of data to remove\n",
    "lcf_clean.drop(delRowIdx,inplace=True)"
   ]
  },
  {
   "cell_type": "markdown",
   "metadata": {
    "Collapsed": "false",
    "hidden": true
   },
   "source": [
    "### Final clean dataset\n",
    "#### Sorted by value of magnetic field"
   ]
  },
  {
   "cell_type": "code",
   "execution_count": 17,
   "metadata": {
    "Collapsed": "false",
    "hidden": true
   },
   "outputs": [],
   "source": [
    "nData = lcf_clean.sort_values(by=['H (T)'],ignore_index=True)\n",
    "# lcf_clean.head()# nData stands for \"neutrons Data\""
   ]
  },
  {
   "cell_type": "markdown",
   "metadata": {
    "Collapsed": "false",
    "hidden": true
   },
   "source": [
    "#### Plot a couple of ENS spectra (ignore after done once)\n",
    "to check consistency between spectra before fitting"
   ]
  },
  {
   "cell_type": "raw",
   "metadata": {
    "Collapsed": "false",
    "hidden": true
   },
   "source": [
    "# Change cell to Raw type in order to avoid running inadvertantly\n",
    "plt.cla()\n",
    "for idx in range(2):\n",
    "    plt.plot(nData.spectra[idx].hh0,nData.spectra[idx].Inorm)"
   ]
  },
  {
   "cell_type": "markdown",
   "metadata": {
    "Collapsed": "true",
    "heading_collapsed": true,
    "hidden": true
   },
   "source": [
    "### Plot entire dataset in 3D\n",
    "as spectrum normalized intensity 'Inorm' vs position in reciprocal space 'hh0' and magnetic field 'H (T)', to check that the field dependence of the data is consistent.\n",
    "#### Ignore after done once\n",
    "Change cells to Raw type in order to avoid running inadvertantly"
   ]
  },
  {
   "cell_type": "markdown",
   "metadata": {
    "Collapsed": "false",
    "hidden": true
   },
   "source": [
    "#### First plot individual spectra in a 3D space"
   ]
  },
  {
   "cell_type": "raw",
   "metadata": {
    "Collapsed": "false",
    "hidden": true
   },
   "source": [
    "fig = plt.figure()\n",
    "ax = plt.axes(projection=\"3d\")\n",
    "for i in range(len(nData)):\n",
    "    H = np.ones(np.shape(nData.spectra[i].hh0))*nData['H (T)'][i]\n",
    "    ax.plot3D(nData.spectra[i].hh0,H,nData.spectra[i].Inorm)\n",
    "del H"
   ]
  },
  {
   "cell_type": "markdown",
   "metadata": {
    "Collapsed": "false",
    "hidden": true
   },
   "source": [
    "#### Then plot 3D color map\n",
    "##### Create meshgrid for 3D color map\n",
    "The mesh can safely be created using hh0 data from the dataset measured at any value of magnetic field, since we've shown [that all hh0 data are the same within the linecut_f dataframe](#hh0_consistency)"
   ]
  },
  {
   "cell_type": "raw",
   "metadata": {
    "Collapsed": "false",
    "hidden": true
   },
   "source": [
    "idx = 0# first dataset, but any row index of nData would do\n",
    "hh0mesh, Hmesh = np.meshgrid(nData.spectra[idx].hh0, nData['H (T)'])\n",
    "hh0lin = hh0mesh.reshape(np.size(hh0mesh))\n",
    "Hlin = Hmesh.reshape(np.size(Hmesh))"
   ]
  },
  {
   "cell_type": "markdown",
   "metadata": {
    "Collapsed": "false",
    "hidden": true
   },
   "source": [
    "##### Create the 2D array that contains the intensity data"
   ]
  },
  {
   "cell_type": "raw",
   "metadata": {
    "Collapsed": "false",
    "hidden": true
   },
   "source": [
    "Imesh = np.stack([nData.spectra[idx].Inorm for idx in range(len(nData))],axis=0)# for mesh\n",
    "Ilin = np.hstack([nData.spectra[idx].Inorm for idx in range(len(nData))])# for griddata"
   ]
  },
  {
   "cell_type": "markdown",
   "metadata": {
    "Collapsed": "false",
    "hidden": true
   },
   "source": [
    "##### Plot the hh0mesh and Hmesh data to see how irregular they are"
   ]
  },
  {
   "cell_type": "raw",
   "metadata": {
    "Collapsed": "false",
    "hidden": true
   },
   "source": [
    "fig = plt.figure()\n",
    "ax = fig.add_subplot(1,1,1)\n",
    "step = 50\n",
    "ax.scatter(hh0mesh[:,::step], Hmesh[:,::step], marker=\".\",s=1)\n",
    "ax.set_xlabel('hh0')\n",
    "ax.set_ylabel('H')\n",
    "plt.show()"
   ]
  },
  {
   "cell_type": "markdown",
   "metadata": {
    "Collapsed": "false",
    "hidden": true
   },
   "source": [
    "##### Conclusion\n",
    "The hh0 data looks pretty regular, however the magnetic field data is not\n",
    "##### Update\n",
    "That should not prevent from plotting in 3D"
   ]
  },
  {
   "cell_type": "markdown",
   "metadata": {
    "Collapsed": "false",
    "hidden": true
   },
   "source": [
    "#### Use griddata to interpolate the intensity data over a regular array"
   ]
  },
  {
   "cell_type": "raw",
   "metadata": {
    "Collapsed": "false",
    "hidden": true
   },
   "source": [
    "Hrange = np.arange(0,1.5,0.005)# regular array of magnetic field values to interpolate on\n",
    "hh0meshInterp, HmeshInterp = np.meshgrid(nData.spectra[idx].hh0, Hrange)# meshgrid for interpolated data\n",
    "Iinterp = griddata(np.array([hh0lin, Hlin]).T, Ilin, (hh0meshInterp, HmeshInterp), method='linear')"
   ]
  },
  {
   "cell_type": "markdown",
   "metadata": {
    "Collapsed": "false",
    "hidden": true
   },
   "source": [
    "#### Plot 3D surface\n",
    "Note: Matplotlib does not do a very good job of plotting the 3D surface when the xlim is not adapted to the range of the data and when there is noise in the data: in our case, it looks like spectra are plotted individually rather than as a continuous surface. When zooming on each peak, the surface looks a little better. Perhaps look for a better 3D visualization tool."
   ]
  },
  {
   "cell_type": "raw",
   "metadata": {
    "Collapsed": "false",
    "hidden": true
   },
   "source": [
    "fig = plt.figure()\n",
    "ax = fig.gca(projection='3d')\n",
    "mesh_select = np.logical_and(hh0mesh > -10.1, hh0mesh < -9.9)\n",
    "# surf = ax.plot_surface(np.where(mesh_select,hh0mesh,np.nan),\n",
    "#                        np.where(mesh_select,Hmesh,np.nan),\n",
    "#                        np.where(mesh_select,Imesh,np.nan),\n",
    "#                        cmap=cm.coolwarm,\n",
    "#                        linewidth=0, antialiased=False)\n",
    "surf = ax.plot_surface(hh0mesh,Hmesh,Imesh, cmap=cm.rainbow)\n",
    "# surf = ax.plot_surface(hh0meshInterp,HmeshInterp,Iinterp, cmap=cm.coolwarm)\n",
    "# ax.zaxis.set_major_locator(LinearLocator(10))\n",
    "# ax.zaxis.set_major_formatter(FormatStrFormatter('%.2g'))\n",
    "plt.xlim(-10.1, -9.9)\n",
    "# Add a color bar which maps values to colors.\n",
    "fig.colorbar(surf, shrink=0.5, aspect=5)\n",
    "plt.show()"
   ]
  },
  {
   "cell_type": "markdown",
   "metadata": {
    "Collapsed": "false",
    "hidden": true
   },
   "source": [
    "#### Matplotlib example of 3D surface plotting"
   ]
  },
  {
   "cell_type": "raw",
   "metadata": {
    "Collapsed": "false",
    "hidden": true
   },
   "source": [
    "fig = plt.figure()\n",
    "ax = fig.gca(projection='3d')\n",
    "\n",
    "# Make data.\n",
    "X = np.arange(-5, 5, 0.25)\n",
    "Y = np.arange(-5, 5, 0.25)\n",
    "X, Y = np.meshgrid(X, Y)\n",
    "R = np.sqrt(X**2 + Y**2)\n",
    "Z = np.sin(R)\n",
    "\n",
    "# Plot the surface.\n",
    "surf = ax.plot_surface(X, Y, Z, cmap=cm.coolwarm,\n",
    "                       linewidth=0, antialiased=False)"
   ]
  },
  {
   "cell_type": "markdown",
   "metadata": {
    "Collapsed": "true",
    "heading_collapsed": true
   },
   "source": [
    "## Fit individual dataset above Hc"
   ]
  },
  {
   "cell_type": "markdown",
   "metadata": {
    "Collapsed": "true",
    "heading_collapsed": true,
    "hidden": true
   },
   "source": [
    "### Define fit functions"
   ]
  },
  {
   "cell_type": "code",
   "execution_count": 31,
   "metadata": {
    "Collapsed": "false",
    "hidden": true
   },
   "outputs": [],
   "source": [
    "def plot_fit_result(x, y, fitresult):\n",
    "    \"\"\"\n",
    "    Plot result of fit using an lmfit Model object\n",
    "    \"\"\"\n",
    "    fig = plt.figure()\n",
    "    plt.plot(x, y, 'bo')\n",
    "    plt.plot(x, fitresult.init_fit, 'k--', label='initial fit')\n",
    "    plt.plot(x, fitresult.best_fit, 'r-', label='best fit')\n",
    "    plt.legend(loc='best')\n",
    "    plt.show()\n",
    "    "
   ]
  },
  {
   "cell_type": "markdown",
   "metadata": {
    "Collapsed": "true",
    "hidden": true
   },
   "source": [
    "#### Attempt to an iteration callback function\n",
    "Does not work as of 2020-04-14"
   ]
  },
  {
   "cell_type": "code",
   "execution_count": 35,
   "metadata": {
    "Collapsed": "false",
    "hidden": true
   },
   "outputs": [],
   "source": [
    "def iter_func(params, iter_num, resid, x):\n",
    "    print(iter_num)\n",
    "    return True"
   ]
  },
  {
   "cell_type": "markdown",
   "metadata": {
    "Collapsed": "true",
    "heading_collapsed": true,
    "hidden": true
   },
   "source": [
    "### Fit example adapted from the lmfit documentation \n",
    "(section \"Modeling Data and Curve Fitting)"
   ]
  },
  {
   "cell_type": "code",
   "execution_count": 30,
   "metadata": {
    "Collapsed": "false",
    "hidden": true
   },
   "outputs": [
    {
     "name": "stdout",
     "output_type": "stream",
     "text": [
      "parameter names: ['amp', 'cen', 'wid']\n",
      "independent variables: ['x']\n"
     ]
    },
    {
     "data": {
      "text/html": [
       "<table><tr><th> name </th><th> value </th><th> initial value </th><th> min </th><th> max </th><th> vary </th></tr><tr><td> amp </td><td>  20.0000000 </td><td> None </td><td>        -inf </td><td>         inf </td><td> True </td></tr><tr><td> cen </td><td>  5.00000000 </td><td> None </td><td>        -inf </td><td>         inf </td><td> True </td></tr><tr><td> wid </td><td>  1.00000000 </td><td> None </td><td>        -inf </td><td>         inf </td><td> True </td></tr></table>"
      ],
      "text/plain": [
       "Parameters([('amp', <Parameter 'amp', value=20, bounds=[-inf:inf]>),\n",
       "            ('cen', <Parameter 'cen', value=5, bounds=[-inf:inf]>),\n",
       "            ('wid', <Parameter 'wid', value=1, bounds=[-inf:inf]>)])"
      ]
     },
     "execution_count": 30,
     "metadata": {},
     "output_type": "execute_result"
    }
   ],
   "source": [
    "def gaussian(x, amp, cen, wid):\n",
    "    return amp * np.exp(-(x-cen)**2 / wid)\n",
    "gmodel = Model(gaussian)\n",
    "print('parameter names: {}'.format(gmodel.param_names))\n",
    "print('independent variables: {}'.format(gmodel.independent_vars))\n",
    "gparams = gmodel.make_params(cen=5, amp=20, wid=1)\n",
    "gparams"
   ]
  },
  {
   "cell_type": "code",
   "execution_count": 31,
   "metadata": {
    "Collapsed": "false",
    "hidden": true
   },
   "outputs": [
    {
     "name": "stdout",
     "output_type": "stream",
     "text": [
      "[[Model]]\n",
      "    Model(gaussian)\n",
      "[[Fit Statistics]]\n",
      "    # fitting method   = leastsq\n",
      "    # function evals   = 17\n",
      "    # data points      = 101\n",
      "    # variables        = 3\n",
      "    chi-square         = 8.43330605\n",
      "    reduced chi-square = 0.08605414\n",
      "    Akaike info crit   = -244.776096\n",
      "    Bayesian info crit = -236.930735\n",
      "[[Variables]]\n",
      "    amp:  19.9229410 +/- 0.10155032 (0.51%) (init = 5)\n",
      "    cen:  4.99454353 +/- 0.00415645 (0.08%) (init = 5)\n",
      "    wid:  0.99742555 +/- 0.01174109 (1.18%) (init = 1)\n",
      "[[Correlations]] (unreported correlations are < 0.100)\n",
      "    C(amp, wid) = -0.577\n"
     ]
    }
   ],
   "source": [
    "x = np.linspace(0,10,101)\n",
    "noise = np.random.rand(101)-0.5\n",
    "y = gaussian(x,amp=20,cen=5,wid=1)+noise\n",
    "# fig = plt.figure()\n",
    "# plt.plot(x, y)\n",
    "# plt.show()\n",
    "result = gmodel.fit(y, x=x, amp=5, cen=5, wid=1)\n",
    "print(result.fit_report())\n",
    "plot_fit_result(x, y, result)"
   ]
  },
  {
   "cell_type": "markdown",
   "metadata": {
    "Collapsed": "false",
    "heading_collapsed": true,
    "hidden": true
   },
   "source": [
    "### General parameters for our problem"
   ]
  },
  {
   "cell_type": "code",
   "execution_count": 34,
   "metadata": {
    "Collapsed": "false",
    "hidden": true
   },
   "outputs": [],
   "source": [
    "peak_center = -8.0# center of unsplit peak to be studied in the following, in reciprocal space units\n",
    "npeak_interval = .15# half of plot interval\n",
    "Hc_0 = 0.51# value in Tesla units of the critical field at zero temperature\n",
    "# in the absence of demagnetizing factor\n",
    "# see data taken on needles of TmVO4-LS5200 in July 2017"
   ]
  },
  {
   "cell_type": "markdown",
   "metadata": {
    "Collapsed": "false",
    "hidden": true
   },
   "source": [
    "### Single-peak fit with single pVIC function on single spectrum\n",
    "measured above Hc, where the peaks are unsplit"
   ]
  },
  {
   "cell_type": "markdown",
   "metadata": {
    "Collapsed": "true",
    "hidden": true
   },
   "source": [
    "#### Select data"
   ]
  },
  {
   "cell_type": "code",
   "execution_count": 37,
   "metadata": {
    "Collapsed": "false",
    "hidden": true
   },
   "outputs": [
    {
     "data": {
      "text/plain": [
       "1940   -8.14875\n",
       "1941   -8.14625\n",
       "1942   -8.14375\n",
       "1943   -8.14125\n",
       "1944   -8.13875\n",
       "Name: hh0, dtype: float64"
      ]
     },
     "execution_count": 37,
     "metadata": {},
     "output_type": "execute_result"
    }
   ],
   "source": [
    "dat_idx = 100\n",
    "data_select = np.logical_and(nData.spectra[dat_idx].hh0 > peak_center - npeak_interval, \n",
    "                             nData.spectra[dat_idx].hh0 < peak_center + npeak_interval)\n",
    "X = nData.spectra[dat_idx].hh0[data_select]# select data for first fit\n",
    "Yfitdata = nData.spectra[dat_idx].Inorm[data_select]\n",
    "X.head()"
   ]
  },
  {
   "cell_type": "markdown",
   "metadata": {
    "Collapsed": "false",
    "hidden": true
   },
   "source": [
    "#### Perform fit with Gaussian model as a first try"
   ]
  },
  {
   "cell_type": "code",
   "execution_count": 33,
   "metadata": {
    "Collapsed": "false",
    "hidden": true
   },
   "outputs": [
    {
     "name": "stdout",
     "output_type": "stream",
     "text": [
      "[[Model]]\n",
      "    Model(gaussian)\n",
      "[[Fit Statistics]]\n",
      "    # fitting method   = leastsq\n",
      "    # function evals   = 33\n",
      "    # data points      = 120\n",
      "    # variables        = 3\n",
      "    chi-square         = 2.6305e+12\n",
      "    reduced chi-square = 2.2483e+10\n",
      "    Akaike info crit   = 2863.28327\n",
      "    Bayesian info crit = 2871.64575\n",
      "[[Variables]]\n",
      "    amp:  4232624.39 +/- 61044.4590 (1.44%) (init = 4000000)\n",
      "    cen: -7.99724868 +/- 2.1258e-04 (0.00%) (init = -8)\n",
      "    wid:  3.2588e-04 +/- 1.0854e-05 (3.33%) (init = 0.001)\n",
      "[[Correlations]] (unreported correlations are < 0.100)\n",
      "    C(amp, wid) = -0.577\n"
     ]
    }
   ],
   "source": [
    "np.seterr(all='warn')# Set how floating-point errors are handled\n",
    "# Setting warnings will help identify computation issues that may result in an unsuccessful fitting procedure\n",
    "ngparams = gmodel.make_params(cen=peak_center, amp=4e6, wid=1e-3)\n",
    "# Yeval = gmodel.eval(ngparams,x=X)# evaluate model using initial parameters\n",
    "result = gmodel.fit(data=Yfitdata, params=ngparams, x=X)\n",
    "print(result.fit_report())\n",
    "plot_fit_result(X, Yfitdata, result)"
   ]
  },
  {
   "cell_type": "markdown",
   "metadata": {
    "Collapsed": "false",
    "hidden": true
   },
   "source": [
    "#### Single pVIC fit model"
   ]
  },
  {
   "cell_type": "markdown",
   "metadata": {
    "Collapsed": "false",
    "hidden": true
   },
   "source": [
    "##### Make model from fit function"
   ]
  },
  {
   "cell_type": "code",
   "execution_count": 32,
   "metadata": {
    "Collapsed": "false",
    "hidden": true
   },
   "outputs": [
    {
     "name": "stdout",
     "output_type": "stream",
     "text": [
      "parameter names: ['A', 'alpha', 'beta', 'R', 'gamma', 'sigma', 'k', 'xp']\n",
      "independent variables: ['x']\n"
     ]
    }
   ],
   "source": [
    "from ENS_peak_fit_pVIC_py.pseudoVoigtIkedaCarpenter import pVIC, xpVIC_residual, xpVIC_init_prm\n",
    "pvic_model = Model(pVIC)# create Model object from the lmfit module\n",
    "print(f'parameter names: {pvic_model.param_names}')\n",
    "print(f'independent variables: {pvic_model.independent_vars}')"
   ]
  },
  {
   "cell_type": "markdown",
   "metadata": {
    "Collapsed": "false",
    "hidden": true
   },
   "source": [
    "#### Fit parameters\n",
    "##### Create fit parameters and specify their properties\n",
    "including initial values, constraints, etc."
   ]
  },
  {
   "cell_type": "code",
   "execution_count": 35,
   "metadata": {
    "Collapsed": "false",
    "hidden": true
   },
   "outputs": [
    {
     "data": {
      "text/html": [
       "<table><tr><th> name </th><th> value </th><th> initial value </th><th> min </th><th> max </th><th> vary </th></tr><tr><td> A </td><td>  200000.000 </td><td> None </td><td>  0.00000000 </td><td>         inf </td><td> True </td></tr><tr><td> alpha </td><td>  140.000000 </td><td> None </td><td>  0.00000000 </td><td>         inf </td><td> True </td></tr><tr><td> beta </td><td>  1.0000e-03 </td><td> None </td><td>  0.00000000 </td><td>         inf </td><td> True </td></tr><tr><td> R </td><td>  1.0000e-03 </td><td> None </td><td>  0.00000000 </td><td>         inf </td><td> True </td></tr><tr><td> gamma </td><td>  1.0000e-03 </td><td> None </td><td>  0.00000000 </td><td>         inf </td><td> True </td></tr><tr><td> sigma </td><td>  0.00660000 </td><td> None </td><td>  0.00000000 </td><td>         inf </td><td> True </td></tr><tr><td> k </td><td>  0.05000000 </td><td> None </td><td>  0.00000000 </td><td>         inf </td><td> False </td></tr><tr><td> xp </td><td> -8.00000000 </td><td> None </td><td>        -inf </td><td>         inf </td><td> True </td></tr></table>"
      ],
      "text/plain": [
       "Parameters([('A', <Parameter 'A', value=200000.0, bounds=[0:inf]>),\n",
       "            ('alpha', <Parameter 'alpha', value=140, bounds=[0:inf]>),\n",
       "            ('beta', <Parameter 'beta', value=0.001, bounds=[0:inf]>),\n",
       "            ('R', <Parameter 'R', value=0.001, bounds=[0:inf]>),\n",
       "            ('gamma', <Parameter 'gamma', value=0.001, bounds=[0:inf]>),\n",
       "            ('sigma', <Parameter 'sigma', value=0.0066, bounds=[0:inf]>),\n",
       "            ('k', <Parameter 'k', value=0.05 (fixed), bounds=[0:inf]>),\n",
       "            ('xp', <Parameter 'xp', value=-8.0, bounds=[-inf:inf]>)])"
      ]
     },
     "execution_count": 35,
     "metadata": {},
     "output_type": "execute_result"
    }
   ],
   "source": [
    "pvic_params = pvic_model.make_params(A=2e5, alpha=140, beta=1e-3, R=1e-3, \n",
    "                                     gamma=1e-3, sigma=6.6e-3, k=.05, xp=peak_center)\n",
    "# Yfitdata = nData.spectra[0].Inorm\n",
    "# pvic_params = pvic_model.guess(Yfitdata)# returns NotImplementedError\n",
    "for k in pvic_params.keys():\n",
    "    pvic_params[k].set(min=0, vary=True)\n",
    "#     pvic_params[k].init_value = pvic_params[k].value\n",
    "#     print(k)\n",
    "pvic_params['xp'].set(min=-np.inf)\n",
    "pvic_params['k'].vary = False\n",
    "pvic_params"
   ]
  },
  {
   "cell_type": "markdown",
   "metadata": {
    "Collapsed": "true",
    "hidden": true
   },
   "source": [
    "#### Evaluate fit function"
   ]
  },
  {
   "cell_type": "code",
   "execution_count": 38,
   "metadata": {
    "Collapsed": "false",
    "hidden": true
   },
   "outputs": [],
   "source": [
    "np.seterr(all='warn')# Set how floating-point errors are handled\n",
    "Yeval = pvic_model.eval(pvic_params,x=X)# evaluate model using initial parameters\n",
    "fig = plt.figure()\n",
    "plt.plot(X,Yeval)\n",
    "plt.plot(X,Yfitdata)\n",
    "plt.show()"
   ]
  },
  {
   "cell_type": "markdown",
   "metadata": {
    "Collapsed": "true",
    "hidden": true
   },
   "source": [
    "#### Next steps as of 2020-04-14\n",
    "* Play with values of beta to get best fit result; in particular, let beta vary (with max value of 800?)\n",
    "* Is there a way to output the adjusted R**2 of the fit?"
   ]
  },
  {
   "cell_type": "markdown",
   "metadata": {
    "Collapsed": "false",
    "hidden": true
   },
   "source": [
    "#### Narrowing down the number of free parameters"
   ]
  },
  {
   "cell_type": "markdown",
   "metadata": {
    "Collapsed": "false",
    "hidden": true
   },
   "source": [
    "##### 7 free parameters\n",
    "all but k"
   ]
  },
  {
   "cell_type": "code",
   "execution_count": 124,
   "metadata": {
    "Collapsed": "false",
    "hidden": true
   },
   "outputs": [
    {
     "name": "stdout",
     "output_type": "stream",
     "text": [
      "[[Model]]\n",
      "    Model(pVIC)\n",
      "[[Fit Statistics]]\n",
      "    # fitting method   = leastsq\n",
      "    # function evals   = 95\n",
      "    # data points      = 120\n",
      "    # variables        = 5\n",
      "    chi-square         = 3.3204e+11\n",
      "    reduced chi-square = 2.8873e+09\n",
      "    Akaike info crit   = 2618.92465\n",
      "    Bayesian info crit = 2632.86211\n",
      "[[Variables]]\n",
      "    A:      139800.679 +/- 1060.80779 (0.76%) (init = 200000)\n",
      "    alpha:  130.275459 +/- 1.93231449 (1.48%) (init = 140)\n",
      "    beta:   1e-10 (fixed)\n",
      "    R:      0 (fixed)\n",
      "    gamma:  2.2694e-07 +/- 1.8336e-04 (80796.03%) (init = 0.001)\n",
      "    sigma:  0.00596552 +/- 2.3801e-04 (3.99%) (init = 0.0066)\n",
      "    k:      0.05 (fixed)\n",
      "    xp:    -8.01731207 +/- 2.3160e-04 (0.00%) (init = -8)\n",
      "[[Correlations]] (unreported correlations are < 0.100)\n",
      "    C(alpha, xp)    =  0.949\n",
      "    C(A, gamma)     =  0.722\n",
      "    C(gamma, sigma) = -0.480\n",
      "    C(alpha, sigma) =  0.452\n",
      "    C(sigma, xp)    =  0.444\n",
      "    C(alpha, gamma) =  0.394\n",
      "    C(gamma, xp)    =  0.355\n",
      "    C(A, sigma)     = -0.346\n"
     ]
    }
   ],
   "source": [
    "pvic_params['beta'].set(value=1e-10, vary=False)\n",
    "pvic_params['R'].set(value=0, vary=False)\n",
    "# pvic_params\n",
    "result = pvic_model.fit(data=Yfitdata, params=pvic_params, x=X)\n",
    "print(result.fit_report())\n",
    "plot_fit_result(X, Yfitdata, result)"
   ]
  },
  {
   "cell_type": "markdown",
   "metadata": {
    "Collapsed": "false",
    "hidden": true
   },
   "source": [
    "The above yields too many correlations between parameters\n",
    "The resulting plot also has an unphysical dip in the resulting fit function"
   ]
  },
  {
   "cell_type": "markdown",
   "metadata": {
    "Collapsed": "false",
    "hidden": true
   },
   "source": [
    "##### 6 free parameters"
   ]
  },
  {
   "cell_type": "code",
   "execution_count": 66,
   "metadata": {
    "Collapsed": "false",
    "hidden": true
   },
   "outputs": [
    {
     "name": "stdout",
     "output_type": "stream",
     "text": [
      "[[Model]]\n",
      "    Model(pVIC)\n",
      "[[Fit Statistics]]\n",
      "    # fitting method   = leastsq\n",
      "    # function evals   = 105\n",
      "    # data points      = 120\n",
      "    # variables        = 5\n",
      "    chi-square         = 3.3204e+11\n",
      "    reduced chi-square = 2.8873e+09\n",
      "    Akaike info crit   = 2618.92398\n",
      "    Bayesian info crit = 2632.86144\n",
      "[[Variables]]\n",
      "    A:      139800.970 +/- 832.210128 (0.60%) (init = 200000)\n",
      "    alpha:  130.269301 +/- 1.82009419 (1.40%) (init = 140)\n",
      "    beta:   1e-10 (fixed)\n",
      "    R:      0 (fixed)\n",
      "    gamma:  1.0779e-07 +/- 1.4438e-04 (133947.70%) (init = 0.001)\n",
      "    sigma:  0.00596479 +/- 2.2440e-04 (3.76%) (init = 0.0066)\n",
      "    k:      0.05 (fixed)\n",
      "    x0:    -8.01731281 +/- 2.1916e-04 (0.00%) (init = -8)\n",
      "[[Correlations]] (unreported correlations are < 0.100)\n",
      "    C(alpha, x0)    =  0.942\n",
      "    C(alpha, sigma) =  0.641\n",
      "    C(sigma, x0)    =  0.631\n",
      "    C(A, gamma)     =  0.472\n",
      "    C(gamma, sigma) = -0.366\n",
      "    C(A, x0)        = -0.227\n",
      "    C(alpha, gamma) =  0.219\n",
      "    C(A, alpha)     = -0.212\n",
      "    C(A, sigma)     = -0.173\n",
      "    C(gamma, x0)    =  0.156\n"
     ]
    },
    {
     "data": {
      "text/plain": [
       "Text(0.5, 1.0, \"5 free parameters: ['A', 'alpha', 'gamma', 'sigma', 'x0']\")"
      ]
     },
     "execution_count": 66,
     "metadata": {},
     "output_type": "execute_result"
    }
   ],
   "source": [
    "pvic_params['beta'].set(value=1e-10, vary=False)\n",
    "pvic_params['R'].set(value=0, vary=False)\n",
    "result = pvic_model.fit(data=Yfitdata, params=pvic_params, x=X)\n",
    "print(result.fit_report())\n",
    "plot_fit_result(X, Yfitdata, result)\n",
    "freeParams = [k for k in list(pvic_params.keys()) if pvic_params[k].vary==True]\n",
    "plt.title(f\"{len(freeParams)} free parameters: {freeParams}\")"
   ]
  },
  {
   "cell_type": "markdown",
   "metadata": {
    "Collapsed": "false"
   },
   "source": [
    "## Batch fit data above Hc \n",
    "to determine the values of shared parameters"
   ]
  },
  {
   "cell_type": "markdown",
   "metadata": {
    "Collapsed": "false"
   },
   "source": [
    "#### Next steps as of 2020-04-26\n",
    "* Find optimal number of spectra to fit with when no parameter is fixed\n",
    "* Check whether using 1/dY is better than 1/dY^2 for weights\n",
    "* Fix shared parameters in order of increasing error in result of previous fit\n",
    "* Copy steps for the (8 8 0) peak\n",
    "* After fixing the values of the shared parameters, extend to fitting with two pVIC functions at all fields\n",
    "* Extract splitting"
   ]
  },
  {
   "cell_type": "markdown",
   "metadata": {
    "Collapsed": "false",
    "heading_collapsed": true
   },
   "source": [
    "### Import fit function and make an lmfit model out of it"
   ]
  },
  {
   "cell_type": "code",
   "execution_count": 28,
   "metadata": {
    "Collapsed": "false",
    "hidden": true
   },
   "outputs": [
    {
     "name": "stdout",
     "output_type": "stream",
     "text": [
      "parameter names: ['A', 'alpha', 'beta', 'R', 'gamma', 'sigma', 'k', 'xp']\n",
      "independent variables: ['x']\n"
     ]
    }
   ],
   "source": [
    "from ENS_peak_fit_pVIC_py.pseudoVoigtIkedaCarpenter import pVIC, xpVIC_residual, xpVIC_init_prm\n",
    "pvic_model = Model(pVIC)# create Model object from the lmfit module\n",
    "print(f'parameter names: {pvic_model.param_names}')\n",
    "print(f'independent variables: {pvic_model.independent_vars}')"
   ]
  },
  {
   "cell_type": "markdown",
   "metadata": {
    "Collapsed": "false"
   },
   "source": [
    "### Batch fitting functions"
   ]
  },
  {
   "cell_type": "code",
   "execution_count": 276,
   "metadata": {
    "Collapsed": "false",
    "scrolled": true
   },
   "outputs": [],
   "source": [
    "from ENS_peak_fit_pVIC_py.batch_pVIC_fitting import xyBatchFitNData, xFitInitParams, xFitInitParams2, bestFitParams, plotMultipleFit\n",
    "from ENS_peak_fit_pVIC_py.xpvic_fit_cls import xpvic_fit"
   ]
  },
  {
   "cell_type": "markdown",
   "metadata": {
    "Collapsed": "false"
   },
   "source": [
    "### Batch fitting of single (10 10 0) peak spectra with single pVIC function\n",
    "above Hc\n",
    "\n",
    "This will help fix the value of the parameters shared by all spectra, i.e. alpha, beta, R, gamma and sigma"
   ]
  },
  {
   "cell_type": "markdown",
   "metadata": {
    "Collapsed": "true",
    "heading_collapsed": true
   },
   "source": [
    "#### Dataset selection"
   ]
  },
  {
   "cell_type": "code",
   "execution_count": 24,
   "metadata": {
    "Collapsed": "false",
    "hidden": true
   },
   "outputs": [],
   "source": [
    "peak_center = -10.0# center of unsplit peak to be studied in the following, in reciprocal space units\n",
    "npeak_interval = .15# half of plot interval\n",
    "dat_idx = len(nData.spectra)-1\n",
    "data_select = np.logical_and(nData.spectra[dat_idx].hh0 > peak_center - npeak_interval, \n",
    "                             nData.spectra[dat_idx].hh0 < peak_center + npeak_interval)"
   ]
  },
  {
   "cell_type": "markdown",
   "metadata": {
    "Collapsed": "true",
    "heading_collapsed": true
   },
   "source": [
    "#### Create fit parameters and specify their properties\n",
    "including initial values, constraints, etc.\n",
    "Note: when all pVIC parameters (except k) are free, the fit is very sensitive to initial values and can easily produce NaN numbers.\n",
    "The following initial parameters appear to yield a result without raising any error:\n",
    "A=2e5, alpha=140, beta=1e-3, R=1e-3, gamma=1e-3, sigma=6.6e-3, k=.05, xp=peak_center"
   ]
  },
  {
   "cell_type": "code",
   "execution_count": 29,
   "metadata": {
    "Collapsed": "false",
    "hidden": true
   },
   "outputs": [
    {
     "data": {
      "text/html": [
       "<table><tr><th> name </th><th> value </th><th> initial value </th><th> min </th><th> max </th><th> vary </th></tr><tr><td> A </td><td>  200000.000 </td><td> None </td><td>  0.00000000 </td><td>         inf </td><td> True </td></tr><tr><td> alpha </td><td>  140.000000 </td><td> None </td><td>  0.00000000 </td><td>         inf </td><td> True </td></tr><tr><td> beta </td><td>  1.0000e-03 </td><td> None </td><td>  0.00000000 </td><td>         inf </td><td> True </td></tr><tr><td> R </td><td>  1.0000e-03 </td><td> None </td><td>  0.00000000 </td><td>         inf </td><td> True </td></tr><tr><td> gamma </td><td>  1.0000e-03 </td><td> None </td><td>  0.00000000 </td><td>         inf </td><td> True </td></tr><tr><td> sigma </td><td>  0.00660000 </td><td> None </td><td>  0.00000000 </td><td>         inf </td><td> True </td></tr><tr><td> k </td><td>  0.05000000 </td><td> None </td><td>  0.00000000 </td><td>         inf </td><td> False </td></tr><tr><td> xp </td><td> -10.0000000 </td><td> None </td><td>        -inf </td><td>         inf </td><td> True </td></tr></table>"
      ],
      "text/plain": [
       "Parameters([('A', <Parameter 'A', value=200000.0, bounds=[0:inf]>),\n",
       "            ('alpha', <Parameter 'alpha', value=140, bounds=[0:inf]>),\n",
       "            ('beta', <Parameter 'beta', value=0.001, bounds=[0:inf]>),\n",
       "            ('R', <Parameter 'R', value=0.001, bounds=[0:inf]>),\n",
       "            ('gamma', <Parameter 'gamma', value=0.001, bounds=[0:inf]>),\n",
       "            ('sigma', <Parameter 'sigma', value=0.0066, bounds=[0:inf]>),\n",
       "            ('k', <Parameter 'k', value=0.05 (fixed), bounds=[0:inf]>),\n",
       "            ('xp', <Parameter 'xp', value=-10.0, bounds=[-inf:inf]>)])"
      ]
     },
     "execution_count": 29,
     "metadata": {},
     "output_type": "execute_result"
    }
   ],
   "source": [
    "pvic_params = pvic_model.make_params(A=2e5, alpha=140, beta=1e-3, R=1e-3, \n",
    "                                     gamma=1e-3, sigma=6.6e-3, k=.05, xp=peak_center)\n",
    "for k in pvic_params.keys():\n",
    "    pvic_params[k].set(min=0, vary=True)\n",
    "pvic_params['xp'].set(min=-np.inf)\n",
    "pvic_params['k'].vary = False\n",
    "pvic_params"
   ]
  },
  {
   "cell_type": "markdown",
   "metadata": {
    "Collapsed": "false"
   },
   "source": [
    "#### Create dictionary to hold fit results\n",
    "Its first key holds a list of the number of free parameters shared across all datasets\n",
    "\n",
    "Its second key will hold the Minimizer.Result objects generated from the lmfit.minimize function"
   ]
  },
  {
   "cell_type": "code",
   "execution_count": 277,
   "metadata": {
    "Collapsed": "false"
   },
   "outputs": [],
   "source": [
    "numFitIterations = 5\n",
    "# Create list of dictionaries that will contain information about the fits\n",
    "# performed with various number of shared fit parameters\n",
    "# xfit10 = [dict(freeSharedPrms=None, init_params=None, result=None) for _ in range(numFitIterations)]\n",
    "# xfit10 is the variable for the fit of peak (10 10 0)\n",
    "\n",
    "# Non-weigthed fit object\n",
    "xFit10 = [xpvic_fit(peak_center, nData, pvic_params)  for _ in range(numFitIterations)]\n",
    "# Weigthed fit object\n",
    "xwFit10 = [xpvic_fit(peak_center, nData, pvic_params)  for _ in range(numFitIterations)]"
   ]
  },
  {
   "cell_type": "markdown",
   "metadata": {
    "Collapsed": "false"
   },
   "source": [
    "#### Fit with 2 independent free parameters per dataset and 5 free parameters shared between all datasets"
   ]
  },
  {
   "cell_type": "code",
   "execution_count": 278,
   "metadata": {
    "Collapsed": "false"
   },
   "outputs": [
    {
     "name": "stderr",
     "output_type": "stream",
     "text": [
      "C:\\Users\\Pierre\\Desktop\\Postdoc\\Software\\Python\\Python_scripts\\Neutrons_pydas\\ENS_peak_fit_pVIC_py\\xpvic_fit_cls.py:92: RuntimeWarning: divide by zero encountered in true_divide\n",
      "  self.weights = 1/(self.dY)**2\n",
      "C:\\Users\\Pierre\\Desktop\\Postdoc\\Software\\Python\\Python_scripts\\Neutrons_pydas\\ENS_peak_fit_pVIC_py\\xpvic_fit_cls.py:97: UserWarning: np.inf values were found in 'weights'. They were reset to zero.\n",
      "  warnings.warn(f\"np.inf values were found in 'weights'. They were reset to zero.\")\n"
     ]
    }
   ],
   "source": [
    "nSpec = 10\n",
    "xFit10[0].data_range = range(len(nData)-nSpec, len(nData))\n",
    "xwFit10[0].data_range = range(len(nData)-nSpec, len(nData))\n",
    "\n",
    "# create x and y 1D datasets for fit\n",
    "# Xfitdata, Yfitdata = xyBatchFitNData(nData, data_range=spec_rng, data_select=data_select)\n",
    "xFit10[0].makeData(data_select)\n",
    "xwFit10[0].makeData(data_select)\n",
    "\n",
    "# create and initialize lmfit Parameters object\n",
    "# xfit10[0]['init_params'] = xFitInitParams2(pvic_params, data_range=spec_rng)\n",
    "xFit10[0].initParams()\n",
    "xwFit10[0].initParams()\n",
    "\n",
    "### Perform fit and store corresponding results in dictionary\n",
    "# xfit10[0]['freeSharedPrms'] = 5\n",
    "xFit10[0].freeSharedPrms = 5\n",
    "xwFit10[0].freeSharedPrms = 5\n",
    "# xfit10[0]['result'] = minimize(xpVIC_residual, xfit10[0]['init_params'], args=(Xfitdata, Yfitdata, spec_rng))\n",
    "# xFit10[0].result = minimize(xpVIC_residual, xFit10[0].init_params, \n",
    "#                             args=(xFit10[0].X, xFit10[0].Y, xFit10[0].data_range))"
   ]
  },
  {
   "cell_type": "code",
   "execution_count": 279,
   "metadata": {},
   "outputs": [],
   "source": [
    "xFit10[0].performFit()\n",
    "xwFit10[0].performFit(weights=xwFit10[0].weights)"
   ]
  },
  {
   "cell_type": "code",
   "execution_count": 285,
   "metadata": {
    "Collapsed": "false"
   },
   "outputs": [
    {
     "name": "stderr",
     "output_type": "stream",
     "text": [
      "C:\\Users\\Pierre\\Desktop\\Postdoc\\Software\\Python\\Python_scripts\\Neutrons_pydas\\ENS_peak_fit_pVIC_py\\xpvic_fit_cls.py:92: RuntimeWarning: divide by zero encountered in true_divide\n",
      "  self.weights = 1/(self.dY)**2\n",
      "C:\\Users\\Pierre\\Desktop\\Postdoc\\Software\\Python\\Python_scripts\\Neutrons_pydas\\ENS_peak_fit_pVIC_py\\xpvic_fit_cls.py:97: UserWarning: np.inf values were found in 'weights'. They were reset to zero.\n",
      "  warnings.warn(f\"np.inf values were found in 'weights'. They were reset to zero.\")\n"
     ]
    }
   ],
   "source": [
    "xwFit10b = [xpvic_fit(peak_center, nData, pvic_params)  for _ in range(numFitIterations)]\n",
    "\n",
    "nSpec = 30\n",
    "xwFit10b[0].data_range = range(len(nData)-nSpec, len(nData))\n",
    "\n",
    "# create x and y 1D datasets for fit\n",
    "# Xfitdata, Yfitdata = xyBatchFitNData(nData, data_range=spec_rng, data_select=data_select)\n",
    "xwFit10b[0].makeData(data_select)\n",
    "\n",
    "# create and initialize lmfit Parameters object\n",
    "xwFit10b[0].initParams()\n",
    "\n",
    "### Perform fit and store corresponding results in dictionary\n",
    "xwFit10b[0].freeSharedPrms = 5"
   ]
  },
  {
   "cell_type": "code",
   "execution_count": 287,
   "metadata": {},
   "outputs": [],
   "source": [
    "xwFit10b[0].performFit(weights=xwFit10b[0].weights)"
   ]
  },
  {
   "cell_type": "code",
   "execution_count": 269,
   "metadata": {
    "Collapsed": "false"
   },
   "outputs": [
    {
     "data": {
      "text/html": [
       "<h2>Fit Statistics</h2><table><tr><td>fitting method</td><td>leastsq</td><td></td></tr><tr><td># function evals</td><td>532</td><td></td></tr><tr><td># data points</td><td>1200</td><td></td></tr><tr><td># variables</td><td>25</td><td></td></tr><tr><td>chi-square</td><td> 1.3170e+13</td><td></td></tr><tr><td>reduced chi-square</td><td> 1.1209e+10</td><td></td></tr><tr><td>Akaike info crit.</td><td> 27792.7037</td><td></td></tr><tr><td>Bayesian info crit.</td><td> 27919.9556</td><td></td></tr></table><h2>Variables</h2><table><tr><th> name </th><th> value </th><th> standard error </th><th> relative error </th><th> initial value </th><th> min </th><th> max </th><th> vary </th></tr><tr><td> A92 </td><td>  236583.701 </td><td>  1562.04935 </td><td> (0.66%) </td><td> 200000.0 </td><td>  0.00000000 </td><td>         inf </td><td> True </td></tr><tr><td> alpha </td><td>  103.917430 </td><td>  0.56892793 </td><td> (0.55%) </td><td> 140 </td><td>  0.00000000 </td><td>         inf </td><td> True </td></tr><tr><td> beta </td><td>  1882.66221 </td><td>  1039629.92 </td><td> (55221.27%) </td><td> 0.001 </td><td>  0.00000000 </td><td>         inf </td><td> True </td></tr><tr><td> R </td><td>  9.7323e-04 </td><td>  1.11093368 </td><td> (114148.78%) </td><td> 0.001 </td><td>  0.00000000 </td><td>         inf </td><td> True </td></tr><tr><td> gamma </td><td>  0.00140661 </td><td>  1.3707e-04 </td><td> (9.74%) </td><td> 0.001 </td><td>  0.00000000 </td><td>         inf </td><td> True </td></tr><tr><td> sigma </td><td>  0.00350110 </td><td>  2.3479e-04 </td><td> (6.71%) </td><td> 0.0066 </td><td>  0.00000000 </td><td>         inf </td><td> True </td></tr><tr><td> k </td><td>  0.05000000 </td><td>  0.00000000 </td><td> (0.00%) </td><td> 0.05 </td><td>  0.00000000 </td><td>         inf </td><td> False </td></tr><tr><td> xp92 </td><td> -10.0220116 </td><td>  5.7907e-04 </td><td> (0.01%) </td><td> -10.0 </td><td>        -inf </td><td>         inf </td><td> True </td></tr><tr><td> A93 </td><td>  231794.760 </td><td>  1559.88728 </td><td> (0.67%) </td><td> 200000.0 </td><td>  0.00000000 </td><td>         inf </td><td> True </td></tr><tr><td> xp93 </td><td> -10.0221229 </td><td>  5.8667e-04 </td><td> (0.01%) </td><td> -10.0 </td><td>        -inf </td><td>         inf </td><td> True </td></tr><tr><td> A94 </td><td>  232813.583 </td><td>  1547.09831 </td><td> (0.66%) </td><td> 200000.0 </td><td>  0.00000000 </td><td>         inf </td><td> True </td></tr><tr><td> xp94 </td><td> -10.0220641 </td><td>  5.8740e-04 </td><td> (0.01%) </td><td> -10.0 </td><td>        -inf </td><td>         inf </td><td> True </td></tr><tr><td> A95 </td><td>  233132.780 </td><td>  1600.02662 </td><td> (0.69%) </td><td> 200000.0 </td><td>  0.00000000 </td><td>         inf </td><td> True </td></tr><tr><td> xp95 </td><td> -10.0223751 </td><td>  6.0207e-04 </td><td> (0.01%) </td><td> -10.0 </td><td>        -inf </td><td>         inf </td><td> True </td></tr><tr><td> A96 </td><td>  232256.666 </td><td>  1546.31918 </td><td> (0.67%) </td><td> 200000.0 </td><td>  0.00000000 </td><td>         inf </td><td> True </td></tr><tr><td> xp96 </td><td> -10.0221123 </td><td>  5.6003e-04 </td><td> (0.01%) </td><td> -10.0 </td><td>        -inf </td><td>         inf </td><td> True </td></tr><tr><td> A97 </td><td>  228239.707 </td><td>  1536.77084 </td><td> (0.67%) </td><td> 200000.0 </td><td>  0.00000000 </td><td>         inf </td><td> True </td></tr><tr><td> xp97 </td><td> -10.0221952 </td><td>  5.7424e-04 </td><td> (0.01%) </td><td> -10.0 </td><td>        -inf </td><td>         inf </td><td> True </td></tr><tr><td> A98 </td><td>  232305.371 </td><td>  1556.14964 </td><td> (0.67%) </td><td> 200000.0 </td><td>  0.00000000 </td><td>         inf </td><td> True </td></tr><tr><td> xp98 </td><td> -10.0222816 </td><td>  5.7888e-04 </td><td> (0.01%) </td><td> -10.0 </td><td>        -inf </td><td>         inf </td><td> True </td></tr><tr><td> A99 </td><td>  231193.380 </td><td>  1544.15983 </td><td> (0.67%) </td><td> 200000.0 </td><td>  0.00000000 </td><td>         inf </td><td> True </td></tr><tr><td> xp99 </td><td> -10.0225454 </td><td>  5.7708e-04 </td><td> (0.01%) </td><td> -10.0 </td><td>        -inf </td><td>         inf </td><td> True </td></tr><tr><td> A100 </td><td>  229949.355 </td><td>  1541.35944 </td><td> (0.67%) </td><td> 200000.0 </td><td>  0.00000000 </td><td>         inf </td><td> True </td></tr><tr><td> xp100 </td><td> -10.0221401 </td><td>  5.8083e-04 </td><td> (0.01%) </td><td> -10.0 </td><td>        -inf </td><td>         inf </td><td> True </td></tr><tr><td> A101 </td><td>  227772.068 </td><td>  1591.53331 </td><td> (0.70%) </td><td> 200000.0 </td><td>  0.00000000 </td><td>         inf </td><td> True </td></tr><tr><td> xp101 </td><td> -10.0222111 </td><td>  6.0125e-04 </td><td> (0.01%) </td><td> -10.0 </td><td>        -inf </td><td>         inf </td><td> True </td></tr></table><h2>Correlations (unreported correlations are < 0.100)</h2><table><tr><td>xp94</td><td>xp95</td><td>0.9644</td></tr><tr><td>xp95</td><td>xp101</td><td>0.9643</td></tr><tr><td>xp93</td><td>xp95</td><td>0.9643</td></tr><tr><td>xp94</td><td>xp101</td><td>0.9637</td></tr><tr><td>xp95</td><td>xp100</td><td>0.9637</td></tr><tr><td>xp95</td><td>xp99</td><td>0.9636</td></tr><tr><td>xp92</td><td>xp101</td><td>0.9635</td></tr><tr><td>xp93</td><td>xp101</td><td>0.9635</td></tr><tr><td>xp93</td><td>xp94</td><td>0.9635</td></tr><tr><td>xp92</td><td>xp95</td><td>0.9634</td></tr><tr><td>xp95</td><td>xp98</td><td>0.9634</td></tr><tr><td>xp92</td><td>xp94</td><td>0.9633</td></tr><tr><td>xp98</td><td>xp101</td><td>0.9631</td></tr><tr><td>xp92</td><td>xp98</td><td>0.9630</td></tr><tr><td>xp94</td><td>xp98</td><td>0.9630</td></tr><tr><td>xp92</td><td>xp93</td><td>0.9630</td></tr><tr><td>xp94</td><td>xp99</td><td>0.9628</td></tr><tr><td>xp99</td><td>xp101</td><td>0.9627</td></tr><tr><td>xp93</td><td>xp98</td><td>0.9627</td></tr><tr><td>xp95</td><td>xp97</td><td>0.9627</td></tr><tr><td>xp95</td><td>xp96</td><td>0.9626</td></tr><tr><td>xp93</td><td>xp99</td><td>0.9626</td></tr><tr><td>xp94</td><td>xp100</td><td>0.9624</td></tr><tr><td>xp93</td><td>xp100</td><td>0.9624</td></tr><tr><td>xp100</td><td>xp101</td><td>0.9623</td></tr><tr><td>xp92</td><td>xp99</td><td>0.9622</td></tr><tr><td>xp97</td><td>xp101</td><td>0.9621</td></tr><tr><td>xp94</td><td>xp97</td><td>0.9621</td></tr><tr><td>xp98</td><td>xp99</td><td>0.9620</td></tr><tr><td>xp93</td><td>xp97</td><td>0.9619</td></tr><tr><td>xp92</td><td>xp97</td><td>0.9618</td></tr><tr><td>xp99</td><td>xp100</td><td>0.9617</td></tr><tr><td>xp94</td><td>xp96</td><td>0.9615</td></tr><tr><td>xp97</td><td>xp98</td><td>0.9614</td></tr><tr><td>xp93</td><td>xp96</td><td>0.9614</td></tr><tr><td>xp96</td><td>xp101</td><td>0.9614</td></tr><tr><td>xp98</td><td>xp100</td><td>0.9613</td></tr><tr><td>xp92</td><td>xp100</td><td>0.9612</td></tr><tr><td>xp97</td><td>xp99</td><td>0.9611</td></tr><tr><td>xp96</td><td>xp100</td><td>0.9609</td></tr><tr><td>xp96</td><td>xp99</td><td>0.9608</td></tr><tr><td>xp97</td><td>xp100</td><td>0.9607</td></tr><tr><td>xp92</td><td>xp96</td><td>0.9605</td></tr><tr><td>xp96</td><td>xp98</td><td>0.9605</td></tr><tr><td>xp96</td><td>xp97</td><td>0.9598</td></tr><tr><td>R</td><td>xp92</td><td>-0.8787</td></tr><tr><td>R</td><td>xp98</td><td>-0.8715</td></tr><tr><td>R</td><td>xp101</td><td>-0.8693</td></tr><tr><td>R</td><td>xp94</td><td>-0.8664</td></tr><tr><td>R</td><td>xp97</td><td>-0.8660</td></tr><tr><td>R</td><td>xp93</td><td>-0.8638</td></tr><tr><td>R</td><td>xp99</td><td>-0.8615</td></tr><tr><td>R</td><td>xp95</td><td>-0.8576</td></tr><tr><td>R</td><td>xp96</td><td>-0.8532</td></tr><tr><td>R</td><td>xp100</td><td>-0.8521</td></tr><tr><td>gamma</td><td>sigma</td><td>-0.7114</td></tr><tr><td>alpha</td><td>gamma</td><td>0.5958</td></tr><tr><td>beta</td><td>R</td><td>0.4834</td></tr><tr><td>gamma</td><td>A94</td><td>0.4059</td></tr><tr><td>gamma</td><td>A96</td><td>0.4044</td></tr><tr><td>A92</td><td>gamma</td><td>0.4034</td></tr><tr><td>gamma</td><td>A99</td><td>0.4016</td></tr><tr><td>gamma</td><td>A100</td><td>0.4010</td></tr><tr><td>gamma</td><td>A97</td><td>0.3990</td></tr><tr><td>gamma</td><td>A93</td><td>0.3985</td></tr><tr><td>gamma</td><td>A98</td><td>0.3967</td></tr><tr><td>gamma</td><td>A95</td><td>0.3875</td></tr><tr><td>gamma</td><td>A101</td><td>0.3785</td></tr><tr><td>R</td><td>A101</td><td>0.3498</td></tr><tr><td>A95</td><td>xp95</td><td>-0.3425</td></tr><tr><td>A95</td><td>xp101</td><td>-0.3423</td></tr><tr><td>xp94</td><td>A95</td><td>-0.3415</td></tr><tr><td>xp93</td><td>A95</td><td>-0.3414</td></tr><tr><td>xp92</td><td>A95</td><td>-0.3413</td></tr><tr><td>A101</td><td>xp101</td><td>-0.3411</td></tr><tr><td>A95</td><td>xp98</td><td>-0.3409</td></tr><tr><td>A95</td><td>xp99</td><td>-0.3405</td></tr><tr><td>xp92</td><td>A101</td><td>-0.3405</td></tr><tr><td>A95</td><td>xp100</td><td>-0.3404</td></tr><tr><td>A95</td><td>xp97</td><td>-0.3402</td></tr><tr><td>xp95</td><td>A101</td><td>-0.3402</td></tr><tr><td>xp94</td><td>A101</td><td>-0.3400</td></tr><tr><td>xp98</td><td>A101</td><td>-0.3398</td></tr><tr><td>xp93</td><td>A101</td><td>-0.3397</td></tr><tr><td>R</td><td>A95</td><td>0.3397</td></tr><tr><td>A95</td><td>xp96</td><td>-0.3389</td></tr><tr><td>xp97</td><td>A101</td><td>-0.3388</td></tr><tr><td>xp99</td><td>A101</td><td>-0.3388</td></tr><tr><td>xp100</td><td>A101</td><td>-0.3381</td></tr><tr><td>xp96</td><td>A101</td><td>-0.3369</td></tr><tr><td>A95</td><td>A101</td><td>0.3324</td></tr><tr><td>sigma</td><td>A94</td><td>-0.3196</td></tr><tr><td>A93</td><td>A95</td><td>0.3170</td></tr><tr><td>A92</td><td>A95</td><td>0.3166</td></tr><tr><td>sigma</td><td>A96</td><td>-0.3164</td></tr><tr><td>sigma</td><td>A93</td><td>-0.3141</td></tr><tr><td>A95</td><td>A98</td><td>0.3136</td></tr><tr><td>A92</td><td>A101</td><td>0.3135</td></tr><tr><td>A93</td><td>A101</td><td>0.3127</td></tr><tr><td>sigma</td><td>A100</td><td>-0.3117</td></tr><tr><td>A98</td><td>A101</td><td>0.3108</td></tr><tr><td>sigma</td><td>A95</td><td>-0.3106</td></tr><tr><td>sigma</td><td>A99</td><td>-0.3098</td></tr><tr><td>sigma</td><td>A97</td><td>-0.3089</td></tr><tr><td>A95</td><td>A96</td><td>0.3085</td></tr><tr><td>A94</td><td>A95</td><td>0.3085</td></tr><tr><td>A95</td><td>A99</td><td>0.3076</td></tr><tr><td>A92</td><td>sigma</td><td>-0.3061</td></tr><tr><td>A95</td><td>A100</td><td>0.3061</td></tr><tr><td>A96</td><td>A101</td><td>0.3040</td></tr><tr><td>A99</td><td>A101</td><td>0.3037</td></tr><tr><td>A94</td><td>A101</td><td>0.3037</td></tr><tr><td>A95</td><td>A97</td><td>0.3036</td></tr><tr><td>A100</td><td>A101</td><td>0.3020</td></tr><tr><td>A92</td><td>A93</td><td>0.3015</td></tr><tr><td>A92</td><td>A98</td><td>0.3009</td></tr><tr><td>A97</td><td>A101</td><td>0.2996</td></tr><tr><td>sigma</td><td>A98</td><td>-0.2991</td></tr><tr><td>sigma</td><td>A101</td><td>-0.2985</td></tr><tr><td>A93</td><td>A98</td><td>0.2983</td></tr><tr><td>A93</td><td>A94</td><td>0.2953</td></tr><tr><td>A93</td><td>A96</td><td>0.2951</td></tr><tr><td>A92</td><td>A96</td><td>0.2950</td></tr><tr><td>A92</td><td>A99</td><td>0.2948</td></tr><tr><td>A92</td><td>A94</td><td>0.2947</td></tr><tr><td>A93</td><td>A99</td><td>0.2940</td></tr><tr><td>A92</td><td>A100</td><td>0.2931</td></tr><tr><td>A93</td><td>A100</td><td>0.2928</td></tr><tr><td>A98</td><td>A99</td><td>0.2918</td></tr><tr><td>A96</td><td>A98</td><td>0.2917</td></tr><tr><td>R</td><td>A98</td><td>0.2917</td></tr><tr><td>A94</td><td>A98</td><td>0.2913</td></tr><tr><td>A92</td><td>A97</td><td>0.2910</td></tr><tr><td>A93</td><td>A97</td><td>0.2905</td></tr><tr><td>A98</td><td>A100</td><td>0.2899</td></tr><tr><td>A94</td><td>A96</td><td>0.2897</td></tr><tr><td>A94</td><td>A99</td><td>0.2883</td></tr><tr><td>A96</td><td>A99</td><td>0.2882</td></tr><tr><td>A97</td><td>A98</td><td>0.2879</td></tr><tr><td>A92</td><td>R</td><td>0.2873</td></tr><tr><td>A94</td><td>A100</td><td>0.2873</td></tr><tr><td>A96</td><td>A100</td><td>0.2871</td></tr><tr><td>A99</td><td>A100</td><td>0.2860</td></tr><tr><td>A94</td><td>A97</td><td>0.2850</td></tr><tr><td>A96</td><td>A97</td><td>0.2848</td></tr><tr><td>A97</td><td>A99</td><td>0.2839</td></tr><tr><td>A97</td><td>A100</td><td>0.2827</td></tr><tr><td>A93</td><td>xp95</td><td>-0.2825</td></tr><tr><td>A93</td><td>xp101</td><td>-0.2821</td></tr><tr><td>A93</td><td>xp93</td><td>-0.2816</td></tr><tr><td>A93</td><td>xp94</td><td>-0.2815</td></tr><tr><td>A93</td><td>xp100</td><td>-0.2808</td></tr><tr><td>xp92</td><td>A93</td><td>-0.2808</td></tr><tr><td>A93</td><td>xp98</td><td>-0.2807</td></tr><tr><td>A93</td><td>xp99</td><td>-0.2807</td></tr><tr><td>A93</td><td>xp97</td><td>-0.2802</td></tr><tr><td>A93</td><td>xp96</td><td>-0.2794</td></tr><tr><td>R</td><td>A93</td><td>0.2780</td></tr><tr><td>A92</td><td>xp101</td><td>-0.2698</td></tr><tr><td>A92</td><td>xp92</td><td>-0.2698</td></tr><tr><td>xp92</td><td>A98</td><td>-0.2697</td></tr><tr><td>A98</td><td>xp101</td><td>-0.2697</td></tr><tr><td>A98</td><td>xp98</td><td>-0.2690</td></tr><tr><td>A92</td><td>xp95</td><td>-0.2689</td></tr><tr><td>A92</td><td>xp94</td><td>-0.2689</td></tr><tr><td>A92</td><td>xp98</td><td>-0.2688</td></tr><tr><td>xp94</td><td>A98</td><td>-0.2687</td></tr><tr><td>A92</td><td>xp93</td><td>-0.2686</td></tr><tr><td>xp95</td><td>A98</td><td>-0.2685</td></tr><tr><td>xp93</td><td>A98</td><td>-0.2684</td></tr><tr><td>A92</td><td>xp97</td><td>-0.2679</td></tr><tr><td>A92</td><td>xp99</td><td>-0.2678</td></tr><tr><td>xp97</td><td>A98</td><td>-0.2678</td></tr><tr><td>A98</td><td>xp99</td><td>-0.2675</td></tr><tr><td>A92</td><td>xp100</td><td>-0.2670</td></tr><tr><td>A98</td><td>xp100</td><td>-0.2665</td></tr><tr><td>A92</td><td>xp96</td><td>-0.2659</td></tr><tr><td>xp96</td><td>A98</td><td>-0.2654</td></tr><tr><td>beta</td><td>sigma</td><td>0.2619</td></tr><tr><td>R</td><td>A99</td><td>0.2579</td></tr><tr><td>xp95</td><td>A96</td><td>-0.2551</td></tr><tr><td>A94</td><td>xp95</td><td>-0.2546</td></tr><tr><td>A96</td><td>xp101</td><td>-0.2546</td></tr><tr><td>xp94</td><td>A96</td><td>-0.2539</td></tr><tr><td>xp93</td><td>A96</td><td>-0.2539</td></tr><tr><td>A94</td><td>xp101</td><td>-0.2537</td></tr><tr><td>A99</td><td>xp101</td><td>-0.2536</td></tr><tr><td>A96</td><td>xp100</td><td>-0.2536</td></tr><tr><td>xp95</td><td>A99</td><td>-0.2535</td></tr><tr><td>A94</td><td>xp94</td><td>-0.2533</td></tr><tr><td>A96</td><td>xp99</td><td>-0.2532</td></tr><tr><td>xp93</td><td>A94</td><td>-0.2532</td></tr><tr><td>A96</td><td>xp98</td><td>-0.2531</td></tr><tr><td>A94</td><td>xp100</td><td>-0.2531</td></tr><tr><td>xp92</td><td>A96</td><td>-0.2531</td></tr><tr><td>xp94</td><td>A99</td><td>-0.2528</td></tr><tr><td>A96</td><td>xp97</td><td>-0.2527</td></tr><tr><td>xp93</td><td>A99</td><td>-0.2527</td></tr><tr><td>xp92</td><td>A99</td><td>-0.2526</td></tr><tr><td>A94</td><td>xp99</td><td>-0.2525</td></tr><tr><td>xp98</td><td>A99</td><td>-0.2523</td></tr><tr><td>A96</td><td>xp96</td><td>-0.2523</td></tr><tr><td>A94</td><td>xp98</td><td>-0.2522</td></tr><tr><td>xp95</td><td>A100</td><td>-0.2522</td></tr><tr><td>A99</td><td>xp99</td><td>-0.2522</td></tr><tr><td>xp92</td><td>A94</td><td>-0.2520</td></tr><tr><td>A100</td><td>xp101</td><td>-0.2519</td></tr><tr><td>A94</td><td>xp97</td><td>-0.2519</td></tr><tr><td>A99</td><td>xp100</td><td>-0.2519</td></tr><tr><td>xp97</td><td>A99</td><td>-0.2517</td></tr><tr><td>A94</td><td>xp96</td><td>-0.2516</td></tr><tr><td>xp94</td><td>A100</td><td>-0.2513</td></tr><tr><td>xp93</td><td>A100</td><td>-0.2512</td></tr><tr><td>R</td><td>A100</td><td>0.2512</td></tr><tr><td>A100</td><td>xp100</td><td>-0.2508</td></tr><tr><td>xp92</td><td>A100</td><td>-0.2507</td></tr><tr><td>xp98</td><td>A100</td><td>-0.2506</td></tr><tr><td>xp96</td><td>A99</td><td>-0.2506</td></tr><tr><td>xp99</td><td>A100</td><td>-0.2505</td></tr><tr><td>xp97</td><td>A100</td><td>-0.2501</td></tr><tr><td>R</td><td>A96</td><td>0.2495</td></tr><tr><td>xp96</td><td>A100</td><td>-0.2493</td></tr><tr><td>R</td><td>A97</td><td>0.2490</td></tr><tr><td>xp95</td><td>A97</td><td>-0.2480</td></tr><tr><td>A97</td><td>xp101</td><td>-0.2478</td></tr><tr><td>xp94</td><td>A97</td><td>-0.2471</td></tr><tr><td>xp93</td><td>A97</td><td>-0.2470</td></tr><tr><td>xp92</td><td>A97</td><td>-0.2466</td></tr><tr><td>A97</td><td>xp98</td><td>-0.2465</td></tr><tr><td>A97</td><td>xp100</td><td>-0.2463</td></tr><tr><td>A97</td><td>xp99</td><td>-0.2463</td></tr><tr><td>A97</td><td>xp97</td><td>-0.2462</td></tr><tr><td>xp96</td><td>A97</td><td>-0.2450</td></tr><tr><td>R</td><td>A94</td><td>0.2441</td></tr><tr><td>alpha</td><td>xp92</td><td>0.2165</td></tr><tr><td>alpha</td><td>xp96</td><td>0.2149</td></tr><tr><td>alpha</td><td>xp98</td><td>0.2144</td></tr><tr><td>alpha</td><td>xp97</td><td>0.2144</td></tr><tr><td>alpha</td><td>xp99</td><td>0.2121</td></tr><tr><td>alpha</td><td>xp94</td><td>0.2104</td></tr><tr><td>alpha</td><td>xp93</td><td>0.2099</td></tr><tr><td>alpha</td><td>xp100</td><td>0.2083</td></tr><tr><td>alpha</td><td>xp101</td><td>0.2075</td></tr><tr><td>alpha</td><td>xp95</td><td>0.2037</td></tr><tr><td>alpha</td><td>beta</td><td>-0.1340</td></tr><tr><td>gamma</td><td>xp92</td><td>0.1286</td></tr><tr><td>gamma</td><td>xp96</td><td>0.1280</td></tr><tr><td>gamma</td><td>xp97</td><td>0.1275</td></tr><tr><td>gamma</td><td>xp98</td><td>0.1275</td></tr><tr><td>gamma</td><td>xp99</td><td>0.1262</td></tr><tr><td>alpha</td><td>A94</td><td>0.1257</td></tr><tr><td>gamma</td><td>xp94</td><td>0.1252</td></tr><tr><td>gamma</td><td>xp93</td><td>0.1249</td></tr><tr><td>gamma</td><td>xp100</td><td>0.1241</td></tr><tr><td>alpha</td><td>A96</td><td>0.1240</td></tr><tr><td>gamma</td><td>xp101</td><td>0.1234</td></tr><tr><td>alpha</td><td>A100</td><td>0.1220</td></tr><tr><td>gamma</td><td>xp95</td><td>0.1213</td></tr><tr><td>alpha</td><td>A97</td><td>0.1211</td></tr><tr><td>alpha</td><td>A99</td><td>0.1209</td></tr><tr><td>alpha</td><td>A93</td><td>0.1200</td></tr><tr><td>A92</td><td>alpha</td><td>0.1173</td></tr><tr><td>alpha</td><td>A98</td><td>0.1139</td></tr><tr><td>alpha</td><td>A95</td><td>0.1119</td></tr><tr><td>alpha</td><td>R</td><td>-0.1089</td></tr><tr><td>alpha</td><td>A101</td><td>0.1062</td></tr></table>"
      ],
      "text/plain": [
       "<lmfit.minimizer.MinimizerResult at 0x2165b53fa88>"
      ]
     },
     "execution_count": 269,
     "metadata": {},
     "output_type": "execute_result"
    }
   ],
   "source": [
    "# report_fit(result)\n",
    "xFit10[0].result"
   ]
  },
  {
   "cell_type": "code",
   "execution_count": 270,
   "metadata": {
    "Collapsed": "false"
   },
   "outputs": [
    {
     "data": {
      "text/html": [
       "<h2>Fit Statistics</h2><table><tr><td>fitting method</td><td>leastsq</td><td></td></tr><tr><td># function evals</td><td>424</td><td></td></tr><tr><td># data points</td><td>1200</td><td></td></tr><tr><td># variables</td><td>25</td><td></td></tr><tr><td>chi-square</td><td> 3.4869e-06</td><td></td></tr><tr><td>reduced chi-square</td><td> 2.9676e-09</td><td></td></tr><tr><td>Akaike info crit.</td><td>-23537.8813</td><td></td></tr><tr><td>Bayesian info crit.</td><td>-23410.6294</td><td></td></tr></table><h2>Variables</h2><table><tr><th> name </th><th> value </th><th> standard error </th><th> relative error </th><th> initial value </th><th> min </th><th> max </th><th> vary </th></tr><tr><td> A92 </td><td>  237974.985 </td><td>  19525.9794 </td><td> (8.21%) </td><td> 200000.0 </td><td>  0.00000000 </td><td>         inf </td><td> True </td></tr><tr><td> alpha </td><td>  117.581674 </td><td>  10.3374057 </td><td> (8.79%) </td><td> 140 </td><td>  0.00000000 </td><td>         inf </td><td> True </td></tr><tr><td> beta </td><td>  34.9426778 </td><td>  3.61163248 </td><td> (10.34%) </td><td> 0.001 </td><td>  0.00000000 </td><td>         inf </td><td> True </td></tr><tr><td> R </td><td>  0.18471927 </td><td>  0.05838184 </td><td> (31.61%) </td><td> 0.001 </td><td>  0.00000000 </td><td>         inf </td><td> True </td></tr><tr><td> gamma </td><td>  2.5938e-04 </td><td>  2.0125e-05 </td><td> (7.76%) </td><td> 0.001 </td><td>  0.00000000 </td><td>         inf </td><td> True </td></tr><tr><td> sigma </td><td>  0.00532259 </td><td>  5.0608e-04 </td><td> (9.51%) </td><td> 0.0066 </td><td>  0.00000000 </td><td>         inf </td><td> True </td></tr><tr><td> k </td><td>  0.05000000 </td><td>  0.00000000 </td><td> (0.00%) </td><td> 0.05 </td><td>  0.00000000 </td><td>         inf </td><td> False </td></tr><tr><td> xp92 </td><td> -10.0220466 </td><td>  0.00134074 </td><td> (0.01%) </td><td> -10.0 </td><td>        -inf </td><td>         inf </td><td> True </td></tr><tr><td> A93 </td><td>  228765.129 </td><td>  18828.5372 </td><td> (8.23%) </td><td> 200000.0 </td><td>  0.00000000 </td><td>         inf </td><td> True </td></tr><tr><td> xp93 </td><td> -10.0215922 </td><td>  0.00139696 </td><td> (0.01%) </td><td> -10.0 </td><td>        -inf </td><td>         inf </td><td> True </td></tr><tr><td> A94 </td><td>  234014.025 </td><td>  18892.9672 </td><td> (8.07%) </td><td> 200000.0 </td><td>  0.00000000 </td><td>         inf </td><td> True </td></tr><tr><td> xp94 </td><td> -10.0214586 </td><td>  0.00134923 </td><td> (0.01%) </td><td> -10.0 </td><td>        -inf </td><td>         inf </td><td> True </td></tr><tr><td> A95 </td><td>  233422.828 </td><td>  18726.5570 </td><td> (8.02%) </td><td> 200000.0 </td><td>  0.00000000 </td><td>         inf </td><td> True </td></tr><tr><td> xp95 </td><td> -10.0214074 </td><td>  0.00137343 </td><td> (0.01%) </td><td> -10.0 </td><td>        -inf </td><td>         inf </td><td> True </td></tr><tr><td> A96 </td><td>  250138.392 </td><td>  18700.7037 </td><td> (7.48%) </td><td> 200000.0 </td><td>  0.00000000 </td><td>         inf </td><td> True </td></tr><tr><td> xp96 </td><td> -10.0215451 </td><td>  0.00132023 </td><td> (0.01%) </td><td> -10.0 </td><td>        -inf </td><td>         inf </td><td> True </td></tr><tr><td> A97 </td><td>  239445.807 </td><td>  18485.2045 </td><td> (7.72%) </td><td> 200000.0 </td><td>  0.00000000 </td><td>         inf </td><td> True </td></tr><tr><td> xp97 </td><td> -10.0210507 </td><td>  0.00134855 </td><td> (0.01%) </td><td> -10.0 </td><td>        -inf </td><td>         inf </td><td> True </td></tr><tr><td> A98 </td><td>  214871.551 </td><td>  20287.8586 </td><td> (9.44%) </td><td> 200000.0 </td><td>  0.00000000 </td><td>         inf </td><td> True </td></tr><tr><td> xp98 </td><td> -10.0199338 </td><td>  0.00147887 </td><td> (0.01%) </td><td> -10.0 </td><td>        -inf </td><td>         inf </td><td> True </td></tr><tr><td> A99 </td><td>  243073.080 </td><td>  18393.1552 </td><td> (7.57%) </td><td> 200000.0 </td><td>  0.00000000 </td><td>         inf </td><td> True </td></tr><tr><td> xp99 </td><td> -10.0207969 </td><td>  0.00134796 </td><td> (0.01%) </td><td> -10.0 </td><td>        -inf </td><td>         inf </td><td> True </td></tr><tr><td> A100 </td><td>  215016.213 </td><td>  17286.5299 </td><td> (8.04%) </td><td> 200000.0 </td><td>  0.00000000 </td><td>         inf </td><td> True </td></tr><tr><td> xp100 </td><td> -10.0210169 </td><td>  0.00137946 </td><td> (0.01%) </td><td> -10.0 </td><td>        -inf </td><td>         inf </td><td> True </td></tr><tr><td> A101 </td><td>  224063.851 </td><td>  18365.9264 </td><td> (8.20%) </td><td> 200000.0 </td><td>  0.00000000 </td><td>         inf </td><td> True </td></tr><tr><td> xp101 </td><td> -10.0215036 </td><td>  0.00134709 </td><td> (0.01%) </td><td> -10.0 </td><td>        -inf </td><td>         inf </td><td> True </td></tr></table><h2>Correlations (unreported correlations are < 0.100)</h2><table><tr><td>beta</td><td>R</td><td>0.9292</td></tr><tr><td>alpha</td><td>R</td><td>0.8670</td></tr><tr><td>sigma</td><td>xp97</td><td>0.8208</td></tr><tr><td>sigma</td><td>xp101</td><td>0.8131</td></tr><tr><td>sigma</td><td>xp96</td><td>0.8045</td></tr><tr><td>sigma</td><td>xp99</td><td>0.8008</td></tr><tr><td>sigma</td><td>xp100</td><td>0.7928</td></tr><tr><td>sigma</td><td>xp95</td><td>0.7857</td></tr><tr><td>sigma</td><td>xp98</td><td>0.7806</td></tr><tr><td>alpha</td><td>xp96</td><td>0.7740</td></tr><tr><td>alpha</td><td>xp97</td><td>0.7721</td></tr><tr><td>alpha</td><td>xp101</td><td>0.7696</td></tr><tr><td>sigma</td><td>xp94</td><td>0.7695</td></tr><tr><td>alpha</td><td>xp99</td><td>0.7671</td></tr><tr><td>alpha</td><td>xp100</td><td>0.7540</td></tr><tr><td>alpha</td><td>xp95</td><td>0.7526</td></tr><tr><td>sigma</td><td>xp93</td><td>0.7518</td></tr><tr><td>xp97</td><td>xp101</td><td>0.7515</td></tr><tr><td>alpha</td><td>xp94</td><td>0.7500</td></tr><tr><td>xp96</td><td>xp97</td><td>0.7500</td></tr><tr><td>alpha</td><td>beta</td><td>0.7486</td></tr><tr><td>sigma</td><td>xp92</td><td>0.7457</td></tr><tr><td>xp97</td><td>xp99</td><td>0.7448</td></tr><tr><td>xp96</td><td>xp101</td><td>0.7443</td></tr><tr><td>alpha</td><td>xp92</td><td>0.7409</td></tr><tr><td>xp99</td><td>xp101</td><td>0.7391</td></tr><tr><td>xp96</td><td>xp99</td><td>0.7381</td></tr><tr><td>alpha</td><td>xp93</td><td>0.7377</td></tr><tr><td>xp97</td><td>xp100</td><td>0.7359</td></tr><tr><td>xp95</td><td>xp97</td><td>0.7312</td></tr><tr><td>xp100</td><td>xp101</td><td>0.7300</td></tr><tr><td>alpha</td><td>sigma</td><td>0.7292</td></tr><tr><td>xp96</td><td>xp100</td><td>0.7290</td></tr><tr><td>xp95</td><td>xp101</td><td>0.7256</td></tr><tr><td>alpha</td><td>xp98</td><td>0.7248</td></tr><tr><td>xp95</td><td>xp96</td><td>0.7246</td></tr><tr><td>xp99</td><td>xp100</td><td>0.7238</td></tr><tr><td>xp94</td><td>xp97</td><td>0.7215</td></tr><tr><td>xp95</td><td>xp99</td><td>0.7195</td></tr><tr><td>xp97</td><td>xp98</td><td>0.7172</td></tr><tr><td>xp94</td><td>xp101</td><td>0.7162</td></tr><tr><td>xp94</td><td>xp96</td><td>0.7156</td></tr><tr><td>xp98</td><td>xp101</td><td>0.7113</td></tr><tr><td>xp95</td><td>xp100</td><td>0.7106</td></tr><tr><td>xp94</td><td>xp99</td><td>0.7104</td></tr><tr><td>xp96</td><td>xp98</td><td>0.7097</td></tr><tr><td>xp93</td><td>xp97</td><td>0.7081</td></tr><tr><td>xp92</td><td>xp97</td><td>0.7053</td></tr><tr><td>xp98</td><td>xp99</td><td>0.7049</td></tr><tr><td>xp93</td><td>xp101</td><td>0.7027</td></tr><tr><td>xp93</td><td>xp96</td><td>0.7024</td></tr><tr><td>xp94</td><td>xp100</td><td>0.7014</td></tr><tr><td>xp92</td><td>xp101</td><td>0.7003</td></tr><tr><td>xp92</td><td>xp96</td><td>0.7001</td></tr><tr><td>xp94</td><td>xp95</td><td>0.6975</td></tr><tr><td>xp93</td><td>xp99</td><td>0.6972</td></tr><tr><td>xp98</td><td>xp100</td><td>0.6967</td></tr><tr><td>xp92</td><td>xp99</td><td>0.6950</td></tr><tr><td>xp95</td><td>xp98</td><td>0.6920</td></tr><tr><td>xp93</td><td>xp100</td><td>0.6886</td></tr><tr><td>xp92</td><td>xp100</td><td>0.6858</td></tr><tr><td>xp93</td><td>xp95</td><td>0.6846</td></tr><tr><td>xp94</td><td>xp98</td><td>0.6824</td></tr><tr><td>xp92</td><td>xp95</td><td>0.6823</td></tr><tr><td>xp93</td><td>xp94</td><td>0.6764</td></tr><tr><td>xp92</td><td>xp94</td><td>0.6747</td></tr><tr><td>xp93</td><td>xp98</td><td>0.6699</td></tr><tr><td>xp92</td><td>xp98</td><td>0.6666</td></tr><tr><td>xp92</td><td>xp93</td><td>0.6621</td></tr><tr><td>R</td><td>xp96</td><td>0.5293</td></tr><tr><td>R</td><td>xp101</td><td>0.5258</td></tr><tr><td>R</td><td>xp97</td><td>0.5249</td></tr><tr><td>R</td><td>xp99</td><td>0.5237</td></tr><tr><td>R</td><td>xp100</td><td>0.5148</td></tr><tr><td>R</td><td>xp94</td><td>0.5143</td></tr><tr><td>R</td><td>xp95</td><td>0.5133</td></tr><tr><td>R</td><td>xp92</td><td>0.5085</td></tr><tr><td>R</td><td>xp93</td><td>0.5075</td></tr><tr><td>R</td><td>xp98</td><td>0.4904</td></tr><tr><td>R</td><td>sigma</td><td>0.4662</td></tr><tr><td>beta</td><td>xp96</td><td>0.4420</td></tr><tr><td>beta</td><td>xp101</td><td>0.4390</td></tr><tr><td>beta</td><td>xp97</td><td>0.4368</td></tr><tr><td>beta</td><td>xp99</td><td>0.4347</td></tr><tr><td>beta</td><td>xp94</td><td>0.4310</td></tr><tr><td>beta</td><td>xp100</td><td>0.4308</td></tr><tr><td>beta</td><td>xp95</td><td>0.4277</td></tr><tr><td>beta</td><td>xp93</td><td>0.4263</td></tr><tr><td>beta</td><td>xp92</td><td>0.4246</td></tr><tr><td>beta</td><td>xp98</td><td>0.4074</td></tr><tr><td>beta</td><td>sigma</td><td>0.3831</td></tr><tr><td>gamma</td><td>A100</td><td>-0.2451</td></tr><tr><td>A92</td><td>xp92</td><td>0.2131</td></tr><tr><td>A100</td><td>xp100</td><td>0.2092</td></tr><tr><td>A101</td><td>xp101</td><td>0.2064</td></tr><tr><td>A94</td><td>xp94</td><td>0.2052</td></tr><tr><td>A96</td><td>xp96</td><td>0.2013</td></tr><tr><td>A93</td><td>xp93</td><td>0.1934</td></tr><tr><td>A97</td><td>xp97</td><td>0.1837</td></tr><tr><td>A95</td><td>xp95</td><td>0.1826</td></tr><tr><td>A99</td><td>xp99</td><td>0.1679</td></tr><tr><td>gamma</td><td>A96</td><td>-0.1661</td></tr><tr><td>A98</td><td>xp98</td><td>0.1564</td></tr><tr><td>gamma</td><td>A95</td><td>-0.1530</td></tr><tr><td>gamma</td><td>A97</td><td>-0.1520</td></tr><tr><td>gamma</td><td>A99</td><td>-0.1493</td></tr><tr><td>gamma</td><td>A94</td><td>-0.1477</td></tr><tr><td>gamma</td><td>A93</td><td>-0.1413</td></tr><tr><td>gamma</td><td>A98</td><td>-0.1358</td></tr><tr><td>gamma</td><td>A101</td><td>-0.1231</td></tr><tr><td>A92</td><td>gamma</td><td>-0.1191</td></tr></table>"
      ],
      "text/plain": [
       "<lmfit.minimizer.MinimizerResult at 0x2165fd54bc8>"
      ]
     },
     "execution_count": 270,
     "metadata": {},
     "output_type": "execute_result"
    }
   ],
   "source": [
    "# report_fit(result)\n",
    "xwFit10[0].result"
   ]
  },
  {
   "cell_type": "code",
   "execution_count": 288,
   "metadata": {
    "Collapsed": "false"
   },
   "outputs": [
    {
     "data": {
      "text/html": [
       "<h2>Fit Statistics</h2><table><tr><td>fitting method</td><td>leastsq</td><td></td></tr><tr><td># function evals</td><td>1399</td><td></td></tr><tr><td># data points</td><td>3600</td><td></td></tr><tr><td># variables</td><td>65</td><td></td></tr><tr><td>chi-square</td><td> 9.4882e-06</td><td></td></tr><tr><td>reduced chi-square</td><td> 2.6841e-09</td><td></td></tr><tr><td>Akaike info crit.</td><td>-70984.9366</td><td></td></tr><tr><td>Bayesian info crit.</td><td>-70582.6718</td><td></td></tr></table><h2>Variables</h2><table><tr><th> name </th><th> value </th><th> standard error </th><th> relative error </th><th> initial value </th><th> min </th><th> max </th><th> vary </th></tr><tr><td> A72 </td><td>  278769.024 </td><td>  20079.8027 </td><td> (7.20%) </td><td> 200000.0 </td><td>  0.00000000 </td><td>         inf </td><td> True </td></tr><tr><td> alpha </td><td>  125.756317 </td><td>  7.70496166 </td><td> (6.13%) </td><td> 140 </td><td>  0.00000000 </td><td>         inf </td><td> True </td></tr><tr><td> beta </td><td>  35.7757781 </td><td>  1.86478441 </td><td> (5.21%) </td><td> 0.001 </td><td>  0.00000000 </td><td>         inf </td><td> True </td></tr><tr><td> R </td><td>  0.20461218 </td><td>  0.03413785 </td><td> (16.68%) </td><td> 0.001 </td><td>  0.00000000 </td><td>         inf </td><td> True </td></tr><tr><td> gamma </td><td>  3.4189e-04 </td><td>  1.4206e-05 </td><td> (4.16%) </td><td> 0.001 </td><td>  0.00000000 </td><td>         inf </td><td> True </td></tr><tr><td> sigma </td><td>  0.00726051 </td><td>  3.3413e-04 </td><td> (4.60%) </td><td> 0.0066 </td><td>  0.00000000 </td><td>         inf </td><td> True </td></tr><tr><td> k </td><td>  0.05000000 </td><td>  0.00000000 </td><td> (0.00%) </td><td> 0.05 </td><td>  0.00000000 </td><td>         inf </td><td> False </td></tr><tr><td> xp72 </td><td> -10.0219236 </td><td>  0.00117680 </td><td> (0.01%) </td><td> -10.0 </td><td>        -inf </td><td>         inf </td><td> True </td></tr><tr><td> A73 </td><td>  268450.788 </td><td>  19525.0067 </td><td> (7.27%) </td><td> 200000.0 </td><td>  0.00000000 </td><td>         inf </td><td> True </td></tr><tr><td> xp73 </td><td> -10.0219265 </td><td>  0.00116437 </td><td> (0.01%) </td><td> -10.0 </td><td>        -inf </td><td>         inf </td><td> True </td></tr><tr><td> A74 </td><td>  262980.738 </td><td>  19268.3138 </td><td> (7.33%) </td><td> 200000.0 </td><td>  0.00000000 </td><td>         inf </td><td> True </td></tr><tr><td> xp74 </td><td> -10.0216969 </td><td>  0.00119381 </td><td> (0.01%) </td><td> -10.0 </td><td>        -inf </td><td>         inf </td><td> True </td></tr><tr><td> A75 </td><td>  270299.234 </td><td>  18316.6876 </td><td> (6.78%) </td><td> 200000.0 </td><td>  0.00000000 </td><td>         inf </td><td> True </td></tr><tr><td> xp75 </td><td> -10.0214659 </td><td>  0.00116491 </td><td> (0.01%) </td><td> -10.0 </td><td>        -inf </td><td>         inf </td><td> True </td></tr><tr><td> A76 </td><td>  261449.265 </td><td>  19457.0699 </td><td> (7.44%) </td><td> 200000.0 </td><td>  0.00000000 </td><td>         inf </td><td> True </td></tr><tr><td> xp76 </td><td> -10.0214414 </td><td>  0.00118824 </td><td> (0.01%) </td><td> -10.0 </td><td>        -inf </td><td>         inf </td><td> True </td></tr><tr><td> A77 </td><td>  274591.156 </td><td>  18974.7688 </td><td> (6.91%) </td><td> 200000.0 </td><td>  0.00000000 </td><td>         inf </td><td> True </td></tr><tr><td> xp77 </td><td> -10.0211185 </td><td>  0.00115497 </td><td> (0.01%) </td><td> -10.0 </td><td>        -inf </td><td>         inf </td><td> True </td></tr><tr><td> A78 </td><td>  252737.472 </td><td>  18645.4351 </td><td> (7.38%) </td><td> 200000.0 </td><td>  0.00000000 </td><td>         inf </td><td> True </td></tr><tr><td> xp78 </td><td> -10.0206941 </td><td>  0.00120234 </td><td> (0.01%) </td><td> -10.0 </td><td>        -inf </td><td>         inf </td><td> True </td></tr><tr><td> A79 </td><td>  256165.474 </td><td>  18332.7690 </td><td> (7.16%) </td><td> 200000.0 </td><td>  0.00000000 </td><td>         inf </td><td> True </td></tr><tr><td> xp79 </td><td> -10.0206109 </td><td>  0.00118940 </td><td> (0.01%) </td><td> -10.0 </td><td>        -inf </td><td>         inf </td><td> True </td></tr><tr><td> A80 </td><td>  254696.025 </td><td>  18747.8873 </td><td> (7.36%) </td><td> 200000.0 </td><td>  0.00000000 </td><td>         inf </td><td> True </td></tr><tr><td> xp80 </td><td> -10.0203759 </td><td>  0.00121514 </td><td> (0.01%) </td><td> -10.0 </td><td>        -inf </td><td>         inf </td><td> True </td></tr><tr><td> A81 </td><td>  259418.247 </td><td>  18301.0239 </td><td> (7.05%) </td><td> 200000.0 </td><td>  0.00000000 </td><td>         inf </td><td> True </td></tr><tr><td> xp81 </td><td> -10.0209643 </td><td>  0.00112219 </td><td> (0.01%) </td><td> -10.0 </td><td>        -inf </td><td>         inf </td><td> True </td></tr><tr><td> A82 </td><td>  249918.807 </td><td>  18566.6669 </td><td> (7.43%) </td><td> 200000.0 </td><td>  0.00000000 </td><td>         inf </td><td> True </td></tr><tr><td> xp82 </td><td> -10.0210653 </td><td>  0.00115190 </td><td> (0.01%) </td><td> -10.0 </td><td>        -inf </td><td>         inf </td><td> True </td></tr><tr><td> A83 </td><td>  257029.776 </td><td>  18489.8029 </td><td> (7.19%) </td><td> 200000.0 </td><td>  0.00000000 </td><td>         inf </td><td> True </td></tr><tr><td> xp83 </td><td> -10.0208664 </td><td>  0.00111966 </td><td> (0.01%) </td><td> -10.0 </td><td>        -inf </td><td>         inf </td><td> True </td></tr><tr><td> A84 </td><td>  237557.851 </td><td>  18397.6576 </td><td> (7.74%) </td><td> 200000.0 </td><td>  0.00000000 </td><td>         inf </td><td> True </td></tr><tr><td> xp84 </td><td> -10.0206475 </td><td>  0.00114868 </td><td> (0.01%) </td><td> -10.0 </td><td>        -inf </td><td>         inf </td><td> True </td></tr><tr><td> A85 </td><td>  252645.004 </td><td>  18577.0051 </td><td> (7.35%) </td><td> 200000.0 </td><td>  0.00000000 </td><td>         inf </td><td> True </td></tr><tr><td> xp85 </td><td> -10.0208965 </td><td>  0.00111640 </td><td> (0.01%) </td><td> -10.0 </td><td>        -inf </td><td>         inf </td><td> True </td></tr><tr><td> A86 </td><td>  263788.411 </td><td>  18612.9404 </td><td> (7.06%) </td><td> 200000.0 </td><td>  0.00000000 </td><td>         inf </td><td> True </td></tr><tr><td> xp86 </td><td> -10.0206315 </td><td>  0.00110468 </td><td> (0.01%) </td><td> -10.0 </td><td>        -inf </td><td>         inf </td><td> True </td></tr><tr><td> A87 </td><td>  241279.413 </td><td>  17332.9440 </td><td> (7.18%) </td><td> 200000.0 </td><td>  0.00000000 </td><td>         inf </td><td> True </td></tr><tr><td> xp87 </td><td> -10.0193537 </td><td>  0.00116182 </td><td> (0.01%) </td><td> -10.0 </td><td>        -inf </td><td>         inf </td><td> True </td></tr><tr><td> A88 </td><td>  248244.272 </td><td>  17581.0854 </td><td> (7.08%) </td><td> 200000.0 </td><td>  0.00000000 </td><td>         inf </td><td> True </td></tr><tr><td> xp88 </td><td> -10.0197853 </td><td>  0.00111885 </td><td> (0.01%) </td><td> -10.0 </td><td>        -inf </td><td>         inf </td><td> True </td></tr><tr><td> A89 </td><td>  250326.990 </td><td>  17836.2159 </td><td> (7.13%) </td><td> 200000.0 </td><td>  0.00000000 </td><td>         inf </td><td> True </td></tr><tr><td> xp89 </td><td> -10.0201723 </td><td>  0.00112355 </td><td> (0.01%) </td><td> -10.0 </td><td>        -inf </td><td>         inf </td><td> True </td></tr><tr><td> A90 </td><td>  259849.731 </td><td>  18118.5670 </td><td> (6.97%) </td><td> 200000.0 </td><td>  0.00000000 </td><td>         inf </td><td> True </td></tr><tr><td> xp90 </td><td> -10.0194320 </td><td>  0.00112601 </td><td> (0.01%) </td><td> -10.0 </td><td>        -inf </td><td>         inf </td><td> True </td></tr><tr><td> A91 </td><td>  221111.653 </td><td>  16420.2539 </td><td> (7.43%) </td><td> 200000.0 </td><td>  0.00000000 </td><td>         inf </td><td> True </td></tr><tr><td> xp91 </td><td> -10.0193181 </td><td>  0.00120394 </td><td> (0.01%) </td><td> -10.0 </td><td>        -inf </td><td>         inf </td><td> True </td></tr><tr><td> A92 </td><td>  225282.117 </td><td>  17293.1503 </td><td> (7.68%) </td><td> 200000.0 </td><td>  0.00000000 </td><td>         inf </td><td> True </td></tr><tr><td> xp92 </td><td> -10.0194432 </td><td>  0.00116095 </td><td> (0.01%) </td><td> -10.0 </td><td>        -inf </td><td>         inf </td><td> True </td></tr><tr><td> A93 </td><td>  209839.350 </td><td>  16292.7572 </td><td> (7.76%) </td><td> 200000.0 </td><td>  0.00000000 </td><td>         inf </td><td> True </td></tr><tr><td> xp93 </td><td> -10.0179578 </td><td>  0.00123911 </td><td> (0.01%) </td><td> -10.0 </td><td>        -inf </td><td>         inf </td><td> True </td></tr><tr><td> A94 </td><td>  217952.833 </td><td>  16454.5748 </td><td> (7.55%) </td><td> 200000.0 </td><td>  0.00000000 </td><td>         inf </td><td> True </td></tr><tr><td> xp94 </td><td> -10.0184680 </td><td>  0.00116556 </td><td> (0.01%) </td><td> -10.0 </td><td>        -inf </td><td>         inf </td><td> True </td></tr><tr><td> A95 </td><td>  213179.165 </td><td>  16143.3739 </td><td> (7.57%) </td><td> 200000.0 </td><td>  0.00000000 </td><td>         inf </td><td> True </td></tr><tr><td> xp95 </td><td> -10.0179060 </td><td>  0.00119425 </td><td> (0.01%) </td><td> -10.0 </td><td>        -inf </td><td>         inf </td><td> True </td></tr><tr><td> A96 </td><td>  230876.550 </td><td>  16130.6584 </td><td> (6.99%) </td><td> 200000.0 </td><td>  0.00000000 </td><td>         inf </td><td> True </td></tr><tr><td> xp96 </td><td> -10.0181515 </td><td>  0.00113476 </td><td> (0.01%) </td><td> -10.0 </td><td>        -inf </td><td>         inf </td><td> True </td></tr><tr><td> A97 </td><td>  218801.007 </td><td>  15893.2843 </td><td> (7.26%) </td><td> 200000.0 </td><td>  0.00000000 </td><td>         inf </td><td> True </td></tr><tr><td> xp97 </td><td> -10.0174672 </td><td>  0.00114502 </td><td> (0.01%) </td><td> -10.0 </td><td>        -inf </td><td>         inf </td><td> True </td></tr><tr><td> A98 </td><td>  191600.645 </td><td>  17186.8866 </td><td> (8.97%) </td><td> 200000.0 </td><td>  0.00000000 </td><td>         inf </td><td> True </td></tr><tr><td> xp98 </td><td> -10.0159183 </td><td>  0.00130505 </td><td> (0.01%) </td><td> -10.0 </td><td>        -inf </td><td>         inf </td><td> True </td></tr><tr><td> A99 </td><td>  222546.476 </td><td>  15837.6924 </td><td> (7.12%) </td><td> 200000.0 </td><td>  0.00000000 </td><td>         inf </td><td> True </td></tr><tr><td> xp99 </td><td> -10.0174681 </td><td>  0.00115402 </td><td> (0.01%) </td><td> -10.0 </td><td>        -inf </td><td>         inf </td><td> True </td></tr><tr><td> A100 </td><td>  192988.265 </td><td>  14490.9950 </td><td> (7.51%) </td><td> 200000.0 </td><td>  0.00000000 </td><td>         inf </td><td> True </td></tr><tr><td> xp100 </td><td> -10.0172795 </td><td>  0.00120833 </td><td> (0.01%) </td><td> -10.0 </td><td>        -inf </td><td>         inf </td><td> True </td></tr><tr><td> A101 </td><td>  205517.264 </td><td>  15855.8722 </td><td> (7.72%) </td><td> 200000.0 </td><td>  0.00000000 </td><td>         inf </td><td> True </td></tr><tr><td> xp101 </td><td> -10.0178406 </td><td>  0.00116788 </td><td> (0.01%) </td><td> -10.0 </td><td>        -inf </td><td>         inf </td><td> True </td></tr></table><h2>Correlations (unreported correlations are < 0.100)</h2><table><tr><td>beta</td><td>R</td><td>0.9241</td></tr><tr><td>alpha</td><td>R</td><td>0.8606</td></tr><tr><td>alpha</td><td>sigma</td><td>0.7714</td></tr><tr><td>sigma</td><td>xp97</td><td>0.7609</td></tr><tr><td>sigma</td><td>xp96</td><td>0.7536</td></tr><tr><td>sigma</td><td>xp99</td><td>0.7378</td></tr><tr><td>sigma</td><td>xp101</td><td>0.7374</td></tr><tr><td>alpha</td><td>beta</td><td>0.7327</td></tr><tr><td>sigma</td><td>xp88</td><td>0.7286</td></tr><tr><td>alpha</td><td>xp96</td><td>0.7244</td></tr><tr><td>alpha</td><td>xp97</td><td>0.7240</td></tr><tr><td>sigma</td><td>xp86</td><td>0.7234</td></tr><tr><td>sigma</td><td>xp100</td><td>0.7186</td></tr><tr><td>sigma</td><td>xp95</td><td>0.7177</td></tr><tr><td>alpha</td><td>xp86</td><td>0.7152</td></tr><tr><td>sigma</td><td>xp90</td><td>0.7138</td></tr><tr><td>alpha</td><td>xp88</td><td>0.7132</td></tr><tr><td>sigma</td><td>xp81</td><td>0.7127</td></tr><tr><td>sigma</td><td>xp94</td><td>0.7125</td></tr><tr><td>alpha</td><td>xp99</td><td>0.7113</td></tr><tr><td>sigma</td><td>xp85</td><td>0.7112</td></tr><tr><td>sigma</td><td>xp89</td><td>0.7077</td></tr><tr><td>alpha</td><td>xp101</td><td>0.7069</td></tr><tr><td>alpha</td><td>xp90</td><td>0.7056</td></tr><tr><td>alpha</td><td>xp81</td><td>0.7052</td></tr><tr><td>alpha</td><td>xp85</td><td>0.7046</td></tr><tr><td>sigma</td><td>xp84</td><td>0.7043</td></tr><tr><td>alpha</td><td>xp89</td><td>0.7018</td></tr><tr><td>sigma</td><td>xp87</td><td>0.6966</td></tr><tr><td>alpha</td><td>xp83</td><td>0.6946</td></tr><tr><td>sigma</td><td>xp83</td><td>0.6938</td></tr><tr><td>alpha</td><td>xp94</td><td>0.6925</td></tr><tr><td>sigma</td><td>xp93</td><td>0.6921</td></tr><tr><td>sigma</td><td>xp92</td><td>0.6916</td></tr><tr><td>alpha</td><td>xp84</td><td>0.6916</td></tr><tr><td>alpha</td><td>xp95</td><td>0.6899</td></tr><tr><td>alpha</td><td>xp87</td><td>0.6883</td></tr><tr><td>alpha</td><td>xp100</td><td>0.6881</td></tr><tr><td>alpha</td><td>xp92</td><td>0.6816</td></tr><tr><td>sigma</td><td>xp98</td><td>0.6816</td></tr><tr><td>alpha</td><td>xp82</td><td>0.6791</td></tr><tr><td>sigma</td><td>xp82</td><td>0.6751</td></tr><tr><td>alpha</td><td>xp77</td><td>0.6715</td></tr><tr><td>alpha</td><td>xp93</td><td>0.6714</td></tr><tr><td>sigma</td><td>xp91</td><td>0.6679</td></tr><tr><td>alpha</td><td>xp91</td><td>0.6642</td></tr><tr><td>alpha</td><td>xp75</td><td>0.6636</td></tr><tr><td>alpha</td><td>xp73</td><td>0.6600</td></tr><tr><td>alpha</td><td>xp72</td><td>0.6558</td></tr><tr><td>sigma</td><td>xp77</td><td>0.6555</td></tr><tr><td>alpha</td><td>xp76</td><td>0.6537</td></tr><tr><td>alpha</td><td>xp80</td><td>0.6499</td></tr><tr><td>alpha</td><td>xp79</td><td>0.6493</td></tr><tr><td>sigma</td><td>xp73</td><td>0.6474</td></tr><tr><td>alpha</td><td>xp98</td><td>0.6473</td></tr><tr><td>alpha</td><td>xp74</td><td>0.6460</td></tr><tr><td>alpha</td><td>xp78</td><td>0.6459</td></tr><tr><td>sigma</td><td>xp75</td><td>0.6459</td></tr><tr><td>sigma</td><td>xp76</td><td>0.6411</td></tr><tr><td>sigma</td><td>xp80</td><td>0.6401</td></tr><tr><td>sigma</td><td>xp72</td><td>0.6361</td></tr><tr><td>xp96</td><td>xp97</td><td>0.6343</td></tr><tr><td>sigma</td><td>xp79</td><td>0.6333</td></tr><tr><td>sigma</td><td>xp78</td><td>0.6326</td></tr><tr><td>sigma</td><td>xp74</td><td>0.6314</td></tr><tr><td>xp97</td><td>xp99</td><td>0.6215</td></tr><tr><td>xp97</td><td>xp101</td><td>0.6194</td></tr><tr><td>xp96</td><td>xp99</td><td>0.6186</td></tr><tr><td>xp88</td><td>xp97</td><td>0.6184</td></tr><tr><td>xp96</td><td>xp101</td><td>0.6164</td></tr><tr><td>xp86</td><td>xp97</td><td>0.6158</td></tr><tr><td>xp88</td><td>xp96</td><td>0.6158</td></tr><tr><td>xp86</td><td>xp96</td><td>0.6132</td></tr><tr><td>xp90</td><td>xp97</td><td>0.6082</td></tr><tr><td>xp81</td><td>xp97</td><td>0.6078</td></tr><tr><td>xp85</td><td>xp97</td><td>0.6060</td></tr><tr><td>xp90</td><td>xp96</td><td>0.6057</td></tr><tr><td>xp81</td><td>xp96</td><td>0.6053</td></tr><tr><td>xp97</td><td>xp100</td><td>0.6044</td></tr><tr><td>xp95</td><td>xp97</td><td>0.6041</td></tr><tr><td>xp99</td><td>xp101</td><td>0.6040</td></tr><tr><td>xp89</td><td>xp97</td><td>0.6039</td></tr><tr><td>xp85</td><td>xp96</td><td>0.6036</td></tr><tr><td>xp88</td><td>xp99</td><td>0.6035</td></tr><tr><td>xp94</td><td>xp97</td><td>0.6024</td></tr><tr><td>xp96</td><td>xp100</td><td>0.6015</td></tr><tr><td>xp89</td><td>xp96</td><td>0.6014</td></tr><tr><td>xp95</td><td>xp96</td><td>0.6012</td></tr><tr><td>xp88</td><td>xp101</td><td>0.6012</td></tr><tr><td>xp86</td><td>xp99</td><td>0.6011</td></tr><tr><td>xp94</td><td>xp96</td><td>0.5997</td></tr><tr><td>xp86</td><td>xp88</td><td>0.5991</td></tr><tr><td>xp86</td><td>xp101</td><td>0.5988</td></tr><tr><td>xp84</td><td>xp97</td><td>0.5978</td></tr><tr><td>xp84</td><td>xp96</td><td>0.5953</td></tr><tr><td>xp83</td><td>xp97</td><td>0.5944</td></tr><tr><td>xp87</td><td>xp97</td><td>0.5941</td></tr><tr><td>xp90</td><td>xp99</td><td>0.5937</td></tr><tr><td>xp81</td><td>xp99</td><td>0.5932</td></tr><tr><td>xp83</td><td>xp96</td><td>0.5922</td></tr><tr><td>xp88</td><td>xp90</td><td>0.5917</td></tr><tr><td>xp85</td><td>xp99</td><td>0.5917</td></tr><tr><td>xp87</td><td>xp96</td><td>0.5916</td></tr><tr><td>xp90</td><td>xp101</td><td>0.5914</td></tr><tr><td>xp81</td><td>xp88</td><td>0.5912</td></tr><tr><td>xp81</td><td>xp101</td><td>0.5909</td></tr><tr><td>xp86</td><td>xp90</td><td>0.5898</td></tr><tr><td>xp85</td><td>xp88</td><td>0.5898</td></tr><tr><td>xp89</td><td>xp99</td><td>0.5895</td></tr><tr><td>xp99</td><td>xp100</td><td>0.5894</td></tr><tr><td>xp85</td><td>xp101</td><td>0.5894</td></tr><tr><td>xp81</td><td>xp86</td><td>0.5892</td></tr><tr><td>xp95</td><td>xp99</td><td>0.5892</td></tr><tr><td>xp92</td><td>xp97</td><td>0.5884</td></tr><tr><td>xp85</td><td>xp86</td><td>0.5880</td></tr><tr><td>xp94</td><td>xp99</td><td>0.5877</td></tr><tr><td>xp88</td><td>xp89</td><td>0.5877</td></tr><tr><td>xp100</td><td>xp101</td><td>0.5873</td></tr><tr><td>xp89</td><td>xp101</td><td>0.5872</td></tr><tr><td>xp95</td><td>xp101</td><td>0.5871</td></tr><tr><td>xp88</td><td>xp100</td><td>0.5865</td></tr><tr><td>xp88</td><td>xp95</td><td>0.5865</td></tr><tr><td>xp92</td><td>xp96</td><td>0.5859</td></tr><tr><td>xp86</td><td>xp89</td><td>0.5858</td></tr><tr><td>xp94</td><td>xp101</td><td>0.5856</td></tr><tr><td>xp93</td><td>xp97</td><td>0.5856</td></tr><tr><td>xp88</td><td>xp94</td><td>0.5853</td></tr><tr><td>xp86</td><td>xp95</td><td>0.5841</td></tr><tr><td>xp86</td><td>xp100</td><td>0.5839</td></tr><tr><td>xp84</td><td>xp99</td><td>0.5835</td></tr><tr><td>xp86</td><td>xp94</td><td>0.5832</td></tr><tr><td>xp93</td><td>xp96</td><td>0.5829</td></tr><tr><td>xp81</td><td>xp90</td><td>0.5820</td></tr><tr><td>xp84</td><td>xp88</td><td>0.5814</td></tr><tr><td>xp84</td><td>xp101</td><td>0.5813</td></tr><tr><td>xp85</td><td>xp90</td><td>0.5807</td></tr><tr><td>xp83</td><td>xp99</td><td>0.5805</td></tr><tr><td>xp81</td><td>xp85</td><td>0.5801</td></tr><tr><td>xp87</td><td>xp99</td><td>0.5798</td></tr><tr><td>xp84</td><td>xp86</td><td>0.5795</td></tr><tr><td>xp82</td><td>xp97</td><td>0.5792</td></tr><tr><td>xp83</td><td>xp88</td><td>0.5789</td></tr><tr><td>xp89</td><td>xp90</td><td>0.5786</td></tr><tr><td>xp83</td><td>xp101</td><td>0.5781</td></tr><tr><td>xp81</td><td>xp89</td><td>0.5780</td></tr><tr><td>xp87</td><td>xp88</td><td>0.5778</td></tr><tr><td>xp87</td><td>xp101</td><td>0.5776</td></tr><tr><td>xp83</td><td>xp86</td><td>0.5773</td></tr><tr><td>xp82</td><td>xp96</td><td>0.5770</td></tr><tr><td>xp90</td><td>xp95</td><td>0.5769</td></tr><tr><td>xp85</td><td>xp89</td><td>0.5768</td></tr><tr><td>xp90</td><td>xp100</td><td>0.5768</td></tr><tr><td>xp81</td><td>xp95</td><td>0.5765</td></tr><tr><td>xp81</td><td>xp100</td><td>0.5765</td></tr><tr><td>xp90</td><td>xp94</td><td>0.5760</td></tr><tr><td>xp86</td><td>xp87</td><td>0.5758</td></tr><tr><td>xp81</td><td>xp94</td><td>0.5755</td></tr><tr><td>xp85</td><td>xp95</td><td>0.5749</td></tr><tr><td>xp85</td><td>xp100</td><td>0.5747</td></tr><tr><td>xp92</td><td>xp99</td><td>0.5743</td></tr><tr><td>xp85</td><td>xp94</td><td>0.5741</td></tr><tr><td>xp89</td><td>xp95</td><td>0.5729</td></tr><tr><td>xp95</td><td>xp100</td><td>0.5729</td></tr><tr><td>xp89</td><td>xp100</td><td>0.5727</td></tr><tr><td>xp88</td><td>xp92</td><td>0.5723</td></tr><tr><td>xp84</td><td>xp90</td><td>0.5723</td></tr><tr><td>xp92</td><td>xp101</td><td>0.5721</td></tr><tr><td>xp89</td><td>xp94</td><td>0.5720</td></tr><tr><td>xp91</td><td>xp97</td><td>0.5719</td></tr><tr><td>xp81</td><td>xp84</td><td>0.5717</td></tr><tr><td>xp94</td><td>xp100</td><td>0.5713</td></tr><tr><td>xp97</td><td>xp98</td><td>0.5712</td></tr><tr><td>xp94</td><td>xp95</td><td>0.5712</td></tr><tr><td>xp93</td><td>xp99</td><td>0.5712</td></tr><tr><td>xp84</td><td>xp85</td><td>0.5705</td></tr><tr><td>xp86</td><td>xp92</td><td>0.5704</td></tr><tr><td>xp83</td><td>xp90</td><td>0.5701</td></tr><tr><td>xp91</td><td>xp96</td><td>0.5696</td></tr><tr><td>xp81</td><td>xp83</td><td>0.5695</td></tr><tr><td>xp93</td><td>xp101</td><td>0.5691</td></tr><tr><td>xp88</td><td>xp93</td><td>0.5687</td></tr><tr><td>xp87</td><td>xp90</td><td>0.5687</td></tr><tr><td>xp83</td><td>xp85</td><td>0.5684</td></tr><tr><td>xp84</td><td>xp89</td><td>0.5684</td></tr><tr><td>xp96</td><td>xp98</td><td>0.5683</td></tr><tr><td>xp81</td><td>xp87</td><td>0.5683</td></tr><tr><td>xp77</td><td>xp97</td><td>0.5678</td></tr><tr><td>xp84</td><td>xp95</td><td>0.5670</td></tr><tr><td>xp84</td><td>xp100</td><td>0.5669</td></tr><tr><td>xp85</td><td>xp87</td><td>0.5668</td></tr><tr><td>xp83</td><td>xp89</td><td>0.5663</td></tr><tr><td>xp86</td><td>xp93</td><td>0.5663</td></tr><tr><td>xp84</td><td>xp94</td><td>0.5660</td></tr><tr><td>xp77</td><td>xp96</td><td>0.5659</td></tr><tr><td>xp82</td><td>xp99</td><td>0.5657</td></tr><tr><td>xp87</td><td>xp89</td><td>0.5648</td></tr><tr><td>xp82</td><td>xp88</td><td>0.5642</td></tr><tr><td>xp83</td><td>xp95</td><td>0.5641</td></tr><tr><td>xp83</td><td>xp100</td><td>0.5637</td></tr><tr><td>xp87</td><td>xp100</td><td>0.5636</td></tr><tr><td>xp87</td><td>xp95</td><td>0.5635</td></tr><tr><td>xp82</td><td>xp101</td><td>0.5634</td></tr><tr><td>xp83</td><td>xp94</td><td>0.5634</td></tr><tr><td>xp90</td><td>xp92</td><td>0.5633</td></tr><tr><td>xp81</td><td>xp92</td><td>0.5628</td></tr><tr><td>xp82</td><td>xp86</td><td>0.5627</td></tr><tr><td>xp87</td><td>xp94</td><td>0.5625</td></tr><tr><td>xp85</td><td>xp92</td><td>0.5616</td></tr><tr><td>xp75</td><td>xp97</td><td>0.5605</td></tr><tr><td>xp83</td><td>xp84</td><td>0.5600</td></tr><tr><td>xp73</td><td>xp97</td><td>0.5598</td></tr><tr><td>xp89</td><td>xp92</td><td>0.5595</td></tr><tr><td>xp90</td><td>xp93</td><td>0.5594</td></tr><tr><td>xp81</td><td>xp93</td><td>0.5591</td></tr><tr><td>xp84</td><td>xp87</td><td>0.5587</td></tr><tr><td>xp75</td><td>xp96</td><td>0.5587</td></tr><tr><td>xp91</td><td>xp99</td><td>0.5582</td></tr><tr><td>xp92</td><td>xp95</td><td>0.5581</td></tr><tr><td>xp92</td><td>xp100</td><td>0.5580</td></tr><tr><td>xp73</td><td>xp96</td><td>0.5579</td></tr><tr><td>xp85</td><td>xp93</td><td>0.5574</td></tr><tr><td>xp92</td><td>xp94</td><td>0.5571</td></tr><tr><td>xp98</td><td>xp99</td><td>0.5569</td></tr><tr><td>xp83</td><td>xp87</td><td>0.5565</td></tr><tr><td>xp88</td><td>xp91</td><td>0.5564</td></tr><tr><td>xp91</td><td>xp101</td><td>0.5560</td></tr><tr><td>xp82</td><td>xp90</td><td>0.5556</td></tr><tr><td>xp89</td><td>xp93</td><td>0.5555</td></tr><tr><td>xp93</td><td>xp100</td><td>0.5555</td></tr><tr><td>xp93</td><td>xp95</td><td>0.5551</td></tr><tr><td>xp81</td><td>xp82</td><td>0.5551</td></tr><tr><td>xp98</td><td>xp101</td><td>0.5549</td></tr><tr><td>xp77</td><td>xp99</td><td>0.5548</td></tr><tr><td>xp86</td><td>xp91</td><td>0.5543</td></tr><tr><td>xp82</td><td>xp85</td><td>0.5540</td></tr><tr><td>xp88</td><td>xp98</td><td>0.5540</td></tr><tr><td>xp76</td><td>xp97</td><td>0.5540</td></tr><tr><td>xp93</td><td>xp94</td><td>0.5538</td></tr><tr><td>xp77</td><td>xp88</td><td>0.5537</td></tr><tr><td>xp84</td><td>xp92</td><td>0.5535</td></tr><tr><td>xp80</td><td>xp97</td><td>0.5528</td></tr><tr><td>xp77</td><td>xp101</td><td>0.5524</td></tr><tr><td>xp72</td><td>xp97</td><td>0.5524</td></tr><tr><td>xp77</td><td>xp86</td><td>0.5524</td></tr><tr><td>xp76</td><td>xp96</td><td>0.5521</td></tr><tr><td>xp82</td><td>xp89</td><td>0.5520</td></tr><tr><td>xp86</td><td>xp98</td><td>0.5515</td></tr><tr><td>xp83</td><td>xp92</td><td>0.5513</td></tr><tr><td>xp80</td><td>xp96</td><td>0.5509</td></tr><tr><td>xp72</td><td>xp96</td><td>0.5507</td></tr><tr><td>xp87</td><td>xp92</td><td>0.5500</td></tr><tr><td>xp84</td><td>xp93</td><td>0.5497</td></tr><tr><td>xp82</td><td>xp95</td><td>0.5497</td></tr><tr><td>xp79</td><td>xp97</td><td>0.5496</td></tr><tr><td>xp82</td><td>xp100</td><td>0.5494</td></tr><tr><td>xp82</td><td>xp94</td><td>0.5490</td></tr><tr><td>xp79</td><td>xp96</td><td>0.5478</td></tr><tr><td>xp75</td><td>xp99</td><td>0.5477</td></tr><tr><td>xp78</td><td>xp97</td><td>0.5477</td></tr><tr><td>xp90</td><td>xp91</td><td>0.5475</td></tr><tr><td>xp81</td><td>xp91</td><td>0.5473</td></tr><tr><td>xp74</td><td>xp97</td><td>0.5471</td></tr><tr><td>xp83</td><td>xp93</td><td>0.5470</td></tr><tr><td>xp73</td><td>xp99</td><td>0.5469</td></tr><tr><td>xp75</td><td>xp88</td><td>0.5467</td></tr><tr><td>xp87</td><td>xp93</td><td>0.5466</td></tr><tr><td>xp73</td><td>xp88</td><td>0.5458</td></tr><tr><td>xp78</td><td>xp96</td><td>0.5458</td></tr><tr><td>xp82</td><td>xp84</td><td>0.5458</td></tr><tr><td>xp85</td><td>xp91</td><td>0.5457</td></tr><tr><td>xp77</td><td>xp90</td><td>0.5455</td></tr><tr><td>xp75</td><td>xp86</td><td>0.5454</td></tr><tr><td>xp75</td><td>xp101</td><td>0.5453</td></tr><tr><td>xp74</td><td>xp96</td><td>0.5453</td></tr><tr><td>xp77</td><td>xp81</td><td>0.5450</td></tr><tr><td>xp90</td><td>xp98</td><td>0.5447</td></tr><tr><td>xp73</td><td>xp101</td><td>0.5446</td></tr><tr><td>xp73</td><td>xp86</td><td>0.5445</td></tr><tr><td>xp81</td><td>xp98</td><td>0.5444</td></tr><tr><td>xp82</td><td>xp83</td><td>0.5442</td></tr><tr><td>xp77</td><td>xp85</td><td>0.5440</td></tr><tr><td>xp89</td><td>xp91</td><td>0.5438</td></tr><tr><td>xp91</td><td>xp100</td><td>0.5427</td></tr><tr><td>xp85</td><td>xp98</td><td>0.5427</td></tr><tr><td>xp91</td><td>xp95</td><td>0.5425</td></tr><tr><td>xp82</td><td>xp87</td><td>0.5424</td></tr><tr><td>xp77</td><td>xp89</td><td>0.5420</td></tr><tr><td>xp98</td><td>xp100</td><td>0.5417</td></tr><tr><td>xp91</td><td>xp94</td><td>0.5415</td></tr><tr><td>xp95</td><td>xp98</td><td>0.5413</td></tr><tr><td>xp76</td><td>xp99</td><td>0.5412</td></tr><tr><td>xp92</td><td>xp93</td><td>0.5411</td></tr><tr><td>xp89</td><td>xp98</td><td>0.5409</td></tr><tr><td>xp76</td><td>xp88</td><td>0.5401</td></tr><tr><td>xp80</td><td>xp99</td><td>0.5400</td></tr><tr><td>xp72</td><td>xp99</td><td>0.5399</td></tr><tr><td>xp94</td><td>xp98</td><td>0.5397</td></tr><tr><td>xp72</td><td>xp88</td><td>0.5391</td></tr><tr><td>xp77</td><td>xp95</td><td>0.5390</td></tr><tr><td>xp76</td><td>xp101</td><td>0.5389</td></tr><tr><td>xp80</td><td>xp88</td><td>0.5387</td></tr><tr><td>xp76</td><td>xp86</td><td>0.5387</td></tr><tr><td>xp77</td><td>xp100</td><td>0.5387</td></tr><tr><td>xp77</td><td>xp94</td><td>0.5387</td></tr><tr><td>xp75</td><td>xp90</td><td>0.5386</td></tr><tr><td>xp75</td><td>xp81</td><td>0.5382</td></tr><tr><td>xp72</td><td>xp86</td><td>0.5379</td></tr><tr><td>xp84</td><td>xp91</td><td>0.5378</td></tr><tr><td>xp73</td><td>xp90</td><td>0.5377</td></tr><tr><td>xp80</td><td>xp101</td><td>0.5377</td></tr><tr><td>xp72</td><td>xp101</td><td>0.5375</td></tr><tr><td>xp82</td><td>xp92</td><td>0.5373</td></tr><tr><td>xp73</td><td>xp81</td><td>0.5372</td></tr><tr><td>xp80</td><td>xp86</td><td>0.5371</td></tr><tr><td>xp75</td><td>xp85</td><td>0.5371</td></tr><tr><td>xp79</td><td>xp99</td><td>0.5370</td></tr><tr><td>xp73</td><td>xp85</td><td>0.5362</td></tr><tr><td>xp79</td><td>xp88</td><td>0.5361</td></tr><tr><td>xp83</td><td>xp91</td><td>0.5358</td></tr><tr><td>xp77</td><td>xp84</td><td>0.5357</td></tr><tr><td>xp84</td><td>xp98</td><td>0.5354</td></tr><tr><td>xp75</td><td>xp89</td><td>0.5352</td></tr><tr><td>xp78</td><td>xp99</td><td>0.5351</td></tr><tr><td>xp87</td><td>xp91</td><td>0.5350</td></tr><tr><td>xp79</td><td>xp86</td><td>0.5347</td></tr><tr><td>xp79</td><td>xp101</td><td>0.5347</td></tr><tr><td>xp74</td><td>xp99</td><td>0.5346</td></tr><tr><td>xp77</td><td>xp83</td><td>0.5345</td></tr><tr><td>xp73</td><td>xp89</td><td>0.5343</td></tr><tr><td>xp78</td><td>xp88</td><td>0.5340</td></tr><tr><td>xp74</td><td>xp88</td><td>0.5336</td></tr><tr><td>xp82</td><td>xp93</td><td>0.5331</td></tr><tr><td>xp78</td><td>xp101</td><td>0.5328</td></tr><tr><td>xp78</td><td>xp86</td><td>0.5326</td></tr><tr><td>xp77</td><td>xp87</td><td>0.5325</td></tr><tr><td>xp83</td><td>xp98</td><td>0.5323</td></tr><tr><td>xp87</td><td>xp98</td><td>0.5323</td></tr><tr><td>xp74</td><td>xp101</td><td>0.5322</td></tr><tr><td>xp74</td><td>xp86</td><td>0.5322</td></tr><tr><td>xp75</td><td>xp95</td><td>0.5322</td></tr><tr><td>xp76</td><td>xp90</td><td>0.5320</td></tr><tr><td>xp75</td><td>xp100</td><td>0.5319</td></tr><tr><td>xp75</td><td>xp94</td><td>0.5318</td></tr><tr><td>xp76</td><td>xp81</td><td>0.5315</td></tr><tr><td>xp73</td><td>xp95</td><td>0.5314</td></tr><tr><td>xp72</td><td>xp90</td><td>0.5312</td></tr><tr><td>xp73</td><td>xp100</td><td>0.5310</td></tr><tr><td>xp73</td><td>xp94</td><td>0.5310</td></tr><tr><td>xp72</td><td>xp81</td><td>0.5307</td></tr><tr><td>xp80</td><td>xp90</td><td>0.5305</td></tr><tr><td>xp76</td><td>xp85</td><td>0.5305</td></tr><tr><td>xp80</td><td>xp81</td><td>0.5301</td></tr><tr><td>xp72</td><td>xp85</td><td>0.5298</td></tr><tr><td>xp91</td><td>xp92</td><td>0.5295</td></tr><tr><td>xp75</td><td>xp84</td><td>0.5289</td></tr><tr><td>xp80</td><td>xp85</td><td>0.5289</td></tr><tr><td>xp76</td><td>xp89</td><td>0.5286</td></tr><tr><td>xp79</td><td>xp90</td><td>0.5281</td></tr><tr><td>xp73</td><td>xp84</td><td>0.5281</td></tr><tr><td>xp72</td><td>xp89</td><td>0.5278</td></tr><tr><td>xp75</td><td>xp83</td><td>0.5278</td></tr><tr><td>xp79</td><td>xp81</td><td>0.5277</td></tr><tr><td>xp77</td><td>xp92</td><td>0.5275</td></tr><tr><td>xp80</td><td>xp89</td><td>0.5270</td></tr><tr><td>xp92</td><td>xp98</td><td>0.5270</td></tr><tr><td>xp73</td><td>xp83</td><td>0.5269</td></tr><tr><td>xp79</td><td>xp85</td><td>0.5266</td></tr><tr><td>xp91</td><td>xp93</td><td>0.5264</td></tr><tr><td>xp78</td><td>xp90</td><td>0.5260</td></tr><tr><td>xp76</td><td>xp95</td><td>0.5259</td></tr><tr><td>xp75</td><td>xp87</td><td>0.5259</td></tr><tr><td>xp74</td><td>xp90</td><td>0.5256</td></tr><tr><td>xp78</td><td>xp81</td><td>0.5256</td></tr><tr><td>xp76</td><td>xp100</td><td>0.5255</td></tr><tr><td>xp76</td><td>xp94</td><td>0.5254</td></tr><tr><td>xp74</td><td>xp81</td><td>0.5252</td></tr><tr><td>xp73</td><td>xp87</td><td>0.5249</td></tr><tr><td>xp93</td><td>xp98</td><td>0.5248</td></tr><tr><td>xp79</td><td>xp89</td><td>0.5248</td></tr><tr><td>xp80</td><td>xp95</td><td>0.5247</td></tr><tr><td>xp80</td><td>xp100</td><td>0.5246</td></tr><tr><td>xp72</td><td>xp95</td><td>0.5245</td></tr><tr><td>xp78</td><td>xp85</td><td>0.5244</td></tr><tr><td>xp72</td><td>xp94</td><td>0.5243</td></tr><tr><td>xp80</td><td>xp94</td><td>0.5241</td></tr><tr><td>xp74</td><td>xp85</td><td>0.5241</td></tr><tr><td>xp72</td><td>xp100</td><td>0.5241</td></tr><tr><td>xp77</td><td>xp93</td><td>0.5230</td></tr><tr><td>xp78</td><td>xp89</td><td>0.5226</td></tr><tr><td>xp76</td><td>xp84</td><td>0.5225</td></tr><tr><td>xp82</td><td>xp91</td><td>0.5223</td></tr><tr><td>xp74</td><td>xp89</td><td>0.5222</td></tr><tr><td>xp79</td><td>xp95</td><td>0.5218</td></tr><tr><td>xp72</td><td>xp84</td><td>0.5216</td></tr><tr><td>xp79</td><td>xp100</td><td>0.5215</td></tr><tr><td>xp79</td><td>xp94</td><td>0.5214</td></tr><tr><td>xp76</td><td>xp83</td><td>0.5212</td></tr><tr><td>xp77</td><td>xp82</td><td>0.5212</td></tr><tr><td>xp80</td><td>xp84</td><td>0.5210</td></tr><tr><td>xp75</td><td>xp92</td><td>0.5208</td></tr><tr><td>xp72</td><td>xp83</td><td>0.5207</td></tr><tr><td>xp73</td><td>xp92</td><td>0.5199</td></tr><tr><td>xp78</td><td>xp95</td><td>0.5199</td></tr><tr><td>xp78</td><td>xp100</td><td>0.5197</td></tr><tr><td>xp80</td><td>xp83</td><td>0.5196</td></tr><tr><td>xp78</td><td>xp94</td><td>0.5195</td></tr><tr><td>xp74</td><td>xp95</td><td>0.5194</td></tr><tr><td>xp76</td><td>xp87</td><td>0.5193</td></tr><tr><td>xp74</td><td>xp100</td><td>0.5191</td></tr><tr><td>xp74</td><td>xp94</td><td>0.5190</td></tr><tr><td>xp82</td><td>xp98</td><td>0.5187</td></tr><tr><td>xp79</td><td>xp84</td><td>0.5186</td></tr><tr><td>xp72</td><td>xp87</td><td>0.5184</td></tr><tr><td>xp80</td><td>xp87</td><td>0.5181</td></tr><tr><td>xp79</td><td>xp83</td><td>0.5175</td></tr><tr><td>xp78</td><td>xp84</td><td>0.5165</td></tr><tr><td>xp75</td><td>xp93</td><td>0.5164</td></tr><tr><td>xp74</td><td>xp84</td><td>0.5161</td></tr><tr><td>xp79</td><td>xp87</td><td>0.5156</td></tr><tr><td>xp73</td><td>xp93</td><td>0.5155</td></tr><tr><td>xp78</td><td>xp83</td><td>0.5153</td></tr><tr><td>xp74</td><td>xp83</td><td>0.5150</td></tr><tr><td>xp75</td><td>xp82</td><td>0.5146</td></tr><tr><td>xp76</td><td>xp92</td><td>0.5144</td></tr><tr><td>xp73</td><td>xp82</td><td>0.5136</td></tr><tr><td>xp72</td><td>xp92</td><td>0.5136</td></tr><tr><td>xp78</td><td>xp87</td><td>0.5136</td></tr><tr><td>xp74</td><td>xp87</td><td>0.5131</td></tr><tr><td>xp80</td><td>xp92</td><td>0.5130</td></tr><tr><td>xp77</td><td>xp91</td><td>0.5130</td></tr><tr><td>xp91</td><td>xp98</td><td>0.5125</td></tr><tr><td>xp79</td><td>xp92</td><td>0.5106</td></tr><tr><td>xp76</td><td>xp93</td><td>0.5102</td></tr><tr><td>xp80</td><td>xp93</td><td>0.5092</td></tr><tr><td>xp72</td><td>xp93</td><td>0.5089</td></tr><tr><td>xp78</td><td>xp92</td><td>0.5086</td></tr><tr><td>xp77</td><td>xp98</td><td>0.5084</td></tr><tr><td>xp74</td><td>xp92</td><td>0.5082</td></tr><tr><td>xp76</td><td>xp82</td><td>0.5081</td></tr><tr><td>xp72</td><td>xp82</td><td>0.5076</td></tr><tr><td>xp75</td><td>xp91</td><td>0.5066</td></tr><tr><td>xp80</td><td>xp82</td><td>0.5065</td></tr><tr><td>xp79</td><td>xp93</td><td>0.5063</td></tr><tr><td>xp75</td><td>xp77</td><td>0.5061</td></tr><tr><td>xp73</td><td>xp91</td><td>0.5055</td></tr><tr><td>xp73</td><td>xp77</td><td>0.5049</td></tr><tr><td>xp78</td><td>xp93</td><td>0.5045</td></tr><tr><td>xp79</td><td>xp82</td><td>0.5045</td></tr><tr><td>xp74</td><td>xp93</td><td>0.5040</td></tr><tr><td>xp78</td><td>xp82</td><td>0.5024</td></tr><tr><td>xp74</td><td>xp82</td><td>0.5021</td></tr><tr><td>xp75</td><td>xp98</td><td>0.5019</td></tr><tr><td>xp73</td><td>xp98</td><td>0.5012</td></tr><tr><td>R</td><td>xp96</td><td>0.5007</td></tr><tr><td>xp76</td><td>xp91</td><td>0.5002</td></tr><tr><td>xp76</td><td>xp77</td><td>0.4995</td></tr><tr><td>xp72</td><td>xp91</td><td>0.4993</td></tr><tr><td>xp72</td><td>xp77</td><td>0.4992</td></tr><tr><td>xp80</td><td>xp91</td><td>0.4991</td></tr><tr><td>xp73</td><td>xp75</td><td>0.4987</td></tr><tr><td>R</td><td>xp97</td><td>0.4985</td></tr><tr><td>R</td><td>xp86</td><td>0.4983</td></tr><tr><td>xp77</td><td>xp80</td><td>0.4979</td></tr><tr><td>xp79</td><td>xp91</td><td>0.4967</td></tr><tr><td>R</td><td>sigma</td><td>0.4966</td></tr><tr><td>xp77</td><td>xp79</td><td>0.4961</td></tr><tr><td>xp76</td><td>xp98</td><td>0.4961</td></tr><tr><td>xp80</td><td>xp98</td><td>0.4952</td></tr><tr><td>xp78</td><td>xp91</td><td>0.4947</td></tr><tr><td>xp72</td><td>xp98</td><td>0.4946</td></tr><tr><td>xp74</td><td>xp91</td><td>0.4943</td></tr><tr><td>xp77</td><td>xp78</td><td>0.4940</td></tr><tr><td>xp74</td><td>xp77</td><td>0.4937</td></tr><tr><td>xp75</td><td>xp76</td><td>0.4933</td></tr><tr><td>R</td><td>xp88</td><td>0.4932</td></tr><tr><td>xp72</td><td>xp75</td><td>0.4930</td></tr><tr><td>xp73</td><td>xp76</td><td>0.4923</td></tr><tr><td>xp79</td><td>xp98</td><td>0.4922</td></tr><tr><td>xp72</td><td>xp73</td><td>0.4920</td></tr><tr><td>R</td><td>xp99</td><td>0.4919</td></tr><tr><td>xp75</td><td>xp80</td><td>0.4917</td></tr><tr><td>R</td><td>xp81</td><td>0.4907</td></tr><tr><td>xp73</td><td>xp80</td><td>0.4906</td></tr><tr><td>xp78</td><td>xp98</td><td>0.4905</td></tr><tr><td>R</td><td>xp90</td><td>0.4903</td></tr><tr><td>R</td><td>xp85</td><td>0.4901</td></tr><tr><td>xp75</td><td>xp79</td><td>0.4900</td></tr><tr><td>xp74</td><td>xp98</td><td>0.4899</td></tr><tr><td>xp73</td><td>xp79</td><td>0.4890</td></tr><tr><td>R</td><td>xp101</td><td>0.4889</td></tr><tr><td>xp75</td><td>xp78</td><td>0.4878</td></tr><tr><td>xp74</td><td>xp75</td><td>0.4876</td></tr><tr><td>R</td><td>xp89</td><td>0.4874</td></tr><tr><td>xp73</td><td>xp78</td><td>0.4867</td></tr><tr><td>xp72</td><td>xp76</td><td>0.4866</td></tr><tr><td>xp73</td><td>xp74</td><td>0.4865</td></tr><tr><td>xp76</td><td>xp80</td><td>0.4854</td></tr><tr><td>xp72</td><td>xp80</td><td>0.4849</td></tr><tr><td>xp76</td><td>xp79</td><td>0.4836</td></tr><tr><td>xp72</td><td>xp79</td><td>0.4834</td></tr><tr><td>R</td><td>xp83</td><td>0.4834</td></tr><tr><td>xp79</td><td>xp80</td><td>0.4821</td></tr><tr><td>xp76</td><td>xp78</td><td>0.4815</td></tr><tr><td>xp74</td><td>xp76</td><td>0.4813</td></tr><tr><td>xp72</td><td>xp78</td><td>0.4812</td></tr><tr><td>xp72</td><td>xp74</td><td>0.4810</td></tr><tr><td>R</td><td>xp84</td><td>0.4802</td></tr><tr><td>R</td><td>xp94</td><td>0.4801</td></tr><tr><td>xp78</td><td>xp80</td><td>0.4801</td></tr><tr><td>xp74</td><td>xp80</td><td>0.4798</td></tr><tr><td>R</td><td>xp87</td><td>0.4786</td></tr><tr><td>xp78</td><td>xp79</td><td>0.4783</td></tr><tr><td>xp74</td><td>xp79</td><td>0.4781</td></tr><tr><td>R</td><td>xp82</td><td>0.4764</td></tr><tr><td>R</td><td>xp95</td><td>0.4761</td></tr><tr><td>xp74</td><td>xp78</td><td>0.4759</td></tr><tr><td>R</td><td>xp100</td><td>0.4752</td></tr><tr><td>R</td><td>xp92</td><td>0.4735</td></tr><tr><td>R</td><td>xp77</td><td>0.4720</td></tr><tr><td>R</td><td>xp75</td><td>0.4666</td></tr><tr><td>R</td><td>xp93</td><td>0.4657</td></tr><tr><td>R</td><td>xp91</td><td>0.4631</td></tr><tr><td>R</td><td>xp72</td><td>0.4607</td></tr><tr><td>R</td><td>xp73</td><td>0.4606</td></tr><tr><td>R</td><td>xp76</td><td>0.4586</td></tr><tr><td>R</td><td>xp80</td><td>0.4551</td></tr><tr><td>R</td><td>xp79</td><td>0.4526</td></tr><tr><td>R</td><td>xp78</td><td>0.4526</td></tr><tr><td>R</td><td>xp74</td><td>0.4519</td></tr><tr><td>R</td><td>xp98</td><td>0.4447</td></tr><tr><td>beta</td><td>xp96</td><td>0.4105</td></tr><tr><td>beta</td><td>xp86</td><td>0.4095</td></tr><tr><td>beta</td><td>xp97</td><td>0.4077</td></tr><tr><td>beta</td><td>xp88</td><td>0.4040</td></tr><tr><td>beta</td><td>xp81</td><td>0.4034</td></tr><tr><td>beta</td><td>xp85</td><td>0.4029</td></tr><tr><td>beta</td><td>xp90</td><td>0.4026</td></tr><tr><td>beta</td><td>xp99</td><td>0.4016</td></tr><tr><td>beta</td><td>xp101</td><td>0.4007</td></tr><tr><td>beta</td><td>sigma</td><td>0.4000</td></tr><tr><td>beta</td><td>xp89</td><td>0.3999</td></tr><tr><td>beta</td><td>xp83</td><td>0.3969</td></tr><tr><td>beta</td><td>xp94</td><td>0.3950</td></tr><tr><td>beta</td><td>xp82</td><td>0.3945</td></tr><tr><td>beta</td><td>xp84</td><td>0.3943</td></tr><tr><td>beta</td><td>xp87</td><td>0.3932</td></tr><tr><td>beta</td><td>xp77</td><td>0.3916</td></tr><tr><td>beta</td><td>xp100</td><td>0.3903</td></tr><tr><td>beta</td><td>xp95</td><td>0.3896</td></tr><tr><td>beta</td><td>xp92</td><td>0.3886</td></tr><tr><td>beta</td><td>xp75</td><td>0.3870</td></tr><tr><td>beta</td><td>xp93</td><td>0.3834</td></tr><tr><td>beta</td><td>xp91</td><td>0.3820</td></tr><tr><td>beta</td><td>xp72</td><td>0.3804</td></tr><tr><td>beta</td><td>xp73</td><td>0.3792</td></tr><tr><td>beta</td><td>xp76</td><td>0.3776</td></tr><tr><td>beta</td><td>xp80</td><td>0.3754</td></tr><tr><td>beta</td><td>xp78</td><td>0.3749</td></tr><tr><td>beta</td><td>xp74</td><td>0.3734</td></tr><tr><td>beta</td><td>xp79</td><td>0.3712</td></tr><tr><td>beta</td><td>xp98</td><td>0.3631</td></tr><tr><td>A81</td><td>xp81</td><td>0.2337</td></tr><tr><td>A75</td><td>xp75</td><td>0.2330</td></tr><tr><td>A73</td><td>xp73</td><td>0.2251</td></tr><tr><td>A83</td><td>xp83</td><td>0.2172</td></tr><tr><td>A85</td><td>xp85</td><td>0.2163</td></tr><tr><td>A74</td><td>xp74</td><td>0.2157</td></tr><tr><td>A84</td><td>xp84</td><td>0.2125</td></tr><tr><td>A82</td><td>xp82</td><td>0.2123</td></tr><tr><td>A91</td><td>xp91</td><td>0.2039</td></tr><tr><td>A86</td><td>xp86</td><td>0.2019</td></tr><tr><td>A72</td><td>xp72</td><td>0.1963</td></tr><tr><td>A88</td><td>xp88</td><td>0.1953</td></tr><tr><td>A76</td><td>xp76</td><td>0.1930</td></tr><tr><td>A77</td><td>xp77</td><td>0.1877</td></tr><tr><td>A89</td><td>xp89</td><td>0.1852</td></tr><tr><td>A92</td><td>xp92</td><td>0.1848</td></tr><tr><td>A100</td><td>xp100</td><td>0.1812</td></tr><tr><td>A87</td><td>xp87</td><td>0.1759</td></tr><tr><td>A78</td><td>xp78</td><td>0.1747</td></tr><tr><td>A94</td><td>xp94</td><td>0.1712</td></tr><tr><td>A79</td><td>xp79</td><td>0.1659</td></tr><tr><td>A96</td><td>xp96</td><td>0.1633</td></tr><tr><td>gamma</td><td>A100</td><td>-0.1541</td></tr><tr><td>A90</td><td>xp90</td><td>0.1536</td></tr><tr><td>A80</td><td>xp80</td><td>0.1514</td></tr><tr><td>A101</td><td>xp101</td><td>0.1499</td></tr><tr><td>A97</td><td>xp97</td><td>0.1497</td></tr><tr><td>A95</td><td>xp95</td><td>0.1413</td></tr><tr><td>gamma</td><td>A91</td><td>-0.1373</td></tr><tr><td>gamma</td><td>A75</td><td>-0.1356</td></tr><tr><td>A93</td><td>xp93</td><td>0.1288</td></tr><tr><td>A99</td><td>xp99</td><td>0.1200</td></tr><tr><td>A98</td><td>xp98</td><td>0.1120</td></tr><tr><td>gamma</td><td>A96</td><td>-0.1100</td></tr><tr><td>gamma</td><td>A81</td><td>-0.1075</td></tr><tr><td>gamma</td><td>A87</td><td>-0.1065</td></tr><tr><td>gamma</td><td>A95</td><td>-0.1009</td></tr></table>"
      ],
      "text/plain": [
       "<lmfit.minimizer.MinimizerResult at 0x2165f7f6688>"
      ]
     },
     "execution_count": 288,
     "metadata": {},
     "output_type": "execute_result"
    }
   ],
   "source": [
    "# report_fit(result)\n",
    "xwFit10b[0].result"
   ]
  },
  {
   "cell_type": "markdown",
   "metadata": {
    "Collapsed": "false"
   },
   "source": [
    "#### Plot fit result"
   ]
  },
  {
   "cell_type": "code",
   "execution_count": 294,
   "metadata": {
    "Collapsed": "false",
    "scrolled": true
   },
   "outputs": [],
   "source": [
    "# bestparams = bestFitParams(spec_rng, pvic_params, xfit10[0]['result'].params)\n",
    "# plotMultipleFit(spec_rng[::2], Xfitdata, Yfitdata, xfit10[0]['result'].params, bestparams, nData['H (T)'])\n",
    "# xFit10[0].bestFitParams()\n",
    "xFit10[0].plot_range = xFit10[0].data_range[::5]\n",
    "xwFit10[0].plot_range = xFit10[0].plot_range\n",
    "xwFit10b[0].plot_range = xwFit10b[0].data_range[::10]\n",
    "xFit10[0].plotMultipleFits(title=\"No weights\")\n",
    "xwFit10[0].plotMultipleFits(title=\"With weights\")\n",
    "xwFit10b[0].plotMultipleFits(title=\"With weights\")"
   ]
  },
  {
   "cell_type": "markdown",
   "metadata": {
    "Collapsed": "false"
   },
   "source": [
    "#### Iteratively fix parameters shared between all datasets and recompute fit accordingly\n",
    "The huge variability on R and beta seen when leaving those free implies that they play little role on the fit, so let's fix them both to zero.\n",
    "Actually, beta=0 generates NaN data (not sure why) so let's fix it to 1e-10\n",
    "For all other parameters, fix them to the best value obtained from the previous fit"
   ]
  },
  {
   "cell_type": "code",
   "execution_count": 142,
   "metadata": {
    "Collapsed": "false"
   },
   "outputs": [],
   "source": [
    "nSpec = 30\n",
    "\n",
    "# Create list of dictionaries containing the names of parameters to fix at each iteration\n",
    "fixParams = [{'beta':1e-10, 'R':0},{'alpha':None},{'gamma':None},{'sigma':None}]\n",
    "\n",
    "# Loop over fixParams to iteratively fix shared parameters and refit the data\n",
    "for idx, prmDict in enumerate(fixParams):\n",
    "    # Create fit range\n",
    "    xFit10[idx+1].data_range = range(len(nData)-nSpec, len(nData))\n",
    "\n",
    "    # create x and y 1D datasets for fit\n",
    "    xFit10[idx+1].xyData(data_select)\n",
    "\n",
    "    # create and initialize lmfit Parameters object using results of previous fit\n",
    "    xFit10[idx+1].initParams(resultParams=xFit10[idx].result.params)\n",
    "#     # Initialize parameters using results of previous fit\n",
    "#     xfit10[idx+1]['init_params'] = xFitInitParams2(pvic_params, data_range=spec_rng, \n",
    "#                                                    resultParams=xfit10[idx]['result'].params)\n",
    "    for key, value in prmDict.items():\n",
    "        xFit10[idx+1].init_params[key].vary = False\n",
    "        if value is not None:\n",
    "            xFit10[idx+1].init_params[key].value = value\n",
    "\n",
    "    # Compute the number of free shared parameters \n",
    "    xFit10[idx+1].freeSharedPrms = xFit10[idx].freeSharedPrms - len(prmDict)\n",
    "\n",
    "    # Perform fit\n",
    "    xFit10[idx+1].performFit()\n"
   ]
  },
  {
   "cell_type": "markdown",
   "metadata": {
    "Collapsed": "true"
   },
   "source": [
    "#### Fit result"
   ]
  },
  {
   "cell_type": "code",
   "execution_count": null,
   "metadata": {
    "Collapsed": "false"
   },
   "outputs": [],
   "source": [
    "xfit10df = pd.DataFrame(xfit10)"
   ]
  },
  {
   "cell_type": "code",
   "execution_count": 48,
   "metadata": {
    "Collapsed": "false"
   },
   "outputs": [
    {
     "data": {
      "text/html": [
       "<table><tr><th> name </th><th> value </th><th> standard error </th><th> relative error </th><th> initial value </th><th> min </th><th> max </th><th> vary </th></tr><tr><td> A92 </td><td>  242418.216 </td><td>  1465.47526 </td><td> (0.60%) </td><td> 236583.70099542933 </td><td>  0.00000000 </td><td>         inf </td><td> True </td></tr><tr><td> alpha </td><td>  105.078117 </td><td>  0.35956656 </td><td> (0.34%) </td><td> 103.91742954538091 </td><td>  0.00000000 </td><td>         inf </td><td> True </td></tr><tr><td> beta </td><td>  1.0000e-10 </td><td>  0.00000000 </td><td> (0.00%) </td><td> 1e-10 </td><td>  0.00000000 </td><td>         inf </td><td> False </td></tr><tr><td> R </td><td>  0.00000000 </td><td>  0.00000000 </td><td>  </td><td> 0 </td><td>  0.00000000 </td><td>         inf </td><td> False </td></tr><tr><td> gamma </td><td>  0.00206407 </td><td>  8.6657e-05 </td><td> (4.20%) </td><td> 0.0014066088203097404 </td><td>  0.00000000 </td><td>         inf </td><td> True </td></tr><tr><td> sigma </td><td>  0.00391075 </td><td>  1.3559e-04 </td><td> (3.47%) </td><td> 0.003501096463644382 </td><td>  0.00000000 </td><td>         inf </td><td> True </td></tr><tr><td> k </td><td>  0.05000000 </td><td>  0.00000000 </td><td> (0.00%) </td><td> 0.05 </td><td>  0.00000000 </td><td>         inf </td><td> False </td></tr><tr><td> xp92 </td><td> -10.0218312 </td><td>  1.3449e-04 </td><td> (0.00%) </td><td> -10.02201161817513 </td><td>        -inf </td><td>         inf </td><td> True </td></tr><tr><td> A93 </td><td>  237594.003 </td><td>  1463.01096 </td><td> (0.62%) </td><td> 231794.7602922913 </td><td>  0.00000000 </td><td>         inf </td><td> True </td></tr><tr><td> xp93 </td><td> -10.0219301 </td><td>  1.3667e-04 </td><td> (0.00%) </td><td> -10.022122878360527 </td><td>        -inf </td><td>         inf </td><td> True </td></tr><tr><td> A94 </td><td>  238562.794 </td><td>  1463.49283 </td><td> (0.61%) </td><td> 232813.5829993222 </td><td>  0.00000000 </td><td>         inf </td><td> True </td></tr><tr><td> xp94 </td><td> -10.0218680 </td><td>  1.3623e-04 </td><td> (0.00%) </td><td> -10.022064127298707 </td><td>        -inf </td><td>         inf </td><td> True </td></tr><tr><td> A95 </td><td>  238904.800 </td><td>  1463.69296 </td><td> (0.61%) </td><td> 233132.7802905235 </td><td>  0.00000000 </td><td>         inf </td><td> True </td></tr><tr><td> xp95 </td><td> -10.0221770 </td><td>  1.3605e-04 </td><td> (0.00%) </td><td> -10.022375102886404 </td><td>        -inf </td><td>         inf </td><td> True </td></tr><tr><td> A96 </td><td>  238036.144 </td><td>  1463.22954 </td><td> (0.61%) </td><td> 232256.666471201 </td><td>  0.00000000 </td><td>         inf </td><td> True </td></tr><tr><td> xp96 </td><td> -10.0219167 </td><td>  1.3647e-04 </td><td> (0.00%) </td><td> -10.022112252306586 </td><td>        -inf </td><td>         inf </td><td> True </td></tr><tr><td> A97 </td><td>  233870.931 </td><td>  1461.13863 </td><td> (0.62%) </td><td> 228239.70703851338 </td><td>  0.00000000 </td><td>         inf </td><td> True </td></tr><tr><td> xp97 </td><td> -10.0220037 </td><td>  1.3843e-04 </td><td> (0.00%) </td><td> -10.022195234699314 </td><td>        -inf </td><td>         inf </td><td> True </td></tr><tr><td> A98 </td><td>  237992.951 </td><td>  1463.22313 </td><td> (0.61%) </td><td> 232305.3709994183 </td><td>  0.00000000 </td><td>         inf </td><td> True </td></tr><tr><td> xp98 </td><td> -10.0220958 </td><td>  1.3648e-04 </td><td> (0.00%) </td><td> -10.022281552938304 </td><td>        -inf </td><td>         inf </td><td> True </td></tr><tr><td> A99 </td><td>  236833.930 </td><td>  1462.65442 </td><td> (0.62%) </td><td> 231193.38035901493 </td><td>  0.00000000 </td><td>         inf </td><td> True </td></tr><tr><td> xp99 </td><td> -10.0223486 </td><td>  1.3700e-04 </td><td> (0.00%) </td><td> -10.022545413239024 </td><td>        -inf </td><td>         inf </td><td> True </td></tr><tr><td> A100 </td><td>  235598.752 </td><td>  1462.00145 </td><td> (0.62%) </td><td> 229949.35542020918 </td><td>  0.00000000 </td><td>         inf </td><td> True </td></tr><tr><td> xp100 </td><td> -10.0219499 </td><td>  1.3761e-04 </td><td> (0.00%) </td><td> -10.022140067676212 </td><td>        -inf </td><td>         inf </td><td> True </td></tr><tr><td> A101 </td><td>  233377.428 </td><td>  1460.89071 </td><td> (0.63%) </td><td> 227772.06813913694 </td><td>  0.00000000 </td><td>         inf </td><td> True </td></tr><tr><td> xp101 </td><td> -10.0220281 </td><td>  1.3866e-04 </td><td> (0.00%) </td><td> -10.022211094717699 </td><td>        -inf </td><td>         inf </td><td> True </td></tr><tr><td> A72 </td><td>  254061.556 </td><td>  1471.63251 </td><td> (0.58%) </td><td> 200000.0 </td><td>  0.00000000 </td><td>         inf </td><td> True </td></tr><tr><td> xp72 </td><td> -10.0218800 </td><td>  1.2958e-04 </td><td> (0.00%) </td><td> -10.0 </td><td>        -inf </td><td>         inf </td><td> True </td></tr><tr><td> A73 </td><td>  257951.506 </td><td>  1473.72704 </td><td> (0.57%) </td><td> 200000.0 </td><td>  0.00000000 </td><td>         inf </td><td> True </td></tr><tr><td> xp73 </td><td> -10.0215058 </td><td>  1.2807e-04 </td><td> (0.00%) </td><td> -10.0 </td><td>        -inf </td><td>         inf </td><td> True </td></tr><tr><td> A74 </td><td>  258341.367 </td><td>  1473.94369 </td><td> (0.57%) </td><td> 200000.0 </td><td>  0.00000000 </td><td>         inf </td><td> True </td></tr><tr><td> xp74 </td><td> -10.0216156 </td><td>  1.2791e-04 </td><td> (0.00%) </td><td> -10.0 </td><td>        -inf </td><td>         inf </td><td> True </td></tr><tr><td> A75 </td><td>  255351.162 </td><td>  1472.34010 </td><td> (0.58%) </td><td> 200000.0 </td><td>  0.00000000 </td><td>         inf </td><td> True </td></tr><tr><td> xp75 </td><td> -10.0219400 </td><td>  1.2906e-04 </td><td> (0.00%) </td><td> -10.0 </td><td>        -inf </td><td>         inf </td><td> True </td></tr><tr><td> A76 </td><td>  252863.498 </td><td>  1471.00946 </td><td> (0.58%) </td><td> 200000.0 </td><td>  0.00000000 </td><td>         inf </td><td> True </td></tr><tr><td> xp76 </td><td> -10.0221369 </td><td>  1.3005e-04 </td><td> (0.00%) </td><td> -10.0 </td><td>        -inf </td><td>         inf </td><td> True </td></tr><tr><td> A77 </td><td>  252483.544 </td><td>  1470.76675 </td><td> (0.58%) </td><td> 200000.0 </td><td>  0.00000000 </td><td>         inf </td><td> True </td></tr><tr><td> xp77 </td><td> -10.0216042 </td><td>  1.3023e-04 </td><td> (0.00%) </td><td> -10.0 </td><td>        -inf </td><td>         inf </td><td> True </td></tr><tr><td> A78 </td><td>  251037.626 </td><td>  1470.00988 </td><td> (0.59%) </td><td> 200000.0 </td><td>  0.00000000 </td><td>         inf </td><td> True </td></tr><tr><td> xp78 </td><td> -10.0218508 </td><td>  1.3081e-04 </td><td> (0.00%) </td><td> -10.0 </td><td>        -inf </td><td>         inf </td><td> True </td></tr><tr><td> A79 </td><td>  250391.727 </td><td>  1469.65778 </td><td> (0.59%) </td><td> 200000.0 </td><td>  0.00000000 </td><td>         inf </td><td> True </td></tr><tr><td> xp79 </td><td> -10.0218225 </td><td>  1.3108e-04 </td><td> (0.00%) </td><td> -10.0 </td><td>        -inf </td><td>         inf </td><td> True </td></tr><tr><td> A80 </td><td>  253203.199 </td><td>  1471.20080 </td><td> (0.58%) </td><td> 200000.0 </td><td>  0.00000000 </td><td>         inf </td><td> True </td></tr><tr><td> xp80 </td><td> -10.0222858 </td><td>  1.2990e-04 </td><td> (0.00%) </td><td> -10.0 </td><td>        -inf </td><td>         inf </td><td> True </td></tr><tr><td> A81 </td><td>  251643.850 </td><td>  1470.36567 </td><td> (0.58%) </td><td> 200000.0 </td><td>  0.00000000 </td><td>         inf </td><td> True </td></tr><tr><td> xp81 </td><td> -10.0222678 </td><td>  1.3054e-04 </td><td> (0.00%) </td><td> -10.0 </td><td>        -inf </td><td>         inf </td><td> True </td></tr><tr><td> A82 </td><td>  251277.487 </td><td>  1470.13332 </td><td> (0.59%) </td><td> 200000.0 </td><td>  0.00000000 </td><td>         inf </td><td> True </td></tr><tr><td> xp82 </td><td> -10.0218471 </td><td>  1.3071e-04 </td><td> (0.00%) </td><td> -10.0 </td><td>        -inf </td><td>         inf </td><td> True </td></tr><tr><td> A83 </td><td>  254096.862 </td><td>  1471.66730 </td><td> (0.58%) </td><td> 200000.0 </td><td>  0.00000000 </td><td>         inf </td><td> True </td></tr><tr><td> xp83 </td><td> -10.0220031 </td><td>  1.2956e-04 </td><td> (0.00%) </td><td> -10.0 </td><td>        -inf </td><td>         inf </td><td> True </td></tr><tr><td> A84 </td><td>  248474.676 </td><td>  1468.66935 </td><td> (0.59%) </td><td> 200000.0 </td><td>  0.00000000 </td><td>         inf </td><td> True </td></tr><tr><td> xp84 </td><td> -10.0221713 </td><td>  1.3186e-04 </td><td> (0.00%) </td><td> -10.0 </td><td>        -inf </td><td>         inf </td><td> True </td></tr><tr><td> A85 </td><td>  249750.566 </td><td>  1469.33090 </td><td> (0.59%) </td><td> 200000.0 </td><td>  0.00000000 </td><td>         inf </td><td> True </td></tr><tr><td> xp85 </td><td> -10.0219436 </td><td>  1.3133e-04 </td><td> (0.00%) </td><td> -10.0 </td><td>        -inf </td><td>         inf </td><td> True </td></tr><tr><td> A86 </td><td>  249821.289 </td><td>  1469.36783 </td><td> (0.59%) </td><td> 200000.0 </td><td>  0.00000000 </td><td>         inf </td><td> True </td></tr><tr><td> xp86 </td><td> -10.0219636 </td><td>  1.3130e-04 </td><td> (0.00%) </td><td> -10.0 </td><td>        -inf </td><td>         inf </td><td> True </td></tr><tr><td> A87 </td><td>  246690.136 </td><td>  1467.70600 </td><td> (0.59%) </td><td> 200000.0 </td><td>  0.00000000 </td><td>         inf </td><td> True </td></tr><tr><td> xp87 </td><td> -10.0219662 </td><td>  1.3262e-04 </td><td> (0.00%) </td><td> -10.0 </td><td>        -inf </td><td>         inf </td><td> True </td></tr><tr><td> A88 </td><td>  248644.149 </td><td>  1468.74037 </td><td> (0.59%) </td><td> 200000.0 </td><td>  0.00000000 </td><td>         inf </td><td> True </td></tr><tr><td> xp88 </td><td> -10.0219800 </td><td>  1.3180e-04 </td><td> (0.00%) </td><td> -10.0 </td><td>        -inf </td><td>         inf </td><td> True </td></tr><tr><td> A89 </td><td>  243374.239 </td><td>  1465.96876 </td><td> (0.60%) </td><td> 200000.0 </td><td>  0.00000000 </td><td>         inf </td><td> True </td></tr><tr><td> xp89 </td><td> -10.0218486 </td><td>  1.3407e-04 </td><td> (0.00%) </td><td> -10.0 </td><td>        -inf </td><td>         inf </td><td> True </td></tr><tr><td> A90 </td><td>  250998.802 </td><td>  1469.98668 </td><td> (0.59%) </td><td> 200000.0 </td><td>  0.00000000 </td><td>         inf </td><td> True </td></tr><tr><td> xp90 </td><td> -10.0218222 </td><td>  1.3083e-04 </td><td> (0.00%) </td><td> -10.0 </td><td>        -inf </td><td>         inf </td><td> True </td></tr><tr><td> A91 </td><td>  245761.548 </td><td>  1467.20837 </td><td> (0.60%) </td><td> 200000.0 </td><td>  0.00000000 </td><td>         inf </td><td> True </td></tr><tr><td> xp91 </td><td> -10.0217776 </td><td>  1.3303e-04 </td><td> (0.00%) </td><td> -10.0 </td><td>        -inf </td><td>         inf </td><td> True </td></tr></table>"
      ],
      "text/plain": [
       "Parameters([('A92',\n",
       "             <Parameter 'A92', value=242418.21551121838 +/- 1.47e+03, bounds=[0:inf]>),\n",
       "            ('alpha',\n",
       "             <Parameter 'alpha', value=105.078116955829 +/- 0.36, bounds=[0:inf]>),\n",
       "            ('beta', <Parameter 'beta', value=1e-10 (fixed), bounds=[0:inf]>),\n",
       "            ('R', <Parameter 'R', value=0 (fixed), bounds=[0:inf]>),\n",
       "            ('gamma',\n",
       "             <Parameter 'gamma', value=0.0020640691472546546 +/- 8.67e-05, bounds=[0:inf]>),\n",
       "            ('sigma',\n",
       "             <Parameter 'sigma', value=0.00391074943239933 +/- 0.000136, bounds=[0:inf]>),\n",
       "            ('k', <Parameter 'k', value=0.05 (fixed), bounds=[0:inf]>),\n",
       "            ('xp92',\n",
       "             <Parameter 'xp92', value=-10.021831153395949 +/- 0.000134, bounds=[-inf:inf]>),\n",
       "            ('A93',\n",
       "             <Parameter 'A93', value=237594.002736748 +/- 1.46e+03, bounds=[0:inf]>),\n",
       "            ('xp93',\n",
       "             <Parameter 'xp93', value=-10.02193007387077 +/- 0.000137, bounds=[-inf:inf]>),\n",
       "            ('A94',\n",
       "             <Parameter 'A94', value=238562.79411751288 +/- 1.46e+03, bounds=[0:inf]>),\n",
       "            ('xp94',\n",
       "             <Parameter 'xp94', value=-10.021868044244652 +/- 0.000136, bounds=[-inf:inf]>),\n",
       "            ('A95',\n",
       "             <Parameter 'A95', value=238904.80043756895 +/- 1.46e+03, bounds=[0:inf]>),\n",
       "            ('xp95',\n",
       "             <Parameter 'xp95', value=-10.022176994625141 +/- 0.000136, bounds=[-inf:inf]>),\n",
       "            ('A96',\n",
       "             <Parameter 'A96', value=238036.14434573677 +/- 1.46e+03, bounds=[0:inf]>),\n",
       "            ('xp96',\n",
       "             <Parameter 'xp96', value=-10.02191669259839 +/- 0.000136, bounds=[-inf:inf]>),\n",
       "            ('A97',\n",
       "             <Parameter 'A97', value=233870.93087628888 +/- 1.46e+03, bounds=[0:inf]>),\n",
       "            ('xp97',\n",
       "             <Parameter 'xp97', value=-10.022003711949186 +/- 0.000138, bounds=[-inf:inf]>),\n",
       "            ('A98',\n",
       "             <Parameter 'A98', value=237992.95131851095 +/- 1.46e+03, bounds=[0:inf]>),\n",
       "            ('xp98',\n",
       "             <Parameter 'xp98', value=-10.02209582778271 +/- 0.000136, bounds=[-inf:inf]>),\n",
       "            ('A99',\n",
       "             <Parameter 'A99', value=236833.9298642528 +/- 1.46e+03, bounds=[0:inf]>),\n",
       "            ('xp99',\n",
       "             <Parameter 'xp99', value=-10.02234864718937 +/- 0.000137, bounds=[-inf:inf]>),\n",
       "            ('A100',\n",
       "             <Parameter 'A100', value=235598.7521749446 +/- 1.46e+03, bounds=[0:inf]>),\n",
       "            ('xp100',\n",
       "             <Parameter 'xp100', value=-10.0219499378899 +/- 0.000138, bounds=[-inf:inf]>),\n",
       "            ('A101',\n",
       "             <Parameter 'A101', value=233377.4283416025 +/- 1.46e+03, bounds=[0:inf]>),\n",
       "            ('xp101',\n",
       "             <Parameter 'xp101', value=-10.022028067244463 +/- 0.000139, bounds=[-inf:inf]>),\n",
       "            ('A72',\n",
       "             <Parameter 'A72', value=254061.5562815236 +/- 1.47e+03, bounds=[0:inf]>),\n",
       "            ('xp72',\n",
       "             <Parameter 'xp72', value=-10.02188000646862 +/- 0.00013, bounds=[-inf:inf]>),\n",
       "            ('A73',\n",
       "             <Parameter 'A73', value=257951.50597604475 +/- 1.47e+03, bounds=[0:inf]>),\n",
       "            ('xp73',\n",
       "             <Parameter 'xp73', value=-10.0215057502167 +/- 0.000128, bounds=[-inf:inf]>),\n",
       "            ('A74',\n",
       "             <Parameter 'A74', value=258341.3670454799 +/- 1.47e+03, bounds=[0:inf]>),\n",
       "            ('xp74',\n",
       "             <Parameter 'xp74', value=-10.021615620086182 +/- 0.000128, bounds=[-inf:inf]>),\n",
       "            ('A75',\n",
       "             <Parameter 'A75', value=255351.1620185266 +/- 1.47e+03, bounds=[0:inf]>),\n",
       "            ('xp75',\n",
       "             <Parameter 'xp75', value=-10.021939995237958 +/- 0.000129, bounds=[-inf:inf]>),\n",
       "            ('A76',\n",
       "             <Parameter 'A76', value=252863.4981344554 +/- 1.47e+03, bounds=[0:inf]>),\n",
       "            ('xp76',\n",
       "             <Parameter 'xp76', value=-10.022136929421123 +/- 0.00013, bounds=[-inf:inf]>),\n",
       "            ('A77',\n",
       "             <Parameter 'A77', value=252483.54404223044 +/- 1.47e+03, bounds=[0:inf]>),\n",
       "            ('xp77',\n",
       "             <Parameter 'xp77', value=-10.021604218474856 +/- 0.00013, bounds=[-inf:inf]>),\n",
       "            ('A78',\n",
       "             <Parameter 'A78', value=251037.625660224 +/- 1.47e+03, bounds=[0:inf]>),\n",
       "            ('xp78',\n",
       "             <Parameter 'xp78', value=-10.021850792910962 +/- 0.000131, bounds=[-inf:inf]>),\n",
       "            ('A79',\n",
       "             <Parameter 'A79', value=250391.72681149616 +/- 1.47e+03, bounds=[0:inf]>),\n",
       "            ('xp79',\n",
       "             <Parameter 'xp79', value=-10.021822514929358 +/- 0.000131, bounds=[-inf:inf]>),\n",
       "            ('A80',\n",
       "             <Parameter 'A80', value=253203.19933372774 +/- 1.47e+03, bounds=[0:inf]>),\n",
       "            ('xp80',\n",
       "             <Parameter 'xp80', value=-10.022285799750481 +/- 0.00013, bounds=[-inf:inf]>),\n",
       "            ('A81',\n",
       "             <Parameter 'A81', value=251643.84986461478 +/- 1.47e+03, bounds=[0:inf]>),\n",
       "            ('xp81',\n",
       "             <Parameter 'xp81', value=-10.022267780295344 +/- 0.000131, bounds=[-inf:inf]>),\n",
       "            ('A82',\n",
       "             <Parameter 'A82', value=251277.4865858696 +/- 1.47e+03, bounds=[0:inf]>),\n",
       "            ('xp82',\n",
       "             <Parameter 'xp82', value=-10.021847121234195 +/- 0.000131, bounds=[-inf:inf]>),\n",
       "            ('A83',\n",
       "             <Parameter 'A83', value=254096.86194435632 +/- 1.47e+03, bounds=[0:inf]>),\n",
       "            ('xp83',\n",
       "             <Parameter 'xp83', value=-10.022003064711532 +/- 0.00013, bounds=[-inf:inf]>),\n",
       "            ('A84',\n",
       "             <Parameter 'A84', value=248474.676338283 +/- 1.47e+03, bounds=[0:inf]>),\n",
       "            ('xp84',\n",
       "             <Parameter 'xp84', value=-10.022171311959605 +/- 0.000132, bounds=[-inf:inf]>),\n",
       "            ('A85',\n",
       "             <Parameter 'A85', value=249750.5657935235 +/- 1.47e+03, bounds=[0:inf]>),\n",
       "            ('xp85',\n",
       "             <Parameter 'xp85', value=-10.021943642812255 +/- 0.000131, bounds=[-inf:inf]>),\n",
       "            ('A86',\n",
       "             <Parameter 'A86', value=249821.28865600307 +/- 1.47e+03, bounds=[0:inf]>),\n",
       "            ('xp86',\n",
       "             <Parameter 'xp86', value=-10.021963573033517 +/- 0.000131, bounds=[-inf:inf]>),\n",
       "            ('A87',\n",
       "             <Parameter 'A87', value=246690.13636237025 +/- 1.47e+03, bounds=[0:inf]>),\n",
       "            ('xp87',\n",
       "             <Parameter 'xp87', value=-10.021966203672587 +/- 0.000133, bounds=[-inf:inf]>),\n",
       "            ('A88',\n",
       "             <Parameter 'A88', value=248644.1494179783 +/- 1.47e+03, bounds=[0:inf]>),\n",
       "            ('xp88',\n",
       "             <Parameter 'xp88', value=-10.021979990802862 +/- 0.000132, bounds=[-inf:inf]>),\n",
       "            ('A89',\n",
       "             <Parameter 'A89', value=243374.2385531587 +/- 1.47e+03, bounds=[0:inf]>),\n",
       "            ('xp89',\n",
       "             <Parameter 'xp89', value=-10.021848641943757 +/- 0.000134, bounds=[-inf:inf]>),\n",
       "            ('A90',\n",
       "             <Parameter 'A90', value=250998.80157203635 +/- 1.47e+03, bounds=[0:inf]>),\n",
       "            ('xp90',\n",
       "             <Parameter 'xp90', value=-10.021822182369677 +/- 0.000131, bounds=[-inf:inf]>),\n",
       "            ('A91',\n",
       "             <Parameter 'A91', value=245761.54842095124 +/- 1.47e+03, bounds=[0:inf]>),\n",
       "            ('xp91',\n",
       "             <Parameter 'xp91', value=-10.021777602589724 +/- 0.000133, bounds=[-inf:inf]>)])"
      ]
     },
     "execution_count": 48,
     "metadata": {},
     "output_type": "execute_result"
    }
   ],
   "source": [
    "# result = fit10df['result'].loc[fit10df['freeSharedPrms']==3]\n",
    "xfit10df['result'].at[1].params"
   ]
  },
  {
   "cell_type": "markdown",
   "metadata": {
    "Collapsed": "false"
   },
   "source": [
    "#### Plot fit result"
   ]
  },
  {
   "cell_type": "code",
   "execution_count": 56,
   "metadata": {
    "Collapsed": "false",
    "scrolled": true
   },
   "outputs": [],
   "source": [
    "plt_idx = 1\n",
    "bestparams = bestFitParams(spec_rng, pvic_params, xfit10[plt_idx]['result'].params)\n",
    "plotMultipleFit(spec_rng[::(len(spec_rng)//10)], Xfitdata, Yfitdata, xfit10[plt_idx]['result'].params, \n",
    "                bestparams, nData['H (T)'])"
   ]
  },
  {
   "cell_type": "markdown",
   "metadata": {
    "Collapsed": "true"
   },
   "source": [
    "### Batch fitting of single (8 8 0) peak spectra with single pVIC function\n",
    "above Hc\n",
    "\n",
    "This will help fix the value of the parameters shared by all spectra, i.e. alpha, beta, R, gamma and sigma"
   ]
  }
 ],
 "metadata": {
  "kernelspec": {
   "display_name": "Python 3 (Spyder)",
   "language": "python3",
   "name": "python3"
  },
  "language_info": {
   "codemirror_mode": {
    "name": "ipython",
    "version": 3
   },
   "file_extension": ".py",
   "mimetype": "text/x-python",
   "name": "python",
   "nbconvert_exporter": "python",
   "pygments_lexer": "ipython3",
   "version": "3.7.7"
  },
  "varInspector": {
   "cols": {
    "lenName": 16,
    "lenType": 16,
    "lenVar": 40
   },
   "kernels_config": {
    "python": {
     "delete_cmd_postfix": "",
     "delete_cmd_prefix": "del ",
     "library": "var_list.py",
     "varRefreshCmd": "print(var_dic_list())"
    },
    "r": {
     "delete_cmd_postfix": ") ",
     "delete_cmd_prefix": "rm(",
     "library": "var_list.r",
     "varRefreshCmd": "cat(var_dic_list()) "
    }
   },
   "types_to_exclude": [
    "module",
    "function",
    "builtin_function_or_method",
    "instance",
    "_Feature"
   ],
   "window_display": false
  }
 },
 "nbformat": 4,
 "nbformat_minor": 4
}
