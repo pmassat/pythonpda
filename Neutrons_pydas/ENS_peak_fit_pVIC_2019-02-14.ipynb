{
 "cells": [
  {
   "cell_type": "markdown",
   "metadata": {},
   "source": [
    "# TmVO4 neutrons data analysis\n",
    "Fit neutrons diffraction peaks measured on TmVO4 at SNS on 2019-02-14 in order to extract the orthorhombic distortion as a function of magnetic field"
   ]
  },
  {
   "cell_type": "markdown",
   "metadata": {},
   "source": [
    "#### Import necessary modules"
   ]
  },
  {
   "cell_type": "code",
   "execution_count": 86,
   "metadata": {},
   "outputs": [],
   "source": [
    "from mpl_toolkits import mplot3d# for 3D plotting\n",
    "\n",
    "import copy as cp\n",
    "import numpy as np\n",
    "from os import chdir, getcwd, walk\n",
    "from matplotlib import pyplot as plt, rc, rcParams# import matplotlib.pyplot as plt\n",
    "# from matplotlib import rc\n",
    "import pandas as pd\n",
    "import re\n",
    "import pickle\n",
    "from lmfit import Model\n",
    "# import pytest"
   ]
  },
  {
   "cell_type": "markdown",
   "metadata": {},
   "source": [
    "#### Change default plotting parameters\n",
    "see https://matplotlib.org/3.1.0/api/_as_gen/matplotlib.pyplot.figure.html"
   ]
  },
  {
   "cell_type": "code",
   "execution_count": 60,
   "metadata": {},
   "outputs": [],
   "source": [
    "rcParams[\"figure.figsize\"] = np.multiply([6.4, 4.8],0.5)# default is [6.4, 4.8]"
   ]
  },
  {
   "cell_type": "code",
   "execution_count": 2,
   "metadata": {},
   "outputs": [
    {
     "name": "stdout",
     "output_type": "stream",
     "text": [
      "parameter names: ['A', 'alpha', 'beta', 'R', 'gamma', 'sigma', 'k', 'x0']\n",
      "independent variables: ['x']\n"
     ]
    }
   ],
   "source": [
    "from ENS_peak_fit_pVIC_py.pseudoVoigtIkedaCarpenter import pVIC\n",
    "pvic_model = Model(pVIC)\n",
    "print('parameter names: {}'.format(pvic_model.param_names))\n",
    "print('independent variables: {}'.format(pvic_model.independent_vars))"
   ]
  },
  {
   "cell_type": "markdown",
   "metadata": {},
   "source": [
    "### Import data"
   ]
  },
  {
   "cell_type": "code",
   "execution_count": 109,
   "metadata": {},
   "outputs": [],
   "source": [
    "# Initialize list containing data to import\n",
    "nData_raw = [None]*2"
   ]
  },
  {
   "cell_type": "code",
   "execution_count": 110,
   "metadata": {},
   "outputs": [
    {
     "data": {
      "text/plain": [
       "['p6K_1T.txt',\n",
       " 'p6K_1T_new.txt',\n",
       " 'p6K_p05T.txt',\n",
       " 'p6K_p4T.txt',\n",
       " 'p6K_p5T.txt',\n",
       " 'p6K_p6T.txt',\n",
       " 'p6K_p77T.txt',\n",
       " 'p6K_p7T.txt',\n",
       " 'p6K_p83T.txt',\n",
       " 'p6K_p97T.txt',\n",
       " 'p6K_p9T.txt']"
      ]
     },
     "execution_count": 110,
     "metadata": {},
     "output_type": "execute_result"
    }
   ],
   "source": [
    "mypath1 = r'C:\\Users\\Pierre\\Desktop\\Postdoc\\TmVO4\\TmVO4_neutrons\\2019-02_ORNL_Corelli\\2019-02-14'\n",
    "chdir(mypath1)\n",
    "(_, _, filenames) = next(walk(mypath1))# the walk() function lists the content of the directory that it is given as argument,\n",
    "# and of its subdirectories; the next() function returns the next output of the walk() function;\n",
    "# when used only once, it returns only the first output which is the content of the parent directory, \n",
    "# listed as a tuple of the form (dirpath, dirnames, filenames)\n",
    "filenames"
   ]
  },
  {
   "cell_type": "code",
   "execution_count": 111,
   "metadata": {},
   "outputs": [
    {
     "data": {
      "text/html": [
       "<div>\n",
       "<style scoped>\n",
       "    .dataframe tbody tr th:only-of-type {\n",
       "        vertical-align: middle;\n",
       "    }\n",
       "\n",
       "    .dataframe tbody tr th {\n",
       "        vertical-align: top;\n",
       "    }\n",
       "\n",
       "    .dataframe thead th {\n",
       "        text-align: right;\n",
       "    }\n",
       "</style>\n",
       "<table border=\"1\" class=\"dataframe\">\n",
       "  <thead>\n",
       "    <tr style=\"text-align: right;\">\n",
       "      <th></th>\n",
       "      <th>filename</th>\n",
       "      <th>H (T)</th>\n",
       "      <th>T (K)</th>\n",
       "      <th>ENS_data</th>\n",
       "    </tr>\n",
       "  </thead>\n",
       "  <tbody>\n",
       "    <tr>\n",
       "      <th>0</th>\n",
       "      <td>p6K_1T.txt</td>\n",
       "      <td>1.00</td>\n",
       "      <td>0.6</td>\n",
       "      <td>hh0          I        dI\n",
       "0    -11.99...</td>\n",
       "    </tr>\n",
       "    <tr>\n",
       "      <th>1</th>\n",
       "      <td>p6K_1T_new.txt</td>\n",
       "      <td>1.00</td>\n",
       "      <td>0.6</td>\n",
       "      <td>hh0          I        dI\n",
       "0    -11.99...</td>\n",
       "    </tr>\n",
       "    <tr>\n",
       "      <th>2</th>\n",
       "      <td>p6K_p05T.txt</td>\n",
       "      <td>0.05</td>\n",
       "      <td>0.6</td>\n",
       "      <td>hh0         I       dI\n",
       "0    -11.9975...</td>\n",
       "    </tr>\n",
       "    <tr>\n",
       "      <th>3</th>\n",
       "      <td>p6K_p4T.txt</td>\n",
       "      <td>0.40</td>\n",
       "      <td>0.6</td>\n",
       "      <td>hh0         I        dI\n",
       "0    -11.997...</td>\n",
       "    </tr>\n",
       "    <tr>\n",
       "      <th>4</th>\n",
       "      <td>p6K_p5T.txt</td>\n",
       "      <td>0.50</td>\n",
       "      <td>0.6</td>\n",
       "      <td>hh0          I        dI\n",
       "0    -11.99...</td>\n",
       "    </tr>\n",
       "    <tr>\n",
       "      <th>5</th>\n",
       "      <td>p6K_p6T.txt</td>\n",
       "      <td>0.60</td>\n",
       "      <td>0.6</td>\n",
       "      <td>hh0          I        dI\n",
       "0    -11.99...</td>\n",
       "    </tr>\n",
       "    <tr>\n",
       "      <th>6</th>\n",
       "      <td>p6K_p77T.txt</td>\n",
       "      <td>0.77</td>\n",
       "      <td>0.6</td>\n",
       "      <td>hh0          I        dI\n",
       "0    -11.99...</td>\n",
       "    </tr>\n",
       "    <tr>\n",
       "      <th>7</th>\n",
       "      <td>p6K_p7T.txt</td>\n",
       "      <td>0.70</td>\n",
       "      <td>0.6</td>\n",
       "      <td>hh0          I        dI\n",
       "0    -11.99...</td>\n",
       "    </tr>\n",
       "    <tr>\n",
       "      <th>8</th>\n",
       "      <td>p6K_p83T.txt</td>\n",
       "      <td>0.83</td>\n",
       "      <td>0.6</td>\n",
       "      <td>hh0          I        dI\n",
       "0    -11.99...</td>\n",
       "    </tr>\n",
       "    <tr>\n",
       "      <th>9</th>\n",
       "      <td>p6K_p97T.txt</td>\n",
       "      <td>0.97</td>\n",
       "      <td>0.6</td>\n",
       "      <td>hh0          I        dI\n",
       "0    -11.99...</td>\n",
       "    </tr>\n",
       "    <tr>\n",
       "      <th>10</th>\n",
       "      <td>p6K_p9T.txt</td>\n",
       "      <td>0.90</td>\n",
       "      <td>0.6</td>\n",
       "      <td>hh0          I        dI\n",
       "0    -11.99...</td>\n",
       "    </tr>\n",
       "  </tbody>\n",
       "</table>\n",
       "</div>"
      ],
      "text/plain": [
       "          filename  H (T)  T (K)  \\\n",
       "0       p6K_1T.txt   1.00    0.6   \n",
       "1   p6K_1T_new.txt   1.00    0.6   \n",
       "2     p6K_p05T.txt   0.05    0.6   \n",
       "3      p6K_p4T.txt   0.40    0.6   \n",
       "4      p6K_p5T.txt   0.50    0.6   \n",
       "5      p6K_p6T.txt   0.60    0.6   \n",
       "6     p6K_p77T.txt   0.77    0.6   \n",
       "7      p6K_p7T.txt   0.70    0.6   \n",
       "8     p6K_p83T.txt   0.83    0.6   \n",
       "9     p6K_p97T.txt   0.97    0.6   \n",
       "10     p6K_p9T.txt   0.90    0.6   \n",
       "\n",
       "                                             ENS_data  \n",
       "0             hh0          I        dI\n",
       "0    -11.99...  \n",
       "1             hh0          I        dI\n",
       "0    -11.99...  \n",
       "2             hh0         I       dI\n",
       "0    -11.9975...  \n",
       "3             hh0         I        dI\n",
       "0    -11.997...  \n",
       "4             hh0          I        dI\n",
       "0    -11.99...  \n",
       "5             hh0          I        dI\n",
       "0    -11.99...  \n",
       "6             hh0          I        dI\n",
       "0    -11.99...  \n",
       "7             hh0          I        dI\n",
       "0    -11.99...  \n",
       "8             hh0          I        dI\n",
       "0    -11.99...  \n",
       "9             hh0          I        dI\n",
       "0    -11.99...  \n",
       "10            hh0          I        dI\n",
       "0    -11.99...  "
      ]
     },
     "execution_count": 111,
     "metadata": {},
     "output_type": "execute_result"
    }
   ],
   "source": [
    "dfList1 = [None]*len(filenames)# Pre-allocate list to store the data that will then be converted into a Pandas DataFrame\n",
    "for idx, filename in enumerate(filenames):# For each data file\n",
    "    H = float(re.split('p6K_(\\w*)T\\w*.txt',filenames[idx])[1].replace('p','.'))# Extract value of magnetic field from filename\n",
    "    ENS_data1 = pd.read_csv(filenames[idx],names=[\"hh0\",\"I\",\"dI\"],skiprows=2,delimiter=',')# Import data as a Pandas DataFrame\n",
    "    dfList1[idx] = {'filename': filenames[idx],# Store into a dictionary, which is itself an element of dfList1: the filename,\n",
    "                   'H (T)': H,# value of magnetic field,\n",
    "                   'T (K)': 0.6,# temperature,\n",
    "                   'ENS_data': ENS_data1# and data,\n",
    "                   }\n",
    "nData_raw[0] = pd.DataFrame(dfList1)# Convert the list of dictionaries into a Pandas DataFrame\n",
    "nData_raw[0]# Show the resulting DataFrame"
   ]
  },
  {
   "cell_type": "code",
   "execution_count": 112,
   "metadata": {},
   "outputs": [
    {
     "data": {
      "text/html": [
       "<div>\n",
       "<style scoped>\n",
       "    .dataframe tbody tr th:only-of-type {\n",
       "        vertical-align: middle;\n",
       "    }\n",
       "\n",
       "    .dataframe tbody tr th {\n",
       "        vertical-align: top;\n",
       "    }\n",
       "\n",
       "    .dataframe thead th {\n",
       "        text-align: right;\n",
       "    }\n",
       "</style>\n",
       "<table border=\"1\" class=\"dataframe\">\n",
       "  <thead>\n",
       "    <tr style=\"text-align: right;\">\n",
       "      <th></th>\n",
       "      <th>hh0</th>\n",
       "      <th>I</th>\n",
       "      <th>dI</th>\n",
       "    </tr>\n",
       "  </thead>\n",
       "  <tbody>\n",
       "    <tr>\n",
       "      <th>0</th>\n",
       "      <td>-11.9975</td>\n",
       "      <td>142028.0</td>\n",
       "      <td>52309.7</td>\n",
       "    </tr>\n",
       "    <tr>\n",
       "      <th>1</th>\n",
       "      <td>-11.9925</td>\n",
       "      <td>220372.0</td>\n",
       "      <td>62925.4</td>\n",
       "    </tr>\n",
       "    <tr>\n",
       "      <th>2</th>\n",
       "      <td>-11.9875</td>\n",
       "      <td>220002.0</td>\n",
       "      <td>62818.9</td>\n",
       "    </tr>\n",
       "    <tr>\n",
       "      <th>3</th>\n",
       "      <td>-11.9825</td>\n",
       "      <td>518428.0</td>\n",
       "      <td>92939.8</td>\n",
       "    </tr>\n",
       "    <tr>\n",
       "      <th>4</th>\n",
       "      <td>-11.9775</td>\n",
       "      <td>817317.0</td>\n",
       "      <td>127501.0</td>\n",
       "    </tr>\n",
       "  </tbody>\n",
       "</table>\n",
       "</div>"
      ],
      "text/plain": [
       "       hh0         I        dI\n",
       "0 -11.9975  142028.0   52309.7\n",
       "1 -11.9925  220372.0   62925.4\n",
       "2 -11.9875  220002.0   62818.9\n",
       "3 -11.9825  518428.0   92939.8\n",
       "4 -11.9775  817317.0  127501.0"
      ]
     },
     "execution_count": 112,
     "metadata": {},
     "output_type": "execute_result"
    }
   ],
   "source": [
    "nData_raw[0]['ENS_data'][3].head()# Check the content of individual datasets after importation"
   ]
  },
  {
   "cell_type": "code",
   "execution_count": 113,
   "metadata": {},
   "outputs": [
    {
     "data": {
      "text/html": [
       "<div>\n",
       "<style scoped>\n",
       "    .dataframe tbody tr th:only-of-type {\n",
       "        vertical-align: middle;\n",
       "    }\n",
       "\n",
       "    .dataframe tbody tr th {\n",
       "        vertical-align: top;\n",
       "    }\n",
       "\n",
       "    .dataframe thead th {\n",
       "        text-align: right;\n",
       "    }\n",
       "</style>\n",
       "<table border=\"1\" class=\"dataframe\">\n",
       "  <thead>\n",
       "    <tr style=\"text-align: right;\">\n",
       "      <th></th>\n",
       "      <th>FileName</th>\n",
       "      <th>T (K)</th>\n",
       "      <th>H (T)</th>\n",
       "    </tr>\n",
       "  </thead>\n",
       "  <tbody>\n",
       "    <tr>\n",
       "      <th>0</th>\n",
       "      <td>HH0_88631</td>\n",
       "      <td>0.605973</td>\n",
       "      <td>0.000000</td>\n",
       "    </tr>\n",
       "    <tr>\n",
       "      <th>1</th>\n",
       "      <td>HH0_88632</td>\n",
       "      <td>0.613334</td>\n",
       "      <td>0.049998</td>\n",
       "    </tr>\n",
       "    <tr>\n",
       "      <th>2</th>\n",
       "      <td>HH0_88634</td>\n",
       "      <td>0.625493</td>\n",
       "      <td>0.099996</td>\n",
       "    </tr>\n",
       "    <tr>\n",
       "      <th>3</th>\n",
       "      <td>HH0_88635</td>\n",
       "      <td>0.618220</td>\n",
       "      <td>0.150005</td>\n",
       "    </tr>\n",
       "    <tr>\n",
       "      <th>4</th>\n",
       "      <td>HH0_88636</td>\n",
       "      <td>0.614194</td>\n",
       "      <td>0.200003</td>\n",
       "    </tr>\n",
       "  </tbody>\n",
       "</table>\n",
       "</div>"
      ],
      "text/plain": [
       "    FileName     T (K)     H (T)\n",
       "0  HH0_88631  0.605973  0.000000\n",
       "1  HH0_88632  0.613334  0.049998\n",
       "2  HH0_88634  0.625493  0.099996\n",
       "3  HH0_88635  0.618220  0.150005\n",
       "4  HH0_88636  0.614194  0.200003"
      ]
     },
     "execution_count": 113,
     "metadata": {},
     "output_type": "execute_result"
    }
   ],
   "source": [
    "mypath2 = r'C:\\Users\\Pierre\\Desktop\\Postdoc\\TmVO4\\TmVO4_neutrons\\2019-02_ORNL_Corelli\\2019-02-14\\p6K\\linecut2'\n",
    "chdir(mypath2)\n",
    "fieldInfo = pd.read_csv('field_info.txt',header=0,names=['FileName','T (K)','H (T)'],delimiter='\\t')\n",
    "fieldInfo.head()"
   ]
  },
  {
   "cell_type": "code",
   "execution_count": 114,
   "metadata": {},
   "outputs": [
    {
     "data": {
      "text/html": [
       "<div>\n",
       "<style scoped>\n",
       "    .dataframe tbody tr th:only-of-type {\n",
       "        vertical-align: middle;\n",
       "    }\n",
       "\n",
       "    .dataframe tbody tr th {\n",
       "        vertical-align: top;\n",
       "    }\n",
       "\n",
       "    .dataframe thead th {\n",
       "        text-align: right;\n",
       "    }\n",
       "</style>\n",
       "<table border=\"1\" class=\"dataframe\">\n",
       "  <thead>\n",
       "    <tr style=\"text-align: right;\">\n",
       "      <th></th>\n",
       "      <th>filename</th>\n",
       "      <th>H (T)</th>\n",
       "      <th>T (K)</th>\n",
       "      <th>ENS_data</th>\n",
       "    </tr>\n",
       "  </thead>\n",
       "  <tbody>\n",
       "    <tr>\n",
       "      <th>0</th>\n",
       "      <td>HH0_88631.txt</td>\n",
       "      <td>0.000000</td>\n",
       "      <td>0.605973</td>\n",
       "      <td>hh0    I   dI\n",
       "0    -12.9975  0.0  0....</td>\n",
       "    </tr>\n",
       "    <tr>\n",
       "      <th>1</th>\n",
       "      <td>HH0_88632.txt</td>\n",
       "      <td>0.049998</td>\n",
       "      <td>0.613334</td>\n",
       "      <td>hh0    I   dI\n",
       "0    -12.9975  0.0  0....</td>\n",
       "    </tr>\n",
       "    <tr>\n",
       "      <th>2</th>\n",
       "      <td>HH0_88634.txt</td>\n",
       "      <td>0.099996</td>\n",
       "      <td>0.625493</td>\n",
       "      <td>hh0    I   dI\n",
       "0    -12.9975  0.0  0....</td>\n",
       "    </tr>\n",
       "    <tr>\n",
       "      <th>3</th>\n",
       "      <td>HH0_88635.txt</td>\n",
       "      <td>0.150005</td>\n",
       "      <td>0.618220</td>\n",
       "      <td>hh0    I   dI\n",
       "0    -12.9975  0.0  0....</td>\n",
       "    </tr>\n",
       "    <tr>\n",
       "      <th>4</th>\n",
       "      <td>HH0_88636.txt</td>\n",
       "      <td>0.200003</td>\n",
       "      <td>0.614194</td>\n",
       "      <td>hh0    I   dI\n",
       "0    -12.9975  0.0  0....</td>\n",
       "    </tr>\n",
       "  </tbody>\n",
       "</table>\n",
       "</div>"
      ],
      "text/plain": [
       "        filename     H (T)     T (K)  \\\n",
       "0  HH0_88631.txt  0.000000  0.605973   \n",
       "1  HH0_88632.txt  0.049998  0.613334   \n",
       "2  HH0_88634.txt  0.099996  0.625493   \n",
       "3  HH0_88635.txt  0.150005  0.618220   \n",
       "4  HH0_88636.txt  0.200003  0.614194   \n",
       "\n",
       "                                            ENS_data  \n",
       "0            hh0    I   dI\n",
       "0    -12.9975  0.0  0....  \n",
       "1            hh0    I   dI\n",
       "0    -12.9975  0.0  0....  \n",
       "2            hh0    I   dI\n",
       "0    -12.9975  0.0  0....  \n",
       "3            hh0    I   dI\n",
       "0    -12.9975  0.0  0....  \n",
       "4            hh0    I   dI\n",
       "0    -12.9975  0.0  0....  "
      ]
     },
     "execution_count": 114,
     "metadata": {},
     "output_type": "execute_result"
    }
   ],
   "source": [
    "dfList2 = [None]*len(fieldInfo)# Preallocate list to store the data that will then be converted into a Pandas DataFrame\n",
    "for idx in range(len(fieldInfo)):# For each data file\n",
    "    filename = fieldInfo['FileName'][idx] + '.txt'\n",
    "#     print(filename)\n",
    "    ENS_data2 = pd.read_csv(filename,names=[\"hh0\",\"I\",\"dI\"],skiprows=2,delimiter=',')# Import data as a Pandas DataFrame\n",
    "    dfList2[idx] = {'filename': filename,# Store into a dictionary, which is itself an element of dfList: the filename,\n",
    "                   'H (T)': fieldInfo['H (T)'][idx],# value of magnetic field,\n",
    "                   'T (K)': fieldInfo['T (K)'][idx],# temperature,\n",
    "                   'ENS_data': ENS_data2# and data,\n",
    "                   }\n",
    "nData_raw[1] = pd.DataFrame(dfList2)# Convert the list of dictionaries into a Pandas DataFrame\n",
    "nData_raw[1].head()# Show the resulting DataFrame"
   ]
  },
  {
   "cell_type": "code",
   "execution_count": 115,
   "metadata": {},
   "outputs": [
    {
     "data": {
      "text/html": [
       "<div>\n",
       "<style scoped>\n",
       "    .dataframe tbody tr th:only-of-type {\n",
       "        vertical-align: middle;\n",
       "    }\n",
       "\n",
       "    .dataframe tbody tr th {\n",
       "        vertical-align: top;\n",
       "    }\n",
       "\n",
       "    .dataframe thead th {\n",
       "        text-align: right;\n",
       "    }\n",
       "</style>\n",
       "<table border=\"1\" class=\"dataframe\">\n",
       "  <thead>\n",
       "    <tr style=\"text-align: right;\">\n",
       "      <th></th>\n",
       "      <th>hh0</th>\n",
       "      <th>I</th>\n",
       "      <th>dI</th>\n",
       "    </tr>\n",
       "  </thead>\n",
       "  <tbody>\n",
       "    <tr>\n",
       "      <th>180</th>\n",
       "      <td>-12.0975</td>\n",
       "      <td>0.0</td>\n",
       "      <td>0.0</td>\n",
       "    </tr>\n",
       "    <tr>\n",
       "      <th>181</th>\n",
       "      <td>-12.0925</td>\n",
       "      <td>20535.1</td>\n",
       "      <td>14520.5</td>\n",
       "    </tr>\n",
       "    <tr>\n",
       "      <th>182</th>\n",
       "      <td>-12.0875</td>\n",
       "      <td>30592.1</td>\n",
       "      <td>22671.8</td>\n",
       "    </tr>\n",
       "    <tr>\n",
       "      <th>183</th>\n",
       "      <td>-12.0825</td>\n",
       "      <td>10336.1</td>\n",
       "      <td>22743.6</td>\n",
       "    </tr>\n",
       "    <tr>\n",
       "      <th>184</th>\n",
       "      <td>-12.0775</td>\n",
       "      <td>30571.4</td>\n",
       "      <td>17650.5</td>\n",
       "    </tr>\n",
       "    <tr>\n",
       "      <th>185</th>\n",
       "      <td>-12.0725</td>\n",
       "      <td>20162.3</td>\n",
       "      <td>14257.0</td>\n",
       "    </tr>\n",
       "  </tbody>\n",
       "</table>\n",
       "</div>"
      ],
      "text/plain": [
       "         hh0        I       dI\n",
       "180 -12.0975      0.0      0.0\n",
       "181 -12.0925  20535.1  14520.5\n",
       "182 -12.0875  30592.1  22671.8\n",
       "183 -12.0825  10336.1  22743.6\n",
       "184 -12.0775  30571.4  17650.5\n",
       "185 -12.0725  20162.3  14257.0"
      ]
     },
     "execution_count": 115,
     "metadata": {},
     "output_type": "execute_result"
    }
   ],
   "source": [
    "nData_raw[1]['ENS_data'][3].loc[180:185]#.head()# Check the content of individual datasets after importation"
   ]
  },
  {
   "cell_type": "markdown",
   "metadata": {},
   "source": [
    "### Concatenate datasets"
   ]
  },
  {
   "cell_type": "markdown",
   "metadata": {},
   "source": [
    "#### Prepare datasets for concatenation"
   ]
  },
  {
   "cell_type": "markdown",
   "metadata": {},
   "source": [
    "##### Check that all hh0 data are the same within each dataset\n",
    "i.e. that all hh0 of nData[0] are the same and that all hh0 data of nData[1] are the same"
   ]
  },
  {
   "cell_type": "code",
   "execution_count": 124,
   "metadata": {},
   "outputs": [],
   "source": [
    "##### Interpolate data of nData_raw[0] so they have the same X data as that of nData_raw[1]\n",
    "# First check that they differ\n",
    "for data_idx in range(len(nData_raw)):# for each dataset\n",
    "    for _, row in nData_raw[data_idx].iterrows():# loop over all rows\n",
    "        if not np.array_equal(row.ENS_data.hh0,nData_raw[data_idx].ENS_data[0].hh0):\n",
    "        # and compare the array of hh0 of that row with that of the first row\n",
    "            print(row)# print the row if the two arrays are *not* equal\n",
    "            # should output nothing, which means that all arrays of hh0 are the same *within a dataset*"
   ]
  },
  {
   "cell_type": "markdown",
   "metadata": {},
   "source": [
    "##### Then check that hh0 data of nData[0] differ from that of nData[1]\n",
    "We do not need to loop over all rows since we have shown in the previous cell that all rows are the same within a dataset"
   ]
  },
  {
   "cell_type": "code",
   "execution_count": 128,
   "metadata": {},
   "outputs": [
    {
     "name": "stdout",
     "output_type": "stream",
     "text": [
      "The arrarys of hh0 are not the same in both datasets\n"
     ]
    }
   ],
   "source": [
    "if not np.array_equal(nData_raw[0].ENS_data[0].hh0,nData_raw[1].ENS_data[0].hh0):\n",
    "# compare the hh0 arrays of the first row of both datasets\n",
    "    print(\"The arrarys of hh0 are not the same in both datasets\")"
   ]
  },
  {
   "cell_type": "markdown",
   "metadata": {},
   "source": [
    "### Next steps as of 2020-04-03\n",
    "##### Updated idea\n",
    "treat both datasets independently in terms of the plotting and fitting\n",
    "* plot 3D color map of both datasets to check that the data are consistent within each dataset\n",
    "* proceed to fit \n",
    "\n",
    "##### Outdated ideas\n",
    "involving treating both datasets together, which will make things more complicated, and therefore increases the risks of making errors, in addition to increasing the time required for the analysis:\n",
    "* interpolate ENS_data of nData_raw[0] so that its hh0 array is the same as that of nData_raw[1]\n",
    "* rescale the data, if there is a physical way to do it, otherwise simply treat both datasets separately"
   ]
  },
  {
   "cell_type": "markdown",
   "metadata": {},
   "source": [
    "#### Concatenate data and sort according to ascending value of magnetic field\n",
    "##### Truely \"deep\" concatenation of nData_raw[0] and nData_raw[1]\n",
    "such that nData_raw[0] and nData_raw[1] will *not* be modified if nData_unsorted is modified\n",
    "\n",
    "See hacks.ipynb for more details, or https://stackoverflow.com/questions/52708341/make-a-truly-deep-copy-of-a-pandas-series"
   ]
  },
  {
   "cell_type": "code",
   "execution_count": 62,
   "metadata": {},
   "outputs": [
    {
     "data": {
      "text/html": [
       "<div>\n",
       "<style scoped>\n",
       "    .dataframe tbody tr th:only-of-type {\n",
       "        vertical-align: middle;\n",
       "    }\n",
       "\n",
       "    .dataframe tbody tr th {\n",
       "        vertical-align: top;\n",
       "    }\n",
       "\n",
       "    .dataframe thead th {\n",
       "        text-align: right;\n",
       "    }\n",
       "</style>\n",
       "<table border=\"1\" class=\"dataframe\">\n",
       "  <thead>\n",
       "    <tr style=\"text-align: right;\">\n",
       "      <th></th>\n",
       "      <th>filename</th>\n",
       "      <th>H (T)</th>\n",
       "      <th>T (K)</th>\n",
       "      <th>ENS_data</th>\n",
       "    </tr>\n",
       "  </thead>\n",
       "  <tbody>\n",
       "    <tr>\n",
       "      <th>0</th>\n",
       "      <td>HH0_88631.txt</td>\n",
       "      <td>0.000000</td>\n",
       "      <td>0.605973</td>\n",
       "      <td>hh0    I   dI\n",
       "0    -12.9975  0.0  0....</td>\n",
       "    </tr>\n",
       "    <tr>\n",
       "      <th>1</th>\n",
       "      <td>HH0_88632.txt</td>\n",
       "      <td>0.049998</td>\n",
       "      <td>0.613334</td>\n",
       "      <td>hh0    I   dI\n",
       "0    -12.9975  0.0  0....</td>\n",
       "    </tr>\n",
       "    <tr>\n",
       "      <th>2</th>\n",
       "      <td>p6K_p05T.txt</td>\n",
       "      <td>0.050000</td>\n",
       "      <td>0.600000</td>\n",
       "      <td>hh0         I       dI\n",
       "0    -11.9975...</td>\n",
       "    </tr>\n",
       "    <tr>\n",
       "      <th>3</th>\n",
       "      <td>HH0_88634.txt</td>\n",
       "      <td>0.099996</td>\n",
       "      <td>0.625493</td>\n",
       "      <td>hh0    I   dI\n",
       "0    -12.9975  0.0  0....</td>\n",
       "    </tr>\n",
       "    <tr>\n",
       "      <th>4</th>\n",
       "      <td>HH0_88635.txt</td>\n",
       "      <td>0.150005</td>\n",
       "      <td>0.618220</td>\n",
       "      <td>hh0    I   dI\n",
       "0    -12.9975  0.0  0....</td>\n",
       "    </tr>\n",
       "  </tbody>\n",
       "</table>\n",
       "</div>"
      ],
      "text/plain": [
       "        filename     H (T)     T (K)  \\\n",
       "0  HH0_88631.txt  0.000000  0.605973   \n",
       "1  HH0_88632.txt  0.049998  0.613334   \n",
       "2   p6K_p05T.txt  0.050000  0.600000   \n",
       "3  HH0_88634.txt  0.099996  0.625493   \n",
       "4  HH0_88635.txt  0.150005  0.618220   \n",
       "\n",
       "                                            ENS_data  \n",
       "0            hh0    I   dI\n",
       "0    -12.9975  0.0  0....  \n",
       "1            hh0    I   dI\n",
       "0    -12.9975  0.0  0....  \n",
       "2            hh0         I       dI\n",
       "0    -11.9975...  \n",
       "3            hh0    I   dI\n",
       "0    -12.9975  0.0  0....  \n",
       "4            hh0    I   dI\n",
       "0    -12.9975  0.0  0....  "
      ]
     },
     "execution_count": 62,
     "metadata": {},
     "output_type": "execute_result"
    }
   ],
   "source": [
    "### Concatenate data\n",
    "nData_unsorted = pickle.loads(pickle.dumps(pd.concat([nData_raw[0],nData_raw[1]],ignore_index=True)))# \n",
    "idx = 5\n",
    "nData_unsorted.head()#.loc[idx:idx+10]\n",
    "\n",
    "### Sort according to ascending value of magnetic field\n",
    "nData_sorted = nData_unsorted.sort_values(by=['H (T)'],ignore_index=True)\n",
    "nData_sorted.head()"
   ]
  },
  {
   "cell_type": "markdown",
   "metadata": {},
   "source": [
    "#### Basic data processing\n",
    "Rescale data and remove \"bad\" data"
   ]
  },
  {
   "cell_type": "markdown",
   "metadata": {},
   "source": [
    "##### Extract data at 0.86T \n",
    "to check that it does not make sense. Note that both H=0.86T and H=0.8649T round to 0.86 at the second decimal"
   ]
  },
  {
   "cell_type": "code",
   "execution_count": 47,
   "metadata": {},
   "outputs": [
    {
     "data": {
      "text/html": [
       "<div>\n",
       "<style scoped>\n",
       "    .dataframe tbody tr th:only-of-type {\n",
       "        vertical-align: middle;\n",
       "    }\n",
       "\n",
       "    .dataframe tbody tr th {\n",
       "        vertical-align: top;\n",
       "    }\n",
       "\n",
       "    .dataframe thead th {\n",
       "        text-align: right;\n",
       "    }\n",
       "</style>\n",
       "<table border=\"1\" class=\"dataframe\">\n",
       "  <thead>\n",
       "    <tr style=\"text-align: right;\">\n",
       "      <th></th>\n",
       "      <th>hh0</th>\n",
       "      <th>I</th>\n",
       "      <th>dI</th>\n",
       "    </tr>\n",
       "  </thead>\n",
       "  <tbody>\n",
       "  </tbody>\n",
       "</table>\n",
       "</div>"
      ],
      "text/plain": [
       "Empty DataFrame\n",
       "Columns: [hh0, I, dI]\n",
       "Index: []"
      ]
     },
     "execution_count": 47,
     "metadata": {},
     "output_type": "execute_result"
    }
   ],
   "source": [
    "test = nData_sorted[np.around(nData_sorted['H (T)'],2)==0.86].reset_index()\n",
    "idx = 0 \n",
    "test.ENS_data[idx][test.ENS_data[0].I>0]# returns nothing for idx =0,\n",
    "# meaning that all the data is zero for that dataset..."
   ]
  },
  {
   "cell_type": "markdown",
   "metadata": {},
   "source": [
    "##### Prepare plotting"
   ]
  },
  {
   "cell_type": "code",
   "execution_count": 78,
   "metadata": {},
   "outputs": [],
   "source": [
    "%matplotlib qt\n",
    "# plot figure in external window\n",
    "f = plt.figure()"
   ]
  },
  {
   "cell_type": "markdown",
   "metadata": {},
   "source": [
    "##### Perform data processing and plot the rescaled spectrum along with another one\n",
    "Note (2020-04-03): best would be to break down the following code in the following way:\n",
    "1. Rescale the data:\n",
    "    * store the rescaled data into a temporary dataset, \n",
    "    * then plot this dataset with a reference dataset to compare them\n",
    "    * modify the rescaling factor if necessary and reiterate\n",
    "2. When the appropriate rescaling has been found, perform the basic data processing operations (rescaling the actual dataset and removing the bad ones)"
   ]
  },
  {
   "cell_type": "code",
   "execution_count": 85,
   "metadata": {},
   "outputs": [],
   "source": [
    "###### Reset data in order to adjust the scaling factor\n",
    "nData_unsorted = pickle.loads(pickle.dumps(pd.concat([nData_raw[0],nData_raw[1]],ignore_index=True)))# \n",
    "nData_sorted = nData_unsorted.sort_values(by=['H (T)'],ignore_index=True)\n",
    "\n",
    "##### Rescale data at 0T, as it has a higher intensity than the rest\n",
    "rescaling_factor = 0.635# empirical value that rescales the first spectrum to the other ones\n",
    "for idx, row in nData_sorted[np.around(nData_sorted['H (T)'],2)==0.].iterrows():\n",
    "#     nData.ENS_data[idx] = row['ENS_data'].copy()\n",
    "    row['ENS_data'].I = row['ENS_data']['I']*rescaling_factor\n",
    "#     print(idx, row['ENS_data']['I'])\n",
    "\n",
    "##### Remove data 0.86T, since it is bad\n",
    "delRowIdx = nData_sorted[np.around(nData_sorted['H (T)'],2)==0.86].index\n",
    "# len(test['ENS_data'][idx][np.abs(test['ENS_data'][idx]['I'])>2*np.abs(test['ENS_data'][idx]['dI'])])\n",
    "# test['ENS_data']\n",
    "nData = nData_sorted.drop(delRowIdx)\n",
    "nData.reset_index(drop=True,inplace=True)\n",
    "idx = 89\n",
    "nData.loc[idx:idx+4]\n",
    "\n",
    "##### Plot a couple of ENS spectra to check consistency between spectra before fitting\n",
    "plt.cla()\n",
    "for idx in range(2):\n",
    "    plt.plot(nData.ENS_data[idx].hh0,nData.ENS_data[idx].I)\n",
    "#     plt.xlim([peak_center-plt_interval,peak_center+plt_interval])"
   ]
  },
  {
   "cell_type": "markdown",
   "metadata": {},
   "source": [
    "##### Plot 3D color map of neutrons spectra\n",
    "as spectrum intensity vs position in reciprocal space and magnetic field\n",
    "\n",
    "to check that the field dependence of the data is consistent"
   ]
  },
  {
   "cell_type": "code",
   "execution_count": 130,
   "metadata": {},
   "outputs": [],
   "source": [
    "fig = plt.figure()\n",
    "ax = plt.axes(projection=\"3d\")\n",
    "for i in range(len(nData)):\n",
    "    H = np.ones(np.shape(nData.ENS_data[i].hh0))*nData['H (T)'][i]\n",
    "    ax.plot3D(nData.ENS_data[i].hh0,H,nData.ENS_data[i].I)"
   ]
  },
  {
   "cell_type": "markdown",
   "metadata": {},
   "source": [
    "#### Fit data"
   ]
  },
  {
   "cell_type": "markdown",
   "metadata": {},
   "source": [
    "##### Center of peak to be studied in the following"
   ]
  },
  {
   "cell_type": "code",
   "execution_count": 49,
   "metadata": {},
   "outputs": [],
   "source": [
    "peak_center = -8.0# center of unsplit peak in reciprocal space\n",
    "plt_interval = .1"
   ]
  },
  {
   "cell_type": "markdown",
   "metadata": {},
   "source": [
    "##### Critical magnetic field "
   ]
  },
  {
   "cell_type": "code",
   "execution_count": 91,
   "metadata": {},
   "outputs": [],
   "source": [
    "Hc_0 = 0.51# value in Tesla units of the critical field at zero temperature\n",
    "# in the absence of demagnetizing factor\n",
    "# see data taken on needles of TmVO4-LS5200 in July 2017"
   ]
  }
 ],
 "metadata": {
  "kernelspec": {
   "display_name": "Python 3",
   "language": "python",
   "name": "python3"
  },
  "language_info": {
   "codemirror_mode": {
    "name": "ipython",
    "version": 3
   },
   "file_extension": ".py",
   "mimetype": "text/x-python",
   "name": "python",
   "nbconvert_exporter": "python",
   "pygments_lexer": "ipython3",
   "version": "3.7.7"
  },
  "varInspector": {
   "cols": {
    "lenName": 16,
    "lenType": 16,
    "lenVar": 40
   },
   "kernels_config": {
    "python": {
     "delete_cmd_postfix": "",
     "delete_cmd_prefix": "del ",
     "library": "var_list.py",
     "varRefreshCmd": "print(var_dic_list())"
    },
    "r": {
     "delete_cmd_postfix": ") ",
     "delete_cmd_prefix": "rm(",
     "library": "var_list.r",
     "varRefreshCmd": "cat(var_dic_list()) "
    }
   },
   "types_to_exclude": [
    "module",
    "function",
    "builtin_function_or_method",
    "instance",
    "_Feature"
   ],
   "window_display": false
  }
 },
 "nbformat": 4,
 "nbformat_minor": 4
}
