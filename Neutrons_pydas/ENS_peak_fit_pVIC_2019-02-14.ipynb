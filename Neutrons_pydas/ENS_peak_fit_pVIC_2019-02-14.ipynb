{
 "cells": [
  {
   "cell_type": "markdown",
   "metadata": {
    "Collapsed": "false"
   },
   "source": [
    "# TmVO4 neutrons data analysis\n",
    "Fit neutrons diffraction peaks measured on TmVO4 at SNS on 2019-02-14 in order to extract the orthorhombic distortion as a function of magnetic field"
   ]
  },
  {
   "cell_type": "markdown",
   "metadata": {
    "Collapsed": "true",
    "heading_collapsed": true
   },
   "source": [
    "## Import modules"
   ]
  },
  {
   "cell_type": "code",
   "execution_count": 1,
   "metadata": {
    "Collapsed": "false",
    "hidden": true
   },
   "outputs": [],
   "source": [
    "from mpl_toolkits.mplot3d import Axes3D# for 3D plotting\n",
    "import matplotlib.tri as mtri# for triangulation of unevenly separated data, like our magnetic field data\n",
    "\n",
    "import copy as cp, numpy as np, pandas as pd, pickle, os, re\n",
    "import importlib, sys \n",
    "import matplotlib\n",
    "from matplotlib import cm, pyplot as plt, rcsetup, rc, rcParams# import matplotlib.pyplot as plt\n",
    "# cm stands for colormap\n",
    "from matplotlib.ticker import LogLocator, LinearLocator, FormatStrFormatter\n",
    "from scipy.interpolate import griddata\n",
    "from scipy.special import erfc, exp1\n",
    "\n",
    "from lmfit import minimize, Model, Parameters, report_fit, fit_report\n",
    "# import pytest"
   ]
  },
  {
   "cell_type": "markdown",
   "metadata": {
    "Collapsed": "true",
    "heading_collapsed": true
   },
   "source": [
    "## Import data"
   ]
  },
  {
   "cell_type": "markdown",
   "metadata": {
    "Collapsed": "false",
    "hidden": true
   },
   "source": [
    "### Coarse data"
   ]
  },
  {
   "cell_type": "code",
   "execution_count": 2,
   "metadata": {
    "Collapsed": "false",
    "hidden": true,
    "scrolled": true
   },
   "outputs": [
    {
     "data": {
      "text/html": [
       "<div>\n",
       "<style scoped>\n",
       "    .dataframe tbody tr th:only-of-type {\n",
       "        vertical-align: middle;\n",
       "    }\n",
       "\n",
       "    .dataframe tbody tr th {\n",
       "        vertical-align: top;\n",
       "    }\n",
       "\n",
       "    .dataframe thead th {\n",
       "        text-align: right;\n",
       "    }\n",
       "</style>\n",
       "<table border=\"1\" class=\"dataframe\">\n",
       "  <thead>\n",
       "    <tr style=\"text-align: right;\">\n",
       "      <th></th>\n",
       "      <th>filename</th>\n",
       "      <th>H (T)</th>\n",
       "      <th>T (K)</th>\n",
       "      <th>spectra</th>\n",
       "    </tr>\n",
       "  </thead>\n",
       "  <tbody>\n",
       "    <tr>\n",
       "      <th>0</th>\n",
       "      <td>p6K_1T.txt</td>\n",
       "      <td>1.00</td>\n",
       "      <td>0.6</td>\n",
       "      <td>hh0          I        dI\n",
       "0    -11.99...</td>\n",
       "    </tr>\n",
       "    <tr>\n",
       "      <th>1</th>\n",
       "      <td>p6K_1T_new.txt</td>\n",
       "      <td>1.00</td>\n",
       "      <td>0.6</td>\n",
       "      <td>hh0          I        dI\n",
       "0    -11.99...</td>\n",
       "    </tr>\n",
       "    <tr>\n",
       "      <th>2</th>\n",
       "      <td>p6K_p05T.txt</td>\n",
       "      <td>0.05</td>\n",
       "      <td>0.6</td>\n",
       "      <td>hh0         I       dI\n",
       "0    -11.9975...</td>\n",
       "    </tr>\n",
       "    <tr>\n",
       "      <th>3</th>\n",
       "      <td>p6K_p4T.txt</td>\n",
       "      <td>0.40</td>\n",
       "      <td>0.6</td>\n",
       "      <td>hh0         I        dI\n",
       "0    -11.997...</td>\n",
       "    </tr>\n",
       "    <tr>\n",
       "      <th>4</th>\n",
       "      <td>p6K_p5T.txt</td>\n",
       "      <td>0.50</td>\n",
       "      <td>0.6</td>\n",
       "      <td>hh0          I        dI\n",
       "0    -11.99...</td>\n",
       "    </tr>\n",
       "    <tr>\n",
       "      <th>5</th>\n",
       "      <td>p6K_p6T.txt</td>\n",
       "      <td>0.60</td>\n",
       "      <td>0.6</td>\n",
       "      <td>hh0          I        dI\n",
       "0    -11.99...</td>\n",
       "    </tr>\n",
       "    <tr>\n",
       "      <th>6</th>\n",
       "      <td>p6K_p77T.txt</td>\n",
       "      <td>0.77</td>\n",
       "      <td>0.6</td>\n",
       "      <td>hh0          I        dI\n",
       "0    -11.99...</td>\n",
       "    </tr>\n",
       "    <tr>\n",
       "      <th>7</th>\n",
       "      <td>p6K_p7T.txt</td>\n",
       "      <td>0.70</td>\n",
       "      <td>0.6</td>\n",
       "      <td>hh0          I        dI\n",
       "0    -11.99...</td>\n",
       "    </tr>\n",
       "    <tr>\n",
       "      <th>8</th>\n",
       "      <td>p6K_p83T.txt</td>\n",
       "      <td>0.83</td>\n",
       "      <td>0.6</td>\n",
       "      <td>hh0          I        dI\n",
       "0    -11.99...</td>\n",
       "    </tr>\n",
       "    <tr>\n",
       "      <th>9</th>\n",
       "      <td>p6K_p97T.txt</td>\n",
       "      <td>0.97</td>\n",
       "      <td>0.6</td>\n",
       "      <td>hh0          I        dI\n",
       "0    -11.99...</td>\n",
       "    </tr>\n",
       "    <tr>\n",
       "      <th>10</th>\n",
       "      <td>p6K_p9T.txt</td>\n",
       "      <td>0.90</td>\n",
       "      <td>0.6</td>\n",
       "      <td>hh0          I        dI\n",
       "0    -11.99...</td>\n",
       "    </tr>\n",
       "  </tbody>\n",
       "</table>\n",
       "</div>"
      ],
      "text/plain": [
       "          filename  ...                                            spectra\n",
       "0       p6K_1T.txt  ...            hh0          I        dI\n",
       "0    -11.99...\n",
       "1   p6K_1T_new.txt  ...            hh0          I        dI\n",
       "0    -11.99...\n",
       "2     p6K_p05T.txt  ...            hh0         I       dI\n",
       "0    -11.9975...\n",
       "3      p6K_p4T.txt  ...            hh0         I        dI\n",
       "0    -11.997...\n",
       "4      p6K_p5T.txt  ...            hh0          I        dI\n",
       "0    -11.99...\n",
       "5      p6K_p6T.txt  ...            hh0          I        dI\n",
       "0    -11.99...\n",
       "6     p6K_p77T.txt  ...            hh0          I        dI\n",
       "0    -11.99...\n",
       "7      p6K_p7T.txt  ...            hh0          I        dI\n",
       "0    -11.99...\n",
       "8     p6K_p83T.txt  ...            hh0          I        dI\n",
       "0    -11.99...\n",
       "9     p6K_p97T.txt  ...            hh0          I        dI\n",
       "0    -11.99...\n",
       "10     p6K_p9T.txt  ...            hh0          I        dI\n",
       "0    -11.99...\n",
       "\n",
       "[11 rows x 4 columns]"
      ]
     },
     "execution_count": 2,
     "metadata": {},
     "output_type": "execute_result"
    }
   ],
   "source": [
    "tempPath = r'C:\\Users\\Pierre\\Desktop\\Postdoc\\TmVO4\\TmVO4_neutrons\\2019-02_ORNL_Corelli\\2019-02-14'\n",
    "os.chdir(tempPath)\n",
    "(_, _, filenames) = next(os.walk(tempPath))# the walk() function lists the content of the directory that it is given as argument,\n",
    "# and of its subdirectories; the next() function returns the next output of the walk() function;\n",
    "# when used only once, it returns only the first output which is the content of the parent directory, \n",
    "# listed as a tuple of the form (dirpath, dirnames, filenames)\n",
    "filenames = [filename for filename in filenames if 'p6K_' in filename]# keep only files that match the string pattern of datafilestempList = [None]*len(filenames)# Pre-allocate temporary list to store the data that will then be converted into a Pandas DataFrame\n",
    "\n",
    "tempList = [None]*len(filenames)\n",
    "for idx, filename in enumerate(filenames):# For each data file\n",
    "    H = float(re.split('p6K_(\\w*)T\\w*.txt',filenames[idx])[1].replace('p','.'))# Extract value of magnetic field from filename\n",
    "    tempDF = pd.read_csv(filenames[idx],names=[\"hh0\",\"I\",\"dI\"],skiprows=2,delimiter=',')# import data as a Pandas DataFrame\n",
    "    tempList[idx] = {'filename': filenames[idx],# Store into a dictionary, which is itself an element of tempList: the filename,\n",
    "                   'H (T)': H,# value of magnetic field,\n",
    "                   'T (K)': 0.6,# temperature,\n",
    "                   'spectra': tempDF# and data stored as Pandas dataframe\n",
    "                   }\n",
    "coarseData = pd.DataFrame(tempList)# Convert the list of dictionaries into a Pandas DataFrame\n",
    "del idx, H, tempPath, filename, filenames, tempList, tempDF# delete temporary variables after use \n",
    "coarseData# Show the resulting DataFrame"
   ]
  },
  {
   "cell_type": "code",
   "execution_count": 3,
   "metadata": {
    "Collapsed": "false",
    "hidden": true
   },
   "outputs": [
    {
     "data": {
      "text/html": [
       "<div>\n",
       "<style scoped>\n",
       "    .dataframe tbody tr th:only-of-type {\n",
       "        vertical-align: middle;\n",
       "    }\n",
       "\n",
       "    .dataframe tbody tr th {\n",
       "        vertical-align: top;\n",
       "    }\n",
       "\n",
       "    .dataframe thead th {\n",
       "        text-align: right;\n",
       "    }\n",
       "</style>\n",
       "<table border=\"1\" class=\"dataframe\">\n",
       "  <thead>\n",
       "    <tr style=\"text-align: right;\">\n",
       "      <th></th>\n",
       "      <th>hh0</th>\n",
       "      <th>I</th>\n",
       "      <th>dI</th>\n",
       "    </tr>\n",
       "  </thead>\n",
       "  <tbody>\n",
       "    <tr>\n",
       "      <th>0</th>\n",
       "      <td>-11.9975</td>\n",
       "      <td>142028.0</td>\n",
       "      <td>52309.7</td>\n",
       "    </tr>\n",
       "    <tr>\n",
       "      <th>1</th>\n",
       "      <td>-11.9925</td>\n",
       "      <td>220372.0</td>\n",
       "      <td>62925.4</td>\n",
       "    </tr>\n",
       "    <tr>\n",
       "      <th>2</th>\n",
       "      <td>-11.9875</td>\n",
       "      <td>220002.0</td>\n",
       "      <td>62818.9</td>\n",
       "    </tr>\n",
       "    <tr>\n",
       "      <th>3</th>\n",
       "      <td>-11.9825</td>\n",
       "      <td>518428.0</td>\n",
       "      <td>92939.8</td>\n",
       "    </tr>\n",
       "    <tr>\n",
       "      <th>4</th>\n",
       "      <td>-11.9775</td>\n",
       "      <td>817317.0</td>\n",
       "      <td>127501.0</td>\n",
       "    </tr>\n",
       "  </tbody>\n",
       "</table>\n",
       "</div>"
      ],
      "text/plain": [
       "       hh0         I        dI\n",
       "0 -11.9975  142028.0   52309.7\n",
       "1 -11.9925  220372.0   62925.4\n",
       "2 -11.9875  220002.0   62818.9\n",
       "3 -11.9825  518428.0   92939.8\n",
       "4 -11.9775  817317.0  127501.0"
      ]
     },
     "execution_count": 3,
     "metadata": {},
     "output_type": "execute_result"
    }
   ],
   "source": [
    "coarseData.spectra[3].head()# Check the content of individual datasets after importation"
   ]
  },
  {
   "cell_type": "markdown",
   "metadata": {
    "Collapsed": "false",
    "hidden": true
   },
   "source": [
    "### Fine data"
   ]
  },
  {
   "cell_type": "code",
   "execution_count": 4,
   "metadata": {
    "Collapsed": "false",
    "hidden": true
   },
   "outputs": [
    {
     "data": {
      "text/html": [
       "<div>\n",
       "<style scoped>\n",
       "    .dataframe tbody tr th:only-of-type {\n",
       "        vertical-align: middle;\n",
       "    }\n",
       "\n",
       "    .dataframe tbody tr th {\n",
       "        vertical-align: top;\n",
       "    }\n",
       "\n",
       "    .dataframe thead th {\n",
       "        text-align: right;\n",
       "    }\n",
       "</style>\n",
       "<table border=\"1\" class=\"dataframe\">\n",
       "  <thead>\n",
       "    <tr style=\"text-align: right;\">\n",
       "      <th></th>\n",
       "      <th>File #</th>\n",
       "      <th>T (K)</th>\n",
       "      <th>H (T)</th>\n",
       "      <th>Proton charge</th>\n",
       "    </tr>\n",
       "  </thead>\n",
       "  <tbody>\n",
       "    <tr>\n",
       "      <th>0</th>\n",
       "      <td>88631</td>\n",
       "      <td>0.605973</td>\n",
       "      <td>0.000000</td>\n",
       "      <td>1.312139</td>\n",
       "    </tr>\n",
       "    <tr>\n",
       "      <th>1</th>\n",
       "      <td>88632</td>\n",
       "      <td>0.613334</td>\n",
       "      <td>0.049998</td>\n",
       "      <td>0.800119</td>\n",
       "    </tr>\n",
       "    <tr>\n",
       "      <th>2</th>\n",
       "      <td>88633</td>\n",
       "      <td>0.605727</td>\n",
       "      <td>0.099996</td>\n",
       "      <td>0.083534</td>\n",
       "    </tr>\n",
       "    <tr>\n",
       "      <th>3</th>\n",
       "      <td>88634</td>\n",
       "      <td>0.625493</td>\n",
       "      <td>0.099996</td>\n",
       "      <td>0.800739</td>\n",
       "    </tr>\n",
       "    <tr>\n",
       "      <th>4</th>\n",
       "      <td>88635</td>\n",
       "      <td>0.618220</td>\n",
       "      <td>0.150005</td>\n",
       "      <td>0.801294</td>\n",
       "    </tr>\n",
       "  </tbody>\n",
       "</table>\n",
       "</div>"
      ],
      "text/plain": [
       "   File #     T (K)     H (T)  Proton charge\n",
       "0   88631  0.605973  0.000000       1.312139\n",
       "1   88632  0.613334  0.049998       0.800119\n",
       "2   88633  0.605727  0.099996       0.083534\n",
       "3   88634  0.625493  0.099996       0.800739\n",
       "4   88635  0.618220  0.150005       0.801294"
      ]
     },
     "execution_count": 4,
     "metadata": {},
     "output_type": "execute_result"
    }
   ],
   "source": [
    "tempPath = r'C:\\Users\\Pierre\\Desktop\\Postdoc\\TmVO4\\TmVO4_neutrons\\2019-02_ORNL_Corelli\\2019-02-14\\p6K\\linecut_f'\n",
    "os.chdir(tempPath)\n",
    "fieldInfo = pd.read_csv('field_info.txt',header=None,names=['File #','T (K)','H (T)','Proton charge'],delimiter=' ')\n",
    "fieldInfo['File #'] = fieldInfo['File #'].astype('int')# replace file number type from float to int\n",
    "fieldInfo.head()\n",
    "# fieldInfo['File #'].dtype# check that the change of datatype is effective"
   ]
  },
  {
   "cell_type": "code",
   "execution_count": 5,
   "metadata": {
    "Collapsed": "false",
    "hidden": true
   },
   "outputs": [
    {
     "data": {
      "text/html": [
       "<div>\n",
       "<style scoped>\n",
       "    .dataframe tbody tr th:only-of-type {\n",
       "        vertical-align: middle;\n",
       "    }\n",
       "\n",
       "    .dataframe tbody tr th {\n",
       "        vertical-align: top;\n",
       "    }\n",
       "\n",
       "    .dataframe thead th {\n",
       "        text-align: right;\n",
       "    }\n",
       "</style>\n",
       "<table border=\"1\" class=\"dataframe\">\n",
       "  <thead>\n",
       "    <tr style=\"text-align: right;\">\n",
       "      <th></th>\n",
       "      <th>filename</th>\n",
       "      <th>T (K)</th>\n",
       "      <th>H (T)</th>\n",
       "      <th>Proton charge</th>\n",
       "      <th>spectra</th>\n",
       "    </tr>\n",
       "  </thead>\n",
       "  <tbody>\n",
       "    <tr>\n",
       "      <th>0</th>\n",
       "      <td>HH0_88631.txt</td>\n",
       "      <td>0.605973</td>\n",
       "      <td>0.000000</td>\n",
       "      <td>1.312139</td>\n",
       "      <td>hh0    I   dI\n",
       "0    -12.99880  0.0  ...</td>\n",
       "    </tr>\n",
       "    <tr>\n",
       "      <th>1</th>\n",
       "      <td>HH0_88632.txt</td>\n",
       "      <td>0.613334</td>\n",
       "      <td>0.049998</td>\n",
       "      <td>0.800119</td>\n",
       "      <td>hh0    I   dI\n",
       "0    -12.99880  0.0  ...</td>\n",
       "    </tr>\n",
       "    <tr>\n",
       "      <th>2</th>\n",
       "      <td>HH0_88633.txt</td>\n",
       "      <td>0.605727</td>\n",
       "      <td>0.099996</td>\n",
       "      <td>0.083534</td>\n",
       "      <td>hh0    I   dI\n",
       "0    -12.99880  0.0  ...</td>\n",
       "    </tr>\n",
       "    <tr>\n",
       "      <th>3</th>\n",
       "      <td>HH0_88634.txt</td>\n",
       "      <td>0.625493</td>\n",
       "      <td>0.099996</td>\n",
       "      <td>0.800739</td>\n",
       "      <td>hh0    I   dI\n",
       "0    -12.99880  0.0  ...</td>\n",
       "    </tr>\n",
       "    <tr>\n",
       "      <th>4</th>\n",
       "      <td>HH0_88635.txt</td>\n",
       "      <td>0.618220</td>\n",
       "      <td>0.150005</td>\n",
       "      <td>0.801294</td>\n",
       "      <td>hh0    I   dI\n",
       "0    -12.99880  0.0  ...</td>\n",
       "    </tr>\n",
       "  </tbody>\n",
       "</table>\n",
       "</div>"
      ],
      "text/plain": [
       "        filename  ...                                            spectra\n",
       "0  HH0_88631.txt  ...             hh0    I   dI\n",
       "0    -12.99880  0.0  ...\n",
       "1  HH0_88632.txt  ...             hh0    I   dI\n",
       "0    -12.99880  0.0  ...\n",
       "2  HH0_88633.txt  ...             hh0    I   dI\n",
       "0    -12.99880  0.0  ...\n",
       "3  HH0_88634.txt  ...             hh0    I   dI\n",
       "0    -12.99880  0.0  ...\n",
       "4  HH0_88635.txt  ...             hh0    I   dI\n",
       "0    -12.99880  0.0  ...\n",
       "\n",
       "[5 rows x 5 columns]"
      ]
     },
     "execution_count": 5,
     "metadata": {},
     "output_type": "execute_result"
    }
   ],
   "source": [
    "tempList = [None]*len(fieldInfo)# Preallocate list to store the data that will then be converted into a Pandas DataFrame\n",
    "for idx in range(len(fieldInfo)):# For each data file\n",
    "    filename = ''.join(['HH0_',str(fieldInfo['File #'][idx]),'.txt'])\n",
    "#     print(filename)\n",
    "    tempDF = pd.read_csv(filename,names=[\"hh0\",\"I\",\"dI\"],skiprows=2,delimiter=',')# Import data as a Pandas DataFrame\n",
    "    tempList[idx] = {'filename': filename,# Store into a dictionary, which is itself an element of dfList: the filename,\n",
    "                     'T (K)': fieldInfo['T (K)'][idx],# temperature,\n",
    "                     'H (T)': fieldInfo['H (T)'][idx],# value of magnetic field,\n",
    "                     'Proton charge': fieldInfo['Proton charge'][idx],# proton charge,\n",
    "                     'spectra': tempDF# and data,\n",
    "                     }\n",
    "linecut_f_raw = pd.DataFrame(tempList)# Convert the list of dictionaries into a Pandas DataFrame\n",
    "linecut_f_raw.head()# Show the resulting DataFrame"
   ]
  },
  {
   "cell_type": "code",
   "execution_count": 6,
   "metadata": {
    "Collapsed": "false",
    "hidden": true
   },
   "outputs": [],
   "source": [
    "del idx, tempPath, filename, tempList, tempDF# delete temporary variables after use "
   ]
  },
  {
   "cell_type": "code",
   "execution_count": 7,
   "metadata": {
    "Collapsed": "false",
    "hidden": true
   },
   "outputs": [
    {
     "data": {
      "text/html": [
       "<div>\n",
       "<style scoped>\n",
       "    .dataframe tbody tr th:only-of-type {\n",
       "        vertical-align: middle;\n",
       "    }\n",
       "\n",
       "    .dataframe tbody tr th {\n",
       "        vertical-align: top;\n",
       "    }\n",
       "\n",
       "    .dataframe thead th {\n",
       "        text-align: right;\n",
       "    }\n",
       "</style>\n",
       "<table border=\"1\" class=\"dataframe\">\n",
       "  <thead>\n",
       "    <tr style=\"text-align: right;\">\n",
       "      <th></th>\n",
       "      <th>hh0</th>\n",
       "      <th>I</th>\n",
       "      <th>dI</th>\n",
       "    </tr>\n",
       "  </thead>\n",
       "  <tbody>\n",
       "    <tr>\n",
       "      <th>180</th>\n",
       "      <td>-12.5487</td>\n",
       "      <td>0.0</td>\n",
       "      <td>0.0</td>\n",
       "    </tr>\n",
       "    <tr>\n",
       "      <th>181</th>\n",
       "      <td>-12.5462</td>\n",
       "      <td>0.0</td>\n",
       "      <td>0.0</td>\n",
       "    </tr>\n",
       "    <tr>\n",
       "      <th>182</th>\n",
       "      <td>-12.5437</td>\n",
       "      <td>0.0</td>\n",
       "      <td>0.0</td>\n",
       "    </tr>\n",
       "    <tr>\n",
       "      <th>183</th>\n",
       "      <td>-12.5412</td>\n",
       "      <td>0.0</td>\n",
       "      <td>0.0</td>\n",
       "    </tr>\n",
       "    <tr>\n",
       "      <th>184</th>\n",
       "      <td>-12.5388</td>\n",
       "      <td>0.0</td>\n",
       "      <td>0.0</td>\n",
       "    </tr>\n",
       "    <tr>\n",
       "      <th>185</th>\n",
       "      <td>-12.5363</td>\n",
       "      <td>0.0</td>\n",
       "      <td>0.0</td>\n",
       "    </tr>\n",
       "  </tbody>\n",
       "</table>\n",
       "</div>"
      ],
      "text/plain": [
       "         hh0    I   dI\n",
       "180 -12.5487  0.0  0.0\n",
       "181 -12.5462  0.0  0.0\n",
       "182 -12.5437  0.0  0.0\n",
       "183 -12.5412  0.0  0.0\n",
       "184 -12.5388  0.0  0.0\n",
       "185 -12.5363  0.0  0.0"
      ]
     },
     "execution_count": 7,
     "metadata": {},
     "output_type": "execute_result"
    }
   ],
   "source": [
    "linecut_f_raw['spectra'][3].loc[180:185]#.head()# Check the content of individual datasets after importation"
   ]
  },
  {
   "cell_type": "markdown",
   "metadata": {
    "Collapsed": "true",
    "heading_collapsed": true
   },
   "source": [
    "## Basic data processing\n",
    "Rescale data and remove \"bad\" data"
   ]
  },
  {
   "cell_type": "markdown",
   "metadata": {
    "Collapsed": "false",
    "hidden": true
   },
   "source": [
    "### Check consistency of dataframes"
   ]
  },
  {
   "cell_type": "markdown",
   "metadata": {
    "Collapsed": "false",
    "hidden": true
   },
   "source": [
    "#### <a name=\"hh0_consistency\"></a>Check that all hh0 data are the same within each dataframe\n",
    "i.e. that all hh0 of coarseData are the same and that all hh0 data of linecut_f_raw are the same"
   ]
  },
  {
   "cell_type": "code",
   "execution_count": 8,
   "metadata": {
    "Collapsed": "false",
    "hidden": true
   },
   "outputs": [],
   "source": [
    "nData_raw = [coarseData,linecut_f_raw]\n",
    "for data_idx in range(len(nData_raw)):# for each dataset\n",
    "    for _, row in nData_raw[data_idx].iterrows():# loop over all rows\n",
    "        if not np.array_equal(row.spectra.hh0,nData_raw[data_idx].spectra[0].hh0):\n",
    "        # and compare the array of hh0 of that row with that of the first row\n",
    "            print(row)# print the row if the two arrays are *not* equal\n",
    "            # should output nothing, which means that all arrays of hh0 are the same *within a dataset*"
   ]
  },
  {
   "cell_type": "markdown",
   "metadata": {
    "Collapsed": "false",
    "hidden": true
   },
   "source": [
    "#### Then check that hh0 data of coarseData differ from that of linecut_f_raw\n",
    "We do not need to loop over all rows since we have shown in the previous cell that all rows are the same within a dataset"
   ]
  },
  {
   "cell_type": "code",
   "execution_count": 9,
   "metadata": {
    "Collapsed": "false",
    "hidden": true
   },
   "outputs": [
    {
     "name": "stdout",
     "output_type": "stream",
     "text": [
      "The arrarys of hh0 are not the same in both datasets\n"
     ]
    }
   ],
   "source": [
    "if not np.array_equal(coarseData.spectra[0].hh0,linecut_f_raw.spectra[0].hh0):\n",
    "# compare the hh0 arrays of the first row of both datasets\n",
    "    print(\"The arrarys of hh0 are not the same in both datasets\")"
   ]
  },
  {
   "cell_type": "markdown",
   "metadata": {
    "Collapsed": "false",
    "hidden": true
   },
   "source": [
    "### Which datasets to analyze and how? \n",
    "\n",
    "#### Update 2020-04-06\n",
    "In fact, ignore the coarse dataset, as it will require a lot of efforts for a minimal result.\n",
    "More interesting would be to analyze the linecut_f dataset at each (hh0) peak position, for h = 6, 8, 10.\n",
    "\n",
    "##### Update 2020-04-03\n",
    "treat both datasets independently in terms of the plotting and fitting\n",
    "\n",
    "##### Outdated ideas\n",
    "involving treating both datasets together, which will make things more complicated, and therefore increases the risks of making errors, in addition to increasing the time required for the analysis:\n",
    "* interpolate spectra of coarseData so that its hh0 array is the same as that of linecut_f_raw\n",
    "* rescale the data, if there is a physical way to do it, otherwise simply treat both datasets separately"
   ]
  },
  {
   "cell_type": "markdown",
   "metadata": {
    "Collapsed": "false",
    "hidden": true
   },
   "source": [
    "### Truely \"deep\" copy of linecut_f\n",
    "such that linecut_f_raw will *not* be modified if lcf_copy is modified\n",
    "\n",
    "The best way to truely, i.e. recursively, deep copy a python object is to `pickle.dump` and `pickle.load` it. \n",
    "That is because `cPickle` is the fastest, as shown [here](https://stackoverflow.com/questions/1410615/copy-deepcopy-vs-pickle),  *and* **in Python 3**, `cPickle` is the default behavior of `pickle`, as explained [here](https://askubuntu.com/a/804618).\n",
    "See also hacks.ipynb, and [here](https://stackoverflow.com/questions/52708341/make-a-truly-deep-copy-of-a-pandas-series). "
   ]
  },
  {
   "cell_type": "code",
   "execution_count": 10,
   "metadata": {
    "Collapsed": "false",
    "hidden": true
   },
   "outputs": [
    {
     "data": {
      "text/html": [
       "<div>\n",
       "<style scoped>\n",
       "    .dataframe tbody tr th:only-of-type {\n",
       "        vertical-align: middle;\n",
       "    }\n",
       "\n",
       "    .dataframe tbody tr th {\n",
       "        vertical-align: top;\n",
       "    }\n",
       "\n",
       "    .dataframe thead th {\n",
       "        text-align: right;\n",
       "    }\n",
       "</style>\n",
       "<table border=\"1\" class=\"dataframe\">\n",
       "  <thead>\n",
       "    <tr style=\"text-align: right;\">\n",
       "      <th></th>\n",
       "      <th>filename</th>\n",
       "      <th>T (K)</th>\n",
       "      <th>H (T)</th>\n",
       "      <th>Proton charge</th>\n",
       "      <th>spectra</th>\n",
       "    </tr>\n",
       "  </thead>\n",
       "  <tbody>\n",
       "    <tr>\n",
       "      <th>0</th>\n",
       "      <td>HH0_88631.txt</td>\n",
       "      <td>0.605973</td>\n",
       "      <td>0.000000</td>\n",
       "      <td>1.312139</td>\n",
       "      <td>hh0    I   dI\n",
       "0    -12.99880  0.0  ...</td>\n",
       "    </tr>\n",
       "    <tr>\n",
       "      <th>1</th>\n",
       "      <td>HH0_88632.txt</td>\n",
       "      <td>0.613334</td>\n",
       "      <td>0.049998</td>\n",
       "      <td>0.800119</td>\n",
       "      <td>hh0    I   dI\n",
       "0    -12.99880  0.0  ...</td>\n",
       "    </tr>\n",
       "    <tr>\n",
       "      <th>2</th>\n",
       "      <td>HH0_88633.txt</td>\n",
       "      <td>0.605727</td>\n",
       "      <td>0.099996</td>\n",
       "      <td>0.083534</td>\n",
       "      <td>hh0    I   dI\n",
       "0    -12.99880  0.0  ...</td>\n",
       "    </tr>\n",
       "    <tr>\n",
       "      <th>3</th>\n",
       "      <td>HH0_88634.txt</td>\n",
       "      <td>0.625493</td>\n",
       "      <td>0.099996</td>\n",
       "      <td>0.800739</td>\n",
       "      <td>hh0    I   dI\n",
       "0    -12.99880  0.0  ...</td>\n",
       "    </tr>\n",
       "    <tr>\n",
       "      <th>4</th>\n",
       "      <td>HH0_88635.txt</td>\n",
       "      <td>0.618220</td>\n",
       "      <td>0.150005</td>\n",
       "      <td>0.801294</td>\n",
       "      <td>hh0    I   dI\n",
       "0    -12.99880  0.0  ...</td>\n",
       "    </tr>\n",
       "  </tbody>\n",
       "</table>\n",
       "</div>"
      ],
      "text/plain": [
       "        filename  ...                                            spectra\n",
       "0  HH0_88631.txt  ...             hh0    I   dI\n",
       "0    -12.99880  0.0  ...\n",
       "1  HH0_88632.txt  ...             hh0    I   dI\n",
       "0    -12.99880  0.0  ...\n",
       "2  HH0_88633.txt  ...             hh0    I   dI\n",
       "0    -12.99880  0.0  ...\n",
       "3  HH0_88634.txt  ...             hh0    I   dI\n",
       "0    -12.99880  0.0  ...\n",
       "4  HH0_88635.txt  ...             hh0    I   dI\n",
       "0    -12.99880  0.0  ...\n",
       "\n",
       "[5 rows x 5 columns]"
      ]
     },
     "execution_count": 10,
     "metadata": {},
     "output_type": "execute_result"
    }
   ],
   "source": [
    "lcf_copy = pickle.loads(pickle.dumps(linecut_f_raw))# fastest python hack to create a truely deep copy\n",
    "# lcf stands for linecut_f, which is the name of the file from which the data was imported\n",
    "# idx = 5\n",
    "lcf_copy.head()#.loc[idx:idx+10]"
   ]
  },
  {
   "cell_type": "markdown",
   "metadata": {
    "Collapsed": "false",
    "hidden": true
   },
   "source": [
    "### Data rescaling\n",
    "This used to be done manually, after noticing that the intensity of the data at 0T was higher than that of the rest of the data. A factor of 0.635 was then used to rescale this spectrum to the level of other data. \n",
    "However, after getting the up-to-date data, it appears that the scaling factor is merely the proton charge, which is a proxy for the counting time of neutrons. With this information, it turns out that the ratio of Proton charges of the spectrum at 0T and that at 0.05T is 1.3 to 0.8. The rescaling factor of the former is thus 0.8/1.3=0.615. Hence the empirical value of 0.635 was a pretty good guess!"
   ]
  },
  {
   "cell_type": "code",
   "execution_count": 11,
   "metadata": {
    "Collapsed": "false",
    "hidden": true
   },
   "outputs": [
    {
     "data": {
      "text/html": [
       "<div>\n",
       "<style scoped>\n",
       "    .dataframe tbody tr th:only-of-type {\n",
       "        vertical-align: middle;\n",
       "    }\n",
       "\n",
       "    .dataframe tbody tr th {\n",
       "        vertical-align: top;\n",
       "    }\n",
       "\n",
       "    .dataframe thead th {\n",
       "        text-align: right;\n",
       "    }\n",
       "</style>\n",
       "<table border=\"1\" class=\"dataframe\">\n",
       "  <thead>\n",
       "    <tr style=\"text-align: right;\">\n",
       "      <th></th>\n",
       "      <th>hh0</th>\n",
       "      <th>I</th>\n",
       "      <th>dI</th>\n",
       "      <th>Inorm</th>\n",
       "      <th>dInorm</th>\n",
       "    </tr>\n",
       "  </thead>\n",
       "  <tbody>\n",
       "    <tr>\n",
       "      <th>1200</th>\n",
       "      <td>-9.99875</td>\n",
       "      <td>1261600.0</td>\n",
       "      <td>94684.7</td>\n",
       "      <td>9.614833e+05</td>\n",
       "      <td>72160.557743</td>\n",
       "    </tr>\n",
       "    <tr>\n",
       "      <th>1201</th>\n",
       "      <td>-9.99625</td>\n",
       "      <td>1230390.0</td>\n",
       "      <td>98819.2</td>\n",
       "      <td>9.376977e+05</td>\n",
       "      <td>75311.519049</td>\n",
       "    </tr>\n",
       "    <tr>\n",
       "      <th>1202</th>\n",
       "      <td>-9.99375</td>\n",
       "      <td>1448420.0</td>\n",
       "      <td>109920.0</td>\n",
       "      <td>1.103862e+06</td>\n",
       "      <td>83771.596753</td>\n",
       "    </tr>\n",
       "    <tr>\n",
       "      <th>1203</th>\n",
       "      <td>-9.99125</td>\n",
       "      <td>2141070.0</td>\n",
       "      <td>124810.0</td>\n",
       "      <td>1.631740e+06</td>\n",
       "      <td>95119.477718</td>\n",
       "    </tr>\n",
       "    <tr>\n",
       "      <th>1204</th>\n",
       "      <td>-9.98875</td>\n",
       "      <td>2560080.0</td>\n",
       "      <td>141466.0</td>\n",
       "      <td>1.951073e+06</td>\n",
       "      <td>107813.252422</td>\n",
       "    </tr>\n",
       "    <tr>\n",
       "      <th>1205</th>\n",
       "      <td>-9.98625</td>\n",
       "      <td>4044660.0</td>\n",
       "      <td>169302.0</td>\n",
       "      <td>3.082493e+06</td>\n",
       "      <td>129027.464278</td>\n",
       "    </tr>\n",
       "  </tbody>\n",
       "</table>\n",
       "</div>"
      ],
      "text/plain": [
       "          hh0          I        dI         Inorm         dInorm\n",
       "1200 -9.99875  1261600.0   94684.7  9.614833e+05   72160.557743\n",
       "1201 -9.99625  1230390.0   98819.2  9.376977e+05   75311.519049\n",
       "1202 -9.99375  1448420.0  109920.0  1.103862e+06   83771.596753\n",
       "1203 -9.99125  2141070.0  124810.0  1.631740e+06   95119.477718\n",
       "1204 -9.98875  2560080.0  141466.0  1.951073e+06  107813.252422\n",
       "1205 -9.98625  4044660.0  169302.0  3.082493e+06  129027.464278"
      ]
     },
     "execution_count": 11,
     "metadata": {},
     "output_type": "execute_result"
    }
   ],
   "source": [
    "##### Rescale data according to their Proton charge\n",
    "for idx, row in lcf_copy.iterrows():\n",
    "    row.spectra['Inorm'] = row.spectra.I/row['Proton charge']\n",
    "    row.spectra['dInorm'] = row.spectra.dI/row['Proton charge']\n",
    "#     print(idx, row['spectra']['I'])\n",
    "idx = 1200# index that allows to look at data close to the (10 10 0) peak\n",
    "lcf_copy.spectra[0].loc[idx:idx+5]# check one of the resulting dataframes"
   ]
  },
  {
   "cell_type": "markdown",
   "metadata": {
    "Collapsed": "false",
    "hidden": true
   },
   "source": [
    "### Find bad data, if any\n",
    "#### Identify datasets with zero intensity and create a new \"clean\" dataset without bad data"
   ]
  },
  {
   "cell_type": "code",
   "execution_count": 12,
   "metadata": {
    "Collapsed": "false",
    "hidden": true
   },
   "outputs": [
    {
     "name": "stdout",
     "output_type": "stream",
     "text": [
      "84\n"
     ]
    }
   ],
   "source": [
    "lcf_clean = lcf_copy.copy()\n",
    "# this is a deepcopy according to Pandas, which is only deep at the lowest order, i.e. not recursively\n",
    "for idx, row in lcf_copy.iterrows():# loop over all spectra\n",
    "    if not np.any(row.spectra.Inorm>0):# if any spectrum has a constant zero intensity\n",
    "        lcf_clean = lcf_copy.drop(idx)\n",
    "        print(idx)# output the row index of lcf_copy containing empty data\n",
    "# lcf_copy.spectra[0].Inorm"
   ]
  },
  {
   "cell_type": "markdown",
   "metadata": {
    "Collapsed": "false",
    "hidden": true
   },
   "source": [
    "### Change default plotting parameters\n",
    "see https://matplotlib.org/3.1.0/api/_as_gen/matplotlib.pyplot.figure.html"
   ]
  },
  {
   "cell_type": "code",
   "execution_count": 13,
   "metadata": {
    "Collapsed": "false",
    "hidden": true
   },
   "outputs": [],
   "source": [
    "%matplotlib qt\n",
    "# plot figures in external window"
   ]
  },
  {
   "cell_type": "code",
   "execution_count": 14,
   "metadata": {
    "Collapsed": "false",
    "hidden": true
   },
   "outputs": [],
   "source": [
    "rcParams[\"figure.figsize\"] = np.multiply([6.4, 4.8],0.5)# default is [6.4, 4.8]"
   ]
  },
  {
   "cell_type": "markdown",
   "metadata": {
    "Collapsed": "false",
    "hidden": true
   },
   "source": [
    "### Batch plot the rest of the spectra to identify other potential bad data"
   ]
  },
  {
   "cell_type": "markdown",
   "metadata": {
    "Collapsed": "false",
    "hidden": true
   },
   "source": [
    "##### Plot spectra by groups of nSpec\n",
    "to see if any spectrum differs from the others.\n",
    "This method may fail if there are more than nSpec bad consecutive spectra. Hence nSpec should not be too small (5 or more should be good)"
   ]
  },
  {
   "cell_type": "code",
   "execution_count": 15,
   "metadata": {
    "Collapsed": "false",
    "hidden": true
   },
   "outputs": [],
   "source": [
    "nSpec = 7# number of curves in each plot\n",
    "nfig = len(lcf_clean)//nSpec+1\n",
    "fig = [None]*(nfig)\n",
    "lgd = [None]*(nfig)\n",
    "for fidx in range(1):#range(nfig):\n",
    "    fig[fidx] = plt.figure()\n",
    "    ax = fig[fidx].add_subplot(1,1,1)\n",
    "    for pidx in range(nSpec*fidx,nSpec*(fidx+1)):\n",
    "        try:\n",
    "            plt.plot(lcf_clean.spectra[pidx].hh0,lcf_clean.spectra[pidx].Inorm,\\\n",
    "                     label=f\"{pidx}, {lcf_clean['H (T)'][pidx]:.2f}\")\n",
    "        except KeyError:# if the index of data to be plotted does not exist\n",
    "            continue# ignore and carry on to the next one\n",
    "    plt.xlim(-10.25,-5.75)\n",
    "    lgd[fidx] = ax.legend(title='Index, H (T)')\n",
    "    lgd[fidx].set_draggable(True)\n",
    "    plt.show()# ensures that all windows come to the foreground"
   ]
  },
  {
   "cell_type": "markdown",
   "metadata": {
    "Collapsed": "false",
    "hidden": true
   },
   "source": [
    "##### Notes --- 2020-04-07\n",
    "* After plotting all spectra together, it appears that only spectra #2 and #85 are \"bad\": the former is very noisy (not too surprising given that its Proton charge is 1/10 of the other data) and the latter has a lower intensity than the other spectra (for an unknown reason).\n",
    "* Both those bad spectra were identified during the measurement, such that another (good) spectrum was measured at both values of magnetic field at which those bad spectra had been measured. Concretely, spectrum #2 was measured at 0.1T and #85 at 0.865T but are bad. Spectra #3 and #104 were also measured at 0.1T and 0.865T, respectively, and are good. Hence, the two bad spectra should just be discarded, there is no reason to try and process them in order to try and make them good: first because there is no way of making good data out of bad data (bad data is just bad data), so it would be a waste of time, and potentially a lot of time, but it would also be complicated, and because the result cannot be good, it can only influence the result of the subsequent fits in a bad way, thus inducing distrust on the results obtained over the whole dataset instead of just two spectra. Bottom line: discard spectra #2 and #85."
   ]
  },
  {
   "cell_type": "markdown",
   "metadata": {
    "Collapsed": "false",
    "hidden": true
   },
   "source": [
    "### Remove bad data \n",
    "as identified in batch plotting"
   ]
  },
  {
   "cell_type": "code",
   "execution_count": 16,
   "metadata": {
    "Collapsed": "false",
    "hidden": true
   },
   "outputs": [],
   "source": [
    "delRowIdx = [2,85]# index of data to remove\n",
    "lcf_clean.drop(delRowIdx,inplace=True)"
   ]
  },
  {
   "cell_type": "markdown",
   "metadata": {
    "Collapsed": "false",
    "hidden": true
   },
   "source": [
    "### Final clean dataset\n",
    "#### Sorted by value of magnetic field"
   ]
  },
  {
   "cell_type": "code",
   "execution_count": 17,
   "metadata": {
    "Collapsed": "false",
    "hidden": true
   },
   "outputs": [],
   "source": [
    "nData = lcf_clean.sort_values(by=['H (T)'],ignore_index=True)\n",
    "# lcf_clean.head()# nData stands for \"neutrons Data\""
   ]
  },
  {
   "cell_type": "markdown",
   "metadata": {
    "Collapsed": "false",
    "hidden": true
   },
   "source": [
    "#### Plot a couple of ENS spectra (ignore after done once)\n",
    "to check consistency between spectra before fitting"
   ]
  },
  {
   "cell_type": "raw",
   "metadata": {
    "Collapsed": "false",
    "hidden": true
   },
   "source": [
    "# Change cell to Raw type in order to avoid running inadvertantly\n",
    "plt.cla()\n",
    "for idx in range(2):\n",
    "    plt.plot(nData.spectra[idx].hh0,nData.spectra[idx].Inorm)"
   ]
  },
  {
   "cell_type": "markdown",
   "metadata": {
    "Collapsed": "true",
    "heading_collapsed": true,
    "hidden": true
   },
   "source": [
    "### Plot entire dataset in 3D\n",
    "as spectrum normalized intensity 'Inorm' vs position in reciprocal space 'hh0' and magnetic field 'H (T)', to check that the field dependence of the data is consistent.\n",
    "#### Ignore after done once\n",
    "Change cells to Raw type in order to avoid running inadvertantly"
   ]
  },
  {
   "cell_type": "markdown",
   "metadata": {
    "Collapsed": "false",
    "hidden": true
   },
   "source": [
    "#### First plot individual spectra in a 3D space"
   ]
  },
  {
   "cell_type": "raw",
   "metadata": {
    "Collapsed": "false",
    "hidden": true
   },
   "source": [
    "fig = plt.figure()\n",
    "ax = plt.axes(projection=\"3d\")\n",
    "for i in range(len(nData)):\n",
    "    H = np.ones(np.shape(nData.spectra[i].hh0))*nData['H (T)'][i]\n",
    "    ax.plot3D(nData.spectra[i].hh0,H,nData.spectra[i].Inorm)\n",
    "del H"
   ]
  },
  {
   "cell_type": "markdown",
   "metadata": {
    "Collapsed": "false",
    "hidden": true
   },
   "source": [
    "#### Then plot 3D color map\n",
    "##### Create meshgrid for 3D color map\n",
    "The mesh can safely be created using hh0 data from the dataset measured at any value of magnetic field, since we've shown [that all hh0 data are the same within the linecut_f dataframe](#hh0_consistency)"
   ]
  },
  {
   "cell_type": "raw",
   "metadata": {
    "Collapsed": "false",
    "hidden": true
   },
   "source": [
    "idx = 0# first dataset, but any row index of nData would do\n",
    "hh0mesh, Hmesh = np.meshgrid(nData.spectra[idx].hh0, nData['H (T)'])\n",
    "hh0lin = hh0mesh.reshape(np.size(hh0mesh))\n",
    "Hlin = Hmesh.reshape(np.size(Hmesh))"
   ]
  },
  {
   "cell_type": "markdown",
   "metadata": {
    "Collapsed": "false",
    "hidden": true
   },
   "source": [
    "##### Create the 2D array that contains the intensity data"
   ]
  },
  {
   "cell_type": "raw",
   "metadata": {
    "Collapsed": "false",
    "hidden": true
   },
   "source": [
    "Imesh = np.stack([nData.spectra[idx].Inorm for idx in range(len(nData))],axis=0)# for mesh\n",
    "Ilin = np.hstack([nData.spectra[idx].Inorm for idx in range(len(nData))])# for griddata"
   ]
  },
  {
   "cell_type": "markdown",
   "metadata": {
    "Collapsed": "false",
    "hidden": true
   },
   "source": [
    "##### Plot the hh0mesh and Hmesh data to see how irregular they are"
   ]
  },
  {
   "cell_type": "raw",
   "metadata": {
    "Collapsed": "false",
    "hidden": true
   },
   "source": [
    "fig = plt.figure()\n",
    "ax = fig.add_subplot(1,1,1)\n",
    "step = 50\n",
    "ax.scatter(hh0mesh[:,::step], Hmesh[:,::step], marker=\".\",s=1)\n",
    "ax.set_xlabel('hh0')\n",
    "ax.set_ylabel('H')\n",
    "plt.show()"
   ]
  },
  {
   "cell_type": "markdown",
   "metadata": {
    "Collapsed": "false",
    "hidden": true
   },
   "source": [
    "##### Conclusion\n",
    "The hh0 data looks pretty regular, however the magnetic field data is not\n",
    "##### Update\n",
    "That should not prevent from plotting in 3D"
   ]
  },
  {
   "cell_type": "markdown",
   "metadata": {
    "Collapsed": "false",
    "hidden": true
   },
   "source": [
    "#### Use griddata to interpolate the intensity data over a regular array"
   ]
  },
  {
   "cell_type": "raw",
   "metadata": {
    "Collapsed": "false",
    "hidden": true
   },
   "source": [
    "Hrange = np.arange(0,1.5,0.005)# regular array of magnetic field values to interpolate on\n",
    "hh0meshInterp, HmeshInterp = np.meshgrid(nData.spectra[idx].hh0, Hrange)# meshgrid for interpolated data\n",
    "Iinterp = griddata(np.array([hh0lin, Hlin]).T, Ilin, (hh0meshInterp, HmeshInterp), method='linear')"
   ]
  },
  {
   "cell_type": "markdown",
   "metadata": {
    "Collapsed": "false",
    "hidden": true
   },
   "source": [
    "#### Plot 3D surface\n",
    "Note: Matplotlib does not do a very good job of plotting the 3D surface when the xlim is not adapted to the range of the data and when there is noise in the data: in our case, it looks like spectra are plotted individually rather than as a continuous surface. When zooming on each peak, the surface looks a little better. Perhaps look for a better 3D visualization tool."
   ]
  },
  {
   "cell_type": "raw",
   "metadata": {
    "Collapsed": "false",
    "hidden": true
   },
   "source": [
    "fig = plt.figure()\n",
    "ax = fig.gca(projection='3d')\n",
    "mesh_select = np.logical_and(hh0mesh > -10.1, hh0mesh < -9.9)\n",
    "# surf = ax.plot_surface(np.where(mesh_select,hh0mesh,np.nan),\n",
    "#                        np.where(mesh_select,Hmesh,np.nan),\n",
    "#                        np.where(mesh_select,Imesh,np.nan),\n",
    "#                        cmap=cm.coolwarm,\n",
    "#                        linewidth=0, antialiased=False)\n",
    "surf = ax.plot_surface(hh0mesh,Hmesh,Imesh, cmap=cm.rainbow)\n",
    "# surf = ax.plot_surface(hh0meshInterp,HmeshInterp,Iinterp, cmap=cm.coolwarm)\n",
    "# ax.zaxis.set_major_locator(LinearLocator(10))\n",
    "# ax.zaxis.set_major_formatter(FormatStrFormatter('%.2g'))\n",
    "plt.xlim(-10.1, -9.9)\n",
    "# Add a color bar which maps values to colors.\n",
    "fig.colorbar(surf, shrink=0.5, aspect=5)\n",
    "plt.show()"
   ]
  },
  {
   "cell_type": "markdown",
   "metadata": {
    "Collapsed": "false",
    "hidden": true
   },
   "source": [
    "#### Matplotlib example of 3D surface plotting"
   ]
  },
  {
   "cell_type": "raw",
   "metadata": {
    "Collapsed": "false",
    "hidden": true
   },
   "source": [
    "fig = plt.figure()\n",
    "ax = fig.gca(projection='3d')\n",
    "\n",
    "# Make data.\n",
    "X = np.arange(-5, 5, 0.25)\n",
    "Y = np.arange(-5, 5, 0.25)\n",
    "X, Y = np.meshgrid(X, Y)\n",
    "R = np.sqrt(X**2 + Y**2)\n",
    "Z = np.sin(R)\n",
    "\n",
    "# Plot the surface.\n",
    "surf = ax.plot_surface(X, Y, Z, cmap=cm.coolwarm,\n",
    "                       linewidth=0, antialiased=False)"
   ]
  },
  {
   "cell_type": "markdown",
   "metadata": {
    "Collapsed": "true",
    "heading_collapsed": true
   },
   "source": [
    "## Fit individual dataset above Hc"
   ]
  },
  {
   "cell_type": "markdown",
   "metadata": {
    "Collapsed": "true",
    "heading_collapsed": true,
    "hidden": true
   },
   "source": [
    "### Define fit functions"
   ]
  },
  {
   "cell_type": "code",
   "execution_count": 31,
   "metadata": {
    "Collapsed": "false",
    "hidden": true
   },
   "outputs": [],
   "source": [
    "def plot_fit_result(x, y, fitresult):\n",
    "    \"\"\"\n",
    "    Plot result of fit using an lmfit Model object\n",
    "    \"\"\"\n",
    "    fig = plt.figure()\n",
    "    plt.plot(x, y, 'bo')\n",
    "    plt.plot(x, fitresult.init_fit, 'k--', label='initial fit')\n",
    "    plt.plot(x, fitresult.best_fit, 'r-', label='best fit')\n",
    "    plt.legend(loc='best')\n",
    "    plt.show()\n",
    "    "
   ]
  },
  {
   "cell_type": "markdown",
   "metadata": {
    "Collapsed": "true",
    "hidden": true
   },
   "source": [
    "#### Attempt to an iteration callback function\n",
    "Does not work as of 2020-04-14"
   ]
  },
  {
   "cell_type": "code",
   "execution_count": 35,
   "metadata": {
    "Collapsed": "false",
    "hidden": true
   },
   "outputs": [],
   "source": [
    "def iter_func(params, iter_num, resid, x):\n",
    "    print(iter_num)\n",
    "    return True"
   ]
  },
  {
   "cell_type": "markdown",
   "metadata": {
    "Collapsed": "true",
    "heading_collapsed": true,
    "hidden": true
   },
   "source": [
    "### Fit example adapted from the lmfit documentation \n",
    "(section \"Modeling Data and Curve Fitting)"
   ]
  },
  {
   "cell_type": "code",
   "execution_count": 30,
   "metadata": {
    "Collapsed": "false",
    "hidden": true
   },
   "outputs": [
    {
     "name": "stdout",
     "output_type": "stream",
     "text": [
      "parameter names: ['amp', 'cen', 'wid']\n",
      "independent variables: ['x']\n"
     ]
    },
    {
     "data": {
      "text/html": [
       "<table><tr><th> name </th><th> value </th><th> initial value </th><th> min </th><th> max </th><th> vary </th></tr><tr><td> amp </td><td>  20.0000000 </td><td> None </td><td>        -inf </td><td>         inf </td><td> True </td></tr><tr><td> cen </td><td>  5.00000000 </td><td> None </td><td>        -inf </td><td>         inf </td><td> True </td></tr><tr><td> wid </td><td>  1.00000000 </td><td> None </td><td>        -inf </td><td>         inf </td><td> True </td></tr></table>"
      ],
      "text/plain": [
       "Parameters([('amp', <Parameter 'amp', value=20, bounds=[-inf:inf]>),\n",
       "            ('cen', <Parameter 'cen', value=5, bounds=[-inf:inf]>),\n",
       "            ('wid', <Parameter 'wid', value=1, bounds=[-inf:inf]>)])"
      ]
     },
     "execution_count": 30,
     "metadata": {},
     "output_type": "execute_result"
    }
   ],
   "source": [
    "def gaussian(x, amp, cen, wid):\n",
    "    return amp * np.exp(-(x-cen)**2 / wid)\n",
    "gmodel = Model(gaussian)\n",
    "print('parameter names: {}'.format(gmodel.param_names))\n",
    "print('independent variables: {}'.format(gmodel.independent_vars))\n",
    "gparams = gmodel.make_params(cen=5, amp=20, wid=1)\n",
    "gparams"
   ]
  },
  {
   "cell_type": "code",
   "execution_count": 31,
   "metadata": {
    "Collapsed": "false",
    "hidden": true
   },
   "outputs": [
    {
     "name": "stdout",
     "output_type": "stream",
     "text": [
      "[[Model]]\n",
      "    Model(gaussian)\n",
      "[[Fit Statistics]]\n",
      "    # fitting method   = leastsq\n",
      "    # function evals   = 17\n",
      "    # data points      = 101\n",
      "    # variables        = 3\n",
      "    chi-square         = 8.43330605\n",
      "    reduced chi-square = 0.08605414\n",
      "    Akaike info crit   = -244.776096\n",
      "    Bayesian info crit = -236.930735\n",
      "[[Variables]]\n",
      "    amp:  19.9229410 +/- 0.10155032 (0.51%) (init = 5)\n",
      "    cen:  4.99454353 +/- 0.00415645 (0.08%) (init = 5)\n",
      "    wid:  0.99742555 +/- 0.01174109 (1.18%) (init = 1)\n",
      "[[Correlations]] (unreported correlations are < 0.100)\n",
      "    C(amp, wid) = -0.577\n"
     ]
    }
   ],
   "source": [
    "x = np.linspace(0,10,101)\n",
    "noise = np.random.rand(101)-0.5\n",
    "y = gaussian(x,amp=20,cen=5,wid=1)+noise\n",
    "# fig = plt.figure()\n",
    "# plt.plot(x, y)\n",
    "# plt.show()\n",
    "result = gmodel.fit(y, x=x, amp=5, cen=5, wid=1)\n",
    "print(result.fit_report())\n",
    "plot_fit_result(x, y, result)"
   ]
  },
  {
   "cell_type": "markdown",
   "metadata": {
    "Collapsed": "false",
    "heading_collapsed": true,
    "hidden": true
   },
   "source": [
    "### General parameters for our problem"
   ]
  },
  {
   "cell_type": "code",
   "execution_count": 34,
   "metadata": {
    "Collapsed": "false",
    "hidden": true
   },
   "outputs": [],
   "source": [
    "peak_center = -8.0# center of unsplit peak to be studied in the following, in reciprocal space units\n",
    "npeak_interval = .15# half of plot interval\n",
    "Hc_0 = 0.51# value in Tesla units of the critical field at zero temperature\n",
    "# in the absence of demagnetizing factor\n",
    "# see data taken on needles of TmVO4-LS5200 in July 2017"
   ]
  },
  {
   "cell_type": "markdown",
   "metadata": {
    "Collapsed": "false",
    "hidden": true
   },
   "source": [
    "### Single-peak fit with single pVIC function on single spectrum\n",
    "measured above Hc, where the peaks are unsplit"
   ]
  },
  {
   "cell_type": "markdown",
   "metadata": {
    "Collapsed": "true",
    "hidden": true
   },
   "source": [
    "#### Select data"
   ]
  },
  {
   "cell_type": "code",
   "execution_count": 37,
   "metadata": {
    "Collapsed": "false",
    "hidden": true
   },
   "outputs": [
    {
     "data": {
      "text/plain": [
       "1940   -8.14875\n",
       "1941   -8.14625\n",
       "1942   -8.14375\n",
       "1943   -8.14125\n",
       "1944   -8.13875\n",
       "Name: hh0, dtype: float64"
      ]
     },
     "execution_count": 37,
     "metadata": {},
     "output_type": "execute_result"
    }
   ],
   "source": [
    "dat_idx = 100\n",
    "data_select = np.logical_and(nData.spectra[dat_idx].hh0 > peak_center - npeak_interval, \n",
    "                             nData.spectra[dat_idx].hh0 < peak_center + npeak_interval)\n",
    "X = nData.spectra[dat_idx].hh0[data_select]# select data for first fit\n",
    "Yfitdata = nData.spectra[dat_idx].Inorm[data_select]\n",
    "X.head()"
   ]
  },
  {
   "cell_type": "markdown",
   "metadata": {
    "Collapsed": "false",
    "hidden": true
   },
   "source": [
    "#### Perform fit with Gaussian model as a first try"
   ]
  },
  {
   "cell_type": "code",
   "execution_count": 33,
   "metadata": {
    "Collapsed": "false",
    "hidden": true
   },
   "outputs": [
    {
     "name": "stdout",
     "output_type": "stream",
     "text": [
      "[[Model]]\n",
      "    Model(gaussian)\n",
      "[[Fit Statistics]]\n",
      "    # fitting method   = leastsq\n",
      "    # function evals   = 33\n",
      "    # data points      = 120\n",
      "    # variables        = 3\n",
      "    chi-square         = 2.6305e+12\n",
      "    reduced chi-square = 2.2483e+10\n",
      "    Akaike info crit   = 2863.28327\n",
      "    Bayesian info crit = 2871.64575\n",
      "[[Variables]]\n",
      "    amp:  4232624.39 +/- 61044.4590 (1.44%) (init = 4000000)\n",
      "    cen: -7.99724868 +/- 2.1258e-04 (0.00%) (init = -8)\n",
      "    wid:  3.2588e-04 +/- 1.0854e-05 (3.33%) (init = 0.001)\n",
      "[[Correlations]] (unreported correlations are < 0.100)\n",
      "    C(amp, wid) = -0.577\n"
     ]
    }
   ],
   "source": [
    "np.seterr(all='warn')# Set how floating-point errors are handled\n",
    "# Setting warnings will help identify computation issues that may result in an unsuccessful fitting procedure\n",
    "ngparams = gmodel.make_params(cen=peak_center, amp=4e6, wid=1e-3)\n",
    "# Yeval = gmodel.eval(ngparams,x=X)# evaluate model using initial parameters\n",
    "result = gmodel.fit(data=Yfitdata, params=ngparams, x=X)\n",
    "print(result.fit_report())\n",
    "plot_fit_result(X, Yfitdata, result)"
   ]
  },
  {
   "cell_type": "markdown",
   "metadata": {
    "Collapsed": "false",
    "hidden": true
   },
   "source": [
    "#### Single pVIC fit model"
   ]
  },
  {
   "cell_type": "markdown",
   "metadata": {
    "Collapsed": "false",
    "hidden": true
   },
   "source": [
    "##### Make model from fit function"
   ]
  },
  {
   "cell_type": "code",
   "execution_count": 32,
   "metadata": {
    "Collapsed": "false",
    "hidden": true
   },
   "outputs": [
    {
     "name": "stdout",
     "output_type": "stream",
     "text": [
      "parameter names: ['A', 'alpha', 'beta', 'R', 'gamma', 'sigma', 'k', 'xp']\n",
      "independent variables: ['x']\n"
     ]
    }
   ],
   "source": [
    "from ENS_peak_fit_pVIC_py.pseudoVoigtIkedaCarpenter import pVIC, xpVIC_residual, xpVIC_init_prm\n",
    "pvic_model = Model(pVIC)# create Model object from the lmfit module\n",
    "print(f'parameter names: {pvic_model.param_names}')\n",
    "print(f'independent variables: {pvic_model.independent_vars}')"
   ]
  },
  {
   "cell_type": "markdown",
   "metadata": {
    "Collapsed": "false",
    "hidden": true
   },
   "source": [
    "#### Fit parameters\n",
    "##### Create fit parameters and specify their properties\n",
    "including initial values, constraints, etc."
   ]
  },
  {
   "cell_type": "code",
   "execution_count": 35,
   "metadata": {
    "Collapsed": "false",
    "hidden": true
   },
   "outputs": [
    {
     "data": {
      "text/html": [
       "<table><tr><th> name </th><th> value </th><th> initial value </th><th> min </th><th> max </th><th> vary </th></tr><tr><td> A </td><td>  200000.000 </td><td> None </td><td>  0.00000000 </td><td>         inf </td><td> True </td></tr><tr><td> alpha </td><td>  140.000000 </td><td> None </td><td>  0.00000000 </td><td>         inf </td><td> True </td></tr><tr><td> beta </td><td>  1.0000e-03 </td><td> None </td><td>  0.00000000 </td><td>         inf </td><td> True </td></tr><tr><td> R </td><td>  1.0000e-03 </td><td> None </td><td>  0.00000000 </td><td>         inf </td><td> True </td></tr><tr><td> gamma </td><td>  1.0000e-03 </td><td> None </td><td>  0.00000000 </td><td>         inf </td><td> True </td></tr><tr><td> sigma </td><td>  0.00660000 </td><td> None </td><td>  0.00000000 </td><td>         inf </td><td> True </td></tr><tr><td> k </td><td>  0.05000000 </td><td> None </td><td>  0.00000000 </td><td>         inf </td><td> False </td></tr><tr><td> xp </td><td> -8.00000000 </td><td> None </td><td>        -inf </td><td>         inf </td><td> True </td></tr></table>"
      ],
      "text/plain": [
       "Parameters([('A', <Parameter 'A', value=200000.0, bounds=[0:inf]>),\n",
       "            ('alpha', <Parameter 'alpha', value=140, bounds=[0:inf]>),\n",
       "            ('beta', <Parameter 'beta', value=0.001, bounds=[0:inf]>),\n",
       "            ('R', <Parameter 'R', value=0.001, bounds=[0:inf]>),\n",
       "            ('gamma', <Parameter 'gamma', value=0.001, bounds=[0:inf]>),\n",
       "            ('sigma', <Parameter 'sigma', value=0.0066, bounds=[0:inf]>),\n",
       "            ('k', <Parameter 'k', value=0.05 (fixed), bounds=[0:inf]>),\n",
       "            ('xp', <Parameter 'xp', value=-8.0, bounds=[-inf:inf]>)])"
      ]
     },
     "execution_count": 35,
     "metadata": {},
     "output_type": "execute_result"
    }
   ],
   "source": [
    "pvic_params = pvic_model.make_params(A=2e5, alpha=140, beta=1e-3, R=1e-3, \n",
    "                                     gamma=1e-3, sigma=6.6e-3, k=.05, xp=peak_center)\n",
    "# Yfitdata = nData.spectra[0].Inorm\n",
    "# pvic_params = pvic_model.guess(Yfitdata)# returns NotImplementedError\n",
    "for k in pvic_params.keys():\n",
    "    pvic_params[k].set(min=0, vary=True)\n",
    "#     pvic_params[k].init_value = pvic_params[k].value\n",
    "#     print(k)\n",
    "pvic_params['xp'].set(min=-np.inf)\n",
    "pvic_params['k'].vary = False\n",
    "pvic_params"
   ]
  },
  {
   "cell_type": "markdown",
   "metadata": {
    "Collapsed": "true",
    "hidden": true
   },
   "source": [
    "#### Evaluate fit function"
   ]
  },
  {
   "cell_type": "code",
   "execution_count": 38,
   "metadata": {
    "Collapsed": "false",
    "hidden": true
   },
   "outputs": [],
   "source": [
    "np.seterr(all='warn')# Set how floating-point errors are handled\n",
    "Yeval = pvic_model.eval(pvic_params,x=X)# evaluate model using initial parameters\n",
    "fig = plt.figure()\n",
    "plt.plot(X,Yeval)\n",
    "plt.plot(X,Yfitdata)\n",
    "plt.show()"
   ]
  },
  {
   "cell_type": "markdown",
   "metadata": {
    "Collapsed": "true",
    "hidden": true
   },
   "source": [
    "#### Next steps as of 2020-04-14\n",
    "* Play with values of beta to get best fit result; in particular, let beta vary (with max value of 800?)\n",
    "* Is there a way to output the adjusted R**2 of the fit?"
   ]
  },
  {
   "cell_type": "markdown",
   "metadata": {
    "Collapsed": "false",
    "hidden": true
   },
   "source": [
    "#### Narrowing down the number of free parameters"
   ]
  },
  {
   "cell_type": "markdown",
   "metadata": {
    "Collapsed": "false",
    "hidden": true
   },
   "source": [
    "##### 7 free parameters\n",
    "all but k"
   ]
  },
  {
   "cell_type": "code",
   "execution_count": 124,
   "metadata": {
    "Collapsed": "false",
    "hidden": true
   },
   "outputs": [
    {
     "name": "stdout",
     "output_type": "stream",
     "text": [
      "[[Model]]\n",
      "    Model(pVIC)\n",
      "[[Fit Statistics]]\n",
      "    # fitting method   = leastsq\n",
      "    # function evals   = 95\n",
      "    # data points      = 120\n",
      "    # variables        = 5\n",
      "    chi-square         = 3.3204e+11\n",
      "    reduced chi-square = 2.8873e+09\n",
      "    Akaike info crit   = 2618.92465\n",
      "    Bayesian info crit = 2632.86211\n",
      "[[Variables]]\n",
      "    A:      139800.679 +/- 1060.80779 (0.76%) (init = 200000)\n",
      "    alpha:  130.275459 +/- 1.93231449 (1.48%) (init = 140)\n",
      "    beta:   1e-10 (fixed)\n",
      "    R:      0 (fixed)\n",
      "    gamma:  2.2694e-07 +/- 1.8336e-04 (80796.03%) (init = 0.001)\n",
      "    sigma:  0.00596552 +/- 2.3801e-04 (3.99%) (init = 0.0066)\n",
      "    k:      0.05 (fixed)\n",
      "    xp:    -8.01731207 +/- 2.3160e-04 (0.00%) (init = -8)\n",
      "[[Correlations]] (unreported correlations are < 0.100)\n",
      "    C(alpha, xp)    =  0.949\n",
      "    C(A, gamma)     =  0.722\n",
      "    C(gamma, sigma) = -0.480\n",
      "    C(alpha, sigma) =  0.452\n",
      "    C(sigma, xp)    =  0.444\n",
      "    C(alpha, gamma) =  0.394\n",
      "    C(gamma, xp)    =  0.355\n",
      "    C(A, sigma)     = -0.346\n"
     ]
    }
   ],
   "source": [
    "pvic_params['beta'].set(value=1e-10, vary=False)\n",
    "pvic_params['R'].set(value=0, vary=False)\n",
    "# pvic_params\n",
    "result = pvic_model.fit(data=Yfitdata, params=pvic_params, x=X)\n",
    "print(result.fit_report())\n",
    "plot_fit_result(X, Yfitdata, result)"
   ]
  },
  {
   "cell_type": "markdown",
   "metadata": {
    "Collapsed": "false",
    "hidden": true
   },
   "source": [
    "The above yields too many correlations between parameters\n",
    "The resulting plot also has an unphysical dip in the resulting fit function"
   ]
  },
  {
   "cell_type": "markdown",
   "metadata": {
    "Collapsed": "false",
    "hidden": true
   },
   "source": [
    "##### 6 free parameters"
   ]
  },
  {
   "cell_type": "code",
   "execution_count": 66,
   "metadata": {
    "Collapsed": "false",
    "hidden": true
   },
   "outputs": [
    {
     "name": "stdout",
     "output_type": "stream",
     "text": [
      "[[Model]]\n",
      "    Model(pVIC)\n",
      "[[Fit Statistics]]\n",
      "    # fitting method   = leastsq\n",
      "    # function evals   = 105\n",
      "    # data points      = 120\n",
      "    # variables        = 5\n",
      "    chi-square         = 3.3204e+11\n",
      "    reduced chi-square = 2.8873e+09\n",
      "    Akaike info crit   = 2618.92398\n",
      "    Bayesian info crit = 2632.86144\n",
      "[[Variables]]\n",
      "    A:      139800.970 +/- 832.210128 (0.60%) (init = 200000)\n",
      "    alpha:  130.269301 +/- 1.82009419 (1.40%) (init = 140)\n",
      "    beta:   1e-10 (fixed)\n",
      "    R:      0 (fixed)\n",
      "    gamma:  1.0779e-07 +/- 1.4438e-04 (133947.70%) (init = 0.001)\n",
      "    sigma:  0.00596479 +/- 2.2440e-04 (3.76%) (init = 0.0066)\n",
      "    k:      0.05 (fixed)\n",
      "    x0:    -8.01731281 +/- 2.1916e-04 (0.00%) (init = -8)\n",
      "[[Correlations]] (unreported correlations are < 0.100)\n",
      "    C(alpha, x0)    =  0.942\n",
      "    C(alpha, sigma) =  0.641\n",
      "    C(sigma, x0)    =  0.631\n",
      "    C(A, gamma)     =  0.472\n",
      "    C(gamma, sigma) = -0.366\n",
      "    C(A, x0)        = -0.227\n",
      "    C(alpha, gamma) =  0.219\n",
      "    C(A, alpha)     = -0.212\n",
      "    C(A, sigma)     = -0.173\n",
      "    C(gamma, x0)    =  0.156\n"
     ]
    },
    {
     "data": {
      "text/plain": [
       "Text(0.5, 1.0, \"5 free parameters: ['A', 'alpha', 'gamma', 'sigma', 'x0']\")"
      ]
     },
     "execution_count": 66,
     "metadata": {},
     "output_type": "execute_result"
    }
   ],
   "source": [
    "pvic_params['beta'].set(value=1e-10, vary=False)\n",
    "pvic_params['R'].set(value=0, vary=False)\n",
    "result = pvic_model.fit(data=Yfitdata, params=pvic_params, x=X)\n",
    "print(result.fit_report())\n",
    "plot_fit_result(X, Yfitdata, result)\n",
    "freeParams = [k for k in list(pvic_params.keys()) if pvic_params[k].vary==True]\n",
    "plt.title(f\"{len(freeParams)} free parameters: {freeParams}\")"
   ]
  },
  {
   "cell_type": "markdown",
   "metadata": {
    "Collapsed": "false"
   },
   "source": [
    "## Batch fit data above Hc \n",
    "to determine the values of shared parameters"
   ]
  },
  {
   "cell_type": "markdown",
   "metadata": {
    "Collapsed": "false"
   },
   "source": [
    "#### Next steps as of 2020-04-28\n",
    "* Clean up outdated cells of notebook\n",
    "* Determine the values of the shared parameters for all three sets of peaks at (h h 0) with h=6, 8, 10 by fitting the 10 datasets at highest fields for each of them\n",
    "* Take the average of the resulting shared parameters\n",
    "* Extend to fitting with two pVIC functions at all fields\n",
    "* Extract splitting"
   ]
  },
  {
   "cell_type": "markdown",
   "metadata": {
    "Collapsed": "false"
   },
   "source": [
    "### Import fit function and make an lmfit model out of it"
   ]
  },
  {
   "cell_type": "code",
   "execution_count": 18,
   "metadata": {
    "Collapsed": "false"
   },
   "outputs": [
    {
     "name": "stdout",
     "output_type": "stream",
     "text": [
      "parameter names: ['A', 'alpha', 'beta', 'R', 'gamma', 'sigma', 'k', 'xp']\n",
      "independent variables: ['x']\n"
     ]
    }
   ],
   "source": [
    "from ENS_peak_fit_pVIC_py.pseudoVoigtIkedaCarpenter import pVIC, xpVIC_residual, xpVIC_init_prm\n",
    "pvic_model = Model(pVIC)# create Model object from the lmfit module\n",
    "print(f'parameter names: {pvic_model.param_names}')\n",
    "print(f'independent variables: {pvic_model.independent_vars}')"
   ]
  },
  {
   "cell_type": "markdown",
   "metadata": {
    "Collapsed": "false"
   },
   "source": [
    "### Batch fitting functions"
   ]
  },
  {
   "cell_type": "code",
   "execution_count": 19,
   "metadata": {
    "Collapsed": "false",
    "scrolled": true
   },
   "outputs": [],
   "source": [
    "from ENS_peak_fit_pVIC_py.batch_pVIC_fitting import xyBatchFitNData, xFitInitParams, xFitInitParams2, bestFitParams, plotMultipleFit\n",
    "from ENS_peak_fit_pVIC_py.xpvic_fit_cls import xpvic_fit"
   ]
  },
  {
   "cell_type": "markdown",
   "metadata": {
    "Collapsed": "false"
   },
   "source": [
    "### Batch fitting of single (10 10 0) peak spectra with single pVIC function\n",
    "above Hc\n",
    "\n",
    "This will help fix the value of the parameters shared by all spectra, i.e. alpha, beta, R, gamma and sigma"
   ]
  },
  {
   "cell_type": "markdown",
   "metadata": {
    "Collapsed": "true"
   },
   "source": [
    "#### Dataset selection"
   ]
  },
  {
   "cell_type": "code",
   "execution_count": 20,
   "metadata": {
    "Collapsed": "false"
   },
   "outputs": [],
   "source": [
    "peak_center = -10.0# center of unsplit peak to be studied in the following, in reciprocal space units\n",
    "npeak_interval = .15# half of plot interval\n",
    "dat_idx = len(nData.spectra)-1\n",
    "data_select = np.logical_and(nData.spectra[dat_idx].hh0 > peak_center - npeak_interval, \n",
    "                             nData.spectra[dat_idx].hh0 < peak_center + npeak_interval)"
   ]
  },
  {
   "cell_type": "markdown",
   "metadata": {
    "Collapsed": "true",
    "heading_collapsed": true
   },
   "source": [
    "#### Create fit parameters and specify their properties\n",
    "including initial values, constraints, etc.\n",
    "Note: when all pVIC parameters (except k) are free, the fit is very sensitive to initial values and can easily produce NaN numbers.\n",
    "The following initial parameters appear to yield a result without raising any error:\n",
    "A=2e5, alpha=140, beta=1e-3, R=1e-3, gamma=1e-3, sigma=6.6e-3, k=.05, xp=peak_center"
   ]
  },
  {
   "cell_type": "code",
   "execution_count": 27,
   "metadata": {
    "Collapsed": "false",
    "hidden": true
   },
   "outputs": [
    {
     "data": {
      "text/html": [
       "<table><tr><th> name </th><th> value </th><th> initial value </th><th> min </th><th> max </th><th> vary </th></tr><tr><td> A </td><td>  200000.000 </td><td> None </td><td>  0.00000000 </td><td>         inf </td><td> True </td></tr><tr><td> alpha </td><td>  140.000000 </td><td> None </td><td>  0.00000000 </td><td>         inf </td><td> True </td></tr><tr><td> beta </td><td>  1.0000e-03 </td><td> None </td><td>  0.00000000 </td><td>         inf </td><td> True </td></tr><tr><td> R </td><td>  1.0000e-03 </td><td> None </td><td>  0.00000000 </td><td>         inf </td><td> True </td></tr><tr><td> gamma </td><td>  1.0000e-03 </td><td> None </td><td>  0.00000000 </td><td>         inf </td><td> True </td></tr><tr><td> sigma </td><td>  0.00660000 </td><td> None </td><td>  0.00000000 </td><td>         inf </td><td> True </td></tr><tr><td> k </td><td>  0.05000000 </td><td> None </td><td>  0.00000000 </td><td>         inf </td><td> False </td></tr><tr><td> xp </td><td> -8.00000000 </td><td> None </td><td>        -inf </td><td>         inf </td><td> True </td></tr></table>"
      ],
      "text/plain": [
       "Parameters([('A', <Parameter 'A', value=200000.0, bounds=[0:inf]>),\n",
       "            ('alpha', <Parameter 'alpha', value=140, bounds=[0:inf]>),\n",
       "            ('beta', <Parameter 'beta', value=0.001, bounds=[0:inf]>),\n",
       "            ('R', <Parameter 'R', value=0.001, bounds=[0:inf]>),\n",
       "            ('gamma', <Parameter 'gamma', value=0.001, bounds=[0:inf]>),\n",
       "            ('sigma', <Parameter 'sigma', value=0.0066, bounds=[0:inf]>),\n",
       "            ('k', <Parameter 'k', value=0.05 (fixed), bounds=[0:inf]>),\n",
       "            ('xp', <Parameter 'xp', value=-8.0, bounds=[-inf:inf]>)])"
      ]
     },
     "execution_count": 27,
     "metadata": {},
     "output_type": "execute_result"
    }
   ],
   "source": [
    "pvic_params = pvic_model.make_params(A=2e5, alpha=140, beta=1e-3, R=1e-3, \n",
    "                                     gamma=1e-3, sigma=6.6e-3, k=.05, xp=peak_center)\n",
    "for k in pvic_params.keys():\n",
    "    pvic_params[k].set(min=0, vary=True)\n",
    "pvic_params['xp'].set(min=-np.inf)\n",
    "pvic_params['k'].vary = False\n",
    "pvic_params"
   ]
  },
  {
   "cell_type": "markdown",
   "metadata": {
    "Collapsed": "false"
   },
   "source": [
    "#### Create xpvic_fit object\n",
    "Its first key holds a list of the number of free parameters shared across all datasets\n",
    "\n",
    "Its second key will hold the Minimizer.Result objects generated from the lmfit.minimize function"
   ]
  },
  {
   "cell_type": "code",
   "execution_count": 48,
   "metadata": {
    "Collapsed": "false"
   },
   "outputs": [],
   "source": [
    "peak_center = -8.\n",
    "npeak_interval = .15# half of plot interval\n",
    "dat_idx = len(nData.spectra)-1\n",
    "data_select = np.logical_and(nData.spectra[dat_idx].hh0 > peak_center - npeak_interval, \n",
    "                             nData.spectra[dat_idx].hh0 < peak_center + npeak_interval)\n",
    "\n",
    "nSpec = 20\n",
    "key = '8_20' # first number is the peak position, second is the number of datasets to use fo the fit\n",
    "# xFit, xwFit = {fitKey:None}, {fitKey:None}\n",
    "\n",
    "for xfit in [xFit, xwFit]:\n",
    "#     for key in xfit.keys():\n",
    "    # List of fit objects\n",
    "    xfit[key] = [xpvic_fit(peak_center, nData, pvic_params)]\n",
    "    xfit[key][-1].data_range = range(len(nData)-nSpec, len(nData))\n",
    "\n",
    "    # create x and y 1D datasets for fit\n",
    "    xfit[key][-1].makeData(data_select)\n",
    "\n",
    "    # create and initialize lmfit Parameters object\n",
    "    xfit[key][-1].initParams()\n",
    "\n",
    "    # Number of free shared parameters = number of free parameters with same name as in pvic_params\n",
    "    xfit[key][-1].freeSharedPrms = 5\n"
   ]
  },
  {
   "cell_type": "markdown",
   "metadata": {
    "Collapsed": "false"
   },
   "source": [
    "#### Fit with 2 independent free parameters per dataset and 5 free parameters shared between all datasets"
   ]
  },
  {
   "cell_type": "code",
   "execution_count": 49,
   "metadata": {},
   "outputs": [],
   "source": [
    "### Perform fit; this will store the result in a Minimizer.Result object\n",
    "xFit[key][-1].performFit()\n",
    "xwFit[key][-1].performFit(weights=xwFit[key][-1].weights)"
   ]
  },
  {
   "cell_type": "markdown",
   "metadata": {
    "heading_collapsed": true
   },
   "source": [
    "#### Results of weighted fit with 10 datasets"
   ]
  },
  {
   "cell_type": "code",
   "execution_count": 116,
   "metadata": {
    "Collapsed": "false",
    "hidden": true
   },
   "outputs": [
    {
     "data": {
      "text/html": [
       "<h2>Fit Statistics</h2><table><tr><td>fitting method</td><td>leastsq</td><td></td></tr><tr><td># function evals</td><td>2962</td><td></td></tr><tr><td># data points</td><td>1200</td><td></td></tr><tr><td># variables</td><td>25</td><td></td></tr><tr><td>chi-square</td><td> 2123.46297</td><td></td></tr><tr><td>reduced chi-square</td><td> 1.80720253</td><td></td></tr><tr><td>Akaike info crit.</td><td> 734.872011</td><td></td></tr><tr><td>Bayesian info crit.</td><td> 862.123932</td><td></td></tr></table><h2>Variables</h2><table><tr><th> name </th><th> value </th><th> standard error </th><th> relative error </th><th> initial value </th><th> min </th><th> max </th><th> vary </th></tr><tr><td> A92 </td><td>  403236.783 </td><td>  53568352.9 </td><td> (13284.59%) </td><td> 200000.0 </td><td>  0.00000000 </td><td>         inf </td><td> True </td></tr><tr><td> alpha </td><td>  126.364584 </td><td>  0.85514622 </td><td> (0.68%) </td><td> 140 </td><td>  0.00000000 </td><td>         inf </td><td> True </td></tr><tr><td> beta </td><td>  0.02817113 </td><td>  5.88267630 </td><td> (20881.94%) </td><td> 0.001 </td><td>  0.00000000 </td><td>         inf </td><td> True </td></tr><tr><td> R </td><td>  0.63816142 </td><td>  48.0686654 </td><td> (7532.37%) </td><td> 0.001 </td><td>  0.00000000 </td><td>         inf </td><td> True </td></tr><tr><td> gamma </td><td>  2.5206e-04 </td><td>  2.7313e-05 </td><td> (10.84%) </td><td> 0.001 </td><td>  0.00000000 </td><td>         inf </td><td> True </td></tr><tr><td> sigma </td><td>  0.00495362 </td><td>  1.0598e-04 </td><td> (2.14%) </td><td> 0.0066 </td><td>  0.00000000 </td><td>         inf </td><td> True </td></tr><tr><td> k </td><td>  0.05000000 </td><td>  0.00000000 </td><td> (0.00%) </td><td> 0.05 </td><td>  0.00000000 </td><td>         inf </td><td> False </td></tr><tr><td> xp92 </td><td> -8.01784301 </td><td>  1.7490e-04 </td><td> (0.00%) </td><td> -8.0 </td><td>        -inf </td><td>         inf </td><td> True </td></tr><tr><td> A93 </td><td>  407360.893 </td><td>  54116248.4 </td><td> (13284.60%) </td><td> 200000.0 </td><td>  0.00000000 </td><td>         inf </td><td> True </td></tr><tr><td> xp93 </td><td> -8.01794921 </td><td>  1.7284e-04 </td><td> (0.00%) </td><td> -8.0 </td><td>        -inf </td><td>         inf </td><td> True </td></tr><tr><td> A94 </td><td>  402428.343 </td><td>  53461094.8 </td><td> (13284.62%) </td><td> 200000.0 </td><td>  0.00000000 </td><td>         inf </td><td> True </td></tr><tr><td> xp94 </td><td> -8.01790059 </td><td>  1.7375e-04 </td><td> (0.00%) </td><td> -8.0 </td><td>        -inf </td><td>         inf </td><td> True </td></tr><tr><td> A95 </td><td>  395618.993 </td><td>  52556415.9 </td><td> (13284.60%) </td><td> 200000.0 </td><td>  0.00000000 </td><td>         inf </td><td> True </td></tr><tr><td> xp95 </td><td> -8.01788990 </td><td>  1.7442e-04 </td><td> (0.00%) </td><td> -8.0 </td><td>        -inf </td><td>         inf </td><td> True </td></tr><tr><td> A96 </td><td>  398138.638 </td><td>  52891124.0 </td><td> (13284.60%) </td><td> 200000.0 </td><td>  0.00000000 </td><td>         inf </td><td> True </td></tr><tr><td> xp96 </td><td> -8.01773947 </td><td>  1.7489e-04 </td><td> (0.00%) </td><td> -8.0 </td><td>        -inf </td><td>         inf </td><td> True </td></tr><tr><td> A97 </td><td>  393148.216 </td><td>  52228093.1 </td><td> (13284.58%) </td><td> 200000.0 </td><td>  0.00000000 </td><td>         inf </td><td> True </td></tr><tr><td> xp97 </td><td> -8.01752894 </td><td>  1.7707e-04 </td><td> (0.00%) </td><td> -8.0 </td><td>        -inf </td><td>         inf </td><td> True </td></tr><tr><td> A98 </td><td>  392596.884 </td><td>  52154931.5 </td><td> (13284.60%) </td><td> 200000.0 </td><td>  0.00000000 </td><td>         inf </td><td> True </td></tr><tr><td> xp98 </td><td> -8.01746919 </td><td>  1.8386e-04 </td><td> (0.00%) </td><td> -8.0 </td><td>        -inf </td><td>         inf </td><td> True </td></tr><tr><td> A99 </td><td>  392317.290 </td><td>  52117753.7 </td><td> (13284.59%) </td><td> 200000.0 </td><td>  0.00000000 </td><td>         inf </td><td> True </td></tr><tr><td> xp99 </td><td> -8.01768949 </td><td>  1.7552e-04 </td><td> (0.00%) </td><td> -8.0 </td><td>        -inf </td><td>         inf </td><td> True </td></tr><tr><td> A100 </td><td>  386125.813 </td><td>  51295257.8 </td><td> (13284.60%) </td><td> 200000.0 </td><td>  0.00000000 </td><td>         inf </td><td> True </td></tr><tr><td> xp100 </td><td> -8.01779215 </td><td>  1.7635e-04 </td><td> (0.00%) </td><td> -8.0 </td><td>        -inf </td><td>         inf </td><td> True </td></tr><tr><td> A101 </td><td>  378483.580 </td><td>  50280059.3 </td><td> (13284.61%) </td><td> 200000.0 </td><td>  0.00000000 </td><td>         inf </td><td> True </td></tr><tr><td> xp101 </td><td> -8.01763427 </td><td>  1.7796e-04 </td><td> (0.00%) </td><td> -8.0 </td><td>        -inf </td><td>         inf </td><td> True </td></tr></table><h2>Correlations (unreported correlations are < 0.100)</h2><table><tr><td>R</td><td>A93</td><td>1.0000</td></tr><tr><td>R</td><td>A94</td><td>1.0000</td></tr><tr><td>R</td><td>A96</td><td>1.0000</td></tr><tr><td>R</td><td>A97</td><td>1.0000</td></tr><tr><td>R</td><td>A95</td><td>1.0000</td></tr><tr><td>R</td><td>A99</td><td>1.0000</td></tr><tr><td>A92</td><td>R</td><td>1.0000</td></tr><tr><td>R</td><td>A100</td><td>1.0000</td></tr><tr><td>R</td><td>A101</td><td>1.0000</td></tr><tr><td>R</td><td>A98</td><td>1.0000</td></tr><tr><td>A93</td><td>A94</td><td>1.0000</td></tr><tr><td>A92</td><td>A93</td><td>1.0000</td></tr><tr><td>A93</td><td>A96</td><td>1.0000</td></tr><tr><td>A92</td><td>A94</td><td>1.0000</td></tr><tr><td>A93</td><td>A97</td><td>1.0000</td></tr><tr><td>A92</td><td>A96</td><td>1.0000</td></tr><tr><td>A93</td><td>A95</td><td>1.0000</td></tr><tr><td>A93</td><td>A99</td><td>1.0000</td></tr><tr><td>A95</td><td>A96</td><td>1.0000</td></tr><tr><td>A94</td><td>A96</td><td>1.0000</td></tr><tr><td>A92</td><td>A97</td><td>1.0000</td></tr><tr><td>A92</td><td>A95</td><td>1.0000</td></tr><tr><td>A92</td><td>A99</td><td>1.0000</td></tr><tr><td>A95</td><td>A97</td><td>1.0000</td></tr><tr><td>A94</td><td>A97</td><td>1.0000</td></tr><tr><td>A95</td><td>A99</td><td>1.0000</td></tr><tr><td>A94</td><td>A95</td><td>1.0000</td></tr><tr><td>A96</td><td>A97</td><td>1.0000</td></tr><tr><td>A94</td><td>A99</td><td>1.0000</td></tr><tr><td>A96</td><td>A99</td><td>1.0000</td></tr><tr><td>A93</td><td>A100</td><td>1.0000</td></tr><tr><td>A93</td><td>A101</td><td>1.0000</td></tr><tr><td>A97</td><td>A99</td><td>1.0000</td></tr><tr><td>A92</td><td>A100</td><td>1.0000</td></tr><tr><td>A92</td><td>A101</td><td>1.0000</td></tr><tr><td>A95</td><td>A100</td><td>1.0000</td></tr><tr><td>A95</td><td>A101</td><td>1.0000</td></tr><tr><td>A94</td><td>A100</td><td>1.0000</td></tr><tr><td>A94</td><td>A101</td><td>1.0000</td></tr><tr><td>A96</td><td>A100</td><td>1.0000</td></tr><tr><td>A96</td><td>A101</td><td>1.0000</td></tr><tr><td>A99</td><td>A100</td><td>1.0000</td></tr><tr><td>A99</td><td>A101</td><td>1.0000</td></tr><tr><td>A100</td><td>A101</td><td>1.0000</td></tr><tr><td>A97</td><td>A100</td><td>1.0000</td></tr><tr><td>A97</td><td>A101</td><td>1.0000</td></tr><tr><td>A93</td><td>A98</td><td>1.0000</td></tr><tr><td>A92</td><td>A98</td><td>1.0000</td></tr><tr><td>A95</td><td>A98</td><td>1.0000</td></tr><tr><td>A94</td><td>A98</td><td>1.0000</td></tr><tr><td>A96</td><td>A98</td><td>1.0000</td></tr><tr><td>A98</td><td>A99</td><td>1.0000</td></tr><tr><td>A97</td><td>A98</td><td>1.0000</td></tr><tr><td>A98</td><td>A100</td><td>1.0000</td></tr><tr><td>A98</td><td>A101</td><td>1.0000</td></tr><tr><td>A92</td><td>beta</td><td>-1.0000</td></tr><tr><td>beta</td><td>R</td><td>-1.0000</td></tr><tr><td>beta</td><td>A93</td><td>-1.0000</td></tr><tr><td>beta</td><td>A94</td><td>-1.0000</td></tr><tr><td>beta</td><td>A96</td><td>-1.0000</td></tr><tr><td>beta</td><td>A95</td><td>-1.0000</td></tr><tr><td>beta</td><td>A99</td><td>-1.0000</td></tr><tr><td>beta</td><td>A97</td><td>-1.0000</td></tr><tr><td>beta</td><td>A100</td><td>-1.0000</td></tr><tr><td>beta</td><td>A101</td><td>-1.0000</td></tr><tr><td>beta</td><td>A98</td><td>-1.0000</td></tr><tr><td>alpha</td><td>sigma</td><td>0.6878</td></tr><tr><td>alpha</td><td>xp94</td><td>0.5994</td></tr><tr><td>alpha</td><td>xp99</td><td>0.5966</td></tr><tr><td>alpha</td><td>xp101</td><td>0.5947</td></tr><tr><td>alpha</td><td>xp96</td><td>0.5941</td></tr><tr><td>alpha</td><td>xp100</td><td>0.5926</td></tr><tr><td>alpha</td><td>xp97</td><td>0.5909</td></tr><tr><td>alpha</td><td>xp92</td><td>0.5900</td></tr><tr><td>alpha</td><td>xp95</td><td>0.5864</td></tr><tr><td>alpha</td><td>xp93</td><td>0.5821</td></tr><tr><td>alpha</td><td>xp98</td><td>0.5749</td></tr><tr><td>sigma</td><td>xp94</td><td>0.4828</td></tr><tr><td>sigma</td><td>xp101</td><td>0.4816</td></tr><tr><td>sigma</td><td>xp100</td><td>0.4801</td></tr><tr><td>sigma</td><td>xp99</td><td>0.4785</td></tr><tr><td>sigma</td><td>xp96</td><td>0.4766</td></tr><tr><td>sigma</td><td>xp97</td><td>0.4755</td></tr><tr><td>sigma</td><td>xp92</td><td>0.4729</td></tr><tr><td>sigma</td><td>xp95</td><td>0.4705</td></tr><tr><td>sigma</td><td>xp98</td><td>0.4644</td></tr><tr><td>sigma</td><td>xp93</td><td>0.4640</td></tr><tr><td>gamma</td><td>sigma</td><td>-0.4587</td></tr><tr><td>alpha</td><td>beta</td><td>0.4340</td></tr><tr><td>A92</td><td>alpha</td><td>-0.4340</td></tr><tr><td>alpha</td><td>A101</td><td>-0.4340</td></tr><tr><td>alpha</td><td>A95</td><td>-0.4340</td></tr><tr><td>alpha</td><td>A97</td><td>-0.4340</td></tr><tr><td>alpha</td><td>A100</td><td>-0.4340</td></tr><tr><td>alpha</td><td>A96</td><td>-0.4340</td></tr><tr><td>alpha</td><td>A99</td><td>-0.4340</td></tr><tr><td>alpha</td><td>A98</td><td>-0.4340</td></tr><tr><td>alpha</td><td>A94</td><td>-0.4340</td></tr><tr><td>alpha</td><td>A93</td><td>-0.4340</td></tr><tr><td>alpha</td><td>R</td><td>-0.4340</td></tr><tr><td>xp94</td><td>xp99</td><td>0.3957</td></tr><tr><td>xp99</td><td>xp100</td><td>0.3956</td></tr><tr><td>xp94</td><td>xp100</td><td>0.3952</td></tr><tr><td>xp99</td><td>xp101</td><td>0.3948</td></tr><tr><td>xp94</td><td>xp101</td><td>0.3945</td></tr><tr><td>xp100</td><td>xp101</td><td>0.3944</td></tr><tr><td>xp97</td><td>xp99</td><td>0.3944</td></tr><tr><td>xp96</td><td>xp99</td><td>0.3944</td></tr><tr><td>xp97</td><td>xp100</td><td>0.3941</td></tr><tr><td>xp94</td><td>xp96</td><td>0.3941</td></tr><tr><td>xp96</td><td>xp100</td><td>0.3939</td></tr><tr><td>xp94</td><td>xp97</td><td>0.3939</td></tr><tr><td>xp97</td><td>xp101</td><td>0.3931</td></tr><tr><td>xp96</td><td>xp101</td><td>0.3931</td></tr><tr><td>xp96</td><td>xp97</td><td>0.3928</td></tr><tr><td>xp95</td><td>xp99</td><td>0.3917</td></tr><tr><td>xp95</td><td>xp100</td><td>0.3914</td></tr><tr><td>xp94</td><td>xp95</td><td>0.3912</td></tr><tr><td>xp92</td><td>xp99</td><td>0.3910</td></tr><tr><td>xp92</td><td>xp94</td><td>0.3908</td></tr><tr><td>xp92</td><td>xp100</td><td>0.3906</td></tr><tr><td>xp95</td><td>xp101</td><td>0.3903</td></tr><tr><td>xp95</td><td>xp97</td><td>0.3903</td></tr><tr><td>xp95</td><td>xp96</td><td>0.3901</td></tr><tr><td>xp93</td><td>xp99</td><td>0.3899</td></tr><tr><td>xp92</td><td>xp101</td><td>0.3897</td></tr><tr><td>xp93</td><td>xp100</td><td>0.3896</td></tr><tr><td>xp92</td><td>xp96</td><td>0.3895</td></tr><tr><td>xp92</td><td>xp97</td><td>0.3894</td></tr><tr><td>xp93</td><td>xp94</td><td>0.3894</td></tr><tr><td>xp93</td><td>xp97</td><td>0.3886</td></tr><tr><td>xp93</td><td>xp96</td><td>0.3884</td></tr><tr><td>xp93</td><td>xp101</td><td>0.3884</td></tr><tr><td>xp92</td><td>xp95</td><td>0.3868</td></tr><tr><td>xp93</td><td>xp95</td><td>0.3862</td></tr><tr><td>xp92</td><td>xp93</td><td>0.3852</td></tr><tr><td>xp98</td><td>xp99</td><td>0.3814</td></tr><tr><td>xp94</td><td>xp98</td><td>0.3811</td></tr><tr><td>xp98</td><td>xp100</td><td>0.3809</td></tr><tr><td>xp98</td><td>xp101</td><td>0.3803</td></tr><tr><td>xp96</td><td>xp98</td><td>0.3798</td></tr><tr><td>xp97</td><td>xp98</td><td>0.3798</td></tr><tr><td>xp95</td><td>xp98</td><td>0.3771</td></tr><tr><td>xp92</td><td>xp98</td><td>0.3765</td></tr><tr><td>xp93</td><td>xp98</td><td>0.3753</td></tr><tr><td>beta</td><td>sigma</td><td>0.3455</td></tr><tr><td>A92</td><td>sigma</td><td>-0.3454</td></tr><tr><td>R</td><td>sigma</td><td>-0.3454</td></tr><tr><td>sigma</td><td>A101</td><td>-0.3453</td></tr><tr><td>sigma</td><td>A97</td><td>-0.3453</td></tr><tr><td>sigma</td><td>A100</td><td>-0.3453</td></tr><tr><td>sigma</td><td>A98</td><td>-0.3453</td></tr><tr><td>sigma</td><td>A96</td><td>-0.3453</td></tr><tr><td>sigma</td><td>A99</td><td>-0.3453</td></tr><tr><td>sigma</td><td>A94</td><td>-0.3453</td></tr><tr><td>sigma</td><td>A95</td><td>-0.3453</td></tr><tr><td>sigma</td><td>A93</td><td>-0.3453</td></tr><tr><td>beta</td><td>xp94</td><td>0.1303</td></tr><tr><td>A92</td><td>xp94</td><td>-0.1303</td></tr><tr><td>A93</td><td>xp94</td><td>-0.1303</td></tr><tr><td>R</td><td>xp94</td><td>-0.1303</td></tr><tr><td>A94</td><td>xp94</td><td>-0.1303</td></tr><tr><td>xp94</td><td>A101</td><td>-0.1303</td></tr><tr><td>xp94</td><td>A97</td><td>-0.1303</td></tr><tr><td>xp94</td><td>A100</td><td>-0.1303</td></tr><tr><td>xp94</td><td>A96</td><td>-0.1303</td></tr><tr><td>xp94</td><td>A95</td><td>-0.1303</td></tr><tr><td>xp94</td><td>A98</td><td>-0.1303</td></tr><tr><td>xp94</td><td>A99</td><td>-0.1303</td></tr><tr><td>beta</td><td>xp101</td><td>0.1267</td></tr><tr><td>A98</td><td>xp101</td><td>-0.1266</td></tr><tr><td>A99</td><td>xp101</td><td>-0.1266</td></tr><tr><td>A97</td><td>xp101</td><td>-0.1266</td></tr><tr><td>A92</td><td>xp101</td><td>-0.1266</td></tr><tr><td>A93</td><td>xp101</td><td>-0.1266</td></tr><tr><td>A96</td><td>xp101</td><td>-0.1266</td></tr><tr><td>A100</td><td>xp101</td><td>-0.1266</td></tr><tr><td>A94</td><td>xp101</td><td>-0.1266</td></tr><tr><td>A95</td><td>xp101</td><td>-0.1266</td></tr><tr><td>R</td><td>xp101</td><td>-0.1266</td></tr><tr><td>A101</td><td>xp101</td><td>-0.1266</td></tr><tr><td>beta</td><td>xp99</td><td>0.1207</td></tr><tr><td>A95</td><td>xp99</td><td>-0.1206</td></tr><tr><td>A94</td><td>xp99</td><td>-0.1206</td></tr><tr><td>A92</td><td>xp99</td><td>-0.1206</td></tr><tr><td>A96</td><td>xp99</td><td>-0.1206</td></tr><tr><td>A93</td><td>xp99</td><td>-0.1206</td></tr><tr><td>A97</td><td>xp99</td><td>-0.1206</td></tr><tr><td>A98</td><td>xp99</td><td>-0.1206</td></tr><tr><td>R</td><td>xp99</td><td>-0.1206</td></tr><tr><td>A99</td><td>xp99</td><td>-0.1206</td></tr><tr><td>xp99</td><td>A101</td><td>-0.1206</td></tr><tr><td>xp99</td><td>A100</td><td>-0.1206</td></tr><tr><td>beta</td><td>xp98</td><td>0.1203</td></tr><tr><td>A98</td><td>xp98</td><td>-0.1203</td></tr><tr><td>A97</td><td>xp98</td><td>-0.1203</td></tr><tr><td>A92</td><td>xp98</td><td>-0.1203</td></tr><tr><td>A96</td><td>xp98</td><td>-0.1203</td></tr><tr><td>A93</td><td>xp98</td><td>-0.1202</td></tr><tr><td>A95</td><td>xp98</td><td>-0.1202</td></tr><tr><td>R</td><td>xp98</td><td>-0.1202</td></tr><tr><td>A94</td><td>xp98</td><td>-0.1202</td></tr><tr><td>xp98</td><td>A101</td><td>-0.1202</td></tr><tr><td>xp98</td><td>A100</td><td>-0.1202</td></tr><tr><td>xp98</td><td>A99</td><td>-0.1202</td></tr><tr><td>beta</td><td>xp96</td><td>0.1184</td></tr><tr><td>A95</td><td>xp96</td><td>-0.1184</td></tr><tr><td>A92</td><td>xp96</td><td>-0.1184</td></tr><tr><td>A94</td><td>xp96</td><td>-0.1184</td></tr><tr><td>A93</td><td>xp96</td><td>-0.1184</td></tr><tr><td>R</td><td>xp96</td><td>-0.1184</td></tr><tr><td>A96</td><td>xp96</td><td>-0.1184</td></tr><tr><td>xp96</td><td>A101</td><td>-0.1183</td></tr><tr><td>xp96</td><td>A97</td><td>-0.1183</td></tr><tr><td>xp96</td><td>A100</td><td>-0.1183</td></tr><tr><td>xp96</td><td>A98</td><td>-0.1183</td></tr><tr><td>xp96</td><td>A99</td><td>-0.1183</td></tr><tr><td>beta</td><td>xp92</td><td>0.1175</td></tr><tr><td>R</td><td>xp92</td><td>-0.1175</td></tr><tr><td>A92</td><td>xp92</td><td>-0.1175</td></tr><tr><td>xp92</td><td>A101</td><td>-0.1174</td></tr><tr><td>xp92</td><td>A97</td><td>-0.1174</td></tr><tr><td>xp92</td><td>A100</td><td>-0.1174</td></tr><tr><td>xp92</td><td>A96</td><td>-0.1174</td></tr><tr><td>xp92</td><td>A95</td><td>-0.1174</td></tr><tr><td>xp92</td><td>A98</td><td>-0.1174</td></tr><tr><td>xp92</td><td>A99</td><td>-0.1174</td></tr><tr><td>xp92</td><td>A94</td><td>-0.1174</td></tr><tr><td>xp92</td><td>A93</td><td>-0.1174</td></tr><tr><td>beta</td><td>xp100</td><td>0.1124</td></tr><tr><td>A94</td><td>xp100</td><td>-0.1124</td></tr><tr><td>A95</td><td>xp100</td><td>-0.1124</td></tr><tr><td>A96</td><td>xp100</td><td>-0.1124</td></tr><tr><td>R</td><td>xp100</td><td>-0.1124</td></tr><tr><td>A93</td><td>xp100</td><td>-0.1124</td></tr><tr><td>A92</td><td>xp100</td><td>-0.1124</td></tr><tr><td>A100</td><td>xp100</td><td>-0.1124</td></tr><tr><td>A97</td><td>xp100</td><td>-0.1124</td></tr><tr><td>A99</td><td>xp100</td><td>-0.1124</td></tr><tr><td>A98</td><td>xp100</td><td>-0.1124</td></tr><tr><td>xp100</td><td>A101</td><td>-0.1123</td></tr><tr><td>beta</td><td>xp97</td><td>0.1087</td></tr><tr><td>A94</td><td>xp97</td><td>-0.1087</td></tr><tr><td>A95</td><td>xp97</td><td>-0.1087</td></tr><tr><td>A96</td><td>xp97</td><td>-0.1087</td></tr><tr><td>A93</td><td>xp97</td><td>-0.1087</td></tr><tr><td>A92</td><td>xp97</td><td>-0.1087</td></tr><tr><td>R</td><td>xp97</td><td>-0.1087</td></tr><tr><td>A97</td><td>xp97</td><td>-0.1087</td></tr><tr><td>xp97</td><td>A101</td><td>-0.1086</td></tr><tr><td>xp97</td><td>A100</td><td>-0.1086</td></tr><tr><td>xp97</td><td>A98</td><td>-0.1086</td></tr><tr><td>xp97</td><td>A99</td><td>-0.1086</td></tr><tr><td>beta</td><td>xp95</td><td>0.1031</td></tr><tr><td>A94</td><td>xp95</td><td>-0.1031</td></tr><tr><td>A92</td><td>xp95</td><td>-0.1031</td></tr><tr><td>A93</td><td>xp95</td><td>-0.1031</td></tr><tr><td>R</td><td>xp95</td><td>-0.1031</td></tr><tr><td>A95</td><td>xp95</td><td>-0.1031</td></tr><tr><td>xp95</td><td>A101</td><td>-0.1030</td></tr><tr><td>xp95</td><td>A97</td><td>-0.1030</td></tr><tr><td>xp95</td><td>A100</td><td>-0.1030</td></tr><tr><td>xp95</td><td>A96</td><td>-0.1030</td></tr><tr><td>xp95</td><td>A98</td><td>-0.1030</td></tr><tr><td>xp95</td><td>A99</td><td>-0.1030</td></tr><tr><td>beta</td><td>gamma</td><td>-0.1019</td></tr><tr><td>gamma</td><td>A93</td><td>0.1018</td></tr><tr><td>gamma</td><td>A94</td><td>0.1018</td></tr><tr><td>gamma</td><td>A96</td><td>0.1018</td></tr><tr><td>gamma</td><td>A95</td><td>0.1018</td></tr><tr><td>gamma</td><td>A98</td><td>0.1018</td></tr><tr><td>gamma</td><td>A97</td><td>0.1018</td></tr><tr><td>gamma</td><td>A100</td><td>0.1018</td></tr><tr><td>gamma</td><td>A99</td><td>0.1018</td></tr><tr><td>A92</td><td>gamma</td><td>0.1018</td></tr><tr><td>gamma</td><td>A101</td><td>0.1018</td></tr><tr><td>R</td><td>gamma</td><td>0.1018</td></tr></table>"
      ],
      "text/plain": [
       "<lmfit.minimizer.MinimizerResult at 0x159c6571ec8>"
      ]
     },
     "execution_count": 116,
     "metadata": {},
     "output_type": "execute_result"
    }
   ],
   "source": [
    "# report_fit(result)\n",
    "xwFit['8_10'][0].result"
   ]
  },
  {
   "cell_type": "code",
   "execution_count": 117,
   "metadata": {
    "Collapsed": "false",
    "hidden": true
   },
   "outputs": [
    {
     "data": {
      "text/html": [
       "<h2>Fit Statistics</h2><table><tr><td>fitting method</td><td>leastsq</td><td></td></tr><tr><td># function evals</td><td>145</td><td></td></tr><tr><td># data points</td><td>1200</td><td></td></tr><tr><td># variables</td><td>23</td><td></td></tr><tr><td>chi-square</td><td> 2251.40070</td><td></td></tr><tr><td>reduced chi-square</td><td> 1.91282982</td><td></td></tr><tr><td>Akaike info crit.</td><td> 801.077201</td><td></td></tr><tr><td>Bayesian info crit.</td><td> 918.148968</td><td></td></tr></table><h2>Variables</h2><table><tr><th> name </th><th> value </th><th> standard error </th><th> relative error </th><th> initial value </th><th> min </th><th> max </th><th> vary </th></tr><tr><td> A92 </td><td>  146514.951 </td><td>  1663.07911 </td><td> (1.14%) </td><td> 403236.7834866346 </td><td>  0.00000000 </td><td>         inf </td><td> True </td></tr><tr><td> alpha </td><td>  125.228356 </td><td>  0.75917160 </td><td> (0.61%) </td><td> 126.36458388017037 </td><td>  0.00000000 </td><td>         inf </td><td> True </td></tr><tr><td> beta </td><td>  1.0000e-10 </td><td>  0.00000000 </td><td> (0.00%) </td><td> 1e-10 </td><td>  0.00000000 </td><td>         inf </td><td> False </td></tr><tr><td> R </td><td>  1.0000e-10 </td><td>  0.00000000 </td><td> (0.00%) </td><td> 1e-10 </td><td>  0.00000000 </td><td>         inf </td><td> False </td></tr><tr><td> gamma </td><td>  2.9688e-04 </td><td>  2.7130e-05 </td><td> (9.14%) </td><td> 0.0002520644592256538 </td><td>  0.00000000 </td><td>         inf </td><td> True </td></tr><tr><td> sigma </td><td>  0.00481572 </td><td>  1.0243e-04 </td><td> (2.13%) </td><td> 0.004953624104478971 </td><td>  0.00000000 </td><td>         inf </td><td> True </td></tr><tr><td> k </td><td>  0.05000000 </td><td>  0.00000000 </td><td> (0.00%) </td><td> 0.05 </td><td>  0.00000000 </td><td>         inf </td><td> False </td></tr><tr><td> xp92 </td><td> -8.01797093 </td><td>  1.7723e-04 </td><td> (0.00%) </td><td> -8.017843012204336 </td><td>        -inf </td><td>         inf </td><td> True </td></tr><tr><td> A93 </td><td>  148055.689 </td><td>  1658.25488 </td><td> (1.12%) </td><td> 407360.89298979554 </td><td>  0.00000000 </td><td>         inf </td><td> True </td></tr><tr><td> xp93 </td><td> -8.01807613 </td><td>  1.7557e-04 </td><td> (0.00%) </td><td> -8.017949205172894 </td><td>        -inf </td><td>         inf </td><td> True </td></tr><tr><td> A94 </td><td>  146243.257 </td><td>  1651.89117 </td><td> (1.13%) </td><td> 402428.3428939952 </td><td>  0.00000000 </td><td>         inf </td><td> True </td></tr><tr><td> xp94 </td><td> -8.01802685 </td><td>  1.7573e-04 </td><td> (0.00%) </td><td> -8.017900588079105 </td><td>        -inf </td><td>         inf </td><td> True </td></tr><tr><td> A95 </td><td>  143828.406 </td><td>  1632.01511 </td><td> (1.13%) </td><td> 395618.9929325704 </td><td>  0.00000000 </td><td>         inf </td><td> True </td></tr><tr><td> xp95 </td><td> -8.01801757 </td><td>  1.7698e-04 </td><td> (0.00%) </td><td> -8.017889899420188 </td><td>        -inf </td><td>         inf </td><td> True </td></tr><tr><td> A96 </td><td>  144741.081 </td><td>  1640.18996 </td><td> (1.13%) </td><td> 398138.6380738137 </td><td>  0.00000000 </td><td>         inf </td><td> True </td></tr><tr><td> xp96 </td><td> -8.01786674 </td><td>  1.7716e-04 </td><td> (0.00%) </td><td> -8.017739467374913 </td><td>        -inf </td><td>         inf </td><td> True </td></tr><tr><td> A97 </td><td>  142869.820 </td><td>  1630.95168 </td><td> (1.14%) </td><td> 393148.2162296334 </td><td>  0.00000000 </td><td>         inf </td><td> True </td></tr><tr><td> xp97 </td><td> -8.01765996 </td><td>  1.7967e-04 </td><td> (0.00%) </td><td> -8.017528939622535 </td><td>        -inf </td><td>         inf </td><td> True </td></tr><tr><td> A98 </td><td>  142621.640 </td><td>  1746.82550 </td><td> (1.22%) </td><td> 392596.8844747324 </td><td>  0.00000000 </td><td>         inf </td><td> True </td></tr><tr><td> xp98 </td><td> -8.01759994 </td><td>  1.8645e-04 </td><td> (0.00%) </td><td> -8.017469186283407 </td><td>        -inf </td><td>         inf </td><td> True </td></tr><tr><td> A99 </td><td>  142455.086 </td><td>  1624.87483 </td><td> (1.14%) </td><td> 392317.2899703891 </td><td>  0.00000000 </td><td>         inf </td><td> True </td></tr><tr><td> xp99 </td><td> -8.01781708 </td><td>  1.7791e-04 </td><td> (0.00%) </td><td> -8.017689485462412 </td><td>        -inf </td><td>         inf </td><td> True </td></tr><tr><td> A100 </td><td>  140300.679 </td><td>  1617.68080 </td><td> (1.15%) </td><td> 386125.8131822324 </td><td>  0.00000000 </td><td>         inf </td><td> True </td></tr><tr><td> xp100 </td><td> -8.01792332 </td><td>  1.7885e-04 </td><td> (0.00%) </td><td> -8.017792150502856 </td><td>        -inf </td><td>         inf </td><td> True </td></tr><tr><td> A101 </td><td>  137521.860 </td><td>  1603.11219 </td><td> (1.17%) </td><td> 378483.5798322948 </td><td>  0.00000000 </td><td>         inf </td><td> True </td></tr><tr><td> xp101 </td><td> -8.01776231 </td><td>  1.8025e-04 </td><td> (0.00%) </td><td> -8.017634271662464 </td><td>        -inf </td><td>         inf </td><td> True </td></tr></table><h2>Correlations (unreported correlations are < 0.100)</h2><table><tr><td>alpha</td><td>sigma</td><td>0.6202</td></tr><tr><td>alpha</td><td>xp99</td><td>0.5989</td></tr><tr><td>alpha</td><td>xp94</td><td>0.5985</td></tr><tr><td>alpha</td><td>xp100</td><td>0.5982</td></tr><tr><td>alpha</td><td>xp97</td><td>0.5979</td></tr><tr><td>alpha</td><td>xp96</td><td>0.5976</td></tr><tr><td>alpha</td><td>xp93</td><td>0.5961</td></tr><tr><td>alpha</td><td>xp95</td><td>0.5954</td></tr><tr><td>alpha</td><td>xp101</td><td>0.5945</td></tr><tr><td>alpha</td><td>xp92</td><td>0.5931</td></tr><tr><td>alpha</td><td>xp98</td><td>0.5750</td></tr><tr><td>sigma</td><td>xp100</td><td>0.4611</td></tr><tr><td>sigma</td><td>xp94</td><td>0.4584</td></tr><tr><td>sigma</td><td>xp101</td><td>0.4579</td></tr><tr><td>sigma</td><td>xp97</td><td>0.4573</td></tr><tr><td>sigma</td><td>xp99</td><td>0.4562</td></tr><tr><td>sigma</td><td>xp96</td><td>0.4554</td></tr><tr><td>sigma</td><td>xp95</td><td>0.4538</td></tr><tr><td>sigma</td><td>xp92</td><td>0.4518</td></tr><tr><td>sigma</td><td>xp93</td><td>0.4512</td></tr><tr><td>sigma</td><td>xp98</td><td>0.4417</td></tr><tr><td>gamma</td><td>sigma</td><td>-0.4245</td></tr><tr><td>xp99</td><td>xp100</td><td>0.3754</td></tr><tr><td>xp97</td><td>xp100</td><td>0.3750</td></tr><tr><td>xp94</td><td>xp100</td><td>0.3747</td></tr><tr><td>xp97</td><td>xp99</td><td>0.3745</td></tr><tr><td>xp96</td><td>xp100</td><td>0.3743</td></tr><tr><td>xp94</td><td>xp99</td><td>0.3743</td></tr><tr><td>xp100</td><td>xp101</td><td>0.3739</td></tr><tr><td>xp96</td><td>xp99</td><td>0.3738</td></tr><tr><td>xp94</td><td>xp97</td><td>0.3738</td></tr><tr><td>xp99</td><td>xp101</td><td>0.3734</td></tr><tr><td>xp96</td><td>xp97</td><td>0.3734</td></tr><tr><td>xp94</td><td>xp96</td><td>0.3732</td></tr><tr><td>xp97</td><td>xp101</td><td>0.3730</td></tr><tr><td>xp95</td><td>xp100</td><td>0.3728</td></tr><tr><td>xp94</td><td>xp101</td><td>0.3726</td></tr><tr><td>xp95</td><td>xp99</td><td>0.3724</td></tr><tr><td>xp96</td><td>xp101</td><td>0.3723</td></tr><tr><td>xp93</td><td>xp100</td><td>0.3721</td></tr><tr><td>xp95</td><td>xp97</td><td>0.3719</td></tr><tr><td>xp94</td><td>xp95</td><td>0.3717</td></tr><tr><td>xp93</td><td>xp99</td><td>0.3717</td></tr><tr><td>xp93</td><td>xp97</td><td>0.3713</td></tr><tr><td>xp95</td><td>xp96</td><td>0.3713</td></tr><tr><td>xp93</td><td>xp94</td><td>0.3712</td></tr><tr><td>xp92</td><td>xp100</td><td>0.3710</td></tr><tr><td>xp95</td><td>xp101</td><td>0.3708</td></tr><tr><td>xp93</td><td>xp96</td><td>0.3707</td></tr><tr><td>xp92</td><td>xp99</td><td>0.3705</td></tr><tr><td>xp92</td><td>xp97</td><td>0.3701</td></tr><tr><td>xp93</td><td>xp101</td><td>0.3700</td></tr><tr><td>xp92</td><td>xp94</td><td>0.3700</td></tr><tr><td>xp92</td><td>xp96</td><td>0.3695</td></tr><tr><td>xp93</td><td>xp95</td><td>0.3692</td></tr><tr><td>xp92</td><td>xp101</td><td>0.3689</td></tr><tr><td>xp92</td><td>xp95</td><td>0.3680</td></tr><tr><td>xp92</td><td>xp93</td><td>0.3675</td></tr><tr><td>xp98</td><td>xp100</td><td>0.3610</td></tr><tr><td>xp98</td><td>xp99</td><td>0.3605</td></tr><tr><td>xp97</td><td>xp98</td><td>0.3601</td></tr><tr><td>xp94</td><td>xp98</td><td>0.3599</td></tr><tr><td>xp96</td><td>xp98</td><td>0.3594</td></tr><tr><td>xp98</td><td>xp101</td><td>0.3591</td></tr><tr><td>xp95</td><td>xp98</td><td>0.3580</td></tr><tr><td>xp93</td><td>xp98</td><td>0.3574</td></tr><tr><td>xp92</td><td>xp98</td><td>0.3563</td></tr></table>"
      ],
      "text/plain": [
       "<lmfit.minimizer.MinimizerResult at 0x159c8c6d508>"
      ]
     },
     "execution_count": 117,
     "metadata": {},
     "output_type": "execute_result"
    }
   ],
   "source": [
    "# report_fit(result)\n",
    "xwFit['8_10'][1].result"
   ]
  },
  {
   "cell_type": "code",
   "execution_count": 118,
   "metadata": {
    "Collapsed": "false",
    "hidden": true
   },
   "outputs": [
    {
     "data": {
      "text/html": [
       "<h2>Fit Statistics</h2><table><tr><td>fitting method</td><td>leastsq</td><td></td></tr><tr><td># function evals</td><td>22</td><td></td></tr><tr><td># data points</td><td>1200</td><td></td></tr><tr><td># variables</td><td>20</td><td></td></tr><tr><td>chi-square</td><td> 2251.40070</td><td></td></tr><tr><td>reduced chi-square</td><td> 1.90796670</td><td></td></tr><tr><td>Akaike info crit.</td><td> 795.077201</td><td></td></tr><tr><td>Bayesian info crit.</td><td> 896.878737</td><td></td></tr></table><h2>Variables</h2><table><tr><th> name </th><th> value </th><th> standard error </th><th> relative error </th><th> initial value </th><th> min </th><th> max </th><th> vary </th></tr><tr><td> A92 </td><td>  146515.051 </td><td>  1657.55277 </td><td> (1.13%) </td><td> 146514.95128045324 </td><td>  0.00000000 </td><td>         inf </td><td> True </td></tr><tr><td> alpha </td><td>  125.228356 </td><td>  0.00000000 </td><td> (0.00%) </td><td> 125.22835607531131 </td><td>  0.00000000 </td><td>         inf </td><td> False </td></tr><tr><td> beta </td><td>  1.0000e-10 </td><td>  0.00000000 </td><td> (0.00%) </td><td> 1e-10 </td><td>  0.00000000 </td><td>         inf </td><td> False </td></tr><tr><td> R </td><td>  1.0000e-10 </td><td>  0.00000000 </td><td> (0.00%) </td><td> 1e-10 </td><td>  0.00000000 </td><td>         inf </td><td> False </td></tr><tr><td> gamma </td><td>  2.9688e-04 </td><td>  0.00000000 </td><td> (0.00%) </td><td> 0.00029688039835273905 </td><td>  0.00000000 </td><td>         inf </td><td> False </td></tr><tr><td> sigma </td><td>  0.00481572 </td><td>  0.00000000 </td><td> (0.00%) </td><td> 0.004815720125070033 </td><td>  0.00000000 </td><td>         inf </td><td> False </td></tr><tr><td> k </td><td>  0.05000000 </td><td>  0.00000000 </td><td> (0.00%) </td><td> 0.05 </td><td>  0.00000000 </td><td>         inf </td><td> False </td></tr><tr><td> xp92 </td><td> -8.01797093 </td><td>  1.4090e-04 </td><td> (0.00%) </td><td> -8.01797093189778 </td><td>        -inf </td><td>         inf </td><td> True </td></tr><tr><td> A93 </td><td>  148055.893 </td><td>  1652.61672 </td><td> (1.12%) </td><td> 148055.68883437302 </td><td>  0.00000000 </td><td>         inf </td><td> True </td></tr><tr><td> xp93 </td><td> -8.01807612 </td><td>  1.3932e-04 </td><td> (0.00%) </td><td> -8.018076126599587 </td><td>        -inf </td><td>         inf </td><td> True </td></tr><tr><td> A94 </td><td>  146243.496 </td><td>  1646.43527 </td><td> (1.13%) </td><td> 146243.257247273 </td><td>  0.00000000 </td><td>         inf </td><td> True </td></tr><tr><td> xp94 </td><td> -8.01802683 </td><td>  1.3890e-04 </td><td> (0.00%) </td><td> -8.018026845152397 </td><td>        -inf </td><td>         inf </td><td> True </td></tr><tr><td> A95 </td><td>  143828.309 </td><td>  1626.55246 </td><td> (1.13%) </td><td> 143828.4064187946 </td><td>  0.00000000 </td><td>         inf </td><td> True </td></tr><tr><td> xp95 </td><td> -8.01801758 </td><td>  1.4032e-04 </td><td> (0.00%) </td><td> -8.018017565367911 </td><td>        -inf </td><td>         inf </td><td> True </td></tr><tr><td> A96 </td><td>  144741.168 </td><td>  1634.85758 </td><td> (1.13%) </td><td> 144741.0814388377 </td><td>  0.00000000 </td><td>         inf </td><td> True </td></tr><tr><td> xp96 </td><td> -8.01786676 </td><td>  1.4013e-04 </td><td> (0.00%) </td><td> -8.017866740500438 </td><td>        -inf </td><td>         inf </td><td> True </td></tr><tr><td> A97 </td><td>  142869.738 </td><td>  1625.84300 </td><td> (1.14%) </td><td> 142869.81974147473 </td><td>  0.00000000 </td><td>         inf </td><td> True </td></tr><tr><td> xp97 </td><td> -8.01765999 </td><td>  1.4196e-04 </td><td> (0.00%) </td><td> -8.01765996467405 </td><td>        -inf </td><td>         inf </td><td> True </td></tr><tr><td> A98 </td><td>  142621.555 </td><td>  1741.83870 </td><td> (1.22%) </td><td> 142621.6403427846 </td><td>  0.00000000 </td><td>         inf </td><td> True </td></tr><tr><td> xp98 </td><td> -8.01759997 </td><td>  1.5052e-04 </td><td> (0.00%) </td><td> -8.017599941230872 </td><td>        -inf </td><td>         inf </td><td> True </td></tr><tr><td> A99 </td><td>  142454.993 </td><td>  1619.93760 </td><td> (1.14%) </td><td> 142455.08628852377 </td><td>  0.00000000 </td><td>         inf </td><td> True </td></tr><tr><td> xp99 </td><td> -8.01781709 </td><td>  1.4048e-04 </td><td> (0.00%) </td><td> -8.017817084734085 </td><td>        -inf </td><td>         inf </td><td> True </td></tr><tr><td> A100 </td><td>  140300.568 </td><td>  1612.71731 </td><td> (1.15%) </td><td> 140300.67934389794 </td><td>  0.00000000 </td><td>         inf </td><td> True </td></tr><tr><td> xp100 </td><td> -8.01792336 </td><td>  1.4111e-04 </td><td> (0.00%) </td><td> -8.01792332326384 </td><td>        -inf </td><td>         inf </td><td> True </td></tr><tr><td> A101 </td><td>  137521.609 </td><td>  1598.12378 </td><td> (1.16%) </td><td> 137521.8597142056 </td><td>  0.00000000 </td><td>         inf </td><td> True </td></tr><tr><td> xp101 </td><td> -8.01776234 </td><td>  1.4266e-04 </td><td> (0.00%) </td><td> -8.017762309601013 </td><td>        -inf </td><td>         inf </td><td> True </td></tr></table>"
      ],
      "text/plain": [
       "<lmfit.minimizer.MinimizerResult at 0x159c8bbee88>"
      ]
     },
     "execution_count": 118,
     "metadata": {},
     "output_type": "execute_result"
    }
   ],
   "source": [
    "# report_fit(result)\n",
    "xwFit['8_10'][2].result"
   ]
  },
  {
   "cell_type": "markdown",
   "metadata": {
    "heading_collapsed": true
   },
   "source": [
    "#### Results of weighted fit with 20 datasets"
   ]
  },
  {
   "cell_type": "code",
   "execution_count": 70,
   "metadata": {
    "Collapsed": "false",
    "hidden": true
   },
   "outputs": [
    {
     "data": {
      "text/html": [
       "<h2>Fit Statistics</h2><table><tr><td>fitting method</td><td>leastsq</td><td></td></tr><tr><td># function evals</td><td>5999</td><td></td></tr><tr><td># data points</td><td>2400</td><td></td></tr><tr><td># variables</td><td>45</td><td></td></tr><tr><td>chi-square</td><td> 4281.15719</td><td></td></tr><tr><td>reduced chi-square</td><td> 1.81790114</td><td></td></tr><tr><td>Akaike info crit.</td><td> 1479.01106</td><td></td></tr><tr><td>Bayesian info crit.</td><td> 1739.25614</td><td></td></tr></table><h2>Variables</h2><table><tr><th> name </th><th> value </th><th> standard error </th><th> relative error </th><th> initial value </th><th> min </th><th> max </th><th> vary </th></tr><tr><td> A82 </td><td>  522017.307 </td><td>  86237385.9 </td><td> (16520.02%) </td><td> 200000.0 </td><td>  0.00000000 </td><td>         inf </td><td> True </td></tr><tr><td> alpha </td><td>  127.556622 </td><td>  0.63041529 </td><td> (0.49%) </td><td> 140 </td><td>  0.00000000 </td><td>         inf </td><td> True </td></tr><tr><td> beta </td><td>  0.01844768 </td><td>  4.37392610 </td><td> (23709.90%) </td><td> 0.001 </td><td>  0.00000000 </td><td>         inf </td><td> True </td></tr><tr><td> R </td><td>  0.69818459 </td><td>  49.8598993 </td><td> (7141.36%) </td><td> 0.001 </td><td>  0.00000000 </td><td>         inf </td><td> True </td></tr><tr><td> gamma </td><td>  3.5324e-04 </td><td>  2.0412e-05 </td><td> (5.78%) </td><td> 0.001 </td><td>  0.00000000 </td><td>         inf </td><td> True </td></tr><tr><td> sigma </td><td>  0.00529943 </td><td>  7.6090e-05 </td><td> (1.44%) </td><td> 0.0066 </td><td>  0.00000000 </td><td>         inf </td><td> True </td></tr><tr><td> k </td><td>  0.05000000 </td><td>  0.00000000 </td><td> (0.00%) </td><td> 0.05 </td><td>  0.00000000 </td><td>         inf </td><td> False </td></tr><tr><td> xp82 </td><td> -8.01767327 </td><td>  1.5918e-04 </td><td> (0.00%) </td><td> -8.0 </td><td>        -inf </td><td>         inf </td><td> True </td></tr><tr><td> A83 </td><td>  508766.138 </td><td>  84048216.0 </td><td> (16520.01%) </td><td> 200000.0 </td><td>  0.00000000 </td><td>         inf </td><td> True </td></tr><tr><td> xp83 </td><td> -8.01766926 </td><td>  1.6049e-04 </td><td> (0.00%) </td><td> -8.0 </td><td>        -inf </td><td>         inf </td><td> True </td></tr><tr><td> A84 </td><td>  508652.265 </td><td>  84029456.4 </td><td> (16520.02%) </td><td> 200000.0 </td><td>  0.00000000 </td><td>         inf </td><td> True </td></tr><tr><td> xp84 </td><td> -8.01766483 </td><td>  1.6125e-04 </td><td> (0.00%) </td><td> -8.0 </td><td>        -inf </td><td>         inf </td><td> True </td></tr><tr><td> A85 </td><td>  505384.705 </td><td>  83489502.4 </td><td> (16519.99%) </td><td> 200000.0 </td><td>  0.00000000 </td><td>         inf </td><td> True </td></tr><tr><td> xp85 </td><td> -8.01770614 </td><td>  1.6050e-04 </td><td> (0.00%) </td><td> -8.0 </td><td>        -inf </td><td>         inf </td><td> True </td></tr><tr><td> A86 </td><td>  503185.937 </td><td>  83126387.3 </td><td> (16520.01%) </td><td> 200000.0 </td><td>  0.00000000 </td><td>         inf </td><td> True </td></tr><tr><td> xp86 </td><td> -8.01746637 </td><td>  1.6196e-04 </td><td> (0.00%) </td><td> -8.0 </td><td>        -inf </td><td>         inf </td><td> True </td></tr><tr><td> A87 </td><td>  498884.140 </td><td>  82415792.3 </td><td> (16520.03%) </td><td> 200000.0 </td><td>  0.00000000 </td><td>         inf </td><td> True </td></tr><tr><td> xp87 </td><td> -8.01765347 </td><td>  1.6150e-04 </td><td> (0.00%) </td><td> -8.0 </td><td>        -inf </td><td>         inf </td><td> True </td></tr><tr><td> A88 </td><td>  499325.904 </td><td>  82488693.2 </td><td> (16520.01%) </td><td> 200000.0 </td><td>  0.00000000 </td><td>         inf </td><td> True </td></tr><tr><td> xp88 </td><td> -8.01760282 </td><td>  1.6155e-04 </td><td> (0.00%) </td><td> -8.0 </td><td>        -inf </td><td>         inf </td><td> True </td></tr><tr><td> A89 </td><td>  504489.926 </td><td>  83341798.8 </td><td> (16520.01%) </td><td> 200000.0 </td><td>  0.00000000 </td><td>         inf </td><td> True </td></tr><tr><td> xp89 </td><td> -8.01779673 </td><td>  1.5861e-04 </td><td> (0.00%) </td><td> -8.0 </td><td>        -inf </td><td>         inf </td><td> True </td></tr><tr><td> A90 </td><td>  497501.287 </td><td>  82187289.1 </td><td> (16520.02%) </td><td> 200000.0 </td><td>  0.00000000 </td><td>         inf </td><td> True </td></tr><tr><td> xp90 </td><td> -8.01751375 </td><td>  1.6148e-04 </td><td> (0.00%) </td><td> -8.0 </td><td>        -inf </td><td>         inf </td><td> True </td></tr><tr><td> A91 </td><td>  495642.884 </td><td>  81880283.1 </td><td> (16520.02%) </td><td> 200000.0 </td><td>  0.00000000 </td><td>         inf </td><td> True </td></tr><tr><td> xp91 </td><td> -8.01761714 </td><td>  1.6114e-04 </td><td> (0.00%) </td><td> -8.0 </td><td>        -inf </td><td>         inf </td><td> True </td></tr><tr><td> A92 </td><td>  485094.815 </td><td>  80137791.5 </td><td> (16520.03%) </td><td> 200000.0 </td><td>  0.00000000 </td><td>         inf </td><td> True </td></tr><tr><td> xp92 </td><td> -8.01753120 </td><td>  1.6162e-04 </td><td> (0.00%) </td><td> -8.0 </td><td>        -inf </td><td>         inf </td><td> True </td></tr><tr><td> A93 </td><td>  490153.638 </td><td>  80973356.6 </td><td> (16520.00%) </td><td> 200000.0 </td><td>  0.00000000 </td><td>         inf </td><td> True </td></tr><tr><td> xp93 </td><td> -8.01765303 </td><td>  1.5972e-04 </td><td> (0.00%) </td><td> -8.0 </td><td>        -inf </td><td>         inf </td><td> True </td></tr><tr><td> A94 </td><td>  484055.686 </td><td>  79966138.1 </td><td> (16520.03%) </td><td> 200000.0 </td><td>  0.00000000 </td><td>         inf </td><td> True </td></tr><tr><td> xp94 </td><td> -8.01760168 </td><td>  1.6001e-04 </td><td> (0.00%) </td><td> -8.0 </td><td>        -inf </td><td>         inf </td><td> True </td></tr><tr><td> A95 </td><td>  475688.997 </td><td>  78583949.6 </td><td> (16520.03%) </td><td> 200000.0 </td><td>  0.00000000 </td><td>         inf </td><td> True </td></tr><tr><td> xp95 </td><td> -8.01755517 </td><td>  1.6153e-04 </td><td> (0.00%) </td><td> -8.0 </td><td>        -inf </td><td>         inf </td><td> True </td></tr><tr><td> A96 </td><td>  478553.765 </td><td>  79057160.2 </td><td> (16520.02%) </td><td> 200000.0 </td><td>  0.00000000 </td><td>         inf </td><td> True </td></tr><tr><td> xp96 </td><td> -8.01740990 </td><td>  1.6179e-04 </td><td> (0.00%) </td><td> -8.0 </td><td>        -inf </td><td>         inf </td><td> True </td></tr><tr><td> A97 </td><td>  472291.663 </td><td>  78022596.8 </td><td> (16520.00%) </td><td> 200000.0 </td><td>  0.00000000 </td><td>         inf </td><td> True </td></tr><tr><td> xp97 </td><td> -8.01717992 </td><td>  1.6279e-04 </td><td> (0.00%) </td><td> -8.0 </td><td>        -inf </td><td>         inf </td><td> True </td></tr><tr><td> A98 </td><td>  471503.260 </td><td>  77892430.1 </td><td> (16520.02%) </td><td> 200000.0 </td><td>  0.00000000 </td><td>         inf </td><td> True </td></tr><tr><td> xp98 </td><td> -8.01712050 </td><td>  1.7116e-04 </td><td> (0.00%) </td><td> -8.0 </td><td>        -inf </td><td>         inf </td><td> True </td></tr><tr><td> A99 </td><td>  471204.934 </td><td>  77843217.4 </td><td> (16520.03%) </td><td> 200000.0 </td><td>  0.00000000 </td><td>         inf </td><td> True </td></tr><tr><td> xp99 </td><td> -8.01734223 </td><td>  1.6213e-04 </td><td> (0.00%) </td><td> -8.0 </td><td>        -inf </td><td>         inf </td><td> True </td></tr><tr><td> A100 </td><td>  463646.038 </td><td>  76594426.0 </td><td> (16520.02%) </td><td> 200000.0 </td><td>  0.00000000 </td><td>         inf </td><td> True </td></tr><tr><td> xp100 </td><td> -8.01743797 </td><td>  1.6312e-04 </td><td> (0.00%) </td><td> -8.0 </td><td>        -inf </td><td>         inf </td><td> True </td></tr><tr><td> A101 </td><td>  454337.210 </td><td>  75056658.9 </td><td> (16520.03%) </td><td> 200000.0 </td><td>  0.00000000 </td><td>         inf </td><td> True </td></tr><tr><td> xp101 </td><td> -8.01726183 </td><td>  1.6400e-04 </td><td> (0.00%) </td><td> -8.0 </td><td>        -inf </td><td>         inf </td><td> True </td></tr></table><h2>Correlations (unreported correlations are < 0.100)</h2><table><tr><td>R</td><td>A93</td><td>1.0000</td></tr><tr><td>R</td><td>A83</td><td>1.0000</td></tr><tr><td>R</td><td>A84</td><td>1.0000</td></tr><tr><td>R</td><td>A96</td><td>1.0000</td></tr><tr><td>R</td><td>A88</td><td>1.0000</td></tr><tr><td>R</td><td>A92</td><td>1.0000</td></tr><tr><td>A82</td><td>R</td><td>1.0000</td></tr><tr><td>R</td><td>A90</td><td>1.0000</td></tr><tr><td>R</td><td>A91</td><td>1.0000</td></tr><tr><td>R</td><td>A87</td><td>1.0000</td></tr><tr><td>R</td><td>A86</td><td>1.0000</td></tr><tr><td>R</td><td>A100</td><td>1.0000</td></tr><tr><td>R</td><td>A85</td><td>1.0000</td></tr><tr><td>R</td><td>A94</td><td>1.0000</td></tr><tr><td>R</td><td>A99</td><td>1.0000</td></tr><tr><td>R</td><td>A95</td><td>1.0000</td></tr><tr><td>R</td><td>A89</td><td>1.0000</td></tr><tr><td>R</td><td>A97</td><td>1.0000</td></tr><tr><td>R</td><td>A101</td><td>1.0000</td></tr><tr><td>R</td><td>A98</td><td>1.0000</td></tr><tr><td>A89</td><td>A93</td><td>1.0000</td></tr><tr><td>A85</td><td>A93</td><td>1.0000</td></tr><tr><td>A89</td><td>A96</td><td>1.0000</td></tr><tr><td>A89</td><td>A92</td><td>1.0000</td></tr><tr><td>A89</td><td>A90</td><td>1.0000</td></tr><tr><td>A89</td><td>A91</td><td>1.0000</td></tr><tr><td>A85</td><td>A96</td><td>1.0000</td></tr><tr><td>A85</td><td>A88</td><td>1.0000</td></tr><tr><td>A86</td><td>A93</td><td>1.0000</td></tr><tr><td>A85</td><td>A92</td><td>1.0000</td></tr><tr><td>A85</td><td>A90</td><td>1.0000</td></tr><tr><td>A85</td><td>A91</td><td>1.0000</td></tr><tr><td>A82</td><td>A93</td><td>1.0000</td></tr><tr><td>A85</td><td>A87</td><td>1.0000</td></tr><tr><td>A89</td><td>A100</td><td>1.0000</td></tr><tr><td>A91</td><td>A93</td><td>1.0000</td></tr><tr><td>A87</td><td>A93</td><td>1.0000</td></tr><tr><td>A86</td><td>A96</td><td>1.0000</td></tr><tr><td>A90</td><td>A93</td><td>1.0000</td></tr><tr><td>A89</td><td>A94</td><td>1.0000</td></tr><tr><td>A86</td><td>A88</td><td>1.0000</td></tr><tr><td>A82</td><td>A83</td><td>1.0000</td></tr><tr><td>A84</td><td>A93</td><td>1.0000</td></tr><tr><td>A89</td><td>A99</td><td>1.0000</td></tr><tr><td>A85</td><td>A86</td><td>1.0000</td></tr><tr><td>A89</td><td>A95</td><td>1.0000</td></tr><tr><td>A86</td><td>A92</td><td>1.0000</td></tr><tr><td>A83</td><td>A93</td><td>1.0000</td></tr><tr><td>A88</td><td>A93</td><td>1.0000</td></tr><tr><td>A82</td><td>A84</td><td>1.0000</td></tr><tr><td>A86</td><td>A90</td><td>1.0000</td></tr><tr><td>A82</td><td>A96</td><td>1.0000</td></tr><tr><td>A85</td><td>A100</td><td>1.0000</td></tr><tr><td>A82</td><td>A88</td><td>1.0000</td></tr><tr><td>A86</td><td>A91</td><td>1.0000</td></tr><tr><td>A91</td><td>A96</td><td>1.0000</td></tr><tr><td>A87</td><td>A96</td><td>1.0000</td></tr><tr><td>A87</td><td>A88</td><td>1.0000</td></tr><tr><td>A85</td><td>A94</td><td>1.0000</td></tr><tr><td>A86</td><td>A87</td><td>1.0000</td></tr><tr><td>A82</td><td>A92</td><td>1.0000</td></tr><tr><td>A90</td><td>A96</td><td>1.0000</td></tr><tr><td>A85</td><td>A99</td><td>1.0000</td></tr><tr><td>A84</td><td>A96</td><td>1.0000</td></tr><tr><td>A91</td><td>A92</td><td>1.0000</td></tr><tr><td>A84</td><td>A88</td><td>1.0000</td></tr><tr><td>A94</td><td>A96</td><td>1.0000</td></tr><tr><td>A89</td><td>A97</td><td>1.0000</td></tr><tr><td>A87</td><td>A92</td><td>1.0000</td></tr><tr><td>A85</td><td>A95</td><td>1.0000</td></tr><tr><td>A85</td><td>A89</td><td>1.0000</td></tr><tr><td>A90</td><td>A92</td><td>1.0000</td></tr><tr><td>A82</td><td>A90</td><td>1.0000</td></tr><tr><td>A84</td><td>A92</td><td>1.0000</td></tr><tr><td>A83</td><td>A84</td><td>1.0000</td></tr><tr><td>A87</td><td>A90</td><td>1.0000</td></tr><tr><td>A89</td><td>A101</td><td>1.0000</td></tr><tr><td>A83</td><td>A96</td><td>1.0000</td></tr><tr><td>A82</td><td>A91</td><td>1.0000</td></tr><tr><td>A88</td><td>A96</td><td>1.0000</td></tr><tr><td>A83</td><td>A88</td><td>1.0000</td></tr><tr><td>A95</td><td>A96</td><td>1.0000</td></tr><tr><td>A87</td><td>A91</td><td>1.0000</td></tr><tr><td>A82</td><td>A87</td><td>1.0000</td></tr><tr><td>A84</td><td>A90</td><td>1.0000</td></tr><tr><td>A83</td><td>A92</td><td>1.0000</td></tr><tr><td>A88</td><td>A92</td><td>1.0000</td></tr><tr><td>A90</td><td>A91</td><td>1.0000</td></tr><tr><td>A84</td><td>A91</td><td>1.0000</td></tr><tr><td>A86</td><td>A100</td><td>1.0000</td></tr><tr><td>A84</td><td>A87</td><td>1.0000</td></tr><tr><td>A82</td><td>A86</td><td>1.0000</td></tr><tr><td>A85</td><td>A97</td><td>1.0000</td></tr><tr><td>A83</td><td>A90</td><td>1.0000</td></tr><tr><td>A88</td><td>A90</td><td>1.0000</td></tr><tr><td>A86</td><td>A94</td><td>1.0000</td></tr><tr><td>A86</td><td>A99</td><td>1.0000</td></tr><tr><td>A83</td><td>A91</td><td>1.0000</td></tr><tr><td>A88</td><td>A91</td><td>1.0000</td></tr><tr><td>A86</td><td>A95</td><td>1.0000</td></tr><tr><td>A86</td><td>A89</td><td>1.0000</td></tr><tr><td>A85</td><td>A101</td><td>1.0000</td></tr><tr><td>A84</td><td>A86</td><td>1.0000</td></tr><tr><td>A83</td><td>A87</td><td>1.0000</td></tr><tr><td>A92</td><td>A93</td><td>1.0000</td></tr><tr><td>A82</td><td>A100</td><td>1.0000</td></tr><tr><td>A82</td><td>A85</td><td>1.0000</td></tr><tr><td>A91</td><td>A100</td><td>1.0000</td></tr><tr><td>A87</td><td>A100</td><td>1.0000</td></tr><tr><td>A83</td><td>A86</td><td>1.0000</td></tr><tr><td>A82</td><td>A94</td><td>1.0000</td></tr><tr><td>A90</td><td>A100</td><td>1.0000</td></tr><tr><td>A82</td><td>A99</td><td>1.0000</td></tr><tr><td>A91</td><td>A94</td><td>1.0000</td></tr><tr><td>A84</td><td>A100</td><td>1.0000</td></tr><tr><td>A87</td><td>A94</td><td>1.0000</td></tr><tr><td>A94</td><td>A100</td><td>1.0000</td></tr><tr><td>A82</td><td>A95</td><td>1.0000</td></tr><tr><td>A91</td><td>A99</td><td>1.0000</td></tr><tr><td>A84</td><td>A85</td><td>1.0000</td></tr><tr><td>A82</td><td>A89</td><td>1.0000</td></tr><tr><td>A87</td><td>A99</td><td>1.0000</td></tr><tr><td>A90</td><td>A94</td><td>1.0000</td></tr><tr><td>A91</td><td>A95</td><td>1.0000</td></tr><tr><td>A87</td><td>A95</td><td>1.0000</td></tr><tr><td>A84</td><td>A94</td><td>1.0000</td></tr><tr><td>A97</td><td>A100</td><td>1.0000</td></tr><tr><td>A90</td><td>A99</td><td>1.0000</td></tr><tr><td>A87</td><td>A89</td><td>1.0000</td></tr><tr><td>A86</td><td>A97</td><td>1.0000</td></tr><tr><td>A93</td><td>A96</td><td>1.0000</td></tr><tr><td>A84</td><td>A99</td><td>1.0000</td></tr><tr><td>A90</td><td>A95</td><td>1.0000</td></tr><tr><td>A94</td><td>A99</td><td>1.0000</td></tr><tr><td>A83</td><td>A100</td><td>1.0000</td></tr><tr><td>A84</td><td>A95</td><td>1.0000</td></tr><tr><td>A88</td><td>A100</td><td>1.0000</td></tr><tr><td>A95</td><td>A100</td><td>1.0000</td></tr><tr><td>A84</td><td>A89</td><td>1.0000</td></tr><tr><td>A94</td><td>A95</td><td>1.0000</td></tr><tr><td>A83</td><td>A85</td><td>1.0000</td></tr><tr><td>A92</td><td>A96</td><td>1.0000</td></tr><tr><td>A97</td><td>A99</td><td>1.0000</td></tr><tr><td>A86</td><td>A101</td><td>1.0000</td></tr><tr><td>A83</td><td>A94</td><td>1.0000</td></tr><tr><td>A88</td><td>A94</td><td>1.0000</td></tr><tr><td>A83</td><td>A99</td><td>1.0000</td></tr><tr><td>A88</td><td>A99</td><td>1.0000</td></tr><tr><td>A95</td><td>A99</td><td>1.0000</td></tr><tr><td>A83</td><td>A95</td><td>1.0000</td></tr><tr><td>A88</td><td>A95</td><td>1.0000</td></tr><tr><td>A83</td><td>A89</td><td>1.0000</td></tr><tr><td>A88</td><td>A89</td><td>1.0000</td></tr><tr><td>A82</td><td>A97</td><td>1.0000</td></tr><tr><td>A91</td><td>A97</td><td>1.0000</td></tr><tr><td>A99</td><td>A100</td><td>1.0000</td></tr><tr><td>A87</td><td>A97</td><td>1.0000</td></tr><tr><td>A90</td><td>A97</td><td>1.0000</td></tr><tr><td>A82</td><td>A101</td><td>1.0000</td></tr><tr><td>A84</td><td>A97</td><td>1.0000</td></tr><tr><td>A94</td><td>A97</td><td>1.0000</td></tr><tr><td>A91</td><td>A101</td><td>1.0000</td></tr><tr><td>A87</td><td>A101</td><td>1.0000</td></tr><tr><td>A90</td><td>A101</td><td>1.0000</td></tr><tr><td>A84</td><td>A101</td><td>1.0000</td></tr><tr><td>A94</td><td>A101</td><td>1.0000</td></tr><tr><td>A83</td><td>A97</td><td>1.0000</td></tr><tr><td>A88</td><td>A97</td><td>1.0000</td></tr><tr><td>A95</td><td>A97</td><td>1.0000</td></tr><tr><td>A97</td><td>A101</td><td>1.0000</td></tr><tr><td>A83</td><td>A101</td><td>1.0000</td></tr><tr><td>A88</td><td>A101</td><td>1.0000</td></tr><tr><td>A95</td><td>A101</td><td>1.0000</td></tr><tr><td>A93</td><td>A100</td><td>1.0000</td></tr><tr><td>A98</td><td>A100</td><td>1.0000</td></tr><tr><td>A92</td><td>A100</td><td>1.0000</td></tr><tr><td>A93</td><td>A94</td><td>1.0000</td></tr><tr><td>A93</td><td>A99</td><td>1.0000</td></tr><tr><td>A96</td><td>A100</td><td>1.0000</td></tr><tr><td>A93</td><td>A95</td><td>1.0000</td></tr><tr><td>A92</td><td>A94</td><td>1.0000</td></tr><tr><td>A98</td><td>A99</td><td>1.0000</td></tr><tr><td>A92</td><td>A99</td><td>1.0000</td></tr><tr><td>A99</td><td>A101</td><td>1.0000</td></tr><tr><td>A92</td><td>A95</td><td>1.0000</td></tr><tr><td>A96</td><td>A99</td><td>1.0000</td></tr><tr><td>A93</td><td>A97</td><td>1.0000</td></tr><tr><td>A92</td><td>A97</td><td>1.0000</td></tr><tr><td>A93</td><td>A101</td><td>1.0000</td></tr><tr><td>A96</td><td>A97</td><td>1.0000</td></tr><tr><td>A98</td><td>A101</td><td>1.0000</td></tr><tr><td>A92</td><td>A101</td><td>1.0000</td></tr><tr><td>A96</td><td>A101</td><td>1.0000</td></tr><tr><td>A100</td><td>A101</td><td>1.0000</td></tr><tr><td>A89</td><td>A98</td><td>1.0000</td></tr><tr><td>A85</td><td>A98</td><td>1.0000</td></tr><tr><td>A86</td><td>A98</td><td>1.0000</td></tr><tr><td>A82</td><td>A98</td><td>1.0000</td></tr><tr><td>A91</td><td>A98</td><td>1.0000</td></tr><tr><td>A87</td><td>A98</td><td>1.0000</td></tr><tr><td>A90</td><td>A98</td><td>1.0000</td></tr><tr><td>A84</td><td>A98</td><td>1.0000</td></tr><tr><td>A94</td><td>A98</td><td>1.0000</td></tr><tr><td>A97</td><td>A98</td><td>1.0000</td></tr><tr><td>A83</td><td>A98</td><td>1.0000</td></tr><tr><td>A88</td><td>A98</td><td>1.0000</td></tr><tr><td>A95</td><td>A98</td><td>1.0000</td></tr><tr><td>A93</td><td>A98</td><td>1.0000</td></tr><tr><td>A92</td><td>A98</td><td>1.0000</td></tr><tr><td>A96</td><td>A98</td><td>1.0000</td></tr><tr><td>beta</td><td>R</td><td>-1.0000</td></tr><tr><td>beta</td><td>A93</td><td>-1.0000</td></tr><tr><td>beta</td><td>A83</td><td>-1.0000</td></tr><tr><td>beta</td><td>A96</td><td>-1.0000</td></tr><tr><td>beta</td><td>A84</td><td>-1.0000</td></tr><tr><td>beta</td><td>A88</td><td>-1.0000</td></tr><tr><td>beta</td><td>A92</td><td>-1.0000</td></tr><tr><td>beta</td><td>A90</td><td>-1.0000</td></tr><tr><td>beta</td><td>A91</td><td>-1.0000</td></tr><tr><td>beta</td><td>A87</td><td>-1.0000</td></tr><tr><td>beta</td><td>A86</td><td>-1.0000</td></tr><tr><td>beta</td><td>A100</td><td>-1.0000</td></tr><tr><td>beta</td><td>A85</td><td>-1.0000</td></tr><tr><td>beta</td><td>A94</td><td>-1.0000</td></tr><tr><td>beta</td><td>A89</td><td>-1.0000</td></tr><tr><td>beta</td><td>A95</td><td>-1.0000</td></tr><tr><td>beta</td><td>A99</td><td>-1.0000</td></tr><tr><td>beta</td><td>A97</td><td>-1.0000</td></tr><tr><td>beta</td><td>A101</td><td>-1.0000</td></tr><tr><td>A82</td><td>beta</td><td>-1.0000</td></tr><tr><td>beta</td><td>A98</td><td>-1.0000</td></tr><tr><td>alpha</td><td>sigma</td><td>0.6988</td></tr><tr><td>alpha</td><td>xp100</td><td>0.5006</td></tr><tr><td>alpha</td><td>xp96</td><td>0.5003</td></tr><tr><td>alpha</td><td>xp99</td><td>0.5002</td></tr><tr><td>alpha</td><td>xp94</td><td>0.4927</td></tr><tr><td>alpha</td><td>xp95</td><td>0.4918</td></tr><tr><td>alpha</td><td>xp82</td><td>0.4881</td></tr><tr><td>alpha</td><td>xp101</td><td>0.4869</td></tr><tr><td>alpha</td><td>xp92</td><td>0.4862</td></tr><tr><td>alpha</td><td>xp89</td><td>0.4854</td></tr><tr><td>alpha</td><td>xp84</td><td>0.4849</td></tr><tr><td>alpha</td><td>xp90</td><td>0.4808</td></tr><tr><td>alpha</td><td>xp98</td><td>0.4806</td></tr><tr><td>alpha</td><td>xp87</td><td>0.4779</td></tr><tr><td>alpha</td><td>xp88</td><td>0.4779</td></tr><tr><td>alpha</td><td>xp93</td><td>0.4774</td></tr><tr><td>alpha</td><td>xp86</td><td>0.4757</td></tr><tr><td>alpha</td><td>xp97</td><td>0.4737</td></tr><tr><td>alpha</td><td>xp91</td><td>0.4717</td></tr><tr><td>alpha</td><td>xp83</td><td>0.4658</td></tr><tr><td>alpha</td><td>xp85</td><td>0.4635</td></tr><tr><td>gamma</td><td>sigma</td><td>-0.4191</td></tr><tr><td>sigma</td><td>xp100</td><td>0.4094</td></tr><tr><td>alpha</td><td>beta</td><td>0.4086</td></tr><tr><td>alpha</td><td>A101</td><td>-0.4085</td></tr><tr><td>alpha</td><td>A97</td><td>-0.4085</td></tr><tr><td>alpha</td><td>A100</td><td>-0.4085</td></tr><tr><td>alpha</td><td>A96</td><td>-0.4085</td></tr><tr><td>alpha</td><td>A95</td><td>-0.4085</td></tr><tr><td>alpha</td><td>A89</td><td>-0.4085</td></tr><tr><td>alpha</td><td>A99</td><td>-0.4085</td></tr><tr><td>alpha</td><td>A98</td><td>-0.4085</td></tr><tr><td>alpha</td><td>A92</td><td>-0.4085</td></tr><tr><td>alpha</td><td>A85</td><td>-0.4085</td></tr><tr><td>alpha</td><td>A91</td><td>-0.4085</td></tr><tr><td>alpha</td><td>A83</td><td>-0.4085</td></tr><tr><td>alpha</td><td>A94</td><td>-0.4085</td></tr><tr><td>alpha</td><td>A90</td><td>-0.4085</td></tr><tr><td>alpha</td><td>A88</td><td>-0.4085</td></tr><tr><td>alpha</td><td>A93</td><td>-0.4085</td></tr><tr><td>alpha</td><td>A84</td><td>-0.4085</td></tr><tr><td>alpha</td><td>A87</td><td>-0.4085</td></tr><tr><td>alpha</td><td>A86</td><td>-0.4085</td></tr><tr><td>alpha</td><td>R</td><td>-0.4085</td></tr><tr><td>A82</td><td>alpha</td><td>-0.4085</td></tr><tr><td>sigma</td><td>xp99</td><td>0.4057</td></tr><tr><td>sigma</td><td>xp96</td><td>0.4056</td></tr><tr><td>sigma</td><td>xp94</td><td>0.4006</td></tr><tr><td>sigma</td><td>xp101</td><td>0.3985</td></tr><tr><td>sigma</td><td>xp95</td><td>0.3984</td></tr><tr><td>sigma</td><td>xp92</td><td>0.3932</td></tr><tr><td>sigma</td><td>xp98</td><td>0.3924</td></tr><tr><td>sigma</td><td>xp89</td><td>0.3892</td></tr><tr><td>sigma</td><td>xp97</td><td>0.3851</td></tr><tr><td>sigma</td><td>xp93</td><td>0.3840</td></tr><tr><td>sigma</td><td>xp84</td><td>0.3840</td></tr><tr><td>sigma</td><td>xp82</td><td>0.3825</td></tr><tr><td>sigma</td><td>xp90</td><td>0.3818</td></tr><tr><td>sigma</td><td>xp87</td><td>0.3778</td></tr><tr><td>sigma</td><td>xp88</td><td>0.3776</td></tr><tr><td>sigma</td><td>xp91</td><td>0.3756</td></tr><tr><td>sigma</td><td>xp86</td><td>0.3747</td></tr><tr><td>sigma</td><td>xp83</td><td>0.3689</td></tr><tr><td>sigma</td><td>xp85</td><td>0.3658</td></tr><tr><td>beta</td><td>sigma</td><td>0.3347</td></tr><tr><td>sigma</td><td>A101</td><td>-0.3346</td></tr><tr><td>sigma</td><td>A97</td><td>-0.3346</td></tr><tr><td>sigma</td><td>A98</td><td>-0.3346</td></tr><tr><td>sigma</td><td>A100</td><td>-0.3346</td></tr><tr><td>sigma</td><td>A99</td><td>-0.3346</td></tr><tr><td>sigma</td><td>A96</td><td>-0.3346</td></tr><tr><td>sigma</td><td>A95</td><td>-0.3346</td></tr><tr><td>sigma</td><td>A94</td><td>-0.3346</td></tr><tr><td>sigma</td><td>A92</td><td>-0.3346</td></tr><tr><td>sigma</td><td>A89</td><td>-0.3346</td></tr><tr><td>sigma</td><td>A93</td><td>-0.3346</td></tr><tr><td>sigma</td><td>A90</td><td>-0.3346</td></tr><tr><td>sigma</td><td>A91</td><td>-0.3346</td></tr><tr><td>sigma</td><td>A85</td><td>-0.3346</td></tr><tr><td>sigma</td><td>A83</td><td>-0.3346</td></tr><tr><td>sigma</td><td>A84</td><td>-0.3346</td></tr><tr><td>sigma</td><td>A88</td><td>-0.3346</td></tr><tr><td>sigma</td><td>A87</td><td>-0.3346</td></tr><tr><td>sigma</td><td>A86</td><td>-0.3346</td></tr><tr><td>A82</td><td>sigma</td><td>-0.3346</td></tr><tr><td>R</td><td>sigma</td><td>-0.3346</td></tr><tr><td>xp99</td><td>xp100</td><td>0.2721</td></tr><tr><td>xp96</td><td>xp100</td><td>0.2711</td></tr><tr><td>xp96</td><td>xp99</td><td>0.2709</td></tr><tr><td>xp94</td><td>xp100</td><td>0.2690</td></tr><tr><td>xp94</td><td>xp99</td><td>0.2689</td></tr><tr><td>xp100</td><td>xp101</td><td>0.2685</td></tr><tr><td>xp99</td><td>xp101</td><td>0.2684</td></tr><tr><td>xp95</td><td>xp100</td><td>0.2681</td></tr><tr><td>xp95</td><td>xp99</td><td>0.2680</td></tr><tr><td>xp94</td><td>xp96</td><td>0.2678</td></tr><tr><td>xp96</td><td>xp101</td><td>0.2672</td></tr><tr><td>xp95</td><td>xp96</td><td>0.2669</td></tr><tr><td>xp94</td><td>xp101</td><td>0.2657</td></tr><tr><td>xp92</td><td>xp100</td><td>0.2655</td></tr><tr><td>xp92</td><td>xp99</td><td>0.2654</td></tr><tr><td>xp89</td><td>xp100</td><td>0.2653</td></tr><tr><td>xp89</td><td>xp99</td><td>0.2652</td></tr><tr><td>xp94</td><td>xp95</td><td>0.2652</td></tr><tr><td>xp97</td><td>xp99</td><td>0.2649</td></tr><tr><td>xp97</td><td>xp100</td><td>0.2648</td></tr><tr><td>xp95</td><td>xp101</td><td>0.2647</td></tr><tr><td>xp92</td><td>xp96</td><td>0.2643</td></tr><tr><td>xp89</td><td>xp96</td><td>0.2642</td></tr><tr><td>xp96</td><td>xp97</td><td>0.2635</td></tr><tr><td>xp93</td><td>xp100</td><td>0.2634</td></tr><tr><td>xp93</td><td>xp99</td><td>0.2634</td></tr><tr><td>xp97</td><td>xp101</td><td>0.2632</td></tr><tr><td>xp94</td><td>xp97</td><td>0.2630</td></tr><tr><td>xp89</td><td>xp94</td><td>0.2629</td></tr><tr><td>xp92</td><td>xp94</td><td>0.2628</td></tr><tr><td>xp89</td><td>xp101</td><td>0.2624</td></tr><tr><td>xp92</td><td>xp101</td><td>0.2623</td></tr><tr><td>xp82</td><td>xp100</td><td>0.2622</td></tr><tr><td>xp93</td><td>xp96</td><td>0.2622</td></tr><tr><td>xp82</td><td>xp99</td><td>0.2621</td></tr><tr><td>xp89</td><td>xp95</td><td>0.2618</td></tr><tr><td>xp92</td><td>xp95</td><td>0.2618</td></tr><tr><td>xp95</td><td>xp97</td><td>0.2617</td></tr><tr><td>xp90</td><td>xp100</td><td>0.2614</td></tr><tr><td>xp93</td><td>xp94</td><td>0.2614</td></tr><tr><td>xp90</td><td>xp99</td><td>0.2613</td></tr><tr><td>xp82</td><td>xp96</td><td>0.2613</td></tr><tr><td>xp84</td><td>xp100</td><td>0.2613</td></tr><tr><td>xp84</td><td>xp99</td><td>0.2611</td></tr><tr><td>xp93</td><td>xp101</td><td>0.2611</td></tr><tr><td>xp98</td><td>xp100</td><td>0.2607</td></tr><tr><td>xp98</td><td>xp99</td><td>0.2604</td></tr><tr><td>xp90</td><td>xp96</td><td>0.2603</td></tr><tr><td>xp84</td><td>xp96</td><td>0.2603</td></tr><tr><td>xp89</td><td>xp97</td><td>0.2602</td></tr><tr><td>xp93</td><td>xp95</td><td>0.2601</td></tr><tr><td>xp93</td><td>xp97</td><td>0.2597</td></tr><tr><td>xp92</td><td>xp97</td><td>0.2597</td></tr><tr><td>xp91</td><td>xp99</td><td>0.2596</td></tr><tr><td>xp89</td><td>xp92</td><td>0.2595</td></tr><tr><td>xp91</td><td>xp100</td><td>0.2595</td></tr><tr><td>xp82</td><td>xp94</td><td>0.2595</td></tr><tr><td>xp96</td><td>xp98</td><td>0.2595</td></tr><tr><td>xp88</td><td>xp100</td><td>0.2591</td></tr><tr><td>xp88</td><td>xp99</td><td>0.2590</td></tr><tr><td>xp90</td><td>xp94</td><td>0.2589</td></tr><tr><td>xp87</td><td>xp100</td><td>0.2589</td></tr><tr><td>xp87</td><td>xp99</td><td>0.2588</td></tr><tr><td>xp84</td><td>xp94</td><td>0.2585</td></tr><tr><td>xp82</td><td>xp95</td><td>0.2585</td></tr><tr><td>xp89</td><td>xp93</td><td>0.2585</td></tr><tr><td>xp82</td><td>xp101</td><td>0.2585</td></tr><tr><td>xp91</td><td>xp96</td><td>0.2584</td></tr><tr><td>xp90</td><td>xp101</td><td>0.2582</td></tr><tr><td>xp88</td><td>xp96</td><td>0.2581</td></tr><tr><td>xp92</td><td>xp93</td><td>0.2580</td></tr><tr><td>xp87</td><td>xp96</td><td>0.2579</td></tr><tr><td>xp86</td><td>xp100</td><td>0.2579</td></tr><tr><td>xp86</td><td>xp99</td><td>0.2578</td></tr><tr><td>xp90</td><td>xp95</td><td>0.2578</td></tr><tr><td>xp84</td><td>xp101</td><td>0.2576</td></tr><tr><td>xp91</td><td>xp94</td><td>0.2576</td></tr><tr><td>xp84</td><td>xp95</td><td>0.2575</td></tr><tr><td>xp94</td><td>xp98</td><td>0.2574</td></tr><tr><td>xp91</td><td>xp101</td><td>0.2572</td></tr><tr><td>xp86</td><td>xp96</td><td>0.2569</td></tr><tr><td>xp98</td><td>xp101</td><td>0.2568</td></tr><tr><td>xp88</td><td>xp94</td><td>0.2566</td></tr><tr><td>xp95</td><td>xp98</td><td>0.2565</td></tr><tr><td>xp83</td><td>xp99</td><td>0.2565</td></tr><tr><td>xp83</td><td>xp100</td><td>0.2564</td></tr><tr><td>xp87</td><td>xp94</td><td>0.2564</td></tr><tr><td>xp82</td><td>xp89</td><td>0.2564</td></tr><tr><td>xp91</td><td>xp95</td><td>0.2564</td></tr><tr><td>xp82</td><td>xp92</td><td>0.2562</td></tr><tr><td>xp91</td><td>xp97</td><td>0.2559</td></tr><tr><td>xp88</td><td>xp101</td><td>0.2559</td></tr><tr><td>xp89</td><td>xp90</td><td>0.2558</td></tr><tr><td>xp90</td><td>xp97</td><td>0.2558</td></tr><tr><td>xp87</td><td>xp101</td><td>0.2556</td></tr><tr><td>xp90</td><td>xp92</td><td>0.2556</td></tr><tr><td>xp88</td><td>xp95</td><td>0.2556</td></tr><tr><td>xp86</td><td>xp94</td><td>0.2555</td></tr><tr><td>xp82</td><td>xp97</td><td>0.2554</td></tr><tr><td>xp83</td><td>xp96</td><td>0.2553</td></tr><tr><td>xp87</td><td>xp95</td><td>0.2553</td></tr><tr><td>xp84</td><td>xp89</td><td>0.2553</td></tr><tr><td>xp85</td><td>xp99</td><td>0.2553</td></tr><tr><td>xp85</td><td>xp100</td><td>0.2552</td></tr><tr><td>xp84</td><td>xp92</td><td>0.2552</td></tr><tr><td>xp89</td><td>xp91</td><td>0.2548</td></tr><tr><td>xp86</td><td>xp101</td><td>0.2547</td></tr><tr><td>xp83</td><td>xp94</td><td>0.2547</td></tr><tr><td>xp84</td><td>xp97</td><td>0.2545</td></tr><tr><td>xp82</td><td>xp93</td><td>0.2545</td></tr><tr><td>xp86</td><td>xp95</td><td>0.2544</td></tr><tr><td>xp90</td><td>xp93</td><td>0.2543</td></tr><tr><td>xp91</td><td>xp92</td><td>0.2543</td></tr><tr><td>xp83</td><td>xp101</td><td>0.2543</td></tr><tr><td>xp85</td><td>xp96</td><td>0.2541</td></tr><tr><td>xp92</td><td>xp98</td><td>0.2540</td></tr><tr><td>xp91</td><td>xp93</td><td>0.2539</td></tr><tr><td>xp89</td><td>xp98</td><td>0.2537</td></tr><tr><td>xp88</td><td>xp89</td><td>0.2536</td></tr><tr><td>xp85</td><td>xp94</td><td>0.2535</td></tr><tr><td>xp84</td><td>xp93</td><td>0.2535</td></tr><tr><td>xp83</td><td>xp95</td><td>0.2534</td></tr><tr><td>xp88</td><td>xp97</td><td>0.2534</td></tr><tr><td>xp88</td><td>xp92</td><td>0.2533</td></tr><tr><td>xp87</td><td>xp89</td><td>0.2533</td></tr><tr><td>xp83</td><td>xp97</td><td>0.2533</td></tr><tr><td>xp85</td><td>xp101</td><td>0.2532</td></tr><tr><td>xp87</td><td>xp92</td><td>0.2531</td></tr><tr><td>xp87</td><td>xp97</td><td>0.2530</td></tr><tr><td>xp97</td><td>xp98</td><td>0.2530</td></tr><tr><td>xp82</td><td>xp84</td><td>0.2527</td></tr><tr><td>xp82</td><td>xp90</td><td>0.2527</td></tr><tr><td>xp86</td><td>xp89</td><td>0.2525</td></tr><tr><td>xp86</td><td>xp97</td><td>0.2524</td></tr><tr><td>xp85</td><td>xp95</td><td>0.2522</td></tr><tr><td>xp86</td><td>xp92</td><td>0.2522</td></tr><tr><td>xp85</td><td>xp97</td><td>0.2522</td></tr><tr><td>xp83</td><td>xp89</td><td>0.2521</td></tr><tr><td>xp88</td><td>xp93</td><td>0.2521</td></tr><tr><td>xp93</td><td>xp98</td><td>0.2518</td></tr><tr><td>xp87</td><td>xp93</td><td>0.2518</td></tr><tr><td>xp84</td><td>xp90</td><td>0.2516</td></tr><tr><td>xp83</td><td>xp92</td><td>0.2515</td></tr><tr><td>xp83</td><td>xp93</td><td>0.2513</td></tr><tr><td>xp86</td><td>xp93</td><td>0.2511</td></tr><tr><td>xp85</td><td>xp89</td><td>0.2510</td></tr><tr><td>xp82</td><td>xp91</td><td>0.2510</td></tr><tr><td>xp82</td><td>xp98</td><td>0.2510</td></tr><tr><td>xp90</td><td>xp91</td><td>0.2508</td></tr><tr><td>xp82</td><td>xp88</td><td>0.2506</td></tr><tr><td>xp82</td><td>xp87</td><td>0.2504</td></tr><tr><td>xp85</td><td>xp92</td><td>0.2504</td></tr><tr><td>xp85</td><td>xp93</td><td>0.2502</td></tr><tr><td>xp84</td><td>xp98</td><td>0.2501</td></tr><tr><td>xp90</td><td>xp98</td><td>0.2500</td></tr><tr><td>xp84</td><td>xp91</td><td>0.2499</td></tr><tr><td>xp88</td><td>xp90</td><td>0.2498</td></tr><tr><td>xp87</td><td>xp90</td><td>0.2496</td></tr><tr><td>xp82</td><td>xp86</td><td>0.2496</td></tr><tr><td>xp84</td><td>xp88</td><td>0.2495</td></tr><tr><td>xp84</td><td>xp87</td><td>0.2493</td></tr><tr><td>xp86</td><td>xp90</td><td>0.2488</td></tr><tr><td>xp88</td><td>xp91</td><td>0.2485</td></tr><tr><td>xp84</td><td>xp86</td><td>0.2485</td></tr><tr><td>xp87</td><td>xp91</td><td>0.2482</td></tr><tr><td>xp82</td><td>xp83</td><td>0.2482</td></tr><tr><td>xp91</td><td>xp98</td><td>0.2481</td></tr><tr><td>xp83</td><td>xp90</td><td>0.2481</td></tr><tr><td>xp88</td><td>xp98</td><td>0.2479</td></tr><tr><td>xp83</td><td>xp91</td><td>0.2478</td></tr><tr><td>xp87</td><td>xp98</td><td>0.2477</td></tr><tr><td>xp86</td><td>xp91</td><td>0.2476</td></tr><tr><td>xp87</td><td>xp88</td><td>0.2475</td></tr><tr><td>xp83</td><td>xp84</td><td>0.2472</td></tr><tr><td>xp82</td><td>xp85</td><td>0.2471</td></tr><tr><td>xp85</td><td>xp90</td><td>0.2469</td></tr><tr><td>xp85</td><td>xp91</td><td>0.2467</td></tr><tr><td>xp86</td><td>xp98</td><td>0.2467</td></tr><tr><td>xp86</td><td>xp88</td><td>0.2467</td></tr><tr><td>xp86</td><td>xp87</td><td>0.2464</td></tr><tr><td>xp84</td><td>xp85</td><td>0.2460</td></tr><tr><td>xp83</td><td>xp88</td><td>0.2459</td></tr><tr><td>xp83</td><td>xp87</td><td>0.2456</td></tr><tr><td>xp83</td><td>xp98</td><td>0.2451</td></tr><tr><td>xp83</td><td>xp86</td><td>0.2449</td></tr><tr><td>xp85</td><td>xp88</td><td>0.2448</td></tr><tr><td>xp85</td><td>xp87</td><td>0.2445</td></tr><tr><td>xp83</td><td>xp85</td><td>0.2443</td></tr><tr><td>xp85</td><td>xp98</td><td>0.2439</td></tr><tr><td>xp85</td><td>xp86</td><td>0.2438</td></tr><tr><td>A93</td><td>xp96</td><td>-0.1195</td></tr><tr><td>A92</td><td>xp96</td><td>-0.1194</td></tr><tr><td>A95</td><td>xp96</td><td>-0.1194</td></tr><tr><td>A96</td><td>xp96</td><td>-0.1194</td></tr><tr><td>A94</td><td>xp96</td><td>-0.1193</td></tr><tr><td>R</td><td>xp96</td><td>-0.1193</td></tr><tr><td>A85</td><td>xp96</td><td>-0.1193</td></tr><tr><td>xp96</td><td>A101</td><td>-0.1193</td></tr><tr><td>xp96</td><td>A97</td><td>-0.1193</td></tr><tr><td>xp96</td><td>A100</td><td>-0.1193</td></tr><tr><td>xp96</td><td>A99</td><td>-0.1193</td></tr><tr><td>xp96</td><td>A98</td><td>-0.1193</td></tr><tr><td>A86</td><td>xp96</td><td>-0.1193</td></tr><tr><td>A87</td><td>xp96</td><td>-0.1193</td></tr><tr><td>A88</td><td>xp96</td><td>-0.1193</td></tr><tr><td>A91</td><td>xp96</td><td>-0.1193</td></tr><tr><td>A90</td><td>xp96</td><td>-0.1193</td></tr><tr><td>A83</td><td>xp96</td><td>-0.1192</td></tr><tr><td>A84</td><td>xp96</td><td>-0.1192</td></tr><tr><td>A89</td><td>xp96</td><td>-0.1192</td></tr><tr><td>beta</td><td>xp96</td><td>0.1191</td></tr><tr><td>A82</td><td>xp96</td><td>-0.1191</td></tr><tr><td>A82</td><td>xp98</td><td>-0.1186</td></tr><tr><td>beta</td><td>xp98</td><td>0.1186</td></tr><tr><td>A92</td><td>xp98</td><td>-0.1186</td></tr><tr><td>A89</td><td>xp98</td><td>-0.1186</td></tr><tr><td>A91</td><td>xp98</td><td>-0.1186</td></tr><tr><td>R</td><td>xp98</td><td>-0.1186</td></tr><tr><td>A93</td><td>xp98</td><td>-0.1185</td></tr><tr><td>A90</td><td>xp98</td><td>-0.1185</td></tr><tr><td>A96</td><td>xp98</td><td>-0.1185</td></tr><tr><td>A84</td><td>xp98</td><td>-0.1185</td></tr><tr><td>xp98</td><td>A101</td><td>-0.1185</td></tr><tr><td>xp98</td><td>A100</td><td>-0.1185</td></tr><tr><td>xp98</td><td>A99</td><td>-0.1185</td></tr><tr><td>A94</td><td>xp98</td><td>-0.1185</td></tr><tr><td>A85</td><td>xp98</td><td>-0.1185</td></tr><tr><td>A87</td><td>xp98</td><td>-0.1185</td></tr><tr><td>A97</td><td>xp98</td><td>-0.1185</td></tr><tr><td>A98</td><td>xp98</td><td>-0.1185</td></tr><tr><td>A83</td><td>xp98</td><td>-0.1185</td></tr><tr><td>A95</td><td>xp98</td><td>-0.1185</td></tr><tr><td>A86</td><td>xp98</td><td>-0.1185</td></tr><tr><td>A88</td><td>xp98</td><td>-0.1184</td></tr><tr><td>A88</td><td>xp100</td><td>-0.1174</td></tr><tr><td>A86</td><td>xp100</td><td>-0.1174</td></tr><tr><td>A95</td><td>xp100</td><td>-0.1174</td></tr><tr><td>xp100</td><td>A101</td><td>-0.1174</td></tr><tr><td>A83</td><td>xp100</td><td>-0.1174</td></tr><tr><td>A97</td><td>xp100</td><td>-0.1173</td></tr><tr><td>A87</td><td>xp100</td><td>-0.1173</td></tr><tr><td>A98</td><td>xp100</td><td>-0.1173</td></tr><tr><td>A94</td><td>xp100</td><td>-0.1173</td></tr><tr><td>A85</td><td>xp100</td><td>-0.1173</td></tr><tr><td>A84</td><td>xp100</td><td>-0.1173</td></tr><tr><td>A96</td><td>xp100</td><td>-0.1173</td></tr><tr><td>A90</td><td>xp100</td><td>-0.1173</td></tr><tr><td>A93</td><td>xp100</td><td>-0.1173</td></tr><tr><td>R</td><td>xp100</td><td>-0.1173</td></tr><tr><td>A91</td><td>xp100</td><td>-0.1173</td></tr><tr><td>A89</td><td>xp100</td><td>-0.1173</td></tr><tr><td>beta</td><td>xp100</td><td>0.1173</td></tr><tr><td>A99</td><td>xp100</td><td>-0.1173</td></tr><tr><td>A92</td><td>xp100</td><td>-0.1172</td></tr><tr><td>A100</td><td>xp100</td><td>-0.1172</td></tr><tr><td>A82</td><td>xp100</td><td>-0.1172</td></tr><tr><td>beta</td><td>xp99</td><td>0.1136</td></tr><tr><td>xp99</td><td>A101</td><td>-0.1135</td></tr><tr><td>xp99</td><td>A100</td><td>-0.1135</td></tr><tr><td>A96</td><td>xp99</td><td>-0.1135</td></tr><tr><td>A82</td><td>xp99</td><td>-0.1135</td></tr><tr><td>A94</td><td>xp99</td><td>-0.1135</td></tr><tr><td>A98</td><td>xp99</td><td>-0.1135</td></tr><tr><td>A89</td><td>xp99</td><td>-0.1135</td></tr><tr><td>A91</td><td>xp99</td><td>-0.1135</td></tr><tr><td>A97</td><td>xp99</td><td>-0.1135</td></tr><tr><td>A92</td><td>xp99</td><td>-0.1135</td></tr><tr><td>A84</td><td>xp99</td><td>-0.1135</td></tr><tr><td>A90</td><td>xp99</td><td>-0.1135</td></tr><tr><td>R</td><td>xp99</td><td>-0.1135</td></tr><tr><td>A86</td><td>xp99</td><td>-0.1135</td></tr><tr><td>A85</td><td>xp99</td><td>-0.1135</td></tr><tr><td>A83</td><td>xp99</td><td>-0.1135</td></tr><tr><td>A95</td><td>xp99</td><td>-0.1135</td></tr><tr><td>A93</td><td>xp99</td><td>-0.1135</td></tr><tr><td>A87</td><td>xp99</td><td>-0.1135</td></tr><tr><td>A88</td><td>xp99</td><td>-0.1135</td></tr><tr><td>A99</td><td>xp99</td><td>-0.1135</td></tr><tr><td>beta</td><td>xp82</td><td>0.1083</td></tr><tr><td>xp82</td><td>A101</td><td>-0.1083</td></tr><tr><td>xp82</td><td>A97</td><td>-0.1083</td></tr><tr><td>xp82</td><td>A100</td><td>-0.1083</td></tr><tr><td>xp82</td><td>A96</td><td>-0.1083</td></tr><tr><td>xp82</td><td>A99</td><td>-0.1083</td></tr><tr><td>xp82</td><td>A98</td><td>-0.1083</td></tr><tr><td>xp82</td><td>A95</td><td>-0.1083</td></tr><tr><td>xp82</td><td>A92</td><td>-0.1083</td></tr><tr><td>xp82</td><td>A89</td><td>-0.1083</td></tr><tr><td>xp82</td><td>A94</td><td>-0.1083</td></tr><tr><td>xp82</td><td>A91</td><td>-0.1083</td></tr><tr><td>xp82</td><td>A85</td><td>-0.1083</td></tr><tr><td>xp82</td><td>A90</td><td>-0.1083</td></tr><tr><td>xp82</td><td>A83</td><td>-0.1083</td></tr><tr><td>xp82</td><td>A93</td><td>-0.1083</td></tr><tr><td>xp82</td><td>A88</td><td>-0.1083</td></tr><tr><td>xp82</td><td>A84</td><td>-0.1083</td></tr><tr><td>xp82</td><td>A87</td><td>-0.1083</td></tr><tr><td>xp82</td><td>A86</td><td>-0.1083</td></tr><tr><td>R</td><td>xp82</td><td>-0.1083</td></tr><tr><td>A82</td><td>xp82</td><td>-0.1083</td></tr><tr><td>beta</td><td>xp84</td><td>0.1077</td></tr><tr><td>xp84</td><td>A101</td><td>-0.1077</td></tr><tr><td>xp84</td><td>A97</td><td>-0.1077</td></tr><tr><td>xp84</td><td>A100</td><td>-0.1077</td></tr><tr><td>xp84</td><td>A96</td><td>-0.1077</td></tr><tr><td>xp84</td><td>A99</td><td>-0.1077</td></tr><tr><td>xp84</td><td>A98</td><td>-0.1077</td></tr><tr><td>xp84</td><td>A95</td><td>-0.1077</td></tr><tr><td>xp84</td><td>A92</td><td>-0.1077</td></tr><tr><td>xp84</td><td>A89</td><td>-0.1077</td></tr><tr><td>xp84</td><td>A94</td><td>-0.1077</td></tr><tr><td>xp84</td><td>A91</td><td>-0.1077</td></tr><tr><td>xp84</td><td>A85</td><td>-0.1077</td></tr><tr><td>xp84</td><td>A90</td><td>-0.1077</td></tr><tr><td>xp84</td><td>A93</td><td>-0.1077</td></tr><tr><td>xp84</td><td>A88</td><td>-0.1077</td></tr><tr><td>xp84</td><td>A87</td><td>-0.1077</td></tr><tr><td>xp84</td><td>A86</td><td>-0.1077</td></tr><tr><td>A83</td><td>xp84</td><td>-0.1077</td></tr><tr><td>A82</td><td>xp84</td><td>-0.1077</td></tr><tr><td>R</td><td>xp84</td><td>-0.1077</td></tr><tr><td>A84</td><td>xp84</td><td>-0.1077</td></tr><tr><td>A88</td><td>xp95</td><td>-0.1025</td></tr><tr><td>A83</td><td>xp95</td><td>-0.1025</td></tr><tr><td>A84</td><td>xp95</td><td>-0.1025</td></tr><tr><td>beta</td><td>xp95</td><td>0.1025</td></tr><tr><td>xp95</td><td>A101</td><td>-0.1025</td></tr><tr><td>xp95</td><td>A97</td><td>-0.1025</td></tr><tr><td>xp95</td><td>A100</td><td>-0.1025</td></tr><tr><td>xp95</td><td>A96</td><td>-0.1025</td></tr><tr><td>xp95</td><td>A99</td><td>-0.1025</td></tr><tr><td>xp95</td><td>A98</td><td>-0.1025</td></tr><tr><td>A86</td><td>xp95</td><td>-0.1025</td></tr><tr><td>A92</td><td>xp95</td><td>-0.1025</td></tr><tr><td>A87</td><td>xp95</td><td>-0.1024</td></tr><tr><td>A85</td><td>xp95</td><td>-0.1024</td></tr><tr><td>A90</td><td>xp95</td><td>-0.1024</td></tr><tr><td>A89</td><td>xp95</td><td>-0.1024</td></tr><tr><td>A82</td><td>xp95</td><td>-0.1024</td></tr><tr><td>R</td><td>xp95</td><td>-0.1024</td></tr><tr><td>A91</td><td>xp95</td><td>-0.1024</td></tr><tr><td>A93</td><td>xp95</td><td>-0.1024</td></tr><tr><td>A95</td><td>xp95</td><td>-0.1024</td></tr><tr><td>A94</td><td>xp95</td><td>-0.1024</td></tr></table>"
      ],
      "text/plain": [
       "<lmfit.minimizer.MinimizerResult at 0x159c925de88>"
      ]
     },
     "execution_count": 70,
     "metadata": {},
     "output_type": "execute_result"
    }
   ],
   "source": [
    "# report_fit(result)\n",
    "xwFit['8_20'][0].result"
   ]
  },
  {
   "cell_type": "code",
   "execution_count": 99,
   "metadata": {
    "Collapsed": "false",
    "hidden": true
   },
   "outputs": [
    {
     "data": {
      "text/html": [
       "<h2>Fit Statistics</h2><table><tr><td>fitting method</td><td>leastsq</td><td></td></tr><tr><td># function evals</td><td>180</td><td></td></tr><tr><td># data points</td><td>2400</td><td></td></tr><tr><td># variables</td><td>43</td><td></td></tr><tr><td>chi-square</td><td> 4475.45946</td><td></td></tr><tr><td>reduced chi-square</td><td> 1.89879485</td><td></td></tr><tr><td>Akaike info crit.</td><td> 1581.53668</td><td></td></tr><tr><td>Bayesian info crit.</td><td> 1830.21531</td><td></td></tr></table><h2>Variables</h2><table><tr><th> name </th><th> value </th><th> standard error </th><th> relative error </th><th> initial value </th><th> min </th><th> max </th><th> vary </th></tr><tr><td> A82 </td><td>  158144.842 </td><td>  1702.18377 </td><td> (1.08%) </td><td> 522017.30702153064 </td><td>  0.00000000 </td><td>         inf </td><td> True </td></tr><tr><td> alpha </td><td>  126.532104 </td><td>  0.56514520 </td><td> (0.45%) </td><td> 127.55662170975839 </td><td>  0.00000000 </td><td>         inf </td><td> True </td></tr><tr><td> beta </td><td>  1.0000e-10 </td><td>  0.00000000 </td><td> (0.00%) </td><td> 1e-10 </td><td>  0.00000000 </td><td>         inf </td><td> False </td></tr><tr><td> R </td><td>  1.0000e-10 </td><td>  0.00000000 </td><td> (0.00%) </td><td> 1e-10 </td><td>  0.00000000 </td><td>         inf </td><td> False </td></tr><tr><td> gamma </td><td>  3.9792e-04 </td><td>  2.0183e-05 </td><td> (5.07%) </td><td> 0.0003532392872411805 </td><td>  0.00000000 </td><td>         inf </td><td> True </td></tr><tr><td> sigma </td><td>  0.00517279 </td><td>  7.3150e-05 </td><td> (1.41%) </td><td> 0.005299430203852484 </td><td>  0.00000000 </td><td>         inf </td><td> True </td></tr><tr><td> k </td><td>  0.05000000 </td><td>  0.00000000 </td><td> (0.00%) </td><td> 0.05 </td><td>  0.00000000 </td><td>         inf </td><td> False </td></tr><tr><td> xp82 </td><td> -8.01778653 </td><td>  1.6089e-04 </td><td> (0.00%) </td><td> -8.017673271873436 </td><td>        -inf </td><td>         inf </td><td> True </td></tr><tr><td> A83 </td><td>  154141.174 </td><td>  1694.39745 </td><td> (1.10%) </td><td> 508766.13769398094 </td><td>  0.00000000 </td><td>         inf </td><td> True </td></tr><tr><td> xp83 </td><td> -8.01778210 </td><td>  1.6297e-04 </td><td> (0.00%) </td><td> -8.017669256363257 </td><td>        -inf </td><td>         inf </td><td> True </td></tr><tr><td> A84 </td><td>  154151.003 </td><td>  1695.47823 </td><td> (1.10%) </td><td> 508652.26475301955 </td><td>  0.00000000 </td><td>         inf </td><td> True </td></tr><tr><td> xp84 </td><td> -8.01777889 </td><td>  1.6299e-04 </td><td> (0.00%) </td><td> -8.017664831800586 </td><td>        -inf </td><td>         inf </td><td> True </td></tr><tr><td> A85 </td><td>  153127.959 </td><td>  1682.48836 </td><td> (1.10%) </td><td> 505384.7049409609 </td><td>  0.00000000 </td><td>         inf </td><td> True </td></tr><tr><td> xp85 </td><td> -8.01781945 </td><td>  1.6297e-04 </td><td> (0.00%) </td><td> -8.017706139553738 </td><td>        -inf </td><td>         inf </td><td> True </td></tr><tr><td> A86 </td><td>  152499.425 </td><td>  1683.55563 </td><td> (1.10%) </td><td> 503185.93695491744 </td><td>  0.00000000 </td><td>         inf </td><td> True </td></tr><tr><td> xp86 </td><td> -8.01757975 </td><td>  1.6402e-04 </td><td> (0.00%) </td><td> -8.017466367728765 </td><td>        -inf </td><td>         inf </td><td> True </td></tr><tr><td> A87 </td><td>  151183.104 </td><td>  1676.30333 </td><td> (1.11%) </td><td> 498884.13976978447 </td><td>  0.00000000 </td><td>         inf </td><td> True </td></tr><tr><td> xp87 </td><td> -8.01776547 </td><td>  1.6349e-04 </td><td> (0.00%) </td><td> -8.01765347118276 </td><td>        -inf </td><td>         inf </td><td> True </td></tr><tr><td> A88 </td><td>  151248.377 </td><td>  1673.07338 </td><td> (1.11%) </td><td> 499325.903601057 </td><td>  0.00000000 </td><td>         inf </td><td> True </td></tr><tr><td> xp88 </td><td> -8.01771498 </td><td>  1.6364e-04 </td><td> (0.00%) </td><td> -8.017602816193303 </td><td>        -inf </td><td>         inf </td><td> True </td></tr><tr><td> A89 </td><td>  152845.440 </td><td>  1670.59649 </td><td> (1.09%) </td><td> 504489.9259206249 </td><td>  0.00000000 </td><td>         inf </td><td> True </td></tr><tr><td> xp89 </td><td> -8.01790974 </td><td>  1.6073e-04 </td><td> (0.00%) </td><td> -8.017796729533423 </td><td>        -inf </td><td>         inf </td><td> True </td></tr><tr><td> A90 </td><td>  150751.490 </td><td>  1668.27011 </td><td> (1.11%) </td><td> 497501.2874031899 </td><td>  0.00000000 </td><td>         inf </td><td> True </td></tr><tr><td> xp90 </td><td> -8.01762740 </td><td>  1.6355e-04 </td><td> (0.00%) </td><td> -8.017513753262136 </td><td>        -inf </td><td>         inf </td><td> True </td></tr><tr><td> A91 </td><td>  150170.268 </td><td>  1661.97200 </td><td> (1.11%) </td><td> 495642.88436009386 </td><td>  0.00000000 </td><td>         inf </td><td> True </td></tr><tr><td> xp91 </td><td> -8.01773121 </td><td>  1.6358e-04 </td><td> (0.00%) </td><td> -8.017617144125463 </td><td>        -inf </td><td>         inf </td><td> True </td></tr><tr><td> A92 </td><td>  146929.357 </td><td>  1659.27527 </td><td> (1.13%) </td><td> 485094.81519572844 </td><td>  0.00000000 </td><td>         inf </td><td> True </td></tr><tr><td> xp92 </td><td> -8.01764710 </td><td>  1.6372e-04 </td><td> (0.00%) </td><td> -8.017531204221365 </td><td>        -inf </td><td>         inf </td><td> True </td></tr><tr><td> A93 </td><td>  148502.776 </td><td>  1654.80870 </td><td> (1.11%) </td><td> 490153.6383430395 </td><td>  0.00000000 </td><td>         inf </td><td> True </td></tr><tr><td> xp93 </td><td> -8.01776844 </td><td>  1.6211e-04 </td><td> (0.00%) </td><td> -8.017653034055359 </td><td>        -inf </td><td>         inf </td><td> True </td></tr><tr><td> A94 </td><td>  146637.570 </td><td>  1648.17033 </td><td> (1.12%) </td><td> 484055.6859053925 </td><td>  0.00000000 </td><td>         inf </td><td> True </td></tr><tr><td> xp94 </td><td> -8.01771662 </td><td>  1.6199e-04 </td><td> (0.00%) </td><td> -8.017601684715633 </td><td>        -inf </td><td>         inf </td><td> True </td></tr><tr><td> A95 </td><td>  144150.825 </td><td>  1628.29870 </td><td> (1.13%) </td><td> 475688.99716150784 </td><td>  0.00000000 </td><td>         inf </td><td> True </td></tr><tr><td> xp95 </td><td> -8.01767145 </td><td>  1.6345e-04 </td><td> (0.00%) </td><td> -8.017555170199278 </td><td>        -inf </td><td>         inf </td><td> True </td></tr><tr><td> A96 </td><td>  145017.126 </td><td>  1636.09424 </td><td> (1.13%) </td><td> 478553.76457489 </td><td>  0.00000000 </td><td>         inf </td><td> True </td></tr><tr><td> xp96 </td><td> -8.01752591 </td><td>  1.6341e-04 </td><td> (0.00%) </td><td> -8.017409895680334 </td><td>        -inf </td><td>         inf </td><td> True </td></tr><tr><td> A97 </td><td>  143067.921 </td><td>  1626.47748 </td><td> (1.14%) </td><td> 472291.6632756708 </td><td>  0.00000000 </td><td>         inf </td><td> True </td></tr><tr><td> xp97 </td><td> -8.01729902 </td><td>  1.6552e-04 </td><td> (0.00%) </td><td> -8.017179924620132 </td><td>        -inf </td><td>         inf </td><td> True </td></tr><tr><td> A98 </td><td>  142790.222 </td><td>  1742.42262 </td><td> (1.22%) </td><td> 471503.2601999943 </td><td>  0.00000000 </td><td>         inf </td><td> True </td></tr><tr><td> xp98 </td><td> -8.01723958 </td><td>  1.7310e-04 </td><td> (0.00%) </td><td> -8.01712049747778 </td><td>        -inf </td><td>         inf </td><td> True </td></tr><tr><td> A99 </td><td>  142641.613 </td><td>  1620.53966 </td><td> (1.14%) </td><td> 471204.9341968827 </td><td>  0.00000000 </td><td>         inf </td><td> True </td></tr><tr><td> xp99 </td><td> -8.01745845 </td><td>  1.6403e-04 </td><td> (0.00%) </td><td> -8.017342227159054 </td><td>        -inf </td><td>         inf </td><td> True </td></tr><tr><td> A100 </td><td>  140433.140 </td><td>  1613.33995 </td><td> (1.15%) </td><td> 463646.0381324015 </td><td>  0.00000000 </td><td>         inf </td><td> True </td></tr><tr><td> xp100 </td><td> -8.01755713 </td><td>  1.6489e-04 </td><td> (0.00%) </td><td> -8.017437973666194 </td><td>        -inf </td><td>         inf </td><td> True </td></tr><tr><td> A101 </td><td>  137610.908 </td><td>  1598.54123 </td><td> (1.16%) </td><td> 454337.2104743294 </td><td>  0.00000000 </td><td>         inf </td><td> True </td></tr><tr><td> xp101 </td><td> -8.01737854 </td><td>  1.6637e-04 </td><td> (0.00%) </td><td> -8.017261827107124 </td><td>        -inf </td><td>         inf </td><td> True </td></tr></table><h2>Correlations (unreported correlations are < 0.100)</h2><table><tr><td>alpha</td><td>sigma</td><td>0.6386</td></tr><tr><td>alpha</td><td>xp99</td><td>0.4918</td></tr><tr><td>alpha</td><td>xp100</td><td>0.4910</td></tr><tr><td>alpha</td><td>xp97</td><td>0.4906</td></tr><tr><td>alpha</td><td>xp94</td><td>0.4901</td></tr><tr><td>alpha</td><td>xp96</td><td>0.4900</td></tr><tr><td>alpha</td><td>xp101</td><td>0.4881</td></tr><tr><td>alpha</td><td>xp89</td><td>0.4876</td></tr><tr><td>alpha</td><td>xp95</td><td>0.4873</td></tr><tr><td>alpha</td><td>xp93</td><td>0.4870</td></tr><tr><td>alpha</td><td>xp92</td><td>0.4845</td></tr><tr><td>alpha</td><td>xp91</td><td>0.4811</td></tr><tr><td>alpha</td><td>xp82</td><td>0.4809</td></tr><tr><td>alpha</td><td>xp90</td><td>0.4800</td></tr><tr><td>alpha</td><td>xp84</td><td>0.4779</td></tr><tr><td>alpha</td><td>xp83</td><td>0.4778</td></tr><tr><td>alpha</td><td>xp85</td><td>0.4761</td></tr><tr><td>alpha</td><td>xp88</td><td>0.4761</td></tr><tr><td>alpha</td><td>xp87</td><td>0.4755</td></tr><tr><td>alpha</td><td>xp86</td><td>0.4750</td></tr><tr><td>alpha</td><td>xp98</td><td>0.4686</td></tr><tr><td>sigma</td><td>xp100</td><td>0.3853</td></tr><tr><td>gamma</td><td>sigma</td><td>-0.3847</td></tr><tr><td>sigma</td><td>xp101</td><td>0.3831</td></tr><tr><td>sigma</td><td>xp97</td><td>0.3823</td></tr><tr><td>sigma</td><td>xp94</td><td>0.3821</td></tr><tr><td>sigma</td><td>xp99</td><td>0.3820</td></tr><tr><td>sigma</td><td>xp96</td><td>0.3805</td></tr><tr><td>sigma</td><td>xp95</td><td>0.3782</td></tr><tr><td>sigma</td><td>xp92</td><td>0.3754</td></tr><tr><td>sigma</td><td>xp93</td><td>0.3753</td></tr><tr><td>sigma</td><td>xp89</td><td>0.3742</td></tr><tr><td>sigma</td><td>xp98</td><td>0.3669</td></tr><tr><td>sigma</td><td>xp91</td><td>0.3665</td></tr><tr><td>sigma</td><td>xp90</td><td>0.3642</td></tr><tr><td>sigma</td><td>xp83</td><td>0.3619</td></tr><tr><td>sigma</td><td>xp84</td><td>0.3614</td></tr><tr><td>sigma</td><td>xp82</td><td>0.3594</td></tr><tr><td>sigma</td><td>xp85</td><td>0.3593</td></tr><tr><td>sigma</td><td>xp88</td><td>0.3592</td></tr><tr><td>sigma</td><td>xp87</td><td>0.3589</td></tr><tr><td>sigma</td><td>xp86</td><td>0.3571</td></tr><tr><td>xp99</td><td>xp100</td><td>0.2534</td></tr><tr><td>xp97</td><td>xp100</td><td>0.2528</td></tr><tr><td>xp97</td><td>xp99</td><td>0.2528</td></tr><tr><td>xp100</td><td>xp101</td><td>0.2524</td></tr><tr><td>xp99</td><td>xp101</td><td>0.2522</td></tr><tr><td>xp96</td><td>xp100</td><td>0.2522</td></tr><tr><td>xp96</td><td>xp99</td><td>0.2521</td></tr><tr><td>xp94</td><td>xp100</td><td>0.2520</td></tr><tr><td>xp94</td><td>xp99</td><td>0.2519</td></tr><tr><td>xp97</td><td>xp101</td><td>0.2517</td></tr><tr><td>xp96</td><td>xp97</td><td>0.2515</td></tr><tr><td>xp94</td><td>xp97</td><td>0.2514</td></tr><tr><td>xp96</td><td>xp101</td><td>0.2510</td></tr><tr><td>xp94</td><td>xp101</td><td>0.2508</td></tr><tr><td>xp94</td><td>xp96</td><td>0.2508</td></tr><tr><td>xp95</td><td>xp100</td><td>0.2507</td></tr><tr><td>xp95</td><td>xp99</td><td>0.2506</td></tr><tr><td>xp95</td><td>xp97</td><td>0.2501</td></tr><tr><td>xp93</td><td>xp100</td><td>0.2497</td></tr><tr><td>xp93</td><td>xp99</td><td>0.2496</td></tr><tr><td>xp89</td><td>xp100</td><td>0.2496</td></tr><tr><td>xp89</td><td>xp99</td><td>0.2496</td></tr><tr><td>xp95</td><td>xp101</td><td>0.2495</td></tr><tr><td>xp95</td><td>xp96</td><td>0.2494</td></tr><tr><td>xp94</td><td>xp95</td><td>0.2493</td></tr><tr><td>xp93</td><td>xp97</td><td>0.2491</td></tr><tr><td>xp89</td><td>xp97</td><td>0.2490</td></tr><tr><td>xp92</td><td>xp100</td><td>0.2488</td></tr><tr><td>xp92</td><td>xp99</td><td>0.2488</td></tr><tr><td>xp93</td><td>xp96</td><td>0.2485</td></tr><tr><td>xp89</td><td>xp96</td><td>0.2484</td></tr><tr><td>xp93</td><td>xp101</td><td>0.2484</td></tr><tr><td>xp93</td><td>xp94</td><td>0.2484</td></tr><tr><td>xp89</td><td>xp94</td><td>0.2484</td></tr><tr><td>xp89</td><td>xp101</td><td>0.2483</td></tr><tr><td>xp92</td><td>xp97</td><td>0.2482</td></tr><tr><td>xp92</td><td>xp101</td><td>0.2476</td></tr><tr><td>xp92</td><td>xp96</td><td>0.2476</td></tr><tr><td>xp92</td><td>xp94</td><td>0.2475</td></tr><tr><td>xp93</td><td>xp95</td><td>0.2470</td></tr><tr><td>xp89</td><td>xp95</td><td>0.2470</td></tr><tr><td>xp89</td><td>xp93</td><td>0.2462</td></tr><tr><td>xp92</td><td>xp95</td><td>0.2462</td></tr><tr><td>xp91</td><td>xp100</td><td>0.2459</td></tr><tr><td>xp91</td><td>xp99</td><td>0.2459</td></tr><tr><td>xp91</td><td>xp97</td><td>0.2454</td></tr><tr><td>xp92</td><td>xp93</td><td>0.2453</td></tr><tr><td>xp89</td><td>xp92</td><td>0.2453</td></tr><tr><td>xp90</td><td>xp100</td><td>0.2451</td></tr><tr><td>xp90</td><td>xp99</td><td>0.2451</td></tr><tr><td>xp91</td><td>xp96</td><td>0.2448</td></tr><tr><td>xp91</td><td>xp94</td><td>0.2447</td></tr><tr><td>xp91</td><td>xp101</td><td>0.2447</td></tr><tr><td>xp90</td><td>xp97</td><td>0.2445</td></tr><tr><td>xp82</td><td>xp99</td><td>0.2444</td></tr><tr><td>xp82</td><td>xp100</td><td>0.2444</td></tr><tr><td>xp90</td><td>xp96</td><td>0.2440</td></tr><tr><td>xp90</td><td>xp94</td><td>0.2439</td></tr><tr><td>xp82</td><td>xp97</td><td>0.2439</td></tr><tr><td>xp90</td><td>xp101</td><td>0.2439</td></tr><tr><td>xp83</td><td>xp100</td><td>0.2436</td></tr><tr><td>xp83</td><td>xp99</td><td>0.2436</td></tr><tr><td>xp84</td><td>xp100</td><td>0.2436</td></tr><tr><td>xp84</td><td>xp99</td><td>0.2436</td></tr><tr><td>xp91</td><td>xp95</td><td>0.2434</td></tr><tr><td>xp82</td><td>xp96</td><td>0.2433</td></tr><tr><td>xp82</td><td>xp94</td><td>0.2433</td></tr><tr><td>xp83</td><td>xp97</td><td>0.2431</td></tr><tr><td>xp82</td><td>xp101</td><td>0.2431</td></tr><tr><td>xp84</td><td>xp97</td><td>0.2430</td></tr><tr><td>xp88</td><td>xp99</td><td>0.2427</td></tr><tr><td>xp88</td><td>xp100</td><td>0.2427</td></tr><tr><td>xp89</td><td>xp91</td><td>0.2426</td></tr><tr><td>xp85</td><td>xp99</td><td>0.2426</td></tr><tr><td>xp85</td><td>xp100</td><td>0.2426</td></tr><tr><td>xp91</td><td>xp93</td><td>0.2426</td></tr><tr><td>xp90</td><td>xp95</td><td>0.2426</td></tr><tr><td>xp83</td><td>xp96</td><td>0.2425</td></tr><tr><td>xp83</td><td>xp94</td><td>0.2425</td></tr><tr><td>xp84</td><td>xp96</td><td>0.2425</td></tr><tr><td>xp84</td><td>xp94</td><td>0.2425</td></tr><tr><td>xp83</td><td>xp101</td><td>0.2424</td></tr><tr><td>xp87</td><td>xp99</td><td>0.2423</td></tr><tr><td>xp87</td><td>xp100</td><td>0.2423</td></tr><tr><td>xp84</td><td>xp101</td><td>0.2423</td></tr><tr><td>xp88</td><td>xp97</td><td>0.2421</td></tr><tr><td>xp85</td><td>xp97</td><td>0.2421</td></tr><tr><td>xp82</td><td>xp95</td><td>0.2420</td></tr><tr><td>xp89</td><td>xp90</td><td>0.2418</td></tr><tr><td>xp87</td><td>xp97</td><td>0.2418</td></tr><tr><td>xp86</td><td>xp99</td><td>0.2418</td></tr><tr><td>xp90</td><td>xp93</td><td>0.2418</td></tr><tr><td>xp86</td><td>xp100</td><td>0.2418</td></tr><tr><td>xp98</td><td>xp100</td><td>0.2417</td></tr><tr><td>xp91</td><td>xp92</td><td>0.2417</td></tr><tr><td>xp98</td><td>xp99</td><td>0.2416</td></tr><tr><td>xp88</td><td>xp96</td><td>0.2416</td></tr><tr><td>xp88</td><td>xp94</td><td>0.2416</td></tr><tr><td>xp85</td><td>xp96</td><td>0.2415</td></tr><tr><td>xp85</td><td>xp94</td><td>0.2415</td></tr><tr><td>xp88</td><td>xp101</td><td>0.2414</td></tr><tr><td>xp82</td><td>xp89</td><td>0.2413</td></tr><tr><td>xp85</td><td>xp101</td><td>0.2413</td></tr><tr><td>xp87</td><td>xp96</td><td>0.2413</td></tr><tr><td>xp82</td><td>xp93</td><td>0.2413</td></tr><tr><td>xp86</td><td>xp97</td><td>0.2413</td></tr><tr><td>xp87</td><td>xp94</td><td>0.2412</td></tr><tr><td>xp83</td><td>xp95</td><td>0.2411</td></tr><tr><td>xp97</td><td>xp98</td><td>0.2411</td></tr><tr><td>xp87</td><td>xp101</td><td>0.2411</td></tr><tr><td>xp84</td><td>xp95</td><td>0.2411</td></tr><tr><td>xp90</td><td>xp92</td><td>0.2409</td></tr><tr><td>xp86</td><td>xp96</td><td>0.2408</td></tr><tr><td>xp86</td><td>xp94</td><td>0.2407</td></tr><tr><td>xp98</td><td>xp101</td><td>0.2406</td></tr><tr><td>xp86</td><td>xp101</td><td>0.2405</td></tr><tr><td>xp96</td><td>xp98</td><td>0.2405</td></tr><tr><td>xp83</td><td>xp89</td><td>0.2405</td></tr><tr><td>xp84</td><td>xp89</td><td>0.2404</td></tr><tr><td>xp83</td><td>xp93</td><td>0.2404</td></tr><tr><td>xp84</td><td>xp93</td><td>0.2404</td></tr><tr><td>xp94</td><td>xp98</td><td>0.2403</td></tr><tr><td>xp82</td><td>xp92</td><td>0.2403</td></tr><tr><td>xp88</td><td>xp95</td><td>0.2402</td></tr><tr><td>xp85</td><td>xp95</td><td>0.2401</td></tr><tr><td>xp87</td><td>xp95</td><td>0.2399</td></tr><tr><td>xp88</td><td>xp89</td><td>0.2395</td></tr><tr><td>xp88</td><td>xp93</td><td>0.2395</td></tr><tr><td>xp83</td><td>xp92</td><td>0.2395</td></tr><tr><td>xp85</td><td>xp89</td><td>0.2395</td></tr><tr><td>xp84</td><td>xp92</td><td>0.2394</td></tr><tr><td>xp85</td><td>xp93</td><td>0.2394</td></tr><tr><td>xp86</td><td>xp95</td><td>0.2394</td></tr><tr><td>xp87</td><td>xp89</td><td>0.2392</td></tr><tr><td>xp87</td><td>xp93</td><td>0.2392</td></tr><tr><td>xp95</td><td>xp98</td><td>0.2391</td></tr><tr><td>xp86</td><td>xp89</td><td>0.2387</td></tr><tr><td>xp86</td><td>xp93</td><td>0.2387</td></tr><tr><td>xp88</td><td>xp92</td><td>0.2386</td></tr><tr><td>xp85</td><td>xp92</td><td>0.2385</td></tr><tr><td>xp90</td><td>xp91</td><td>0.2383</td></tr><tr><td>xp87</td><td>xp92</td><td>0.2382</td></tr><tr><td>xp93</td><td>xp98</td><td>0.2381</td></tr><tr><td>xp89</td><td>xp98</td><td>0.2380</td></tr><tr><td>xp82</td><td>xp91</td><td>0.2379</td></tr><tr><td>xp86</td><td>xp92</td><td>0.2377</td></tr><tr><td>xp92</td><td>xp98</td><td>0.2373</td></tr><tr><td>xp82</td><td>xp90</td><td>0.2372</td></tr><tr><td>xp83</td><td>xp91</td><td>0.2370</td></tr><tr><td>xp84</td><td>xp91</td><td>0.2370</td></tr><tr><td>xp83</td><td>xp90</td><td>0.2362</td></tr><tr><td>xp84</td><td>xp90</td><td>0.2362</td></tr><tr><td>xp88</td><td>xp91</td><td>0.2361</td></tr><tr><td>xp85</td><td>xp91</td><td>0.2360</td></tr><tr><td>xp82</td><td>xp83</td><td>0.2359</td></tr><tr><td>xp82</td><td>xp84</td><td>0.2359</td></tr><tr><td>xp87</td><td>xp91</td><td>0.2358</td></tr><tr><td>xp88</td><td>xp90</td><td>0.2353</td></tr><tr><td>xp86</td><td>xp91</td><td>0.2353</td></tr><tr><td>xp85</td><td>xp90</td><td>0.2353</td></tr><tr><td>xp87</td><td>xp90</td><td>0.2350</td></tr><tr><td>xp82</td><td>xp88</td><td>0.2350</td></tr><tr><td>xp82</td><td>xp85</td><td>0.2349</td></tr><tr><td>xp83</td><td>xp84</td><td>0.2349</td></tr><tr><td>xp82</td><td>xp87</td><td>0.2347</td></tr><tr><td>xp86</td><td>xp90</td><td>0.2346</td></tr><tr><td>xp91</td><td>xp98</td><td>0.2345</td></tr><tr><td>xp82</td><td>xp86</td><td>0.2342</td></tr><tr><td>xp83</td><td>xp88</td><td>0.2340</td></tr><tr><td>xp84</td><td>xp88</td><td>0.2340</td></tr><tr><td>xp83</td><td>xp85</td><td>0.2340</td></tr><tr><td>xp84</td><td>xp85</td><td>0.2340</td></tr><tr><td>xp90</td><td>xp98</td><td>0.2338</td></tr><tr><td>xp83</td><td>xp87</td><td>0.2337</td></tr><tr><td>xp84</td><td>xp87</td><td>0.2337</td></tr><tr><td>xp83</td><td>xp86</td><td>0.2333</td></tr><tr><td>xp84</td><td>xp86</td><td>0.2332</td></tr><tr><td>xp85</td><td>xp88</td><td>0.2331</td></tr><tr><td>xp82</td><td>xp98</td><td>0.2331</td></tr><tr><td>xp87</td><td>xp88</td><td>0.2328</td></tr><tr><td>xp85</td><td>xp87</td><td>0.2328</td></tr><tr><td>xp86</td><td>xp88</td><td>0.2324</td></tr><tr><td>xp83</td><td>xp98</td><td>0.2324</td></tr><tr><td>xp85</td><td>xp86</td><td>0.2323</td></tr><tr><td>xp84</td><td>xp98</td><td>0.2323</td></tr><tr><td>xp86</td><td>xp87</td><td>0.2321</td></tr><tr><td>xp88</td><td>xp98</td><td>0.2315</td></tr><tr><td>xp85</td><td>xp98</td><td>0.2314</td></tr><tr><td>xp87</td><td>xp98</td><td>0.2311</td></tr><tr><td>xp86</td><td>xp98</td><td>0.2306</td></tr></table>"
      ],
      "text/plain": [
       "<lmfit.minimizer.MinimizerResult at 0x159c923d048>"
      ]
     },
     "execution_count": 99,
     "metadata": {},
     "output_type": "execute_result"
    }
   ],
   "source": [
    "# report_fit(result)\n",
    "xwFit['8_20'][1].result"
   ]
  },
  {
   "cell_type": "code",
   "execution_count": 100,
   "metadata": {
    "Collapsed": "false",
    "hidden": true
   },
   "outputs": [
    {
     "data": {
      "text/html": [
       "<h2>Fit Statistics</h2><table><tr><td>fitting method</td><td>leastsq</td><td></td></tr><tr><td># function evals</td><td>42</td><td></td></tr><tr><td># data points</td><td>2400</td><td></td></tr><tr><td># variables</td><td>40</td><td></td></tr><tr><td>chi-square</td><td> 4475.45946</td><td></td></tr><tr><td>reduced chi-square</td><td> 1.89638113</td><td></td></tr><tr><td>Akaike info crit.</td><td> 1575.53667</td><td></td></tr><tr><td>Bayesian info crit.</td><td> 1806.86563</td><td></td></tr></table><h2>Variables</h2><table><tr><th> name </th><th> value </th><th> standard error </th><th> relative error </th><th> initial value </th><th> min </th><th> max </th><th> vary </th></tr><tr><td> A82 </td><td>  158144.857 </td><td>  1699.14561 </td><td> (1.07%) </td><td> 158144.84199985274 </td><td>  0.00000000 </td><td>         inf </td><td> True </td></tr><tr><td> alpha </td><td>  126.532104 </td><td>  0.00000000 </td><td> (0.00%) </td><td> 126.53210371714074 </td><td>  0.00000000 </td><td>         inf </td><td> False </td></tr><tr><td> beta </td><td>  1.0000e-10 </td><td>  0.00000000 </td><td> (0.00%) </td><td> 1e-10 </td><td>  0.00000000 </td><td>         inf </td><td> False </td></tr><tr><td> R </td><td>  1.0000e-10 </td><td>  0.00000000 </td><td> (0.00%) </td><td> 1e-10 </td><td>  0.00000000 </td><td>         inf </td><td> False </td></tr><tr><td> gamma </td><td>  3.9792e-04 </td><td>  0.00000000 </td><td> (0.00%) </td><td> 0.0003979188011480339 </td><td>  0.00000000 </td><td>         inf </td><td> False </td></tr><tr><td> sigma </td><td>  0.00517279 </td><td>  0.00000000 </td><td> (0.00%) </td><td> 0.005172785045938433 </td><td>  0.00000000 </td><td>         inf </td><td> False </td></tr><tr><td> k </td><td>  0.05000000 </td><td>  0.00000000 </td><td> (0.00%) </td><td> 0.05 </td><td>  0.00000000 </td><td>         inf </td><td> False </td></tr><tr><td> xp82 </td><td> -8.01778652 </td><td>  1.4046e-04 </td><td> (0.00%) </td><td> -8.017786528788656 </td><td>        -inf </td><td>         inf </td><td> True </td></tr><tr><td> A83 </td><td>  154141.148 </td><td>  1691.44038 </td><td> (1.10%) </td><td> 154141.17382519032 </td><td>  0.00000000 </td><td>         inf </td><td> True </td></tr><tr><td> xp83 </td><td> -8.01778210 </td><td>  1.4245e-04 </td><td> (0.00%) </td><td> -8.017782103984928 </td><td>        -inf </td><td>         inf </td><td> True </td></tr><tr><td> A84 </td><td>  154150.966 </td><td>  1692.55178 </td><td> (1.10%) </td><td> 154151.00273606053 </td><td>  0.00000000 </td><td>         inf </td><td> True </td></tr><tr><td> xp84 </td><td> -8.01777889 </td><td>  1.4248e-04 </td><td> (0.00%) </td><td> -8.017778891060477 </td><td>        -inf </td><td>         inf </td><td> True </td></tr><tr><td> A85 </td><td>  153127.936 </td><td>  1679.51743 </td><td> (1.10%) </td><td> 153127.9587679097 </td><td>  0.00000000 </td><td>         inf </td><td> True </td></tr><tr><td> xp85 </td><td> -8.01781946 </td><td>  1.4263e-04 </td><td> (0.00%) </td><td> -8.017819446011455 </td><td>        -inf </td><td>         inf </td><td> True </td></tr><tr><td> A86 </td><td>  152499.341 </td><td>  1680.65765 </td><td> (1.10%) </td><td> 152499.42482959226 </td><td>  0.00000000 </td><td>         inf </td><td> True </td></tr><tr><td> xp86 </td><td> -8.01757975 </td><td>  1.4368e-04 </td><td> (0.00%) </td><td> -8.017579746583536 </td><td>        -inf </td><td>         inf </td><td> True </td></tr><tr><td> A87 </td><td>  151183.101 </td><td>  1673.50315 </td><td> (1.11%) </td><td> 151183.1039345906 </td><td>  0.00000000 </td><td>         inf </td><td> True </td></tr><tr><td> xp87 </td><td> -8.01776547 </td><td>  1.4314e-04 </td><td> (0.00%) </td><td> -8.01776547457252 </td><td>        -inf </td><td>         inf </td><td> True </td></tr><tr><td> A88 </td><td>  151248.228 </td><td>  1670.31669 </td><td> (1.10%) </td><td> 151248.37672122335 </td><td>  0.00000000 </td><td>         inf </td><td> True </td></tr><tr><td> xp88 </td><td> -8.01771497 </td><td>  1.4321e-04 </td><td> (0.00%) </td><td> -8.017714979984982 </td><td>        -inf </td><td>         inf </td><td> True </td></tr><tr><td> A89 </td><td>  152845.555 </td><td>  1667.72404 </td><td> (1.09%) </td><td> 152845.44003855018 </td><td>  0.00000000 </td><td>         inf </td><td> True </td></tr><tr><td> xp89 </td><td> -8.01790976 </td><td>  1.3946e-04 </td><td> (0.00%) </td><td> -8.017909741477874 </td><td>        -inf </td><td>         inf </td><td> True </td></tr><tr><td> A90 </td><td>  150751.563 </td><td>  1665.49897 </td><td> (1.10%) </td><td> 150751.4900153198 </td><td>  0.00000000 </td><td>         inf </td><td> True </td></tr><tr><td> xp90 </td><td> -8.01762741 </td><td>  1.4271e-04 </td><td> (0.00%) </td><td> -8.017627395880401 </td><td>        -inf </td><td>         inf </td><td> True </td></tr><tr><td> A91 </td><td>  150170.381 </td><td>  1659.21538 </td><td> (1.10%) </td><td> 150170.2682036802 </td><td>  0.00000000 </td><td>         inf </td><td> True </td></tr><tr><td> xp91 </td><td> -8.01773124 </td><td>  1.4260e-04 </td><td> (0.00%) </td><td> -8.017731211591109 </td><td>        -inf </td><td>         inf </td><td> True </td></tr><tr><td> A92 </td><td>  146929.273 </td><td>  1656.70402 </td><td> (1.13%) </td><td> 146929.35657451255 </td><td>  0.00000000 </td><td>         inf </td><td> True </td></tr><tr><td> xp92 </td><td> -8.01764715 </td><td>  1.4222e-04 </td><td> (0.00%) </td><td> -8.017647101624846 </td><td>        -inf </td><td>         inf </td><td> True </td></tr><tr><td> A93 </td><td>  148502.809 </td><td>  1652.17183 </td><td> (1.11%) </td><td> 148502.7758397652 </td><td>  0.00000000 </td><td>         inf </td><td> True </td></tr><tr><td> xp93 </td><td> -8.01776848 </td><td>  1.4066e-04 </td><td> (0.00%) </td><td> -8.017768439936049 </td><td>        -inf </td><td>         inf </td><td> True </td></tr><tr><td> A94 </td><td>  146637.625 </td><td>  1645.61835 </td><td> (1.12%) </td><td> 146637.57012508245 </td><td>  0.00000000 </td><td>         inf </td><td> True </td></tr><tr><td> xp94 </td><td> -8.01771664 </td><td>  1.4013e-04 </td><td> (0.00%) </td><td> -8.017716616765199 </td><td>        -inf </td><td>         inf </td><td> True </td></tr><tr><td> A95 </td><td>  144150.693 </td><td>  1625.76191 </td><td> (1.13%) </td><td> 144150.8253542804 </td><td>  0.00000000 </td><td>         inf </td><td> True </td></tr><tr><td> xp95 </td><td> -8.01767154 </td><td>  1.4166e-04 </td><td> (0.00%) </td><td> -8.017671448605586 </td><td>        -inf </td><td>         inf </td><td> True </td></tr><tr><td> A96 </td><td>  145017.142 </td><td>  1633.59319 </td><td> (1.13%) </td><td> 145017.12607247647 </td><td>  0.00000000 </td><td>         inf </td><td> True </td></tr><tr><td> xp96 </td><td> -8.01752599 </td><td>  1.4135e-04 </td><td> (0.00%) </td><td> -8.017525907090176 </td><td>        -inf </td><td>         inf </td><td> True </td></tr><tr><td> A97 </td><td>  143067.838 </td><td>  1624.07939 </td><td> (1.14%) </td><td> 143067.92060404515 </td><td>  0.00000000 </td><td>         inf </td><td> True </td></tr><tr><td> xp97 </td><td> -8.01729913 </td><td>  1.4305e-04 </td><td> (0.00%) </td><td> -8.017299019139928 </td><td>        -inf </td><td>         inf </td><td> True </td></tr><tr><td> A98 </td><td>  142790.166 </td><td>  1740.06009 </td><td> (1.22%) </td><td> 142790.2218637393 </td><td>  0.00000000 </td><td>         inf </td><td> True </td></tr><tr><td> xp98 </td><td> -8.01723970 </td><td>  1.5175e-04 </td><td> (0.00%) </td><td> -8.017239579994634 </td><td>        -inf </td><td>         inf </td><td> True </td></tr><tr><td> A99 </td><td>  142641.531 </td><td>  1618.22202 </td><td> (1.13%) </td><td> 142641.61264469277 </td><td>  0.00000000 </td><td>         inf </td><td> True </td></tr><tr><td> xp99 </td><td> -8.01745854 </td><td>  1.4166e-04 </td><td> (0.00%) </td><td> -8.017458445334501 </td><td>        -inf </td><td>         inf </td><td> True </td></tr><tr><td> A100 </td><td>  140433.068 </td><td>  1611.01229 </td><td> (1.15%) </td><td> 140433.13991288588 </td><td>  0.00000000 </td><td>         inf </td><td> True </td></tr><tr><td> xp100 </td><td> -8.01755727 </td><td>  1.4238e-04 </td><td> (0.00%) </td><td> -8.017557129493595 </td><td>        -inf </td><td>         inf </td><td> True </td></tr><tr><td> A101 </td><td>  137610.759 </td><td>  1596.17796 </td><td> (1.16%) </td><td> 137610.90810050227 </td><td>  0.00000000 </td><td>         inf </td><td> True </td></tr><tr><td> xp101 </td><td> -8.01737869 </td><td>  1.4388e-04 </td><td> (0.00%) </td><td> -8.017378542919719 </td><td>        -inf </td><td>         inf </td><td> True </td></tr></table>"
      ],
      "text/plain": [
       "<lmfit.minimizer.MinimizerResult at 0x159c935eec8>"
      ]
     },
     "execution_count": 100,
     "metadata": {},
     "output_type": "execute_result"
    }
   ],
   "source": [
    "# report_fit(result)\n",
    "xwFit['8_20'][2].result"
   ]
  },
  {
   "cell_type": "markdown",
   "metadata": {
    "Collapsed": "false",
    "heading_collapsed": true
   },
   "source": [
    "#### Fit with 2 independent free parameters per dataset and 5 free parameters shared between all datasets over 30 spectra"
   ]
  },
  {
   "cell_type": "code",
   "execution_count": 51,
   "metadata": {
    "Collapsed": "false",
    "hidden": true
   },
   "outputs": [],
   "source": [
    "xwFit10b = [xpvic_fit(peak_center, nData, pvic_params)  for _ in range(numFitIterations)]\n",
    "\n",
    "nSpec = 30\n",
    "xwFit10b[0].data_range = range(len(nData)-nSpec, len(nData))\n",
    "\n",
    "# create x and y 1D datasets for fit\n",
    "# Xfitdata, Yfitdata = xyBatchFitNData(nData, data_range=spec_rng, data_select=data_select)\n",
    "xwFit10b[0].makeData(data_select)\n",
    "\n",
    "# create and initialize lmfit Parameters object\n",
    "xwFit10b[0].initParams()\n",
    "\n",
    "### Perform fit and store corresponding results in dictionary\n",
    "xwFit10b[0].freeSharedPrms = 5"
   ]
  },
  {
   "cell_type": "code",
   "execution_count": 52,
   "metadata": {
    "hidden": true
   },
   "outputs": [],
   "source": [
    "xwFit10b[0].performFit(weights=xwFit10b[0].weights)"
   ]
  },
  {
   "cell_type": "code",
   "execution_count": 38,
   "metadata": {
    "Collapsed": "false",
    "hidden": true
   },
   "outputs": [
    {
     "data": {
      "text/html": [
       "<h2>Fit Statistics</h2><table><tr><td>fitting method</td><td>leastsq</td><td></td></tr><tr><td># function evals</td><td>1401</td><td></td></tr><tr><td># data points</td><td>3600</td><td></td></tr><tr><td># variables</td><td>65</td><td></td></tr><tr><td>chi-square</td><td> 7430.01335</td><td></td></tr><tr><td>reduced chi-square</td><td> 2.10184253</td><td></td></tr><tr><td>Akaike info crit.</td><td> 2738.53772</td><td></td></tr><tr><td>Bayesian info crit.</td><td> 3140.80251</td><td></td></tr></table><h2>Variables</h2><table><tr><th> name </th><th> value </th><th> standard error </th><th> relative error </th><th> initial value </th><th> min </th><th> max </th><th> vary </th></tr><tr><td> A72 </td><td>  253592.670 </td><td>  3534.74795 </td><td> (1.39%) </td><td> 200000.0 </td><td>  0.00000000 </td><td>         inf </td><td> True </td></tr><tr><td> alpha </td><td>  95.2513291 </td><td>  0.39102925 </td><td> (0.41%) </td><td> 140 </td><td>  0.00000000 </td><td>         inf </td><td> True </td></tr><tr><td> beta </td><td>  1834.05775 </td><td>  872110.497 </td><td> (47550.87%) </td><td> 0.001 </td><td>  0.00000000 </td><td>         inf </td><td> True </td></tr><tr><td> R </td><td>  1.7051e-04 </td><td>  0.14563290 </td><td> (85411.59%) </td><td> 0.001 </td><td>  0.00000000 </td><td>         inf </td><td> True </td></tr><tr><td> gamma </td><td>  5.7953e-04 </td><td>  2.3368e-05 </td><td> (4.03%) </td><td> 0.001 </td><td>  0.00000000 </td><td>         inf </td><td> True </td></tr><tr><td> sigma </td><td>  0.00488504 </td><td>  1.0833e-04 </td><td> (2.22%) </td><td> 0.0066 </td><td>  0.00000000 </td><td>         inf </td><td> True </td></tr><tr><td> k </td><td>  0.05000000 </td><td>  0.00000000 </td><td> (0.00%) </td><td> 0.05 </td><td>  0.00000000 </td><td>         inf </td><td> False </td></tr><tr><td> xp72 </td><td> -10.0241128 </td><td>  2.5420e-04 </td><td> (0.00%) </td><td> -10.0 </td><td>        -inf </td><td>         inf </td><td> True </td></tr><tr><td> A73 </td><td>  256203.185 </td><td>  3538.55084 </td><td> (1.38%) </td><td> 200000.0 </td><td>  0.00000000 </td><td>         inf </td><td> True </td></tr><tr><td> xp73 </td><td> -10.0239602 </td><td>  2.4888e-04 </td><td> (0.00%) </td><td> -10.0 </td><td>        -inf </td><td>         inf </td><td> True </td></tr><tr><td> A74 </td><td>  257390.190 </td><td>  3537.89956 </td><td> (1.37%) </td><td> 200000.0 </td><td>  0.00000000 </td><td>         inf </td><td> True </td></tr><tr><td> xp74 </td><td> -10.0239643 </td><td>  2.5533e-04 </td><td> (0.00%) </td><td> -10.0 </td><td>        -inf </td><td>         inf </td><td> True </td></tr><tr><td> A75 </td><td>  253185.790 </td><td>  3509.63097 </td><td> (1.39%) </td><td> 200000.0 </td><td>  0.00000000 </td><td>         inf </td><td> True </td></tr><tr><td> xp75 </td><td> -10.0240562 </td><td>  2.4464e-04 </td><td> (0.00%) </td><td> -10.0 </td><td>        -inf </td><td>         inf </td><td> True </td></tr><tr><td> A76 </td><td>  252278.016 </td><td>  3503.24535 </td><td> (1.39%) </td><td> 200000.0 </td><td>  0.00000000 </td><td>         inf </td><td> True </td></tr><tr><td> xp76 </td><td> -10.0241498 </td><td>  2.5442e-04 </td><td> (0.00%) </td><td> -10.0 </td><td>        -inf </td><td>         inf </td><td> True </td></tr><tr><td> A77 </td><td>  251163.073 </td><td>  3514.03644 </td><td> (1.40%) </td><td> 200000.0 </td><td>  0.00000000 </td><td>         inf </td><td> True </td></tr><tr><td> xp77 </td><td> -10.0237151 </td><td>  2.5786e-04 </td><td> (0.00%) </td><td> -10.0 </td><td>        -inf </td><td>         inf </td><td> True </td></tr><tr><td> A78 </td><td>  249122.273 </td><td>  3507.31881 </td><td> (1.41%) </td><td> 200000.0 </td><td>  0.00000000 </td><td>         inf </td><td> True </td></tr><tr><td> xp78 </td><td> -10.0238830 </td><td>  2.5154e-04 </td><td> (0.00%) </td><td> -10.0 </td><td>        -inf </td><td>         inf </td><td> True </td></tr><tr><td> A79 </td><td>  247051.591 </td><td>  3469.01635 </td><td> (1.40%) </td><td> 200000.0 </td><td>  0.00000000 </td><td>         inf </td><td> True </td></tr><tr><td> xp79 </td><td> -10.0237852 </td><td>  2.4848e-04 </td><td> (0.00%) </td><td> -10.0 </td><td>        -inf </td><td>         inf </td><td> True </td></tr><tr><td> A80 </td><td>  248697.957 </td><td>  3489.28537 </td><td> (1.40%) </td><td> 200000.0 </td><td>  0.00000000 </td><td>         inf </td><td> True </td></tr><tr><td> xp80 </td><td> -10.0242426 </td><td>  2.4445e-04 </td><td> (0.00%) </td><td> -10.0 </td><td>        -inf </td><td>         inf </td><td> True </td></tr><tr><td> A81 </td><td>  248664.746 </td><td>  3477.67454 </td><td> (1.40%) </td><td> 200000.0 </td><td>  0.00000000 </td><td>         inf </td><td> True </td></tr><tr><td> xp81 </td><td> -10.0241735 </td><td>  2.4948e-04 </td><td> (0.00%) </td><td> -10.0 </td><td>        -inf </td><td>         inf </td><td> True </td></tr><tr><td> A82 </td><td>  247505.320 </td><td>  3467.06808 </td><td> (1.40%) </td><td> 200000.0 </td><td>  0.00000000 </td><td>         inf </td><td> True </td></tr><tr><td> xp82 </td><td> -10.0238613 </td><td>  2.5256e-04 </td><td> (0.00%) </td><td> -10.0 </td><td>        -inf </td><td>         inf </td><td> True </td></tr><tr><td> A83 </td><td>  249696.330 </td><td>  3483.03513 </td><td> (1.39%) </td><td> 200000.0 </td><td>  0.00000000 </td><td>         inf </td><td> True </td></tr><tr><td> xp83 </td><td> -10.0239284 </td><td>  2.4629e-04 </td><td> (0.00%) </td><td> -10.0 </td><td>        -inf </td><td>         inf </td><td> True </td></tr><tr><td> A84 </td><td>  245049.178 </td><td>  3464.36222 </td><td> (1.41%) </td><td> 200000.0 </td><td>  0.00000000 </td><td>         inf </td><td> True </td></tr><tr><td> xp84 </td><td> -10.0239006 </td><td>  2.5049e-04 </td><td> (0.00%) </td><td> -10.0 </td><td>        -inf </td><td>         inf </td><td> True </td></tr><tr><td> A85 </td><td>  244798.012 </td><td>  3465.81381 </td><td> (1.42%) </td><td> 200000.0 </td><td>  0.00000000 </td><td>         inf </td><td> True </td></tr><tr><td> xp85 </td><td> -10.0238821 </td><td>  2.5074e-04 </td><td> (0.00%) </td><td> -10.0 </td><td>        -inf </td><td>         inf </td><td> True </td></tr><tr><td> A86 </td><td>  245935.344 </td><td>  3462.10356 </td><td> (1.41%) </td><td> 200000.0 </td><td>  0.00000000 </td><td>         inf </td><td> True </td></tr><tr><td> xp86 </td><td> -10.0238183 </td><td>  2.5038e-04 </td><td> (0.00%) </td><td> -10.0 </td><td>        -inf </td><td>         inf </td><td> True </td></tr><tr><td> A87 </td><td>  242731.643 </td><td>  3430.98119 </td><td> (1.41%) </td><td> 200000.0 </td><td>  0.00000000 </td><td>         inf </td><td> True </td></tr><tr><td> xp87 </td><td> -10.0237718 </td><td>  2.4545e-04 </td><td> (0.00%) </td><td> -10.0 </td><td>        -inf </td><td>         inf </td><td> True </td></tr><tr><td> A88 </td><td>  242204.454 </td><td>  3444.33805 </td><td> (1.42%) </td><td> 200000.0 </td><td>  0.00000000 </td><td>         inf </td><td> True </td></tr><tr><td> xp88 </td><td> -10.0237466 </td><td>  2.5004e-04 </td><td> (0.00%) </td><td> -10.0 </td><td>        -inf </td><td>         inf </td><td> True </td></tr><tr><td> A89 </td><td>  238030.310 </td><td>  3423.36094 </td><td> (1.44%) </td><td> 200000.0 </td><td>  0.00000000 </td><td>         inf </td><td> True </td></tr><tr><td> xp89 </td><td> -10.0235750 </td><td>  2.5490e-04 </td><td> (0.00%) </td><td> -10.0 </td><td>        -inf </td><td>         inf </td><td> True </td></tr><tr><td> A90 </td><td>  245740.120 </td><td>  3448.03750 </td><td> (1.40%) </td><td> 200000.0 </td><td>  0.00000000 </td><td>         inf </td><td> True </td></tr><tr><td> xp90 </td><td> -10.0234067 </td><td>  2.4748e-04 </td><td> (0.00%) </td><td> -10.0 </td><td>        -inf </td><td>         inf </td><td> True </td></tr><tr><td> A91 </td><td>  237875.025 </td><td>  3416.34877 </td><td> (1.44%) </td><td> 200000.0 </td><td>  0.00000000 </td><td>         inf </td><td> True </td></tr><tr><td> xp91 </td><td> -10.0234486 </td><td>  2.5611e-04 </td><td> (0.00%) </td><td> -10.0 </td><td>        -inf </td><td>         inf </td><td> True </td></tr><tr><td> A92 </td><td>  235080.110 </td><td>  3403.34054 </td><td> (1.45%) </td><td> 200000.0 </td><td>  0.00000000 </td><td>         inf </td><td> True </td></tr><tr><td> xp92 </td><td> -10.0233614 </td><td>  2.5184e-04 </td><td> (0.00%) </td><td> -10.0 </td><td>        -inf </td><td>         inf </td><td> True </td></tr><tr><td> A93 </td><td>  231269.928 </td><td>  3379.50686 </td><td> (1.46%) </td><td> 200000.0 </td><td>  0.00000000 </td><td>         inf </td><td> True </td></tr><tr><td> xp93 </td><td> -10.0235984 </td><td>  2.5827e-04 </td><td> (0.00%) </td><td> -10.0 </td><td>        -inf </td><td>         inf </td><td> True </td></tr><tr><td> A94 </td><td>  231563.165 </td><td>  3398.15753 </td><td> (1.47%) </td><td> 200000.0 </td><td>  0.00000000 </td><td>         inf </td><td> True </td></tr><tr><td> xp94 </td><td> -10.0232517 </td><td>  2.4994e-04 </td><td> (0.00%) </td><td> -10.0 </td><td>        -inf </td><td>         inf </td><td> True </td></tr><tr><td> A95 </td><td>  231466.431 </td><td>  3366.36889 </td><td> (1.45%) </td><td> 200000.0 </td><td>  0.00000000 </td><td>         inf </td><td> True </td></tr><tr><td> xp95 </td><td> -10.0235812 </td><td>  2.4826e-04 </td><td> (0.00%) </td><td> -10.0 </td><td>        -inf </td><td>         inf </td><td> True </td></tr><tr><td> A96 </td><td>  232257.396 </td><td>  3365.98384 </td><td> (1.45%) </td><td> 200000.0 </td><td>  0.00000000 </td><td>         inf </td><td> True </td></tr><tr><td> xp96 </td><td> -10.0233553 </td><td>  2.5240e-04 </td><td> (0.00%) </td><td> -10.0 </td><td>        -inf </td><td>         inf </td><td> True </td></tr><tr><td> A97 </td><td>  226396.479 </td><td>  3332.78097 </td><td> (1.47%) </td><td> 200000.0 </td><td>  0.00000000 </td><td>         inf </td><td> True </td></tr><tr><td> xp97 </td><td> -10.0232914 </td><td>  2.5247e-04 </td><td> (0.00%) </td><td> -10.0 </td><td>        -inf </td><td>         inf </td><td> True </td></tr><tr><td> A98 </td><td>  227682.351 </td><td>  3577.30884 </td><td> (1.57%) </td><td> 200000.0 </td><td>  0.00000000 </td><td>         inf </td><td> True </td></tr><tr><td> xp98 </td><td> -10.0231628 </td><td>  2.6159e-04 </td><td> (0.00%) </td><td> -10.0 </td><td>        -inf </td><td>         inf </td><td> True </td></tr><tr><td> A99 </td><td>  227457.020 </td><td>  3321.94606 </td><td> (1.46%) </td><td> 200000.0 </td><td>  0.00000000 </td><td>         inf </td><td> True </td></tr><tr><td> xp99 </td><td> -10.0233737 </td><td>  2.4781e-04 </td><td> (0.00%) </td><td> -10.0 </td><td>        -inf </td><td>         inf </td><td> True </td></tr><tr><td> A100 </td><td>  227064.637 </td><td>  3327.63812 </td><td> (1.47%) </td><td> 200000.0 </td><td>  0.00000000 </td><td>         inf </td><td> True </td></tr><tr><td> xp100 </td><td> -10.0231847 </td><td>  2.5380e-04 </td><td> (0.00%) </td><td> -10.0 </td><td>        -inf </td><td>         inf </td><td> True </td></tr><tr><td> A101 </td><td>  225550.707 </td><td>  3319.30146 </td><td> (1.47%) </td><td> 200000.0 </td><td>  0.00000000 </td><td>         inf </td><td> True </td></tr><tr><td> xp101 </td><td> -10.0233902 </td><td>  2.5393e-04 </td><td> (0.00%) </td><td> -10.0 </td><td>        -inf </td><td>         inf </td><td> True </td></tr></table><h2>Correlations (unreported correlations are < 0.100)</h2><table><tr><td>alpha</td><td>sigma</td><td>0.6185</td></tr><tr><td>beta</td><td>R</td><td>0.5174</td></tr><tr><td>alpha</td><td>xp99</td><td>0.3740</td></tr><tr><td>alpha</td><td>xp95</td><td>0.3682</td></tr><tr><td>alpha</td><td>xp87</td><td>0.3668</td></tr><tr><td>alpha</td><td>xp94</td><td>0.3664</td></tr><tr><td>alpha</td><td>xp97</td><td>0.3658</td></tr><tr><td>alpha</td><td>xp96</td><td>0.3658</td></tr><tr><td>alpha</td><td>xp100</td><td>0.3644</td></tr><tr><td>alpha</td><td>xp98</td><td>0.3635</td></tr><tr><td>alpha</td><td>xp101</td><td>0.3627</td></tr><tr><td>alpha</td><td>xp90</td><td>0.3614</td></tr><tr><td>alpha</td><td>xp83</td><td>0.3582</td></tr><tr><td>alpha</td><td>xp88</td><td>0.3577</td></tr><tr><td>alpha</td><td>xp80</td><td>0.3570</td></tr><tr><td>alpha</td><td>xp79</td><td>0.3560</td></tr><tr><td>alpha</td><td>xp75</td><td>0.3554</td></tr><tr><td>alpha</td><td>xp84</td><td>0.3549</td></tr><tr><td>alpha</td><td>xp86</td><td>0.3548</td></tr><tr><td>alpha</td><td>xp92</td><td>0.3539</td></tr><tr><td>alpha</td><td>xp73</td><td>0.3531</td></tr><tr><td>alpha</td><td>xp85</td><td>0.3526</td></tr><tr><td>alpha</td><td>xp81</td><td>0.3506</td></tr><tr><td>alpha</td><td>xp93</td><td>0.3502</td></tr><tr><td>alpha</td><td>xp78</td><td>0.3491</td></tr><tr><td>alpha</td><td>xp89</td><td>0.3487</td></tr><tr><td>alpha</td><td>xp91</td><td>0.3479</td></tr><tr><td>alpha</td><td>xp82</td><td>0.3468</td></tr><tr><td>alpha</td><td>xp76</td><td>0.3427</td></tr><tr><td>alpha</td><td>xp74</td><td>0.3418</td></tr><tr><td>alpha</td><td>xp72</td><td>0.3412</td></tr><tr><td>alpha</td><td>xp77</td><td>0.3391</td></tr><tr><td>gamma</td><td>sigma</td><td>-0.3220</td></tr><tr><td>R</td><td>xp81</td><td>-0.2973</td></tr><tr><td>R</td><td>xp91</td><td>-0.2964</td></tr><tr><td>sigma</td><td>xp99</td><td>0.2943</td></tr><tr><td>sigma</td><td>xp98</td><td>0.2886</td></tr><tr><td>R</td><td>xp88</td><td>-0.2872</td></tr><tr><td>sigma</td><td>xp95</td><td>0.2836</td></tr><tr><td>sigma</td><td>xp94</td><td>0.2834</td></tr><tr><td>sigma</td><td>xp97</td><td>0.2831</td></tr><tr><td>sigma</td><td>xp96</td><td>0.2811</td></tr><tr><td>sigma</td><td>xp100</td><td>0.2797</td></tr><tr><td>sigma</td><td>xp101</td><td>0.2789</td></tr><tr><td>sigma</td><td>xp87</td><td>0.2755</td></tr><tr><td>R</td><td>xp93</td><td>-0.2741</td></tr><tr><td>sigma</td><td>xp90</td><td>0.2697</td></tr><tr><td>R</td><td>xp82</td><td>-0.2696</td></tr><tr><td>R</td><td>xp83</td><td>-0.2682</td></tr><tr><td>sigma</td><td>xp88</td><td>0.2661</td></tr><tr><td>sigma</td><td>xp92</td><td>0.2646</td></tr><tr><td>sigma</td><td>xp83</td><td>0.2636</td></tr><tr><td>sigma</td><td>xp84</td><td>0.2610</td></tr><tr><td>sigma</td><td>xp93</td><td>0.2606</td></tr><tr><td>sigma</td><td>xp86</td><td>0.2603</td></tr><tr><td>sigma</td><td>xp80</td><td>0.2589</td></tr><tr><td>sigma</td><td>xp79</td><td>0.2577</td></tr><tr><td>sigma</td><td>xp85</td><td>0.2565</td></tr><tr><td>sigma</td><td>xp89</td><td>0.2564</td></tr><tr><td>sigma</td><td>xp81</td><td>0.2560</td></tr><tr><td>R</td><td>xp101</td><td>-0.2555</td></tr><tr><td>sigma</td><td>xp91</td><td>0.2549</td></tr><tr><td>sigma</td><td>xp75</td><td>0.2546</td></tr><tr><td>R</td><td>xp89</td><td>-0.2525</td></tr><tr><td>R</td><td>xp85</td><td>-0.2522</td></tr><tr><td>sigma</td><td>xp78</td><td>0.2515</td></tr><tr><td>sigma</td><td>xp73</td><td>0.2508</td></tr><tr><td>R</td><td>xp92</td><td>-0.2508</td></tr><tr><td>R</td><td>xp97</td><td>-0.2499</td></tr><tr><td>sigma</td><td>xp82</td><td>0.2497</td></tr><tr><td>xp100</td><td>xp101</td><td>0.2495</td></tr><tr><td>xp93</td><td>xp100</td><td>0.2485</td></tr><tr><td>R</td><td>xp100</td><td>-0.2480</td></tr><tr><td>R</td><td>xp76</td><td>-0.2477</td></tr><tr><td>R</td><td>xp77</td><td>-0.2447</td></tr><tr><td>xp93</td><td>xp101</td><td>0.2445</td></tr><tr><td>xp99</td><td>xp100</td><td>0.2433</td></tr><tr><td>xp83</td><td>xp100</td><td>0.2432</td></tr><tr><td>R</td><td>xp74</td><td>-0.2430</td></tr><tr><td>xp77</td><td>xp100</td><td>0.2427</td></tr><tr><td>xp91</td><td>xp100</td><td>0.2425</td></tr><tr><td>sigma</td><td>xp76</td><td>0.2423</td></tr><tr><td>xp81</td><td>xp100</td><td>0.2417</td></tr><tr><td>xp90</td><td>xp100</td><td>0.2414</td></tr><tr><td>xp89</td><td>xp100</td><td>0.2413</td></tr><tr><td>xp74</td><td>xp100</td><td>0.2406</td></tr><tr><td>xp91</td><td>xp93</td><td>0.2404</td></tr><tr><td>xp91</td><td>xp101</td><td>0.2400</td></tr><tr><td>xp88</td><td>xp100</td><td>0.2399</td></tr><tr><td>xp96</td><td>xp100</td><td>0.2399</td></tr><tr><td>xp83</td><td>xp101</td><td>0.2399</td></tr><tr><td>xp81</td><td>xp93</td><td>0.2398</td></tr><tr><td>xp83</td><td>xp93</td><td>0.2397</td></tr><tr><td>xp82</td><td>xp100</td><td>0.2395</td></tr><tr><td>xp81</td><td>xp101</td><td>0.2394</td></tr><tr><td>xp81</td><td>xp91</td><td>0.2389</td></tr><tr><td>sigma</td><td>xp77</td><td>0.2388</td></tr><tr><td>sigma</td><td>xp72</td><td>0.2388</td></tr><tr><td>xp99</td><td>xp101</td><td>0.2387</td></tr><tr><td>R</td><td>xp98</td><td>-0.2385</td></tr><tr><td>sigma</td><td>xp74</td><td>0.2381</td></tr><tr><td>xp88</td><td>xp101</td><td>0.2378</td></tr><tr><td>xp88</td><td>xp93</td><td>0.2378</td></tr><tr><td>xp85</td><td>xp100</td><td>0.2374</td></tr><tr><td>xp77</td><td>xp101</td><td>0.2374</td></tr><tr><td>xp77</td><td>xp93</td><td>0.2374</td></tr><tr><td>xp97</td><td>xp100</td><td>0.2373</td></tr><tr><td>xp81</td><td>xp88</td><td>0.2372</td></tr><tr><td>xp88</td><td>xp91</td><td>0.2372</td></tr><tr><td>xp89</td><td>xp101</td><td>0.2372</td></tr><tr><td>xp89</td><td>xp93</td><td>0.2369</td></tr><tr><td>xp83</td><td>xp91</td><td>0.2369</td></tr><tr><td>xp93</td><td>xp99</td><td>0.2367</td></tr><tr><td>xp81</td><td>xp83</td><td>0.2366</td></tr><tr><td>xp90</td><td>xp101</td><td>0.2365</td></tr><tr><td>xp82</td><td>xp93</td><td>0.2362</td></tr><tr><td>xp82</td><td>xp101</td><td>0.2361</td></tr><tr><td>xp84</td><td>xp100</td><td>0.2361</td></tr><tr><td>xp86</td><td>xp100</td><td>0.2359</td></tr><tr><td>xp74</td><td>xp101</td><td>0.2356</td></tr><tr><td>xp74</td><td>xp93</td><td>0.2355</td></tr><tr><td>xp90</td><td>xp93</td><td>0.2353</td></tr><tr><td>xp83</td><td>xp88</td><td>0.2350</td></tr><tr><td>xp98</td><td>xp100</td><td>0.2349</td></tr><tr><td>xp97</td><td>xp101</td><td>0.2347</td></tr><tr><td>xp76</td><td>xp100</td><td>0.2344</td></tr><tr><td>xp85</td><td>xp101</td><td>0.2339</td></tr><tr><td>xp92</td><td>xp100</td><td>0.2337</td></tr><tr><td>xp85</td><td>xp93</td><td>0.2336</td></tr><tr><td>xp93</td><td>xp97</td><td>0.2335</td></tr><tr><td>xp82</td><td>xp91</td><td>0.2333</td></tr><tr><td>xp81</td><td>xp82</td><td>0.2330</td></tr><tr><td>xp84</td><td>xp96</td><td>0.2326</td></tr><tr><td>xp89</td><td>xp91</td><td>0.2325</td></tr><tr><td>xp83</td><td>xp89</td><td>0.2324</td></tr><tr><td>xp83</td><td>xp99</td><td>0.2324</td></tr><tr><td>xp82</td><td>xp83</td><td>0.2324</td></tr><tr><td>xp98</td><td>xp101</td><td>0.2320</td></tr><tr><td>xp77</td><td>xp83</td><td>0.2320</td></tr><tr><td>xp81</td><td>xp89</td><td>0.2320</td></tr><tr><td>xp86</td><td>xp101</td><td>0.2318</td></tr><tr><td>xp96</td><td>xp101</td><td>0.2317</td></tr><tr><td>xp74</td><td>xp77</td><td>0.2315</td></tr><tr><td>xp91</td><td>xp97</td><td>0.2315</td></tr><tr><td>xp90</td><td>xp99</td><td>0.2315</td></tr><tr><td>xp96</td><td>xp99</td><td>0.2315</td></tr><tr><td>xp81</td><td>xp97</td><td>0.2313</td></tr><tr><td>xp77</td><td>xp91</td><td>0.2312</td></tr><tr><td>xp82</td><td>xp88</td><td>0.2311</td></tr><tr><td>xp86</td><td>xp93</td><td>0.2310</td></tr><tr><td>xp91</td><td>xp99</td><td>0.2310</td></tr><tr><td>R</td><td>xp86</td><td>-0.2309</td></tr><tr><td>xp77</td><td>xp89</td><td>0.2309</td></tr><tr><td>xp77</td><td>xp99</td><td>0.2308</td></tr><tr><td>xp92</td><td>xp101</td><td>0.2308</td></tr><tr><td>xp83</td><td>xp90</td><td>0.2307</td></tr><tr><td>xp88</td><td>xp97</td><td>0.2306</td></tr><tr><td>xp77</td><td>xp90</td><td>0.2306</td></tr><tr><td>xp93</td><td>xp98</td><td>0.2306</td></tr><tr><td>xp76</td><td>xp101</td><td>0.2305</td></tr><tr><td>xp74</td><td>xp83</td><td>0.2305</td></tr><tr><td>xp83</td><td>xp97</td><td>0.2305</td></tr><tr><td>xp76</td><td>xp93</td><td>0.2304</td></tr><tr><td>xp77</td><td>xp81</td><td>0.2304</td></tr><tr><td>xp81</td><td>xp99</td><td>0.2304</td></tr><tr><td>xp89</td><td>xp99</td><td>0.2304</td></tr><tr><td>xp85</td><td>xp91</td><td>0.2303</td></tr><tr><td>xp92</td><td>xp93</td><td>0.2302</td></tr><tr><td>xp88</td><td>xp89</td><td>0.2301</td></tr><tr><td>xp81</td><td>xp85</td><td>0.2299</td></tr><tr><td>xp83</td><td>xp85</td><td>0.2298</td></tr><tr><td>xp74</td><td>xp91</td><td>0.2298</td></tr><tr><td>xp84</td><td>xp101</td><td>0.2298</td></tr><tr><td>xp90</td><td>xp96</td><td>0.2298</td></tr><tr><td>xp77</td><td>xp96</td><td>0.2298</td></tr><tr><td>xp94</td><td>xp96</td><td>0.2296</td></tr><tr><td>xp88</td><td>xp99</td><td>0.2294</td></tr><tr><td>xp90</td><td>xp91</td><td>0.2293</td></tr><tr><td>xp77</td><td>xp82</td><td>0.2291</td></tr><tr><td>xp74</td><td>xp81</td><td>0.2291</td></tr><tr><td>xp82</td><td>xp89</td><td>0.2291</td></tr><tr><td>xp74</td><td>xp89</td><td>0.2291</td></tr><tr><td>xp89</td><td>xp90</td><td>0.2291</td></tr><tr><td>xp74</td><td>xp99</td><td>0.2290</td></tr><tr><td>xp93</td><td>xp96</td><td>0.2287</td></tr><tr><td>xp74</td><td>xp90</td><td>0.2287</td></tr><tr><td>xp95</td><td>xp100</td><td>0.2287</td></tr><tr><td>xp81</td><td>xp90</td><td>0.2286</td></tr><tr><td>xp82</td><td>xp99</td><td>0.2284</td></tr><tr><td>xp85</td><td>xp88</td><td>0.2283</td></tr><tr><td>xp97</td><td>xp99</td><td>0.2282</td></tr><tr><td>xp84</td><td>xp93</td><td>0.2282</td></tr><tr><td>xp91</td><td>xp98</td><td>0.2282</td></tr><tr><td>R</td><td>xp95</td><td>-0.2280</td></tr><tr><td>xp81</td><td>xp98</td><td>0.2279</td></tr><tr><td>xp77</td><td>xp88</td><td>0.2279</td></tr><tr><td>xp91</td><td>xp92</td><td>0.2278</td></tr><tr><td>xp81</td><td>xp92</td><td>0.2276</td></tr><tr><td>xp74</td><td>xp82</td><td>0.2276</td></tr><tr><td>xp88</td><td>xp98</td><td>0.2274</td></tr><tr><td>xp83</td><td>xp98</td><td>0.2274</td></tr><tr><td>xp82</td><td>xp90</td><td>0.2271</td></tr><tr><td>xp85</td><td>xp99</td><td>0.2271</td></tr><tr><td>xp88</td><td>xp90</td><td>0.2271</td></tr><tr><td>xp83</td><td>xp86</td><td>0.2271</td></tr><tr><td>xp74</td><td>xp96</td><td>0.2270</td></tr><tr><td>xp83</td><td>xp92</td><td>0.2270</td></tr><tr><td>xp77</td><td>xp85</td><td>0.2268</td></tr><tr><td>xp85</td><td>xp89</td><td>0.2267</td></tr><tr><td>xp74</td><td>xp88</td><td>0.2267</td></tr><tr><td>xp84</td><td>xp99</td><td>0.2267</td></tr><tr><td>xp86</td><td>xp91</td><td>0.2266</td></tr><tr><td>xp78</td><td>xp100</td><td>0.2266</td></tr><tr><td>xp76</td><td>xp91</td><td>0.2265</td></tr><tr><td>xp88</td><td>xp92</td><td>0.2265</td></tr><tr><td>xp77</td><td>xp84</td><td>0.2264</td></tr><tr><td>xp82</td><td>xp97</td><td>0.2264</td></tr><tr><td>xp76</td><td>xp83</td><td>0.2264</td></tr><tr><td>xp89</td><td>xp97</td><td>0.2264</td></tr><tr><td>xp82</td><td>xp85</td><td>0.2263</td></tr><tr><td>xp95</td><td>xp101</td><td>0.2263</td></tr><tr><td>xp98</td><td>xp99</td><td>0.2262</td></tr><tr><td>xp81</td><td>xp86</td><td>0.2262</td></tr><tr><td>xp76</td><td>xp81</td><td>0.2261</td></tr><tr><td>xp86</td><td>xp99</td><td>0.2261</td></tr><tr><td>xp84</td><td>xp90</td><td>0.2255</td></tr><tr><td>xp85</td><td>xp90</td><td>0.2255</td></tr><tr><td>xp87</td><td>xp100</td><td>0.2253</td></tr><tr><td>xp77</td><td>xp86</td><td>0.2252</td></tr><tr><td>xp74</td><td>xp85</td><td>0.2252</td></tr><tr><td>xp90</td><td>xp97</td><td>0.2250</td></tr><tr><td>xp93</td><td>xp95</td><td>0.2248</td></tr><tr><td>xp97</td><td>xp98</td><td>0.2248</td></tr><tr><td>xp76</td><td>xp77</td><td>0.2247</td></tr><tr><td>xp86</td><td>xp88</td><td>0.2247</td></tr><tr><td>xp86</td><td>xp89</td><td>0.2246</td></tr><tr><td>xp85</td><td>xp97</td><td>0.2244</td></tr><tr><td>xp77</td><td>xp97</td><td>0.2243</td></tr><tr><td>xp86</td><td>xp90</td><td>0.2243</td></tr><tr><td>xp89</td><td>xp96</td><td>0.2242</td></tr><tr><td>xp74</td><td>xp84</td><td>0.2242</td></tr><tr><td>xp76</td><td>xp88</td><td>0.2242</td></tr><tr><td>xp92</td><td>xp99</td><td>0.2241</td></tr><tr><td>xp76</td><td>xp89</td><td>0.2238</td></tr><tr><td>xp76</td><td>xp99</td><td>0.2237</td></tr><tr><td>xp72</td><td>xp100</td><td>0.2237</td></tr><tr><td>xp74</td><td>xp86</td><td>0.2236</td></tr><tr><td>xp82</td><td>xp86</td><td>0.2236</td></tr><tr><td>xp89</td><td>xp98</td><td>0.2235</td></tr><tr><td>xp89</td><td>xp92</td><td>0.2233</td></tr><tr><td>xp82</td><td>xp92</td><td>0.2233</td></tr><tr><td>xp82</td><td>xp98</td><td>0.2232</td></tr><tr><td>xp76</td><td>xp82</td><td>0.2231</td></tr><tr><td>xp74</td><td>xp97</td><td>0.2231</td></tr><tr><td>xp91</td><td>xp95</td><td>0.2230</td></tr><tr><td>xp74</td><td>xp76</td><td>0.2230</td></tr><tr><td>xp81</td><td>xp95</td><td>0.2230</td></tr><tr><td>xp84</td><td>xp89</td><td>0.2229</td></tr><tr><td>xp78</td><td>xp101</td><td>0.2228</td></tr><tr><td>xp83</td><td>xp84</td><td>0.2228</td></tr><tr><td>xp76</td><td>xp90</td><td>0.2227</td></tr><tr><td>xp88</td><td>xp95</td><td>0.2227</td></tr><tr><td>xp92</td><td>xp97</td><td>0.2226</td></tr><tr><td>xp90</td><td>xp98</td><td>0.2225</td></tr><tr><td>xp83</td><td>xp95</td><td>0.2224</td></tr><tr><td>xp77</td><td>xp92</td><td>0.2222</td></tr><tr><td>xp83</td><td>xp96</td><td>0.2221</td></tr><tr><td>xp78</td><td>xp93</td><td>0.2219</td></tr><tr><td>xp90</td><td>xp92</td><td>0.2218</td></tr><tr><td>xp86</td><td>xp97</td><td>0.2217</td></tr><tr><td>xp85</td><td>xp86</td><td>0.2216</td></tr><tr><td>xp85</td><td>xp98</td><td>0.2214</td></tr><tr><td>xp77</td><td>xp98</td><td>0.2214</td></tr><tr><td>xp87</td><td>xp101</td><td>0.2214</td></tr><tr><td>xp85</td><td>xp92</td><td>0.2211</td></tr><tr><td>xp74</td><td>xp92</td><td>0.2209</td></tr><tr><td>xp95</td><td>xp99</td><td>0.2208</td></tr><tr><td>xp76</td><td>xp85</td><td>0.2208</td></tr><tr><td>xp86</td><td>xp96</td><td>0.2207</td></tr><tr><td>xp94</td><td>xp100</td><td>0.2202</td></tr><tr><td>xp76</td><td>xp97</td><td>0.2202</td></tr><tr><td>xp74</td><td>xp98</td><td>0.2201</td></tr><tr><td>xp95</td><td>xp97</td><td>0.2199</td></tr><tr><td>xp92</td><td>xp98</td><td>0.2198</td></tr><tr><td>xp84</td><td>xp91</td><td>0.2196</td></tr><tr><td>xp72</td><td>xp101</td><td>0.2196</td></tr><tr><td>xp82</td><td>xp84</td><td>0.2195</td></tr><tr><td>xp87</td><td>xp93</td><td>0.2194</td></tr><tr><td>xp86</td><td>xp98</td><td>0.2191</td></tr><tr><td>xp72</td><td>xp93</td><td>0.2189</td></tr><tr><td>xp82</td><td>xp96</td><td>0.2187</td></tr><tr><td>xp85</td><td>xp96</td><td>0.2187</td></tr><tr><td>xp84</td><td>xp86</td><td>0.2186</td></tr><tr><td>xp76</td><td>xp86</td><td>0.2186</td></tr><tr><td>xp81</td><td>xp84</td><td>0.2186</td></tr><tr><td>xp84</td><td>xp85</td><td>0.2185</td></tr><tr><td>xp86</td><td>xp92</td><td>0.2184</td></tr><tr><td>xp78</td><td>xp83</td><td>0.2183</td></tr><tr><td>xp82</td><td>xp95</td><td>0.2182</td></tr><tr><td>xp89</td><td>xp95</td><td>0.2182</td></tr><tr><td>xp87</td><td>xp99</td><td>0.2180</td></tr><tr><td>R</td><td>xp90</td><td>-0.2178</td></tr><tr><td>xp78</td><td>xp91</td><td>0.2177</td></tr><tr><td>xp95</td><td>xp98</td><td>0.2176</td></tr><tr><td>xp78</td><td>xp99</td><td>0.2175</td></tr><tr><td>xp76</td><td>xp92</td><td>0.2174</td></tr><tr><td>xp78</td><td>xp81</td><td>0.2174</td></tr><tr><td>xp76</td><td>xp96</td><td>0.2174</td></tr><tr><td>xp90</td><td>xp95</td><td>0.2173</td></tr><tr><td>xp76</td><td>xp98</td><td>0.2172</td></tr><tr><td>xp84</td><td>xp88</td><td>0.2168</td></tr><tr><td>xp76</td><td>xp84</td><td>0.2166</td></tr><tr><td>xp85</td><td>xp95</td><td>0.2166</td></tr><tr><td>xp77</td><td>xp78</td><td>0.2164</td></tr><tr><td>xp91</td><td>xp96</td><td>0.2164</td></tr><tr><td>xp84</td><td>xp97</td><td>0.2164</td></tr><tr><td>xp79</td><td>xp100</td><td>0.2162</td></tr><tr><td>xp83</td><td>xp87</td><td>0.2161</td></tr><tr><td>xp78</td><td>xp88</td><td>0.2160</td></tr><tr><td>xp78</td><td>xp89</td><td>0.2159</td></tr><tr><td>xp78</td><td>xp90</td><td>0.2159</td></tr><tr><td>xp96</td><td>xp97</td><td>0.2158</td></tr><tr><td>xp77</td><td>xp95</td><td>0.2158</td></tr><tr><td>R</td><td>xp78</td><td>-0.2156</td></tr><tr><td>xp87</td><td>xp90</td><td>0.2152</td></tr><tr><td>xp72</td><td>xp83</td><td>0.2151</td></tr><tr><td>xp92</td><td>xp95</td><td>0.2151</td></tr><tr><td>xp84</td><td>xp94</td><td>0.2151</td></tr><tr><td>xp74</td><td>xp78</td><td>0.2150</td></tr><tr><td>xp78</td><td>xp82</td><td>0.2149</td></tr><tr><td>xp81</td><td>xp96</td><td>0.2149</td></tr><tr><td>xp74</td><td>xp95</td><td>0.2148</td></tr><tr><td>xp87</td><td>xp96</td><td>0.2147</td></tr><tr><td>xp96</td><td>xp98</td><td>0.2147</td></tr><tr><td>xp87</td><td>xp91</td><td>0.2146</td></tr><tr><td>xp94</td><td>xp99</td><td>0.2145</td></tr><tr><td>xp72</td><td>xp77</td><td>0.2144</td></tr><tr><td>xp84</td><td>xp98</td><td>0.2144</td></tr><tr><td>xp72</td><td>xp99</td><td>0.2144</td></tr><tr><td>xp72</td><td>xp91</td><td>0.2143</td></tr><tr><td>xp81</td><td>xp87</td><td>0.2142</td></tr><tr><td>xp86</td><td>xp95</td><td>0.2142</td></tr><tr><td>xp73</td><td>xp100</td><td>0.2140</td></tr><tr><td>xp77</td><td>xp87</td><td>0.2139</td></tr><tr><td>xp84</td><td>xp92</td><td>0.2139</td></tr><tr><td>xp72</td><td>xp81</td><td>0.2139</td></tr><tr><td>xp87</td><td>xp89</td><td>0.2139</td></tr><tr><td>xp87</td><td>xp88</td><td>0.2136</td></tr><tr><td>xp78</td><td>xp97</td><td>0.2133</td></tr><tr><td>xp88</td><td>xp96</td><td>0.2133</td></tr><tr><td>xp92</td><td>xp96</td><td>0.2133</td></tr><tr><td>xp72</td><td>xp90</td><td>0.2132</td></tr><tr><td>xp78</td><td>xp85</td><td>0.2132</td></tr><tr><td>xp72</td><td>xp89</td><td>0.2131</td></tr><tr><td>xp94</td><td>xp101</td><td>0.2129</td></tr><tr><td>xp72</td><td>xp74</td><td>0.2128</td></tr><tr><td>xp79</td><td>xp101</td><td>0.2128</td></tr><tr><td>xp87</td><td>xp97</td><td>0.2126</td></tr><tr><td>xp78</td><td>xp96</td><td>0.2125</td></tr><tr><td>xp74</td><td>xp87</td><td>0.2125</td></tr><tr><td>xp72</td><td>xp88</td><td>0.2123</td></tr><tr><td>xp76</td><td>xp95</td><td>0.2123</td></tr><tr><td>xp82</td><td>xp87</td><td>0.2122</td></tr><tr><td>xp90</td><td>xp94</td><td>0.2120</td></tr><tr><td>xp72</td><td>xp82</td><td>0.2120</td></tr><tr><td>xp78</td><td>xp86</td><td>0.2116</td></tr><tr><td>R</td><td>xp72</td><td>-0.2116</td></tr><tr><td>xp85</td><td>xp87</td><td>0.2113</td></tr><tr><td>xp79</td><td>xp93</td><td>0.2112</td></tr><tr><td>xp72</td><td>xp96</td><td>0.2110</td></tr><tr><td>xp78</td><td>xp98</td><td>0.2107</td></tr><tr><td>xp84</td><td>xp87</td><td>0.2106</td></tr><tr><td>xp87</td><td>xp98</td><td>0.2105</td></tr><tr><td>xp78</td><td>xp84</td><td>0.2105</td></tr><tr><td>xp86</td><td>xp87</td><td>0.2104</td></tr><tr><td>xp76</td><td>xp78</td><td>0.2103</td></tr><tr><td>xp72</td><td>xp85</td><td>0.2102</td></tr><tr><td>xp78</td><td>xp92</td><td>0.2101</td></tr><tr><td>xp77</td><td>xp94</td><td>0.2099</td></tr><tr><td>xp73</td><td>xp101</td><td>0.2097</td></tr><tr><td>xp72</td><td>xp97</td><td>0.2095</td></tr><tr><td>R</td><td>xp99</td><td>-0.2092</td></tr><tr><td>xp84</td><td>xp95</td><td>0.2090</td></tr><tr><td>xp79</td><td>xp99</td><td>0.2090</td></tr><tr><td>xp93</td><td>xp94</td><td>0.2090</td></tr><tr><td>xp72</td><td>xp86</td><td>0.2087</td></tr><tr><td>xp95</td><td>xp96</td><td>0.2087</td></tr><tr><td>xp87</td><td>xp92</td><td>0.2087</td></tr><tr><td>xp72</td><td>xp84</td><td>0.2085</td></tr><tr><td>xp79</td><td>xp83</td><td>0.2085</td></tr><tr><td>xp76</td><td>xp87</td><td>0.2080</td></tr><tr><td>xp73</td><td>xp93</td><td>0.2078</td></tr><tr><td>xp74</td><td>xp94</td><td>0.2077</td></tr><tr><td>xp72</td><td>xp76</td><td>0.2077</td></tr><tr><td>xp79</td><td>xp91</td><td>0.2074</td></tr><tr><td>xp79</td><td>xp81</td><td>0.2072</td></tr><tr><td>xp73</td><td>xp96</td><td>0.2069</td></tr><tr><td>xp73</td><td>xp99</td><td>0.2069</td></tr><tr><td>xp72</td><td>xp98</td><td>0.2068</td></tr><tr><td>xp72</td><td>xp92</td><td>0.2068</td></tr><tr><td>xp80</td><td>xp100</td><td>0.2068</td></tr><tr><td>xp79</td><td>xp90</td><td>0.2066</td></tr><tr><td>xp79</td><td>xp88</td><td>0.2065</td></tr><tr><td>xp87</td><td>xp95</td><td>0.2063</td></tr><tr><td>xp78</td><td>xp95</td><td>0.2063</td></tr><tr><td>xp79</td><td>xp89</td><td>0.2059</td></tr><tr><td>xp77</td><td>xp79</td><td>0.2057</td></tr><tr><td>xp89</td><td>xp94</td><td>0.2056</td></tr><tr><td>xp73</td><td>xp90</td><td>0.2050</td></tr><tr><td>xp79</td><td>xp82</td><td>0.2048</td></tr><tr><td>xp79</td><td>xp97</td><td>0.2048</td></tr><tr><td>xp73</td><td>xp83</td><td>0.2046</td></tr><tr><td>xp74</td><td>xp79</td><td>0.2045</td></tr><tr><td>xp73</td><td>xp77</td><td>0.2042</td></tr><tr><td>xp79</td><td>xp96</td><td>0.2042</td></tr><tr><td>xp80</td><td>xp101</td><td>0.2042</td></tr><tr><td>xp79</td><td>xp85</td><td>0.2037</td></tr><tr><td>xp83</td><td>xp94</td><td>0.2037</td></tr><tr><td>xp86</td><td>xp94</td><td>0.2034</td></tr><tr><td>xp75</td><td>xp100</td><td>0.2033</td></tr><tr><td>xp73</td><td>xp89</td><td>0.2031</td></tr><tr><td>xp73</td><td>xp74</td><td>0.2029</td></tr><tr><td>xp78</td><td>xp87</td><td>0.2028</td></tr><tr><td>xp79</td><td>xp98</td><td>0.2025</td></tr><tr><td>xp79</td><td>xp86</td><td>0.2025</td></tr><tr><td>xp72</td><td>xp95</td><td>0.2025</td></tr><tr><td>xp73</td><td>xp91</td><td>0.2024</td></tr><tr><td>xp80</td><td>xp93</td><td>0.2023</td></tr><tr><td>xp73</td><td>xp84</td><td>0.2020</td></tr><tr><td>xp73</td><td>xp81</td><td>0.2020</td></tr><tr><td>xp79</td><td>xp84</td><td>0.2016</td></tr><tr><td>xp79</td><td>xp92</td><td>0.2013</td></tr><tr><td>xp75</td><td>xp101</td><td>0.2012</td></tr><tr><td>xp73</td><td>xp82</td><td>0.2012</td></tr><tr><td>xp73</td><td>xp88</td><td>0.2011</td></tr><tr><td>xp72</td><td>xp78</td><td>0.2010</td></tr><tr><td>xp85</td><td>xp94</td><td>0.2009</td></tr><tr><td>xp80</td><td>xp99</td><td>0.2008</td></tr><tr><td>xp80</td><td>xp83</td><td>0.2006</td></tr><tr><td>xp76</td><td>xp79</td><td>0.2006</td></tr><tr><td>xp73</td><td>xp85</td><td>0.2004</td></tr><tr><td>xp73</td><td>xp97</td><td>0.2003</td></tr><tr><td>xp82</td><td>xp94</td><td>0.2001</td></tr><tr><td>xp87</td><td>xp94</td><td>0.2001</td></tr><tr><td>xp73</td><td>xp86</td><td>0.1999</td></tr><tr><td>xp80</td><td>xp81</td><td>0.1999</td></tr><tr><td>xp72</td><td>xp87</td><td>0.1998</td></tr><tr><td>xp80</td><td>xp91</td><td>0.1998</td></tr><tr><td>xp80</td><td>xp88</td><td>0.1997</td></tr><tr><td>xp75</td><td>xp93</td><td>0.1995</td></tr><tr><td>xp94</td><td>xp97</td><td>0.1994</td></tr><tr><td>xp76</td><td>xp94</td><td>0.1993</td></tr><tr><td>xp79</td><td>xp95</td><td>0.1989</td></tr><tr><td>xp94</td><td>xp98</td><td>0.1987</td></tr><tr><td>xp73</td><td>xp98</td><td>0.1983</td></tr><tr><td>xp75</td><td>xp83</td><td>0.1982</td></tr><tr><td>xp80</td><td>xp97</td><td>0.1982</td></tr><tr><td>xp75</td><td>xp81</td><td>0.1980</td></tr><tr><td>xp75</td><td>xp88</td><td>0.1980</td></tr><tr><td>xp80</td><td>xp90</td><td>0.1978</td></tr><tr><td>xp75</td><td>xp91</td><td>0.1978</td></tr><tr><td>xp73</td><td>xp76</td><td>0.1978</td></tr><tr><td>xp91</td><td>xp94</td><td>0.1976</td></tr><tr><td>xp75</td><td>xp99</td><td>0.1975</td></tr><tr><td>xp73</td><td>xp92</td><td>0.1973</td></tr><tr><td>xp80</td><td>xp89</td><td>0.1973</td></tr><tr><td>xp80</td><td>xp82</td><td>0.1967</td></tr><tr><td>xp92</td><td>xp94</td><td>0.1964</td></tr><tr><td>xp81</td><td>xp94</td><td>0.1963</td></tr><tr><td>xp78</td><td>xp94</td><td>0.1963</td></tr><tr><td>xp80</td><td>xp98</td><td>0.1961</td></tr><tr><td>xp75</td><td>xp97</td><td>0.1960</td></tr><tr><td>xp80</td><td>xp85</td><td>0.1958</td></tr><tr><td>xp77</td><td>xp80</td><td>0.1958</td></tr><tr><td>xp79</td><td>xp87</td><td>0.1957</td></tr><tr><td>xp88</td><td>xp94</td><td>0.1956</td></tr><tr><td>xp78</td><td>xp79</td><td>0.1954</td></tr><tr><td>xp74</td><td>xp80</td><td>0.1950</td></tr><tr><td>xp72</td><td>xp94</td><td>0.1945</td></tr><tr><td>xp73</td><td>xp95</td><td>0.1945</td></tr><tr><td>xp75</td><td>xp90</td><td>0.1945</td></tr><tr><td>xp80</td><td>xp86</td><td>0.1944</td></tr><tr><td>xp75</td><td>xp89</td><td>0.1944</td></tr><tr><td>xp75</td><td>xp82</td><td>0.1943</td></tr><tr><td>xp80</td><td>xp92</td><td>0.1942</td></tr><tr><td>xp94</td><td>xp95</td><td>0.1939</td></tr><tr><td>xp75</td><td>xp98</td><td>0.1938</td></tr><tr><td>xp73</td><td>xp87</td><td>0.1938</td></tr><tr><td>xp80</td><td>xp96</td><td>0.1935</td></tr><tr><td>xp75</td><td>xp85</td><td>0.1933</td></tr><tr><td>xp73</td><td>xp94</td><td>0.1930</td></tr><tr><td>xp80</td><td>xp95</td><td>0.1930</td></tr><tr><td>xp73</td><td>xp78</td><td>0.1930</td></tr><tr><td>xp72</td><td>xp79</td><td>0.1925</td></tr><tr><td>xp75</td><td>xp77</td><td>0.1924</td></tr><tr><td>xp76</td><td>xp80</td><td>0.1922</td></tr><tr><td>xp80</td><td>xp84</td><td>0.1920</td></tr><tr><td>xp75</td><td>xp92</td><td>0.1919</td></tr><tr><td>xp74</td><td>xp75</td><td>0.1918</td></tr><tr><td>xp75</td><td>xp86</td><td>0.1916</td></tr><tr><td>beta</td><td>xp96</td><td>0.1911</td></tr><tr><td>xp75</td><td>xp95</td><td>0.1910</td></tr><tr><td>xp72</td><td>xp73</td><td>0.1906</td></tr><tr><td>xp79</td><td>xp94</td><td>0.1903</td></tr><tr><td>xp75</td><td>xp76</td><td>0.1896</td></tr><tr><td>xp80</td><td>xp87</td><td>0.1887</td></tr><tr><td>xp75</td><td>xp96</td><td>0.1882</td></tr><tr><td>xp75</td><td>xp84</td><td>0.1879</td></tr><tr><td>xp78</td><td>xp80</td><td>0.1878</td></tr><tr><td>xp73</td><td>xp79</td><td>0.1863</td></tr><tr><td>xp75</td><td>xp87</td><td>0.1859</td></tr><tr><td>xp75</td><td>xp78</td><td>0.1851</td></tr><tr><td>xp72</td><td>xp80</td><td>0.1846</td></tr><tr><td>R</td><td>xp79</td><td>-0.1843</td></tr><tr><td>R</td><td>xp87</td><td>-0.1828</td></tr><tr><td>xp79</td><td>xp80</td><td>0.1820</td></tr><tr><td>xp72</td><td>xp75</td><td>0.1819</td></tr><tr><td>xp80</td><td>xp94</td><td>0.1812</td></tr><tr><td>beta</td><td>xp94</td><td>0.1807</td></tr><tr><td>xp75</td><td>xp79</td><td>0.1796</td></tr><tr><td>xp73</td><td>xp80</td><td>0.1792</td></tr><tr><td>R</td><td>xp75</td><td>-0.1780</td></tr><tr><td>R</td><td>xp84</td><td>-0.1770</td></tr><tr><td>xp75</td><td>xp94</td><td>0.1765</td></tr><tr><td>xp73</td><td>xp75</td><td>0.1763</td></tr><tr><td>xp75</td><td>xp80</td><td>0.1748</td></tr><tr><td>R</td><td>xp80</td><td>-0.1737</td></tr><tr><td>R</td><td>xp73</td><td>-0.1607</td></tr><tr><td>R</td><td>xp96</td><td>-0.1241</td></tr><tr><td>beta</td><td>xp84</td><td>0.1200</td></tr><tr><td>alpha</td><td>gamma</td><td>0.1067</td></tr></table>"
      ],
      "text/plain": [
       "<lmfit.minimizer.MinimizerResult at 0x2181367b548>"
      ]
     },
     "execution_count": 38,
     "metadata": {},
     "output_type": "execute_result"
    }
   ],
   "source": [
    "# report_fit(result)\n",
    "xwFit10b[0].result"
   ]
  },
  {
   "cell_type": "code",
   "execution_count": 36,
   "metadata": {
    "Collapsed": "false",
    "hidden": true
   },
   "outputs": [
    {
     "data": {
      "text/html": [
       "<h2>Fit Statistics</h2><table><tr><td>fitting method</td><td>leastsq</td><td></td></tr><tr><td># function evals</td><td>532</td><td></td></tr><tr><td># data points</td><td>1200</td><td></td></tr><tr><td># variables</td><td>25</td><td></td></tr><tr><td>chi-square</td><td> 1.3170e+13</td><td></td></tr><tr><td>reduced chi-square</td><td> 1.1209e+10</td><td></td></tr><tr><td>Akaike info crit.</td><td> 27792.7037</td><td></td></tr><tr><td>Bayesian info crit.</td><td> 27919.9556</td><td></td></tr></table><h2>Variables</h2><table><tr><th> name </th><th> value </th><th> standard error </th><th> relative error </th><th> initial value </th><th> min </th><th> max </th><th> vary </th></tr><tr><td> A92 </td><td>  236583.701 </td><td>  1562.04935 </td><td> (0.66%) </td><td> 200000.0 </td><td>  0.00000000 </td><td>         inf </td><td> True </td></tr><tr><td> alpha </td><td>  103.917430 </td><td>  0.56892793 </td><td> (0.55%) </td><td> 140 </td><td>  0.00000000 </td><td>         inf </td><td> True </td></tr><tr><td> beta </td><td>  1882.66221 </td><td>  1039629.92 </td><td> (55221.27%) </td><td> 0.001 </td><td>  0.00000000 </td><td>         inf </td><td> True </td></tr><tr><td> R </td><td>  9.7323e-04 </td><td>  1.11093368 </td><td> (114148.78%) </td><td> 0.001 </td><td>  0.00000000 </td><td>         inf </td><td> True </td></tr><tr><td> gamma </td><td>  0.00140661 </td><td>  1.3707e-04 </td><td> (9.74%) </td><td> 0.001 </td><td>  0.00000000 </td><td>         inf </td><td> True </td></tr><tr><td> sigma </td><td>  0.00350110 </td><td>  2.3479e-04 </td><td> (6.71%) </td><td> 0.0066 </td><td>  0.00000000 </td><td>         inf </td><td> True </td></tr><tr><td> k </td><td>  0.05000000 </td><td>  0.00000000 </td><td> (0.00%) </td><td> 0.05 </td><td>  0.00000000 </td><td>         inf </td><td> False </td></tr><tr><td> xp92 </td><td> -10.0220116 </td><td>  5.7907e-04 </td><td> (0.01%) </td><td> -10.0 </td><td>        -inf </td><td>         inf </td><td> True </td></tr><tr><td> A93 </td><td>  231794.760 </td><td>  1559.88728 </td><td> (0.67%) </td><td> 200000.0 </td><td>  0.00000000 </td><td>         inf </td><td> True </td></tr><tr><td> xp93 </td><td> -10.0221229 </td><td>  5.8667e-04 </td><td> (0.01%) </td><td> -10.0 </td><td>        -inf </td><td>         inf </td><td> True </td></tr><tr><td> A94 </td><td>  232813.583 </td><td>  1547.09831 </td><td> (0.66%) </td><td> 200000.0 </td><td>  0.00000000 </td><td>         inf </td><td> True </td></tr><tr><td> xp94 </td><td> -10.0220641 </td><td>  5.8740e-04 </td><td> (0.01%) </td><td> -10.0 </td><td>        -inf </td><td>         inf </td><td> True </td></tr><tr><td> A95 </td><td>  233132.780 </td><td>  1600.02662 </td><td> (0.69%) </td><td> 200000.0 </td><td>  0.00000000 </td><td>         inf </td><td> True </td></tr><tr><td> xp95 </td><td> -10.0223751 </td><td>  6.0207e-04 </td><td> (0.01%) </td><td> -10.0 </td><td>        -inf </td><td>         inf </td><td> True </td></tr><tr><td> A96 </td><td>  232256.666 </td><td>  1546.31918 </td><td> (0.67%) </td><td> 200000.0 </td><td>  0.00000000 </td><td>         inf </td><td> True </td></tr><tr><td> xp96 </td><td> -10.0221123 </td><td>  5.6003e-04 </td><td> (0.01%) </td><td> -10.0 </td><td>        -inf </td><td>         inf </td><td> True </td></tr><tr><td> A97 </td><td>  228239.707 </td><td>  1536.77084 </td><td> (0.67%) </td><td> 200000.0 </td><td>  0.00000000 </td><td>         inf </td><td> True </td></tr><tr><td> xp97 </td><td> -10.0221952 </td><td>  5.7424e-04 </td><td> (0.01%) </td><td> -10.0 </td><td>        -inf </td><td>         inf </td><td> True </td></tr><tr><td> A98 </td><td>  232305.371 </td><td>  1556.14964 </td><td> (0.67%) </td><td> 200000.0 </td><td>  0.00000000 </td><td>         inf </td><td> True </td></tr><tr><td> xp98 </td><td> -10.0222816 </td><td>  5.7888e-04 </td><td> (0.01%) </td><td> -10.0 </td><td>        -inf </td><td>         inf </td><td> True </td></tr><tr><td> A99 </td><td>  231193.380 </td><td>  1544.15983 </td><td> (0.67%) </td><td> 200000.0 </td><td>  0.00000000 </td><td>         inf </td><td> True </td></tr><tr><td> xp99 </td><td> -10.0225454 </td><td>  5.7708e-04 </td><td> (0.01%) </td><td> -10.0 </td><td>        -inf </td><td>         inf </td><td> True </td></tr><tr><td> A100 </td><td>  229949.355 </td><td>  1541.35944 </td><td> (0.67%) </td><td> 200000.0 </td><td>  0.00000000 </td><td>         inf </td><td> True </td></tr><tr><td> xp100 </td><td> -10.0221401 </td><td>  5.8083e-04 </td><td> (0.01%) </td><td> -10.0 </td><td>        -inf </td><td>         inf </td><td> True </td></tr><tr><td> A101 </td><td>  227772.068 </td><td>  1591.53331 </td><td> (0.70%) </td><td> 200000.0 </td><td>  0.00000000 </td><td>         inf </td><td> True </td></tr><tr><td> xp101 </td><td> -10.0222111 </td><td>  6.0125e-04 </td><td> (0.01%) </td><td> -10.0 </td><td>        -inf </td><td>         inf </td><td> True </td></tr></table><h2>Correlations (unreported correlations are < 0.100)</h2><table><tr><td>xp94</td><td>xp95</td><td>0.9644</td></tr><tr><td>xp95</td><td>xp101</td><td>0.9643</td></tr><tr><td>xp93</td><td>xp95</td><td>0.9643</td></tr><tr><td>xp94</td><td>xp101</td><td>0.9637</td></tr><tr><td>xp95</td><td>xp100</td><td>0.9637</td></tr><tr><td>xp95</td><td>xp99</td><td>0.9636</td></tr><tr><td>xp92</td><td>xp101</td><td>0.9635</td></tr><tr><td>xp93</td><td>xp101</td><td>0.9635</td></tr><tr><td>xp93</td><td>xp94</td><td>0.9635</td></tr><tr><td>xp92</td><td>xp95</td><td>0.9634</td></tr><tr><td>xp95</td><td>xp98</td><td>0.9634</td></tr><tr><td>xp92</td><td>xp94</td><td>0.9633</td></tr><tr><td>xp98</td><td>xp101</td><td>0.9631</td></tr><tr><td>xp92</td><td>xp98</td><td>0.9630</td></tr><tr><td>xp94</td><td>xp98</td><td>0.9630</td></tr><tr><td>xp92</td><td>xp93</td><td>0.9630</td></tr><tr><td>xp94</td><td>xp99</td><td>0.9628</td></tr><tr><td>xp99</td><td>xp101</td><td>0.9627</td></tr><tr><td>xp93</td><td>xp98</td><td>0.9627</td></tr><tr><td>xp95</td><td>xp97</td><td>0.9627</td></tr><tr><td>xp95</td><td>xp96</td><td>0.9626</td></tr><tr><td>xp93</td><td>xp99</td><td>0.9626</td></tr><tr><td>xp94</td><td>xp100</td><td>0.9624</td></tr><tr><td>xp93</td><td>xp100</td><td>0.9624</td></tr><tr><td>xp100</td><td>xp101</td><td>0.9623</td></tr><tr><td>xp92</td><td>xp99</td><td>0.9622</td></tr><tr><td>xp97</td><td>xp101</td><td>0.9621</td></tr><tr><td>xp94</td><td>xp97</td><td>0.9621</td></tr><tr><td>xp98</td><td>xp99</td><td>0.9620</td></tr><tr><td>xp93</td><td>xp97</td><td>0.9619</td></tr><tr><td>xp92</td><td>xp97</td><td>0.9618</td></tr><tr><td>xp99</td><td>xp100</td><td>0.9617</td></tr><tr><td>xp94</td><td>xp96</td><td>0.9615</td></tr><tr><td>xp97</td><td>xp98</td><td>0.9614</td></tr><tr><td>xp93</td><td>xp96</td><td>0.9614</td></tr><tr><td>xp96</td><td>xp101</td><td>0.9614</td></tr><tr><td>xp98</td><td>xp100</td><td>0.9613</td></tr><tr><td>xp92</td><td>xp100</td><td>0.9612</td></tr><tr><td>xp97</td><td>xp99</td><td>0.9611</td></tr><tr><td>xp96</td><td>xp100</td><td>0.9609</td></tr><tr><td>xp96</td><td>xp99</td><td>0.9608</td></tr><tr><td>xp97</td><td>xp100</td><td>0.9607</td></tr><tr><td>xp92</td><td>xp96</td><td>0.9605</td></tr><tr><td>xp96</td><td>xp98</td><td>0.9605</td></tr><tr><td>xp96</td><td>xp97</td><td>0.9598</td></tr><tr><td>R</td><td>xp92</td><td>-0.8787</td></tr><tr><td>R</td><td>xp98</td><td>-0.8715</td></tr><tr><td>R</td><td>xp101</td><td>-0.8693</td></tr><tr><td>R</td><td>xp94</td><td>-0.8664</td></tr><tr><td>R</td><td>xp97</td><td>-0.8660</td></tr><tr><td>R</td><td>xp93</td><td>-0.8638</td></tr><tr><td>R</td><td>xp99</td><td>-0.8615</td></tr><tr><td>R</td><td>xp95</td><td>-0.8576</td></tr><tr><td>R</td><td>xp96</td><td>-0.8532</td></tr><tr><td>R</td><td>xp100</td><td>-0.8521</td></tr><tr><td>gamma</td><td>sigma</td><td>-0.7114</td></tr><tr><td>alpha</td><td>gamma</td><td>0.5958</td></tr><tr><td>beta</td><td>R</td><td>0.4834</td></tr><tr><td>gamma</td><td>A94</td><td>0.4059</td></tr><tr><td>gamma</td><td>A96</td><td>0.4044</td></tr><tr><td>A92</td><td>gamma</td><td>0.4034</td></tr><tr><td>gamma</td><td>A99</td><td>0.4016</td></tr><tr><td>gamma</td><td>A100</td><td>0.4010</td></tr><tr><td>gamma</td><td>A97</td><td>0.3990</td></tr><tr><td>gamma</td><td>A93</td><td>0.3985</td></tr><tr><td>gamma</td><td>A98</td><td>0.3967</td></tr><tr><td>gamma</td><td>A95</td><td>0.3875</td></tr><tr><td>gamma</td><td>A101</td><td>0.3785</td></tr><tr><td>R</td><td>A101</td><td>0.3498</td></tr><tr><td>A95</td><td>xp95</td><td>-0.3425</td></tr><tr><td>A95</td><td>xp101</td><td>-0.3423</td></tr><tr><td>xp94</td><td>A95</td><td>-0.3415</td></tr><tr><td>xp93</td><td>A95</td><td>-0.3414</td></tr><tr><td>xp92</td><td>A95</td><td>-0.3413</td></tr><tr><td>A101</td><td>xp101</td><td>-0.3411</td></tr><tr><td>A95</td><td>xp98</td><td>-0.3409</td></tr><tr><td>A95</td><td>xp99</td><td>-0.3405</td></tr><tr><td>xp92</td><td>A101</td><td>-0.3405</td></tr><tr><td>A95</td><td>xp100</td><td>-0.3404</td></tr><tr><td>A95</td><td>xp97</td><td>-0.3402</td></tr><tr><td>xp95</td><td>A101</td><td>-0.3402</td></tr><tr><td>xp94</td><td>A101</td><td>-0.3400</td></tr><tr><td>xp98</td><td>A101</td><td>-0.3398</td></tr><tr><td>xp93</td><td>A101</td><td>-0.3397</td></tr><tr><td>R</td><td>A95</td><td>0.3397</td></tr><tr><td>A95</td><td>xp96</td><td>-0.3389</td></tr><tr><td>xp97</td><td>A101</td><td>-0.3388</td></tr><tr><td>xp99</td><td>A101</td><td>-0.3388</td></tr><tr><td>xp100</td><td>A101</td><td>-0.3381</td></tr><tr><td>xp96</td><td>A101</td><td>-0.3369</td></tr><tr><td>A95</td><td>A101</td><td>0.3324</td></tr><tr><td>sigma</td><td>A94</td><td>-0.3196</td></tr><tr><td>A93</td><td>A95</td><td>0.3170</td></tr><tr><td>A92</td><td>A95</td><td>0.3166</td></tr><tr><td>sigma</td><td>A96</td><td>-0.3164</td></tr><tr><td>sigma</td><td>A93</td><td>-0.3141</td></tr><tr><td>A95</td><td>A98</td><td>0.3136</td></tr><tr><td>A92</td><td>A101</td><td>0.3135</td></tr><tr><td>A93</td><td>A101</td><td>0.3127</td></tr><tr><td>sigma</td><td>A100</td><td>-0.3117</td></tr><tr><td>A98</td><td>A101</td><td>0.3108</td></tr><tr><td>sigma</td><td>A95</td><td>-0.3106</td></tr><tr><td>sigma</td><td>A99</td><td>-0.3098</td></tr><tr><td>sigma</td><td>A97</td><td>-0.3089</td></tr><tr><td>A95</td><td>A96</td><td>0.3085</td></tr><tr><td>A94</td><td>A95</td><td>0.3085</td></tr><tr><td>A95</td><td>A99</td><td>0.3076</td></tr><tr><td>A92</td><td>sigma</td><td>-0.3061</td></tr><tr><td>A95</td><td>A100</td><td>0.3061</td></tr><tr><td>A96</td><td>A101</td><td>0.3040</td></tr><tr><td>A99</td><td>A101</td><td>0.3037</td></tr><tr><td>A94</td><td>A101</td><td>0.3037</td></tr><tr><td>A95</td><td>A97</td><td>0.3036</td></tr><tr><td>A100</td><td>A101</td><td>0.3020</td></tr><tr><td>A92</td><td>A93</td><td>0.3015</td></tr><tr><td>A92</td><td>A98</td><td>0.3009</td></tr><tr><td>A97</td><td>A101</td><td>0.2996</td></tr><tr><td>sigma</td><td>A98</td><td>-0.2991</td></tr><tr><td>sigma</td><td>A101</td><td>-0.2985</td></tr><tr><td>A93</td><td>A98</td><td>0.2983</td></tr><tr><td>A93</td><td>A94</td><td>0.2953</td></tr><tr><td>A93</td><td>A96</td><td>0.2951</td></tr><tr><td>A92</td><td>A96</td><td>0.2950</td></tr><tr><td>A92</td><td>A99</td><td>0.2948</td></tr><tr><td>A92</td><td>A94</td><td>0.2947</td></tr><tr><td>A93</td><td>A99</td><td>0.2940</td></tr><tr><td>A92</td><td>A100</td><td>0.2931</td></tr><tr><td>A93</td><td>A100</td><td>0.2928</td></tr><tr><td>A98</td><td>A99</td><td>0.2918</td></tr><tr><td>A96</td><td>A98</td><td>0.2917</td></tr><tr><td>R</td><td>A98</td><td>0.2917</td></tr><tr><td>A94</td><td>A98</td><td>0.2913</td></tr><tr><td>A92</td><td>A97</td><td>0.2910</td></tr><tr><td>A93</td><td>A97</td><td>0.2905</td></tr><tr><td>A98</td><td>A100</td><td>0.2899</td></tr><tr><td>A94</td><td>A96</td><td>0.2897</td></tr><tr><td>A94</td><td>A99</td><td>0.2883</td></tr><tr><td>A96</td><td>A99</td><td>0.2882</td></tr><tr><td>A97</td><td>A98</td><td>0.2879</td></tr><tr><td>A92</td><td>R</td><td>0.2873</td></tr><tr><td>A94</td><td>A100</td><td>0.2873</td></tr><tr><td>A96</td><td>A100</td><td>0.2871</td></tr><tr><td>A99</td><td>A100</td><td>0.2860</td></tr><tr><td>A94</td><td>A97</td><td>0.2850</td></tr><tr><td>A96</td><td>A97</td><td>0.2848</td></tr><tr><td>A97</td><td>A99</td><td>0.2839</td></tr><tr><td>A97</td><td>A100</td><td>0.2827</td></tr><tr><td>A93</td><td>xp95</td><td>-0.2825</td></tr><tr><td>A93</td><td>xp101</td><td>-0.2821</td></tr><tr><td>A93</td><td>xp93</td><td>-0.2816</td></tr><tr><td>A93</td><td>xp94</td><td>-0.2815</td></tr><tr><td>A93</td><td>xp100</td><td>-0.2808</td></tr><tr><td>xp92</td><td>A93</td><td>-0.2808</td></tr><tr><td>A93</td><td>xp98</td><td>-0.2807</td></tr><tr><td>A93</td><td>xp99</td><td>-0.2807</td></tr><tr><td>A93</td><td>xp97</td><td>-0.2802</td></tr><tr><td>A93</td><td>xp96</td><td>-0.2794</td></tr><tr><td>R</td><td>A93</td><td>0.2780</td></tr><tr><td>A92</td><td>xp101</td><td>-0.2698</td></tr><tr><td>A92</td><td>xp92</td><td>-0.2698</td></tr><tr><td>xp92</td><td>A98</td><td>-0.2697</td></tr><tr><td>A98</td><td>xp101</td><td>-0.2697</td></tr><tr><td>A98</td><td>xp98</td><td>-0.2690</td></tr><tr><td>A92</td><td>xp95</td><td>-0.2689</td></tr><tr><td>A92</td><td>xp94</td><td>-0.2689</td></tr><tr><td>A92</td><td>xp98</td><td>-0.2688</td></tr><tr><td>xp94</td><td>A98</td><td>-0.2687</td></tr><tr><td>A92</td><td>xp93</td><td>-0.2686</td></tr><tr><td>xp95</td><td>A98</td><td>-0.2685</td></tr><tr><td>xp93</td><td>A98</td><td>-0.2684</td></tr><tr><td>A92</td><td>xp97</td><td>-0.2679</td></tr><tr><td>A92</td><td>xp99</td><td>-0.2678</td></tr><tr><td>xp97</td><td>A98</td><td>-0.2678</td></tr><tr><td>A98</td><td>xp99</td><td>-0.2675</td></tr><tr><td>A92</td><td>xp100</td><td>-0.2670</td></tr><tr><td>A98</td><td>xp100</td><td>-0.2665</td></tr><tr><td>A92</td><td>xp96</td><td>-0.2659</td></tr><tr><td>xp96</td><td>A98</td><td>-0.2654</td></tr><tr><td>beta</td><td>sigma</td><td>0.2619</td></tr><tr><td>R</td><td>A99</td><td>0.2579</td></tr><tr><td>xp95</td><td>A96</td><td>-0.2551</td></tr><tr><td>A94</td><td>xp95</td><td>-0.2546</td></tr><tr><td>A96</td><td>xp101</td><td>-0.2546</td></tr><tr><td>xp94</td><td>A96</td><td>-0.2539</td></tr><tr><td>xp93</td><td>A96</td><td>-0.2539</td></tr><tr><td>A94</td><td>xp101</td><td>-0.2537</td></tr><tr><td>A99</td><td>xp101</td><td>-0.2536</td></tr><tr><td>A96</td><td>xp100</td><td>-0.2536</td></tr><tr><td>xp95</td><td>A99</td><td>-0.2535</td></tr><tr><td>A94</td><td>xp94</td><td>-0.2533</td></tr><tr><td>A96</td><td>xp99</td><td>-0.2532</td></tr><tr><td>xp93</td><td>A94</td><td>-0.2532</td></tr><tr><td>A96</td><td>xp98</td><td>-0.2531</td></tr><tr><td>A94</td><td>xp100</td><td>-0.2531</td></tr><tr><td>xp92</td><td>A96</td><td>-0.2531</td></tr><tr><td>xp94</td><td>A99</td><td>-0.2528</td></tr><tr><td>A96</td><td>xp97</td><td>-0.2527</td></tr><tr><td>xp93</td><td>A99</td><td>-0.2527</td></tr><tr><td>xp92</td><td>A99</td><td>-0.2526</td></tr><tr><td>A94</td><td>xp99</td><td>-0.2525</td></tr><tr><td>xp98</td><td>A99</td><td>-0.2523</td></tr><tr><td>A96</td><td>xp96</td><td>-0.2523</td></tr><tr><td>A94</td><td>xp98</td><td>-0.2522</td></tr><tr><td>xp95</td><td>A100</td><td>-0.2522</td></tr><tr><td>A99</td><td>xp99</td><td>-0.2522</td></tr><tr><td>xp92</td><td>A94</td><td>-0.2520</td></tr><tr><td>A100</td><td>xp101</td><td>-0.2519</td></tr><tr><td>A94</td><td>xp97</td><td>-0.2519</td></tr><tr><td>A99</td><td>xp100</td><td>-0.2519</td></tr><tr><td>xp97</td><td>A99</td><td>-0.2517</td></tr><tr><td>A94</td><td>xp96</td><td>-0.2516</td></tr><tr><td>xp94</td><td>A100</td><td>-0.2513</td></tr><tr><td>xp93</td><td>A100</td><td>-0.2512</td></tr><tr><td>R</td><td>A100</td><td>0.2512</td></tr><tr><td>A100</td><td>xp100</td><td>-0.2508</td></tr><tr><td>xp92</td><td>A100</td><td>-0.2507</td></tr><tr><td>xp98</td><td>A100</td><td>-0.2506</td></tr><tr><td>xp96</td><td>A99</td><td>-0.2506</td></tr><tr><td>xp99</td><td>A100</td><td>-0.2505</td></tr><tr><td>xp97</td><td>A100</td><td>-0.2501</td></tr><tr><td>R</td><td>A96</td><td>0.2495</td></tr><tr><td>xp96</td><td>A100</td><td>-0.2493</td></tr><tr><td>R</td><td>A97</td><td>0.2490</td></tr><tr><td>xp95</td><td>A97</td><td>-0.2480</td></tr><tr><td>A97</td><td>xp101</td><td>-0.2478</td></tr><tr><td>xp94</td><td>A97</td><td>-0.2471</td></tr><tr><td>xp93</td><td>A97</td><td>-0.2470</td></tr><tr><td>xp92</td><td>A97</td><td>-0.2466</td></tr><tr><td>A97</td><td>xp98</td><td>-0.2465</td></tr><tr><td>A97</td><td>xp100</td><td>-0.2463</td></tr><tr><td>A97</td><td>xp99</td><td>-0.2463</td></tr><tr><td>A97</td><td>xp97</td><td>-0.2462</td></tr><tr><td>xp96</td><td>A97</td><td>-0.2450</td></tr><tr><td>R</td><td>A94</td><td>0.2441</td></tr><tr><td>alpha</td><td>xp92</td><td>0.2165</td></tr><tr><td>alpha</td><td>xp96</td><td>0.2149</td></tr><tr><td>alpha</td><td>xp98</td><td>0.2144</td></tr><tr><td>alpha</td><td>xp97</td><td>0.2144</td></tr><tr><td>alpha</td><td>xp99</td><td>0.2121</td></tr><tr><td>alpha</td><td>xp94</td><td>0.2104</td></tr><tr><td>alpha</td><td>xp93</td><td>0.2099</td></tr><tr><td>alpha</td><td>xp100</td><td>0.2083</td></tr><tr><td>alpha</td><td>xp101</td><td>0.2075</td></tr><tr><td>alpha</td><td>xp95</td><td>0.2037</td></tr><tr><td>alpha</td><td>beta</td><td>-0.1340</td></tr><tr><td>gamma</td><td>xp92</td><td>0.1286</td></tr><tr><td>gamma</td><td>xp96</td><td>0.1280</td></tr><tr><td>gamma</td><td>xp97</td><td>0.1275</td></tr><tr><td>gamma</td><td>xp98</td><td>0.1275</td></tr><tr><td>gamma</td><td>xp99</td><td>0.1262</td></tr><tr><td>alpha</td><td>A94</td><td>0.1257</td></tr><tr><td>gamma</td><td>xp94</td><td>0.1252</td></tr><tr><td>gamma</td><td>xp93</td><td>0.1249</td></tr><tr><td>gamma</td><td>xp100</td><td>0.1241</td></tr><tr><td>alpha</td><td>A96</td><td>0.1240</td></tr><tr><td>gamma</td><td>xp101</td><td>0.1234</td></tr><tr><td>alpha</td><td>A100</td><td>0.1220</td></tr><tr><td>gamma</td><td>xp95</td><td>0.1213</td></tr><tr><td>alpha</td><td>A97</td><td>0.1211</td></tr><tr><td>alpha</td><td>A99</td><td>0.1209</td></tr><tr><td>alpha</td><td>A93</td><td>0.1200</td></tr><tr><td>A92</td><td>alpha</td><td>0.1173</td></tr><tr><td>alpha</td><td>A98</td><td>0.1139</td></tr><tr><td>alpha</td><td>A95</td><td>0.1119</td></tr><tr><td>alpha</td><td>R</td><td>-0.1089</td></tr><tr><td>alpha</td><td>A101</td><td>0.1062</td></tr></table>"
      ],
      "text/plain": [
       "<lmfit.minimizer.MinimizerResult at 0x2181367b8c8>"
      ]
     },
     "execution_count": 36,
     "metadata": {},
     "output_type": "execute_result"
    }
   ],
   "source": [
    "# report_fit(result)\n",
    "xFit10[0].result"
   ]
  },
  {
   "cell_type": "code",
   "execution_count": 37,
   "metadata": {
    "Collapsed": "false",
    "hidden": true
   },
   "outputs": [
    {
     "data": {
      "text/html": [
       "<h2>Fit Statistics</h2><table><tr><td>fitting method</td><td>leastsq</td><td></td></tr><tr><td># function evals</td><td>427</td><td></td></tr><tr><td># data points</td><td>1200</td><td></td></tr><tr><td># variables</td><td>25</td><td></td></tr><tr><td>chi-square</td><td> 2290.01859</td><td></td></tr><tr><td>reduced chi-square</td><td> 1.94895199</td><td></td></tr><tr><td>Akaike info crit.</td><td> 825.486054</td><td></td></tr><tr><td>Bayesian info crit.</td><td> 952.737975</td><td></td></tr></table><h2>Variables</h2><table><tr><th> name </th><th> value </th><th> standard error </th><th> relative error </th><th> initial value </th><th> min </th><th> max </th><th> vary </th></tr><tr><td> A92 </td><td>  234011.974 </td><td>  3287.94636 </td><td> (1.41%) </td><td> 200000.0 </td><td>  0.00000000 </td><td>         inf </td><td> True </td></tr><tr><td> alpha </td><td>  95.4374390 </td><td>  0.61906034 </td><td> (0.65%) </td><td> 140 </td><td>  0.00000000 </td><td>         inf </td><td> True </td></tr><tr><td> beta </td><td>  1330.01209 </td><td>  989923.585 </td><td> (74429.67%) </td><td> 0.001 </td><td>  0.00000000 </td><td>         inf </td><td> True </td></tr><tr><td> R </td><td>  6.8363e-04 </td><td>  0.97074280 </td><td> (141997.37%) </td><td> 0.001 </td><td>  0.00000000 </td><td>         inf </td><td> True </td></tr><tr><td> gamma </td><td>  4.0579e-04 </td><td>  3.3310e-05 </td><td> (8.21%) </td><td> 0.001 </td><td>  0.00000000 </td><td>         inf </td><td> True </td></tr><tr><td> sigma </td><td>  0.00405638 </td><td>  2.3674e-04 </td><td> (5.84%) </td><td> 0.0066 </td><td>  0.00000000 </td><td>         inf </td><td> True </td></tr><tr><td> k </td><td>  0.05000000 </td><td>  0.00000000 </td><td> (0.00%) </td><td> 0.05 </td><td>  0.00000000 </td><td>         inf </td><td> False </td></tr><tr><td> xp92 </td><td> -10.0235600 </td><td>  6.2411e-04 </td><td> (0.01%) </td><td> -10.0 </td><td>        -inf </td><td>         inf </td><td> True </td></tr><tr><td> A93 </td><td>  230335.938 </td><td>  3272.55345 </td><td> (1.42%) </td><td> 200000.0 </td><td>  0.00000000 </td><td>         inf </td><td> True </td></tr><tr><td> xp93 </td><td> -10.0238600 </td><td>  6.1693e-04 </td><td> (0.01%) </td><td> -10.0 </td><td>        -inf </td><td>         inf </td><td> True </td></tr><tr><td> A94 </td><td>  230898.755 </td><td>  3272.00053 </td><td> (1.42%) </td><td> 200000.0 </td><td>  0.00000000 </td><td>         inf </td><td> True </td></tr><tr><td> xp94 </td><td> -10.0235305 </td><td>  6.4378e-04 </td><td> (0.01%) </td><td> -10.0 </td><td>        -inf </td><td>         inf </td><td> True </td></tr><tr><td> A95 </td><td>  230915.512 </td><td>  3275.81809 </td><td> (1.42%) </td><td> 200000.0 </td><td>  0.00000000 </td><td>         inf </td><td> True </td></tr><tr><td> xp95 </td><td> -10.0239042 </td><td>  6.1344e-04 </td><td> (0.01%) </td><td> -10.0 </td><td>        -inf </td><td>         inf </td><td> True </td></tr><tr><td> A96 </td><td>  231520.418 </td><td>  3232.35949 </td><td> (1.40%) </td><td> 200000.0 </td><td>  0.00000000 </td><td>         inf </td><td> True </td></tr><tr><td> xp96 </td><td> -10.0236666 </td><td>  6.3629e-04 </td><td> (0.01%) </td><td> -10.0 </td><td>        -inf </td><td>         inf </td><td> True </td></tr><tr><td> A97 </td><td>  225992.730 </td><td>  3223.75822 </td><td> (1.43%) </td><td> 200000.0 </td><td>  0.00000000 </td><td>         inf </td><td> True </td></tr><tr><td> xp97 </td><td> -10.0236514 </td><td>  6.2541e-04 </td><td> (0.01%) </td><td> -10.0 </td><td>        -inf </td><td>         inf </td><td> True </td></tr><tr><td> A98 </td><td>  228048.184 </td><td>  3451.01309 </td><td> (1.51%) </td><td> 200000.0 </td><td>  0.00000000 </td><td>         inf </td><td> True </td></tr><tr><td> xp98 </td><td> -10.0236055 </td><td>  6.4388e-04 </td><td> (0.01%) </td><td> -10.0 </td><td>        -inf </td><td>         inf </td><td> True </td></tr><tr><td> A99 </td><td>  227460.513 </td><td>  3246.90507 </td><td> (1.43%) </td><td> 200000.0 </td><td>  0.00000000 </td><td>         inf </td><td> True </td></tr><tr><td> xp99 </td><td> -10.0237451 </td><td>  5.9158e-04 </td><td> (0.01%) </td><td> -10.0 </td><td>        -inf </td><td>         inf </td><td> True </td></tr><tr><td> A100 </td><td>  227037.741 </td><td>  3200.28314 </td><td> (1.41%) </td><td> 200000.0 </td><td>  0.00000000 </td><td>         inf </td><td> True </td></tr><tr><td> xp100 </td><td> -10.0235382 </td><td>  6.4832e-04 </td><td> (0.01%) </td><td> -10.0 </td><td>        -inf </td><td>         inf </td><td> True </td></tr><tr><td> A101 </td><td>  225057.609 </td><td>  3242.91312 </td><td> (1.44%) </td><td> 200000.0 </td><td>  0.00000000 </td><td>         inf </td><td> True </td></tr><tr><td> xp101 </td><td> -10.0237091 </td><td>  5.8421e-04 </td><td> (0.01%) </td><td> -10.0 </td><td>        -inf </td><td>         inf </td><td> True </td></tr></table><h2>Correlations (unreported correlations are < 0.100)</h2><table><tr><td>xp96</td><td>xp100</td><td>0.8975</td></tr><tr><td>xp92</td><td>xp100</td><td>0.8942</td></tr><tr><td>xp94</td><td>xp100</td><td>0.8941</td></tr><tr><td>xp95</td><td>xp100</td><td>0.8939</td></tr><tr><td>xp98</td><td>xp100</td><td>0.8931</td></tr><tr><td>xp92</td><td>xp96</td><td>0.8928</td></tr><tr><td>xp94</td><td>xp97</td><td>0.8927</td></tr><tr><td>xp97</td><td>xp100</td><td>0.8927</td></tr><tr><td>xp99</td><td>xp100</td><td>0.8913</td></tr><tr><td>xp93</td><td>xp100</td><td>0.8909</td></tr><tr><td>xp95</td><td>xp96</td><td>0.8908</td></tr><tr><td>xp93</td><td>xp94</td><td>0.8897</td></tr><tr><td>xp96</td><td>xp98</td><td>0.8895</td></tr><tr><td>xp96</td><td>xp99</td><td>0.8889</td></tr><tr><td>xp94</td><td>xp98</td><td>0.8889</td></tr><tr><td>xp94</td><td>xp95</td><td>0.8884</td></tr><tr><td>xp92</td><td>xp95</td><td>0.8876</td></tr><tr><td>xp94</td><td>xp96</td><td>0.8874</td></tr><tr><td>xp96</td><td>xp97</td><td>0.8872</td></tr><tr><td>xp95</td><td>xp98</td><td>0.8869</td></tr><tr><td>xp97</td><td>xp98</td><td>0.8869</td></tr><tr><td>xp100</td><td>xp101</td><td>0.8869</td></tr><tr><td>xp95</td><td>xp97</td><td>0.8868</td></tr><tr><td>xp93</td><td>xp97</td><td>0.8867</td></tr><tr><td>xp92</td><td>xp98</td><td>0.8864</td></tr><tr><td>xp93</td><td>xp96</td><td>0.8861</td></tr><tr><td>xp92</td><td>xp99</td><td>0.8856</td></tr><tr><td>xp95</td><td>xp99</td><td>0.8851</td></tr><tr><td>xp93</td><td>xp95</td><td>0.8850</td></tr><tr><td>xp92</td><td>xp94</td><td>0.8850</td></tr><tr><td>xp96</td><td>xp101</td><td>0.8849</td></tr><tr><td>xp93</td><td>xp98</td><td>0.8849</td></tr><tr><td>xp92</td><td>xp97</td><td>0.8845</td></tr><tr><td>xp98</td><td>xp99</td><td>0.8842</td></tr><tr><td>xp94</td><td>xp99</td><td>0.8842</td></tr><tr><td>xp92</td><td>xp93</td><td>0.8833</td></tr><tr><td>xp97</td><td>xp99</td><td>0.8833</td></tr><tr><td>xp93</td><td>xp99</td><td>0.8817</td></tr><tr><td>xp92</td><td>xp101</td><td>0.8815</td></tr><tr><td>xp95</td><td>xp101</td><td>0.8807</td></tr><tr><td>xp98</td><td>xp101</td><td>0.8797</td></tr><tr><td>xp94</td><td>xp101</td><td>0.8791</td></tr><tr><td>xp99</td><td>xp101</td><td>0.8788</td></tr><tr><td>xp97</td><td>xp101</td><td>0.8784</td></tr><tr><td>xp93</td><td>xp101</td><td>0.8770</td></tr><tr><td>R</td><td>xp94</td><td>-0.8378</td></tr><tr><td>R</td><td>xp97</td><td>-0.8186</td></tr><tr><td>R</td><td>xp93</td><td>-0.8099</td></tr><tr><td>R</td><td>xp98</td><td>-0.7962</td></tr><tr><td>R</td><td>xp100</td><td>-0.7941</td></tr><tr><td>R</td><td>xp95</td><td>-0.7897</td></tr><tr><td>R</td><td>xp99</td><td>-0.7763</td></tr><tr><td>R</td><td>xp92</td><td>-0.7715</td></tr><tr><td>R</td><td>xp96</td><td>-0.7699</td></tr><tr><td>R</td><td>xp101</td><td>-0.7681</td></tr><tr><td>sigma</td><td>xp96</td><td>0.6753</td></tr><tr><td>sigma</td><td>xp99</td><td>0.6727</td></tr><tr><td>sigma</td><td>xp101</td><td>0.6699</td></tr><tr><td>sigma</td><td>xp92</td><td>0.6678</td></tr><tr><td>sigma</td><td>xp100</td><td>0.6641</td></tr><tr><td>sigma</td><td>xp95</td><td>0.6613</td></tr><tr><td>sigma</td><td>xp98</td><td>0.6578</td></tr><tr><td>sigma</td><td>xp93</td><td>0.6435</td></tr><tr><td>sigma</td><td>xp97</td><td>0.6427</td></tr><tr><td>sigma</td><td>xp94</td><td>0.6305</td></tr><tr><td>beta</td><td>R</td><td>0.5187</td></tr><tr><td>alpha</td><td>sigma</td><td>0.3706</td></tr><tr><td>R</td><td>sigma</td><td>-0.3528</td></tr><tr><td>beta</td><td>sigma</td><td>0.2913</td></tr><tr><td>gamma</td><td>sigma</td><td>-0.2360</td></tr><tr><td>A101</td><td>xp101</td><td>0.1770</td></tr><tr><td>A99</td><td>xp99</td><td>0.1731</td></tr><tr><td>xp100</td><td>A101</td><td>0.1661</td></tr><tr><td>xp96</td><td>A101</td><td>0.1658</td></tr><tr><td>xp92</td><td>A101</td><td>0.1649</td></tr><tr><td>xp98</td><td>A101</td><td>0.1640</td></tr><tr><td>xp95</td><td>A101</td><td>0.1639</td></tr><tr><td>xp94</td><td>A101</td><td>0.1635</td></tr><tr><td>xp97</td><td>A101</td><td>0.1631</td></tr><tr><td>xp99</td><td>A101</td><td>0.1628</td></tr><tr><td>xp93</td><td>A101</td><td>0.1628</td></tr><tr><td>A99</td><td>xp100</td><td>0.1625</td></tr><tr><td>xp96</td><td>A99</td><td>0.1622</td></tr><tr><td>xp92</td><td>A99</td><td>0.1614</td></tr><tr><td>xp98</td><td>A99</td><td>0.1604</td></tr><tr><td>xp95</td><td>A99</td><td>0.1603</td></tr><tr><td>xp94</td><td>A99</td><td>0.1598</td></tr><tr><td>xp97</td><td>A99</td><td>0.1594</td></tr><tr><td>xp93</td><td>A99</td><td>0.1592</td></tr><tr><td>A99</td><td>xp101</td><td>0.1583</td></tr><tr><td>A95</td><td>xp95</td><td>0.1549</td></tr><tr><td>R</td><td>A101</td><td>-0.1527</td></tr><tr><td>R</td><td>A99</td><td>-0.1496</td></tr><tr><td>alpha</td><td>xp101</td><td>0.1431</td></tr><tr><td>A95</td><td>xp96</td><td>0.1423</td></tr><tr><td>A95</td><td>xp100</td><td>0.1419</td></tr><tr><td>xp92</td><td>A95</td><td>0.1414</td></tr><tr><td>alpha</td><td>xp99</td><td>0.1414</td></tr><tr><td>A95</td><td>xp98</td><td>0.1398</td></tr><tr><td>A95</td><td>xp99</td><td>0.1392</td></tr><tr><td>A95</td><td>xp101</td><td>0.1385</td></tr><tr><td>A95</td><td>xp97</td><td>0.1382</td></tr><tr><td>xp93</td><td>A95</td><td>0.1381</td></tr><tr><td>xp94</td><td>A95</td><td>0.1380</td></tr><tr><td>A93</td><td>xp93</td><td>0.1341</td></tr><tr><td>alpha</td><td>xp93</td><td>0.1325</td></tr><tr><td>alpha</td><td>xp97</td><td>0.1324</td></tr><tr><td>alpha</td><td>xp95</td><td>0.1313</td></tr><tr><td>alpha</td><td>xp98</td><td>0.1280</td></tr><tr><td>alpha</td><td>xp94</td><td>0.1256</td></tr><tr><td>A93</td><td>xp96</td><td>0.1246</td></tr><tr><td>A93</td><td>xp100</td><td>0.1241</td></tr><tr><td>xp92</td><td>A93</td><td>0.1237</td></tr><tr><td>R</td><td>A95</td><td>-0.1228</td></tr><tr><td>A93</td><td>xp98</td><td>0.1222</td></tr><tr><td>A93</td><td>xp95</td><td>0.1222</td></tr><tr><td>alpha</td><td>xp92</td><td>0.1217</td></tr><tr><td>A93</td><td>xp99</td><td>0.1217</td></tr><tr><td>A93</td><td>xp101</td><td>0.1211</td></tr><tr><td>alpha</td><td>xp96</td><td>0.1211</td></tr><tr><td>A93</td><td>xp97</td><td>0.1205</td></tr><tr><td>alpha</td><td>xp100</td><td>0.1202</td></tr><tr><td>A93</td><td>xp94</td><td>0.1202</td></tr><tr><td>A92</td><td>R</td><td>-0.1127</td></tr><tr><td>A92</td><td>xp92</td><td>0.1116</td></tr><tr><td>A97</td><td>xp97</td><td>0.1071</td></tr><tr><td>R</td><td>A93</td><td>-0.1053</td></tr><tr><td>beta</td><td>xp94</td><td>-0.1035</td></tr><tr><td>A92</td><td>xp94</td><td>0.1025</td></tr><tr><td>A92</td><td>xp97</td><td>0.1012</td></tr><tr><td>A92</td><td>xp100</td><td>0.1008</td></tr><tr><td>A92</td><td>xp93</td><td>0.1003</td></tr><tr><td>A92</td><td>xp98</td><td>0.1003</td></tr></table>"
      ],
      "text/plain": [
       "<lmfit.minimizer.MinimizerResult at 0x2181368d308>"
      ]
     },
     "execution_count": 37,
     "metadata": {},
     "output_type": "execute_result"
    }
   ],
   "source": [
    "# report_fit(result)\n",
    "xwFit10[0].result"
   ]
  },
  {
   "cell_type": "markdown",
   "metadata": {
    "Collapsed": "false"
   },
   "source": [
    "#### Plot fit result"
   ]
  },
  {
   "cell_type": "code",
   "execution_count": 125,
   "metadata": {
    "Collapsed": "false",
    "scrolled": true
   },
   "outputs": [
    {
     "name": "stdout",
     "output_type": "stream",
     "text": [
      "data_range index = 92;                   plot_range index = 92\n",
      "data_range index = 96;                   plot_range index = 96\n",
      "data_range index = 100;                   plot_range index = 100\n"
     ]
    }
   ],
   "source": [
    "plotKey = '8_10'\n",
    "for idx in range(3):\n",
    "    xwFit[plotKey][idx].nSpec = len(xwFit[plotKey][idx].data_range)\n",
    "    xwFit[plotKey][idx].plot_range = xwFit[plotKey][idx].data_range[::4]\n",
    "    \n",
    "xwFit[plotKey][2].plotMultipleFits(title=\"With weights\")"
   ]
  },
  {
   "cell_type": "markdown",
   "metadata": {
    "Collapsed": "false"
   },
   "source": [
    "#### Iteratively fix parameters shared between all datasets and recompute fit accordingly\n",
    "The huge variability on R and beta seen when leaving those free implies that they play little role on the fit, so let's fix them both to zero.\n",
    "Actually, beta=0 generates NaN data (not sure why) so let's fix it to 1e-10\n",
    "For all other parameters, fix them to the best value obtained from the previous fit"
   ]
  },
  {
   "cell_type": "code",
   "execution_count": 114,
   "metadata": {
    "Collapsed": "false"
   },
   "outputs": [
    {
     "name": "stdout",
     "output_type": "stream",
     "text": [
      "Iteration #1\t dsigma/sigma=0.021394783726155615\n",
      "Iteration #1\t dgamma/gamma=0.10835653168875838\n",
      "Iteration #1\t dR/R=75.32367771272756\n",
      "Iteration #1\t dbeta/beta=208.81935416391045\n",
      "Iteration #1\t dalpha/alpha=0.006767293435004029\n",
      "['alpha', 'gamma', 'sigma']\n",
      "{'R': 1e-10, 'beta': 1e-10}\n",
      "Iteration #2\t dsigma/sigma=0.02127050350162814\n",
      "Iteration #2\t dgamma/gamma=0.09138199384192722\n",
      "Iteration #2\t dalpha/alpha=0.006062297864566949\n",
      "['alpha', 'gamma', 'sigma']\n",
      "{'alpha': None, 'gamma': None, 'sigma': None}\n"
     ]
    }
   ],
   "source": [
    "# Create list of dictionaries containing the names of parameters to fix at each iteration\n",
    "nSpec = 10\n",
    "fitKey = f\"8_{nSpec}\"\n",
    "freeSharedParams = ['alpha', 'beta', 'R', 'gamma', 'sigma']\n",
    "\n",
    "# Loop to fix shared parameters and refit the data\n",
    "for idx in range(1,5):\n",
    "    fixParams = {}\n",
    "    if len(freeSharedParams)==0:\n",
    "        break\n",
    "\n",
    "    # Find all parameters with a relative error of more than 100% in the last fit result, if any\n",
    "    for prmKey in reversed(freeSharedParams):\n",
    "        prmRelErr = xwFit[fitKey][idx-1].result.params[prmKey].stderr / xwFit[fitKey][idx-1].result.params[prmKey].value\n",
    "        print(f\"Iteration #{idx}\\t d{prmKey}/{prmKey}={prmRelErr}\")\n",
    "        if prmRelErr > 1:\n",
    "            fixParams[prmKey] = 1e-10\n",
    "            freeSharedParams.remove(prmKey)\n",
    "    print(freeSharedParams)\n",
    "    \n",
    "    # If all parameters have a relative error of less than 100%\n",
    "    if len(fixParams)==0:\n",
    "        for prmKey in freeSharedParams:\n",
    "            fixParams[prmKey] = None\n",
    "        freeSharedParams = []\n",
    "    print(fixParams)\n",
    "\n",
    "    # If necessary, create fit object and append it to fit dictionary\n",
    "    if len(xwFit[fitKey]) < idx+1:\n",
    "        xwFit[fitKey].append(xpvic_fit(peak_center, nData, pvic_params))\n",
    "\n",
    "    # Create fit range\n",
    "    xwFit[fitKey][idx].data_range = range(len(nData)-nSpec, len(nData))\n",
    "\n",
    "    # create x and y 1D datasets for fit\n",
    "    xwFit[fitKey][idx].makeData(data_select)\n",
    "\n",
    "    # create and initialize lmfit Parameters object using results of previous fit\n",
    "    xwFit[fitKey][idx].initParams(resultParams=xwFit[fitKey][idx-1].result.params)\n",
    "\n",
    "#     for key in freeSharedParams:\n",
    "#         xwFit[fitKey][idx].init_params[key].vary = True\n",
    "    for key, value in fixParams.items():\n",
    "        xwFit[fitKey][idx].init_params[key].vary = False\n",
    "        if value is not None:\n",
    "            xwFit[fitKey][idx].init_params[key].value = value\n",
    "\n",
    "    # Compute the number of free shared parameters \n",
    "    xwFit[fitKey][idx].freeSharedPrms = xwFit[fitKey][idx-1].freeSharedPrms - len(fixParams)\n",
    "\n",
    "    # Perform fit\n",
    "    xwFit[fitKey][idx].performFit(weights=xwFit[fitKey][idx-1].weights)\n"
   ]
  },
  {
   "cell_type": "code",
   "execution_count": 126,
   "metadata": {
    "Collapsed": "false"
   },
   "outputs": [
    {
     "ename": "NameError",
     "evalue": "name 'xFit10' is not defined",
     "output_type": "error",
     "traceback": [
      "Traceback \u001b[1;36m(most recent call last)\u001b[0m:\n",
      "\u001b[1;36m  File \u001b[1;32m\"<ipython-input-126-dd732b6fe517>\"\u001b[1;36m, line \u001b[1;32m10\u001b[1;36m, in \u001b[1;35m<module>\u001b[1;36m\u001b[0m\n\u001b[1;33m    xFit10[idx+1].data_range = range(len(nData)-nSpec, len(nData))\u001b[0m\n",
      "\u001b[1;31mNameError\u001b[0m\u001b[1;31m:\u001b[0m name 'xFit10' is not defined\n"
     ]
    }
   ],
   "source": [
    "# This cell can be deleted as of 2020-04-28\n",
    "nSpec = 30\n",
    "\n",
    "# Create list of dictionaries containing the names of parameters to fix at each iteration\n",
    "fixParams = [{'beta':1e-10, 'R':0},{'alpha':None},{'gamma':None},{'sigma':None}]\n",
    "\n",
    "# Loop over fixParams to iteratively fix shared parameters and refit the data\n",
    "for idx, prmDict in enumerate(fixParams):\n",
    "    # Create fit range\n",
    "    xFit10[idx+1].data_range = range(len(nData)-nSpec, len(nData))\n",
    "\n",
    "    # create x and y 1D datasets for fit\n",
    "    xFit10[idx+1].xyData(data_select)\n",
    "\n",
    "    # create and initialize lmfit Parameters object using results of previous fit\n",
    "    xFit10[idx+1].initParams(resultParams=xFit10[idx].result.params)\n",
    "#     # Initialize parameters using results of previous fit\n",
    "#     xfit10[idx+1]['init_params'] = xFitInitParams2(pvic_params, data_range=spec_rng, \n",
    "#                                                    resultParams=xfit10[idx]['result'].params)\n",
    "    for key, value in prmDict.items():\n",
    "        xFit10[idx+1].init_params[key].vary = False\n",
    "        if value is not None:\n",
    "            xFit10[idx+1].init_params[key].value = value\n",
    "\n",
    "    # Compute the number of free shared parameters \n",
    "    xFit10[idx+1].freeSharedPrms = xFit10[idx].freeSharedPrms - len(prmDict)\n",
    "\n",
    "    # Perform fit\n",
    "    xFit10[idx+1].performFit()\n"
   ]
  },
  {
   "cell_type": "markdown",
   "metadata": {
    "Collapsed": "true"
   },
   "source": [
    "#### Fit result"
   ]
  },
  {
   "cell_type": "code",
   "execution_count": null,
   "metadata": {
    "Collapsed": "false"
   },
   "outputs": [],
   "source": [
    "xfit10df = pd.DataFrame(xfit10)"
   ]
  },
  {
   "cell_type": "code",
   "execution_count": 48,
   "metadata": {
    "Collapsed": "false"
   },
   "outputs": [
    {
     "data": {
      "text/html": [
       "<table><tr><th> name </th><th> value </th><th> standard error </th><th> relative error </th><th> initial value </th><th> min </th><th> max </th><th> vary </th></tr><tr><td> A92 </td><td>  242418.216 </td><td>  1465.47526 </td><td> (0.60%) </td><td> 236583.70099542933 </td><td>  0.00000000 </td><td>         inf </td><td> True </td></tr><tr><td> alpha </td><td>  105.078117 </td><td>  0.35956656 </td><td> (0.34%) </td><td> 103.91742954538091 </td><td>  0.00000000 </td><td>         inf </td><td> True </td></tr><tr><td> beta </td><td>  1.0000e-10 </td><td>  0.00000000 </td><td> (0.00%) </td><td> 1e-10 </td><td>  0.00000000 </td><td>         inf </td><td> False </td></tr><tr><td> R </td><td>  0.00000000 </td><td>  0.00000000 </td><td>  </td><td> 0 </td><td>  0.00000000 </td><td>         inf </td><td> False </td></tr><tr><td> gamma </td><td>  0.00206407 </td><td>  8.6657e-05 </td><td> (4.20%) </td><td> 0.0014066088203097404 </td><td>  0.00000000 </td><td>         inf </td><td> True </td></tr><tr><td> sigma </td><td>  0.00391075 </td><td>  1.3559e-04 </td><td> (3.47%) </td><td> 0.003501096463644382 </td><td>  0.00000000 </td><td>         inf </td><td> True </td></tr><tr><td> k </td><td>  0.05000000 </td><td>  0.00000000 </td><td> (0.00%) </td><td> 0.05 </td><td>  0.00000000 </td><td>         inf </td><td> False </td></tr><tr><td> xp92 </td><td> -10.0218312 </td><td>  1.3449e-04 </td><td> (0.00%) </td><td> -10.02201161817513 </td><td>        -inf </td><td>         inf </td><td> True </td></tr><tr><td> A93 </td><td>  237594.003 </td><td>  1463.01096 </td><td> (0.62%) </td><td> 231794.7602922913 </td><td>  0.00000000 </td><td>         inf </td><td> True </td></tr><tr><td> xp93 </td><td> -10.0219301 </td><td>  1.3667e-04 </td><td> (0.00%) </td><td> -10.022122878360527 </td><td>        -inf </td><td>         inf </td><td> True </td></tr><tr><td> A94 </td><td>  238562.794 </td><td>  1463.49283 </td><td> (0.61%) </td><td> 232813.5829993222 </td><td>  0.00000000 </td><td>         inf </td><td> True </td></tr><tr><td> xp94 </td><td> -10.0218680 </td><td>  1.3623e-04 </td><td> (0.00%) </td><td> -10.022064127298707 </td><td>        -inf </td><td>         inf </td><td> True </td></tr><tr><td> A95 </td><td>  238904.800 </td><td>  1463.69296 </td><td> (0.61%) </td><td> 233132.7802905235 </td><td>  0.00000000 </td><td>         inf </td><td> True </td></tr><tr><td> xp95 </td><td> -10.0221770 </td><td>  1.3605e-04 </td><td> (0.00%) </td><td> -10.022375102886404 </td><td>        -inf </td><td>         inf </td><td> True </td></tr><tr><td> A96 </td><td>  238036.144 </td><td>  1463.22954 </td><td> (0.61%) </td><td> 232256.666471201 </td><td>  0.00000000 </td><td>         inf </td><td> True </td></tr><tr><td> xp96 </td><td> -10.0219167 </td><td>  1.3647e-04 </td><td> (0.00%) </td><td> -10.022112252306586 </td><td>        -inf </td><td>         inf </td><td> True </td></tr><tr><td> A97 </td><td>  233870.931 </td><td>  1461.13863 </td><td> (0.62%) </td><td> 228239.70703851338 </td><td>  0.00000000 </td><td>         inf </td><td> True </td></tr><tr><td> xp97 </td><td> -10.0220037 </td><td>  1.3843e-04 </td><td> (0.00%) </td><td> -10.022195234699314 </td><td>        -inf </td><td>         inf </td><td> True </td></tr><tr><td> A98 </td><td>  237992.951 </td><td>  1463.22313 </td><td> (0.61%) </td><td> 232305.3709994183 </td><td>  0.00000000 </td><td>         inf </td><td> True </td></tr><tr><td> xp98 </td><td> -10.0220958 </td><td>  1.3648e-04 </td><td> (0.00%) </td><td> -10.022281552938304 </td><td>        -inf </td><td>         inf </td><td> True </td></tr><tr><td> A99 </td><td>  236833.930 </td><td>  1462.65442 </td><td> (0.62%) </td><td> 231193.38035901493 </td><td>  0.00000000 </td><td>         inf </td><td> True </td></tr><tr><td> xp99 </td><td> -10.0223486 </td><td>  1.3700e-04 </td><td> (0.00%) </td><td> -10.022545413239024 </td><td>        -inf </td><td>         inf </td><td> True </td></tr><tr><td> A100 </td><td>  235598.752 </td><td>  1462.00145 </td><td> (0.62%) </td><td> 229949.35542020918 </td><td>  0.00000000 </td><td>         inf </td><td> True </td></tr><tr><td> xp100 </td><td> -10.0219499 </td><td>  1.3761e-04 </td><td> (0.00%) </td><td> -10.022140067676212 </td><td>        -inf </td><td>         inf </td><td> True </td></tr><tr><td> A101 </td><td>  233377.428 </td><td>  1460.89071 </td><td> (0.63%) </td><td> 227772.06813913694 </td><td>  0.00000000 </td><td>         inf </td><td> True </td></tr><tr><td> xp101 </td><td> -10.0220281 </td><td>  1.3866e-04 </td><td> (0.00%) </td><td> -10.022211094717699 </td><td>        -inf </td><td>         inf </td><td> True </td></tr><tr><td> A72 </td><td>  254061.556 </td><td>  1471.63251 </td><td> (0.58%) </td><td> 200000.0 </td><td>  0.00000000 </td><td>         inf </td><td> True </td></tr><tr><td> xp72 </td><td> -10.0218800 </td><td>  1.2958e-04 </td><td> (0.00%) </td><td> -10.0 </td><td>        -inf </td><td>         inf </td><td> True </td></tr><tr><td> A73 </td><td>  257951.506 </td><td>  1473.72704 </td><td> (0.57%) </td><td> 200000.0 </td><td>  0.00000000 </td><td>         inf </td><td> True </td></tr><tr><td> xp73 </td><td> -10.0215058 </td><td>  1.2807e-04 </td><td> (0.00%) </td><td> -10.0 </td><td>        -inf </td><td>         inf </td><td> True </td></tr><tr><td> A74 </td><td>  258341.367 </td><td>  1473.94369 </td><td> (0.57%) </td><td> 200000.0 </td><td>  0.00000000 </td><td>         inf </td><td> True </td></tr><tr><td> xp74 </td><td> -10.0216156 </td><td>  1.2791e-04 </td><td> (0.00%) </td><td> -10.0 </td><td>        -inf </td><td>         inf </td><td> True </td></tr><tr><td> A75 </td><td>  255351.162 </td><td>  1472.34010 </td><td> (0.58%) </td><td> 200000.0 </td><td>  0.00000000 </td><td>         inf </td><td> True </td></tr><tr><td> xp75 </td><td> -10.0219400 </td><td>  1.2906e-04 </td><td> (0.00%) </td><td> -10.0 </td><td>        -inf </td><td>         inf </td><td> True </td></tr><tr><td> A76 </td><td>  252863.498 </td><td>  1471.00946 </td><td> (0.58%) </td><td> 200000.0 </td><td>  0.00000000 </td><td>         inf </td><td> True </td></tr><tr><td> xp76 </td><td> -10.0221369 </td><td>  1.3005e-04 </td><td> (0.00%) </td><td> -10.0 </td><td>        -inf </td><td>         inf </td><td> True </td></tr><tr><td> A77 </td><td>  252483.544 </td><td>  1470.76675 </td><td> (0.58%) </td><td> 200000.0 </td><td>  0.00000000 </td><td>         inf </td><td> True </td></tr><tr><td> xp77 </td><td> -10.0216042 </td><td>  1.3023e-04 </td><td> (0.00%) </td><td> -10.0 </td><td>        -inf </td><td>         inf </td><td> True </td></tr><tr><td> A78 </td><td>  251037.626 </td><td>  1470.00988 </td><td> (0.59%) </td><td> 200000.0 </td><td>  0.00000000 </td><td>         inf </td><td> True </td></tr><tr><td> xp78 </td><td> -10.0218508 </td><td>  1.3081e-04 </td><td> (0.00%) </td><td> -10.0 </td><td>        -inf </td><td>         inf </td><td> True </td></tr><tr><td> A79 </td><td>  250391.727 </td><td>  1469.65778 </td><td> (0.59%) </td><td> 200000.0 </td><td>  0.00000000 </td><td>         inf </td><td> True </td></tr><tr><td> xp79 </td><td> -10.0218225 </td><td>  1.3108e-04 </td><td> (0.00%) </td><td> -10.0 </td><td>        -inf </td><td>         inf </td><td> True </td></tr><tr><td> A80 </td><td>  253203.199 </td><td>  1471.20080 </td><td> (0.58%) </td><td> 200000.0 </td><td>  0.00000000 </td><td>         inf </td><td> True </td></tr><tr><td> xp80 </td><td> -10.0222858 </td><td>  1.2990e-04 </td><td> (0.00%) </td><td> -10.0 </td><td>        -inf </td><td>         inf </td><td> True </td></tr><tr><td> A81 </td><td>  251643.850 </td><td>  1470.36567 </td><td> (0.58%) </td><td> 200000.0 </td><td>  0.00000000 </td><td>         inf </td><td> True </td></tr><tr><td> xp81 </td><td> -10.0222678 </td><td>  1.3054e-04 </td><td> (0.00%) </td><td> -10.0 </td><td>        -inf </td><td>         inf </td><td> True </td></tr><tr><td> A82 </td><td>  251277.487 </td><td>  1470.13332 </td><td> (0.59%) </td><td> 200000.0 </td><td>  0.00000000 </td><td>         inf </td><td> True </td></tr><tr><td> xp82 </td><td> -10.0218471 </td><td>  1.3071e-04 </td><td> (0.00%) </td><td> -10.0 </td><td>        -inf </td><td>         inf </td><td> True </td></tr><tr><td> A83 </td><td>  254096.862 </td><td>  1471.66730 </td><td> (0.58%) </td><td> 200000.0 </td><td>  0.00000000 </td><td>         inf </td><td> True </td></tr><tr><td> xp83 </td><td> -10.0220031 </td><td>  1.2956e-04 </td><td> (0.00%) </td><td> -10.0 </td><td>        -inf </td><td>         inf </td><td> True </td></tr><tr><td> A84 </td><td>  248474.676 </td><td>  1468.66935 </td><td> (0.59%) </td><td> 200000.0 </td><td>  0.00000000 </td><td>         inf </td><td> True </td></tr><tr><td> xp84 </td><td> -10.0221713 </td><td>  1.3186e-04 </td><td> (0.00%) </td><td> -10.0 </td><td>        -inf </td><td>         inf </td><td> True </td></tr><tr><td> A85 </td><td>  249750.566 </td><td>  1469.33090 </td><td> (0.59%) </td><td> 200000.0 </td><td>  0.00000000 </td><td>         inf </td><td> True </td></tr><tr><td> xp85 </td><td> -10.0219436 </td><td>  1.3133e-04 </td><td> (0.00%) </td><td> -10.0 </td><td>        -inf </td><td>         inf </td><td> True </td></tr><tr><td> A86 </td><td>  249821.289 </td><td>  1469.36783 </td><td> (0.59%) </td><td> 200000.0 </td><td>  0.00000000 </td><td>         inf </td><td> True </td></tr><tr><td> xp86 </td><td> -10.0219636 </td><td>  1.3130e-04 </td><td> (0.00%) </td><td> -10.0 </td><td>        -inf </td><td>         inf </td><td> True </td></tr><tr><td> A87 </td><td>  246690.136 </td><td>  1467.70600 </td><td> (0.59%) </td><td> 200000.0 </td><td>  0.00000000 </td><td>         inf </td><td> True </td></tr><tr><td> xp87 </td><td> -10.0219662 </td><td>  1.3262e-04 </td><td> (0.00%) </td><td> -10.0 </td><td>        -inf </td><td>         inf </td><td> True </td></tr><tr><td> A88 </td><td>  248644.149 </td><td>  1468.74037 </td><td> (0.59%) </td><td> 200000.0 </td><td>  0.00000000 </td><td>         inf </td><td> True </td></tr><tr><td> xp88 </td><td> -10.0219800 </td><td>  1.3180e-04 </td><td> (0.00%) </td><td> -10.0 </td><td>        -inf </td><td>         inf </td><td> True </td></tr><tr><td> A89 </td><td>  243374.239 </td><td>  1465.96876 </td><td> (0.60%) </td><td> 200000.0 </td><td>  0.00000000 </td><td>         inf </td><td> True </td></tr><tr><td> xp89 </td><td> -10.0218486 </td><td>  1.3407e-04 </td><td> (0.00%) </td><td> -10.0 </td><td>        -inf </td><td>         inf </td><td> True </td></tr><tr><td> A90 </td><td>  250998.802 </td><td>  1469.98668 </td><td> (0.59%) </td><td> 200000.0 </td><td>  0.00000000 </td><td>         inf </td><td> True </td></tr><tr><td> xp90 </td><td> -10.0218222 </td><td>  1.3083e-04 </td><td> (0.00%) </td><td> -10.0 </td><td>        -inf </td><td>         inf </td><td> True </td></tr><tr><td> A91 </td><td>  245761.548 </td><td>  1467.20837 </td><td> (0.60%) </td><td> 200000.0 </td><td>  0.00000000 </td><td>         inf </td><td> True </td></tr><tr><td> xp91 </td><td> -10.0217776 </td><td>  1.3303e-04 </td><td> (0.00%) </td><td> -10.0 </td><td>        -inf </td><td>         inf </td><td> True </td></tr></table>"
      ],
      "text/plain": [
       "Parameters([('A92',\n",
       "             <Parameter 'A92', value=242418.21551121838 +/- 1.47e+03, bounds=[0:inf]>),\n",
       "            ('alpha',\n",
       "             <Parameter 'alpha', value=105.078116955829 +/- 0.36, bounds=[0:inf]>),\n",
       "            ('beta', <Parameter 'beta', value=1e-10 (fixed), bounds=[0:inf]>),\n",
       "            ('R', <Parameter 'R', value=0 (fixed), bounds=[0:inf]>),\n",
       "            ('gamma',\n",
       "             <Parameter 'gamma', value=0.0020640691472546546 +/- 8.67e-05, bounds=[0:inf]>),\n",
       "            ('sigma',\n",
       "             <Parameter 'sigma', value=0.00391074943239933 +/- 0.000136, bounds=[0:inf]>),\n",
       "            ('k', <Parameter 'k', value=0.05 (fixed), bounds=[0:inf]>),\n",
       "            ('xp92',\n",
       "             <Parameter 'xp92', value=-10.021831153395949 +/- 0.000134, bounds=[-inf:inf]>),\n",
       "            ('A93',\n",
       "             <Parameter 'A93', value=237594.002736748 +/- 1.46e+03, bounds=[0:inf]>),\n",
       "            ('xp93',\n",
       "             <Parameter 'xp93', value=-10.02193007387077 +/- 0.000137, bounds=[-inf:inf]>),\n",
       "            ('A94',\n",
       "             <Parameter 'A94', value=238562.79411751288 +/- 1.46e+03, bounds=[0:inf]>),\n",
       "            ('xp94',\n",
       "             <Parameter 'xp94', value=-10.021868044244652 +/- 0.000136, bounds=[-inf:inf]>),\n",
       "            ('A95',\n",
       "             <Parameter 'A95', value=238904.80043756895 +/- 1.46e+03, bounds=[0:inf]>),\n",
       "            ('xp95',\n",
       "             <Parameter 'xp95', value=-10.022176994625141 +/- 0.000136, bounds=[-inf:inf]>),\n",
       "            ('A96',\n",
       "             <Parameter 'A96', value=238036.14434573677 +/- 1.46e+03, bounds=[0:inf]>),\n",
       "            ('xp96',\n",
       "             <Parameter 'xp96', value=-10.02191669259839 +/- 0.000136, bounds=[-inf:inf]>),\n",
       "            ('A97',\n",
       "             <Parameter 'A97', value=233870.93087628888 +/- 1.46e+03, bounds=[0:inf]>),\n",
       "            ('xp97',\n",
       "             <Parameter 'xp97', value=-10.022003711949186 +/- 0.000138, bounds=[-inf:inf]>),\n",
       "            ('A98',\n",
       "             <Parameter 'A98', value=237992.95131851095 +/- 1.46e+03, bounds=[0:inf]>),\n",
       "            ('xp98',\n",
       "             <Parameter 'xp98', value=-10.02209582778271 +/- 0.000136, bounds=[-inf:inf]>),\n",
       "            ('A99',\n",
       "             <Parameter 'A99', value=236833.9298642528 +/- 1.46e+03, bounds=[0:inf]>),\n",
       "            ('xp99',\n",
       "             <Parameter 'xp99', value=-10.02234864718937 +/- 0.000137, bounds=[-inf:inf]>),\n",
       "            ('A100',\n",
       "             <Parameter 'A100', value=235598.7521749446 +/- 1.46e+03, bounds=[0:inf]>),\n",
       "            ('xp100',\n",
       "             <Parameter 'xp100', value=-10.0219499378899 +/- 0.000138, bounds=[-inf:inf]>),\n",
       "            ('A101',\n",
       "             <Parameter 'A101', value=233377.4283416025 +/- 1.46e+03, bounds=[0:inf]>),\n",
       "            ('xp101',\n",
       "             <Parameter 'xp101', value=-10.022028067244463 +/- 0.000139, bounds=[-inf:inf]>),\n",
       "            ('A72',\n",
       "             <Parameter 'A72', value=254061.5562815236 +/- 1.47e+03, bounds=[0:inf]>),\n",
       "            ('xp72',\n",
       "             <Parameter 'xp72', value=-10.02188000646862 +/- 0.00013, bounds=[-inf:inf]>),\n",
       "            ('A73',\n",
       "             <Parameter 'A73', value=257951.50597604475 +/- 1.47e+03, bounds=[0:inf]>),\n",
       "            ('xp73',\n",
       "             <Parameter 'xp73', value=-10.0215057502167 +/- 0.000128, bounds=[-inf:inf]>),\n",
       "            ('A74',\n",
       "             <Parameter 'A74', value=258341.3670454799 +/- 1.47e+03, bounds=[0:inf]>),\n",
       "            ('xp74',\n",
       "             <Parameter 'xp74', value=-10.021615620086182 +/- 0.000128, bounds=[-inf:inf]>),\n",
       "            ('A75',\n",
       "             <Parameter 'A75', value=255351.1620185266 +/- 1.47e+03, bounds=[0:inf]>),\n",
       "            ('xp75',\n",
       "             <Parameter 'xp75', value=-10.021939995237958 +/- 0.000129, bounds=[-inf:inf]>),\n",
       "            ('A76',\n",
       "             <Parameter 'A76', value=252863.4981344554 +/- 1.47e+03, bounds=[0:inf]>),\n",
       "            ('xp76',\n",
       "             <Parameter 'xp76', value=-10.022136929421123 +/- 0.00013, bounds=[-inf:inf]>),\n",
       "            ('A77',\n",
       "             <Parameter 'A77', value=252483.54404223044 +/- 1.47e+03, bounds=[0:inf]>),\n",
       "            ('xp77',\n",
       "             <Parameter 'xp77', value=-10.021604218474856 +/- 0.00013, bounds=[-inf:inf]>),\n",
       "            ('A78',\n",
       "             <Parameter 'A78', value=251037.625660224 +/- 1.47e+03, bounds=[0:inf]>),\n",
       "            ('xp78',\n",
       "             <Parameter 'xp78', value=-10.021850792910962 +/- 0.000131, bounds=[-inf:inf]>),\n",
       "            ('A79',\n",
       "             <Parameter 'A79', value=250391.72681149616 +/- 1.47e+03, bounds=[0:inf]>),\n",
       "            ('xp79',\n",
       "             <Parameter 'xp79', value=-10.021822514929358 +/- 0.000131, bounds=[-inf:inf]>),\n",
       "            ('A80',\n",
       "             <Parameter 'A80', value=253203.19933372774 +/- 1.47e+03, bounds=[0:inf]>),\n",
       "            ('xp80',\n",
       "             <Parameter 'xp80', value=-10.022285799750481 +/- 0.00013, bounds=[-inf:inf]>),\n",
       "            ('A81',\n",
       "             <Parameter 'A81', value=251643.84986461478 +/- 1.47e+03, bounds=[0:inf]>),\n",
       "            ('xp81',\n",
       "             <Parameter 'xp81', value=-10.022267780295344 +/- 0.000131, bounds=[-inf:inf]>),\n",
       "            ('A82',\n",
       "             <Parameter 'A82', value=251277.4865858696 +/- 1.47e+03, bounds=[0:inf]>),\n",
       "            ('xp82',\n",
       "             <Parameter 'xp82', value=-10.021847121234195 +/- 0.000131, bounds=[-inf:inf]>),\n",
       "            ('A83',\n",
       "             <Parameter 'A83', value=254096.86194435632 +/- 1.47e+03, bounds=[0:inf]>),\n",
       "            ('xp83',\n",
       "             <Parameter 'xp83', value=-10.022003064711532 +/- 0.00013, bounds=[-inf:inf]>),\n",
       "            ('A84',\n",
       "             <Parameter 'A84', value=248474.676338283 +/- 1.47e+03, bounds=[0:inf]>),\n",
       "            ('xp84',\n",
       "             <Parameter 'xp84', value=-10.022171311959605 +/- 0.000132, bounds=[-inf:inf]>),\n",
       "            ('A85',\n",
       "             <Parameter 'A85', value=249750.5657935235 +/- 1.47e+03, bounds=[0:inf]>),\n",
       "            ('xp85',\n",
       "             <Parameter 'xp85', value=-10.021943642812255 +/- 0.000131, bounds=[-inf:inf]>),\n",
       "            ('A86',\n",
       "             <Parameter 'A86', value=249821.28865600307 +/- 1.47e+03, bounds=[0:inf]>),\n",
       "            ('xp86',\n",
       "             <Parameter 'xp86', value=-10.021963573033517 +/- 0.000131, bounds=[-inf:inf]>),\n",
       "            ('A87',\n",
       "             <Parameter 'A87', value=246690.13636237025 +/- 1.47e+03, bounds=[0:inf]>),\n",
       "            ('xp87',\n",
       "             <Parameter 'xp87', value=-10.021966203672587 +/- 0.000133, bounds=[-inf:inf]>),\n",
       "            ('A88',\n",
       "             <Parameter 'A88', value=248644.1494179783 +/- 1.47e+03, bounds=[0:inf]>),\n",
       "            ('xp88',\n",
       "             <Parameter 'xp88', value=-10.021979990802862 +/- 0.000132, bounds=[-inf:inf]>),\n",
       "            ('A89',\n",
       "             <Parameter 'A89', value=243374.2385531587 +/- 1.47e+03, bounds=[0:inf]>),\n",
       "            ('xp89',\n",
       "             <Parameter 'xp89', value=-10.021848641943757 +/- 0.000134, bounds=[-inf:inf]>),\n",
       "            ('A90',\n",
       "             <Parameter 'A90', value=250998.80157203635 +/- 1.47e+03, bounds=[0:inf]>),\n",
       "            ('xp90',\n",
       "             <Parameter 'xp90', value=-10.021822182369677 +/- 0.000131, bounds=[-inf:inf]>),\n",
       "            ('A91',\n",
       "             <Parameter 'A91', value=245761.54842095124 +/- 1.47e+03, bounds=[0:inf]>),\n",
       "            ('xp91',\n",
       "             <Parameter 'xp91', value=-10.021777602589724 +/- 0.000133, bounds=[-inf:inf]>)])"
      ]
     },
     "execution_count": 48,
     "metadata": {},
     "output_type": "execute_result"
    }
   ],
   "source": [
    "# result = fit10df['result'].loc[fit10df['freeSharedPrms']==3]\n",
    "xfit10df['result'].at[1].params"
   ]
  },
  {
   "cell_type": "markdown",
   "metadata": {
    "Collapsed": "false"
   },
   "source": [
    "#### Plot fit result"
   ]
  },
  {
   "cell_type": "code",
   "execution_count": 56,
   "metadata": {
    "Collapsed": "false",
    "scrolled": true
   },
   "outputs": [],
   "source": [
    "plt_idx = 1\n",
    "bestparams = bestFitParams(spec_rng, pvic_params, xfit10[plt_idx]['result'].params)\n",
    "plotMultipleFit(spec_rng[::(len(spec_rng)//10)], Xfitdata, Yfitdata, xfit10[plt_idx]['result'].params, \n",
    "                bestparams, nData['H (T)'])"
   ]
  },
  {
   "cell_type": "markdown",
   "metadata": {
    "Collapsed": "true"
   },
   "source": [
    "### Batch fitting of single (8 8 0) peak spectra with single pVIC function\n",
    "above Hc\n",
    "\n",
    "This will help fix the value of the parameters shared by all spectra, i.e. alpha, beta, R, gamma and sigma"
   ]
  }
 ],
 "metadata": {
  "kernelspec": {
   "display_name": "Python 3 (Spyder)",
   "language": "python3",
   "name": "python3"
  },
  "language_info": {
   "codemirror_mode": {
    "name": "ipython",
    "version": 3
   },
   "file_extension": ".py",
   "mimetype": "text/x-python",
   "name": "python",
   "nbconvert_exporter": "python",
   "pygments_lexer": "ipython3",
   "version": "3.7.7"
  },
  "varInspector": {
   "cols": {
    "lenName": 16,
    "lenType": 16,
    "lenVar": 40
   },
   "kernels_config": {
    "python": {
     "delete_cmd_postfix": "",
     "delete_cmd_prefix": "del ",
     "library": "var_list.py",
     "varRefreshCmd": "print(var_dic_list())"
    },
    "r": {
     "delete_cmd_postfix": ") ",
     "delete_cmd_prefix": "rm(",
     "library": "var_list.r",
     "varRefreshCmd": "cat(var_dic_list()) "
    }
   },
   "types_to_exclude": [
    "module",
    "function",
    "builtin_function_or_method",
    "instance",
    "_Feature"
   ],
   "window_display": false
  }
 },
 "nbformat": 4,
 "nbformat_minor": 4
}
