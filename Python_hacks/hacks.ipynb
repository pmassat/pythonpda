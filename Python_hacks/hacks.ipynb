{
 "cells": [
  {
   "cell_type": "markdown",
   "metadata": {
    "Collapsed": "false"
   },
   "source": [
    "#### Testing the behavior of the enumerate function on a pandas dataframe"
   ]
  },
  {
   "cell_type": "code",
   "execution_count": 3,
   "metadata": {
    "Collapsed": "false"
   },
   "outputs": [
    {
     "name": "stdout",
     "output_type": "stream",
     "text": [
      "FileName HH0_88631\n",
      "T (K) 0.6133342727269999\n",
      "H (T) 0.09999616\n",
      "0\n",
      "1\n",
      "2\n",
      "3\n",
      "HH0_88631.txt\n"
     ]
    }
   ],
   "source": [
    "from os import chdir\n",
    "import pandas as pd\n",
    "mypath2 = r'C:\\Users\\Pierre\\Desktop\\Postdoc\\TmVO4\\TmVO4_neutrons\\2019-02_ORNL_Corelli\\2019-02-14\\p6K\\linecut2'\n",
    "chdir(mypath2)\n",
    "fieldInfo = pd.read_csv('field_info.txt',header=0,names=['FileName','T (K)','H (T)'],delimiter='\\t')\n",
    "fieldInfo.head()\n",
    "for idx, df_field in enumerate(fieldInfo[:4]):# For each data file\n",
    "    print(df_field, fieldInfo[df_field][idx])\n",
    "for idx in range(len(fieldInfo[:4])):\n",
    "    print(idx)\n",
    "filename = fieldInfo['FileName'][0] + '.txt'\n",
    "print(filename)"
   ]
  },
  {
   "cell_type": "markdown",
   "metadata": {
    "Collapsed": "false"
   },
   "source": [
    "#### Making a truely deep copy of a python objects, and in particular pandas series\n",
    "series.copy() makes a copy of the data inside the series, but not recursively, such that modification of a subelement of one of the rows in either 's' or 'deep' will propagate to both series. See https://pandas.pydata.org/pandas-docs/stable/reference/api/pandas.DataFrame.copy.html for more info. Note that the same limitation applies to all series/dataframe methods, including concat(), sort_values(), etc.\n",
    "\n",
    "A \"standard hacky way of deep-copying python objects\" is explained at https://stackoverflow.com/questions/52708341/make-a-truly-deep-copy-of-a-pandas-series\n",
    "\n",
    "However, copy.deepcopy() seems to be the better choice in general, as explained at https://stackoverflow.com/questions/1410615/copy-deepcopy-vs-pickle"
   ]
  },
  {
   "cell_type": "code",
   "execution_count": 8,
   "metadata": {
    "Collapsed": "false"
   },
   "outputs": [
    {
     "name": "stdout",
     "output_type": "stream",
     "text": [
      "s = \n",
      "0    [10, 2]\n",
      "1     [3, 4]\n",
      "dtype: object\n",
      "\n",
      "deep = \n",
      "0    [10, 2]\n",
      "1     [3, 4]\n",
      "dtype: object\n",
      "\n",
      "deep2 = \n",
      "0    [10, 2]\n",
      "1     [3, 4]\n",
      "dtype: object\n",
      "\n",
      "truedeep = \n",
      "0    [1, 2]\n",
      "1    [3, 4]\n",
      "dtype: object\n",
      "\n",
      "pickledeep = \n",
      "0    [1, 2]\n",
      "1    [3, 4]\n",
      "dtype: object\n",
      "\n"
     ]
    }
   ],
   "source": [
    "import pandas as pd\n",
    "import copy as cp\n",
    "import pickle\n",
    "s = pd.Series([[1, 2], [3, 4]])\n",
    "deep = s.copy(deep=True)# makes a copy of the data inside the series, but not recursively\n",
    "deep2 = cp.deepcopy(s)# doesn't work!\n",
    "truedeep = s.apply(cp.deepcopy)\n",
    "pickledeep = pickle.loads(pickle.dumps(s))# python hack to make a true (recursively) deep copy\n",
    "s[0][0] = 10\n",
    "print(f's = \\n{s}\\n')\n",
    "print(f'deep = \\n{deep}\\n')\n",
    "print(f'deep2 = \\n{deep2}\\n')\n",
    "print(f'truedeep = \\n{truedeep}\\n')\n",
    "print(f'pickledeep = \\n{pickledeep}\\n')"
   ]
  },
  {
   "cell_type": "markdown",
   "metadata": {
    "Collapsed": "false"
   },
   "source": [
    "##### Compare execution time of the above deepcopy and pickle methods\n",
    "Use the %timeit command included in iPython. More details at https://stackoverflow.com/a/8220961"
   ]
  },
  {
   "cell_type": "code",
   "execution_count": 23,
   "metadata": {
    "Collapsed": "false"
   },
   "outputs": [
    {
     "name": "stdout",
     "output_type": "stream",
     "text": [
      "280 µs ± 23.4 µs per loop (mean ± std. dev. of 7 runs, 1000 loops each)\n",
      "160 µs ± 4.42 µs per loop (mean ± std. dev. of 7 runs, 10000 loops each)\n",
      "125 µs ± 2.75 µs per loop (mean ± std. dev. of 7 runs, 10000 loops each)\n"
     ]
    }
   ],
   "source": [
    "%timeit pandas.Series([[1, 2], [3, 4]]).apply(cp.deepcopy)\n",
    "%timeit s.apply(cp.deepcopy)\n",
    "%timeit pickle.loads(pickle.dumps(s))"
   ]
  },
  {
   "cell_type": "markdown",
   "metadata": {
    "Collapsed": "false"
   },
   "source": [
    "##### Conclusion: pickles is faster in this case"
   ]
  },
  {
   "cell_type": "markdown",
   "metadata": {
    "Collapsed": "false"
   },
   "source": [
    "#### Iterate over rows in a pandas series/dataframe\n",
    "https://stackoverflow.com/questions/16476924/how-to-iterate-over-rows-in-a-dataframe-in-pandas"
   ]
  },
  {
   "cell_type": "code",
   "execution_count": 6,
   "metadata": {
    "Collapsed": "false"
   },
   "outputs": [
    {
     "name": "stdout",
     "output_type": "stream",
     "text": [
      "10 100\n",
      "11 110\n",
      "12 120\n"
     ]
    }
   ],
   "source": [
    "import pandas as pd\n",
    "import numpy as np\n",
    "df = pd.DataFrame([{'c1':10, 'c2':100}, {'c1':11,'c2':110}, {'c1':12,'c2':120}])\n",
    "for index, row in df.iterrows():\n",
    "    print(row['c1'], row['c2'])"
   ]
  },
  {
   "cell_type": "markdown",
   "metadata": {
    "Collapsed": "false"
   },
   "source": [
    "#### Rename files in directory"
   ]
  },
  {
   "cell_type": "code",
   "execution_count": 1,
   "metadata": {
    "Collapsed": "false"
   },
   "outputs": [
    {
     "data": {
      "text/plain": [
       "[]"
      ]
     },
     "execution_count": 1,
     "metadata": {},
     "output_type": "execute_result"
    }
   ],
   "source": [
    "import os\n",
    "os.chdir(r'C:\\Users\\Pierre\\Desktop\\Postdoc\\TmVO4\\TmVO4_neutrons\\2019-02_ORNL_Corelli\\2019-02-14\\p6K\\linecut_f\\linecut_f')\n",
    "(_, _, filenames) = next(os.walk(os.getcwd()))# the walk() function lists the content of the directory that it is given as argument\n",
    "for filename in filenames:\n",
    "    if 'HH0' in filename and '.txt' not in filename:\n",
    "        try:\n",
    "            os.rename(filename,''.join([filename,'.txt']))# add '.txt' extension\n",
    "            print('Done')\n",
    "        except FileNotFoundError:# just in case variable 'filenames' is not updated \n",
    "            continue\n",
    "filenames[:10]"
   ]
  },
  {
   "cell_type": "code",
   "execution_count": 2,
   "metadata": {
    "Collapsed": "false"
   },
   "outputs": [
    {
     "data": {
      "text/plain": [
       "('C:\\\\Users\\\\Pierre\\\\Desktop\\\\Postdoc\\\\TmVO4\\\\TmVO4_neutrons\\\\2019-02_ORNL_Corelli\\\\2019-02-14\\\\p6K\\\\linecut_f\\\\linecut_f',\n",
       " [],\n",
       " [])"
      ]
     },
     "execution_count": 2,
     "metadata": {},
     "output_type": "execute_result"
    }
   ],
   "source": [
    "next(os.walk(os.getcwd()))"
   ]
  },
  {
   "cell_type": "markdown",
   "metadata": {
    "Collapsed": "false"
   },
   "source": [
    "### Check if a string contains any item in a list of string"
   ]
  },
  {
   "cell_type": "code",
   "execution_count": 3,
   "metadata": {},
   "outputs": [
    {
     "data": {
      "text/plain": [
       "True"
      ]
     },
     "execution_count": 3,
     "metadata": {},
     "output_type": "execute_result"
    }
   ],
   "source": [
    "mystr = 'A101'\n",
    "any(s in mystr for s in ['A', 'b'])"
   ]
  },
  {
   "cell_type": "code",
   "execution_count": 4,
   "metadata": {},
   "outputs": [
    {
     "data": {
      "text/plain": [
       "False"
      ]
     },
     "execution_count": 4,
     "metadata": {},
     "output_type": "execute_result"
    }
   ],
   "source": [
    "all(s in mystr for s in ['A', 'b'])"
   ]
  },
  {
   "cell_type": "markdown",
   "metadata": {},
   "source": [
    "### Avoiding duplicates in legend labels\n",
    "See https://stackoverflow.com/a/19386045/3460390"
   ]
  },
  {
   "cell_type": "code",
   "execution_count": null,
   "metadata": {},
   "outputs": [],
   "source": [
    "ax.plot(x, y, label=\"my label\" if condition else \"_nolegend_\")"
   ]
  }
 ],
 "metadata": {
  "kernelspec": {
   "display_name": "Python 3",
   "language": "python",
   "name": "python3"
  },
  "language_info": {
   "codemirror_mode": {
    "name": "ipython",
    "version": 3
   },
   "file_extension": ".py",
   "mimetype": "text/x-python",
   "name": "python",
   "nbconvert_exporter": "python",
   "pygments_lexer": "ipython3",
   "version": "3.7.9"
  }
 },
 "nbformat": 4,
 "nbformat_minor": 4
}
